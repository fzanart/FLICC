{
 "cells": [
  {
   "cell_type": "code",
   "execution_count": 1,
   "metadata": {},
   "outputs": [],
   "source": [
    "import torch\n",
    "from data import ClimateDataset\n",
    "from models import ClassificationModel\n",
    "from engine import Engine"
   ]
  },
  {
   "cell_type": "code",
   "execution_count": 2,
   "metadata": {},
   "outputs": [],
   "source": [
    "model_checkpoint='bert-base-uncased'"
   ]
  },
  {
   "cell_type": "code",
   "execution_count": 3,
   "metadata": {},
   "outputs": [],
   "source": [
    "results = {'acc':[],\n",
    "           'f1':[],\n",
    "           'wd':[]}"
   ]
  },
  {
   "cell_type": "code",
   "execution_count": 4,
   "metadata": {},
   "outputs": [
    {
     "name": "stdout",
     "output_type": "stream",
     "text": [
      "Grid search bert-base-uncased, learning rate 1e-05, wd: 0.01\n"
     ]
    },
    {
     "name": "stderr",
     "output_type": "stream",
     "text": [
      "Some weights of BertForSequenceClassification were not initialized from the model checkpoint at bert-base-uncased and are newly initialized: ['classifier.bias', 'classifier.weight']\n",
      "You should probably TRAIN this model on a down-stream task to be able to use it for predictions and inference.\n",
      "You're using a BertTokenizerFast tokenizer. Please note that with a fast tokenizer, using the `__call__` method is faster than using a method to encode the text followed by a call to the `pad` method to get a padded encoding.\n"
     ]
    },
    {
     "name": "stdout",
     "output_type": "stream",
     "text": [
      "1 / 20: Train Loss:\t2.0418\tVal Loss:\t1.8658\tAccuracy:\t0.3787\tF1:\t0.2013\n",
      "2 / 20: Train Loss:\t1.7031\tVal Loss:\t1.5799\tAccuracy:\t0.5266\tF1:\t0.3367\n",
      "3 / 20: Train Loss:\t1.4068\tVal Loss:\t1.3784\tAccuracy:\t0.5740\tF1:\t0.3925\n",
      "4 / 20: Train Loss:\t1.1531\tVal Loss:\t1.2321\tAccuracy:\t0.6479\tF1:\t0.4619\n",
      "5 / 20: Train Loss:\t0.9570\tVal Loss:\t1.1178\tAccuracy:\t0.6598\tF1:\t0.4858\n",
      "6 / 20: Train Loss:\t0.7744\tVal Loss:\t1.0423\tAccuracy:\t0.6538\tF1:\t0.4974\n",
      "7 / 20: Train Loss:\t0.6212\tVal Loss:\t0.9971\tAccuracy:\t0.6627\tF1:\t0.5577\n",
      "8 / 20: Train Loss:\t0.4975\tVal Loss:\t0.9763\tAccuracy:\t0.6923\tF1:\t0.6385\n",
      "9 / 20: Train Loss:\t0.3897\tVal Loss:\t0.9759\tAccuracy:\t0.6893\tF1:\t0.6522\n",
      "10 / 20: Train Loss:\t0.3140\tVal Loss:\t0.9643\tAccuracy:\t0.7012\tF1:\t0.6469\n",
      "11 / 20: Train Loss:\t0.2618\tVal Loss:\t1.0011\tAccuracy:\t0.6923\tF1:\t0.6513\n",
      "12 / 20: Train Loss:\t0.2186\tVal Loss:\t1.0744\tAccuracy:\t0.6893\tF1:\t0.6300\n",
      "No improvement for 3 epochs. Stopping early.\n",
      "best (higgest macro f1-score) val results:\n",
      "                         precision    recall  f1-score   support\n",
      "\n",
      "             ad hominem       0.81      0.58      0.68        67\n",
      "               anecdote       0.92      0.77      0.84        43\n",
      "         cherry picking       0.68      0.68      0.68        56\n",
      "      conspiracy theory       0.62      0.90      0.74        39\n",
      "           fake experts       0.67      0.50      0.57        12\n",
      "           false choice       1.00      0.38      0.56        13\n",
      "      false equivalence       0.67      0.14      0.24        14\n",
      "impossible expectations       0.70      0.70      0.70        37\n",
      "           single cause       0.56      0.86      0.68        57\n",
      "\n",
      "               accuracy                           0.69       338\n",
      "              macro avg       0.74      0.61      0.63       338\n",
      "           weighted avg       0.72      0.69      0.68       338\n",
      "\n",
      "test results:\n",
      "                         precision    recall  f1-score   support\n",
      "\n",
      "             ad hominem       0.96      0.59      0.73        37\n",
      "               anecdote       0.78      0.75      0.77        24\n",
      "         cherry picking       0.71      0.55      0.62        31\n",
      "      conspiracy theory       0.68      0.86      0.76        22\n",
      "           fake experts       1.00      0.43      0.60         7\n",
      "           false choice       0.25      0.29      0.27         7\n",
      "      false equivalence       0.00      0.00      0.00         8\n",
      "impossible expectations       0.62      0.86      0.72        21\n",
      "           single cause       0.50      0.78      0.61        32\n",
      "\n",
      "               accuracy                           0.66       189\n",
      "              macro avg       0.61      0.57      0.56       189\n",
      "           weighted avg       0.68      0.66      0.65       189\n",
      "\n",
      "### ### ### ### ### ### ### ### ### ### \n",
      "{'acc': [0.656084656084656], 'f1': [0.5637661513945894], 'wd': [0.01]}\n",
      "### ### ### ### ### ### ### ### ### ### \n",
      "Grid search bert-base-uncased, learning rate 1e-05, wd: 0.1\n"
     ]
    },
    {
     "name": "stderr",
     "output_type": "stream",
     "text": [
      "Some weights of BertForSequenceClassification were not initialized from the model checkpoint at bert-base-uncased and are newly initialized: ['classifier.bias', 'classifier.weight']\n",
      "You should probably TRAIN this model on a down-stream task to be able to use it for predictions and inference.\n",
      "You're using a BertTokenizerFast tokenizer. Please note that with a fast tokenizer, using the `__call__` method is faster than using a method to encode the text followed by a call to the `pad` method to get a padded encoding.\n"
     ]
    },
    {
     "name": "stdout",
     "output_type": "stream",
     "text": [
      "1 / 20: Train Loss:\t2.0418\tVal Loss:\t1.8659\tAccuracy:\t0.3787\tF1:\t0.2013\n",
      "2 / 20: Train Loss:\t1.7035\tVal Loss:\t1.5827\tAccuracy:\t0.5178\tF1:\t0.3295\n",
      "3 / 20: Train Loss:\t1.4051\tVal Loss:\t1.3799\tAccuracy:\t0.5710\tF1:\t0.3827\n",
      "4 / 20: Train Loss:\t1.1511\tVal Loss:\t1.2403\tAccuracy:\t0.6361\tF1:\t0.4504\n",
      "5 / 20: Train Loss:\t0.9605\tVal Loss:\t1.1213\tAccuracy:\t0.6509\tF1:\t0.4796\n",
      "6 / 20: Train Loss:\t0.7800\tVal Loss:\t1.0416\tAccuracy:\t0.6568\tF1:\t0.4982\n",
      "7 / 20: Train Loss:\t0.6222\tVal Loss:\t0.9939\tAccuracy:\t0.6746\tF1:\t0.5636\n",
      "8 / 20: Train Loss:\t0.4985\tVal Loss:\t0.9598\tAccuracy:\t0.7012\tF1:\t0.6387\n",
      "9 / 20: Train Loss:\t0.3881\tVal Loss:\t0.9595\tAccuracy:\t0.6805\tF1:\t0.6192\n",
      "10 / 20: Train Loss:\t0.3111\tVal Loss:\t0.9623\tAccuracy:\t0.6893\tF1:\t0.6338\n",
      "11 / 20: Train Loss:\t0.2528\tVal Loss:\t0.9523\tAccuracy:\t0.7071\tF1:\t0.6732\n",
      "12 / 20: Train Loss:\t0.2128\tVal Loss:\t1.0043\tAccuracy:\t0.7041\tF1:\t0.6673\n",
      "13 / 20: Train Loss:\t0.1923\tVal Loss:\t1.1531\tAccuracy:\t0.6391\tF1:\t0.5666\n",
      "14 / 20: Train Loss:\t0.1628\tVal Loss:\t0.9999\tAccuracy:\t0.7071\tF1:\t0.6671\n",
      "No improvement for 3 epochs. Stopping early.\n",
      "best (higgest macro f1-score) val results:\n",
      "                         precision    recall  f1-score   support\n",
      "\n",
      "             ad hominem       0.73      0.73      0.73        67\n",
      "               anecdote       0.82      0.77      0.80        43\n",
      "         cherry picking       0.57      0.80      0.67        56\n",
      "      conspiracy theory       0.82      0.85      0.84        39\n",
      "           fake experts       0.57      0.67      0.62        12\n",
      "           false choice       0.58      0.54      0.56        13\n",
      "      false equivalence       0.80      0.29      0.42        14\n",
      "impossible expectations       0.77      0.65      0.71        37\n",
      "           single cause       0.72      0.63      0.67        57\n",
      "\n",
      "               accuracy                           0.71       338\n",
      "              macro avg       0.71      0.66      0.67       338\n",
      "           weighted avg       0.72      0.71      0.70       338\n",
      "\n",
      "test results:\n",
      "                         precision    recall  f1-score   support\n",
      "\n",
      "             ad hominem       0.80      0.86      0.83        37\n",
      "               anecdote       0.80      0.83      0.82        24\n",
      "         cherry picking       0.76      0.81      0.78        31\n",
      "      conspiracy theory       0.93      0.59      0.72        22\n",
      "           fake experts       1.00      0.86      0.92         7\n",
      "           false choice       0.33      0.57      0.42         7\n",
      "      false equivalence       0.40      0.25      0.31         8\n",
      "impossible expectations       0.69      0.86      0.77        21\n",
      "           single cause       0.71      0.62      0.67        32\n",
      "\n",
      "               accuracy                           0.74       189\n",
      "              macro avg       0.71      0.70      0.69       189\n",
      "           weighted avg       0.75      0.74      0.74       189\n",
      "\n",
      "### ### ### ### ### ### ### ### ### ### \n",
      "{'acc': [0.656084656084656, 0.7407407407407407], 'f1': [0.5637661513945894, 0.6928237288696283], 'wd': [0.01, 0.1]}\n",
      "### ### ### ### ### ### ### ### ### ### \n"
     ]
    }
   ],
   "source": [
    "lr = 1.0e-5\n",
    "weight_decays = [0.01, 0.1]\n",
    "\n",
    "for wd in weight_decays:\n",
    "    print(f'Grid search {model_checkpoint}, learning rate {lr}, wd: {wd}')\n",
    "    data = ClimateDataset(model_to_train=3,model_checkpoint=model_checkpoint,batch_size=32)\n",
    "    data.setup_dataloaders()\n",
    "    model = ClassificationModel(model_checkpoint=data.model_checkpoint,num_labels=data.num_labels)\n",
    "    trainer = Engine(epochs=20,labels=data.labels)\n",
    "    trainer.model = model.model\n",
    "    acc, f1 = trainer.run(lr=lr,\n",
    "                          wd=wd,\n",
    "                          train_dataloader=data.train_dataloader,\n",
    "                          eval_dataloader=data.eval_dataloader,\n",
    "                          test_dataloader=data.test_dataloader,\n",
    "                          early_stop=3)\n",
    "    results['acc'].append(acc)\n",
    "    results['f1'].append(f1)\n",
    "    results['wd'].append(wd)\n",
    "    print('### '*10)\n",
    "    print(results)\n",
    "    print('### '*10)\n",
    "    with torch.no_grad():\n",
    "        torch.cuda.empty_cache()\n",
    "    del data, model, trainer, acc, f1"
   ]
  },
  {
   "cell_type": "code",
   "execution_count": 5,
   "metadata": {},
   "outputs": [],
   "source": [
    "import matplotlib.pyplot as plt\n",
    "import seaborn as sns\n",
    "import pandas as pd"
   ]
  },
  {
   "cell_type": "code",
   "execution_count": 6,
   "metadata": {},
   "outputs": [
    {
     "data": {
      "image/png": "[encoded data removed]",
      "text/plain": [
       "<Figure size 640x480 with 1 Axes>"
      ]
     },
     "metadata": {},
     "output_type": "display_data"
    }
   ],
   "source": [
    "def plot_grid_search(df, title):\n",
    "\n",
    "    # Create the plot\n",
    "    ax = df.plot(x='wd', y=['acc', 'f1'], marker='o', linestyle='-')\n",
    "\n",
    "    # Set y-axis range between 0 and 1\n",
    "    plt.ylim(0, 1)\n",
    "\n",
    "    # Annotate points with F1 scores\n",
    "    for i, row in df.iterrows(): \n",
    "        ax.annotate(f'{row[\"f1\"]:.2f}', (row[\"wd\"], row[\"f1\"]), textcoords='offset points', xytext=(0, -10), ha='center')\n",
    "\n",
    "    # Annotate points with Acc scores\n",
    "    for i, row in df.iterrows():\n",
    "        ax.annotate(f'{row[\"acc\"]:.2f}', (row[\"wd\"], row[\"acc\"]), textcoords='offset points', xytext=(0, 10), ha='center')\n",
    "    \n",
    "    # \n",
    "    plt.xticks(df['wd'], [f'{val:.0e}' for val in df['wd']], ha='center')\n",
    "    plt.xscale('log')\n",
    "    plt.minorticks_off()\n",
    "\n",
    "    plt.title(title)\n",
    "    plt.xlabel('wd')\n",
    "    plt.ylabel('Score')\n",
    "    plt.show()\n",
    "\n",
    "plot_grid_search(pd.DataFrame(results), f'Weight decays {model_checkpoint}')"
   ]
  }
 ],
 "metadata": {
  "kernelspec": {
   "display_name": "Python 3",
   "language": "python",
   "name": "python3"
  },
  "language_info": {
   "codemirror_mode": {
    "name": "ipython",
    "version": 3
   },
   "file_extension": ".py",
   "mimetype": "text/x-python",
   "name": "python",
   "nbconvert_exporter": "python",
   "pygments_lexer": "ipython3",
   "version": "3.11.5"
  },
  "orig_nbformat": 4
 },
 "nbformat": 4,
 "nbformat_minor": 2
}
