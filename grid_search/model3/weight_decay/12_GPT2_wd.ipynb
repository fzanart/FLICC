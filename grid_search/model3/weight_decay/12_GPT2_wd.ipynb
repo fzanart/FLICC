{
 "cells": [
  {
   "cell_type": "code",
   "execution_count": 1,
   "metadata": {},
   "outputs": [],
   "source": [
    "import os\n",
    "import sys\n",
    "import gc\n",
    "# assuming data, models, engine in flicc directory:\n",
    "flicc_path = os.path.realpath(\"__file__\").split('grid_search')[0]\n",
    "sys.path.append(flicc_path)\n",
    "import torch\n",
    "from data import ClimateDataset\n",
    "from models import ClassificationModel\n",
    "from engine import Engine"
   ]
  },
  {
   "cell_type": "code",
   "execution_count": 2,
   "metadata": {},
   "outputs": [],
   "source": [
    "model_checkpoint='gpt2'"
   ]
  },
  {
   "cell_type": "code",
   "execution_count": 3,
   "metadata": {},
   "outputs": [],
   "source": [
    "results = {'test_acc':[],\n",
    "           'test_f1':[],\n",
    "           'eval_acc':[],\n",
    "           'eval_f1':[],\n",
    "           'wd':[]}"
   ]
  },
  {
   "cell_type": "code",
   "execution_count": 4,
   "metadata": {},
   "outputs": [
    {
     "name": "stdout",
     "output_type": "stream",
     "text": [
      "Grid search gpt2, learning rate 0.0001, focal loss gamma 2, weight decay 0.1\n"
     ]
    },
    {
     "name": "stderr",
     "output_type": "stream",
     "text": [
      "Some weights of GPT2ForSequenceClassification were not initialized from the model checkpoint at gpt2 and are newly initialized: ['score.weight']\n",
      "You should probably TRAIN this model on a down-stream task to be able to use it for predictions and inference.\n",
      "You're using a GPT2TokenizerFast tokenizer. Please note that with a fast tokenizer, using the `__call__` method is faster than using a method to encode the text followed by a call to the `pad` method to get a padded encoding.\n"
     ]
    },
    {
     "name": "stdout",
     "output_type": "stream",
     "text": [
      "1 / 30: Train Loss:\t18.6410\tVal Loss:\t2.2711\tAccuracy:\t0.0414\tF1:\t0.0162\n",
      "2 / 30: Train Loss:\t15.0717\tVal Loss:\t2.2030\tAccuracy:\t0.0888\tF1:\t0.0661\n",
      "3 / 30: Train Loss:\t12.3402\tVal Loss:\t2.1014\tAccuracy:\t0.2219\tF1:\t0.2084\n",
      "4 / 30: Train Loss:\t8.3638\tVal Loss:\t1.6318\tAccuracy:\t0.3905\tF1:\t0.4071\n",
      "5 / 30: Train Loss:\t5.3002\tVal Loss:\t1.3902\tAccuracy:\t0.5148\tF1:\t0.4999\n",
      "6 / 30: Train Loss:\t3.3559\tVal Loss:\t1.3080\tAccuracy:\t0.5414\tF1:\t0.5501\n",
      "7 / 30: Train Loss:\t2.7986\tVal Loss:\t1.3305\tAccuracy:\t0.5118\tF1:\t0.5121\n",
      "8 / 30: Train Loss:\t2.1436\tVal Loss:\t1.2922\tAccuracy:\t0.5769\tF1:\t0.5593\n",
      "9 / 30: Train Loss:\t1.3801\tVal Loss:\t1.1675\tAccuracy:\t0.5710\tF1:\t0.5559\n",
      "10 / 30: Train Loss:\t0.6722\tVal Loss:\t1.2347\tAccuracy:\t0.6036\tF1:\t0.5937\n",
      "11 / 30: Train Loss:\t0.5170\tVal Loss:\t1.2200\tAccuracy:\t0.6183\tF1:\t0.6020\n",
      "12 / 30: Train Loss:\t0.3939\tVal Loss:\t1.1481\tAccuracy:\t0.6302\tF1:\t0.5985\n",
      "13 / 30: Train Loss:\t0.3382\tVal Loss:\t1.3268\tAccuracy:\t0.5799\tF1:\t0.5682\n",
      "14 / 30: Train Loss:\t0.3518\tVal Loss:\t1.1720\tAccuracy:\t0.6095\tF1:\t0.5987\n",
      "No improvement for 3 epochs. Stopping early.\n",
      "best (higgest macro f1-score) val results:\n",
      "                         precision    recall  f1-score   support\n",
      "\n",
      "             ad hominem       0.85      0.42      0.56        67\n",
      "               anecdote       0.97      0.70      0.81        43\n",
      "         cherry picking       0.63      0.71      0.67        56\n",
      "      conspiracy theory       0.59      0.87      0.70        39\n",
      "           fake experts       0.50      0.58      0.54        12\n",
      "           false choice       0.86      0.46      0.60        13\n",
      "      false equivalence       0.28      0.71      0.40        14\n",
      "impossible expectations       0.49      0.65      0.56        37\n",
      "           single cause       0.64      0.53      0.58        57\n",
      "\n",
      "               accuracy                           0.62       338\n",
      "              macro avg       0.64      0.63      0.60       338\n",
      "           weighted avg       0.69      0.62      0.62       338\n",
      "\n",
      "test results:\n",
      "                         precision    recall  f1-score   support\n",
      "\n",
      "             ad hominem       1.00      0.30      0.46        37\n",
      "               anecdote       0.89      0.71      0.79        24\n",
      "         cherry picking       0.46      0.55      0.50        31\n",
      "      conspiracy theory       0.69      0.91      0.78        22\n",
      "           fake experts       1.00      0.43      0.60         7\n",
      "           false choice       0.50      0.14      0.22         7\n",
      "      false equivalence       0.17      0.50      0.25         8\n",
      "impossible expectations       0.54      0.95      0.69        21\n",
      "           single cause       0.59      0.50      0.54        32\n",
      "\n",
      "               accuracy                           0.58       189\n",
      "              macro avg       0.65      0.55      0.54       189\n",
      "           weighted avg       0.69      0.58      0.57       189\n",
      "\n",
      "### ### ### ### ### ### ### ### ### ### \n",
      "{'test_acc': [0.5767195767195767], 'test_f1': [0.5375105565815647], 'eval_acc': [0.6183431952662722], 'eval_f1': [0.6019594218308026], 'wd': [0.1]}\n",
      "### ### ### ### ### ### ### ### ### ### \n",
      "Grid search gpt2, learning rate 0.0001, focal loss gamma 2, weight decay 0.01\n"
     ]
    },
    {
     "name": "stderr",
     "output_type": "stream",
     "text": [
      "Some weights of GPT2ForSequenceClassification were not initialized from the model checkpoint at gpt2 and are newly initialized: ['score.weight']\n",
      "You should probably TRAIN this model on a down-stream task to be able to use it for predictions and inference.\n",
      "You're using a GPT2TokenizerFast tokenizer. Please note that with a fast tokenizer, using the `__call__` method is faster than using a method to encode the text followed by a call to the `pad` method to get a padded encoding.\n"
     ]
    },
    {
     "name": "stdout",
     "output_type": "stream",
     "text": [
      "1 / 30: Train Loss:\t18.6424\tVal Loss:\t2.2672\tAccuracy:\t0.0444\tF1:\t0.0200\n",
      "2 / 30: Train Loss:\t15.0786\tVal Loss:\t2.2204\tAccuracy:\t0.0976\tF1:\t0.0785\n",
      "3 / 30: Train Loss:\t12.3792\tVal Loss:\t2.1734\tAccuracy:\t0.2071\tF1:\t0.1922\n",
      "4 / 30: Train Loss:\t8.4249\tVal Loss:\t1.6273\tAccuracy:\t0.3787\tF1:\t0.3875\n",
      "5 / 30: Train Loss:\t5.2403\tVal Loss:\t1.3914\tAccuracy:\t0.5296\tF1:\t0.5106\n",
      "6 / 30: Train Loss:\t3.5419\tVal Loss:\t1.2719\tAccuracy:\t0.5562\tF1:\t0.5613\n",
      "7 / 30: Train Loss:\t2.6162\tVal Loss:\t1.2665\tAccuracy:\t0.5473\tF1:\t0.5557\n",
      "8 / 30: Train Loss:\t1.9451\tVal Loss:\t1.2038\tAccuracy:\t0.5503\tF1:\t0.5422\n",
      "9 / 30: Train Loss:\t1.1125\tVal Loss:\t1.1228\tAccuracy:\t0.5651\tF1:\t0.5754\n",
      "10 / 30: Train Loss:\t0.6627\tVal Loss:\t1.2073\tAccuracy:\t0.5680\tF1:\t0.5603\n",
      "11 / 30: Train Loss:\t0.5439\tVal Loss:\t1.2016\tAccuracy:\t0.6124\tF1:\t0.5882\n",
      "12 / 30: Train Loss:\t0.4152\tVal Loss:\t1.1225\tAccuracy:\t0.6420\tF1:\t0.6373\n",
      "13 / 30: Train Loss:\t0.2227\tVal Loss:\t1.3693\tAccuracy:\t0.5473\tF1:\t0.5380\n",
      "14 / 30: Train Loss:\t0.1722\tVal Loss:\t1.1478\tAccuracy:\t0.6657\tF1:\t0.6370\n",
      "15 / 30: Train Loss:\t0.1342\tVal Loss:\t1.2116\tAccuracy:\t0.6361\tF1:\t0.6184\n",
      "No improvement for 3 epochs. Stopping early.\n",
      "best (higgest macro f1-score) val results:\n",
      "                         precision    recall  f1-score   support\n",
      "\n",
      "             ad hominem       0.75      0.40      0.52        67\n",
      "               anecdote       0.97      0.72      0.83        43\n",
      "         cherry picking       0.72      0.59      0.65        56\n",
      "      conspiracy theory       0.58      0.85      0.69        39\n",
      "           fake experts       0.64      0.58      0.61        12\n",
      "           false choice       0.58      0.85      0.69        13\n",
      "      false equivalence       0.67      0.43      0.52        14\n",
      "impossible expectations       0.45      0.76      0.57        37\n",
      "           single cause       0.62      0.72      0.67        57\n",
      "\n",
      "               accuracy                           0.64       338\n",
      "              macro avg       0.66      0.65      0.64       338\n",
      "           weighted avg       0.68      0.64      0.64       338\n",
      "\n",
      "test results:\n",
      "                         precision    recall  f1-score   support\n",
      "\n",
      "             ad hominem       0.76      0.43      0.55        37\n",
      "               anecdote       0.95      0.83      0.89        24\n",
      "         cherry picking       0.52      0.39      0.44        31\n",
      "      conspiracy theory       0.68      0.86      0.76        22\n",
      "           fake experts       1.00      0.43      0.60         7\n",
      "           false choice       0.20      0.29      0.24         7\n",
      "      false equivalence       0.38      0.38      0.38         8\n",
      "impossible expectations       0.51      0.95      0.67        21\n",
      "           single cause       0.64      0.72      0.68        32\n",
      "\n",
      "               accuracy                           0.62       189\n",
      "              macro avg       0.63      0.59      0.58       189\n",
      "           weighted avg       0.66      0.62      0.62       189\n",
      "\n",
      "### ### ### ### ### ### ### ### ### ### \n",
      "{'test_acc': [0.5767195767195767, 0.6243386243386243], 'test_f1': [0.5375105565815647, 0.5776098715348208], 'eval_acc': [0.6183431952662722, 0.6420118343195266], 'eval_f1': [0.6019594218308026, 0.6373061499764667], 'wd': [0.1, 0.01]}\n",
      "### ### ### ### ### ### ### ### ### ### \n"
     ]
    }
   ],
   "source": [
    "g = 2\n",
    "lr = 1.0e-4\n",
    "weight_decay = [0.1, 0.01]\n",
    "\n",
    "for wd in weight_decay:\n",
    "    print(f'Grid search {model_checkpoint}, learning rate {lr}, focal loss gamma {g}, weight decay {wd}')\n",
    "    data = ClimateDataset(model_to_train=3,model_checkpoint=model_checkpoint,dataset_url=flicc_path,batch_size=32)\n",
    "    data.setup_dataloaders()\n",
    "    model = ClassificationModel(model_checkpoint=data.model_checkpoint,num_labels=data.num_labels)\n",
    "    trainer = Engine(epochs=30,labels=data.labels)\n",
    "    trainer.model = model.model\n",
    "    trainer.dataset_encoded = data.dataset_encoded\n",
    "    test_acc, test_f1, eval_acc, eval_f1 = trainer.run(lr=lr,\n",
    "                                                       wd=wd,\n",
    "                                                       train_dataloader=data.train_dataloader,\n",
    "                                                       eval_dataloader=data.eval_dataloader,\n",
    "                                                       test_dataloader=data.test_dataloader,\n",
    "                                                       focalloss=True,\n",
    "                                                       gamma=g,\n",
    "                                                       early_stop=3)\n",
    "    results['test_acc'].append(test_acc)\n",
    "    results['test_f1'].append(test_f1)\n",
    "    results['eval_acc'].append(eval_acc)\n",
    "    results['eval_f1'].append(eval_f1)\n",
    "    results['wd'].append(wd)\n",
    "    print('### '*10)\n",
    "    print(results)\n",
    "    print('### '*10)\n",
    "    with torch.no_grad():\n",
    "        torch.cuda.empty_cache()\n",
    "    del data, model, trainer, test_acc, test_f1, eval_acc, eval_f1\n",
    "    gc.collect()"
   ]
  },
  {
   "cell_type": "code",
   "execution_count": 5,
   "metadata": {},
   "outputs": [
    {
     "data": {
      "image/png": "[encoded data removed]",
      "text/plain": [
       "<Figure size 640x480 with 1 Axes>"
      ]
     },
     "metadata": {},
     "output_type": "display_data"
    }
   ],
   "source": [
    "Engine.plot_grid_search(df=results,\n",
    "                        title=f'Weight decay, lr: {lr}, focal loss gamma {g} {model_checkpoint}',\n",
    "                        column='wd',\n",
    "                        sci_format=True)"
   ]
  },
  {
   "cell_type": "code",
   "execution_count": 6,
   "metadata": {},
   "outputs": [],
   "source": [
    "%reset -f"
   ]
  }
 ],
 "metadata": {
  "kernelspec": {
   "display_name": "Python 3",
   "language": "python",
   "name": "python3"
  },
  "language_info": {
   "codemirror_mode": {
    "name": "ipython",
    "version": 3
   },
   "file_extension": ".py",
   "mimetype": "text/x-python",
   "name": "python",
   "nbconvert_exporter": "python",
   "pygments_lexer": "ipython3",
   "version": "3.11.5"
  },
  "orig_nbformat": 4
 },
 "nbformat": 4,
 "nbformat_minor": 2
}
