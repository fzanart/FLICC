{
 "cells": [
  {
   "cell_type": "code",
   "execution_count": 1,
   "metadata": {},
   "outputs": [],
   "source": [
    "import torch\n",
    "from data import ClimateDataset\n",
    "from models import ClassificationModel\n",
    "from engine import Engine"
   ]
  },
  {
   "cell_type": "code",
   "execution_count": 2,
   "metadata": {},
   "outputs": [],
   "source": [
    "model_checkpoint='roberta-large'\n",
    "\n",
    "# the commands below didn't work inside for loop and got CUDA out of memory Error.\n",
    "#     with torch.no_grad():\n",
    "#        torch.cuda.empty_cache()\n",
    "#    del data, model, trainer, acc, f1\n",
    "# Instead of running these commands in a loop, execute them cell by cell, restarting between them.\n",
    "# Each cell will print its results. To keep the results and avoid re-running specific cells, skip them intermittently on each run."
   ]
  },
  {
   "cell_type": "code",
   "execution_count": 3,
   "metadata": {},
   "outputs": [],
   "source": [
    "results = {'acc':[],\n",
    "           'f1':[],\n",
    "           'wd':[]}"
   ]
  },
  {
   "cell_type": "code",
   "execution_count": 4,
   "metadata": {},
   "outputs": [
    {
     "name": "stdout",
     "output_type": "stream",
     "text": [
      "Grid search roberta-large, learning rate 5e-05 focal loss, gamma: 4 wd: 0.01\n"
     ]
    },
    {
     "name": "stderr",
     "output_type": "stream",
     "text": [
      "Some weights of RobertaForSequenceClassification were not initialized from the model checkpoint at roberta-large and are newly initialized: ['classifier.dense.weight', 'classifier.out_proj.weight', 'classifier.out_proj.bias', 'classifier.dense.bias']\n",
      "You should probably TRAIN this model on a down-stream task to be able to use it for predictions and inference.\n",
      "You're using a RobertaTokenizerFast tokenizer. Please note that with a fast tokenizer, using the `__call__` method is faster than using a method to encode the text followed by a call to the `pad` method to get a padded encoding.\n"
     ]
    },
    {
     "name": "stdout",
     "output_type": "stream",
     "text": [
      "1 / 30: Train Loss:\t4.8041\tVal Loss:\t1.5369\tAccuracy:\t0.4734\tF1:\t0.4223\n",
      "2 / 30: Train Loss:\t2.1583\tVal Loss:\t1.2675\tAccuracy:\t0.6124\tF1:\t0.5810\n",
      "3 / 30: Train Loss:\t1.0709\tVal Loss:\t1.0011\tAccuracy:\t0.6716\tF1:\t0.6688\n",
      "4 / 30: Train Loss:\t0.6106\tVal Loss:\t0.8665\tAccuracy:\t0.7012\tF1:\t0.6902\n",
      "5 / 30: Train Loss:\t0.3480\tVal Loss:\t0.8420\tAccuracy:\t0.7189\tF1:\t0.7034\n",
      "6 / 30: Train Loss:\t0.2571\tVal Loss:\t0.9293\tAccuracy:\t0.7130\tF1:\t0.7024\n",
      "7 / 30: Train Loss:\t0.1622\tVal Loss:\t1.0015\tAccuracy:\t0.6893\tF1:\t0.6919\n",
      "8 / 30: Train Loss:\t0.1672\tVal Loss:\t0.7778\tAccuracy:\t0.7515\tF1:\t0.7352\n",
      "9 / 30: Train Loss:\t0.3460\tVal Loss:\t1.0733\tAccuracy:\t0.6331\tF1:\t0.6140\n",
      "10 / 30: Train Loss:\t0.1710\tVal Loss:\t0.8640\tAccuracy:\t0.7249\tF1:\t0.7020\n",
      "11 / 30: Train Loss:\t0.0575\tVal Loss:\t0.7822\tAccuracy:\t0.7367\tF1:\t0.7313\n",
      "No improvement for 3 epochs. Stopping early.\n",
      "best (higgest macro f1-score) val results:\n",
      "                         precision    recall  f1-score   support\n",
      "\n",
      "             ad hominem       0.83      0.66      0.73        67\n",
      "               anecdote       0.76      0.86      0.80        43\n",
      "         cherry picking       0.75      0.77      0.76        56\n",
      "      conspiracy theory       0.91      0.82      0.86        39\n",
      "           fake experts       0.82      0.75      0.78        12\n",
      "           false choice       0.79      0.85      0.81        13\n",
      "      false equivalence       0.33      0.64      0.44        14\n",
      "impossible expectations       0.67      0.76      0.71        37\n",
      "           single cause       0.72      0.63      0.67        57\n",
      "\n",
      "               accuracy                           0.74       338\n",
      "              macro avg       0.73      0.75      0.73       338\n",
      "           weighted avg       0.76      0.74      0.74       338\n",
      "\n",
      "test results:\n",
      "                         precision    recall  f1-score   support\n",
      "\n",
      "             ad hominem       0.75      0.81      0.78        37\n",
      "               anecdote       0.79      0.92      0.85        24\n",
      "         cherry picking       0.77      0.65      0.70        31\n",
      "      conspiracy theory       0.93      0.59      0.72        22\n",
      "           fake experts       1.00      0.86      0.92         7\n",
      "           false choice       0.62      0.71      0.67         7\n",
      "      false equivalence       0.36      0.50      0.42         8\n",
      "impossible expectations       0.68      0.90      0.78        21\n",
      "           single cause       0.75      0.66      0.70        32\n",
      "\n",
      "               accuracy                           0.74       189\n",
      "              macro avg       0.74      0.73      0.73       189\n",
      "           weighted avg       0.76      0.74      0.74       189\n",
      "\n",
      "### ### ### ### ### ### ### ### ### ### \n",
      "{'acc': [0.7407407407407407], 'f1': [0.7261841843295477], 'wd': [0.01]}\n",
      "### ### ### ### ### ### ### ### ### ### \n"
     ]
    }
   ],
   "source": [
    "lr = 5.0e-5\n",
    "g = 4\n",
    "wd = 0.01\n",
    "\n",
    "print(f'Grid search {model_checkpoint}, learning rate {lr} focal loss, gamma: {g} wd: {wd}')\n",
    "data = ClimateDataset(model_to_train=3,model_checkpoint=model_checkpoint,batch_size=16)\n",
    "data.setup_dataloaders()\n",
    "model = ClassificationModel(model_checkpoint=data.model_checkpoint,num_labels=data.num_labels)\n",
    "trainer = Engine(epochs=30,labels=data.labels)\n",
    "trainer.model = model.model\n",
    "trainer.dataset_encoded = data.dataset_encoded\n",
    "acc, f1 = trainer.run(lr=lr,\n",
    "                        wd=wd,\n",
    "                        train_dataloader=data.train_dataloader,\n",
    "                        eval_dataloader=data.eval_dataloader,\n",
    "                        test_dataloader=data.test_dataloader,\n",
    "                        focalloss=True,\n",
    "                        early_stop=3,\n",
    "                        accumulation_steps=2,\n",
    "                        gamma=g)\n",
    "results['acc'].append(acc)\n",
    "results['f1'].append(f1)\n",
    "results['wd'].append(wd)\n",
    "print('### '*10)\n",
    "print(results)\n",
    "print('### '*10)"
   ]
  },
  {
   "cell_type": "code",
   "execution_count": 4,
   "metadata": {},
   "outputs": [
    {
     "name": "stdout",
     "output_type": "stream",
     "text": [
      "Grid search roberta-large, learning rate 5e-05 focal loss, gamma: 4 wd: 0.1\n"
     ]
    },
    {
     "name": "stderr",
     "output_type": "stream",
     "text": [
      "Some weights of RobertaForSequenceClassification were not initialized from the model checkpoint at roberta-large and are newly initialized: ['classifier.dense.weight', 'classifier.out_proj.weight', 'classifier.out_proj.bias', 'classifier.dense.bias']\n",
      "You should probably TRAIN this model on a down-stream task to be able to use it for predictions and inference.\n",
      "You're using a RobertaTokenizerFast tokenizer. Please note that with a fast tokenizer, using the `__call__` method is faster than using a method to encode the text followed by a call to the `pad` method to get a padded encoding.\n"
     ]
    },
    {
     "name": "stdout",
     "output_type": "stream",
     "text": [
      "1 / 30: Train Loss:\t5.0727\tVal Loss:\t1.6854\tAccuracy:\t0.4172\tF1:\t0.3637\n",
      "2 / 30: Train Loss:\t2.8017\tVal Loss:\t1.3525\tAccuracy:\t0.5858\tF1:\t0.5033\n",
      "3 / 30: Train Loss:\t1.9255\tVal Loss:\t1.1084\tAccuracy:\t0.6450\tF1:\t0.6252\n",
      "4 / 30: Train Loss:\t0.9848\tVal Loss:\t1.0585\tAccuracy:\t0.6272\tF1:\t0.6247\n",
      "5 / 30: Train Loss:\t1.1342\tVal Loss:\t1.1410\tAccuracy:\t0.6598\tF1:\t0.6422\n",
      "6 / 30: Train Loss:\t1.8809\tVal Loss:\t2.6314\tAccuracy:\t0.1154\tF1:\t0.0230\n",
      "7 / 30: Train Loss:\t6.4943\tVal Loss:\t2.2506\tAccuracy:\t0.0414\tF1:\t0.0088\n",
      "8 / 30: Train Loss:\t6.4159\tVal Loss:\t2.2297\tAccuracy:\t0.0355\tF1:\t0.0076\n",
      "No improvement for 3 epochs. Stopping early.\n",
      "best (higgest macro f1-score) val results:\n",
      "                         precision    recall  f1-score   support\n",
      "\n",
      "             ad hominem       0.00      0.00      0.00        67\n",
      "               anecdote       0.00      0.00      0.00        43\n",
      "         cherry picking       0.00      0.00      0.00        56\n",
      "      conspiracy theory       0.00      0.00      0.00        39\n",
      "           fake experts       0.04      1.00      0.07        12\n",
      "           false choice       0.00      0.00      0.00        13\n",
      "      false equivalence       0.00      0.00      0.00        14\n",
      "impossible expectations       0.00      0.00      0.00        37\n",
      "           single cause       0.00      0.00      0.00        57\n",
      "\n",
      "               accuracy                           0.04       338\n",
      "              macro avg       0.00      0.11      0.01       338\n",
      "           weighted avg       0.00      0.04      0.00       338\n",
      "\n",
      "test results:\n",
      "                         precision    recall  f1-score   support\n",
      "\n",
      "             ad hominem       0.00      0.00      0.00        37\n",
      "               anecdote       0.00      0.00      0.00        24\n",
      "         cherry picking       0.00      0.00      0.00        31\n",
      "      conspiracy theory       0.00      0.00      0.00        22\n",
      "           fake experts       0.04      1.00      0.07         7\n",
      "           false choice       0.00      0.00      0.00         7\n",
      "      false equivalence       0.00      0.00      0.00         8\n",
      "impossible expectations       0.00      0.00      0.00        21\n",
      "           single cause       0.00      0.00      0.00        32\n",
      "\n",
      "               accuracy                           0.04       189\n",
      "              macro avg       0.00      0.11      0.01       189\n",
      "           weighted avg       0.00      0.04      0.00       189\n",
      "\n",
      "### ### ### ### ### ### ### ### ### ### \n",
      "{'acc': [0.037037037037037035], 'f1': [0.007936507936507936], 'wd': [0.1]}\n",
      "### ### ### ### ### ### ### ### ### ### \n"
     ]
    }
   ],
   "source": [
    "lr = 5.0e-5\n",
    "g = 4\n",
    "wd = 0.1\n",
    "\n",
    "print(f'Grid search {model_checkpoint}, learning rate {lr} focal loss, gamma: {g} wd: {wd}')\n",
    "data = ClimateDataset(model_to_train=3,model_checkpoint=model_checkpoint,batch_size=16)\n",
    "data.setup_dataloaders()\n",
    "model = ClassificationModel(model_checkpoint=data.model_checkpoint,num_labels=data.num_labels)\n",
    "trainer = Engine(epochs=30,labels=data.labels)\n",
    "trainer.model = model.model\n",
    "trainer.dataset_encoded = data.dataset_encoded\n",
    "acc, f1 = trainer.run(lr=lr,\n",
    "                        wd=wd,\n",
    "                        train_dataloader=data.train_dataloader,\n",
    "                        eval_dataloader=data.eval_dataloader,\n",
    "                        test_dataloader=data.test_dataloader,\n",
    "                        focalloss=True,\n",
    "                        early_stop=3,\n",
    "                        accumulation_steps=2,\n",
    "                        gamma=g)\n",
    "results['acc'].append(acc)\n",
    "results['f1'].append(f1)\n",
    "results['wd'].append(wd)\n",
    "print('### '*10)\n",
    "print(results)\n",
    "print('### '*10)"
   ]
  },
  {
   "cell_type": "code",
   "execution_count": 5,
   "metadata": {},
   "outputs": [],
   "source": [
    "from collections import defaultdict \n",
    "\n",
    "a = {'acc': [0.7407407407407407], 'f1': [0.7261841843295477], 'wd': [0.01]}\n",
    "b = {'acc': [0.037037037037037035], 'f1': [0.007936507936507936], 'wd': [0.1]}\n",
    "\n",
    "results = defaultdict(list)\n",
    "for d in (a,b):\n",
    "    for k,v in d.items():\n",
    "        results[k].append(v[0])"
   ]
  },
  {
   "cell_type": "code",
   "execution_count": 6,
   "metadata": {},
   "outputs": [],
   "source": [
    "import matplotlib.pyplot as plt\n",
    "import seaborn as sns\n",
    "import pandas as pd"
   ]
  },
  {
   "cell_type": "code",
   "execution_count": 7,
   "metadata": {},
   "outputs": [
    {
     "data": {
      "image/png": "[encoded data removed]",
      "text/plain": [
       "<Figure size 640x480 with 1 Axes>"
      ]
     },
     "metadata": {},
     "output_type": "display_data"
    }
   ],
   "source": [
    "def plot_grid_search(df, title, column):\n",
    "\n",
    "    # Create the plot\n",
    "    ax = df.plot(x=column, y=['acc', 'f1'], marker='o', linestyle='-')\n",
    "\n",
    "    # Set y-axis range between 0 and 1\n",
    "    plt.ylim(0, 1)\n",
    "\n",
    "    # Annotate points with F1 scores\n",
    "    for i, row in df.iterrows(): \n",
    "        ax.annotate(f'{row[\"f1\"]:.2f}', (row[column], row[\"f1\"]), textcoords='offset points', xytext=(0, -10), ha='center')\n",
    "\n",
    "    # Annotate points with Acc scores\n",
    "    for i, row in df.iterrows():\n",
    "        ax.annotate(f'{row[\"acc\"]:.2f}', (row[column], row[\"acc\"]), textcoords='offset points', xytext=(0, 10), ha='center')\n",
    "    \n",
    "    # \n",
    "    plt.xticks(df[column], [val for val in df[column]], ha='center')\n",
    "    # plt.xscale('log')\n",
    "    plt.minorticks_off()\n",
    "\n",
    "    plt.title(title)\n",
    "    plt.xlabel(column)\n",
    "    plt.ylabel('Score')\n",
    "    plt.show()\n",
    "\n",
    "plot_grid_search(pd.DataFrame(results), f'Weight decays, {model_checkpoint}', 'wd')"
   ]
  }
 ],
 "metadata": {
  "kernelspec": {
   "display_name": "Python 3",
   "language": "python",
   "name": "python3"
  },
  "language_info": {
   "codemirror_mode": {
    "name": "ipython",
    "version": 3
   },
   "file_extension": ".py",
   "mimetype": "text/x-python",
   "name": "python",
   "nbconvert_exporter": "python",
   "pygments_lexer": "ipython3",
   "version": "3.11.5"
  },
  "orig_nbformat": 4
 },
 "nbformat": 4,
 "nbformat_minor": 2
}
