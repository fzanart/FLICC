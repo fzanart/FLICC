{
 "cells": [
  {
   "cell_type": "code",
   "execution_count": 1,
   "metadata": {},
   "outputs": [],
   "source": [
    "import os\n",
    "import sys\n",
    "import gc\n",
    "# assuming data, models, engine in flicc directory:\n",
    "flicc_path = os.path.realpath(\"__file__\").split('grid_search')[0]\n",
    "sys.path.append(flicc_path)\n",
    "import torch\n",
    "from data import ClimateDataset\n",
    "from models import ClassificationModel\n",
    "from engine import Engine"
   ]
  },
  {
   "cell_type": "code",
   "execution_count": 2,
   "metadata": {},
   "outputs": [],
   "source": [
    "model_checkpoint='roberta-large'"
   ]
  },
  {
   "cell_type": "code",
   "execution_count": 3,
   "metadata": {},
   "outputs": [],
   "source": [
    "results = {'test_acc':[],\n",
    "           'test_f1':[],\n",
    "           'eval_acc':[],\n",
    "           'eval_f1':[],\n",
    "           'wd':[]}"
   ]
  },
  {
   "cell_type": "code",
   "execution_count": 4,
   "metadata": {},
   "outputs": [
    {
     "name": "stdout",
     "output_type": "stream",
     "text": [
      "Grid search roberta-large, learning rate 1e-05, weight decay 0.1\n"
     ]
    },
    {
     "name": "stderr",
     "output_type": "stream",
     "text": [
      "Some weights of RobertaForSequenceClassification were not initialized from the model checkpoint at roberta-large and are newly initialized: ['classifier.dense.bias', 'classifier.out_proj.bias', 'classifier.dense.weight', 'classifier.out_proj.weight']\n",
      "You should probably TRAIN this model on a down-stream task to be able to use it for predictions and inference.\n",
      "You're using a RobertaTokenizerFast tokenizer. Please note that with a fast tokenizer, using the `__call__` method is faster than using a method to encode the text followed by a call to the `pad` method to get a padded encoding.\n"
     ]
    },
    {
     "name": "stdout",
     "output_type": "stream",
     "text": [
      "1 / 30: Train Loss:\t0.9967\tVal Loss:\t1.5251\tAccuracy:\t0.4911\tF1:\t0.3151\n",
      "2 / 30: Train Loss:\t0.5952\tVal Loss:\t0.9428\tAccuracy:\t0.6805\tF1:\t0.5459\n",
      "3 / 30: Train Loss:\t0.3593\tVal Loss:\t0.8149\tAccuracy:\t0.7485\tF1:\t0.7121\n",
      "4 / 30: Train Loss:\t0.2358\tVal Loss:\t0.7663\tAccuracy:\t0.7751\tF1:\t0.7508\n",
      "5 / 30: Train Loss:\t0.1501\tVal Loss:\t0.9234\tAccuracy:\t0.7367\tF1:\t0.7021\n",
      "6 / 30: Train Loss:\t0.0886\tVal Loss:\t0.8698\tAccuracy:\t0.7663\tF1:\t0.7567\n",
      "7 / 30: Train Loss:\t0.0551\tVal Loss:\t0.9678\tAccuracy:\t0.7515\tF1:\t0.7208\n",
      "8 / 30: Train Loss:\t0.0417\tVal Loss:\t0.9636\tAccuracy:\t0.7899\tF1:\t0.7823\n",
      "9 / 30: Train Loss:\t0.0387\tVal Loss:\t0.9436\tAccuracy:\t0.7692\tF1:\t0.7529\n",
      "10 / 30: Train Loss:\t0.0273\tVal Loss:\t0.9486\tAccuracy:\t0.7722\tF1:\t0.7555\n",
      "11 / 30: Train Loss:\t0.0135\tVal Loss:\t0.9353\tAccuracy:\t0.8018\tF1:\t0.7923\n",
      "12 / 30: Train Loss:\t0.0177\tVal Loss:\t1.0245\tAccuracy:\t0.7692\tF1:\t0.7498\n",
      "13 / 30: Train Loss:\t0.0124\tVal Loss:\t1.0319\tAccuracy:\t0.7751\tF1:\t0.7640\n",
      "14 / 30: Train Loss:\t0.0098\tVal Loss:\t0.9213\tAccuracy:\t0.8047\tF1:\t0.8047\n",
      "15 / 30: Train Loss:\t0.0046\tVal Loss:\t0.9302\tAccuracy:\t0.8107\tF1:\t0.8063\n",
      "16 / 30: Train Loss:\t0.0059\tVal Loss:\t1.0438\tAccuracy:\t0.8047\tF1:\t0.8047\n",
      "17 / 30: Train Loss:\t0.0072\tVal Loss:\t0.9677\tAccuracy:\t0.8077\tF1:\t0.8023\n",
      "18 / 30: Train Loss:\t0.0066\tVal Loss:\t1.0715\tAccuracy:\t0.7663\tF1:\t0.7589\n",
      "No improvement for 3 epochs. Stopping early.\n",
      "best (higgest macro f1-score) val results:\n",
      "                         precision    recall  f1-score   support\n",
      "\n",
      "             ad hominem       0.73      0.84      0.78        67\n",
      "               anecdote       0.93      0.88      0.90        43\n",
      "         cherry picking       0.83      0.77      0.80        56\n",
      "      conspiracy theory       0.86      0.92      0.89        39\n",
      "           fake experts       0.92      0.92      0.92        12\n",
      "           false choice       0.92      0.85      0.88        13\n",
      "      false equivalence       0.58      0.50      0.54        14\n",
      "impossible expectations       0.77      0.73      0.75        37\n",
      "           single cause       0.82      0.79      0.80        57\n",
      "\n",
      "               accuracy                           0.81       338\n",
      "              macro avg       0.82      0.80      0.81       338\n",
      "           weighted avg       0.81      0.81      0.81       338\n",
      "\n",
      "test results:\n",
      "                         precision    recall  f1-score   support\n",
      "\n",
      "             ad hominem       0.77      0.81      0.79        37\n",
      "               anecdote       0.92      0.92      0.92        24\n",
      "         cherry picking       0.77      0.74      0.75        31\n",
      "      conspiracy theory       0.75      0.82      0.78        22\n",
      "           fake experts       1.00      1.00      1.00         7\n",
      "           false choice       0.56      0.71      0.63         7\n",
      "      false equivalence       0.50      0.12      0.20         8\n",
      "impossible expectations       0.78      1.00      0.88        21\n",
      "           single cause       0.85      0.72      0.78        32\n",
      "\n",
      "               accuracy                           0.79       189\n",
      "              macro avg       0.77      0.76      0.75       189\n",
      "           weighted avg       0.79      0.79      0.78       189\n",
      "\n",
      "### ### ### ### ### ### ### ### ### ### \n",
      "{'test_acc': [0.7936507936507936], 'test_f1': [0.7469453804593619], 'eval_acc': [0.8106508875739645], 'eval_f1': [0.8062693890471668], 'wd': [0.1]}\n",
      "### ### ### ### ### ### ### ### ### ### \n",
      "Grid search roberta-large, learning rate 1e-05, weight decay 0.01\n"
     ]
    },
    {
     "name": "stderr",
     "output_type": "stream",
     "text": [
      "Some weights of RobertaForSequenceClassification were not initialized from the model checkpoint at roberta-large and are newly initialized: ['classifier.dense.bias', 'classifier.out_proj.bias', 'classifier.dense.weight', 'classifier.out_proj.weight']\n",
      "You should probably TRAIN this model on a down-stream task to be able to use it for predictions and inference.\n",
      "You're using a RobertaTokenizerFast tokenizer. Please note that with a fast tokenizer, using the `__call__` method is faster than using a method to encode the text followed by a call to the `pad` method to get a padded encoding.\n"
     ]
    },
    {
     "name": "stdout",
     "output_type": "stream",
     "text": [
      "1 / 30: Train Loss:\t1.0086\tVal Loss:\t1.9148\tAccuracy:\t0.3314\tF1:\t0.1791\n",
      "2 / 30: Train Loss:\t0.7838\tVal Loss:\t1.1128\tAccuracy:\t0.6243\tF1:\t0.4425\n",
      "3 / 30: Train Loss:\t0.4698\tVal Loss:\t0.8825\tAccuracy:\t0.7160\tF1:\t0.6273\n",
      "4 / 30: Train Loss:\t0.3291\tVal Loss:\t0.7617\tAccuracy:\t0.7544\tF1:\t0.7049\n",
      "5 / 30: Train Loss:\t0.2194\tVal Loss:\t0.7020\tAccuracy:\t0.7811\tF1:\t0.7348\n",
      "6 / 30: Train Loss:\t0.1437\tVal Loss:\t0.6749\tAccuracy:\t0.7959\tF1:\t0.7786\n",
      "7 / 30: Train Loss:\t0.0985\tVal Loss:\t0.7405\tAccuracy:\t0.7840\tF1:\t0.7434\n",
      "8 / 30: Train Loss:\t0.0712\tVal Loss:\t0.7695\tAccuracy:\t0.7811\tF1:\t0.7550\n",
      "9 / 30: Train Loss:\t0.0551\tVal Loss:\t0.9379\tAccuracy:\t0.7574\tF1:\t0.7472\n",
      "No improvement for 3 epochs. Stopping early.\n",
      "best (higgest macro f1-score) val results:\n",
      "                         precision    recall  f1-score   support\n",
      "\n",
      "             ad hominem       0.78      0.76      0.77        67\n",
      "               anecdote       0.97      0.91      0.94        43\n",
      "         cherry picking       0.71      0.88      0.78        56\n",
      "      conspiracy theory       0.78      0.92      0.85        39\n",
      "           fake experts       1.00      0.83      0.91        12\n",
      "           false choice       1.00      0.77      0.87        13\n",
      "      false equivalence       0.57      0.29      0.38        14\n",
      "impossible expectations       0.81      0.68      0.74        37\n",
      "           single cause       0.75      0.79      0.77        57\n",
      "\n",
      "               accuracy                           0.80       338\n",
      "              macro avg       0.82      0.76      0.78       338\n",
      "           weighted avg       0.80      0.80      0.79       338\n",
      "\n",
      "test results:\n",
      "                         precision    recall  f1-score   support\n",
      "\n",
      "             ad hominem       0.73      0.81      0.77        37\n",
      "               anecdote       0.91      0.83      0.87        24\n",
      "         cherry picking       0.73      0.77      0.75        31\n",
      "      conspiracy theory       0.84      0.73      0.78        22\n",
      "           fake experts       0.83      0.71      0.77         7\n",
      "           false choice       0.45      0.71      0.56         7\n",
      "      false equivalence       0.67      0.25      0.36         8\n",
      "impossible expectations       0.77      0.81      0.79        21\n",
      "           single cause       0.75      0.75      0.75        32\n",
      "\n",
      "               accuracy                           0.76       189\n",
      "              macro avg       0.74      0.71      0.71       189\n",
      "           weighted avg       0.76      0.76      0.75       189\n",
      "\n",
      "### ### ### ### ### ### ### ### ### ### \n",
      "{'test_acc': [0.7936507936507936, 0.7566137566137566], 'test_f1': [0.7469453804593619, 0.710933794926824], 'eval_acc': [0.8106508875739645, 0.7958579881656804], 'eval_f1': [0.8062693890471668, 0.7786309474126317], 'wd': [0.1, 0.01]}\n",
      "### ### ### ### ### ### ### ### ### ### \n"
     ]
    }
   ],
   "source": [
    "lr = 1.0e-5\n",
    "weight_decay = [0.1, 0.01]\n",
    "\n",
    "for wd in weight_decay:\n",
    "    print(f'Grid search {model_checkpoint}, learning rate {lr}, weight decay {wd}')\n",
    "    data = ClimateDataset(model_to_train=3,model_checkpoint=model_checkpoint,dataset_url=flicc_path,batch_size=16)\n",
    "    data.setup_dataloaders()\n",
    "    model = ClassificationModel(model_checkpoint=data.model_checkpoint,num_labels=data.num_labels)\n",
    "    trainer = Engine(epochs=30,labels=data.labels)\n",
    "    trainer.model = model.model\n",
    "    trainer.dataset_encoded = data.dataset_encoded\n",
    "    test_acc, test_f1, eval_acc, eval_f1 = trainer.run(lr=lr,\n",
    "                                                       wd=wd,\n",
    "                                                       train_dataloader=data.train_dataloader,\n",
    "                                                       eval_dataloader=data.eval_dataloader,\n",
    "                                                       test_dataloader=data.test_dataloader,\n",
    "                                                       accumulation_steps=2,\n",
    "                                                       early_stop=3)\n",
    "    results['test_acc'].append(test_acc)\n",
    "    results['test_f1'].append(test_f1)\n",
    "    results['eval_acc'].append(eval_acc)\n",
    "    results['eval_f1'].append(eval_f1)\n",
    "    results['wd'].append(wd)\n",
    "    print('### '*10)\n",
    "    print(results)\n",
    "    print('### '*10)\n",
    "    with torch.no_grad():\n",
    "        torch.cuda.empty_cache()\n",
    "    del data, model, trainer, test_acc, test_f1, eval_acc, eval_f1\n",
    "    gc.collect()"
   ]
  },
  {
   "cell_type": "code",
   "execution_count": 5,
   "metadata": {},
   "outputs": [
    {
     "data": {
      "image/png": "[encoded data removed]",
      "text/plain": [
       "<Figure size 640x480 with 1 Axes>"
      ]
     },
     "metadata": {},
     "output_type": "display_data"
    }
   ],
   "source": [
    "Engine.plot_grid_search(df=results,\n",
    "                        title=f'Weight decay, lr: {lr} {model_checkpoint}',\n",
    "                        column='wd',\n",
    "                        sci_format=True)"
   ]
  },
  {
   "cell_type": "code",
   "execution_count": 6,
   "metadata": {},
   "outputs": [],
   "source": [
    "%reset -f"
   ]
  }
 ],
 "metadata": {
  "kernelspec": {
   "display_name": "Python 3",
   "language": "python",
   "name": "python3"
  },
  "language_info": {
   "codemirror_mode": {
    "name": "ipython",
    "version": 3
   },
   "file_extension": ".py",
   "mimetype": "text/x-python",
   "name": "python",
   "nbconvert_exporter": "python",
   "pygments_lexer": "ipython3",
   "version": "3.11.5"
  },
  "orig_nbformat": 4
 },
 "nbformat": 4,
 "nbformat_minor": 2
}
