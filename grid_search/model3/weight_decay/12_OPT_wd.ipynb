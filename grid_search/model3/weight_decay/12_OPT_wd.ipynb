{
 "cells": [
  {
   "cell_type": "code",
   "execution_count": 1,
   "metadata": {},
   "outputs": [],
   "source": [
    "import os\n",
    "import sys\n",
    "import gc\n",
    "# assuming data, models, engine in flicc directory:\n",
    "flicc_path = os.path.realpath(\"__file__\").split('grid_search')[0]\n",
    "sys.path.append(flicc_path)\n",
    "import torch\n",
    "from data import ClimateDataset\n",
    "from models import ClassificationModel\n",
    "from engine import Engine"
   ]
  },
  {
   "cell_type": "code",
   "execution_count": 2,
   "metadata": {},
   "outputs": [],
   "source": [
    "model_checkpoint='facebook/opt-350m'"
   ]
  },
  {
   "cell_type": "code",
   "execution_count": 3,
   "metadata": {},
   "outputs": [],
   "source": [
    "results = {'test_acc':[],\n",
    "           'test_f1':[],\n",
    "           'eval_acc':[],\n",
    "           'eval_f1':[],\n",
    "           'wd':[]}"
   ]
  },
  {
   "cell_type": "code",
   "execution_count": 4,
   "metadata": {},
   "outputs": [
    {
     "name": "stdout",
     "output_type": "stream",
     "text": [
      "Grid search facebook/opt-350m, learning rate 5e-05, focal loss gamma 4, weight decay 0.1\n"
     ]
    },
    {
     "data": {
      "application/vnd.jupyter.widget-view+json": {
       "model_id": "618fdb10a8cc4f0da411b91b049adbbd",
       "version_major": 2,
       "version_minor": 0
      },
      "text/plain": [
       "Map:   0%|          | 0/189 [00:00<?, ? examples/s]"
      ]
     },
     "metadata": {},
     "output_type": "display_data"
    },
    {
     "name": "stderr",
     "output_type": "stream",
     "text": [
      "Asking to truncate to max_length but no maximum length is provided and the model has no predefined maximum length. Default to no truncation.\n",
      "Some weights of OPTForSequenceClassification were not initialized from the model checkpoint at facebook/opt-350m and are newly initialized: ['score.weight']\n",
      "You should probably TRAIN this model on a down-stream task to be able to use it for predictions and inference.\n",
      "You're using a GPT2TokenizerFast tokenizer. Please note that with a fast tokenizer, using the `__call__` method is faster than using a method to encode the text followed by a call to the `pad` method to get a padded encoding.\n"
     ]
    },
    {
     "name": "stdout",
     "output_type": "stream",
     "text": [
      "1 / 30: Train Loss:\t7.2652\tVal Loss:\t1.7297\tAccuracy:\t0.3018\tF1:\t0.2574\n",
      "2 / 30: Train Loss:\t2.5267\tVal Loss:\t1.2339\tAccuracy:\t0.5828\tF1:\t0.5412\n",
      "3 / 30: Train Loss:\t1.8688\tVal Loss:\t1.9496\tAccuracy:\t0.1805\tF1:\t0.1906\n",
      "4 / 30: Train Loss:\t7.5547\tVal Loss:\t2.1772\tAccuracy:\t0.1095\tF1:\t0.0219\n",
      "5 / 30: Train Loss:\t6.5985\tVal Loss:\t2.3589\tAccuracy:\t0.0414\tF1:\t0.0088\n",
      "No improvement for 3 epochs. Stopping early.\n",
      "best (higgest macro f1-score) val results:\n",
      "                         precision    recall  f1-score   support\n",
      "\n",
      "             ad hominem       0.77      0.49      0.60        67\n",
      "               anecdote       0.57      0.91      0.70        43\n",
      "         cherry picking       0.59      0.54      0.56        56\n",
      "      conspiracy theory       0.69      0.64      0.67        39\n",
      "           fake experts       0.53      0.67      0.59        12\n",
      "           false choice       0.27      0.92      0.42        13\n",
      "      false equivalence       0.22      0.14      0.17        14\n",
      "impossible expectations       0.63      0.51      0.57        37\n",
      "           single cause       0.69      0.51      0.59        57\n",
      "\n",
      "               accuracy                           0.58       338\n",
      "              macro avg       0.55      0.59      0.54       338\n",
      "           weighted avg       0.63      0.58      0.58       338\n",
      "\n",
      "test results:\n",
      "                         precision    recall  f1-score   support\n",
      "\n",
      "             ad hominem       0.82      0.49      0.61        37\n",
      "               anecdote       0.55      0.88      0.68        24\n",
      "         cherry picking       0.46      0.35      0.40        31\n",
      "      conspiracy theory       0.80      0.73      0.76        22\n",
      "           fake experts       0.44      0.57      0.50         7\n",
      "           false choice       0.18      0.57      0.28         7\n",
      "      false equivalence       0.33      0.50      0.40         8\n",
      "impossible expectations       0.72      0.62      0.67        21\n",
      "           single cause       0.46      0.34      0.39        32\n",
      "\n",
      "               accuracy                           0.54       189\n",
      "              macro avg       0.53      0.56      0.52       189\n",
      "           weighted avg       0.59      0.54      0.55       189\n",
      "\n",
      "### ### ### ### ### ### ### ### ### ### \n",
      "{'test_acc': [0.5396825396825397], 'test_f1': [0.5205421651953581], 'eval_acc': [0.5828402366863905], 'eval_f1': [0.5411886739481817], 'wd': [0.1]}\n",
      "### ### ### ### ### ### ### ### ### ### \n",
      "Grid search facebook/opt-350m, learning rate 5e-05, focal loss gamma 4, weight decay 0.01\n"
     ]
    },
    {
     "data": {
      "application/vnd.jupyter.widget-view+json": {
       "model_id": "911f1aae5deb4ae788438d5ca09a8ab4",
       "version_major": 2,
       "version_minor": 0
      },
      "text/plain": [
       "Map:   0%|          | 0/338 [00:00<?, ? examples/s]"
      ]
     },
     "metadata": {},
     "output_type": "display_data"
    },
    {
     "name": "stderr",
     "output_type": "stream",
     "text": [
      "Asking to truncate to max_length but no maximum length is provided and the model has no predefined maximum length. Default to no truncation.\n",
      "Some weights of OPTForSequenceClassification were not initialized from the model checkpoint at facebook/opt-350m and are newly initialized: ['score.weight']\n",
      "You should probably TRAIN this model on a down-stream task to be able to use it for predictions and inference.\n",
      "You're using a GPT2TokenizerFast tokenizer. Please note that with a fast tokenizer, using the `__call__` method is faster than using a method to encode the text followed by a call to the `pad` method to get a padded encoding.\n"
     ]
    },
    {
     "name": "stdout",
     "output_type": "stream",
     "text": [
      "1 / 30: Train Loss:\t7.2469\tVal Loss:\t1.7115\tAccuracy:\t0.3136\tF1:\t0.2661\n",
      "2 / 30: Train Loss:\t2.5104\tVal Loss:\t1.2507\tAccuracy:\t0.5799\tF1:\t0.5396\n",
      "3 / 30: Train Loss:\t2.0736\tVal Loss:\t1.8145\tAccuracy:\t0.2811\tF1:\t0.1678\n",
      "4 / 30: Train Loss:\t6.7982\tVal Loss:\t2.2360\tAccuracy:\t0.0385\tF1:\t0.0082\n",
      "5 / 30: Train Loss:\t6.4868\tVal Loss:\t2.3272\tAccuracy:\t0.0385\tF1:\t0.0082\n",
      "No improvement for 3 epochs. Stopping early.\n",
      "best (higgest macro f1-score) val results:\n",
      "                         precision    recall  f1-score   support\n",
      "\n",
      "             ad hominem       0.81      0.43      0.56        67\n",
      "               anecdote       0.59      0.91      0.72        43\n",
      "         cherry picking       0.59      0.57      0.58        56\n",
      "      conspiracy theory       0.68      0.67      0.68        39\n",
      "           fake experts       0.53      0.67      0.59        12\n",
      "           false choice       0.28      0.92      0.43        13\n",
      "      false equivalence       0.18      0.14      0.16        14\n",
      "impossible expectations       0.62      0.54      0.58        37\n",
      "           single cause       0.65      0.49      0.56        57\n",
      "\n",
      "               accuracy                           0.58       338\n",
      "              macro avg       0.55      0.59      0.54       338\n",
      "           weighted avg       0.63      0.58      0.58       338\n",
      "\n",
      "test results:\n",
      "                         precision    recall  f1-score   support\n",
      "\n",
      "             ad hominem       0.86      0.49      0.62        37\n",
      "               anecdote       0.56      0.92      0.70        24\n",
      "         cherry picking       0.45      0.32      0.38        31\n",
      "      conspiracy theory       0.72      0.59      0.65        22\n",
      "           fake experts       0.40      0.57      0.47         7\n",
      "           false choice       0.22      0.71      0.33         7\n",
      "      false equivalence       0.44      0.50      0.47         8\n",
      "impossible expectations       0.72      0.62      0.67        21\n",
      "           single cause       0.45      0.41      0.43        32\n",
      "\n",
      "               accuracy                           0.54       189\n",
      "              macro avg       0.54      0.57      0.52       189\n",
      "           weighted avg       0.60      0.54      0.54       189\n",
      "\n",
      "### ### ### ### ### ### ### ### ### ### \n",
      "{'test_acc': [0.5396825396825397, 0.5396825396825397], 'test_f1': [0.5205421651953581, 0.523762980326234], 'eval_acc': [0.5828402366863905, 0.5798816568047337], 'eval_f1': [0.5411886739481817, 0.5396355721806831], 'wd': [0.1, 0.01]}\n",
      "### ### ### ### ### ### ### ### ### ### \n"
     ]
    }
   ],
   "source": [
    "g = 4\n",
    "lr = 5.0e-5\n",
    "weight_decay = [0.1, 0.01]\n",
    "\n",
    "for wd in weight_decay:\n",
    "    print(f'Grid search {model_checkpoint}, learning rate {lr}, focal loss gamma {g}, weight decay {wd}')\n",
    "    data = ClimateDataset(model_to_train=3,model_checkpoint=model_checkpoint,dataset_url=flicc_path,batch_size=16)\n",
    "    data.setup_dataloaders()\n",
    "    model = ClassificationModel(model_checkpoint=data.model_checkpoint,num_labels=data.num_labels)\n",
    "    trainer = Engine(epochs=30,labels=data.labels)\n",
    "    trainer.model = model.model\n",
    "    trainer.dataset_encoded = data.dataset_encoded\n",
    "    test_acc, test_f1, eval_acc, eval_f1 = trainer.run(lr=lr,\n",
    "                                                       wd=wd,\n",
    "                                                       train_dataloader=data.train_dataloader,\n",
    "                                                       eval_dataloader=data.eval_dataloader,\n",
    "                                                       test_dataloader=data.test_dataloader,\n",
    "                                                       accumulation_steps=2,\n",
    "                                                       focalloss=True,\n",
    "                                                       gamma=g,\n",
    "                                                       early_stop=3)\n",
    "    results['test_acc'].append(test_acc)\n",
    "    results['test_f1'].append(test_f1)\n",
    "    results['eval_acc'].append(eval_acc)\n",
    "    results['eval_f1'].append(eval_f1)\n",
    "    results['wd'].append(wd)\n",
    "    print('### '*10)\n",
    "    print(results)\n",
    "    print('### '*10)\n",
    "    with torch.no_grad():\n",
    "        torch.cuda.empty_cache()\n",
    "    del data, model, trainer, test_acc, test_f1, eval_acc, eval_f1\n",
    "    gc.collect()"
   ]
  },
  {
   "cell_type": "code",
   "execution_count": 5,
   "metadata": {},
   "outputs": [
    {
     "data": {
      "image/png": "[encoded data removed]",
      "text/plain": [
       "<Figure size 640x480 with 1 Axes>"
      ]
     },
     "metadata": {},
     "output_type": "display_data"
    }
   ],
   "source": [
    "Engine.plot_grid_search(df=results,\n",
    "                        title=f'Weight decay, lr: {lr}, focal loss gamma {g} {model_checkpoint}',\n",
    "                        column='wd',\n",
    "                        sci_format=True)"
   ]
  },
  {
   "cell_type": "code",
   "execution_count": 6,
   "metadata": {},
   "outputs": [],
   "source": [
    "%reset -f"
   ]
  }
 ],
 "metadata": {
  "kernelspec": {
   "display_name": "Python 3",
   "language": "python",
   "name": "python3"
  },
  "language_info": {
   "codemirror_mode": {
    "name": "ipython",
    "version": 3
   },
   "file_extension": ".py",
   "mimetype": "text/x-python",
   "name": "python",
   "nbconvert_exporter": "python",
   "pygments_lexer": "ipython3",
   "version": "3.11.5"
  },
  "orig_nbformat": 4
 },
 "nbformat": 4,
 "nbformat_minor": 2
}
