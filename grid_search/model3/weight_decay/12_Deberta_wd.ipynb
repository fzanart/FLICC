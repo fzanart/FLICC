{
 "cells": [
  {
   "cell_type": "code",
   "execution_count": 1,
   "metadata": {},
   "outputs": [],
   "source": [
    "import os\n",
    "import sys\n",
    "import gc\n",
    "# assuming data, models, engine in flicc directory:\n",
    "flicc_path = os.path.realpath(\"__file__\").split('grid_search')[0]\n",
    "sys.path.append(flicc_path)\n",
    "import torch\n",
    "from data import ClimateDataset\n",
    "from models import ClassificationModel\n",
    "from engine import Engine"
   ]
  },
  {
   "cell_type": "code",
   "execution_count": 2,
   "metadata": {},
   "outputs": [],
   "source": [
    "model_checkpoint='microsoft/deberta-base'"
   ]
  },
  {
   "cell_type": "code",
   "execution_count": 3,
   "metadata": {},
   "outputs": [],
   "source": [
    "results = {'test_acc':[],\n",
    "           'test_f1':[],\n",
    "           'eval_acc':[],\n",
    "           'eval_f1':[],\n",
    "           'wd':[]}"
   ]
  },
  {
   "cell_type": "code",
   "execution_count": 4,
   "metadata": {},
   "outputs": [
    {
     "name": "stdout",
     "output_type": "stream",
     "text": [
      "Grid search microsoft/deberta-base, learning rate 5e-05, focal loss gamma 8, weight decay 0.1\n"
     ]
    },
    {
     "data": {
      "application/vnd.jupyter.widget-view+json": {
       "model_id": "507fbf5347904545bf0c8464227b43ca",
       "version_major": 2,
       "version_minor": 0
      },
      "text/plain": [
       "Map:   0%|          | 0/189 [00:00<?, ? examples/s]"
      ]
     },
     "metadata": {},
     "output_type": "display_data"
    },
    {
     "name": "stderr",
     "output_type": "stream",
     "text": [
      "Some weights of DebertaForSequenceClassification were not initialized from the model checkpoint at microsoft/deberta-base and are newly initialized: ['pooler.dense.weight', 'classifier.weight', 'pooler.dense.bias', 'classifier.bias']\n",
      "You should probably TRAIN this model on a down-stream task to be able to use it for predictions and inference.\n",
      "You're using a DebertaTokenizerFast tokenizer. Please note that with a fast tokenizer, using the `__call__` method is faster than using a method to encode the text followed by a call to the `pad` method to get a padded encoding.\n"
     ]
    },
    {
     "name": "stdout",
     "output_type": "stream",
     "text": [
      "1 / 30: Train Loss:\t7.5131\tVal Loss:\t1.8428\tAccuracy:\t0.4408\tF1:\t0.3834\n",
      "2 / 30: Train Loss:\t3.1158\tVal Loss:\t1.3991\tAccuracy:\t0.5621\tF1:\t0.5292\n",
      "3 / 30: Train Loss:\t1.0259\tVal Loss:\t1.2376\tAccuracy:\t0.5917\tF1:\t0.5711\n",
      "4 / 30: Train Loss:\t0.5346\tVal Loss:\t1.1493\tAccuracy:\t0.6006\tF1:\t0.5937\n",
      "5 / 30: Train Loss:\t0.1636\tVal Loss:\t1.0171\tAccuracy:\t0.6479\tF1:\t0.6313\n",
      "6 / 30: Train Loss:\t0.1071\tVal Loss:\t0.9544\tAccuracy:\t0.7278\tF1:\t0.7155\n",
      "7 / 30: Train Loss:\t0.0304\tVal Loss:\t0.9037\tAccuracy:\t0.7071\tF1:\t0.6943\n",
      "8 / 30: Train Loss:\t0.0128\tVal Loss:\t0.8821\tAccuracy:\t0.7160\tF1:\t0.6956\n",
      "9 / 30: Train Loss:\t0.0071\tVal Loss:\t0.8733\tAccuracy:\t0.7189\tF1:\t0.6998\n",
      "No improvement for 3 epochs. Stopping early.\n",
      "best (higgest macro f1-score) val results:\n",
      "                         precision    recall  f1-score   support\n",
      "\n",
      "             ad hominem       0.76      0.72      0.74        67\n",
      "               anecdote       0.86      0.88      0.87        43\n",
      "         cherry picking       0.63      0.77      0.69        56\n",
      "      conspiracy theory       0.88      0.59      0.71        39\n",
      "           fake experts       0.59      0.83      0.69        12\n",
      "           false choice       0.90      0.69      0.78        13\n",
      "      false equivalence       0.50      0.64      0.56        14\n",
      "impossible expectations       0.64      0.62      0.63        37\n",
      "           single cause       0.77      0.75      0.76        57\n",
      "\n",
      "               accuracy                           0.73       338\n",
      "              macro avg       0.73      0.72      0.72       338\n",
      "           weighted avg       0.74      0.73      0.73       338\n",
      "\n",
      "test results:\n",
      "                         precision    recall  f1-score   support\n",
      "\n",
      "             ad hominem       0.73      0.81      0.77        37\n",
      "               anecdote       0.81      0.92      0.86        24\n",
      "         cherry picking       0.71      0.71      0.71        31\n",
      "      conspiracy theory       1.00      0.36      0.53        22\n",
      "           fake experts       1.00      0.86      0.92         7\n",
      "           false choice       0.44      0.57      0.50         7\n",
      "      false equivalence       0.31      0.50      0.38         8\n",
      "impossible expectations       0.55      0.76      0.64        21\n",
      "           single cause       0.84      0.66      0.74        32\n",
      "\n",
      "               accuracy                           0.70       189\n",
      "              macro avg       0.71      0.68      0.67       189\n",
      "           weighted avg       0.75      0.70      0.70       189\n",
      "\n",
      "### ### ### ### ### ### ### ### ### ### \n",
      "{'test_acc': [0.7037037037037037], 'test_f1': [0.6728731143611798], 'eval_acc': [0.727810650887574], 'eval_f1': [0.7154698058790463], 'wd': [0.1]}\n",
      "### ### ### ### ### ### ### ### ### ### \n",
      "Grid search microsoft/deberta-base, learning rate 5e-05, focal loss gamma 8, weight decay 0.01\n"
     ]
    },
    {
     "data": {
      "application/vnd.jupyter.widget-view+json": {
       "model_id": "39e489a3909f4330a9872833b07e28d4",
       "version_major": 2,
       "version_minor": 0
      },
      "text/plain": [
       "Map:   0%|          | 0/338 [00:00<?, ? examples/s]"
      ]
     },
     "metadata": {},
     "output_type": "display_data"
    },
    {
     "name": "stderr",
     "output_type": "stream",
     "text": [
      "Some weights of DebertaForSequenceClassification were not initialized from the model checkpoint at microsoft/deberta-base and are newly initialized: ['pooler.dense.weight', 'classifier.weight', 'pooler.dense.bias', 'classifier.bias']\n",
      "You should probably TRAIN this model on a down-stream task to be able to use it for predictions and inference.\n",
      "You're using a DebertaTokenizerFast tokenizer. Please note that with a fast tokenizer, using the `__call__` method is faster than using a method to encode the text followed by a call to the `pad` method to get a padded encoding.\n"
     ]
    },
    {
     "name": "stdout",
     "output_type": "stream",
     "text": [
      "1 / 30: Train Loss:\t7.6152\tVal Loss:\t1.9636\tAccuracy:\t0.2396\tF1:\t0.2369\n",
      "2 / 30: Train Loss:\t3.4361\tVal Loss:\t1.3614\tAccuracy:\t0.6124\tF1:\t0.5715\n",
      "3 / 30: Train Loss:\t1.0247\tVal Loss:\t1.1489\tAccuracy:\t0.6716\tF1:\t0.6284\n",
      "4 / 30: Train Loss:\t0.4357\tVal Loss:\t1.1239\tAccuracy:\t0.6243\tF1:\t0.6135\n",
      "5 / 30: Train Loss:\t0.1676\tVal Loss:\t0.9784\tAccuracy:\t0.6953\tF1:\t0.6795\n",
      "6 / 30: Train Loss:\t0.0647\tVal Loss:\t0.9153\tAccuracy:\t0.7337\tF1:\t0.7218\n",
      "7 / 30: Train Loss:\t0.0267\tVal Loss:\t0.8647\tAccuracy:\t0.7308\tF1:\t0.7103\n",
      "8 / 30: Train Loss:\t0.0132\tVal Loss:\t0.8495\tAccuracy:\t0.7367\tF1:\t0.7083\n",
      "9 / 30: Train Loss:\t0.0063\tVal Loss:\t0.8377\tAccuracy:\t0.7426\tF1:\t0.7177\n",
      "No improvement for 3 epochs. Stopping early.\n",
      "best (higgest macro f1-score) val results:\n",
      "                         precision    recall  f1-score   support\n",
      "\n",
      "             ad hominem       0.71      0.76      0.73        67\n",
      "               anecdote       0.86      0.84      0.85        43\n",
      "         cherry picking       0.75      0.70      0.72        56\n",
      "      conspiracy theory       0.79      0.69      0.74        39\n",
      "           fake experts       0.69      0.75      0.72        12\n",
      "           false choice       0.77      0.77      0.77        13\n",
      "      false equivalence       0.57      0.57      0.57        14\n",
      "impossible expectations       0.73      0.59      0.66        37\n",
      "           single cause       0.68      0.81      0.74        57\n",
      "\n",
      "               accuracy                           0.73       338\n",
      "              macro avg       0.73      0.72      0.72       338\n",
      "           weighted avg       0.74      0.73      0.73       338\n",
      "\n",
      "test results:\n",
      "                         precision    recall  f1-score   support\n",
      "\n",
      "             ad hominem       0.74      0.95      0.83        37\n",
      "               anecdote       0.88      0.96      0.92        24\n",
      "         cherry picking       0.86      0.61      0.72        31\n",
      "      conspiracy theory       1.00      0.50      0.67        22\n",
      "           fake experts       0.88      1.00      0.93         7\n",
      "           false choice       0.60      0.43      0.50         7\n",
      "      false equivalence       0.33      0.38      0.35         8\n",
      "impossible expectations       0.76      0.76      0.76        21\n",
      "           single cause       0.62      0.78      0.69        32\n",
      "\n",
      "               accuracy                           0.75       189\n",
      "              macro avg       0.74      0.71      0.71       189\n",
      "           weighted avg       0.78      0.75      0.75       189\n",
      "\n",
      "### ### ### ### ### ### ### ### ### ### \n",
      "{'test_acc': [0.7037037037037037, 0.7513227513227513], 'test_f1': [0.6728731143611798, 0.7088449831365111], 'eval_acc': [0.727810650887574, 0.7337278106508875], 'eval_f1': [0.7154698058790463, 0.7217995312621077], 'wd': [0.1, 0.01]}\n",
      "### ### ### ### ### ### ### ### ### ### \n"
     ]
    }
   ],
   "source": [
    "g = 8\n",
    "lr = 5.0e-5\n",
    "weight_decay = [0.1, 0.01]\n",
    "\n",
    "for wd in weight_decay:\n",
    "    print(f'Grid search {model_checkpoint}, learning rate {lr}, focal loss gamma {g}, weight decay {wd}')\n",
    "    data = ClimateDataset(model_to_train=3,model_checkpoint=model_checkpoint,dataset_url=flicc_path,batch_size=32)\n",
    "    data.setup_dataloaders()\n",
    "    model = ClassificationModel(model_checkpoint=data.model_checkpoint,num_labels=data.num_labels)\n",
    "    trainer = Engine(epochs=30,labels=data.labels)\n",
    "    trainer.model = model.model\n",
    "    trainer.dataset_encoded = data.dataset_encoded\n",
    "    test_acc, test_f1, eval_acc, eval_f1 = trainer.run(lr=lr,\n",
    "                                                       wd=wd,\n",
    "                                                       train_dataloader=data.train_dataloader,\n",
    "                                                       eval_dataloader=data.eval_dataloader,\n",
    "                                                       test_dataloader=data.test_dataloader,\n",
    "                                                       focalloss=True,\n",
    "                                                       gamma=g,\n",
    "                                                       early_stop=3)\n",
    "    results['test_acc'].append(test_acc)\n",
    "    results['test_f1'].append(test_f1)\n",
    "    results['eval_acc'].append(eval_acc)\n",
    "    results['eval_f1'].append(eval_f1)\n",
    "    results['wd'].append(wd)\n",
    "    print('### '*10)\n",
    "    print(results)\n",
    "    print('### '*10)\n",
    "    with torch.no_grad():\n",
    "        torch.cuda.empty_cache()\n",
    "    del data, model, trainer, test_acc, test_f1, eval_acc, eval_f1\n",
    "    gc.collect()"
   ]
  },
  {
   "cell_type": "code",
   "execution_count": 5,
   "metadata": {},
   "outputs": [
    {
     "data": {
      "image/png": "[encoded data removed]",
      "text/plain": [
       "<Figure size 640x480 with 1 Axes>"
      ]
     },
     "metadata": {},
     "output_type": "display_data"
    }
   ],
   "source": [
    "Engine.plot_grid_search(df=results,\n",
    "                        title=f'Weight decay, lr: {lr}, focal loss gamma {g} {model_checkpoint}',\n",
    "                        column='wd',\n",
    "                        sci_format=True)"
   ]
  },
  {
   "cell_type": "code",
   "execution_count": 6,
   "metadata": {},
   "outputs": [],
   "source": [
    "%reset -f"
   ]
  }
 ],
 "metadata": {
  "kernelspec": {
   "display_name": "Python 3",
   "language": "python",
   "name": "python3"
  },
  "language_info": {
   "codemirror_mode": {
    "name": "ipython",
    "version": 3
   },
   "file_extension": ".py",
   "mimetype": "text/x-python",
   "name": "python",
   "nbconvert_exporter": "python",
   "pygments_lexer": "ipython3",
   "version": "3.11.5"
  },
  "orig_nbformat": 4
 },
 "nbformat": 4,
 "nbformat_minor": 2
}
