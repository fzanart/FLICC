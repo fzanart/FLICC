{
 "cells": [
  {
   "cell_type": "code",
   "execution_count": 1,
   "metadata": {},
   "outputs": [],
   "source": [
    "import os\n",
    "import sys\n",
    "import gc\n",
    "# assuming data, models, engine in flicc directory:\n",
    "flicc_path = os.path.realpath(\"__file__\").split('grid_search')[0]\n",
    "sys.path.append(flicc_path)\n",
    "import torch\n",
    "from data import ClimateDataset\n",
    "from models import ClassificationModel\n",
    "from engine import Engine"
   ]
  },
  {
   "cell_type": "code",
   "execution_count": 2,
   "metadata": {},
   "outputs": [],
   "source": [
    "model_checkpoint='microsoft/deberta-base'"
   ]
  },
  {
   "cell_type": "code",
   "execution_count": 3,
   "metadata": {},
   "outputs": [],
   "source": [
    "results = {'test_acc':[],\n",
    "           'test_f1':[],\n",
    "           'eval_acc':[],\n",
    "           'eval_f1':[],\n",
    "           'lr':[]}"
   ]
  },
  {
   "cell_type": "code",
   "execution_count": 4,
   "metadata": {},
   "outputs": [
    {
     "name": "stdout",
     "output_type": "stream",
     "text": [
      "Grid search microsoft/deberta-base, learning rate 1e-05\n"
     ]
    },
    {
     "data": {
      "application/vnd.jupyter.widget-view+json": {
       "model_id": "47047259772c468487e84506b7bce53a",
       "version_major": 2,
       "version_minor": 0
      },
      "text/plain": [
       "Filter:   0%|          | 0/1796 [00:00<?, ? examples/s]"
      ]
     },
     "metadata": {},
     "output_type": "display_data"
    },
    {
     "data": {
      "application/vnd.jupyter.widget-view+json": {
       "model_id": "d6a1a921a6b2425aa724974202d4c42f",
       "version_major": 2,
       "version_minor": 0
      },
      "text/plain": [
       "Filter:   0%|          | 0/256 [00:00<?, ? examples/s]"
      ]
     },
     "metadata": {},
     "output_type": "display_data"
    },
    {
     "data": {
      "application/vnd.jupyter.widget-view+json": {
       "model_id": "206b9442a27d43a48b5dc7c4a496215f",
       "version_major": 2,
       "version_minor": 0
      },
      "text/plain": [
       "Filter:   0%|          | 0/457 [00:00<?, ? examples/s]"
      ]
     },
     "metadata": {},
     "output_type": "display_data"
    },
    {
     "data": {
      "application/vnd.jupyter.widget-view+json": {
       "model_id": "2247947f53014ceda5f066156c93a56d",
       "version_major": 2,
       "version_minor": 0
      },
      "text/plain": [
       "Map:   0%|          | 0/1324 [00:00<?, ? examples/s]"
      ]
     },
     "metadata": {},
     "output_type": "display_data"
    },
    {
     "data": {
      "application/vnd.jupyter.widget-view+json": {
       "model_id": "aadefa8af0cd43d59c1fb9ea38921d8b",
       "version_major": 2,
       "version_minor": 0
      },
      "text/plain": [
       "Map:   0%|          | 0/189 [00:00<?, ? examples/s]"
      ]
     },
     "metadata": {},
     "output_type": "display_data"
    },
    {
     "data": {
      "application/vnd.jupyter.widget-view+json": {
       "model_id": "deb660346131457aa96c0117de21d026",
       "version_major": 2,
       "version_minor": 0
      },
      "text/plain": [
       "Map:   0%|          | 0/338 [00:00<?, ? examples/s]"
      ]
     },
     "metadata": {},
     "output_type": "display_data"
    },
    {
     "name": "stderr",
     "output_type": "stream",
     "text": [
      "Some weights of DebertaForSequenceClassification were not initialized from the model checkpoint at microsoft/deberta-base and are newly initialized: ['classifier.bias', 'classifier.weight', 'pooler.dense.weight', 'pooler.dense.bias']\n",
      "You should probably TRAIN this model on a down-stream task to be able to use it for predictions and inference.\n",
      "You're using a DebertaTokenizerFast tokenizer. Please note that with a fast tokenizer, using the `__call__` method is faster than using a method to encode the text followed by a call to the `pad` method to get a padded encoding.\n"
     ]
    },
    {
     "name": "stdout",
     "output_type": "stream",
     "text": [
      "1 / 30: Train Loss:\t2.0481\tVal Loss:\t1.7983\tAccuracy:\t0.3432\tF1:\t0.1496\n",
      "2 / 30: Train Loss:\t1.5168\tVal Loss:\t1.2311\tAccuracy:\t0.6065\tF1:\t0.4259\n",
      "3 / 30: Train Loss:\t1.0045\tVal Loss:\t1.0110\tAccuracy:\t0.6450\tF1:\t0.4896\n",
      "4 / 30: Train Loss:\t0.6774\tVal Loss:\t0.9297\tAccuracy:\t0.6805\tF1:\t0.5971\n",
      "5 / 30: Train Loss:\t0.4702\tVal Loss:\t0.9109\tAccuracy:\t0.7367\tF1:\t0.7092\n",
      "6 / 30: Train Loss:\t0.3574\tVal Loss:\t0.9639\tAccuracy:\t0.7189\tF1:\t0.7035\n",
      "7 / 30: Train Loss:\t0.2668\tVal Loss:\t0.8678\tAccuracy:\t0.7456\tF1:\t0.7327\n",
      "8 / 30: Train Loss:\t0.1885\tVal Loss:\t0.9278\tAccuracy:\t0.7189\tF1:\t0.7137\n",
      "9 / 30: Train Loss:\t0.1236\tVal Loss:\t0.9394\tAccuracy:\t0.7367\tF1:\t0.7322\n",
      "10 / 30: Train Loss:\t0.0886\tVal Loss:\t0.9274\tAccuracy:\t0.7426\tF1:\t0.7467\n",
      "11 / 30: Train Loss:\t0.0613\tVal Loss:\t0.9385\tAccuracy:\t0.7604\tF1:\t0.7585\n",
      "12 / 30: Train Loss:\t0.0480\tVal Loss:\t1.1046\tAccuracy:\t0.7160\tF1:\t0.7075\n",
      "13 / 30: Train Loss:\t0.0416\tVal Loss:\t0.9765\tAccuracy:\t0.7456\tF1:\t0.7485\n",
      "14 / 30: Train Loss:\t0.0282\tVal Loss:\t0.9661\tAccuracy:\t0.7574\tF1:\t0.7529\n",
      "No improvement for 3 epochs. Stopping early.\n",
      "best (higgest macro f1-score) val results:\n",
      "                         precision    recall  f1-score   support\n",
      "\n",
      "             ad hominem       0.83      0.73      0.78        67\n",
      "               anecdote       0.86      0.84      0.85        43\n",
      "         cherry picking       0.62      0.82      0.71        56\n",
      "      conspiracy theory       0.69      0.85      0.76        39\n",
      "           fake experts       0.83      0.83      0.83        12\n",
      "           false choice       0.85      0.85      0.85        13\n",
      "      false equivalence       0.86      0.43      0.57        14\n",
      "impossible expectations       0.74      0.70      0.72        37\n",
      "           single cause       0.83      0.70      0.76        57\n",
      "\n",
      "               accuracy                           0.76       338\n",
      "              macro avg       0.79      0.75      0.76       338\n",
      "           weighted avg       0.78      0.76      0.76       338\n",
      "\n",
      "test results:\n",
      "                         precision    recall  f1-score   support\n",
      "\n",
      "             ad hominem       0.85      0.78      0.82        37\n",
      "               anecdote       0.81      0.88      0.84        24\n",
      "         cherry picking       0.74      0.74      0.74        31\n",
      "      conspiracy theory       0.79      0.86      0.83        22\n",
      "           fake experts       1.00      0.57      0.73         7\n",
      "           false choice       0.45      0.71      0.56         7\n",
      "      false equivalence       0.50      0.25      0.33         8\n",
      "impossible expectations       0.76      0.90      0.83        21\n",
      "           single cause       0.70      0.66      0.68        32\n",
      "\n",
      "               accuracy                           0.76       189\n",
      "              macro avg       0.73      0.71      0.70       189\n",
      "           weighted avg       0.76      0.76      0.75       189\n",
      "\n",
      "### ### ### ### ### ### ### ### ### ### \n",
      "{'test_acc': [0.7566137566137566], 'test_f1': [0.7049546418183863], 'eval_acc': [0.7603550295857988], 'eval_f1': [0.7584658148552672], 'lr': [1e-05]}\n",
      "### ### ### ### ### ### ### ### ### ### \n",
      "Grid search microsoft/deberta-base, learning rate 5e-05\n"
     ]
    },
    {
     "data": {
      "application/vnd.jupyter.widget-view+json": {
       "model_id": "da46edeeed0a43be8d2c6256614f7d70",
       "version_major": 2,
       "version_minor": 0
      },
      "text/plain": [
       "Map:   0%|          | 0/189 [00:00<?, ? examples/s]"
      ]
     },
     "metadata": {},
     "output_type": "display_data"
    },
    {
     "name": "stderr",
     "output_type": "stream",
     "text": [
      "Some weights of DebertaForSequenceClassification were not initialized from the model checkpoint at microsoft/deberta-base and are newly initialized: ['classifier.bias', 'classifier.weight', 'pooler.dense.weight', 'pooler.dense.bias']\n",
      "You should probably TRAIN this model on a down-stream task to be able to use it for predictions and inference.\n",
      "You're using a DebertaTokenizerFast tokenizer. Please note that with a fast tokenizer, using the `__call__` method is faster than using a method to encode the text followed by a call to the `pad` method to get a padded encoding.\n"
     ]
    },
    {
     "name": "stdout",
     "output_type": "stream",
     "text": [
      "1 / 30: Train Loss:\t1.6918\tVal Loss:\t2.1798\tAccuracy:\t0.1686\tF1:\t0.0321\n",
      "2 / 30: Train Loss:\t1.5079\tVal Loss:\t1.1876\tAccuracy:\t0.6272\tF1:\t0.5073\n",
      "3 / 30: Train Loss:\t0.7559\tVal Loss:\t1.0652\tAccuracy:\t0.6805\tF1:\t0.6179\n",
      "4 / 30: Train Loss:\t0.4188\tVal Loss:\t0.9550\tAccuracy:\t0.7189\tF1:\t0.6870\n",
      "5 / 30: Train Loss:\t0.2309\tVal Loss:\t0.9372\tAccuracy:\t0.7308\tF1:\t0.7199\n",
      "6 / 30: Train Loss:\t0.1262\tVal Loss:\t0.9849\tAccuracy:\t0.7308\tF1:\t0.7066\n",
      "7 / 30: Train Loss:\t0.0670\tVal Loss:\t1.1523\tAccuracy:\t0.7160\tF1:\t0.6872\n",
      "8 / 30: Train Loss:\t0.0568\tVal Loss:\t1.1298\tAccuracy:\t0.7278\tF1:\t0.7111\n",
      "No improvement for 3 epochs. Stopping early.\n",
      "best (higgest macro f1-score) val results:\n",
      "                         precision    recall  f1-score   support\n",
      "\n",
      "             ad hominem       0.83      0.60      0.70        67\n",
      "               anecdote       0.73      0.81      0.77        43\n",
      "         cherry picking       0.80      0.66      0.73        56\n",
      "      conspiracy theory       0.73      0.90      0.80        39\n",
      "           fake experts       0.89      0.67      0.76        12\n",
      "           false choice       0.62      0.77      0.69        13\n",
      "      false equivalence       0.50      0.71      0.59        14\n",
      "impossible expectations       0.63      0.73      0.68        37\n",
      "           single cause       0.75      0.79      0.77        57\n",
      "\n",
      "               accuracy                           0.73       338\n",
      "              macro avg       0.72      0.74      0.72       338\n",
      "           weighted avg       0.75      0.73      0.73       338\n",
      "\n",
      "test results:\n",
      "                         precision    recall  f1-score   support\n",
      "\n",
      "             ad hominem       0.88      0.76      0.81        37\n",
      "               anecdote       0.81      0.88      0.84        24\n",
      "         cherry picking       0.76      0.61      0.68        31\n",
      "      conspiracy theory       0.81      0.77      0.79        22\n",
      "           fake experts       1.00      0.86      0.92         7\n",
      "           false choice       0.42      0.71      0.53         7\n",
      "      false equivalence       0.44      0.50      0.47         8\n",
      "impossible expectations       0.63      0.90      0.75        21\n",
      "           single cause       0.86      0.75      0.80        32\n",
      "\n",
      "               accuracy                           0.76       189\n",
      "              macro avg       0.73      0.75      0.73       189\n",
      "           weighted avg       0.78      0.76      0.76       189\n",
      "\n",
      "### ### ### ### ### ### ### ### ### ### \n",
      "{'test_acc': [0.7566137566137566, 0.7566137566137566], 'test_f1': [0.7049546418183863, 0.7317713658832217], 'eval_acc': [0.7603550295857988, 0.7307692307692307], 'eval_f1': [0.7584658148552672, 0.7198885375598489], 'lr': [1e-05, 5e-05]}\n",
      "### ### ### ### ### ### ### ### ### ### \n",
      "Grid search microsoft/deberta-base, learning rate 0.0001\n"
     ]
    },
    {
     "data": {
      "application/vnd.jupyter.widget-view+json": {
       "model_id": "4b0acd6178db41969f1caaedbaa7c8fe",
       "version_major": 2,
       "version_minor": 0
      },
      "text/plain": [
       "Map:   0%|          | 0/338 [00:00<?, ? examples/s]"
      ]
     },
     "metadata": {},
     "output_type": "display_data"
    },
    {
     "name": "stderr",
     "output_type": "stream",
     "text": [
      "Some weights of DebertaForSequenceClassification were not initialized from the model checkpoint at microsoft/deberta-base and are newly initialized: ['classifier.bias', 'classifier.weight', 'pooler.dense.weight', 'pooler.dense.bias']\n",
      "You should probably TRAIN this model on a down-stream task to be able to use it for predictions and inference.\n",
      "You're using a DebertaTokenizerFast tokenizer. Please note that with a fast tokenizer, using the `__call__` method is faster than using a method to encode the text followed by a call to the `pad` method to get a padded encoding.\n"
     ]
    },
    {
     "name": "stdout",
     "output_type": "stream",
     "text": [
      "1 / 30: Train Loss:\t1.4304\tVal Loss:\t1.1321\tAccuracy:\t0.6006\tF1:\t0.4943\n",
      "2 / 30: Train Loss:\t0.7063\tVal Loss:\t1.1821\tAccuracy:\t0.6568\tF1:\t0.5964\n",
      "3 / 30: Train Loss:\t0.4161\tVal Loss:\t1.1387\tAccuracy:\t0.6953\tF1:\t0.6477\n",
      "4 / 30: Train Loss:\t0.3334\tVal Loss:\t1.2208\tAccuracy:\t0.7308\tF1:\t0.7144\n",
      "5 / 30: Train Loss:\t0.2304\tVal Loss:\t1.3964\tAccuracy:\t0.6538\tF1:\t0.6481\n",
      "6 / 30: Train Loss:\t0.1342\tVal Loss:\t1.2419\tAccuracy:\t0.7160\tF1:\t0.7079\n",
      "7 / 30: Train Loss:\t0.1058\tVal Loss:\t1.2637\tAccuracy:\t0.7012\tF1:\t0.6858\n",
      "No improvement for 3 epochs. Stopping early.\n",
      "best (higgest macro f1-score) val results:\n",
      "                         precision    recall  f1-score   support\n",
      "\n",
      "             ad hominem       0.75      0.78      0.76        67\n",
      "               anecdote       0.97      0.67      0.79        43\n",
      "         cherry picking       0.84      0.68      0.75        56\n",
      "      conspiracy theory       0.97      0.77      0.86        39\n",
      "           fake experts       0.56      0.83      0.67        12\n",
      "           false choice       1.00      0.54      0.70        13\n",
      "      false equivalence       0.30      0.93      0.45        14\n",
      "impossible expectations       0.92      0.59      0.72        37\n",
      "           single cause       0.66      0.81      0.72        57\n",
      "\n",
      "               accuracy                           0.73       338\n",
      "              macro avg       0.77      0.73      0.71       338\n",
      "           weighted avg       0.81      0.73      0.75       338\n",
      "\n",
      "test results:\n",
      "                         precision    recall  f1-score   support\n",
      "\n",
      "             ad hominem       0.70      0.84      0.77        37\n",
      "               anecdote       0.95      0.75      0.84        24\n",
      "         cherry picking       0.88      0.48      0.62        31\n",
      "      conspiracy theory       0.92      0.50      0.65        22\n",
      "           fake experts       0.58      1.00      0.74         7\n",
      "           false choice       0.67      0.57      0.62         7\n",
      "      false equivalence       0.18      0.50      0.27         8\n",
      "impossible expectations       0.80      0.57      0.67        21\n",
      "           single cause       0.62      0.81      0.70        32\n",
      "\n",
      "               accuracy                           0.68       189\n",
      "              macro avg       0.70      0.67      0.65       189\n",
      "           weighted avg       0.76      0.68      0.69       189\n",
      "\n",
      "### ### ### ### ### ### ### ### ### ### \n",
      "{'test_acc': [0.7566137566137566, 0.7566137566137566, 0.6772486772486772], 'test_f1': [0.7049546418183863, 0.7317713658832217, 0.6514403312560261], 'eval_acc': [0.7603550295857988, 0.7307692307692307, 0.7307692307692307], 'eval_f1': [0.7584658148552672, 0.7198885375598489, 0.7143897764366803], 'lr': [1e-05, 5e-05, 0.0001]}\n",
      "### ### ### ### ### ### ### ### ### ### \n"
     ]
    }
   ],
   "source": [
    "learning_rates = [1.0e-5, 5.0e-5 ,1.0e-4]\n",
    "\n",
    "for lr in learning_rates:\n",
    "    print(f'Grid search {model_checkpoint}, learning rate {lr}')\n",
    "    data = ClimateDataset(model_to_train=3,model_checkpoint=model_checkpoint,dataset_url=flicc_path,batch_size=32)\n",
    "    data.setup_dataloaders()\n",
    "    model = ClassificationModel(model_checkpoint=data.model_checkpoint,num_labels=data.num_labels)\n",
    "    trainer = Engine(epochs=30,labels=data.labels)\n",
    "    trainer.model = model.model\n",
    "    test_acc, test_f1, eval_acc, eval_f1 = trainer.run(lr=lr,\n",
    "                                                       wd=0.0,\n",
    "                                                       train_dataloader=data.train_dataloader,\n",
    "                                                       eval_dataloader=data.eval_dataloader,\n",
    "                                                       test_dataloader=data.test_dataloader,\n",
    "                                                       early_stop=3)\n",
    "    results['test_acc'].append(test_acc)\n",
    "    results['test_f1'].append(test_f1)\n",
    "    results['eval_acc'].append(eval_acc)\n",
    "    results['eval_f1'].append(eval_f1)\n",
    "    results['lr'].append(lr)\n",
    "    print('### '*10)\n",
    "    print(results)\n",
    "    print('### '*10)\n",
    "    with torch.no_grad():\n",
    "        torch.cuda.empty_cache()\n",
    "    del data, model, trainer, test_acc, test_f1, eval_acc, eval_f1\n",
    "    gc.collect()"
   ]
  },
  {
   "cell_type": "code",
   "execution_count": 5,
   "metadata": {},
   "outputs": [
    {
     "data": {
      "image/png": "[encoded data removed]",
      "text/plain": [
       "<Figure size 640x480 with 1 Axes>"
      ]
     },
     "metadata": {},
     "output_type": "display_data"
    }
   ],
   "source": [
    "Engine.plot_grid_search(df=results,\n",
    "                        title=f'Learning rates {model_checkpoint}',\n",
    "                        column='lr',\n",
    "                        sci_format=True)"
   ]
  },
  {
   "cell_type": "code",
   "execution_count": 6,
   "metadata": {},
   "outputs": [],
   "source": [
    "%reset -f"
   ]
  }
 ],
 "metadata": {
  "kernelspec": {
   "display_name": "Python 3",
   "language": "python",
   "name": "python3"
  },
  "language_info": {
   "codemirror_mode": {
    "name": "ipython",
    "version": 3
   },
   "file_extension": ".py",
   "mimetype": "text/x-python",
   "name": "python",
   "nbconvert_exporter": "python",
   "pygments_lexer": "ipython3",
   "version": "3.11.5"
  },
  "orig_nbformat": 4
 },
 "nbformat": 4,
 "nbformat_minor": 2
}
