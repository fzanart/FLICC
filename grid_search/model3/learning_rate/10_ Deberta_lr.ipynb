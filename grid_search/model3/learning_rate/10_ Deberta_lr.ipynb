{
 "cells": [
  {
   "cell_type": "code",
   "execution_count": 1,
   "metadata": {},
   "outputs": [],
   "source": [
    "import torch\n",
    "from data import ClimateDataset\n",
    "from models import ClassificationModel\n",
    "from engine import Engine"
   ]
  },
  {
   "cell_type": "code",
   "execution_count": 2,
   "metadata": {},
   "outputs": [],
   "source": [
    "model_checkpoint='microsoft/deberta-base'"
   ]
  },
  {
   "cell_type": "code",
   "execution_count": 3,
   "metadata": {},
   "outputs": [],
   "source": [
    "results = {'acc':[],\n",
    "           'f1':[],\n",
    "           'lr':[]}"
   ]
  },
  {
   "cell_type": "code",
   "execution_count": 4,
   "metadata": {},
   "outputs": [
    {
     "name": "stdout",
     "output_type": "stream",
     "text": [
      "Grid search microsoft/deberta-base, learning rate 1e-05\n"
     ]
    },
    {
     "data": {
      "application/vnd.jupyter.widget-view+json": {
       "model_id": "7d841eac063e425e8f1d8e1420c7cd7f",
       "version_major": 2,
       "version_minor": 0
      },
      "text/plain": [
       "Filter:   0%|          | 0/1796 [00:00<?, ? examples/s]"
      ]
     },
     "metadata": {},
     "output_type": "display_data"
    },
    {
     "data": {
      "application/vnd.jupyter.widget-view+json": {
       "model_id": "bfa23aa0e19046beb1a87262a9cefe81",
       "version_major": 2,
       "version_minor": 0
      },
      "text/plain": [
       "Filter:   0%|          | 0/256 [00:00<?, ? examples/s]"
      ]
     },
     "metadata": {},
     "output_type": "display_data"
    },
    {
     "data": {
      "application/vnd.jupyter.widget-view+json": {
       "model_id": "600b404c4acf49098aa03efe24fb60df",
       "version_major": 2,
       "version_minor": 0
      },
      "text/plain": [
       "Filter:   0%|          | 0/457 [00:00<?, ? examples/s]"
      ]
     },
     "metadata": {},
     "output_type": "display_data"
    },
    {
     "data": {
      "application/vnd.jupyter.widget-view+json": {
       "model_id": "451609977fe1410d8979730cbde9d453",
       "version_major": 2,
       "version_minor": 0
      },
      "text/plain": [
       "Map:   0%|          | 0/1324 [00:00<?, ? examples/s]"
      ]
     },
     "metadata": {},
     "output_type": "display_data"
    },
    {
     "data": {
      "application/vnd.jupyter.widget-view+json": {
       "model_id": "fbb05846f3664d979a40fe89b1b649cf",
       "version_major": 2,
       "version_minor": 0
      },
      "text/plain": [
       "Map:   0%|          | 0/189 [00:00<?, ? examples/s]"
      ]
     },
     "metadata": {},
     "output_type": "display_data"
    },
    {
     "data": {
      "application/vnd.jupyter.widget-view+json": {
       "model_id": "13fb3ad0f3354f3f9c35090aef4a88db",
       "version_major": 2,
       "version_minor": 0
      },
      "text/plain": [
       "Map:   0%|          | 0/338 [00:00<?, ? examples/s]"
      ]
     },
     "metadata": {},
     "output_type": "display_data"
    },
    {
     "name": "stderr",
     "output_type": "stream",
     "text": [
      "Some weights of DebertaForSequenceClassification were not initialized from the model checkpoint at microsoft/deberta-base and are newly initialized: ['pooler.dense.bias', 'classifier.bias', 'classifier.weight', 'pooler.dense.weight']\n",
      "You should probably TRAIN this model on a down-stream task to be able to use it for predictions and inference.\n",
      "You're using a DebertaTokenizerFast tokenizer. Please note that with a fast tokenizer, using the `__call__` method is faster than using a method to encode the text followed by a call to the `pad` method to get a padded encoding.\n"
     ]
    },
    {
     "name": "stdout",
     "output_type": "stream",
     "text": [
      "1 / 30: Train Loss:\t2.0481\tVal Loss:\t1.7983\tAccuracy:\t0.3432\tF1:\t0.1496\n",
      "2 / 30: Train Loss:\t1.5168\tVal Loss:\t1.2311\tAccuracy:\t0.6065\tF1:\t0.4259\n",
      "3 / 30: Train Loss:\t1.0045\tVal Loss:\t1.0110\tAccuracy:\t0.6450\tF1:\t0.4896\n",
      "4 / 30: Train Loss:\t0.6774\tVal Loss:\t0.9297\tAccuracy:\t0.6805\tF1:\t0.5971\n",
      "5 / 30: Train Loss:\t0.4702\tVal Loss:\t0.9109\tAccuracy:\t0.7367\tF1:\t0.7092\n",
      "6 / 30: Train Loss:\t0.3574\tVal Loss:\t0.9639\tAccuracy:\t0.7189\tF1:\t0.7035\n",
      "7 / 30: Train Loss:\t0.2668\tVal Loss:\t0.8678\tAccuracy:\t0.7456\tF1:\t0.7327\n",
      "8 / 30: Train Loss:\t0.1885\tVal Loss:\t0.9278\tAccuracy:\t0.7189\tF1:\t0.7137\n",
      "9 / 30: Train Loss:\t0.1236\tVal Loss:\t0.9394\tAccuracy:\t0.7367\tF1:\t0.7322\n",
      "10 / 30: Train Loss:\t0.0886\tVal Loss:\t0.9274\tAccuracy:\t0.7426\tF1:\t0.7467\n",
      "11 / 30: Train Loss:\t0.0613\tVal Loss:\t0.9385\tAccuracy:\t0.7604\tF1:\t0.7585\n",
      "12 / 30: Train Loss:\t0.0480\tVal Loss:\t1.1046\tAccuracy:\t0.7160\tF1:\t0.7075\n",
      "13 / 30: Train Loss:\t0.0416\tVal Loss:\t0.9765\tAccuracy:\t0.7456\tF1:\t0.7485\n",
      "14 / 30: Train Loss:\t0.0282\tVal Loss:\t0.9661\tAccuracy:\t0.7574\tF1:\t0.7529\n",
      "No improvement for 3 epochs. Stopping early.\n",
      "best (higgest macro f1-score) val results:\n",
      "                         precision    recall  f1-score   support\n",
      "\n",
      "             ad hominem       0.80      0.76      0.78        67\n",
      "               anecdote       0.86      0.86      0.86        43\n",
      "         cherry picking       0.65      0.75      0.69        56\n",
      "      conspiracy theory       0.70      0.85      0.77        39\n",
      "           fake experts       0.85      0.92      0.88        12\n",
      "           false choice       0.83      0.77      0.80        13\n",
      "      false equivalence       0.54      0.50      0.52        14\n",
      "impossible expectations       0.72      0.70      0.71        37\n",
      "           single cause       0.87      0.68      0.76        57\n",
      "\n",
      "               accuracy                           0.76       338\n",
      "              macro avg       0.76      0.75      0.75       338\n",
      "           weighted avg       0.77      0.76      0.76       338\n",
      "\n",
      "test results:\n",
      "                         precision    recall  f1-score   support\n",
      "\n",
      "             ad hominem       0.82      0.86      0.84        37\n",
      "               anecdote       0.81      0.88      0.84        24\n",
      "         cherry picking       0.75      0.68      0.71        31\n",
      "      conspiracy theory       0.86      0.82      0.84        22\n",
      "           fake experts       1.00      0.86      0.92         7\n",
      "           false choice       0.50      0.71      0.59         7\n",
      "      false equivalence       0.20      0.25      0.22         8\n",
      "impossible expectations       0.70      0.90      0.79        21\n",
      "           single cause       0.77      0.53      0.63        32\n",
      "\n",
      "               accuracy                           0.75       189\n",
      "              macro avg       0.71      0.72      0.71       189\n",
      "           weighted avg       0.76      0.75      0.75       189\n",
      "\n",
      "### ### ### ### ### ### ### ### ### ### \n",
      "{'acc': [0.746031746031746], 'f1': [0.7095566342195807], 'lr': [1e-05]}\n",
      "### ### ### ### ### ### ### ### ### ### \n",
      "Grid search microsoft/deberta-base, learning rate 5e-05\n"
     ]
    },
    {
     "data": {
      "application/vnd.jupyter.widget-view+json": {
       "model_id": "46d7ac20021647c0b9761efa61892017",
       "version_major": 2,
       "version_minor": 0
      },
      "text/plain": [
       "Map:   0%|          | 0/189 [00:00<?, ? examples/s]"
      ]
     },
     "metadata": {},
     "output_type": "display_data"
    },
    {
     "name": "stderr",
     "output_type": "stream",
     "text": [
      "Some weights of DebertaForSequenceClassification were not initialized from the model checkpoint at microsoft/deberta-base and are newly initialized: ['pooler.dense.bias', 'classifier.bias', 'classifier.weight', 'pooler.dense.weight']\n",
      "You should probably TRAIN this model on a down-stream task to be able to use it for predictions and inference.\n",
      "You're using a DebertaTokenizerFast tokenizer. Please note that with a fast tokenizer, using the `__call__` method is faster than using a method to encode the text followed by a call to the `pad` method to get a padded encoding.\n"
     ]
    },
    {
     "name": "stdout",
     "output_type": "stream",
     "text": [
      "1 / 30: Train Loss:\t1.6918\tVal Loss:\t2.1798\tAccuracy:\t0.1686\tF1:\t0.0321\n",
      "2 / 30: Train Loss:\t1.5079\tVal Loss:\t1.1876\tAccuracy:\t0.6272\tF1:\t0.5073\n",
      "3 / 30: Train Loss:\t0.7559\tVal Loss:\t1.0652\tAccuracy:\t0.6805\tF1:\t0.6179\n",
      "4 / 30: Train Loss:\t0.4188\tVal Loss:\t0.9550\tAccuracy:\t0.7189\tF1:\t0.6870\n",
      "5 / 30: Train Loss:\t0.2309\tVal Loss:\t0.9372\tAccuracy:\t0.7308\tF1:\t0.7199\n",
      "6 / 30: Train Loss:\t0.1262\tVal Loss:\t0.9849\tAccuracy:\t0.7308\tF1:\t0.7066\n",
      "7 / 30: Train Loss:\t0.0670\tVal Loss:\t1.1523\tAccuracy:\t0.7160\tF1:\t0.6872\n",
      "8 / 30: Train Loss:\t0.0568\tVal Loss:\t1.1298\tAccuracy:\t0.7278\tF1:\t0.7111\n",
      "No improvement for 3 epochs. Stopping early.\n",
      "best (higgest macro f1-score) val results:\n",
      "                         precision    recall  f1-score   support\n",
      "\n",
      "             ad hominem       0.70      0.81      0.75        67\n",
      "               anecdote       0.74      0.91      0.81        43\n",
      "         cherry picking       0.69      0.73      0.71        56\n",
      "      conspiracy theory       0.88      0.74      0.81        39\n",
      "           fake experts       0.64      0.75      0.69        12\n",
      "           false choice       0.77      0.77      0.77        13\n",
      "      false equivalence       0.44      0.57      0.50        14\n",
      "impossible expectations       0.71      0.65      0.68        37\n",
      "           single cause       0.86      0.56      0.68        57\n",
      "\n",
      "               accuracy                           0.73       338\n",
      "              macro avg       0.72      0.72      0.71       338\n",
      "           weighted avg       0.74      0.73      0.73       338\n",
      "\n",
      "test results:\n",
      "                         precision    recall  f1-score   support\n",
      "\n",
      "             ad hominem       0.67      0.84      0.75        37\n",
      "               anecdote       0.81      0.92      0.86        24\n",
      "         cherry picking       0.85      0.71      0.77        31\n",
      "      conspiracy theory       0.85      0.50      0.63        22\n",
      "           fake experts       0.75      0.86      0.80         7\n",
      "           false choice       0.57      0.57      0.57         7\n",
      "      false equivalence       0.23      0.38      0.29         8\n",
      "impossible expectations       0.61      0.90      0.73        21\n",
      "           single cause       0.94      0.53      0.68        32\n",
      "\n",
      "               accuracy                           0.71       189\n",
      "              macro avg       0.70      0.69      0.68       189\n",
      "           weighted avg       0.76      0.71      0.71       189\n",
      "\n",
      "### ### ### ### ### ### ### ### ### ### \n",
      "{'acc': [0.746031746031746, 0.7142857142857143], 'f1': [0.7095566342195807, 0.6753495989879293], 'lr': [1e-05, 5e-05]}\n",
      "### ### ### ### ### ### ### ### ### ### \n",
      "Grid search microsoft/deberta-base, learning rate 0.0001\n"
     ]
    },
    {
     "data": {
      "application/vnd.jupyter.widget-view+json": {
       "model_id": "509d8e7270f448048927c71398f9df35",
       "version_major": 2,
       "version_minor": 0
      },
      "text/plain": [
       "Map:   0%|          | 0/338 [00:00<?, ? examples/s]"
      ]
     },
     "metadata": {},
     "output_type": "display_data"
    },
    {
     "name": "stderr",
     "output_type": "stream",
     "text": [
      "Some weights of DebertaForSequenceClassification were not initialized from the model checkpoint at microsoft/deberta-base and are newly initialized: ['pooler.dense.bias', 'classifier.bias', 'classifier.weight', 'pooler.dense.weight']\n",
      "You should probably TRAIN this model on a down-stream task to be able to use it for predictions and inference.\n",
      "You're using a DebertaTokenizerFast tokenizer. Please note that with a fast tokenizer, using the `__call__` method is faster than using a method to encode the text followed by a call to the `pad` method to get a padded encoding.\n"
     ]
    },
    {
     "name": "stdout",
     "output_type": "stream",
     "text": [
      "1 / 30: Train Loss:\t1.4304\tVal Loss:\t1.1321\tAccuracy:\t0.6006\tF1:\t0.4943\n",
      "2 / 30: Train Loss:\t0.7063\tVal Loss:\t1.1821\tAccuracy:\t0.6568\tF1:\t0.5964\n",
      "3 / 30: Train Loss:\t0.4161\tVal Loss:\t1.1387\tAccuracy:\t0.6953\tF1:\t0.6477\n",
      "4 / 30: Train Loss:\t0.3334\tVal Loss:\t1.2208\tAccuracy:\t0.7308\tF1:\t0.7144\n",
      "5 / 30: Train Loss:\t0.2304\tVal Loss:\t1.3964\tAccuracy:\t0.6538\tF1:\t0.6481\n",
      "6 / 30: Train Loss:\t0.1342\tVal Loss:\t1.2419\tAccuracy:\t0.7160\tF1:\t0.7079\n",
      "7 / 30: Train Loss:\t0.1058\tVal Loss:\t1.2637\tAccuracy:\t0.7012\tF1:\t0.6858\n",
      "No improvement for 3 epochs. Stopping early.\n",
      "best (higgest macro f1-score) val results:\n",
      "                         precision    recall  f1-score   support\n",
      "\n",
      "             ad hominem       0.80      0.55      0.65        67\n",
      "               anecdote       0.94      0.70      0.80        43\n",
      "         cherry picking       0.53      0.84      0.65        56\n",
      "      conspiracy theory       0.71      0.92      0.80        39\n",
      "           fake experts       0.83      0.42      0.56        12\n",
      "           false choice       0.91      0.77      0.83        13\n",
      "      false equivalence       0.55      0.43      0.48        14\n",
      "impossible expectations       0.72      0.62      0.67        37\n",
      "           single cause       0.70      0.75      0.73        57\n",
      "\n",
      "               accuracy                           0.70       338\n",
      "              macro avg       0.74      0.67      0.69       338\n",
      "           weighted avg       0.73      0.70      0.70       338\n",
      "\n",
      "test results:\n",
      "                         precision    recall  f1-score   support\n",
      "\n",
      "             ad hominem       0.74      0.68      0.70        37\n",
      "               anecdote       0.94      0.67      0.78        24\n",
      "         cherry picking       0.46      0.77      0.58        31\n",
      "      conspiracy theory       0.85      0.77      0.81        22\n",
      "           fake experts       0.50      0.14      0.22         7\n",
      "           false choice       0.43      0.43      0.43         7\n",
      "      false equivalence       0.50      0.25      0.33         8\n",
      "impossible expectations       0.77      0.81      0.79        21\n",
      "           single cause       0.65      0.62      0.63        32\n",
      "\n",
      "               accuracy                           0.66       189\n",
      "              macro avg       0.65      0.57      0.59       189\n",
      "           weighted avg       0.69      0.66      0.66       189\n",
      "\n",
      "### ### ### ### ### ### ### ### ### ### \n",
      "{'acc': [0.746031746031746, 0.7142857142857143, 0.6613756613756614], 'f1': [0.7095566342195807, 0.6753495989879293, 0.5869217236658674], 'lr': [1e-05, 5e-05, 0.0001]}\n",
      "### ### ### ### ### ### ### ### ### ### \n"
     ]
    }
   ],
   "source": [
    "learning_rates = [1.0e-5, 5.0e-5, 1.0e-4]\n",
    "\n",
    "for lr in learning_rates:\n",
    "    print(f'Grid search {model_checkpoint}, learning rate {lr}')\n",
    "    data = ClimateDataset(model_to_train=3,model_checkpoint=model_checkpoint,batch_size=32)\n",
    "    data.setup_dataloaders()\n",
    "    model = ClassificationModel(model_checkpoint=data.model_checkpoint,num_labels=data.num_labels)\n",
    "    trainer = Engine(epochs=30,labels=data.labels)\n",
    "    trainer.model = model.model\n",
    "    trainer.device = model.device\n",
    "    acc, f1 = trainer.run(lr=lr,wd=0.0,train_dataloader=data.train_dataloader,eval_dataloader=data.eval_dataloader,test_dataloader=data.test_dataloader, early_stop=3)\n",
    "    results['acc'].append(acc)\n",
    "    results['f1'].append(f1)\n",
    "    results['lr'].append(lr)\n",
    "    print('### '*10)\n",
    "    print(results)\n",
    "    print('### '*10)\n",
    "    with torch.no_grad():\n",
    "        torch.cuda.empty_cache()\n",
    "    del data, model, trainer, acc, f1"
   ]
  },
  {
   "cell_type": "code",
   "execution_count": 5,
   "metadata": {},
   "outputs": [],
   "source": [
    "import matplotlib.pyplot as plt\n",
    "import seaborn as sns\n",
    "import pandas as pd"
   ]
  },
  {
   "cell_type": "code",
   "execution_count": 6,
   "metadata": {},
   "outputs": [
    {
     "data": {
      "image/png": "[encoded data removed]",
      "text/plain": [
       "<Figure size 640x480 with 1 Axes>"
      ]
     },
     "metadata": {},
     "output_type": "display_data"
    }
   ],
   "source": [
    "def plot_grid_search(df, title):\n",
    "\n",
    "    # Create the plot\n",
    "    ax = df.plot(x='lr', y=['acc', 'f1'], marker='o', linestyle='-')\n",
    "\n",
    "    # Set y-axis range between 0 and 1\n",
    "    plt.ylim(0, 1)\n",
    "\n",
    "    # Annotate points with F1 scores\n",
    "    for i, row in df.iterrows(): \n",
    "        ax.annotate(f'{row[\"f1\"]:.2f}', (row[\"lr\"], row[\"f1\"]), textcoords='offset points', xytext=(0, -10), ha='center')\n",
    "\n",
    "    # Annotate points with Acc scores\n",
    "    for i, row in df.iterrows():\n",
    "        ax.annotate(f'{row[\"acc\"]:.2f}', (row[\"lr\"], row[\"acc\"]), textcoords='offset points', xytext=(0, 10), ha='center')\n",
    "    \n",
    "    # \n",
    "    plt.xticks(df['lr'], [f'{val:.0e}' for val in df['lr']], ha='center')\n",
    "    # plt.xscale('log')\n",
    "    plt.minorticks_off()\n",
    "\n",
    "    plt.title(title)\n",
    "    plt.xlabel('lr')\n",
    "    plt.ylabel('Score')\n",
    "    plt.show()\n",
    "\n",
    "plot_grid_search(pd.DataFrame(results), f'Learning rates {model_checkpoint}')"
   ]
  }
 ],
 "metadata": {
  "kernelspec": {
   "display_name": "Python 3",
   "language": "python",
   "name": "python3"
  },
  "language_info": {
   "codemirror_mode": {
    "name": "ipython",
    "version": 3
   },
   "file_extension": ".py",
   "mimetype": "text/x-python",
   "name": "python",
   "nbconvert_exporter": "python",
   "pygments_lexer": "ipython3",
   "version": "3.11.5"
  },
  "orig_nbformat": 4
 },
 "nbformat": 4,
 "nbformat_minor": 2
}
