{
 "cells": [
  {
   "cell_type": "code",
   "execution_count": 1,
   "metadata": {},
   "outputs": [],
   "source": [
    "import torch\n",
    "from data import ClimateDataset\n",
    "from models import ClassificationModel\n",
    "from engine import Engine"
   ]
  },
  {
   "cell_type": "code",
   "execution_count": 2,
   "metadata": {},
   "outputs": [],
   "source": [
    "model_checkpoint='roberta-large'\n",
    "\n",
    "# the commands below didn't work inside for loop and got CUDA out of memory Error.\n",
    "#     with torch.no_grad():\n",
    "#        torch.cuda.empty_cache()\n",
    "#    del data, model, trainer, acc, f1\n",
    "# Instead of running these commands in a loop, execute them cell by cell, restarting between them.\n",
    "# Each cell will print its results. To keep the results and avoid re-running specific cells, skip them intermittently on each run."
   ]
  },
  {
   "cell_type": "code",
   "execution_count": 3,
   "metadata": {},
   "outputs": [],
   "source": [
    "results = {'acc':[],\n",
    "           'f1':[],\n",
    "           'lr':[]}"
   ]
  },
  {
   "cell_type": "code",
   "execution_count": 4,
   "metadata": {},
   "outputs": [
    {
     "name": "stdout",
     "output_type": "stream",
     "text": [
      "Grid search roberta-large, learning rate 1e-05\n"
     ]
    },
    {
     "data": {
      "application/vnd.jupyter.widget-view+json": {
       "model_id": "532aff4d0b4748cf87aba2128ce64a01",
       "version_major": 2,
       "version_minor": 0
      },
      "text/plain": [
       "Filter:   0%|          | 0/1796 [00:00<?, ? examples/s]"
      ]
     },
     "metadata": {},
     "output_type": "display_data"
    },
    {
     "data": {
      "application/vnd.jupyter.widget-view+json": {
       "model_id": "86ed0578f3b6401c80fbe4ccc50b8184",
       "version_major": 2,
       "version_minor": 0
      },
      "text/plain": [
       "Filter:   0%|          | 0/256 [00:00<?, ? examples/s]"
      ]
     },
     "metadata": {},
     "output_type": "display_data"
    },
    {
     "data": {
      "application/vnd.jupyter.widget-view+json": {
       "model_id": "cb375476825948b295148de0be035fab",
       "version_major": 2,
       "version_minor": 0
      },
      "text/plain": [
       "Filter:   0%|          | 0/457 [00:00<?, ? examples/s]"
      ]
     },
     "metadata": {},
     "output_type": "display_data"
    },
    {
     "data": {
      "application/vnd.jupyter.widget-view+json": {
       "model_id": "d8272980e2c0401883ad4b21443f676b",
       "version_major": 2,
       "version_minor": 0
      },
      "text/plain": [
       "Map:   0%|          | 0/1324 [00:00<?, ? examples/s]"
      ]
     },
     "metadata": {},
     "output_type": "display_data"
    },
    {
     "data": {
      "application/vnd.jupyter.widget-view+json": {
       "model_id": "0fc2569be42942a39a365d1780db9c65",
       "version_major": 2,
       "version_minor": 0
      },
      "text/plain": [
       "Map:   0%|          | 0/189 [00:00<?, ? examples/s]"
      ]
     },
     "metadata": {},
     "output_type": "display_data"
    },
    {
     "data": {
      "application/vnd.jupyter.widget-view+json": {
       "model_id": "765bab3558cd472897a0fa19d4ee68b6",
       "version_major": 2,
       "version_minor": 0
      },
      "text/plain": [
       "Map:   0%|          | 0/338 [00:00<?, ? examples/s]"
      ]
     },
     "metadata": {},
     "output_type": "display_data"
    },
    {
     "name": "stderr",
     "output_type": "stream",
     "text": [
      "Some weights of RobertaForSequenceClassification were not initialized from the model checkpoint at roberta-large and are newly initialized: ['classifier.dense.bias', 'classifier.dense.weight', 'classifier.out_proj.bias', 'classifier.out_proj.weight']\n",
      "You should probably TRAIN this model on a down-stream task to be able to use it for predictions and inference.\n",
      "You're using a RobertaTokenizerFast tokenizer. Please note that with a fast tokenizer, using the `__call__` method is faster than using a method to encode the text followed by a call to the `pad` method to get a padded encoding.\n"
     ]
    },
    {
     "name": "stdout",
     "output_type": "stream",
     "text": [
      "1 / 30: Train Loss:\t0.9928\tVal Loss:\t1.5466\tAccuracy:\t0.4822\tF1:\t0.3212\n",
      "2 / 30: Train Loss:\t0.6064\tVal Loss:\t0.9496\tAccuracy:\t0.6834\tF1:\t0.5126\n",
      "3 / 30: Train Loss:\t0.3717\tVal Loss:\t0.8316\tAccuracy:\t0.7337\tF1:\t0.6815\n",
      "4 / 30: Train Loss:\t0.2601\tVal Loss:\t0.7995\tAccuracy:\t0.7485\tF1:\t0.7163\n",
      "5 / 30: Train Loss:\t0.1640\tVal Loss:\t0.8053\tAccuracy:\t0.7633\tF1:\t0.7146\n",
      "6 / 30: Train Loss:\t0.1059\tVal Loss:\t0.7337\tAccuracy:\t0.8018\tF1:\t0.7795\n",
      "7 / 30: Train Loss:\t0.0702\tVal Loss:\t0.8114\tAccuracy:\t0.7840\tF1:\t0.7649\n",
      "8 / 30: Train Loss:\t0.0484\tVal Loss:\t0.8334\tAccuracy:\t0.7959\tF1:\t0.7796\n",
      "9 / 30: Train Loss:\t0.0428\tVal Loss:\t0.9136\tAccuracy:\t0.7544\tF1:\t0.7357\n",
      "10 / 30: Train Loss:\t0.0259\tVal Loss:\t0.8173\tAccuracy:\t0.7929\tF1:\t0.7817\n",
      "11 / 30: Train Loss:\t0.0115\tVal Loss:\t0.8286\tAccuracy:\t0.7899\tF1:\t0.7743\n",
      "12 / 30: Train Loss:\t0.0130\tVal Loss:\t0.8835\tAccuracy:\t0.7899\tF1:\t0.7700\n",
      "13 / 30: Train Loss:\t0.0079\tVal Loss:\t0.9952\tAccuracy:\t0.7781\tF1:\t0.7776\n",
      "No improvement for 3 epochs. Stopping early.\n",
      "best (higgest macro f1-score) val results:\n",
      "                         precision    recall  f1-score   support\n",
      "\n",
      "             ad hominem       0.81      0.75      0.78        67\n",
      "               anecdote       0.93      0.88      0.90        43\n",
      "         cherry picking       0.84      0.82      0.83        56\n",
      "      conspiracy theory       0.78      0.92      0.85        39\n",
      "           fake experts       1.00      0.83      0.91        12\n",
      "           false choice       0.85      0.85      0.85        13\n",
      "      false equivalence       0.31      0.79      0.45        14\n",
      "impossible expectations       0.69      0.84      0.76        37\n",
      "           single cause       0.97      0.53      0.68        57\n",
      "\n",
      "               accuracy                           0.78       338\n",
      "              macro avg       0.80      0.80      0.78       338\n",
      "           weighted avg       0.83      0.78      0.78       338\n",
      "\n",
      "test results:\n",
      "                         precision    recall  f1-score   support\n",
      "\n",
      "             ad hominem       0.76      0.84      0.79        37\n",
      "               anecdote       0.88      0.88      0.88        24\n",
      "         cherry picking       0.79      0.71      0.75        31\n",
      "      conspiracy theory       0.79      0.68      0.73        22\n",
      "           fake experts       1.00      0.71      0.83         7\n",
      "           false choice       0.50      0.71      0.59         7\n",
      "      false equivalence       0.22      0.25      0.24         8\n",
      "impossible expectations       0.69      0.95      0.80        21\n",
      "           single cause       0.83      0.62      0.71        32\n",
      "\n",
      "               accuracy                           0.75       189\n",
      "              macro avg       0.72      0.71      0.70       189\n",
      "           weighted avg       0.76      0.75      0.75       189\n",
      "\n",
      "### ### ### ### ### ### ### ### ### ### \n",
      "{'acc': [0.746031746031746], 'f1': [0.7020544759103473], 'lr': [1e-05]}\n",
      "### ### ### ### ### ### ### ### ### ### \n"
     ]
    }
   ],
   "source": [
    "lr = 1.0e-5\n",
    "\n",
    "print(f'Grid search {model_checkpoint}, learning rate {lr}')\n",
    "data = ClimateDataset(model_to_train=3,model_checkpoint=model_checkpoint,batch_size=16)\n",
    "data.setup_dataloaders()\n",
    "model = ClassificationModel(model_checkpoint=data.model_checkpoint,num_labels=data.num_labels)\n",
    "trainer = Engine(epochs=30,labels=data.labels)\n",
    "trainer.model = model.model\n",
    "acc, f1 = trainer.run(lr=lr,\n",
    "                      wd=0.0,\n",
    "                      train_dataloader=data.train_dataloader,\n",
    "                      eval_dataloader=data.eval_dataloader,\n",
    "                      test_dataloader=data.test_dataloader,\n",
    "                      accumulation_steps=2,\n",
    "                      early_stop=3)\n",
    "results['acc'].append(acc)\n",
    "results['f1'].append(f1)\n",
    "results['lr'].append(lr)\n",
    "print('### '*10)\n",
    "print(results)\n",
    "print('### '*10)"
   ]
  },
  {
   "cell_type": "code",
   "execution_count": 4,
   "metadata": {},
   "outputs": [
    {
     "name": "stdout",
     "output_type": "stream",
     "text": [
      "Grid search roberta-large, learning rate 5e-05\n"
     ]
    },
    {
     "data": {
      "application/vnd.jupyter.widget-view+json": {
       "model_id": "bda802faab3e49d88d2a9c8a7b697326",
       "version_major": 2,
       "version_minor": 0
      },
      "text/plain": [
       "Map:   0%|          | 0/189 [00:00<?, ? examples/s]"
      ]
     },
     "metadata": {},
     "output_type": "display_data"
    },
    {
     "name": "stderr",
     "output_type": "stream",
     "text": [
      "Some weights of RobertaForSequenceClassification were not initialized from the model checkpoint at roberta-large and are newly initialized: ['classifier.dense.weight', 'classifier.out_proj.weight', 'classifier.dense.bias', 'classifier.out_proj.bias']\n",
      "You should probably TRAIN this model on a down-stream task to be able to use it for predictions and inference.\n",
      "You're using a RobertaTokenizerFast tokenizer. Please note that with a fast tokenizer, using the `__call__` method is faster than using a method to encode the text followed by a call to the `pad` method to get a padded encoding.\n"
     ]
    },
    {
     "name": "stdout",
     "output_type": "stream",
     "text": [
      "1 / 30: Train Loss:\t0.8276\tVal Loss:\t1.3190\tAccuracy:\t0.5799\tF1:\t0.4574\n",
      "2 / 30: Train Loss:\t0.4615\tVal Loss:\t0.8761\tAccuracy:\t0.7130\tF1:\t0.5935\n",
      "3 / 30: Train Loss:\t0.3019\tVal Loss:\t1.0222\tAccuracy:\t0.6716\tF1:\t0.6420\n",
      "4 / 30: Train Loss:\t0.2160\tVal Loss:\t0.8117\tAccuracy:\t0.7544\tF1:\t0.7198\n",
      "5 / 30: Train Loss:\t0.1450\tVal Loss:\t1.0174\tAccuracy:\t0.7041\tF1:\t0.6877\n",
      "6 / 30: Train Loss:\t0.1162\tVal Loss:\t1.1720\tAccuracy:\t0.7219\tF1:\t0.7041\n",
      "7 / 30: Train Loss:\t0.0788\tVal Loss:\t1.0364\tAccuracy:\t0.7692\tF1:\t0.7541\n",
      "8 / 30: Train Loss:\t0.0437\tVal Loss:\t1.0998\tAccuracy:\t0.7456\tF1:\t0.7354\n",
      "9 / 30: Train Loss:\t0.0212\tVal Loss:\t1.2958\tAccuracy:\t0.7219\tF1:\t0.6914\n",
      "10 / 30: Train Loss:\t0.0274\tVal Loss:\t1.4601\tAccuracy:\t0.7189\tF1:\t0.6856\n",
      "No improvement for 3 epochs. Stopping early.\n",
      "best (higgest macro f1-score) val results:\n",
      "                         precision    recall  f1-score   support\n",
      "\n",
      "             ad hominem       0.85      0.51      0.64        67\n",
      "               anecdote       0.94      0.77      0.85        43\n",
      "         cherry picking       0.64      0.84      0.72        56\n",
      "      conspiracy theory       0.59      0.97      0.74        39\n",
      "           fake experts       0.61      0.92      0.73        12\n",
      "           false choice       0.61      0.85      0.71        13\n",
      "      false equivalence       0.38      0.21      0.27        14\n",
      "impossible expectations       0.92      0.65      0.76        37\n",
      "           single cause       0.76      0.74      0.75        57\n",
      "\n",
      "               accuracy                           0.72       338\n",
      "              macro avg       0.70      0.72      0.69       338\n",
      "           weighted avg       0.75      0.72      0.71       338\n",
      "\n",
      "test results:\n",
      "                         precision    recall  f1-score   support\n",
      "\n",
      "             ad hominem       0.96      0.65      0.77        37\n",
      "               anecdote       0.90      0.75      0.82        24\n",
      "         cherry picking       0.68      0.84      0.75        31\n",
      "      conspiracy theory       0.61      1.00      0.76        22\n",
      "           fake experts       0.88      1.00      0.93         7\n",
      "           false choice       0.56      0.71      0.63         7\n",
      "      false equivalence       0.40      0.25      0.31         8\n",
      "impossible expectations       0.75      0.71      0.73        21\n",
      "           single cause       0.79      0.69      0.73        32\n",
      "\n",
      "               accuracy                           0.75       189\n",
      "              macro avg       0.72      0.73      0.72       189\n",
      "           weighted avg       0.77      0.75      0.74       189\n",
      "\n",
      "### ### ### ### ### ### ### ### ### ### \n",
      "{'acc': [0.746031746031746], 'f1': [0.715076170673559], 'lr': [5e-05]}\n",
      "### ### ### ### ### ### ### ### ### ### \n"
     ]
    }
   ],
   "source": [
    "lr = 5.0e-5\n",
    "\n",
    "print(f'Grid search {model_checkpoint}, learning rate {lr}')\n",
    "data = ClimateDataset(model_to_train=3,model_checkpoint=model_checkpoint,batch_size=16)\n",
    "data.setup_dataloaders()\n",
    "model = ClassificationModel(model_checkpoint=data.model_checkpoint,num_labels=data.num_labels)\n",
    "trainer = Engine(epochs=30,labels=data.labels)\n",
    "trainer.model = model.model\n",
    "acc, f1 = trainer.run(lr=lr,\n",
    "                      wd=0.0,\n",
    "                      train_dataloader=data.train_dataloader,\n",
    "                      eval_dataloader=data.eval_dataloader,\n",
    "                      test_dataloader=data.test_dataloader,\n",
    "                      accumulation_steps=2,\n",
    "                      early_stop=3)\n",
    "results['acc'].append(acc)\n",
    "results['f1'].append(f1)\n",
    "results['lr'].append(lr)\n",
    "print('### '*10)\n",
    "print(results)\n",
    "print('### '*10)"
   ]
  },
  {
   "cell_type": "code",
   "execution_count": 4,
   "metadata": {},
   "outputs": [
    {
     "name": "stdout",
     "output_type": "stream",
     "text": [
      "Grid search roberta-large, learning rate 0.0001\n"
     ]
    },
    {
     "data": {
      "application/vnd.jupyter.widget-view+json": {
       "model_id": "e47ebac5d81b47918306080361e2e13e",
       "version_major": 2,
       "version_minor": 0
      },
      "text/plain": [
       "Map:   0%|          | 0/338 [00:00<?, ? examples/s]"
      ]
     },
     "metadata": {},
     "output_type": "display_data"
    },
    {
     "name": "stderr",
     "output_type": "stream",
     "text": [
      "Some weights of RobertaForSequenceClassification were not initialized from the model checkpoint at roberta-large and are newly initialized: ['classifier.dense.weight', 'classifier.out_proj.bias', 'classifier.dense.bias', 'classifier.out_proj.weight']\n",
      "You should probably TRAIN this model on a down-stream task to be able to use it for predictions and inference.\n",
      "You're using a RobertaTokenizerFast tokenizer. Please note that with a fast tokenizer, using the `__call__` method is faster than using a method to encode the text followed by a call to the `pad` method to get a padded encoding.\n"
     ]
    },
    {
     "name": "stdout",
     "output_type": "stream",
     "text": [
      "1 / 30: Train Loss:\t1.0501\tVal Loss:\t2.0672\tAccuracy:\t0.1657\tF1:\t0.0316\n",
      "2 / 30: Train Loss:\t1.0391\tVal Loss:\t2.0528\tAccuracy:\t0.1982\tF1:\t0.0368\n",
      "3 / 30: Train Loss:\t1.0345\tVal Loss:\t2.0481\tAccuracy:\t0.1686\tF1:\t0.0321\n",
      "4 / 30: Train Loss:\t1.0328\tVal Loss:\t2.0459\tAccuracy:\t0.1982\tF1:\t0.0368\n",
      "5 / 30: Train Loss:\t1.0347\tVal Loss:\t2.0480\tAccuracy:\t0.1982\tF1:\t0.0368\n",
      "No improvement for 3 epochs. Stopping early.\n",
      "best (higgest macro f1-score) val results:\n",
      "                         precision    recall  f1-score   support\n",
      "\n",
      "             ad hominem       0.20      1.00      0.33        67\n",
      "               anecdote       0.00      0.00      0.00        43\n",
      "         cherry picking       0.00      0.00      0.00        56\n",
      "      conspiracy theory       0.00      0.00      0.00        39\n",
      "           fake experts       0.00      0.00      0.00        12\n",
      "           false choice       0.00      0.00      0.00        13\n",
      "      false equivalence       0.00      0.00      0.00        14\n",
      "impossible expectations       0.00      0.00      0.00        37\n",
      "           single cause       0.00      0.00      0.00        57\n",
      "\n",
      "               accuracy                           0.20       338\n",
      "              macro avg       0.02      0.11      0.04       338\n",
      "           weighted avg       0.04      0.20      0.07       338\n",
      "\n",
      "test results:\n",
      "                         precision    recall  f1-score   support\n",
      "\n",
      "             ad hominem       0.20      1.00      0.33        37\n",
      "               anecdote       0.00      0.00      0.00        24\n",
      "         cherry picking       0.00      0.00      0.00        31\n",
      "      conspiracy theory       0.00      0.00      0.00        22\n",
      "           fake experts       0.00      0.00      0.00         7\n",
      "           false choice       0.00      0.00      0.00         7\n",
      "      false equivalence       0.00      0.00      0.00         8\n",
      "impossible expectations       0.00      0.00      0.00        21\n",
      "           single cause       0.00      0.00      0.00        32\n",
      "\n",
      "               accuracy                           0.20       189\n",
      "              macro avg       0.02      0.11      0.04       189\n",
      "           weighted avg       0.04      0.20      0.06       189\n",
      "\n",
      "### ### ### ### ### ### ### ### ### ### \n",
      "{'acc': [0.19576719576719576], 'f1': [0.03638151425762045], 'lr': [0.0001]}\n",
      "### ### ### ### ### ### ### ### ### ### \n"
     ]
    }
   ],
   "source": [
    "lr = 1.0e-4\n",
    "\n",
    "print(f'Grid search {model_checkpoint}, learning rate {lr}')\n",
    "data = ClimateDataset(model_to_train=3,model_checkpoint=model_checkpoint,batch_size=16)\n",
    "data.setup_dataloaders()\n",
    "model = ClassificationModel(model_checkpoint=data.model_checkpoint,num_labels=data.num_labels)\n",
    "trainer = Engine(epochs=30,labels=data.labels)\n",
    "trainer.model = model.model\n",
    "acc, f1 = trainer.run(lr=lr,\n",
    "                      wd=0.0,\n",
    "                      train_dataloader=data.train_dataloader,\n",
    "                      eval_dataloader=data.eval_dataloader,\n",
    "                      test_dataloader=data.test_dataloader,\n",
    "                      accumulation_steps=2,\n",
    "                      early_stop=3)\n",
    "results['acc'].append(acc)\n",
    "results['f1'].append(f1)\n",
    "results['lr'].append(lr)\n",
    "print('### '*10)\n",
    "print(results)\n",
    "print('### '*10)"
   ]
  },
  {
   "cell_type": "code",
   "execution_count": 5,
   "metadata": {},
   "outputs": [],
   "source": [
    "from collections import defaultdict \n",
    "\n",
    "a = {'acc': [0.746031746031746], 'f1': [0.7020544759103473], 'lr': [1e-05]}\n",
    "b = {'acc': [0.746031746031746], 'f1': [0.715076170673559], 'lr': [5e-05]}\n",
    "c = {'acc': [0.19576719576719576], 'f1': [0.03638151425762045], 'lr': [0.0001]}\n",
    "\n",
    "results = defaultdict(list)\n",
    "for d in (a,b,c):\n",
    "    for k,v in d.items():\n",
    "        results[k].append(v[0])"
   ]
  },
  {
   "cell_type": "code",
   "execution_count": 6,
   "metadata": {},
   "outputs": [],
   "source": [
    "import matplotlib.pyplot as plt\n",
    "import seaborn as sns\n",
    "import pandas as pd"
   ]
  },
  {
   "cell_type": "code",
   "execution_count": 7,
   "metadata": {},
   "outputs": [
    {
     "data": {
      "image/png": "[encoded data removed]",
      "text/plain": [
       "<Figure size 640x480 with 1 Axes>"
      ]
     },
     "metadata": {},
     "output_type": "display_data"
    }
   ],
   "source": [
    "def plot_grid_search(df, title):\n",
    "\n",
    "    # Create the plot\n",
    "    ax = df.plot(x='lr', y=['acc', 'f1'], marker='o', linestyle='-')\n",
    "\n",
    "    # Set y-axis range between 0 and 1\n",
    "    plt.ylim(0, 1)\n",
    "\n",
    "    # Annotate points with F1 scores\n",
    "    for i, row in df.iterrows(): \n",
    "        ax.annotate(f'{row[\"f1\"]:.2f}', (row[\"lr\"], row[\"f1\"]), textcoords='offset points', xytext=(0, -10), ha='center')\n",
    "\n",
    "    # Annotate points with Acc scores\n",
    "    for i, row in df.iterrows():\n",
    "        ax.annotate(f'{row[\"acc\"]:.2f}', (row[\"lr\"], row[\"acc\"]), textcoords='offset points', xytext=(0, 10), ha='center')\n",
    "    \n",
    "    # \n",
    "    plt.xticks(df['lr'], [f'{val:.0e}' for val in df['lr']], ha='center')\n",
    "    # plt.xscale('log')\n",
    "    plt.minorticks_off()\n",
    "\n",
    "    plt.title(title)\n",
    "    plt.xlabel('lr')\n",
    "    plt.ylabel('Score')\n",
    "    plt.show()\n",
    "\n",
    "plot_grid_search(pd.DataFrame(results), f'Learning rates {model_checkpoint}')"
   ]
  },
  {
   "cell_type": "code",
   "execution_count": null,
   "metadata": {},
   "outputs": [],
   "source": []
  }
 ],
 "metadata": {
  "kernelspec": {
   "display_name": "Python 3",
   "language": "python",
   "name": "python3"
  },
  "language_info": {
   "codemirror_mode": {
    "name": "ipython",
    "version": 3
   },
   "file_extension": ".py",
   "mimetype": "text/x-python",
   "name": "python",
   "nbconvert_exporter": "python",
   "pygments_lexer": "ipython3",
   "version": "3.11.5"
  },
  "orig_nbformat": 4
 },
 "nbformat": 4,
 "nbformat_minor": 2
}
