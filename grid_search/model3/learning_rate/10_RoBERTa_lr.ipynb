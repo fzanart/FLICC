{
 "cells": [
  {
   "cell_type": "code",
   "execution_count": 1,
   "metadata": {},
   "outputs": [],
   "source": [
    "import os\n",
    "import sys\n",
    "import gc\n",
    "# assuming data, models, engine in flicc directory:\n",
    "flicc_path = os.path.realpath(\"__file__\").split('grid_search')[0]\n",
    "sys.path.append(flicc_path)\n",
    "import torch\n",
    "from data import ClimateDataset\n",
    "from models import ClassificationModel\n",
    "from engine import Engine"
   ]
  },
  {
   "cell_type": "code",
   "execution_count": 2,
   "metadata": {},
   "outputs": [],
   "source": [
    "model_checkpoint='roberta-large'"
   ]
  },
  {
   "cell_type": "code",
   "execution_count": 3,
   "metadata": {},
   "outputs": [],
   "source": [
    "results = {'test_acc':[],\n",
    "           'test_f1':[],\n",
    "           'eval_acc':[],\n",
    "           'eval_f1':[],\n",
    "           'lr':[]}"
   ]
  },
  {
   "cell_type": "code",
   "execution_count": 4,
   "metadata": {},
   "outputs": [
    {
     "name": "stdout",
     "output_type": "stream",
     "text": [
      "Grid search roberta-large, learning rate 1e-05\n"
     ]
    },
    {
     "data": {
      "application/vnd.jupyter.widget-view+json": {
       "model_id": "db8283b889114449ac73eb2ea7ebbc29",
       "version_major": 2,
       "version_minor": 0
      },
      "text/plain": [
       "Filter:   0%|          | 0/1796 [00:00<?, ? examples/s]"
      ]
     },
     "metadata": {},
     "output_type": "display_data"
    },
    {
     "data": {
      "application/vnd.jupyter.widget-view+json": {
       "model_id": "9937395ee94d4b9a9df00eb075147023",
       "version_major": 2,
       "version_minor": 0
      },
      "text/plain": [
       "Filter:   0%|          | 0/256 [00:00<?, ? examples/s]"
      ]
     },
     "metadata": {},
     "output_type": "display_data"
    },
    {
     "data": {
      "application/vnd.jupyter.widget-view+json": {
       "model_id": "1c8e93ec56d641069dc8a3942dae0841",
       "version_major": 2,
       "version_minor": 0
      },
      "text/plain": [
       "Filter:   0%|          | 0/457 [00:00<?, ? examples/s]"
      ]
     },
     "metadata": {},
     "output_type": "display_data"
    },
    {
     "data": {
      "application/vnd.jupyter.widget-view+json": {
       "model_id": "d48826bb6ec24f71a65b36b129db885e",
       "version_major": 2,
       "version_minor": 0
      },
      "text/plain": [
       "Map:   0%|          | 0/1324 [00:00<?, ? examples/s]"
      ]
     },
     "metadata": {},
     "output_type": "display_data"
    },
    {
     "data": {
      "application/vnd.jupyter.widget-view+json": {
       "model_id": "9259b6ecc4404479b2e345a760a14abb",
       "version_major": 2,
       "version_minor": 0
      },
      "text/plain": [
       "Map:   0%|          | 0/189 [00:00<?, ? examples/s]"
      ]
     },
     "metadata": {},
     "output_type": "display_data"
    },
    {
     "data": {
      "application/vnd.jupyter.widget-view+json": {
       "model_id": "ab29d0ac4f5c4f4682801668efe52e05",
       "version_major": 2,
       "version_minor": 0
      },
      "text/plain": [
       "Map:   0%|          | 0/338 [00:00<?, ? examples/s]"
      ]
     },
     "metadata": {},
     "output_type": "display_data"
    },
    {
     "name": "stderr",
     "output_type": "stream",
     "text": [
      "Some weights of RobertaForSequenceClassification were not initialized from the model checkpoint at roberta-large and are newly initialized: ['classifier.out_proj.weight', 'classifier.dense.weight', 'classifier.out_proj.bias', 'classifier.dense.bias']\n",
      "You should probably TRAIN this model on a down-stream task to be able to use it for predictions and inference.\n",
      "You're using a RobertaTokenizerFast tokenizer. Please note that with a fast tokenizer, using the `__call__` method is faster than using a method to encode the text followed by a call to the `pad` method to get a padded encoding.\n"
     ]
    },
    {
     "name": "stdout",
     "output_type": "stream",
     "text": [
      "1 / 30: Train Loss:\t0.9928\tVal Loss:\t1.5466\tAccuracy:\t0.4822\tF1:\t0.3212\n",
      "2 / 30: Train Loss:\t0.6064\tVal Loss:\t0.9496\tAccuracy:\t0.6834\tF1:\t0.5126\n",
      "3 / 30: Train Loss:\t0.3717\tVal Loss:\t0.8316\tAccuracy:\t0.7337\tF1:\t0.6815\n",
      "4 / 30: Train Loss:\t0.2601\tVal Loss:\t0.7995\tAccuracy:\t0.7485\tF1:\t0.7163\n",
      "5 / 30: Train Loss:\t0.1640\tVal Loss:\t0.8053\tAccuracy:\t0.7633\tF1:\t0.7146\n",
      "6 / 30: Train Loss:\t0.1059\tVal Loss:\t0.7337\tAccuracy:\t0.8018\tF1:\t0.7795\n",
      "7 / 30: Train Loss:\t0.0702\tVal Loss:\t0.8114\tAccuracy:\t0.7840\tF1:\t0.7649\n",
      "8 / 30: Train Loss:\t0.0484\tVal Loss:\t0.8334\tAccuracy:\t0.7959\tF1:\t0.7796\n",
      "9 / 30: Train Loss:\t0.0428\tVal Loss:\t0.9136\tAccuracy:\t0.7544\tF1:\t0.7357\n",
      "10 / 30: Train Loss:\t0.0259\tVal Loss:\t0.8173\tAccuracy:\t0.7929\tF1:\t0.7817\n",
      "11 / 30: Train Loss:\t0.0115\tVal Loss:\t0.8286\tAccuracy:\t0.7899\tF1:\t0.7743\n",
      "12 / 30: Train Loss:\t0.0130\tVal Loss:\t0.8835\tAccuracy:\t0.7899\tF1:\t0.7700\n",
      "13 / 30: Train Loss:\t0.0079\tVal Loss:\t0.9952\tAccuracy:\t0.7781\tF1:\t0.7776\n",
      "No improvement for 3 epochs. Stopping early.\n",
      "best (higgest macro f1-score) val results:\n",
      "                         precision    recall  f1-score   support\n",
      "\n",
      "             ad hominem       0.84      0.69      0.75        67\n",
      "               anecdote       0.93      0.86      0.89        43\n",
      "         cherry picking       0.79      0.82      0.81        56\n",
      "      conspiracy theory       0.73      0.92      0.82        39\n",
      "           fake experts       0.83      0.83      0.83        12\n",
      "           false choice       0.92      0.92      0.92        13\n",
      "      false equivalence       0.50      0.43      0.46        14\n",
      "impossible expectations       0.72      0.78      0.75        37\n",
      "           single cause       0.78      0.81      0.79        57\n",
      "\n",
      "               accuracy                           0.79       338\n",
      "              macro avg       0.78      0.79      0.78       338\n",
      "           weighted avg       0.80      0.79      0.79       338\n",
      "\n",
      "test results:\n",
      "                         precision    recall  f1-score   support\n",
      "\n",
      "             ad hominem       0.88      0.76      0.81        37\n",
      "               anecdote       0.91      0.88      0.89        24\n",
      "         cherry picking       0.75      0.68      0.71        31\n",
      "      conspiracy theory       0.74      0.91      0.82        22\n",
      "           fake experts       1.00      0.86      0.92         7\n",
      "           false choice       0.50      0.71      0.59         7\n",
      "      false equivalence       0.43      0.38      0.40         8\n",
      "impossible expectations       0.71      0.95      0.82        21\n",
      "           single cause       0.86      0.75      0.80        32\n",
      "\n",
      "               accuracy                           0.78       189\n",
      "              macro avg       0.75      0.76      0.75       189\n",
      "           weighted avg       0.79      0.78      0.78       189\n",
      "\n",
      "### ### ### ### ### ### ### ### ### ### \n",
      "{'test_acc': [0.783068783068783], 'test_f1': [0.7512267677082075], 'eval_acc': [0.7928994082840237], 'eval_f1': [0.7816847674698644], 'lr': [1e-05]}\n",
      "### ### ### ### ### ### ### ### ### ### \n",
      "Grid search roberta-large, learning rate 5e-05\n"
     ]
    },
    {
     "data": {
      "application/vnd.jupyter.widget-view+json": {
       "model_id": "66fde50b3210494eaa7ba142637ee55c",
       "version_major": 2,
       "version_minor": 0
      },
      "text/plain": [
       "Map:   0%|          | 0/189 [00:00<?, ? examples/s]"
      ]
     },
     "metadata": {},
     "output_type": "display_data"
    },
    {
     "name": "stderr",
     "output_type": "stream",
     "text": [
      "Some weights of RobertaForSequenceClassification were not initialized from the model checkpoint at roberta-large and are newly initialized: ['classifier.out_proj.weight', 'classifier.dense.weight', 'classifier.out_proj.bias', 'classifier.dense.bias']\n",
      "You should probably TRAIN this model on a down-stream task to be able to use it for predictions and inference.\n",
      "You're using a RobertaTokenizerFast tokenizer. Please note that with a fast tokenizer, using the `__call__` method is faster than using a method to encode the text followed by a call to the `pad` method to get a padded encoding.\n"
     ]
    },
    {
     "name": "stdout",
     "output_type": "stream",
     "text": [
      "1 / 30: Train Loss:\t0.8276\tVal Loss:\t1.3190\tAccuracy:\t0.5799\tF1:\t0.4574\n",
      "2 / 30: Train Loss:\t0.4615\tVal Loss:\t0.8761\tAccuracy:\t0.7130\tF1:\t0.5935\n",
      "3 / 30: Train Loss:\t0.3019\tVal Loss:\t1.0222\tAccuracy:\t0.6716\tF1:\t0.6420\n",
      "4 / 30: Train Loss:\t0.2160\tVal Loss:\t0.8117\tAccuracy:\t0.7544\tF1:\t0.7198\n",
      "5 / 30: Train Loss:\t0.1450\tVal Loss:\t1.0174\tAccuracy:\t0.7041\tF1:\t0.6877\n",
      "6 / 30: Train Loss:\t0.1162\tVal Loss:\t1.1720\tAccuracy:\t0.7219\tF1:\t0.7041\n",
      "7 / 30: Train Loss:\t0.0788\tVal Loss:\t1.0364\tAccuracy:\t0.7692\tF1:\t0.7541\n",
      "8 / 30: Train Loss:\t0.0437\tVal Loss:\t1.0998\tAccuracy:\t0.7456\tF1:\t0.7354\n",
      "9 / 30: Train Loss:\t0.0212\tVal Loss:\t1.2958\tAccuracy:\t0.7219\tF1:\t0.6914\n",
      "10 / 30: Train Loss:\t0.0274\tVal Loss:\t1.4601\tAccuracy:\t0.7189\tF1:\t0.6856\n",
      "No improvement for 3 epochs. Stopping early.\n",
      "best (higgest macro f1-score) val results:\n",
      "                         precision    recall  f1-score   support\n",
      "\n",
      "             ad hominem       0.76      0.81      0.78        67\n",
      "               anecdote       0.88      0.81      0.84        43\n",
      "         cherry picking       0.59      0.84      0.70        56\n",
      "      conspiracy theory       0.87      0.87      0.87        39\n",
      "           fake experts       0.69      0.92      0.79        12\n",
      "           false choice       1.00      0.77      0.87        13\n",
      "      false equivalence       0.80      0.29      0.42        14\n",
      "impossible expectations       0.89      0.68      0.77        37\n",
      "           single cause       0.80      0.70      0.75        57\n",
      "\n",
      "               accuracy                           0.77       338\n",
      "              macro avg       0.81      0.74      0.75       338\n",
      "           weighted avg       0.79      0.77      0.77       338\n",
      "\n",
      "test results:\n",
      "                         precision    recall  f1-score   support\n",
      "\n",
      "             ad hominem       0.68      0.92      0.78        37\n",
      "               anecdote       0.90      0.79      0.84        24\n",
      "         cherry picking       0.63      0.84      0.72        31\n",
      "      conspiracy theory       0.86      0.55      0.67        22\n",
      "           fake experts       0.86      0.86      0.86         7\n",
      "           false choice       0.71      0.71      0.71         7\n",
      "      false equivalence       0.67      0.25      0.36         8\n",
      "impossible expectations       0.85      0.81      0.83        21\n",
      "           single cause       0.85      0.69      0.76        32\n",
      "\n",
      "               accuracy                           0.76       189\n",
      "              macro avg       0.78      0.71      0.73       189\n",
      "           weighted avg       0.78      0.76      0.75       189\n",
      "\n",
      "### ### ### ### ### ### ### ### ### ### \n",
      "{'test_acc': [0.783068783068783, 0.7566137566137566], 'test_f1': [0.7512267677082075, 0.7264329384598519], 'eval_acc': [0.7928994082840237, 0.7692307692307693], 'eval_f1': [0.7816847674698644, 0.7541444236707134], 'lr': [1e-05, 5e-05]}\n",
      "### ### ### ### ### ### ### ### ### ### \n",
      "Grid search roberta-large, learning rate 0.0001\n"
     ]
    },
    {
     "data": {
      "application/vnd.jupyter.widget-view+json": {
       "model_id": "870d31e7daed40af889f9f2c2a14b7ef",
       "version_major": 2,
       "version_minor": 0
      },
      "text/plain": [
       "Map:   0%|          | 0/338 [00:00<?, ? examples/s]"
      ]
     },
     "metadata": {},
     "output_type": "display_data"
    },
    {
     "name": "stderr",
     "output_type": "stream",
     "text": [
      "Some weights of RobertaForSequenceClassification were not initialized from the model checkpoint at roberta-large and are newly initialized: ['classifier.out_proj.weight', 'classifier.dense.weight', 'classifier.out_proj.bias', 'classifier.dense.bias']\n",
      "You should probably TRAIN this model on a down-stream task to be able to use it for predictions and inference.\n",
      "You're using a RobertaTokenizerFast tokenizer. Please note that with a fast tokenizer, using the `__call__` method is faster than using a method to encode the text followed by a call to the `pad` method to get a padded encoding.\n"
     ]
    },
    {
     "name": "stdout",
     "output_type": "stream",
     "text": [
      "1 / 30: Train Loss:\t1.0501\tVal Loss:\t2.0672\tAccuracy:\t0.1657\tF1:\t0.0316\n",
      "2 / 30: Train Loss:\t1.0391\tVal Loss:\t2.0528\tAccuracy:\t0.1982\tF1:\t0.0368\n",
      "3 / 30: Train Loss:\t1.0345\tVal Loss:\t2.0481\tAccuracy:\t0.1686\tF1:\t0.0321\n",
      "4 / 30: Train Loss:\t1.0328\tVal Loss:\t2.0459\tAccuracy:\t0.1982\tF1:\t0.0368\n",
      "5 / 30: Train Loss:\t1.0347\tVal Loss:\t2.0480\tAccuracy:\t0.1982\tF1:\t0.0368\n",
      "No improvement for 3 epochs. Stopping early.\n",
      "best (higgest macro f1-score) val results:\n",
      "                         precision    recall  f1-score   support\n",
      "\n",
      "             ad hominem       0.20      1.00      0.33        67\n",
      "               anecdote       0.00      0.00      0.00        43\n",
      "         cherry picking       0.00      0.00      0.00        56\n",
      "      conspiracy theory       0.00      0.00      0.00        39\n",
      "           fake experts       0.00      0.00      0.00        12\n",
      "           false choice       0.00      0.00      0.00        13\n",
      "      false equivalence       0.00      0.00      0.00        14\n",
      "impossible expectations       0.00      0.00      0.00        37\n",
      "           single cause       0.00      0.00      0.00        57\n",
      "\n",
      "               accuracy                           0.20       338\n",
      "              macro avg       0.02      0.11      0.04       338\n",
      "           weighted avg       0.04      0.20      0.07       338\n",
      "\n",
      "test results:\n",
      "                         precision    recall  f1-score   support\n",
      "\n",
      "             ad hominem       0.20      1.00      0.33        37\n",
      "               anecdote       0.00      0.00      0.00        24\n",
      "         cherry picking       0.00      0.00      0.00        31\n",
      "      conspiracy theory       0.00      0.00      0.00        22\n",
      "           fake experts       0.00      0.00      0.00         7\n",
      "           false choice       0.00      0.00      0.00         7\n",
      "      false equivalence       0.00      0.00      0.00         8\n",
      "impossible expectations       0.00      0.00      0.00        21\n",
      "           single cause       0.00      0.00      0.00        32\n",
      "\n",
      "               accuracy                           0.20       189\n",
      "              macro avg       0.02      0.11      0.04       189\n",
      "           weighted avg       0.04      0.20      0.06       189\n",
      "\n",
      "### ### ### ### ### ### ### ### ### ### \n",
      "{'test_acc': [0.783068783068783, 0.7566137566137566, 0.19576719576719576], 'test_f1': [0.7512267677082075, 0.7264329384598519, 0.03638151425762045], 'eval_acc': [0.7928994082840237, 0.7692307692307693, 0.19822485207100593], 'eval_f1': [0.7816847674698644, 0.7541444236707134, 0.03676268861454047], 'lr': [1e-05, 5e-05, 0.0001]}\n",
      "### ### ### ### ### ### ### ### ### ### \n"
     ]
    }
   ],
   "source": [
    "learning_rates = [1.0e-5, 5.0e-5 ,1.0e-4]\n",
    "\n",
    "for lr in learning_rates:\n",
    "    print(f'Grid search {model_checkpoint}, learning rate {lr}')\n",
    "    data = ClimateDataset(model_to_train=3,model_checkpoint=model_checkpoint,dataset_url=flicc_path,batch_size=16)\n",
    "    data.setup_dataloaders()\n",
    "    model = ClassificationModel(model_checkpoint=data.model_checkpoint,num_labels=data.num_labels)\n",
    "    trainer = Engine(epochs=30,labels=data.labels)\n",
    "    trainer.model = model.model\n",
    "    test_acc, test_f1, eval_acc, eval_f1 = trainer.run(lr=lr,\n",
    "                                                       wd=0.0,\n",
    "                                                       train_dataloader=data.train_dataloader,\n",
    "                                                       eval_dataloader=data.eval_dataloader,\n",
    "                                                       test_dataloader=data.test_dataloader,\n",
    "                                                       accumulation_steps=2,\n",
    "                                                       early_stop=3)\n",
    "    results['test_acc'].append(test_acc)\n",
    "    results['test_f1'].append(test_f1)\n",
    "    results['eval_acc'].append(eval_acc)\n",
    "    results['eval_f1'].append(eval_f1)\n",
    "    results['lr'].append(lr)\n",
    "    print('### '*10)\n",
    "    print(results)\n",
    "    print('### '*10)\n",
    "    with torch.no_grad():\n",
    "        torch.cuda.empty_cache()\n",
    "    del data, model, trainer, test_acc, test_f1, eval_acc, eval_f1\n",
    "    gc.collect()"
   ]
  },
  {
   "cell_type": "code",
   "execution_count": 5,
   "metadata": {},
   "outputs": [
    {
     "data": {
      "image/png": "[encoded data removed]",
      "text/plain": [
       "<Figure size 640x480 with 1 Axes>"
      ]
     },
     "metadata": {},
     "output_type": "display_data"
    }
   ],
   "source": [
    "Engine.plot_grid_search(df=results,\n",
    "                        title=f'Learning rates {model_checkpoint}',\n",
    "                        column='lr',\n",
    "                        sci_format=True)"
   ]
  },
  {
   "cell_type": "code",
   "execution_count": 6,
   "metadata": {},
   "outputs": [],
   "source": [
    "%reset -f"
   ]
  },
  {
   "cell_type": "code",
   "execution_count": null,
   "metadata": {},
   "outputs": [],
   "source": []
  }
 ],
 "metadata": {
  "kernelspec": {
   "display_name": "Python 3",
   "language": "python",
   "name": "python3"
  },
  "language_info": {
   "codemirror_mode": {
    "name": "ipython",
    "version": 3
   },
   "file_extension": ".py",
   "mimetype": "text/x-python",
   "name": "python",
   "nbconvert_exporter": "python",
   "pygments_lexer": "ipython3",
   "version": "3.11.5"
  },
  "orig_nbformat": 4
 },
 "nbformat": 4,
 "nbformat_minor": 2
}
