{
 "cells": [
  {
   "cell_type": "code",
   "execution_count": 1,
   "metadata": {},
   "outputs": [],
   "source": [
    "import os\n",
    "import sys\n",
    "import gc\n",
    "# assuming data, models, engine in flicc directory:\n",
    "flicc_path = os.path.realpath(\"__file__\").split('grid_search')[0]\n",
    "sys.path.append(flicc_path)\n",
    "import torch\n",
    "from data import ClimateDataset\n",
    "from models import ClassificationModel\n",
    "from engine import Engine"
   ]
  },
  {
   "cell_type": "code",
   "execution_count": 2,
   "metadata": {},
   "outputs": [],
   "source": [
    "model_checkpoint='facebook/opt-350m'"
   ]
  },
  {
   "cell_type": "code",
   "execution_count": 3,
   "metadata": {},
   "outputs": [],
   "source": [
    "results = {'test_acc':[],\n",
    "           'test_f1':[],\n",
    "           'eval_acc':[],\n",
    "           'eval_f1':[],\n",
    "           'lr':[]}"
   ]
  },
  {
   "cell_type": "code",
   "execution_count": 4,
   "metadata": {},
   "outputs": [
    {
     "name": "stdout",
     "output_type": "stream",
     "text": [
      "Grid search facebook/opt-350m, learning rate 1e-05\n"
     ]
    },
    {
     "data": {
      "application/vnd.jupyter.widget-view+json": {
       "model_id": "b522530e5b4b46419eaff2bd2c5558de",
       "version_major": 2,
       "version_minor": 0
      },
      "text/plain": [
       "Filter:   0%|          | 0/1796 [00:00<?, ? examples/s]"
      ]
     },
     "metadata": {},
     "output_type": "display_data"
    },
    {
     "data": {
      "application/vnd.jupyter.widget-view+json": {
       "model_id": "4c275024ea7e4a96825990506ad462c7",
       "version_major": 2,
       "version_minor": 0
      },
      "text/plain": [
       "Filter:   0%|          | 0/256 [00:00<?, ? examples/s]"
      ]
     },
     "metadata": {},
     "output_type": "display_data"
    },
    {
     "data": {
      "application/vnd.jupyter.widget-view+json": {
       "model_id": "004e7f6be56342529a88c9decd8424ca",
       "version_major": 2,
       "version_minor": 0
      },
      "text/plain": [
       "Filter:   0%|          | 0/457 [00:00<?, ? examples/s]"
      ]
     },
     "metadata": {},
     "output_type": "display_data"
    },
    {
     "data": {
      "application/vnd.jupyter.widget-view+json": {
       "model_id": "6b4cf9aba2034b3ba3c98ba91a5e0991",
       "version_major": 2,
       "version_minor": 0
      },
      "text/plain": [
       "Map:   0%|          | 0/1324 [00:00<?, ? examples/s]"
      ]
     },
     "metadata": {},
     "output_type": "display_data"
    },
    {
     "name": "stderr",
     "output_type": "stream",
     "text": [
      "Asking to truncate to max_length but no maximum length is provided and the model has no predefined maximum length. Default to no truncation.\n"
     ]
    },
    {
     "data": {
      "application/vnd.jupyter.widget-view+json": {
       "model_id": "2c06ab0c82fd4faebd353bd01731096f",
       "version_major": 2,
       "version_minor": 0
      },
      "text/plain": [
       "Map:   0%|          | 0/189 [00:00<?, ? examples/s]"
      ]
     },
     "metadata": {},
     "output_type": "display_data"
    },
    {
     "data": {
      "application/vnd.jupyter.widget-view+json": {
       "model_id": "d4f16395ea2c4a53b405d33fcb029535",
       "version_major": 2,
       "version_minor": 0
      },
      "text/plain": [
       "Map:   0%|          | 0/338 [00:00<?, ? examples/s]"
      ]
     },
     "metadata": {},
     "output_type": "display_data"
    },
    {
     "name": "stderr",
     "output_type": "stream",
     "text": [
      "Some weights of OPTForSequenceClassification were not initialized from the model checkpoint at facebook/opt-350m and are newly initialized: ['score.weight']\n",
      "You should probably TRAIN this model on a down-stream task to be able to use it for predictions and inference.\n",
      "You're using a GPT2TokenizerFast tokenizer. Please note that with a fast tokenizer, using the `__call__` method is faster than using a method to encode the text followed by a call to the `pad` method to get a padded encoding.\n"
     ]
    },
    {
     "name": "stdout",
     "output_type": "stream",
     "text": [
      "1 / 30: Train Loss:\t2.1581\tVal Loss:\t1.5404\tAccuracy:\t0.4083\tF1:\t0.2968\n",
      "2 / 30: Train Loss:\t1.4811\tVal Loss:\t1.4191\tAccuracy:\t0.4852\tF1:\t0.3792\n",
      "3 / 30: Train Loss:\t1.3293\tVal Loss:\t1.3933\tAccuracy:\t0.5355\tF1:\t0.4047\n",
      "4 / 30: Train Loss:\t1.3964\tVal Loss:\t1.4806\tAccuracy:\t0.4763\tF1:\t0.3853\n",
      "5 / 30: Train Loss:\t1.4175\tVal Loss:\t1.9418\tAccuracy:\t0.2663\tF1:\t0.2028\n",
      "6 / 30: Train Loss:\t2.1633\tVal Loss:\t2.2519\tAccuracy:\t0.1331\tF1:\t0.0649\n",
      "No improvement for 3 epochs. Stopping early.\n",
      "best (higgest macro f1-score) val results:\n",
      "                         precision    recall  f1-score   support\n",
      "\n",
      "             ad hominem       0.67      0.49      0.57        67\n",
      "               anecdote       0.58      0.84      0.69        43\n",
      "         cherry picking       0.41      0.73      0.53        56\n",
      "      conspiracy theory       0.52      0.59      0.55        39\n",
      "           fake experts       0.00      0.00      0.00        12\n",
      "           false choice       0.67      0.15      0.25        13\n",
      "      false equivalence       0.00      0.00      0.00        14\n",
      "impossible expectations       0.44      0.65      0.53        37\n",
      "           single cause       0.85      0.39      0.53        57\n",
      "\n",
      "               accuracy                           0.54       338\n",
      "              macro avg       0.46      0.43      0.40       338\n",
      "           weighted avg       0.55      0.54      0.51       338\n",
      "\n",
      "test results:\n",
      "                         precision    recall  f1-score   support\n",
      "\n",
      "             ad hominem       0.74      0.54      0.62        37\n",
      "               anecdote       0.56      0.75      0.64        24\n",
      "         cherry picking       0.35      0.58      0.44        31\n",
      "      conspiracy theory       0.55      0.55      0.55        22\n",
      "           fake experts       0.00      0.00      0.00         7\n",
      "           false choice       0.00      0.00      0.00         7\n",
      "      false equivalence       0.00      0.00      0.00         8\n",
      "impossible expectations       0.43      0.86      0.57        21\n",
      "           single cause       0.73      0.34      0.47        32\n",
      "\n",
      "               accuracy                           0.51       189\n",
      "              macro avg       0.37      0.40      0.37       189\n",
      "           weighted avg       0.51      0.51      0.48       189\n",
      "\n",
      "### ### ### ### ### ### ### ### ### ### \n",
      "{'test_acc': [0.5132275132275133], 'test_f1': [0.36576108404079344], 'eval_acc': [0.5355029585798816], 'eval_f1': [0.40468118949631204], 'lr': [1e-05]}\n",
      "### ### ### ### ### ### ### ### ### ### \n",
      "Grid search facebook/opt-350m, learning rate 5e-05\n"
     ]
    },
    {
     "data": {
      "application/vnd.jupyter.widget-view+json": {
       "model_id": "0ea12b56628e49f6964b5dca34dcc756",
       "version_major": 2,
       "version_minor": 0
      },
      "text/plain": [
       "Map:   0%|          | 0/189 [00:00<?, ? examples/s]"
      ]
     },
     "metadata": {},
     "output_type": "display_data"
    },
    {
     "name": "stderr",
     "output_type": "stream",
     "text": [
      "Asking to truncate to max_length but no maximum length is provided and the model has no predefined maximum length. Default to no truncation.\n",
      "Some weights of OPTForSequenceClassification were not initialized from the model checkpoint at facebook/opt-350m and are newly initialized: ['score.weight']\n",
      "You should probably TRAIN this model on a down-stream task to be able to use it for predictions and inference.\n",
      "You're using a GPT2TokenizerFast tokenizer. Please note that with a fast tokenizer, using the `__call__` method is faster than using a method to encode the text followed by a call to the `pad` method to get a padded encoding.\n"
     ]
    },
    {
     "name": "stdout",
     "output_type": "stream",
     "text": [
      "1 / 30: Train Loss:\t2.0843\tVal Loss:\t1.2716\tAccuracy:\t0.6036\tF1:\t0.4909\n",
      "2 / 30: Train Loss:\t1.0822\tVal Loss:\t1.4764\tAccuracy:\t0.5000\tF1:\t0.4872\n",
      "3 / 30: Train Loss:\t2.1750\tVal Loss:\t2.1432\tAccuracy:\t0.1272\tF1:\t0.0251\n",
      "4 / 30: Train Loss:\t2.0994\tVal Loss:\t2.0782\tAccuracy:\t0.1657\tF1:\t0.0316\n",
      "No improvement for 3 epochs. Stopping early.\n",
      "best (higgest macro f1-score) val results:\n",
      "                         precision    recall  f1-score   support\n",
      "\n",
      "             ad hominem       0.67      0.60      0.63        67\n",
      "               anecdote       0.69      0.88      0.78        43\n",
      "         cherry picking       0.43      0.68      0.53        56\n",
      "      conspiracy theory       0.79      0.67      0.72        39\n",
      "           fake experts       0.00      0.00      0.00        12\n",
      "           false choice       0.58      0.54      0.56        13\n",
      "      false equivalence       0.00      0.00      0.00        14\n",
      "impossible expectations       0.76      0.51      0.61        37\n",
      "           single cause       0.55      0.63      0.59        57\n",
      "\n",
      "               accuracy                           0.60       338\n",
      "              macro avg       0.50      0.50      0.49       338\n",
      "           weighted avg       0.58      0.60      0.58       338\n",
      "\n",
      "test results:\n",
      "                         precision    recall  f1-score   support\n",
      "\n",
      "             ad hominem       0.69      0.65      0.67        37\n",
      "               anecdote       0.65      0.92      0.76        24\n",
      "         cherry picking       0.34      0.55      0.42        31\n",
      "      conspiracy theory       0.94      0.68      0.79        22\n",
      "           fake experts       0.00      0.00      0.00         7\n",
      "           false choice       0.00      0.00      0.00         7\n",
      "      false equivalence       0.00      0.00      0.00         8\n",
      "impossible expectations       0.86      0.57      0.69        21\n",
      "           single cause       0.50      0.56      0.53        32\n",
      "\n",
      "               accuracy                           0.57       189\n",
      "              macro avg       0.44      0.44      0.43       189\n",
      "           weighted avg       0.56      0.57      0.55       189\n",
      "\n",
      "### ### ### ### ### ### ### ### ### ### \n",
      "{'test_acc': [0.5132275132275133, 0.5714285714285714], 'test_f1': [0.36576108404079344, 0.42773779748580965], 'eval_acc': [0.5355029585798816, 0.6035502958579881], 'eval_f1': [0.40468118949631204, 0.4909442915729815], 'lr': [1e-05, 5e-05]}\n",
      "### ### ### ### ### ### ### ### ### ### \n",
      "Grid search facebook/opt-350m, learning rate 0.0001\n"
     ]
    },
    {
     "data": {
      "application/vnd.jupyter.widget-view+json": {
       "model_id": "2cf00b6925c641a4a4e96e0fc8c4ade4",
       "version_major": 2,
       "version_minor": 0
      },
      "text/plain": [
       "Map:   0%|          | 0/338 [00:00<?, ? examples/s]"
      ]
     },
     "metadata": {},
     "output_type": "display_data"
    },
    {
     "name": "stderr",
     "output_type": "stream",
     "text": [
      "Asking to truncate to max_length but no maximum length is provided and the model has no predefined maximum length. Default to no truncation.\n",
      "Some weights of OPTForSequenceClassification were not initialized from the model checkpoint at facebook/opt-350m and are newly initialized: ['score.weight']\n",
      "You should probably TRAIN this model on a down-stream task to be able to use it for predictions and inference.\n",
      "You're using a GPT2TokenizerFast tokenizer. Please note that with a fast tokenizer, using the `__call__` method is faster than using a method to encode the text followed by a call to the `pad` method to get a padded encoding.\n"
     ]
    },
    {
     "name": "stdout",
     "output_type": "stream",
     "text": [
      "1 / 30: Train Loss:\t3.3102\tVal Loss:\t2.1207\tAccuracy:\t0.1982\tF1:\t0.0368\n",
      "2 / 30: Train Loss:\t2.1242\tVal Loss:\t2.0666\tAccuracy:\t0.1982\tF1:\t0.0368\n",
      "3 / 30: Train Loss:\t2.0970\tVal Loss:\t2.0673\tAccuracy:\t0.1982\tF1:\t0.0368\n",
      "4 / 30: Train Loss:\t2.0953\tVal Loss:\t2.0639\tAccuracy:\t0.1982\tF1:\t0.0368\n",
      "No improvement for 3 epochs. Stopping early.\n",
      "best (higgest macro f1-score) val results:\n",
      "                         precision    recall  f1-score   support\n",
      "\n",
      "             ad hominem       0.20      1.00      0.33        67\n",
      "               anecdote       0.00      0.00      0.00        43\n",
      "         cherry picking       0.00      0.00      0.00        56\n",
      "      conspiracy theory       0.00      0.00      0.00        39\n",
      "           fake experts       0.00      0.00      0.00        12\n",
      "           false choice       0.00      0.00      0.00        13\n",
      "      false equivalence       0.00      0.00      0.00        14\n",
      "impossible expectations       0.00      0.00      0.00        37\n",
      "           single cause       0.00      0.00      0.00        57\n",
      "\n",
      "               accuracy                           0.20       338\n",
      "              macro avg       0.02      0.11      0.04       338\n",
      "           weighted avg       0.04      0.20      0.07       338\n",
      "\n",
      "test results:\n",
      "                         precision    recall  f1-score   support\n",
      "\n",
      "             ad hominem       0.20      1.00      0.33        37\n",
      "               anecdote       0.00      0.00      0.00        24\n",
      "         cherry picking       0.00      0.00      0.00        31\n",
      "      conspiracy theory       0.00      0.00      0.00        22\n",
      "           fake experts       0.00      0.00      0.00         7\n",
      "           false choice       0.00      0.00      0.00         7\n",
      "      false equivalence       0.00      0.00      0.00         8\n",
      "impossible expectations       0.00      0.00      0.00        21\n",
      "           single cause       0.00      0.00      0.00        32\n",
      "\n",
      "               accuracy                           0.20       189\n",
      "              macro avg       0.02      0.11      0.04       189\n",
      "           weighted avg       0.04      0.20      0.06       189\n",
      "\n",
      "### ### ### ### ### ### ### ### ### ### \n",
      "{'test_acc': [0.5132275132275133, 0.5714285714285714, 0.19576719576719576], 'test_f1': [0.36576108404079344, 0.42773779748580965, 0.03638151425762045], 'eval_acc': [0.5355029585798816, 0.6035502958579881, 0.19822485207100593], 'eval_f1': [0.40468118949631204, 0.4909442915729815, 0.03676268861454047], 'lr': [1e-05, 5e-05, 0.0001]}\n",
      "### ### ### ### ### ### ### ### ### ### \n"
     ]
    }
   ],
   "source": [
    "learning_rates = [1.0e-5, 5.0e-5 ,1.0e-4]\n",
    "\n",
    "for lr in learning_rates:\n",
    "    print(f'Grid search {model_checkpoint}, learning rate {lr}')\n",
    "    data = ClimateDataset(model_to_train=3,model_checkpoint=model_checkpoint,dataset_url=flicc_path,batch_size=32)\n",
    "    data.setup_dataloaders()\n",
    "    model = ClassificationModel(model_checkpoint=data.model_checkpoint,num_labels=data.num_labels)\n",
    "    trainer = Engine(epochs=30,labels=data.labels)\n",
    "    trainer.model = model.model\n",
    "    test_acc, test_f1, eval_acc, eval_f1 = trainer.run(lr=lr,\n",
    "                                                       wd=0.0,\n",
    "                                                       train_dataloader=data.train_dataloader,\n",
    "                                                       eval_dataloader=data.eval_dataloader,\n",
    "                                                       test_dataloader=data.test_dataloader,\n",
    "                                                       early_stop=3)\n",
    "    results['test_acc'].append(test_acc)\n",
    "    results['test_f1'].append(test_f1)\n",
    "    results['eval_acc'].append(eval_acc)\n",
    "    results['eval_f1'].append(eval_f1)\n",
    "    results['lr'].append(lr)\n",
    "    print('### '*10)\n",
    "    print(results)\n",
    "    print('### '*10)\n",
    "    with torch.no_grad():\n",
    "        torch.cuda.empty_cache()\n",
    "    del data, model, trainer, test_acc, test_f1, eval_acc, eval_f1\n",
    "    gc.collect()"
   ]
  },
  {
   "cell_type": "code",
   "execution_count": 5,
   "metadata": {},
   "outputs": [
    {
     "data": {
      "image/png": "[encoded data removed]",
      "text/plain": [
       "<Figure size 640x480 with 1 Axes>"
      ]
     },
     "metadata": {},
     "output_type": "display_data"
    }
   ],
   "source": [
    "Engine.plot_grid_search(df=results,\n",
    "                        title=f'Learning rates {model_checkpoint}',\n",
    "                        column='lr',\n",
    "                        sci_format=True)"
   ]
  },
  {
   "cell_type": "code",
   "execution_count": 6,
   "metadata": {},
   "outputs": [],
   "source": [
    "%reset -f"
   ]
  }
 ],
 "metadata": {
  "kernelspec": {
   "display_name": "Python 3",
   "language": "python",
   "name": "python3"
  },
  "language_info": {
   "codemirror_mode": {
    "name": "ipython",
    "version": 3
   },
   "file_extension": ".py",
   "mimetype": "text/x-python",
   "name": "python",
   "nbconvert_exporter": "python",
   "pygments_lexer": "ipython3",
   "version": "3.11.5"
  },
  "orig_nbformat": 4
 },
 "nbformat": 4,
 "nbformat_minor": 2
}
