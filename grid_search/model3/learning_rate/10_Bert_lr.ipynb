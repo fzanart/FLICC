{
 "cells": [
  {
   "cell_type": "code",
   "execution_count": 1,
   "metadata": {},
   "outputs": [],
   "source": [
    "import os\n",
    "import sys\n",
    "import gc\n",
    "# assuming data, models, engine in flicc directory:\n",
    "flicc_path = os.path.realpath(\"__file__\").split('grid_search')[0]\n",
    "sys.path.append(flicc_path)\n",
    "import torch\n",
    "from data import ClimateDataset\n",
    "from models import ClassificationModel\n",
    "from engine import Engine"
   ]
  },
  {
   "cell_type": "code",
   "execution_count": 2,
   "metadata": {},
   "outputs": [],
   "source": [
    "model_checkpoint='bert-base-uncased'"
   ]
  },
  {
   "cell_type": "code",
   "execution_count": 3,
   "metadata": {},
   "outputs": [],
   "source": [
    "results = {'test_acc':[],\n",
    "           'test_f1':[],\n",
    "           'eval_acc':[],\n",
    "           'eval_f1':[],\n",
    "           'lr':[]}"
   ]
  },
  {
   "cell_type": "code",
   "execution_count": 4,
   "metadata": {},
   "outputs": [
    {
     "name": "stdout",
     "output_type": "stream",
     "text": [
      "Grid search bert-base-uncased, learning rate 1e-05\n"
     ]
    },
    {
     "data": {
      "application/vnd.jupyter.widget-view+json": {
       "model_id": "705bcc3bdcef4537923e2e74eae7aa03",
       "version_major": 2,
       "version_minor": 0
      },
      "text/plain": [
       "Filter:   0%|          | 0/1796 [00:00<?, ? examples/s]"
      ]
     },
     "metadata": {},
     "output_type": "display_data"
    },
    {
     "data": {
      "application/vnd.jupyter.widget-view+json": {
       "model_id": "9f646c42af1c46608442d66403658ba5",
       "version_major": 2,
       "version_minor": 0
      },
      "text/plain": [
       "Filter:   0%|          | 0/256 [00:00<?, ? examples/s]"
      ]
     },
     "metadata": {},
     "output_type": "display_data"
    },
    {
     "data": {
      "application/vnd.jupyter.widget-view+json": {
       "model_id": "b05aee001b63418b80d63ac337d2d887",
       "version_major": 2,
       "version_minor": 0
      },
      "text/plain": [
       "Filter:   0%|          | 0/457 [00:00<?, ? examples/s]"
      ]
     },
     "metadata": {},
     "output_type": "display_data"
    },
    {
     "data": {
      "application/vnd.jupyter.widget-view+json": {
       "model_id": "ac01fe85f5114e01b72c595b73a0f007",
       "version_major": 2,
       "version_minor": 0
      },
      "text/plain": [
       "Map:   0%|          | 0/1324 [00:00<?, ? examples/s]"
      ]
     },
     "metadata": {},
     "output_type": "display_data"
    },
    {
     "data": {
      "application/vnd.jupyter.widget-view+json": {
       "model_id": "ff332ed764404a83b2509cf078151167",
       "version_major": 2,
       "version_minor": 0
      },
      "text/plain": [
       "Map:   0%|          | 0/189 [00:00<?, ? examples/s]"
      ]
     },
     "metadata": {},
     "output_type": "display_data"
    },
    {
     "data": {
      "application/vnd.jupyter.widget-view+json": {
       "model_id": "c0532ed70c874496a379361b80b005c6",
       "version_major": 2,
       "version_minor": 0
      },
      "text/plain": [
       "Map:   0%|          | 0/338 [00:00<?, ? examples/s]"
      ]
     },
     "metadata": {},
     "output_type": "display_data"
    },
    {
     "name": "stderr",
     "output_type": "stream",
     "text": [
      "Some weights of BertForSequenceClassification were not initialized from the model checkpoint at bert-base-uncased and are newly initialized: ['classifier.bias', 'classifier.weight']\n",
      "You should probably TRAIN this model on a down-stream task to be able to use it for predictions and inference.\n",
      "You're using a BertTokenizerFast tokenizer. Please note that with a fast tokenizer, using the `__call__` method is faster than using a method to encode the text followed by a call to the `pad` method to get a padded encoding.\n"
     ]
    },
    {
     "name": "stdout",
     "output_type": "stream",
     "text": [
      "1 / 30: Train Loss:\t2.0418\tVal Loss:\t1.8658\tAccuracy:\t0.3787\tF1:\t0.2013\n",
      "2 / 30: Train Loss:\t1.7028\tVal Loss:\t1.5788\tAccuracy:\t0.5266\tF1:\t0.3360\n",
      "3 / 30: Train Loss:\t1.4042\tVal Loss:\t1.3754\tAccuracy:\t0.5858\tF1:\t0.4043\n",
      "4 / 30: Train Loss:\t1.1530\tVal Loss:\t1.2350\tAccuracy:\t0.6420\tF1:\t0.4548\n",
      "5 / 30: Train Loss:\t0.9575\tVal Loss:\t1.1230\tAccuracy:\t0.6420\tF1:\t0.4729\n",
      "6 / 30: Train Loss:\t0.7730\tVal Loss:\t1.0313\tAccuracy:\t0.6538\tF1:\t0.4962\n",
      "7 / 30: Train Loss:\t0.6095\tVal Loss:\t0.9858\tAccuracy:\t0.6893\tF1:\t0.5956\n",
      "8 / 30: Train Loss:\t0.4919\tVal Loss:\t0.9740\tAccuracy:\t0.7101\tF1:\t0.6370\n",
      "9 / 30: Train Loss:\t0.3839\tVal Loss:\t0.9490\tAccuracy:\t0.6923\tF1:\t0.6384\n",
      "10 / 30: Train Loss:\t0.3080\tVal Loss:\t0.9654\tAccuracy:\t0.6953\tF1:\t0.6319\n",
      "11 / 30: Train Loss:\t0.2456\tVal Loss:\t0.9723\tAccuracy:\t0.6953\tF1:\t0.6605\n",
      "12 / 30: Train Loss:\t0.1939\tVal Loss:\t0.9852\tAccuracy:\t0.7071\tF1:\t0.6673\n",
      "13 / 30: Train Loss:\t0.1609\tVal Loss:\t1.0235\tAccuracy:\t0.6805\tF1:\t0.6364\n",
      "14 / 30: Train Loss:\t0.1462\tVal Loss:\t1.0936\tAccuracy:\t0.6893\tF1:\t0.6460\n",
      "15 / 30: Train Loss:\t0.1086\tVal Loss:\t0.9953\tAccuracy:\t0.7308\tF1:\t0.6947\n",
      "16 / 30: Train Loss:\t0.0947\tVal Loss:\t1.0441\tAccuracy:\t0.6982\tF1:\t0.6567\n",
      "17 / 30: Train Loss:\t0.0754\tVal Loss:\t1.0641\tAccuracy:\t0.6923\tF1:\t0.6525\n",
      "18 / 30: Train Loss:\t0.0648\tVal Loss:\t1.0246\tAccuracy:\t0.7189\tF1:\t0.6718\n",
      "No improvement for 3 epochs. Stopping early.\n",
      "best (higgest macro f1-score) val results:\n",
      "                         precision    recall  f1-score   support\n",
      "\n",
      "             ad hominem       0.74      0.78      0.76        67\n",
      "               anecdote       0.86      0.84      0.85        43\n",
      "         cherry picking       0.67      0.77      0.72        56\n",
      "      conspiracy theory       0.74      0.87      0.80        39\n",
      "           fake experts       0.73      0.67      0.70        12\n",
      "           false choice       0.78      0.54      0.64        13\n",
      "      false equivalence       0.80      0.29      0.42        14\n",
      "impossible expectations       0.88      0.59      0.71        37\n",
      "           single cause       0.62      0.72      0.67        57\n",
      "\n",
      "               accuracy                           0.73       338\n",
      "              macro avg       0.76      0.67      0.69       338\n",
      "           weighted avg       0.74      0.73      0.73       338\n",
      "\n",
      "test results:\n",
      "                         precision    recall  f1-score   support\n",
      "\n",
      "             ad hominem       0.76      0.78      0.77        37\n",
      "               anecdote       0.79      0.79      0.79        24\n",
      "         cherry picking       0.79      0.71      0.75        31\n",
      "      conspiracy theory       0.82      0.64      0.72        22\n",
      "           fake experts       0.83      0.71      0.77         7\n",
      "           false choice       0.33      0.43      0.38         7\n",
      "      false equivalence       0.33      0.25      0.29         8\n",
      "impossible expectations       0.67      0.86      0.75        21\n",
      "           single cause       0.68      0.72      0.70        32\n",
      "\n",
      "               accuracy                           0.71       189\n",
      "              macro avg       0.67      0.65      0.66       189\n",
      "           weighted avg       0.72      0.71      0.71       189\n",
      "\n",
      "### ### ### ### ### ### ### ### ### ### \n",
      "{'test_acc': [0.7142857142857143], 'test_f1': [0.656180686858653], 'eval_acc': [0.7307692307692307], 'eval_f1': [0.6946957895182725], 'lr': [1e-05]}\n",
      "### ### ### ### ### ### ### ### ### ### \n",
      "Grid search bert-base-uncased, learning rate 5e-05\n"
     ]
    },
    {
     "data": {
      "application/vnd.jupyter.widget-view+json": {
       "model_id": "4332117df6474d2292ea00b38f146e84",
       "version_major": 2,
       "version_minor": 0
      },
      "text/plain": [
       "Map:   0%|          | 0/189 [00:00<?, ? examples/s]"
      ]
     },
     "metadata": {},
     "output_type": "display_data"
    },
    {
     "name": "stderr",
     "output_type": "stream",
     "text": [
      "Some weights of BertForSequenceClassification were not initialized from the model checkpoint at bert-base-uncased and are newly initialized: ['classifier.bias', 'classifier.weight']\n",
      "You should probably TRAIN this model on a down-stream task to be able to use it for predictions and inference.\n",
      "You're using a BertTokenizerFast tokenizer. Please note that with a fast tokenizer, using the `__call__` method is faster than using a method to encode the text followed by a call to the `pad` method to get a padded encoding.\n"
     ]
    },
    {
     "name": "stdout",
     "output_type": "stream",
     "text": [
      "1 / 30: Train Loss:\t1.7426\tVal Loss:\t1.3530\tAccuracy:\t0.5947\tF1:\t0.4189\n",
      "2 / 30: Train Loss:\t1.0412\tVal Loss:\t1.0433\tAccuracy:\t0.6982\tF1:\t0.6189\n",
      "3 / 30: Train Loss:\t0.5305\tVal Loss:\t0.8617\tAccuracy:\t0.7426\tF1:\t0.7010\n",
      "4 / 30: Train Loss:\t0.2965\tVal Loss:\t0.9087\tAccuracy:\t0.7278\tF1:\t0.6761\n",
      "5 / 30: Train Loss:\t0.1680\tVal Loss:\t0.8925\tAccuracy:\t0.7515\tF1:\t0.7092\n",
      "6 / 30: Train Loss:\t0.0802\tVal Loss:\t1.0028\tAccuracy:\t0.6953\tF1:\t0.6521\n",
      "7 / 30: Train Loss:\t0.0435\tVal Loss:\t0.9973\tAccuracy:\t0.7396\tF1:\t0.6893\n",
      "8 / 30: Train Loss:\t0.0375\tVal Loss:\t1.0619\tAccuracy:\t0.7426\tF1:\t0.6973\n",
      "No improvement for 3 epochs. Stopping early.\n",
      "best (higgest macro f1-score) val results:\n",
      "                         precision    recall  f1-score   support\n",
      "\n",
      "             ad hominem       0.84      0.63      0.72        67\n",
      "               anecdote       0.95      0.84      0.89        43\n",
      "         cherry picking       0.67      0.88      0.76        56\n",
      "      conspiracy theory       0.74      0.90      0.81        39\n",
      "           fake experts       0.60      0.75      0.67        12\n",
      "           false choice       0.67      0.62      0.64        13\n",
      "      false equivalence       0.40      0.43      0.41        14\n",
      "impossible expectations       0.88      0.57      0.69        37\n",
      "           single cause       0.75      0.84      0.79        57\n",
      "\n",
      "               accuracy                           0.75       338\n",
      "              macro avg       0.72      0.72      0.71       338\n",
      "           weighted avg       0.77      0.75      0.75       338\n",
      "\n",
      "test results:\n",
      "                         precision    recall  f1-score   support\n",
      "\n",
      "             ad hominem       0.88      0.76      0.81        37\n",
      "               anecdote       0.83      0.83      0.83        24\n",
      "         cherry picking       0.69      0.71      0.70        31\n",
      "      conspiracy theory       0.79      0.86      0.83        22\n",
      "           fake experts       0.86      0.86      0.86         7\n",
      "           false choice       0.27      0.43      0.33         7\n",
      "      false equivalence       0.33      0.38      0.35         8\n",
      "impossible expectations       0.78      0.67      0.72        21\n",
      "           single cause       0.75      0.75      0.75        32\n",
      "\n",
      "               accuracy                           0.74       189\n",
      "              macro avg       0.69      0.69      0.69       189\n",
      "           weighted avg       0.75      0.74      0.74       189\n",
      "\n",
      "### ### ### ### ### ### ### ### ### ### \n",
      "{'test_acc': [0.7142857142857143, 0.7354497354497355], 'test_f1': [0.656180686858653, 0.6867548084513131], 'eval_acc': [0.7307692307692307, 0.7514792899408284], 'eval_f1': [0.6946957895182725, 0.7092059786356959], 'lr': [1e-05, 5e-05]}\n",
      "### ### ### ### ### ### ### ### ### ### \n",
      "Grid search bert-base-uncased, learning rate 0.0001\n"
     ]
    },
    {
     "data": {
      "application/vnd.jupyter.widget-view+json": {
       "model_id": "d11820f85c2a4ba390dac58e7216dbe2",
       "version_major": 2,
       "version_minor": 0
      },
      "text/plain": [
       "Map:   0%|          | 0/338 [00:00<?, ? examples/s]"
      ]
     },
     "metadata": {},
     "output_type": "display_data"
    },
    {
     "name": "stderr",
     "output_type": "stream",
     "text": [
      "Some weights of BertForSequenceClassification were not initialized from the model checkpoint at bert-base-uncased and are newly initialized: ['classifier.bias', 'classifier.weight']\n",
      "You should probably TRAIN this model on a down-stream task to be able to use it for predictions and inference.\n",
      "You're using a BertTokenizerFast tokenizer. Please note that with a fast tokenizer, using the `__call__` method is faster than using a method to encode the text followed by a call to the `pad` method to get a padded encoding.\n"
     ]
    },
    {
     "name": "stdout",
     "output_type": "stream",
     "text": [
      "1 / 30: Train Loss:\t1.5564\tVal Loss:\t1.2422\tAccuracy:\t0.5621\tF1:\t0.4126\n",
      "2 / 30: Train Loss:\t0.8211\tVal Loss:\t0.9866\tAccuracy:\t0.6657\tF1:\t0.5967\n",
      "3 / 30: Train Loss:\t0.3980\tVal Loss:\t0.9434\tAccuracy:\t0.7071\tF1:\t0.6279\n",
      "4 / 30: Train Loss:\t0.1684\tVal Loss:\t1.2273\tAccuracy:\t0.6302\tF1:\t0.6259\n",
      "5 / 30: Train Loss:\t0.1206\tVal Loss:\t1.1581\tAccuracy:\t0.7071\tF1:\t0.6693\n",
      "6 / 30: Train Loss:\t0.0642\tVal Loss:\t1.2235\tAccuracy:\t0.7041\tF1:\t0.6691\n",
      "7 / 30: Train Loss:\t0.0280\tVal Loss:\t1.3745\tAccuracy:\t0.6864\tF1:\t0.6604\n",
      "8 / 30: Train Loss:\t0.0438\tVal Loss:\t1.1567\tAccuracy:\t0.7337\tF1:\t0.6901\n",
      "9 / 30: Train Loss:\t0.0626\tVal Loss:\t1.3768\tAccuracy:\t0.7130\tF1:\t0.6638\n",
      "10 / 30: Train Loss:\t0.1038\tVal Loss:\t1.2909\tAccuracy:\t0.6686\tF1:\t0.6469\n",
      "11 / 30: Train Loss:\t0.1102\tVal Loss:\t1.3481\tAccuracy:\t0.7041\tF1:\t0.6640\n",
      "No improvement for 3 epochs. Stopping early.\n",
      "best (higgest macro f1-score) val results:\n",
      "                         precision    recall  f1-score   support\n",
      "\n",
      "             ad hominem       0.75      0.73      0.74        67\n",
      "               anecdote       0.83      0.88      0.85        43\n",
      "         cherry picking       0.65      0.75      0.69        56\n",
      "      conspiracy theory       0.83      0.77      0.80        39\n",
      "           fake experts       0.78      0.58      0.67        12\n",
      "           false choice       0.53      0.69      0.60        13\n",
      "      false equivalence       0.57      0.29      0.38        14\n",
      "impossible expectations       0.73      0.73      0.73        37\n",
      "           single cause       0.75      0.74      0.74        57\n",
      "\n",
      "               accuracy                           0.73       338\n",
      "              macro avg       0.71      0.68      0.69       338\n",
      "           weighted avg       0.74      0.73      0.73       338\n",
      "\n",
      "test results:\n",
      "                         precision    recall  f1-score   support\n",
      "\n",
      "             ad hominem       0.85      0.78      0.82        37\n",
      "               anecdote       0.77      0.96      0.85        24\n",
      "         cherry picking       0.73      0.61      0.67        31\n",
      "      conspiracy theory       0.81      0.59      0.68        22\n",
      "           fake experts       0.83      0.71      0.77         7\n",
      "           false choice       0.42      0.71      0.53         7\n",
      "      false equivalence       0.50      0.12      0.20         8\n",
      "impossible expectations       0.51      0.86      0.64        21\n",
      "           single cause       0.75      0.66      0.70        32\n",
      "\n",
      "               accuracy                           0.71       189\n",
      "              macro avg       0.69      0.67      0.65       189\n",
      "           weighted avg       0.73      0.71      0.70       189\n",
      "\n",
      "### ### ### ### ### ### ### ### ### ### \n",
      "{'test_acc': [0.7142857142857143, 0.7354497354497355, 0.708994708994709], 'test_f1': [0.656180686858653, 0.6867548084513131, 0.6508926838718454], 'eval_acc': [0.7307692307692307, 0.7514792899408284, 0.7337278106508875], 'eval_f1': [0.6946957895182725, 0.7092059786356959, 0.6901425902149053], 'lr': [1e-05, 5e-05, 0.0001]}\n",
      "### ### ### ### ### ### ### ### ### ### \n"
     ]
    }
   ],
   "source": [
    "learning_rates = [1.0e-5, 5.0e-5 ,1.0e-4]\n",
    "\n",
    "for lr in learning_rates:\n",
    "    print(f'Grid search {model_checkpoint}, learning rate {lr}')\n",
    "    data = ClimateDataset(model_to_train=3,model_checkpoint=model_checkpoint,dataset_url=flicc_path,batch_size=32)\n",
    "    data.setup_dataloaders()\n",
    "    model = ClassificationModel(model_checkpoint=data.model_checkpoint,num_labels=data.num_labels)\n",
    "    trainer = Engine(epochs=30,labels=data.labels)\n",
    "    trainer.model = model.model\n",
    "    test_acc, test_f1, eval_acc, eval_f1 = trainer.run(lr=lr,\n",
    "                                                       wd=0.0,\n",
    "                                                       train_dataloader=data.train_dataloader,\n",
    "                                                       eval_dataloader=data.eval_dataloader,\n",
    "                                                       test_dataloader=data.test_dataloader,\n",
    "                                                       early_stop=3)\n",
    "    results['test_acc'].append(test_acc)\n",
    "    results['test_f1'].append(test_f1)\n",
    "    results['eval_acc'].append(eval_acc)\n",
    "    results['eval_f1'].append(eval_f1)\n",
    "    results['lr'].append(lr)\n",
    "    print('### '*10)\n",
    "    print(results)\n",
    "    print('### '*10)\n",
    "    with torch.no_grad():\n",
    "        torch.cuda.empty_cache()\n",
    "    del data, model, trainer, test_acc, test_f1, eval_acc, eval_f1\n",
    "    gc.collect()"
   ]
  },
  {
   "cell_type": "code",
   "execution_count": 5,
   "metadata": {},
   "outputs": [
    {
     "data": {
      "image/png": "[encoded data removed]",
      "text/plain": [
       "<Figure size 640x480 with 1 Axes>"
      ]
     },
     "metadata": {},
     "output_type": "display_data"
    }
   ],
   "source": [
    "Engine.plot_grid_search(df=results,\n",
    "                        title=f'Learning rates {model_checkpoint}',\n",
    "                        column='lr',\n",
    "                        sci_format=True)"
   ]
  },
  {
   "cell_type": "code",
   "execution_count": 6,
   "metadata": {},
   "outputs": [],
   "source": [
    "%reset -f"
   ]
  }
 ],
 "metadata": {
  "kernelspec": {
   "display_name": "Python 3",
   "language": "python",
   "name": "python3"
  },
  "language_info": {
   "codemirror_mode": {
    "name": "ipython",
    "version": 3
   },
   "file_extension": ".py",
   "mimetype": "text/x-python",
   "name": "python",
   "nbconvert_exporter": "python",
   "pygments_lexer": "ipython3",
   "version": "3.11.5"
  },
  "orig_nbformat": 4
 },
 "nbformat": 4,
 "nbformat_minor": 2
}
