{
 "cells": [
  {
   "cell_type": "code",
   "execution_count": 1,
   "metadata": {},
   "outputs": [],
   "source": [
    "import torch\n",
    "from data import ClimateDataset\n",
    "from models import ClassificationModel\n",
    "from engine import Engine"
   ]
  },
  {
   "cell_type": "code",
   "execution_count": 2,
   "metadata": {},
   "outputs": [],
   "source": [
    "model_checkpoint='bert-base-uncased'"
   ]
  },
  {
   "cell_type": "code",
   "execution_count": 3,
   "metadata": {},
   "outputs": [],
   "source": [
    "results = {'acc':[],\n",
    "           'f1':[],\n",
    "           'lr':[]}"
   ]
  },
  {
   "cell_type": "code",
   "execution_count": 4,
   "metadata": {},
   "outputs": [
    {
     "name": "stdout",
     "output_type": "stream",
     "text": [
      "Grid search bert-base-uncased, learning rate 0.0001\n"
     ]
    },
    {
     "data": {
      "application/vnd.jupyter.widget-view+json": {
       "model_id": "a02b1cc559564126b538a6f6bca9db00",
       "version_major": 2,
       "version_minor": 0
      },
      "text/plain": [
       "Filter:   0%|          | 0/1796 [00:00<?, ? examples/s]"
      ]
     },
     "metadata": {},
     "output_type": "display_data"
    },
    {
     "data": {
      "application/vnd.jupyter.widget-view+json": {
       "model_id": "9442924da1644019bc29eae9250d22e0",
       "version_major": 2,
       "version_minor": 0
      },
      "text/plain": [
       "Filter:   0%|          | 0/256 [00:00<?, ? examples/s]"
      ]
     },
     "metadata": {},
     "output_type": "display_data"
    },
    {
     "data": {
      "application/vnd.jupyter.widget-view+json": {
       "model_id": "39e48c24162342deb72910bc1cf8ac41",
       "version_major": 2,
       "version_minor": 0
      },
      "text/plain": [
       "Filter:   0%|          | 0/457 [00:00<?, ? examples/s]"
      ]
     },
     "metadata": {},
     "output_type": "display_data"
    },
    {
     "data": {
      "application/vnd.jupyter.widget-view+json": {
       "model_id": "655e389de82f4509bcc5ee315aa43601",
       "version_major": 2,
       "version_minor": 0
      },
      "text/plain": [
       "Map:   0%|          | 0/1324 [00:00<?, ? examples/s]"
      ]
     },
     "metadata": {},
     "output_type": "display_data"
    },
    {
     "data": {
      "application/vnd.jupyter.widget-view+json": {
       "model_id": "e62900361f1b4679b369128f038846d1",
       "version_major": 2,
       "version_minor": 0
      },
      "text/plain": [
       "Map:   0%|          | 0/189 [00:00<?, ? examples/s]"
      ]
     },
     "metadata": {},
     "output_type": "display_data"
    },
    {
     "data": {
      "application/vnd.jupyter.widget-view+json": {
       "model_id": "4896d82e72484e3e811988eebda7536d",
       "version_major": 2,
       "version_minor": 0
      },
      "text/plain": [
       "Map:   0%|          | 0/338 [00:00<?, ? examples/s]"
      ]
     },
     "metadata": {},
     "output_type": "display_data"
    },
    {
     "name": "stderr",
     "output_type": "stream",
     "text": [
      "Some weights of BertForSequenceClassification were not initialized from the model checkpoint at bert-base-uncased and are newly initialized: ['classifier.bias', 'classifier.weight']\n",
      "You should probably TRAIN this model on a down-stream task to be able to use it for predictions and inference.\n",
      "You're using a BertTokenizerFast tokenizer. Please note that with a fast tokenizer, using the `__call__` method is faster than using a method to encode the text followed by a call to the `pad` method to get a padded encoding.\n"
     ]
    },
    {
     "name": "stdout",
     "output_type": "stream",
     "text": [
      "1 / 20: Train Loss:\t1.5564\tVal Loss:\t1.2422\tAccuracy:\t0.5621\tF1:\t0.4126\n",
      "2 / 20: Train Loss:\t0.8211\tVal Loss:\t0.9866\tAccuracy:\t0.6657\tF1:\t0.5967\n",
      "3 / 20: Train Loss:\t0.3980\tVal Loss:\t0.9434\tAccuracy:\t0.7071\tF1:\t0.6279\n",
      "4 / 20: Train Loss:\t0.1684\tVal Loss:\t1.2273\tAccuracy:\t0.6302\tF1:\t0.6259\n",
      "5 / 20: Train Loss:\t0.1206\tVal Loss:\t1.1581\tAccuracy:\t0.7071\tF1:\t0.6693\n",
      "6 / 20: Train Loss:\t0.0642\tVal Loss:\t1.2235\tAccuracy:\t0.7041\tF1:\t0.6691\n",
      "7 / 20: Train Loss:\t0.0280\tVal Loss:\t1.3745\tAccuracy:\t0.6864\tF1:\t0.6604\n",
      "8 / 20: Train Loss:\t0.0438\tVal Loss:\t1.1567\tAccuracy:\t0.7337\tF1:\t0.6901\n",
      "9 / 20: Train Loss:\t0.0626\tVal Loss:\t1.3768\tAccuracy:\t0.7130\tF1:\t0.6638\n",
      "10 / 20: Train Loss:\t0.1038\tVal Loss:\t1.2909\tAccuracy:\t0.6686\tF1:\t0.6469\n",
      "11 / 20: Train Loss:\t0.1102\tVal Loss:\t1.3481\tAccuracy:\t0.7041\tF1:\t0.6640\n",
      "No improvement for 3 epochs. Stopping early.\n",
      "best (higgest macro f1-score) val results:\n",
      "                         precision    recall  f1-score   support\n",
      "\n",
      "             ad hominem       0.63      0.85      0.72        67\n",
      "               anecdote       0.88      0.67      0.76        43\n",
      "         cherry picking       0.59      0.82      0.69        56\n",
      "      conspiracy theory       0.82      0.59      0.69        39\n",
      "           fake experts       0.78      0.58      0.67        12\n",
      "           false choice       1.00      0.62      0.76        13\n",
      "      false equivalence       0.50      0.14      0.22        14\n",
      "impossible expectations       0.76      0.76      0.76        37\n",
      "           single cause       0.76      0.67      0.71        57\n",
      "\n",
      "               accuracy                           0.70       338\n",
      "              macro avg       0.75      0.63      0.66       338\n",
      "           weighted avg       0.73      0.70      0.70       338\n",
      "\n",
      "test results:\n",
      "                         precision    recall  f1-score   support\n",
      "\n",
      "             ad hominem       0.57      0.81      0.67        37\n",
      "               anecdote       0.94      0.67      0.78        24\n",
      "         cherry picking       0.56      0.74      0.64        31\n",
      "      conspiracy theory       0.78      0.32      0.45        22\n",
      "           fake experts       1.00      0.43      0.60         7\n",
      "           false choice       0.80      0.57      0.67         7\n",
      "      false equivalence       0.75      0.38      0.50         8\n",
      "impossible expectations       0.58      0.71      0.64        21\n",
      "           single cause       0.74      0.72      0.73        32\n",
      "\n",
      "               accuracy                           0.66       189\n",
      "              macro avg       0.75      0.59      0.63       189\n",
      "           weighted avg       0.70      0.66      0.65       189\n",
      "\n",
      "### ### ### ### ### ### ### ### ### ### \n",
      "{'acc': [0.656084656084656], 'f1': [0.6303088369805815], 'lr': [0.0001]}\n",
      "### ### ### ### ### ### ### ### ### ### \n",
      "Grid search bert-base-uncased, learning rate 5e-05\n"
     ]
    },
    {
     "data": {
      "application/vnd.jupyter.widget-view+json": {
       "model_id": "217736150d23434c9ee2f912786c59fc",
       "version_major": 2,
       "version_minor": 0
      },
      "text/plain": [
       "Map:   0%|          | 0/189 [00:00<?, ? examples/s]"
      ]
     },
     "metadata": {},
     "output_type": "display_data"
    },
    {
     "name": "stderr",
     "output_type": "stream",
     "text": [
      "Some weights of BertForSequenceClassification were not initialized from the model checkpoint at bert-base-uncased and are newly initialized: ['classifier.bias', 'classifier.weight']\n",
      "You should probably TRAIN this model on a down-stream task to be able to use it for predictions and inference.\n",
      "You're using a BertTokenizerFast tokenizer. Please note that with a fast tokenizer, using the `__call__` method is faster than using a method to encode the text followed by a call to the `pad` method to get a padded encoding.\n"
     ]
    },
    {
     "name": "stdout",
     "output_type": "stream",
     "text": [
      "1 / 20: Train Loss:\t1.7426\tVal Loss:\t1.3530\tAccuracy:\t0.5947\tF1:\t0.4189\n",
      "2 / 20: Train Loss:\t1.0412\tVal Loss:\t1.0433\tAccuracy:\t0.6982\tF1:\t0.6189\n",
      "3 / 20: Train Loss:\t0.5305\tVal Loss:\t0.8617\tAccuracy:\t0.7426\tF1:\t0.7010\n",
      "4 / 20: Train Loss:\t0.2965\tVal Loss:\t0.9087\tAccuracy:\t0.7278\tF1:\t0.6761\n",
      "5 / 20: Train Loss:\t0.1680\tVal Loss:\t0.8925\tAccuracy:\t0.7515\tF1:\t0.7092\n",
      "6 / 20: Train Loss:\t0.0802\tVal Loss:\t1.0028\tAccuracy:\t0.6953\tF1:\t0.6521\n",
      "7 / 20: Train Loss:\t0.0435\tVal Loss:\t0.9973\tAccuracy:\t0.7396\tF1:\t0.6893\n",
      "8 / 20: Train Loss:\t0.0375\tVal Loss:\t1.0619\tAccuracy:\t0.7426\tF1:\t0.6973\n",
      "No improvement for 3 epochs. Stopping early.\n",
      "best (higgest macro f1-score) val results:\n",
      "                         precision    recall  f1-score   support\n",
      "\n",
      "             ad hominem       0.76      0.81      0.78        67\n",
      "               anecdote       0.89      0.79      0.84        43\n",
      "         cherry picking       0.60      0.86      0.71        56\n",
      "      conspiracy theory       0.85      0.85      0.85        39\n",
      "           fake experts       0.64      0.75      0.69        12\n",
      "           false choice       0.57      0.62      0.59        13\n",
      "      false equivalence       0.50      0.29      0.36        14\n",
      "impossible expectations       0.83      0.65      0.73        37\n",
      "           single cause       0.82      0.65      0.73        57\n",
      "\n",
      "               accuracy                           0.74       338\n",
      "              macro avg       0.72      0.69      0.70       338\n",
      "           weighted avg       0.76      0.74      0.74       338\n",
      "\n",
      "test results:\n",
      "                         precision    recall  f1-score   support\n",
      "\n",
      "             ad hominem       0.73      0.86      0.79        37\n",
      "               anecdote       0.83      0.83      0.83        24\n",
      "         cherry picking       0.67      0.77      0.72        31\n",
      "      conspiracy theory       0.93      0.59      0.72        22\n",
      "           fake experts       0.83      0.71      0.77         7\n",
      "           false choice       0.36      0.57      0.44         7\n",
      "      false equivalence       0.33      0.25      0.29         8\n",
      "impossible expectations       0.74      0.81      0.77        21\n",
      "           single cause       0.80      0.62      0.70        32\n",
      "\n",
      "               accuracy                           0.72       189\n",
      "              macro avg       0.69      0.67      0.67       189\n",
      "           weighted avg       0.74      0.72      0.72       189\n",
      "\n",
      "### ### ### ### ### ### ### ### ### ### \n",
      "{'acc': [0.656084656084656, 0.7248677248677249], 'f1': [0.6303088369805815, 0.6706631200972359], 'lr': [0.0001, 5e-05]}\n",
      "### ### ### ### ### ### ### ### ### ### \n",
      "Grid search bert-base-uncased, learning rate 1e-05\n"
     ]
    },
    {
     "data": {
      "application/vnd.jupyter.widget-view+json": {
       "model_id": "2a779555e90540eda8bddcf023a02429",
       "version_major": 2,
       "version_minor": 0
      },
      "text/plain": [
       "Map:   0%|          | 0/338 [00:00<?, ? examples/s]"
      ]
     },
     "metadata": {},
     "output_type": "display_data"
    },
    {
     "name": "stderr",
     "output_type": "stream",
     "text": [
      "Some weights of BertForSequenceClassification were not initialized from the model checkpoint at bert-base-uncased and are newly initialized: ['classifier.bias', 'classifier.weight']\n",
      "You should probably TRAIN this model on a down-stream task to be able to use it for predictions and inference.\n",
      "You're using a BertTokenizerFast tokenizer. Please note that with a fast tokenizer, using the `__call__` method is faster than using a method to encode the text followed by a call to the `pad` method to get a padded encoding.\n"
     ]
    },
    {
     "name": "stdout",
     "output_type": "stream",
     "text": [
      "1 / 20: Train Loss:\t2.0418\tVal Loss:\t1.8658\tAccuracy:\t0.3787\tF1:\t0.2013\n",
      "2 / 20: Train Loss:\t1.7028\tVal Loss:\t1.5788\tAccuracy:\t0.5266\tF1:\t0.3360\n",
      "3 / 20: Train Loss:\t1.4042\tVal Loss:\t1.3754\tAccuracy:\t0.5858\tF1:\t0.4043\n",
      "4 / 20: Train Loss:\t1.1530\tVal Loss:\t1.2350\tAccuracy:\t0.6420\tF1:\t0.4548\n",
      "5 / 20: Train Loss:\t0.9575\tVal Loss:\t1.1230\tAccuracy:\t0.6420\tF1:\t0.4729\n",
      "6 / 20: Train Loss:\t0.7730\tVal Loss:\t1.0313\tAccuracy:\t0.6538\tF1:\t0.4962\n",
      "7 / 20: Train Loss:\t0.6095\tVal Loss:\t0.9858\tAccuracy:\t0.6893\tF1:\t0.5956\n",
      "8 / 20: Train Loss:\t0.4919\tVal Loss:\t0.9740\tAccuracy:\t0.7101\tF1:\t0.6370\n",
      "9 / 20: Train Loss:\t0.3839\tVal Loss:\t0.9490\tAccuracy:\t0.6923\tF1:\t0.6384\n",
      "10 / 20: Train Loss:\t0.3080\tVal Loss:\t0.9654\tAccuracy:\t0.6953\tF1:\t0.6319\n",
      "11 / 20: Train Loss:\t0.2456\tVal Loss:\t0.9723\tAccuracy:\t0.6953\tF1:\t0.6605\n",
      "12 / 20: Train Loss:\t0.1939\tVal Loss:\t0.9852\tAccuracy:\t0.7071\tF1:\t0.6673\n",
      "13 / 20: Train Loss:\t0.1609\tVal Loss:\t1.0235\tAccuracy:\t0.6805\tF1:\t0.6364\n",
      "14 / 20: Train Loss:\t0.1462\tVal Loss:\t1.0936\tAccuracy:\t0.6893\tF1:\t0.6460\n",
      "15 / 20: Train Loss:\t0.1086\tVal Loss:\t0.9953\tAccuracy:\t0.7308\tF1:\t0.6947\n",
      "16 / 20: Train Loss:\t0.0947\tVal Loss:\t1.0441\tAccuracy:\t0.6982\tF1:\t0.6567\n",
      "17 / 20: Train Loss:\t0.0754\tVal Loss:\t1.0641\tAccuracy:\t0.6923\tF1:\t0.6525\n",
      "18 / 20: Train Loss:\t0.0648\tVal Loss:\t1.0246\tAccuracy:\t0.7189\tF1:\t0.6718\n",
      "No improvement for 3 epochs. Stopping early.\n",
      "best (higgest macro f1-score) val results:\n",
      "                         precision    recall  f1-score   support\n",
      "\n",
      "             ad hominem       0.69      0.87      0.77        67\n",
      "               anecdote       0.89      0.77      0.82        43\n",
      "         cherry picking       0.61      0.79      0.69        56\n",
      "      conspiracy theory       0.76      0.87      0.81        39\n",
      "           fake experts       0.89      0.67      0.76        12\n",
      "           false choice       0.58      0.54      0.56        13\n",
      "      false equivalence       0.38      0.21      0.27        14\n",
      "impossible expectations       0.88      0.57      0.69        37\n",
      "           single cause       0.74      0.61      0.67        57\n",
      "\n",
      "               accuracy                           0.72       338\n",
      "              macro avg       0.71      0.65      0.67       338\n",
      "           weighted avg       0.73      0.72      0.71       338\n",
      "\n",
      "test results:\n",
      "                         precision    recall  f1-score   support\n",
      "\n",
      "             ad hominem       0.76      0.78      0.77        37\n",
      "               anecdote       0.83      0.83      0.83        24\n",
      "         cherry picking       0.74      0.74      0.74        31\n",
      "      conspiracy theory       0.78      0.64      0.70        22\n",
      "           fake experts       0.71      0.71      0.71         7\n",
      "           false choice       0.30      0.43      0.35         7\n",
      "      false equivalence       0.50      0.50      0.50         8\n",
      "impossible expectations       0.68      0.81      0.74        21\n",
      "           single cause       0.75      0.66      0.70        32\n",
      "\n",
      "               accuracy                           0.72       189\n",
      "              macro avg       0.67      0.68      0.67       189\n",
      "           weighted avg       0.73      0.72      0.72       189\n",
      "\n",
      "### ### ### ### ### ### ### ### ### ### \n",
      "{'acc': [0.656084656084656, 0.7248677248677249, 0.7195767195767195], 'f1': [0.6303088369805815, 0.6706631200972359, 0.6727732751196163], 'lr': [0.0001, 5e-05, 1e-05]}\n",
      "### ### ### ### ### ### ### ### ### ### \n"
     ]
    }
   ],
   "source": [
    "learning_rates = [1.0e-4, 5.0e-5, 1.0e-5]\n",
    "for lr in learning_rates:\n",
    "    print(f'Grid search {model_checkpoint}, learning rate {lr}')\n",
    "    data = ClimateDataset(model_to_train=3,model_checkpoint=model_checkpoint,batch_size=32)\n",
    "    data.setup_dataloaders()\n",
    "    model = ClassificationModel(model_checkpoint=data.model_checkpoint,num_labels=data.num_labels)\n",
    "    trainer = Engine(epochs=20,labels=data.labels)\n",
    "    trainer.model = model.model\n",
    "    trainer.device = model.device\n",
    "    acc, f1 = trainer.run(lr=lr,wd=0.0,train_dataloader=data.train_dataloader,eval_dataloader=data.eval_dataloader,test_dataloader=data.test_dataloader, early_stop=3)\n",
    "    results['acc'].append(acc)\n",
    "    results['f1'].append(f1)\n",
    "    results['lr'].append(lr)\n",
    "    print('### '*10)\n",
    "    print(results)\n",
    "    print('### '*10)\n",
    "    with torch.no_grad():\n",
    "        torch.cuda.empty_cache()\n",
    "    del data, model, trainer, acc, f1"
   ]
  },
  {
   "cell_type": "code",
   "execution_count": 5,
   "metadata": {},
   "outputs": [],
   "source": [
    "import matplotlib.pyplot as plt\n",
    "import seaborn as sns\n",
    "import pandas as pd"
   ]
  },
  {
   "cell_type": "code",
   "execution_count": 7,
   "metadata": {},
   "outputs": [
    {
     "data": {
      "image/png": "[encoded data removed]",
      "text/plain": [
       "<Figure size 640x480 with 1 Axes>"
      ]
     },
     "metadata": {},
     "output_type": "display_data"
    }
   ],
   "source": [
    "def plot_grid_search(df, title):\n",
    "\n",
    "    # Create the plot\n",
    "    ax = df.plot(x='lr', y=['acc', 'f1'], marker='o', linestyle='-')\n",
    "\n",
    "    # Set y-axis range between 0 and 1\n",
    "    plt.ylim(0, 1)\n",
    "\n",
    "    # Annotate points with F1 scores\n",
    "    for i, row in df.iterrows(): \n",
    "        ax.annotate(f'{row[\"f1\"]:.2f}', (row[\"lr\"], row[\"f1\"]), textcoords='offset points', xytext=(0, -10), ha='center')\n",
    "\n",
    "    # Annotate points with Acc scores\n",
    "    for i, row in df.iterrows():\n",
    "        ax.annotate(f'{row[\"acc\"]:.2f}', (row[\"lr\"], row[\"acc\"]), textcoords='offset points', xytext=(0, 10), ha='center')\n",
    "    \n",
    "    # \n",
    "    plt.xticks(df['lr'], [f'{val:.0e}' for val in df['lr']], ha='center')\n",
    "    # plt.xscale('log')\n",
    "    plt.minorticks_off()\n",
    "\n",
    "    plt.title(title)\n",
    "    plt.xlabel('lr')\n",
    "    plt.ylabel('Score')\n",
    "    plt.show()\n",
    "\n",
    "plot_grid_search(pd.DataFrame(results), f'Learning rates {model_checkpoint}')"
   ]
  }
 ],
 "metadata": {
  "kernelspec": {
   "display_name": "Python 3",
   "language": "python",
   "name": "python3"
  },
  "language_info": {
   "codemirror_mode": {
    "name": "ipython",
    "version": 3
   },
   "file_extension": ".py",
   "mimetype": "text/x-python",
   "name": "python",
   "nbconvert_exporter": "python",
   "pygments_lexer": "ipython3",
   "version": "3.11.5"
  },
  "orig_nbformat": 4
 },
 "nbformat": 4,
 "nbformat_minor": 2
}
