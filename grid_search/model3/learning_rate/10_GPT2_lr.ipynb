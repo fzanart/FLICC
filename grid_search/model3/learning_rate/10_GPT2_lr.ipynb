{
 "cells": [
  {
   "cell_type": "code",
   "execution_count": 1,
   "metadata": {},
   "outputs": [],
   "source": [
    "import os\n",
    "import sys\n",
    "import gc\n",
    "# assuming data, models, engine in flicc directory:\n",
    "flicc_path = os.path.realpath(\"__file__\").split('grid_search')[0]\n",
    "sys.path.append(flicc_path)\n",
    "import torch\n",
    "from data import ClimateDataset\n",
    "from models import ClassificationModel\n",
    "from engine import Engine"
   ]
  },
  {
   "cell_type": "code",
   "execution_count": 2,
   "metadata": {},
   "outputs": [],
   "source": [
    "model_checkpoint='gpt2'"
   ]
  },
  {
   "cell_type": "code",
   "execution_count": 3,
   "metadata": {},
   "outputs": [],
   "source": [
    "results = {'test_acc':[],\n",
    "           'test_f1':[],\n",
    "           'eval_acc':[],\n",
    "           'eval_f1':[],\n",
    "           'lr':[]}"
   ]
  },
  {
   "cell_type": "code",
   "execution_count": 4,
   "metadata": {},
   "outputs": [
    {
     "name": "stdout",
     "output_type": "stream",
     "text": [
      "Grid search gpt2, learning rate 1e-05\n"
     ]
    },
    {
     "data": {
      "application/vnd.jupyter.widget-view+json": {
       "model_id": "672ee9766e1849c999fd9e757c264937",
       "version_major": 2,
       "version_minor": 0
      },
      "text/plain": [
       "Filter:   0%|          | 0/1796 [00:00<?, ? examples/s]"
      ]
     },
     "metadata": {},
     "output_type": "display_data"
    },
    {
     "data": {
      "application/vnd.jupyter.widget-view+json": {
       "model_id": "12f66d8aabba4a1dabe713810abff0ae",
       "version_major": 2,
       "version_minor": 0
      },
      "text/plain": [
       "Filter:   0%|          | 0/256 [00:00<?, ? examples/s]"
      ]
     },
     "metadata": {},
     "output_type": "display_data"
    },
    {
     "data": {
      "application/vnd.jupyter.widget-view+json": {
       "model_id": "8d5c8c63b90043d98ec5c18b213f5b25",
       "version_major": 2,
       "version_minor": 0
      },
      "text/plain": [
       "Filter:   0%|          | 0/457 [00:00<?, ? examples/s]"
      ]
     },
     "metadata": {},
     "output_type": "display_data"
    },
    {
     "data": {
      "application/vnd.jupyter.widget-view+json": {
       "model_id": "849039d74af84a23b7456de27665dbb2",
       "version_major": 2,
       "version_minor": 0
      },
      "text/plain": [
       "Map:   0%|          | 0/1324 [00:00<?, ? examples/s]"
      ]
     },
     "metadata": {},
     "output_type": "display_data"
    },
    {
     "data": {
      "application/vnd.jupyter.widget-view+json": {
       "model_id": "08d131fdf4214179bc109e1c20fcf2e5",
       "version_major": 2,
       "version_minor": 0
      },
      "text/plain": [
       "Map:   0%|          | 0/189 [00:00<?, ? examples/s]"
      ]
     },
     "metadata": {},
     "output_type": "display_data"
    },
    {
     "data": {
      "application/vnd.jupyter.widget-view+json": {
       "model_id": "f45ae9f5c67d44f098088379b660a7c3",
       "version_major": 2,
       "version_minor": 0
      },
      "text/plain": [
       "Map:   0%|          | 0/338 [00:00<?, ? examples/s]"
      ]
     },
     "metadata": {},
     "output_type": "display_data"
    },
    {
     "name": "stderr",
     "output_type": "stream",
     "text": [
      "Some weights of GPT2ForSequenceClassification were not initialized from the model checkpoint at gpt2 and are newly initialized: ['score.weight']\n",
      "You should probably TRAIN this model on a down-stream task to be able to use it for predictions and inference.\n",
      "You're using a GPT2TokenizerFast tokenizer. Please note that with a fast tokenizer, using the `__call__` method is faster than using a method to encode the text followed by a call to the `pad` method to get a padded encoding.\n"
     ]
    },
    {
     "name": "stdout",
     "output_type": "stream",
     "text": [
      "1 / 30: Train Loss:\t2.9822\tVal Loss:\t2.3019\tAccuracy:\t0.1509\tF1:\t0.1002\n",
      "2 / 30: Train Loss:\t2.2461\tVal Loss:\t2.1889\tAccuracy:\t0.1834\tF1:\t0.0991\n",
      "3 / 30: Train Loss:\t2.1509\tVal Loss:\t2.1113\tAccuracy:\t0.2101\tF1:\t0.1117\n",
      "4 / 30: Train Loss:\t2.0775\tVal Loss:\t2.0848\tAccuracy:\t0.2337\tF1:\t0.1212\n",
      "5 / 30: Train Loss:\t2.0592\tVal Loss:\t2.0316\tAccuracy:\t0.2485\tF1:\t0.1254\n",
      "6 / 30: Train Loss:\t2.0057\tVal Loss:\t1.9982\tAccuracy:\t0.2544\tF1:\t0.1282\n",
      "7 / 30: Train Loss:\t1.9988\tVal Loss:\t1.9778\tAccuracy:\t0.2899\tF1:\t0.1484\n",
      "8 / 30: Train Loss:\t1.9478\tVal Loss:\t1.9384\tAccuracy:\t0.3136\tF1:\t0.1684\n",
      "9 / 30: Train Loss:\t1.8947\tVal Loss:\t1.8901\tAccuracy:\t0.3462\tF1:\t0.1897\n",
      "10 / 30: Train Loss:\t1.8495\tVal Loss:\t1.8109\tAccuracy:\t0.3846\tF1:\t0.2298\n",
      "11 / 30: Train Loss:\t1.7890\tVal Loss:\t1.7418\tAccuracy:\t0.4260\tF1:\t0.2769\n",
      "12 / 30: Train Loss:\t1.6922\tVal Loss:\t1.5962\tAccuracy:\t0.4763\tF1:\t0.3281\n",
      "13 / 30: Train Loss:\t1.6048\tVal Loss:\t1.4858\tAccuracy:\t0.5059\tF1:\t0.3818\n",
      "14 / 30: Train Loss:\t1.5008\tVal Loss:\t1.4182\tAccuracy:\t0.5296\tF1:\t0.4073\n",
      "15 / 30: Train Loss:\t1.3931\tVal Loss:\t1.3285\tAccuracy:\t0.5444\tF1:\t0.4279\n",
      "16 / 30: Train Loss:\t1.2629\tVal Loss:\t1.2877\tAccuracy:\t0.5592\tF1:\t0.4479\n",
      "17 / 30: Train Loss:\t1.2247\tVal Loss:\t1.2031\tAccuracy:\t0.5888\tF1:\t0.4784\n",
      "18 / 30: Train Loss:\t1.1457\tVal Loss:\t1.1764\tAccuracy:\t0.5858\tF1:\t0.4875\n",
      "19 / 30: Train Loss:\t1.0927\tVal Loss:\t1.1863\tAccuracy:\t0.5710\tF1:\t0.4886\n",
      "20 / 30: Train Loss:\t0.9607\tVal Loss:\t1.2025\tAccuracy:\t0.5799\tF1:\t0.4991\n",
      "21 / 30: Train Loss:\t0.9548\tVal Loss:\t1.1355\tAccuracy:\t0.6154\tF1:\t0.5593\n",
      "22 / 30: Train Loss:\t0.8832\tVal Loss:\t1.1902\tAccuracy:\t0.6065\tF1:\t0.5521\n",
      "23 / 30: Train Loss:\t0.7914\tVal Loss:\t1.1479\tAccuracy:\t0.6065\tF1:\t0.5656\n",
      "24 / 30: Train Loss:\t0.7812\tVal Loss:\t1.1544\tAccuracy:\t0.6183\tF1:\t0.5795\n",
      "25 / 30: Train Loss:\t0.7154\tVal Loss:\t1.1355\tAccuracy:\t0.6361\tF1:\t0.6110\n",
      "26 / 30: Train Loss:\t0.6759\tVal Loss:\t1.1196\tAccuracy:\t0.6391\tF1:\t0.6106\n",
      "27 / 30: Train Loss:\t0.6562\tVal Loss:\t1.0994\tAccuracy:\t0.6361\tF1:\t0.6065\n",
      "28 / 30: Train Loss:\t0.5854\tVal Loss:\t1.1326\tAccuracy:\t0.6391\tF1:\t0.6202\n",
      "29 / 30: Train Loss:\t0.5560\tVal Loss:\t1.1244\tAccuracy:\t0.6509\tF1:\t0.6204\n",
      "30 / 30: Train Loss:\t0.5262\tVal Loss:\t1.1622\tAccuracy:\t0.6095\tF1:\t0.5958\n",
      "best (higgest macro f1-score) val results:\n",
      "                         precision    recall  f1-score   support\n",
      "\n",
      "             ad hominem       0.73      0.57      0.64        67\n",
      "               anecdote       0.84      0.72      0.77        43\n",
      "         cherry picking       0.76      0.61      0.67        56\n",
      "      conspiracy theory       0.59      0.85      0.69        39\n",
      "           fake experts       0.83      0.42      0.56        12\n",
      "           false choice       0.69      0.69      0.69        13\n",
      "      false equivalence       0.40      0.29      0.33        14\n",
      "impossible expectations       0.50      0.65      0.56        37\n",
      "           single cause       0.59      0.74      0.66        57\n",
      "\n",
      "               accuracy                           0.65       338\n",
      "              macro avg       0.66      0.61      0.62       338\n",
      "           weighted avg       0.67      0.65      0.65       338\n",
      "\n",
      "test results:\n",
      "                         precision    recall  f1-score   support\n",
      "\n",
      "             ad hominem       0.82      0.62      0.71        37\n",
      "               anecdote       0.78      0.88      0.82        24\n",
      "         cherry picking       0.71      0.39      0.50        31\n",
      "      conspiracy theory       0.60      0.82      0.69        22\n",
      "           fake experts       1.00      0.43      0.60         7\n",
      "           false choice       0.00      0.00      0.00         7\n",
      "      false equivalence       0.75      0.38      0.50         8\n",
      "impossible expectations       0.54      0.95      0.69        21\n",
      "           single cause       0.51      0.66      0.58        32\n",
      "\n",
      "               accuracy                           0.64       189\n",
      "              macro avg       0.63      0.57      0.57       189\n",
      "           weighted avg       0.66      0.64      0.62       189\n",
      "\n",
      "### ### ### ### ### ### ### ### ### ### \n",
      "{'test_acc': [0.6402116402116402], 'test_f1': [0.5653918944368804], 'eval_acc': [0.650887573964497], 'eval_f1': [0.6204235660635925], 'lr': [1e-05]}\n",
      "### ### ### ### ### ### ### ### ### ### \n",
      "Grid search gpt2, learning rate 5e-05\n"
     ]
    },
    {
     "data": {
      "application/vnd.jupyter.widget-view+json": {
       "model_id": "5a44192ee786416f8b7e09c393c42c0d",
       "version_major": 2,
       "version_minor": 0
      },
      "text/plain": [
       "Map:   0%|          | 0/189 [00:00<?, ? examples/s]"
      ]
     },
     "metadata": {},
     "output_type": "display_data"
    },
    {
     "name": "stderr",
     "output_type": "stream",
     "text": [
      "Some weights of GPT2ForSequenceClassification were not initialized from the model checkpoint at gpt2 and are newly initialized: ['score.weight']\n",
      "You should probably TRAIN this model on a down-stream task to be able to use it for predictions and inference.\n",
      "You're using a GPT2TokenizerFast tokenizer. Please note that with a fast tokenizer, using the `__call__` method is faster than using a method to encode the text followed by a call to the `pad` method to get a padded encoding.\n"
     ]
    },
    {
     "name": "stdout",
     "output_type": "stream",
     "text": [
      "1 / 30: Train Loss:\t2.4349\tVal Loss:\t2.1117\tAccuracy:\t0.2071\tF1:\t0.1062\n",
      "2 / 30: Train Loss:\t1.9853\tVal Loss:\t1.9663\tAccuracy:\t0.2899\tF1:\t0.1536\n",
      "3 / 30: Train Loss:\t1.8872\tVal Loss:\t1.7937\tAccuracy:\t0.3994\tF1:\t0.2769\n",
      "4 / 30: Train Loss:\t1.6085\tVal Loss:\t1.4323\tAccuracy:\t0.5000\tF1:\t0.3705\n",
      "5 / 30: Train Loss:\t1.2563\tVal Loss:\t1.2382\tAccuracy:\t0.5888\tF1:\t0.5050\n",
      "6 / 30: Train Loss:\t0.9998\tVal Loss:\t1.2451\tAccuracy:\t0.5769\tF1:\t0.5251\n",
      "7 / 30: Train Loss:\t0.7909\tVal Loss:\t1.1953\tAccuracy:\t0.6154\tF1:\t0.6074\n",
      "8 / 30: Train Loss:\t0.6174\tVal Loss:\t1.2624\tAccuracy:\t0.6124\tF1:\t0.6097\n",
      "9 / 30: Train Loss:\t0.5157\tVal Loss:\t1.2429\tAccuracy:\t0.6183\tF1:\t0.6188\n",
      "10 / 30: Train Loss:\t0.4393\tVal Loss:\t1.4341\tAccuracy:\t0.5592\tF1:\t0.5501\n",
      "11 / 30: Train Loss:\t0.3651\tVal Loss:\t1.5894\tAccuracy:\t0.5976\tF1:\t0.5710\n",
      "12 / 30: Train Loss:\t0.3120\tVal Loss:\t1.2966\tAccuracy:\t0.6420\tF1:\t0.6147\n",
      "No improvement for 3 epochs. Stopping early.\n",
      "best (higgest macro f1-score) val results:\n",
      "                         precision    recall  f1-score   support\n",
      "\n",
      "             ad hominem       0.77      0.45      0.57        67\n",
      "               anecdote       0.85      0.77      0.80        43\n",
      "         cherry picking       0.58      0.70      0.63        56\n",
      "      conspiracy theory       0.55      0.85      0.67        39\n",
      "           fake experts       0.53      0.67      0.59        12\n",
      "           false choice       0.88      0.54      0.67        13\n",
      "      false equivalence       0.64      0.50      0.56        14\n",
      "impossible expectations       0.42      0.73      0.53        37\n",
      "           single cause       0.71      0.44      0.54        57\n",
      "\n",
      "               accuracy                           0.62       338\n",
      "              macro avg       0.66      0.63      0.62       338\n",
      "           weighted avg       0.67      0.62      0.62       338\n",
      "\n",
      "test results:\n",
      "                         precision    recall  f1-score   support\n",
      "\n",
      "             ad hominem       0.87      0.54      0.67        37\n",
      "               anecdote       0.84      0.88      0.86        24\n",
      "         cherry picking       0.55      0.52      0.53        31\n",
      "      conspiracy theory       0.62      0.82      0.71        22\n",
      "           fake experts       0.60      0.43      0.50         7\n",
      "           false choice       0.00      0.00      0.00         7\n",
      "      false equivalence       0.33      0.38      0.35         8\n",
      "impossible expectations       0.44      0.90      0.59        21\n",
      "           single cause       0.62      0.50      0.55        32\n",
      "\n",
      "               accuracy                           0.61       189\n",
      "              macro avg       0.54      0.55      0.53       189\n",
      "           weighted avg       0.63      0.61      0.60       189\n",
      "\n",
      "### ### ### ### ### ### ### ### ### ### \n",
      "{'test_acc': [0.6402116402116402, 0.6137566137566137], 'test_f1': [0.5653918944368804, 0.5290489471650729], 'eval_acc': [0.650887573964497, 0.6183431952662722], 'eval_f1': [0.6204235660635925, 0.6187910864705539], 'lr': [1e-05, 5e-05]}\n",
      "### ### ### ### ### ### ### ### ### ### \n",
      "Grid search gpt2, learning rate 0.0001\n"
     ]
    },
    {
     "data": {
      "application/vnd.jupyter.widget-view+json": {
       "model_id": "26a638af50ec426f8c1d848f17dcb6ff",
       "version_major": 2,
       "version_minor": 0
      },
      "text/plain": [
       "Map:   0%|          | 0/338 [00:00<?, ? examples/s]"
      ]
     },
     "metadata": {},
     "output_type": "display_data"
    },
    {
     "name": "stderr",
     "output_type": "stream",
     "text": [
      "Some weights of GPT2ForSequenceClassification were not initialized from the model checkpoint at gpt2 and are newly initialized: ['score.weight']\n",
      "You should probably TRAIN this model on a down-stream task to be able to use it for predictions and inference.\n",
      "You're using a GPT2TokenizerFast tokenizer. Please note that with a fast tokenizer, using the `__call__` method is faster than using a method to encode the text followed by a call to the `pad` method to get a padded encoding.\n"
     ]
    },
    {
     "name": "stdout",
     "output_type": "stream",
     "text": [
      "1 / 30: Train Loss:\t2.3477\tVal Loss:\t1.9992\tAccuracy:\t0.2692\tF1:\t0.1463\n",
      "2 / 30: Train Loss:\t1.9180\tVal Loss:\t1.9135\tAccuracy:\t0.2692\tF1:\t0.1630\n",
      "3 / 30: Train Loss:\t1.5228\tVal Loss:\t1.6748\tAccuracy:\t0.4349\tF1:\t0.3392\n",
      "4 / 30: Train Loss:\t1.0606\tVal Loss:\t1.4474\tAccuracy:\t0.5266\tF1:\t0.4895\n",
      "5 / 30: Train Loss:\t0.8138\tVal Loss:\t1.3122\tAccuracy:\t0.6006\tF1:\t0.5833\n",
      "6 / 30: Train Loss:\t0.5952\tVal Loss:\t1.2261\tAccuracy:\t0.6627\tF1:\t0.6582\n",
      "7 / 30: Train Loss:\t0.4107\tVal Loss:\t1.5878\tAccuracy:\t0.6420\tF1:\t0.6179\n",
      "8 / 30: Train Loss:\t0.3861\tVal Loss:\t1.4263\tAccuracy:\t0.6183\tF1:\t0.5898\n",
      "9 / 30: Train Loss:\t0.1715\tVal Loss:\t1.5283\tAccuracy:\t0.6450\tF1:\t0.6054\n",
      "No improvement for 3 epochs. Stopping early.\n",
      "best (higgest macro f1-score) val results:\n",
      "                         precision    recall  f1-score   support\n",
      "\n",
      "             ad hominem       0.70      0.46      0.56        67\n",
      "               anecdote       0.94      0.70      0.80        43\n",
      "         cherry picking       0.69      0.64      0.67        56\n",
      "      conspiracy theory       0.69      0.74      0.72        39\n",
      "           fake experts       0.73      0.67      0.70        12\n",
      "           false choice       0.69      0.85      0.76        13\n",
      "      false equivalence       0.35      0.50      0.41        14\n",
      "impossible expectations       0.56      0.68      0.61        37\n",
      "           single cause       0.62      0.82      0.71        57\n",
      "\n",
      "               accuracy                           0.66       338\n",
      "              macro avg       0.66      0.67      0.66       338\n",
      "           weighted avg       0.69      0.66      0.66       338\n",
      "\n",
      "test results:\n",
      "                         precision    recall  f1-score   support\n",
      "\n",
      "             ad hominem       0.78      0.49      0.60        37\n",
      "               anecdote       0.94      0.71      0.81        24\n",
      "         cherry picking       0.50      0.39      0.44        31\n",
      "      conspiracy theory       0.67      0.73      0.70        22\n",
      "           fake experts       0.57      0.57      0.57         7\n",
      "           false choice       0.40      0.29      0.33         7\n",
      "      false equivalence       0.31      0.50      0.38         8\n",
      "impossible expectations       0.56      0.90      0.69        21\n",
      "           single cause       0.51      0.66      0.58        32\n",
      "\n",
      "               accuracy                           0.60       189\n",
      "              macro avg       0.58      0.58      0.57       189\n",
      "           weighted avg       0.63      0.60      0.60       189\n",
      "\n",
      "### ### ### ### ### ### ### ### ### ### \n",
      "{'test_acc': [0.6402116402116402, 0.6137566137566137, 0.5978835978835979], 'test_f1': [0.5653918944368804, 0.5290489471650729, 0.5659450513530323], 'eval_acc': [0.650887573964497, 0.6183431952662722, 0.6627218934911243], 'eval_f1': [0.6204235660635925, 0.6187910864705539, 0.6582039102495614], 'lr': [1e-05, 5e-05, 0.0001]}\n",
      "### ### ### ### ### ### ### ### ### ### \n"
     ]
    }
   ],
   "source": [
    "learning_rates = [1.0e-5, 5.0e-5 ,1.0e-4]\n",
    "\n",
    "for lr in learning_rates:\n",
    "    print(f'Grid search {model_checkpoint}, learning rate {lr}')\n",
    "    data = ClimateDataset(model_to_train=3,model_checkpoint=model_checkpoint,dataset_url=flicc_path,batch_size=32)\n",
    "    data.setup_dataloaders()\n",
    "    model = ClassificationModel(model_checkpoint=data.model_checkpoint,num_labels=data.num_labels)\n",
    "    trainer = Engine(epochs=30,labels=data.labels)\n",
    "    trainer.model = model.model\n",
    "    test_acc, test_f1, eval_acc, eval_f1 = trainer.run(lr=lr,\n",
    "                                                       wd=0.0,\n",
    "                                                       train_dataloader=data.train_dataloader,\n",
    "                                                       eval_dataloader=data.eval_dataloader,\n",
    "                                                       test_dataloader=data.test_dataloader,\n",
    "                                                       early_stop=3)\n",
    "    results['test_acc'].append(test_acc)\n",
    "    results['test_f1'].append(test_f1)\n",
    "    results['eval_acc'].append(eval_acc)\n",
    "    results['eval_f1'].append(eval_f1)\n",
    "    results['lr'].append(lr)\n",
    "    print('### '*10)\n",
    "    print(results)\n",
    "    print('### '*10)\n",
    "    with torch.no_grad():\n",
    "        torch.cuda.empty_cache()\n",
    "    del data, model, trainer, test_acc, test_f1, eval_acc, eval_f1\n",
    "    gc.collect()"
   ]
  },
  {
   "cell_type": "code",
   "execution_count": 5,
   "metadata": {},
   "outputs": [
    {
     "data": {
      "image/png": "[encoded data removed]",
      "text/plain": [
       "<Figure size 640x480 with 1 Axes>"
      ]
     },
     "metadata": {},
     "output_type": "display_data"
    }
   ],
   "source": [
    "Engine.plot_grid_search(df=results,\n",
    "                        title=f'Learning rates {model_checkpoint}',\n",
    "                        column='lr',\n",
    "                        sci_format=True)"
   ]
  },
  {
   "cell_type": "code",
   "execution_count": 6,
   "metadata": {},
   "outputs": [],
   "source": [
    "%reset -f"
   ]
  }
 ],
 "metadata": {
  "kernelspec": {
   "display_name": "Python 3",
   "language": "python",
   "name": "python3"
  },
  "language_info": {
   "codemirror_mode": {
    "name": "ipython",
    "version": 3
   },
   "file_extension": ".py",
   "mimetype": "text/x-python",
   "name": "python",
   "nbconvert_exporter": "python",
   "pygments_lexer": "ipython3",
   "version": "3.11.5"
  },
  "orig_nbformat": 4
 },
 "nbformat": 4,
 "nbformat_minor": 2
}
