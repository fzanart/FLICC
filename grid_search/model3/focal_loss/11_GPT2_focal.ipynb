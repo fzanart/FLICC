{
 "cells": [
  {
   "cell_type": "code",
   "execution_count": 1,
   "metadata": {},
   "outputs": [],
   "source": [
    "import os\n",
    "import sys\n",
    "import gc\n",
    "# assuming data, models, engine in flicc directory:\n",
    "flicc_path = os.path.realpath(\"__file__\").split('grid_search')[0]\n",
    "sys.path.append(flicc_path)\n",
    "import torch\n",
    "from data import ClimateDataset\n",
    "from models import ClassificationModel\n",
    "from engine import Engine"
   ]
  },
  {
   "cell_type": "code",
   "execution_count": 2,
   "metadata": {},
   "outputs": [],
   "source": [
    "model_checkpoint='gpt2'"
   ]
  },
  {
   "cell_type": "code",
   "execution_count": 3,
   "metadata": {},
   "outputs": [],
   "source": [
    "results = {'test_acc':[],\n",
    "           'test_f1':[],\n",
    "           'eval_acc':[],\n",
    "           'eval_f1':[],\n",
    "           'g':[]}"
   ]
  },
  {
   "cell_type": "code",
   "execution_count": 4,
   "metadata": {},
   "outputs": [
    {
     "name": "stdout",
     "output_type": "stream",
     "text": [
      "Grid search gpt2, learning rate 0.0001, focal loss gamma 2\n"
     ]
    },
    {
     "name": "stderr",
     "output_type": "stream",
     "text": [
      "Some weights of GPT2ForSequenceClassification were not initialized from the model checkpoint at gpt2 and are newly initialized: ['score.weight']\n",
      "You should probably TRAIN this model on a down-stream task to be able to use it for predictions and inference.\n",
      "You're using a GPT2TokenizerFast tokenizer. Please note that with a fast tokenizer, using the `__call__` method is faster than using a method to encode the text followed by a call to the `pad` method to get a padded encoding.\n"
     ]
    },
    {
     "name": "stdout",
     "output_type": "stream",
     "text": [
      "1 / 30: Train Loss:\t18.6426\tVal Loss:\t2.2669\tAccuracy:\t0.0444\tF1:\t0.0200\n",
      "2 / 30: Train Loss:\t15.0795\tVal Loss:\t2.2198\tAccuracy:\t0.0976\tF1:\t0.0785\n",
      "3 / 30: Train Loss:\t12.3682\tVal Loss:\t2.1914\tAccuracy:\t0.2041\tF1:\t0.1898\n",
      "4 / 30: Train Loss:\t8.3449\tVal Loss:\t1.5825\tAccuracy:\t0.4083\tF1:\t0.4090\n",
      "5 / 30: Train Loss:\t5.2102\tVal Loss:\t1.4070\tAccuracy:\t0.5148\tF1:\t0.4995\n",
      "6 / 30: Train Loss:\t3.5574\tVal Loss:\t1.2921\tAccuracy:\t0.5621\tF1:\t0.5762\n",
      "7 / 30: Train Loss:\t2.6059\tVal Loss:\t1.3318\tAccuracy:\t0.5296\tF1:\t0.5377\n",
      "8 / 30: Train Loss:\t2.2642\tVal Loss:\t1.2509\tAccuracy:\t0.5503\tF1:\t0.5389\n",
      "9 / 30: Train Loss:\t1.2442\tVal Loss:\t1.1904\tAccuracy:\t0.5799\tF1:\t0.5986\n",
      "10 / 30: Train Loss:\t0.7236\tVal Loss:\t1.3489\tAccuracy:\t0.5592\tF1:\t0.5520\n",
      "11 / 30: Train Loss:\t0.4242\tVal Loss:\t1.1742\tAccuracy:\t0.6213\tF1:\t0.6122\n",
      "12 / 30: Train Loss:\t0.3153\tVal Loss:\t1.3359\tAccuracy:\t0.5710\tF1:\t0.5667\n",
      "13 / 30: Train Loss:\t0.3371\tVal Loss:\t1.3372\tAccuracy:\t0.5828\tF1:\t0.5557\n",
      "14 / 30: Train Loss:\t0.1726\tVal Loss:\t1.2425\tAccuracy:\t0.6095\tF1:\t0.6094\n",
      "No improvement for 3 epochs. Stopping early.\n",
      "best (higgest macro f1-score) val results:\n",
      "                         precision    recall  f1-score   support\n",
      "\n",
      "             ad hominem       0.73      0.40      0.52        67\n",
      "               anecdote       0.97      0.70      0.81        43\n",
      "         cherry picking       0.71      0.61      0.65        56\n",
      "      conspiracy theory       0.55      0.92      0.69        39\n",
      "           fake experts       0.47      0.58      0.52        12\n",
      "           false choice       0.64      0.69      0.67        13\n",
      "      false equivalence       0.33      0.79      0.47        14\n",
      "impossible expectations       0.53      0.62      0.57        37\n",
      "           single cause       0.63      0.58      0.61        57\n",
      "\n",
      "               accuracy                           0.62       338\n",
      "              macro avg       0.62      0.65      0.61       338\n",
      "           weighted avg       0.67      0.62      0.62       338\n",
      "\n",
      "test results:\n",
      "                         precision    recall  f1-score   support\n",
      "\n",
      "             ad hominem       0.89      0.46      0.61        37\n",
      "               anecdote       0.95      0.75      0.84        24\n",
      "         cherry picking       0.62      0.52      0.56        31\n",
      "      conspiracy theory       0.61      0.91      0.73        22\n",
      "           fake experts       0.75      0.86      0.80         7\n",
      "           false choice       0.50      0.14      0.22         7\n",
      "      false equivalence       0.21      0.50      0.30         8\n",
      "impossible expectations       0.67      0.95      0.78        21\n",
      "           single cause       0.61      0.62      0.62        32\n",
      "\n",
      "               accuracy                           0.65       189\n",
      "              macro avg       0.64      0.63      0.61       189\n",
      "           weighted avg       0.70      0.65      0.64       189\n",
      "\n",
      "### ### ### ### ### ### ### ### ### ### \n",
      "{'test_acc': [0.6455026455026455], 'test_f1': [0.605693917211825], 'eval_acc': [0.621301775147929], 'eval_f1': [0.6122189227688393], 'g': [2]}\n",
      "### ### ### ### ### ### ### ### ### ### \n",
      "Grid search gpt2, learning rate 0.0001, focal loss gamma 4\n"
     ]
    },
    {
     "name": "stderr",
     "output_type": "stream",
     "text": [
      "Some weights of GPT2ForSequenceClassification were not initialized from the model checkpoint at gpt2 and are newly initialized: ['score.weight']\n",
      "You should probably TRAIN this model on a down-stream task to be able to use it for predictions and inference.\n",
      "You're using a GPT2TokenizerFast tokenizer. Please note that with a fast tokenizer, using the `__call__` method is faster than using a method to encode the text followed by a call to the `pad` method to get a padded encoding.\n"
     ]
    },
    {
     "name": "stdout",
     "output_type": "stream",
     "text": [
      "1 / 30: Train Loss:\t15.6688\tVal Loss:\t2.2678\tAccuracy:\t0.0414\tF1:\t0.0157\n",
      "2 / 30: Train Loss:\t11.8296\tVal Loss:\t2.2250\tAccuracy:\t0.0917\tF1:\t0.0806\n",
      "3 / 30: Train Loss:\t9.5821\tVal Loss:\t2.0772\tAccuracy:\t0.1982\tF1:\t0.1888\n",
      "4 / 30: Train Loss:\t6.4065\tVal Loss:\t1.6685\tAccuracy:\t0.3698\tF1:\t0.3816\n",
      "5 / 30: Train Loss:\t3.8674\tVal Loss:\t1.3249\tAccuracy:\t0.5296\tF1:\t0.5126\n",
      "6 / 30: Train Loss:\t2.3000\tVal Loss:\t1.3208\tAccuracy:\t0.5059\tF1:\t0.5051\n",
      "7 / 30: Train Loss:\t1.8262\tVal Loss:\t1.3300\tAccuracy:\t0.5059\tF1:\t0.5032\n",
      "8 / 30: Train Loss:\t1.2249\tVal Loss:\t1.1300\tAccuracy:\t0.6243\tF1:\t0.6079\n",
      "9 / 30: Train Loss:\t0.8917\tVal Loss:\t1.2481\tAccuracy:\t0.5207\tF1:\t0.5197\n",
      "10 / 30: Train Loss:\t0.4962\tVal Loss:\t1.1410\tAccuracy:\t0.6036\tF1:\t0.5994\n",
      "11 / 30: Train Loss:\t0.3633\tVal Loss:\t1.1119\tAccuracy:\t0.6095\tF1:\t0.5832\n",
      "No improvement for 3 epochs. Stopping early.\n",
      "best (higgest macro f1-score) val results:\n",
      "                         precision    recall  f1-score   support\n",
      "\n",
      "             ad hominem       0.71      0.54      0.61        67\n",
      "               anecdote       0.91      0.72      0.81        43\n",
      "         cherry picking       0.67      0.50      0.57        56\n",
      "      conspiracy theory       0.67      0.82      0.74        39\n",
      "           fake experts       0.56      0.75      0.64        12\n",
      "           false choice       0.56      0.38      0.45        13\n",
      "      false equivalence       0.33      0.64      0.44        14\n",
      "impossible expectations       0.62      0.68      0.65        37\n",
      "           single cause       0.51      0.63      0.56        57\n",
      "\n",
      "               accuracy                           0.62       338\n",
      "              macro avg       0.61      0.63      0.61       338\n",
      "           weighted avg       0.65      0.62      0.63       338\n",
      "\n",
      "test results:\n",
      "                         precision    recall  f1-score   support\n",
      "\n",
      "             ad hominem       0.78      0.57      0.66        37\n",
      "               anecdote       0.90      0.79      0.84        24\n",
      "         cherry picking       0.60      0.29      0.39        31\n",
      "      conspiracy theory       0.67      0.73      0.70        22\n",
      "           fake experts       0.55      0.86      0.67         7\n",
      "           false choice       0.50      0.14      0.22         7\n",
      "      false equivalence       0.25      0.50      0.33         8\n",
      "impossible expectations       0.61      0.90      0.73        21\n",
      "           single cause       0.45      0.59      0.51        32\n",
      "\n",
      "               accuracy                           0.60       189\n",
      "              macro avg       0.59      0.60      0.56       189\n",
      "           weighted avg       0.64      0.60      0.60       189\n",
      "\n",
      "### ### ### ### ### ### ### ### ### ### \n",
      "{'test_acc': [0.6455026455026455, 0.6031746031746031], 'test_f1': [0.605693917211825, 0.5615728814098379], 'eval_acc': [0.621301775147929, 0.6242603550295858], 'eval_f1': [0.6122189227688393, 0.6078558543393329], 'g': [2, 4]}\n",
      "### ### ### ### ### ### ### ### ### ### \n",
      "Grid search gpt2, learning rate 0.0001, focal loss gamma 8\n"
     ]
    },
    {
     "name": "stderr",
     "output_type": "stream",
     "text": [
      "Some weights of GPT2ForSequenceClassification were not initialized from the model checkpoint at gpt2 and are newly initialized: ['score.weight']\n",
      "You should probably TRAIN this model on a down-stream task to be able to use it for predictions and inference.\n",
      "You're using a GPT2TokenizerFast tokenizer. Please note that with a fast tokenizer, using the `__call__` method is faster than using a method to encode the text followed by a call to the `pad` method to get a padded encoding.\n"
     ]
    },
    {
     "name": "stdout",
     "output_type": "stream",
     "text": [
      "1 / 30: Train Loss:\t11.4504\tVal Loss:\t2.2550\tAccuracy:\t0.0355\tF1:\t0.0222\n",
      "2 / 30: Train Loss:\t7.4504\tVal Loss:\t2.2419\tAccuracy:\t0.0680\tF1:\t0.0611\n",
      "3 / 30: Train Loss:\t6.4953\tVal Loss:\t2.1182\tAccuracy:\t0.1450\tF1:\t0.1019\n",
      "4 / 30: Train Loss:\t4.5819\tVal Loss:\t1.9272\tAccuracy:\t0.2071\tF1:\t0.2192\n",
      "5 / 30: Train Loss:\t2.6253\tVal Loss:\t1.5117\tAccuracy:\t0.4349\tF1:\t0.4428\n",
      "6 / 30: Train Loss:\t1.6484\tVal Loss:\t1.5195\tAccuracy:\t0.4290\tF1:\t0.4428\n",
      "7 / 30: Train Loss:\t1.2282\tVal Loss:\t1.3223\tAccuracy:\t0.5059\tF1:\t0.5121\n",
      "8 / 30: Train Loss:\t1.1654\tVal Loss:\t1.2898\tAccuracy:\t0.5266\tF1:\t0.5444\n",
      "9 / 30: Train Loss:\t0.7655\tVal Loss:\t1.2343\tAccuracy:\t0.5651\tF1:\t0.5566\n",
      "10 / 30: Train Loss:\t0.3136\tVal Loss:\t1.2141\tAccuracy:\t0.5888\tF1:\t0.6033\n",
      "11 / 30: Train Loss:\t0.1951\tVal Loss:\t1.2210\tAccuracy:\t0.5710\tF1:\t0.5618\n",
      "12 / 30: Train Loss:\t0.1800\tVal Loss:\t1.1888\tAccuracy:\t0.5651\tF1:\t0.5785\n",
      "13 / 30: Train Loss:\t0.1209\tVal Loss:\t1.1396\tAccuracy:\t0.5888\tF1:\t0.5778\n",
      "No improvement for 3 epochs. Stopping early.\n",
      "best (higgest macro f1-score) val results:\n",
      "                         precision    recall  f1-score   support\n",
      "\n",
      "             ad hominem       0.72      0.49      0.58        67\n",
      "               anecdote       0.88      0.70      0.78        43\n",
      "         cherry picking       0.61      0.62      0.62        56\n",
      "      conspiracy theory       0.67      0.77      0.71        39\n",
      "           fake experts       0.73      0.67      0.70        12\n",
      "           false choice       0.75      0.69      0.72        13\n",
      "      false equivalence       0.22      0.79      0.34        14\n",
      "impossible expectations       0.51      0.70      0.59        37\n",
      "           single cause       0.53      0.30      0.38        57\n",
      "\n",
      "               accuracy                           0.59       338\n",
      "              macro avg       0.62      0.64      0.60       338\n",
      "           weighted avg       0.64      0.59      0.60       338\n",
      "\n",
      "test results:\n",
      "                         precision    recall  f1-score   support\n",
      "\n",
      "             ad hominem       0.78      0.49      0.60        37\n",
      "               anecdote       0.90      0.75      0.82        24\n",
      "         cherry picking       0.56      0.32      0.41        31\n",
      "      conspiracy theory       0.61      0.77      0.68        22\n",
      "           fake experts       1.00      0.57      0.73         7\n",
      "           false choice       0.60      0.43      0.50         7\n",
      "      false equivalence       0.11      0.50      0.19         8\n",
      "impossible expectations       0.45      0.90      0.60        21\n",
      "           single cause       0.57      0.25      0.35        32\n",
      "\n",
      "               accuracy                           0.53       189\n",
      "              macro avg       0.62      0.55      0.54       189\n",
      "           weighted avg       0.64      0.53      0.55       189\n",
      "\n",
      "### ### ### ### ### ### ### ### ### ### \n",
      "{'test_acc': [0.6455026455026455, 0.6031746031746031, 0.5343915343915344], 'test_f1': [0.605693917211825, 0.5615728814098379, 0.5411850013910777], 'eval_acc': [0.621301775147929, 0.6242603550295858, 0.5887573964497042], 'eval_f1': [0.6122189227688393, 0.6078558543393329, 0.6032644503608432], 'g': [2, 4, 8]}\n",
      "### ### ### ### ### ### ### ### ### ### \n",
      "Grid search gpt2, learning rate 0.0001, focal loss gamma 16\n"
     ]
    },
    {
     "name": "stderr",
     "output_type": "stream",
     "text": [
      "Some weights of GPT2ForSequenceClassification were not initialized from the model checkpoint at gpt2 and are newly initialized: ['score.weight']\n",
      "You should probably TRAIN this model on a down-stream task to be able to use it for predictions and inference.\n",
      "You're using a GPT2TokenizerFast tokenizer. Please note that with a fast tokenizer, using the `__call__` method is faster than using a method to encode the text followed by a call to the `pad` method to get a padded encoding.\n"
     ]
    },
    {
     "name": "stdout",
     "output_type": "stream",
     "text": [
      "1 / 30: Train Loss:\t7.0067\tVal Loss:\t2.2297\tAccuracy:\t0.0976\tF1:\t0.0702\n",
      "2 / 30: Train Loss:\t3.0532\tVal Loss:\t2.2459\tAccuracy:\t0.0503\tF1:\t0.0282\n",
      "3 / 30: Train Loss:\t2.8930\tVal Loss:\t2.2171\tAccuracy:\t0.1213\tF1:\t0.0918\n",
      "4 / 30: Train Loss:\t2.5385\tVal Loss:\t2.1611\tAccuracy:\t0.1331\tF1:\t0.1138\n",
      "5 / 30: Train Loss:\t1.7847\tVal Loss:\t1.9499\tAccuracy:\t0.1538\tF1:\t0.1532\n",
      "6 / 30: Train Loss:\t1.3037\tVal Loss:\t1.8150\tAccuracy:\t0.3077\tF1:\t0.3275\n",
      "7 / 30: Train Loss:\t0.8162\tVal Loss:\t1.6602\tAccuracy:\t0.3698\tF1:\t0.3816\n",
      "8 / 30: Train Loss:\t0.4964\tVal Loss:\t1.4775\tAccuracy:\t0.5000\tF1:\t0.4952\n",
      "9 / 30: Train Loss:\t0.4413\tVal Loss:\t1.5150\tAccuracy:\t0.4201\tF1:\t0.4283\n",
      "10 / 30: Train Loss:\t0.2490\tVal Loss:\t1.4372\tAccuracy:\t0.4763\tF1:\t0.4918\n",
      "11 / 30: Train Loss:\t0.1375\tVal Loss:\t1.3775\tAccuracy:\t0.5118\tF1:\t0.5149\n",
      "12 / 30: Train Loss:\t0.1241\tVal Loss:\t1.4158\tAccuracy:\t0.4320\tF1:\t0.4463\n",
      "13 / 30: Train Loss:\t0.1031\tVal Loss:\t1.3692\tAccuracy:\t0.4970\tF1:\t0.5036\n",
      "14 / 30: Train Loss:\t0.0726\tVal Loss:\t1.3030\tAccuracy:\t0.5207\tF1:\t0.5131\n",
      "No improvement for 3 epochs. Stopping early.\n",
      "best (higgest macro f1-score) val results:\n",
      "                         precision    recall  f1-score   support\n",
      "\n",
      "             ad hominem       0.62      0.45      0.52        67\n",
      "               anecdote       0.90      0.60      0.72        43\n",
      "         cherry picking       0.62      0.46      0.53        56\n",
      "      conspiracy theory       0.61      0.72      0.66        39\n",
      "           fake experts       0.60      0.50      0.55        12\n",
      "           false choice       0.50      0.46      0.48        13\n",
      "      false equivalence       0.18      0.86      0.29        14\n",
      "impossible expectations       0.49      0.68      0.57        37\n",
      "           single cause       0.44      0.25      0.31        57\n",
      "\n",
      "               accuracy                           0.51       338\n",
      "              macro avg       0.55      0.55      0.51       338\n",
      "           weighted avg       0.59      0.51      0.52       338\n",
      "\n",
      "test results:\n",
      "                         precision    recall  f1-score   support\n",
      "\n",
      "             ad hominem       0.76      0.43      0.55        37\n",
      "               anecdote       0.81      0.71      0.76        24\n",
      "         cherry picking       0.45      0.32      0.38        31\n",
      "      conspiracy theory       0.62      0.68      0.65        22\n",
      "           fake experts       0.80      0.57      0.67         7\n",
      "           false choice       0.00      0.00      0.00         7\n",
      "      false equivalence       0.09      0.38      0.14         8\n",
      "impossible expectations       0.45      0.81      0.58        21\n",
      "           single cause       0.67      0.38      0.48        32\n",
      "\n",
      "               accuracy                           0.50       189\n",
      "              macro avg       0.52      0.48      0.47       189\n",
      "           weighted avg       0.60      0.50      0.52       189\n",
      "\n",
      "### ### ### ### ### ### ### ### ### ### \n",
      "{'test_acc': [0.6455026455026455, 0.6031746031746031, 0.5343915343915344, 0.4973544973544973], 'test_f1': [0.605693917211825, 0.5615728814098379, 0.5411850013910777, 0.4669563436733994], 'eval_acc': [0.621301775147929, 0.6242603550295858, 0.5887573964497042, 0.5118343195266272], 'eval_f1': [0.6122189227688393, 0.6078558543393329, 0.6032644503608432, 0.5149247954450438], 'g': [2, 4, 8, 16]}\n",
      "### ### ### ### ### ### ### ### ### ### \n"
     ]
    }
   ],
   "source": [
    "gamma = [2,4,8,16]\n",
    "lr = 1.0e-4\n",
    "\n",
    "for g in gamma:\n",
    "    print(f'Grid search {model_checkpoint}, learning rate {lr}, focal loss gamma {g}')\n",
    "    data = ClimateDataset(model_to_train=3,model_checkpoint=model_checkpoint,dataset_url=flicc_path,batch_size=32)\n",
    "    data.setup_dataloaders()\n",
    "    model = ClassificationModel(model_checkpoint=data.model_checkpoint,num_labels=data.num_labels)\n",
    "    trainer = Engine(epochs=30,labels=data.labels)\n",
    "    trainer.model = model.model\n",
    "    trainer.dataset_encoded = data.dataset_encoded\n",
    "    test_acc, test_f1, eval_acc, eval_f1 = trainer.run(lr=lr,\n",
    "                                                       wd=0.0,\n",
    "                                                       train_dataloader=data.train_dataloader,\n",
    "                                                       eval_dataloader=data.eval_dataloader,\n",
    "                                                       test_dataloader=data.test_dataloader,\n",
    "                                                       focalloss=True,\n",
    "                                                       gamma=g,\n",
    "                                                       early_stop=3)\n",
    "    results['test_acc'].append(test_acc)\n",
    "    results['test_f1'].append(test_f1)\n",
    "    results['eval_acc'].append(eval_acc)\n",
    "    results['eval_f1'].append(eval_f1)\n",
    "    results['g'].append(g)\n",
    "    print('### '*10)\n",
    "    print(results)\n",
    "    print('### '*10)\n",
    "    with torch.no_grad():\n",
    "        torch.cuda.empty_cache()\n",
    "    del data, model, trainer, test_acc, test_f1, eval_acc, eval_f1\n",
    "    gc.collect()"
   ]
  },
  {
   "cell_type": "code",
   "execution_count": 5,
   "metadata": {},
   "outputs": [
    {
     "data": {
      "image/png": "[encoded data removed]",
      "text/plain": [
       "<Figure size 640x480 with 1 Axes>"
      ]
     },
     "metadata": {},
     "output_type": "display_data"
    }
   ],
   "source": [
    "Engine.plot_grid_search(df=results,\n",
    "                        title=f'Focal loss, lr: {lr}, {model_checkpoint}',\n",
    "                        column='g',\n",
    "                        sci_format=False)"
   ]
  },
  {
   "cell_type": "code",
   "execution_count": 6,
   "metadata": {},
   "outputs": [],
   "source": [
    "%reset -f"
   ]
  }
 ],
 "metadata": {
  "kernelspec": {
   "display_name": "Python 3",
   "language": "python",
   "name": "python3"
  },
  "language_info": {
   "codemirror_mode": {
    "name": "ipython",
    "version": 3
   },
   "file_extension": ".py",
   "mimetype": "text/x-python",
   "name": "python",
   "nbconvert_exporter": "python",
   "pygments_lexer": "ipython3",
   "version": "3.11.5"
  },
  "orig_nbformat": 4
 },
 "nbformat": 4,
 "nbformat_minor": 2
}
