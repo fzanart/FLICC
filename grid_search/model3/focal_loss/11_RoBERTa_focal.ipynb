{
 "cells": [
  {
   "cell_type": "code",
   "execution_count": 1,
   "metadata": {},
   "outputs": [],
   "source": [
    "import torch\n",
    "from data import ClimateDataset\n",
    "from models import ClassificationModel\n",
    "from engine import Engine"
   ]
  },
  {
   "cell_type": "code",
   "execution_count": 2,
   "metadata": {},
   "outputs": [],
   "source": [
    "model_checkpoint='roberta-large'\n",
    "\n",
    "# the commands below didn't work inside for loop and got CUDA out of memory Error.\n",
    "#     with torch.no_grad():\n",
    "#        torch.cuda.empty_cache()\n",
    "#    del data, model, trainer, acc, f1\n",
    "# Instead of running these commands in a loop, execute them cell by cell, restarting between them.\n",
    "# Each cell will print its results. To keep the results and avoid re-running specific cells, skip them intermittently on each run."
   ]
  },
  {
   "cell_type": "code",
   "execution_count": 3,
   "metadata": {},
   "outputs": [],
   "source": [
    "results = {'acc':[],\n",
    "           'f1':[],\n",
    "           'g':[]}"
   ]
  },
  {
   "cell_type": "code",
   "execution_count": 4,
   "metadata": {},
   "outputs": [
    {
     "name": "stdout",
     "output_type": "stream",
     "text": [
      "Grid search roberta-large, lr: 5e-05 ,focal loss, gamma: 2\n"
     ]
    },
    {
     "name": "stderr",
     "output_type": "stream",
     "text": [
      "Some weights of RobertaForSequenceClassification were not initialized from the model checkpoint at roberta-large and are newly initialized: ['classifier.dense.weight', 'classifier.dense.bias', 'classifier.out_proj.weight', 'classifier.out_proj.bias']\n",
      "You should probably TRAIN this model on a down-stream task to be able to use it for predictions and inference.\n",
      "You're using a RobertaTokenizerFast tokenizer. Please note that with a fast tokenizer, using the `__call__` method is faster than using a method to encode the text followed by a call to the `pad` method to get a padded encoding.\n"
     ]
    },
    {
     "name": "stdout",
     "output_type": "stream",
     "text": [
      "1 / 30: Train Loss:\t7.9668\tVal Loss:\t2.2389\tAccuracy:\t0.0414\tF1:\t0.0088\n",
      "2 / 30: Train Loss:\t7.8489\tVal Loss:\t2.2006\tAccuracy:\t0.0355\tF1:\t0.0076\n",
      "3 / 30: Train Loss:\t7.7278\tVal Loss:\t2.2492\tAccuracy:\t0.0355\tF1:\t0.0076\n",
      "4 / 30: Train Loss:\t8.0469\tVal Loss:\t2.2086\tAccuracy:\t0.0355\tF1:\t0.0076\n",
      "No improvement for 3 epochs. Stopping early.\n",
      "best (higgest macro f1-score) val results:\n",
      "                         precision    recall  f1-score   support\n",
      "\n",
      "             ad hominem       0.00      0.00      0.00        67\n",
      "               anecdote       0.00      0.00      0.00        43\n",
      "         cherry picking       0.00      0.00      0.00        56\n",
      "      conspiracy theory       0.00      0.00      0.00        39\n",
      "           fake experts       0.04      1.00      0.07        12\n",
      "           false choice       0.00      0.00      0.00        13\n",
      "      false equivalence       0.00      0.00      0.00        14\n",
      "impossible expectations       0.00      0.00      0.00        37\n",
      "           single cause       0.00      0.00      0.00        57\n",
      "\n",
      "               accuracy                           0.04       338\n",
      "              macro avg       0.00      0.11      0.01       338\n",
      "           weighted avg       0.00      0.04      0.00       338\n",
      "\n",
      "test results:\n",
      "                         precision    recall  f1-score   support\n",
      "\n",
      "             ad hominem       0.00      0.00      0.00        37\n",
      "               anecdote       0.00      0.00      0.00        24\n",
      "         cherry picking       0.00      0.00      0.00        31\n",
      "      conspiracy theory       0.00      0.00      0.00        22\n",
      "           fake experts       0.04      1.00      0.07         7\n",
      "           false choice       0.00      0.00      0.00         7\n",
      "      false equivalence       0.00      0.00      0.00         8\n",
      "impossible expectations       0.00      0.00      0.00        21\n",
      "           single cause       0.00      0.00      0.00        32\n",
      "\n",
      "               accuracy                           0.04       189\n",
      "              macro avg       0.00      0.11      0.01       189\n",
      "           weighted avg       0.00      0.04      0.00       189\n",
      "\n",
      "### ### ### ### ### ### ### ### ### ### \n",
      "{'acc': [0.037037037037037035], 'f1': [0.007936507936507936], 'g': [2]}\n",
      "### ### ### ### ### ### ### ### ### ### \n"
     ]
    }
   ],
   "source": [
    "lr = 5.0e-5\n",
    "g = 2\n",
    "\n",
    "print(f'Grid search {model_checkpoint}, lr: {lr} ,focal loss, gamma: {g}')\n",
    "data = ClimateDataset(model_to_train=3,model_checkpoint=model_checkpoint,batch_size=16)\n",
    "data.setup_dataloaders()\n",
    "model = ClassificationModel(model_checkpoint=data.model_checkpoint,num_labels=data.num_labels)\n",
    "trainer = Engine(epochs=30,labels=data.labels)\n",
    "trainer.model = model.model\n",
    "trainer.dataset_encoded = data.dataset_encoded\n",
    "acc, f1 = trainer.run(lr=lr,\n",
    "                        wd=0.0,\n",
    "                        train_dataloader=data.train_dataloader,\n",
    "                        eval_dataloader=data.eval_dataloader,\n",
    "                        test_dataloader=data.test_dataloader,\n",
    "                        focalloss=True,\n",
    "                        early_stop=3,\n",
    "                        accumulation_steps=2,\n",
    "                        gamma=g)\n",
    "results['acc'].append(acc)\n",
    "results['f1'].append(f1)\n",
    "results['g'].append(g)\n",
    "print('### '*10)\n",
    "print(results)\n",
    "print('### '*10)"
   ]
  },
  {
   "cell_type": "code",
   "execution_count": 4,
   "metadata": {},
   "outputs": [
    {
     "name": "stdout",
     "output_type": "stream",
     "text": [
      "Grid search roberta-large, lr: 5e-05 ,focal loss, gamma: 4\n"
     ]
    },
    {
     "name": "stderr",
     "output_type": "stream",
     "text": [
      "Some weights of RobertaForSequenceClassification were not initialized from the model checkpoint at roberta-large and are newly initialized: ['classifier.out_proj.bias', 'classifier.dense.weight', 'classifier.out_proj.weight', 'classifier.dense.bias']\n",
      "You should probably TRAIN this model on a down-stream task to be able to use it for predictions and inference.\n",
      "You're using a RobertaTokenizerFast tokenizer. Please note that with a fast tokenizer, using the `__call__` method is faster than using a method to encode the text followed by a call to the `pad` method to get a padded encoding.\n"
     ]
    },
    {
     "name": "stdout",
     "output_type": "stream",
     "text": [
      "1 / 30: Train Loss:\t4.9338\tVal Loss:\t1.4958\tAccuracy:\t0.4586\tF1:\t0.3883\n",
      "2 / 30: Train Loss:\t2.3976\tVal Loss:\t1.3185\tAccuracy:\t0.5059\tF1:\t0.4763\n",
      "3 / 30: Train Loss:\t1.5459\tVal Loss:\t0.9801\tAccuracy:\t0.7101\tF1:\t0.6815\n",
      "4 / 30: Train Loss:\t0.7714\tVal Loss:\t1.0118\tAccuracy:\t0.6213\tF1:\t0.6049\n",
      "5 / 30: Train Loss:\t0.3490\tVal Loss:\t0.7490\tAccuracy:\t0.7426\tF1:\t0.7331\n",
      "6 / 30: Train Loss:\t0.3082\tVal Loss:\t0.9335\tAccuracy:\t0.7337\tF1:\t0.7205\n",
      "7 / 30: Train Loss:\t0.1768\tVal Loss:\t0.7992\tAccuracy:\t0.7396\tF1:\t0.7371\n",
      "8 / 30: Train Loss:\t0.0629\tVal Loss:\t0.7906\tAccuracy:\t0.7308\tF1:\t0.7230\n",
      "9 / 30: Train Loss:\t0.0591\tVal Loss:\t0.7376\tAccuracy:\t0.7633\tF1:\t0.7524\n",
      "10 / 30: Train Loss:\t0.0138\tVal Loss:\t0.7181\tAccuracy:\t0.7663\tF1:\t0.7502\n",
      "11 / 30: Train Loss:\t0.0110\tVal Loss:\t0.6948\tAccuracy:\t0.7959\tF1:\t0.7648\n",
      "12 / 30: Train Loss:\t0.0245\tVal Loss:\t0.7334\tAccuracy:\t0.7574\tF1:\t0.7323\n",
      "13 / 30: Train Loss:\t0.0119\tVal Loss:\t0.6968\tAccuracy:\t0.7811\tF1:\t0.7509\n",
      "14 / 30: Train Loss:\t0.0042\tVal Loss:\t0.7028\tAccuracy:\t0.7811\tF1:\t0.7567\n",
      "No improvement for 3 epochs. Stopping early.\n",
      "best (higgest macro f1-score) val results:\n",
      "                         precision    recall  f1-score   support\n",
      "\n",
      "             ad hominem       0.78      0.75      0.76        67\n",
      "               anecdote       0.88      0.88      0.88        43\n",
      "         cherry picking       0.73      0.84      0.78        56\n",
      "      conspiracy theory       0.88      0.90      0.89        39\n",
      "           fake experts       0.71      1.00      0.83        12\n",
      "           false choice       0.83      0.77      0.80        13\n",
      "      false equivalence       0.42      0.36      0.38        14\n",
      "impossible expectations       0.78      0.68      0.72        37\n",
      "           single cause       0.78      0.74      0.76        57\n",
      "\n",
      "               accuracy                           0.78       338\n",
      "              macro avg       0.75      0.77      0.76       338\n",
      "           weighted avg       0.78      0.78      0.78       338\n",
      "\n",
      "test results:\n",
      "                         precision    recall  f1-score   support\n",
      "\n",
      "             ad hominem       0.79      0.84      0.82        37\n",
      "               anecdote       0.95      0.83      0.89        24\n",
      "         cherry picking       0.79      0.84      0.81        31\n",
      "      conspiracy theory       0.77      0.77      0.77        22\n",
      "           fake experts       1.00      1.00      1.00         7\n",
      "           false choice       0.50      0.71      0.59         7\n",
      "      false equivalence       0.40      0.25      0.31         8\n",
      "impossible expectations       0.78      0.86      0.82        21\n",
      "           single cause       0.86      0.78      0.82        32\n",
      "\n",
      "               accuracy                           0.80       189\n",
      "              macro avg       0.76      0.77      0.76       189\n",
      "           weighted avg       0.80      0.80      0.80       189\n",
      "\n",
      "### ### ### ### ### ### ### ### ### ### \n",
      "{'acc': [0.798941798941799], 'f1': [0.758187465159965], 'g': [4]}\n",
      "### ### ### ### ### ### ### ### ### ### \n"
     ]
    }
   ],
   "source": [
    "lr = 5.0e-5\n",
    "g = 4\n",
    "\n",
    "print(f'Grid search {model_checkpoint}, lr: {lr} ,focal loss, gamma: {g}')\n",
    "data = ClimateDataset(model_to_train=3,model_checkpoint=model_checkpoint,batch_size=16)\n",
    "data.setup_dataloaders()\n",
    "model = ClassificationModel(model_checkpoint=data.model_checkpoint,num_labels=data.num_labels)\n",
    "trainer = Engine(epochs=30,labels=data.labels)\n",
    "trainer.model = model.model\n",
    "trainer.dataset_encoded = data.dataset_encoded\n",
    "acc, f1 = trainer.run(lr=lr,\n",
    "                        wd=0.0,\n",
    "                        train_dataloader=data.train_dataloader,\n",
    "                        eval_dataloader=data.eval_dataloader,\n",
    "                        test_dataloader=data.test_dataloader,\n",
    "                        focalloss=True,\n",
    "                        early_stop=3,\n",
    "                        accumulation_steps=2,\n",
    "                        gamma=g)\n",
    "results['acc'].append(acc)\n",
    "results['f1'].append(f1)\n",
    "results['g'].append(g)\n",
    "print('### '*10)\n",
    "print(results)\n",
    "print('### '*10)"
   ]
  },
  {
   "cell_type": "code",
   "execution_count": 4,
   "metadata": {},
   "outputs": [
    {
     "name": "stdout",
     "output_type": "stream",
     "text": [
      "Grid search roberta-large, lr: 5e-05 ,focal loss, gamma: 8\n"
     ]
    },
    {
     "name": "stderr",
     "output_type": "stream",
     "text": [
      "Some weights of RobertaForSequenceClassification were not initialized from the model checkpoint at roberta-large and are newly initialized: ['classifier.out_proj.weight', 'classifier.out_proj.bias', 'classifier.dense.weight', 'classifier.dense.bias']\n",
      "You should probably TRAIN this model on a down-stream task to be able to use it for predictions and inference.\n",
      "You're using a RobertaTokenizerFast tokenizer. Please note that with a fast tokenizer, using the `__call__` method is faster than using a method to encode the text followed by a call to the `pad` method to get a padded encoding.\n"
     ]
    },
    {
     "name": "stdout",
     "output_type": "stream",
     "text": [
      "1 / 30: Train Loss:\t3.5759\tVal Loss:\t1.9962\tAccuracy:\t0.2160\tF1:\t0.1366\n",
      "2 / 30: Train Loss:\t2.5219\tVal Loss:\t1.5231\tAccuracy:\t0.5118\tF1:\t0.4796\n",
      "3 / 30: Train Loss:\t1.1590\tVal Loss:\t1.2386\tAccuracy:\t0.5976\tF1:\t0.5771\n",
      "4 / 30: Train Loss:\t0.6043\tVal Loss:\t1.2250\tAccuracy:\t0.5680\tF1:\t0.5386\n",
      "5 / 30: Train Loss:\t0.5701\tVal Loss:\t1.2020\tAccuracy:\t0.6213\tF1:\t0.5759\n",
      "6 / 30: Train Loss:\t0.4711\tVal Loss:\t1.0907\tAccuracy:\t0.6686\tF1:\t0.6449\n",
      "7 / 30: Train Loss:\t0.1407\tVal Loss:\t0.9496\tAccuracy:\t0.7041\tF1:\t0.6731\n",
      "8 / 30: Train Loss:\t0.0475\tVal Loss:\t0.9107\tAccuracy:\t0.6923\tF1:\t0.6597\n",
      "9 / 30: Train Loss:\t0.0245\tVal Loss:\t0.8962\tAccuracy:\t0.6953\tF1:\t0.6693\n",
      "10 / 30: Train Loss:\t0.0124\tVal Loss:\t0.9172\tAccuracy:\t0.7101\tF1:\t0.6841\n",
      "11 / 30: Train Loss:\t0.0065\tVal Loss:\t0.8875\tAccuracy:\t0.7249\tF1:\t0.6916\n",
      "12 / 30: Train Loss:\t0.0878\tVal Loss:\t1.1018\tAccuracy:\t0.6479\tF1:\t0.6595\n",
      "13 / 30: Train Loss:\t0.1446\tVal Loss:\t1.0995\tAccuracy:\t0.6272\tF1:\t0.6034\n",
      "14 / 30: Train Loss:\t0.0764\tVal Loss:\t0.9932\tAccuracy:\t0.6746\tF1:\t0.6625\n",
      "No improvement for 3 epochs. Stopping early.\n",
      "best (higgest macro f1-score) val results:\n",
      "                         precision    recall  f1-score   support\n",
      "\n",
      "             ad hominem       0.79      0.51      0.62        67\n",
      "               anecdote       0.90      0.86      0.88        43\n",
      "         cherry picking       0.56      0.89      0.68        56\n",
      "      conspiracy theory       0.75      0.77      0.76        39\n",
      "           fake experts       0.41      0.92      0.56        12\n",
      "           false choice       0.91      0.77      0.83        13\n",
      "      false equivalence       0.32      0.50      0.39        14\n",
      "impossible expectations       0.78      0.49      0.60        37\n",
      "           single cause       0.76      0.54      0.63        57\n",
      "\n",
      "               accuracy                           0.67       338\n",
      "              macro avg       0.69      0.69      0.66       338\n",
      "           weighted avg       0.73      0.67      0.68       338\n",
      "\n",
      "test results:\n",
      "                         precision    recall  f1-score   support\n",
      "\n",
      "             ad hominem       0.76      0.59      0.67        37\n",
      "               anecdote       0.88      0.92      0.90        24\n",
      "         cherry picking       0.47      0.84      0.60        31\n",
      "      conspiracy theory       0.94      0.68      0.79        22\n",
      "           fake experts       0.50      1.00      0.67         7\n",
      "           false choice       0.67      0.57      0.62         7\n",
      "      false equivalence       0.25      0.25      0.25         8\n",
      "impossible expectations       0.83      0.48      0.61        21\n",
      "           single cause       0.79      0.59      0.68        32\n",
      "\n",
      "               accuracy                           0.67       189\n",
      "              macro avg       0.68      0.66      0.64       189\n",
      "           weighted avg       0.73      0.67      0.68       189\n",
      "\n",
      "### ### ### ### ### ### ### ### ### ### \n",
      "{'acc': [0.671957671957672], 'f1': [0.6417148904471863], 'g': [8]}\n",
      "### ### ### ### ### ### ### ### ### ### \n"
     ]
    }
   ],
   "source": [
    "lr = 5.0e-5\n",
    "g = 8\n",
    "\n",
    "print(f'Grid search {model_checkpoint}, lr: {lr} ,focal loss, gamma: {g}')\n",
    "data = ClimateDataset(model_to_train=3,model_checkpoint=model_checkpoint,batch_size=16)\n",
    "data.setup_dataloaders()\n",
    "model = ClassificationModel(model_checkpoint=data.model_checkpoint,num_labels=data.num_labels)\n",
    "trainer = Engine(epochs=30,labels=data.labels)\n",
    "trainer.model = model.model\n",
    "trainer.dataset_encoded = data.dataset_encoded\n",
    "acc, f1 = trainer.run(lr=lr,\n",
    "                        wd=0.0,\n",
    "                        train_dataloader=data.train_dataloader,\n",
    "                        eval_dataloader=data.eval_dataloader,\n",
    "                        test_dataloader=data.test_dataloader,\n",
    "                        focalloss=True,\n",
    "                        early_stop=3,\n",
    "                        accumulation_steps=2,\n",
    "                        gamma=g)\n",
    "results['acc'].append(acc)\n",
    "results['f1'].append(f1)\n",
    "results['g'].append(g)\n",
    "print('### '*10)\n",
    "print(results)\n",
    "print('### '*10)"
   ]
  },
  {
   "cell_type": "code",
   "execution_count": 4,
   "metadata": {},
   "outputs": [
    {
     "name": "stdout",
     "output_type": "stream",
     "text": [
      "Grid search roberta-large, lr: 5e-05 ,focal loss, gamma: 16\n"
     ]
    },
    {
     "name": "stderr",
     "output_type": "stream",
     "text": [
      "Some weights of RobertaForSequenceClassification were not initialized from the model checkpoint at roberta-large and are newly initialized: ['classifier.dense.bias', 'classifier.dense.weight', 'classifier.out_proj.weight', 'classifier.out_proj.bias']\n",
      "You should probably TRAIN this model on a down-stream task to be able to use it for predictions and inference.\n",
      "You're using a RobertaTokenizerFast tokenizer. Please note that with a fast tokenizer, using the `__call__` method is faster than using a method to encode the text followed by a call to the `pad` method to get a padded encoding.\n"
     ]
    },
    {
     "name": "stdout",
     "output_type": "stream",
     "text": [
      "1 / 30: Train Loss:\t1.2556\tVal Loss:\t1.6822\tAccuracy:\t0.3550\tF1:\t0.3342\n",
      "2 / 30: Train Loss:\t0.6387\tVal Loss:\t1.5973\tAccuracy:\t0.5089\tF1:\t0.4759\n",
      "3 / 30: Train Loss:\t0.2574\tVal Loss:\t1.3333\tAccuracy:\t0.6657\tF1:\t0.6232\n",
      "4 / 30: Train Loss:\t0.1310\tVal Loss:\t1.4455\tAccuracy:\t0.4290\tF1:\t0.4064\n",
      "5 / 30: Train Loss:\t0.2972\tVal Loss:\t1.4242\tAccuracy:\t0.5414\tF1:\t0.5012\n",
      "6 / 30: Train Loss:\t0.1751\tVal Loss:\t1.2359\tAccuracy:\t0.6331\tF1:\t0.6072\n",
      "No improvement for 3 epochs. Stopping early.\n",
      "best (higgest macro f1-score) val results:\n",
      "                         precision    recall  f1-score   support\n",
      "\n",
      "             ad hominem       0.70      0.34      0.46        67\n",
      "               anecdote       0.84      0.86      0.85        43\n",
      "         cherry picking       0.63      0.68      0.66        56\n",
      "      conspiracy theory       0.55      0.92      0.69        39\n",
      "           fake experts       0.42      0.83      0.56        12\n",
      "           false choice       0.69      0.85      0.76        13\n",
      "      false equivalence       0.23      0.21      0.22        14\n",
      "impossible expectations       0.80      0.54      0.65        37\n",
      "           single cause       0.63      0.63      0.63        57\n",
      "\n",
      "               accuracy                           0.63       338\n",
      "              macro avg       0.61      0.65      0.61       338\n",
      "           weighted avg       0.66      0.63      0.62       338\n",
      "\n",
      "test results:\n",
      "                         precision    recall  f1-score   support\n",
      "\n",
      "             ad hominem       0.89      0.43      0.58        37\n",
      "               anecdote       0.85      0.92      0.88        24\n",
      "         cherry picking       0.71      0.65      0.68        31\n",
      "      conspiracy theory       0.54      0.91      0.68        22\n",
      "           fake experts       0.78      1.00      0.88         7\n",
      "           false choice       0.44      0.57      0.50         7\n",
      "      false equivalence       0.25      0.38      0.30         8\n",
      "impossible expectations       0.68      0.62      0.65        21\n",
      "           single cause       0.68      0.66      0.67        32\n",
      "\n",
      "               accuracy                           0.67       189\n",
      "              macro avg       0.65      0.68      0.65       189\n",
      "           weighted avg       0.71      0.67      0.66       189\n",
      "\n",
      "### ### ### ### ### ### ### ### ### ### \n",
      "{'acc': [0.6666666666666666], 'f1': [0.645490783541631], 'g': [16]}\n",
      "### ### ### ### ### ### ### ### ### ### \n"
     ]
    }
   ],
   "source": [
    "lr = 5.0e-5\n",
    "g = 16\n",
    "\n",
    "print(f'Grid search {model_checkpoint}, lr: {lr} ,focal loss, gamma: {g}')\n",
    "data = ClimateDataset(model_to_train=3,model_checkpoint=model_checkpoint,batch_size=16)\n",
    "data.setup_dataloaders()\n",
    "model = ClassificationModel(model_checkpoint=data.model_checkpoint,num_labels=data.num_labels)\n",
    "trainer = Engine(epochs=30,labels=data.labels)\n",
    "trainer.model = model.model\n",
    "trainer.dataset_encoded = data.dataset_encoded\n",
    "acc, f1 = trainer.run(lr=lr,\n",
    "                        wd=0.0,\n",
    "                        train_dataloader=data.train_dataloader,\n",
    "                        eval_dataloader=data.eval_dataloader,\n",
    "                        test_dataloader=data.test_dataloader,\n",
    "                        focalloss=True,\n",
    "                        early_stop=3,\n",
    "                        accumulation_steps=2,\n",
    "                        gamma=g)\n",
    "results['acc'].append(acc)\n",
    "results['f1'].append(f1)\n",
    "results['g'].append(g)\n",
    "print('### '*10)\n",
    "print(results)\n",
    "print('### '*10)"
   ]
  },
  {
   "cell_type": "code",
   "execution_count": 5,
   "metadata": {},
   "outputs": [],
   "source": [
    "from collections import defaultdict \n",
    "\n",
    "a = {'acc': [0.037037037037037035], 'f1': [0.007936507936507936], 'g': [2]}\n",
    "b = {'acc': [0.798941798941799], 'f1': [0.758187465159965], 'g': [4]}\n",
    "c = {'acc': [0.671957671957672], 'f1': [0.6417148904471863], 'g': [8]}\n",
    "d = {'acc': [0.6666666666666666], 'f1': [0.645490783541631], 'g': [16]}\n",
    "\n",
    "results = defaultdict(list)\n",
    "for d in (a,b,c,d):\n",
    "    for k,v in d.items():\n",
    "        results[k].append(v[0])"
   ]
  },
  {
   "cell_type": "code",
   "execution_count": 6,
   "metadata": {},
   "outputs": [],
   "source": [
    "import matplotlib.pyplot as plt\n",
    "import seaborn as sns\n",
    "import pandas as pd"
   ]
  },
  {
   "cell_type": "code",
   "execution_count": 7,
   "metadata": {},
   "outputs": [
    {
     "data": {
      "image/png": "[encoded data removed]",
      "text/plain": [
       "<Figure size 640x480 with 1 Axes>"
      ]
     },
     "metadata": {},
     "output_type": "display_data"
    }
   ],
   "source": [
    "def plot_grid_search(df, title):\n",
    "\n",
    "    # Create the plot\n",
    "    ax = df.plot(x='g', y=['acc', 'f1'], marker='o', linestyle='-')\n",
    "\n",
    "    # Set y-axis range between 0 and 1\n",
    "    plt.ylim(0, 1)\n",
    "\n",
    "    # Annotate points with F1 scores\n",
    "    for i, row in df.iterrows(): \n",
    "        ax.annotate(f'{row[\"f1\"]:.2f}', (row[\"g\"], row[\"f1\"]), textcoords='offset points', xytext=(0, -10), ha='center')\n",
    "\n",
    "    # Annotate points with Acc scores\n",
    "    for i, row in df.iterrows():\n",
    "        ax.annotate(f'{row[\"acc\"]:.2f}', (row[\"g\"], row[\"acc\"]), textcoords='offset points', xytext=(0, 10), ha='center')\n",
    "    \n",
    "    # \n",
    "    plt.xticks(df['g'], [val for val in df['g']], ha='center')\n",
    "    plt.minorticks_off()\n",
    "\n",
    "    plt.title(title)\n",
    "    plt.xlabel('gamma')\n",
    "    plt.ylabel('Score')\n",
    "    plt.show()\n",
    "\n",
    "plot_grid_search(pd.DataFrame(results), f'Focal loss, lr: 1.0e-5 {model_checkpoint}')"
   ]
  },
  {
   "cell_type": "code",
   "execution_count": null,
   "metadata": {},
   "outputs": [],
   "source": []
  }
 ],
 "metadata": {
  "kernelspec": {
   "display_name": "base",
   "language": "python",
   "name": "python3"
  },
  "language_info": {
   "codemirror_mode": {
    "name": "ipython",
    "version": 3
   },
   "file_extension": ".py",
   "mimetype": "text/x-python",
   "name": "python",
   "nbconvert_exporter": "python",
   "pygments_lexer": "ipython3",
   "version": "3.11.5"
  }
 },
 "nbformat": 4,
 "nbformat_minor": 2
}
