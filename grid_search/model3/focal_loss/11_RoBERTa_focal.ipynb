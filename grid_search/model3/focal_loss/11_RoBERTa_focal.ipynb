{
 "cells": [
  {
   "cell_type": "code",
   "execution_count": 1,
   "metadata": {},
   "outputs": [],
   "source": [
    "import os\n",
    "import sys\n",
    "import gc\n",
    "# assuming data, models, engine in flicc directory:\n",
    "flicc_path = os.path.realpath(\"__file__\").split('grid_search')[0]\n",
    "sys.path.append(flicc_path)\n",
    "import torch\n",
    "from data import ClimateDataset\n",
    "from models import ClassificationModel\n",
    "from engine import Engine"
   ]
  },
  {
   "cell_type": "code",
   "execution_count": 2,
   "metadata": {},
   "outputs": [],
   "source": [
    "model_checkpoint='roberta-large'"
   ]
  },
  {
   "cell_type": "code",
   "execution_count": 3,
   "metadata": {},
   "outputs": [],
   "source": [
    "results = {'test_acc':[],\n",
    "           'test_f1':[],\n",
    "           'eval_acc':[],\n",
    "           'eval_f1':[],\n",
    "           'g':[]}"
   ]
  },
  {
   "cell_type": "code",
   "execution_count": 4,
   "metadata": {},
   "outputs": [
    {
     "name": "stdout",
     "output_type": "stream",
     "text": [
      "Grid search roberta-large, learning rate 1e-05, focal loss gamma 2\n"
     ]
    },
    {
     "name": "stderr",
     "output_type": "stream",
     "text": [
      "Some weights of RobertaForSequenceClassification were not initialized from the model checkpoint at roberta-large and are newly initialized: ['classifier.dense.weight', 'classifier.out_proj.weight', 'classifier.out_proj.bias', 'classifier.dense.bias']\n",
      "You should probably TRAIN this model on a down-stream task to be able to use it for predictions and inference.\n",
      "You're using a RobertaTokenizerFast tokenizer. Please note that with a fast tokenizer, using the `__call__` method is faster than using a method to encode the text followed by a call to the `pad` method to get a padded encoding.\n"
     ]
    },
    {
     "name": "stdout",
     "output_type": "stream",
     "text": [
      "1 / 30: Train Loss:\t7.7766\tVal Loss:\t1.8926\tAccuracy:\t0.3521\tF1:\t0.2861\n",
      "2 / 30: Train Loss:\t4.3549\tVal Loss:\t1.1955\tAccuracy:\t0.6124\tF1:\t0.5786\n",
      "3 / 30: Train Loss:\t1.9726\tVal Loss:\t0.9521\tAccuracy:\t0.6953\tF1:\t0.6745\n",
      "4 / 30: Train Loss:\t1.0983\tVal Loss:\t0.8465\tAccuracy:\t0.7308\tF1:\t0.7296\n",
      "5 / 30: Train Loss:\t0.6568\tVal Loss:\t0.7940\tAccuracy:\t0.7633\tF1:\t0.7490\n",
      "6 / 30: Train Loss:\t0.3562\tVal Loss:\t0.7678\tAccuracy:\t0.7692\tF1:\t0.7451\n",
      "7 / 30: Train Loss:\t0.2227\tVal Loss:\t0.8047\tAccuracy:\t0.7456\tF1:\t0.7318\n",
      "8 / 30: Train Loss:\t0.1580\tVal Loss:\t0.8038\tAccuracy:\t0.7604\tF1:\t0.7384\n",
      "No improvement for 3 epochs. Stopping early.\n",
      "best (higgest macro f1-score) val results:\n",
      "                         precision    recall  f1-score   support\n",
      "\n",
      "             ad hominem       0.82      0.73      0.77        67\n",
      "               anecdote       0.95      0.88      0.92        43\n",
      "         cherry picking       0.76      0.80      0.78        56\n",
      "      conspiracy theory       0.80      0.90      0.84        39\n",
      "           fake experts       0.69      0.92      0.79        12\n",
      "           false choice       0.73      0.85      0.79        13\n",
      "      false equivalence       0.30      0.71      0.43        14\n",
      "impossible expectations       0.80      0.65      0.72        37\n",
      "           single cause       0.85      0.61      0.71        57\n",
      "\n",
      "               accuracy                           0.76       338\n",
      "              macro avg       0.74      0.78      0.75       338\n",
      "           weighted avg       0.80      0.76      0.77       338\n",
      "\n",
      "test results:\n",
      "                         precision    recall  f1-score   support\n",
      "\n",
      "             ad hominem       0.86      0.81      0.83        37\n",
      "               anecdote       0.91      0.88      0.89        24\n",
      "         cherry picking       0.76      0.71      0.73        31\n",
      "      conspiracy theory       0.83      0.86      0.84        22\n",
      "           fake experts       1.00      0.86      0.92         7\n",
      "           false choice       0.62      0.71      0.67         7\n",
      "      false equivalence       0.19      0.38      0.25         8\n",
      "impossible expectations       0.86      0.86      0.86        21\n",
      "           single cause       0.79      0.69      0.73        32\n",
      "\n",
      "               accuracy                           0.77       189\n",
      "              macro avg       0.76      0.75      0.75       189\n",
      "           weighted avg       0.80      0.77      0.78       189\n",
      "\n",
      "### ### ### ### ### ### ### ### ### ### \n",
      "{'test_acc': [0.7724867724867724], 'test_f1': [0.7483275458452764], 'eval_acc': [0.7633136094674556], 'eval_f1': [0.748995832732582], 'g': [2]}\n",
      "### ### ### ### ### ### ### ### ### ### \n",
      "Grid search roberta-large, learning rate 1e-05, focal loss gamma 4\n"
     ]
    },
    {
     "name": "stderr",
     "output_type": "stream",
     "text": [
      "Some weights of RobertaForSequenceClassification were not initialized from the model checkpoint at roberta-large and are newly initialized: ['classifier.dense.weight', 'classifier.out_proj.weight', 'classifier.out_proj.bias', 'classifier.dense.bias']\n",
      "You should probably TRAIN this model on a down-stream task to be able to use it for predictions and inference.\n",
      "You're using a RobertaTokenizerFast tokenizer. Please note that with a fast tokenizer, using the `__call__` method is faster than using a method to encode the text followed by a call to the `pad` method to get a padded encoding.\n"
     ]
    },
    {
     "name": "stdout",
     "output_type": "stream",
     "text": [
      "1 / 30: Train Loss:\t6.1470\tVal Loss:\t1.8950\tAccuracy:\t0.3698\tF1:\t0.2795\n",
      "2 / 30: Train Loss:\t2.9964\tVal Loss:\t1.2039\tAccuracy:\t0.6361\tF1:\t0.6105\n",
      "3 / 30: Train Loss:\t1.1687\tVal Loss:\t0.9442\tAccuracy:\t0.7041\tF1:\t0.6989\n",
      "4 / 30: Train Loss:\t0.5808\tVal Loss:\t0.9022\tAccuracy:\t0.7456\tF1:\t0.7337\n",
      "5 / 30: Train Loss:\t0.2538\tVal Loss:\t0.8508\tAccuracy:\t0.7396\tF1:\t0.7118\n",
      "6 / 30: Train Loss:\t0.1821\tVal Loss:\t0.8102\tAccuracy:\t0.7544\tF1:\t0.7417\n",
      "7 / 30: Train Loss:\t0.1899\tVal Loss:\t0.8277\tAccuracy:\t0.7544\tF1:\t0.7367\n",
      "8 / 30: Train Loss:\t0.1590\tVal Loss:\t0.8175\tAccuracy:\t0.7367\tF1:\t0.7235\n",
      "9 / 30: Train Loss:\t0.0853\tVal Loss:\t0.7668\tAccuracy:\t0.7485\tF1:\t0.7333\n",
      "No improvement for 3 epochs. Stopping early.\n",
      "best (higgest macro f1-score) val results:\n",
      "                         precision    recall  f1-score   support\n",
      "\n",
      "             ad hominem       0.75      0.72      0.73        67\n",
      "               anecdote       0.90      0.84      0.87        43\n",
      "         cherry picking       0.61      0.84      0.71        56\n",
      "      conspiracy theory       0.82      0.85      0.84        39\n",
      "           fake experts       0.75      0.75      0.75        12\n",
      "           false choice       0.79      0.85      0.81        13\n",
      "      false equivalence       0.55      0.43      0.48        14\n",
      "impossible expectations       0.71      0.73      0.72        37\n",
      "           single cause       0.90      0.67      0.77        57\n",
      "\n",
      "               accuracy                           0.75       338\n",
      "              macro avg       0.75      0.74      0.74       338\n",
      "           weighted avg       0.77      0.75      0.76       338\n",
      "\n",
      "test results:\n",
      "                         precision    recall  f1-score   support\n",
      "\n",
      "             ad hominem       0.78      0.76      0.77        37\n",
      "               anecdote       0.91      0.88      0.89        24\n",
      "         cherry picking       0.63      0.77      0.70        31\n",
      "      conspiracy theory       0.78      0.82      0.80        22\n",
      "           fake experts       1.00      0.71      0.83         7\n",
      "           false choice       0.50      0.71      0.59         7\n",
      "      false equivalence       0.43      0.38      0.40         8\n",
      "impossible expectations       0.72      0.86      0.78        21\n",
      "           single cause       0.91      0.62      0.74        32\n",
      "\n",
      "               accuracy                           0.75       189\n",
      "              macro avg       0.74      0.72      0.72       189\n",
      "           weighted avg       0.77      0.75      0.75       189\n",
      "\n",
      "### ### ### ### ### ### ### ### ### ### \n",
      "{'test_acc': [0.7724867724867724, 0.7513227513227513], 'test_f1': [0.7483275458452764, 0.7223678385227519], 'eval_acc': [0.7633136094674556, 0.7544378698224852], 'eval_f1': [0.748995832732582, 0.7416662049731653], 'g': [2, 4]}\n",
      "### ### ### ### ### ### ### ### ### ### \n",
      "Grid search roberta-large, learning rate 1e-05, focal loss gamma 8\n"
     ]
    },
    {
     "name": "stderr",
     "output_type": "stream",
     "text": [
      "Some weights of RobertaForSequenceClassification were not initialized from the model checkpoint at roberta-large and are newly initialized: ['classifier.dense.weight', 'classifier.out_proj.weight', 'classifier.out_proj.bias', 'classifier.dense.bias']\n",
      "You should probably TRAIN this model on a down-stream task to be able to use it for predictions and inference.\n",
      "You're using a RobertaTokenizerFast tokenizer. Please note that with a fast tokenizer, using the `__call__` method is faster than using a method to encode the text followed by a call to the `pad` method to get a padded encoding.\n"
     ]
    },
    {
     "name": "stdout",
     "output_type": "stream",
     "text": [
      "1 / 30: Train Loss:\t3.8853\tVal Loss:\t1.9431\tAccuracy:\t0.3609\tF1:\t0.2954\n",
      "2 / 30: Train Loss:\t1.7429\tVal Loss:\t1.3027\tAccuracy:\t0.6006\tF1:\t0.5727\n",
      "3 / 30: Train Loss:\t0.6378\tVal Loss:\t1.0756\tAccuracy:\t0.7071\tF1:\t0.6774\n",
      "4 / 30: Train Loss:\t0.2945\tVal Loss:\t1.0105\tAccuracy:\t0.7249\tF1:\t0.7047\n",
      "5 / 30: Train Loss:\t0.1319\tVal Loss:\t0.9680\tAccuracy:\t0.7278\tF1:\t0.7157\n",
      "6 / 30: Train Loss:\t0.0763\tVal Loss:\t0.9027\tAccuracy:\t0.7485\tF1:\t0.7267\n",
      "7 / 30: Train Loss:\t0.0384\tVal Loss:\t0.8950\tAccuracy:\t0.7456\tF1:\t0.7227\n",
      "8 / 30: Train Loss:\t0.0240\tVal Loss:\t0.8665\tAccuracy:\t0.7515\tF1:\t0.7420\n",
      "9 / 30: Train Loss:\t0.0222\tVal Loss:\t0.8642\tAccuracy:\t0.7515\tF1:\t0.7329\n",
      "10 / 30: Train Loss:\t0.0184\tVal Loss:\t0.8733\tAccuracy:\t0.7456\tF1:\t0.7334\n",
      "11 / 30: Train Loss:\t0.0116\tVal Loss:\t0.8483\tAccuracy:\t0.7485\tF1:\t0.7297\n",
      "No improvement for 3 epochs. Stopping early.\n",
      "best (higgest macro f1-score) val results:\n",
      "                         precision    recall  f1-score   support\n",
      "\n",
      "             ad hominem       0.73      0.66      0.69        67\n",
      "               anecdote       0.92      0.84      0.88        43\n",
      "         cherry picking       0.75      0.82      0.79        56\n",
      "      conspiracy theory       0.78      0.79      0.78        39\n",
      "           fake experts       0.71      0.83      0.77        12\n",
      "           false choice       0.75      0.92      0.83        13\n",
      "      false equivalence       0.42      0.57      0.48        14\n",
      "impossible expectations       0.74      0.68      0.70        37\n",
      "           single cause       0.76      0.74      0.75        57\n",
      "\n",
      "               accuracy                           0.75       338\n",
      "              macro avg       0.73      0.76      0.74       338\n",
      "           weighted avg       0.76      0.75      0.75       338\n",
      "\n",
      "test results:\n",
      "                         precision    recall  f1-score   support\n",
      "\n",
      "             ad hominem       0.74      0.78      0.76        37\n",
      "               anecdote       0.95      0.88      0.91        24\n",
      "         cherry picking       0.72      0.74      0.73        31\n",
      "      conspiracy theory       0.84      0.73      0.78        22\n",
      "           fake experts       1.00      0.86      0.92         7\n",
      "           false choice       0.42      0.71      0.53         7\n",
      "      false equivalence       0.60      0.38      0.46         8\n",
      "impossible expectations       0.76      0.76      0.76        21\n",
      "           single cause       0.73      0.75      0.74        32\n",
      "\n",
      "               accuracy                           0.76       189\n",
      "              macro avg       0.75      0.73      0.73       189\n",
      "           weighted avg       0.77      0.76      0.76       189\n",
      "\n",
      "### ### ### ### ### ### ### ### ### ### \n",
      "{'test_acc': [0.7724867724867724, 0.7513227513227513, 0.7566137566137566], 'test_f1': [0.7483275458452764, 0.7223678385227519, 0.7331272647210956], 'eval_acc': [0.7633136094674556, 0.7544378698224852, 0.7514792899408284], 'eval_f1': [0.748995832732582, 0.7416662049731653, 0.7419986547011247], 'g': [2, 4, 8]}\n",
      "### ### ### ### ### ### ### ### ### ### \n",
      "Grid search roberta-large, learning rate 1e-05, focal loss gamma 16\n"
     ]
    },
    {
     "name": "stderr",
     "output_type": "stream",
     "text": [
      "Some weights of RobertaForSequenceClassification were not initialized from the model checkpoint at roberta-large and are newly initialized: ['classifier.dense.weight', 'classifier.out_proj.weight', 'classifier.out_proj.bias', 'classifier.dense.bias']\n",
      "You should probably TRAIN this model on a down-stream task to be able to use it for predictions and inference.\n",
      "You're using a RobertaTokenizerFast tokenizer. Please note that with a fast tokenizer, using the `__call__` method is faster than using a method to encode the text followed by a call to the `pad` method to get a padded encoding.\n"
     ]
    },
    {
     "name": "stdout",
     "output_type": "stream",
     "text": [
      "1 / 30: Train Loss:\t1.6026\tVal Loss:\t2.0768\tAccuracy:\t0.3018\tF1:\t0.2412\n",
      "2 / 30: Train Loss:\t0.6787\tVal Loss:\t1.5151\tAccuracy:\t0.5592\tF1:\t0.5309\n",
      "3 / 30: Train Loss:\t0.2244\tVal Loss:\t1.2547\tAccuracy:\t0.6775\tF1:\t0.6524\n",
      "4 / 30: Train Loss:\t0.1059\tVal Loss:\t1.1685\tAccuracy:\t0.7249\tF1:\t0.7055\n",
      "5 / 30: Train Loss:\t0.0503\tVal Loss:\t1.1056\tAccuracy:\t0.7278\tF1:\t0.7216\n",
      "6 / 30: Train Loss:\t0.0265\tVal Loss:\t1.0557\tAccuracy:\t0.7308\tF1:\t0.7192\n",
      "7 / 30: Train Loss:\t0.0241\tVal Loss:\t1.0323\tAccuracy:\t0.7278\tF1:\t0.6988\n",
      "8 / 30: Train Loss:\t0.0093\tVal Loss:\t0.9962\tAccuracy:\t0.7515\tF1:\t0.7259\n",
      "9 / 30: Train Loss:\t0.0195\tVal Loss:\t1.0262\tAccuracy:\t0.7426\tF1:\t0.7268\n",
      "10 / 30: Train Loss:\t0.0089\tVal Loss:\t0.9936\tAccuracy:\t0.7278\tF1:\t0.6983\n",
      "11 / 30: Train Loss:\t0.0045\tVal Loss:\t0.9603\tAccuracy:\t0.7426\tF1:\t0.7276\n",
      "12 / 30: Train Loss:\t0.0038\tVal Loss:\t0.9387\tAccuracy:\t0.7544\tF1:\t0.7391\n",
      "13 / 30: Train Loss:\t0.0024\tVal Loss:\t0.9454\tAccuracy:\t0.7544\tF1:\t0.7323\n",
      "14 / 30: Train Loss:\t0.0025\tVal Loss:\t0.9448\tAccuracy:\t0.7544\tF1:\t0.7517\n",
      "15 / 30: Train Loss:\t0.0020\tVal Loss:\t0.9258\tAccuracy:\t0.7604\tF1:\t0.7411\n",
      "16 / 30: Train Loss:\t0.0015\tVal Loss:\t0.9156\tAccuracy:\t0.7633\tF1:\t0.7459\n",
      "17 / 30: Train Loss:\t0.0013\tVal Loss:\t0.9162\tAccuracy:\t0.7456\tF1:\t0.7229\n",
      "No improvement for 3 epochs. Stopping early.\n",
      "best (higgest macro f1-score) val results:\n",
      "                         precision    recall  f1-score   support\n",
      "\n",
      "             ad hominem       0.72      0.70      0.71        67\n",
      "               anecdote       0.95      0.81      0.88        43\n",
      "         cherry picking       0.68      0.82      0.74        56\n",
      "      conspiracy theory       0.78      0.79      0.78        39\n",
      "           fake experts       0.77      0.83      0.80        12\n",
      "           false choice       0.91      0.77      0.83        13\n",
      "      false equivalence       0.47      0.64      0.55        14\n",
      "impossible expectations       0.77      0.62      0.69        37\n",
      "           single cause       0.80      0.77      0.79        57\n",
      "\n",
      "               accuracy                           0.75       338\n",
      "              macro avg       0.76      0.75      0.75       338\n",
      "           weighted avg       0.77      0.75      0.76       338\n",
      "\n",
      "test results:\n",
      "                         precision    recall  f1-score   support\n",
      "\n",
      "             ad hominem       0.72      0.78      0.75        37\n",
      "               anecdote       0.91      0.88      0.89        24\n",
      "         cherry picking       0.70      0.74      0.72        31\n",
      "      conspiracy theory       0.84      0.73      0.78        22\n",
      "           fake experts       1.00      0.86      0.92         7\n",
      "           false choice       0.56      0.71      0.63         7\n",
      "      false equivalence       0.38      0.38      0.38         8\n",
      "impossible expectations       0.79      0.71      0.75        21\n",
      "           single cause       0.72      0.72      0.72        32\n",
      "\n",
      "               accuracy                           0.75       189\n",
      "              macro avg       0.74      0.72      0.73       189\n",
      "           weighted avg       0.75      0.75      0.75       189\n",
      "\n",
      "### ### ### ### ### ### ### ### ### ### \n",
      "{'test_acc': [0.7724867724867724, 0.7513227513227513, 0.7566137566137566, 0.746031746031746], 'test_f1': [0.7483275458452764, 0.7223678385227519, 0.7331272647210956, 0.726436500275369], 'eval_acc': [0.7633136094674556, 0.7544378698224852, 0.7514792899408284, 0.7544378698224852], 'eval_f1': [0.748995832732582, 0.7416662049731653, 0.7419986547011247, 0.7516595723617474], 'g': [2, 4, 8, 16]}\n",
      "### ### ### ### ### ### ### ### ### ### \n"
     ]
    }
   ],
   "source": [
    "gamma = [2,4,8,16]\n",
    "lr = 1.0e-5\n",
    "\n",
    "for g in gamma:\n",
    "    print(f'Grid search {model_checkpoint}, learning rate {lr}, focal loss gamma {g}')\n",
    "    data = ClimateDataset(model_to_train=3,model_checkpoint=model_checkpoint,dataset_url=flicc_path,batch_size=16)\n",
    "    data.setup_dataloaders()\n",
    "    model = ClassificationModel(model_checkpoint=data.model_checkpoint,num_labels=data.num_labels)\n",
    "    trainer = Engine(epochs=30,labels=data.labels)\n",
    "    trainer.model = model.model\n",
    "    trainer.dataset_encoded = data.dataset_encoded\n",
    "    test_acc, test_f1, eval_acc, eval_f1 = trainer.run(lr=lr,\n",
    "                                                       wd=0.0,\n",
    "                                                       train_dataloader=data.train_dataloader,\n",
    "                                                       eval_dataloader=data.eval_dataloader,\n",
    "                                                       test_dataloader=data.test_dataloader,\n",
    "                                                       accumulation_steps=2,\n",
    "                                                       focalloss=True,\n",
    "                                                       gamma=g,\n",
    "                                                       early_stop=3)\n",
    "    results['test_acc'].append(test_acc)\n",
    "    results['test_f1'].append(test_f1)\n",
    "    results['eval_acc'].append(eval_acc)\n",
    "    results['eval_f1'].append(eval_f1)\n",
    "    results['g'].append(g)\n",
    "    print('### '*10)\n",
    "    print(results)\n",
    "    print('### '*10)\n",
    "    with torch.no_grad():\n",
    "        torch.cuda.empty_cache()\n",
    "    del data, model, trainer, test_acc, test_f1, eval_acc, eval_f1\n",
    "    gc.collect()"
   ]
  },
  {
   "cell_type": "code",
   "execution_count": 5,
   "metadata": {},
   "outputs": [
    {
     "data": {
      "image/png": "[encoded data removed]",
      "text/plain": [
       "<Figure size 640x480 with 1 Axes>"
      ]
     },
     "metadata": {},
     "output_type": "display_data"
    }
   ],
   "source": [
    "Engine.plot_grid_search(df=results,\n",
    "                        title=f'Focal loss, lr: {lr}, {model_checkpoint}',\n",
    "                        column='g',\n",
    "                        sci_format=False)"
   ]
  },
  {
   "cell_type": "code",
   "execution_count": 6,
   "metadata": {},
   "outputs": [],
   "source": [
    "%reset -f"
   ]
  }
 ],
 "metadata": {
  "kernelspec": {
   "display_name": "base",
   "language": "python",
   "name": "python3"
  },
  "language_info": {
   "codemirror_mode": {
    "name": "ipython",
    "version": 3
   },
   "file_extension": ".py",
   "mimetype": "text/x-python",
   "name": "python",
   "nbconvert_exporter": "python",
   "pygments_lexer": "ipython3",
   "version": "3.11.5"
  }
 },
 "nbformat": 4,
 "nbformat_minor": 2
}
