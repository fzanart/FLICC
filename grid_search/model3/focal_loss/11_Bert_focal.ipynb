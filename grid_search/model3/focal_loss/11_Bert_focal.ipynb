{
 "cells": [
  {
   "cell_type": "code",
   "execution_count": 1,
   "metadata": {},
   "outputs": [],
   "source": [
    "import os\n",
    "import sys\n",
    "import gc\n",
    "# assuming data, models, engine in flicc directory:\n",
    "flicc_path = os.path.realpath(\"__file__\").split('grid_search')[0]\n",
    "sys.path.append(flicc_path)\n",
    "import torch\n",
    "from data import ClimateDataset\n",
    "from models import ClassificationModel\n",
    "from engine import Engine"
   ]
  },
  {
   "cell_type": "code",
   "execution_count": 2,
   "metadata": {},
   "outputs": [],
   "source": [
    "model_checkpoint='bert-base-uncased'"
   ]
  },
  {
   "cell_type": "code",
   "execution_count": 3,
   "metadata": {},
   "outputs": [],
   "source": [
    "results = {'test_acc':[],\n",
    "           'test_f1':[],\n",
    "           'eval_acc':[],\n",
    "           'eval_f1':[],\n",
    "           'g':[]}"
   ]
  },
  {
   "cell_type": "code",
   "execution_count": 4,
   "metadata": {},
   "outputs": [
    {
     "name": "stdout",
     "output_type": "stream",
     "text": [
      "Grid search bert-base-uncased, learning rate 5e-05, focal loss gamma 2\n"
     ]
    },
    {
     "name": "stderr",
     "output_type": "stream",
     "text": [
      "Some weights of BertForSequenceClassification were not initialized from the model checkpoint at bert-base-uncased and are newly initialized: ['classifier.bias', 'classifier.weight']\n",
      "You should probably TRAIN this model on a down-stream task to be able to use it for predictions and inference.\n",
      "You're using a BertTokenizerFast tokenizer. Please note that with a fast tokenizer, using the `__call__` method is faster than using a method to encode the text followed by a call to the `pad` method to get a padded encoding.\n"
     ]
    },
    {
     "name": "stdout",
     "output_type": "stream",
     "text": [
      "1 / 30: Train Loss:\t13.4449\tVal Loss:\t1.6585\tAccuracy:\t0.4675\tF1:\t0.4318\n",
      "2 / 30: Train Loss:\t7.1400\tVal Loss:\t1.3189\tAccuracy:\t0.5296\tF1:\t0.5130\n",
      "3 / 30: Train Loss:\t3.1724\tVal Loss:\t1.0869\tAccuracy:\t0.6391\tF1:\t0.6098\n",
      "4 / 30: Train Loss:\t1.4263\tVal Loss:\t1.0559\tAccuracy:\t0.6243\tF1:\t0.6173\n",
      "5 / 30: Train Loss:\t0.6551\tVal Loss:\t0.9668\tAccuracy:\t0.6479\tF1:\t0.6242\n",
      "6 / 30: Train Loss:\t0.3872\tVal Loss:\t0.8870\tAccuracy:\t0.7160\tF1:\t0.6957\n",
      "7 / 30: Train Loss:\t0.1935\tVal Loss:\t0.9408\tAccuracy:\t0.6746\tF1:\t0.6539\n",
      "8 / 30: Train Loss:\t0.1440\tVal Loss:\t0.8559\tAccuracy:\t0.7101\tF1:\t0.6736\n",
      "9 / 30: Train Loss:\t0.0857\tVal Loss:\t0.7995\tAccuracy:\t0.7604\tF1:\t0.7126\n",
      "10 / 30: Train Loss:\t0.0817\tVal Loss:\t0.8149\tAccuracy:\t0.7278\tF1:\t0.6825\n",
      "11 / 30: Train Loss:\t0.0517\tVal Loss:\t0.8061\tAccuracy:\t0.7367\tF1:\t0.6956\n",
      "12 / 30: Train Loss:\t0.0531\tVal Loss:\t0.8128\tAccuracy:\t0.7337\tF1:\t0.6999\n",
      "No improvement for 3 epochs. Stopping early.\n",
      "best (higgest macro f1-score) val results:\n",
      "                         precision    recall  f1-score   support\n",
      "\n",
      "             ad hominem       0.67      0.84      0.75        67\n",
      "               anecdote       0.97      0.84      0.90        43\n",
      "         cherry picking       0.74      0.82      0.78        56\n",
      "      conspiracy theory       0.81      0.77      0.79        39\n",
      "           fake experts       0.67      0.67      0.67        12\n",
      "           false choice       0.89      0.62      0.73        13\n",
      "      false equivalence       0.60      0.21      0.32        14\n",
      "impossible expectations       0.88      0.62      0.73        37\n",
      "           single cause       0.70      0.82      0.76        57\n",
      "\n",
      "               accuracy                           0.76       338\n",
      "              macro avg       0.77      0.69      0.71       338\n",
      "           weighted avg       0.77      0.76      0.76       338\n",
      "\n",
      "test results:\n",
      "                         precision    recall  f1-score   support\n",
      "\n",
      "             ad hominem       0.74      0.78      0.76        37\n",
      "               anecdote       0.81      0.92      0.86        24\n",
      "         cherry picking       0.75      0.58      0.65        31\n",
      "      conspiracy theory       0.81      0.59      0.68        22\n",
      "           fake experts       0.67      0.86      0.75         7\n",
      "           false choice       0.57      0.57      0.57         7\n",
      "      false equivalence       0.50      0.25      0.33         8\n",
      "impossible expectations       0.64      0.86      0.73        21\n",
      "           single cause       0.66      0.72      0.69        32\n",
      "\n",
      "               accuracy                           0.71       189\n",
      "              macro avg       0.68      0.68      0.67       189\n",
      "           weighted avg       0.72      0.71      0.71       189\n",
      "\n",
      "### ### ### ### ### ### ### ### ### ### \n",
      "{'test_acc': [0.7142857142857143], 'test_f1': [0.6711868800143702], 'eval_acc': [0.7603550295857988], 'eval_f1': [0.7126392757486347], 'g': [2]}\n",
      "### ### ### ### ### ### ### ### ### ### \n",
      "Grid search bert-base-uncased, learning rate 5e-05, focal loss gamma 4\n"
     ]
    },
    {
     "name": "stderr",
     "output_type": "stream",
     "text": [
      "Some weights of BertForSequenceClassification were not initialized from the model checkpoint at bert-base-uncased and are newly initialized: ['classifier.bias', 'classifier.weight']\n",
      "You should probably TRAIN this model on a down-stream task to be able to use it for predictions and inference.\n",
      "You're using a BertTokenizerFast tokenizer. Please note that with a fast tokenizer, using the `__call__` method is faster than using a method to encode the text followed by a call to the `pad` method to get a padded encoding.\n"
     ]
    },
    {
     "name": "stdout",
     "output_type": "stream",
     "text": [
      "1 / 30: Train Loss:\t10.8387\tVal Loss:\t1.7369\tAccuracy:\t0.4408\tF1:\t0.4180\n",
      "2 / 30: Train Loss:\t5.4780\tVal Loss:\t1.3862\tAccuracy:\t0.5592\tF1:\t0.5182\n",
      "3 / 30: Train Loss:\t2.3549\tVal Loss:\t1.1135\tAccuracy:\t0.6479\tF1:\t0.6171\n",
      "4 / 30: Train Loss:\t0.9123\tVal Loss:\t1.1000\tAccuracy:\t0.6213\tF1:\t0.6267\n",
      "5 / 30: Train Loss:\t0.4256\tVal Loss:\t0.9240\tAccuracy:\t0.7219\tF1:\t0.6917\n",
      "6 / 30: Train Loss:\t0.1870\tVal Loss:\t0.9267\tAccuracy:\t0.7101\tF1:\t0.6707\n",
      "7 / 30: Train Loss:\t0.0913\tVal Loss:\t0.9330\tAccuracy:\t0.6982\tF1:\t0.6535\n",
      "8 / 30: Train Loss:\t0.0505\tVal Loss:\t0.8512\tAccuracy:\t0.7337\tF1:\t0.6957\n",
      "9 / 30: Train Loss:\t0.0263\tVal Loss:\t0.8384\tAccuracy:\t0.7456\tF1:\t0.7130\n",
      "10 / 30: Train Loss:\t0.0159\tVal Loss:\t0.8423\tAccuracy:\t0.7278\tF1:\t0.6947\n",
      "11 / 30: Train Loss:\t0.0112\tVal Loss:\t0.8248\tAccuracy:\t0.7278\tF1:\t0.6938\n",
      "12 / 30: Train Loss:\t0.0086\tVal Loss:\t0.8313\tAccuracy:\t0.7396\tF1:\t0.7120\n",
      "No improvement for 3 epochs. Stopping early.\n",
      "best (higgest macro f1-score) val results:\n",
      "                         precision    recall  f1-score   support\n",
      "\n",
      "             ad hominem       0.70      0.76      0.73        67\n",
      "               anecdote       0.80      0.86      0.83        43\n",
      "         cherry picking       0.72      0.82      0.77        56\n",
      "      conspiracy theory       0.80      0.82      0.81        39\n",
      "           fake experts       0.71      0.83      0.77        12\n",
      "           false choice       0.83      0.77      0.80        13\n",
      "      false equivalence       0.38      0.21      0.27        14\n",
      "impossible expectations       0.80      0.65      0.72        37\n",
      "           single cause       0.76      0.68      0.72        57\n",
      "\n",
      "               accuracy                           0.75       338\n",
      "              macro avg       0.72      0.71      0.71       338\n",
      "           weighted avg       0.74      0.75      0.74       338\n",
      "\n",
      "test results:\n",
      "                         precision    recall  f1-score   support\n",
      "\n",
      "             ad hominem       0.76      0.84      0.79        37\n",
      "               anecdote       0.81      0.88      0.84        24\n",
      "         cherry picking       0.79      0.71      0.75        31\n",
      "      conspiracy theory       0.92      0.55      0.69        22\n",
      "           fake experts       0.64      1.00      0.78         7\n",
      "           false choice       0.67      0.57      0.62         7\n",
      "      false equivalence       0.40      0.25      0.31         8\n",
      "impossible expectations       0.67      0.86      0.75        21\n",
      "           single cause       0.72      0.72      0.72        32\n",
      "\n",
      "               accuracy                           0.74       189\n",
      "              macro avg       0.71      0.71      0.69       189\n",
      "           weighted avg       0.75      0.74      0.73       189\n",
      "\n",
      "### ### ### ### ### ### ### ### ### ### \n",
      "{'test_acc': [0.7142857142857143, 0.7407407407407407], 'test_f1': [0.6711868800143702, 0.6928837214783543], 'eval_acc': [0.7603550295857988, 0.7455621301775148], 'eval_f1': [0.7126392757486347, 0.7130470584779894], 'g': [2, 4]}\n",
      "### ### ### ### ### ### ### ### ### ### \n",
      "Grid search bert-base-uncased, learning rate 5e-05, focal loss gamma 8\n"
     ]
    },
    {
     "name": "stderr",
     "output_type": "stream",
     "text": [
      "Some weights of BertForSequenceClassification were not initialized from the model checkpoint at bert-base-uncased and are newly initialized: ['classifier.bias', 'classifier.weight']\n",
      "You should probably TRAIN this model on a down-stream task to be able to use it for predictions and inference.\n",
      "You're using a BertTokenizerFast tokenizer. Please note that with a fast tokenizer, using the `__call__` method is faster than using a method to encode the text followed by a call to the `pad` method to get a padded encoding.\n"
     ]
    },
    {
     "name": "stdout",
     "output_type": "stream",
     "text": [
      "1 / 30: Train Loss:\t6.3548\tVal Loss:\t1.6908\tAccuracy:\t0.5207\tF1:\t0.4903\n",
      "2 / 30: Train Loss:\t2.5440\tVal Loss:\t1.5571\tAccuracy:\t0.4645\tF1:\t0.4481\n",
      "3 / 30: Train Loss:\t0.9453\tVal Loss:\t1.2740\tAccuracy:\t0.5888\tF1:\t0.5943\n",
      "4 / 30: Train Loss:\t0.2855\tVal Loss:\t1.1818\tAccuracy:\t0.6243\tF1:\t0.6266\n",
      "5 / 30: Train Loss:\t0.1368\tVal Loss:\t1.0624\tAccuracy:\t0.6982\tF1:\t0.6637\n",
      "6 / 30: Train Loss:\t0.0598\tVal Loss:\t1.0615\tAccuracy:\t0.6953\tF1:\t0.6537\n",
      "7 / 30: Train Loss:\t0.0339\tVal Loss:\t1.0159\tAccuracy:\t0.7071\tF1:\t0.6680\n",
      "8 / 30: Train Loss:\t0.0194\tVal Loss:\t0.9995\tAccuracy:\t0.7219\tF1:\t0.6824\n",
      "9 / 30: Train Loss:\t0.0244\tVal Loss:\t1.0325\tAccuracy:\t0.6775\tF1:\t0.6444\n",
      "10 / 30: Train Loss:\t0.0156\tVal Loss:\t0.9781\tAccuracy:\t0.7041\tF1:\t0.6714\n",
      "11 / 30: Train Loss:\t0.0083\tVal Loss:\t0.9614\tAccuracy:\t0.7249\tF1:\t0.6906\n",
      "12 / 30: Train Loss:\t0.0062\tVal Loss:\t0.9555\tAccuracy:\t0.7219\tF1:\t0.6855\n",
      "13 / 30: Train Loss:\t0.0051\tVal Loss:\t0.9415\tAccuracy:\t0.7189\tF1:\t0.6843\n",
      "14 / 30: Train Loss:\t0.0100\tVal Loss:\t0.9483\tAccuracy:\t0.7337\tF1:\t0.6963\n",
      "15 / 30: Train Loss:\t0.0170\tVal Loss:\t0.9280\tAccuracy:\t0.7396\tF1:\t0.6980\n",
      "16 / 30: Train Loss:\t0.0049\tVal Loss:\t0.9423\tAccuracy:\t0.7189\tF1:\t0.6789\n",
      "17 / 30: Train Loss:\t0.0037\tVal Loss:\t0.9137\tAccuracy:\t0.7308\tF1:\t0.6850\n",
      "18 / 30: Train Loss:\t0.0026\tVal Loss:\t0.9128\tAccuracy:\t0.7337\tF1:\t0.6892\n",
      "No improvement for 3 epochs. Stopping early.\n",
      "best (higgest macro f1-score) val results:\n",
      "                         precision    recall  f1-score   support\n",
      "\n",
      "             ad hominem       0.76      0.66      0.70        67\n",
      "               anecdote       0.95      0.84      0.89        43\n",
      "         cherry picking       0.71      0.84      0.77        56\n",
      "      conspiracy theory       0.70      0.85      0.77        39\n",
      "           fake experts       0.70      0.58      0.64        12\n",
      "           false choice       0.89      0.62      0.73        13\n",
      "      false equivalence       0.36      0.29      0.32        14\n",
      "impossible expectations       0.83      0.65      0.73        37\n",
      "           single cause       0.67      0.82      0.74        57\n",
      "\n",
      "               accuracy                           0.74       338\n",
      "              macro avg       0.73      0.68      0.70       338\n",
      "           weighted avg       0.75      0.74      0.74       338\n",
      "\n",
      "test results:\n",
      "                         precision    recall  f1-score   support\n",
      "\n",
      "             ad hominem       0.81      0.70      0.75        37\n",
      "               anecdote       0.81      0.88      0.84        24\n",
      "         cherry picking       0.69      0.77      0.73        31\n",
      "      conspiracy theory       0.83      0.68      0.75        22\n",
      "           fake experts       0.86      0.86      0.86         7\n",
      "           false choice       0.67      0.57      0.62         7\n",
      "      false equivalence       0.33      0.25      0.29         8\n",
      "impossible expectations       0.71      0.81      0.76        21\n",
      "           single cause       0.66      0.72      0.69        32\n",
      "\n",
      "               accuracy                           0.73       189\n",
      "              macro avg       0.71      0.69      0.70       189\n",
      "           weighted avg       0.73      0.73      0.73       189\n",
      "\n",
      "### ### ### ### ### ### ### ### ### ### \n",
      "{'test_acc': [0.7142857142857143, 0.7407407407407407, 0.7301587301587301], 'test_f1': [0.6711868800143702, 0.6928837214783543, 0.6968067104061046], 'eval_acc': [0.7603550295857988, 0.7455621301775148, 0.7396449704142012], 'eval_f1': [0.7126392757486347, 0.7130470584779894, 0.6979876804285274], 'g': [2, 4, 8]}\n",
      "### ### ### ### ### ### ### ### ### ### \n",
      "Grid search bert-base-uncased, learning rate 5e-05, focal loss gamma 16\n"
     ]
    },
    {
     "name": "stderr",
     "output_type": "stream",
     "text": [
      "Some weights of BertForSequenceClassification were not initialized from the model checkpoint at bert-base-uncased and are newly initialized: ['classifier.bias', 'classifier.weight']\n",
      "You should probably TRAIN this model on a down-stream task to be able to use it for predictions and inference.\n",
      "You're using a BertTokenizerFast tokenizer. Please note that with a fast tokenizer, using the `__call__` method is faster than using a method to encode the text followed by a call to the `pad` method to get a padded encoding.\n"
     ]
    },
    {
     "name": "stdout",
     "output_type": "stream",
     "text": [
      "1 / 30: Train Loss:\t2.4019\tVal Loss:\t1.8246\tAccuracy:\t0.3698\tF1:\t0.3848\n",
      "2 / 30: Train Loss:\t0.6797\tVal Loss:\t1.5134\tAccuracy:\t0.5917\tF1:\t0.5539\n",
      "3 / 30: Train Loss:\t0.2118\tVal Loss:\t1.3720\tAccuracy:\t0.6124\tF1:\t0.5752\n",
      "4 / 30: Train Loss:\t0.0693\tVal Loss:\t1.2829\tAccuracy:\t0.6805\tF1:\t0.6630\n",
      "5 / 30: Train Loss:\t0.0343\tVal Loss:\t1.2600\tAccuracy:\t0.6923\tF1:\t0.6707\n",
      "6 / 30: Train Loss:\t0.0151\tVal Loss:\t1.2066\tAccuracy:\t0.7130\tF1:\t0.6881\n",
      "7 / 30: Train Loss:\t0.0089\tVal Loss:\t1.1783\tAccuracy:\t0.6923\tF1:\t0.6703\n",
      "8 / 30: Train Loss:\t0.0053\tVal Loss:\t1.1657\tAccuracy:\t0.7071\tF1:\t0.6768\n",
      "9 / 30: Train Loss:\t0.0037\tVal Loss:\t1.1542\tAccuracy:\t0.6953\tF1:\t0.6664\n",
      "No improvement for 3 epochs. Stopping early.\n",
      "best (higgest macro f1-score) val results:\n",
      "                         precision    recall  f1-score   support\n",
      "\n",
      "             ad hominem       0.67      0.75      0.70        67\n",
      "               anecdote       0.87      0.79      0.83        43\n",
      "         cherry picking       0.68      0.80      0.74        56\n",
      "      conspiracy theory       0.70      0.85      0.77        39\n",
      "           fake experts       0.73      0.67      0.70        12\n",
      "           false choice       0.90      0.69      0.78        13\n",
      "      false equivalence       0.36      0.29      0.32        14\n",
      "impossible expectations       0.82      0.62      0.71        37\n",
      "           single cause       0.69      0.61      0.65        57\n",
      "\n",
      "               accuracy                           0.71       338\n",
      "              macro avg       0.71      0.67      0.69       338\n",
      "           weighted avg       0.72      0.71      0.71       338\n",
      "\n",
      "test results:\n",
      "                         precision    recall  f1-score   support\n",
      "\n",
      "             ad hominem       0.84      0.73      0.78        37\n",
      "               anecdote       0.79      0.79      0.79        24\n",
      "         cherry picking       0.73      0.71      0.72        31\n",
      "      conspiracy theory       0.81      0.77      0.79        22\n",
      "           fake experts       1.00      0.86      0.92         7\n",
      "           false choice       0.67      0.57      0.62         7\n",
      "      false equivalence       0.25      0.25      0.25         8\n",
      "impossible expectations       0.57      0.76      0.65        21\n",
      "           single cause       0.62      0.66      0.64        32\n",
      "\n",
      "               accuracy                           0.71       189\n",
      "              macro avg       0.70      0.68      0.68       189\n",
      "           weighted avg       0.72      0.71      0.71       189\n",
      "\n",
      "### ### ### ### ### ### ### ### ### ### \n",
      "{'test_acc': [0.7142857142857143, 0.7407407407407407, 0.7301587301587301, 0.708994708994709], 'test_f1': [0.6711868800143702, 0.6928837214783543, 0.6968067104061046, 0.6849078790513613], 'eval_acc': [0.7603550295857988, 0.7455621301775148, 0.7396449704142012, 0.7130177514792899], 'eval_f1': [0.7126392757486347, 0.7130470584779894, 0.6979876804285274, 0.688082416522131], 'g': [2, 4, 8, 16]}\n",
      "### ### ### ### ### ### ### ### ### ### \n"
     ]
    }
   ],
   "source": [
    "gamma = [2,4,8,16]\n",
    "lr = 5.0e-5\n",
    "\n",
    "for g in gamma:\n",
    "    print(f'Grid search {model_checkpoint}, learning rate {lr}, focal loss gamma {g}')\n",
    "    data = ClimateDataset(model_to_train=3,model_checkpoint=model_checkpoint,dataset_url=flicc_path,batch_size=32)\n",
    "    data.setup_dataloaders()\n",
    "    model = ClassificationModel(model_checkpoint=data.model_checkpoint,num_labels=data.num_labels)\n",
    "    trainer = Engine(epochs=30,labels=data.labels)\n",
    "    trainer.model = model.model\n",
    "    trainer.dataset_encoded = data.dataset_encoded\n",
    "    test_acc, test_f1, eval_acc, eval_f1 = trainer.run(lr=lr,\n",
    "                                                       wd=0.0,\n",
    "                                                       train_dataloader=data.train_dataloader,\n",
    "                                                       eval_dataloader=data.eval_dataloader,\n",
    "                                                       test_dataloader=data.test_dataloader,\n",
    "                                                       focalloss=True,\n",
    "                                                       gamma=g,\n",
    "                                                       early_stop=3)\n",
    "    results['test_acc'].append(test_acc)\n",
    "    results['test_f1'].append(test_f1)\n",
    "    results['eval_acc'].append(eval_acc)\n",
    "    results['eval_f1'].append(eval_f1)\n",
    "    results['g'].append(g)\n",
    "    print('### '*10)\n",
    "    print(results)\n",
    "    print('### '*10)\n",
    "    with torch.no_grad():\n",
    "        torch.cuda.empty_cache()\n",
    "    del data, model, trainer, test_acc, test_f1, eval_acc, eval_f1\n",
    "    gc.collect()"
   ]
  },
  {
   "cell_type": "code",
   "execution_count": 5,
   "metadata": {},
   "outputs": [
    {
     "data": {
      "image/png": "[encoded data removed]",
      "text/plain": [
       "<Figure size 640x480 with 1 Axes>"
      ]
     },
     "metadata": {},
     "output_type": "display_data"
    }
   ],
   "source": [
    "Engine.plot_grid_search(df=results,\n",
    "                        title=f'Focal loss, lr: {lr}, {model_checkpoint}',\n",
    "                        column='g',\n",
    "                        sci_format=False)"
   ]
  },
  {
   "cell_type": "code",
   "execution_count": 6,
   "metadata": {},
   "outputs": [],
   "source": [
    "%reset -f"
   ]
  }
 ],
 "metadata": {
  "kernelspec": {
   "display_name": "Python 3",
   "language": "python",
   "name": "python3"
  },
  "language_info": {
   "codemirror_mode": {
    "name": "ipython",
    "version": 3
   },
   "file_extension": ".py",
   "mimetype": "text/x-python",
   "name": "python",
   "nbconvert_exporter": "python",
   "pygments_lexer": "ipython3",
   "version": "3.11.5"
  },
  "orig_nbformat": 4
 },
 "nbformat": 4,
 "nbformat_minor": 2
}
