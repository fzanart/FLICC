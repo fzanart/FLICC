{
 "cells": [
  {
   "cell_type": "code",
   "execution_count": 1,
   "metadata": {},
   "outputs": [],
   "source": [
    "import os\n",
    "import sys\n",
    "import gc\n",
    "# assuming data, models, engine in flicc directory:\n",
    "flicc_path = os.path.realpath(\"__file__\").split('grid_search')[0]\n",
    "sys.path.append(flicc_path)\n",
    "import torch\n",
    "from data import ClimateDataset\n",
    "from models import ClassificationModel\n",
    "from engine import Engine"
   ]
  },
  {
   "cell_type": "code",
   "execution_count": 2,
   "metadata": {},
   "outputs": [],
   "source": [
    "model_checkpoint='microsoft/deberta-base'"
   ]
  },
  {
   "cell_type": "code",
   "execution_count": 3,
   "metadata": {},
   "outputs": [],
   "source": [
    "results = {'test_acc':[],\n",
    "           'test_f1':[],\n",
    "           'eval_acc':[],\n",
    "           'eval_f1':[],\n",
    "           'g':[]}"
   ]
  },
  {
   "cell_type": "code",
   "execution_count": 4,
   "metadata": {},
   "outputs": [
    {
     "name": "stdout",
     "output_type": "stream",
     "text": [
      "Grid search microsoft/deberta-base, learning rate 5e-05, focal loss gamma 2\n"
     ]
    },
    {
     "name": "stderr",
     "output_type": "stream",
     "text": [
      "Some weights of DebertaForSequenceClassification were not initialized from the model checkpoint at microsoft/deberta-base and are newly initialized: ['pooler.dense.bias', 'pooler.dense.weight', 'classifier.bias', 'classifier.weight']\n",
      "You should probably TRAIN this model on a down-stream task to be able to use it for predictions and inference.\n",
      "You're using a DebertaTokenizerFast tokenizer. Please note that with a fast tokenizer, using the `__call__` method is faster than using a method to encode the text followed by a call to the `pad` method to get a padded encoding.\n"
     ]
    },
    {
     "name": "stdout",
     "output_type": "stream",
     "text": [
      "1 / 30: Train Loss:\t11.5825\tVal Loss:\t1.3859\tAccuracy:\t0.5414\tF1:\t0.5228\n",
      "2 / 30: Train Loss:\t4.8289\tVal Loss:\t1.0539\tAccuracy:\t0.6598\tF1:\t0.6353\n",
      "3 / 30: Train Loss:\t2.1300\tVal Loss:\t1.0962\tAccuracy:\t0.5976\tF1:\t0.5834\n",
      "4 / 30: Train Loss:\t1.0732\tVal Loss:\t0.9206\tAccuracy:\t0.7160\tF1:\t0.7040\n",
      "5 / 30: Train Loss:\t0.3111\tVal Loss:\t0.7437\tAccuracy:\t0.7544\tF1:\t0.7538\n",
      "6 / 30: Train Loss:\t0.1417\tVal Loss:\t0.7667\tAccuracy:\t0.7219\tF1:\t0.7039\n",
      "7 / 30: Train Loss:\t0.0682\tVal Loss:\t0.7488\tAccuracy:\t0.7485\tF1:\t0.7344\n",
      "8 / 30: Train Loss:\t0.0743\tVal Loss:\t0.7848\tAccuracy:\t0.7426\tF1:\t0.7206\n",
      "No improvement for 3 epochs. Stopping early.\n",
      "best (higgest macro f1-score) val results:\n",
      "                         precision    recall  f1-score   support\n",
      "\n",
      "             ad hominem       0.78      0.73      0.75        67\n",
      "               anecdote       0.85      0.81      0.83        43\n",
      "         cherry picking       0.69      0.75      0.72        56\n",
      "      conspiracy theory       0.75      0.77      0.76        39\n",
      "           fake experts       0.75      0.75      0.75        12\n",
      "           false choice       1.00      0.77      0.87        13\n",
      "      false equivalence       0.48      0.79      0.59        14\n",
      "impossible expectations       0.67      0.76      0.71        37\n",
      "           single cause       0.89      0.72      0.80        57\n",
      "\n",
      "               accuracy                           0.75       338\n",
      "              macro avg       0.76      0.76      0.75       338\n",
      "           weighted avg       0.77      0.75      0.76       338\n",
      "\n",
      "test results:\n",
      "                         precision    recall  f1-score   support\n",
      "\n",
      "             ad hominem       0.79      0.84      0.82        37\n",
      "               anecdote       0.85      0.92      0.88        24\n",
      "         cherry picking       0.83      0.81      0.82        31\n",
      "      conspiracy theory       0.89      0.77      0.83        22\n",
      "           fake experts       0.75      0.86      0.80         7\n",
      "           false choice       0.50      0.57      0.53         7\n",
      "      false equivalence       0.27      0.38      0.32         8\n",
      "impossible expectations       0.67      0.86      0.75        21\n",
      "           single cause       0.86      0.56      0.68        32\n",
      "\n",
      "               accuracy                           0.76       189\n",
      "              macro avg       0.71      0.73      0.71       189\n",
      "           weighted avg       0.78      0.76      0.76       189\n",
      "\n",
      "### ### ### ### ### ### ### ### ### ### \n",
      "{'test_acc': [0.7619047619047619], 'test_f1': [0.7136775541723434], 'eval_acc': [0.7544378698224852], 'eval_f1': [0.7537509947053578], 'g': [2]}\n",
      "### ### ### ### ### ### ### ### ### ### \n",
      "Grid search microsoft/deberta-base, learning rate 5e-05, focal loss gamma 4\n"
     ]
    },
    {
     "name": "stderr",
     "output_type": "stream",
     "text": [
      "Some weights of DebertaForSequenceClassification were not initialized from the model checkpoint at microsoft/deberta-base and are newly initialized: ['pooler.dense.bias', 'pooler.dense.weight', 'classifier.bias', 'classifier.weight']\n",
      "You should probably TRAIN this model on a down-stream task to be able to use it for predictions and inference.\n",
      "You're using a DebertaTokenizerFast tokenizer. Please note that with a fast tokenizer, using the `__call__` method is faster than using a method to encode the text followed by a call to the `pad` method to get a padded encoding.\n"
     ]
    },
    {
     "name": "stdout",
     "output_type": "stream",
     "text": [
      "1 / 30: Train Loss:\t8.7991\tVal Loss:\t1.4700\tAccuracy:\t0.5030\tF1:\t0.4789\n",
      "2 / 30: Train Loss:\t3.4404\tVal Loss:\t1.2564\tAccuracy:\t0.5858\tF1:\t0.5485\n",
      "3 / 30: Train Loss:\t1.5011\tVal Loss:\t0.9783\tAccuracy:\t0.6893\tF1:\t0.6608\n",
      "4 / 30: Train Loss:\t0.5749\tVal Loss:\t1.0011\tAccuracy:\t0.6893\tF1:\t0.6868\n",
      "5 / 30: Train Loss:\t0.1757\tVal Loss:\t0.8022\tAccuracy:\t0.7515\tF1:\t0.7536\n",
      "6 / 30: Train Loss:\t0.0786\tVal Loss:\t0.7989\tAccuracy:\t0.7426\tF1:\t0.7472\n",
      "7 / 30: Train Loss:\t0.0304\tVal Loss:\t0.7700\tAccuracy:\t0.7278\tF1:\t0.7286\n",
      "8 / 30: Train Loss:\t0.0172\tVal Loss:\t0.7713\tAccuracy:\t0.7485\tF1:\t0.7464\n",
      "No improvement for 3 epochs. Stopping early.\n",
      "best (higgest macro f1-score) val results:\n",
      "                         precision    recall  f1-score   support\n",
      "\n",
      "             ad hominem       0.72      0.76      0.74        67\n",
      "               anecdote       0.88      0.81      0.84        43\n",
      "         cherry picking       0.73      0.73      0.73        56\n",
      "      conspiracy theory       0.79      0.77      0.78        39\n",
      "           fake experts       0.83      0.83      0.83        12\n",
      "           false choice       0.91      0.77      0.83        13\n",
      "      false equivalence       0.62      0.57      0.59        14\n",
      "impossible expectations       0.73      0.65      0.69        37\n",
      "           single cause       0.70      0.79      0.74        57\n",
      "\n",
      "               accuracy                           0.75       338\n",
      "              macro avg       0.77      0.74      0.75       338\n",
      "           weighted avg       0.75      0.75      0.75       338\n",
      "\n",
      "test results:\n",
      "                         precision    recall  f1-score   support\n",
      "\n",
      "             ad hominem       0.79      0.92      0.85        37\n",
      "               anecdote       0.88      0.88      0.88        24\n",
      "         cherry picking       0.76      0.61      0.68        31\n",
      "      conspiracy theory       1.00      0.68      0.81        22\n",
      "           fake experts       0.86      0.86      0.86         7\n",
      "           false choice       0.43      0.43      0.43         7\n",
      "      false equivalence       0.38      0.38      0.38         8\n",
      "impossible expectations       0.71      0.81      0.76        21\n",
      "           single cause       0.67      0.75      0.71        32\n",
      "\n",
      "               accuracy                           0.75       189\n",
      "              macro avg       0.72      0.70      0.70       189\n",
      "           weighted avg       0.76      0.75      0.75       189\n",
      "\n",
      "### ### ### ### ### ### ### ### ### ### \n",
      "{'test_acc': [0.7619047619047619, 0.7513227513227513], 'test_f1': [0.7136775541723434, 0.7040593815103618], 'eval_acc': [0.7544378698224852, 0.7514792899408284], 'eval_f1': [0.7537509947053578, 0.7536269736653618], 'g': [2, 4]}\n",
      "### ### ### ### ### ### ### ### ### ### \n",
      "Grid search microsoft/deberta-base, learning rate 5e-05, focal loss gamma 8\n"
     ]
    },
    {
     "name": "stderr",
     "output_type": "stream",
     "text": [
      "Some weights of DebertaForSequenceClassification were not initialized from the model checkpoint at microsoft/deberta-base and are newly initialized: ['pooler.dense.bias', 'pooler.dense.weight', 'classifier.bias', 'classifier.weight']\n",
      "You should probably TRAIN this model on a down-stream task to be able to use it for predictions and inference.\n",
      "You're using a DebertaTokenizerFast tokenizer. Please note that with a fast tokenizer, using the `__call__` method is faster than using a method to encode the text followed by a call to the `pad` method to get a padded encoding.\n"
     ]
    },
    {
     "name": "stdout",
     "output_type": "stream",
     "text": [
      "1 / 30: Train Loss:\t7.5975\tVal Loss:\t1.9135\tAccuracy:\t0.3432\tF1:\t0.2942\n",
      "2 / 30: Train Loss:\t3.2555\tVal Loss:\t1.4081\tAccuracy:\t0.5473\tF1:\t0.5192\n",
      "3 / 30: Train Loss:\t1.0412\tVal Loss:\t1.1693\tAccuracy:\t0.6775\tF1:\t0.6335\n",
      "4 / 30: Train Loss:\t0.4900\tVal Loss:\t1.1330\tAccuracy:\t0.6095\tF1:\t0.6062\n",
      "5 / 30: Train Loss:\t0.2004\tVal Loss:\t1.0859\tAccuracy:\t0.6361\tF1:\t0.6494\n",
      "6 / 30: Train Loss:\t0.1331\tVal Loss:\t0.9542\tAccuracy:\t0.7160\tF1:\t0.6656\n",
      "7 / 30: Train Loss:\t0.0504\tVal Loss:\t0.9483\tAccuracy:\t0.7219\tF1:\t0.7111\n",
      "8 / 30: Train Loss:\t0.0156\tVal Loss:\t0.9014\tAccuracy:\t0.7101\tF1:\t0.6731\n",
      "9 / 30: Train Loss:\t0.0124\tVal Loss:\t0.9004\tAccuracy:\t0.7249\tF1:\t0.6890\n",
      "10 / 30: Train Loss:\t0.0067\tVal Loss:\t0.8661\tAccuracy:\t0.7012\tF1:\t0.6674\n",
      "No improvement for 3 epochs. Stopping early.\n",
      "best (higgest macro f1-score) val results:\n",
      "                         precision    recall  f1-score   support\n",
      "\n",
      "             ad hominem       0.65      0.76      0.70        67\n",
      "               anecdote       0.97      0.81      0.89        43\n",
      "         cherry picking       0.70      0.71      0.71        56\n",
      "      conspiracy theory       0.70      0.79      0.75        39\n",
      "           fake experts       0.88      0.58      0.70        12\n",
      "           false choice       1.00      0.77      0.87        13\n",
      "      false equivalence       0.38      0.43      0.40        14\n",
      "impossible expectations       0.72      0.62      0.67        37\n",
      "           single cause       0.72      0.72      0.72        57\n",
      "\n",
      "               accuracy                           0.72       338\n",
      "              macro avg       0.75      0.69      0.71       338\n",
      "           weighted avg       0.74      0.72      0.72       338\n",
      "\n",
      "test results:\n",
      "                         precision    recall  f1-score   support\n",
      "\n",
      "             ad hominem       0.77      0.92      0.84        37\n",
      "               anecdote       0.95      0.88      0.91        24\n",
      "         cherry picking       0.81      0.71      0.76        31\n",
      "      conspiracy theory       0.86      0.82      0.84        22\n",
      "           fake experts       0.78      1.00      0.88         7\n",
      "           false choice       1.00      0.57      0.73         7\n",
      "      false equivalence       0.38      0.38      0.38         8\n",
      "impossible expectations       0.62      0.76      0.68        21\n",
      "           single cause       0.79      0.69      0.73        32\n",
      "\n",
      "               accuracy                           0.78       189\n",
      "              macro avg       0.77      0.75      0.75       189\n",
      "           weighted avg       0.79      0.78      0.78       189\n",
      "\n",
      "### ### ### ### ### ### ### ### ### ### \n",
      "{'test_acc': [0.7619047619047619, 0.7513227513227513, 0.7777777777777778], 'test_f1': [0.7136775541723434, 0.7040593815103618, 0.7488707519463308], 'eval_acc': [0.7544378698224852, 0.7514792899408284, 0.7218934911242604], 'eval_f1': [0.7537509947053578, 0.7536269736653618, 0.7111118787198116], 'g': [2, 4, 8]}\n",
      "### ### ### ### ### ### ### ### ### ### \n",
      "Grid search microsoft/deberta-base, learning rate 5e-05, focal loss gamma 16\n"
     ]
    },
    {
     "name": "stderr",
     "output_type": "stream",
     "text": [
      "Some weights of DebertaForSequenceClassification were not initialized from the model checkpoint at microsoft/deberta-base and are newly initialized: ['pooler.dense.bias', 'pooler.dense.weight', 'classifier.bias', 'classifier.weight']\n",
      "You should probably TRAIN this model on a down-stream task to be able to use it for predictions and inference.\n",
      "You're using a DebertaTokenizerFast tokenizer. Please note that with a fast tokenizer, using the `__call__` method is faster than using a method to encode the text followed by a call to the `pad` method to get a padded encoding.\n"
     ]
    },
    {
     "name": "stdout",
     "output_type": "stream",
     "text": [
      "1 / 30: Train Loss:\t2.0752\tVal Loss:\t1.7016\tAccuracy:\t0.4941\tF1:\t0.4835\n",
      "2 / 30: Train Loss:\t0.6107\tVal Loss:\t1.4735\tAccuracy:\t0.5533\tF1:\t0.5087\n",
      "3 / 30: Train Loss:\t0.2171\tVal Loss:\t1.3011\tAccuracy:\t0.6213\tF1:\t0.6263\n",
      "4 / 30: Train Loss:\t0.0470\tVal Loss:\t1.2120\tAccuracy:\t0.6834\tF1:\t0.6658\n",
      "5 / 30: Train Loss:\t0.0150\tVal Loss:\t1.1242\tAccuracy:\t0.7249\tF1:\t0.7280\n",
      "6 / 30: Train Loss:\t0.0080\tVal Loss:\t1.0990\tAccuracy:\t0.7041\tF1:\t0.6978\n",
      "7 / 30: Train Loss:\t0.0043\tVal Loss:\t1.0831\tAccuracy:\t0.7278\tF1:\t0.7189\n",
      "8 / 30: Train Loss:\t0.0026\tVal Loss:\t1.0737\tAccuracy:\t0.7426\tF1:\t0.7358\n",
      "9 / 30: Train Loss:\t0.0022\tVal Loss:\t1.0601\tAccuracy:\t0.7308\tF1:\t0.7210\n",
      "10 / 30: Train Loss:\t0.0016\tVal Loss:\t1.0501\tAccuracy:\t0.7396\tF1:\t0.7366\n",
      "11 / 30: Train Loss:\t0.0012\tVal Loss:\t1.0374\tAccuracy:\t0.7337\tF1:\t0.7272\n",
      "12 / 30: Train Loss:\t0.0011\tVal Loss:\t1.0272\tAccuracy:\t0.7308\tF1:\t0.7250\n",
      "13 / 30: Train Loss:\t0.0021\tVal Loss:\t1.0188\tAccuracy:\t0.7367\tF1:\t0.7330\n",
      "No improvement for 3 epochs. Stopping early.\n",
      "best (higgest macro f1-score) val results:\n",
      "                         precision    recall  f1-score   support\n",
      "\n",
      "             ad hominem       0.75      0.70      0.72        67\n",
      "               anecdote       0.86      0.84      0.85        43\n",
      "         cherry picking       0.69      0.80      0.74        56\n",
      "      conspiracy theory       0.77      0.69      0.73        39\n",
      "           fake experts       0.82      0.75      0.78        12\n",
      "           false choice       0.89      0.62      0.73        13\n",
      "      false equivalence       0.69      0.64      0.67        14\n",
      "impossible expectations       0.68      0.68      0.68        37\n",
      "           single cause       0.70      0.77      0.73        57\n",
      "\n",
      "               accuracy                           0.74       338\n",
      "              macro avg       0.76      0.72      0.74       338\n",
      "           weighted avg       0.74      0.74      0.74       338\n",
      "\n",
      "test results:\n",
      "                         precision    recall  f1-score   support\n",
      "\n",
      "             ad hominem       0.77      0.89      0.82        37\n",
      "               anecdote       0.88      0.88      0.88        24\n",
      "         cherry picking       0.70      0.74      0.72        31\n",
      "      conspiracy theory       1.00      0.59      0.74        22\n",
      "           fake experts       0.83      0.71      0.77         7\n",
      "           false choice       0.60      0.43      0.50         7\n",
      "      false equivalence       0.50      0.38      0.43         8\n",
      "impossible expectations       0.61      0.81      0.69        21\n",
      "           single cause       0.68      0.66      0.67        32\n",
      "\n",
      "               accuracy                           0.74       189\n",
      "              macro avg       0.73      0.68      0.69       189\n",
      "           weighted avg       0.75      0.74      0.73       189\n",
      "\n",
      "### ### ### ### ### ### ### ### ### ### \n",
      "{'test_acc': [0.7619047619047619, 0.7513227513227513, 0.7777777777777778, 0.7354497354497355], 'test_f1': [0.7136775541723434, 0.7040593815103618, 0.7488707519463308, 0.6911059509273795], 'eval_acc': [0.7544378698224852, 0.7514792899408284, 0.7218934911242604, 0.7396449704142012], 'eval_f1': [0.7537509947053578, 0.7536269736653618, 0.7111118787198116, 0.7365804697588004], 'g': [2, 4, 8, 16]}\n",
      "### ### ### ### ### ### ### ### ### ### \n"
     ]
    }
   ],
   "source": [
    "gamma = [2,4,8,16]\n",
    "lr = 5.0e-5\n",
    "\n",
    "for g in gamma:\n",
    "    print(f'Grid search {model_checkpoint}, learning rate {lr}, focal loss gamma {g}')\n",
    "    data = ClimateDataset(model_to_train=3,model_checkpoint=model_checkpoint,dataset_url=flicc_path,batch_size=32)\n",
    "    data.setup_dataloaders()\n",
    "    model = ClassificationModel(model_checkpoint=data.model_checkpoint,num_labels=data.num_labels)\n",
    "    trainer = Engine(epochs=30,labels=data.labels)\n",
    "    trainer.model = model.model\n",
    "    trainer.dataset_encoded = data.dataset_encoded\n",
    "    test_acc, test_f1, eval_acc, eval_f1 = trainer.run(lr=lr,\n",
    "                                                       wd=0.0,\n",
    "                                                       train_dataloader=data.train_dataloader,\n",
    "                                                       eval_dataloader=data.eval_dataloader,\n",
    "                                                       test_dataloader=data.test_dataloader,\n",
    "                                                       focalloss=True,\n",
    "                                                       gamma=g,\n",
    "                                                       early_stop=3)\n",
    "    results['test_acc'].append(test_acc)\n",
    "    results['test_f1'].append(test_f1)\n",
    "    results['eval_acc'].append(eval_acc)\n",
    "    results['eval_f1'].append(eval_f1)\n",
    "    results['g'].append(g)\n",
    "    print('### '*10)\n",
    "    print(results)\n",
    "    print('### '*10)\n",
    "    with torch.no_grad():\n",
    "        torch.cuda.empty_cache()\n",
    "    del data, model, trainer, test_acc, test_f1, eval_acc, eval_f1\n",
    "    gc.collect()"
   ]
  },
  {
   "cell_type": "code",
   "execution_count": 5,
   "metadata": {},
   "outputs": [
    {
     "data": {
      "image/png": "[encoded data removed]",
      "text/plain": [
       "<Figure size 640x480 with 1 Axes>"
      ]
     },
     "metadata": {},
     "output_type": "display_data"
    }
   ],
   "source": [
    "Engine.plot_grid_search(df=results,\n",
    "                        title=f'Focal loss, lr: {lr}, {model_checkpoint}',\n",
    "                        column='g',\n",
    "                        sci_format=False)"
   ]
  },
  {
   "cell_type": "code",
   "execution_count": 6,
   "metadata": {},
   "outputs": [],
   "source": [
    "%reset -f"
   ]
  }
 ],
 "metadata": {
  "kernelspec": {
   "display_name": "Python 3",
   "language": "python",
   "name": "python3"
  },
  "language_info": {
   "codemirror_mode": {
    "name": "ipython",
    "version": 3
   },
   "file_extension": ".py",
   "mimetype": "text/x-python",
   "name": "python",
   "nbconvert_exporter": "python",
   "pygments_lexer": "ipython3",
   "version": "3.11.5"
  },
  "orig_nbformat": 4
 },
 "nbformat": 4,
 "nbformat_minor": 2
}
