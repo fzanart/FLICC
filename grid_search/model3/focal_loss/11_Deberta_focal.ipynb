{
 "cells": [
  {
   "cell_type": "code",
   "execution_count": 1,
   "metadata": {},
   "outputs": [],
   "source": [
    "import torch\n",
    "from data import ClimateDataset\n",
    "from models import ClassificationModel\n",
    "from engine import Engine"
   ]
  },
  {
   "cell_type": "code",
   "execution_count": 2,
   "metadata": {},
   "outputs": [],
   "source": [
    "model_checkpoint='microsoft/deberta-base'"
   ]
  },
  {
   "cell_type": "code",
   "execution_count": 3,
   "metadata": {},
   "outputs": [],
   "source": [
    "results = {'acc':[],\n",
    "           'f1':[],\n",
    "           'g':[]}"
   ]
  },
  {
   "cell_type": "code",
   "execution_count": 4,
   "metadata": {},
   "outputs": [
    {
     "name": "stdout",
     "output_type": "stream",
     "text": [
      "Grid search microsoft/deberta-base, learning rate 1e-05 focal loss, gamma: 2\n"
     ]
    },
    {
     "data": {
      "application/vnd.jupyter.widget-view+json": {
       "model_id": "3e6a76b2b14d4fe383225787a94d1a1c",
       "version_major": 2,
       "version_minor": 0
      },
      "text/plain": [
       "Filter:   0%|          | 0/1796 [00:00<?, ? examples/s]"
      ]
     },
     "metadata": {},
     "output_type": "display_data"
    },
    {
     "data": {
      "application/vnd.jupyter.widget-view+json": {
       "model_id": "78ef6bff2636419a89ea1f70ea3154d8",
       "version_major": 2,
       "version_minor": 0
      },
      "text/plain": [
       "Filter:   0%|          | 0/256 [00:00<?, ? examples/s]"
      ]
     },
     "metadata": {},
     "output_type": "display_data"
    },
    {
     "data": {
      "application/vnd.jupyter.widget-view+json": {
       "model_id": "64fac351ddba4b8ab2bad32c823e6e42",
       "version_major": 2,
       "version_minor": 0
      },
      "text/plain": [
       "Filter:   0%|          | 0/457 [00:00<?, ? examples/s]"
      ]
     },
     "metadata": {},
     "output_type": "display_data"
    },
    {
     "data": {
      "application/vnd.jupyter.widget-view+json": {
       "model_id": "943ca9bb75064a508af8488c609288fb",
       "version_major": 2,
       "version_minor": 0
      },
      "text/plain": [
       "Map:   0%|          | 0/1324 [00:00<?, ? examples/s]"
      ]
     },
     "metadata": {},
     "output_type": "display_data"
    },
    {
     "data": {
      "application/vnd.jupyter.widget-view+json": {
       "model_id": "527615e0a3b94e3a8061f3df88cc5b43",
       "version_major": 2,
       "version_minor": 0
      },
      "text/plain": [
       "Map:   0%|          | 0/189 [00:00<?, ? examples/s]"
      ]
     },
     "metadata": {},
     "output_type": "display_data"
    },
    {
     "data": {
      "application/vnd.jupyter.widget-view+json": {
       "model_id": "921d91de4309427286b9b8c3035a8a88",
       "version_major": 2,
       "version_minor": 0
      },
      "text/plain": [
       "Map:   0%|          | 0/338 [00:00<?, ? examples/s]"
      ]
     },
     "metadata": {},
     "output_type": "display_data"
    },
    {
     "name": "stderr",
     "output_type": "stream",
     "text": [
      "Some weights of DebertaForSequenceClassification were not initialized from the model checkpoint at microsoft/deberta-base and are newly initialized: ['classifier.bias', 'classifier.weight', 'pooler.dense.bias', 'pooler.dense.weight']\n",
      "You should probably TRAIN this model on a down-stream task to be able to use it for predictions and inference.\n",
      "You're using a DebertaTokenizerFast tokenizer. Please note that with a fast tokenizer, using the `__call__` method is faster than using a method to encode the text followed by a call to the `pad` method to get a padded encoding.\n"
     ]
    },
    {
     "name": "stdout",
     "output_type": "stream",
     "text": [
      "1 / 30: Train Loss:\t7.7048\tVal Loss:\t2.0122\tAccuracy:\t0.3787\tF1:\t0.3085\n",
      "2 / 30: Train Loss:\t5.7800\tVal Loss:\t1.5040\tAccuracy:\t0.5148\tF1:\t0.4806\n",
      "3 / 30: Train Loss:\t3.2897\tVal Loss:\t1.2241\tAccuracy:\t0.5799\tF1:\t0.5580\n",
      "4 / 30: Train Loss:\t1.8791\tVal Loss:\t1.0909\tAccuracy:\t0.6213\tF1:\t0.6032\n",
      "5 / 30: Train Loss:\t1.2025\tVal Loss:\t0.9447\tAccuracy:\t0.6834\tF1:\t0.6732\n",
      "6 / 30: Train Loss:\t0.7793\tVal Loss:\t0.9067\tAccuracy:\t0.7041\tF1:\t0.6922\n",
      "7 / 30: Train Loss:\t0.5454\tVal Loss:\t0.9244\tAccuracy:\t0.7041\tF1:\t0.6967\n",
      "8 / 30: Train Loss:\t0.3431\tVal Loss:\t0.8836\tAccuracy:\t0.6953\tF1:\t0.6940\n",
      "9 / 30: Train Loss:\t0.2080\tVal Loss:\t0.8402\tAccuracy:\t0.7189\tF1:\t0.7124\n",
      "10 / 30: Train Loss:\t0.1322\tVal Loss:\t0.8217\tAccuracy:\t0.7367\tF1:\t0.7191\n",
      "11 / 30: Train Loss:\t0.0984\tVal Loss:\t0.8316\tAccuracy:\t0.7308\tF1:\t0.7375\n",
      "12 / 30: Train Loss:\t0.0658\tVal Loss:\t0.8645\tAccuracy:\t0.7130\tF1:\t0.7106\n",
      "13 / 30: Train Loss:\t0.0589\tVal Loss:\t0.8158\tAccuracy:\t0.7308\tF1:\t0.7338\n",
      "14 / 30: Train Loss:\t0.0440\tVal Loss:\t0.8505\tAccuracy:\t0.7219\tF1:\t0.7332\n",
      "No improvement for 3 epochs. Stopping early.\n",
      "best (higgest macro f1-score) val results:\n",
      "                         precision    recall  f1-score   support\n",
      "\n",
      "             ad hominem       0.76      0.72      0.74        67\n",
      "               anecdote       0.81      0.88      0.84        43\n",
      "         cherry picking       0.58      0.79      0.67        56\n",
      "      conspiracy theory       0.76      0.67      0.71        39\n",
      "           fake experts       0.92      0.92      0.92        12\n",
      "           false choice       0.91      0.77      0.83        13\n",
      "      false equivalence       0.53      0.57      0.55        14\n",
      "impossible expectations       0.61      0.59      0.60        37\n",
      "           single cause       0.84      0.65      0.73        57\n",
      "\n",
      "               accuracy                           0.72       338\n",
      "              macro avg       0.75      0.73      0.73       338\n",
      "           weighted avg       0.74      0.72      0.72       338\n",
      "\n",
      "test results:\n",
      "                         precision    recall  f1-score   support\n",
      "\n",
      "             ad hominem       0.83      0.81      0.82        37\n",
      "               anecdote       0.81      0.88      0.84        24\n",
      "         cherry picking       0.69      0.81      0.75        31\n",
      "      conspiracy theory       0.89      0.77      0.83        22\n",
      "           fake experts       1.00      0.71      0.83         7\n",
      "           false choice       0.43      0.43      0.43         7\n",
      "      false equivalence       0.33      0.38      0.35         8\n",
      "impossible expectations       0.72      0.86      0.78        21\n",
      "           single cause       0.69      0.56      0.62        32\n",
      "\n",
      "               accuracy                           0.74       189\n",
      "              macro avg       0.71      0.69      0.70       189\n",
      "           weighted avg       0.75      0.74      0.74       189\n",
      "\n",
      "### ### ### ### ### ### ### ### ### ### \n",
      "{'acc': [0.7407407407407407], 'f1': [0.6950665607576068], 'g': [2]}\n",
      "### ### ### ### ### ### ### ### ### ### \n",
      "Grid search microsoft/deberta-base, learning rate 1e-05 focal loss, gamma: 4\n"
     ]
    },
    {
     "data": {
      "application/vnd.jupyter.widget-view+json": {
       "model_id": "0eb2fba901f7477eb6264231b8686e0c",
       "version_major": 2,
       "version_minor": 0
      },
      "text/plain": [
       "Map:   0%|          | 0/189 [00:00<?, ? examples/s]"
      ]
     },
     "metadata": {},
     "output_type": "display_data"
    },
    {
     "name": "stderr",
     "output_type": "stream",
     "text": [
      "Some weights of DebertaForSequenceClassification were not initialized from the model checkpoint at microsoft/deberta-base and are newly initialized: ['classifier.bias', 'classifier.weight', 'pooler.dense.bias', 'pooler.dense.weight']\n",
      "You should probably TRAIN this model on a down-stream task to be able to use it for predictions and inference.\n",
      "You're using a DebertaTokenizerFast tokenizer. Please note that with a fast tokenizer, using the `__call__` method is faster than using a method to encode the text followed by a call to the `pad` method to get a padded encoding.\n"
     ]
    },
    {
     "name": "stdout",
     "output_type": "stream",
     "text": [
      "1 / 30: Train Loss:\t5.9952\tVal Loss:\t1.9534\tAccuracy:\t0.4497\tF1:\t0.3820\n",
      "2 / 30: Train Loss:\t4.0118\tVal Loss:\t1.5233\tAccuracy:\t0.5178\tF1:\t0.4836\n",
      "3 / 30: Train Loss:\t2.0692\tVal Loss:\t1.2678\tAccuracy:\t0.5888\tF1:\t0.5632\n",
      "4 / 30: Train Loss:\t1.1380\tVal Loss:\t1.1277\tAccuracy:\t0.6243\tF1:\t0.6042\n",
      "5 / 30: Train Loss:\t0.7054\tVal Loss:\t1.0073\tAccuracy:\t0.7012\tF1:\t0.6883\n",
      "6 / 30: Train Loss:\t0.4589\tVal Loss:\t0.9626\tAccuracy:\t0.6893\tF1:\t0.6827\n",
      "7 / 30: Train Loss:\t0.3150\tVal Loss:\t1.0077\tAccuracy:\t0.6834\tF1:\t0.6796\n",
      "8 / 30: Train Loss:\t0.1957\tVal Loss:\t0.9206\tAccuracy:\t0.7041\tF1:\t0.6983\n",
      "9 / 30: Train Loss:\t0.1155\tVal Loss:\t0.8802\tAccuracy:\t0.7130\tF1:\t0.6973\n",
      "10 / 30: Train Loss:\t0.0747\tVal Loss:\t0.8608\tAccuracy:\t0.7278\tF1:\t0.7160\n",
      "11 / 30: Train Loss:\t0.0676\tVal Loss:\t0.8822\tAccuracy:\t0.7130\tF1:\t0.7036\n",
      "12 / 30: Train Loss:\t0.0537\tVal Loss:\t0.8626\tAccuracy:\t0.7219\tF1:\t0.7168\n",
      "13 / 30: Train Loss:\t0.0605\tVal Loss:\t0.8819\tAccuracy:\t0.7012\tF1:\t0.7032\n",
      "14 / 30: Train Loss:\t0.0391\tVal Loss:\t0.8477\tAccuracy:\t0.7189\tF1:\t0.7232\n",
      "15 / 30: Train Loss:\t0.0243\tVal Loss:\t0.8215\tAccuracy:\t0.7278\tF1:\t0.7240\n",
      "16 / 30: Train Loss:\t0.0174\tVal Loss:\t0.8032\tAccuracy:\t0.7249\tF1:\t0.7131\n",
      "17 / 30: Train Loss:\t0.0128\tVal Loss:\t0.8041\tAccuracy:\t0.7337\tF1:\t0.7142\n",
      "18 / 30: Train Loss:\t0.0088\tVal Loss:\t0.7975\tAccuracy:\t0.7337\tF1:\t0.7359\n",
      "19 / 30: Train Loss:\t0.0075\tVal Loss:\t0.7968\tAccuracy:\t0.7308\tF1:\t0.7212\n",
      "20 / 30: Train Loss:\t0.0105\tVal Loss:\t0.7997\tAccuracy:\t0.7367\tF1:\t0.7381\n",
      "21 / 30: Train Loss:\t0.0526\tVal Loss:\t0.8282\tAccuracy:\t0.7337\tF1:\t0.7194\n",
      "22 / 30: Train Loss:\t0.0166\tVal Loss:\t0.8018\tAccuracy:\t0.7219\tF1:\t0.7081\n",
      "23 / 30: Train Loss:\t0.0077\tVal Loss:\t0.7866\tAccuracy:\t0.7367\tF1:\t0.7390\n",
      "24 / 30: Train Loss:\t0.0108\tVal Loss:\t0.7887\tAccuracy:\t0.7485\tF1:\t0.7483\n",
      "25 / 30: Train Loss:\t0.0084\tVal Loss:\t0.8053\tAccuracy:\t0.7278\tF1:\t0.7226\n",
      "26 / 30: Train Loss:\t0.0041\tVal Loss:\t0.7927\tAccuracy:\t0.7278\tF1:\t0.7166\n",
      "27 / 30: Train Loss:\t0.0037\tVal Loss:\t0.7996\tAccuracy:\t0.7396\tF1:\t0.7332\n",
      "No improvement for 3 epochs. Stopping early.\n",
      "best (higgest macro f1-score) val results:\n",
      "                         precision    recall  f1-score   support\n",
      "\n",
      "             ad hominem       0.78      0.75      0.76        67\n",
      "               anecdote       0.88      0.86      0.87        43\n",
      "         cherry picking       0.65      0.77      0.70        56\n",
      "      conspiracy theory       0.73      0.69      0.71        39\n",
      "           fake experts       0.83      0.83      0.83        12\n",
      "           false choice       0.83      0.77      0.80        13\n",
      "      false equivalence       0.67      0.43      0.52        14\n",
      "impossible expectations       0.64      0.68      0.66        37\n",
      "           single cause       0.74      0.74      0.74        57\n",
      "\n",
      "               accuracy                           0.74       338\n",
      "              macro avg       0.75      0.72      0.73       338\n",
      "           weighted avg       0.74      0.74      0.74       338\n",
      "\n",
      "test results:\n",
      "                         precision    recall  f1-score   support\n",
      "\n",
      "             ad hominem       0.82      0.89      0.86        37\n",
      "               anecdote       0.84      0.88      0.86        24\n",
      "         cherry picking       0.77      0.74      0.75        31\n",
      "      conspiracy theory       0.89      0.77      0.83        22\n",
      "           fake experts       1.00      0.71      0.83         7\n",
      "           false choice       0.56      0.71      0.63         7\n",
      "      false equivalence       0.60      0.38      0.46         8\n",
      "impossible expectations       0.70      0.90      0.79        21\n",
      "           single cause       0.79      0.72      0.75        32\n",
      "\n",
      "               accuracy                           0.79       189\n",
      "              macro avg       0.78      0.75      0.75       189\n",
      "           weighted avg       0.79      0.79      0.79       189\n",
      "\n",
      "### ### ### ### ### ### ### ### ### ### \n",
      "{'acc': [0.7407407407407407, 0.7883597883597884], 'f1': [0.6950665607576068, 0.7514765766465088], 'g': [2, 4]}\n",
      "### ### ### ### ### ### ### ### ### ### \n",
      "Grid search microsoft/deberta-base, learning rate 1e-05 focal loss, gamma: 8\n"
     ]
    },
    {
     "data": {
      "application/vnd.jupyter.widget-view+json": {
       "model_id": "93da3f5aab88470d856e5ef6f06af221",
       "version_major": 2,
       "version_minor": 0
      },
      "text/plain": [
       "Map:   0%|          | 0/338 [00:00<?, ? examples/s]"
      ]
     },
     "metadata": {},
     "output_type": "display_data"
    },
    {
     "name": "stderr",
     "output_type": "stream",
     "text": [
      "Some weights of DebertaForSequenceClassification were not initialized from the model checkpoint at microsoft/deberta-base and are newly initialized: ['classifier.bias', 'classifier.weight', 'pooler.dense.bias', 'pooler.dense.weight']\n",
      "You should probably TRAIN this model on a down-stream task to be able to use it for predictions and inference.\n",
      "You're using a DebertaTokenizerFast tokenizer. Please note that with a fast tokenizer, using the `__call__` method is faster than using a method to encode the text followed by a call to the `pad` method to get a padded encoding.\n"
     ]
    },
    {
     "name": "stdout",
     "output_type": "stream",
     "text": [
      "1 / 30: Train Loss:\t3.6735\tVal Loss:\t1.9880\tAccuracy:\t0.3905\tF1:\t0.3481\n",
      "2 / 30: Train Loss:\t2.0419\tVal Loss:\t1.5793\tAccuracy:\t0.5414\tF1:\t0.5114\n",
      "3 / 30: Train Loss:\t0.9402\tVal Loss:\t1.3487\tAccuracy:\t0.6213\tF1:\t0.5938\n",
      "4 / 30: Train Loss:\t0.4992\tVal Loss:\t1.2152\tAccuracy:\t0.6509\tF1:\t0.6147\n",
      "5 / 30: Train Loss:\t0.2961\tVal Loss:\t1.1234\tAccuracy:\t0.6864\tF1:\t0.6752\n",
      "6 / 30: Train Loss:\t0.2224\tVal Loss:\t1.1051\tAccuracy:\t0.6805\tF1:\t0.6763\n",
      "7 / 30: Train Loss:\t0.1278\tVal Loss:\t1.0661\tAccuracy:\t0.7071\tF1:\t0.7034\n",
      "8 / 30: Train Loss:\t0.0765\tVal Loss:\t1.0311\tAccuracy:\t0.7101\tF1:\t0.6987\n",
      "9 / 30: Train Loss:\t0.0532\tVal Loss:\t0.9933\tAccuracy:\t0.7071\tF1:\t0.6994\n",
      "10 / 30: Train Loss:\t0.0297\tVal Loss:\t0.9677\tAccuracy:\t0.7071\tF1:\t0.6909\n",
      "No improvement for 3 epochs. Stopping early.\n",
      "best (higgest macro f1-score) val results:\n",
      "                         precision    recall  f1-score   support\n",
      "\n",
      "             ad hominem       0.69      0.75      0.72        67\n",
      "               anecdote       0.84      0.88      0.86        43\n",
      "         cherry picking       0.67      0.71      0.69        56\n",
      "      conspiracy theory       0.70      0.67      0.68        39\n",
      "           fake experts       0.83      0.83      0.83        12\n",
      "           false choice       0.75      0.69      0.72        13\n",
      "      false equivalence       0.45      0.36      0.40        14\n",
      "impossible expectations       0.64      0.57      0.60        37\n",
      "           single cause       0.71      0.70      0.71        57\n",
      "\n",
      "               accuracy                           0.71       338\n",
      "              macro avg       0.70      0.68      0.69       338\n",
      "           weighted avg       0.70      0.71      0.70       338\n",
      "\n",
      "test results:\n",
      "                         precision    recall  f1-score   support\n",
      "\n",
      "             ad hominem       0.81      0.81      0.81        37\n",
      "               anecdote       0.81      0.92      0.86        24\n",
      "         cherry picking       0.74      0.65      0.69        31\n",
      "      conspiracy theory       0.81      0.77      0.79        22\n",
      "           fake experts       1.00      0.86      0.92         7\n",
      "           false choice       0.44      0.57      0.50         7\n",
      "      false equivalence       0.50      0.38      0.43         8\n",
      "impossible expectations       0.71      0.81      0.76        21\n",
      "           single cause       0.66      0.66      0.66        32\n",
      "\n",
      "               accuracy                           0.74       189\n",
      "              macro avg       0.72      0.71      0.71       189\n",
      "           weighted avg       0.74      0.74      0.74       189\n",
      "\n",
      "### ### ### ### ### ### ### ### ### ### \n",
      "{'acc': [0.7407407407407407, 0.7883597883597884, 0.7407407407407407], 'f1': [0.6950665607576068, 0.7514765766465088, 0.7130402958762591], 'g': [2, 4, 8]}\n",
      "### ### ### ### ### ### ### ### ### ### \n",
      "Grid search microsoft/deberta-base, learning rate 1e-05 focal loss, gamma: 16\n"
     ]
    },
    {
     "name": "stderr",
     "output_type": "stream",
     "text": [
      "Some weights of DebertaForSequenceClassification were not initialized from the model checkpoint at microsoft/deberta-base and are newly initialized: ['classifier.bias', 'classifier.weight', 'pooler.dense.bias', 'pooler.dense.weight']\n",
      "You should probably TRAIN this model on a down-stream task to be able to use it for predictions and inference.\n",
      "You're using a DebertaTokenizerFast tokenizer. Please note that with a fast tokenizer, using the `__call__` method is faster than using a method to encode the text followed by a call to the `pad` method to get a padded encoding.\n"
     ]
    },
    {
     "name": "stdout",
     "output_type": "stream",
     "text": [
      "1 / 30: Train Loss:\t1.4177\tVal Loss:\t2.0348\tAccuracy:\t0.4231\tF1:\t0.4094\n",
      "2 / 30: Train Loss:\t0.7349\tVal Loss:\t1.7154\tAccuracy:\t0.5207\tF1:\t0.4902\n",
      "3 / 30: Train Loss:\t0.3245\tVal Loss:\t1.5237\tAccuracy:\t0.6124\tF1:\t0.5815\n",
      "4 / 30: Train Loss:\t0.1577\tVal Loss:\t1.4049\tAccuracy:\t0.6716\tF1:\t0.6462\n",
      "5 / 30: Train Loss:\t0.0912\tVal Loss:\t1.3402\tAccuracy:\t0.6923\tF1:\t0.6744\n",
      "6 / 30: Train Loss:\t0.0622\tVal Loss:\t1.3132\tAccuracy:\t0.6864\tF1:\t0.6826\n",
      "7 / 30: Train Loss:\t0.0381\tVal Loss:\t1.2605\tAccuracy:\t0.6923\tF1:\t0.6791\n",
      "8 / 30: Train Loss:\t0.0218\tVal Loss:\t1.2147\tAccuracy:\t0.6864\tF1:\t0.6737\n",
      "9 / 30: Train Loss:\t0.0157\tVal Loss:\t1.1906\tAccuracy:\t0.6953\tF1:\t0.6922\n",
      "10 / 30: Train Loss:\t0.0102\tVal Loss:\t1.1582\tAccuracy:\t0.6982\tF1:\t0.6977\n",
      "11 / 30: Train Loss:\t0.0094\tVal Loss:\t1.1446\tAccuracy:\t0.6953\tF1:\t0.6853\n",
      "12 / 30: Train Loss:\t0.0089\tVal Loss:\t1.1921\tAccuracy:\t0.6479\tF1:\t0.6551\n",
      "13 / 30: Train Loss:\t0.0080\tVal Loss:\t1.1400\tAccuracy:\t0.6834\tF1:\t0.6792\n",
      "No improvement for 3 epochs. Stopping early.\n",
      "best (higgest macro f1-score) val results:\n",
      "                         precision    recall  f1-score   support\n",
      "\n",
      "             ad hominem       0.69      0.72      0.70        67\n",
      "               anecdote       0.81      0.88      0.84        43\n",
      "         cherry picking       0.68      0.68      0.68        56\n",
      "      conspiracy theory       0.63      0.69      0.66        39\n",
      "           fake experts       0.83      0.83      0.83        12\n",
      "           false choice       0.80      0.62      0.70        13\n",
      "      false equivalence       0.33      0.57      0.42        14\n",
      "impossible expectations       0.72      0.62      0.67        37\n",
      "           single cause       0.70      0.54      0.61        57\n",
      "\n",
      "               accuracy                           0.68       338\n",
      "              macro avg       0.69      0.68      0.68       338\n",
      "           weighted avg       0.70      0.68      0.69       338\n",
      "\n",
      "test results:\n",
      "                         precision    recall  f1-score   support\n",
      "\n",
      "             ad hominem       0.82      0.86      0.84        37\n",
      "               anecdote       0.85      0.92      0.88        24\n",
      "         cherry picking       0.77      0.65      0.70        31\n",
      "      conspiracy theory       0.82      0.82      0.82        22\n",
      "           fake experts       1.00      0.71      0.83         7\n",
      "           false choice       0.29      0.29      0.29         7\n",
      "      false equivalence       0.20      0.38      0.26         8\n",
      "impossible expectations       0.68      0.81      0.74        21\n",
      "           single cause       0.62      0.47      0.54        32\n",
      "\n",
      "               accuracy                           0.71       189\n",
      "              macro avg       0.67      0.66      0.66       189\n",
      "           weighted avg       0.73      0.71      0.71       189\n",
      "\n",
      "### ### ### ### ### ### ### ### ### ### \n",
      "{'acc': [0.7407407407407407, 0.7883597883597884, 0.7407407407407407, 0.708994708994709], 'f1': [0.6950665607576068, 0.7514765766465088, 0.7130402958762591, 0.6552003746740589], 'g': [2, 4, 8, 16]}\n",
      "### ### ### ### ### ### ### ### ### ### \n"
     ]
    }
   ],
   "source": [
    "gammas = [2,4,8,16]\n",
    "lr = 1.0e-5\n",
    "\n",
    "\n",
    "for g in gammas:\n",
    "    print(f'Grid search {model_checkpoint}, learning rate {lr} focal loss, gamma: {g}')\n",
    "    data = ClimateDataset(model_to_train=3,model_checkpoint=model_checkpoint,batch_size=16)\n",
    "    data.setup_dataloaders()\n",
    "    model = ClassificationModel(model_checkpoint=data.model_checkpoint,num_labels=data.num_labels)\n",
    "    trainer = Engine(epochs=30,labels=data.labels)\n",
    "    trainer.model = model.model\n",
    "    trainer.dataset_encoded = data.dataset_encoded\n",
    "    acc, f1 = trainer.run(lr=lr,\n",
    "                          wd=0.0,\n",
    "                          train_dataloader=data.train_dataloader,\n",
    "                          eval_dataloader=data.eval_dataloader,\n",
    "                          test_dataloader=data.test_dataloader,\n",
    "                          focalloss=True,\n",
    "                          accumulation_steps=2,\n",
    "                          gamma=g,\n",
    "                          early_stop=3)\n",
    "    results['acc'].append(acc)\n",
    "    results['f1'].append(f1)\n",
    "    results['g'].append(g)\n",
    "    print('### '*10)\n",
    "    print(results)\n",
    "    print('### '*10)\n",
    "    with torch.no_grad():\n",
    "        torch.cuda.empty_cache()\n",
    "    del data, model, trainer, acc, f1"
   ]
  },
  {
   "cell_type": "code",
   "execution_count": 5,
   "metadata": {},
   "outputs": [],
   "source": [
    "import matplotlib.pyplot as plt\n",
    "import seaborn as sns\n",
    "import pandas as pd"
   ]
  },
  {
   "cell_type": "code",
   "execution_count": 6,
   "metadata": {},
   "outputs": [
    {
     "data": {
      "image/png": "[encoded data removed]",
      "text/plain": [
       "<Figure size 640x480 with 1 Axes>"
      ]
     },
     "metadata": {},
     "output_type": "display_data"
    }
   ],
   "source": [
    "def plot_grid_search(df, title, column):\n",
    "\n",
    "    # Create the plot\n",
    "    ax = df.plot(x=column, y=['acc', 'f1'], marker='o', linestyle='-')\n",
    "\n",
    "    # Set y-axis range between 0 and 1\n",
    "    plt.ylim(0, 1)\n",
    "\n",
    "    # Annotate points with F1 scores\n",
    "    for i, row in df.iterrows(): \n",
    "        ax.annotate(f'{row[\"f1\"]:.2f}', (row[column], row[\"f1\"]), textcoords='offset points', xytext=(0, -10), ha='center')\n",
    "\n",
    "    # Annotate points with Acc scores\n",
    "    for i, row in df.iterrows():\n",
    "        ax.annotate(f'{row[\"acc\"]:.2f}', (row[column], row[\"acc\"]), textcoords='offset points', xytext=(0, 10), ha='center')\n",
    "    \n",
    "    # \n",
    "    plt.xticks(df[column], [val for val in df[column]], ha='center')\n",
    "    # plt.xscale('log')\n",
    "    plt.minorticks_off()\n",
    "\n",
    "    plt.title(title)\n",
    "    plt.xlabel('gamma')\n",
    "    plt.ylabel('Score')\n",
    "    plt.show()\n",
    "\n",
    "plot_grid_search(pd.DataFrame(results), f'Focal loss, {model_checkpoint}', 'g')"
   ]
  }
 ],
 "metadata": {
  "kernelspec": {
   "display_name": "Python 3",
   "language": "python",
   "name": "python3"
  },
  "language_info": {
   "codemirror_mode": {
    "name": "ipython",
    "version": 3
   },
   "file_extension": ".py",
   "mimetype": "text/x-python",
   "name": "python",
   "nbconvert_exporter": "python",
   "pygments_lexer": "ipython3",
   "version": "3.11.5"
  },
  "orig_nbformat": 4
 },
 "nbformat": 4,
 "nbformat_minor": 2
}
