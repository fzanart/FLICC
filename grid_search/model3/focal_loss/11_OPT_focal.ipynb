{
 "cells": [
  {
   "cell_type": "code",
   "execution_count": 1,
   "metadata": {},
   "outputs": [],
   "source": [
    "import torch\n",
    "from data import ClimateDataset\n",
    "from models import ClassificationModel\n",
    "from engine import Engine"
   ]
  },
  {
   "cell_type": "code",
   "execution_count": 2,
   "metadata": {},
   "outputs": [],
   "source": [
    "model_checkpoint='facebook/opt-350m'"
   ]
  },
  {
   "cell_type": "code",
   "execution_count": 3,
   "metadata": {},
   "outputs": [],
   "source": [
    "results = {'acc':[],\n",
    "           'f1':[],\n",
    "           'g':[]}"
   ]
  },
  {
   "cell_type": "code",
   "execution_count": 4,
   "metadata": {},
   "outputs": [
    {
     "name": "stdout",
     "output_type": "stream",
     "text": [
      "Grid search facebook/opt-350m, learning rate 1e-05 focal loss, gamma: 2\n"
     ]
    },
    {
     "name": "stderr",
     "output_type": "stream",
     "text": [
      "Some weights of OPTForSequenceClassification were not initialized from the model checkpoint at facebook/opt-350m and are newly initialized: ['score.weight']\n",
      "You should probably TRAIN this model on a down-stream task to be able to use it for predictions and inference.\n",
      "You're using a GPT2TokenizerFast tokenizer. Please note that with a fast tokenizer, using the `__call__` method is faster than using a method to encode the text followed by a call to the `pad` method to get a padded encoding.\n"
     ]
    },
    {
     "name": "stdout",
     "output_type": "stream",
     "text": [
      "1 / 30: Train Loss:\t8.9851\tVal Loss:\t1.6690\tAccuracy:\t0.3846\tF1:\t0.2976\n",
      "2 / 30: Train Loss:\t6.2889\tVal Loss:\t1.7293\tAccuracy:\t0.2988\tF1:\t0.2555\n",
      "3 / 30: Train Loss:\t6.1075\tVal Loss:\t1.8895\tAccuracy:\t0.2544\tF1:\t0.2102\n",
      "4 / 30: Train Loss:\t6.8163\tVal Loss:\t2.0622\tAccuracy:\t0.2574\tF1:\t0.1855\n",
      "No improvement for 3 epochs. Stopping early.\n",
      "best (higgest macro f1-score) val results:\n",
      "                         precision    recall  f1-score   support\n",
      "\n",
      "             ad hominem       0.47      0.13      0.21        67\n",
      "               anecdote       0.64      0.70      0.67        43\n",
      "         cherry picking       0.29      0.34      0.31        56\n",
      "      conspiracy theory       0.00      0.00      0.00        39\n",
      "           fake experts       0.00      0.00      0.00        12\n",
      "           false choice       0.09      1.00      0.17        13\n",
      "      false equivalence       0.00      0.00      0.00        14\n",
      "impossible expectations       0.24      0.43      0.31        37\n",
      "           single cause       0.00      0.00      0.00        57\n",
      "\n",
      "               accuracy                           0.26       338\n",
      "              macro avg       0.19      0.29      0.19       338\n",
      "           weighted avg       0.25      0.26      0.22       338\n",
      "\n",
      "test results:\n",
      "                         precision    recall  f1-score   support\n",
      "\n",
      "             ad hominem       0.71      0.14      0.23        37\n",
      "               anecdote       0.52      0.67      0.58        24\n",
      "         cherry picking       0.18      0.26      0.21        31\n",
      "      conspiracy theory       0.00      0.00      0.00        22\n",
      "           fake experts       0.00      0.00      0.00         7\n",
      "           false choice       0.05      0.57      0.10         7\n",
      "      false equivalence       0.00      0.00      0.00         8\n",
      "impossible expectations       0.34      0.48      0.40        21\n",
      "           single cause       0.00      0.00      0.00        32\n",
      "\n",
      "               accuracy                           0.23       189\n",
      "              macro avg       0.20      0.23      0.17       189\n",
      "           weighted avg       0.27      0.23      0.20       189\n",
      "\n",
      "### ### ### ### ### ### ### ### ### ### \n",
      "{'acc': [0.2275132275132275], 'f1': [0.16831725779094203], 'g': [2]}\n",
      "### ### ### ### ### ### ### ### ### ### \n",
      "Grid search facebook/opt-350m, learning rate 1e-05 focal loss, gamma: 4\n"
     ]
    },
    {
     "name": "stderr",
     "output_type": "stream",
     "text": [
      "Some weights of OPTForSequenceClassification were not initialized from the model checkpoint at facebook/opt-350m and are newly initialized: ['score.weight']\n",
      "You should probably TRAIN this model on a down-stream task to be able to use it for predictions and inference.\n",
      "You're using a GPT2TokenizerFast tokenizer. Please note that with a fast tokenizer, using the `__call__` method is faster than using a method to encode the text followed by a call to the `pad` method to get a padded encoding.\n"
     ]
    },
    {
     "name": "stdout",
     "output_type": "stream",
     "text": [
      "1 / 30: Train Loss:\t7.7200\tVal Loss:\t1.7479\tAccuracy:\t0.3550\tF1:\t0.2735\n",
      "2 / 30: Train Loss:\t5.1842\tVal Loss:\t1.6348\tAccuracy:\t0.3402\tF1:\t0.2826\n",
      "3 / 30: Train Loss:\t5.7322\tVal Loss:\t2.6925\tAccuracy:\t0.1568\tF1:\t0.0986\n",
      "4 / 30: Train Loss:\t7.2584\tVal Loss:\t2.3609\tAccuracy:\t0.0385\tF1:\t0.0082\n",
      "5 / 30: Train Loss:\t6.4268\tVal Loss:\t2.3505\tAccuracy:\t0.0473\tF1:\t0.0176\n",
      "No improvement for 3 epochs. Stopping early.\n",
      "best (higgest macro f1-score) val results:\n",
      "                         precision    recall  f1-score   support\n",
      "\n",
      "             ad hominem       0.00      0.00      0.00        67\n",
      "               anecdote       0.00      0.00      0.00        43\n",
      "         cherry picking       0.00      0.00      0.00        56\n",
      "      conspiracy theory       0.00      0.00      0.00        39\n",
      "           fake experts       0.00      0.00      0.00        12\n",
      "           false choice       0.05      1.00      0.10        13\n",
      "      false equivalence       0.04      0.21      0.06        14\n",
      "impossible expectations       0.00      0.00      0.00        37\n",
      "           single cause       0.00      0.00      0.00        57\n",
      "\n",
      "               accuracy                           0.05       338\n",
      "              macro avg       0.01      0.13      0.02       338\n",
      "           weighted avg       0.00      0.05      0.01       338\n",
      "\n",
      "test results:\n",
      "                         precision    recall  f1-score   support\n",
      "\n",
      "             ad hominem       0.00      0.00      0.00        37\n",
      "               anecdote       0.00      0.00      0.00        24\n",
      "         cherry picking       0.00      0.00      0.00        31\n",
      "      conspiracy theory       0.00      0.00      0.00        22\n",
      "           fake experts       0.00      0.00      0.00         7\n",
      "           false choice       0.03      0.57      0.06         7\n",
      "      false equivalence       0.00      0.00      0.00         8\n",
      "impossible expectations       0.00      0.00      0.00        21\n",
      "           single cause       0.00      0.00      0.00        32\n",
      "\n",
      "               accuracy                           0.02       189\n",
      "              macro avg       0.00      0.06      0.01       189\n",
      "           weighted avg       0.00      0.02      0.00       189\n",
      "\n",
      "### ### ### ### ### ### ### ### ### ### \n",
      "{'acc': [0.2275132275132275, 0.021164021164021163], 'f1': [0.16831725779094203, 0.006130268199233716], 'g': [2, 4]}\n",
      "### ### ### ### ### ### ### ### ### ### \n",
      "Grid search facebook/opt-350m, learning rate 1e-05 focal loss, gamma: 8\n"
     ]
    },
    {
     "name": "stderr",
     "output_type": "stream",
     "text": [
      "Some weights of OPTForSequenceClassification were not initialized from the model checkpoint at facebook/opt-350m and are newly initialized: ['score.weight']\n",
      "You should probably TRAIN this model on a down-stream task to be able to use it for predictions and inference.\n",
      "You're using a GPT2TokenizerFast tokenizer. Please note that with a fast tokenizer, using the `__call__` method is faster than using a method to encode the text followed by a call to the `pad` method to get a padded encoding.\n"
     ]
    },
    {
     "name": "stdout",
     "output_type": "stream",
     "text": [
      "1 / 30: Train Loss:\t5.8616\tVal Loss:\t1.7548\tAccuracy:\t0.2899\tF1:\t0.2338\n",
      "2 / 30: Train Loss:\t3.4637\tVal Loss:\t1.6330\tAccuracy:\t0.3728\tF1:\t0.3118\n",
      "3 / 30: Train Loss:\t3.3215\tVal Loss:\t1.7921\tAccuracy:\t0.3136\tF1:\t0.2274\n",
      "4 / 30: Train Loss:\t2.6361\tVal Loss:\t1.8968\tAccuracy:\t0.2012\tF1:\t0.2175\n",
      "5 / 30: Train Loss:\t4.4497\tVal Loss:\t2.2414\tAccuracy:\t0.0651\tF1:\t0.0289\n",
      "No improvement for 3 epochs. Stopping early.\n",
      "best (higgest macro f1-score) val results:\n",
      "                         precision    recall  f1-score   support\n",
      "\n",
      "             ad hominem       0.00      0.00      0.00        67\n",
      "               anecdote       0.20      0.02      0.04        43\n",
      "         cherry picking       0.00      0.00      0.00        56\n",
      "      conspiracy theory       0.00      0.00      0.00        39\n",
      "           fake experts       0.00      0.00      0.00        12\n",
      "           false choice       0.06      0.92      0.12        13\n",
      "      false equivalence       0.00      0.00      0.00        14\n",
      "impossible expectations       0.06      0.24      0.10        37\n",
      "           single cause       0.00      0.00      0.00        57\n",
      "\n",
      "               accuracy                           0.07       338\n",
      "              macro avg       0.04      0.13      0.03       338\n",
      "           weighted avg       0.03      0.07      0.02       338\n",
      "\n",
      "test results:\n",
      "                         precision    recall  f1-score   support\n",
      "\n",
      "             ad hominem       0.00      0.00      0.00        37\n",
      "               anecdote       0.20      0.04      0.07        24\n",
      "         cherry picking       0.00      0.00      0.00        31\n",
      "      conspiracy theory       0.00      0.00      0.00        22\n",
      "           fake experts       0.00      0.00      0.00         7\n",
      "           false choice       0.03      0.43      0.06         7\n",
      "      false equivalence       0.00      0.00      0.00         8\n",
      "impossible expectations       0.15      0.67      0.25        21\n",
      "           single cause       0.00      0.00      0.00        32\n",
      "\n",
      "               accuracy                           0.10       189\n",
      "              macro avg       0.04      0.13      0.04       189\n",
      "           weighted avg       0.04      0.10      0.04       189\n",
      "\n",
      "### ### ### ### ### ### ### ### ### ### \n",
      "{'acc': [0.2275132275132275, 0.021164021164021163, 0.09523809523809523], 'f1': [0.16831725779094203, 0.006130268199233716, 0.04192879871854544], 'g': [2, 4, 8]}\n",
      "### ### ### ### ### ### ### ### ### ### \n",
      "Grid search facebook/opt-350m, learning rate 1e-05 focal loss, gamma: 16\n"
     ]
    },
    {
     "name": "stderr",
     "output_type": "stream",
     "text": [
      "Some weights of OPTForSequenceClassification were not initialized from the model checkpoint at facebook/opt-350m and are newly initialized: ['score.weight']\n",
      "You should probably TRAIN this model on a down-stream task to be able to use it for predictions and inference.\n",
      "You're using a GPT2TokenizerFast tokenizer. Please note that with a fast tokenizer, using the `__call__` method is faster than using a method to encode the text followed by a call to the `pad` method to get a padded encoding.\n"
     ]
    },
    {
     "name": "stdout",
     "output_type": "stream",
     "text": [
      "1 / 30: Train Loss:\t3.5079\tVal Loss:\t1.7824\tAccuracy:\t0.3077\tF1:\t0.2642\n",
      "2 / 30: Train Loss:\t1.4298\tVal Loss:\t1.5625\tAccuracy:\t0.4201\tF1:\t0.3267\n",
      "3 / 30: Train Loss:\t1.5132\tVal Loss:\t1.6330\tAccuracy:\t0.4172\tF1:\t0.3542\n",
      "4 / 30: Train Loss:\t1.7447\tVal Loss:\t2.2637\tAccuracy:\t0.1598\tF1:\t0.0971\n",
      "5 / 30: Train Loss:\t2.4892\tVal Loss:\t2.2328\tAccuracy:\t0.0592\tF1:\t0.0351\n",
      "6 / 30: Train Loss:\t1.7613\tVal Loss:\t2.2565\tAccuracy:\t0.0976\tF1:\t0.0618\n",
      "No improvement for 3 epochs. Stopping early.\n",
      "best (higgest macro f1-score) val results:\n",
      "                         precision    recall  f1-score   support\n",
      "\n",
      "             ad hominem       0.00      0.00      0.00        67\n",
      "               anecdote       0.00      0.00      0.00        43\n",
      "         cherry picking       0.21      0.32      0.26        56\n",
      "      conspiracy theory       0.00      0.00      0.00        39\n",
      "           fake experts       0.07      0.25      0.11        12\n",
      "           false choice       0.11      0.08      0.09        13\n",
      "      false equivalence       0.06      0.79      0.10        14\n",
      "impossible expectations       0.00      0.00      0.00        37\n",
      "           single cause       0.00      0.00      0.00        57\n",
      "\n",
      "               accuracy                           0.10       338\n",
      "              macro avg       0.05      0.16      0.06       338\n",
      "           weighted avg       0.04      0.10      0.05       338\n",
      "\n",
      "test results:\n",
      "                         precision    recall  f1-score   support\n",
      "\n",
      "             ad hominem       0.00      0.00      0.00        37\n",
      "               anecdote       0.00      0.00      0.00        24\n",
      "         cherry picking       0.15      0.26      0.19        31\n",
      "      conspiracy theory       0.00      0.00      0.00        22\n",
      "           fake experts       0.00      0.00      0.00         7\n",
      "           false choice       0.14      0.14      0.14         7\n",
      "      false equivalence       0.05      0.62      0.09         8\n",
      "impossible expectations       0.00      0.00      0.00        21\n",
      "           single cause       0.00      0.00      0.00        32\n",
      "\n",
      "               accuracy                           0.07       189\n",
      "              macro avg       0.04      0.11      0.05       189\n",
      "           weighted avg       0.03      0.07      0.04       189\n",
      "\n",
      "### ### ### ### ### ### ### ### ### ### \n",
      "{'acc': [0.2275132275132275, 0.021164021164021163, 0.09523809523809523, 0.07407407407407407], 'f1': [0.16831725779094203, 0.006130268199233716, 0.04192879871854544, 0.04703861393778959], 'g': [2, 4, 8, 16]}\n",
      "### ### ### ### ### ### ### ### ### ### \n"
     ]
    }
   ],
   "source": [
    "gammas = [2,4,8,16]\n",
    "lr = 1.0e-5\n",
    "\n",
    "\n",
    "for g in gammas:\n",
    "    print(f'Grid search {model_checkpoint}, learning rate {lr} focal loss, gamma: {g}')\n",
    "    data = ClimateDataset(model_to_train=3,model_checkpoint=model_checkpoint,batch_size=16)\n",
    "    data.setup_dataloaders()\n",
    "    model = ClassificationModel(model_checkpoint=data.model_checkpoint,num_labels=data.num_labels)\n",
    "    trainer = Engine(epochs=30,labels=data.labels)\n",
    "    trainer.model = model.model\n",
    "    trainer.dataset_encoded = data.dataset_encoded\n",
    "    acc, f1 = trainer.run(lr=lr,\n",
    "                          wd=0.0,\n",
    "                          train_dataloader=data.train_dataloader,\n",
    "                          eval_dataloader=data.eval_dataloader,\n",
    "                          test_dataloader=data.test_dataloader,\n",
    "                          accumulation_steps=2,\n",
    "                          focalloss=True,\n",
    "                          gamma=g,\n",
    "                          early_stop=3)\n",
    "    results['acc'].append(acc)\n",
    "    results['f1'].append(f1)\n",
    "    results['g'].append(g)\n",
    "    print('### '*10)\n",
    "    print(results)\n",
    "    print('### '*10)\n",
    "    with torch.no_grad():\n",
    "        torch.cuda.empty_cache()\n",
    "    del data, model, trainer, acc, f1"
   ]
  },
  {
   "cell_type": "code",
   "execution_count": 5,
   "metadata": {},
   "outputs": [],
   "source": [
    "import matplotlib.pyplot as plt\n",
    "import seaborn as sns\n",
    "import pandas as pd"
   ]
  },
  {
   "cell_type": "code",
   "execution_count": 6,
   "metadata": {},
   "outputs": [
    {
     "data": {
      "image/png": "[encoded data removed]",
      "text/plain": [
       "<Figure size 640x480 with 1 Axes>"
      ]
     },
     "metadata": {},
     "output_type": "display_data"
    }
   ],
   "source": [
    "def plot_grid_search(df, title, column):\n",
    "\n",
    "    # Create the plot\n",
    "    ax = df.plot(x=column, y=['acc', 'f1'], marker='o', linestyle='-')\n",
    "\n",
    "    # Set y-axis range between 0 and 1\n",
    "    plt.ylim(0, 1)\n",
    "\n",
    "    # Annotate points with F1 scores\n",
    "    for i, row in df.iterrows(): \n",
    "        ax.annotate(f'{row[\"f1\"]:.2f}', (row[column], row[\"f1\"]), textcoords='offset points', xytext=(0, -10), ha='center')\n",
    "\n",
    "    # Annotate points with Acc scores\n",
    "    for i, row in df.iterrows():\n",
    "        ax.annotate(f'{row[\"acc\"]:.2f}', (row[column], row[\"acc\"]), textcoords='offset points', xytext=(0, 10), ha='center')\n",
    "    \n",
    "    # \n",
    "    plt.xticks(df[column], [val for val in df[column]], ha='center')\n",
    "    # plt.xscale('log')\n",
    "    plt.minorticks_off()\n",
    "\n",
    "    plt.title(title)\n",
    "    plt.xlabel('gamma')\n",
    "    plt.ylabel('Score')\n",
    "    plt.show()\n",
    "\n",
    "plot_grid_search(pd.DataFrame(results), f'Focal loss, {model_checkpoint}', 'g')"
   ]
  }
 ],
 "metadata": {
  "kernelspec": {
   "display_name": "Python 3",
   "language": "python",
   "name": "python3"
  },
  "language_info": {
   "codemirror_mode": {
    "name": "ipython",
    "version": 3
   },
   "file_extension": ".py",
   "mimetype": "text/x-python",
   "name": "python",
   "nbconvert_exporter": "python",
   "pygments_lexer": "ipython3",
   "version": "3.11.5"
  },
  "orig_nbformat": 4
 },
 "nbformat": 4,
 "nbformat_minor": 2
}
