{
 "cells": [
  {
   "cell_type": "code",
   "execution_count": 1,
   "metadata": {},
   "outputs": [],
   "source": [
    "import os\n",
    "import sys\n",
    "import gc\n",
    "# assuming data, models, engine in flicc directory:\n",
    "flicc_path = os.path.realpath(\"__file__\").split('grid_search')[0]\n",
    "sys.path.append(flicc_path)\n",
    "import torch\n",
    "from data import ClimateDataset\n",
    "from models import ClassificationModel\n",
    "from engine import Engine"
   ]
  },
  {
   "cell_type": "code",
   "execution_count": 2,
   "metadata": {},
   "outputs": [],
   "source": [
    "model_checkpoint='facebook/opt-350m'"
   ]
  },
  {
   "cell_type": "code",
   "execution_count": 3,
   "metadata": {},
   "outputs": [],
   "source": [
    "results = {'test_acc':[],\n",
    "           'test_f1':[],\n",
    "           'eval_acc':[],\n",
    "           'eval_f1':[],\n",
    "           'g':[]}"
   ]
  },
  {
   "cell_type": "code",
   "execution_count": 4,
   "metadata": {},
   "outputs": [
    {
     "name": "stdout",
     "output_type": "stream",
     "text": [
      "Grid search facebook/opt-350m, learning rate 5e-05, focal loss gamma 2\n"
     ]
    },
    {
     "data": {
      "application/vnd.jupyter.widget-view+json": {
       "model_id": "aafee3d0540d46dca40ceefd9487f251",
       "version_major": 2,
       "version_minor": 0
      },
      "text/plain": [
       "Filter:   0%|          | 0/1796 [00:00<?, ? examples/s]"
      ]
     },
     "metadata": {},
     "output_type": "display_data"
    },
    {
     "data": {
      "application/vnd.jupyter.widget-view+json": {
       "model_id": "4678bb9114e84ab69ecb4853da74565d",
       "version_major": 2,
       "version_minor": 0
      },
      "text/plain": [
       "Filter:   0%|          | 0/256 [00:00<?, ? examples/s]"
      ]
     },
     "metadata": {},
     "output_type": "display_data"
    },
    {
     "data": {
      "application/vnd.jupyter.widget-view+json": {
       "model_id": "8288e042dc6047d9b86944c39135eca7",
       "version_major": 2,
       "version_minor": 0
      },
      "text/plain": [
       "Filter:   0%|          | 0/457 [00:00<?, ? examples/s]"
      ]
     },
     "metadata": {},
     "output_type": "display_data"
    },
    {
     "data": {
      "application/vnd.jupyter.widget-view+json": {
       "model_id": "c3a5316c13424e2fa757b0125d098112",
       "version_major": 2,
       "version_minor": 0
      },
      "text/plain": [
       "Map:   0%|          | 0/1324 [00:00<?, ? examples/s]"
      ]
     },
     "metadata": {},
     "output_type": "display_data"
    },
    {
     "name": "stderr",
     "output_type": "stream",
     "text": [
      "Asking to truncate to max_length but no maximum length is provided and the model has no predefined maximum length. Default to no truncation.\n"
     ]
    },
    {
     "data": {
      "application/vnd.jupyter.widget-view+json": {
       "model_id": "3cbe90c8b1e942fdbb1fcba803252c83",
       "version_major": 2,
       "version_minor": 0
      },
      "text/plain": [
       "Map:   0%|          | 0/189 [00:00<?, ? examples/s]"
      ]
     },
     "metadata": {},
     "output_type": "display_data"
    },
    {
     "data": {
      "application/vnd.jupyter.widget-view+json": {
       "model_id": "a7c08fb64dc34286948e38d48854b33a",
       "version_major": 2,
       "version_minor": 0
      },
      "text/plain": [
       "Map:   0%|          | 0/338 [00:00<?, ? examples/s]"
      ]
     },
     "metadata": {},
     "output_type": "display_data"
    },
    {
     "name": "stderr",
     "output_type": "stream",
     "text": [
      "Some weights of OPTForSequenceClassification were not initialized from the model checkpoint at facebook/opt-350m and are newly initialized: ['score.weight']\n",
      "You should probably TRAIN this model on a down-stream task to be able to use it for predictions and inference.\n",
      "You're using a GPT2TokenizerFast tokenizer. Please note that with a fast tokenizer, using the `__call__` method is faster than using a method to encode the text followed by a call to the `pad` method to get a padded encoding.\n"
     ]
    },
    {
     "name": "stdout",
     "output_type": "stream",
     "text": [
      "1 / 30: Train Loss:\t8.3479\tVal Loss:\t1.6998\tAccuracy:\t0.3462\tF1:\t0.2964\n",
      "2 / 30: Train Loss:\t3.4873\tVal Loss:\t1.3412\tAccuracy:\t0.5858\tF1:\t0.5678\n",
      "3 / 30: Train Loss:\t4.1282\tVal Loss:\t1.9376\tAccuracy:\t0.2988\tF1:\t0.2250\n",
      "4 / 30: Train Loss:\t7.8916\tVal Loss:\t2.4034\tAccuracy:\t0.0385\tF1:\t0.0082\n",
      "5 / 30: Train Loss:\t8.2515\tVal Loss:\t2.3529\tAccuracy:\t0.0414\tF1:\t0.0088\n",
      "No improvement for 3 epochs. Stopping early.\n",
      "best (higgest macro f1-score) val results:\n",
      "                         precision    recall  f1-score   support\n",
      "\n",
      "             ad hominem       0.75      0.31      0.44        67\n",
      "               anecdote       0.55      0.95      0.69        43\n",
      "         cherry picking       0.66      0.45      0.53        56\n",
      "      conspiracy theory       0.55      0.77      0.64        39\n",
      "           fake experts       0.41      0.75      0.53        12\n",
      "           false choice       0.42      0.77      0.54        13\n",
      "      false equivalence       0.44      0.50      0.47        14\n",
      "impossible expectations       0.72      0.57      0.64        37\n",
      "           single cause       0.67      0.60      0.63        57\n",
      "\n",
      "               accuracy                           0.59       338\n",
      "              macro avg       0.57      0.63      0.57       338\n",
      "           weighted avg       0.63      0.59      0.57       338\n",
      "\n",
      "test results:\n",
      "                         precision    recall  f1-score   support\n",
      "\n",
      "             ad hominem       0.88      0.19      0.31        37\n",
      "               anecdote       0.50      0.92      0.65        24\n",
      "         cherry picking       0.60      0.29      0.39        31\n",
      "      conspiracy theory       0.54      0.86      0.67        22\n",
      "           fake experts       0.38      0.71      0.50         7\n",
      "           false choice       0.33      0.57      0.42         7\n",
      "      false equivalence       0.45      0.62      0.53         8\n",
      "impossible expectations       0.75      0.57      0.65        21\n",
      "           single cause       0.46      0.50      0.48        32\n",
      "\n",
      "               accuracy                           0.52       189\n",
      "              macro avg       0.54      0.58      0.51       189\n",
      "           weighted avg       0.60      0.52      0.49       189\n",
      "\n",
      "### ### ### ### ### ### ### ### ### ### \n",
      "{'test_acc': [0.5238095238095238], 'test_f1': [0.5099744399036736], 'eval_acc': [0.5857988165680473], 'eval_f1': [0.5677606134732206], 'g': [2]}\n",
      "### ### ### ### ### ### ### ### ### ### \n",
      "Grid search facebook/opt-350m, learning rate 5e-05, focal loss gamma 4\n"
     ]
    },
    {
     "data": {
      "application/vnd.jupyter.widget-view+json": {
       "model_id": "fd5a9db968ea458fad6708995e44237c",
       "version_major": 2,
       "version_minor": 0
      },
      "text/plain": [
       "Map:   0%|          | 0/189 [00:00<?, ? examples/s]"
      ]
     },
     "metadata": {},
     "output_type": "display_data"
    },
    {
     "name": "stderr",
     "output_type": "stream",
     "text": [
      "Asking to truncate to max_length but no maximum length is provided and the model has no predefined maximum length. Default to no truncation.\n",
      "Some weights of OPTForSequenceClassification were not initialized from the model checkpoint at facebook/opt-350m and are newly initialized: ['score.weight']\n",
      "You should probably TRAIN this model on a down-stream task to be able to use it for predictions and inference.\n",
      "You're using a GPT2TokenizerFast tokenizer. Please note that with a fast tokenizer, using the `__call__` method is faster than using a method to encode the text followed by a call to the `pad` method to get a padded encoding.\n"
     ]
    },
    {
     "name": "stdout",
     "output_type": "stream",
     "text": [
      "1 / 30: Train Loss:\t7.2670\tVal Loss:\t1.7289\tAccuracy:\t0.3107\tF1:\t0.2614\n",
      "2 / 30: Train Loss:\t2.5205\tVal Loss:\t1.2222\tAccuracy:\t0.5680\tF1:\t0.5294\n",
      "3 / 30: Train Loss:\t1.8421\tVal Loss:\t2.0614\tAccuracy:\t0.1686\tF1:\t0.1608\n",
      "4 / 30: Train Loss:\t8.1863\tVal Loss:\t2.3543\tAccuracy:\t0.0385\tF1:\t0.0082\n",
      "5 / 30: Train Loss:\t6.5319\tVal Loss:\t2.3489\tAccuracy:\t0.0385\tF1:\t0.0082\n",
      "No improvement for 3 epochs. Stopping early.\n",
      "best (higgest macro f1-score) val results:\n",
      "                         precision    recall  f1-score   support\n",
      "\n",
      "             ad hominem       0.82      0.42      0.55        67\n",
      "               anecdote       0.64      0.91      0.75        43\n",
      "         cherry picking       0.53      0.55      0.54        56\n",
      "      conspiracy theory       0.68      0.67      0.68        39\n",
      "           fake experts       0.50      0.67      0.57        12\n",
      "           false choice       0.26      0.92      0.41        13\n",
      "      false equivalence       0.13      0.14      0.14        14\n",
      "impossible expectations       0.61      0.54      0.57        37\n",
      "           single cause       0.70      0.46      0.55        57\n",
      "\n",
      "               accuracy                           0.57       338\n",
      "              macro avg       0.54      0.59      0.53       338\n",
      "           weighted avg       0.63      0.57      0.57       338\n",
      "\n",
      "test results:\n",
      "                         precision    recall  f1-score   support\n",
      "\n",
      "             ad hominem       0.83      0.41      0.55        37\n",
      "               anecdote       0.56      0.79      0.66        24\n",
      "         cherry picking       0.46      0.35      0.40        31\n",
      "      conspiracy theory       0.71      0.77      0.74        22\n",
      "           fake experts       0.44      0.57      0.50         7\n",
      "           false choice       0.22      0.71      0.33         7\n",
      "      false equivalence       0.38      0.62      0.48         8\n",
      "impossible expectations       0.72      0.62      0.67        21\n",
      "           single cause       0.46      0.38      0.41        32\n",
      "\n",
      "               accuracy                           0.53       189\n",
      "              macro avg       0.53      0.58      0.53       189\n",
      "           weighted avg       0.59      0.53      0.54       189\n",
      "\n",
      "### ### ### ### ### ### ### ### ### ### \n",
      "{'test_acc': [0.5238095238095238, 0.5343915343915344], 'test_f1': [0.5099744399036736, 0.5255267748521122], 'eval_acc': [0.5857988165680473, 0.5680473372781065], 'eval_f1': [0.5677606134732206, 0.5293776775233989], 'g': [2, 4]}\n",
      "### ### ### ### ### ### ### ### ### ### \n",
      "Grid search facebook/opt-350m, learning rate 5e-05, focal loss gamma 8\n"
     ]
    },
    {
     "data": {
      "application/vnd.jupyter.widget-view+json": {
       "model_id": "a76151b27a9b425f9662547a1c3daf7e",
       "version_major": 2,
       "version_minor": 0
      },
      "text/plain": [
       "Map:   0%|          | 0/338 [00:00<?, ? examples/s]"
      ]
     },
     "metadata": {},
     "output_type": "display_data"
    },
    {
     "name": "stderr",
     "output_type": "stream",
     "text": [
      "Asking to truncate to max_length but no maximum length is provided and the model has no predefined maximum length. Default to no truncation.\n",
      "Some weights of OPTForSequenceClassification were not initialized from the model checkpoint at facebook/opt-350m and are newly initialized: ['score.weight']\n",
      "You should probably TRAIN this model on a down-stream task to be able to use it for predictions and inference.\n",
      "You're using a GPT2TokenizerFast tokenizer. Please note that with a fast tokenizer, using the `__call__` method is faster than using a method to encode the text followed by a call to the `pad` method to get a padded encoding.\n"
     ]
    },
    {
     "name": "stdout",
     "output_type": "stream",
     "text": [
      "1 / 30: Train Loss:\t6.1552\tVal Loss:\t1.7617\tAccuracy:\t0.2959\tF1:\t0.2792\n",
      "2 / 30: Train Loss:\t1.5624\tVal Loss:\t1.3052\tAccuracy:\t0.5533\tF1:\t0.5046\n",
      "3 / 30: Train Loss:\t0.8348\tVal Loss:\t1.9126\tAccuracy:\t0.2959\tF1:\t0.2709\n",
      "4 / 30: Train Loss:\t3.7567\tVal Loss:\t2.1001\tAccuracy:\t0.1479\tF1:\t0.0528\n",
      "5 / 30: Train Loss:\t4.0848\tVal Loss:\t2.1428\tAccuracy:\t0.1834\tF1:\t0.1604\n",
      "No improvement for 3 epochs. Stopping early.\n",
      "best (higgest macro f1-score) val results:\n",
      "                         precision    recall  f1-score   support\n",
      "\n",
      "             ad hominem       0.76      0.28      0.41        67\n",
      "               anecdote       0.74      0.86      0.80        43\n",
      "         cherry picking       0.65      0.50      0.57        56\n",
      "      conspiracy theory       0.60      0.67      0.63        39\n",
      "           fake experts       0.39      0.75      0.51        12\n",
      "           false choice       0.28      0.85      0.42        13\n",
      "      false equivalence       0.17      0.07      0.10        14\n",
      "impossible expectations       0.41      0.65      0.51        37\n",
      "           single cause       0.64      0.56      0.60        57\n",
      "\n",
      "               accuracy                           0.55       338\n",
      "              macro avg       0.52      0.58      0.50       338\n",
      "           weighted avg       0.61      0.55      0.54       338\n",
      "\n",
      "test results:\n",
      "                         precision    recall  f1-score   support\n",
      "\n",
      "             ad hominem       0.73      0.22      0.33        37\n",
      "               anecdote       0.66      0.79      0.72        24\n",
      "         cherry picking       0.31      0.13      0.18        31\n",
      "      conspiracy theory       0.54      0.64      0.58        22\n",
      "           fake experts       0.50      0.71      0.59         7\n",
      "           false choice       0.17      0.71      0.28         7\n",
      "      false equivalence       0.00      0.00      0.00         8\n",
      "impossible expectations       0.50      0.76      0.60        21\n",
      "           single cause       0.42      0.50      0.46        32\n",
      "\n",
      "               accuracy                           0.46       189\n",
      "              macro avg       0.42      0.50      0.42       189\n",
      "           weighted avg       0.49      0.46      0.43       189\n",
      "\n",
      "### ### ### ### ### ### ### ### ### ### \n",
      "{'test_acc': [0.5238095238095238, 0.5343915343915344, 0.4603174603174603], 'test_f1': [0.5099744399036736, 0.5255267748521122, 0.4158217216115847], 'eval_acc': [0.5857988165680473, 0.5680473372781065, 0.5532544378698225], 'eval_f1': [0.5677606134732206, 0.5293776775233989, 0.5045910403374022], 'g': [2, 4, 8]}\n",
      "### ### ### ### ### ### ### ### ### ### \n",
      "Grid search facebook/opt-350m, learning rate 5e-05, focal loss gamma 16\n"
     ]
    },
    {
     "name": "stderr",
     "output_type": "stream",
     "text": [
      "Some weights of OPTForSequenceClassification were not initialized from the model checkpoint at facebook/opt-350m and are newly initialized: ['score.weight']\n",
      "You should probably TRAIN this model on a down-stream task to be able to use it for predictions and inference.\n",
      "You're using a GPT2TokenizerFast tokenizer. Please note that with a fast tokenizer, using the `__call__` method is faster than using a method to encode the text followed by a call to the `pad` method to get a padded encoding.\n"
     ]
    },
    {
     "name": "stdout",
     "output_type": "stream",
     "text": [
      "1 / 30: Train Loss:\t4.7877\tVal Loss:\t1.8171\tAccuracy:\t0.2840\tF1:\t0.2196\n",
      "2 / 30: Train Loss:\t0.6899\tVal Loss:\t1.6188\tAccuracy:\t0.3846\tF1:\t0.3713\n",
      "3 / 30: Train Loss:\t0.2980\tVal Loss:\t1.4735\tAccuracy:\t0.3876\tF1:\t0.3438\n",
      "4 / 30: Train Loss:\t0.1570\tVal Loss:\t1.4631\tAccuracy:\t0.3964\tF1:\t0.4134\n",
      "5 / 30: Train Loss:\t0.2415\tVal Loss:\t1.3715\tAccuracy:\t0.4763\tF1:\t0.3931\n",
      "6 / 30: Train Loss:\t1.5614\tVal Loss:\t2.1073\tAccuracy:\t0.2071\tF1:\t0.1956\n",
      "7 / 30: Train Loss:\t1.9827\tVal Loss:\t2.2867\tAccuracy:\t0.0385\tF1:\t0.0082\n",
      "No improvement for 3 epochs. Stopping early.\n",
      "best (higgest macro f1-score) val results:\n",
      "                         precision    recall  f1-score   support\n",
      "\n",
      "             ad hominem       0.66      0.34      0.45        67\n",
      "               anecdote       0.87      0.63      0.73        43\n",
      "         cherry picking       0.67      0.14      0.24        56\n",
      "      conspiracy theory       0.39      0.79      0.52        39\n",
      "           fake experts       0.62      0.67      0.64        12\n",
      "           false choice       0.75      0.23      0.35        13\n",
      "      false equivalence       0.08      0.64      0.14        14\n",
      "impossible expectations       0.52      0.59      0.56        37\n",
      "           single cause       0.38      0.05      0.09        57\n",
      "\n",
      "               accuracy                           0.40       338\n",
      "              macro avg       0.55      0.46      0.41       338\n",
      "           weighted avg       0.57      0.40      0.40       338\n",
      "\n",
      "test results:\n",
      "                         precision    recall  f1-score   support\n",
      "\n",
      "             ad hominem       0.59      0.27      0.37        37\n",
      "               anecdote       0.88      0.62      0.73        24\n",
      "         cherry picking       0.57      0.13      0.21        31\n",
      "      conspiracy theory       0.44      0.77      0.56        22\n",
      "           fake experts       0.67      0.57      0.62         7\n",
      "           false choice       0.00      0.00      0.00         7\n",
      "      false equivalence       0.07      0.62      0.13         8\n",
      "impossible expectations       0.48      0.71      0.58        21\n",
      "           single cause       1.00      0.03      0.06        32\n",
      "\n",
      "               accuracy                           0.38       189\n",
      "              macro avg       0.52      0.42      0.36       189\n",
      "           weighted avg       0.62      0.38      0.37       189\n",
      "\n",
      "### ### ### ### ### ### ### ### ### ### \n",
      "{'test_acc': [0.5238095238095238, 0.5343915343915344, 0.4603174603174603, 0.37566137566137564], 'test_f1': [0.5099744399036736, 0.5255267748521122, 0.4158217216115847, 0.3618031265178254], 'eval_acc': [0.5857988165680473, 0.5680473372781065, 0.5532544378698225, 0.39644970414201186], 'eval_f1': [0.5677606134732206, 0.5293776775233989, 0.5045910403374022, 0.4134395356060332], 'g': [2, 4, 8, 16]}\n",
      "### ### ### ### ### ### ### ### ### ### \n"
     ]
    }
   ],
   "source": [
    "gamma = [2,4,8,16]\n",
    "lr = 5.0e-5\n",
    "\n",
    "for g in gamma:\n",
    "    print(f'Grid search {model_checkpoint}, learning rate {lr}, focal loss gamma {g}')\n",
    "    data = ClimateDataset(model_to_train=3,model_checkpoint=model_checkpoint,dataset_url=flicc_path,batch_size=16)\n",
    "    data.setup_dataloaders()\n",
    "    model = ClassificationModel(model_checkpoint=data.model_checkpoint,num_labels=data.num_labels)\n",
    "    trainer = Engine(epochs=30,labels=data.labels)\n",
    "    trainer.model = model.model\n",
    "    trainer.dataset_encoded = data.dataset_encoded\n",
    "    test_acc, test_f1, eval_acc, eval_f1 = trainer.run(lr=lr,\n",
    "                                                       wd=0.0,\n",
    "                                                       train_dataloader=data.train_dataloader,\n",
    "                                                       eval_dataloader=data.eval_dataloader,\n",
    "                                                       test_dataloader=data.test_dataloader,\n",
    "                                                       focalloss=True,\n",
    "                                                       accumulation_steps=2,\n",
    "                                                       gamma=g,\n",
    "                                                       early_stop=3)\n",
    "    results['test_acc'].append(test_acc)\n",
    "    results['test_f1'].append(test_f1)\n",
    "    results['eval_acc'].append(eval_acc)\n",
    "    results['eval_f1'].append(eval_f1)\n",
    "    results['g'].append(g)\n",
    "    print('### '*10)\n",
    "    print(results)\n",
    "    print('### '*10)\n",
    "    with torch.no_grad():\n",
    "        torch.cuda.empty_cache()\n",
    "    del data, model, trainer, test_acc, test_f1, eval_acc, eval_f1\n",
    "    gc.collect()"
   ]
  },
  {
   "cell_type": "code",
   "execution_count": 5,
   "metadata": {},
   "outputs": [
    {
     "data": {
      "image/png": "[encoded data removed]",
      "text/plain": [
       "<Figure size 640x480 with 1 Axes>"
      ]
     },
     "metadata": {},
     "output_type": "display_data"
    }
   ],
   "source": [
    "Engine.plot_grid_search(df=results,\n",
    "                        title=f'Focal loss, lr: {lr}, {model_checkpoint}',\n",
    "                        column='g',\n",
    "                        sci_format=False)"
   ]
  },
  {
   "cell_type": "code",
   "execution_count": 6,
   "metadata": {},
   "outputs": [],
   "source": [
    "%reset -f"
   ]
  }
 ],
 "metadata": {
  "kernelspec": {
   "display_name": "Python 3",
   "language": "python",
   "name": "python3"
  },
  "language_info": {
   "codemirror_mode": {
    "name": "ipython",
    "version": 3
   },
   "file_extension": ".py",
   "mimetype": "text/x-python",
   "name": "python",
   "nbconvert_exporter": "python",
   "pygments_lexer": "ipython3",
   "version": "3.11.5"
  },
  "orig_nbformat": 4
 },
 "nbformat": 4,
 "nbformat_minor": 2
}
