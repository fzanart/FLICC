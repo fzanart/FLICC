{
 "cells": [
  {
   "cell_type": "code",
   "execution_count": 1,
   "metadata": {},
   "outputs": [],
   "source": [
    "import os\n",
    "import sys\n",
    "import gc\n",
    "# assuming data, models, engine in flicc directory:\n",
    "flicc_path = os.path.realpath(\"__file__\").split('grid_search')[0]\n",
    "sys.path.append(flicc_path)\n",
    "import torch\n",
    "from data import ClimateDataset\n",
    "from models import ClassificationModel\n",
    "from engine import Engine"
   ]
  },
  {
   "cell_type": "code",
   "execution_count": 2,
   "metadata": {},
   "outputs": [],
   "source": [
    "model_checkpoint='facebook/opt-350m'"
   ]
  },
  {
   "cell_type": "code",
   "execution_count": 3,
   "metadata": {},
   "outputs": [],
   "source": [
    "results = {'test_acc':[],\n",
    "           'test_f1':[],\n",
    "           'eval_acc':[],\n",
    "           'eval_f1':[],\n",
    "           'rank, alpha':[]}"
   ]
  },
  {
   "cell_type": "code",
   "execution_count": 4,
   "metadata": {},
   "outputs": [
    {
     "name": "stdout",
     "output_type": "stream",
     "text": [
      "Grid search facebook/opt-350m, learning rate 5e-05 focal loss, gamma: 4 wd: 0.0, Lora alpha 8, rank 8\n"
     ]
    },
    {
     "name": "stderr",
     "output_type": "stream",
     "text": [
      "Some weights of OPTForSequenceClassification were not initialized from the model checkpoint at facebook/opt-350m and are newly initialized: ['score.weight']\n",
      "You should probably TRAIN this model on a down-stream task to be able to use it for predictions and inference.\n",
      "You're using a GPT2TokenizerFast tokenizer. Please note that with a fast tokenizer, using the `__call__` method is faster than using a method to encode the text followed by a call to the `pad` method to get a padded encoding.\n"
     ]
    },
    {
     "name": "stdout",
     "output_type": "stream",
     "text": [
      "1 / 30: Train Loss:\t9.5652\tVal Loss:\t2.5739\tAccuracy:\t0.0799\tF1:\t0.0741\n",
      "2 / 30: Train Loss:\t6.9520\tVal Loss:\t2.3961\tAccuracy:\t0.1154\tF1:\t0.1181\n",
      "3 / 30: Train Loss:\t6.2630\tVal Loss:\t2.2844\tAccuracy:\t0.1538\tF1:\t0.1559\n",
      "4 / 30: Train Loss:\t6.0927\tVal Loss:\t2.2598\tAccuracy:\t0.1598\tF1:\t0.1689\n",
      "5 / 30: Train Loss:\t5.7675\tVal Loss:\t2.1357\tAccuracy:\t0.1598\tF1:\t0.1626\n",
      "6 / 30: Train Loss:\t5.5729\tVal Loss:\t2.0403\tAccuracy:\t0.1982\tF1:\t0.1999\n",
      "7 / 30: Train Loss:\t5.3402\tVal Loss:\t1.9969\tAccuracy:\t0.2160\tF1:\t0.2162\n",
      "8 / 30: Train Loss:\t5.2898\tVal Loss:\t1.9879\tAccuracy:\t0.2189\tF1:\t0.2175\n",
      "9 / 30: Train Loss:\t4.9501\tVal Loss:\t1.9613\tAccuracy:\t0.2249\tF1:\t0.2408\n",
      "10 / 30: Train Loss:\t4.7822\tVal Loss:\t1.8795\tAccuracy:\t0.2781\tF1:\t0.2699\n",
      "11 / 30: Train Loss:\t4.9861\tVal Loss:\t2.0496\tAccuracy:\t0.1686\tF1:\t0.1819\n",
      "12 / 30: Train Loss:\t5.1704\tVal Loss:\t1.9993\tAccuracy:\t0.1923\tF1:\t0.1895\n",
      "13 / 30: Train Loss:\t6.2513\tVal Loss:\t2.2371\tAccuracy:\t0.1065\tF1:\t0.0911\n",
      "No improvement for 3 epochs. Stopping early.\n",
      "best (higgest macro f1-score) val results:\n",
      "                         precision    recall  f1-score   support\n",
      "\n",
      "             ad hominem       0.58      0.16      0.26        67\n",
      "               anecdote       0.83      0.56      0.67        43\n",
      "         cherry picking       0.41      0.21      0.28        56\n",
      "      conspiracy theory       0.45      0.49      0.47        39\n",
      "           fake experts       0.10      0.42      0.16        12\n",
      "           false choice       0.10      0.92      0.18        13\n",
      "      false equivalence       0.08      0.14      0.10        14\n",
      "impossible expectations       0.36      0.11      0.17        37\n",
      "           single cause       0.56      0.09      0.15        57\n",
      "\n",
      "               accuracy                           0.28       338\n",
      "              macro avg       0.39      0.34      0.27       338\n",
      "           weighted avg       0.48      0.28      0.30       338\n",
      "\n",
      "test results:\n",
      "                         precision    recall  f1-score   support\n",
      "\n",
      "             ad hominem       0.50      0.22      0.30        37\n",
      "               anecdote       0.74      0.58      0.65        24\n",
      "         cherry picking       0.31      0.13      0.18        31\n",
      "      conspiracy theory       0.50      0.45      0.48        22\n",
      "           fake experts       0.17      0.57      0.26         7\n",
      "           false choice       0.06      0.57      0.10         7\n",
      "      false equivalence       0.07      0.12      0.09         8\n",
      "impossible expectations       0.67      0.19      0.30        21\n",
      "           single cause       0.20      0.03      0.05        32\n",
      "\n",
      "               accuracy                           0.26       189\n",
      "              macro avg       0.36      0.32      0.27       189\n",
      "           weighted avg       0.42      0.26      0.29       189\n",
      "\n",
      "### ### ### ### ### ### ### ### ### ### \n",
      "{'test_acc': [0.26455026455026454], 'test_f1': [0.26796089125916067], 'eval_acc': [0.2781065088757396], 'eval_f1': [0.26986034025826044], 'rank, alpha': [8]}\n",
      "### ### ### ### ### ### ### ### ### ### \n",
      "Grid search facebook/opt-350m, learning rate 5e-05 focal loss, gamma: 4 wd: 0.0, Lora alpha 16, rank 16\n"
     ]
    },
    {
     "name": "stderr",
     "output_type": "stream",
     "text": [
      "Some weights of OPTForSequenceClassification were not initialized from the model checkpoint at facebook/opt-350m and are newly initialized: ['score.weight']\n",
      "You should probably TRAIN this model on a down-stream task to be able to use it for predictions and inference.\n",
      "You're using a GPT2TokenizerFast tokenizer. Please note that with a fast tokenizer, using the `__call__` method is faster than using a method to encode the text followed by a call to the `pad` method to get a padded encoding.\n"
     ]
    },
    {
     "name": "stdout",
     "output_type": "stream",
     "text": [
      "1 / 30: Train Loss:\t9.0370\tVal Loss:\t2.5585\tAccuracy:\t0.0680\tF1:\t0.0638\n",
      "2 / 30: Train Loss:\t6.7533\tVal Loss:\t2.4099\tAccuracy:\t0.0888\tF1:\t0.0911\n",
      "3 / 30: Train Loss:\t6.0739\tVal Loss:\t2.3000\tAccuracy:\t0.1331\tF1:\t0.1403\n",
      "4 / 30: Train Loss:\t5.8463\tVal Loss:\t2.2480\tAccuracy:\t0.1391\tF1:\t0.1541\n",
      "5 / 30: Train Loss:\t5.4936\tVal Loss:\t2.0828\tAccuracy:\t0.1805\tF1:\t0.2004\n",
      "6 / 30: Train Loss:\t5.2242\tVal Loss:\t1.9422\tAccuracy:\t0.2633\tF1:\t0.2529\n",
      "7 / 30: Train Loss:\t4.9517\tVal Loss:\t1.9307\tAccuracy:\t0.2189\tF1:\t0.2134\n",
      "8 / 30: Train Loss:\t5.4330\tVal Loss:\t2.0134\tAccuracy:\t0.1864\tF1:\t0.1946\n",
      "9 / 30: Train Loss:\t5.5399\tVal Loss:\t2.0362\tAccuracy:\t0.1538\tF1:\t0.1499\n",
      "No improvement for 3 epochs. Stopping early.\n",
      "best (higgest macro f1-score) val results:\n",
      "                         precision    recall  f1-score   support\n",
      "\n",
      "             ad hominem       0.67      0.12      0.20        67\n",
      "               anecdote       0.70      0.49      0.58        43\n",
      "         cherry picking       0.44      0.21      0.29        56\n",
      "      conspiracy theory       0.34      0.51      0.41        39\n",
      "           fake experts       0.11      0.42      0.18        12\n",
      "           false choice       0.10      0.69      0.18        13\n",
      "      false equivalence       0.05      0.14      0.08        14\n",
      "impossible expectations       0.32      0.16      0.21        37\n",
      "           single cause       0.30      0.11      0.16        57\n",
      "\n",
      "               accuracy                           0.26       338\n",
      "              macro avg       0.34      0.32      0.25       338\n",
      "           weighted avg       0.43      0.26      0.27       338\n",
      "\n",
      "test results:\n",
      "                         precision    recall  f1-score   support\n",
      "\n",
      "             ad hominem       0.44      0.11      0.17        37\n",
      "               anecdote       0.59      0.42      0.49        24\n",
      "         cherry picking       0.38      0.16      0.23        31\n",
      "      conspiracy theory       0.28      0.45      0.34        22\n",
      "           fake experts       0.16      0.71      0.26         7\n",
      "           false choice       0.03      0.14      0.04         7\n",
      "      false equivalence       0.10      0.25      0.14         8\n",
      "impossible expectations       0.56      0.24      0.33        21\n",
      "           single cause       0.25      0.09      0.14        32\n",
      "\n",
      "               accuracy                           0.24       189\n",
      "              macro avg       0.31      0.29      0.24       189\n",
      "           weighted avg       0.37      0.24      0.25       189\n",
      "\n",
      "### ### ### ### ### ### ### ### ### ### \n",
      "{'test_acc': [0.26455026455026454, 0.23809523809523808], 'test_f1': [0.26796089125916067, 0.23782329856511242], 'eval_acc': [0.2781065088757396, 0.26331360946745563], 'eval_f1': [0.26986034025826044, 0.2529149075410552], 'rank, alpha': [8, 16]}\n",
      "### ### ### ### ### ### ### ### ### ### \n"
     ]
    }
   ],
   "source": [
    "g = 4\n",
    "lr = 5.0e-5\n",
    "wd = 0.0\n",
    "alphas = [8, 16]\n",
    "ranks = [8, 16]\n",
    "lora_dropout = 0.0\n",
    "\n",
    "\n",
    "for a,r in zip(alphas, ranks):\n",
    "    print(f'Grid search {model_checkpoint}, learning rate {lr} focal loss, gamma: {g} wd: {wd}, Lora alpha {a}, rank {r}')\n",
    "    data = ClimateDataset(model_to_train=3,model_checkpoint=model_checkpoint,dataset_url=flicc_path,batch_size=16)\n",
    "    data.setup_dataloaders()\n",
    "    model = ClassificationModel(model_checkpoint=data.model_checkpoint,\n",
    "                            num_labels=data.num_labels,\n",
    "                            lora=True,\n",
    "                            r=r,\n",
    "                            alpha=a,\n",
    "                            dropout=lora_dropout)\n",
    "    trainer = Engine(epochs=30,labels=data.labels)\n",
    "    trainer.model = model.model\n",
    "    trainer.dataset_encoded = data.dataset_encoded\n",
    "    test_acc, test_f1, eval_acc, eval_f1 = trainer.run(lr=lr,\n",
    "                          wd=wd,\n",
    "                          train_dataloader=data.train_dataloader,\n",
    "                          eval_dataloader=data.eval_dataloader,\n",
    "                          test_dataloader=data.test_dataloader,\n",
    "                          accumulation_steps=2,\n",
    "                          focalloss=True,\n",
    "                          gamma=g,\n",
    "                          early_stop=3)\n",
    "    results['test_acc'].append(test_acc)\n",
    "    results['test_f1'].append(test_f1)\n",
    "    results['eval_acc'].append(eval_acc)\n",
    "    results['eval_f1'].append(eval_f1)\n",
    "    results['rank, alpha'].append(r)\n",
    "    print('### '*10)\n",
    "    print(results)\n",
    "    print('### '*10)\n",
    "    with torch.no_grad():\n",
    "        torch.cuda.empty_cache()\n",
    "    del data, model, trainer, test_acc, test_f1, eval_acc, eval_f1\n",
    "    gc.collect()"
   ]
  },
  {
   "cell_type": "code",
   "execution_count": 5,
   "metadata": {},
   "outputs": [
    {
     "data": {
      "image/png": "[encoded data removed]",
      "text/plain": [
       "<Figure size 640x480 with 1 Axes>"
      ]
     },
     "metadata": {},
     "output_type": "display_data"
    }
   ],
   "source": [
    "Engine.plot_grid_search(df=results,\n",
    "                        title=f'LORA, lr: {lr}, focal loss gamma {g} {model_checkpoint}',\n",
    "                        column='rank, alpha',\n",
    "                        sci_format=False)"
   ]
  },
  {
   "cell_type": "code",
   "execution_count": 6,
   "metadata": {},
   "outputs": [],
   "source": [
    "%reset -f"
   ]
  }
 ],
 "metadata": {
  "kernelspec": {
   "display_name": "Python 3",
   "language": "python",
   "name": "python3"
  },
  "language_info": {
   "codemirror_mode": {
    "name": "ipython",
    "version": 3
   },
   "file_extension": ".py",
   "mimetype": "text/x-python",
   "name": "python",
   "nbconvert_exporter": "python",
   "pygments_lexer": "ipython3",
   "version": "3.11.5"
  },
  "orig_nbformat": 4
 },
 "nbformat": 4,
 "nbformat_minor": 2
}
