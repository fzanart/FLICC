{
 "cells": [
  {
   "cell_type": "code",
   "execution_count": 1,
   "metadata": {},
   "outputs": [],
   "source": [
    "import os\n",
    "import sys\n",
    "import gc\n",
    "# assuming data, models, engine in flicc directory:\n",
    "flicc_path = os.path.realpath(\"__file__\").split('grid_search')[0]\n",
    "sys.path.append(flicc_path)\n",
    "import torch\n",
    "from data import ClimateDataset\n",
    "from models import ClassificationModel\n",
    "from engine import Engine"
   ]
  },
  {
   "cell_type": "code",
   "execution_count": 2,
   "metadata": {},
   "outputs": [],
   "source": [
    "model_checkpoint='roberta-large'"
   ]
  },
  {
   "cell_type": "code",
   "execution_count": 3,
   "metadata": {},
   "outputs": [],
   "source": [
    "results = {'test_acc':[],\n",
    "           'test_f1':[],\n",
    "           'eval_acc':[],\n",
    "           'eval_f1':[],\n",
    "           'rank, alpha':[]}"
   ]
  },
  {
   "cell_type": "code",
   "execution_count": 4,
   "metadata": {},
   "outputs": [
    {
     "name": "stdout",
     "output_type": "stream",
     "text": [
      "Grid search roberta-large, learning rate 1e-05 wd: 0.0, Lora alpha 8, rank 8\n"
     ]
    },
    {
     "name": "stderr",
     "output_type": "stream",
     "text": [
      "Some weights of RobertaForSequenceClassification were not initialized from the model checkpoint at roberta-large and are newly initialized: ['classifier.dense.weight', 'classifier.dense.bias', 'classifier.out_proj.bias', 'classifier.out_proj.weight']\n",
      "You should probably TRAIN this model on a down-stream task to be able to use it for predictions and inference.\n",
      "You're using a RobertaTokenizerFast tokenizer. Please note that with a fast tokenizer, using the `__call__` method is faster than using a method to encode the text followed by a call to the `pad` method to get a padded encoding.\n"
     ]
    },
    {
     "name": "stdout",
     "output_type": "stream",
     "text": [
      "1 / 30: Train Loss:\t1.0939\tVal Loss:\t2.1234\tAccuracy:\t0.1686\tF1:\t0.0321\n",
      "2 / 30: Train Loss:\t1.0513\tVal Loss:\t2.0781\tAccuracy:\t0.1716\tF1:\t0.0559\n",
      "3 / 30: Train Loss:\t1.0335\tVal Loss:\t2.0582\tAccuracy:\t0.1716\tF1:\t0.0559\n",
      "4 / 30: Train Loss:\t1.0241\tVal Loss:\t2.0453\tAccuracy:\t0.1893\tF1:\t0.0617\n",
      "5 / 30: Train Loss:\t1.0141\tVal Loss:\t2.0320\tAccuracy:\t0.2308\tF1:\t0.0749\n",
      "6 / 30: Train Loss:\t1.0087\tVal Loss:\t2.0161\tAccuracy:\t0.2811\tF1:\t0.1164\n",
      "7 / 30: Train Loss:\t0.9980\tVal Loss:\t1.9905\tAccuracy:\t0.3225\tF1:\t0.1700\n",
      "8 / 30: Train Loss:\t0.9873\tVal Loss:\t1.9440\tAccuracy:\t0.3521\tF1:\t0.2029\n",
      "9 / 30: Train Loss:\t0.9553\tVal Loss:\t1.8440\tAccuracy:\t0.4231\tF1:\t0.2648\n",
      "10 / 30: Train Loss:\t0.9034\tVal Loss:\t1.6985\tAccuracy:\t0.4675\tF1:\t0.3016\n",
      "11 / 30: Train Loss:\t0.8359\tVal Loss:\t1.5658\tAccuracy:\t0.4793\tF1:\t0.3229\n",
      "12 / 30: Train Loss:\t0.7794\tVal Loss:\t1.4550\tAccuracy:\t0.4970\tF1:\t0.3447\n",
      "13 / 30: Train Loss:\t0.7107\tVal Loss:\t1.3694\tAccuracy:\t0.5089\tF1:\t0.3512\n",
      "14 / 30: Train Loss:\t0.6733\tVal Loss:\t1.3070\tAccuracy:\t0.5325\tF1:\t0.3752\n",
      "15 / 30: Train Loss:\t0.6369\tVal Loss:\t1.2545\tAccuracy:\t0.5740\tF1:\t0.4093\n",
      "16 / 30: Train Loss:\t0.6059\tVal Loss:\t1.2112\tAccuracy:\t0.5888\tF1:\t0.4191\n",
      "17 / 30: Train Loss:\t0.5780\tVal Loss:\t1.1679\tAccuracy:\t0.6006\tF1:\t0.4260\n",
      "18 / 30: Train Loss:\t0.5577\tVal Loss:\t1.1326\tAccuracy:\t0.6302\tF1:\t0.4463\n",
      "19 / 30: Train Loss:\t0.5383\tVal Loss:\t1.0941\tAccuracy:\t0.6450\tF1:\t0.4831\n",
      "20 / 30: Train Loss:\t0.5288\tVal Loss:\t1.0648\tAccuracy:\t0.6568\tF1:\t0.5065\n",
      "21 / 30: Train Loss:\t0.5042\tVal Loss:\t1.0353\tAccuracy:\t0.6598\tF1:\t0.5079\n",
      "22 / 30: Train Loss:\t0.4971\tVal Loss:\t1.0000\tAccuracy:\t0.6686\tF1:\t0.5264\n",
      "23 / 30: Train Loss:\t0.4711\tVal Loss:\t0.9714\tAccuracy:\t0.6746\tF1:\t0.5317\n",
      "24 / 30: Train Loss:\t0.4561\tVal Loss:\t0.9408\tAccuracy:\t0.6864\tF1:\t0.5511\n",
      "25 / 30: Train Loss:\t0.4417\tVal Loss:\t0.9140\tAccuracy:\t0.6893\tF1:\t0.5758\n",
      "26 / 30: Train Loss:\t0.4316\tVal Loss:\t0.8908\tAccuracy:\t0.6953\tF1:\t0.5806\n",
      "27 / 30: Train Loss:\t0.4153\tVal Loss:\t0.8663\tAccuracy:\t0.6982\tF1:\t0.6097\n",
      "28 / 30: Train Loss:\t0.4043\tVal Loss:\t0.8488\tAccuracy:\t0.6982\tF1:\t0.6094\n",
      "29 / 30: Train Loss:\t0.4009\tVal Loss:\t0.8319\tAccuracy:\t0.7012\tF1:\t0.6124\n",
      "30 / 30: Train Loss:\t0.3854\tVal Loss:\t0.8232\tAccuracy:\t0.7071\tF1:\t0.6234\n",
      "best (higgest macro f1-score) val results:\n",
      "                         precision    recall  f1-score   support\n",
      "\n",
      "             ad hominem       0.65      0.88      0.75        67\n",
      "               anecdote       0.88      0.88      0.88        43\n",
      "         cherry picking       0.64      0.79      0.70        56\n",
      "      conspiracy theory       0.80      0.72      0.76        39\n",
      "           fake experts       1.00      0.42      0.59        12\n",
      "           false choice       1.00      0.38      0.56        13\n",
      "      false equivalence       1.00      0.07      0.13        14\n",
      "impossible expectations       0.68      0.46      0.55        37\n",
      "           single cause       0.66      0.74      0.69        57\n",
      "\n",
      "               accuracy                           0.71       338\n",
      "              macro avg       0.81      0.59      0.62       338\n",
      "           weighted avg       0.74      0.71      0.69       338\n",
      "\n",
      "test results:\n",
      "                         precision    recall  f1-score   support\n",
      "\n",
      "             ad hominem       0.71      0.86      0.78        37\n",
      "               anecdote       0.87      0.83      0.85        24\n",
      "         cherry picking       0.55      0.58      0.56        31\n",
      "      conspiracy theory       0.89      0.73      0.80        22\n",
      "           fake experts       1.00      0.14      0.25         7\n",
      "           false choice       0.00      0.00      0.00         7\n",
      "      false equivalence       0.00      0.00      0.00         8\n",
      "impossible expectations       0.68      0.81      0.74        21\n",
      "           single cause       0.61      0.78      0.68        32\n",
      "\n",
      "               accuracy                           0.68       189\n",
      "              macro avg       0.59      0.53      0.52       189\n",
      "           weighted avg       0.66      0.68      0.65       189\n",
      "\n",
      "### ### ### ### ### ### ### ### ### ### \n",
      "{'test_acc': [0.6825396825396826], 'test_f1': [0.5186792862552452], 'eval_acc': [0.7071005917159763], 'eval_f1': [0.6234488095378974], 'rank, alpha': [8]}\n",
      "### ### ### ### ### ### ### ### ### ### \n",
      "Grid search roberta-large, learning rate 1e-05 wd: 0.0, Lora alpha 16, rank 16\n"
     ]
    },
    {
     "name": "stderr",
     "output_type": "stream",
     "text": [
      "Some weights of RobertaForSequenceClassification were not initialized from the model checkpoint at roberta-large and are newly initialized: ['classifier.dense.weight', 'classifier.dense.bias', 'classifier.out_proj.bias', 'classifier.out_proj.weight']\n",
      "You should probably TRAIN this model on a down-stream task to be able to use it for predictions and inference.\n",
      "You're using a RobertaTokenizerFast tokenizer. Please note that with a fast tokenizer, using the `__call__` method is faster than using a method to encode the text followed by a call to the `pad` method to get a padded encoding.\n"
     ]
    },
    {
     "name": "stdout",
     "output_type": "stream",
     "text": [
      "1 / 30: Train Loss:\t1.0928\tVal Loss:\t2.1193\tAccuracy:\t0.1686\tF1:\t0.0321\n",
      "2 / 30: Train Loss:\t1.0496\tVal Loss:\t2.0756\tAccuracy:\t0.1657\tF1:\t0.0541\n",
      "3 / 30: Train Loss:\t1.0321\tVal Loss:\t2.0557\tAccuracy:\t0.1775\tF1:\t0.0577\n",
      "4 / 30: Train Loss:\t1.0219\tVal Loss:\t2.0407\tAccuracy:\t0.2071\tF1:\t0.0674\n",
      "5 / 30: Train Loss:\t1.0096\tVal Loss:\t2.0206\tAccuracy:\t0.2633\tF1:\t0.0969\n",
      "6 / 30: Train Loss:\t0.9994\tVal Loss:\t1.9836\tAccuracy:\t0.3314\tF1:\t0.1696\n",
      "7 / 30: Train Loss:\t0.9721\tVal Loss:\t1.8887\tAccuracy:\t0.4053\tF1:\t0.2540\n",
      "8 / 30: Train Loss:\t0.9245\tVal Loss:\t1.7214\tAccuracy:\t0.4379\tF1:\t0.2728\n",
      "9 / 30: Train Loss:\t0.8323\tVal Loss:\t1.5313\tAccuracy:\t0.4793\tF1:\t0.3234\n",
      "10 / 30: Train Loss:\t0.7405\tVal Loss:\t1.4054\tAccuracy:\t0.5148\tF1:\t0.3554\n",
      "11 / 30: Train Loss:\t0.6706\tVal Loss:\t1.3126\tAccuracy:\t0.5621\tF1:\t0.3914\n",
      "12 / 30: Train Loss:\t0.6303\tVal Loss:\t1.2342\tAccuracy:\t0.5947\tF1:\t0.4203\n",
      "13 / 30: Train Loss:\t0.5771\tVal Loss:\t1.1541\tAccuracy:\t0.6213\tF1:\t0.4389\n",
      "14 / 30: Train Loss:\t0.5491\tVal Loss:\t1.0901\tAccuracy:\t0.6420\tF1:\t0.4559\n",
      "15 / 30: Train Loss:\t0.5220\tVal Loss:\t1.0399\tAccuracy:\t0.6627\tF1:\t0.4830\n",
      "16 / 30: Train Loss:\t0.4928\tVal Loss:\t0.9935\tAccuracy:\t0.6746\tF1:\t0.5330\n",
      "17 / 30: Train Loss:\t0.4676\tVal Loss:\t0.9616\tAccuracy:\t0.6686\tF1:\t0.5292\n",
      "18 / 30: Train Loss:\t0.4487\tVal Loss:\t0.9282\tAccuracy:\t0.6716\tF1:\t0.5527\n",
      "19 / 30: Train Loss:\t0.4405\tVal Loss:\t0.9061\tAccuracy:\t0.6834\tF1:\t0.5593\n",
      "20 / 30: Train Loss:\t0.4232\tVal Loss:\t0.8822\tAccuracy:\t0.6834\tF1:\t0.5583\n",
      "21 / 30: Train Loss:\t0.4020\tVal Loss:\t0.8664\tAccuracy:\t0.6893\tF1:\t0.5743\n",
      "22 / 30: Train Loss:\t0.4004\tVal Loss:\t0.8470\tAccuracy:\t0.7071\tF1:\t0.6181\n",
      "23 / 30: Train Loss:\t0.3775\tVal Loss:\t0.8327\tAccuracy:\t0.7130\tF1:\t0.6309\n",
      "24 / 30: Train Loss:\t0.3738\tVal Loss:\t0.8224\tAccuracy:\t0.7101\tF1:\t0.6299\n",
      "25 / 30: Train Loss:\t0.3604\tVal Loss:\t0.8093\tAccuracy:\t0.7308\tF1:\t0.6659\n",
      "26 / 30: Train Loss:\t0.3540\tVal Loss:\t0.7987\tAccuracy:\t0.7278\tF1:\t0.6680\n",
      "27 / 30: Train Loss:\t0.3346\tVal Loss:\t0.7910\tAccuracy:\t0.7396\tF1:\t0.6756\n",
      "28 / 30: Train Loss:\t0.3296\tVal Loss:\t0.7792\tAccuracy:\t0.7396\tF1:\t0.6798\n",
      "29 / 30: Train Loss:\t0.3282\tVal Loss:\t0.7713\tAccuracy:\t0.7485\tF1:\t0.6854\n",
      "30 / 30: Train Loss:\t0.3161\tVal Loss:\t0.7662\tAccuracy:\t0.7485\tF1:\t0.6859\n",
      "best (higgest macro f1-score) val results:\n",
      "                         precision    recall  f1-score   support\n",
      "\n",
      "             ad hominem       0.72      0.84      0.77        67\n",
      "               anecdote       0.95      0.88      0.92        43\n",
      "         cherry picking       0.67      0.80      0.73        56\n",
      "      conspiracy theory       0.84      0.79      0.82        39\n",
      "           fake experts       0.88      0.58      0.70        12\n",
      "           false choice       0.89      0.62      0.73        13\n",
      "      false equivalence       1.00      0.07      0.13        14\n",
      "impossible expectations       0.73      0.59      0.66        37\n",
      "           single cause       0.66      0.79      0.72        57\n",
      "\n",
      "               accuracy                           0.75       338\n",
      "              macro avg       0.82      0.66      0.69       338\n",
      "           weighted avg       0.77      0.75      0.74       338\n",
      "\n",
      "test results:\n",
      "                         precision    recall  f1-score   support\n",
      "\n",
      "             ad hominem       0.75      0.81      0.78        37\n",
      "               anecdote       0.88      0.88      0.88        24\n",
      "         cherry picking       0.62      0.65      0.63        31\n",
      "      conspiracy theory       0.77      0.77      0.77        22\n",
      "           fake experts       1.00      0.29      0.44         7\n",
      "           false choice       0.33      0.29      0.31         7\n",
      "      false equivalence       0.00      0.00      0.00         8\n",
      "impossible expectations       0.78      0.86      0.82        21\n",
      "           single cause       0.64      0.78      0.70        32\n",
      "\n",
      "               accuracy                           0.71       189\n",
      "              macro avg       0.64      0.59      0.59       189\n",
      "           weighted avg       0.70      0.71      0.70       189\n",
      "\n",
      "### ### ### ### ### ### ### ### ### ### \n",
      "{'test_acc': [0.6825396825396826, 0.7142857142857143], 'test_f1': [0.5186792862552452, 0.5929347343666592], 'eval_acc': [0.7071005917159763, 0.7485207100591716], 'eval_f1': [0.6234488095378974, 0.6858773014421942], 'rank, alpha': [8, 16]}\n",
      "### ### ### ### ### ### ### ### ### ### \n"
     ]
    }
   ],
   "source": [
    "lr = 1.0e-5\n",
    "wd = 0.0\n",
    "alphas = [8, 16]\n",
    "ranks = [8, 16]\n",
    "lora_dropout = 0.0\n",
    "\n",
    "\n",
    "for a,r in zip(alphas, ranks):\n",
    "    print(f'Grid search {model_checkpoint}, learning rate {lr} wd: {wd}, Lora alpha {a}, rank {r}')\n",
    "    data = ClimateDataset(model_to_train=3,model_checkpoint=model_checkpoint,dataset_url=flicc_path,batch_size=16)\n",
    "    data.setup_dataloaders()\n",
    "    model = ClassificationModel(model_checkpoint=data.model_checkpoint,\n",
    "                            num_labels=data.num_labels,\n",
    "                            lora=True,\n",
    "                            r=r,\n",
    "                            alpha=a,\n",
    "                            dropout=lora_dropout)\n",
    "    trainer = Engine(epochs=30,labels=data.labels)\n",
    "    trainer.model = model.model\n",
    "    trainer.dataset_encoded = data.dataset_encoded\n",
    "    test_acc, test_f1, eval_acc, eval_f1 = trainer.run(lr=lr,\n",
    "                          wd=wd,\n",
    "                          train_dataloader=data.train_dataloader,\n",
    "                          eval_dataloader=data.eval_dataloader,\n",
    "                          test_dataloader=data.test_dataloader,\n",
    "                          accumulation_steps=2,\n",
    "                          early_stop=3)\n",
    "    results['test_acc'].append(test_acc)\n",
    "    results['test_f1'].append(test_f1)\n",
    "    results['eval_acc'].append(eval_acc)\n",
    "    results['eval_f1'].append(eval_f1)\n",
    "    results['rank, alpha'].append(r)\n",
    "    print('### '*10)\n",
    "    print(results)\n",
    "    print('### '*10)\n",
    "    with torch.no_grad():\n",
    "        torch.cuda.empty_cache()\n",
    "    del data, model, trainer, test_acc, test_f1, eval_acc, eval_f1\n",
    "    gc.collect()"
   ]
  },
  {
   "cell_type": "code",
   "execution_count": 5,
   "metadata": {},
   "outputs": [
    {
     "data": {
      "image/png": "[encoded data removed]",
      "text/plain": [
       "<Figure size 640x480 with 1 Axes>"
      ]
     },
     "metadata": {},
     "output_type": "display_data"
    }
   ],
   "source": [
    "Engine.plot_grid_search(df=results,\n",
    "                        title=f'LORA, lr: {lr}, {model_checkpoint}',\n",
    "                        column='rank, alpha',\n",
    "                        sci_format=False)"
   ]
  },
  {
   "cell_type": "code",
   "execution_count": 6,
   "metadata": {},
   "outputs": [],
   "source": [
    "%reset -f"
   ]
  }
 ],
 "metadata": {
  "kernelspec": {
   "display_name": "Python 3",
   "language": "python",
   "name": "python3"
  },
  "language_info": {
   "codemirror_mode": {
    "name": "ipython",
    "version": 3
   },
   "file_extension": ".py",
   "mimetype": "text/x-python",
   "name": "python",
   "nbconvert_exporter": "python",
   "pygments_lexer": "ipython3",
   "version": "3.11.5"
  },
  "orig_nbformat": 4
 },
 "nbformat": 4,
 "nbformat_minor": 2
}
