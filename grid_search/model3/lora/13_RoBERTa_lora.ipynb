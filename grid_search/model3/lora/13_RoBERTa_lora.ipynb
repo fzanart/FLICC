{
 "cells": [
  {
   "cell_type": "code",
   "execution_count": 1,
   "metadata": {},
   "outputs": [],
   "source": [
    "import os\n",
    "import sys\n",
    "import gc\n",
    "# assuming data, models, engine in flicc directory:\n",
    "flicc_path = os.path.realpath(\"__file__\").split('grid_search')[0]\n",
    "sys.path.append(flicc_path)\n",
    "import torch\n",
    "from data import ClimateDataset\n",
    "from models import ClassificationModel\n",
    "from engine import Engine"
   ]
  },
  {
   "cell_type": "code",
   "execution_count": 2,
   "metadata": {},
   "outputs": [],
   "source": [
    "model_checkpoint='bert-base-uncased'"
   ]
  },
  {
   "cell_type": "code",
   "execution_count": 3,
   "metadata": {},
   "outputs": [],
   "source": [
    "results = {'test_acc':[],\n",
    "           'test_f1':[],\n",
    "           'eval_acc':[],\n",
    "           'eval_f1':[],\n",
    "           'rank, alpha':[]}"
   ]
  },
  {
   "cell_type": "code",
   "execution_count": 4,
   "metadata": {},
   "outputs": [
    {
     "name": "stdout",
     "output_type": "stream",
     "text": [
      "Grid search bert-base-uncased, learning rate 5e-05, focal loss gamma 8, weight decay 0.1\n"
     ]
    },
    {
     "name": "stderr",
     "output_type": "stream",
     "text": [
      "Some weights of BertForSequenceClassification were not initialized from the model checkpoint at bert-base-uncased and are newly initialized: ['classifier.bias', 'classifier.weight']\n",
      "You should probably TRAIN this model on a down-stream task to be able to use it for predictions and inference.\n",
      "You're using a BertTokenizerFast tokenizer. Please note that with a fast tokenizer, using the `__call__` method is faster than using a method to encode the text followed by a call to the `pad` method to get a padded encoding.\n"
     ]
    },
    {
     "name": "stdout",
     "output_type": "stream",
     "text": [
      "1 / 30: Train Loss:\t6.4179\tVal Loss:\t1.7541\tAccuracy:\t0.3964\tF1:\t0.3614\n",
      "2 / 30: Train Loss:\t2.6922\tVal Loss:\t1.5240\tAccuracy:\t0.4675\tF1:\t0.4635\n",
      "3 / 30: Train Loss:\t0.9858\tVal Loss:\t1.2259\tAccuracy:\t0.6627\tF1:\t0.6421\n",
      "4 / 30: Train Loss:\t0.3096\tVal Loss:\t1.1839\tAccuracy:\t0.6420\tF1:\t0.6270\n",
      "5 / 30: Train Loss:\t0.1593\tVal Loss:\t1.1167\tAccuracy:\t0.6598\tF1:\t0.6277\n",
      "6 / 30: Train Loss:\t0.0625\tVal Loss:\t1.0563\tAccuracy:\t0.6923\tF1:\t0.6566\n",
      "7 / 30: Train Loss:\t0.0414\tVal Loss:\t1.0289\tAccuracy:\t0.7130\tF1:\t0.6713\n",
      "8 / 30: Train Loss:\t0.0251\tVal Loss:\t1.0245\tAccuracy:\t0.6953\tF1:\t0.6500\n",
      "9 / 30: Train Loss:\t0.0265\tVal Loss:\t1.0390\tAccuracy:\t0.6834\tF1:\t0.6399\n",
      "10 / 30: Train Loss:\t0.0135\tVal Loss:\t0.9825\tAccuracy:\t0.7130\tF1:\t0.6702\n",
      "No improvement for 3 epochs. Stopping early.\n",
      "best (higgest macro f1-score) val results:\n",
      "                         precision    recall  f1-score   support\n",
      "\n",
      "             ad hominem       0.67      0.66      0.66        67\n",
      "               anecdote       0.95      0.81      0.88        43\n",
      "         cherry picking       0.72      0.75      0.74        56\n",
      "      conspiracy theory       0.63      0.82      0.71        39\n",
      "           fake experts       0.70      0.58      0.64        12\n",
      "           false choice       0.80      0.62      0.70        13\n",
      "      false equivalence       0.38      0.21      0.27        14\n",
      "impossible expectations       0.76      0.68      0.71        37\n",
      "           single cause       0.69      0.79      0.74        57\n",
      "\n",
      "               accuracy                           0.71       338\n",
      "              macro avg       0.70      0.66      0.67       338\n",
      "           weighted avg       0.72      0.71      0.71       338\n",
      "\n",
      "test results:\n",
      "                         precision    recall  f1-score   support\n",
      "\n",
      "             ad hominem       0.86      0.65      0.74        37\n",
      "               anecdote       0.80      0.83      0.82        24\n",
      "         cherry picking       0.69      0.65      0.67        31\n",
      "      conspiracy theory       0.79      0.86      0.83        22\n",
      "           fake experts       0.67      0.86      0.75         7\n",
      "           false choice       0.57      0.57      0.57         7\n",
      "      false equivalence       0.20      0.12      0.15         8\n",
      "impossible expectations       0.63      0.81      0.71        21\n",
      "           single cause       0.66      0.72      0.69        32\n",
      "\n",
      "               accuracy                           0.71       189\n",
      "              macro avg       0.65      0.67      0.66       189\n",
      "           weighted avg       0.71      0.71      0.70       189\n",
      "\n",
      "### ### ### ### ### ### ### ### ### ### \n",
      "{'test_acc': [0.708994708994709], 'test_f1': [0.6575241016721503], 'eval_acc': [0.7130177514792899], 'eval_f1': [0.671260118559452], 'wd': [0.1]}\n",
      "### ### ### ### ### ### ### ### ### ### \n",
      "Grid search bert-base-uncased, learning rate 5e-05, focal loss gamma 8, weight decay 0.01\n"
     ]
    },
    {
     "name": "stderr",
     "output_type": "stream",
     "text": [
      "Some weights of BertForSequenceClassification were not initialized from the model checkpoint at bert-base-uncased and are newly initialized: ['classifier.bias', 'classifier.weight']\n",
      "You should probably TRAIN this model on a down-stream task to be able to use it for predictions and inference.\n",
      "You're using a BertTokenizerFast tokenizer. Please note that with a fast tokenizer, using the `__call__` method is faster than using a method to encode the text followed by a call to the `pad` method to get a padded encoding.\n"
     ]
    },
    {
     "name": "stdout",
     "output_type": "stream",
     "text": [
      "1 / 30: Train Loss:\t6.3114\tVal Loss:\t1.8118\tAccuracy:\t0.4408\tF1:\t0.4079\n",
      "2 / 30: Train Loss:\t2.6132\tVal Loss:\t1.4468\tAccuracy:\t0.5059\tF1:\t0.4805\n",
      "3 / 30: Train Loss:\t0.8527\tVal Loss:\t1.2230\tAccuracy:\t0.6361\tF1:\t0.6355\n",
      "4 / 30: Train Loss:\t0.2733\tVal Loss:\t1.2486\tAccuracy:\t0.5651\tF1:\t0.5877\n",
      "5 / 30: Train Loss:\t0.1495\tVal Loss:\t1.0593\tAccuracy:\t0.7130\tF1:\t0.6768\n",
      "6 / 30: Train Loss:\t0.0650\tVal Loss:\t1.0263\tAccuracy:\t0.7249\tF1:\t0.6808\n",
      "7 / 30: Train Loss:\t0.0300\tVal Loss:\t1.0086\tAccuracy:\t0.7249\tF1:\t0.6906\n",
      "8 / 30: Train Loss:\t0.0188\tVal Loss:\t0.9842\tAccuracy:\t0.7249\tF1:\t0.6895\n",
      "9 / 30: Train Loss:\t0.0145\tVal Loss:\t0.9786\tAccuracy:\t0.7308\tF1:\t0.6911\n",
      "10 / 30: Train Loss:\t0.0102\tVal Loss:\t0.9551\tAccuracy:\t0.7249\tF1:\t0.6905\n",
      "11 / 30: Train Loss:\t0.0072\tVal Loss:\t0.9438\tAccuracy:\t0.7337\tF1:\t0.6983\n",
      "12 / 30: Train Loss:\t0.0058\tVal Loss:\t0.9463\tAccuracy:\t0.7278\tF1:\t0.6877\n",
      "13 / 30: Train Loss:\t0.0041\tVal Loss:\t0.9349\tAccuracy:\t0.7219\tF1:\t0.6822\n",
      "14 / 30: Train Loss:\t0.0071\tVal Loss:\t0.9920\tAccuracy:\t0.7012\tF1:\t0.6606\n",
      "No improvement for 3 epochs. Stopping early.\n",
      "best (higgest macro f1-score) val results:\n",
      "                         precision    recall  f1-score   support\n",
      "\n",
      "             ad hominem       0.70      0.72      0.71        67\n",
      "               anecdote       0.89      0.79      0.84        43\n",
      "         cherry picking       0.72      0.79      0.75        56\n",
      "      conspiracy theory       0.74      0.87      0.80        39\n",
      "           fake experts       0.64      0.58      0.61        12\n",
      "           false choice       0.82      0.69      0.75        13\n",
      "      false equivalence       0.50      0.29      0.36        14\n",
      "impossible expectations       0.84      0.70      0.76        37\n",
      "           single cause       0.67      0.74      0.70        57\n",
      "\n",
      "               accuracy                           0.73       338\n",
      "              macro avg       0.72      0.69      0.70       338\n",
      "           weighted avg       0.74      0.73      0.73       338\n",
      "\n",
      "test results:\n",
      "                         precision    recall  f1-score   support\n",
      "\n",
      "             ad hominem       0.82      0.73      0.77        37\n",
      "               anecdote       0.80      0.83      0.82        24\n",
      "         cherry picking       0.70      0.68      0.69        31\n",
      "      conspiracy theory       0.76      0.59      0.67        22\n",
      "           fake experts       0.88      1.00      0.93         7\n",
      "           false choice       0.60      0.43      0.50         7\n",
      "      false equivalence       0.33      0.25      0.29         8\n",
      "impossible expectations       0.55      0.76      0.64        21\n",
      "           single cause       0.58      0.66      0.62        32\n",
      "\n",
      "               accuracy                           0.69       189\n",
      "              macro avg       0.67      0.66      0.66       189\n",
      "           weighted avg       0.69      0.69      0.69       189\n",
      "\n",
      "### ### ### ### ### ### ### ### ### ### \n",
      "{'test_acc': [0.708994708994709, 0.6878306878306878], 'test_f1': [0.6575241016721503, 0.6577378929713961], 'eval_acc': [0.7130177514792899, 0.7337278106508875], 'eval_f1': [0.671260118559452, 0.6982847973422948], 'wd': [0.1, 0.01]}\n",
      "### ### ### ### ### ### ### ### ### ### \n"
     ]
    }
   ],
   "source": [
    "g = 8\n",
    "lr = 5.0e-5\n",
    "wd = 0.0\n",
    "alphas = [8, 16]\n",
    "ranks = [8, 16]\n",
    "lora_dropout = 0.0\n",
    "\n",
    "\n",
    "for a,r in zip(alphas, ranks):\n",
    "    print(f'Grid search {model_checkpoint}, learning rate {lr} focal loss, gamma: {g} wd: {wd}, Lora alpha {a}, rank {r}')\n",
    "    data = ClimateDataset(model_to_train=3,model_checkpoint=model_checkpoint,dataset_url=flicc_path,batch_size=32)\n",
    "    data.setup_dataloaders()\n",
    "    model = ClassificationModel(model_checkpoint=data.model_checkpoint,\n",
    "                            num_labels=data.num_labels,\n",
    "                            lora=True,\n",
    "                            r=r,\n",
    "                            alpha=a,\n",
    "                            dropout=lora_dropout)\n",
    "    trainer = Engine(epochs=30,labels=data.labels)\n",
    "    trainer.model = model.model\n",
    "    trainer.dataset_encoded = data.dataset_encoded\n",
    "    test_acc, test_f1, eval_acc, eval_f1 = trainer.run(lr=lr,\n",
    "                          wd=wd,\n",
    "                          train_dataloader=data.train_dataloader,\n",
    "                          eval_dataloader=data.eval_dataloader,\n",
    "                          test_dataloader=data.test_dataloader,\n",
    "                          focalloss=True,\n",
    "                          gamma=g,\n",
    "                          early_stop=3)\n",
    "    results['test_acc'].append(test_acc)\n",
    "    results['test_f1'].append(test_f1)\n",
    "    results['eval_acc'].append(eval_acc)\n",
    "    results['eval_f1'].append(eval_f1)\n",
    "    results['rank, alpha'].append(r)\n",
    "    print('### '*10)\n",
    "    print(results)\n",
    "    print('### '*10)\n",
    "    with torch.no_grad():\n",
    "        torch.cuda.empty_cache()\n",
    "    del data, model, trainer, test_acc, test_f1, eval_acc, eval_f1\n",
    "    gc.collect()"
   ]
  },
  {
   "cell_type": "code",
   "execution_count": 5,
   "metadata": {},
   "outputs": [
    {
     "data": {
      "image/png": "[encoded data removed]",
      "text/plain": [
       "<Figure size 640x480 with 1 Axes>"
      ]
     },
     "metadata": {},
     "output_type": "display_data"
    }
   ],
   "source": [
    "Engine.plot_grid_search(df=results,\n",
    "                        title=f'LORA, lr: {lr}, focal loss gamma {g} {model_checkpoint}',\n",
    "                        column='rank, alpha',\n",
    "                        sci_format=False)"
   ]
  },
  {
   "cell_type": "code",
   "execution_count": 6,
   "metadata": {},
   "outputs": [],
   "source": [
    "%reset -f"
   ]
  }
 ],
 "metadata": {
  "kernelspec": {
   "display_name": "Python 3",
   "language": "python",
   "name": "python3"
  },
  "language_info": {
   "codemirror_mode": {
    "name": "ipython",
    "version": 3
   },
   "file_extension": ".py",
   "mimetype": "text/x-python",
   "name": "python",
   "nbconvert_exporter": "python",
   "pygments_lexer": "ipython3",
   "version": "3.11.5"
  },
  "orig_nbformat": 4
 },
 "nbformat": 4,
 "nbformat_minor": 2
}
