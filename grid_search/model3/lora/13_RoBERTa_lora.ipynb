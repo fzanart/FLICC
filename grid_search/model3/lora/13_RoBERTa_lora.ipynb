{
 "cells": [
  {
   "cell_type": "code",
   "execution_count": 1,
   "metadata": {},
   "outputs": [],
   "source": [
    "import torch\n",
    "from data import ClimateDataset\n",
    "from models import ClassificationModel\n",
    "from engine import Engine"
   ]
  },
  {
   "cell_type": "code",
   "execution_count": 2,
   "metadata": {},
   "outputs": [],
   "source": [
    "model_checkpoint='roberta-large'\n",
    "\n",
    "# the commands below didn't work inside for loop and got CUDA out of memory Error.\n",
    "#     with torch.no_grad():\n",
    "#        torch.cuda.empty_cache()\n",
    "#    del data, model, trainer, acc, f1\n",
    "# Instead of running these commands in a loop, execute them cell by cell, restarting between them.\n",
    "# Each cell will print its results. To keep the results and avoid re-running specific cells, skip them intermittently on each run."
   ]
  },
  {
   "cell_type": "code",
   "execution_count": 3,
   "metadata": {},
   "outputs": [],
   "source": [
    "results = {'acc':[],\n",
    "           'f1':[],\n",
    "           'a':[]}"
   ]
  },
  {
   "cell_type": "code",
   "execution_count": 4,
   "metadata": {},
   "outputs": [
    {
     "name": "stdout",
     "output_type": "stream",
     "text": [
      "Grid search roberta-large, lr: 5e-05. Focal loss gamma: 4. Weight decay 0.0. Lora rank: 8. Lora alpha: 8\n"
     ]
    },
    {
     "name": "stderr",
     "output_type": "stream",
     "text": [
      "Some weights of RobertaForSequenceClassification were not initialized from the model checkpoint at roberta-large and are newly initialized: ['classifier.out_proj.weight', 'classifier.dense.weight', 'classifier.dense.bias', 'classifier.out_proj.bias']\n",
      "You should probably TRAIN this model on a down-stream task to be able to use it for predictions and inference.\n",
      "You're using a RobertaTokenizerFast tokenizer. Please note that with a fast tokenizer, using the `__call__` method is faster than using a method to encode the text followed by a call to the `pad` method to get a padded encoding.\n"
     ]
    },
    {
     "name": "stdout",
     "output_type": "stream",
     "text": [
      "1 / 30: Train Loss:\t6.2753\tVal Loss:\t2.1829\tAccuracy:\t0.0651\tF1:\t0.0545\n",
      "2 / 30: Train Loss:\t6.0948\tVal Loss:\t2.1559\tAccuracy:\t0.1302\tF1:\t0.1128\n",
      "3 / 30: Train Loss:\t5.5481\tVal Loss:\t1.9328\tAccuracy:\t0.3136\tF1:\t0.2885\n",
      "4 / 30: Train Loss:\t3.7322\tVal Loss:\t1.4366\tAccuracy:\t0.5237\tF1:\t0.4914\n",
      "5 / 30: Train Loss:\t2.5118\tVal Loss:\t1.2883\tAccuracy:\t0.5562\tF1:\t0.5053\n",
      "6 / 30: Train Loss:\t1.8468\tVal Loss:\t1.1537\tAccuracy:\t0.6331\tF1:\t0.5829\n",
      "7 / 30: Train Loss:\t1.4485\tVal Loss:\t1.0604\tAccuracy:\t0.6686\tF1:\t0.6151\n",
      "8 / 30: Train Loss:\t1.2160\tVal Loss:\t1.0216\tAccuracy:\t0.6746\tF1:\t0.6313\n",
      "9 / 30: Train Loss:\t1.0145\tVal Loss:\t0.9674\tAccuracy:\t0.7012\tF1:\t0.6589\n",
      "10 / 30: Train Loss:\t0.9176\tVal Loss:\t0.9331\tAccuracy:\t0.7041\tF1:\t0.6638\n",
      "11 / 30: Train Loss:\t0.7561\tVal Loss:\t0.8899\tAccuracy:\t0.7189\tF1:\t0.6797\n",
      "12 / 30: Train Loss:\t0.7130\tVal Loss:\t0.8737\tAccuracy:\t0.7337\tF1:\t0.6969\n",
      "13 / 30: Train Loss:\t0.6163\tVal Loss:\t0.8636\tAccuracy:\t0.7396\tF1:\t0.7063\n",
      "14 / 30: Train Loss:\t0.6007\tVal Loss:\t0.8524\tAccuracy:\t0.7456\tF1:\t0.7204\n",
      "15 / 30: Train Loss:\t0.5024\tVal Loss:\t0.8436\tAccuracy:\t0.7426\tF1:\t0.7054\n",
      "16 / 30: Train Loss:\t0.4770\tVal Loss:\t0.8321\tAccuracy:\t0.7308\tF1:\t0.7027\n",
      "17 / 30: Train Loss:\t0.4207\tVal Loss:\t0.8156\tAccuracy:\t0.7456\tF1:\t0.7184\n",
      "No improvement for 3 epochs. Stopping early.\n",
      "best (higgest macro f1-score) val results:\n",
      "                         precision    recall  f1-score   support\n",
      "\n",
      "             ad hominem       0.75      0.69      0.72        67\n",
      "               anecdote       0.91      0.91      0.91        43\n",
      "         cherry picking       0.77      0.77      0.77        56\n",
      "      conspiracy theory       0.81      0.77      0.79        39\n",
      "           fake experts       0.56      0.83      0.67        12\n",
      "           false choice       0.71      0.77      0.74        13\n",
      "      false equivalence       0.41      0.50      0.45        14\n",
      "impossible expectations       0.66      0.68      0.67        37\n",
      "           single cause       0.78      0.74      0.76        57\n",
      "\n",
      "               accuracy                           0.75       338\n",
      "              macro avg       0.71      0.74      0.72       338\n",
      "           weighted avg       0.75      0.75      0.75       338\n",
      "\n",
      "test results:\n",
      "                         precision    recall  f1-score   support\n",
      "\n",
      "             ad hominem       0.75      0.81      0.78        37\n",
      "               anecdote       0.88      0.96      0.92        24\n",
      "         cherry picking       0.88      0.74      0.81        31\n",
      "      conspiracy theory       0.89      0.73      0.80        22\n",
      "           fake experts       0.88      1.00      0.93         7\n",
      "           false choice       0.42      0.71      0.53         7\n",
      "      false equivalence       0.25      0.38      0.30         8\n",
      "impossible expectations       0.85      0.81      0.83        21\n",
      "           single cause       0.81      0.69      0.75        32\n",
      "\n",
      "               accuracy                           0.77       189\n",
      "              macro avg       0.73      0.76      0.74       189\n",
      "           weighted avg       0.80      0.77      0.78       189\n",
      "\n",
      "### ### ### ### ### ### ### ### ### ### \n",
      "{'acc': [0.7724867724867724], 'f1': [0.7378798278260866], 'a': [8]}\n",
      "### ### ### ### ### ### ### ### ### ### \n"
     ]
    }
   ],
   "source": [
    "lr = 5.0e-5\n",
    "g = 4\n",
    "lora_alpha = 8\n",
    "r = 8\n",
    "lora_dropout = 0.0\n",
    "wd = 0.0\n",
    "\n",
    "\n",
    "print(f'Grid search {model_checkpoint}, lr: {lr}. Focal loss gamma: {g}. Weight decay {wd}. Lora rank: {r}. Lora alpha: {lora_alpha}')\n",
    "data = ClimateDataset(model_to_train=3,model_checkpoint=model_checkpoint,batch_size=16)\n",
    "data.setup_dataloaders()\n",
    "model = ClassificationModel(model_checkpoint=data.model_checkpoint,\n",
    "                            num_labels=data.num_labels,\n",
    "                            lora=True,\n",
    "                            r=r,\n",
    "                            alpha=lora_alpha,\n",
    "                            dropout=lora_dropout)\n",
    "trainer = Engine(epochs=30,labels=data.labels)\n",
    "trainer.model = model.model\n",
    "trainer.dataset_encoded = data.dataset_encoded\n",
    "acc, f1 = trainer.run(lr=lr,\n",
    "                        wd=0.0,\n",
    "                        train_dataloader=data.train_dataloader,\n",
    "                        eval_dataloader=data.eval_dataloader,\n",
    "                        test_dataloader=data.test_dataloader,\n",
    "                        focalloss=True,\n",
    "                        early_stop=3,\n",
    "                        accumulation_steps=2,\n",
    "                        gamma=g)\n",
    "results['acc'].append(acc)\n",
    "results['f1'].append(f1)\n",
    "results['a'].append(lora_alpha)\n",
    "print('### '*10)\n",
    "print(results)\n",
    "print('### '*10)"
   ]
  },
  {
   "cell_type": "code",
   "execution_count": 4,
   "metadata": {},
   "outputs": [
    {
     "name": "stdout",
     "output_type": "stream",
     "text": [
      "Grid search roberta-large, lr: 5e-05. Focal loss gamma: 4. Weight decay 0.0. Lora rank: 16. Lora alpha: 16\n"
     ]
    },
    {
     "name": "stderr",
     "output_type": "stream",
     "text": [
      "Some weights of RobertaForSequenceClassification were not initialized from the model checkpoint at roberta-large and are newly initialized: ['classifier.dense.bias', 'classifier.dense.weight', 'classifier.out_proj.weight', 'classifier.out_proj.bias']\n",
      "You should probably TRAIN this model on a down-stream task to be able to use it for predictions and inference.\n",
      "You're using a RobertaTokenizerFast tokenizer. Please note that with a fast tokenizer, using the `__call__` method is faster than using a method to encode the text followed by a call to the `pad` method to get a padded encoding.\n"
     ]
    },
    {
     "name": "stdout",
     "output_type": "stream",
     "text": [
      "1 / 30: Train Loss:\t6.2720\tVal Loss:\t2.1827\tAccuracy:\t0.0651\tF1:\t0.0538\n",
      "2 / 30: Train Loss:\t6.0568\tVal Loss:\t2.1234\tAccuracy:\t0.1627\tF1:\t0.1448\n",
      "3 / 30: Train Loss:\t4.5952\tVal Loss:\t1.5660\tAccuracy:\t0.4675\tF1:\t0.4376\n",
      "4 / 30: Train Loss:\t2.7063\tVal Loss:\t1.2798\tAccuracy:\t0.6154\tF1:\t0.5747\n",
      "5 / 30: Train Loss:\t1.8653\tVal Loss:\t1.1259\tAccuracy:\t0.6479\tF1:\t0.5903\n",
      "6 / 30: Train Loss:\t1.4143\tVal Loss:\t1.0789\tAccuracy:\t0.6716\tF1:\t0.6311\n",
      "7 / 30: Train Loss:\t1.1470\tVal Loss:\t0.9986\tAccuracy:\t0.6893\tF1:\t0.6487\n",
      "8 / 30: Train Loss:\t0.9778\tVal Loss:\t0.9679\tAccuracy:\t0.7041\tF1:\t0.6675\n",
      "9 / 30: Train Loss:\t0.8190\tVal Loss:\t0.9281\tAccuracy:\t0.7071\tF1:\t0.6677\n",
      "10 / 30: Train Loss:\t0.6873\tVal Loss:\t0.8951\tAccuracy:\t0.7249\tF1:\t0.6928\n",
      "11 / 30: Train Loss:\t0.5844\tVal Loss:\t0.8582\tAccuracy:\t0.7337\tF1:\t0.6981\n",
      "12 / 30: Train Loss:\t0.5634\tVal Loss:\t0.8651\tAccuracy:\t0.7249\tF1:\t0.6963\n",
      "13 / 30: Train Loss:\t0.4792\tVal Loss:\t0.8537\tAccuracy:\t0.7544\tF1:\t0.7320\n",
      "14 / 30: Train Loss:\t0.4594\tVal Loss:\t0.8350\tAccuracy:\t0.7456\tF1:\t0.7194\n",
      "15 / 30: Train Loss:\t0.3604\tVal Loss:\t0.8146\tAccuracy:\t0.7337\tF1:\t0.6984\n",
      "16 / 30: Train Loss:\t0.3478\tVal Loss:\t0.8097\tAccuracy:\t0.7426\tF1:\t0.7156\n",
      "No improvement for 3 epochs. Stopping early.\n",
      "best (higgest macro f1-score) val results:\n",
      "                         precision    recall  f1-score   support\n",
      "\n",
      "             ad hominem       0.76      0.79      0.77        67\n",
      "               anecdote       0.91      0.91      0.91        43\n",
      "         cherry picking       0.72      0.75      0.74        56\n",
      "      conspiracy theory       0.82      0.82      0.82        39\n",
      "           fake experts       0.69      0.75      0.72        12\n",
      "           false choice       0.67      0.77      0.71        13\n",
      "      false equivalence       0.33      0.57      0.42        14\n",
      "impossible expectations       0.65      0.59      0.62        37\n",
      "           single cause       0.86      0.63      0.73        57\n",
      "\n",
      "               accuracy                           0.74       338\n",
      "              macro avg       0.71      0.73      0.72       338\n",
      "           weighted avg       0.76      0.74      0.75       338\n",
      "\n",
      "test results:\n",
      "                         precision    recall  f1-score   support\n",
      "\n",
      "             ad hominem       0.78      0.78      0.78        37\n",
      "               anecdote       0.88      0.88      0.88        24\n",
      "         cherry picking       0.74      0.74      0.74        31\n",
      "      conspiracy theory       0.86      0.82      0.84        22\n",
      "           fake experts       1.00      0.71      0.83         7\n",
      "           false choice       0.33      0.57      0.42         7\n",
      "      false equivalence       0.21      0.38      0.27         8\n",
      "impossible expectations       0.76      0.76      0.76        21\n",
      "           single cause       0.83      0.62      0.71        32\n",
      "\n",
      "               accuracy                           0.74       189\n",
      "              macro avg       0.71      0.70      0.69       189\n",
      "           weighted avg       0.77      0.74      0.75       189\n",
      "\n",
      "### ### ### ### ### ### ### ### ### ### \n",
      "{'acc': [0.7354497354497355], 'f1': [0.693470253756707], 'a': [16]}\n",
      "### ### ### ### ### ### ### ### ### ### \n"
     ]
    }
   ],
   "source": [
    "lr = 5.0e-5\n",
    "g = 4\n",
    "lora_alpha = 16\n",
    "r = 16\n",
    "lora_dropout = 0.0\n",
    "wd = 0.0\n",
    "\n",
    "\n",
    "print(f'Grid search {model_checkpoint}, lr: {lr}. Focal loss gamma: {g}. Weight decay {wd}. Lora rank: {r}. Lora alpha: {lora_alpha}')\n",
    "data = ClimateDataset(model_to_train=3,model_checkpoint=model_checkpoint,batch_size=16)\n",
    "data.setup_dataloaders()\n",
    "model = ClassificationModel(model_checkpoint=data.model_checkpoint,\n",
    "                            num_labels=data.num_labels,\n",
    "                            lora=True,\n",
    "                            r=r,\n",
    "                            alpha=lora_alpha,\n",
    "                            dropout=lora_dropout)\n",
    "trainer = Engine(epochs=30,labels=data.labels)\n",
    "trainer.model = model.model\n",
    "trainer.dataset_encoded = data.dataset_encoded\n",
    "acc, f1 = trainer.run(lr=lr,\n",
    "                        wd=0.0,\n",
    "                        train_dataloader=data.train_dataloader,\n",
    "                        eval_dataloader=data.eval_dataloader,\n",
    "                        test_dataloader=data.test_dataloader,\n",
    "                        focalloss=True,\n",
    "                        early_stop=3,\n",
    "                        accumulation_steps=2,\n",
    "                        gamma=g)\n",
    "results['acc'].append(acc)\n",
    "results['f1'].append(f1)\n",
    "results['a'].append(lora_alpha)\n",
    "print('### '*10)\n",
    "print(results)\n",
    "print('### '*10)"
   ]
  },
  {
   "cell_type": "code",
   "execution_count": 5,
   "metadata": {},
   "outputs": [],
   "source": [
    "from collections import defaultdict \n",
    "\n",
    "a = {'acc': [0.7724867724867724], 'f1': [0.7378798278260866], 'a': [8]}\n",
    "b = {'acc': [0.7354497354497355], 'f1': [0.693470253756707], 'a': [16]}\n",
    "\n",
    "results = defaultdict(list)\n",
    "for d in (a,b):\n",
    "    for k,v in d.items():\n",
    "        results[k].append(v[0])"
   ]
  },
  {
   "cell_type": "code",
   "execution_count": 6,
   "metadata": {},
   "outputs": [],
   "source": [
    "import matplotlib.pyplot as plt\n",
    "import seaborn as sns\n",
    "import pandas as pd"
   ]
  },
  {
   "cell_type": "code",
   "execution_count": 7,
   "metadata": {},
   "outputs": [
    {
     "data": {
      "image/png": "[encoded data removed]",
      "text/plain": [
       "<Figure size 640x480 with 1 Axes>"
      ]
     },
     "metadata": {},
     "output_type": "display_data"
    }
   ],
   "source": [
    "def plot_grid_search(df, title):\n",
    "\n",
    "    # Create the plot\n",
    "    ax = df.plot(x='a', y=['acc', 'f1'], marker='o', linestyle='-')\n",
    "\n",
    "    # Set y-axis range between 0 and 1\n",
    "    plt.ylim(0, 1)\n",
    "\n",
    "    # Annotate points with F1 scores\n",
    "    for i, row in df.iterrows(): \n",
    "        ax.annotate(f'{row[\"f1\"]:.2f}', (row[\"a\"], row[\"f1\"]), textcoords='offset points', xytext=(0, -10), ha='center')\n",
    "\n",
    "    # Annotate points with Acc scores\n",
    "    for i, row in df.iterrows():\n",
    "        ax.annotate(f'{row[\"acc\"]:.2f}', (row[\"a\"], row[\"acc\"]), textcoords='offset points', xytext=(0, 10), ha='center')\n",
    "    \n",
    "    # \n",
    "    plt.xticks(df['a'], [val for val in df['a']], ha='center')\n",
    "    plt.minorticks_off()\n",
    "\n",
    "    plt.title(title)\n",
    "    plt.xlabel('alpha')\n",
    "    plt.ylabel('Score')\n",
    "    plt.show()\n",
    "\n",
    "plot_grid_search(pd.DataFrame(results), f'Alpha: LoRA scaling factor. {model_checkpoint}.')"
   ]
  }
 ],
 "metadata": {
  "kernelspec": {
   "display_name": "Python 3",
   "language": "python",
   "name": "python3"
  },
  "language_info": {
   "codemirror_mode": {
    "name": "ipython",
    "version": 3
   },
   "file_extension": ".py",
   "mimetype": "text/x-python",
   "name": "python",
   "nbconvert_exporter": "python",
   "pygments_lexer": "ipython3",
   "version": "3.11.5"
  },
  "orig_nbformat": 4
 },
 "nbformat": 4,
 "nbformat_minor": 2
}
