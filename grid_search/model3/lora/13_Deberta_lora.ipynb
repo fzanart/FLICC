{
 "cells": [
  {
   "cell_type": "code",
   "execution_count": 1,
   "metadata": {},
   "outputs": [],
   "source": [
    "import os\n",
    "import sys\n",
    "import gc\n",
    "# assuming data, models, engine in flicc directory:\n",
    "flicc_path = os.path.realpath(\"__file__\").split('grid_search')[0]\n",
    "sys.path.append(flicc_path)\n",
    "import torch\n",
    "from data import ClimateDataset\n",
    "from models import ClassificationModel\n",
    "from engine import Engine"
   ]
  },
  {
   "cell_type": "code",
   "execution_count": 2,
   "metadata": {},
   "outputs": [],
   "source": [
    "model_checkpoint='microsoft/deberta-base'"
   ]
  },
  {
   "cell_type": "code",
   "execution_count": 3,
   "metadata": {},
   "outputs": [],
   "source": [
    "results = {'test_acc':[],\n",
    "           'test_f1':[],\n",
    "           'eval_acc':[],\n",
    "           'eval_f1':[],\n",
    "           'rank, alpha':[]}"
   ]
  },
  {
   "cell_type": "code",
   "execution_count": 4,
   "metadata": {},
   "outputs": [
    {
     "name": "stdout",
     "output_type": "stream",
     "text": [
      "Grid search microsoft/deberta-base, learning rate 5e-05 focal loss, gamma: 8 wd: 0.0, Lora alpha 8, rank 8\n"
     ]
    },
    {
     "name": "stderr",
     "output_type": "stream",
     "text": [
      "Some weights of DebertaForSequenceClassification were not initialized from the model checkpoint at microsoft/deberta-base and are newly initialized: ['classifier.bias', 'classifier.weight', 'pooler.dense.bias', 'pooler.dense.weight']\n",
      "You should probably TRAIN this model on a down-stream task to be able to use it for predictions and inference.\n",
      "You're using a DebertaTokenizerFast tokenizer. Please note that with a fast tokenizer, using the `__call__` method is faster than using a method to encode the text followed by a call to the `pad` method to get a padded encoding.\n"
     ]
    },
    {
     "name": "stdout",
     "output_type": "stream",
     "text": [
      "1 / 30: Train Loss:\t7.8773\tVal Loss:\t2.1972\tAccuracy:\t0.1095\tF1:\t0.0219\n",
      "2 / 30: Train Loss:\t7.7885\tVal Loss:\t2.1967\tAccuracy:\t0.1095\tF1:\t0.0219\n",
      "3 / 30: Train Loss:\t7.7692\tVal Loss:\t2.1961\tAccuracy:\t0.1183\tF1:\t0.0330\n",
      "4 / 30: Train Loss:\t7.7145\tVal Loss:\t2.1785\tAccuracy:\t0.1805\tF1:\t0.0865\n",
      "5 / 30: Train Loss:\t7.5742\tVal Loss:\t2.1774\tAccuracy:\t0.1864\tF1:\t0.1506\n",
      "6 / 30: Train Loss:\t7.4903\tVal Loss:\t2.1407\tAccuracy:\t0.2396\tF1:\t0.1793\n",
      "7 / 30: Train Loss:\t7.3951\tVal Loss:\t2.1219\tAccuracy:\t0.2751\tF1:\t0.1972\n",
      "8 / 30: Train Loss:\t7.2791\tVal Loss:\t2.1149\tAccuracy:\t0.2959\tF1:\t0.2218\n",
      "9 / 30: Train Loss:\t7.1103\tVal Loss:\t2.0911\tAccuracy:\t0.3432\tF1:\t0.2389\n",
      "10 / 30: Train Loss:\t6.8598\tVal Loss:\t2.0586\tAccuracy:\t0.4053\tF1:\t0.3252\n",
      "11 / 30: Train Loss:\t6.4192\tVal Loss:\t2.0165\tAccuracy:\t0.4231\tF1:\t0.3646\n",
      "12 / 30: Train Loss:\t5.9019\tVal Loss:\t1.9381\tAccuracy:\t0.4882\tF1:\t0.4324\n",
      "13 / 30: Train Loss:\t5.2924\tVal Loss:\t1.8650\tAccuracy:\t0.4882\tF1:\t0.4260\n",
      "14 / 30: Train Loss:\t4.7261\tVal Loss:\t1.7900\tAccuracy:\t0.5266\tF1:\t0.4754\n",
      "15 / 30: Train Loss:\t4.2444\tVal Loss:\t1.7290\tAccuracy:\t0.5444\tF1:\t0.5012\n",
      "16 / 30: Train Loss:\t3.8289\tVal Loss:\t1.6765\tAccuracy:\t0.5473\tF1:\t0.5027\n",
      "17 / 30: Train Loss:\t3.4436\tVal Loss:\t1.6273\tAccuracy:\t0.5621\tF1:\t0.5158\n",
      "18 / 30: Train Loss:\t3.1742\tVal Loss:\t1.5910\tAccuracy:\t0.5621\tF1:\t0.5118\n",
      "19 / 30: Train Loss:\t2.9744\tVal Loss:\t1.5580\tAccuracy:\t0.5947\tF1:\t0.5449\n",
      "20 / 30: Train Loss:\t2.7693\tVal Loss:\t1.5248\tAccuracy:\t0.5799\tF1:\t0.5341\n",
      "21 / 30: Train Loss:\t2.5956\tVal Loss:\t1.4908\tAccuracy:\t0.5858\tF1:\t0.5399\n",
      "22 / 30: Train Loss:\t2.4693\tVal Loss:\t1.4716\tAccuracy:\t0.5858\tF1:\t0.5482\n",
      "23 / 30: Train Loss:\t2.3273\tVal Loss:\t1.4484\tAccuracy:\t0.5947\tF1:\t0.5498\n",
      "24 / 30: Train Loss:\t2.1398\tVal Loss:\t1.4321\tAccuracy:\t0.5888\tF1:\t0.5471\n",
      "25 / 30: Train Loss:\t2.0153\tVal Loss:\t1.4075\tAccuracy:\t0.6006\tF1:\t0.5579\n",
      "26 / 30: Train Loss:\t1.9535\tVal Loss:\t1.3983\tAccuracy:\t0.6006\tF1:\t0.5615\n",
      "27 / 30: Train Loss:\t1.8465\tVal Loss:\t1.3860\tAccuracy:\t0.5858\tF1:\t0.5517\n",
      "28 / 30: Train Loss:\t1.7417\tVal Loss:\t1.3565\tAccuracy:\t0.5888\tF1:\t0.5565\n",
      "29 / 30: Train Loss:\t1.7052\tVal Loss:\t1.3479\tAccuracy:\t0.5917\tF1:\t0.5662\n",
      "30 / 30: Train Loss:\t1.5487\tVal Loss:\t1.3274\tAccuracy:\t0.5947\tF1:\t0.5689\n",
      "best (higgest macro f1-score) val results:\n",
      "                         precision    recall  f1-score   support\n",
      "\n",
      "             ad hominem       0.64      0.51      0.57        67\n",
      "               anecdote       0.76      0.81      0.79        43\n",
      "         cherry picking       0.61      0.55      0.58        56\n",
      "      conspiracy theory       0.53      0.69      0.60        39\n",
      "           fake experts       0.50      0.92      0.65        12\n",
      "           false choice       0.33      0.69      0.45        13\n",
      "      false equivalence       0.32      0.43      0.36        14\n",
      "impossible expectations       0.61      0.38      0.47        37\n",
      "           single cause       0.74      0.60      0.66        57\n",
      "\n",
      "               accuracy                           0.59       338\n",
      "              macro avg       0.56      0.62      0.57       338\n",
      "           weighted avg       0.62      0.59      0.60       338\n",
      "\n",
      "test results:\n",
      "                         precision    recall  f1-score   support\n",
      "\n",
      "             ad hominem       0.84      0.73      0.78        37\n",
      "               anecdote       0.75      0.88      0.81        24\n",
      "         cherry picking       0.58      0.35      0.44        31\n",
      "      conspiracy theory       0.74      0.77      0.76        22\n",
      "           fake experts       0.67      0.86      0.75         7\n",
      "           false choice       0.17      0.57      0.27         7\n",
      "      false equivalence       0.18      0.25      0.21         8\n",
      "impossible expectations       0.68      0.71      0.70        21\n",
      "           single cause       0.64      0.44      0.52        32\n",
      "\n",
      "               accuracy                           0.62       189\n",
      "              macro avg       0.58      0.62      0.58       189\n",
      "           weighted avg       0.66      0.62      0.63       189\n",
      "\n",
      "### ### ### ### ### ### ### ### ### ### \n",
      "{'test_acc': [0.6190476190476191], 'test_f1': [0.5810269420532608], 'eval_acc': [0.5946745562130178], 'eval_f1': [0.568908755725047], 'rank, alpha': [8]}\n",
      "### ### ### ### ### ### ### ### ### ### \n",
      "Grid search microsoft/deberta-base, learning rate 5e-05 focal loss, gamma: 8 wd: 0.0, Lora alpha 16, rank 16\n"
     ]
    },
    {
     "name": "stderr",
     "output_type": "stream",
     "text": [
      "Some weights of DebertaForSequenceClassification were not initialized from the model checkpoint at microsoft/deberta-base and are newly initialized: ['classifier.bias', 'classifier.weight', 'pooler.dense.bias', 'pooler.dense.weight']\n",
      "You should probably TRAIN this model on a down-stream task to be able to use it for predictions and inference.\n",
      "You're using a DebertaTokenizerFast tokenizer. Please note that with a fast tokenizer, using the `__call__` method is faster than using a method to encode the text followed by a call to the `pad` method to get a padded encoding.\n"
     ]
    },
    {
     "name": "stdout",
     "output_type": "stream",
     "text": [
      "1 / 30: Train Loss:\t7.8766\tVal Loss:\t2.1970\tAccuracy:\t0.1095\tF1:\t0.0219\n",
      "2 / 30: Train Loss:\t7.7841\tVal Loss:\t2.1956\tAccuracy:\t0.1124\tF1:\t0.0258\n",
      "3 / 30: Train Loss:\t7.7207\tVal Loss:\t2.1804\tAccuracy:\t0.1864\tF1:\t0.0947\n",
      "4 / 30: Train Loss:\t7.6214\tVal Loss:\t2.1784\tAccuracy:\t0.1953\tF1:\t0.1364\n",
      "5 / 30: Train Loss:\t7.4826\tVal Loss:\t2.1577\tAccuracy:\t0.2337\tF1:\t0.1760\n",
      "6 / 30: Train Loss:\t7.3428\tVal Loss:\t2.1247\tAccuracy:\t0.2515\tF1:\t0.1776\n",
      "7 / 30: Train Loss:\t7.2651\tVal Loss:\t2.1119\tAccuracy:\t0.2781\tF1:\t0.1976\n",
      "8 / 30: Train Loss:\t7.0178\tVal Loss:\t2.0656\tAccuracy:\t0.3757\tF1:\t0.2894\n",
      "9 / 30: Train Loss:\t6.5752\tVal Loss:\t2.0187\tAccuracy:\t0.4438\tF1:\t0.3819\n",
      "10 / 30: Train Loss:\t5.8708\tVal Loss:\t1.9251\tAccuracy:\t0.4852\tF1:\t0.4375\n",
      "11 / 30: Train Loss:\t5.1153\tVal Loss:\t1.8408\tAccuracy:\t0.5089\tF1:\t0.4661\n",
      "12 / 30: Train Loss:\t4.5344\tVal Loss:\t1.7554\tAccuracy:\t0.5296\tF1:\t0.4833\n",
      "13 / 30: Train Loss:\t3.9891\tVal Loss:\t1.6890\tAccuracy:\t0.5503\tF1:\t0.4953\n",
      "14 / 30: Train Loss:\t3.5208\tVal Loss:\t1.6260\tAccuracy:\t0.5621\tF1:\t0.5207\n",
      "15 / 30: Train Loss:\t3.1940\tVal Loss:\t1.5783\tAccuracy:\t0.5621\tF1:\t0.5142\n",
      "16 / 30: Train Loss:\t2.8611\tVal Loss:\t1.5415\tAccuracy:\t0.5799\tF1:\t0.5333\n",
      "17 / 30: Train Loss:\t2.5927\tVal Loss:\t1.4996\tAccuracy:\t0.5888\tF1:\t0.5432\n",
      "18 / 30: Train Loss:\t2.4055\tVal Loss:\t1.4675\tAccuracy:\t0.6006\tF1:\t0.5540\n",
      "19 / 30: Train Loss:\t2.2549\tVal Loss:\t1.4498\tAccuracy:\t0.5976\tF1:\t0.5558\n",
      "20 / 30: Train Loss:\t2.0812\tVal Loss:\t1.4199\tAccuracy:\t0.5976\tF1:\t0.5591\n",
      "21 / 30: Train Loss:\t1.9442\tVal Loss:\t1.3870\tAccuracy:\t0.6006\tF1:\t0.5655\n",
      "22 / 30: Train Loss:\t1.8248\tVal Loss:\t1.3616\tAccuracy:\t0.5917\tF1:\t0.5596\n",
      "23 / 30: Train Loss:\t1.7221\tVal Loss:\t1.3403\tAccuracy:\t0.6095\tF1:\t0.5795\n",
      "24 / 30: Train Loss:\t1.5849\tVal Loss:\t1.3340\tAccuracy:\t0.5976\tF1:\t0.5664\n",
      "25 / 30: Train Loss:\t1.4786\tVal Loss:\t1.3108\tAccuracy:\t0.6154\tF1:\t0.5819\n",
      "26 / 30: Train Loss:\t1.4524\tVal Loss:\t1.2914\tAccuracy:\t0.6095\tF1:\t0.5732\n",
      "27 / 30: Train Loss:\t1.3247\tVal Loss:\t1.2845\tAccuracy:\t0.6154\tF1:\t0.5816\n",
      "28 / 30: Train Loss:\t1.2527\tVal Loss:\t1.2642\tAccuracy:\t0.6154\tF1:\t0.5872\n",
      "29 / 30: Train Loss:\t1.2200\tVal Loss:\t1.2528\tAccuracy:\t0.6272\tF1:\t0.5991\n",
      "30 / 30: Train Loss:\t1.0895\tVal Loss:\t1.2409\tAccuracy:\t0.6331\tF1:\t0.6040\n",
      "best (higgest macro f1-score) val results:\n",
      "                         precision    recall  f1-score   support\n",
      "\n",
      "             ad hominem       0.73      0.60      0.66        67\n",
      "               anecdote       0.78      0.84      0.81        43\n",
      "         cherry picking       0.65      0.64      0.65        56\n",
      "      conspiracy theory       0.62      0.62      0.62        39\n",
      "           fake experts       0.50      0.75      0.60        12\n",
      "           false choice       0.38      0.85      0.52        13\n",
      "      false equivalence       0.37      0.50      0.42        14\n",
      "impossible expectations       0.50      0.46      0.48        37\n",
      "           single cause       0.79      0.60      0.68        57\n",
      "\n",
      "               accuracy                           0.63       338\n",
      "              macro avg       0.59      0.65      0.60       338\n",
      "           weighted avg       0.66      0.63      0.64       338\n",
      "\n",
      "test results:\n",
      "                         precision    recall  f1-score   support\n",
      "\n",
      "             ad hominem       0.85      0.78      0.82        37\n",
      "               anecdote       0.76      0.92      0.83        24\n",
      "         cherry picking       0.68      0.42      0.52        31\n",
      "      conspiracy theory       0.86      0.82      0.84        22\n",
      "           fake experts       0.67      0.86      0.75         7\n",
      "           false choice       0.17      0.57      0.26         7\n",
      "      false equivalence       0.25      0.25      0.25         8\n",
      "impossible expectations       0.68      0.71      0.70        21\n",
      "           single cause       0.61      0.44      0.51        32\n",
      "\n",
      "               accuracy                           0.65       189\n",
      "              macro avg       0.61      0.64      0.61       189\n",
      "           weighted avg       0.70      0.65      0.66       189\n",
      "\n",
      "### ### ### ### ### ### ### ### ### ### \n",
      "{'test_acc': [0.6190476190476191, 0.6507936507936508], 'test_f1': [0.5810269420532608, 0.6076810259829067], 'eval_acc': [0.5946745562130178, 0.6331360946745562], 'eval_f1': [0.568908755725047, 0.6039649911649787], 'rank, alpha': [8, 16]}\n",
      "### ### ### ### ### ### ### ### ### ### \n"
     ]
    }
   ],
   "source": [
    "g = 8\n",
    "lr = 5.0e-5\n",
    "wd = 0.0\n",
    "alphas = [8, 16]\n",
    "ranks = [8, 16]\n",
    "lora_dropout = 0.0\n",
    "\n",
    "\n",
    "for a,r in zip(alphas, ranks):\n",
    "    print(f'Grid search {model_checkpoint}, learning rate {lr} focal loss, gamma: {g} wd: {wd}, Lora alpha {a}, rank {r}')\n",
    "    data = ClimateDataset(model_to_train=3,model_checkpoint=model_checkpoint,dataset_url=flicc_path,batch_size=32)\n",
    "    data.setup_dataloaders()\n",
    "    model = ClassificationModel(model_checkpoint=data.model_checkpoint,\n",
    "                            num_labels=data.num_labels,\n",
    "                            lora=True,\n",
    "                            r=r,\n",
    "                            alpha=a,\n",
    "                            dropout=lora_dropout)\n",
    "    trainer = Engine(epochs=30,labels=data.labels)\n",
    "    trainer.model = model.model\n",
    "    trainer.dataset_encoded = data.dataset_encoded\n",
    "    test_acc, test_f1, eval_acc, eval_f1 = trainer.run(lr=lr,\n",
    "                          wd=wd,\n",
    "                          train_dataloader=data.train_dataloader,\n",
    "                          eval_dataloader=data.eval_dataloader,\n",
    "                          test_dataloader=data.test_dataloader,\n",
    "                          focalloss=True,\n",
    "                          gamma=g,\n",
    "                          early_stop=3)\n",
    "    results['test_acc'].append(test_acc)\n",
    "    results['test_f1'].append(test_f1)\n",
    "    results['eval_acc'].append(eval_acc)\n",
    "    results['eval_f1'].append(eval_f1)\n",
    "    results['rank, alpha'].append(r)\n",
    "    print('### '*10)\n",
    "    print(results)\n",
    "    print('### '*10)\n",
    "    with torch.no_grad():\n",
    "        torch.cuda.empty_cache()\n",
    "    del data, model, trainer, test_acc, test_f1, eval_acc, eval_f1\n",
    "    gc.collect()"
   ]
  },
  {
   "cell_type": "code",
   "execution_count": 5,
   "metadata": {},
   "outputs": [
    {
     "data": {
      "image/png": "[encoded data removed]",
      "text/plain": [
       "<Figure size 640x480 with 1 Axes>"
      ]
     },
     "metadata": {},
     "output_type": "display_data"
    }
   ],
   "source": [
    "Engine.plot_grid_search(df=results,\n",
    "                        title=f'LORA, lr: {lr}, focal loss gamma {g} {model_checkpoint}',\n",
    "                        column='rank, alpha',\n",
    "                        sci_format=False)"
   ]
  },
  {
   "cell_type": "code",
   "execution_count": 6,
   "metadata": {},
   "outputs": [],
   "source": [
    "%reset -f"
   ]
  }
 ],
 "metadata": {
  "kernelspec": {
   "display_name": "Python 3",
   "language": "python",
   "name": "python3"
  },
  "language_info": {
   "codemirror_mode": {
    "name": "ipython",
    "version": 3
   },
   "file_extension": ".py",
   "mimetype": "text/x-python",
   "name": "python",
   "nbconvert_exporter": "python",
   "pygments_lexer": "ipython3",
   "version": "3.11.5"
  },
  "orig_nbformat": 4
 },
 "nbformat": 4,
 "nbformat_minor": 2
}
