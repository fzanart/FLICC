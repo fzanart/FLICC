{
 "cells": [
  {
   "cell_type": "code",
   "execution_count": 1,
   "metadata": {},
   "outputs": [],
   "source": [
    "import os\n",
    "import sys\n",
    "import gc\n",
    "# assuming data, models, engine in flicc directory:\n",
    "flicc_path = os.path.realpath(\"__file__\").split('grid_search')[0]\n",
    "sys.path.append(flicc_path)\n",
    "import torch\n",
    "from data import ClimateDataset\n",
    "from models import ClassificationModel\n",
    "from engine import Engine"
   ]
  },
  {
   "cell_type": "code",
   "execution_count": 2,
   "metadata": {},
   "outputs": [],
   "source": [
    "model_checkpoint='gpt2'"
   ]
  },
  {
   "cell_type": "code",
   "execution_count": 3,
   "metadata": {},
   "outputs": [],
   "source": [
    "results = {'test_acc':[],\n",
    "           'test_f1':[],\n",
    "           'eval_acc':[],\n",
    "           'eval_f1':[],\n",
    "           'rank, alpha':[]}"
   ]
  },
  {
   "cell_type": "code",
   "execution_count": 4,
   "metadata": {},
   "outputs": [
    {
     "name": "stdout",
     "output_type": "stream",
     "text": [
      "Grid search gpt2, learning rate 0.0001 focal loss, gamma: 2 wd: 0.0, Lora alpha 8, rank 8\n"
     ]
    },
    {
     "name": "stderr",
     "output_type": "stream",
     "text": [
      "Some weights of GPT2ForSequenceClassification were not initialized from the model checkpoint at gpt2 and are newly initialized: ['score.weight']\n",
      "You should probably TRAIN this model on a down-stream task to be able to use it for predictions and inference.\n",
      "/mnt/software/miniconda3/lib/python3.11/site-packages/peft/tuners/lora/model.py:311: UserWarning: fan_in_fan_out is set to False but the target module is `Conv1D`. Setting fan_in_fan_out to True.\n",
      "  warnings.warn(\n",
      "You're using a GPT2TokenizerFast tokenizer. Please note that with a fast tokenizer, using the `__call__` method is faster than using a method to encode the text followed by a call to the `pad` method to get a padded encoding.\n"
     ]
    },
    {
     "name": "stdout",
     "output_type": "stream",
     "text": [
      "1 / 30: Train Loss:\t38.5927\tVal Loss:\t3.8228\tAccuracy:\t0.0858\tF1:\t0.0663\n",
      "2 / 30: Train Loss:\t22.5283\tVal Loss:\t2.6925\tAccuracy:\t0.1065\tF1:\t0.1120\n",
      "3 / 30: Train Loss:\t19.9457\tVal Loss:\t2.5347\tAccuracy:\t0.1124\tF1:\t0.1176\n",
      "4 / 30: Train Loss:\t18.3876\tVal Loss:\t2.4620\tAccuracy:\t0.0976\tF1:\t0.0955\n",
      "5 / 30: Train Loss:\t17.9949\tVal Loss:\t2.3463\tAccuracy:\t0.1183\tF1:\t0.1149\n",
      "6 / 30: Train Loss:\t17.0500\tVal Loss:\t2.2777\tAccuracy:\t0.1302\tF1:\t0.1283\n",
      "7 / 30: Train Loss:\t16.7685\tVal Loss:\t2.2355\tAccuracy:\t0.1479\tF1:\t0.1444\n",
      "8 / 30: Train Loss:\t15.9542\tVal Loss:\t2.2114\tAccuracy:\t0.1450\tF1:\t0.1384\n",
      "9 / 30: Train Loss:\t15.7535\tVal Loss:\t2.1893\tAccuracy:\t0.1538\tF1:\t0.1462\n",
      "10 / 30: Train Loss:\t15.7246\tVal Loss:\t2.1731\tAccuracy:\t0.1627\tF1:\t0.1547\n",
      "11 / 30: Train Loss:\t15.4433\tVal Loss:\t2.1576\tAccuracy:\t0.1805\tF1:\t0.1715\n",
      "12 / 30: Train Loss:\t15.0759\tVal Loss:\t2.1450\tAccuracy:\t0.1864\tF1:\t0.1738\n",
      "13 / 30: Train Loss:\t15.1249\tVal Loss:\t2.1265\tAccuracy:\t0.2101\tF1:\t0.2019\n",
      "14 / 30: Train Loss:\t14.7240\tVal Loss:\t2.1059\tAccuracy:\t0.2278\tF1:\t0.2106\n",
      "15 / 30: Train Loss:\t14.4526\tVal Loss:\t2.0713\tAccuracy:\t0.2396\tF1:\t0.2232\n",
      "16 / 30: Train Loss:\t14.0323\tVal Loss:\t2.0517\tAccuracy:\t0.2396\tF1:\t0.2253\n",
      "17 / 30: Train Loss:\t13.6034\tVal Loss:\t2.0195\tAccuracy:\t0.2781\tF1:\t0.2528\n",
      "18 / 30: Train Loss:\t13.2734\tVal Loss:\t1.9627\tAccuracy:\t0.2959\tF1:\t0.2713\n",
      "19 / 30: Train Loss:\t12.6336\tVal Loss:\t1.8959\tAccuracy:\t0.3521\tF1:\t0.3231\n",
      "20 / 30: Train Loss:\t11.9466\tVal Loss:\t1.8309\tAccuracy:\t0.3787\tF1:\t0.3492\n",
      "21 / 30: Train Loss:\t11.7171\tVal Loss:\t1.7424\tAccuracy:\t0.4260\tF1:\t0.4017\n",
      "22 / 30: Train Loss:\t10.8715\tVal Loss:\t1.6694\tAccuracy:\t0.4527\tF1:\t0.4171\n",
      "23 / 30: Train Loss:\t10.1159\tVal Loss:\t1.6143\tAccuracy:\t0.4763\tF1:\t0.4427\n",
      "24 / 30: Train Loss:\t9.9296\tVal Loss:\t1.5694\tAccuracy:\t0.4704\tF1:\t0.4433\n",
      "25 / 30: Train Loss:\t9.5058\tVal Loss:\t1.5229\tAccuracy:\t0.4704\tF1:\t0.4581\n",
      "26 / 30: Train Loss:\t8.7791\tVal Loss:\t1.4863\tAccuracy:\t0.4911\tF1:\t0.4716\n",
      "27 / 30: Train Loss:\t8.3056\tVal Loss:\t1.4549\tAccuracy:\t0.5000\tF1:\t0.4914\n",
      "28 / 30: Train Loss:\t7.9409\tVal Loss:\t1.3993\tAccuracy:\t0.5089\tF1:\t0.4915\n",
      "29 / 30: Train Loss:\t7.5107\tVal Loss:\t1.3579\tAccuracy:\t0.5296\tF1:\t0.5121\n",
      "30 / 30: Train Loss:\t7.2563\tVal Loss:\t1.3597\tAccuracy:\t0.5266\tF1:\t0.5129\n",
      "best (higgest macro f1-score) val results:\n",
      "                         precision    recall  f1-score   support\n",
      "\n",
      "             ad hominem       0.59      0.36      0.44        67\n",
      "               anecdote       0.93      0.60      0.73        43\n",
      "         cherry picking       0.74      0.46      0.57        56\n",
      "      conspiracy theory       0.57      0.72      0.64        39\n",
      "           fake experts       0.38      0.67      0.48        12\n",
      "           false choice       0.32      0.92      0.47        13\n",
      "      false equivalence       0.17      0.43      0.24        14\n",
      "impossible expectations       0.43      0.54      0.48        37\n",
      "           single cause       0.65      0.49      0.56        57\n",
      "\n",
      "               accuracy                           0.53       338\n",
      "              macro avg       0.53      0.58      0.51       338\n",
      "           weighted avg       0.61      0.53      0.54       338\n",
      "\n",
      "test results:\n",
      "                         precision    recall  f1-score   support\n",
      "\n",
      "             ad hominem       0.74      0.46      0.57        37\n",
      "               anecdote       0.74      0.71      0.72        24\n",
      "         cherry picking       0.67      0.26      0.37        31\n",
      "      conspiracy theory       0.54      0.59      0.57        22\n",
      "           fake experts       0.38      0.86      0.52         7\n",
      "           false choice       0.16      0.43      0.23         7\n",
      "      false equivalence       0.26      0.62      0.37         8\n",
      "impossible expectations       0.64      0.86      0.73        21\n",
      "           single cause       0.56      0.44      0.49        32\n",
      "\n",
      "               accuracy                           0.53       189\n",
      "              macro avg       0.52      0.58      0.51       189\n",
      "           weighted avg       0.61      0.53      0.54       189\n",
      "\n",
      "### ### ### ### ### ### ### ### ### ### \n",
      "{'test_acc': [0.5343915343915344], 'test_f1': [0.5084646684274244], 'eval_acc': [0.5266272189349113], 'eval_f1': [0.512917579418546], 'rank, alpha': [8]}\n",
      "### ### ### ### ### ### ### ### ### ### \n",
      "Grid search gpt2, learning rate 0.0001 focal loss, gamma: 2 wd: 0.0, Lora alpha 16, rank 16\n"
     ]
    },
    {
     "name": "stderr",
     "output_type": "stream",
     "text": [
      "Some weights of GPT2ForSequenceClassification were not initialized from the model checkpoint at gpt2 and are newly initialized: ['score.weight']\n",
      "You should probably TRAIN this model on a down-stream task to be able to use it for predictions and inference.\n",
      "/mnt/software/miniconda3/lib/python3.11/site-packages/peft/tuners/lora/model.py:311: UserWarning: fan_in_fan_out is set to False but the target module is `Conv1D`. Setting fan_in_fan_out to True.\n",
      "  warnings.warn(\n",
      "You're using a GPT2TokenizerFast tokenizer. Please note that with a fast tokenizer, using the `__call__` method is faster than using a method to encode the text followed by a call to the `pad` method to get a padded encoding.\n"
     ]
    },
    {
     "name": "stdout",
     "output_type": "stream",
     "text": [
      "1 / 30: Train Loss:\t35.3611\tVal Loss:\t3.3475\tAccuracy:\t0.0769\tF1:\t0.0603\n",
      "2 / 30: Train Loss:\t20.8549\tVal Loss:\t2.5752\tAccuracy:\t0.1095\tF1:\t0.1149\n",
      "3 / 30: Train Loss:\t19.1140\tVal Loss:\t2.4245\tAccuracy:\t0.1036\tF1:\t0.1024\n",
      "4 / 30: Train Loss:\t17.5743\tVal Loss:\t2.3648\tAccuracy:\t0.1154\tF1:\t0.1150\n",
      "5 / 30: Train Loss:\t17.2188\tVal Loss:\t2.2837\tAccuracy:\t0.1331\tF1:\t0.1328\n",
      "6 / 30: Train Loss:\t16.4246\tVal Loss:\t2.2449\tAccuracy:\t0.1243\tF1:\t0.1222\n",
      "7 / 30: Train Loss:\t16.3409\tVal Loss:\t2.2155\tAccuracy:\t0.1361\tF1:\t0.1359\n",
      "8 / 30: Train Loss:\t15.8119\tVal Loss:\t2.1996\tAccuracy:\t0.1331\tF1:\t0.1284\n",
      "9 / 30: Train Loss:\t15.4956\tVal Loss:\t2.1862\tAccuracy:\t0.1391\tF1:\t0.1343\n",
      "10 / 30: Train Loss:\t15.5226\tVal Loss:\t2.1746\tAccuracy:\t0.1538\tF1:\t0.1497\n",
      "11 / 30: Train Loss:\t15.3210\tVal Loss:\t2.1550\tAccuracy:\t0.1627\tF1:\t0.1613\n",
      "12 / 30: Train Loss:\t14.8925\tVal Loss:\t2.1416\tAccuracy:\t0.1834\tF1:\t0.1855\n",
      "13 / 30: Train Loss:\t14.8993\tVal Loss:\t2.1057\tAccuracy:\t0.2130\tF1:\t0.2162\n",
      "14 / 30: Train Loss:\t14.3638\tVal Loss:\t2.0704\tAccuracy:\t0.2426\tF1:\t0.2404\n",
      "15 / 30: Train Loss:\t13.8725\tVal Loss:\t2.0121\tAccuracy:\t0.2544\tF1:\t0.2522\n",
      "16 / 30: Train Loss:\t13.1710\tVal Loss:\t1.9447\tAccuracy:\t0.2899\tF1:\t0.2874\n",
      "17 / 30: Train Loss:\t12.4097\tVal Loss:\t1.8344\tAccuracy:\t0.3698\tF1:\t0.3507\n",
      "18 / 30: Train Loss:\t11.9617\tVal Loss:\t1.7769\tAccuracy:\t0.4053\tF1:\t0.3798\n",
      "19 / 30: Train Loss:\t11.1240\tVal Loss:\t1.6980\tAccuracy:\t0.4260\tF1:\t0.4024\n",
      "20 / 30: Train Loss:\t10.2773\tVal Loss:\t1.6331\tAccuracy:\t0.4349\tF1:\t0.4092\n",
      "21 / 30: Train Loss:\t9.9282\tVal Loss:\t1.5751\tAccuracy:\t0.4438\tF1:\t0.4186\n",
      "22 / 30: Train Loss:\t9.1500\tVal Loss:\t1.5277\tAccuracy:\t0.4467\tF1:\t0.4333\n",
      "23 / 30: Train Loss:\t8.4513\tVal Loss:\t1.5044\tAccuracy:\t0.4497\tF1:\t0.4435\n",
      "24 / 30: Train Loss:\t8.3692\tVal Loss:\t1.4811\tAccuracy:\t0.4497\tF1:\t0.4388\n",
      "25 / 30: Train Loss:\t8.1171\tVal Loss:\t1.4298\tAccuracy:\t0.4675\tF1:\t0.4600\n",
      "26 / 30: Train Loss:\t7.3113\tVal Loss:\t1.4120\tAccuracy:\t0.4793\tF1:\t0.4687\n",
      "27 / 30: Train Loss:\t7.0017\tVal Loss:\t1.3938\tAccuracy:\t0.4941\tF1:\t0.4873\n",
      "28 / 30: Train Loss:\t6.6823\tVal Loss:\t1.3497\tAccuracy:\t0.5030\tF1:\t0.4896\n",
      "29 / 30: Train Loss:\t6.2793\tVal Loss:\t1.3182\tAccuracy:\t0.5207\tF1:\t0.5072\n",
      "30 / 30: Train Loss:\t6.0466\tVal Loss:\t1.3325\tAccuracy:\t0.5178\tF1:\t0.5173\n",
      "best (higgest macro f1-score) val results:\n",
      "                         precision    recall  f1-score   support\n",
      "\n",
      "             ad hominem       0.65      0.33      0.44        67\n",
      "               anecdote       0.96      0.58      0.72        43\n",
      "         cherry picking       0.76      0.45      0.56        56\n",
      "      conspiracy theory       0.58      0.72      0.64        39\n",
      "           fake experts       0.45      0.75      0.56        12\n",
      "           false choice       0.31      0.85      0.45        13\n",
      "      false equivalence       0.14      0.57      0.23        14\n",
      "impossible expectations       0.49      0.54      0.51        37\n",
      "           single cause       0.63      0.47      0.54        57\n",
      "\n",
      "               accuracy                           0.52       338\n",
      "              macro avg       0.55      0.58      0.52       338\n",
      "           weighted avg       0.64      0.52      0.54       338\n",
      "\n",
      "test results:\n",
      "                         precision    recall  f1-score   support\n",
      "\n",
      "             ad hominem       0.94      0.41      0.57        37\n",
      "               anecdote       0.71      0.62      0.67        24\n",
      "         cherry picking       0.62      0.26      0.36        31\n",
      "      conspiracy theory       0.61      0.77      0.68        22\n",
      "           fake experts       0.43      0.86      0.57         7\n",
      "           false choice       0.11      0.29      0.15         7\n",
      "      false equivalence       0.18      0.62      0.28         8\n",
      "impossible expectations       0.67      0.86      0.75        21\n",
      "           single cause       0.61      0.44      0.51        32\n",
      "\n",
      "               accuracy                           0.53       189\n",
      "              macro avg       0.54      0.57      0.50       189\n",
      "           weighted avg       0.65      0.53      0.54       189\n",
      "\n",
      "### ### ### ### ### ### ### ### ### ### \n",
      "{'test_acc': [0.5343915343915344, 0.5291005291005291], 'test_f1': [0.5084646684274244, 0.504276019810611], 'eval_acc': [0.5266272189349113, 0.5177514792899408], 'eval_f1': [0.512917579418546, 0.5172677085086321], 'rank, alpha': [8, 16]}\n",
      "### ### ### ### ### ### ### ### ### ### \n"
     ]
    }
   ],
   "source": [
    "g = 2\n",
    "lr = 1.0e-4\n",
    "wd = 0.0\n",
    "alphas = [8, 16]\n",
    "ranks = [8, 16]\n",
    "lora_dropout = 0.0\n",
    "\n",
    "\n",
    "for a,r in zip(alphas, ranks):\n",
    "    print(f'Grid search {model_checkpoint}, learning rate {lr} focal loss, gamma: {g} wd: {wd}, Lora alpha {a}, rank {r}')\n",
    "    data = ClimateDataset(model_to_train=3,model_checkpoint=model_checkpoint,dataset_url=flicc_path,batch_size=32)\n",
    "    data.setup_dataloaders()\n",
    "    model = ClassificationModel(model_checkpoint=data.model_checkpoint,\n",
    "                            num_labels=data.num_labels,\n",
    "                            lora=True,\n",
    "                            r=r,\n",
    "                            alpha=a,\n",
    "                            dropout=lora_dropout)\n",
    "    trainer = Engine(epochs=30,labels=data.labels)\n",
    "    trainer.model = model.model\n",
    "    trainer.dataset_encoded = data.dataset_encoded\n",
    "    test_acc, test_f1, eval_acc, eval_f1 = trainer.run(lr=lr,\n",
    "                          wd=wd,\n",
    "                          train_dataloader=data.train_dataloader,\n",
    "                          eval_dataloader=data.eval_dataloader,\n",
    "                          test_dataloader=data.test_dataloader,\n",
    "                          focalloss=True,\n",
    "                          gamma=g,\n",
    "                          early_stop=3)\n",
    "    results['test_acc'].append(test_acc)\n",
    "    results['test_f1'].append(test_f1)\n",
    "    results['eval_acc'].append(eval_acc)\n",
    "    results['eval_f1'].append(eval_f1)\n",
    "    results['rank, alpha'].append(r)\n",
    "    print('### '*10)\n",
    "    print(results)\n",
    "    print('### '*10)\n",
    "    with torch.no_grad():\n",
    "        torch.cuda.empty_cache()\n",
    "    del data, model, trainer, test_acc, test_f1, eval_acc, eval_f1\n",
    "    gc.collect()"
   ]
  },
  {
   "cell_type": "code",
   "execution_count": 5,
   "metadata": {},
   "outputs": [
    {
     "data": {
      "image/png": "[encoded data removed]",
      "text/plain": [
       "<Figure size 640x480 with 1 Axes>"
      ]
     },
     "metadata": {},
     "output_type": "display_data"
    }
   ],
   "source": [
    "Engine.plot_grid_search(df=results,\n",
    "                        title=f'LORA, lr: {lr}, focal loss gamma {g} {model_checkpoint}',\n",
    "                        column='rank, alpha',\n",
    "                        sci_format=False)"
   ]
  },
  {
   "cell_type": "code",
   "execution_count": 6,
   "metadata": {},
   "outputs": [],
   "source": [
    "%reset -f"
   ]
  }
 ],
 "metadata": {
  "kernelspec": {
   "display_name": "Python 3",
   "language": "python",
   "name": "python3"
  },
  "language_info": {
   "codemirror_mode": {
    "name": "ipython",
    "version": 3
   },
   "file_extension": ".py",
   "mimetype": "text/x-python",
   "name": "python",
   "nbconvert_exporter": "python",
   "pygments_lexer": "ipython3",
   "version": "3.11.5"
  },
  "orig_nbformat": 4
 },
 "nbformat": 4,
 "nbformat_minor": 2
}
