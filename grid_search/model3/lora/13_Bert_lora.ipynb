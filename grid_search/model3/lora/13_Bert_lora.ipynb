{
 "cells": [
  {
   "cell_type": "code",
   "execution_count": 1,
   "metadata": {},
   "outputs": [],
   "source": [
    "import os\n",
    "import sys\n",
    "import gc\n",
    "# assuming data, models, engine in flicc directory:\n",
    "flicc_path = os.path.realpath(\"__file__\").split('grid_search')[0]\n",
    "sys.path.append(flicc_path)\n",
    "import torch\n",
    "from data import ClimateDataset\n",
    "from models import ClassificationModel\n",
    "from engine import Engine"
   ]
  },
  {
   "cell_type": "code",
   "execution_count": 2,
   "metadata": {},
   "outputs": [],
   "source": [
    "model_checkpoint='bert-base-uncased'"
   ]
  },
  {
   "cell_type": "code",
   "execution_count": 3,
   "metadata": {},
   "outputs": [],
   "source": [
    "results = {'test_acc':[],\n",
    "           'test_f1':[],\n",
    "           'eval_acc':[],\n",
    "           'eval_f1':[],\n",
    "           'rank, alpha':[]}"
   ]
  },
  {
   "cell_type": "code",
   "execution_count": 4,
   "metadata": {},
   "outputs": [
    {
     "name": "stdout",
     "output_type": "stream",
     "text": [
      "Grid search bert-base-uncased, learning rate 5e-05 focal loss, gamma: 8 wd: 0.0, Lora alpha 8, rank 8\n"
     ]
    },
    {
     "name": "stderr",
     "output_type": "stream",
     "text": [
      "Some weights of BertForSequenceClassification were not initialized from the model checkpoint at bert-base-uncased and are newly initialized: ['classifier.weight', 'classifier.bias']\n",
      "You should probably TRAIN this model on a down-stream task to be able to use it for predictions and inference.\n",
      "You're using a BertTokenizerFast tokenizer. Please note that with a fast tokenizer, using the `__call__` method is faster than using a method to encode the text followed by a call to the `pad` method to get a padded encoding.\n"
     ]
    },
    {
     "name": "stdout",
     "output_type": "stream",
     "text": [
      "1 / 30: Train Loss:\t8.2173\tVal Loss:\t2.1792\tAccuracy:\t0.0828\tF1:\t0.0657\n",
      "2 / 30: Train Loss:\t7.8449\tVal Loss:\t2.1883\tAccuracy:\t0.0917\tF1:\t0.0753\n",
      "3 / 30: Train Loss:\t7.6540\tVal Loss:\t2.1825\tAccuracy:\t0.1568\tF1:\t0.1406\n",
      "4 / 30: Train Loss:\t7.5930\tVal Loss:\t2.1698\tAccuracy:\t0.2101\tF1:\t0.1737\n",
      "5 / 30: Train Loss:\t7.4496\tVal Loss:\t2.1553\tAccuracy:\t0.2337\tF1:\t0.2096\n",
      "6 / 30: Train Loss:\t7.0577\tVal Loss:\t2.1213\tAccuracy:\t0.2337\tF1:\t0.2133\n",
      "7 / 30: Train Loss:\t6.6826\tVal Loss:\t2.0693\tAccuracy:\t0.2840\tF1:\t0.2458\n",
      "8 / 30: Train Loss:\t6.1022\tVal Loss:\t1.9901\tAccuracy:\t0.3254\tF1:\t0.2949\n",
      "9 / 30: Train Loss:\t5.3689\tVal Loss:\t1.8937\tAccuracy:\t0.3521\tF1:\t0.3099\n",
      "10 / 30: Train Loss:\t4.7862\tVal Loss:\t1.8032\tAccuracy:\t0.3964\tF1:\t0.3527\n",
      "11 / 30: Train Loss:\t4.1949\tVal Loss:\t1.7609\tAccuracy:\t0.4053\tF1:\t0.3641\n",
      "12 / 30: Train Loss:\t3.8400\tVal Loss:\t1.7074\tAccuracy:\t0.4112\tF1:\t0.3838\n",
      "13 / 30: Train Loss:\t3.5681\tVal Loss:\t1.6621\tAccuracy:\t0.4231\tF1:\t0.3887\n",
      "14 / 30: Train Loss:\t3.3350\tVal Loss:\t1.6359\tAccuracy:\t0.4408\tF1:\t0.4040\n",
      "15 / 30: Train Loss:\t3.2818\tVal Loss:\t1.6236\tAccuracy:\t0.4290\tF1:\t0.3905\n",
      "16 / 30: Train Loss:\t3.1336\tVal Loss:\t1.6043\tAccuracy:\t0.4497\tF1:\t0.4117\n",
      "17 / 30: Train Loss:\t3.0811\tVal Loss:\t1.5985\tAccuracy:\t0.4497\tF1:\t0.4149\n",
      "18 / 30: Train Loss:\t2.7931\tVal Loss:\t1.5796\tAccuracy:\t0.4675\tF1:\t0.4276\n",
      "19 / 30: Train Loss:\t2.7852\tVal Loss:\t1.5617\tAccuracy:\t0.4586\tF1:\t0.4176\n",
      "20 / 30: Train Loss:\t2.5582\tVal Loss:\t1.5468\tAccuracy:\t0.4645\tF1:\t0.4323\n",
      "21 / 30: Train Loss:\t2.5066\tVal Loss:\t1.5377\tAccuracy:\t0.4615\tF1:\t0.4258\n",
      "22 / 30: Train Loss:\t2.5401\tVal Loss:\t1.5239\tAccuracy:\t0.4704\tF1:\t0.4379\n",
      "23 / 30: Train Loss:\t2.3090\tVal Loss:\t1.5140\tAccuracy:\t0.4704\tF1:\t0.4332\n",
      "24 / 30: Train Loss:\t2.2678\tVal Loss:\t1.5110\tAccuracy:\t0.4822\tF1:\t0.4503\n",
      "25 / 30: Train Loss:\t2.2061\tVal Loss:\t1.4902\tAccuracy:\t0.4941\tF1:\t0.4575\n",
      "26 / 30: Train Loss:\t2.0926\tVal Loss:\t1.4826\tAccuracy:\t0.4941\tF1:\t0.4591\n",
      "27 / 30: Train Loss:\t1.9679\tVal Loss:\t1.4738\tAccuracy:\t0.4911\tF1:\t0.4561\n",
      "28 / 30: Train Loss:\t1.9196\tVal Loss:\t1.4607\tAccuracy:\t0.4970\tF1:\t0.4603\n",
      "29 / 30: Train Loss:\t1.9634\tVal Loss:\t1.4630\tAccuracy:\t0.5118\tF1:\t0.4809\n",
      "30 / 30: Train Loss:\t1.8100\tVal Loss:\t1.4622\tAccuracy:\t0.5059\tF1:\t0.4751\n",
      "best (higgest macro f1-score) val results:\n",
      "                         precision    recall  f1-score   support\n",
      "\n",
      "             ad hominem       0.56      0.43      0.49        67\n",
      "               anecdote       0.72      0.77      0.74        43\n",
      "         cherry picking       0.70      0.54      0.61        56\n",
      "      conspiracy theory       0.51      0.67      0.58        39\n",
      "           fake experts       0.40      0.67      0.50        12\n",
      "           false choice       0.22      0.54      0.31        13\n",
      "      false equivalence       0.12      0.29      0.17        14\n",
      "impossible expectations       0.53      0.49      0.51        37\n",
      "           single cause       0.64      0.32      0.42        57\n",
      "\n",
      "               accuracy                           0.51       338\n",
      "              macro avg       0.49      0.52      0.48       338\n",
      "           weighted avg       0.57      0.51      0.52       338\n",
      "\n",
      "test results:\n",
      "                         precision    recall  f1-score   support\n",
      "\n",
      "             ad hominem       0.74      0.46      0.57        37\n",
      "               anecdote       0.59      0.92      0.72        24\n",
      "         cherry picking       0.58      0.35      0.44        31\n",
      "      conspiracy theory       0.50      0.55      0.52        22\n",
      "           fake experts       0.50      0.71      0.59         7\n",
      "           false choice       0.06      0.14      0.08         7\n",
      "      false equivalence       0.00      0.00      0.00         8\n",
      "impossible expectations       0.52      0.67      0.58        21\n",
      "           single cause       0.57      0.38      0.45        32\n",
      "\n",
      "               accuracy                           0.50       189\n",
      "              macro avg       0.45      0.46      0.44       189\n",
      "           weighted avg       0.55      0.50      0.50       189\n",
      "\n",
      "### ### ### ### ### ### ### ### ### ### \n",
      "{'test_acc': [0.4973544973544973], 'test_f1': [0.439346232071279], 'eval_acc': [0.5118343195266272], 'eval_f1': [0.48093357726718305], 'rank, alpha': [8]}\n",
      "### ### ### ### ### ### ### ### ### ### \n",
      "Grid search bert-base-uncased, learning rate 5e-05 focal loss, gamma: 8 wd: 0.0, Lora alpha 16, rank 16\n"
     ]
    },
    {
     "name": "stderr",
     "output_type": "stream",
     "text": [
      "Some weights of BertForSequenceClassification were not initialized from the model checkpoint at bert-base-uncased and are newly initialized: ['classifier.weight', 'classifier.bias']\n",
      "You should probably TRAIN this model on a down-stream task to be able to use it for predictions and inference.\n",
      "You're using a BertTokenizerFast tokenizer. Please note that with a fast tokenizer, using the `__call__` method is faster than using a method to encode the text followed by a call to the `pad` method to get a padded encoding.\n"
     ]
    },
    {
     "name": "stdout",
     "output_type": "stream",
     "text": [
      "1 / 30: Train Loss:\t8.2050\tVal Loss:\t2.1796\tAccuracy:\t0.0799\tF1:\t0.0620\n",
      "2 / 30: Train Loss:\t7.8261\tVal Loss:\t2.1857\tAccuracy:\t0.1124\tF1:\t0.0952\n",
      "3 / 30: Train Loss:\t7.6057\tVal Loss:\t2.1766\tAccuracy:\t0.1657\tF1:\t0.1441\n",
      "4 / 30: Train Loss:\t7.4758\tVal Loss:\t2.1550\tAccuracy:\t0.2249\tF1:\t0.1920\n",
      "5 / 30: Train Loss:\t7.1959\tVal Loss:\t2.1209\tAccuracy:\t0.2544\tF1:\t0.2336\n",
      "6 / 30: Train Loss:\t6.5078\tVal Loss:\t2.0403\tAccuracy:\t0.3047\tF1:\t0.2793\n",
      "7 / 30: Train Loss:\t5.7373\tVal Loss:\t1.9306\tAccuracy:\t0.3254\tF1:\t0.2938\n",
      "8 / 30: Train Loss:\t4.8871\tVal Loss:\t1.8018\tAccuracy:\t0.3846\tF1:\t0.3279\n",
      "9 / 30: Train Loss:\t4.1793\tVal Loss:\t1.7180\tAccuracy:\t0.4290\tF1:\t0.3989\n",
      "10 / 30: Train Loss:\t3.7606\tVal Loss:\t1.6779\tAccuracy:\t0.4379\tF1:\t0.4019\n",
      "11 / 30: Train Loss:\t3.3494\tVal Loss:\t1.6518\tAccuracy:\t0.4379\tF1:\t0.4130\n",
      "12 / 30: Train Loss:\t3.1546\tVal Loss:\t1.6190\tAccuracy:\t0.4290\tF1:\t0.3970\n",
      "13 / 30: Train Loss:\t2.9777\tVal Loss:\t1.6009\tAccuracy:\t0.4172\tF1:\t0.3806\n",
      "14 / 30: Train Loss:\t2.7908\tVal Loss:\t1.5874\tAccuracy:\t0.4320\tF1:\t0.4029\n",
      "No improvement for 3 epochs. Stopping early.\n",
      "best (higgest macro f1-score) val results:\n",
      "                         precision    recall  f1-score   support\n",
      "\n",
      "             ad hominem       0.51      0.28      0.37        67\n",
      "               anecdote       0.72      0.72      0.72        43\n",
      "         cherry picking       0.66      0.38      0.48        56\n",
      "      conspiracy theory       0.34      0.64      0.45        39\n",
      "           fake experts       0.38      0.50      0.43        12\n",
      "           false choice       0.24      0.69      0.36        13\n",
      "      false equivalence       0.04      0.07      0.05        14\n",
      "impossible expectations       0.49      0.57      0.53        37\n",
      "           single cause       0.50      0.26      0.34        57\n",
      "\n",
      "               accuracy                           0.44       338\n",
      "              macro avg       0.43      0.46      0.41       338\n",
      "           weighted avg       0.50      0.44      0.44       338\n",
      "\n",
      "test results:\n",
      "                         precision    recall  f1-score   support\n",
      "\n",
      "             ad hominem       0.70      0.38      0.49        37\n",
      "               anecdote       0.57      0.88      0.69        24\n",
      "         cherry picking       0.33      0.10      0.15        31\n",
      "      conspiracy theory       0.38      0.50      0.43        22\n",
      "           fake experts       0.40      0.57      0.47         7\n",
      "           false choice       0.12      0.43      0.19         7\n",
      "      false equivalence       0.00      0.00      0.00         8\n",
      "impossible expectations       0.40      0.57      0.47        21\n",
      "           single cause       0.37      0.22      0.27        32\n",
      "\n",
      "               accuracy                           0.40       189\n",
      "              macro avg       0.36      0.40      0.35       189\n",
      "           weighted avg       0.43      0.40      0.38       189\n",
      "\n",
      "### ### ### ### ### ### ### ### ### ### \n",
      "{'test_acc': [0.4973544973544973, 0.3968253968253968], 'test_f1': [0.439346232071279, 0.3515901648743094], 'eval_acc': [0.5118343195266272, 0.4378698224852071], 'eval_f1': [0.48093357726718305, 0.41302173880302856], 'rank, alpha': [8, 16]}\n",
      "### ### ### ### ### ### ### ### ### ### \n"
     ]
    }
   ],
   "source": [
    "g = 8\n",
    "lr = 5.0e-5\n",
    "wd = 0.0\n",
    "alphas = [8, 16]\n",
    "ranks = [8, 16]\n",
    "lora_dropout = 0.0\n",
    "\n",
    "\n",
    "for a,r in zip(alphas, ranks):\n",
    "    print(f'Grid search {model_checkpoint}, learning rate {lr} focal loss, gamma: {g} wd: {wd}, Lora alpha {a}, rank {r}')\n",
    "    data = ClimateDataset(model_to_train=3,model_checkpoint=model_checkpoint,dataset_url=flicc_path,batch_size=32)\n",
    "    data.setup_dataloaders()\n",
    "    model = ClassificationModel(model_checkpoint=data.model_checkpoint,\n",
    "                            num_labels=data.num_labels,\n",
    "                            lora=True,\n",
    "                            r=r,\n",
    "                            alpha=a,\n",
    "                            dropout=lora_dropout)\n",
    "    trainer = Engine(epochs=30,labels=data.labels)\n",
    "    trainer.model = model.model\n",
    "    trainer.dataset_encoded = data.dataset_encoded\n",
    "    test_acc, test_f1, eval_acc, eval_f1 = trainer.run(lr=lr,\n",
    "                          wd=wd,\n",
    "                          train_dataloader=data.train_dataloader,\n",
    "                          eval_dataloader=data.eval_dataloader,\n",
    "                          test_dataloader=data.test_dataloader,\n",
    "                          focalloss=True,\n",
    "                          gamma=g,\n",
    "                          early_stop=3)\n",
    "    results['test_acc'].append(test_acc)\n",
    "    results['test_f1'].append(test_f1)\n",
    "    results['eval_acc'].append(eval_acc)\n",
    "    results['eval_f1'].append(eval_f1)\n",
    "    results['rank, alpha'].append(r)\n",
    "    print('### '*10)\n",
    "    print(results)\n",
    "    print('### '*10)\n",
    "    with torch.no_grad():\n",
    "        torch.cuda.empty_cache()\n",
    "    del data, model, trainer, test_acc, test_f1, eval_acc, eval_f1\n",
    "    gc.collect()"
   ]
  },
  {
   "cell_type": "code",
   "execution_count": 5,
   "metadata": {},
   "outputs": [
    {
     "data": {
      "image/png": "[encoded data removed]",
      "text/plain": [
       "<Figure size 640x480 with 1 Axes>"
      ]
     },
     "metadata": {},
     "output_type": "display_data"
    }
   ],
   "source": [
    "Engine.plot_grid_search(df=results,\n",
    "                        title=f'LORA, lr: {lr}, focal loss gamma {g} {model_checkpoint}',\n",
    "                        column='rank, alpha',\n",
    "                        sci_format=False)"
   ]
  },
  {
   "cell_type": "code",
   "execution_count": 6,
   "metadata": {},
   "outputs": [],
   "source": [
    "%reset -f"
   ]
  }
 ],
 "metadata": {
  "kernelspec": {
   "display_name": "Python 3",
   "language": "python",
   "name": "python3"
  },
  "language_info": {
   "codemirror_mode": {
    "name": "ipython",
    "version": 3
   },
   "file_extension": ".py",
   "mimetype": "text/x-python",
   "name": "python",
   "nbconvert_exporter": "python",
   "pygments_lexer": "ipython3",
   "version": "3.11.5"
  },
  "orig_nbformat": 4
 },
 "nbformat": 4,
 "nbformat_minor": 2
}
