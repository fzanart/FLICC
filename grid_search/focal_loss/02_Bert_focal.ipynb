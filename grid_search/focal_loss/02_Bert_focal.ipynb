{
 "cells": [
  {
   "cell_type": "code",
   "execution_count": 1,
   "metadata": {},
   "outputs": [],
   "source": [
    "import torch\n",
    "from data import ClimateDataset\n",
    "from models import ClassificationModel\n",
    "from engine import Engine"
   ]
  },
  {
   "cell_type": "code",
   "execution_count": 2,
   "metadata": {},
   "outputs": [],
   "source": [
    "model_checkpoint='bert-base-uncased'"
   ]
  },
  {
   "cell_type": "code",
   "execution_count": 3,
   "metadata": {},
   "outputs": [],
   "source": [
    "results = {'acc':[],\n",
    "           'f1':[],\n",
    "           'g':[]}"
   ]
  },
  {
   "cell_type": "code",
   "execution_count": 4,
   "metadata": {},
   "outputs": [
    {
     "name": "stdout",
     "output_type": "stream",
     "text": [
      "Grid search bert-base-uncased, lr: 0.0001 ,focal loss, gamma: 2\n"
     ]
    },
    {
     "name": "stderr",
     "output_type": "stream",
     "text": [
      "Some weights of BertForSequenceClassification were not initialized from the model checkpoint at bert-base-uncased and are newly initialized: ['classifier.weight', 'classifier.bias']\n",
      "You should probably TRAIN this model on a down-stream task to be able to use it for predictions and inference.\n",
      "You're using a BertTokenizerFast tokenizer. Please note that with a fast tokenizer, using the `__call__` method is faster than using a method to encode the text followed by a call to the `pad` method to get a padded encoding.\n"
     ]
    },
    {
     "name": "stdout",
     "output_type": "stream",
     "text": [
      "1 / 10: Train Loss:\t0.3152\tVal Loss:\t0.5749\tAccuracy:\t0.7571\tF1:\t0.7170\n",
      "2 / 10: Train Loss:\t0.2121\tVal Loss:\t0.4333\tAccuracy:\t0.8337\tF1:\t0.7817\n",
      "3 / 10: Train Loss:\t0.1305\tVal Loss:\t0.4109\tAccuracy:\t0.8315\tF1:\t0.7906\n",
      "4 / 10: Train Loss:\t0.0795\tVal Loss:\t0.3753\tAccuracy:\t0.8534\tF1:\t0.7963\n",
      "5 / 10: Train Loss:\t0.0816\tVal Loss:\t0.6226\tAccuracy:\t0.6127\tF1:\t0.6054\n",
      "6 / 10: Train Loss:\t0.0805\tVal Loss:\t0.4723\tAccuracy:\t0.7702\tF1:\t0.7425\n",
      "7 / 10: Train Loss:\t0.0535\tVal Loss:\t0.3987\tAccuracy:\t0.8337\tF1:\t0.7475\n",
      "No improvement for 3 epochs. Stopping early.\n",
      "best (higgest macro f1-score) val results:\n",
      "              precision    recall  f1-score   support\n",
      "\n",
      "       bknow       0.80      0.48      0.60       119\n",
      "      struct       0.84      0.96      0.90       338\n",
      "\n",
      "    accuracy                           0.83       457\n",
      "   macro avg       0.82      0.72      0.75       457\n",
      "weighted avg       0.83      0.83      0.82       457\n",
      "\n",
      "test results:\n",
      "              precision    recall  f1-score   support\n",
      "\n",
      "       bknow       0.86      0.54      0.66        67\n",
      "      struct       0.86      0.97      0.91       189\n",
      "\n",
      "    accuracy                           0.86       256\n",
      "   macro avg       0.86      0.75      0.78       256\n",
      "weighted avg       0.86      0.86      0.84       256\n",
      "\n",
      "### ### ### ### ### ### ### ### ### ### \n",
      "{'acc': [0.85546875], 'f1': [0.7843695221617685], 'g': [2]}\n",
      "### ### ### ### ### ### ### ### ### ### \n",
      "Grid search bert-base-uncased, lr: 0.0001 ,focal loss, gamma: 4\n"
     ]
    },
    {
     "name": "stderr",
     "output_type": "stream",
     "text": [
      "Some weights of BertForSequenceClassification were not initialized from the model checkpoint at bert-base-uncased and are newly initialized: ['classifier.weight', 'classifier.bias']\n",
      "You should probably TRAIN this model on a down-stream task to be able to use it for predictions and inference.\n",
      "You're using a BertTokenizerFast tokenizer. Please note that with a fast tokenizer, using the `__call__` method is faster than using a method to encode the text followed by a call to the `pad` method to get a padded encoding.\n"
     ]
    },
    {
     "name": "stdout",
     "output_type": "stream",
     "text": [
      "1 / 10: Train Loss:\t0.0856\tVal Loss:\t0.6072\tAccuracy:\t0.7746\tF1:\t0.7238\n",
      "2 / 10: Train Loss:\t0.0781\tVal Loss:\t0.5450\tAccuracy:\t0.8271\tF1:\t0.7516\n",
      "3 / 10: Train Loss:\t0.0521\tVal Loss:\t0.5129\tAccuracy:\t0.8512\tF1:\t0.8001\n",
      "4 / 10: Train Loss:\t0.0323\tVal Loss:\t0.6424\tAccuracy:\t0.6411\tF1:\t0.6323\n",
      "5 / 10: Train Loss:\t0.0230\tVal Loss:\t0.7375\tAccuracy:\t0.6236\tF1:\t0.6173\n",
      "6 / 10: Train Loss:\t0.0185\tVal Loss:\t0.4342\tAccuracy:\t0.8096\tF1:\t0.7656\n",
      "No improvement for 3 epochs. Stopping early.\n",
      "best (higgest macro f1-score) val results:\n",
      "              precision    recall  f1-score   support\n",
      "\n",
      "       bknow       0.61      0.72      0.66       119\n",
      "      struct       0.90      0.84      0.87       338\n",
      "\n",
      "    accuracy                           0.81       457\n",
      "   macro avg       0.76      0.78      0.77       457\n",
      "weighted avg       0.82      0.81      0.81       457\n",
      "\n",
      "test results:\n",
      "              precision    recall  f1-score   support\n",
      "\n",
      "       bknow       0.62      0.75      0.68        67\n",
      "      struct       0.90      0.84      0.87       189\n",
      "\n",
      "    accuracy                           0.82       256\n",
      "   macro avg       0.76      0.79      0.78       256\n",
      "weighted avg       0.83      0.82      0.82       256\n",
      "\n",
      "### ### ### ### ### ### ### ### ### ### \n",
      "{'acc': [0.85546875, 0.81640625], 'f1': [0.7843695221617685, 0.7757524927779331], 'g': [2, 4]}\n",
      "### ### ### ### ### ### ### ### ### ### \n",
      "Grid search bert-base-uncased, lr: 0.0001 ,focal loss, gamma: 8\n"
     ]
    },
    {
     "name": "stderr",
     "output_type": "stream",
     "text": [
      "Some weights of BertForSequenceClassification were not initialized from the model checkpoint at bert-base-uncased and are newly initialized: ['classifier.weight', 'classifier.bias']\n",
      "You should probably TRAIN this model on a down-stream task to be able to use it for predictions and inference.\n",
      "You're using a BertTokenizerFast tokenizer. Please note that with a fast tokenizer, using the `__call__` method is faster than using a method to encode the text followed by a call to the `pad` method to get a padded encoding.\n"
     ]
    },
    {
     "name": "stdout",
     "output_type": "stream",
     "text": [
      "1 / 10: Train Loss:\t0.0060\tVal Loss:\t0.6436\tAccuracy:\t0.7790\tF1:\t0.7240\n",
      "2 / 10: Train Loss:\t0.0038\tVal Loss:\t0.6296\tAccuracy:\t0.7702\tF1:\t0.7390\n",
      "3 / 10: Train Loss:\t0.0034\tVal Loss:\t0.4770\tAccuracy:\t0.8359\tF1:\t0.7625\n",
      "4 / 10: Train Loss:\t0.0050\tVal Loss:\t0.6429\tAccuracy:\t0.7396\tF1:\t0.4252\n",
      "5 / 10: Train Loss:\t0.0028\tVal Loss:\t0.4871\tAccuracy:\t0.8446\tF1:\t0.7613\n",
      "6 / 10: Train Loss:\t0.0012\tVal Loss:\t0.5453\tAccuracy:\t0.7768\tF1:\t0.7452\n",
      "No improvement for 3 epochs. Stopping early.\n",
      "best (higgest macro f1-score) val results:\n",
      "              precision    recall  f1-score   support\n",
      "\n",
      "       bknow       0.55      0.82      0.66       119\n",
      "      struct       0.92      0.76      0.83       338\n",
      "\n",
      "    accuracy                           0.78       457\n",
      "   macro avg       0.73      0.79      0.75       457\n",
      "weighted avg       0.82      0.78      0.79       457\n",
      "\n",
      "test results:\n",
      "              precision    recall  f1-score   support\n",
      "\n",
      "       bknow       0.52      0.81      0.64        67\n",
      "      struct       0.92      0.74      0.82       189\n",
      "\n",
      "    accuracy                           0.76       256\n",
      "   macro avg       0.72      0.77      0.73       256\n",
      "weighted avg       0.81      0.76      0.77       256\n",
      "\n",
      "### ### ### ### ### ### ### ### ### ### \n",
      "{'acc': [0.85546875, 0.81640625, 0.7578125], 'f1': [0.7843695221617685, 0.7757524927779331, 0.7270037839697283], 'g': [2, 4, 8]}\n",
      "### ### ### ### ### ### ### ### ### ### \n",
      "Grid search bert-base-uncased, lr: 0.0001 ,focal loss, gamma: 16\n"
     ]
    },
    {
     "name": "stderr",
     "output_type": "stream",
     "text": [
      "Some weights of BertForSequenceClassification were not initialized from the model checkpoint at bert-base-uncased and are newly initialized: ['classifier.weight', 'classifier.bias']\n",
      "You should probably TRAIN this model on a down-stream task to be able to use it for predictions and inference.\n",
      "You're using a BertTokenizerFast tokenizer. Please note that with a fast tokenizer, using the `__call__` method is faster than using a method to encode the text followed by a call to the `pad` method to get a padded encoding.\n"
     ]
    },
    {
     "name": "stdout",
     "output_type": "stream",
     "text": [
      "1 / 10: Train Loss:\t0.0000\tVal Loss:\t0.6792\tAccuracy:\t0.6871\tF1:\t0.6622\n",
      "2 / 10: Train Loss:\t0.0000\tVal Loss:\t0.6638\tAccuracy:\t0.7965\tF1:\t0.7611\n",
      "3 / 10: Train Loss:\t0.0000\tVal Loss:\t0.6616\tAccuracy:\t0.6543\tF1:\t0.6442\n",
      "4 / 10: Train Loss:\t0.0000\tVal Loss:\t0.6447\tAccuracy:\t0.8053\tF1:\t0.7713\n",
      "5 / 10: Train Loss:\t0.0000\tVal Loss:\t0.6924\tAccuracy:\t0.4945\tF1:\t0.4944\n",
      "6 / 10: Train Loss:\t0.0000\tVal Loss:\t0.6675\tAccuracy:\t0.6674\tF1:\t0.6549\n",
      "7 / 10: Train Loss:\t0.0000\tVal Loss:\t0.6050\tAccuracy:\t0.8206\tF1:\t0.7720\n",
      "8 / 10: Train Loss:\t0.0000\tVal Loss:\t0.6137\tAccuracy:\t0.7746\tF1:\t0.7431\n",
      "9 / 10: Train Loss:\t0.0000\tVal Loss:\t0.5663\tAccuracy:\t0.8293\tF1:\t0.7808\n",
      "10 / 10: Train Loss:\t0.0000\tVal Loss:\t0.6287\tAccuracy:\t0.6740\tF1:\t0.6596\n",
      "best (higgest macro f1-score) val results:\n",
      "              precision    recall  f1-score   support\n",
      "\n",
      "       bknow       0.44      0.90      0.59       119\n",
      "      struct       0.94      0.59      0.73       338\n",
      "\n",
      "    accuracy                           0.67       457\n",
      "   macro avg       0.69      0.75      0.66       457\n",
      "weighted avg       0.81      0.67      0.69       457\n",
      "\n",
      "test results:\n",
      "              precision    recall  f1-score   support\n",
      "\n",
      "       bknow       0.43      0.91      0.58        67\n",
      "      struct       0.95      0.57      0.71       189\n",
      "\n",
      "    accuracy                           0.66       256\n",
      "   macro avg       0.69      0.74      0.64       256\n",
      "weighted avg       0.81      0.66      0.68       256\n",
      "\n",
      "### ### ### ### ### ### ### ### ### ### \n",
      "{'acc': [0.85546875, 0.81640625, 0.7578125, 0.65625], 'f1': [0.7843695221617685, 0.7757524927779331, 0.7270037839697283, 0.6447808262377799], 'g': [2, 4, 8, 16]}\n",
      "### ### ### ### ### ### ### ### ### ### \n"
     ]
    }
   ],
   "source": [
    "gamma = [2,4,8,16]\n",
    "lr = 1.0e-4\n",
    "for g in gamma:\n",
    "    print(f'Grid search {model_checkpoint}, lr: {lr} ,focal loss, gamma: {g}')\n",
    "    data = ClimateDataset(model_to_train=1,model_checkpoint=model_checkpoint,batch_size=32)\n",
    "    data.setup_dataloaders()\n",
    "    model = ClassificationModel(model_checkpoint=data.model_checkpoint,num_labels=data.num_labels)\n",
    "    trainer = Engine(epochs=10,labels=data.labels)\n",
    "    trainer.model = model.model\n",
    "    trainer.dataset_encoded = data.dataset_encoded\n",
    "    acc, f1 = trainer.run(lr=lr,\n",
    "                          wd=0.0,\n",
    "                          train_dataloader=data.train_dataloader,\n",
    "                          eval_dataloader=data.eval_dataloader,\n",
    "                          test_dataloader=data.test_dataloader,\n",
    "                          focalloss=True,\n",
    "                          early_stop=3,\n",
    "                          gamma=g)\n",
    "    results['acc'].append(acc)\n",
    "    results['f1'].append(f1)\n",
    "    results['g'].append(g)\n",
    "    print('### '*10)\n",
    "    print(results)\n",
    "    print('### '*10)\n",
    "    with torch.no_grad():\n",
    "        torch.cuda.empty_cache()\n",
    "    del data, model, trainer, acc, f1"
   ]
  },
  {
   "cell_type": "code",
   "execution_count": 5,
   "metadata": {},
   "outputs": [],
   "source": [
    "import matplotlib.pyplot as plt\n",
    "import seaborn as sns\n",
    "import pandas as pd"
   ]
  },
  {
   "cell_type": "code",
   "execution_count": 6,
   "metadata": {},
   "outputs": [
    {
     "data": {
      "image/png": "[encoded data removed]",
      "text/plain": [
       "<Figure size 640x480 with 1 Axes>"
      ]
     },
     "metadata": {},
     "output_type": "display_data"
    }
   ],
   "source": [
    "def plot_grid_search(df, title):\n",
    "\n",
    "    # Create the plot\n",
    "    ax = df.plot(x='g', y=['acc', 'f1'], marker='o', linestyle='-')\n",
    "\n",
    "    # Set y-axis range between 0 and 1\n",
    "    plt.ylim(0, 1)\n",
    "\n",
    "    # Annotate points with F1 scores\n",
    "    for i, row in df.iterrows(): \n",
    "        ax.annotate(f'{row[\"f1\"]:.2f}', (row[\"g\"], row[\"f1\"]), textcoords='offset points', xytext=(0, -10), ha='center')\n",
    "\n",
    "    # Annotate points with Acc scores\n",
    "    for i, row in df.iterrows():\n",
    "        ax.annotate(f'{row[\"acc\"]:.2f}', (row[\"g\"], row[\"acc\"]), textcoords='offset points', xytext=(0, 10), ha='center')\n",
    "    \n",
    "    # \n",
    "    plt.xticks(df['g'], [val for val in df['g']], ha='center')\n",
    "    # plt.xscale('log')\n",
    "    plt.minorticks_off()\n",
    "\n",
    "    plt.title(title)\n",
    "    plt.xlabel('gamma')\n",
    "    plt.ylabel('Score')\n",
    "    plt.show()\n",
    "\n",
    "plot_grid_search(pd.DataFrame(results), f'Focal loss, lr: 1.0e-4 {model_checkpoint}')"
   ]
  }
 ],
 "metadata": {
  "kernelspec": {
   "display_name": "Python 3",
   "language": "python",
   "name": "python3"
  },
  "language_info": {
   "codemirror_mode": {
    "name": "ipython",
    "version": 3
   },
   "file_extension": ".py",
   "mimetype": "text/x-python",
   "name": "python",
   "nbconvert_exporter": "python",
   "pygments_lexer": "ipython3",
   "version": "3.8.17"
  },
  "orig_nbformat": 4
 },
 "nbformat": 4,
 "nbformat_minor": 2
}
