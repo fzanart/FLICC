{
 "cells": [
  {
   "cell_type": "code",
   "execution_count": 1,
   "metadata": {},
   "outputs": [],
   "source": [
    "import torch\n",
    "from data import ClimateDataset\n",
    "from models import ClassificationModel\n",
    "from engine import Engine"
   ]
  },
  {
   "cell_type": "code",
   "execution_count": 2,
   "metadata": {},
   "outputs": [],
   "source": [
    "model_checkpoint='microsoft/deberta-base'"
   ]
  },
  {
   "cell_type": "code",
   "execution_count": 3,
   "metadata": {},
   "outputs": [],
   "source": [
    "results = {'acc':[],\n",
    "           'f1':[],\n",
    "           'g':[]}"
   ]
  },
  {
   "cell_type": "code",
   "execution_count": 4,
   "metadata": {},
   "outputs": [
    {
     "name": "stdout",
     "output_type": "stream",
     "text": [
      "Grid search microsoft/deberta-base, lr: 1e-05 ,focal loss, gamma: 2\n"
     ]
    },
    {
     "data": {
      "application/vnd.jupyter.widget-view+json": {
       "model_id": "d092387d29c64b718edf3344e90f9ae3",
       "version_major": 2,
       "version_minor": 0
      },
      "text/plain": [
       "Downloading (…)okenizer_config.json:   0%|          | 0.00/52.0 [00:00<?, ?B/s]"
      ]
     },
     "metadata": {},
     "output_type": "display_data"
    },
    {
     "data": {
      "application/vnd.jupyter.widget-view+json": {
       "model_id": "bb4f6f176097493fbf87b0c1f5ec9685",
       "version_major": 2,
       "version_minor": 0
      },
      "text/plain": [
       "Downloading (…)lve/main/config.json:   0%|          | 0.00/474 [00:00<?, ?B/s]"
      ]
     },
     "metadata": {},
     "output_type": "display_data"
    },
    {
     "data": {
      "application/vnd.jupyter.widget-view+json": {
       "model_id": "8ff172ca3f514f058c2b8cbf7c11e76f",
       "version_major": 2,
       "version_minor": 0
      },
      "text/plain": [
       "Downloading (…)olve/main/vocab.json:   0%|          | 0.00/899k [00:00<?, ?B/s]"
      ]
     },
     "metadata": {},
     "output_type": "display_data"
    },
    {
     "data": {
      "application/vnd.jupyter.widget-view+json": {
       "model_id": "340949cbd1d849c7a98405fd4b3a841b",
       "version_major": 2,
       "version_minor": 0
      },
      "text/plain": [
       "Downloading (…)olve/main/merges.txt:   0%|          | 0.00/456k [00:00<?, ?B/s]"
      ]
     },
     "metadata": {},
     "output_type": "display_data"
    },
    {
     "data": {
      "application/vnd.jupyter.widget-view+json": {
       "model_id": "28862f6566994026a4c2dba00f67ac1a",
       "version_major": 2,
       "version_minor": 0
      },
      "text/plain": [
       "Map:   0%|          | 0/1796 [00:00<?, ? examples/s]"
      ]
     },
     "metadata": {},
     "output_type": "display_data"
    },
    {
     "data": {
      "application/vnd.jupyter.widget-view+json": {
       "model_id": "ce2a8c79a7b64e689f323d934bde3758",
       "version_major": 2,
       "version_minor": 0
      },
      "text/plain": [
       "Map:   0%|          | 0/256 [00:00<?, ? examples/s]"
      ]
     },
     "metadata": {},
     "output_type": "display_data"
    },
    {
     "data": {
      "application/vnd.jupyter.widget-view+json": {
       "model_id": "8ae3262835294c98a3a81e31edb86cec",
       "version_major": 2,
       "version_minor": 0
      },
      "text/plain": [
       "Map:   0%|          | 0/457 [00:00<?, ? examples/s]"
      ]
     },
     "metadata": {},
     "output_type": "display_data"
    },
    {
     "data": {
      "application/vnd.jupyter.widget-view+json": {
       "model_id": "4f41ed87ff354bb0b2ded268d761ae0f",
       "version_major": 2,
       "version_minor": 0
      },
      "text/plain": [
       "Downloading pytorch_model.bin:   0%|          | 0.00/559M [00:00<?, ?B/s]"
      ]
     },
     "metadata": {},
     "output_type": "display_data"
    },
    {
     "name": "stderr",
     "output_type": "stream",
     "text": [
      "Some weights of DebertaForSequenceClassification were not initialized from the model checkpoint at microsoft/deberta-base and are newly initialized: ['classifier.bias', 'pooler.dense.bias', 'pooler.dense.weight', 'classifier.weight']\n",
      "You should probably TRAIN this model on a down-stream task to be able to use it for predictions and inference.\n",
      "You're using a DebertaTokenizerFast tokenizer. Please note that with a fast tokenizer, using the `__call__` method is faster than using a method to encode the text followed by a call to the `pad` method to get a padded encoding.\n"
     ]
    },
    {
     "name": "stdout",
     "output_type": "stream",
     "text": [
      "1 / 10: Train Loss:\t0.3412\tVal Loss:\t0.6547\tAccuracy:\t0.7352\tF1:\t0.6879\n",
      "2 / 10: Train Loss:\t0.3291\tVal Loss:\t0.6302\tAccuracy:\t0.7702\tF1:\t0.6675\n",
      "3 / 10: Train Loss:\t0.3052\tVal Loss:\t0.6368\tAccuracy:\t0.7002\tF1:\t0.6788\n",
      "4 / 10: Train Loss:\t0.2591\tVal Loss:\t0.5722\tAccuracy:\t0.7330\tF1:\t0.7041\n",
      "5 / 10: Train Loss:\t0.1999\tVal Loss:\t0.4963\tAccuracy:\t0.7746\tF1:\t0.7404\n",
      "6 / 10: Train Loss:\t0.1467\tVal Loss:\t0.4176\tAccuracy:\t0.7943\tF1:\t0.7550\n",
      "7 / 10: Train Loss:\t0.1002\tVal Loss:\t0.4032\tAccuracy:\t0.8118\tF1:\t0.7667\n",
      "8 / 10: Train Loss:\t0.0769\tVal Loss:\t0.4683\tAccuracy:\t0.7790\tF1:\t0.7490\n",
      "9 / 10: Train Loss:\t0.0556\tVal Loss:\t0.5982\tAccuracy:\t0.7177\tF1:\t0.6945\n",
      "10 / 10: Train Loss:\t0.0459\tVal Loss:\t0.3779\tAccuracy:\t0.8512\tF1:\t0.8109\n",
      "best (higgest macro f1-score) val results:\n",
      "              precision    recall  f1-score   support\n",
      "\n",
      "       bknow       0.70      0.75      0.72       119\n",
      "      struct       0.91      0.89      0.90       338\n",
      "\n",
      "    accuracy                           0.85       457\n",
      "   macro avg       0.80      0.82      0.81       457\n",
      "weighted avg       0.85      0.85      0.85       457\n",
      "\n",
      "test results:\n",
      "              precision    recall  f1-score   support\n",
      "\n",
      "       bknow       0.61      0.64      0.62        67\n",
      "      struct       0.87      0.85      0.86       189\n",
      "\n",
      "    accuracy                           0.80       256\n",
      "   macro avg       0.74      0.75      0.74       256\n",
      "weighted avg       0.80      0.80      0.80       256\n",
      "\n",
      "### ### ### ### ### ### ### ### ### ### \n",
      "{'acc': [0.796875], 'f1': [0.7420754863210106], 'g': [2]}\n",
      "### ### ### ### ### ### ### ### ### ### \n",
      "Grid search microsoft/deberta-base, lr: 1e-05 ,focal loss, gamma: 4\n"
     ]
    },
    {
     "data": {
      "application/vnd.jupyter.widget-view+json": {
       "model_id": "87304f5958a8418ca459e23136d305e5",
       "version_major": 2,
       "version_minor": 0
      },
      "text/plain": [
       "Map:   0%|          | 0/256 [00:00<?, ? examples/s]"
      ]
     },
     "metadata": {},
     "output_type": "display_data"
    },
    {
     "name": "stderr",
     "output_type": "stream",
     "text": [
      "Some weights of DebertaForSequenceClassification were not initialized from the model checkpoint at microsoft/deberta-base and are newly initialized: ['classifier.bias', 'pooler.dense.bias', 'pooler.dense.weight', 'classifier.weight']\n",
      "You should probably TRAIN this model on a down-stream task to be able to use it for predictions and inference.\n",
      "You're using a DebertaTokenizerFast tokenizer. Please note that with a fast tokenizer, using the `__call__` method is faster than using a method to encode the text followed by a call to the `pad` method to get a padded encoding.\n"
     ]
    },
    {
     "name": "stdout",
     "output_type": "stream",
     "text": [
      "1 / 10: Train Loss:\t0.0873\tVal Loss:\t0.7005\tAccuracy:\t0.2691\tF1:\t0.2197\n",
      "2 / 10: Train Loss:\t0.0813\tVal Loss:\t0.6667\tAccuracy:\t0.7287\tF1:\t0.6820\n",
      "3 / 10: Train Loss:\t0.0763\tVal Loss:\t0.6642\tAccuracy:\t0.7790\tF1:\t0.7212\n",
      "4 / 10: Train Loss:\t0.0726\tVal Loss:\t0.5660\tAccuracy:\t0.7505\tF1:\t0.7162\n",
      "5 / 10: Train Loss:\t0.0614\tVal Loss:\t0.5999\tAccuracy:\t0.7877\tF1:\t0.7399\n",
      "6 / 10: Train Loss:\t0.0567\tVal Loss:\t0.6375\tAccuracy:\t0.6740\tF1:\t0.6596\n",
      "7 / 10: Train Loss:\t0.0498\tVal Loss:\t0.5458\tAccuracy:\t0.8271\tF1:\t0.7820\n",
      "8 / 10: Train Loss:\t0.0420\tVal Loss:\t0.4945\tAccuracy:\t0.7921\tF1:\t0.7549\n",
      "9 / 10: Train Loss:\t0.0308\tVal Loss:\t0.4939\tAccuracy:\t0.7834\tF1:\t0.7504\n",
      "10 / 10: Train Loss:\t0.0216\tVal Loss:\t0.4522\tAccuracy:\t0.7987\tF1:\t0.7650\n",
      "No improvement for 3 epochs. Stopping early.\n",
      "best (higgest macro f1-score) val results:\n",
      "              precision    recall  f1-score   support\n",
      "\n",
      "       bknow       0.58      0.81      0.68       119\n",
      "      struct       0.92      0.80      0.85       338\n",
      "\n",
      "    accuracy                           0.80       457\n",
      "   macro avg       0.75      0.80      0.77       457\n",
      "weighted avg       0.83      0.80      0.81       457\n",
      "\n",
      "test results:\n",
      "              precision    recall  f1-score   support\n",
      "\n",
      "       bknow       0.50      0.78      0.60        67\n",
      "      struct       0.90      0.72      0.80       189\n",
      "\n",
      "    accuracy                           0.73       256\n",
      "   macro avg       0.70      0.75      0.70       256\n",
      "weighted avg       0.79      0.73      0.75       256\n",
      "\n",
      "### ### ### ### ### ### ### ### ### ### \n",
      "{'acc': [0.796875, 0.734375], 'f1': [0.7420754863210106, 0.7023255813953488], 'g': [2, 4]}\n",
      "### ### ### ### ### ### ### ### ### ### \n",
      "Grid search microsoft/deberta-base, lr: 1e-05 ,focal loss, gamma: 8\n"
     ]
    },
    {
     "data": {
      "application/vnd.jupyter.widget-view+json": {
       "model_id": "95f99f18a5f148ddbed21b0daf4bfd86",
       "version_major": 2,
       "version_minor": 0
      },
      "text/plain": [
       "Map:   0%|          | 0/457 [00:00<?, ? examples/s]"
      ]
     },
     "metadata": {},
     "output_type": "display_data"
    },
    {
     "name": "stderr",
     "output_type": "stream",
     "text": [
      "Some weights of DebertaForSequenceClassification were not initialized from the model checkpoint at microsoft/deberta-base and are newly initialized: ['classifier.bias', 'pooler.dense.bias', 'pooler.dense.weight', 'classifier.weight']\n",
      "You should probably TRAIN this model on a down-stream task to be able to use it for predictions and inference.\n",
      "You're using a DebertaTokenizerFast tokenizer. Please note that with a fast tokenizer, using the `__call__` method is faster than using a method to encode the text followed by a call to the `pad` method to get a padded encoding.\n"
     ]
    },
    {
     "name": "stdout",
     "output_type": "stream",
     "text": [
      "1 / 10: Train Loss:\t0.0057\tVal Loss:\t0.6969\tAccuracy:\t0.4179\tF1:\t0.4127\n",
      "2 / 10: Train Loss:\t0.0053\tVal Loss:\t0.6856\tAccuracy:\t0.6674\tF1:\t0.6405\n",
      "3 / 10: Train Loss:\t0.0050\tVal Loss:\t0.6783\tAccuracy:\t0.6740\tF1:\t0.6480\n",
      "4 / 10: Train Loss:\t0.0044\tVal Loss:\t0.6446\tAccuracy:\t0.7484\tF1:\t0.7057\n",
      "5 / 10: Train Loss:\t0.0041\tVal Loss:\t0.6222\tAccuracy:\t0.7768\tF1:\t0.7308\n",
      "6 / 10: Train Loss:\t0.0043\tVal Loss:\t0.6404\tAccuracy:\t0.7790\tF1:\t0.7279\n",
      "7 / 10: Train Loss:\t0.0037\tVal Loss:\t0.6192\tAccuracy:\t0.7856\tF1:\t0.7457\n",
      "8 / 10: Train Loss:\t0.0032\tVal Loss:\t0.5989\tAccuracy:\t0.7943\tF1:\t0.7508\n",
      "9 / 10: Train Loss:\t0.0030\tVal Loss:\t0.6019\tAccuracy:\t0.8009\tF1:\t0.7613\n",
      "10 / 10: Train Loss:\t0.0023\tVal Loss:\t0.5519\tAccuracy:\t0.7987\tF1:\t0.7641\n",
      "best (higgest macro f1-score) val results:\n",
      "              precision    recall  f1-score   support\n",
      "\n",
      "       bknow       0.58      0.80      0.67       119\n",
      "      struct       0.92      0.80      0.85       338\n",
      "\n",
      "    accuracy                           0.80       457\n",
      "   macro avg       0.75      0.80      0.76       457\n",
      "weighted avg       0.83      0.80      0.81       457\n",
      "\n",
      "test results:\n",
      "              precision    recall  f1-score   support\n",
      "\n",
      "       bknow       0.52      0.72      0.60        67\n",
      "      struct       0.88      0.76      0.82       189\n",
      "\n",
      "    accuracy                           0.75       256\n",
      "   macro avg       0.70      0.74      0.71       256\n",
      "weighted avg       0.79      0.75      0.76       256\n",
      "\n",
      "### ### ### ### ### ### ### ### ### ### \n",
      "{'acc': [0.796875, 0.734375, 0.75], 'f1': [0.7420754863210106, 0.7023255813953488, 0.7090909090909091], 'g': [2, 4, 8]}\n",
      "### ### ### ### ### ### ### ### ### ### \n",
      "Grid search microsoft/deberta-base, lr: 1e-05 ,focal loss, gamma: 16\n"
     ]
    },
    {
     "name": "stderr",
     "output_type": "stream",
     "text": [
      "Some weights of DebertaForSequenceClassification were not initialized from the model checkpoint at microsoft/deberta-base and are newly initialized: ['classifier.bias', 'pooler.dense.bias', 'pooler.dense.weight', 'classifier.weight']\n",
      "You should probably TRAIN this model on a down-stream task to be able to use it for predictions and inference.\n",
      "You're using a DebertaTokenizerFast tokenizer. Please note that with a fast tokenizer, using the `__call__` method is faster than using a method to encode the text followed by a call to the `pad` method to get a padded encoding.\n"
     ]
    },
    {
     "name": "stdout",
     "output_type": "stream",
     "text": [
      "1 / 10: Train Loss:\t0.0000\tVal Loss:\t0.6892\tAccuracy:\t0.6039\tF1:\t0.5864\n",
      "2 / 10: Train Loss:\t0.0000\tVal Loss:\t0.6858\tAccuracy:\t0.6630\tF1:\t0.6376\n",
      "3 / 10: Train Loss:\t0.0000\tVal Loss:\t0.6852\tAccuracy:\t0.7702\tF1:\t0.7087\n",
      "4 / 10: Train Loss:\t0.0000\tVal Loss:\t0.6777\tAccuracy:\t0.6915\tF1:\t0.6652\n",
      "5 / 10: Train Loss:\t0.0000\tVal Loss:\t0.6715\tAccuracy:\t0.7155\tF1:\t0.6856\n",
      "6 / 10: Train Loss:\t0.0000\tVal Loss:\t0.6645\tAccuracy:\t0.6783\tF1:\t0.6570\n",
      "No improvement for 3 epochs. Stopping early.\n",
      "best (higgest macro f1-score) val results:\n",
      "              precision    recall  f1-score   support\n",
      "\n",
      "       bknow       0.44      0.82      0.57       119\n",
      "      struct       0.91      0.63      0.74       338\n",
      "\n",
      "    accuracy                           0.68       457\n",
      "   macro avg       0.67      0.73      0.66       457\n",
      "weighted avg       0.79      0.68      0.70       457\n",
      "\n",
      "test results:\n",
      "              precision    recall  f1-score   support\n",
      "\n",
      "       bknow       0.41      0.75      0.53        67\n",
      "      struct       0.87      0.62      0.73       189\n",
      "\n",
      "    accuracy                           0.66       256\n",
      "   macro avg       0.64      0.69      0.63       256\n",
      "weighted avg       0.75      0.66      0.68       256\n",
      "\n",
      "### ### ### ### ### ### ### ### ### ### \n",
      "{'acc': [0.796875, 0.734375, 0.75, 0.65625], 'f1': [0.7420754863210106, 0.7023255813953488, 0.7090909090909091, 0.6301549776727082], 'g': [2, 4, 8, 16]}\n",
      "### ### ### ### ### ### ### ### ### ### \n"
     ]
    }
   ],
   "source": [
    "gamma = [2,4,8,16]\n",
    "lr = 1.0e-5\n",
    "for g in gamma:\n",
    "    print(f'Grid search {model_checkpoint}, lr: {lr} ,focal loss, gamma: {g}')\n",
    "    data = ClimateDataset(model_to_train=1,model_checkpoint=model_checkpoint,batch_size=32)\n",
    "    data.setup_dataloaders()\n",
    "    model = ClassificationModel(model_checkpoint=data.model_checkpoint,num_labels=data.num_labels)\n",
    "    trainer = Engine(epochs=10,labels=data.labels)\n",
    "    trainer.model = model.model\n",
    "    trainer.dataset_encoded = data.dataset_encoded\n",
    "    acc, f1 = trainer.run(lr=lr,\n",
    "                          wd=0.0,\n",
    "                          train_dataloader=data.train_dataloader,\n",
    "                          eval_dataloader=data.eval_dataloader,\n",
    "                          test_dataloader=data.test_dataloader,\n",
    "                          focalloss=True,\n",
    "                          early_stop=3,\n",
    "                          gamma=g)\n",
    "    results['acc'].append(acc)\n",
    "    results['f1'].append(f1)\n",
    "    results['g'].append(g)\n",
    "    print('### '*10)\n",
    "    print(results)\n",
    "    print('### '*10)\n",
    "    with torch.no_grad():\n",
    "        torch.cuda.empty_cache()\n",
    "    del data, model, trainer, acc, f1"
   ]
  },
  {
   "cell_type": "code",
   "execution_count": 5,
   "metadata": {},
   "outputs": [],
   "source": [
    "import matplotlib.pyplot as plt\n",
    "import seaborn as sns\n",
    "import pandas as pd"
   ]
  },
  {
   "cell_type": "code",
   "execution_count": 6,
   "metadata": {},
   "outputs": [
    {
     "data": {
      "image/png": "[encoded data removed]",
      "text/plain": [
       "<Figure size 640x480 with 1 Axes>"
      ]
     },
     "metadata": {},
     "output_type": "display_data"
    }
   ],
   "source": [
    "def plot_grid_search(df, title):\n",
    "\n",
    "    # Create the plot\n",
    "    ax = df.plot(x='g', y=['acc', 'f1'], marker='o', linestyle='-')\n",
    "\n",
    "    # Set y-axis range between 0 and 1\n",
    "    plt.ylim(0, 1)\n",
    "\n",
    "    # Annotate points with F1 scores\n",
    "    for i, row in df.iterrows(): \n",
    "        ax.annotate(f'{row[\"f1\"]:.2f}', (row[\"g\"], row[\"f1\"]), textcoords='offset points', xytext=(0, -10), ha='center')\n",
    "\n",
    "    # Annotate points with Acc scores\n",
    "    for i, row in df.iterrows():\n",
    "        ax.annotate(f'{row[\"acc\"]:.2f}', (row[\"g\"], row[\"acc\"]), textcoords='offset points', xytext=(0, 10), ha='center')\n",
    "    \n",
    "    # \n",
    "    plt.xticks(df['g'], [val for val in df['g']], ha='center')\n",
    "    # plt.xscale('log')\n",
    "    plt.minorticks_off()\n",
    "\n",
    "    plt.title(title)\n",
    "    plt.xlabel('gamma')\n",
    "    plt.ylabel('Score')\n",
    "    plt.show()\n",
    "\n",
    "plot_grid_search(pd.DataFrame(results), f'Focal loss, lr: 1.0e-4 {model_checkpoint}')"
   ]
  }
 ],
 "metadata": {
  "kernelspec": {
   "display_name": "Python 3",
   "language": "python",
   "name": "python3"
  },
  "language_info": {
   "codemirror_mode": {
    "name": "ipython",
    "version": 3
   },
   "file_extension": ".py",
   "mimetype": "text/x-python",
   "name": "python",
   "nbconvert_exporter": "python",
   "pygments_lexer": "ipython3",
   "version": "3.11.5"
  },
  "orig_nbformat": 4
 },
 "nbformat": 4,
 "nbformat_minor": 2
}
