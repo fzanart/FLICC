{
 "cells": [
  {
   "cell_type": "code",
   "execution_count": 7,
   "metadata": {},
   "outputs": [],
   "source": [
    "import os\n",
    "import sys\n",
    "import gc\n",
    "# assuming data, models, engine in flicc directory:\n",
    "flicc_path = os.path.realpath(\"__file__\").split('grid_search')[0]\n",
    "sys.path.append(flicc_path)\n",
    "import torch\n",
    "from data import ClimateDataset\n",
    "from models import ClassificationModel\n",
    "from engine import Engine"
   ]
  },
  {
   "cell_type": "code",
   "execution_count": 8,
   "metadata": {},
   "outputs": [],
   "source": [
    "model_checkpoint='bert-base-uncased'"
   ]
  },
  {
   "cell_type": "code",
   "execution_count": 9,
   "metadata": {},
   "outputs": [],
   "source": [
    "results = {'test_acc':[],\n",
    "           'test_f1':[],\n",
    "           'eval_acc':[],\n",
    "           'eval_f1':[],\n",
    "           'rank, alpha':[]}"
   ]
  },
  {
   "cell_type": "code",
   "execution_count": 10,
   "metadata": {},
   "outputs": [
    {
     "name": "stdout",
     "output_type": "stream",
     "text": [
      "Grid search bert-base-uncased, learning rate 5e-05 focal loss, gamma: 8 wd: 0.0, Lora alpha 8, rank 8\n"
     ]
    },
    {
     "name": "stderr",
     "output_type": "stream",
     "text": [
      "Some weights of BertForSequenceClassification were not initialized from the model checkpoint at bert-base-uncased and are newly initialized: ['classifier.weight', 'classifier.bias']\n",
      "You should probably TRAIN this model on a down-stream task to be able to use it for predictions and inference.\n",
      "You're using a BertTokenizerFast tokenizer. Please note that with a fast tokenizer, using the `__call__` method is faster than using a method to encode the text followed by a call to the `pad` method to get a padded encoding.\n"
     ]
    },
    {
     "name": "stdout",
     "output_type": "stream",
     "text": [
      "1 / 30: Train Loss:\t0.1582\tVal Loss:\t1.0980\tAccuracy:\t0.3613\tF1:\t0.3654\n",
      "2 / 30: Train Loss:\t0.1531\tVal Loss:\t1.0977\tAccuracy:\t0.3445\tF1:\t0.3478\n",
      "3 / 30: Train Loss:\t0.1536\tVal Loss:\t1.0917\tAccuracy:\t0.3950\tF1:\t0.3638\n",
      "4 / 30: Train Loss:\t0.1479\tVal Loss:\t1.0897\tAccuracy:\t0.4034\tF1:\t0.3828\n",
      "5 / 30: Train Loss:\t0.1426\tVal Loss:\t1.0878\tAccuracy:\t0.3613\tF1:\t0.3620\n",
      "6 / 30: Train Loss:\t0.1353\tVal Loss:\t1.0835\tAccuracy:\t0.4706\tF1:\t0.4651\n",
      "7 / 30: Train Loss:\t0.1351\tVal Loss:\t1.0813\tAccuracy:\t0.4538\tF1:\t0.4464\n",
      "8 / 30: Train Loss:\t0.1358\tVal Loss:\t1.0776\tAccuracy:\t0.4706\tF1:\t0.4711\n",
      "9 / 30: Train Loss:\t0.1350\tVal Loss:\t1.0754\tAccuracy:\t0.5210\tF1:\t0.5234\n",
      "10 / 30: Train Loss:\t0.1322\tVal Loss:\t1.0721\tAccuracy:\t0.5126\tF1:\t0.5123\n",
      "11 / 30: Train Loss:\t0.1293\tVal Loss:\t1.0673\tAccuracy:\t0.5210\tF1:\t0.5199\n",
      "12 / 30: Train Loss:\t0.1176\tVal Loss:\t1.0621\tAccuracy:\t0.5294\tF1:\t0.5311\n",
      "13 / 30: Train Loss:\t0.1209\tVal Loss:\t1.0556\tAccuracy:\t0.5378\tF1:\t0.5377\n",
      "14 / 30: Train Loss:\t0.1210\tVal Loss:\t1.0485\tAccuracy:\t0.5462\tF1:\t0.5454\n",
      "15 / 30: Train Loss:\t0.1156\tVal Loss:\t1.0400\tAccuracy:\t0.5798\tF1:\t0.5740\n",
      "16 / 30: Train Loss:\t0.1136\tVal Loss:\t1.0307\tAccuracy:\t0.5798\tF1:\t0.5773\n",
      "17 / 30: Train Loss:\t0.1042\tVal Loss:\t1.0219\tAccuracy:\t0.5882\tF1:\t0.5862\n",
      "18 / 30: Train Loss:\t0.1043\tVal Loss:\t1.0126\tAccuracy:\t0.6218\tF1:\t0.6186\n",
      "19 / 30: Train Loss:\t0.1043\tVal Loss:\t1.0026\tAccuracy:\t0.6471\tF1:\t0.6401\n",
      "20 / 30: Train Loss:\t0.0976\tVal Loss:\t0.9921\tAccuracy:\t0.6555\tF1:\t0.6440\n",
      "21 / 30: Train Loss:\t0.0958\tVal Loss:\t0.9823\tAccuracy:\t0.6639\tF1:\t0.6500\n",
      "22 / 30: Train Loss:\t0.0951\tVal Loss:\t0.9740\tAccuracy:\t0.6639\tF1:\t0.6592\n",
      "23 / 30: Train Loss:\t0.0871\tVal Loss:\t0.9630\tAccuracy:\t0.6639\tF1:\t0.6548\n",
      "24 / 30: Train Loss:\t0.0885\tVal Loss:\t0.9537\tAccuracy:\t0.6807\tF1:\t0.6723\n",
      "25 / 30: Train Loss:\t0.0847\tVal Loss:\t0.9438\tAccuracy:\t0.6639\tF1:\t0.6536\n",
      "26 / 30: Train Loss:\t0.0775\tVal Loss:\t0.9331\tAccuracy:\t0.6471\tF1:\t0.6343\n",
      "27 / 30: Train Loss:\t0.0784\tVal Loss:\t0.9233\tAccuracy:\t0.6387\tF1:\t0.6268\n",
      "No improvement for 3 epochs. Stopping early.\n",
      "best (higgest macro f1-score) val results:\n",
      "                    precision    recall  f1-score   support\n",
      "\n",
      " misrepresentation       0.60      0.55      0.58        38\n",
      "oversimplification       0.74      0.64      0.69        36\n",
      "slothful induction       0.70      0.82      0.76        45\n",
      "\n",
      "          accuracy                           0.68       119\n",
      "         macro avg       0.68      0.67      0.67       119\n",
      "      weighted avg       0.68      0.68      0.68       119\n",
      "\n",
      "test results:\n",
      "                    precision    recall  f1-score   support\n",
      "\n",
      " misrepresentation       0.53      0.41      0.46        22\n",
      "oversimplification       0.67      0.60      0.63        20\n",
      "slothful induction       0.56      0.72      0.63        25\n",
      "\n",
      "          accuracy                           0.58        67\n",
      "         macro avg       0.59      0.58      0.57        67\n",
      "      weighted avg       0.58      0.58      0.58        67\n",
      "\n",
      "### ### ### ### ### ### ### ### ### ### \n",
      "{'test_acc': [0.582089552238806], 'test_f1': [0.5748987854251012], 'eval_acc': [0.680672268907563], 'eval_f1': [0.6723372235829519], 'rank, alpha': [8]}\n",
      "### ### ### ### ### ### ### ### ### ### \n",
      "Grid search bert-base-uncased, learning rate 5e-05 focal loss, gamma: 8 wd: 0.0, Lora alpha 16, rank 16\n"
     ]
    },
    {
     "name": "stderr",
     "output_type": "stream",
     "text": [
      "Some weights of BertForSequenceClassification were not initialized from the model checkpoint at bert-base-uncased and are newly initialized: ['classifier.weight', 'classifier.bias']\n",
      "You should probably TRAIN this model on a down-stream task to be able to use it for predictions and inference.\n",
      "You're using a BertTokenizerFast tokenizer. Please note that with a fast tokenizer, using the `__call__` method is faster than using a method to encode the text followed by a call to the `pad` method to get a padded encoding.\n"
     ]
    },
    {
     "name": "stdout",
     "output_type": "stream",
     "text": [
      "1 / 30: Train Loss:\t0.1579\tVal Loss:\t1.0970\tAccuracy:\t0.3613\tF1:\t0.3641\n",
      "2 / 30: Train Loss:\t0.1521\tVal Loss:\t1.0962\tAccuracy:\t0.3445\tF1:\t0.3477\n",
      "3 / 30: Train Loss:\t0.1518\tVal Loss:\t1.0890\tAccuracy:\t0.4118\tF1:\t0.3838\n",
      "4 / 30: Train Loss:\t0.1457\tVal Loss:\t1.0861\tAccuracy:\t0.4202\tF1:\t0.4039\n",
      "5 / 30: Train Loss:\t0.1399\tVal Loss:\t1.0828\tAccuracy:\t0.3866\tF1:\t0.3855\n",
      "6 / 30: Train Loss:\t0.1319\tVal Loss:\t1.0767\tAccuracy:\t0.4874\tF1:\t0.4828\n",
      "7 / 30: Train Loss:\t0.1306\tVal Loss:\t1.0720\tAccuracy:\t0.4958\tF1:\t0.4916\n",
      "8 / 30: Train Loss:\t0.1298\tVal Loss:\t1.0647\tAccuracy:\t0.5378\tF1:\t0.5379\n",
      "9 / 30: Train Loss:\t0.1275\tVal Loss:\t1.0583\tAccuracy:\t0.5126\tF1:\t0.5126\n",
      "10 / 30: Train Loss:\t0.1227\tVal Loss:\t1.0494\tAccuracy:\t0.5630\tF1:\t0.5635\n",
      "11 / 30: Train Loss:\t0.1175\tVal Loss:\t1.0383\tAccuracy:\t0.6050\tF1:\t0.6051\n",
      "12 / 30: Train Loss:\t0.1040\tVal Loss:\t1.0261\tAccuracy:\t0.6050\tF1:\t0.6042\n",
      "13 / 30: Train Loss:\t0.1051\tVal Loss:\t1.0134\tAccuracy:\t0.6555\tF1:\t0.6498\n",
      "14 / 30: Train Loss:\t0.1031\tVal Loss:\t0.9981\tAccuracy:\t0.6555\tF1:\t0.6475\n",
      "15 / 30: Train Loss:\t0.0959\tVal Loss:\t0.9847\tAccuracy:\t0.6555\tF1:\t0.6433\n",
      "16 / 30: Train Loss:\t0.0934\tVal Loss:\t0.9684\tAccuracy:\t0.6639\tF1:\t0.6517\n",
      "17 / 30: Train Loss:\t0.0846\tVal Loss:\t0.9539\tAccuracy:\t0.6723\tF1:\t0.6635\n",
      "18 / 30: Train Loss:\t0.0844\tVal Loss:\t0.9414\tAccuracy:\t0.6639\tF1:\t0.6494\n",
      "19 / 30: Train Loss:\t0.0830\tVal Loss:\t0.9312\tAccuracy:\t0.6723\tF1:\t0.6561\n",
      "20 / 30: Train Loss:\t0.0751\tVal Loss:\t0.9218\tAccuracy:\t0.6807\tF1:\t0.6680\n",
      "21 / 30: Train Loss:\t0.0776\tVal Loss:\t0.9136\tAccuracy:\t0.6891\tF1:\t0.6738\n",
      "22 / 30: Train Loss:\t0.0751\tVal Loss:\t0.9098\tAccuracy:\t0.6807\tF1:\t0.6711\n",
      "23 / 30: Train Loss:\t0.0678\tVal Loss:\t0.8998\tAccuracy:\t0.6891\tF1:\t0.6799\n",
      "24 / 30: Train Loss:\t0.0671\tVal Loss:\t0.8888\tAccuracy:\t0.6975\tF1:\t0.6885\n",
      "25 / 30: Train Loss:\t0.0635\tVal Loss:\t0.8807\tAccuracy:\t0.6723\tF1:\t0.6552\n",
      "26 / 30: Train Loss:\t0.0559\tVal Loss:\t0.8714\tAccuracy:\t0.6639\tF1:\t0.6509\n",
      "27 / 30: Train Loss:\t0.0562\tVal Loss:\t0.8619\tAccuracy:\t0.6639\tF1:\t0.6537\n",
      "No improvement for 3 epochs. Stopping early.\n",
      "best (higgest macro f1-score) val results:\n",
      "                    precision    recall  f1-score   support\n",
      "\n",
      " misrepresentation       0.62      0.63      0.62        38\n",
      "oversimplification       0.78      0.58      0.67        36\n",
      "slothful induction       0.72      0.84      0.78        45\n",
      "\n",
      "          accuracy                           0.70       119\n",
      "         macro avg       0.70      0.69      0.69       119\n",
      "      weighted avg       0.70      0.70      0.69       119\n",
      "\n",
      "test results:\n",
      "                    precision    recall  f1-score   support\n",
      "\n",
      " misrepresentation       0.60      0.55      0.57        22\n",
      "oversimplification       0.74      0.70      0.72        20\n",
      "slothful induction       0.64      0.72      0.68        25\n",
      "\n",
      "          accuracy                           0.66        67\n",
      "         macro avg       0.66      0.66      0.66        67\n",
      "      weighted avg       0.66      0.66      0.66        67\n",
      "\n",
      "### ### ### ### ### ### ### ### ### ### \n",
      "{'test_acc': [0.582089552238806, 0.6567164179104478], 'test_f1': [0.5748987854251012, 0.6562075241320523], 'eval_acc': [0.680672268907563, 0.6974789915966386], 'eval_f1': [0.6723372235829519, 0.6885178313749742], 'rank, alpha': [8, 16]}\n",
      "### ### ### ### ### ### ### ### ### ### \n"
     ]
    }
   ],
   "source": [
    "g = 8\n",
    "lr = 5.0e-5\n",
    "wd = 0.0\n",
    "alphas = [8, 16]\n",
    "ranks = [8, 16]\n",
    "lora_dropout = 0.0\n",
    "\n",
    "\n",
    "for a,r in zip(alphas, ranks):\n",
    "    print(f'Grid search {model_checkpoint}, learning rate {lr} focal loss, gamma: {g} wd: {wd}, Lora alpha {a}, rank {r}')\n",
    "    data = ClimateDataset(model_to_train=2,model_checkpoint=model_checkpoint,dataset_url=flicc_path,batch_size=32)\n",
    "    data.setup_dataloaders()\n",
    "    model = ClassificationModel(model_checkpoint=data.model_checkpoint,\n",
    "                            num_labels=data.num_labels,\n",
    "                            lora=True,\n",
    "                            r=r,\n",
    "                            alpha=a,\n",
    "                            dropout=lora_dropout)\n",
    "    trainer = Engine(epochs=30,labels=data.labels)\n",
    "    trainer.model = model.model\n",
    "    trainer.dataset_encoded = data.dataset_encoded\n",
    "    test_acc, test_f1, eval_acc, eval_f1 = trainer.run(lr=lr,\n",
    "                          wd=wd,\n",
    "                          train_dataloader=data.train_dataloader,\n",
    "                          eval_dataloader=data.eval_dataloader,\n",
    "                          test_dataloader=data.test_dataloader,\n",
    "                          focalloss=True,\n",
    "                          gamma=g,\n",
    "                          early_stop=3)\n",
    "    results['test_acc'].append(test_acc)\n",
    "    results['test_f1'].append(test_f1)\n",
    "    results['eval_acc'].append(eval_acc)\n",
    "    results['eval_f1'].append(eval_f1)\n",
    "    results['rank, alpha'].append(r)\n",
    "    print('### '*10)\n",
    "    print(results)\n",
    "    print('### '*10)\n",
    "    with torch.no_grad():\n",
    "        torch.cuda.empty_cache()\n",
    "    del data, model, trainer, test_acc, test_f1, eval_acc, eval_f1\n",
    "    gc.collect()"
   ]
  },
  {
   "cell_type": "code",
   "execution_count": 11,
   "metadata": {},
   "outputs": [
    {
     "data": {
      "image/png": "[encoded data removed]",
      "text/plain": [
       "<Figure size 640x480 with 1 Axes>"
      ]
     },
     "metadata": {},
     "output_type": "display_data"
    }
   ],
   "source": [
    "Engine.plot_grid_search(df=results,\n",
    "                        title=f'LORA, lr: {lr}, focal loss gamma {g} {model_checkpoint}',\n",
    "                        column='rank, alpha',\n",
    "                        sci_format=False)"
   ]
  },
  {
   "cell_type": "code",
   "execution_count": 12,
   "metadata": {},
   "outputs": [],
   "source": [
    "%reset -f"
   ]
  }
 ],
 "metadata": {
  "kernelspec": {
   "display_name": "Python 3",
   "language": "python",
   "name": "python3"
  },
  "language_info": {
   "codemirror_mode": {
    "name": "ipython",
    "version": 3
   },
   "file_extension": ".py",
   "mimetype": "text/x-python",
   "name": "python",
   "nbconvert_exporter": "python",
   "pygments_lexer": "ipython3",
   "version": "3.11.5"
  },
  "orig_nbformat": 4
 },
 "nbformat": 4,
 "nbformat_minor": 2
}
