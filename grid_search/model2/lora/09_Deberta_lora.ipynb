{
 "cells": [
  {
   "cell_type": "code",
   "execution_count": 1,
   "metadata": {},
   "outputs": [],
   "source": [
    "import os\n",
    "import sys\n",
    "import gc\n",
    "# assuming data, models, engine in flicc directory:\n",
    "flicc_path = os.path.realpath(\"__file__\").split('grid_search')[0]\n",
    "sys.path.append(flicc_path)\n",
    "import torch\n",
    "from data import ClimateDataset\n",
    "from models import ClassificationModel\n",
    "from engine import Engine"
   ]
  },
  {
   "cell_type": "code",
   "execution_count": 2,
   "metadata": {},
   "outputs": [],
   "source": [
    "model_checkpoint='microsoft/deberta-base'"
   ]
  },
  {
   "cell_type": "code",
   "execution_count": 3,
   "metadata": {},
   "outputs": [],
   "source": [
    "results = {'test_acc':[],\n",
    "           'test_f1':[],\n",
    "           'eval_acc':[],\n",
    "           'eval_f1':[],\n",
    "           'rank, alpha':[]}"
   ]
  },
  {
   "cell_type": "code",
   "execution_count": 4,
   "metadata": {},
   "outputs": [
    {
     "name": "stdout",
     "output_type": "stream",
     "text": [
      "Grid search microsoft/deberta-base, learning rate 1e-05 wd: 0.0, Lora alpha 8, rank 8\n"
     ]
    },
    {
     "name": "stderr",
     "output_type": "stream",
     "text": [
      "Some weights of DebertaForSequenceClassification were not initialized from the model checkpoint at microsoft/deberta-base and are newly initialized: ['classifier.bias', 'pooler.dense.weight', 'pooler.dense.bias', 'classifier.weight']\n",
      "You should probably TRAIN this model on a down-stream task to be able to use it for predictions and inference.\n",
      "You're using a DebertaTokenizerFast tokenizer. Please note that with a fast tokenizer, using the `__call__` method is faster than using a method to encode the text followed by a call to the `pad` method to get a padded encoding.\n"
     ]
    },
    {
     "name": "stdout",
     "output_type": "stream",
     "text": [
      "1 / 30: Train Loss:\t1.0997\tVal Loss:\t1.1015\tAccuracy:\t0.3025\tF1:\t0.1548\n",
      "2 / 30: Train Loss:\t1.1019\tVal Loss:\t1.1009\tAccuracy:\t0.3025\tF1:\t0.1548\n",
      "3 / 30: Train Loss:\t1.1026\tVal Loss:\t1.1004\tAccuracy:\t0.3025\tF1:\t0.1548\n",
      "4 / 30: Train Loss:\t1.1031\tVal Loss:\t1.1000\tAccuracy:\t0.3866\tF1:\t0.2021\n",
      "5 / 30: Train Loss:\t1.1017\tVal Loss:\t1.0995\tAccuracy:\t0.3782\tF1:\t0.1829\n",
      "6 / 30: Train Loss:\t1.1025\tVal Loss:\t1.0992\tAccuracy:\t0.3782\tF1:\t0.1829\n",
      "7 / 30: Train Loss:\t1.0990\tVal Loss:\t1.0988\tAccuracy:\t0.3782\tF1:\t0.1829\n",
      "No improvement for 3 epochs. Stopping early.\n",
      "best (higgest macro f1-score) val results:\n",
      "                    precision    recall  f1-score   support\n",
      "\n",
      " misrepresentation       0.00      0.00      0.00        38\n",
      "oversimplification       1.00      0.03      0.05        36\n",
      "slothful induction       0.38      1.00      0.55        45\n",
      "\n",
      "          accuracy                           0.39       119\n",
      "         macro avg       0.46      0.34      0.20       119\n",
      "      weighted avg       0.45      0.39      0.23       119\n",
      "\n",
      "test results:\n",
      "                    precision    recall  f1-score   support\n",
      "\n",
      " misrepresentation       0.00      0.00      0.00        22\n",
      "oversimplification       0.00      0.00      0.00        20\n",
      "slothful induction       0.37      1.00      0.54        25\n",
      "\n",
      "          accuracy                           0.37        67\n",
      "         macro avg       0.12      0.33      0.18        67\n",
      "      weighted avg       0.14      0.37      0.20        67\n",
      "\n",
      "### ### ### ### ### ### ### ### ### ### \n",
      "{'test_acc': [0.373134328358209], 'test_f1': [0.1811594202898551], 'eval_acc': [0.3865546218487395], 'eval_f1': [0.20206709777261925], 'rank, alpha': [8]}\n",
      "### ### ### ### ### ### ### ### ### ### \n",
      "Grid search microsoft/deberta-base, learning rate 1e-05 wd: 0.0, Lora alpha 16, rank 16\n"
     ]
    },
    {
     "name": "stderr",
     "output_type": "stream",
     "text": [
      "Some weights of DebertaForSequenceClassification were not initialized from the model checkpoint at microsoft/deberta-base and are newly initialized: ['classifier.bias', 'pooler.dense.weight', 'pooler.dense.bias', 'classifier.weight']\n",
      "You should probably TRAIN this model on a down-stream task to be able to use it for predictions and inference.\n",
      "You're using a DebertaTokenizerFast tokenizer. Please note that with a fast tokenizer, using the `__call__` method is faster than using a method to encode the text followed by a call to the `pad` method to get a padded encoding.\n"
     ]
    },
    {
     "name": "stdout",
     "output_type": "stream",
     "text": [
      "1 / 30: Train Loss:\t1.0997\tVal Loss:\t1.1015\tAccuracy:\t0.3025\tF1:\t0.1548\n",
      "2 / 30: Train Loss:\t1.1019\tVal Loss:\t1.1009\tAccuracy:\t0.3025\tF1:\t0.1548\n",
      "3 / 30: Train Loss:\t1.1026\tVal Loss:\t1.1004\tAccuracy:\t0.3025\tF1:\t0.1548\n",
      "4 / 30: Train Loss:\t1.1031\tVal Loss:\t1.0999\tAccuracy:\t0.3866\tF1:\t0.2021\n",
      "5 / 30: Train Loss:\t1.1017\tVal Loss:\t1.0995\tAccuracy:\t0.3782\tF1:\t0.1829\n",
      "6 / 30: Train Loss:\t1.1024\tVal Loss:\t1.0991\tAccuracy:\t0.3782\tF1:\t0.1829\n",
      "7 / 30: Train Loss:\t1.0989\tVal Loss:\t1.0988\tAccuracy:\t0.3782\tF1:\t0.1829\n",
      "No improvement for 3 epochs. Stopping early.\n",
      "best (higgest macro f1-score) val results:\n",
      "                    precision    recall  f1-score   support\n",
      "\n",
      " misrepresentation       0.00      0.00      0.00        38\n",
      "oversimplification       1.00      0.03      0.05        36\n",
      "slothful induction       0.38      1.00      0.55        45\n",
      "\n",
      "          accuracy                           0.39       119\n",
      "         macro avg       0.46      0.34      0.20       119\n",
      "      weighted avg       0.45      0.39      0.23       119\n",
      "\n",
      "test results:\n",
      "                    precision    recall  f1-score   support\n",
      "\n",
      " misrepresentation       0.00      0.00      0.00        22\n",
      "oversimplification       0.00      0.00      0.00        20\n",
      "slothful induction       0.37      1.00      0.54        25\n",
      "\n",
      "          accuracy                           0.37        67\n",
      "         macro avg       0.12      0.33      0.18        67\n",
      "      weighted avg       0.14      0.37      0.20        67\n",
      "\n",
      "### ### ### ### ### ### ### ### ### ### \n",
      "{'test_acc': [0.373134328358209, 0.373134328358209], 'test_f1': [0.1811594202898551, 0.1811594202898551], 'eval_acc': [0.3865546218487395, 0.3865546218487395], 'eval_f1': [0.20206709777261925, 0.20206709777261925], 'rank, alpha': [8, 16]}\n",
      "### ### ### ### ### ### ### ### ### ### \n"
     ]
    }
   ],
   "source": [
    "lr = 1.0e-5\n",
    "wd = 0.0\n",
    "alphas = [8, 16]\n",
    "ranks = [8, 16]\n",
    "lora_dropout = 0.0\n",
    "\n",
    "\n",
    "for a,r in zip(alphas, ranks):\n",
    "    print(f'Grid search {model_checkpoint}, learning rate {lr} wd: {wd}, Lora alpha {a}, rank {r}')\n",
    "    data = ClimateDataset(model_to_train=2,model_checkpoint=model_checkpoint,dataset_url=flicc_path,batch_size=32)\n",
    "    data.setup_dataloaders()\n",
    "    model = ClassificationModel(model_checkpoint=data.model_checkpoint,\n",
    "                            num_labels=data.num_labels,\n",
    "                            lora=True,\n",
    "                            r=r,\n",
    "                            alpha=a,\n",
    "                            dropout=lora_dropout)\n",
    "    trainer = Engine(epochs=30,labels=data.labels)\n",
    "    trainer.model = model.model\n",
    "    trainer.dataset_encoded = data.dataset_encoded\n",
    "    test_acc, test_f1, eval_acc, eval_f1 = trainer.run(lr=lr,\n",
    "                          wd=wd,\n",
    "                          train_dataloader=data.train_dataloader,\n",
    "                          eval_dataloader=data.eval_dataloader,\n",
    "                          test_dataloader=data.test_dataloader,\n",
    "                          early_stop=3)\n",
    "    results['test_acc'].append(test_acc)\n",
    "    results['test_f1'].append(test_f1)\n",
    "    results['eval_acc'].append(eval_acc)\n",
    "    results['eval_f1'].append(eval_f1)\n",
    "    results['rank, alpha'].append(r)\n",
    "    print('### '*10)\n",
    "    print(results)\n",
    "    print('### '*10)\n",
    "    with torch.no_grad():\n",
    "        torch.cuda.empty_cache()\n",
    "    del data, model, trainer, test_acc, test_f1, eval_acc, eval_f1\n",
    "    gc.collect()"
   ]
  },
  {
   "cell_type": "code",
   "execution_count": 5,
   "metadata": {},
   "outputs": [
    {
     "data": {
      "image/png": "[encoded data removed]",
      "text/plain": [
       "<Figure size 640x480 with 1 Axes>"
      ]
     },
     "metadata": {},
     "output_type": "display_data"
    }
   ],
   "source": [
    "Engine.plot_grid_search(df=results,\n",
    "                        title=f'LORA, lr: {lr}, {model_checkpoint}',\n",
    "                        column='rank, alpha',\n",
    "                        sci_format=False)"
   ]
  },
  {
   "cell_type": "code",
   "execution_count": 6,
   "metadata": {},
   "outputs": [],
   "source": [
    "%reset -f"
   ]
  }
 ],
 "metadata": {
  "kernelspec": {
   "display_name": "Python 3",
   "language": "python",
   "name": "python3"
  },
  "language_info": {
   "codemirror_mode": {
    "name": "ipython",
    "version": 3
   },
   "file_extension": ".py",
   "mimetype": "text/x-python",
   "name": "python",
   "nbconvert_exporter": "python",
   "pygments_lexer": "ipython3",
   "version": "3.11.5"
  },
  "orig_nbformat": 4
 },
 "nbformat": 4,
 "nbformat_minor": 2
}
