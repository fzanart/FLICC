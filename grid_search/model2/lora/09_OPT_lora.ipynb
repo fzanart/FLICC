{
 "cells": [
  {
   "cell_type": "code",
   "execution_count": 1,
   "metadata": {},
   "outputs": [],
   "source": [
    "import os\n",
    "import sys\n",
    "import gc\n",
    "# assuming data, models, engine in flicc directory:\n",
    "flicc_path = os.path.realpath(\"__file__\").split('grid_search')[0]\n",
    "sys.path.append(flicc_path)\n",
    "import torch\n",
    "from data import ClimateDataset\n",
    "from models import ClassificationModel\n",
    "from engine import Engine"
   ]
  },
  {
   "cell_type": "code",
   "execution_count": 2,
   "metadata": {},
   "outputs": [],
   "source": [
    "model_checkpoint='facebook/opt-350m'"
   ]
  },
  {
   "cell_type": "code",
   "execution_count": 3,
   "metadata": {},
   "outputs": [],
   "source": [
    "results = {'test_acc':[],\n",
    "           'test_f1':[],\n",
    "           'eval_acc':[],\n",
    "           'eval_f1':[],\n",
    "           'rank, alpha':[]}"
   ]
  },
  {
   "cell_type": "code",
   "execution_count": 4,
   "metadata": {},
   "outputs": [
    {
     "name": "stdout",
     "output_type": "stream",
     "text": [
      "Grid search facebook/opt-350m, learning rate 1e-05 focal loss, gamma: 2 wd: 0.01, Lora alpha 8, rank 8\n"
     ]
    },
    {
     "name": "stderr",
     "output_type": "stream",
     "text": [
      "Some weights of OPTForSequenceClassification were not initialized from the model checkpoint at facebook/opt-350m and are newly initialized: ['score.weight']\n",
      "You should probably TRAIN this model on a down-stream task to be able to use it for predictions and inference.\n",
      "You're using a GPT2TokenizerFast tokenizer. Please note that with a fast tokenizer, using the `__call__` method is faster than using a method to encode the text followed by a call to the `pad` method to get a padded encoding.\n"
     ]
    },
    {
     "name": "stdout",
     "output_type": "stream",
     "text": [
      "1 / 30: Train Loss:\t2.2066\tVal Loss:\t1.9028\tAccuracy:\t0.4286\tF1:\t0.3383\n",
      "2 / 30: Train Loss:\t1.7916\tVal Loss:\t1.7109\tAccuracy:\t0.3529\tF1:\t0.2785\n",
      "3 / 30: Train Loss:\t1.4225\tVal Loss:\t1.5617\tAccuracy:\t0.3950\tF1:\t0.3825\n",
      "4 / 30: Train Loss:\t1.2380\tVal Loss:\t1.5014\tAccuracy:\t0.3697\tF1:\t0.3676\n",
      "5 / 30: Train Loss:\t1.1933\tVal Loss:\t1.4438\tAccuracy:\t0.3782\tF1:\t0.3767\n",
      "6 / 30: Train Loss:\t1.1605\tVal Loss:\t1.3943\tAccuracy:\t0.3613\tF1:\t0.3620\n",
      "No improvement for 3 epochs. Stopping early.\n",
      "best (higgest macro f1-score) val results:\n",
      "                    precision    recall  f1-score   support\n",
      "\n",
      " misrepresentation       0.33      0.58      0.42        38\n",
      "oversimplification       0.35      0.22      0.27        36\n",
      "slothful induction       0.57      0.38      0.45        45\n",
      "\n",
      "          accuracy                           0.39       119\n",
      "         macro avg       0.42      0.39      0.38       119\n",
      "      weighted avg       0.43      0.39      0.39       119\n",
      "\n",
      "test results:\n",
      "                    precision    recall  f1-score   support\n",
      "\n",
      " misrepresentation       0.30      0.64      0.41        22\n",
      "oversimplification       0.22      0.10      0.14        20\n",
      "slothful induction       0.45      0.20      0.28        25\n",
      "\n",
      "          accuracy                           0.31        67\n",
      "         macro avg       0.32      0.31      0.27        67\n",
      "      weighted avg       0.33      0.31      0.28        67\n",
      "\n",
      "### ### ### ### ### ### ### ### ### ### \n",
      "{'test_acc': [0.31343283582089554], 'test_f1': [0.27383530456993727], 'eval_acc': [0.3949579831932773], 'eval_f1': [0.38253223236274086], 'rank, alpha': [8]}\n",
      "### ### ### ### ### ### ### ### ### ### \n",
      "Grid search facebook/opt-350m, learning rate 1e-05 focal loss, gamma: 2 wd: 0.01, Lora alpha 16, rank 16\n"
     ]
    },
    {
     "name": "stderr",
     "output_type": "stream",
     "text": [
      "Some weights of OPTForSequenceClassification were not initialized from the model checkpoint at facebook/opt-350m and are newly initialized: ['score.weight']\n",
      "You should probably TRAIN this model on a down-stream task to be able to use it for predictions and inference.\n",
      "You're using a GPT2TokenizerFast tokenizer. Please note that with a fast tokenizer, using the `__call__` method is faster than using a method to encode the text followed by a call to the `pad` method to get a padded encoding.\n"
     ]
    },
    {
     "name": "stdout",
     "output_type": "stream",
     "text": [
      "1 / 30: Train Loss:\t2.0962\tVal Loss:\t1.7971\tAccuracy:\t0.3866\tF1:\t0.3073\n",
      "2 / 30: Train Loss:\t1.4930\tVal Loss:\t1.5694\tAccuracy:\t0.3950\tF1:\t0.3814\n",
      "3 / 30: Train Loss:\t1.2410\tVal Loss:\t1.4849\tAccuracy:\t0.3613\tF1:\t0.3571\n",
      "4 / 30: Train Loss:\t1.1460\tVal Loss:\t1.4040\tAccuracy:\t0.3613\tF1:\t0.3617\n",
      "5 / 30: Train Loss:\t1.0814\tVal Loss:\t1.3365\tAccuracy:\t0.3193\tF1:\t0.3212\n",
      "No improvement for 3 epochs. Stopping early.\n",
      "best (higgest macro f1-score) val results:\n",
      "                    precision    recall  f1-score   support\n",
      "\n",
      " misrepresentation       0.33      0.61      0.43        38\n",
      "oversimplification       0.36      0.22      0.28        36\n",
      "slothful induction       0.57      0.36      0.44        45\n",
      "\n",
      "          accuracy                           0.39       119\n",
      "         macro avg       0.42      0.39      0.38       119\n",
      "      weighted avg       0.43      0.39      0.39       119\n",
      "\n",
      "test results:\n",
      "                    precision    recall  f1-score   support\n",
      "\n",
      " misrepresentation       0.30      0.64      0.41        22\n",
      "oversimplification       0.22      0.10      0.14        20\n",
      "slothful induction       0.45      0.20      0.28        25\n",
      "\n",
      "          accuracy                           0.31        67\n",
      "         macro avg       0.32      0.31      0.27        67\n",
      "      weighted avg       0.33      0.31      0.28        67\n",
      "\n",
      "### ### ### ### ### ### ### ### ### ### \n",
      "{'test_acc': [0.31343283582089554, 0.31343283582089554], 'test_f1': [0.27383530456993727, 0.27383530456993727], 'eval_acc': [0.3949579831932773, 0.3949579831932773], 'eval_f1': [0.38253223236274086, 0.38137492513505117], 'rank, alpha': [8, 16]}\n",
      "### ### ### ### ### ### ### ### ### ### \n"
     ]
    }
   ],
   "source": [
    "g = 2\n",
    "lr = 1.0e-5\n",
    "wd = 0.01\n",
    "alphas = [8, 16]\n",
    "ranks = [8, 16]\n",
    "lora_dropout = 0.0\n",
    "\n",
    "\n",
    "for a,r in zip(alphas, ranks):\n",
    "    print(f'Grid search {model_checkpoint}, learning rate {lr} focal loss, gamma: {g} wd: {wd}, Lora alpha {a}, rank {r}')\n",
    "    data = ClimateDataset(model_to_train=2,model_checkpoint=model_checkpoint,dataset_url=flicc_path,batch_size=16)\n",
    "    data.setup_dataloaders()\n",
    "    model = ClassificationModel(model_checkpoint=data.model_checkpoint,\n",
    "                            num_labels=data.num_labels,\n",
    "                            lora=True,\n",
    "                            r=r,\n",
    "                            alpha=a,\n",
    "                            dropout=lora_dropout)\n",
    "    trainer = Engine(epochs=30,labels=data.labels)\n",
    "    trainer.model = model.model\n",
    "    trainer.dataset_encoded = data.dataset_encoded\n",
    "    test_acc, test_f1, eval_acc, eval_f1 = trainer.run(lr=lr,\n",
    "                          wd=wd,\n",
    "                          train_dataloader=data.train_dataloader,\n",
    "                          eval_dataloader=data.eval_dataloader,\n",
    "                          test_dataloader=data.test_dataloader,\n",
    "                          accumulation_steps=2,\n",
    "                          focalloss=True,\n",
    "                          gamma=g,\n",
    "                          early_stop=3)\n",
    "    results['test_acc'].append(test_acc)\n",
    "    results['test_f1'].append(test_f1)\n",
    "    results['eval_acc'].append(eval_acc)\n",
    "    results['eval_f1'].append(eval_f1)\n",
    "    results['rank, alpha'].append(r)\n",
    "    print('### '*10)\n",
    "    print(results)\n",
    "    print('### '*10)\n",
    "    with torch.no_grad():\n",
    "        torch.cuda.empty_cache()\n",
    "    del data, model, trainer, test_acc, test_f1, eval_acc, eval_f1\n",
    "    gc.collect()"
   ]
  },
  {
   "cell_type": "code",
   "execution_count": 5,
   "metadata": {},
   "outputs": [
    {
     "data": {
      "image/png": "[encoded data removed]",
      "text/plain": [
       "<Figure size 640x480 with 1 Axes>"
      ]
     },
     "metadata": {},
     "output_type": "display_data"
    }
   ],
   "source": [
    "Engine.plot_grid_search(df=results,\n",
    "                        title=f'LORA, lr: {lr}, focal loss gamma {g} {model_checkpoint}',\n",
    "                        column='rank, alpha',\n",
    "                        sci_format=False)"
   ]
  },
  {
   "cell_type": "code",
   "execution_count": 6,
   "metadata": {},
   "outputs": [],
   "source": [
    "%reset -f"
   ]
  }
 ],
 "metadata": {
  "kernelspec": {
   "display_name": "Python 3",
   "language": "python",
   "name": "python3"
  },
  "language_info": {
   "codemirror_mode": {
    "name": "ipython",
    "version": 3
   },
   "file_extension": ".py",
   "mimetype": "text/x-python",
   "name": "python",
   "nbconvert_exporter": "python",
   "pygments_lexer": "ipython3",
   "version": "3.11.5"
  },
  "orig_nbformat": 4
 },
 "nbformat": 4,
 "nbformat_minor": 2
}
