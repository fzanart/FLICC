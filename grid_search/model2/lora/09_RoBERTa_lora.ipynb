{
 "cells": [
  {
   "cell_type": "code",
   "execution_count": 1,
   "metadata": {},
   "outputs": [],
   "source": [
    "import os\n",
    "import sys\n",
    "import gc\n",
    "# assuming data, models, engine in flicc directory:\n",
    "flicc_path = os.path.realpath(\"__file__\").split('grid_search')[0]\n",
    "sys.path.append(flicc_path)\n",
    "import torch\n",
    "from data import ClimateDataset\n",
    "from models import ClassificationModel\n",
    "from engine import Engine"
   ]
  },
  {
   "cell_type": "code",
   "execution_count": 2,
   "metadata": {},
   "outputs": [],
   "source": [
    "model_checkpoint='roberta-large'"
   ]
  },
  {
   "cell_type": "code",
   "execution_count": 3,
   "metadata": {},
   "outputs": [],
   "source": [
    "results = {'test_acc':[],\n",
    "           'test_f1':[],\n",
    "           'eval_acc':[],\n",
    "           'eval_f1':[],\n",
    "           'rank, alpha':[]}"
   ]
  },
  {
   "cell_type": "code",
   "execution_count": 4,
   "metadata": {},
   "outputs": [
    {
     "name": "stdout",
     "output_type": "stream",
     "text": [
      "Grid search roberta-large, learning rate 5e-05 wd: 0.0, Lora alpha 8, rank 8\n"
     ]
    },
    {
     "name": "stderr",
     "output_type": "stream",
     "text": [
      "Some weights of RobertaForSequenceClassification were not initialized from the model checkpoint at roberta-large and are newly initialized: ['classifier.out_proj.bias', 'classifier.dense.bias', 'classifier.out_proj.weight', 'classifier.dense.weight']\n",
      "You should probably TRAIN this model on a down-stream task to be able to use it for predictions and inference.\n",
      "You're using a RobertaTokenizerFast tokenizer. Please note that with a fast tokenizer, using the `__call__` method is faster than using a method to encode the text followed by a call to the `pad` method to get a padded encoding.\n"
     ]
    },
    {
     "name": "stdout",
     "output_type": "stream",
     "text": [
      "1 / 30: Train Loss:\t0.5508\tVal Loss:\t1.0975\tAccuracy:\t0.3866\tF1:\t0.2155\n",
      "2 / 30: Train Loss:\t0.5474\tVal Loss:\t1.0821\tAccuracy:\t0.4118\tF1:\t0.3407\n",
      "3 / 30: Train Loss:\t0.5391\tVal Loss:\t1.0712\tAccuracy:\t0.3782\tF1:\t0.2567\n",
      "4 / 30: Train Loss:\t0.5285\tVal Loss:\t1.0494\tAccuracy:\t0.4538\tF1:\t0.3837\n",
      "5 / 30: Train Loss:\t0.5191\tVal Loss:\t0.9980\tAccuracy:\t0.5462\tF1:\t0.5123\n",
      "6 / 30: Train Loss:\t0.4778\tVal Loss:\t0.8720\tAccuracy:\t0.5546\tF1:\t0.5379\n",
      "7 / 30: Train Loss:\t0.4192\tVal Loss:\t0.7517\tAccuracy:\t0.6387\tF1:\t0.6241\n",
      "8 / 30: Train Loss:\t0.3702\tVal Loss:\t0.7112\tAccuracy:\t0.6471\tF1:\t0.6381\n",
      "9 / 30: Train Loss:\t0.3352\tVal Loss:\t0.6667\tAccuracy:\t0.7059\tF1:\t0.7059\n",
      "10 / 30: Train Loss:\t0.3145\tVal Loss:\t0.6109\tAccuracy:\t0.7479\tF1:\t0.7485\n",
      "11 / 30: Train Loss:\t0.2902\tVal Loss:\t0.6153\tAccuracy:\t0.7563\tF1:\t0.7567\n",
      "12 / 30: Train Loss:\t0.2673\tVal Loss:\t0.5969\tAccuracy:\t0.7479\tF1:\t0.7471\n",
      "13 / 30: Train Loss:\t0.2330\tVal Loss:\t0.5582\tAccuracy:\t0.7563\tF1:\t0.7569\n",
      "14 / 30: Train Loss:\t0.2278\tVal Loss:\t0.5791\tAccuracy:\t0.7815\tF1:\t0.7801\n",
      "15 / 30: Train Loss:\t0.2132\tVal Loss:\t0.5678\tAccuracy:\t0.7899\tF1:\t0.7873\n",
      "16 / 30: Train Loss:\t0.1990\tVal Loss:\t0.5541\tAccuracy:\t0.8151\tF1:\t0.8140\n",
      "17 / 30: Train Loss:\t0.1837\tVal Loss:\t0.5727\tAccuracy:\t0.8067\tF1:\t0.8044\n",
      "18 / 30: Train Loss:\t0.1684\tVal Loss:\t0.5659\tAccuracy:\t0.8067\tF1:\t0.8044\n",
      "19 / 30: Train Loss:\t0.1514\tVal Loss:\t0.5673\tAccuracy:\t0.8151\tF1:\t0.8131\n",
      "No improvement for 3 epochs. Stopping early.\n",
      "best (higgest macro f1-score) val results:\n",
      "                    precision    recall  f1-score   support\n",
      "\n",
      " misrepresentation       0.87      0.71      0.78        38\n",
      "oversimplification       0.90      0.78      0.84        36\n",
      "slothful induction       0.74      0.93      0.82        45\n",
      "\n",
      "          accuracy                           0.82       119\n",
      "         macro avg       0.84      0.81      0.81       119\n",
      "      weighted avg       0.83      0.82      0.81       119\n",
      "\n",
      "test results:\n",
      "                    precision    recall  f1-score   support\n",
      "\n",
      " misrepresentation       0.76      0.73      0.74        22\n",
      "oversimplification       0.76      0.80      0.78        20\n",
      "slothful induction       0.72      0.72      0.72        25\n",
      "\n",
      "          accuracy                           0.75        67\n",
      "         macro avg       0.75      0.75      0.75        67\n",
      "      weighted avg       0.75      0.75      0.75        67\n",
      "\n",
      "### ### ### ### ### ### ### ### ### ### \n",
      "{'test_acc': [0.746268656716418], 'test_f1': [0.7482246171298922], 'eval_acc': [0.8151260504201681], 'eval_f1': [0.8139863343130894], 'rank, alpha': [8]}\n",
      "### ### ### ### ### ### ### ### ### ### \n",
      "Grid search roberta-large, learning rate 5e-05 wd: 0.0, Lora alpha 16, rank 16\n"
     ]
    },
    {
     "name": "stderr",
     "output_type": "stream",
     "text": [
      "Some weights of RobertaForSequenceClassification were not initialized from the model checkpoint at roberta-large and are newly initialized: ['classifier.out_proj.bias', 'classifier.dense.bias', 'classifier.out_proj.weight', 'classifier.dense.weight']\n",
      "You should probably TRAIN this model on a down-stream task to be able to use it for predictions and inference.\n",
      "You're using a RobertaTokenizerFast tokenizer. Please note that with a fast tokenizer, using the `__call__` method is faster than using a method to encode the text followed by a call to the `pad` method to get a padded encoding.\n"
     ]
    },
    {
     "name": "stdout",
     "output_type": "stream",
     "text": [
      "1 / 30: Train Loss:\t0.5508\tVal Loss:\t1.0972\tAccuracy:\t0.3866\tF1:\t0.2151\n",
      "2 / 30: Train Loss:\t0.5472\tVal Loss:\t1.0814\tAccuracy:\t0.4118\tF1:\t0.3407\n",
      "3 / 30: Train Loss:\t0.5381\tVal Loss:\t1.0656\tAccuracy:\t0.3782\tF1:\t0.2567\n",
      "4 / 30: Train Loss:\t0.5218\tVal Loss:\t1.0150\tAccuracy:\t0.5294\tF1:\t0.4892\n",
      "5 / 30: Train Loss:\t0.4909\tVal Loss:\t0.8608\tAccuracy:\t0.5798\tF1:\t0.5600\n",
      "6 / 30: Train Loss:\t0.4147\tVal Loss:\t0.7606\tAccuracy:\t0.6134\tF1:\t0.6021\n",
      "7 / 30: Train Loss:\t0.3572\tVal Loss:\t0.6660\tAccuracy:\t0.6891\tF1:\t0.6811\n",
      "8 / 30: Train Loss:\t0.3198\tVal Loss:\t0.6510\tAccuracy:\t0.7227\tF1:\t0.7204\n",
      "9 / 30: Train Loss:\t0.2862\tVal Loss:\t0.6047\tAccuracy:\t0.7479\tF1:\t0.7485\n",
      "10 / 30: Train Loss:\t0.2632\tVal Loss:\t0.5727\tAccuracy:\t0.7563\tF1:\t0.7572\n",
      "11 / 30: Train Loss:\t0.2443\tVal Loss:\t0.5877\tAccuracy:\t0.7899\tF1:\t0.7875\n",
      "12 / 30: Train Loss:\t0.2188\tVal Loss:\t0.6023\tAccuracy:\t0.7899\tF1:\t0.7875\n",
      "13 / 30: Train Loss:\t0.1923\tVal Loss:\t0.5851\tAccuracy:\t0.7983\tF1:\t0.7946\n",
      "14 / 30: Train Loss:\t0.1766\tVal Loss:\t0.5965\tAccuracy:\t0.7815\tF1:\t0.7770\n",
      "15 / 30: Train Loss:\t0.1688\tVal Loss:\t0.5999\tAccuracy:\t0.7983\tF1:\t0.7957\n",
      "16 / 30: Train Loss:\t0.1554\tVal Loss:\t0.5690\tAccuracy:\t0.8067\tF1:\t0.8048\n",
      "17 / 30: Train Loss:\t0.1418\tVal Loss:\t0.5702\tAccuracy:\t0.8235\tF1:\t0.8223\n",
      "18 / 30: Train Loss:\t0.1269\tVal Loss:\t0.5883\tAccuracy:\t0.8151\tF1:\t0.8131\n",
      "19 / 30: Train Loss:\t0.1157\tVal Loss:\t0.6267\tAccuracy:\t0.8067\tF1:\t0.8052\n",
      "20 / 30: Train Loss:\t0.1081\tVal Loss:\t0.6330\tAccuracy:\t0.8067\tF1:\t0.8054\n",
      "No improvement for 3 epochs. Stopping early.\n",
      "best (higgest macro f1-score) val results:\n",
      "                    precision    recall  f1-score   support\n",
      "\n",
      " misrepresentation       0.88      0.76      0.82        38\n",
      "oversimplification       0.90      0.75      0.82        36\n",
      "slothful induction       0.75      0.93      0.83        45\n",
      "\n",
      "          accuracy                           0.82       119\n",
      "         macro avg       0.84      0.82      0.82       119\n",
      "      weighted avg       0.84      0.82      0.82       119\n",
      "\n",
      "test results:\n",
      "                    precision    recall  f1-score   support\n",
      "\n",
      " misrepresentation       0.73      0.73      0.73        22\n",
      "oversimplification       0.80      0.80      0.80        20\n",
      "slothful induction       0.72      0.72      0.72        25\n",
      "\n",
      "          accuracy                           0.75        67\n",
      "         macro avg       0.75      0.75      0.75        67\n",
      "      weighted avg       0.75      0.75      0.75        67\n",
      "\n",
      "### ### ### ### ### ### ### ### ### ### \n",
      "{'test_acc': [0.746268656716418, 0.746268656716418], 'test_f1': [0.7482246171298922, 0.749090909090909], 'eval_acc': [0.8151260504201681, 0.8235294117647058], 'eval_f1': [0.8139863343130894, 0.822255464983118], 'rank, alpha': [8, 16]}\n",
      "### ### ### ### ### ### ### ### ### ### \n"
     ]
    }
   ],
   "source": [
    "lr = 5.0e-5\n",
    "wd = 0.0\n",
    "alphas = [8, 16]\n",
    "ranks = [8, 16]\n",
    "lora_dropout = 0.0\n",
    "\n",
    "\n",
    "for a,r in zip(alphas, ranks):\n",
    "    print(f'Grid search {model_checkpoint}, learning rate {lr} wd: {wd}, Lora alpha {a}, rank {r}')\n",
    "    data = ClimateDataset(model_to_train=2,model_checkpoint=model_checkpoint,dataset_url=flicc_path,batch_size=16)\n",
    "    data.setup_dataloaders()\n",
    "    model = ClassificationModel(model_checkpoint=data.model_checkpoint,\n",
    "                            num_labels=data.num_labels,\n",
    "                            lora=True,\n",
    "                            r=r,\n",
    "                            alpha=a,\n",
    "                            dropout=lora_dropout)\n",
    "    trainer = Engine(epochs=30,labels=data.labels)\n",
    "    trainer.model = model.model\n",
    "    trainer.dataset_encoded = data.dataset_encoded\n",
    "    test_acc, test_f1, eval_acc, eval_f1 = trainer.run(lr=lr,\n",
    "                          wd=wd,\n",
    "                          train_dataloader=data.train_dataloader,\n",
    "                          eval_dataloader=data.eval_dataloader,\n",
    "                          test_dataloader=data.test_dataloader,\n",
    "                          accumulation_steps=2,\n",
    "                          early_stop=3)\n",
    "    results['test_acc'].append(test_acc)\n",
    "    results['test_f1'].append(test_f1)\n",
    "    results['eval_acc'].append(eval_acc)\n",
    "    results['eval_f1'].append(eval_f1)\n",
    "    results['rank, alpha'].append(r)\n",
    "    print('### '*10)\n",
    "    print(results)\n",
    "    print('### '*10)\n",
    "    with torch.no_grad():\n",
    "        torch.cuda.empty_cache()\n",
    "    del data, model, trainer, test_acc, test_f1, eval_acc, eval_f1\n",
    "    gc.collect()"
   ]
  },
  {
   "cell_type": "code",
   "execution_count": 5,
   "metadata": {},
   "outputs": [
    {
     "data": {
      "image/png": "[encoded data removed]",
      "text/plain": [
       "<Figure size 640x480 with 1 Axes>"
      ]
     },
     "metadata": {},
     "output_type": "display_data"
    }
   ],
   "source": [
    "Engine.plot_grid_search(df=results,\n",
    "                        title=f'LORA, lr: {lr} {model_checkpoint}',\n",
    "                        column='rank, alpha',\n",
    "                        sci_format=False)"
   ]
  },
  {
   "cell_type": "code",
   "execution_count": 6,
   "metadata": {},
   "outputs": [],
   "source": [
    "%reset -f"
   ]
  }
 ],
 "metadata": {
  "kernelspec": {
   "display_name": "Python 3",
   "language": "python",
   "name": "python3"
  },
  "language_info": {
   "codemirror_mode": {
    "name": "ipython",
    "version": 3
   },
   "file_extension": ".py",
   "mimetype": "text/x-python",
   "name": "python",
   "nbconvert_exporter": "python",
   "pygments_lexer": "ipython3",
   "version": "3.11.5"
  },
  "orig_nbformat": 4
 },
 "nbformat": 4,
 "nbformat_minor": 2
}
