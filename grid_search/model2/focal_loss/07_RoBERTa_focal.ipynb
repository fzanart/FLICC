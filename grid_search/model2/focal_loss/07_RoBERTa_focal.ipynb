{
 "cells": [
  {
   "cell_type": "code",
   "execution_count": 1,
   "metadata": {},
   "outputs": [],
   "source": [
    "import os\n",
    "import sys\n",
    "import gc\n",
    "# assuming data, models, engine in flicc directory:\n",
    "flicc_path = os.path.realpath(\"__file__\").split('grid_search')[0]\n",
    "sys.path.append(flicc_path)\n",
    "import torch\n",
    "from data import ClimateDataset\n",
    "from models import ClassificationModel\n",
    "from engine import Engine"
   ]
  },
  {
   "cell_type": "code",
   "execution_count": 2,
   "metadata": {},
   "outputs": [],
   "source": [
    "model_checkpoint='roberta-large'"
   ]
  },
  {
   "cell_type": "code",
   "execution_count": 3,
   "metadata": {},
   "outputs": [],
   "source": [
    "results = {'test_acc':[],\n",
    "           'test_f1':[],\n",
    "           'eval_acc':[],\n",
    "           'eval_f1':[],\n",
    "           'g':[]}"
   ]
  },
  {
   "cell_type": "code",
   "execution_count": 4,
   "metadata": {},
   "outputs": [
    {
     "name": "stdout",
     "output_type": "stream",
     "text": [
      "Grid search roberta-large, learning rate 5e-05, focal loss gamma 2\n"
     ]
    },
    {
     "name": "stderr",
     "output_type": "stream",
     "text": [
      "Some weights of RobertaForSequenceClassification were not initialized from the model checkpoint at roberta-large and are newly initialized: ['classifier.dense.bias', 'classifier.dense.weight', 'classifier.out_proj.bias', 'classifier.out_proj.weight']\n",
      "You should probably TRAIN this model on a down-stream task to be able to use it for predictions and inference.\n",
      "You're using a RobertaTokenizerFast tokenizer. Please note that with a fast tokenizer, using the `__call__` method is faster than using a method to encode the text followed by a call to the `pad` method to get a padded encoding.\n"
     ]
    },
    {
     "name": "stdout",
     "output_type": "stream",
     "text": [
      "1 / 30: Train Loss:\t0.7094\tVal Loss:\t1.2060\tAccuracy:\t0.4454\tF1:\t0.3843\n",
      "2 / 30: Train Loss:\t0.6634\tVal Loss:\t0.7363\tAccuracy:\t0.7143\tF1:\t0.7135\n",
      "3 / 30: Train Loss:\t0.3706\tVal Loss:\t0.6442\tAccuracy:\t0.7227\tF1:\t0.7112\n",
      "4 / 30: Train Loss:\t0.2795\tVal Loss:\t0.6457\tAccuracy:\t0.7731\tF1:\t0.7662\n",
      "5 / 30: Train Loss:\t0.2121\tVal Loss:\t0.5521\tAccuracy:\t0.7731\tF1:\t0.7721\n",
      "6 / 30: Train Loss:\t0.1981\tVal Loss:\t0.6244\tAccuracy:\t0.7227\tF1:\t0.7290\n",
      "7 / 30: Train Loss:\t0.0754\tVal Loss:\t0.5864\tAccuracy:\t0.7479\tF1:\t0.7509\n",
      "8 / 30: Train Loss:\t0.0697\tVal Loss:\t0.7641\tAccuracy:\t0.7227\tF1:\t0.7274\n",
      "No improvement for 3 epochs. Stopping early.\n",
      "best (higgest macro f1-score) val results:\n",
      "                    precision    recall  f1-score   support\n",
      "\n",
      " misrepresentation       0.67      0.82      0.74        38\n",
      "oversimplification       0.86      0.69      0.77        36\n",
      "slothful induction       0.82      0.80      0.81        45\n",
      "\n",
      "          accuracy                           0.77       119\n",
      "         macro avg       0.78      0.77      0.77       119\n",
      "      weighted avg       0.79      0.77      0.77       119\n",
      "\n",
      "test results:\n",
      "                    precision    recall  f1-score   support\n",
      "\n",
      " misrepresentation       0.67      0.91      0.77        22\n",
      "oversimplification       0.70      0.70      0.70        20\n",
      "slothful induction       0.88      0.60      0.71        25\n",
      "\n",
      "          accuracy                           0.73        67\n",
      "         macro avg       0.75      0.74      0.73        67\n",
      "      weighted avg       0.76      0.73      0.73        67\n",
      "\n",
      "### ### ### ### ### ### ### ### ### ### \n",
      "{'test_acc': [0.7313432835820896], 'test_f1': [0.7278388278388278], 'eval_acc': [0.773109243697479], 'eval_f1': [0.7721049237903171], 'g': [2]}\n",
      "### ### ### ### ### ### ### ### ### ### \n",
      "Grid search roberta-large, learning rate 5e-05, focal loss gamma 4\n"
     ]
    },
    {
     "name": "stderr",
     "output_type": "stream",
     "text": [
      "Some weights of RobertaForSequenceClassification were not initialized from the model checkpoint at roberta-large and are newly initialized: ['classifier.dense.bias', 'classifier.dense.weight', 'classifier.out_proj.bias', 'classifier.out_proj.weight']\n",
      "You should probably TRAIN this model on a down-stream task to be able to use it for predictions and inference.\n",
      "You're using a RobertaTokenizerFast tokenizer. Please note that with a fast tokenizer, using the `__call__` method is faster than using a method to encode the text followed by a call to the `pad` method to get a padded encoding.\n"
     ]
    },
    {
     "name": "stdout",
     "output_type": "stream",
     "text": [
      "1 / 30: Train Loss:\t0.3439\tVal Loss:\t0.9926\tAccuracy:\t0.5042\tF1:\t0.4386\n",
      "2 / 30: Train Loss:\t0.2481\tVal Loss:\t0.7454\tAccuracy:\t0.7563\tF1:\t0.7549\n",
      "3 / 30: Train Loss:\t0.1646\tVal Loss:\t0.6710\tAccuracy:\t0.7815\tF1:\t0.7734\n",
      "4 / 30: Train Loss:\t0.1081\tVal Loss:\t0.7452\tAccuracy:\t0.7143\tF1:\t0.7136\n",
      "5 / 30: Train Loss:\t0.1224\tVal Loss:\t0.6371\tAccuracy:\t0.7647\tF1:\t0.7646\n",
      "6 / 30: Train Loss:\t0.0819\tVal Loss:\t0.6081\tAccuracy:\t0.7479\tF1:\t0.7490\n",
      "No improvement for 3 epochs. Stopping early.\n",
      "best (higgest macro f1-score) val results:\n",
      "                    precision    recall  f1-score   support\n",
      "\n",
      " misrepresentation       0.83      0.66      0.74        38\n",
      "oversimplification       0.96      0.64      0.77        36\n",
      "slothful induction       0.69      1.00      0.82        45\n",
      "\n",
      "          accuracy                           0.78       119\n",
      "         macro avg       0.83      0.77      0.77       119\n",
      "      weighted avg       0.82      0.78      0.78       119\n",
      "\n",
      "test results:\n",
      "                    precision    recall  f1-score   support\n",
      "\n",
      " misrepresentation       0.71      0.68      0.70        22\n",
      "oversimplification       0.74      0.70      0.72        20\n",
      "slothful induction       0.74      0.80      0.77        25\n",
      "\n",
      "          accuracy                           0.73        67\n",
      "         macro avg       0.73      0.73      0.73        67\n",
      "      weighted avg       0.73      0.73      0.73        67\n",
      "\n",
      "### ### ### ### ### ### ### ### ### ### \n",
      "{'test_acc': [0.7313432835820896, 0.7313432835820896], 'test_f1': [0.7278388278388278, 0.7282846352613794], 'eval_acc': [0.773109243697479, 0.7815126050420168], 'eval_f1': [0.7721049237903171, 0.7733808674985146], 'g': [2, 4]}\n",
      "### ### ### ### ### ### ### ### ### ### \n",
      "Grid search roberta-large, learning rate 5e-05, focal loss gamma 8\n"
     ]
    },
    {
     "name": "stderr",
     "output_type": "stream",
     "text": [
      "Some weights of RobertaForSequenceClassification were not initialized from the model checkpoint at roberta-large and are newly initialized: ['classifier.dense.bias', 'classifier.dense.weight', 'classifier.out_proj.bias', 'classifier.out_proj.weight']\n",
      "You should probably TRAIN this model on a down-stream task to be able to use it for predictions and inference.\n",
      "You're using a RobertaTokenizerFast tokenizer. Please note that with a fast tokenizer, using the `__call__` method is faster than using a method to encode the text followed by a call to the `pad` method to get a padded encoding.\n"
     ]
    },
    {
     "name": "stdout",
     "output_type": "stream",
     "text": [
      "1 / 30: Train Loss:\t0.0827\tVal Loss:\t1.0839\tAccuracy:\t0.4286\tF1:\t0.3528\n",
      "2 / 30: Train Loss:\t0.0628\tVal Loss:\t0.9572\tAccuracy:\t0.6303\tF1:\t0.6381\n",
      "3 / 30: Train Loss:\t0.0500\tVal Loss:\t0.8412\tAccuracy:\t0.6555\tF1:\t0.6577\n",
      "4 / 30: Train Loss:\t0.0646\tVal Loss:\t1.0917\tAccuracy:\t0.3782\tF1:\t0.1829\n",
      "5 / 30: Train Loss:\t0.0762\tVal Loss:\t1.0957\tAccuracy:\t0.3782\tF1:\t0.2586\n",
      "6 / 30: Train Loss:\t0.0669\tVal Loss:\t1.0883\tAccuracy:\t0.3782\tF1:\t0.2727\n",
      "No improvement for 3 epochs. Stopping early.\n",
      "best (higgest macro f1-score) val results:\n",
      "                    precision    recall  f1-score   support\n",
      "\n",
      " misrepresentation       0.49      0.97      0.65        38\n",
      "oversimplification       0.96      0.67      0.79        36\n",
      "slothful induction       0.89      0.38      0.53        45\n",
      "\n",
      "          accuracy                           0.66       119\n",
      "         macro avg       0.78      0.67      0.66       119\n",
      "      weighted avg       0.79      0.66      0.65       119\n",
      "\n",
      "test results:\n",
      "                    precision    recall  f1-score   support\n",
      "\n",
      " misrepresentation       0.49      0.95      0.65        22\n",
      "oversimplification       0.83      0.75      0.79        20\n",
      "slothful induction       1.00      0.24      0.39        25\n",
      "\n",
      "          accuracy                           0.63        67\n",
      "         macro avg       0.77      0.65      0.61        67\n",
      "      weighted avg       0.78      0.63      0.59        67\n",
      "\n",
      "### ### ### ### ### ### ### ### ### ### \n",
      "{'test_acc': [0.7313432835820896, 0.7313432835820896, 0.6268656716417911], 'test_f1': [0.7278388278388278, 0.7282846352613794, 0.6075747681859736], 'eval_acc': [0.773109243697479, 0.7815126050420168, 0.6554621848739496], 'eval_f1': [0.7721049237903171, 0.7733808674985146, 0.6576675008462692], 'g': [2, 4, 8]}\n",
      "### ### ### ### ### ### ### ### ### ### \n",
      "Grid search roberta-large, learning rate 5e-05, focal loss gamma 16\n"
     ]
    },
    {
     "name": "stderr",
     "output_type": "stream",
     "text": [
      "Some weights of RobertaForSequenceClassification were not initialized from the model checkpoint at roberta-large and are newly initialized: ['classifier.dense.bias', 'classifier.dense.weight', 'classifier.out_proj.bias', 'classifier.out_proj.weight']\n",
      "You should probably TRAIN this model on a down-stream task to be able to use it for predictions and inference.\n",
      "You're using a RobertaTokenizerFast tokenizer. Please note that with a fast tokenizer, using the `__call__` method is faster than using a method to encode the text followed by a call to the `pad` method to get a padded encoding.\n"
     ]
    },
    {
     "name": "stdout",
     "output_type": "stream",
     "text": [
      "1 / 30: Train Loss:\t0.0099\tVal Loss:\t1.1042\tAccuracy:\t0.3025\tF1:\t0.1548\n",
      "2 / 30: Train Loss:\t0.0047\tVal Loss:\t1.0988\tAccuracy:\t0.3193\tF1:\t0.1614\n",
      "3 / 30: Train Loss:\t0.0036\tVal Loss:\t1.0995\tAccuracy:\t0.3025\tF1:\t0.1548\n",
      "4 / 30: Train Loss:\t0.0032\tVal Loss:\t1.0987\tAccuracy:\t0.3025\tF1:\t0.1548\n",
      "5 / 30: Train Loss:\t0.0035\tVal Loss:\t1.0996\tAccuracy:\t0.3193\tF1:\t0.1614\n",
      "No improvement for 3 epochs. Stopping early.\n",
      "best (higgest macro f1-score) val results:\n",
      "                    precision    recall  f1-score   support\n",
      "\n",
      " misrepresentation       0.32      1.00      0.48        38\n",
      "oversimplification       0.00      0.00      0.00        36\n",
      "slothful induction       0.00      0.00      0.00        45\n",
      "\n",
      "          accuracy                           0.32       119\n",
      "         macro avg       0.11      0.33      0.16       119\n",
      "      weighted avg       0.10      0.32      0.15       119\n",
      "\n",
      "test results:\n",
      "                    precision    recall  f1-score   support\n",
      "\n",
      " misrepresentation       0.33      1.00      0.49        22\n",
      "oversimplification       0.00      0.00      0.00        20\n",
      "slothful induction       0.00      0.00      0.00        25\n",
      "\n",
      "          accuracy                           0.33        67\n",
      "         macro avg       0.11      0.33      0.16        67\n",
      "      weighted avg       0.11      0.33      0.16        67\n",
      "\n",
      "### ### ### ### ### ### ### ### ### ### \n",
      "{'test_acc': [0.7313432835820896, 0.7313432835820896, 0.6268656716417911, 0.3283582089552239], 'test_f1': [0.7278388278388278, 0.7282846352613794, 0.6075747681859736, 0.1647940074906367], 'eval_acc': [0.773109243697479, 0.7815126050420168, 0.6554621848739496, 0.31932773109243695], 'eval_f1': [0.7721049237903171, 0.7733808674985146, 0.6576675008462692, 0.1613588110403397], 'g': [2, 4, 8, 16]}\n",
      "### ### ### ### ### ### ### ### ### ### \n"
     ]
    }
   ],
   "source": [
    "gamma = [2,4,8,16]\n",
    "lr = 5.0e-5\n",
    "\n",
    "for g in gamma:\n",
    "    print(f'Grid search {model_checkpoint}, learning rate {lr}, focal loss gamma {g}')\n",
    "    data = ClimateDataset(model_to_train=2,model_checkpoint=model_checkpoint,dataset_url=flicc_path,batch_size=16)\n",
    "    data.setup_dataloaders()\n",
    "    model = ClassificationModel(model_checkpoint=data.model_checkpoint,num_labels=data.num_labels)\n",
    "    trainer = Engine(epochs=30,labels=data.labels)\n",
    "    trainer.model = model.model\n",
    "    trainer.dataset_encoded = data.dataset_encoded\n",
    "    test_acc, test_f1, eval_acc, eval_f1 = trainer.run(lr=lr,\n",
    "                                                       wd=0.0,\n",
    "                                                       train_dataloader=data.train_dataloader,\n",
    "                                                       eval_dataloader=data.eval_dataloader,\n",
    "                                                       test_dataloader=data.test_dataloader,\n",
    "                                                       accumulation_steps=2,\n",
    "                                                       focalloss=True,\n",
    "                                                       gamma=g,\n",
    "                                                       early_stop=3)\n",
    "    results['test_acc'].append(test_acc)\n",
    "    results['test_f1'].append(test_f1)\n",
    "    results['eval_acc'].append(eval_acc)\n",
    "    results['eval_f1'].append(eval_f1)\n",
    "    results['g'].append(g)\n",
    "    print('### '*10)\n",
    "    print(results)\n",
    "    print('### '*10)\n",
    "    with torch.no_grad():\n",
    "        torch.cuda.empty_cache()\n",
    "    del data, model, trainer, test_acc, test_f1, eval_acc, eval_f1\n",
    "    gc.collect()"
   ]
  },
  {
   "cell_type": "code",
   "execution_count": 5,
   "metadata": {},
   "outputs": [
    {
     "data": {
      "image/png": "[encoded data removed]",
      "text/plain": [
       "<Figure size 640x480 with 1 Axes>"
      ]
     },
     "metadata": {},
     "output_type": "display_data"
    }
   ],
   "source": [
    "Engine.plot_grid_search(df=results,\n",
    "                        title=f'Focal loss, lr: {lr}, {model_checkpoint}',\n",
    "                        column='g',\n",
    "                        sci_format=False)"
   ]
  },
  {
   "cell_type": "code",
   "execution_count": 6,
   "metadata": {},
   "outputs": [],
   "source": [
    "%reset -f"
   ]
  }
 ],
 "metadata": {
  "kernelspec": {
   "display_name": "Python 3",
   "language": "python",
   "name": "python3"
  },
  "language_info": {
   "codemirror_mode": {
    "name": "ipython",
    "version": 3
   },
   "file_extension": ".py",
   "mimetype": "text/x-python",
   "name": "python",
   "nbconvert_exporter": "python",
   "pygments_lexer": "ipython3",
   "version": "3.11.5"
  },
  "orig_nbformat": 4
 },
 "nbformat": 4,
 "nbformat_minor": 2
}
