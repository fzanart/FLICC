{
 "cells": [
  {
   "cell_type": "code",
   "execution_count": 1,
   "metadata": {},
   "outputs": [],
   "source": [
    "import torch\n",
    "from data import ClimateDataset\n",
    "from models import ClassificationModel\n",
    "from engine import Engine"
   ]
  },
  {
   "cell_type": "code",
   "execution_count": 2,
   "metadata": {},
   "outputs": [],
   "source": [
    "model_checkpoint='roberta-large'\n",
    "\n",
    "# the commands below didn't work inside for loop and got CUDA out of memory Error.\n",
    "#     with torch.no_grad():\n",
    "#        torch.cuda.empty_cache()\n",
    "#    del data, model, trainer, acc, f1\n",
    "# Instead of running these commands in a loop, execute them cell by cell, restarting between them.\n",
    "# Each cell will print its results. To keep the results and avoid re-running specific cells, skip them intermittently on each run."
   ]
  },
  {
   "cell_type": "code",
   "execution_count": 3,
   "metadata": {},
   "outputs": [],
   "source": [
    "results = {'acc':[],\n",
    "           'f1':[],\n",
    "           'g':[]}"
   ]
  },
  {
   "cell_type": "code",
   "execution_count": 4,
   "metadata": {},
   "outputs": [
    {
     "name": "stdout",
     "output_type": "stream",
     "text": [
      "Grid search roberta-large, lr: 1e-05 ,focal loss, gamma: 2\n"
     ]
    },
    {
     "name": "stderr",
     "output_type": "stream",
     "text": [
      "Some weights of RobertaForSequenceClassification were not initialized from the model checkpoint at roberta-large and are newly initialized: ['classifier.out_proj.weight', 'classifier.dense.bias', 'classifier.out_proj.bias', 'classifier.dense.weight']\n",
      "You should probably TRAIN this model on a down-stream task to be able to use it for predictions and inference.\n",
      "You're using a RobertaTokenizerFast tokenizer. Please note that with a fast tokenizer, using the `__call__` method is faster than using a method to encode the text followed by a call to the `pad` method to get a padded encoding.\n"
     ]
    },
    {
     "name": "stdout",
     "output_type": "stream",
     "text": [
      "1 / 30: Train Loss:\t0.7497\tVal Loss:\t1.0768\tAccuracy:\t0.4622\tF1:\t0.3397\n",
      "2 / 30: Train Loss:\t0.6683\tVal Loss:\t0.8424\tAccuracy:\t0.6471\tF1:\t0.6346\n",
      "3 / 30: Train Loss:\t0.4113\tVal Loss:\t0.6298\tAccuracy:\t0.7395\tF1:\t0.7348\n",
      "4 / 30: Train Loss:\t0.2043\tVal Loss:\t0.5822\tAccuracy:\t0.7815\tF1:\t0.7764\n",
      "5 / 30: Train Loss:\t0.1075\tVal Loss:\t0.5924\tAccuracy:\t0.7899\tF1:\t0.7870\n",
      "6 / 30: Train Loss:\t0.1052\tVal Loss:\t0.5033\tAccuracy:\t0.7983\tF1:\t0.7980\n",
      "7 / 30: Train Loss:\t0.0754\tVal Loss:\t0.5291\tAccuracy:\t0.8067\tF1:\t0.8042\n",
      "8 / 30: Train Loss:\t0.0696\tVal Loss:\t0.5198\tAccuracy:\t0.7899\tF1:\t0.7857\n",
      "9 / 30: Train Loss:\t0.0344\tVal Loss:\t0.4837\tAccuracy:\t0.8235\tF1:\t0.8196\n",
      "10 / 30: Train Loss:\t0.0638\tVal Loss:\t0.4976\tAccuracy:\t0.8151\tF1:\t0.8115\n",
      "11 / 30: Train Loss:\t0.0887\tVal Loss:\t0.7123\tAccuracy:\t0.7731\tF1:\t0.7661\n",
      "12 / 30: Train Loss:\t0.1374\tVal Loss:\t0.7560\tAccuracy:\t0.7227\tF1:\t0.7009\n",
      "No improvement for 3 epochs. Stopping early.\n",
      "best (higgest macro f1-score) val results:\n",
      "                    precision    recall  f1-score   support\n",
      "\n",
      " misrepresentation       0.93      0.37      0.53        38\n",
      "oversimplification       0.90      0.75      0.82        36\n",
      "slothful induction       0.61      1.00      0.76        45\n",
      "\n",
      "          accuracy                           0.72       119\n",
      "         macro avg       0.81      0.71      0.70       119\n",
      "      weighted avg       0.80      0.72      0.70       119\n",
      "\n",
      "test results:\n",
      "                    precision    recall  f1-score   support\n",
      "\n",
      " misrepresentation       0.92      0.50      0.65        22\n",
      "oversimplification       0.84      0.80      0.82        20\n",
      "slothful induction       0.61      0.88      0.72        25\n",
      "\n",
      "          accuracy                           0.73        67\n",
      "         macro avg       0.79      0.73      0.73        67\n",
      "      weighted avg       0.78      0.73      0.73        67\n",
      "\n",
      "### ### ### ### ### ### ### ### ### ### \n",
      "{'acc': [0.7313432835820896], 'f1': [0.7296277064840228], 'g': [2]}\n",
      "### ### ### ### ### ### ### ### ### ### \n"
     ]
    }
   ],
   "source": [
    "lr = 1.0e-5\n",
    "g = 2\n",
    "\n",
    "print(f'Grid search {model_checkpoint}, lr: {lr} ,focal loss, gamma: {g}')\n",
    "data = ClimateDataset(model_to_train=2,model_checkpoint=model_checkpoint,batch_size=16)\n",
    "data.setup_dataloaders()\n",
    "model = ClassificationModel(model_checkpoint=data.model_checkpoint,num_labels=data.num_labels)\n",
    "trainer = Engine(epochs=30,labels=data.labels)\n",
    "trainer.model = model.model\n",
    "trainer.dataset_encoded = data.dataset_encoded\n",
    "acc, f1 = trainer.run(lr=lr,\n",
    "                        wd=0.0,\n",
    "                        train_dataloader=data.train_dataloader,\n",
    "                        eval_dataloader=data.eval_dataloader,\n",
    "                        test_dataloader=data.test_dataloader,\n",
    "                        focalloss=True,\n",
    "                        early_stop=3,\n",
    "                        accumulation_steps=2,\n",
    "                        gamma=g)\n",
    "results['acc'].append(acc)\n",
    "results['f1'].append(f1)\n",
    "results['g'].append(g)\n",
    "print('### '*10)\n",
    "print(results)\n",
    "print('### '*10)"
   ]
  },
  {
   "cell_type": "code",
   "execution_count": 4,
   "metadata": {},
   "outputs": [
    {
     "name": "stdout",
     "output_type": "stream",
     "text": [
      "Grid search roberta-large, lr: 1e-05 ,focal loss, gamma: 4\n"
     ]
    },
    {
     "name": "stderr",
     "output_type": "stream",
     "text": [
      "Some weights of RobertaForSequenceClassification were not initialized from the model checkpoint at roberta-large and are newly initialized: ['classifier.dense.bias', 'classifier.out_proj.weight', 'classifier.out_proj.bias', 'classifier.dense.weight']\n",
      "You should probably TRAIN this model on a down-stream task to be able to use it for predictions and inference.\n",
      "You're using a RobertaTokenizerFast tokenizer. Please note that with a fast tokenizer, using the `__call__` method is faster than using a method to encode the text followed by a call to the `pad` method to get a padded encoding.\n"
     ]
    },
    {
     "name": "stdout",
     "output_type": "stream",
     "text": [
      "1 / 30: Train Loss:\t0.3451\tVal Loss:\t1.0819\tAccuracy:\t0.4706\tF1:\t0.3501\n",
      "2 / 30: Train Loss:\t0.3091\tVal Loss:\t0.9896\tAccuracy:\t0.6807\tF1:\t0.6698\n",
      "3 / 30: Train Loss:\t0.2148\tVal Loss:\t0.7278\tAccuracy:\t0.7143\tF1:\t0.7115\n",
      "4 / 30: Train Loss:\t0.1138\tVal Loss:\t0.6229\tAccuracy:\t0.7563\tF1:\t0.7547\n",
      "5 / 30: Train Loss:\t0.0617\tVal Loss:\t0.6503\tAccuracy:\t0.7899\tF1:\t0.7842\n",
      "6 / 30: Train Loss:\t0.0398\tVal Loss:\t0.5732\tAccuracy:\t0.7983\tF1:\t0.7938\n",
      "7 / 30: Train Loss:\t0.0686\tVal Loss:\t0.5872\tAccuracy:\t0.7563\tF1:\t0.7450\n",
      "8 / 30: Train Loss:\t0.0420\tVal Loss:\t0.5598\tAccuracy:\t0.7899\tF1:\t0.7856\n",
      "9 / 30: Train Loss:\t0.0144\tVal Loss:\t0.5409\tAccuracy:\t0.7815\tF1:\t0.7767\n",
      "No improvement for 3 epochs. Stopping early.\n",
      "best (higgest macro f1-score) val results:\n",
      "                    precision    recall  f1-score   support\n",
      "\n",
      " misrepresentation       0.86      0.66      0.75        38\n",
      "oversimplification       0.84      0.72      0.78        36\n",
      "slothful induction       0.71      0.93      0.81        45\n",
      "\n",
      "          accuracy                           0.78       119\n",
      "         macro avg       0.80      0.77      0.78       119\n",
      "      weighted avg       0.80      0.78      0.78       119\n",
      "\n",
      "test results:\n",
      "                    precision    recall  f1-score   support\n",
      "\n",
      " misrepresentation       0.74      0.77      0.76        22\n",
      "oversimplification       0.80      0.80      0.80        20\n",
      "slothful induction       0.75      0.72      0.73        25\n",
      "\n",
      "          accuracy                           0.76        67\n",
      "         macro avg       0.76      0.76      0.76        67\n",
      "      weighted avg       0.76      0.76      0.76        67\n",
      "\n",
      "### ### ### ### ### ### ### ### ### ### \n",
      "{'acc': [0.7611940298507462], 'f1': [0.763416477702192], 'g': [4]}\n",
      "### ### ### ### ### ### ### ### ### ### \n"
     ]
    }
   ],
   "source": [
    "lr = 1.0e-5\n",
    "g = 4\n",
    "\n",
    "print(f'Grid search {model_checkpoint}, lr: {lr} ,focal loss, gamma: {g}')\n",
    "data = ClimateDataset(model_to_train=2,model_checkpoint=model_checkpoint,batch_size=16)\n",
    "data.setup_dataloaders()\n",
    "model = ClassificationModel(model_checkpoint=data.model_checkpoint,num_labels=data.num_labels)\n",
    "trainer = Engine(epochs=30,labels=data.labels)\n",
    "trainer.model = model.model\n",
    "trainer.dataset_encoded = data.dataset_encoded\n",
    "acc, f1 = trainer.run(lr=lr,\n",
    "                        wd=0.0,\n",
    "                        train_dataloader=data.train_dataloader,\n",
    "                        eval_dataloader=data.eval_dataloader,\n",
    "                        test_dataloader=data.test_dataloader,\n",
    "                        focalloss=True,\n",
    "                        early_stop=3,\n",
    "                        accumulation_steps=2,\n",
    "                        gamma=g)\n",
    "results['acc'].append(acc)\n",
    "results['f1'].append(f1)\n",
    "results['g'].append(g)\n",
    "print('### '*10)\n",
    "print(results)\n",
    "print('### '*10)"
   ]
  },
  {
   "cell_type": "code",
   "execution_count": 4,
   "metadata": {},
   "outputs": [
    {
     "name": "stdout",
     "output_type": "stream",
     "text": [
      "Grid search roberta-large, lr: 1e-05 ,focal loss, gamma: 8\n"
     ]
    },
    {
     "name": "stderr",
     "output_type": "stream",
     "text": [
      "Some weights of RobertaForSequenceClassification were not initialized from the model checkpoint at roberta-large and are newly initialized: ['classifier.out_proj.weight', 'classifier.dense.bias', 'classifier.dense.weight', 'classifier.out_proj.bias']\n",
      "You should probably TRAIN this model on a down-stream task to be able to use it for predictions and inference.\n",
      "You're using a RobertaTokenizerFast tokenizer. Please note that with a fast tokenizer, using the `__call__` method is faster than using a method to encode the text followed by a call to the `pad` method to get a padded encoding.\n"
     ]
    },
    {
     "name": "stdout",
     "output_type": "stream",
     "text": [
      "1 / 30: Train Loss:\t0.0762\tVal Loss:\t1.0873\tAccuracy:\t0.5042\tF1:\t0.3846\n",
      "2 / 30: Train Loss:\t0.0654\tVal Loss:\t1.0482\tAccuracy:\t0.7143\tF1:\t0.6931\n",
      "3 / 30: Train Loss:\t0.0495\tVal Loss:\t0.8647\tAccuracy:\t0.7143\tF1:\t0.7137\n",
      "4 / 30: Train Loss:\t0.0392\tVal Loss:\t0.8781\tAccuracy:\t0.7899\tF1:\t0.7931\n",
      "5 / 30: Train Loss:\t0.0211\tVal Loss:\t0.6331\tAccuracy:\t0.7731\tF1:\t0.7751\n",
      "6 / 30: Train Loss:\t0.0113\tVal Loss:\t0.6099\tAccuracy:\t0.7983\tF1:\t0.7956\n",
      "7 / 30: Train Loss:\t0.0053\tVal Loss:\t0.6038\tAccuracy:\t0.8235\tF1:\t0.8239\n",
      "8 / 30: Train Loss:\t0.0032\tVal Loss:\t0.5826\tAccuracy:\t0.8067\tF1:\t0.8036\n",
      "9 / 30: Train Loss:\t0.0025\tVal Loss:\t0.6390\tAccuracy:\t0.7647\tF1:\t0.7599\n",
      "10 / 30: Train Loss:\t0.0021\tVal Loss:\t0.5556\tAccuracy:\t0.7899\tF1:\t0.7885\n",
      "No improvement for 3 epochs. Stopping early.\n",
      "best (higgest macro f1-score) val results:\n",
      "                    precision    recall  f1-score   support\n",
      "\n",
      " misrepresentation       0.75      0.79      0.77        38\n",
      "oversimplification       0.87      0.72      0.79        36\n",
      "slothful induction       0.78      0.84      0.81        45\n",
      "\n",
      "          accuracy                           0.79       119\n",
      "         macro avg       0.80      0.79      0.79       119\n",
      "      weighted avg       0.79      0.79      0.79       119\n",
      "\n",
      "test results:\n",
      "                    precision    recall  f1-score   support\n",
      "\n",
      " misrepresentation       0.67      0.82      0.73        22\n",
      "oversimplification       0.75      0.75      0.75        20\n",
      "slothful induction       0.75      0.60      0.67        25\n",
      "\n",
      "          accuracy                           0.72        67\n",
      "         macro avg       0.72      0.72      0.72        67\n",
      "      weighted avg       0.72      0.72      0.71        67\n",
      "\n",
      "### ### ### ### ### ### ### ### ### ### \n",
      "{'acc': [0.7164179104477612], 'f1': [0.7171201814058956], 'g': [8]}\n",
      "### ### ### ### ### ### ### ### ### ### \n"
     ]
    }
   ],
   "source": [
    "lr = 1.0e-5\n",
    "g = 8\n",
    "\n",
    "print(f'Grid search {model_checkpoint}, lr: {lr} ,focal loss, gamma: {g}')\n",
    "data = ClimateDataset(model_to_train=2,model_checkpoint=model_checkpoint,batch_size=16)\n",
    "data.setup_dataloaders()\n",
    "model = ClassificationModel(model_checkpoint=data.model_checkpoint,num_labels=data.num_labels)\n",
    "trainer = Engine(epochs=30,labels=data.labels)\n",
    "trainer.model = model.model\n",
    "trainer.dataset_encoded = data.dataset_encoded\n",
    "acc, f1 = trainer.run(lr=lr,\n",
    "                        wd=0.0,\n",
    "                        train_dataloader=data.train_dataloader,\n",
    "                        eval_dataloader=data.eval_dataloader,\n",
    "                        test_dataloader=data.test_dataloader,\n",
    "                        focalloss=True,\n",
    "                        early_stop=3,\n",
    "                        accumulation_steps=2,\n",
    "                        gamma=g)\n",
    "results['acc'].append(acc)\n",
    "results['f1'].append(f1)\n",
    "results['g'].append(g)\n",
    "print('### '*10)\n",
    "print(results)\n",
    "print('### '*10)"
   ]
  },
  {
   "cell_type": "code",
   "execution_count": 4,
   "metadata": {},
   "outputs": [
    {
     "name": "stdout",
     "output_type": "stream",
     "text": [
      "Grid search roberta-large, lr: 1e-05 ,focal loss, gamma: 16\n"
     ]
    },
    {
     "name": "stderr",
     "output_type": "stream",
     "text": [
      "Some weights of RobertaForSequenceClassification were not initialized from the model checkpoint at roberta-large and are newly initialized: ['classifier.dense.bias', 'classifier.dense.weight', 'classifier.out_proj.bias', 'classifier.out_proj.weight']\n",
      "You should probably TRAIN this model on a down-stream task to be able to use it for predictions and inference.\n",
      "You're using a RobertaTokenizerFast tokenizer. Please note that with a fast tokenizer, using the `__call__` method is faster than using a method to encode the text followed by a call to the `pad` method to get a padded encoding.\n"
     ]
    },
    {
     "name": "stdout",
     "output_type": "stream",
     "text": [
      "1 / 30: Train Loss:\t0.0046\tVal Loss:\t1.0921\tAccuracy:\t0.5210\tF1:\t0.4119\n",
      "2 / 30: Train Loss:\t0.0032\tVal Loss:\t1.0859\tAccuracy:\t0.5042\tF1:\t0.4817\n",
      "3 / 30: Train Loss:\t0.0030\tVal Loss:\t1.0706\tAccuracy:\t0.5966\tF1:\t0.5986\n",
      "4 / 30: Train Loss:\t0.0025\tVal Loss:\t1.0394\tAccuracy:\t0.6303\tF1:\t0.5859\n",
      "5 / 30: Train Loss:\t0.0021\tVal Loss:\t0.9753\tAccuracy:\t0.7143\tF1:\t0.7092\n",
      "6 / 30: Train Loss:\t0.0015\tVal Loss:\t0.9001\tAccuracy:\t0.7815\tF1:\t0.7834\n",
      "7 / 30: Train Loss:\t0.0022\tVal Loss:\t0.9790\tAccuracy:\t0.7311\tF1:\t0.7236\n",
      "8 / 30: Train Loss:\t0.0016\tVal Loss:\t0.9861\tAccuracy:\t0.7059\tF1:\t0.7061\n",
      "9 / 30: Train Loss:\t0.0013\tVal Loss:\t0.8764\tAccuracy:\t0.7815\tF1:\t0.7748\n",
      "No improvement for 3 epochs. Stopping early.\n",
      "best (higgest macro f1-score) val results:\n",
      "                    precision    recall  f1-score   support\n",
      "\n",
      " misrepresentation       0.76      0.76      0.76        38\n",
      "oversimplification       0.96      0.61      0.75        36\n",
      "slothful induction       0.72      0.93      0.82        45\n",
      "\n",
      "          accuracy                           0.78       119\n",
      "         macro avg       0.81      0.77      0.77       119\n",
      "      weighted avg       0.81      0.78      0.78       119\n",
      "\n",
      "test results:\n",
      "                    precision    recall  f1-score   support\n",
      "\n",
      " misrepresentation       0.67      0.73      0.70        22\n",
      "oversimplification       0.88      0.70      0.78        20\n",
      "slothful induction       0.70      0.76      0.73        25\n",
      "\n",
      "          accuracy                           0.73        67\n",
      "         macro avg       0.75      0.73      0.73        67\n",
      "      weighted avg       0.74      0.73      0.73        67\n",
      "\n",
      "### ### ### ### ### ### ### ### ### ### \n",
      "{'acc': [0.7313432835820896], 'f1': [0.7347330608200173], 'g': [16]}\n",
      "### ### ### ### ### ### ### ### ### ### \n"
     ]
    }
   ],
   "source": [
    "lr = 1.0e-5\n",
    "g = 16\n",
    "\n",
    "print(f'Grid search {model_checkpoint}, lr: {lr} ,focal loss, gamma: {g}')\n",
    "data = ClimateDataset(model_to_train=2,model_checkpoint=model_checkpoint,batch_size=16)\n",
    "data.setup_dataloaders()\n",
    "model = ClassificationModel(model_checkpoint=data.model_checkpoint,num_labels=data.num_labels)\n",
    "trainer = Engine(epochs=30,labels=data.labels)\n",
    "trainer.model = model.model\n",
    "trainer.dataset_encoded = data.dataset_encoded\n",
    "acc, f1 = trainer.run(lr=lr,\n",
    "                        wd=0.0,\n",
    "                        train_dataloader=data.train_dataloader,\n",
    "                        eval_dataloader=data.eval_dataloader,\n",
    "                        test_dataloader=data.test_dataloader,\n",
    "                        focalloss=True,\n",
    "                        early_stop=3,\n",
    "                        accumulation_steps=2,\n",
    "                        gamma=g)\n",
    "results['acc'].append(acc)\n",
    "results['f1'].append(f1)\n",
    "results['g'].append(g)\n",
    "print('### '*10)\n",
    "print(results)\n",
    "print('### '*10)"
   ]
  },
  {
   "cell_type": "code",
   "execution_count": 15,
   "metadata": {},
   "outputs": [],
   "source": [
    "from collections import defaultdict \n",
    "\n",
    "a = {'acc': [0.7313432835820896], 'f1': [0.7296277064840228], 'g': [2]}\n",
    "b = {'acc': [0.7611940298507462], 'f1': [0.763416477702192], 'g': [4]}\n",
    "c = {'acc': [0.7164179104477612], 'f1': [0.7171201814058956], 'g': [8]}\n",
    "d = {'acc': [0.7313432835820896], 'f1': [0.7347330608200173], 'g': [16]}\n",
    "\n",
    "results = defaultdict(list)\n",
    "for d in (a,b,c,d):\n",
    "    for k,v in d.items():\n",
    "        results[k].append(v[0])"
   ]
  },
  {
   "cell_type": "code",
   "execution_count": 16,
   "metadata": {},
   "outputs": [],
   "source": [
    "import matplotlib.pyplot as plt\n",
    "import seaborn as sns\n",
    "import pandas as pd"
   ]
  },
  {
   "cell_type": "code",
   "execution_count": 18,
   "metadata": {},
   "outputs": [
    {
     "data": {
      "image/png": "[encoded data removed]",
      "text/plain": [
       "<Figure size 640x480 with 1 Axes>"
      ]
     },
     "metadata": {},
     "output_type": "display_data"
    }
   ],
   "source": [
    "def plot_grid_search(df, title):\n",
    "\n",
    "    # Create the plot\n",
    "    ax = df.plot(x='g', y=['acc', 'f1'], marker='o', linestyle='-')\n",
    "\n",
    "    # Set y-axis range between 0 and 1\n",
    "    plt.ylim(0, 1)\n",
    "\n",
    "    # Annotate points with F1 scores\n",
    "    for i, row in df.iterrows(): \n",
    "        ax.annotate(f'{row[\"f1\"]:.2f}', (row[\"g\"], row[\"f1\"]), textcoords='offset points', xytext=(0, -10), ha='center')\n",
    "\n",
    "    # Annotate points with Acc scores\n",
    "    for i, row in df.iterrows():\n",
    "        ax.annotate(f'{row[\"acc\"]:.2f}', (row[\"g\"], row[\"acc\"]), textcoords='offset points', xytext=(0, 10), ha='center')\n",
    "    \n",
    "    # \n",
    "    plt.xticks(df['g'], [val for val in df['g']], ha='center')\n",
    "    plt.minorticks_off()\n",
    "\n",
    "    plt.title(title)\n",
    "    plt.xlabel('gamma')\n",
    "    plt.ylabel('Score')\n",
    "    plt.show()\n",
    "\n",
    "plot_grid_search(pd.DataFrame(results), f'Focal loss, lr: 1.0e-5 {model_checkpoint}')"
   ]
  }
 ],
 "metadata": {
  "kernelspec": {
   "display_name": "Python 3",
   "language": "python",
   "name": "python3"
  },
  "language_info": {
   "codemirror_mode": {
    "name": "ipython",
    "version": 3
   },
   "file_extension": ".py",
   "mimetype": "text/x-python",
   "name": "python",
   "nbconvert_exporter": "python",
   "pygments_lexer": "ipython3",
   "version": "3.11.5"
  },
  "orig_nbformat": 4
 },
 "nbformat": 4,
 "nbformat_minor": 2
}
