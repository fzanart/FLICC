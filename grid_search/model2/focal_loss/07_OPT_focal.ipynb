{
 "cells": [
  {
   "cell_type": "code",
   "execution_count": 1,
   "metadata": {},
   "outputs": [],
   "source": [
    "import os\n",
    "import sys\n",
    "import gc\n",
    "# assuming data, models, engine in flicc directory:\n",
    "flicc_path = os.path.realpath(\"__file__\").split('grid_search')[0]\n",
    "sys.path.append(flicc_path)\n",
    "import torch\n",
    "from data import ClimateDataset\n",
    "from models import ClassificationModel\n",
    "from engine import Engine"
   ]
  },
  {
   "cell_type": "code",
   "execution_count": 2,
   "metadata": {},
   "outputs": [],
   "source": [
    "model_checkpoint='facebook/opt-350m'"
   ]
  },
  {
   "cell_type": "code",
   "execution_count": 3,
   "metadata": {},
   "outputs": [],
   "source": [
    "results = {'test_acc':[],\n",
    "           'test_f1':[],\n",
    "           'eval_acc':[],\n",
    "           'eval_f1':[],\n",
    "           'g':[]}"
   ]
  },
  {
   "cell_type": "code",
   "execution_count": 4,
   "metadata": {},
   "outputs": [
    {
     "name": "stdout",
     "output_type": "stream",
     "text": [
      "Grid search facebook/opt-350m, learning rate 1e-05, focal loss gamma 2\n"
     ]
    },
    {
     "name": "stderr",
     "output_type": "stream",
     "text": [
      "Some weights of OPTForSequenceClassification were not initialized from the model checkpoint at facebook/opt-350m and are newly initialized: ['score.weight']\n",
      "You should probably TRAIN this model on a down-stream task to be able to use it for predictions and inference.\n",
      "You're using a GPT2TokenizerFast tokenizer. Please note that with a fast tokenizer, using the `__call__` method is faster than using a method to encode the text followed by a call to the `pad` method to get a padded encoding.\n"
     ]
    },
    {
     "name": "stdout",
     "output_type": "stream",
     "text": [
      "1 / 30: Train Loss:\t3.2594\tVal Loss:\t1.1972\tAccuracy:\t0.4118\tF1:\t0.3560\n",
      "2 / 30: Train Loss:\t1.0250\tVal Loss:\t0.8966\tAccuracy:\t0.6387\tF1:\t0.6042\n",
      "3 / 30: Train Loss:\t0.6893\tVal Loss:\t0.8489\tAccuracy:\t0.5966\tF1:\t0.6003\n",
      "4 / 30: Train Loss:\t0.6259\tVal Loss:\t0.8087\tAccuracy:\t0.6050\tF1:\t0.5953\n",
      "5 / 30: Train Loss:\t0.6395\tVal Loss:\t0.7391\tAccuracy:\t0.7227\tF1:\t0.7216\n",
      "6 / 30: Train Loss:\t0.6453\tVal Loss:\t0.7291\tAccuracy:\t0.6891\tF1:\t0.6710\n",
      "7 / 30: Train Loss:\t0.6790\tVal Loss:\t0.9360\tAccuracy:\t0.5462\tF1:\t0.4964\n",
      "8 / 30: Train Loss:\t0.6223\tVal Loss:\t0.8392\tAccuracy:\t0.6891\tF1:\t0.6926\n",
      "No improvement for 3 epochs. Stopping early.\n",
      "best (higgest macro f1-score) val results:\n",
      "                    precision    recall  f1-score   support\n",
      "\n",
      " misrepresentation       0.68      0.71      0.69        38\n",
      "oversimplification       0.68      0.75      0.71        36\n",
      "slothful induction       0.82      0.71      0.76        45\n",
      "\n",
      "          accuracy                           0.72       119\n",
      "         macro avg       0.72      0.72      0.72       119\n",
      "      weighted avg       0.73      0.72      0.72       119\n",
      "\n",
      "test results:\n",
      "                    precision    recall  f1-score   support\n",
      "\n",
      " misrepresentation       0.62      0.68      0.65        22\n",
      "oversimplification       0.70      0.70      0.70        20\n",
      "slothful induction       0.78      0.72      0.75        25\n",
      "\n",
      "          accuracy                           0.70        67\n",
      "         macro avg       0.70      0.70      0.70        67\n",
      "      weighted avg       0.71      0.70      0.70        67\n",
      "\n",
      "### ### ### ### ### ### ### ### ### ### \n",
      "{'test_acc': [0.7014925373134329], 'test_f1': [0.7007246376811594], 'eval_acc': [0.7226890756302521], 'eval_f1': [0.7215795900006426], 'g': [2]}\n",
      "### ### ### ### ### ### ### ### ### ### \n",
      "Grid search facebook/opt-350m, learning rate 1e-05, focal loss gamma 4\n"
     ]
    },
    {
     "name": "stderr",
     "output_type": "stream",
     "text": [
      "Some weights of OPTForSequenceClassification were not initialized from the model checkpoint at facebook/opt-350m and are newly initialized: ['score.weight']\n",
      "You should probably TRAIN this model on a down-stream task to be able to use it for predictions and inference.\n",
      "You're using a GPT2TokenizerFast tokenizer. Please note that with a fast tokenizer, using the `__call__` method is faster than using a method to encode the text followed by a call to the `pad` method to get a padded encoding.\n"
     ]
    },
    {
     "name": "stdout",
     "output_type": "stream",
     "text": [
      "1 / 30: Train Loss:\t2.9522\tVal Loss:\t1.1869\tAccuracy:\t0.3697\tF1:\t0.2986\n",
      "2 / 30: Train Loss:\t0.7506\tVal Loss:\t0.9809\tAccuracy:\t0.4286\tF1:\t0.3759\n",
      "3 / 30: Train Loss:\t0.3082\tVal Loss:\t0.8798\tAccuracy:\t0.6218\tF1:\t0.6142\n",
      "4 / 30: Train Loss:\t0.3103\tVal Loss:\t0.8311\tAccuracy:\t0.6723\tF1:\t0.6613\n",
      "5 / 30: Train Loss:\t0.2664\tVal Loss:\t0.7961\tAccuracy:\t0.6639\tF1:\t0.6427\n",
      "6 / 30: Train Loss:\t0.2699\tVal Loss:\t0.7601\tAccuracy:\t0.6639\tF1:\t0.6476\n",
      "7 / 30: Train Loss:\t0.2714\tVal Loss:\t0.7442\tAccuracy:\t0.6807\tF1:\t0.6675\n",
      "8 / 30: Train Loss:\t0.2620\tVal Loss:\t0.7415\tAccuracy:\t0.6807\tF1:\t0.6797\n",
      "9 / 30: Train Loss:\t0.2546\tVal Loss:\t0.7433\tAccuracy:\t0.7059\tF1:\t0.7051\n",
      "10 / 30: Train Loss:\t0.2471\tVal Loss:\t0.9049\tAccuracy:\t0.5966\tF1:\t0.5869\n",
      "11 / 30: Train Loss:\t0.3010\tVal Loss:\t1.2492\tAccuracy:\t0.4454\tF1:\t0.4232\n",
      "12 / 30: Train Loss:\t0.6919\tVal Loss:\t1.0681\tAccuracy:\t0.4874\tF1:\t0.4164\n",
      "No improvement for 3 epochs. Stopping early.\n",
      "best (higgest macro f1-score) val results:\n",
      "                    precision    recall  f1-score   support\n",
      "\n",
      " misrepresentation       0.66      0.82      0.73        38\n",
      "oversimplification       0.68      0.75      0.71        36\n",
      "slothful induction       0.81      0.58      0.68        45\n",
      "\n",
      "          accuracy                           0.71       119\n",
      "         macro avg       0.72      0.71      0.71       119\n",
      "      weighted avg       0.72      0.71      0.70       119\n",
      "\n",
      "test results:\n",
      "                    precision    recall  f1-score   support\n",
      "\n",
      " misrepresentation       0.60      0.68      0.64        22\n",
      "oversimplification       0.48      0.75      0.59        20\n",
      "slothful induction       0.64      0.28      0.39        25\n",
      "\n",
      "          accuracy                           0.55        67\n",
      "         macro avg       0.57      0.57      0.54        67\n",
      "      weighted avg       0.58      0.55      0.53        67\n",
      "\n",
      "### ### ### ### ### ### ### ### ### ### \n",
      "{'test_acc': [0.7014925373134329, 0.5522388059701493], 'test_f1': [0.7007246376811594, 0.5384740184489871], 'eval_acc': [0.7226890756302521, 0.7058823529411765], 'eval_f1': [0.7215795900006426, 0.7050875852733438], 'g': [2, 4]}\n",
      "### ### ### ### ### ### ### ### ### ### \n",
      "Grid search facebook/opt-350m, learning rate 1e-05, focal loss gamma 8\n"
     ]
    },
    {
     "name": "stderr",
     "output_type": "stream",
     "text": [
      "Some weights of OPTForSequenceClassification were not initialized from the model checkpoint at facebook/opt-350m and are newly initialized: ['score.weight']\n",
      "You should probably TRAIN this model on a down-stream task to be able to use it for predictions and inference.\n",
      "You're using a GPT2TokenizerFast tokenizer. Please note that with a fast tokenizer, using the `__call__` method is faster than using a method to encode the text followed by a call to the `pad` method to get a padded encoding.\n"
     ]
    },
    {
     "name": "stdout",
     "output_type": "stream",
     "text": [
      "1 / 30: Train Loss:\t1.6938\tVal Loss:\t1.3368\tAccuracy:\t0.3697\tF1:\t0.2974\n",
      "2 / 30: Train Loss:\t0.1746\tVal Loss:\t0.9620\tAccuracy:\t0.5126\tF1:\t0.4855\n",
      "3 / 30: Train Loss:\t0.1113\tVal Loss:\t0.9740\tAccuracy:\t0.4790\tF1:\t0.4320\n",
      "4 / 30: Train Loss:\t0.1276\tVal Loss:\t0.8735\tAccuracy:\t0.6471\tF1:\t0.6428\n",
      "5 / 30: Train Loss:\t0.1532\tVal Loss:\t0.9486\tAccuracy:\t0.4286\tF1:\t0.3886\n",
      "6 / 30: Train Loss:\t0.2037\tVal Loss:\t0.9452\tAccuracy:\t0.4622\tF1:\t0.4254\n",
      "7 / 30: Train Loss:\t0.2069\tVal Loss:\t0.9393\tAccuracy:\t0.5294\tF1:\t0.4859\n",
      "No improvement for 3 epochs. Stopping early.\n",
      "best (higgest macro f1-score) val results:\n",
      "                    precision    recall  f1-score   support\n",
      "\n",
      " misrepresentation       0.57      0.53      0.55        38\n",
      "oversimplification       0.79      0.61      0.69        36\n",
      "slothful induction       0.62      0.78      0.69        45\n",
      "\n",
      "          accuracy                           0.65       119\n",
      "         macro avg       0.66      0.64      0.64       119\n",
      "      weighted avg       0.66      0.65      0.65       119\n",
      "\n",
      "test results:\n",
      "                    precision    recall  f1-score   support\n",
      "\n",
      " misrepresentation       0.60      0.68      0.64        22\n",
      "oversimplification       0.73      0.55      0.63        20\n",
      "slothful induction       0.67      0.72      0.69        25\n",
      "\n",
      "          accuracy                           0.66        67\n",
      "         macro avg       0.67      0.65      0.65        67\n",
      "      weighted avg       0.66      0.66      0.66        67\n",
      "\n",
      "### ### ### ### ### ### ### ### ### ### \n",
      "{'test_acc': [0.7014925373134329, 0.5522388059701493, 0.6567164179104478], 'test_f1': [0.7007246376811594, 0.5384740184489871, 0.6530589977398488], 'eval_acc': [0.7226890756302521, 0.7058823529411765, 0.6470588235294118], 'eval_f1': [0.7215795900006426, 0.7050875852733438, 0.6428381708033818], 'g': [2, 4, 8]}\n",
      "### ### ### ### ### ### ### ### ### ### \n",
      "Grid search facebook/opt-350m, learning rate 1e-05, focal loss gamma 16\n"
     ]
    },
    {
     "name": "stderr",
     "output_type": "stream",
     "text": [
      "Some weights of OPTForSequenceClassification were not initialized from the model checkpoint at facebook/opt-350m and are newly initialized: ['score.weight']\n",
      "You should probably TRAIN this model on a down-stream task to be able to use it for predictions and inference.\n",
      "You're using a GPT2TokenizerFast tokenizer. Please note that with a fast tokenizer, using the `__call__` method is faster than using a method to encode the text followed by a call to the `pad` method to get a padded encoding.\n"
     ]
    },
    {
     "name": "stdout",
     "output_type": "stream",
     "text": [
      "1 / 30: Train Loss:\t1.3680\tVal Loss:\t1.2412\tAccuracy:\t0.3782\tF1:\t0.2976\n",
      "2 / 30: Train Loss:\t0.0435\tVal Loss:\t0.9915\tAccuracy:\t0.5294\tF1:\t0.4962\n",
      "3 / 30: Train Loss:\t0.0127\tVal Loss:\t0.9708\tAccuracy:\t0.5042\tF1:\t0.4915\n",
      "4 / 30: Train Loss:\t0.0104\tVal Loss:\t0.9585\tAccuracy:\t0.5210\tF1:\t0.5041\n",
      "5 / 30: Train Loss:\t0.0076\tVal Loss:\t0.9614\tAccuracy:\t0.4622\tF1:\t0.4391\n",
      "6 / 30: Train Loss:\t0.0071\tVal Loss:\t0.9578\tAccuracy:\t0.5294\tF1:\t0.5209\n",
      "7 / 30: Train Loss:\t0.0083\tVal Loss:\t0.9427\tAccuracy:\t0.5882\tF1:\t0.5879\n",
      "8 / 30: Train Loss:\t0.0058\tVal Loss:\t0.9430\tAccuracy:\t0.6050\tF1:\t0.6069\n",
      "9 / 30: Train Loss:\t0.0065\tVal Loss:\t0.9388\tAccuracy:\t0.6218\tF1:\t0.6243\n",
      "10 / 30: Train Loss:\t0.0059\tVal Loss:\t0.9260\tAccuracy:\t0.6639\tF1:\t0.6625\n",
      "11 / 30: Train Loss:\t0.0071\tVal Loss:\t0.9323\tAccuracy:\t0.5630\tF1:\t0.5588\n",
      "12 / 30: Train Loss:\t0.0074\tVal Loss:\t0.9373\tAccuracy:\t0.5546\tF1:\t0.5350\n",
      "13 / 30: Train Loss:\t0.0058\tVal Loss:\t0.9211\tAccuracy:\t0.5714\tF1:\t0.5708\n",
      "No improvement for 3 epochs. Stopping early.\n",
      "best (higgest macro f1-score) val results:\n",
      "                    precision    recall  f1-score   support\n",
      "\n",
      " misrepresentation       0.57      0.66      0.61        38\n",
      "oversimplification       0.73      0.61      0.67        36\n",
      "slothful induction       0.71      0.71      0.71        45\n",
      "\n",
      "          accuracy                           0.66       119\n",
      "         macro avg       0.67      0.66      0.66       119\n",
      "      weighted avg       0.67      0.66      0.67       119\n",
      "\n",
      "test results:\n",
      "                    precision    recall  f1-score   support\n",
      "\n",
      " misrepresentation       0.48      0.55      0.51        22\n",
      "oversimplification       0.65      0.55      0.59        20\n",
      "slothful induction       0.68      0.68      0.68        25\n",
      "\n",
      "          accuracy                           0.60        67\n",
      "         macro avg       0.60      0.59      0.60        67\n",
      "      weighted avg       0.60      0.60      0.60        67\n",
      "\n",
      "### ### ### ### ### ### ### ### ### ### \n",
      "{'test_acc': [0.7014925373134329, 0.5522388059701493, 0.6567164179104478, 0.5970149253731343], 'test_f1': [0.7007246376811594, 0.5384740184489871, 0.6530589977398488, 0.5950776308223117], 'eval_acc': [0.7226890756302521, 0.7058823529411765, 0.6470588235294118, 0.6638655462184874], 'eval_f1': [0.7215795900006426, 0.7050875852733438, 0.6428381708033818, 0.6625112917795845], 'g': [2, 4, 8, 16]}\n",
      "### ### ### ### ### ### ### ### ### ### \n"
     ]
    }
   ],
   "source": [
    "gamma = [2,4,8,16]\n",
    "lr = 1.0e-5\n",
    "\n",
    "for g in gamma:\n",
    "    print(f'Grid search {model_checkpoint}, learning rate {lr}, focal loss gamma {g}')\n",
    "    data = ClimateDataset(model_to_train=2,model_checkpoint=model_checkpoint,dataset_url=flicc_path,batch_size=16)\n",
    "    data.setup_dataloaders()\n",
    "    model = ClassificationModel(model_checkpoint=data.model_checkpoint,num_labels=data.num_labels)\n",
    "    trainer = Engine(epochs=30,labels=data.labels)\n",
    "    trainer.model = model.model\n",
    "    trainer.dataset_encoded = data.dataset_encoded\n",
    "    test_acc, test_f1, eval_acc, eval_f1 = trainer.run(lr=lr,\n",
    "                                                       wd=0.0,\n",
    "                                                       train_dataloader=data.train_dataloader,\n",
    "                                                       eval_dataloader=data.eval_dataloader,\n",
    "                                                       test_dataloader=data.test_dataloader,\n",
    "                                                       focalloss=True,\n",
    "                                                       accumulation_steps=2,\n",
    "                                                       gamma=g,\n",
    "                                                       early_stop=3)\n",
    "    results['test_acc'].append(test_acc)\n",
    "    results['test_f1'].append(test_f1)\n",
    "    results['eval_acc'].append(eval_acc)\n",
    "    results['eval_f1'].append(eval_f1)\n",
    "    results['g'].append(g)\n",
    "    print('### '*10)\n",
    "    print(results)\n",
    "    print('### '*10)\n",
    "    with torch.no_grad():\n",
    "        torch.cuda.empty_cache()\n",
    "    del data, model, trainer, test_acc, test_f1, eval_acc, eval_f1\n",
    "    gc.collect()"
   ]
  },
  {
   "cell_type": "code",
   "execution_count": 5,
   "metadata": {},
   "outputs": [
    {
     "data": {
      "image/png": "[encoded data removed]",
      "text/plain": [
       "<Figure size 640x480 with 1 Axes>"
      ]
     },
     "metadata": {},
     "output_type": "display_data"
    }
   ],
   "source": [
    "Engine.plot_grid_search(df=results,\n",
    "                        title=f'Focal loss, lr: {lr}, {model_checkpoint}',\n",
    "                        column='g',\n",
    "                        sci_format=False)"
   ]
  },
  {
   "cell_type": "code",
   "execution_count": 6,
   "metadata": {},
   "outputs": [],
   "source": [
    "%reset -f"
   ]
  }
 ],
 "metadata": {
  "kernelspec": {
   "display_name": "Python 3",
   "language": "python",
   "name": "python3"
  },
  "language_info": {
   "codemirror_mode": {
    "name": "ipython",
    "version": 3
   },
   "file_extension": ".py",
   "mimetype": "text/x-python",
   "name": "python",
   "nbconvert_exporter": "python",
   "pygments_lexer": "ipython3",
   "version": "3.11.5"
  },
  "orig_nbformat": 4
 },
 "nbformat": 4,
 "nbformat_minor": 2
}
