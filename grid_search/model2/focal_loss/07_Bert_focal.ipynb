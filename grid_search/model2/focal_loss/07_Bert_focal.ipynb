{
 "cells": [
  {
   "cell_type": "code",
   "execution_count": 1,
   "metadata": {},
   "outputs": [],
   "source": [
    "import os\n",
    "import sys\n",
    "import gc\n",
    "# assuming data, models, engine in flicc directory:\n",
    "flicc_path = os.path.realpath(\"__file__\").split('grid_search')[0]\n",
    "sys.path.append(flicc_path)\n",
    "import torch\n",
    "from data import ClimateDataset\n",
    "from models import ClassificationModel\n",
    "from engine import Engine"
   ]
  },
  {
   "cell_type": "code",
   "execution_count": 2,
   "metadata": {},
   "outputs": [],
   "source": [
    "model_checkpoint='bert-base-uncased'"
   ]
  },
  {
   "cell_type": "code",
   "execution_count": 3,
   "metadata": {},
   "outputs": [],
   "source": [
    "results = {'test_acc':[],\n",
    "           'test_f1':[],\n",
    "           'eval_acc':[],\n",
    "           'eval_f1':[],\n",
    "           'g':[]}"
   ]
  },
  {
   "cell_type": "code",
   "execution_count": 4,
   "metadata": {},
   "outputs": [
    {
     "name": "stdout",
     "output_type": "stream",
     "text": [
      "Grid search bert-base-uncased, learning rate 5e-05, focal loss gamma 2\n"
     ]
    },
    {
     "name": "stderr",
     "output_type": "stream",
     "text": [
      "Some weights of BertForSequenceClassification were not initialized from the model checkpoint at bert-base-uncased and are newly initialized: ['classifier.bias', 'classifier.weight']\n",
      "You should probably TRAIN this model on a down-stream task to be able to use it for predictions and inference.\n",
      "You're using a BertTokenizerFast tokenizer. Please note that with a fast tokenizer, using the `__call__` method is faster than using a method to encode the text followed by a call to the `pad` method to get a padded encoding.\n"
     ]
    },
    {
     "name": "stdout",
     "output_type": "stream",
     "text": [
      "1 / 30: Train Loss:\t1.3486\tVal Loss:\t0.8856\tAccuracy:\t0.7479\tF1:\t0.7352\n",
      "2 / 30: Train Loss:\t0.8087\tVal Loss:\t0.6695\tAccuracy:\t0.7731\tF1:\t0.7711\n",
      "3 / 30: Train Loss:\t0.3032\tVal Loss:\t0.6003\tAccuracy:\t0.7983\tF1:\t0.7923\n",
      "4 / 30: Train Loss:\t0.0970\tVal Loss:\t0.7044\tAccuracy:\t0.7311\tF1:\t0.7262\n",
      "5 / 30: Train Loss:\t0.2111\tVal Loss:\t0.5545\tAccuracy:\t0.8067\tF1:\t0.8077\n",
      "6 / 30: Train Loss:\t0.2191\tVal Loss:\t0.7760\tAccuracy:\t0.6891\tF1:\t0.6845\n",
      "7 / 30: Train Loss:\t0.1121\tVal Loss:\t0.6424\tAccuracy:\t0.7647\tF1:\t0.7603\n",
      "8 / 30: Train Loss:\t0.0550\tVal Loss:\t0.7583\tAccuracy:\t0.7227\tF1:\t0.7163\n",
      "No improvement for 3 epochs. Stopping early.\n",
      "best (higgest macro f1-score) val results:\n",
      "                    precision    recall  f1-score   support\n",
      "\n",
      " misrepresentation       0.79      0.87      0.82        38\n",
      "oversimplification       0.85      0.78      0.81        36\n",
      "slothful induction       0.80      0.78      0.79        45\n",
      "\n",
      "          accuracy                           0.81       119\n",
      "         macro avg       0.81      0.81      0.81       119\n",
      "      weighted avg       0.81      0.81      0.81       119\n",
      "\n",
      "test results:\n",
      "                    precision    recall  f1-score   support\n",
      "\n",
      " misrepresentation       0.67      0.91      0.77        22\n",
      "oversimplification       0.73      0.80      0.76        20\n",
      "slothful induction       0.87      0.52      0.65        25\n",
      "\n",
      "          accuracy                           0.73        67\n",
      "         macro avg       0.75      0.74      0.73        67\n",
      "      weighted avg       0.76      0.73      0.72        67\n",
      "\n",
      "### ### ### ### ### ### ### ### ### ### \n",
      "{'test_acc': [0.7313432835820896], 'test_f1': [0.727045177045177], 'eval_acc': [0.8067226890756303], 'eval_f1': [0.8077036856103783], 'g': [2]}\n",
      "### ### ### ### ### ### ### ### ### ### \n",
      "Grid search bert-base-uncased, learning rate 5e-05, focal loss gamma 4\n"
     ]
    },
    {
     "name": "stderr",
     "output_type": "stream",
     "text": [
      "Some weights of BertForSequenceClassification were not initialized from the model checkpoint at bert-base-uncased and are newly initialized: ['classifier.bias', 'classifier.weight']\n",
      "You should probably TRAIN this model on a down-stream task to be able to use it for predictions and inference.\n",
      "You're using a BertTokenizerFast tokenizer. Please note that with a fast tokenizer, using the `__call__` method is faster than using a method to encode the text followed by a call to the `pad` method to get a padded encoding.\n"
     ]
    },
    {
     "name": "stdout",
     "output_type": "stream",
     "text": [
      "1 / 30: Train Loss:\t0.5897\tVal Loss:\t0.9169\tAccuracy:\t0.7647\tF1:\t0.7588\n",
      "2 / 30: Train Loss:\t0.3433\tVal Loss:\t0.7331\tAccuracy:\t0.7815\tF1:\t0.7805\n",
      "3 / 30: Train Loss:\t0.1239\tVal Loss:\t0.6993\tAccuracy:\t0.7479\tF1:\t0.7402\n",
      "4 / 30: Train Loss:\t0.0556\tVal Loss:\t0.7233\tAccuracy:\t0.7563\tF1:\t0.7475\n",
      "5 / 30: Train Loss:\t0.1414\tVal Loss:\t0.6378\tAccuracy:\t0.7983\tF1:\t0.7981\n",
      "6 / 30: Train Loss:\t0.0991\tVal Loss:\t0.6958\tAccuracy:\t0.7395\tF1:\t0.7306\n",
      "7 / 30: Train Loss:\t0.0387\tVal Loss:\t0.5812\tAccuracy:\t0.7899\tF1:\t0.7917\n",
      "8 / 30: Train Loss:\t0.0110\tVal Loss:\t0.5750\tAccuracy:\t0.8151\tF1:\t0.8169\n",
      "9 / 30: Train Loss:\t0.0036\tVal Loss:\t0.5498\tAccuracy:\t0.8151\tF1:\t0.8158\n",
      "10 / 30: Train Loss:\t0.0027\tVal Loss:\t0.5561\tAccuracy:\t0.8319\tF1:\t0.8308\n",
      "11 / 30: Train Loss:\t0.0018\tVal Loss:\t0.5575\tAccuracy:\t0.8319\tF1:\t0.8308\n",
      "12 / 30: Train Loss:\t0.0006\tVal Loss:\t0.5563\tAccuracy:\t0.8319\tF1:\t0.8308\n",
      "13 / 30: Train Loss:\t0.0006\tVal Loss:\t0.5564\tAccuracy:\t0.8319\tF1:\t0.8308\n",
      "No improvement for 3 epochs. Stopping early.\n",
      "best (higgest macro f1-score) val results:\n",
      "                    precision    recall  f1-score   support\n",
      "\n",
      " misrepresentation       0.85      0.76      0.81        38\n",
      "oversimplification       0.96      0.75      0.84        36\n",
      "slothful induction       0.75      0.96      0.84        45\n",
      "\n",
      "          accuracy                           0.83       119\n",
      "         macro avg       0.86      0.82      0.83       119\n",
      "      weighted avg       0.85      0.83      0.83       119\n",
      "\n",
      "test results:\n",
      "                    precision    recall  f1-score   support\n",
      "\n",
      " misrepresentation       0.75      0.82      0.78        22\n",
      "oversimplification       0.80      0.80      0.80        20\n",
      "slothful induction       0.78      0.72      0.75        25\n",
      "\n",
      "          accuracy                           0.78        67\n",
      "         macro avg       0.78      0.78      0.78        67\n",
      "      weighted avg       0.78      0.78      0.78        67\n",
      "\n",
      "### ### ### ### ### ### ### ### ### ### \n",
      "{'test_acc': [0.7313432835820896, 0.7761194029850746], 'test_f1': [0.727045177045177, 0.7775362318840581], 'eval_acc': [0.8067226890756303, 0.8319327731092437], 'eval_f1': [0.8077036856103783, 0.8308142701525054], 'g': [2, 4]}\n",
      "### ### ### ### ### ### ### ### ### ### \n",
      "Grid search bert-base-uncased, learning rate 5e-05, focal loss gamma 8\n"
     ]
    },
    {
     "name": "stderr",
     "output_type": "stream",
     "text": [
      "Some weights of BertForSequenceClassification were not initialized from the model checkpoint at bert-base-uncased and are newly initialized: ['classifier.bias', 'classifier.weight']\n",
      "You should probably TRAIN this model on a down-stream task to be able to use it for predictions and inference.\n",
      "You're using a BertTokenizerFast tokenizer. Please note that with a fast tokenizer, using the `__call__` method is faster than using a method to encode the text followed by a call to the `pad` method to get a padded encoding.\n"
     ]
    },
    {
     "name": "stdout",
     "output_type": "stream",
     "text": [
      "1 / 30: Train Loss:\t0.1382\tVal Loss:\t1.0311\tAccuracy:\t0.5462\tF1:\t0.5276\n",
      "2 / 30: Train Loss:\t0.0853\tVal Loss:\t0.8664\tAccuracy:\t0.7563\tF1:\t0.7514\n",
      "3 / 30: Train Loss:\t0.0386\tVal Loss:\t0.7712\tAccuracy:\t0.7815\tF1:\t0.7691\n",
      "4 / 30: Train Loss:\t0.0236\tVal Loss:\t0.7735\tAccuracy:\t0.7395\tF1:\t0.7332\n",
      "5 / 30: Train Loss:\t0.0301\tVal Loss:\t0.7139\tAccuracy:\t0.7815\tF1:\t0.7808\n",
      "6 / 30: Train Loss:\t0.0243\tVal Loss:\t0.7643\tAccuracy:\t0.7143\tF1:\t0.7019\n",
      "7 / 30: Train Loss:\t0.0098\tVal Loss:\t0.7103\tAccuracy:\t0.8067\tF1:\t0.8061\n",
      "8 / 30: Train Loss:\t0.0039\tVal Loss:\t0.7442\tAccuracy:\t0.6975\tF1:\t0.6839\n",
      "9 / 30: Train Loss:\t0.0033\tVal Loss:\t0.6406\tAccuracy:\t0.8151\tF1:\t0.8154\n",
      "10 / 30: Train Loss:\t0.0008\tVal Loss:\t0.6534\tAccuracy:\t0.7395\tF1:\t0.7346\n",
      "11 / 30: Train Loss:\t0.0003\tVal Loss:\t0.6265\tAccuracy:\t0.7899\tF1:\t0.7909\n",
      "12 / 30: Train Loss:\t0.0002\tVal Loss:\t0.6178\tAccuracy:\t0.7983\tF1:\t0.7988\n",
      "No improvement for 3 epochs. Stopping early.\n",
      "best (higgest macro f1-score) val results:\n",
      "                    precision    recall  f1-score   support\n",
      "\n",
      " misrepresentation       0.77      0.79      0.78        38\n",
      "oversimplification       1.00      0.72      0.84        36\n",
      "slothful induction       0.76      0.91      0.83        45\n",
      "\n",
      "          accuracy                           0.82       119\n",
      "         macro avg       0.84      0.81      0.82       119\n",
      "      weighted avg       0.84      0.82      0.82       119\n",
      "\n",
      "test results:\n",
      "                    precision    recall  f1-score   support\n",
      "\n",
      " misrepresentation       0.80      0.91      0.85        22\n",
      "oversimplification       0.80      0.80      0.80        20\n",
      "slothful induction       0.86      0.76      0.81        25\n",
      "\n",
      "          accuracy                           0.82        67\n",
      "         macro avg       0.82      0.82      0.82        67\n",
      "      weighted avg       0.82      0.82      0.82        67\n",
      "\n",
      "### ### ### ### ### ### ### ### ### ### \n",
      "{'test_acc': [0.7313432835820896, 0.7761194029850746, 0.8208955223880597], 'test_f1': [0.727045177045177, 0.7775362318840581, 0.8198581560283689], 'eval_acc': [0.8067226890756303, 0.8319327731092437, 0.8151260504201681], 'eval_f1': [0.8077036856103783, 0.8308142701525054, 0.8154044283076541], 'g': [2, 4, 8]}\n",
      "### ### ### ### ### ### ### ### ### ### \n",
      "Grid search bert-base-uncased, learning rate 5e-05, focal loss gamma 16\n"
     ]
    },
    {
     "name": "stderr",
     "output_type": "stream",
     "text": [
      "Some weights of BertForSequenceClassification were not initialized from the model checkpoint at bert-base-uncased and are newly initialized: ['classifier.bias', 'classifier.weight']\n",
      "You should probably TRAIN this model on a down-stream task to be able to use it for predictions and inference.\n",
      "You're using a BertTokenizerFast tokenizer. Please note that with a fast tokenizer, using the `__call__` method is faster than using a method to encode the text followed by a call to the `pad` method to get a padded encoding.\n"
     ]
    },
    {
     "name": "stdout",
     "output_type": "stream",
     "text": [
      "1 / 30: Train Loss:\t0.0087\tVal Loss:\t1.0620\tAccuracy:\t0.4874\tF1:\t0.3999\n",
      "2 / 30: Train Loss:\t0.0042\tVal Loss:\t1.0170\tAccuracy:\t0.7395\tF1:\t0.7308\n",
      "3 / 30: Train Loss:\t0.0029\tVal Loss:\t0.9496\tAccuracy:\t0.6891\tF1:\t0.6763\n",
      "4 / 30: Train Loss:\t0.0014\tVal Loss:\t0.8837\tAccuracy:\t0.7479\tF1:\t0.7362\n",
      "5 / 30: Train Loss:\t0.0013\tVal Loss:\t0.8423\tAccuracy:\t0.7479\tF1:\t0.7440\n",
      "6 / 30: Train Loss:\t0.0007\tVal Loss:\t0.8398\tAccuracy:\t0.7731\tF1:\t0.7722\n",
      "7 / 30: Train Loss:\t0.0006\tVal Loss:\t0.8170\tAccuracy:\t0.7479\tF1:\t0.7416\n",
      "8 / 30: Train Loss:\t0.0003\tVal Loss:\t0.8000\tAccuracy:\t0.7647\tF1:\t0.7650\n",
      "9 / 30: Train Loss:\t0.0004\tVal Loss:\t0.8048\tAccuracy:\t0.7479\tF1:\t0.7478\n",
      "No improvement for 3 epochs. Stopping early.\n",
      "best (higgest macro f1-score) val results:\n",
      "                    precision    recall  f1-score   support\n",
      "\n",
      " misrepresentation       0.71      0.84      0.77        38\n",
      "oversimplification       0.96      0.64      0.77        36\n",
      "slothful induction       0.74      0.82      0.78        45\n",
      "\n",
      "          accuracy                           0.77       119\n",
      "         macro avg       0.80      0.77      0.77       119\n",
      "      weighted avg       0.80      0.77      0.77       119\n",
      "\n",
      "test results:\n",
      "                    precision    recall  f1-score   support\n",
      "\n",
      " misrepresentation       0.68      0.86      0.76        22\n",
      "oversimplification       0.88      0.70      0.78        20\n",
      "slothful induction       0.78      0.72      0.75        25\n",
      "\n",
      "          accuracy                           0.76        67\n",
      "         macro avg       0.78      0.76      0.76        67\n",
      "      weighted avg       0.78      0.76      0.76        67\n",
      "\n",
      "### ### ### ### ### ### ### ### ### ### \n",
      "{'test_acc': [0.7313432835820896, 0.7761194029850746, 0.8208955223880597, 0.7611940298507462], 'test_f1': [0.727045177045177, 0.7775362318840581, 0.8198581560283689, 0.7625925925925925], 'eval_acc': [0.8067226890756303, 0.8319327731092437, 0.8151260504201681, 0.773109243697479], 'eval_f1': [0.8077036856103783, 0.8308142701525054, 0.8154044283076541, 0.7722327908123722], 'g': [2, 4, 8, 16]}\n",
      "### ### ### ### ### ### ### ### ### ### \n"
     ]
    }
   ],
   "source": [
    "gamma = [2,4,8,16]\n",
    "lr = 5.0e-5\n",
    "\n",
    "for g in gamma:\n",
    "    print(f'Grid search {model_checkpoint}, learning rate {lr}, focal loss gamma {g}')\n",
    "    data = ClimateDataset(model_to_train=2,model_checkpoint=model_checkpoint,dataset_url=flicc_path,batch_size=32)\n",
    "    data.setup_dataloaders()\n",
    "    model = ClassificationModel(model_checkpoint=data.model_checkpoint,num_labels=data.num_labels)\n",
    "    trainer = Engine(epochs=30,labels=data.labels)\n",
    "    trainer.model = model.model\n",
    "    trainer.dataset_encoded = data.dataset_encoded\n",
    "    test_acc, test_f1, eval_acc, eval_f1 = trainer.run(lr=lr,\n",
    "                                                       wd=0.0,\n",
    "                                                       train_dataloader=data.train_dataloader,\n",
    "                                                       eval_dataloader=data.eval_dataloader,\n",
    "                                                       test_dataloader=data.test_dataloader,\n",
    "                                                       focalloss=True,\n",
    "                                                       gamma=g,\n",
    "                                                       early_stop=3)\n",
    "    results['test_acc'].append(test_acc)\n",
    "    results['test_f1'].append(test_f1)\n",
    "    results['eval_acc'].append(eval_acc)\n",
    "    results['eval_f1'].append(eval_f1)\n",
    "    results['g'].append(g)\n",
    "    print('### '*10)\n",
    "    print(results)\n",
    "    print('### '*10)\n",
    "    with torch.no_grad():\n",
    "        torch.cuda.empty_cache()\n",
    "    del data, model, trainer, test_acc, test_f1, eval_acc, eval_f1\n",
    "    gc.collect()"
   ]
  },
  {
   "cell_type": "code",
   "execution_count": 5,
   "metadata": {},
   "outputs": [
    {
     "data": {
      "image/png": "[encoded data removed]",
      "text/plain": [
       "<Figure size 640x480 with 1 Axes>"
      ]
     },
     "metadata": {},
     "output_type": "display_data"
    }
   ],
   "source": [
    "Engine.plot_grid_search(df=results,\n",
    "                        title=f'Focal loss, lr: {lr}, {model_checkpoint}',\n",
    "                        column='g',\n",
    "                        sci_format=False)"
   ]
  },
  {
   "cell_type": "code",
   "execution_count": 6,
   "metadata": {},
   "outputs": [],
   "source": [
    "%reset -f"
   ]
  }
 ],
 "metadata": {
  "kernelspec": {
   "display_name": "Python 3",
   "language": "python",
   "name": "python3"
  },
  "language_info": {
   "codemirror_mode": {
    "name": "ipython",
    "version": 3
   },
   "file_extension": ".py",
   "mimetype": "text/x-python",
   "name": "python",
   "nbconvert_exporter": "python",
   "pygments_lexer": "ipython3",
   "version": "3.11.5"
  },
  "orig_nbformat": 4
 },
 "nbformat": 4,
 "nbformat_minor": 2
}
