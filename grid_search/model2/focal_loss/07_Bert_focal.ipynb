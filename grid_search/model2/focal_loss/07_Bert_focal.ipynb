{
 "cells": [
  {
   "cell_type": "code",
   "execution_count": 1,
   "metadata": {},
   "outputs": [],
   "source": [
    "import torch\n",
    "from data import ClimateDataset\n",
    "from models import ClassificationModel\n",
    "from engine import Engine"
   ]
  },
  {
   "cell_type": "code",
   "execution_count": 2,
   "metadata": {},
   "outputs": [],
   "source": [
    "model_checkpoint='bert-base-uncased'"
   ]
  },
  {
   "cell_type": "code",
   "execution_count": 3,
   "metadata": {},
   "outputs": [],
   "source": [
    "results = {'acc':[],\n",
    "           'f1':[],\n",
    "           'g':[]}"
   ]
  },
  {
   "cell_type": "code",
   "execution_count": 4,
   "metadata": {},
   "outputs": [
    {
     "name": "stdout",
     "output_type": "stream",
     "text": [
      "Grid search bert-base-uncased, learning rate 0.0001\n"
     ]
    },
    {
     "name": "stderr",
     "output_type": "stream",
     "text": [
      "Some weights of BertForSequenceClassification were not initialized from the model checkpoint at bert-base-uncased and are newly initialized: ['classifier.bias', 'classifier.weight']\n",
      "You should probably TRAIN this model on a down-stream task to be able to use it for predictions and inference.\n",
      "You're using a BertTokenizerFast tokenizer. Please note that with a fast tokenizer, using the `__call__` method is faster than using a method to encode the text followed by a call to the `pad` method to get a padded encoding.\n"
     ]
    },
    {
     "name": "stdout",
     "output_type": "stream",
     "text": [
      "1 / 20: Train Loss:\t1.3268\tVal Loss:\t0.8416\tAccuracy:\t0.7143\tF1:\t0.7027\n",
      "2 / 20: Train Loss:\t0.5904\tVal Loss:\t0.5698\tAccuracy:\t0.8151\tF1:\t0.8129\n",
      "3 / 20: Train Loss:\t0.1325\tVal Loss:\t0.7842\tAccuracy:\t0.7395\tF1:\t0.7332\n",
      "4 / 20: Train Loss:\t0.1584\tVal Loss:\t0.8584\tAccuracy:\t0.6639\tF1:\t0.6627\n",
      "5 / 20: Train Loss:\t0.2618\tVal Loss:\t0.6242\tAccuracy:\t0.7899\tF1:\t0.7892\n",
      "No improvement for 3 epochs. Stopping early.\n",
      "best (higgest macro f1-score) val results:\n",
      "                    precision    recall  f1-score   support\n",
      "\n",
      " misrepresentation       0.87      0.68      0.76        38\n",
      "oversimplification       0.96      0.69      0.81        36\n",
      "slothful induction       0.68      0.96      0.80        45\n",
      "\n",
      "          accuracy                           0.79       119\n",
      "         macro avg       0.84      0.78      0.79       119\n",
      "      weighted avg       0.83      0.79      0.79       119\n",
      "\n",
      "test results:\n",
      "                    precision    recall  f1-score   support\n",
      "\n",
      " misrepresentation       0.64      0.64      0.64        22\n",
      "oversimplification       0.72      0.65      0.68        20\n",
      "slothful induction       0.63      0.68      0.65        25\n",
      "\n",
      "          accuracy                           0.66        67\n",
      "         macro avg       0.66      0.66      0.66        67\n",
      "      weighted avg       0.66      0.66      0.66        67\n",
      "\n",
      "### ### ### ### ### ### ### ### ### ### \n",
      "{'acc': [0.6567164179104478], 'f1': [0.6581401055085266], 'g': [2]}\n",
      "### ### ### ### ### ### ### ### ### ### \n",
      "Grid search bert-base-uncased, learning rate 0.0001\n"
     ]
    },
    {
     "name": "stderr",
     "output_type": "stream",
     "text": [
      "Some weights of BertForSequenceClassification were not initialized from the model checkpoint at bert-base-uncased and are newly initialized: ['classifier.bias', 'classifier.weight']\n",
      "You should probably TRAIN this model on a down-stream task to be able to use it for predictions and inference.\n",
      "You're using a BertTokenizerFast tokenizer. Please note that with a fast tokenizer, using the `__call__` method is faster than using a method to encode the text followed by a call to the `pad` method to get a padded encoding.\n"
     ]
    },
    {
     "name": "stdout",
     "output_type": "stream",
     "text": [
      "1 / 20: Train Loss:\t0.5857\tVal Loss:\t0.8957\tAccuracy:\t0.6555\tF1:\t0.6405\n",
      "2 / 20: Train Loss:\t0.2623\tVal Loss:\t0.6672\tAccuracy:\t0.7815\tF1:\t0.7759\n",
      "3 / 20: Train Loss:\t0.0911\tVal Loss:\t0.5673\tAccuracy:\t0.8067\tF1:\t0.8012\n",
      "4 / 20: Train Loss:\t0.0604\tVal Loss:\t0.5559\tAccuracy:\t0.7983\tF1:\t0.7989\n",
      "5 / 20: Train Loss:\t0.0784\tVal Loss:\t0.6880\tAccuracy:\t0.6975\tF1:\t0.6927\n",
      "6 / 20: Train Loss:\t0.0579\tVal Loss:\t0.5851\tAccuracy:\t0.7647\tF1:\t0.7619\n",
      "No improvement for 3 epochs. Stopping early.\n",
      "best (higgest macro f1-score) val results:\n",
      "                    precision    recall  f1-score   support\n",
      "\n",
      " misrepresentation       0.86      0.63      0.73        38\n",
      "oversimplification       1.00      0.64      0.78        36\n",
      "slothful induction       0.65      0.98      0.78        45\n",
      "\n",
      "          accuracy                           0.76       119\n",
      "         macro avg       0.83      0.75      0.76       119\n",
      "      weighted avg       0.82      0.76      0.76       119\n",
      "\n",
      "test results:\n",
      "                    precision    recall  f1-score   support\n",
      "\n",
      " misrepresentation       0.89      0.77      0.83        22\n",
      "oversimplification       0.72      0.65      0.68        20\n",
      "slothful induction       0.67      0.80      0.73        25\n",
      "\n",
      "          accuracy                           0.75        67\n",
      "         macro avg       0.76      0.74      0.75        67\n",
      "      weighted avg       0.76      0.75      0.75        67\n",
      "\n",
      "### ### ### ### ### ### ### ### ### ### \n",
      "{'acc': [0.6567164179104478, 0.746268656716418], 'f1': [0.6581401055085266, 0.7469171820904812], 'g': [2, 4]}\n",
      "### ### ### ### ### ### ### ### ### ### \n",
      "Grid search bert-base-uncased, learning rate 0.0001\n"
     ]
    },
    {
     "name": "stderr",
     "output_type": "stream",
     "text": [
      "Some weights of BertForSequenceClassification were not initialized from the model checkpoint at bert-base-uncased and are newly initialized: ['classifier.bias', 'classifier.weight']\n",
      "You should probably TRAIN this model on a down-stream task to be able to use it for predictions and inference.\n",
      "You're using a BertTokenizerFast tokenizer. Please note that with a fast tokenizer, using the `__call__` method is faster than using a method to encode the text followed by a call to the `pad` method to get a padded encoding.\n"
     ]
    },
    {
     "name": "stdout",
     "output_type": "stream",
     "text": [
      "1 / 20: Train Loss:\t0.1388\tVal Loss:\t1.0158\tAccuracy:\t0.7143\tF1:\t0.7013\n",
      "2 / 20: Train Loss:\t0.0722\tVal Loss:\t0.8086\tAccuracy:\t0.7311\tF1:\t0.7306\n",
      "3 / 20: Train Loss:\t0.0410\tVal Loss:\t0.7567\tAccuracy:\t0.7815\tF1:\t0.7760\n",
      "4 / 20: Train Loss:\t0.0172\tVal Loss:\t0.7731\tAccuracy:\t0.7059\tF1:\t0.6850\n",
      "5 / 20: Train Loss:\t0.0160\tVal Loss:\t0.7345\tAccuracy:\t0.7143\tF1:\t0.7154\n",
      "6 / 20: Train Loss:\t0.0228\tVal Loss:\t0.7332\tAccuracy:\t0.7731\tF1:\t0.7753\n",
      "No improvement for 3 epochs. Stopping early.\n",
      "best (higgest macro f1-score) val results:\n",
      "                    precision    recall  f1-score   support\n",
      "\n",
      " misrepresentation       0.89      0.63      0.74        38\n",
      "oversimplification       1.00      0.69      0.82        36\n",
      "slothful induction       0.64      0.96      0.77        45\n",
      "\n",
      "          accuracy                           0.77       119\n",
      "         macro avg       0.84      0.76      0.78       119\n",
      "      weighted avg       0.83      0.77      0.77       119\n",
      "\n",
      "test results:\n",
      "                    precision    recall  f1-score   support\n",
      "\n",
      " misrepresentation       0.94      0.68      0.79        22\n",
      "oversimplification       0.78      0.70      0.74        20\n",
      "slothful induction       0.64      0.84      0.72        25\n",
      "\n",
      "          accuracy                           0.75        67\n",
      "         macro avg       0.78      0.74      0.75        67\n",
      "      weighted avg       0.78      0.75      0.75        67\n",
      "\n",
      "### ### ### ### ### ### ### ### ### ### \n",
      "{'acc': [0.6567164179104478, 0.746268656716418, 0.746268656716418], 'f1': [0.6581401055085266, 0.7469171820904812, 0.7501512401693889], 'g': [2, 4, 8]}\n",
      "### ### ### ### ### ### ### ### ### ### \n",
      "Grid search bert-base-uncased, learning rate 0.0001\n"
     ]
    },
    {
     "name": "stderr",
     "output_type": "stream",
     "text": [
      "Some weights of BertForSequenceClassification were not initialized from the model checkpoint at bert-base-uncased and are newly initialized: ['classifier.bias', 'classifier.weight']\n",
      "You should probably TRAIN this model on a down-stream task to be able to use it for predictions and inference.\n",
      "You're using a BertTokenizerFast tokenizer. Please note that with a fast tokenizer, using the `__call__` method is faster than using a method to encode the text followed by a call to the `pad` method to get a padded encoding.\n"
     ]
    },
    {
     "name": "stdout",
     "output_type": "stream",
     "text": [
      "1 / 20: Train Loss:\t0.0092\tVal Loss:\t1.0530\tAccuracy:\t0.4706\tF1:\t0.4433\n",
      "2 / 20: Train Loss:\t0.0045\tVal Loss:\t1.0264\tAccuracy:\t0.5714\tF1:\t0.5754\n",
      "3 / 20: Train Loss:\t0.0033\tVal Loss:\t0.9768\tAccuracy:\t0.6891\tF1:\t0.6988\n",
      "4 / 20: Train Loss:\t0.0026\tVal Loss:\t0.9425\tAccuracy:\t0.7143\tF1:\t0.7036\n",
      "5 / 20: Train Loss:\t0.0034\tVal Loss:\t0.9866\tAccuracy:\t0.6807\tF1:\t0.6797\n",
      "6 / 20: Train Loss:\t0.0022\tVal Loss:\t0.8931\tAccuracy:\t0.6387\tF1:\t0.5935\n",
      "7 / 20: Train Loss:\t0.0014\tVal Loss:\t0.8476\tAccuracy:\t0.8235\tF1:\t0.8224\n",
      "8 / 20: Train Loss:\t0.0004\tVal Loss:\t0.7685\tAccuracy:\t0.7899\tF1:\t0.7888\n",
      "9 / 20: Train Loss:\t0.0002\tVal Loss:\t0.7593\tAccuracy:\t0.7479\tF1:\t0.7412\n",
      "10 / 20: Train Loss:\t0.0001\tVal Loss:\t0.7360\tAccuracy:\t0.8319\tF1:\t0.8292\n",
      "11 / 20: Train Loss:\t0.0000\tVal Loss:\t0.7235\tAccuracy:\t0.7815\tF1:\t0.7773\n",
      "12 / 20: Train Loss:\t0.0000\tVal Loss:\t0.7150\tAccuracy:\t0.7899\tF1:\t0.7880\n",
      "13 / 20: Train Loss:\t0.0000\tVal Loss:\t0.7074\tAccuracy:\t0.7815\tF1:\t0.7792\n",
      "No improvement for 3 epochs. Stopping early.\n",
      "best (higgest macro f1-score) val results:\n",
      "                    precision    recall  f1-score   support\n",
      "\n",
      " misrepresentation       0.76      0.74      0.75        38\n",
      "oversimplification       0.96      0.67      0.79        36\n",
      "slothful induction       0.72      0.91      0.80        45\n",
      "\n",
      "          accuracy                           0.78       119\n",
      "         macro avg       0.81      0.77      0.78       119\n",
      "      weighted avg       0.80      0.78      0.78       119\n",
      "\n",
      "test results:\n",
      "                    precision    recall  f1-score   support\n",
      "\n",
      " misrepresentation       0.68      0.77      0.72        22\n",
      "oversimplification       0.79      0.75      0.77        20\n",
      "slothful induction       0.78      0.72      0.75        25\n",
      "\n",
      "          accuracy                           0.75        67\n",
      "         macro avg       0.75      0.75      0.75        67\n",
      "      weighted avg       0.75      0.75      0.75        67\n",
      "\n",
      "### ### ### ### ### ### ### ### ### ### \n",
      "{'acc': [0.6567164179104478, 0.746268656716418, 0.746268656716418, 0.746268656716418], 'f1': [0.6581401055085266, 0.7469171820904812, 0.7501512401693889, 0.747545008183306], 'g': [2, 4, 8, 16]}\n",
      "### ### ### ### ### ### ### ### ### ### \n"
     ]
    }
   ],
   "source": [
    "gammas = [2,4,8,16]\n",
    "lr = 1.0e-4\n",
    "\n",
    "\n",
    "for g in gammas:\n",
    "    print(f'Grid search {model_checkpoint}, learning rate {lr}, focal loss, gamma: {g}')\n",
    "    data = ClimateDataset(model_to_train=2,model_checkpoint=model_checkpoint,batch_size=32)\n",
    "    data.setup_dataloaders()\n",
    "    model = ClassificationModel(model_checkpoint=data.model_checkpoint,num_labels=data.num_labels)\n",
    "    trainer = Engine(epochs=20,labels=data.labels)\n",
    "    trainer.model = model.model\n",
    "    trainer.dataset_encoded = data.dataset_encoded\n",
    "    acc, f1 = trainer.run(lr=lr,\n",
    "                          wd=0.0,\n",
    "                          train_dataloader=data.train_dataloader,\n",
    "                          eval_dataloader=data.eval_dataloader,\n",
    "                          test_dataloader=data.test_dataloader,\n",
    "                          focalloss=True,\n",
    "                          gamma=g,\n",
    "                          early_stop=3)\n",
    "    results['acc'].append(acc)\n",
    "    results['f1'].append(f1)\n",
    "    results['g'].append(g)\n",
    "    print('### '*10)\n",
    "    print(results)\n",
    "    print('### '*10)\n",
    "    with torch.no_grad():\n",
    "        torch.cuda.empty_cache()\n",
    "    del data, model, trainer, acc, f1"
   ]
  },
  {
   "cell_type": "code",
   "execution_count": 5,
   "metadata": {},
   "outputs": [],
   "source": [
    "import matplotlib.pyplot as plt\n",
    "import seaborn as sns\n",
    "import pandas as pd"
   ]
  },
  {
   "cell_type": "code",
   "execution_count": 9,
   "metadata": {},
   "outputs": [
    {
     "data": {
      "image/png": "[encoded data removed]",
      "text/plain": [
       "<Figure size 640x480 with 1 Axes>"
      ]
     },
     "metadata": {},
     "output_type": "display_data"
    }
   ],
   "source": [
    "def plot_grid_search(df, title, column):\n",
    "\n",
    "    # Create the plot\n",
    "    ax = df.plot(x=column, y=['acc', 'f1'], marker='o', linestyle='-')\n",
    "\n",
    "    # Set y-axis range between 0 and 1\n",
    "    plt.ylim(0, 1)\n",
    "\n",
    "    # Annotate points with F1 scores\n",
    "    for i, row in df.iterrows(): \n",
    "        ax.annotate(f'{row[\"f1\"]:.2f}', (row[column], row[\"f1\"]), textcoords='offset points', xytext=(0, -10), ha='center')\n",
    "\n",
    "    # Annotate points with Acc scores\n",
    "    for i, row in df.iterrows():\n",
    "        ax.annotate(f'{row[\"acc\"]:.2f}', (row[column], row[\"acc\"]), textcoords='offset points', xytext=(0, 10), ha='center')\n",
    "    \n",
    "    # \n",
    "    plt.xticks(df[column], [val for val in df[column]], ha='center')\n",
    "    # plt.xscale('log')\n",
    "    plt.minorticks_off()\n",
    "\n",
    "    plt.title(title)\n",
    "    plt.xlabel('gamma')\n",
    "    plt.ylabel('Score')\n",
    "    plt.show()\n",
    "\n",
    "plot_grid_search(pd.DataFrame(results), f'Focal loss, {model_checkpoint}', 'g')"
   ]
  }
 ],
 "metadata": {
  "kernelspec": {
   "display_name": "Python 3",
   "language": "python",
   "name": "python3"
  },
  "language_info": {
   "codemirror_mode": {
    "name": "ipython",
    "version": 3
   },
   "file_extension": ".py",
   "mimetype": "text/x-python",
   "name": "python",
   "nbconvert_exporter": "python",
   "pygments_lexer": "ipython3",
   "version": "3.11.5"
  },
  "orig_nbformat": 4
 },
 "nbformat": 4,
 "nbformat_minor": 2
}
