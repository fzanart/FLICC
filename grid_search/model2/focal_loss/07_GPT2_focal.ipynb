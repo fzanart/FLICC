{
 "cells": [
  {
   "cell_type": "code",
   "execution_count": 1,
   "metadata": {},
   "outputs": [],
   "source": [
    "import os\n",
    "import sys\n",
    "import gc\n",
    "# assuming data, models, engine in flicc directory:\n",
    "flicc_path = os.path.realpath(\"__file__\").split('grid_search')[0]\n",
    "sys.path.append(flicc_path)\n",
    "import torch\n",
    "from data import ClimateDataset\n",
    "from models import ClassificationModel\n",
    "from engine import Engine"
   ]
  },
  {
   "cell_type": "code",
   "execution_count": 2,
   "metadata": {},
   "outputs": [],
   "source": [
    "model_checkpoint='gpt2'"
   ]
  },
  {
   "cell_type": "code",
   "execution_count": 3,
   "metadata": {},
   "outputs": [],
   "source": [
    "results = {'test_acc':[],\n",
    "           'test_f1':[],\n",
    "           'eval_acc':[],\n",
    "           'eval_f1':[],\n",
    "           'g':[]}"
   ]
  },
  {
   "cell_type": "code",
   "execution_count": 4,
   "metadata": {},
   "outputs": [
    {
     "name": "stdout",
     "output_type": "stream",
     "text": [
      "Grid search gpt2, learning rate 0.0001, focal loss gamma 2\n"
     ]
    },
    {
     "name": "stderr",
     "output_type": "stream",
     "text": [
      "Some weights of GPT2ForSequenceClassification were not initialized from the model checkpoint at gpt2 and are newly initialized: ['score.weight']\n",
      "You should probably TRAIN this model on a down-stream task to be able to use it for predictions and inference.\n",
      "You're using a GPT2TokenizerFast tokenizer. Please note that with a fast tokenizer, using the `__call__` method is faster than using a method to encode the text followed by a call to the `pad` method to get a padded encoding.\n"
     ]
    },
    {
     "name": "stdout",
     "output_type": "stream",
     "text": [
      "1 / 30: Train Loss:\t5.0524\tVal Loss:\t1.2109\tAccuracy:\t0.3782\tF1:\t0.2942\n",
      "2 / 30: Train Loss:\t2.9750\tVal Loss:\t1.1367\tAccuracy:\t0.3950\tF1:\t0.3082\n",
      "3 / 30: Train Loss:\t2.0358\tVal Loss:\t1.0926\tAccuracy:\t0.3950\tF1:\t0.2983\n",
      "4 / 30: Train Loss:\t1.7503\tVal Loss:\t1.0784\tAccuracy:\t0.3613\tF1:\t0.2819\n",
      "5 / 30: Train Loss:\t1.5891\tVal Loss:\t1.0666\tAccuracy:\t0.3950\tF1:\t0.3245\n",
      "6 / 30: Train Loss:\t1.5316\tVal Loss:\t1.0451\tAccuracy:\t0.4370\tF1:\t0.3969\n",
      "7 / 30: Train Loss:\t1.4644\tVal Loss:\t1.0216\tAccuracy:\t0.5378\tF1:\t0.5398\n",
      "8 / 30: Train Loss:\t1.3417\tVal Loss:\t0.9995\tAccuracy:\t0.5714\tF1:\t0.5572\n",
      "9 / 30: Train Loss:\t1.2690\tVal Loss:\t0.9579\tAccuracy:\t0.5630\tF1:\t0.5654\n",
      "10 / 30: Train Loss:\t1.2102\tVal Loss:\t0.9251\tAccuracy:\t0.5126\tF1:\t0.4866\n",
      "11 / 30: Train Loss:\t1.0287\tVal Loss:\t0.8544\tAccuracy:\t0.5546\tF1:\t0.5458\n",
      "12 / 30: Train Loss:\t0.8726\tVal Loss:\t0.8007\tAccuracy:\t0.6387\tF1:\t0.6385\n",
      "13 / 30: Train Loss:\t0.8840\tVal Loss:\t0.8203\tAccuracy:\t0.6387\tF1:\t0.6444\n",
      "14 / 30: Train Loss:\t0.7090\tVal Loss:\t0.7485\tAccuracy:\t0.6723\tF1:\t0.6759\n",
      "15 / 30: Train Loss:\t0.5461\tVal Loss:\t0.7117\tAccuracy:\t0.6555\tF1:\t0.6619\n",
      "16 / 30: Train Loss:\t0.5232\tVal Loss:\t0.7743\tAccuracy:\t0.6891\tF1:\t0.6884\n",
      "17 / 30: Train Loss:\t0.4145\tVal Loss:\t0.7218\tAccuracy:\t0.7059\tF1:\t0.7100\n",
      "18 / 30: Train Loss:\t0.3716\tVal Loss:\t0.8875\tAccuracy:\t0.6471\tF1:\t0.6484\n",
      "19 / 30: Train Loss:\t0.4372\tVal Loss:\t0.7516\tAccuracy:\t0.7227\tF1:\t0.7259\n",
      "20 / 30: Train Loss:\t0.3971\tVal Loss:\t1.0051\tAccuracy:\t0.5546\tF1:\t0.5357\n",
      "21 / 30: Train Loss:\t0.4765\tVal Loss:\t0.8379\tAccuracy:\t0.6134\tF1:\t0.6061\n",
      "22 / 30: Train Loss:\t0.3773\tVal Loss:\t0.9141\tAccuracy:\t0.5546\tF1:\t0.5252\n",
      "No improvement for 3 epochs. Stopping early.\n",
      "best (higgest macro f1-score) val results:\n",
      "                    precision    recall  f1-score   support\n",
      "\n",
      " misrepresentation       0.63      0.87      0.73        38\n",
      "oversimplification       0.89      0.67      0.76        36\n",
      "slothful induction       0.72      0.64      0.68        45\n",
      "\n",
      "          accuracy                           0.72       119\n",
      "         macro avg       0.75      0.73      0.73       119\n",
      "      weighted avg       0.75      0.72      0.72       119\n",
      "\n",
      "test results:\n",
      "                    precision    recall  f1-score   support\n",
      "\n",
      " misrepresentation       0.50      0.77      0.61        22\n",
      "oversimplification       0.74      0.70      0.72        20\n",
      "slothful induction       0.64      0.36      0.46        25\n",
      "\n",
      "          accuracy                           0.60        67\n",
      "         macro avg       0.63      0.61      0.60        67\n",
      "      weighted avg       0.62      0.60      0.59        67\n",
      "\n",
      "### ### ### ### ### ### ### ### ### ### \n",
      "{'test_acc': [0.5970149253731343], 'test_f1': [0.5955433455433455], 'eval_acc': [0.7226890756302521], 'eval_f1': [0.7258636788048554], 'g': [2]}\n",
      "### ### ### ### ### ### ### ### ### ### \n",
      "Grid search gpt2, learning rate 0.0001, focal loss gamma 4\n"
     ]
    },
    {
     "name": "stderr",
     "output_type": "stream",
     "text": [
      "Some weights of GPT2ForSequenceClassification were not initialized from the model checkpoint at gpt2 and are newly initialized: ['score.weight']\n",
      "You should probably TRAIN this model on a down-stream task to be able to use it for predictions and inference.\n",
      "You're using a GPT2TokenizerFast tokenizer. Please note that with a fast tokenizer, using the `__call__` method is faster than using a method to encode the text followed by a call to the `pad` method to get a padded encoding.\n"
     ]
    },
    {
     "name": "stdout",
     "output_type": "stream",
     "text": [
      "1 / 30: Train Loss:\t4.6184\tVal Loss:\t1.1972\tAccuracy:\t0.3613\tF1:\t0.2641\n",
      "2 / 30: Train Loss:\t1.7195\tVal Loss:\t1.1327\tAccuracy:\t0.4034\tF1:\t0.3128\n",
      "3 / 30: Train Loss:\t1.0190\tVal Loss:\t1.1410\tAccuracy:\t0.3950\tF1:\t0.2924\n",
      "4 / 30: Train Loss:\t0.9050\tVal Loss:\t1.1217\tAccuracy:\t0.3445\tF1:\t0.2182\n",
      "5 / 30: Train Loss:\t0.7986\tVal Loss:\t1.0947\tAccuracy:\t0.4118\tF1:\t0.3523\n",
      "6 / 30: Train Loss:\t0.7665\tVal Loss:\t1.0840\tAccuracy:\t0.4202\tF1:\t0.3867\n",
      "7 / 30: Train Loss:\t0.7155\tVal Loss:\t1.0782\tAccuracy:\t0.4202\tF1:\t0.4011\n",
      "8 / 30: Train Loss:\t0.6604\tVal Loss:\t1.0582\tAccuracy:\t0.5210\tF1:\t0.4984\n",
      "9 / 30: Train Loss:\t0.6565\tVal Loss:\t1.0799\tAccuracy:\t0.4706\tF1:\t0.4537\n",
      "10 / 30: Train Loss:\t0.6301\tVal Loss:\t1.0674\tAccuracy:\t0.5630\tF1:\t0.5731\n",
      "11 / 30: Train Loss:\t0.4920\tVal Loss:\t1.0443\tAccuracy:\t0.5378\tF1:\t0.5396\n",
      "12 / 30: Train Loss:\t0.4754\tVal Loss:\t1.0074\tAccuracy:\t0.5546\tF1:\t0.5571\n",
      "13 / 30: Train Loss:\t0.4482\tVal Loss:\t0.9923\tAccuracy:\t0.5630\tF1:\t0.5681\n",
      "No improvement for 3 epochs. Stopping early.\n",
      "best (higgest macro f1-score) val results:\n",
      "                    precision    recall  f1-score   support\n",
      "\n",
      " misrepresentation       0.49      0.68      0.57        38\n",
      "oversimplification       0.81      0.58      0.68        36\n",
      "slothful induction       0.50      0.44      0.47        45\n",
      "\n",
      "          accuracy                           0.56       119\n",
      "         macro avg       0.60      0.57      0.57       119\n",
      "      weighted avg       0.59      0.56      0.57       119\n",
      "\n",
      "test results:\n",
      "                    precision    recall  f1-score   support\n",
      "\n",
      " misrepresentation       0.52      0.73      0.60        22\n",
      "oversimplification       0.72      0.65      0.68        20\n",
      "slothful induction       0.61      0.44      0.51        25\n",
      "\n",
      "          accuracy                           0.60        67\n",
      "         macro avg       0.62      0.61      0.60        67\n",
      "      weighted avg       0.61      0.60      0.59        67\n",
      "\n",
      "### ### ### ### ### ### ### ### ### ### \n",
      "{'test_acc': [0.5970149253731343, 0.5970149253731343], 'test_f1': [0.5955433455433455, 0.5998706727327313], 'eval_acc': [0.7226890756302521, 0.5630252100840336], 'eval_f1': [0.7258636788048554, 0.5731453871871329], 'g': [2, 4]}\n",
      "### ### ### ### ### ### ### ### ### ### \n",
      "Grid search gpt2, learning rate 0.0001, focal loss gamma 8\n"
     ]
    },
    {
     "name": "stderr",
     "output_type": "stream",
     "text": [
      "Some weights of GPT2ForSequenceClassification were not initialized from the model checkpoint at gpt2 and are newly initialized: ['score.weight']\n",
      "You should probably TRAIN this model on a down-stream task to be able to use it for predictions and inference.\n",
      "You're using a GPT2TokenizerFast tokenizer. Please note that with a fast tokenizer, using the `__call__` method is faster than using a method to encode the text followed by a call to the `pad` method to get a padded encoding.\n"
     ]
    },
    {
     "name": "stdout",
     "output_type": "stream",
     "text": [
      "1 / 30: Train Loss:\t4.2134\tVal Loss:\t1.2208\tAccuracy:\t0.3361\tF1:\t0.2834\n",
      "2 / 30: Train Loss:\t1.2132\tVal Loss:\t1.1769\tAccuracy:\t0.3025\tF1:\t0.1815\n",
      "3 / 30: Train Loss:\t0.4990\tVal Loss:\t1.0827\tAccuracy:\t0.3950\tF1:\t0.3314\n",
      "4 / 30: Train Loss:\t0.3031\tVal Loss:\t1.0867\tAccuracy:\t0.4034\tF1:\t0.3597\n",
      "5 / 30: Train Loss:\t0.2588\tVal Loss:\t1.0832\tAccuracy:\t0.4706\tF1:\t0.4661\n",
      "6 / 30: Train Loss:\t0.2540\tVal Loss:\t1.0817\tAccuracy:\t0.4706\tF1:\t0.4615\n",
      "7 / 30: Train Loss:\t0.2292\tVal Loss:\t1.0818\tAccuracy:\t0.4874\tF1:\t0.4902\n",
      "8 / 30: Train Loss:\t0.2060\tVal Loss:\t1.0814\tAccuracy:\t0.4370\tF1:\t0.3811\n",
      "9 / 30: Train Loss:\t0.2014\tVal Loss:\t1.0813\tAccuracy:\t0.3613\tF1:\t0.3076\n",
      "10 / 30: Train Loss:\t0.1966\tVal Loss:\t1.0770\tAccuracy:\t0.5378\tF1:\t0.5251\n",
      "11 / 30: Train Loss:\t0.1591\tVal Loss:\t1.0754\tAccuracy:\t0.4118\tF1:\t0.3832\n",
      "12 / 30: Train Loss:\t0.1696\tVal Loss:\t1.0723\tAccuracy:\t0.4202\tF1:\t0.3783\n",
      "13 / 30: Train Loss:\t0.1558\tVal Loss:\t1.0653\tAccuracy:\t0.4790\tF1:\t0.4589\n",
      "No improvement for 3 epochs. Stopping early.\n",
      "best (higgest macro f1-score) val results:\n",
      "                    precision    recall  f1-score   support\n",
      "\n",
      " misrepresentation       0.70      0.37      0.48        38\n",
      "oversimplification       0.62      0.44      0.52        36\n",
      "slothful induction       0.47      0.76      0.58        45\n",
      "\n",
      "          accuracy                           0.54       119\n",
      "         macro avg       0.59      0.52      0.53       119\n",
      "      weighted avg       0.59      0.54      0.53       119\n",
      "\n",
      "test results:\n",
      "                    precision    recall  f1-score   support\n",
      "\n",
      " misrepresentation       0.67      0.27      0.39        22\n",
      "oversimplification       0.46      0.65      0.54        20\n",
      "slothful induction       0.50      0.60      0.55        25\n",
      "\n",
      "          accuracy                           0.51        67\n",
      "         macro avg       0.54      0.51      0.49        67\n",
      "      weighted avg       0.54      0.51      0.49        67\n",
      "\n",
      "### ### ### ### ### ### ### ### ### ### \n",
      "{'test_acc': [0.5970149253731343, 0.5970149253731343, 0.5074626865671642], 'test_f1': [0.5955433455433455, 0.5998706727327313, 0.4914059954382535], 'eval_acc': [0.7226890756302521, 0.5630252100840336, 0.5378151260504201], 'eval_f1': [0.7258636788048554, 0.5731453871871329, 0.5250529464627992], 'g': [2, 4, 8]}\n",
      "### ### ### ### ### ### ### ### ### ### \n",
      "Grid search gpt2, learning rate 0.0001, focal loss gamma 16\n"
     ]
    },
    {
     "name": "stderr",
     "output_type": "stream",
     "text": [
      "Some weights of GPT2ForSequenceClassification were not initialized from the model checkpoint at gpt2 and are newly initialized: ['score.weight']\n",
      "You should probably TRAIN this model on a down-stream task to be able to use it for predictions and inference.\n",
      "You're using a GPT2TokenizerFast tokenizer. Please note that with a fast tokenizer, using the `__call__` method is faster than using a method to encode the text followed by a call to the `pad` method to get a padded encoding.\n"
     ]
    },
    {
     "name": "stdout",
     "output_type": "stream",
     "text": [
      "1 / 30: Train Loss:\t3.6719\tVal Loss:\t1.2348\tAccuracy:\t0.3277\tF1:\t0.2097\n",
      "2 / 30: Train Loss:\t0.7530\tVal Loss:\t1.2202\tAccuracy:\t0.3025\tF1:\t0.1905\n",
      "3 / 30: Train Loss:\t0.2080\tVal Loss:\t1.1425\tAccuracy:\t0.3025\tF1:\t0.1558\n",
      "4 / 30: Train Loss:\t0.0901\tVal Loss:\t1.1156\tAccuracy:\t0.3277\tF1:\t0.1816\n",
      "No improvement for 3 epochs. Stopping early.\n",
      "best (higgest macro f1-score) val results:\n",
      "                    precision    recall  f1-score   support\n",
      "\n",
      " misrepresentation       0.33      0.95      0.49        38\n",
      "oversimplification       0.50      0.06      0.10        36\n",
      "slothful induction       0.17      0.02      0.04        45\n",
      "\n",
      "          accuracy                           0.33       119\n",
      "         macro avg       0.33      0.34      0.21       119\n",
      "      weighted avg       0.32      0.33      0.20       119\n",
      "\n",
      "test results:\n",
      "                    precision    recall  f1-score   support\n",
      "\n",
      " misrepresentation       0.36      0.95      0.52        22\n",
      "oversimplification       1.00      0.05      0.10        20\n",
      "slothful induction       0.43      0.12      0.19        25\n",
      "\n",
      "          accuracy                           0.37        67\n",
      "         macro avg       0.59      0.37      0.27        67\n",
      "      weighted avg       0.58      0.37      0.27        67\n",
      "\n",
      "### ### ### ### ### ### ### ### ### ### \n",
      "{'test_acc': [0.5970149253731343, 0.5970149253731343, 0.5074626865671642, 0.373134328358209], 'test_f1': [0.5955433455433455, 0.5998706727327313, 0.4914059954382535, 0.26708553791887124], 'eval_acc': [0.7226890756302521, 0.5630252100840336, 0.5378151260504201, 0.3277310924369748], 'eval_f1': [0.7258636788048554, 0.5731453871871329, 0.5250529464627992, 0.2096705348806189], 'g': [2, 4, 8, 16]}\n",
      "### ### ### ### ### ### ### ### ### ### \n"
     ]
    }
   ],
   "source": [
    "gamma = [2,4,8,16]\n",
    "lr = 1.0e-4\n",
    "\n",
    "for g in gamma:\n",
    "    print(f'Grid search {model_checkpoint}, learning rate {lr}, focal loss gamma {g}')\n",
    "    data = ClimateDataset(model_to_train=2,model_checkpoint=model_checkpoint,dataset_url=flicc_path,batch_size=32)\n",
    "    data.setup_dataloaders()\n",
    "    model = ClassificationModel(model_checkpoint=data.model_checkpoint,num_labels=data.num_labels)\n",
    "    trainer = Engine(epochs=30,labels=data.labels)\n",
    "    trainer.model = model.model\n",
    "    trainer.dataset_encoded = data.dataset_encoded\n",
    "    test_acc, test_f1, eval_acc, eval_f1 = trainer.run(lr=lr,\n",
    "                                                       wd=0.0,\n",
    "                                                       train_dataloader=data.train_dataloader,\n",
    "                                                       eval_dataloader=data.eval_dataloader,\n",
    "                                                       test_dataloader=data.test_dataloader,\n",
    "                                                       focalloss=True,\n",
    "                                                       gamma=g,\n",
    "                                                       early_stop=3)\n",
    "    results['test_acc'].append(test_acc)\n",
    "    results['test_f1'].append(test_f1)\n",
    "    results['eval_acc'].append(eval_acc)\n",
    "    results['eval_f1'].append(eval_f1)\n",
    "    results['g'].append(g)\n",
    "    print('### '*10)\n",
    "    print(results)\n",
    "    print('### '*10)\n",
    "    with torch.no_grad():\n",
    "        torch.cuda.empty_cache()\n",
    "    del data, model, trainer, test_acc, test_f1, eval_acc, eval_f1\n",
    "    gc.collect()"
   ]
  },
  {
   "cell_type": "code",
   "execution_count": 5,
   "metadata": {},
   "outputs": [
    {
     "data": {
      "image/png": "[encoded data removed]",
      "text/plain": [
       "<Figure size 640x480 with 1 Axes>"
      ]
     },
     "metadata": {},
     "output_type": "display_data"
    }
   ],
   "source": [
    "Engine.plot_grid_search(df=results,\n",
    "                        title=f'Focal loss, lr: {lr}, {model_checkpoint}',\n",
    "                        column='g',\n",
    "                        sci_format=False)"
   ]
  },
  {
   "cell_type": "code",
   "execution_count": 6,
   "metadata": {},
   "outputs": [],
   "source": [
    "%reset -f"
   ]
  }
 ],
 "metadata": {
  "kernelspec": {
   "display_name": "Python 3",
   "language": "python",
   "name": "python3"
  },
  "language_info": {
   "codemirror_mode": {
    "name": "ipython",
    "version": 3
   },
   "file_extension": ".py",
   "mimetype": "text/x-python",
   "name": "python",
   "nbconvert_exporter": "python",
   "pygments_lexer": "ipython3",
   "version": "3.11.5"
  },
  "orig_nbformat": 4
 },
 "nbformat": 4,
 "nbformat_minor": 2
}
