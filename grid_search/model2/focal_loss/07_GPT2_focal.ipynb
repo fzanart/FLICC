{
 "cells": [
  {
   "cell_type": "code",
   "execution_count": 1,
   "metadata": {},
   "outputs": [],
   "source": [
    "import torch\n",
    "from data import ClimateDataset\n",
    "from models import ClassificationModel\n",
    "from engine import Engine"
   ]
  },
  {
   "cell_type": "code",
   "execution_count": 2,
   "metadata": {},
   "outputs": [],
   "source": [
    "model_checkpoint='gpt2'"
   ]
  },
  {
   "cell_type": "code",
   "execution_count": 3,
   "metadata": {},
   "outputs": [],
   "source": [
    "results = {'acc':[],\n",
    "           'f1':[],\n",
    "           'g':[]}"
   ]
  },
  {
   "cell_type": "code",
   "execution_count": 4,
   "metadata": {},
   "outputs": [
    {
     "name": "stdout",
     "output_type": "stream",
     "text": [
      "Grid search gpt2, learning rate 1e-05 focal loss, gamma: 2\n"
     ]
    },
    {
     "name": "stderr",
     "output_type": "stream",
     "text": [
      "Some weights of GPT2ForSequenceClassification were not initialized from the model checkpoint at gpt2 and are newly initialized: ['score.weight']\n",
      "You should probably TRAIN this model on a down-stream task to be able to use it for predictions and inference.\n",
      "You're using a GPT2TokenizerFast tokenizer. Please note that with a fast tokenizer, using the `__call__` method is faster than using a method to encode the text followed by a call to the `pad` method to get a padded encoding.\n"
     ]
    },
    {
     "name": "stdout",
     "output_type": "stream",
     "text": [
      "1 / 20: Train Loss:\t4.5906\tVal Loss:\t1.7654\tAccuracy:\t0.3109\tF1:\t0.2823\n",
      "2 / 20: Train Loss:\t2.8823\tVal Loss:\t1.5894\tAccuracy:\t0.3025\tF1:\t0.2760\n",
      "3 / 20: Train Loss:\t2.5470\tVal Loss:\t1.4070\tAccuracy:\t0.2941\tF1:\t0.2755\n",
      "4 / 20: Train Loss:\t2.1027\tVal Loss:\t1.3278\tAccuracy:\t0.3445\tF1:\t0.3322\n",
      "5 / 20: Train Loss:\t1.9477\tVal Loss:\t1.2782\tAccuracy:\t0.3529\tF1:\t0.3421\n",
      "6 / 20: Train Loss:\t1.8785\tVal Loss:\t1.2353\tAccuracy:\t0.3866\tF1:\t0.3803\n",
      "7 / 20: Train Loss:\t1.6408\tVal Loss:\t1.2214\tAccuracy:\t0.3613\tF1:\t0.3561\n",
      "8 / 20: Train Loss:\t1.6396\tVal Loss:\t1.1991\tAccuracy:\t0.4202\tF1:\t0.4112\n",
      "9 / 20: Train Loss:\t1.6746\tVal Loss:\t1.1787\tAccuracy:\t0.4706\tF1:\t0.4653\n",
      "10 / 20: Train Loss:\t1.5765\tVal Loss:\t1.1685\tAccuracy:\t0.4706\tF1:\t0.4660\n",
      "11 / 20: Train Loss:\t1.4226\tVal Loss:\t1.1624\tAccuracy:\t0.4538\tF1:\t0.4483\n",
      "12 / 20: Train Loss:\t1.4236\tVal Loss:\t1.1394\tAccuracy:\t0.5210\tF1:\t0.5195\n",
      "13 / 20: Train Loss:\t1.5221\tVal Loss:\t1.1322\tAccuracy:\t0.5294\tF1:\t0.5310\n",
      "14 / 20: Train Loss:\t1.4040\tVal Loss:\t1.1252\tAccuracy:\t0.5294\tF1:\t0.5314\n",
      "15 / 20: Train Loss:\t1.4382\tVal Loss:\t1.1166\tAccuracy:\t0.5294\tF1:\t0.5319\n",
      "16 / 20: Train Loss:\t1.3067\tVal Loss:\t1.1028\tAccuracy:\t0.5378\tF1:\t0.5356\n",
      "17 / 20: Train Loss:\t1.3099\tVal Loss:\t1.0966\tAccuracy:\t0.5546\tF1:\t0.5577\n",
      "18 / 20: Train Loss:\t1.3668\tVal Loss:\t1.0865\tAccuracy:\t0.5546\tF1:\t0.5579\n",
      "19 / 20: Train Loss:\t1.2685\tVal Loss:\t1.0754\tAccuracy:\t0.5462\tF1:\t0.5470\n",
      "20 / 20: Train Loss:\t1.3066\tVal Loss:\t1.0706\tAccuracy:\t0.5462\tF1:\t0.5514\n",
      "best (higgest macro f1-score) val results:\n",
      "                    precision    recall  f1-score   support\n",
      "\n",
      " misrepresentation       0.45      0.63      0.53        38\n",
      "oversimplification       0.68      0.58      0.63        36\n",
      "slothful induction       0.57      0.44      0.50        45\n",
      "\n",
      "          accuracy                           0.55       119\n",
      "         macro avg       0.57      0.55      0.55       119\n",
      "      weighted avg       0.57      0.55      0.55       119\n",
      "\n",
      "test results:\n",
      "                    precision    recall  f1-score   support\n",
      "\n",
      " misrepresentation       0.56      0.68      0.61        22\n",
      "oversimplification       0.69      0.55      0.61        20\n",
      "slothful induction       0.58      0.56      0.57        25\n",
      "\n",
      "          accuracy                           0.60        67\n",
      "         macro avg       0.61      0.60      0.60        67\n",
      "      weighted avg       0.61      0.60      0.60        67\n",
      "\n",
      "### ### ### ### ### ### ### ### ### ### \n",
      "{'acc': [0.5970149253731343], 'f1': [0.5982615268329553], 'g': [2]}\n",
      "### ### ### ### ### ### ### ### ### ### \n",
      "Grid search gpt2, learning rate 1e-05 focal loss, gamma: 4\n"
     ]
    },
    {
     "name": "stderr",
     "output_type": "stream",
     "text": [
      "Some weights of GPT2ForSequenceClassification were not initialized from the model checkpoint at gpt2 and are newly initialized: ['score.weight']\n",
      "You should probably TRAIN this model on a down-stream task to be able to use it for predictions and inference.\n",
      "You're using a GPT2TokenizerFast tokenizer. Please note that with a fast tokenizer, using the `__call__` method is faster than using a method to encode the text followed by a call to the `pad` method to get a padded encoding.\n"
     ]
    },
    {
     "name": "stdout",
     "output_type": "stream",
     "text": [
      "1 / 20: Train Loss:\t3.9937\tVal Loss:\t1.7660\tAccuracy:\t0.3109\tF1:\t0.2822\n",
      "2 / 20: Train Loss:\t2.2477\tVal Loss:\t1.5889\tAccuracy:\t0.2941\tF1:\t0.2666\n",
      "3 / 20: Train Loss:\t1.8481\tVal Loss:\t1.4079\tAccuracy:\t0.3109\tF1:\t0.2959\n",
      "4 / 20: Train Loss:\t1.3987\tVal Loss:\t1.3233\tAccuracy:\t0.3277\tF1:\t0.3133\n",
      "5 / 20: Train Loss:\t1.2283\tVal Loss:\t1.2797\tAccuracy:\t0.3529\tF1:\t0.3424\n",
      "6 / 20: Train Loss:\t1.1284\tVal Loss:\t1.2418\tAccuracy:\t0.3613\tF1:\t0.3558\n",
      "7 / 20: Train Loss:\t0.9430\tVal Loss:\t1.2325\tAccuracy:\t0.3445\tF1:\t0.3326\n",
      "8 / 20: Train Loss:\t0.9227\tVal Loss:\t1.2135\tAccuracy:\t0.3866\tF1:\t0.3735\n",
      "9 / 20: Train Loss:\t0.9712\tVal Loss:\t1.1965\tAccuracy:\t0.4202\tF1:\t0.4132\n",
      "10 / 20: Train Loss:\t0.8922\tVal Loss:\t1.1895\tAccuracy:\t0.4454\tF1:\t0.4370\n",
      "11 / 20: Train Loss:\t0.7524\tVal Loss:\t1.1843\tAccuracy:\t0.4202\tF1:\t0.4077\n",
      "12 / 20: Train Loss:\t0.7472\tVal Loss:\t1.1692\tAccuracy:\t0.4538\tF1:\t0.4506\n",
      "13 / 20: Train Loss:\t0.8149\tVal Loss:\t1.1640\tAccuracy:\t0.4958\tF1:\t0.4964\n",
      "14 / 20: Train Loss:\t0.7293\tVal Loss:\t1.1591\tAccuracy:\t0.5126\tF1:\t0.5131\n",
      "15 / 20: Train Loss:\t0.7737\tVal Loss:\t1.1537\tAccuracy:\t0.5210\tF1:\t0.5200\n",
      "16 / 20: Train Loss:\t0.6694\tVal Loss:\t1.1466\tAccuracy:\t0.4538\tF1:\t0.4480\n",
      "17 / 20: Train Loss:\t0.6804\tVal Loss:\t1.1420\tAccuracy:\t0.5378\tF1:\t0.5389\n",
      "18 / 20: Train Loss:\t0.7256\tVal Loss:\t1.1370\tAccuracy:\t0.5378\tF1:\t0.5391\n",
      "19 / 20: Train Loss:\t0.6412\tVal Loss:\t1.1318\tAccuracy:\t0.5462\tF1:\t0.5466\n",
      "20 / 20: Train Loss:\t0.6806\tVal Loss:\t1.1286\tAccuracy:\t0.5294\tF1:\t0.5317\n",
      "best (higgest macro f1-score) val results:\n",
      "                    precision    recall  f1-score   support\n",
      "\n",
      " misrepresentation       0.47      0.58      0.52        38\n",
      "oversimplification       0.59      0.56      0.57        36\n",
      "slothful induction       0.55      0.47      0.51        45\n",
      "\n",
      "          accuracy                           0.53       119\n",
      "         macro avg       0.54      0.53      0.53       119\n",
      "      weighted avg       0.54      0.53      0.53       119\n",
      "\n",
      "test results:\n",
      "                    precision    recall  f1-score   support\n",
      "\n",
      " misrepresentation       0.54      0.59      0.57        22\n",
      "oversimplification       0.53      0.45      0.49        20\n",
      "slothful induction       0.54      0.56      0.55        25\n",
      "\n",
      "          accuracy                           0.54        67\n",
      "         macro avg       0.54      0.53      0.53        67\n",
      "      weighted avg       0.54      0.54      0.54        67\n",
      "\n",
      "### ### ### ### ### ### ### ### ### ### \n",
      "{'acc': [0.5970149253731343, 0.5373134328358209], 'f1': [0.5982615268329553, 0.5335744952113238], 'g': [2, 4]}\n",
      "### ### ### ### ### ### ### ### ### ### \n",
      "Grid search gpt2, learning rate 1e-05 focal loss, gamma: 8\n"
     ]
    },
    {
     "name": "stderr",
     "output_type": "stream",
     "text": [
      "Some weights of GPT2ForSequenceClassification were not initialized from the model checkpoint at gpt2 and are newly initialized: ['score.weight']\n",
      "You should probably TRAIN this model on a down-stream task to be able to use it for predictions and inference.\n",
      "You're using a GPT2TokenizerFast tokenizer. Please note that with a fast tokenizer, using the `__call__` method is faster than using a method to encode the text followed by a call to the `pad` method to get a padded encoding.\n"
     ]
    },
    {
     "name": "stdout",
     "output_type": "stream",
     "text": [
      "1 / 20: Train Loss:\t3.2579\tVal Loss:\t1.7326\tAccuracy:\t0.2941\tF1:\t0.2582\n",
      "2 / 20: Train Loss:\t1.5609\tVal Loss:\t1.6026\tAccuracy:\t0.3109\tF1:\t0.2782\n",
      "3 / 20: Train Loss:\t1.1225\tVal Loss:\t1.4177\tAccuracy:\t0.2857\tF1:\t0.2609\n",
      "4 / 20: Train Loss:\t0.7450\tVal Loss:\t1.3254\tAccuracy:\t0.3109\tF1:\t0.2960\n",
      "5 / 20: Train Loss:\t0.6070\tVal Loss:\t1.3012\tAccuracy:\t0.3277\tF1:\t0.3093\n",
      "6 / 20: Train Loss:\t0.5347\tVal Loss:\t1.2593\tAccuracy:\t0.3193\tF1:\t0.3064\n",
      "7 / 20: Train Loss:\t0.4018\tVal Loss:\t1.2562\tAccuracy:\t0.3277\tF1:\t0.2977\n",
      "8 / 20: Train Loss:\t0.3962\tVal Loss:\t1.2375\tAccuracy:\t0.3361\tF1:\t0.3098\n",
      "9 / 20: Train Loss:\t0.4291\tVal Loss:\t1.2209\tAccuracy:\t0.3109\tF1:\t0.2991\n",
      "10 / 20: Train Loss:\t0.3652\tVal Loss:\t1.2124\tAccuracy:\t0.3361\tF1:\t0.3238\n",
      "11 / 20: Train Loss:\t0.2644\tVal Loss:\t1.2134\tAccuracy:\t0.3277\tF1:\t0.3042\n",
      "12 / 20: Train Loss:\t0.2560\tVal Loss:\t1.1983\tAccuracy:\t0.3782\tF1:\t0.3770\n",
      "13 / 20: Train Loss:\t0.2813\tVal Loss:\t1.1953\tAccuracy:\t0.3950\tF1:\t0.3907\n",
      "14 / 20: Train Loss:\t0.2454\tVal Loss:\t1.1921\tAccuracy:\t0.4034\tF1:\t0.3986\n",
      "15 / 20: Train Loss:\t0.2904\tVal Loss:\t1.1899\tAccuracy:\t0.3782\tF1:\t0.3677\n",
      "16 / 20: Train Loss:\t0.2178\tVal Loss:\t1.1827\tAccuracy:\t0.4286\tF1:\t0.4253\n",
      "17 / 20: Train Loss:\t0.2171\tVal Loss:\t1.1803\tAccuracy:\t0.4202\tF1:\t0.4170\n",
      "18 / 20: Train Loss:\t0.2463\tVal Loss:\t1.1766\tAccuracy:\t0.4286\tF1:\t0.4271\n",
      "19 / 20: Train Loss:\t0.1804\tVal Loss:\t1.1752\tAccuracy:\t0.4370\tF1:\t0.4359\n",
      "20 / 20: Train Loss:\t0.2079\tVal Loss:\t1.1715\tAccuracy:\t0.4538\tF1:\t0.4540\n",
      "best (higgest macro f1-score) val results:\n",
      "                    precision    recall  f1-score   support\n",
      "\n",
      " misrepresentation       0.43      0.53      0.48        38\n",
      "oversimplification       0.47      0.44      0.46        36\n",
      "slothful induction       0.46      0.40      0.43        45\n",
      "\n",
      "          accuracy                           0.45       119\n",
      "         macro avg       0.46      0.46      0.45       119\n",
      "      weighted avg       0.46      0.45      0.45       119\n",
      "\n",
      "test results:\n",
      "                    precision    recall  f1-score   support\n",
      "\n",
      " misrepresentation       0.46      0.50      0.48        22\n",
      "oversimplification       0.43      0.30      0.35        20\n",
      "slothful induction       0.48      0.56      0.52        25\n",
      "\n",
      "          accuracy                           0.46        67\n",
      "         macro avg       0.46      0.45      0.45        67\n",
      "      weighted avg       0.46      0.46      0.46        67\n",
      "\n",
      "### ### ### ### ### ### ### ### ### ### \n",
      "{'acc': [0.5970149253731343, 0.5373134328358209, 0.4626865671641791], 'f1': [0.5982615268329553, 0.5335744952113238, 0.4499068548514414], 'g': [2, 4, 8]}\n",
      "### ### ### ### ### ### ### ### ### ### \n",
      "Grid search gpt2, learning rate 1e-05 focal loss, gamma: 16\n"
     ]
    },
    {
     "name": "stderr",
     "output_type": "stream",
     "text": [
      "Some weights of GPT2ForSequenceClassification were not initialized from the model checkpoint at gpt2 and are newly initialized: ['score.weight']\n",
      "You should probably TRAIN this model on a down-stream task to be able to use it for predictions and inference.\n",
      "You're using a GPT2TokenizerFast tokenizer. Please note that with a fast tokenizer, using the `__call__` method is faster than using a method to encode the text followed by a call to the `pad` method to get a padded encoding.\n"
     ]
    },
    {
     "name": "stdout",
     "output_type": "stream",
     "text": [
      "1 / 20: Train Loss:\t2.5661\tVal Loss:\t1.6467\tAccuracy:\t0.2521\tF1:\t0.2263\n",
      "2 / 20: Train Loss:\t1.0087\tVal Loss:\t1.5106\tAccuracy:\t0.2857\tF1:\t0.2470\n",
      "3 / 20: Train Loss:\t0.6561\tVal Loss:\t1.3644\tAccuracy:\t0.2941\tF1:\t0.2748\n",
      "4 / 20: Train Loss:\t0.3669\tVal Loss:\t1.3126\tAccuracy:\t0.2857\tF1:\t0.2719\n",
      "5 / 20: Train Loss:\t0.2688\tVal Loss:\t1.2883\tAccuracy:\t0.2689\tF1:\t0.2506\n",
      "6 / 20: Train Loss:\t0.2160\tVal Loss:\t1.2720\tAccuracy:\t0.2773\tF1:\t0.2533\n",
      "No improvement for 3 epochs. Stopping early.\n",
      "best (higgest macro f1-score) val results:\n",
      "                    precision    recall  f1-score   support\n",
      "\n",
      " misrepresentation       0.29      0.53      0.38        38\n",
      "oversimplification       0.29      0.28      0.29        36\n",
      "slothful induction       0.18      0.07      0.10        45\n",
      "\n",
      "          accuracy                           0.28       119\n",
      "         macro avg       0.25      0.29      0.25       119\n",
      "      weighted avg       0.25      0.28      0.24       119\n",
      "\n",
      "test results:\n",
      "                    precision    recall  f1-score   support\n",
      "\n",
      " misrepresentation       0.37      0.50      0.42        22\n",
      "oversimplification       0.23      0.25      0.24        20\n",
      "slothful induction       0.27      0.16      0.20        25\n",
      "\n",
      "          accuracy                           0.30        67\n",
      "         macro avg       0.29      0.30      0.29        67\n",
      "      weighted avg       0.29      0.30      0.28        67\n",
      "\n",
      "### ### ### ### ### ### ### ### ### ### \n",
      "{'acc': [0.5970149253731343, 0.5373134328358209, 0.4626865671641791, 0.29850746268656714], 'f1': [0.5982615268329553, 0.5335744952113238, 0.4499068548514414, 0.287057387057387], 'g': [2, 4, 8, 16]}\n",
      "### ### ### ### ### ### ### ### ### ### \n"
     ]
    }
   ],
   "source": [
    "gammas = [2,4,8,16]\n",
    "lr = 1.0e-5\n",
    "\n",
    "\n",
    "for g in gammas:\n",
    "    print(f'Grid search {model_checkpoint}, learning rate {lr} focal loss, gamma: {g}')\n",
    "    data = ClimateDataset(model_to_train=2,model_checkpoint=model_checkpoint,batch_size=32)\n",
    "    data.setup_dataloaders()\n",
    "    model = ClassificationModel(model_checkpoint=data.model_checkpoint,num_labels=data.num_labels)\n",
    "    trainer = Engine(epochs=20,labels=data.labels)\n",
    "    trainer.model = model.model\n",
    "    trainer.dataset_encoded = data.dataset_encoded\n",
    "    acc, f1 = trainer.run(lr=lr,\n",
    "                          wd=0.0,\n",
    "                          train_dataloader=data.train_dataloader,\n",
    "                          eval_dataloader=data.eval_dataloader,\n",
    "                          test_dataloader=data.test_dataloader,\n",
    "                          focalloss=True,\n",
    "                          gamma=g,\n",
    "                          early_stop=3)\n",
    "    results['acc'].append(acc)\n",
    "    results['f1'].append(f1)\n",
    "    results['g'].append(g)\n",
    "    print('### '*10)\n",
    "    print(results)\n",
    "    print('### '*10)\n",
    "    with torch.no_grad():\n",
    "        torch.cuda.empty_cache()\n",
    "    del data, model, trainer, acc, f1"
   ]
  },
  {
   "cell_type": "code",
   "execution_count": 5,
   "metadata": {},
   "outputs": [],
   "source": [
    "import matplotlib.pyplot as plt\n",
    "import seaborn as sns\n",
    "import pandas as pd"
   ]
  },
  {
   "cell_type": "code",
   "execution_count": 6,
   "metadata": {},
   "outputs": [
    {
     "data": {
      "image/png": "[encoded data removed]",
      "text/plain": [
       "<Figure size 640x480 with 1 Axes>"
      ]
     },
     "metadata": {},
     "output_type": "display_data"
    }
   ],
   "source": [
    "def plot_grid_search(df, title, column):\n",
    "\n",
    "    # Create the plot\n",
    "    ax = df.plot(x=column, y=['acc', 'f1'], marker='o', linestyle='-')\n",
    "\n",
    "    # Set y-axis range between 0 and 1\n",
    "    plt.ylim(0, 1)\n",
    "\n",
    "    # Annotate points with F1 scores\n",
    "    for i, row in df.iterrows(): \n",
    "        ax.annotate(f'{row[\"f1\"]:.2f}', (row[column], row[\"f1\"]), textcoords='offset points', xytext=(0, -10), ha='center')\n",
    "\n",
    "    # Annotate points with Acc scores\n",
    "    for i, row in df.iterrows():\n",
    "        ax.annotate(f'{row[\"acc\"]:.2f}', (row[column], row[\"acc\"]), textcoords='offset points', xytext=(0, 10), ha='center')\n",
    "    \n",
    "    # \n",
    "    plt.xticks(df[column], [val for val in df[column]], ha='center')\n",
    "    # plt.xscale('log')\n",
    "    plt.minorticks_off()\n",
    "\n",
    "    plt.title(title)\n",
    "    plt.xlabel('gamma')\n",
    "    plt.ylabel('Score')\n",
    "    plt.show()\n",
    "\n",
    "plot_grid_search(pd.DataFrame(results), f'Focal loss, {model_checkpoint}', 'g')"
   ]
  }
 ],
 "metadata": {
  "kernelspec": {
   "display_name": "Python 3",
   "language": "python",
   "name": "python3"
  },
  "language_info": {
   "codemirror_mode": {
    "name": "ipython",
    "version": 3
   },
   "file_extension": ".py",
   "mimetype": "text/x-python",
   "name": "python",
   "nbconvert_exporter": "python",
   "pygments_lexer": "ipython3",
   "version": "3.11.5"
  },
  "orig_nbformat": 4
 },
 "nbformat": 4,
 "nbformat_minor": 2
}
