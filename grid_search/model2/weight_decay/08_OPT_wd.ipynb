{
 "cells": [
  {
   "cell_type": "code",
   "execution_count": 1,
   "metadata": {},
   "outputs": [],
   "source": [
    "import os\n",
    "import sys\n",
    "import gc\n",
    "# assuming data, models, engine in flicc directory:\n",
    "flicc_path = os.path.realpath(\"__file__\").split('grid_search')[0]\n",
    "sys.path.append(flicc_path)\n",
    "import torch\n",
    "from data import ClimateDataset\n",
    "from models import ClassificationModel\n",
    "from engine import Engine"
   ]
  },
  {
   "cell_type": "code",
   "execution_count": 2,
   "metadata": {},
   "outputs": [],
   "source": [
    "model_checkpoint='facebook/opt-350m'"
   ]
  },
  {
   "cell_type": "code",
   "execution_count": 3,
   "metadata": {},
   "outputs": [],
   "source": [
    "results = {'test_acc':[],\n",
    "           'test_f1':[],\n",
    "           'eval_acc':[],\n",
    "           'eval_f1':[],\n",
    "           'wd':[]}"
   ]
  },
  {
   "cell_type": "code",
   "execution_count": 4,
   "metadata": {},
   "outputs": [
    {
     "name": "stdout",
     "output_type": "stream",
     "text": [
      "Grid search facebook/opt-350m, learning rate 1e-05, focal loss gamma 2, weight decay 0.1\n"
     ]
    },
    {
     "name": "stderr",
     "output_type": "stream",
     "text": [
      "Some weights of OPTForSequenceClassification were not initialized from the model checkpoint at facebook/opt-350m and are newly initialized: ['score.weight']\n",
      "You should probably TRAIN this model on a down-stream task to be able to use it for predictions and inference.\n",
      "You're using a GPT2TokenizerFast tokenizer. Please note that with a fast tokenizer, using the `__call__` method is faster than using a method to encode the text followed by a call to the `pad` method to get a padded encoding.\n"
     ]
    },
    {
     "name": "stdout",
     "output_type": "stream",
     "text": [
      "1 / 30: Train Loss:\t3.2564\tVal Loss:\t1.2199\tAccuracy:\t0.4118\tF1:\t0.3560\n",
      "2 / 30: Train Loss:\t1.0501\tVal Loss:\t0.8944\tAccuracy:\t0.6471\tF1:\t0.6305\n",
      "3 / 30: Train Loss:\t0.6484\tVal Loss:\t0.8582\tAccuracy:\t0.6218\tF1:\t0.6232\n",
      "4 / 30: Train Loss:\t0.6364\tVal Loss:\t0.8411\tAccuracy:\t0.5378\tF1:\t0.5138\n",
      "5 / 30: Train Loss:\t0.6672\tVal Loss:\t0.7576\tAccuracy:\t0.6555\tF1:\t0.6452\n",
      "6 / 30: Train Loss:\t0.6692\tVal Loss:\t0.7913\tAccuracy:\t0.6303\tF1:\t0.6136\n",
      "7 / 30: Train Loss:\t0.6404\tVal Loss:\t0.9758\tAccuracy:\t0.4790\tF1:\t0.4356\n",
      "8 / 30: Train Loss:\t0.5975\tVal Loss:\t0.9157\tAccuracy:\t0.6134\tF1:\t0.6163\n",
      "No improvement for 3 epochs. Stopping early.\n",
      "best (higgest macro f1-score) val results:\n",
      "                    precision    recall  f1-score   support\n",
      "\n",
      " misrepresentation       0.74      0.45      0.56        38\n",
      "oversimplification       0.56      0.81      0.66        36\n",
      "slothful induction       0.73      0.71      0.72        45\n",
      "\n",
      "          accuracy                           0.66       119\n",
      "         macro avg       0.67      0.65      0.65       119\n",
      "      weighted avg       0.68      0.66      0.65       119\n",
      "\n",
      "test results:\n",
      "                    precision    recall  f1-score   support\n",
      "\n",
      " misrepresentation       0.58      0.50      0.54        22\n",
      "oversimplification       0.62      0.80      0.70        20\n",
      "slothful induction       0.68      0.60      0.64        25\n",
      "\n",
      "          accuracy                           0.63        67\n",
      "         macro avg       0.63      0.63      0.62        67\n",
      "      weighted avg       0.63      0.63      0.62        67\n",
      "\n",
      "### ### ### ### ### ### ### ### ### ### \n",
      "{'test_acc': [0.6268656716417911], 'test_f1': [0.6235118040357092], 'eval_acc': [0.6554621848739496], 'eval_f1': [0.6451896939555808], 'wd': [0.1]}\n",
      "### ### ### ### ### ### ### ### ### ### \n",
      "Grid search facebook/opt-350m, learning rate 1e-05, focal loss gamma 2, weight decay 0.01\n"
     ]
    },
    {
     "name": "stderr",
     "output_type": "stream",
     "text": [
      "Some weights of OPTForSequenceClassification were not initialized from the model checkpoint at facebook/opt-350m and are newly initialized: ['score.weight']\n",
      "You should probably TRAIN this model on a down-stream task to be able to use it for predictions and inference.\n",
      "You're using a GPT2TokenizerFast tokenizer. Please note that with a fast tokenizer, using the `__call__` method is faster than using a method to encode the text followed by a call to the `pad` method to get a padded encoding.\n"
     ]
    },
    {
     "name": "stdout",
     "output_type": "stream",
     "text": [
      "1 / 30: Train Loss:\t3.2543\tVal Loss:\t1.2025\tAccuracy:\t0.4034\tF1:\t0.3429\n",
      "2 / 30: Train Loss:\t1.0374\tVal Loss:\t0.8958\tAccuracy:\t0.6471\tF1:\t0.6110\n",
      "3 / 30: Train Loss:\t0.6763\tVal Loss:\t0.8577\tAccuracy:\t0.6050\tF1:\t0.6081\n",
      "4 / 30: Train Loss:\t0.6188\tVal Loss:\t0.8384\tAccuracy:\t0.5798\tF1:\t0.5595\n",
      "5 / 30: Train Loss:\t0.6421\tVal Loss:\t0.7515\tAccuracy:\t0.6807\tF1:\t0.6826\n",
      "6 / 30: Train Loss:\t0.6523\tVal Loss:\t0.7726\tAccuracy:\t0.6303\tF1:\t0.6201\n",
      "7 / 30: Train Loss:\t0.6459\tVal Loss:\t0.9077\tAccuracy:\t0.4790\tF1:\t0.4502\n",
      "8 / 30: Train Loss:\t0.6443\tVal Loss:\t1.2572\tAccuracy:\t0.4790\tF1:\t0.4472\n",
      "No improvement for 3 epochs. Stopping early.\n",
      "best (higgest macro f1-score) val results:\n",
      "                    precision    recall  f1-score   support\n",
      "\n",
      " misrepresentation       0.57      0.74      0.64        38\n",
      "oversimplification       0.66      0.75      0.70        36\n",
      "slothful induction       0.90      0.58      0.70        45\n",
      "\n",
      "          accuracy                           0.68       119\n",
      "         macro avg       0.71      0.69      0.68       119\n",
      "      weighted avg       0.72      0.68      0.68       119\n",
      "\n",
      "test results:\n",
      "                    precision    recall  f1-score   support\n",
      "\n",
      " misrepresentation       0.58      0.82      0.68        22\n",
      "oversimplification       0.67      0.70      0.68        20\n",
      "slothful induction       0.80      0.48      0.60        25\n",
      "\n",
      "          accuracy                           0.66        67\n",
      "         macro avg       0.68      0.67      0.65        67\n",
      "      weighted avg       0.69      0.66      0.65        67\n",
      "\n",
      "### ### ### ### ### ### ### ### ### ### \n",
      "{'test_acc': [0.6268656716417911, 0.6567164179104478], 'test_f1': [0.6235118040357092, 0.6540573707623869], 'eval_acc': [0.6554621848739496, 0.680672268907563], 'eval_f1': [0.6451896939555808, 0.6825598549736481], 'wd': [0.1, 0.01]}\n",
      "### ### ### ### ### ### ### ### ### ### \n"
     ]
    }
   ],
   "source": [
    "g = 2\n",
    "lr = 1.0e-5\n",
    "weight_decay = [0.1, 0.01]\n",
    "\n",
    "for wd in weight_decay:\n",
    "    print(f'Grid search {model_checkpoint}, learning rate {lr}, focal loss gamma {g}, weight decay {wd}')\n",
    "    data = ClimateDataset(model_to_train=2,model_checkpoint=model_checkpoint,dataset_url=flicc_path,batch_size=16)\n",
    "    data.setup_dataloaders()\n",
    "    model = ClassificationModel(model_checkpoint=data.model_checkpoint,num_labels=data.num_labels)\n",
    "    trainer = Engine(epochs=30,labels=data.labels)\n",
    "    trainer.model = model.model\n",
    "    trainer.dataset_encoded = data.dataset_encoded\n",
    "    test_acc, test_f1, eval_acc, eval_f1 = trainer.run(lr=lr,\n",
    "                                                       wd=wd,\n",
    "                                                       train_dataloader=data.train_dataloader,\n",
    "                                                       eval_dataloader=data.eval_dataloader,\n",
    "                                                       test_dataloader=data.test_dataloader,\n",
    "                                                       focalloss=True,\n",
    "                                                       accumulation_steps=2,\n",
    "                                                       gamma=g,\n",
    "                                                       early_stop=3)\n",
    "    results['test_acc'].append(test_acc)\n",
    "    results['test_f1'].append(test_f1)\n",
    "    results['eval_acc'].append(eval_acc)\n",
    "    results['eval_f1'].append(eval_f1)\n",
    "    results['wd'].append(wd)\n",
    "    print('### '*10)\n",
    "    print(results)\n",
    "    print('### '*10)\n",
    "    with torch.no_grad():\n",
    "        torch.cuda.empty_cache()\n",
    "    del data, model, trainer, test_acc, test_f1, eval_acc, eval_f1\n",
    "    gc.collect()"
   ]
  },
  {
   "cell_type": "code",
   "execution_count": 5,
   "metadata": {},
   "outputs": [
    {
     "data": {
      "image/png": "[encoded data removed]",
      "text/plain": [
       "<Figure size 640x480 with 1 Axes>"
      ]
     },
     "metadata": {},
     "output_type": "display_data"
    }
   ],
   "source": [
    "Engine.plot_grid_search(df=results,\n",
    "                        title=f'Weight decay, lr: {lr}, focal loss gamma {g} {model_checkpoint}',\n",
    "                        column='wd',\n",
    "                        sci_format=True)"
   ]
  },
  {
   "cell_type": "code",
   "execution_count": 6,
   "metadata": {},
   "outputs": [],
   "source": [
    "%reset -f"
   ]
  }
 ],
 "metadata": {
  "kernelspec": {
   "display_name": "Python 3",
   "language": "python",
   "name": "python3"
  },
  "language_info": {
   "codemirror_mode": {
    "name": "ipython",
    "version": 3
   },
   "file_extension": ".py",
   "mimetype": "text/x-python",
   "name": "python",
   "nbconvert_exporter": "python",
   "pygments_lexer": "ipython3",
   "version": "3.11.5"
  },
  "orig_nbformat": 4
 },
 "nbformat": 4,
 "nbformat_minor": 2
}
