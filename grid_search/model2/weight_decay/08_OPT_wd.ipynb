{
 "cells": [
  {
   "cell_type": "code",
   "execution_count": 1,
   "metadata": {},
   "outputs": [],
   "source": [
    "import os\n",
    "import sys\n",
    "import gc\n",
    "# assuming data, models, engine in flicc directory:\n",
    "flicc_path = os.path.realpath(\"__file__\").split('grid_search')[0]\n",
    "sys.path.append(flicc_path)\n",
    "import torch\n",
    "from data import ClimateDataset\n",
    "from models import ClassificationModel\n",
    "from engine import Engine"
   ]
  },
  {
   "cell_type": "code",
   "execution_count": 2,
   "metadata": {},
   "outputs": [],
   "source": [
    "model_checkpoint='bert-base-uncased'"
   ]
  },
  {
   "cell_type": "code",
   "execution_count": 3,
   "metadata": {},
   "outputs": [],
   "source": [
    "results = {'test_acc':[],\n",
    "           'test_f1':[],\n",
    "           'eval_acc':[],\n",
    "           'eval_f1':[],\n",
    "           'wd':[]}"
   ]
  },
  {
   "cell_type": "code",
   "execution_count": 4,
   "metadata": {},
   "outputs": [
    {
     "name": "stdout",
     "output_type": "stream",
     "text": [
      "Grid search bert-base-uncased, learning rate 1e-05, focal loss gamma 2, weight decay 0.1\n"
     ]
    },
    {
     "data": {
      "application/vnd.jupyter.widget-view+json": {
       "model_id": "f973c91cae3a44e18bbf69bbc8227ca1",
       "version_major": 2,
       "version_minor": 0
      },
      "text/plain": [
       "Filter:   0%|          | 0/1796 [00:00<?, ? examples/s]"
      ]
     },
     "metadata": {},
     "output_type": "display_data"
    },
    {
     "data": {
      "application/vnd.jupyter.widget-view+json": {
       "model_id": "34f3a54186774a4d96b71860ab6a190d",
       "version_major": 2,
       "version_minor": 0
      },
      "text/plain": [
       "Filter:   0%|          | 0/256 [00:00<?, ? examples/s]"
      ]
     },
     "metadata": {},
     "output_type": "display_data"
    },
    {
     "data": {
      "application/vnd.jupyter.widget-view+json": {
       "model_id": "165412eefbd145248442b472c44029fa",
       "version_major": 2,
       "version_minor": 0
      },
      "text/plain": [
       "Filter:   0%|          | 0/457 [00:00<?, ? examples/s]"
      ]
     },
     "metadata": {},
     "output_type": "display_data"
    },
    {
     "data": {
      "application/vnd.jupyter.widget-view+json": {
       "model_id": "413b47d21c934c848748b1a668b006f0",
       "version_major": 2,
       "version_minor": 0
      },
      "text/plain": [
       "Map:   0%|          | 0/472 [00:00<?, ? examples/s]"
      ]
     },
     "metadata": {},
     "output_type": "display_data"
    },
    {
     "data": {
      "application/vnd.jupyter.widget-view+json": {
       "model_id": "2ea10389751647bea558dafc773c5624",
       "version_major": 2,
       "version_minor": 0
      },
      "text/plain": [
       "Map:   0%|          | 0/67 [00:00<?, ? examples/s]"
      ]
     },
     "metadata": {},
     "output_type": "display_data"
    },
    {
     "data": {
      "application/vnd.jupyter.widget-view+json": {
       "model_id": "d009b9bf15c241e39c71f0f041eb286e",
       "version_major": 2,
       "version_minor": 0
      },
      "text/plain": [
       "Map:   0%|          | 0/119 [00:00<?, ? examples/s]"
      ]
     },
     "metadata": {},
     "output_type": "display_data"
    },
    {
     "name": "stderr",
     "output_type": "stream",
     "text": [
      "Some weights of BertForSequenceClassification were not initialized from the model checkpoint at bert-base-uncased and are newly initialized: ['classifier.weight', 'classifier.bias']\n",
      "You should probably TRAIN this model on a down-stream task to be able to use it for predictions and inference.\n",
      "You're using a BertTokenizerFast tokenizer. Please note that with a fast tokenizer, using the `__call__` method is faster than using a method to encode the text followed by a call to the `pad` method to get a padded encoding.\n"
     ]
    },
    {
     "name": "stdout",
     "output_type": "stream",
     "text": [
      "1 / 30: Train Loss:\t0.7399\tVal Loss:\t1.0094\tAccuracy:\t0.6050\tF1:\t0.5941\n",
      "2 / 30: Train Loss:\t0.5820\tVal Loss:\t0.9315\tAccuracy:\t0.6555\tF1:\t0.6271\n",
      "3 / 30: Train Loss:\t0.4998\tVal Loss:\t0.8293\tAccuracy:\t0.6807\tF1:\t0.6653\n",
      "4 / 30: Train Loss:\t0.3972\tVal Loss:\t0.7892\tAccuracy:\t0.6975\tF1:\t0.6789\n",
      "5 / 30: Train Loss:\t0.3194\tVal Loss:\t0.7487\tAccuracy:\t0.7059\tF1:\t0.6886\n",
      "6 / 30: Train Loss:\t0.2501\tVal Loss:\t0.7435\tAccuracy:\t0.6807\tF1:\t0.6579\n",
      "7 / 30: Train Loss:\t0.1990\tVal Loss:\t0.6549\tAccuracy:\t0.7563\tF1:\t0.7438\n",
      "8 / 30: Train Loss:\t0.1694\tVal Loss:\t0.6268\tAccuracy:\t0.7563\tF1:\t0.7516\n",
      "9 / 30: Train Loss:\t0.1379\tVal Loss:\t0.6734\tAccuracy:\t0.7059\tF1:\t0.7046\n",
      "10 / 30: Train Loss:\t0.1158\tVal Loss:\t0.6427\tAccuracy:\t0.7479\tF1:\t0.7343\n",
      "11 / 30: Train Loss:\t0.0718\tVal Loss:\t0.6113\tAccuracy:\t0.7647\tF1:\t0.7563\n",
      "12 / 30: Train Loss:\t0.0479\tVal Loss:\t0.5733\tAccuracy:\t0.7815\tF1:\t0.7740\n",
      "13 / 30: Train Loss:\t0.0333\tVal Loss:\t0.5907\tAccuracy:\t0.7899\tF1:\t0.7824\n",
      "14 / 30: Train Loss:\t0.0269\tVal Loss:\t0.5956\tAccuracy:\t0.7983\tF1:\t0.7915\n",
      "15 / 30: Train Loss:\t0.0162\tVal Loss:\t0.5789\tAccuracy:\t0.8067\tF1:\t0.7993\n",
      "16 / 30: Train Loss:\t0.0145\tVal Loss:\t0.6000\tAccuracy:\t0.7899\tF1:\t0.7816\n",
      "17 / 30: Train Loss:\t0.0127\tVal Loss:\t0.5978\tAccuracy:\t0.7899\tF1:\t0.7816\n",
      "18 / 30: Train Loss:\t0.0101\tVal Loss:\t0.6088\tAccuracy:\t0.7815\tF1:\t0.7729\n",
      "No improvement for 3 epochs. Stopping early.\n",
      "best (higgest macro f1-score) val results:\n",
      "                    precision    recall  f1-score   support\n",
      "\n",
      " misrepresentation       0.79      0.71      0.75        38\n",
      "oversimplification       0.93      0.69      0.79        36\n",
      "slothful induction       0.76      0.98      0.85        45\n",
      "\n",
      "          accuracy                           0.81       119\n",
      "         macro avg       0.83      0.79      0.80       119\n",
      "      weighted avg       0.82      0.81      0.80       119\n",
      "\n",
      "test results:\n",
      "                    precision    recall  f1-score   support\n",
      "\n",
      " misrepresentation       0.83      0.86      0.84        22\n",
      "oversimplification       0.74      0.85      0.79        20\n",
      "slothful induction       0.76      0.64      0.70        25\n",
      "\n",
      "          accuracy                           0.78        67\n",
      "         macro avg       0.78      0.78      0.78        67\n",
      "      weighted avg       0.78      0.78      0.77        67\n",
      "\n",
      "### ### ### ### ### ### ### ### ### ### \n",
      "{'test_acc': [0.7761194029850746], 'test_f1': [0.7769314309253641], 'eval_acc': [0.8067226890756303], 'eval_f1': [0.7993399085632095], 'wd': [0.1]}\n",
      "### ### ### ### ### ### ### ### ### ### \n",
      "Grid search bert-base-uncased, learning rate 1e-05, focal loss gamma 2, weight decay 0.01\n"
     ]
    },
    {
     "data": {
      "application/vnd.jupyter.widget-view+json": {
       "model_id": "fb4778936e044d7094e5d3fd267dffa0",
       "version_major": 2,
       "version_minor": 0
      },
      "text/plain": [
       "Map:   0%|          | 0/67 [00:00<?, ? examples/s]"
      ]
     },
     "metadata": {},
     "output_type": "display_data"
    },
    {
     "name": "stderr",
     "output_type": "stream",
     "text": [
      "Some weights of BertForSequenceClassification were not initialized from the model checkpoint at bert-base-uncased and are newly initialized: ['classifier.weight', 'classifier.bias']\n",
      "You should probably TRAIN this model on a down-stream task to be able to use it for predictions and inference.\n",
      "You're using a BertTokenizerFast tokenizer. Please note that with a fast tokenizer, using the `__call__` method is faster than using a method to encode the text followed by a call to the `pad` method to get a padded encoding.\n"
     ]
    },
    {
     "name": "stdout",
     "output_type": "stream",
     "text": [
      "1 / 30: Train Loss:\t0.7399\tVal Loss:\t1.0094\tAccuracy:\t0.6050\tF1:\t0.5941\n",
      "2 / 30: Train Loss:\t0.5820\tVal Loss:\t0.9314\tAccuracy:\t0.6555\tF1:\t0.6271\n",
      "3 / 30: Train Loss:\t0.5001\tVal Loss:\t0.8288\tAccuracy:\t0.6891\tF1:\t0.6727\n",
      "4 / 30: Train Loss:\t0.4042\tVal Loss:\t0.8105\tAccuracy:\t0.6975\tF1:\t0.6768\n",
      "5 / 30: Train Loss:\t0.3252\tVal Loss:\t0.7684\tAccuracy:\t0.6807\tF1:\t0.6564\n",
      "6 / 30: Train Loss:\t0.2640\tVal Loss:\t0.7195\tAccuracy:\t0.7395\tF1:\t0.7241\n",
      "7 / 30: Train Loss:\t0.2091\tVal Loss:\t0.6447\tAccuracy:\t0.7731\tF1:\t0.7678\n",
      "8 / 30: Train Loss:\t0.1740\tVal Loss:\t0.6471\tAccuracy:\t0.7311\tF1:\t0.7299\n",
      "9 / 30: Train Loss:\t0.1370\tVal Loss:\t0.6176\tAccuracy:\t0.7647\tF1:\t0.7572\n",
      "10 / 30: Train Loss:\t0.1002\tVal Loss:\t0.6602\tAccuracy:\t0.7479\tF1:\t0.7366\n",
      "No improvement for 3 epochs. Stopping early.\n",
      "best (higgest macro f1-score) val results:\n",
      "                    precision    recall  f1-score   support\n",
      "\n",
      " misrepresentation       0.72      0.74      0.73        38\n",
      "oversimplification       0.81      0.69      0.75        36\n",
      "slothful induction       0.80      0.87      0.83        45\n",
      "\n",
      "          accuracy                           0.77       119\n",
      "         macro avg       0.77      0.77      0.77       119\n",
      "      weighted avg       0.77      0.77      0.77       119\n",
      "\n",
      "test results:\n",
      "                    precision    recall  f1-score   support\n",
      "\n",
      " misrepresentation       0.67      0.82      0.73        22\n",
      "oversimplification       0.74      0.85      0.79        20\n",
      "slothful induction       0.88      0.60      0.71        25\n",
      "\n",
      "          accuracy                           0.75        67\n",
      "         macro avg       0.76      0.76      0.75        67\n",
      "      weighted avg       0.77      0.75      0.74        67\n",
      "\n",
      "### ### ### ### ### ### ### ### ### ### \n",
      "{'test_acc': [0.7761194029850746, 0.746268656716418], 'test_f1': [0.7769314309253641, 0.7465590887517798], 'eval_acc': [0.8067226890756303, 0.773109243697479], 'eval_f1': [0.7993399085632095, 0.7677762060105663], 'wd': [0.1, 0.01]}\n",
      "### ### ### ### ### ### ### ### ### ### \n"
     ]
    }
   ],
   "source": [
    "g = 2\n",
    "lr = 1.0e-5\n",
    "weight_decay = [0.1, 0.01]\n",
    "\n",
    "for wd in weight_decay:\n",
    "    print(f'Grid search {model_checkpoint}, learning rate {lr}, focal loss gamma {g}, weight decay {wd}')\n",
    "    data = ClimateDataset(model_to_train=2,model_checkpoint=model_checkpoint,dataset_url=flicc_path,batch_size=16)\n",
    "    data.setup_dataloaders()\n",
    "    model = ClassificationModel(model_checkpoint=data.model_checkpoint,num_labels=data.num_labels)\n",
    "    trainer = Engine(epochs=30,labels=data.labels)\n",
    "    trainer.model = model.model\n",
    "    trainer.dataset_encoded = data.dataset_encoded\n",
    "    test_acc, test_f1, eval_acc, eval_f1 = trainer.run(lr=lr,\n",
    "                                                       wd=wd,\n",
    "                                                       train_dataloader=data.train_dataloader,\n",
    "                                                       eval_dataloader=data.eval_dataloader,\n",
    "                                                       test_dataloader=data.test_dataloader,\n",
    "                                                       focalloss=True,\n",
    "                                                       accumulation_steps=2,\n",
    "                                                       gamma=g,\n",
    "                                                       early_stop=3)\n",
    "    results['test_acc'].append(test_acc)\n",
    "    results['test_f1'].append(test_f1)\n",
    "    results['eval_acc'].append(eval_acc)\n",
    "    results['eval_f1'].append(eval_f1)\n",
    "    results['wd'].append(wd)\n",
    "    print('### '*10)\n",
    "    print(results)\n",
    "    print('### '*10)\n",
    "    with torch.no_grad():\n",
    "        torch.cuda.empty_cache()\n",
    "    del data, model, trainer, test_acc, test_f1, eval_acc, eval_f1\n",
    "    gc.collect()"
   ]
  },
  {
   "cell_type": "code",
   "execution_count": 5,
   "metadata": {},
   "outputs": [
    {
     "data": {
      "image/png": "[encoded data removed]",
      "text/plain": [
       "<Figure size 640x480 with 1 Axes>"
      ]
     },
     "metadata": {},
     "output_type": "display_data"
    }
   ],
   "source": [
    "Engine.plot_grid_search(df=results,\n",
    "                        title=f'Weight decay, lr: {lr}, focal loss gamma {g} {model_checkpoint}',\n",
    "                        column='wd',\n",
    "                        sci_format=True)"
   ]
  },
  {
   "cell_type": "code",
   "execution_count": 6,
   "metadata": {},
   "outputs": [],
   "source": [
    "%reset -f"
   ]
  }
 ],
 "metadata": {
  "kernelspec": {
   "display_name": "Python 3",
   "language": "python",
   "name": "python3"
  },
  "language_info": {
   "codemirror_mode": {
    "name": "ipython",
    "version": 3
   },
   "file_extension": ".py",
   "mimetype": "text/x-python",
   "name": "python",
   "nbconvert_exporter": "python",
   "pygments_lexer": "ipython3",
   "version": "3.11.5"
  },
  "orig_nbformat": 4
 },
 "nbformat": 4,
 "nbformat_minor": 2
}
