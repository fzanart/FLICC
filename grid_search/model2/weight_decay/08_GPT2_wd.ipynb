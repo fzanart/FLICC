{
 "cells": [
  {
   "cell_type": "code",
   "execution_count": 1,
   "metadata": {},
   "outputs": [],
   "source": [
    "import os\n",
    "import sys\n",
    "import gc\n",
    "# assuming data, models, engine in flicc directory:\n",
    "flicc_path = os.path.realpath(\"__file__\").split('grid_search')[0]\n",
    "sys.path.append(flicc_path)\n",
    "import torch\n",
    "from data import ClimateDataset\n",
    "from models import ClassificationModel\n",
    "from engine import Engine"
   ]
  },
  {
   "cell_type": "code",
   "execution_count": 2,
   "metadata": {},
   "outputs": [],
   "source": [
    "model_checkpoint='gpt2'"
   ]
  },
  {
   "cell_type": "code",
   "execution_count": 3,
   "metadata": {},
   "outputs": [],
   "source": [
    "results = {'test_acc':[],\n",
    "           'test_f1':[],\n",
    "           'eval_acc':[],\n",
    "           'eval_f1':[],\n",
    "           'wd':[]}"
   ]
  },
  {
   "cell_type": "code",
   "execution_count": 4,
   "metadata": {},
   "outputs": [
    {
     "name": "stdout",
     "output_type": "stream",
     "text": [
      "Grid search gpt2, learning rate 0.0001, weight decay 0.1\n"
     ]
    },
    {
     "name": "stderr",
     "output_type": "stream",
     "text": [
      "Some weights of GPT2ForSequenceClassification were not initialized from the model checkpoint at gpt2 and are newly initialized: ['score.weight']\n",
      "You should probably TRAIN this model on a down-stream task to be able to use it for predictions and inference.\n",
      "You're using a GPT2TokenizerFast tokenizer. Please note that with a fast tokenizer, using the `__call__` method is faster than using a method to encode the text followed by a call to the `pad` method to get a padded encoding.\n"
     ]
    },
    {
     "name": "stdout",
     "output_type": "stream",
     "text": [
      "1 / 30: Train Loss:\t1.9740\tVal Loss:\t1.2432\tAccuracy:\t0.3109\tF1:\t0.2483\n",
      "2 / 30: Train Loss:\t1.3704\tVal Loss:\t1.1662\tAccuracy:\t0.3613\tF1:\t0.1948\n",
      "3 / 30: Train Loss:\t1.1912\tVal Loss:\t1.0847\tAccuracy:\t0.3866\tF1:\t0.2718\n",
      "4 / 30: Train Loss:\t1.1281\tVal Loss:\t1.0630\tAccuracy:\t0.3697\tF1:\t0.2244\n",
      "5 / 30: Train Loss:\t1.0842\tVal Loss:\t1.0392\tAccuracy:\t0.4286\tF1:\t0.3412\n",
      "6 / 30: Train Loss:\t1.0775\tVal Loss:\t1.0163\tAccuracy:\t0.4538\tF1:\t0.4086\n",
      "7 / 30: Train Loss:\t1.0307\tVal Loss:\t0.9826\tAccuracy:\t0.5546\tF1:\t0.5256\n",
      "8 / 30: Train Loss:\t0.9529\tVal Loss:\t0.9393\tAccuracy:\t0.6134\tF1:\t0.6084\n",
      "9 / 30: Train Loss:\t0.8921\tVal Loss:\t0.8235\tAccuracy:\t0.6218\tF1:\t0.6216\n",
      "10 / 30: Train Loss:\t0.7376\tVal Loss:\t0.7470\tAccuracy:\t0.6303\tF1:\t0.6309\n",
      "11 / 30: Train Loss:\t0.6781\tVal Loss:\t0.7612\tAccuracy:\t0.6387\tF1:\t0.6367\n",
      "12 / 30: Train Loss:\t0.5653\tVal Loss:\t0.8659\tAccuracy:\t0.6218\tF1:\t0.6257\n",
      "13 / 30: Train Loss:\t0.4954\tVal Loss:\t0.8367\tAccuracy:\t0.6471\tF1:\t0.6506\n",
      "14 / 30: Train Loss:\t0.4175\tVal Loss:\t1.1202\tAccuracy:\t0.6134\tF1:\t0.6137\n",
      "15 / 30: Train Loss:\t0.3575\tVal Loss:\t0.8656\tAccuracy:\t0.7143\tF1:\t0.7133\n",
      "16 / 30: Train Loss:\t0.3206\tVal Loss:\t1.2573\tAccuracy:\t0.6891\tF1:\t0.6866\n",
      "17 / 30: Train Loss:\t0.3191\tVal Loss:\t1.2759\tAccuracy:\t0.6723\tF1:\t0.6795\n",
      "18 / 30: Train Loss:\t0.2941\tVal Loss:\t1.6591\tAccuracy:\t0.6639\tF1:\t0.6570\n",
      "No improvement for 3 epochs. Stopping early.\n",
      "best (higgest macro f1-score) val results:\n",
      "                    precision    recall  f1-score   support\n",
      "\n",
      " misrepresentation       0.68      0.71      0.69        38\n",
      "oversimplification       0.77      0.67      0.72        36\n",
      "slothful induction       0.71      0.76      0.73        45\n",
      "\n",
      "          accuracy                           0.71       119\n",
      "         macro avg       0.72      0.71      0.71       119\n",
      "      weighted avg       0.72      0.71      0.71       119\n",
      "\n",
      "test results:\n",
      "                    precision    recall  f1-score   support\n",
      "\n",
      " misrepresentation       0.59      0.73      0.65        22\n",
      "oversimplification       0.70      0.80      0.74        20\n",
      "slothful induction       0.76      0.52      0.62        25\n",
      "\n",
      "          accuracy                           0.67        67\n",
      "         macro avg       0.68      0.68      0.67        67\n",
      "      weighted avg       0.69      0.67      0.67        67\n",
      "\n",
      "### ### ### ### ### ### ### ### ### ### \n",
      "{'test_acc': [0.6716417910447762], 'test_f1': [0.6720982966830142], 'eval_acc': [0.7142857142857143], 'eval_f1': [0.7133027994847927], 'wd': [0.1]}\n",
      "### ### ### ### ### ### ### ### ### ### \n",
      "Grid search gpt2, learning rate 0.0001, weight decay 0.01\n"
     ]
    },
    {
     "name": "stderr",
     "output_type": "stream",
     "text": [
      "Some weights of GPT2ForSequenceClassification were not initialized from the model checkpoint at gpt2 and are newly initialized: ['score.weight']\n",
      "You should probably TRAIN this model on a down-stream task to be able to use it for predictions and inference.\n",
      "You're using a GPT2TokenizerFast tokenizer. Please note that with a fast tokenizer, using the `__call__` method is faster than using a method to encode the text followed by a call to the `pad` method to get a padded encoding.\n"
     ]
    },
    {
     "name": "stdout",
     "output_type": "stream",
     "text": [
      "1 / 30: Train Loss:\t1.9762\tVal Loss:\t1.2451\tAccuracy:\t0.3277\tF1:\t0.2682\n",
      "2 / 30: Train Loss:\t1.4458\tVal Loss:\t1.1494\tAccuracy:\t0.3697\tF1:\t0.2844\n",
      "3 / 30: Train Loss:\t1.2068\tVal Loss:\t1.0961\tAccuracy:\t0.4118\tF1:\t0.3405\n",
      "4 / 30: Train Loss:\t1.1599\tVal Loss:\t1.0546\tAccuracy:\t0.4118\tF1:\t0.3060\n",
      "5 / 30: Train Loss:\t1.0912\tVal Loss:\t1.0484\tAccuracy:\t0.4622\tF1:\t0.3846\n",
      "6 / 30: Train Loss:\t1.0935\tVal Loss:\t1.0242\tAccuracy:\t0.4958\tF1:\t0.4471\n",
      "7 / 30: Train Loss:\t1.0615\tVal Loss:\t0.9958\tAccuracy:\t0.4958\tF1:\t0.4641\n",
      "8 / 30: Train Loss:\t1.0154\tVal Loss:\t0.9571\tAccuracy:\t0.6050\tF1:\t0.6066\n",
      "9 / 30: Train Loss:\t0.9555\tVal Loss:\t0.9153\tAccuracy:\t0.6303\tF1:\t0.6347\n",
      "10 / 30: Train Loss:\t0.8388\tVal Loss:\t0.9066\tAccuracy:\t0.6218\tF1:\t0.6198\n",
      "11 / 30: Train Loss:\t0.7750\tVal Loss:\t1.0088\tAccuracy:\t0.5546\tF1:\t0.5207\n",
      "12 / 30: Train Loss:\t0.8031\tVal Loss:\t1.1423\tAccuracy:\t0.5042\tF1:\t0.4730\n",
      "No improvement for 3 epochs. Stopping early.\n",
      "best (higgest macro f1-score) val results:\n",
      "                    precision    recall  f1-score   support\n",
      "\n",
      " misrepresentation       0.53      0.55      0.54        38\n",
      "oversimplification       0.78      0.69      0.74        36\n",
      "slothful induction       0.62      0.64      0.63        45\n",
      "\n",
      "          accuracy                           0.63       119\n",
      "         macro avg       0.64      0.63      0.63       119\n",
      "      weighted avg       0.64      0.63      0.63       119\n",
      "\n",
      "test results:\n",
      "                    precision    recall  f1-score   support\n",
      "\n",
      " misrepresentation       0.35      0.32      0.33        22\n",
      "oversimplification       0.62      0.75      0.68        20\n",
      "slothful induction       0.30      0.28      0.29        25\n",
      "\n",
      "          accuracy                           0.43        67\n",
      "         macro avg       0.43      0.45      0.44        67\n",
      "      weighted avg       0.42      0.43      0.42        67\n",
      "\n",
      "### ### ### ### ### ### ### ### ### ### \n",
      "{'test_acc': [0.6716417910447762, 0.43283582089552236], 'test_f1': [0.6720982966830142, 0.4356060606060606], 'eval_acc': [0.7142857142857143, 0.6302521008403361], 'eval_f1': [0.7133027994847927, 0.6347301462390976], 'wd': [0.1, 0.01]}\n",
      "### ### ### ### ### ### ### ### ### ### \n"
     ]
    }
   ],
   "source": [
    "\n",
    "lr = 1.0e-4\n",
    "weight_decay = [0.1, 0.01]\n",
    "\n",
    "for wd in weight_decay:\n",
    "    print(f'Grid search {model_checkpoint}, learning rate {lr}, weight decay {wd}')\n",
    "    data = ClimateDataset(model_to_train=2,model_checkpoint=model_checkpoint,dataset_url=flicc_path,batch_size=32)\n",
    "    data.setup_dataloaders()\n",
    "    model = ClassificationModel(model_checkpoint=data.model_checkpoint,num_labels=data.num_labels)\n",
    "    trainer = Engine(epochs=30,labels=data.labels)\n",
    "    trainer.model = model.model\n",
    "    trainer.dataset_encoded = data.dataset_encoded\n",
    "    test_acc, test_f1, eval_acc, eval_f1 = trainer.run(lr=lr,\n",
    "                                                       wd=wd,\n",
    "                                                       train_dataloader=data.train_dataloader,\n",
    "                                                       eval_dataloader=data.eval_dataloader,\n",
    "                                                       test_dataloader=data.test_dataloader,\n",
    "                                                       early_stop=3)\n",
    "    results['test_acc'].append(test_acc)\n",
    "    results['test_f1'].append(test_f1)\n",
    "    results['eval_acc'].append(eval_acc)\n",
    "    results['eval_f1'].append(eval_f1)\n",
    "    results['wd'].append(wd)\n",
    "    print('### '*10)\n",
    "    print(results)\n",
    "    print('### '*10)\n",
    "    with torch.no_grad():\n",
    "        torch.cuda.empty_cache()\n",
    "    del data, model, trainer, test_acc, test_f1, eval_acc, eval_f1\n",
    "    gc.collect()"
   ]
  },
  {
   "cell_type": "code",
   "execution_count": 5,
   "metadata": {},
   "outputs": [
    {
     "data": {
      "image/png": "[encoded data removed]",
      "text/plain": [
       "<Figure size 640x480 with 1 Axes>"
      ]
     },
     "metadata": {},
     "output_type": "display_data"
    }
   ],
   "source": [
    "Engine.plot_grid_search(df=results,\n",
    "                        title=f'Weight decay, lr: {lr}, {model_checkpoint}',\n",
    "                        column='wd',\n",
    "                        sci_format=True)"
   ]
  },
  {
   "cell_type": "code",
   "execution_count": 6,
   "metadata": {},
   "outputs": [],
   "source": [
    "%reset -f"
   ]
  }
 ],
 "metadata": {
  "kernelspec": {
   "display_name": "Python 3",
   "language": "python",
   "name": "python3"
  },
  "language_info": {
   "codemirror_mode": {
    "name": "ipython",
    "version": 3
   },
   "file_extension": ".py",
   "mimetype": "text/x-python",
   "name": "python",
   "nbconvert_exporter": "python",
   "pygments_lexer": "ipython3",
   "version": "3.11.5"
  },
  "orig_nbformat": 4
 },
 "nbformat": 4,
 "nbformat_minor": 2
}
