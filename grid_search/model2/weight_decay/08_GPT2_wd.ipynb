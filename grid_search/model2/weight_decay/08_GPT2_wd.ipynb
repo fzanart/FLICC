{
 "cells": [
  {
   "cell_type": "code",
   "execution_count": 1,
   "metadata": {},
   "outputs": [],
   "source": [
    "import os\n",
    "import sys\n",
    "import gc\n",
    "# assuming data, models, engine in flicc directory:\n",
    "flicc_path = os.path.realpath(\"__file__\").split('grid_search')[0]\n",
    "sys.path.append(flicc_path)\n",
    "import torch\n",
    "from data import ClimateDataset\n",
    "from models import ClassificationModel\n",
    "from engine import Engine"
   ]
  },
  {
   "cell_type": "code",
   "execution_count": 2,
   "metadata": {},
   "outputs": [],
   "source": [
    "model_checkpoint='microsoft/deberta-base'"
   ]
  },
  {
   "cell_type": "code",
   "execution_count": 3,
   "metadata": {},
   "outputs": [],
   "source": [
    "results = {'test_acc':[],\n",
    "           'test_f1':[],\n",
    "           'eval_acc':[],\n",
    "           'eval_f1':[],\n",
    "           'wd':[]}"
   ]
  },
  {
   "cell_type": "code",
   "execution_count": 4,
   "metadata": {},
   "outputs": [
    {
     "name": "stdout",
     "output_type": "stream",
     "text": [
      "Grid search microsoft/deberta-base, learning rate 1e-05, weight decay 0.1\n"
     ]
    },
    {
     "name": "stderr",
     "output_type": "stream",
     "text": [
      "Some weights of DebertaForSequenceClassification were not initialized from the model checkpoint at microsoft/deberta-base and are newly initialized: ['pooler.dense.weight', 'classifier.bias', 'classifier.weight', 'pooler.dense.bias']\n",
      "You should probably TRAIN this model on a down-stream task to be able to use it for predictions and inference.\n",
      "You're using a DebertaTokenizerFast tokenizer. Please note that with a fast tokenizer, using the `__call__` method is faster than using a method to encode the text followed by a call to the `pad` method to get a padded encoding.\n"
     ]
    },
    {
     "name": "stdout",
     "output_type": "stream",
     "text": [
      "1 / 30: Train Loss:\t1.0982\tVal Loss:\t1.0966\tAccuracy:\t0.3782\tF1:\t0.1829\n",
      "2 / 30: Train Loss:\t1.0701\tVal Loss:\t1.0236\tAccuracy:\t0.3866\tF1:\t0.2021\n",
      "3 / 30: Train Loss:\t0.9810\tVal Loss:\t0.9456\tAccuracy:\t0.5378\tF1:\t0.4492\n",
      "4 / 30: Train Loss:\t0.8653\tVal Loss:\t0.7553\tAccuracy:\t0.7311\tF1:\t0.7308\n",
      "5 / 30: Train Loss:\t0.6343\tVal Loss:\t0.6336\tAccuracy:\t0.7311\tF1:\t0.7288\n",
      "6 / 30: Train Loss:\t0.4550\tVal Loss:\t0.6152\tAccuracy:\t0.7479\tF1:\t0.7447\n",
      "7 / 30: Train Loss:\t0.2986\tVal Loss:\t0.5709\tAccuracy:\t0.7647\tF1:\t0.7629\n",
      "8 / 30: Train Loss:\t0.1885\tVal Loss:\t0.5963\tAccuracy:\t0.8319\tF1:\t0.8307\n",
      "9 / 30: Train Loss:\t0.1298\tVal Loss:\t0.6424\tAccuracy:\t0.8151\tF1:\t0.8158\n",
      "10 / 30: Train Loss:\t0.0891\tVal Loss:\t0.5956\tAccuracy:\t0.8235\tF1:\t0.8217\n",
      "11 / 30: Train Loss:\t0.0616\tVal Loss:\t0.6062\tAccuracy:\t0.8235\tF1:\t0.8232\n",
      "No improvement for 3 epochs. Stopping early.\n",
      "best (higgest macro f1-score) val results:\n",
      "                    precision    recall  f1-score   support\n",
      "\n",
      " misrepresentation       0.84      0.82      0.83        38\n",
      "oversimplification       0.96      0.72      0.83        36\n",
      "slothful induction       0.76      0.93      0.84        45\n",
      "\n",
      "          accuracy                           0.83       119\n",
      "         macro avg       0.85      0.82      0.83       119\n",
      "      weighted avg       0.85      0.83      0.83       119\n",
      "\n",
      "test results:\n",
      "                    precision    recall  f1-score   support\n",
      "\n",
      " misrepresentation       0.81      0.77      0.79        22\n",
      "oversimplification       0.80      0.80      0.80        20\n",
      "slothful induction       0.77      0.80      0.78        25\n",
      "\n",
      "          accuracy                           0.79        67\n",
      "         macro avg       0.79      0.79      0.79        67\n",
      "      weighted avg       0.79      0.79      0.79        67\n",
      "\n",
      "### ### ### ### ### ### ### ### ### ### \n",
      "{'test_acc': [0.7910447761194029], 'test_f1': [0.791670466636267], 'eval_acc': [0.8319327731092437], 'eval_f1': [0.8306878306878306], 'wd': [0.1]}\n",
      "### ### ### ### ### ### ### ### ### ### \n",
      "Grid search microsoft/deberta-base, learning rate 1e-05, weight decay 0.01\n"
     ]
    },
    {
     "name": "stderr",
     "output_type": "stream",
     "text": [
      "Some weights of DebertaForSequenceClassification were not initialized from the model checkpoint at microsoft/deberta-base and are newly initialized: ['pooler.dense.weight', 'classifier.bias', 'classifier.weight', 'pooler.dense.bias']\n",
      "You should probably TRAIN this model on a down-stream task to be able to use it for predictions and inference.\n",
      "You're using a DebertaTokenizerFast tokenizer. Please note that with a fast tokenizer, using the `__call__` method is faster than using a method to encode the text followed by a call to the `pad` method to get a padded encoding.\n"
     ]
    },
    {
     "name": "stdout",
     "output_type": "stream",
     "text": [
      "1 / 30: Train Loss:\t1.0982\tVal Loss:\t1.0966\tAccuracy:\t0.3782\tF1:\t0.1829\n",
      "2 / 30: Train Loss:\t1.0697\tVal Loss:\t1.0167\tAccuracy:\t0.3782\tF1:\t0.1829\n",
      "3 / 30: Train Loss:\t0.9843\tVal Loss:\t0.9546\tAccuracy:\t0.5126\tF1:\t0.4030\n",
      "4 / 30: Train Loss:\t0.8830\tVal Loss:\t0.8739\tAccuracy:\t0.6555\tF1:\t0.6040\n",
      "5 / 30: Train Loss:\t0.7177\tVal Loss:\t0.6394\tAccuracy:\t0.7563\tF1:\t0.7526\n",
      "6 / 30: Train Loss:\t0.5023\tVal Loss:\t0.5371\tAccuracy:\t0.8067\tF1:\t0.8077\n",
      "7 / 30: Train Loss:\t0.3355\tVal Loss:\t0.5787\tAccuracy:\t0.7815\tF1:\t0.7830\n",
      "8 / 30: Train Loss:\t0.2524\tVal Loss:\t0.5599\tAccuracy:\t0.7983\tF1:\t0.7940\n",
      "9 / 30: Train Loss:\t0.1545\tVal Loss:\t0.5902\tAccuracy:\t0.7815\tF1:\t0.7776\n",
      "No improvement for 3 epochs. Stopping early.\n",
      "best (higgest macro f1-score) val results:\n",
      "                    precision    recall  f1-score   support\n",
      "\n",
      " misrepresentation       0.79      0.79      0.79        38\n",
      "oversimplification       0.96      0.72      0.83        36\n",
      "slothful induction       0.74      0.89      0.81        45\n",
      "\n",
      "          accuracy                           0.81       119\n",
      "         macro avg       0.83      0.80      0.81       119\n",
      "      weighted avg       0.82      0.81      0.81       119\n",
      "\n",
      "test results:\n",
      "                    precision    recall  f1-score   support\n",
      "\n",
      " misrepresentation       0.74      0.77      0.76        22\n",
      "oversimplification       0.79      0.75      0.77        20\n",
      "slothful induction       0.72      0.72      0.72        25\n",
      "\n",
      "          accuracy                           0.75        67\n",
      "         macro avg       0.75      0.75      0.75        67\n",
      "      weighted avg       0.75      0.75      0.75        67\n",
      "\n",
      "### ### ### ### ### ### ### ### ### ### \n",
      "{'test_acc': [0.7910447761194029, 0.746268656716418], 'test_f1': [0.791670466636267, 0.7482621082621081], 'eval_acc': [0.8319327731092437, 0.8067226890756303], 'eval_f1': [0.8306878306878306, 0.8076504392293865], 'wd': [0.1, 0.01]}\n",
      "### ### ### ### ### ### ### ### ### ### \n"
     ]
    }
   ],
   "source": [
    "\n",
    "lr = 1.0e-5\n",
    "weight_decay = [0.1, 0.01]\n",
    "\n",
    "for wd in weight_decay:\n",
    "    print(f'Grid search {model_checkpoint}, learning rate {lr}, weight decay {wd}')\n",
    "    data = ClimateDataset(model_to_train=2,model_checkpoint=model_checkpoint,dataset_url=flicc_path,batch_size=32)\n",
    "    data.setup_dataloaders()\n",
    "    model = ClassificationModel(model_checkpoint=data.model_checkpoint,num_labels=data.num_labels)\n",
    "    trainer = Engine(epochs=30,labels=data.labels)\n",
    "    trainer.model = model.model\n",
    "    trainer.dataset_encoded = data.dataset_encoded\n",
    "    test_acc, test_f1, eval_acc, eval_f1 = trainer.run(lr=lr,\n",
    "                                                       wd=wd,\n",
    "                                                       train_dataloader=data.train_dataloader,\n",
    "                                                       eval_dataloader=data.eval_dataloader,\n",
    "                                                       test_dataloader=data.test_dataloader,\n",
    "                                                       early_stop=3)\n",
    "    results['test_acc'].append(test_acc)\n",
    "    results['test_f1'].append(test_f1)\n",
    "    results['eval_acc'].append(eval_acc)\n",
    "    results['eval_f1'].append(eval_f1)\n",
    "    results['wd'].append(wd)\n",
    "    print('### '*10)\n",
    "    print(results)\n",
    "    print('### '*10)\n",
    "    with torch.no_grad():\n",
    "        torch.cuda.empty_cache()\n",
    "    del data, model, trainer, test_acc, test_f1, eval_acc, eval_f1\n",
    "    gc.collect()"
   ]
  },
  {
   "cell_type": "code",
   "execution_count": 5,
   "metadata": {},
   "outputs": [
    {
     "data": {
      "image/png": "[encoded data removed]",
      "text/plain": [
       "<Figure size 640x480 with 1 Axes>"
      ]
     },
     "metadata": {},
     "output_type": "display_data"
    }
   ],
   "source": [
    "Engine.plot_grid_search(df=results,\n",
    "                        title=f'Weight decay, lr: {lr}, {model_checkpoint}',\n",
    "                        column='wd',\n",
    "                        sci_format=True)"
   ]
  },
  {
   "cell_type": "code",
   "execution_count": 6,
   "metadata": {},
   "outputs": [],
   "source": [
    "%reset -f"
   ]
  }
 ],
 "metadata": {
  "kernelspec": {
   "display_name": "Python 3",
   "language": "python",
   "name": "python3"
  },
  "language_info": {
   "codemirror_mode": {
    "name": "ipython",
    "version": 3
   },
   "file_extension": ".py",
   "mimetype": "text/x-python",
   "name": "python",
   "nbconvert_exporter": "python",
   "pygments_lexer": "ipython3",
   "version": "3.11.5"
  },
  "orig_nbformat": 4
 },
 "nbformat": 4,
 "nbformat_minor": 2
}
