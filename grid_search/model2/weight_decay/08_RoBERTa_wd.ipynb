{
 "cells": [
  {
   "cell_type": "code",
   "execution_count": 1,
   "metadata": {},
   "outputs": [],
   "source": [
    "import os\n",
    "import sys\n",
    "import gc\n",
    "# assuming data, models, engine in flicc directory:\n",
    "flicc_path = os.path.realpath(\"__file__\").split('grid_search')[0]\n",
    "sys.path.append(flicc_path)\n",
    "import torch\n",
    "from data import ClimateDataset\n",
    "from models import ClassificationModel\n",
    "from engine import Engine"
   ]
  },
  {
   "cell_type": "code",
   "execution_count": 2,
   "metadata": {},
   "outputs": [],
   "source": [
    "model_checkpoint='roberta-large'"
   ]
  },
  {
   "cell_type": "code",
   "execution_count": 3,
   "metadata": {},
   "outputs": [],
   "source": [
    "results = {'test_acc':[],\n",
    "           'test_f1':[],\n",
    "           'eval_acc':[],\n",
    "           'eval_f1':[],\n",
    "           'wd':[]}"
   ]
  },
  {
   "cell_type": "code",
   "execution_count": 4,
   "metadata": {},
   "outputs": [
    {
     "name": "stdout",
     "output_type": "stream",
     "text": [
      "Grid search roberta-large, learning rate 5e-05, weight decay 0.1\n"
     ]
    },
    {
     "name": "stderr",
     "output_type": "stream",
     "text": [
      "Some weights of RobertaForSequenceClassification were not initialized from the model checkpoint at roberta-large and are newly initialized: ['classifier.dense.weight', 'classifier.out_proj.weight', 'classifier.dense.bias', 'classifier.out_proj.bias']\n",
      "You should probably TRAIN this model on a down-stream task to be able to use it for predictions and inference.\n",
      "You're using a RobertaTokenizerFast tokenizer. Please note that with a fast tokenizer, using the `__call__` method is faster than using a method to encode the text followed by a call to the `pad` method to get a padded encoding.\n"
     ]
    },
    {
     "name": "stdout",
     "output_type": "stream",
     "text": [
      "1 / 30: Train Loss:\t0.5171\tVal Loss:\t0.8908\tAccuracy:\t0.6303\tF1:\t0.5890\n",
      "2 / 30: Train Loss:\t0.3839\tVal Loss:\t0.6681\tAccuracy:\t0.7899\tF1:\t0.7846\n",
      "3 / 30: Train Loss:\t0.2276\tVal Loss:\t0.6866\tAccuracy:\t0.7815\tF1:\t0.7777\n",
      "4 / 30: Train Loss:\t0.1573\tVal Loss:\t0.6621\tAccuracy:\t0.8067\tF1:\t0.8055\n",
      "5 / 30: Train Loss:\t0.0848\tVal Loss:\t0.6704\tAccuracy:\t0.7899\tF1:\t0.7833\n",
      "6 / 30: Train Loss:\t0.0235\tVal Loss:\t0.7042\tAccuracy:\t0.8067\tF1:\t0.8034\n",
      "7 / 30: Train Loss:\t0.0263\tVal Loss:\t1.0435\tAccuracy:\t0.7983\tF1:\t0.7988\n",
      "No improvement for 3 epochs. Stopping early.\n",
      "best (higgest macro f1-score) val results:\n",
      "                    precision    recall  f1-score   support\n",
      "\n",
      " misrepresentation       0.77      0.79      0.78        38\n",
      "oversimplification       0.93      0.72      0.81        36\n",
      "slothful induction       0.77      0.89      0.82        45\n",
      "\n",
      "          accuracy                           0.81       119\n",
      "         macro avg       0.82      0.80      0.81       119\n",
      "      weighted avg       0.82      0.81      0.81       119\n",
      "\n",
      "test results:\n",
      "                    precision    recall  f1-score   support\n",
      "\n",
      " misrepresentation       0.69      0.91      0.78        22\n",
      "oversimplification       0.70      0.70      0.70        20\n",
      "slothful induction       0.83      0.60      0.70        25\n",
      "\n",
      "          accuracy                           0.73        67\n",
      "         macro avg       0.74      0.74      0.73        67\n",
      "      weighted avg       0.75      0.73      0.73        67\n",
      "\n",
      "### ### ### ### ### ### ### ### ### ### \n",
      "{'test_acc': [0.7313432835820896], 'test_f1': [0.7273293813649491], 'eval_acc': [0.8067226890756303], 'eval_f1': [0.8054876824206723], 'wd': [0.1]}\n",
      "### ### ### ### ### ### ### ### ### ### \n",
      "Grid search roberta-large, learning rate 5e-05, weight decay 0.01\n"
     ]
    },
    {
     "name": "stderr",
     "output_type": "stream",
     "text": [
      "Some weights of RobertaForSequenceClassification were not initialized from the model checkpoint at roberta-large and are newly initialized: ['classifier.dense.weight', 'classifier.out_proj.weight', 'classifier.dense.bias', 'classifier.out_proj.bias']\n",
      "You should probably TRAIN this model on a down-stream task to be able to use it for predictions and inference.\n",
      "You're using a RobertaTokenizerFast tokenizer. Please note that with a fast tokenizer, using the `__call__` method is faster than using a method to encode the text followed by a call to the `pad` method to get a padded encoding.\n"
     ]
    },
    {
     "name": "stdout",
     "output_type": "stream",
     "text": [
      "1 / 30: Train Loss:\t0.5123\tVal Loss:\t0.7271\tAccuracy:\t0.6639\tF1:\t0.6378\n",
      "2 / 30: Train Loss:\t0.3601\tVal Loss:\t0.6945\tAccuracy:\t0.7899\tF1:\t0.7859\n",
      "3 / 30: Train Loss:\t0.2213\tVal Loss:\t0.7055\tAccuracy:\t0.7899\tF1:\t0.7851\n",
      "4 / 30: Train Loss:\t0.0991\tVal Loss:\t0.9869\tAccuracy:\t0.7647\tF1:\t0.7612\n",
      "5 / 30: Train Loss:\t0.1378\tVal Loss:\t0.6079\tAccuracy:\t0.8235\tF1:\t0.8211\n",
      "6 / 30: Train Loss:\t0.0684\tVal Loss:\t0.8490\tAccuracy:\t0.7983\tF1:\t0.7883\n",
      "7 / 30: Train Loss:\t0.0281\tVal Loss:\t0.8736\tAccuracy:\t0.8067\tF1:\t0.8024\n",
      "8 / 30: Train Loss:\t0.0265\tVal Loss:\t1.0297\tAccuracy:\t0.7899\tF1:\t0.7856\n",
      "No improvement for 3 epochs. Stopping early.\n",
      "best (higgest macro f1-score) val results:\n",
      "                    precision    recall  f1-score   support\n",
      "\n",
      " misrepresentation       0.79      0.79      0.79        38\n",
      "oversimplification       0.96      0.72      0.83        36\n",
      "slothful induction       0.78      0.93      0.85        45\n",
      "\n",
      "          accuracy                           0.82       119\n",
      "         macro avg       0.84      0.82      0.82       119\n",
      "      weighted avg       0.84      0.82      0.82       119\n",
      "\n",
      "test results:\n",
      "                    precision    recall  f1-score   support\n",
      "\n",
      " misrepresentation       0.70      0.86      0.78        22\n",
      "oversimplification       0.78      0.70      0.74        20\n",
      "slothful induction       0.82      0.72      0.77        25\n",
      "\n",
      "          accuracy                           0.76        67\n",
      "         macro avg       0.77      0.76      0.76        67\n",
      "      weighted avg       0.77      0.76      0.76        67\n",
      "\n",
      "### ### ### ### ### ### ### ### ### ### \n",
      "{'test_acc': [0.7313432835820896, 0.7611940298507462], 'test_f1': [0.7273293813649491, 0.7594365853844337], 'eval_acc': [0.8067226890756303, 0.8235294117647058], 'eval_f1': [0.8054876824206723, 0.8211184526974001], 'wd': [0.1, 0.01]}\n",
      "### ### ### ### ### ### ### ### ### ### \n"
     ]
    }
   ],
   "source": [
    "lr = 5.0e-5\n",
    "weight_decay = [0.1, 0.01]\n",
    "\n",
    "for wd in weight_decay:\n",
    "    print(f'Grid search {model_checkpoint}, learning rate {lr}, weight decay {wd}')\n",
    "    data = ClimateDataset(model_to_train=2,model_checkpoint=model_checkpoint,dataset_url=flicc_path,batch_size=16)\n",
    "    data.setup_dataloaders()\n",
    "    model = ClassificationModel(model_checkpoint=data.model_checkpoint,num_labels=data.num_labels)\n",
    "    trainer = Engine(epochs=30,labels=data.labels)\n",
    "    trainer.model = model.model\n",
    "    trainer.dataset_encoded = data.dataset_encoded\n",
    "    test_acc, test_f1, eval_acc, eval_f1 = trainer.run(lr=lr,\n",
    "                                                       wd=wd,\n",
    "                                                       train_dataloader=data.train_dataloader,\n",
    "                                                       eval_dataloader=data.eval_dataloader,\n",
    "                                                       test_dataloader=data.test_dataloader,\n",
    "                                                       accumulation_steps=2,\n",
    "                                                       early_stop=3)\n",
    "    results['test_acc'].append(test_acc)\n",
    "    results['test_f1'].append(test_f1)\n",
    "    results['eval_acc'].append(eval_acc)\n",
    "    results['eval_f1'].append(eval_f1)\n",
    "    results['wd'].append(wd)\n",
    "    print('### '*10)\n",
    "    print(results)\n",
    "    print('### '*10)\n",
    "    with torch.no_grad():\n",
    "        torch.cuda.empty_cache()\n",
    "    del data, model, trainer, test_acc, test_f1, eval_acc, eval_f1\n",
    "    gc.collect()"
   ]
  },
  {
   "cell_type": "code",
   "execution_count": 5,
   "metadata": {},
   "outputs": [
    {
     "data": {
      "image/png": "[encoded data removed]",
      "text/plain": [
       "<Figure size 640x480 with 1 Axes>"
      ]
     },
     "metadata": {},
     "output_type": "display_data"
    }
   ],
   "source": [
    "Engine.plot_grid_search(df=results,\n",
    "                        title=f'Weight decay, lr: {lr} {model_checkpoint}',\n",
    "                        column='wd',\n",
    "                        sci_format=True)"
   ]
  },
  {
   "cell_type": "code",
   "execution_count": 6,
   "metadata": {},
   "outputs": [],
   "source": [
    "%reset -f"
   ]
  }
 ],
 "metadata": {
  "kernelspec": {
   "display_name": "Python 3",
   "language": "python",
   "name": "python3"
  },
  "language_info": {
   "codemirror_mode": {
    "name": "ipython",
    "version": 3
   },
   "file_extension": ".py",
   "mimetype": "text/x-python",
   "name": "python",
   "nbconvert_exporter": "python",
   "pygments_lexer": "ipython3",
   "version": "3.11.5"
  },
  "orig_nbformat": 4
 },
 "nbformat": 4,
 "nbformat_minor": 2
}
