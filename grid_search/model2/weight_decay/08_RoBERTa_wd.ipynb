{
 "cells": [
  {
   "cell_type": "code",
   "execution_count": 1,
   "metadata": {},
   "outputs": [],
   "source": [
    "import torch\n",
    "from data import ClimateDataset\n",
    "from models import ClassificationModel\n",
    "from engine import Engine"
   ]
  },
  {
   "cell_type": "code",
   "execution_count": 2,
   "metadata": {},
   "outputs": [],
   "source": [
    "model_checkpoint='roberta-large'\n",
    "\n",
    "# the commands below didn't work inside for loop and got CUDA out of memory Error.\n",
    "#     with torch.no_grad():\n",
    "#        torch.cuda.empty_cache()\n",
    "#    del data, model, trainer, acc, f1\n",
    "# Instead of running these commands in a loop, execute them cell by cell, restarting between them.\n",
    "# Each cell will print its results. To keep the results and avoid re-running specific cells, skip them intermittently on each run."
   ]
  },
  {
   "cell_type": "code",
   "execution_count": 3,
   "metadata": {},
   "outputs": [],
   "source": [
    "results = {'acc':[],\n",
    "           'f1':[],\n",
    "           'wd':[]}"
   ]
  },
  {
   "cell_type": "code",
   "execution_count": 4,
   "metadata": {},
   "outputs": [
    {
     "name": "stdout",
     "output_type": "stream",
     "text": [
      "Grid search roberta-large, learning rate 1e-05 focal loss, gamma: 4 wd: 0.01\n"
     ]
    },
    {
     "name": "stderr",
     "output_type": "stream",
     "text": [
      "Some weights of RobertaForSequenceClassification were not initialized from the model checkpoint at roberta-large and are newly initialized: ['classifier.out_proj.weight', 'classifier.dense.bias', 'classifier.dense.weight', 'classifier.out_proj.bias']\n",
      "You should probably TRAIN this model on a down-stream task to be able to use it for predictions and inference.\n",
      "You're using a RobertaTokenizerFast tokenizer. Please note that with a fast tokenizer, using the `__call__` method is faster than using a method to encode the text followed by a call to the `pad` method to get a padded encoding.\n"
     ]
    },
    {
     "name": "stdout",
     "output_type": "stream",
     "text": [
      "1 / 30: Train Loss:\t0.3451\tVal Loss:\t1.0814\tAccuracy:\t0.4790\tF1:\t0.3619\n",
      "2 / 30: Train Loss:\t0.3052\tVal Loss:\t0.9589\tAccuracy:\t0.6639\tF1:\t0.6510\n",
      "3 / 30: Train Loss:\t0.2066\tVal Loss:\t0.7411\tAccuracy:\t0.7479\tF1:\t0.7459\n",
      "4 / 30: Train Loss:\t0.1047\tVal Loss:\t0.6184\tAccuracy:\t0.7563\tF1:\t0.7547\n",
      "5 / 30: Train Loss:\t0.0538\tVal Loss:\t0.5958\tAccuracy:\t0.7983\tF1:\t0.7909\n",
      "6 / 30: Train Loss:\t0.0545\tVal Loss:\t0.5219\tAccuracy:\t0.8067\tF1:\t0.8038\n",
      "7 / 30: Train Loss:\t0.0416\tVal Loss:\t0.5960\tAccuracy:\t0.7731\tF1:\t0.7611\n",
      "8 / 30: Train Loss:\t0.0290\tVal Loss:\t0.5443\tAccuracy:\t0.7899\tF1:\t0.7839\n",
      "9 / 30: Train Loss:\t0.0101\tVal Loss:\t0.5339\tAccuracy:\t0.8151\tF1:\t0.8106\n",
      "10 / 30: Train Loss:\t0.0125\tVal Loss:\t0.6391\tAccuracy:\t0.7647\tF1:\t0.7549\n",
      "11 / 30: Train Loss:\t0.0220\tVal Loss:\t0.8047\tAccuracy:\t0.6975\tF1:\t0.6805\n",
      "12 / 30: Train Loss:\t0.0266\tVal Loss:\t0.7044\tAccuracy:\t0.7479\tF1:\t0.7378\n",
      "No improvement for 3 epochs. Stopping early.\n",
      "best (higgest macro f1-score) val results:\n",
      "                    precision    recall  f1-score   support\n",
      "\n",
      " misrepresentation       0.95      0.47      0.63        38\n",
      "oversimplification       0.93      0.72      0.81        36\n",
      "slothful induction       0.62      1.00      0.77        45\n",
      "\n",
      "          accuracy                           0.75       119\n",
      "         macro avg       0.83      0.73      0.74       119\n",
      "      weighted avg       0.82      0.75      0.74       119\n",
      "\n",
      "test results:\n",
      "                    precision    recall  f1-score   support\n",
      "\n",
      " misrepresentation       0.93      0.59      0.72        22\n",
      "oversimplification       0.84      0.80      0.82        20\n",
      "slothful induction       0.65      0.88      0.75        25\n",
      "\n",
      "          accuracy                           0.76        67\n",
      "         macro avg       0.81      0.76      0.76        67\n",
      "      weighted avg       0.80      0.76      0.76        67\n",
      "\n",
      "### ### ### ### ### ### ### ### ### ### \n",
      "{'acc': [0.7611940298507462], 'f1': [0.7628325848664832], 'wd': [0.01]}\n",
      "### ### ### ### ### ### ### ### ### ### \n"
     ]
    }
   ],
   "source": [
    "lr = 1.0e-5\n",
    "g = 4\n",
    "wd = 0.01\n",
    "\n",
    "print(f'Grid search {model_checkpoint}, learning rate {lr} focal loss, gamma: {g} wd: {wd}')\n",
    "data = ClimateDataset(model_to_train=2,model_checkpoint=model_checkpoint,batch_size=16)\n",
    "data.setup_dataloaders()\n",
    "model = ClassificationModel(model_checkpoint=data.model_checkpoint,num_labels=data.num_labels)\n",
    "trainer = Engine(epochs=30,labels=data.labels)\n",
    "trainer.model = model.model\n",
    "trainer.dataset_encoded = data.dataset_encoded\n",
    "acc, f1 = trainer.run(lr=lr,\n",
    "                        wd=wd,\n",
    "                        train_dataloader=data.train_dataloader,\n",
    "                        eval_dataloader=data.eval_dataloader,\n",
    "                        test_dataloader=data.test_dataloader,\n",
    "                        focalloss=True,\n",
    "                        early_stop=3,\n",
    "                        accumulation_steps=2,\n",
    "                        gamma=g)\n",
    "results['acc'].append(acc)\n",
    "results['f1'].append(f1)\n",
    "results['wd'].append(wd)\n",
    "print('### '*10)\n",
    "print(results)\n",
    "print('### '*10)"
   ]
  },
  {
   "cell_type": "code",
   "execution_count": 4,
   "metadata": {},
   "outputs": [
    {
     "name": "stdout",
     "output_type": "stream",
     "text": [
      "Grid search roberta-large, learning rate 1e-05 focal loss, gamma: 4 wd: 0.1\n"
     ]
    },
    {
     "name": "stderr",
     "output_type": "stream",
     "text": [
      "Some weights of RobertaForSequenceClassification were not initialized from the model checkpoint at roberta-large and are newly initialized: ['classifier.dense.weight', 'classifier.out_proj.bias', 'classifier.out_proj.weight', 'classifier.dense.bias']\n",
      "You should probably TRAIN this model on a down-stream task to be able to use it for predictions and inference.\n",
      "You're using a RobertaTokenizerFast tokenizer. Please note that with a fast tokenizer, using the `__call__` method is faster than using a method to encode the text followed by a call to the `pad` method to get a padded encoding.\n"
     ]
    },
    {
     "name": "stdout",
     "output_type": "stream",
     "text": [
      "1 / 30: Train Loss:\t0.3452\tVal Loss:\t1.0827\tAccuracy:\t0.4706\tF1:\t0.3501\n",
      "2 / 30: Train Loss:\t0.3096\tVal Loss:\t0.9907\tAccuracy:\t0.6723\tF1:\t0.6621\n",
      "3 / 30: Train Loss:\t0.2104\tVal Loss:\t0.7222\tAccuracy:\t0.7311\tF1:\t0.7279\n",
      "4 / 30: Train Loss:\t0.1087\tVal Loss:\t0.6191\tAccuracy:\t0.7647\tF1:\t0.7645\n",
      "5 / 30: Train Loss:\t0.0543\tVal Loss:\t0.6709\tAccuracy:\t0.7983\tF1:\t0.7909\n",
      "6 / 30: Train Loss:\t0.0490\tVal Loss:\t0.5603\tAccuracy:\t0.7983\tF1:\t0.7917\n",
      "7 / 30: Train Loss:\t0.0639\tVal Loss:\t0.5678\tAccuracy:\t0.7899\tF1:\t0.7800\n",
      "8 / 30: Train Loss:\t0.0308\tVal Loss:\t0.5292\tAccuracy:\t0.7899\tF1:\t0.7853\n",
      "9 / 30: Train Loss:\t0.0113\tVal Loss:\t0.5361\tAccuracy:\t0.8151\tF1:\t0.8070\n",
      "10 / 30: Train Loss:\t0.0068\tVal Loss:\t0.6497\tAccuracy:\t0.7731\tF1:\t0.7658\n",
      "11 / 30: Train Loss:\t0.0089\tVal Loss:\t0.6590\tAccuracy:\t0.7563\tF1:\t0.7451\n",
      "12 / 30: Train Loss:\t0.0041\tVal Loss:\t0.5084\tAccuracy:\t0.8067\tF1:\t0.8032\n",
      "No improvement for 3 epochs. Stopping early.\n",
      "best (higgest macro f1-score) val results:\n",
      "                    precision    recall  f1-score   support\n",
      "\n",
      " misrepresentation       0.78      0.82      0.79        38\n",
      "oversimplification       0.89      0.69      0.78        36\n",
      "slothful induction       0.78      0.89      0.83        45\n",
      "\n",
      "          accuracy                           0.81       119\n",
      "         macro avg       0.82      0.80      0.80       119\n",
      "      weighted avg       0.81      0.81      0.81       119\n",
      "\n",
      "test results:\n",
      "                    precision    recall  f1-score   support\n",
      "\n",
      " misrepresentation       0.70      0.86      0.78        22\n",
      "oversimplification       0.80      0.80      0.80        20\n",
      "slothful induction       0.85      0.68      0.76        25\n",
      "\n",
      "          accuracy                           0.78        67\n",
      "         macro avg       0.78      0.78      0.78        67\n",
      "      weighted avg       0.79      0.78      0.78        67\n",
      "\n",
      "### ### ### ### ### ### ### ### ### ### \n",
      "{'acc': [0.7761194029850746], 'f1': [0.7770219198790628], 'wd': [0.1]}\n",
      "### ### ### ### ### ### ### ### ### ### \n"
     ]
    }
   ],
   "source": [
    "lr = 1.0e-5\n",
    "g = 4\n",
    "wd = 0.1\n",
    "\n",
    "\n",
    "print(f'Grid search {model_checkpoint}, learning rate {lr} focal loss, gamma: {g} wd: {wd}')\n",
    "data = ClimateDataset(model_to_train=2,model_checkpoint=model_checkpoint,batch_size=16)\n",
    "data.setup_dataloaders()\n",
    "model = ClassificationModel(model_checkpoint=data.model_checkpoint,num_labels=data.num_labels)\n",
    "trainer = Engine(epochs=30,labels=data.labels)\n",
    "trainer.model = model.model\n",
    "trainer.dataset_encoded = data.dataset_encoded\n",
    "acc, f1 = trainer.run(lr=lr,\n",
    "                        wd=wd,\n",
    "                        train_dataloader=data.train_dataloader,\n",
    "                        eval_dataloader=data.eval_dataloader,\n",
    "                        test_dataloader=data.test_dataloader,\n",
    "                        focalloss=True,\n",
    "                        early_stop=3,\n",
    "                        accumulation_steps=2,\n",
    "                        gamma=g)\n",
    "results['acc'].append(acc)\n",
    "results['f1'].append(f1)\n",
    "results['wd'].append(wd)\n",
    "print('### '*10)\n",
    "print(results)\n",
    "print('### '*10)"
   ]
  },
  {
   "cell_type": "code",
   "execution_count": 5,
   "metadata": {},
   "outputs": [],
   "source": [
    "from collections import defaultdict \n",
    "\n",
    "a = {'acc': [0.7611940298507462], 'f1': [0.7628325848664832], 'wd': [0.01]}\n",
    "b = {'acc': [0.7761194029850746], 'f1': [0.7770219198790628], 'wd': [0.1]}\n",
    "\n",
    "results = defaultdict(list)\n",
    "for d in (a,b):\n",
    "    for k,v in d.items():\n",
    "        results[k].append(v[0])"
   ]
  },
  {
   "cell_type": "code",
   "execution_count": 6,
   "metadata": {},
   "outputs": [],
   "source": [
    "import matplotlib.pyplot as plt\n",
    "import seaborn as sns\n",
    "import pandas as pd"
   ]
  },
  {
   "cell_type": "code",
   "execution_count": 7,
   "metadata": {},
   "outputs": [
    {
     "data": {
      "image/png": "[encoded data removed]",
      "text/plain": [
       "<Figure size 640x480 with 1 Axes>"
      ]
     },
     "metadata": {},
     "output_type": "display_data"
    }
   ],
   "source": [
    "def plot_grid_search(df, title, column):\n",
    "\n",
    "    # Create the plot\n",
    "    ax = df.plot(x=column, y=['acc', 'f1'], marker='o', linestyle='-')\n",
    "\n",
    "    # Set y-axis range between 0 and 1\n",
    "    plt.ylim(0, 1)\n",
    "\n",
    "    # Annotate points with F1 scores\n",
    "    for i, row in df.iterrows(): \n",
    "        ax.annotate(f'{row[\"f1\"]:.2f}', (row[column], row[\"f1\"]), textcoords='offset points', xytext=(0, -10), ha='center')\n",
    "\n",
    "    # Annotate points with Acc scores\n",
    "    for i, row in df.iterrows():\n",
    "        ax.annotate(f'{row[\"acc\"]:.2f}', (row[column], row[\"acc\"]), textcoords='offset points', xytext=(0, 10), ha='center')\n",
    "    \n",
    "    # \n",
    "    plt.xticks(df[column], [val for val in df[column]], ha='center')\n",
    "    # plt.xscale('log')\n",
    "    plt.minorticks_off()\n",
    "\n",
    "    plt.title(title)\n",
    "    plt.xlabel(column)\n",
    "    plt.ylabel('Score')\n",
    "    plt.show()\n",
    "\n",
    "plot_grid_search(pd.DataFrame(results), f'Weight decays, {model_checkpoint}', 'wd')"
   ]
  }
 ],
 "metadata": {
  "kernelspec": {
   "display_name": "Python 3",
   "language": "python",
   "name": "python3"
  },
  "language_info": {
   "codemirror_mode": {
    "name": "ipython",
    "version": 3
   },
   "file_extension": ".py",
   "mimetype": "text/x-python",
   "name": "python",
   "nbconvert_exporter": "python",
   "pygments_lexer": "ipython3",
   "version": "3.11.5"
  },
  "orig_nbformat": 4
 },
 "nbformat": 4,
 "nbformat_minor": 2
}
