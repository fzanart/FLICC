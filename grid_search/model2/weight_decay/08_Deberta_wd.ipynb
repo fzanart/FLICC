{
 "cells": [
  {
   "cell_type": "code",
   "execution_count": 1,
   "metadata": {},
   "outputs": [],
   "source": [
    "import torch\n",
    "from data import ClimateDataset\n",
    "from models import ClassificationModel\n",
    "from engine import Engine"
   ]
  },
  {
   "cell_type": "code",
   "execution_count": 2,
   "metadata": {},
   "outputs": [],
   "source": [
    "model_checkpoint='microsoft/deberta-base'"
   ]
  },
  {
   "cell_type": "code",
   "execution_count": 3,
   "metadata": {},
   "outputs": [],
   "source": [
    "results = {'acc':[],\n",
    "           'f1':[],\n",
    "           'wd':[]}"
   ]
  },
  {
   "cell_type": "code",
   "execution_count": 4,
   "metadata": {},
   "outputs": [
    {
     "name": "stdout",
     "output_type": "stream",
     "text": [
      "Grid search microsoft/deberta-base, learning rate 1e-05 focal loss, gamma: 2 wd: 0.01\n"
     ]
    },
    {
     "name": "stderr",
     "output_type": "stream",
     "text": [
      "Some weights of DebertaForSequenceClassification were not initialized from the model checkpoint at microsoft/deberta-base and are newly initialized: ['classifier.bias', 'pooler.dense.bias', 'classifier.weight', 'pooler.dense.weight']\n",
      "You should probably TRAIN this model on a down-stream task to be able to use it for predictions and inference.\n",
      "You're using a DebertaTokenizerFast tokenizer. Please note that with a fast tokenizer, using the `__call__` method is faster than using a method to encode the text followed by a call to the `pad` method to get a padded encoding.\n"
     ]
    },
    {
     "name": "stdout",
     "output_type": "stream",
     "text": [
      "1 / 20: Train Loss:\t0.7396\tVal Loss:\t1.0969\tAccuracy:\t0.3025\tF1:\t0.1548\n",
      "2 / 20: Train Loss:\t0.7253\tVal Loss:\t1.0737\tAccuracy:\t0.3361\tF1:\t0.1985\n",
      "3 / 20: Train Loss:\t0.6122\tVal Loss:\t0.8639\tAccuracy:\t0.6471\tF1:\t0.6288\n",
      "4 / 20: Train Loss:\t0.4194\tVal Loss:\t0.7393\tAccuracy:\t0.7143\tF1:\t0.7053\n",
      "5 / 20: Train Loss:\t0.2938\tVal Loss:\t0.6938\tAccuracy:\t0.6891\tF1:\t0.6769\n",
      "6 / 20: Train Loss:\t0.2212\tVal Loss:\t0.6195\tAccuracy:\t0.7563\tF1:\t0.7521\n",
      "7 / 20: Train Loss:\t0.1707\tVal Loss:\t0.5925\tAccuracy:\t0.7815\tF1:\t0.7778\n",
      "8 / 20: Train Loss:\t0.1083\tVal Loss:\t0.5678\tAccuracy:\t0.8067\tF1:\t0.8066\n",
      "9 / 20: Train Loss:\t0.0810\tVal Loss:\t0.5827\tAccuracy:\t0.7983\tF1:\t0.7985\n",
      "10 / 20: Train Loss:\t0.0549\tVal Loss:\t0.5642\tAccuracy:\t0.8151\tF1:\t0.8151\n",
      "11 / 20: Train Loss:\t0.0391\tVal Loss:\t0.5749\tAccuracy:\t0.7899\tF1:\t0.7839\n",
      "12 / 20: Train Loss:\t0.0252\tVal Loss:\t0.6378\tAccuracy:\t0.7647\tF1:\t0.7620\n",
      "13 / 20: Train Loss:\t0.0128\tVal Loss:\t0.5644\tAccuracy:\t0.8067\tF1:\t0.8070\n",
      "No improvement for 3 epochs. Stopping early.\n",
      "best (higgest macro f1-score) val results:\n",
      "                    precision    recall  f1-score   support\n",
      "\n",
      " misrepresentation       0.81      0.76      0.78        38\n",
      "oversimplification       0.96      0.72      0.83        36\n",
      "slothful induction       0.73      0.91      0.81        45\n",
      "\n",
      "          accuracy                           0.81       119\n",
      "         macro avg       0.83      0.80      0.81       119\n",
      "      weighted avg       0.83      0.81      0.81       119\n",
      "\n",
      "test results:\n",
      "                    precision    recall  f1-score   support\n",
      "\n",
      " misrepresentation       0.83      0.86      0.84        22\n",
      "oversimplification       0.81      0.85      0.83        20\n",
      "slothful induction       0.78      0.72      0.75        25\n",
      "\n",
      "          accuracy                           0.81        67\n",
      "         macro avg       0.81      0.81      0.81        67\n",
      "      weighted avg       0.80      0.81      0.80        67\n",
      "\n",
      "### ### ### ### ### ### ### ### ### ### \n",
      "{'acc': [0.8059701492537313], 'f1': [0.8079042457091238], 'wd': [0.01]}\n",
      "### ### ### ### ### ### ### ### ### ### \n",
      "Grid search microsoft/deberta-base, learning rate 1e-05 focal loss, gamma: 2 wd: 0.1\n"
     ]
    },
    {
     "name": "stderr",
     "output_type": "stream",
     "text": [
      "Some weights of DebertaForSequenceClassification were not initialized from the model checkpoint at microsoft/deberta-base and are newly initialized: ['classifier.bias', 'pooler.dense.bias', 'classifier.weight', 'pooler.dense.weight']\n",
      "You should probably TRAIN this model on a down-stream task to be able to use it for predictions and inference.\n",
      "You're using a DebertaTokenizerFast tokenizer. Please note that with a fast tokenizer, using the `__call__` method is faster than using a method to encode the text followed by a call to the `pad` method to get a padded encoding.\n"
     ]
    },
    {
     "name": "stdout",
     "output_type": "stream",
     "text": [
      "1 / 20: Train Loss:\t0.7396\tVal Loss:\t1.0969\tAccuracy:\t0.3025\tF1:\t0.1548\n",
      "2 / 20: Train Loss:\t0.7253\tVal Loss:\t1.0737\tAccuracy:\t0.3361\tF1:\t0.1985\n",
      "3 / 20: Train Loss:\t0.6122\tVal Loss:\t0.8639\tAccuracy:\t0.6471\tF1:\t0.6288\n",
      "4 / 20: Train Loss:\t0.4194\tVal Loss:\t0.7392\tAccuracy:\t0.7143\tF1:\t0.7053\n",
      "5 / 20: Train Loss:\t0.2937\tVal Loss:\t0.6938\tAccuracy:\t0.6891\tF1:\t0.6769\n",
      "6 / 20: Train Loss:\t0.2212\tVal Loss:\t0.6195\tAccuracy:\t0.7563\tF1:\t0.7521\n",
      "7 / 20: Train Loss:\t0.1708\tVal Loss:\t0.5925\tAccuracy:\t0.7815\tF1:\t0.7778\n",
      "8 / 20: Train Loss:\t0.1085\tVal Loss:\t0.5680\tAccuracy:\t0.8067\tF1:\t0.8066\n",
      "9 / 20: Train Loss:\t0.0810\tVal Loss:\t0.5815\tAccuracy:\t0.7983\tF1:\t0.7985\n",
      "10 / 20: Train Loss:\t0.0545\tVal Loss:\t0.5652\tAccuracy:\t0.8151\tF1:\t0.8151\n",
      "11 / 20: Train Loss:\t0.0384\tVal Loss:\t0.5728\tAccuracy:\t0.7983\tF1:\t0.7930\n",
      "12 / 20: Train Loss:\t0.0244\tVal Loss:\t0.6437\tAccuracy:\t0.7563\tF1:\t0.7528\n",
      "13 / 20: Train Loss:\t0.0129\tVal Loss:\t0.5665\tAccuracy:\t0.8151\tF1:\t0.8167\n",
      "14 / 20: Train Loss:\t0.0066\tVal Loss:\t0.5692\tAccuracy:\t0.7983\tF1:\t0.7979\n",
      "15 / 20: Train Loss:\t0.0039\tVal Loss:\t0.5617\tAccuracy:\t0.7983\tF1:\t0.7962\n",
      "16 / 20: Train Loss:\t0.0057\tVal Loss:\t0.5977\tAccuracy:\t0.8067\tF1:\t0.8054\n",
      "No improvement for 3 epochs. Stopping early.\n",
      "best (higgest macro f1-score) val results:\n",
      "                    precision    recall  f1-score   support\n",
      "\n",
      " misrepresentation       0.89      0.66      0.76        38\n",
      "oversimplification       0.96      0.75      0.84        36\n",
      "slothful induction       0.70      0.98      0.81        45\n",
      "\n",
      "          accuracy                           0.81       119\n",
      "         macro avg       0.85      0.80      0.81       119\n",
      "      weighted avg       0.84      0.81      0.81       119\n",
      "\n",
      "test results:\n",
      "                    precision    recall  f1-score   support\n",
      "\n",
      " misrepresentation       0.85      0.77      0.81        22\n",
      "oversimplification       0.81      0.85      0.83        20\n",
      "slothful induction       0.73      0.76      0.75        25\n",
      "\n",
      "          accuracy                           0.79        67\n",
      "         macro avg       0.80      0.79      0.79        67\n",
      "      weighted avg       0.79      0.79      0.79        67\n",
      "\n",
      "### ### ### ### ### ### ### ### ### ### \n",
      "{'acc': [0.8059701492537313, 0.7910447761194029], 'f1': [0.8079042457091238, 0.7946300471408075], 'wd': [0.01, 0.1]}\n",
      "### ### ### ### ### ### ### ### ### ### \n"
     ]
    }
   ],
   "source": [
    "g = 2\n",
    "lr = 1.0e-5\n",
    "weight_decays = [0.01, 0.1]\n",
    "\n",
    "\n",
    "for wd in weight_decays:\n",
    "    print(f'Grid search {model_checkpoint}, learning rate {lr} focal loss, gamma: {g} wd: {wd}')\n",
    "    data = ClimateDataset(model_to_train=2,model_checkpoint=model_checkpoint,batch_size=16)\n",
    "    data.setup_dataloaders()\n",
    "    model = ClassificationModel(model_checkpoint=data.model_checkpoint,num_labels=data.num_labels)\n",
    "    trainer = Engine(epochs=20,labels=data.labels)\n",
    "    trainer.model = model.model\n",
    "    trainer.dataset_encoded = data.dataset_encoded\n",
    "    acc, f1 = trainer.run(lr=lr,\n",
    "                          wd=wd,\n",
    "                          train_dataloader=data.train_dataloader,\n",
    "                          eval_dataloader=data.eval_dataloader,\n",
    "                          test_dataloader=data.test_dataloader,\n",
    "                          focalloss=True,\n",
    "                          accumulation_steps=2,\n",
    "                          gamma=g,\n",
    "                          early_stop=3)\n",
    "    results['acc'].append(acc)\n",
    "    results['f1'].append(f1)\n",
    "    results['wd'].append(wd)\n",
    "    print('### '*10)\n",
    "    print(results)\n",
    "    print('### '*10)\n",
    "    with torch.no_grad():\n",
    "        torch.cuda.empty_cache()\n",
    "    del data, model, trainer, acc, f1"
   ]
  },
  {
   "cell_type": "code",
   "execution_count": 5,
   "metadata": {},
   "outputs": [],
   "source": [
    "import matplotlib.pyplot as plt\n",
    "import seaborn as sns\n",
    "import pandas as pd"
   ]
  },
  {
   "cell_type": "code",
   "execution_count": 6,
   "metadata": {},
   "outputs": [],
   "source": [
    "results = {'acc': [0.8059701492537313, 0.7910447761194029],\n",
    " 'f1': [0.8079042457091238, 0.7946300471408075],\n",
    " 'wd': [0.01, 0.1]}"
   ]
  },
  {
   "cell_type": "code",
   "execution_count": 7,
   "metadata": {},
   "outputs": [
    {
     "data": {
      "image/png": "[encoded data removed]",
      "text/plain": [
       "<Figure size 640x480 with 1 Axes>"
      ]
     },
     "metadata": {},
     "output_type": "display_data"
    }
   ],
   "source": [
    "def plot_grid_search(df, title, column):\n",
    "\n",
    "    # Create the plot\n",
    "    ax = df.plot(x=column, y=['acc', 'f1'], marker='o', linestyle='-')\n",
    "\n",
    "    # Set y-axis range between 0 and 1\n",
    "    plt.ylim(0, 1)\n",
    "\n",
    "    # Annotate points with F1 scores\n",
    "    for i, row in df.iterrows(): \n",
    "        ax.annotate(f'{row[\"f1\"]:.2f}', (row[column], row[\"f1\"]), textcoords='offset points', xytext=(0, -10), ha='center')\n",
    "\n",
    "    # Annotate points with Acc scores\n",
    "    for i, row in df.iterrows():\n",
    "        ax.annotate(f'{row[\"acc\"]:.2f}', (row[column], row[\"acc\"]), textcoords='offset points', xytext=(0, 10), ha='center')\n",
    "    \n",
    "    # \n",
    "    plt.xticks(df[column], [val for val in df[column]], ha='center')\n",
    "    # plt.xscale('log')\n",
    "    plt.minorticks_off()\n",
    "\n",
    "    plt.title(title)\n",
    "    plt.xlabel(column)\n",
    "    plt.ylabel('Score')\n",
    "    plt.show()\n",
    "\n",
    "plot_grid_search(pd.DataFrame(results), f'Weight decays, {model_checkpoint}', 'wd')"
   ]
  }
 ],
 "metadata": {
  "kernelspec": {
   "display_name": "Python 3",
   "language": "python",
   "name": "python3"
  },
  "language_info": {
   "codemirror_mode": {
    "name": "ipython",
    "version": 3
   },
   "file_extension": ".py",
   "mimetype": "text/x-python",
   "name": "python",
   "nbconvert_exporter": "python",
   "pygments_lexer": "ipython3",
   "version": "3.11.5"
  },
  "orig_nbformat": 4
 },
 "nbformat": 4,
 "nbformat_minor": 2
}
