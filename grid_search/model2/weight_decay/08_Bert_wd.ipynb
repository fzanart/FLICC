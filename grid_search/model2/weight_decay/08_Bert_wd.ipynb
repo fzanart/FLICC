{
 "cells": [
  {
   "cell_type": "code",
   "execution_count": 1,
   "metadata": {},
   "outputs": [],
   "source": [
    "import torch\n",
    "from data import ClimateDataset\n",
    "from models import ClassificationModel\n",
    "from engine import Engine"
   ]
  },
  {
   "cell_type": "code",
   "execution_count": 2,
   "metadata": {},
   "outputs": [],
   "source": [
    "model_checkpoint='bert-base-uncased'"
   ]
  },
  {
   "cell_type": "code",
   "execution_count": 3,
   "metadata": {},
   "outputs": [],
   "source": [
    "results = {'acc':[],\n",
    "           'f1':[],\n",
    "           'wd':[]}"
   ]
  },
  {
   "cell_type": "code",
   "execution_count": 4,
   "metadata": {},
   "outputs": [
    {
     "name": "stdout",
     "output_type": "stream",
     "text": [
      "Grid search bert-base-uncased, learning rate 0.0001, wd: 0.01\n"
     ]
    },
    {
     "name": "stderr",
     "output_type": "stream",
     "text": [
      "Some weights of BertForSequenceClassification were not initialized from the model checkpoint at bert-base-uncased and are newly initialized: ['classifier.weight', 'classifier.bias']\n",
      "You should probably TRAIN this model on a down-stream task to be able to use it for predictions and inference.\n",
      "You're using a BertTokenizerFast tokenizer. Please note that with a fast tokenizer, using the `__call__` method is faster than using a method to encode the text followed by a call to the `pad` method to get a padded encoding.\n"
     ]
    },
    {
     "name": "stdout",
     "output_type": "stream",
     "text": [
      "1 / 20: Train Loss:\t0.9782\tVal Loss:\t0.7658\tAccuracy:\t0.7479\tF1:\t0.7491\n",
      "2 / 20: Train Loss:\t0.5230\tVal Loss:\t0.7752\tAccuracy:\t0.7563\tF1:\t0.7498\n",
      "3 / 20: Train Loss:\t0.3139\tVal Loss:\t0.7223\tAccuracy:\t0.7983\tF1:\t0.7935\n",
      "4 / 20: Train Loss:\t0.1508\tVal Loss:\t0.8401\tAccuracy:\t0.7815\tF1:\t0.7788\n",
      "5 / 20: Train Loss:\t0.0929\tVal Loss:\t0.9425\tAccuracy:\t0.7479\tF1:\t0.7473\n",
      "6 / 20: Train Loss:\t0.0837\tVal Loss:\t0.8080\tAccuracy:\t0.7899\tF1:\t0.7852\n",
      "No improvement for 3 epochs. Stopping early.\n",
      "best (higgest macro f1-score) val results:\n",
      "                    precision    recall  f1-score   support\n",
      "\n",
      " misrepresentation       0.79      0.79      0.79        38\n",
      "oversimplification       0.92      0.64      0.75        36\n",
      "slothful induction       0.73      0.91      0.81        45\n",
      "\n",
      "          accuracy                           0.79       119\n",
      "         macro avg       0.81      0.78      0.79       119\n",
      "      weighted avg       0.81      0.79      0.79       119\n",
      "\n",
      "test results:\n",
      "                    precision    recall  f1-score   support\n",
      "\n",
      " misrepresentation       0.69      0.82      0.75        22\n",
      "oversimplification       0.65      0.75      0.70        20\n",
      "slothful induction       0.83      0.60      0.70        25\n",
      "\n",
      "          accuracy                           0.72        67\n",
      "         macro avg       0.73      0.72      0.72        67\n",
      "      weighted avg       0.73      0.72      0.71        67\n",
      "\n",
      "### ### ### ### ### ### ### ### ### ### \n",
      "{'acc': [0.7164179104477612], 'f1': [0.7151162790697675], 'wd': [0.01]}\n",
      "### ### ### ### ### ### ### ### ### ### \n",
      "Grid search bert-base-uncased, learning rate 0.0001, wd: 0.1\n"
     ]
    },
    {
     "name": "stderr",
     "output_type": "stream",
     "text": [
      "Some weights of BertForSequenceClassification were not initialized from the model checkpoint at bert-base-uncased and are newly initialized: ['classifier.weight', 'classifier.bias']\n",
      "You should probably TRAIN this model on a down-stream task to be able to use it for predictions and inference.\n",
      "You're using a BertTokenizerFast tokenizer. Please note that with a fast tokenizer, using the `__call__` method is faster than using a method to encode the text followed by a call to the `pad` method to get a padded encoding.\n"
     ]
    },
    {
     "name": "stdout",
     "output_type": "stream",
     "text": [
      "1 / 20: Train Loss:\t0.9753\tVal Loss:\t0.7801\tAccuracy:\t0.7059\tF1:\t0.7090\n",
      "2 / 20: Train Loss:\t0.5243\tVal Loss:\t0.7743\tAccuracy:\t0.7395\tF1:\t0.7312\n",
      "3 / 20: Train Loss:\t0.3100\tVal Loss:\t0.7222\tAccuracy:\t0.7899\tF1:\t0.7858\n",
      "4 / 20: Train Loss:\t0.1662\tVal Loss:\t0.8401\tAccuracy:\t0.7731\tF1:\t0.7727\n",
      "5 / 20: Train Loss:\t0.0939\tVal Loss:\t0.8558\tAccuracy:\t0.7479\tF1:\t0.7444\n",
      "6 / 20: Train Loss:\t0.0917\tVal Loss:\t0.9505\tAccuracy:\t0.7395\tF1:\t0.7300\n",
      "No improvement for 3 epochs. Stopping early.\n",
      "best (higgest macro f1-score) val results:\n",
      "                    precision    recall  f1-score   support\n",
      "\n",
      " misrepresentation       0.91      0.53      0.67        38\n",
      "oversimplification       0.72      0.78      0.75        36\n",
      "slothful induction       0.69      0.89      0.78        45\n",
      "\n",
      "          accuracy                           0.74       119\n",
      "         macro avg       0.77      0.73      0.73       119\n",
      "      weighted avg       0.77      0.74      0.73       119\n",
      "\n",
      "test results:\n",
      "                    precision    recall  f1-score   support\n",
      "\n",
      " misrepresentation       0.88      0.68      0.77        22\n",
      "oversimplification       0.63      0.85      0.72        20\n",
      "slothful induction       0.70      0.64      0.67        25\n",
      "\n",
      "          accuracy                           0.72        67\n",
      "         macro avg       0.74      0.72      0.72        67\n",
      "      weighted avg       0.74      0.72      0.72        67\n",
      "\n",
      "### ### ### ### ### ### ### ### ### ### \n",
      "{'acc': [0.7164179104477612, 0.7164179104477612], 'f1': [0.7151162790697675, 0.7197672304055284], 'wd': [0.01, 0.1]}\n",
      "### ### ### ### ### ### ### ### ### ### \n"
     ]
    }
   ],
   "source": [
    "lr = 1.0e-4\n",
    "weight_decays = [0.01, 0.1]\n",
    "\n",
    "for wd in weight_decays:\n",
    "    print(f'Grid search {model_checkpoint}, learning rate {lr}, wd: {wd}')\n",
    "    data = ClimateDataset(model_to_train=2,model_checkpoint=model_checkpoint,batch_size=32)\n",
    "    data.setup_dataloaders()\n",
    "    model = ClassificationModel(model_checkpoint=data.model_checkpoint,num_labels=data.num_labels)\n",
    "    trainer = Engine(epochs=20,labels=data.labels)\n",
    "    trainer.model = model.model\n",
    "    acc, f1 = trainer.run(lr=lr,\n",
    "                          wd=wd,\n",
    "                          train_dataloader=data.train_dataloader,\n",
    "                          eval_dataloader=data.eval_dataloader,\n",
    "                          test_dataloader=data.test_dataloader,\n",
    "                          early_stop=3)\n",
    "    results['acc'].append(acc)\n",
    "    results['f1'].append(f1)\n",
    "    results['wd'].append(wd)\n",
    "    print('### '*10)\n",
    "    print(results)\n",
    "    print('### '*10)\n",
    "    with torch.no_grad():\n",
    "        torch.cuda.empty_cache()\n",
    "    del data, model, trainer, acc, f1"
   ]
  },
  {
   "cell_type": "code",
   "execution_count": 5,
   "metadata": {},
   "outputs": [],
   "source": [
    "import matplotlib.pyplot as plt\n",
    "import seaborn as sns\n",
    "import pandas as pd"
   ]
  },
  {
   "cell_type": "code",
   "execution_count": 6,
   "metadata": {},
   "outputs": [
    {
     "data": {
      "image/png": "[encoded data removed]",
      "text/plain": [
       "<Figure size 640x480 with 1 Axes>"
      ]
     },
     "metadata": {},
     "output_type": "display_data"
    }
   ],
   "source": [
    "def plot_grid_search(df, title):\n",
    "\n",
    "    # Create the plot\n",
    "    ax = df.plot(x='wd', y=['acc', 'f1'], marker='o', linestyle='-')\n",
    "\n",
    "    # Set y-axis range between 0 and 1\n",
    "    plt.ylim(0, 1)\n",
    "\n",
    "    # Annotate points with F1 scores\n",
    "    for i, row in df.iterrows(): \n",
    "        ax.annotate(f'{row[\"f1\"]:.2f}', (row[\"wd\"], row[\"f1\"]), textcoords='offset points', xytext=(0, -10), ha='center')\n",
    "\n",
    "    # Annotate points with Acc scores\n",
    "    for i, row in df.iterrows():\n",
    "        ax.annotate(f'{row[\"acc\"]:.2f}', (row[\"wd\"], row[\"acc\"]), textcoords='offset points', xytext=(0, 10), ha='center')\n",
    "    \n",
    "    # \n",
    "    plt.xticks(df['wd'], [f'{val:.0e}' for val in df['wd']], ha='center')\n",
    "    plt.xscale('log')\n",
    "    plt.minorticks_off()\n",
    "\n",
    "    plt.title(title)\n",
    "    plt.xlabel('wd')\n",
    "    plt.ylabel('Score')\n",
    "    plt.show()\n",
    "\n",
    "plot_grid_search(pd.DataFrame(results), f'Weight decays {model_checkpoint}')"
   ]
  }
 ],
 "metadata": {
  "kernelspec": {
   "display_name": "Python 3",
   "language": "python",
   "name": "python3"
  },
  "language_info": {
   "codemirror_mode": {
    "name": "ipython",
    "version": 3
   },
   "file_extension": ".py",
   "mimetype": "text/x-python",
   "name": "python",
   "nbconvert_exporter": "python",
   "pygments_lexer": "ipython3",
   "version": "3.11.5"
  },
  "orig_nbformat": 4
 },
 "nbformat": 4,
 "nbformat_minor": 2
}
