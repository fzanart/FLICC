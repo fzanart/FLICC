{
 "cells": [
  {
   "cell_type": "code",
   "execution_count": 1,
   "metadata": {},
   "outputs": [],
   "source": [
    "import os\n",
    "import sys\n",
    "import gc\n",
    "# assuming data, models, engine in flicc directory:\n",
    "flicc_path = os.path.realpath(\"__file__\").split('grid_search')[0]\n",
    "sys.path.append(flicc_path)\n",
    "import torch\n",
    "from data import ClimateDataset\n",
    "from models import ClassificationModel\n",
    "from engine import Engine"
   ]
  },
  {
   "cell_type": "code",
   "execution_count": 2,
   "metadata": {},
   "outputs": [],
   "source": [
    "model_checkpoint='bert-base-uncased'"
   ]
  },
  {
   "cell_type": "code",
   "execution_count": 3,
   "metadata": {},
   "outputs": [],
   "source": [
    "results = {'test_acc':[],\n",
    "           'test_f1':[],\n",
    "           'eval_acc':[],\n",
    "           'eval_f1':[],\n",
    "           'wd':[]}"
   ]
  },
  {
   "cell_type": "code",
   "execution_count": 4,
   "metadata": {},
   "outputs": [
    {
     "name": "stdout",
     "output_type": "stream",
     "text": [
      "Grid search bert-base-uncased, learning rate 1e-05, focal loss gamma 8, weight decay 0.1\n"
     ]
    },
    {
     "name": "stderr",
     "output_type": "stream",
     "text": [
      "Some weights of BertForSequenceClassification were not initialized from the model checkpoint at bert-base-uncased and are newly initialized: ['classifier.weight', 'classifier.bias']\n",
      "You should probably TRAIN this model on a down-stream task to be able to use it for predictions and inference.\n",
      "You're using a BertTokenizerFast tokenizer. Please note that with a fast tokenizer, using the `__call__` method is faster than using a method to encode the text followed by a call to the `pad` method to get a padded encoding.\n"
     ]
    },
    {
     "name": "stdout",
     "output_type": "stream",
     "text": [
      "1 / 30: Train Loss:\t0.1401\tVal Loss:\t1.0363\tAccuracy:\t0.5546\tF1:\t0.5527\n",
      "2 / 30: Train Loss:\t0.1013\tVal Loss:\t0.9806\tAccuracy:\t0.7059\tF1:\t0.6932\n",
      "3 / 30: Train Loss:\t0.0830\tVal Loss:\t0.9341\tAccuracy:\t0.7311\tF1:\t0.7170\n",
      "4 / 30: Train Loss:\t0.0646\tVal Loss:\t0.8890\tAccuracy:\t0.7395\tF1:\t0.7301\n",
      "5 / 30: Train Loss:\t0.0460\tVal Loss:\t0.8491\tAccuracy:\t0.7563\tF1:\t0.7462\n",
      "6 / 30: Train Loss:\t0.0270\tVal Loss:\t0.8048\tAccuracy:\t0.7563\tF1:\t0.7462\n",
      "7 / 30: Train Loss:\t0.0210\tVal Loss:\t0.7775\tAccuracy:\t0.7479\tF1:\t0.7367\n",
      "8 / 30: Train Loss:\t0.0174\tVal Loss:\t0.7372\tAccuracy:\t0.7479\tF1:\t0.7403\n",
      "No improvement for 3 epochs. Stopping early.\n",
      "best (higgest macro f1-score) val results:\n",
      "                    precision    recall  f1-score   support\n",
      "\n",
      " misrepresentation       0.77      0.63      0.70        38\n",
      "oversimplification       0.80      0.67      0.73        36\n",
      "slothful induction       0.72      0.93      0.82        45\n",
      "\n",
      "          accuracy                           0.76       119\n",
      "         macro avg       0.77      0.74      0.75       119\n",
      "      weighted avg       0.76      0.76      0.75       119\n",
      "\n",
      "test results:\n",
      "                    precision    recall  f1-score   support\n",
      "\n",
      " misrepresentation       0.70      0.64      0.67        22\n",
      "oversimplification       0.67      0.70      0.68        20\n",
      "slothful induction       0.65      0.68      0.67        25\n",
      "\n",
      "          accuracy                           0.67        67\n",
      "         macro avg       0.67      0.67      0.67        67\n",
      "      weighted avg       0.67      0.67      0.67        67\n",
      "\n",
      "### ### ### ### ### ### ### ### ### ### \n",
      "{'test_acc': [0.6716417910447762], 'test_f1': [0.6720867208672087], 'eval_acc': [0.7563025210084033], 'eval_f1': [0.7461529605894316], 'wd': [0.1]}\n",
      "### ### ### ### ### ### ### ### ### ### \n",
      "Grid search bert-base-uncased, learning rate 1e-05, focal loss gamma 8, weight decay 0.01\n"
     ]
    },
    {
     "name": "stderr",
     "output_type": "stream",
     "text": [
      "Some weights of BertForSequenceClassification were not initialized from the model checkpoint at bert-base-uncased and are newly initialized: ['classifier.weight', 'classifier.bias']\n",
      "You should probably TRAIN this model on a down-stream task to be able to use it for predictions and inference.\n",
      "You're using a BertTokenizerFast tokenizer. Please note that with a fast tokenizer, using the `__call__` method is faster than using a method to encode the text followed by a call to the `pad` method to get a padded encoding.\n"
     ]
    },
    {
     "name": "stdout",
     "output_type": "stream",
     "text": [
      "1 / 30: Train Loss:\t0.1401\tVal Loss:\t1.0363\tAccuracy:\t0.5546\tF1:\t0.5527\n",
      "2 / 30: Train Loss:\t0.1013\tVal Loss:\t0.9806\tAccuracy:\t0.7059\tF1:\t0.6932\n",
      "3 / 30: Train Loss:\t0.0830\tVal Loss:\t0.9341\tAccuracy:\t0.7311\tF1:\t0.7170\n",
      "4 / 30: Train Loss:\t0.0646\tVal Loss:\t0.8890\tAccuracy:\t0.7395\tF1:\t0.7301\n",
      "5 / 30: Train Loss:\t0.0459\tVal Loss:\t0.8494\tAccuracy:\t0.7563\tF1:\t0.7462\n",
      "6 / 30: Train Loss:\t0.0270\tVal Loss:\t0.8045\tAccuracy:\t0.7563\tF1:\t0.7462\n",
      "7 / 30: Train Loss:\t0.0210\tVal Loss:\t0.7745\tAccuracy:\t0.7395\tF1:\t0.7290\n",
      "8 / 30: Train Loss:\t0.0186\tVal Loss:\t0.7437\tAccuracy:\t0.7731\tF1:\t0.7651\n",
      "9 / 30: Train Loss:\t0.0108\tVal Loss:\t0.7307\tAccuracy:\t0.7731\tF1:\t0.7695\n",
      "10 / 30: Train Loss:\t0.0125\tVal Loss:\t0.7181\tAccuracy:\t0.7563\tF1:\t0.7547\n",
      "11 / 30: Train Loss:\t0.0078\tVal Loss:\t0.7029\tAccuracy:\t0.7563\tF1:\t0.7503\n",
      "12 / 30: Train Loss:\t0.0036\tVal Loss:\t0.6912\tAccuracy:\t0.7731\tF1:\t0.7699\n",
      "13 / 30: Train Loss:\t0.0036\tVal Loss:\t0.6773\tAccuracy:\t0.7647\tF1:\t0.7617\n",
      "14 / 30: Train Loss:\t0.0030\tVal Loss:\t0.6708\tAccuracy:\t0.7647\tF1:\t0.7617\n",
      "15 / 30: Train Loss:\t0.0020\tVal Loss:\t0.6671\tAccuracy:\t0.7731\tF1:\t0.7689\n",
      "No improvement for 3 epochs. Stopping early.\n",
      "best (higgest macro f1-score) val results:\n",
      "                    precision    recall  f1-score   support\n",
      "\n",
      " misrepresentation       0.72      0.76      0.74        38\n",
      "oversimplification       0.89      0.67      0.76        36\n",
      "slothful induction       0.75      0.87      0.80        45\n",
      "\n",
      "          accuracy                           0.77       119\n",
      "         macro avg       0.79      0.77      0.77       119\n",
      "      weighted avg       0.78      0.77      0.77       119\n",
      "\n",
      "test results:\n",
      "                    precision    recall  f1-score   support\n",
      "\n",
      " misrepresentation       0.69      0.91      0.78        22\n",
      "oversimplification       0.80      0.80      0.80        20\n",
      "slothful induction       0.83      0.60      0.70        25\n",
      "\n",
      "          accuracy                           0.76        67\n",
      "         macro avg       0.77      0.77      0.76        67\n",
      "      weighted avg       0.78      0.76      0.76        67\n",
      "\n",
      "### ### ### ### ### ### ### ### ### ### \n",
      "{'test_acc': [0.6716417910447762, 0.7611940298507462], 'test_f1': [0.6720867208672087, 0.7606627146982824], 'eval_acc': [0.7563025210084033, 0.773109243697479], 'eval_f1': [0.7461529605894316, 0.7698727389449038], 'wd': [0.1, 0.01]}\n",
      "### ### ### ### ### ### ### ### ### ### \n"
     ]
    }
   ],
   "source": [
    "g = 8\n",
    "lr = 1.0e-5\n",
    "weight_decay = [0.1, 0.01]\n",
    "\n",
    "for wd in weight_decay:\n",
    "    print(f'Grid search {model_checkpoint}, learning rate {lr}, focal loss gamma {g}, weight decay {wd}')\n",
    "    data = ClimateDataset(model_to_train=2,model_checkpoint=model_checkpoint,dataset_url=flicc_path,batch_size=32)\n",
    "    data.setup_dataloaders()\n",
    "    model = ClassificationModel(model_checkpoint=data.model_checkpoint,num_labels=data.num_labels)\n",
    "    trainer = Engine(epochs=30,labels=data.labels)\n",
    "    trainer.model = model.model\n",
    "    trainer.dataset_encoded = data.dataset_encoded\n",
    "    test_acc, test_f1, eval_acc, eval_f1 = trainer.run(lr=lr,\n",
    "                                                       wd=wd,\n",
    "                                                       train_dataloader=data.train_dataloader,\n",
    "                                                       eval_dataloader=data.eval_dataloader,\n",
    "                                                       test_dataloader=data.test_dataloader,\n",
    "                                                       focalloss=True,\n",
    "                                                       gamma=g,\n",
    "                                                       early_stop=3)\n",
    "    results['test_acc'].append(test_acc)\n",
    "    results['test_f1'].append(test_f1)\n",
    "    results['eval_acc'].append(eval_acc)\n",
    "    results['eval_f1'].append(eval_f1)\n",
    "    results['wd'].append(wd)\n",
    "    print('### '*10)\n",
    "    print(results)\n",
    "    print('### '*10)\n",
    "    with torch.no_grad():\n",
    "        torch.cuda.empty_cache()\n",
    "    del data, model, trainer, test_acc, test_f1, eval_acc, eval_f1\n",
    "    gc.collect()"
   ]
  },
  {
   "cell_type": "code",
   "execution_count": 5,
   "metadata": {},
   "outputs": [
    {
     "data": {
      "image/png": "[encoded data removed]",
      "text/plain": [
       "<Figure size 640x480 with 1 Axes>"
      ]
     },
     "metadata": {},
     "output_type": "display_data"
    }
   ],
   "source": [
    "Engine.plot_grid_search(df=results,\n",
    "                        title=f'Weight decay, lr: {lr}, focal loss gamma {g} {model_checkpoint}',\n",
    "                        column='wd',\n",
    "                        sci_format=True)"
   ]
  },
  {
   "cell_type": "code",
   "execution_count": 6,
   "metadata": {},
   "outputs": [],
   "source": [
    "%reset -f"
   ]
  }
 ],
 "metadata": {
  "kernelspec": {
   "display_name": "Python 3",
   "language": "python",
   "name": "python3"
  },
  "language_info": {
   "codemirror_mode": {
    "name": "ipython",
    "version": 3
   },
   "file_extension": ".py",
   "mimetype": "text/x-python",
   "name": "python",
   "nbconvert_exporter": "python",
   "pygments_lexer": "ipython3",
   "version": "3.11.5"
  },
  "orig_nbformat": 4
 },
 "nbformat": 4,
 "nbformat_minor": 2
}
