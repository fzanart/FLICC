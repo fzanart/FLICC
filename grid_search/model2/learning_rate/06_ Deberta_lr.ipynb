{
 "cells": [
  {
   "cell_type": "code",
   "execution_count": 1,
   "metadata": {},
   "outputs": [],
   "source": [
    "import torch\n",
    "from data import ClimateDataset\n",
    "from models import ClassificationModel\n",
    "from engine import Engine"
   ]
  },
  {
   "cell_type": "code",
   "execution_count": 2,
   "metadata": {},
   "outputs": [],
   "source": [
    "model_checkpoint='microsoft/deberta-base'"
   ]
  },
  {
   "cell_type": "code",
   "execution_count": 3,
   "metadata": {},
   "outputs": [],
   "source": [
    "results = {'acc':[],\n",
    "           'f1':[],\n",
    "           'lr':[]}"
   ]
  },
  {
   "cell_type": "code",
   "execution_count": 4,
   "metadata": {},
   "outputs": [
    {
     "name": "stdout",
     "output_type": "stream",
     "text": [
      "Grid search microsoft/deberta-base, learning rate 0.0001\n"
     ]
    },
    {
     "data": {
      "application/vnd.jupyter.widget-view+json": {
       "model_id": "5e303ce4ece24276987751c341188ee9",
       "version_major": 2,
       "version_minor": 0
      },
      "text/plain": [
       "Filter:   0%|          | 0/1796 [00:00<?, ? examples/s]"
      ]
     },
     "metadata": {},
     "output_type": "display_data"
    },
    {
     "data": {
      "application/vnd.jupyter.widget-view+json": {
       "model_id": "6e824d9ed6904c9d91859c446f2aefa6",
       "version_major": 2,
       "version_minor": 0
      },
      "text/plain": [
       "Filter:   0%|          | 0/256 [00:00<?, ? examples/s]"
      ]
     },
     "metadata": {},
     "output_type": "display_data"
    },
    {
     "data": {
      "application/vnd.jupyter.widget-view+json": {
       "model_id": "7db4d9d8739c46bda21a57b5328cf218",
       "version_major": 2,
       "version_minor": 0
      },
      "text/plain": [
       "Filter:   0%|          | 0/457 [00:00<?, ? examples/s]"
      ]
     },
     "metadata": {},
     "output_type": "display_data"
    },
    {
     "data": {
      "application/vnd.jupyter.widget-view+json": {
       "model_id": "a366f896a22d429bacff0e7081ae8d3f",
       "version_major": 2,
       "version_minor": 0
      },
      "text/plain": [
       "Map:   0%|          | 0/472 [00:00<?, ? examples/s]"
      ]
     },
     "metadata": {},
     "output_type": "display_data"
    },
    {
     "data": {
      "application/vnd.jupyter.widget-view+json": {
       "model_id": "397c6ea0dab04e77b678b22833fb1bb4",
       "version_major": 2,
       "version_minor": 0
      },
      "text/plain": [
       "Map:   0%|          | 0/67 [00:00<?, ? examples/s]"
      ]
     },
     "metadata": {},
     "output_type": "display_data"
    },
    {
     "data": {
      "application/vnd.jupyter.widget-view+json": {
       "model_id": "cf7c88b9f13c43159df8115b6d26c6de",
       "version_major": 2,
       "version_minor": 0
      },
      "text/plain": [
       "Map:   0%|          | 0/119 [00:00<?, ? examples/s]"
      ]
     },
     "metadata": {},
     "output_type": "display_data"
    },
    {
     "name": "stderr",
     "output_type": "stream",
     "text": [
      "Some weights of DebertaForSequenceClassification were not initialized from the model checkpoint at microsoft/deberta-base and are newly initialized: ['classifier.bias', 'pooler.dense.weight', 'pooler.dense.bias', 'classifier.weight']\n",
      "You should probably TRAIN this model on a down-stream task to be able to use it for predictions and inference.\n",
      "You're using a DebertaTokenizerFast tokenizer. Please note that with a fast tokenizer, using the `__call__` method is faster than using a method to encode the text followed by a call to the `pad` method to get a padded encoding.\n"
     ]
    },
    {
     "name": "stdout",
     "output_type": "stream",
     "text": [
      "1 / 30: Train Loss:\t1.0642\tVal Loss:\t0.8384\tAccuracy:\t0.6387\tF1:\t0.6215\n",
      "2 / 30: Train Loss:\t0.8952\tVal Loss:\t0.8458\tAccuracy:\t0.5546\tF1:\t0.4526\n",
      "3 / 30: Train Loss:\t0.7938\tVal Loss:\t0.8403\tAccuracy:\t0.5630\tF1:\t0.4641\n",
      "4 / 30: Train Loss:\t0.7306\tVal Loss:\t0.8427\tAccuracy:\t0.5714\tF1:\t0.4647\n",
      "No improvement for 3 epochs. Stopping early.\n",
      "best (higgest macro f1-score) val results:\n",
      "                    precision    recall  f1-score   support\n",
      "\n",
      " misrepresentation       0.00      0.00      0.00        38\n",
      "oversimplification       0.88      0.64      0.74        36\n",
      "slothful induction       0.48      1.00      0.65        45\n",
      "\n",
      "          accuracy                           0.57       119\n",
      "         macro avg       0.46      0.55      0.46       119\n",
      "      weighted avg       0.45      0.57      0.47       119\n",
      "\n",
      "test results:\n",
      "                    precision    recall  f1-score   support\n",
      "\n",
      " misrepresentation       0.00      0.00      0.00        22\n",
      "oversimplification       0.78      0.70      0.74        20\n",
      "slothful induction       0.45      0.88      0.59        25\n",
      "\n",
      "          accuracy                           0.54        67\n",
      "         macro avg       0.41      0.53      0.44        67\n",
      "      weighted avg       0.40      0.54      0.44        67\n",
      "\n",
      "### ### ### ### ### ### ### ### ### ### \n",
      "{'acc': [0.5373134328358209], 'f1': [0.4438122332859174], 'lr': [0.0001]}\n",
      "### ### ### ### ### ### ### ### ### ### \n",
      "Grid search microsoft/deberta-base, learning rate 5e-05\n"
     ]
    },
    {
     "data": {
      "application/vnd.jupyter.widget-view+json": {
       "model_id": "bd4eb6977e5a4ac18910162f956d8a92",
       "version_major": 2,
       "version_minor": 0
      },
      "text/plain": [
       "Map:   0%|          | 0/67 [00:00<?, ? examples/s]"
      ]
     },
     "metadata": {},
     "output_type": "display_data"
    },
    {
     "name": "stderr",
     "output_type": "stream",
     "text": [
      "Some weights of DebertaForSequenceClassification were not initialized from the model checkpoint at microsoft/deberta-base and are newly initialized: ['classifier.bias', 'pooler.dense.weight', 'pooler.dense.bias', 'classifier.weight']\n",
      "You should probably TRAIN this model on a down-stream task to be able to use it for predictions and inference.\n",
      "You're using a DebertaTokenizerFast tokenizer. Please note that with a fast tokenizer, using the `__call__` method is faster than using a method to encode the text followed by a call to the `pad` method to get a padded encoding.\n"
     ]
    },
    {
     "name": "stdout",
     "output_type": "stream",
     "text": [
      "1 / 30: Train Loss:\t1.0525\tVal Loss:\t0.9064\tAccuracy:\t0.5630\tF1:\t0.4464\n",
      "2 / 30: Train Loss:\t0.7836\tVal Loss:\t0.7200\tAccuracy:\t0.7143\tF1:\t0.7195\n",
      "3 / 30: Train Loss:\t0.5335\tVal Loss:\t0.5784\tAccuracy:\t0.7899\tF1:\t0.7918\n",
      "4 / 30: Train Loss:\t0.3299\tVal Loss:\t0.5469\tAccuracy:\t0.7815\tF1:\t0.7818\n",
      "5 / 30: Train Loss:\t0.2217\tVal Loss:\t0.6845\tAccuracy:\t0.7563\tF1:\t0.7562\n",
      "6 / 30: Train Loss:\t0.1265\tVal Loss:\t0.7262\tAccuracy:\t0.7899\tF1:\t0.7947\n",
      "7 / 30: Train Loss:\t0.2385\tVal Loss:\t0.6690\tAccuracy:\t0.7815\tF1:\t0.7853\n",
      "8 / 30: Train Loss:\t0.2272\tVal Loss:\t1.0660\tAccuracy:\t0.7227\tF1:\t0.7117\n",
      "9 / 30: Train Loss:\t0.1947\tVal Loss:\t0.7324\tAccuracy:\t0.7983\tF1:\t0.8003\n",
      "10 / 30: Train Loss:\t0.0542\tVal Loss:\t0.8711\tAccuracy:\t0.7815\tF1:\t0.7770\n",
      "11 / 30: Train Loss:\t0.0285\tVal Loss:\t0.8335\tAccuracy:\t0.7899\tF1:\t0.7893\n",
      "12 / 30: Train Loss:\t0.0385\tVal Loss:\t0.9877\tAccuracy:\t0.7815\tF1:\t0.7790\n",
      "No improvement for 3 epochs. Stopping early.\n",
      "best (higgest macro f1-score) val results:\n",
      "                    precision    recall  f1-score   support\n",
      "\n",
      " misrepresentation       0.82      0.74      0.78        38\n",
      "oversimplification       0.96      0.64      0.77        36\n",
      "slothful induction       0.69      0.93      0.79        45\n",
      "\n",
      "          accuracy                           0.78       119\n",
      "         macro avg       0.82      0.77      0.78       119\n",
      "      weighted avg       0.81      0.78      0.78       119\n",
      "\n",
      "test results:\n",
      "                    precision    recall  f1-score   support\n",
      "\n",
      " misrepresentation       0.76      0.73      0.74        22\n",
      "oversimplification       0.79      0.75      0.77        20\n",
      "slothful induction       0.74      0.80      0.77        25\n",
      "\n",
      "          accuracy                           0.76        67\n",
      "         macro avg       0.76      0.76      0.76        67\n",
      "      weighted avg       0.76      0.76      0.76        67\n",
      "\n",
      "### ### ### ### ### ### ### ### ### ### \n",
      "{'acc': [0.5373134328358209, 0.7611940298507462], 'f1': [0.4438122332859174, 0.7608825283243887], 'lr': [0.0001, 5e-05]}\n",
      "### ### ### ### ### ### ### ### ### ### \n",
      "Grid search microsoft/deberta-base, learning rate 1e-05\n"
     ]
    },
    {
     "data": {
      "application/vnd.jupyter.widget-view+json": {
       "model_id": "80deeb230e88424e834b9176a22c120c",
       "version_major": 2,
       "version_minor": 0
      },
      "text/plain": [
       "Map:   0%|          | 0/119 [00:00<?, ? examples/s]"
      ]
     },
     "metadata": {},
     "output_type": "display_data"
    },
    {
     "name": "stderr",
     "output_type": "stream",
     "text": [
      "Some weights of DebertaForSequenceClassification were not initialized from the model checkpoint at microsoft/deberta-base and are newly initialized: ['classifier.bias', 'pooler.dense.weight', 'pooler.dense.bias', 'classifier.weight']\n",
      "You should probably TRAIN this model on a down-stream task to be able to use it for predictions and inference.\n",
      "You're using a DebertaTokenizerFast tokenizer. Please note that with a fast tokenizer, using the `__call__` method is faster than using a method to encode the text followed by a call to the `pad` method to get a padded encoding.\n"
     ]
    },
    {
     "name": "stdout",
     "output_type": "stream",
     "text": [
      "1 / 30: Train Loss:\t1.0982\tVal Loss:\t1.0966\tAccuracy:\t0.3782\tF1:\t0.1829\n",
      "2 / 30: Train Loss:\t1.0697\tVal Loss:\t1.0161\tAccuracy:\t0.3782\tF1:\t0.1829\n",
      "3 / 30: Train Loss:\t0.9883\tVal Loss:\t0.9564\tAccuracy:\t0.5210\tF1:\t0.4130\n",
      "4 / 30: Train Loss:\t0.8900\tVal Loss:\t0.8785\tAccuracy:\t0.6303\tF1:\t0.5789\n",
      "5 / 30: Train Loss:\t0.7047\tVal Loss:\t0.6541\tAccuracy:\t0.7311\tF1:\t0.7284\n",
      "6 / 30: Train Loss:\t0.4863\tVal Loss:\t0.5677\tAccuracy:\t0.7647\tF1:\t0.7643\n",
      "7 / 30: Train Loss:\t0.3268\tVal Loss:\t0.5752\tAccuracy:\t0.7983\tF1:\t0.7974\n",
      "8 / 30: Train Loss:\t0.2233\tVal Loss:\t0.5817\tAccuracy:\t0.7983\tF1:\t0.7943\n",
      "9 / 30: Train Loss:\t0.1489\tVal Loss:\t0.5662\tAccuracy:\t0.8151\tF1:\t0.8146\n",
      "10 / 30: Train Loss:\t0.1075\tVal Loss:\t0.6201\tAccuracy:\t0.7983\tF1:\t0.7984\n",
      "11 / 30: Train Loss:\t0.0764\tVal Loss:\t0.6848\tAccuracy:\t0.7899\tF1:\t0.7896\n",
      "12 / 30: Train Loss:\t0.0680\tVal Loss:\t0.7366\tAccuracy:\t0.7899\tF1:\t0.7890\n",
      "No improvement for 3 epochs. Stopping early.\n",
      "best (higgest macro f1-score) val results:\n",
      "                    precision    recall  f1-score   support\n",
      "\n",
      " misrepresentation       0.82      0.71      0.76        38\n",
      "oversimplification       0.96      0.69      0.81        36\n",
      "slothful induction       0.70      0.93      0.80        45\n",
      "\n",
      "          accuracy                           0.79       119\n",
      "         macro avg       0.83      0.78      0.79       119\n",
      "      weighted avg       0.82      0.79      0.79       119\n",
      "\n",
      "test results:\n",
      "                    precision    recall  f1-score   support\n",
      "\n",
      " misrepresentation       0.82      0.82      0.82        22\n",
      "oversimplification       0.77      0.85      0.81        20\n",
      "slothful induction       0.78      0.72      0.75        25\n",
      "\n",
      "          accuracy                           0.79        67\n",
      "         macro avg       0.79      0.80      0.79        67\n",
      "      weighted avg       0.79      0.79      0.79        67\n",
      "\n",
      "### ### ### ### ### ### ### ### ### ### \n",
      "{'acc': [0.5373134328358209, 0.7611940298507462, 0.7910447761194029], 'f1': [0.4438122332859174, 0.7608825283243887, 0.7925685425685426], 'lr': [0.0001, 5e-05, 1e-05]}\n",
      "### ### ### ### ### ### ### ### ### ### \n"
     ]
    }
   ],
   "source": [
    "learning_rates = [1.0e-4, 5.0e-5, 1.0e-5]\n",
    "\n",
    "for lr in learning_rates:\n",
    "    print(f'Grid search {model_checkpoint}, learning rate {lr}')\n",
    "    data = ClimateDataset(model_to_train=2,model_checkpoint=model_checkpoint,batch_size=32)\n",
    "    data.setup_dataloaders()\n",
    "    model = ClassificationModel(model_checkpoint=data.model_checkpoint,num_labels=data.num_labels)\n",
    "    trainer = Engine(epochs=30,labels=data.labels)\n",
    "    trainer.model = model.model\n",
    "    trainer.device = model.device\n",
    "    acc, f1 = trainer.run(lr=lr,wd=0.0,train_dataloader=data.train_dataloader,eval_dataloader=data.eval_dataloader,test_dataloader=data.test_dataloader, early_stop=3)\n",
    "    results['acc'].append(acc)\n",
    "    results['f1'].append(f1)\n",
    "    results['lr'].append(lr)\n",
    "    print('### '*10)\n",
    "    print(results)\n",
    "    print('### '*10)\n",
    "    with torch.no_grad():\n",
    "        torch.cuda.empty_cache()\n",
    "    del data, model, trainer, acc, f1"
   ]
  },
  {
   "cell_type": "code",
   "execution_count": 5,
   "metadata": {},
   "outputs": [],
   "source": [
    "import matplotlib.pyplot as plt\n",
    "import seaborn as sns\n",
    "import pandas as pd"
   ]
  },
  {
   "cell_type": "code",
   "execution_count": 7,
   "metadata": {},
   "outputs": [
    {
     "data": {
      "image/png": "[encoded data removed]",
      "text/plain": [
       "<Figure size 640x480 with 1 Axes>"
      ]
     },
     "metadata": {},
     "output_type": "display_data"
    }
   ],
   "source": [
    "def plot_grid_search(df, title):\n",
    "\n",
    "    # Create the plot\n",
    "    ax = df.plot(x='lr', y=['acc', 'f1'], marker='o', linestyle='-')\n",
    "\n",
    "    # Set y-axis range between 0 and 1\n",
    "    plt.ylim(0, 1)\n",
    "\n",
    "    # Annotate points with F1 scores\n",
    "    for i, row in df.iterrows(): \n",
    "        ax.annotate(f'{row[\"f1\"]:.2f}', (row[\"lr\"], row[\"f1\"]), textcoords='offset points', xytext=(0, -10), ha='center')\n",
    "\n",
    "    # Annotate points with Acc scores\n",
    "    for i, row in df.iterrows():\n",
    "        ax.annotate(f'{row[\"acc\"]:.2f}', (row[\"lr\"], row[\"acc\"]), textcoords='offset points', xytext=(0, 10), ha='center')\n",
    "    \n",
    "    # \n",
    "    plt.xticks(df['lr'], [f'{val:.0e}' for val in df['lr']], ha='center')\n",
    "    # plt.xscale('log')\n",
    "    plt.minorticks_off()\n",
    "\n",
    "    plt.title(title)\n",
    "    plt.xlabel('lr')\n",
    "    plt.ylabel('Score')\n",
    "    plt.show()\n",
    "\n",
    "plot_grid_search(pd.DataFrame(results), f'Learning rates {model_checkpoint}')"
   ]
  }
 ],
 "metadata": {
  "kernelspec": {
   "display_name": "Python 3",
   "language": "python",
   "name": "python3"
  },
  "language_info": {
   "codemirror_mode": {
    "name": "ipython",
    "version": 3
   },
   "file_extension": ".py",
   "mimetype": "text/x-python",
   "name": "python",
   "nbconvert_exporter": "python",
   "pygments_lexer": "ipython3",
   "version": "3.11.5"
  },
  "orig_nbformat": 4
 },
 "nbformat": 4,
 "nbformat_minor": 2
}
