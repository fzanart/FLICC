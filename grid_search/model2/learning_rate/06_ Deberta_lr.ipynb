{
 "cells": [
  {
   "cell_type": "code",
   "execution_count": 1,
   "metadata": {},
   "outputs": [],
   "source": [
    "import os\n",
    "import sys\n",
    "import gc\n",
    "# assuming data, models, engine in flicc directory:\n",
    "flicc_path = os.path.realpath(\"__file__\").split('grid_search')[0]\n",
    "sys.path.append(flicc_path)\n",
    "import torch\n",
    "from data import ClimateDataset\n",
    "from models import ClassificationModel\n",
    "from engine import Engine"
   ]
  },
  {
   "cell_type": "code",
   "execution_count": 2,
   "metadata": {},
   "outputs": [],
   "source": [
    "model_checkpoint='microsoft/deberta-base'"
   ]
  },
  {
   "cell_type": "code",
   "execution_count": 3,
   "metadata": {},
   "outputs": [],
   "source": [
    "results = {'test_acc':[],\n",
    "           'test_f1':[],\n",
    "           'eval_acc':[],\n",
    "           'eval_f1':[],\n",
    "           'lr':[]}"
   ]
  },
  {
   "cell_type": "code",
   "execution_count": 4,
   "metadata": {},
   "outputs": [
    {
     "name": "stdout",
     "output_type": "stream",
     "text": [
      "Grid search microsoft/deberta-base, learning rate 1e-05\n"
     ]
    },
    {
     "data": {
      "application/vnd.jupyter.widget-view+json": {
       "model_id": "fbf7a2de23b44375b0424536f3849f57",
       "version_major": 2,
       "version_minor": 0
      },
      "text/plain": [
       "Downloading (…)okenizer_config.json:   0%|          | 0.00/52.0 [00:00<?, ?B/s]"
      ]
     },
     "metadata": {},
     "output_type": "display_data"
    },
    {
     "data": {
      "application/vnd.jupyter.widget-view+json": {
       "model_id": "b7982c58a3a346019a57326b9d76fcc1",
       "version_major": 2,
       "version_minor": 0
      },
      "text/plain": [
       "Downloading (…)lve/main/config.json:   0%|          | 0.00/474 [00:00<?, ?B/s]"
      ]
     },
     "metadata": {},
     "output_type": "display_data"
    },
    {
     "data": {
      "application/vnd.jupyter.widget-view+json": {
       "model_id": "deb6363ee70e44d1960c3b2dc8291086",
       "version_major": 2,
       "version_minor": 0
      },
      "text/plain": [
       "Downloading (…)olve/main/vocab.json:   0%|          | 0.00/899k [00:00<?, ?B/s]"
      ]
     },
     "metadata": {},
     "output_type": "display_data"
    },
    {
     "data": {
      "application/vnd.jupyter.widget-view+json": {
       "model_id": "2b64109ee24b4b4fa095bf50d09fb992",
       "version_major": 2,
       "version_minor": 0
      },
      "text/plain": [
       "Downloading (…)olve/main/merges.txt:   0%|          | 0.00/456k [00:00<?, ?B/s]"
      ]
     },
     "metadata": {},
     "output_type": "display_data"
    },
    {
     "data": {
      "application/vnd.jupyter.widget-view+json": {
       "model_id": "7a784efc34d74a1f8b5da98cb3bf347c",
       "version_major": 2,
       "version_minor": 0
      },
      "text/plain": [
       "Filter:   0%|          | 0/1796 [00:00<?, ? examples/s]"
      ]
     },
     "metadata": {},
     "output_type": "display_data"
    },
    {
     "data": {
      "application/vnd.jupyter.widget-view+json": {
       "model_id": "57b69eaa6b25462495d3793c62c40100",
       "version_major": 2,
       "version_minor": 0
      },
      "text/plain": [
       "Filter:   0%|          | 0/256 [00:00<?, ? examples/s]"
      ]
     },
     "metadata": {},
     "output_type": "display_data"
    },
    {
     "data": {
      "application/vnd.jupyter.widget-view+json": {
       "model_id": "a8a9491c7f5a4ddf8cd39d2aced55a07",
       "version_major": 2,
       "version_minor": 0
      },
      "text/plain": [
       "Filter:   0%|          | 0/457 [00:00<?, ? examples/s]"
      ]
     },
     "metadata": {},
     "output_type": "display_data"
    },
    {
     "data": {
      "application/vnd.jupyter.widget-view+json": {
       "model_id": "1b50fd8ed28d4d89a5f5dedff33bb6be",
       "version_major": 2,
       "version_minor": 0
      },
      "text/plain": [
       "Map:   0%|          | 0/472 [00:00<?, ? examples/s]"
      ]
     },
     "metadata": {},
     "output_type": "display_data"
    },
    {
     "data": {
      "application/vnd.jupyter.widget-view+json": {
       "model_id": "d3ece606ce664c348b9701ab7c560143",
       "version_major": 2,
       "version_minor": 0
      },
      "text/plain": [
       "Map:   0%|          | 0/67 [00:00<?, ? examples/s]"
      ]
     },
     "metadata": {},
     "output_type": "display_data"
    },
    {
     "data": {
      "application/vnd.jupyter.widget-view+json": {
       "model_id": "d3196a44d6ae4bbfb8621678232cf0bf",
       "version_major": 2,
       "version_minor": 0
      },
      "text/plain": [
       "Map:   0%|          | 0/119 [00:00<?, ? examples/s]"
      ]
     },
     "metadata": {},
     "output_type": "display_data"
    },
    {
     "data": {
      "application/vnd.jupyter.widget-view+json": {
       "model_id": "21383bf94ad546a5873242f0dd1ad345",
       "version_major": 2,
       "version_minor": 0
      },
      "text/plain": [
       "Downloading pytorch_model.bin:   0%|          | 0.00/559M [00:00<?, ?B/s]"
      ]
     },
     "metadata": {},
     "output_type": "display_data"
    },
    {
     "name": "stderr",
     "output_type": "stream",
     "text": [
      "Some weights of DebertaForSequenceClassification were not initialized from the model checkpoint at microsoft/deberta-base and are newly initialized: ['classifier.bias', 'pooler.dense.bias', 'classifier.weight', 'pooler.dense.weight']\n",
      "You should probably TRAIN this model on a down-stream task to be able to use it for predictions and inference.\n",
      "You're using a DebertaTokenizerFast tokenizer. Please note that with a fast tokenizer, using the `__call__` method is faster than using a method to encode the text followed by a call to the `pad` method to get a padded encoding.\n"
     ]
    },
    {
     "name": "stdout",
     "output_type": "stream",
     "text": [
      "1 / 30: Train Loss:\t1.0982\tVal Loss:\t1.0966\tAccuracy:\t0.3782\tF1:\t0.1829\n",
      "2 / 30: Train Loss:\t1.0697\tVal Loss:\t1.0161\tAccuracy:\t0.3782\tF1:\t0.1829\n",
      "3 / 30: Train Loss:\t0.9883\tVal Loss:\t0.9564\tAccuracy:\t0.5210\tF1:\t0.4130\n",
      "4 / 30: Train Loss:\t0.8900\tVal Loss:\t0.8785\tAccuracy:\t0.6303\tF1:\t0.5789\n",
      "5 / 30: Train Loss:\t0.7047\tVal Loss:\t0.6541\tAccuracy:\t0.7311\tF1:\t0.7284\n",
      "6 / 30: Train Loss:\t0.4863\tVal Loss:\t0.5677\tAccuracy:\t0.7647\tF1:\t0.7643\n",
      "7 / 30: Train Loss:\t0.3268\tVal Loss:\t0.5752\tAccuracy:\t0.7983\tF1:\t0.7974\n",
      "8 / 30: Train Loss:\t0.2233\tVal Loss:\t0.5817\tAccuracy:\t0.7983\tF1:\t0.7943\n",
      "9 / 30: Train Loss:\t0.1489\tVal Loss:\t0.5662\tAccuracy:\t0.8151\tF1:\t0.8146\n",
      "10 / 30: Train Loss:\t0.1075\tVal Loss:\t0.6201\tAccuracy:\t0.7983\tF1:\t0.7984\n",
      "11 / 30: Train Loss:\t0.0764\tVal Loss:\t0.6848\tAccuracy:\t0.7899\tF1:\t0.7896\n",
      "12 / 30: Train Loss:\t0.0680\tVal Loss:\t0.7366\tAccuracy:\t0.7899\tF1:\t0.7890\n",
      "No improvement for 3 epochs. Stopping early.\n",
      "best (higgest macro f1-score) val results:\n",
      "                    precision    recall  f1-score   support\n",
      "\n",
      " misrepresentation       0.86      0.79      0.82        38\n",
      "oversimplification       0.96      0.69      0.81        36\n",
      "slothful induction       0.72      0.93      0.82        45\n",
      "\n",
      "          accuracy                           0.82       119\n",
      "         macro avg       0.85      0.81      0.81       119\n",
      "      weighted avg       0.84      0.82      0.81       119\n",
      "\n",
      "test results:\n",
      "                    precision    recall  f1-score   support\n",
      "\n",
      " misrepresentation       0.83      0.86      0.84        22\n",
      "oversimplification       0.81      0.85      0.83        20\n",
      "slothful induction       0.78      0.72      0.75        25\n",
      "\n",
      "          accuracy                           0.81        67\n",
      "         macro avg       0.81      0.81      0.81        67\n",
      "      weighted avg       0.80      0.81      0.80        67\n",
      "\n",
      "### ### ### ### ### ### ### ### ### ### \n",
      "{'test_acc': [0.8059701492537313], 'test_f1': [0.8079042457091238], 'eval_acc': [0.8151260504201681], 'eval_f1': [0.814634467234976], 'lr': [1e-05]}\n",
      "### ### ### ### ### ### ### ### ### ### \n",
      "Grid search microsoft/deberta-base, learning rate 5e-05\n"
     ]
    },
    {
     "data": {
      "application/vnd.jupyter.widget-view+json": {
       "model_id": "42356332e85a4b74961e0aecc7c2f308",
       "version_major": 2,
       "version_minor": 0
      },
      "text/plain": [
       "Map:   0%|          | 0/67 [00:00<?, ? examples/s]"
      ]
     },
     "metadata": {},
     "output_type": "display_data"
    },
    {
     "name": "stderr",
     "output_type": "stream",
     "text": [
      "Some weights of DebertaForSequenceClassification were not initialized from the model checkpoint at microsoft/deberta-base and are newly initialized: ['classifier.bias', 'pooler.dense.bias', 'classifier.weight', 'pooler.dense.weight']\n",
      "You should probably TRAIN this model on a down-stream task to be able to use it for predictions and inference.\n",
      "You're using a DebertaTokenizerFast tokenizer. Please note that with a fast tokenizer, using the `__call__` method is faster than using a method to encode the text followed by a call to the `pad` method to get a padded encoding.\n"
     ]
    },
    {
     "name": "stdout",
     "output_type": "stream",
     "text": [
      "1 / 30: Train Loss:\t1.0525\tVal Loss:\t0.9064\tAccuracy:\t0.5630\tF1:\t0.4464\n",
      "2 / 30: Train Loss:\t0.7836\tVal Loss:\t0.7200\tAccuracy:\t0.7143\tF1:\t0.7195\n",
      "3 / 30: Train Loss:\t0.5335\tVal Loss:\t0.5784\tAccuracy:\t0.7899\tF1:\t0.7918\n",
      "4 / 30: Train Loss:\t0.3299\tVal Loss:\t0.5469\tAccuracy:\t0.7815\tF1:\t0.7818\n",
      "5 / 30: Train Loss:\t0.2217\tVal Loss:\t0.6845\tAccuracy:\t0.7563\tF1:\t0.7562\n",
      "6 / 30: Train Loss:\t0.1265\tVal Loss:\t0.7262\tAccuracy:\t0.7899\tF1:\t0.7947\n",
      "7 / 30: Train Loss:\t0.2385\tVal Loss:\t0.6690\tAccuracy:\t0.7815\tF1:\t0.7853\n",
      "8 / 30: Train Loss:\t0.2272\tVal Loss:\t1.0660\tAccuracy:\t0.7227\tF1:\t0.7117\n",
      "9 / 30: Train Loss:\t0.1947\tVal Loss:\t0.7324\tAccuracy:\t0.7983\tF1:\t0.8003\n",
      "10 / 30: Train Loss:\t0.0542\tVal Loss:\t0.8711\tAccuracy:\t0.7815\tF1:\t0.7770\n",
      "11 / 30: Train Loss:\t0.0285\tVal Loss:\t0.8335\tAccuracy:\t0.7899\tF1:\t0.7893\n",
      "12 / 30: Train Loss:\t0.0385\tVal Loss:\t0.9877\tAccuracy:\t0.7815\tF1:\t0.7790\n",
      "No improvement for 3 epochs. Stopping early.\n",
      "best (higgest macro f1-score) val results:\n",
      "                    precision    recall  f1-score   support\n",
      "\n",
      " misrepresentation       0.85      0.74      0.79        38\n",
      "oversimplification       1.00      0.69      0.82        36\n",
      "slothful induction       0.69      0.93      0.79        45\n",
      "\n",
      "          accuracy                           0.80       119\n",
      "         macro avg       0.85      0.79      0.80       119\n",
      "      weighted avg       0.83      0.80      0.80       119\n",
      "\n",
      "test results:\n",
      "                    precision    recall  f1-score   support\n",
      "\n",
      " misrepresentation       0.76      0.73      0.74        22\n",
      "oversimplification       0.83      0.75      0.79        20\n",
      "slothful induction       0.71      0.80      0.75        25\n",
      "\n",
      "          accuracy                           0.76        67\n",
      "         macro avg       0.77      0.76      0.76        67\n",
      "      weighted avg       0.77      0.76      0.76        67\n",
      "\n",
      "### ### ### ### ### ### ### ### ### ### \n",
      "{'test_acc': [0.8059701492537313, 0.7611940298507462], 'test_f1': [0.8079042457091238, 0.7627922372847432], 'eval_acc': [0.8151260504201681, 0.7983193277310925], 'eval_f1': [0.814634467234976, 0.8002857852341392], 'lr': [1e-05, 5e-05]}\n",
      "### ### ### ### ### ### ### ### ### ### \n",
      "Grid search microsoft/deberta-base, learning rate 0.0001\n"
     ]
    },
    {
     "data": {
      "application/vnd.jupyter.widget-view+json": {
       "model_id": "786122fda5bf4c858480fdc9dd495c31",
       "version_major": 2,
       "version_minor": 0
      },
      "text/plain": [
       "Map:   0%|          | 0/119 [00:00<?, ? examples/s]"
      ]
     },
     "metadata": {},
     "output_type": "display_data"
    },
    {
     "name": "stderr",
     "output_type": "stream",
     "text": [
      "Some weights of DebertaForSequenceClassification were not initialized from the model checkpoint at microsoft/deberta-base and are newly initialized: ['classifier.bias', 'pooler.dense.bias', 'classifier.weight', 'pooler.dense.weight']\n",
      "You should probably TRAIN this model on a down-stream task to be able to use it for predictions and inference.\n",
      "You're using a DebertaTokenizerFast tokenizer. Please note that with a fast tokenizer, using the `__call__` method is faster than using a method to encode the text followed by a call to the `pad` method to get a padded encoding.\n"
     ]
    },
    {
     "name": "stdout",
     "output_type": "stream",
     "text": [
      "1 / 30: Train Loss:\t1.0642\tVal Loss:\t0.8384\tAccuracy:\t0.6387\tF1:\t0.6215\n",
      "2 / 30: Train Loss:\t0.8952\tVal Loss:\t0.8458\tAccuracy:\t0.5546\tF1:\t0.4526\n",
      "3 / 30: Train Loss:\t0.7938\tVal Loss:\t0.8403\tAccuracy:\t0.5630\tF1:\t0.4641\n",
      "4 / 30: Train Loss:\t0.7306\tVal Loss:\t0.8427\tAccuracy:\t0.5714\tF1:\t0.4647\n",
      "No improvement for 3 epochs. Stopping early.\n",
      "best (higgest macro f1-score) val results:\n",
      "                    precision    recall  f1-score   support\n",
      "\n",
      " misrepresentation       0.67      0.32      0.43        38\n",
      "oversimplification       1.00      0.61      0.76        36\n",
      "slothful induction       0.53      0.93      0.68        45\n",
      "\n",
      "          accuracy                           0.64       119\n",
      "         macro avg       0.73      0.62      0.62       119\n",
      "      weighted avg       0.72      0.64      0.62       119\n",
      "\n",
      "test results:\n",
      "                    precision    recall  f1-score   support\n",
      "\n",
      " misrepresentation       0.54      0.32      0.40        22\n",
      "oversimplification       0.73      0.55      0.63        20\n",
      "slothful induction       0.49      0.76      0.59        25\n",
      "\n",
      "          accuracy                           0.55        67\n",
      "         macro avg       0.59      0.54      0.54        67\n",
      "      weighted avg       0.58      0.55      0.54        67\n",
      "\n",
      "### ### ### ### ### ### ### ### ### ### \n",
      "{'test_acc': [0.8059701492537313, 0.7611940298507462, 0.5522388059701493], 'test_f1': [0.8079042457091238, 0.7627922372847432, 0.5407738095238095], 'eval_acc': [0.8151260504201681, 0.7983193277310925, 0.6386554621848739], 'eval_f1': [0.814634467234976, 0.8002857852341392, 0.6215371576884369], 'lr': [1e-05, 5e-05, 0.0001]}\n",
      "### ### ### ### ### ### ### ### ### ### \n"
     ]
    }
   ],
   "source": [
    "learning_rates = [1.0e-5, 5.0e-5 ,1.0e-4]\n",
    "\n",
    "for lr in learning_rates:\n",
    "    print(f'Grid search {model_checkpoint}, learning rate {lr}')\n",
    "    data = ClimateDataset(model_to_train=2,model_checkpoint=model_checkpoint,dataset_url=flicc_path,batch_size=32)\n",
    "    data.setup_dataloaders()\n",
    "    model = ClassificationModel(model_checkpoint=data.model_checkpoint,num_labels=data.num_labels)\n",
    "    trainer = Engine(epochs=30,labels=data.labels)\n",
    "    trainer.model = model.model\n",
    "    test_acc, test_f1, eval_acc, eval_f1 = trainer.run(lr=lr,\n",
    "                                                       wd=0.0,\n",
    "                                                       train_dataloader=data.train_dataloader,\n",
    "                                                       eval_dataloader=data.eval_dataloader,\n",
    "                                                       test_dataloader=data.test_dataloader,\n",
    "                                                       early_stop=3)\n",
    "    results['test_acc'].append(test_acc)\n",
    "    results['test_f1'].append(test_f1)\n",
    "    results['eval_acc'].append(eval_acc)\n",
    "    results['eval_f1'].append(eval_f1)\n",
    "    results['lr'].append(lr)\n",
    "    print('### '*10)\n",
    "    print(results)\n",
    "    print('### '*10)\n",
    "    with torch.no_grad():\n",
    "        torch.cuda.empty_cache()\n",
    "    del data, model, trainer, test_acc, test_f1, eval_acc, eval_f1\n",
    "    gc.collect()"
   ]
  },
  {
   "cell_type": "code",
   "execution_count": 5,
   "metadata": {},
   "outputs": [
    {
     "data": {
      "image/png": "[encoded data removed]",
      "text/plain": [
       "<Figure size 640x480 with 1 Axes>"
      ]
     },
     "metadata": {},
     "output_type": "display_data"
    }
   ],
   "source": [
    "Engine.plot_grid_search(df=results,\n",
    "                        title=f'Learning rates {model_checkpoint}',\n",
    "                        column='lr',\n",
    "                        sci_format=False)"
   ]
  },
  {
   "cell_type": "code",
   "execution_count": 6,
   "metadata": {},
   "outputs": [],
   "source": [
    "%reset -f"
   ]
  }
 ],
 "metadata": {
  "kernelspec": {
   "display_name": "Python 3",
   "language": "python",
   "name": "python3"
  },
  "language_info": {
   "codemirror_mode": {
    "name": "ipython",
    "version": 3
   },
   "file_extension": ".py",
   "mimetype": "text/x-python",
   "name": "python",
   "nbconvert_exporter": "python",
   "pygments_lexer": "ipython3",
   "version": "3.11.5"
  },
  "orig_nbformat": 4
 },
 "nbformat": 4,
 "nbformat_minor": 2
}
