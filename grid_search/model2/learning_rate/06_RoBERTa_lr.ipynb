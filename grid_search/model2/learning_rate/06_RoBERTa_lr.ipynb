{
 "cells": [
  {
   "cell_type": "code",
   "execution_count": 1,
   "metadata": {},
   "outputs": [],
   "source": [
    "import os\n",
    "import sys\n",
    "import gc\n",
    "# assuming data, models, engine in flicc directory:\n",
    "flicc_path = os.path.realpath(\"__file__\").split('grid_search')[0]\n",
    "sys.path.append(flicc_path)\n",
    "import torch\n",
    "from data import ClimateDataset\n",
    "from models import ClassificationModel\n",
    "from engine import Engine"
   ]
  },
  {
   "cell_type": "code",
   "execution_count": 2,
   "metadata": {},
   "outputs": [],
   "source": [
    "model_checkpoint='roberta-large'"
   ]
  },
  {
   "cell_type": "code",
   "execution_count": 3,
   "metadata": {},
   "outputs": [],
   "source": [
    "results = {'test_acc':[],\n",
    "           'test_f1':[],\n",
    "           'eval_acc':[],\n",
    "           'eval_f1':[],\n",
    "           'lr':[]}"
   ]
  },
  {
   "cell_type": "code",
   "execution_count": 4,
   "metadata": {},
   "outputs": [
    {
     "name": "stdout",
     "output_type": "stream",
     "text": [
      "Grid search roberta-large, learning rate 1e-05\n"
     ]
    },
    {
     "data": {
      "application/vnd.jupyter.widget-view+json": {
       "model_id": "369f3e21f2ce440f923651e0f7880c8f",
       "version_major": 2,
       "version_minor": 0
      },
      "text/plain": [
       "Filter:   0%|          | 0/1796 [00:00<?, ? examples/s]"
      ]
     },
     "metadata": {},
     "output_type": "display_data"
    },
    {
     "data": {
      "application/vnd.jupyter.widget-view+json": {
       "model_id": "671a6e6a4f044d708809bef40992849e",
       "version_major": 2,
       "version_minor": 0
      },
      "text/plain": [
       "Filter:   0%|          | 0/256 [00:00<?, ? examples/s]"
      ]
     },
     "metadata": {},
     "output_type": "display_data"
    },
    {
     "data": {
      "application/vnd.jupyter.widget-view+json": {
       "model_id": "5104c920e5bf4e0cac08551145201b99",
       "version_major": 2,
       "version_minor": 0
      },
      "text/plain": [
       "Filter:   0%|          | 0/457 [00:00<?, ? examples/s]"
      ]
     },
     "metadata": {},
     "output_type": "display_data"
    },
    {
     "data": {
      "application/vnd.jupyter.widget-view+json": {
       "model_id": "02c0a2cc274a4032a5853038d8f7170a",
       "version_major": 2,
       "version_minor": 0
      },
      "text/plain": [
       "Map:   0%|          | 0/472 [00:00<?, ? examples/s]"
      ]
     },
     "metadata": {},
     "output_type": "display_data"
    },
    {
     "data": {
      "application/vnd.jupyter.widget-view+json": {
       "model_id": "402eb9a5de87489e9ab5d14740b66041",
       "version_major": 2,
       "version_minor": 0
      },
      "text/plain": [
       "Map:   0%|          | 0/67 [00:00<?, ? examples/s]"
      ]
     },
     "metadata": {},
     "output_type": "display_data"
    },
    {
     "data": {
      "application/vnd.jupyter.widget-view+json": {
       "model_id": "56ad4c35e959443d9deced17872e7d25",
       "version_major": 2,
       "version_minor": 0
      },
      "text/plain": [
       "Map:   0%|          | 0/119 [00:00<?, ? examples/s]"
      ]
     },
     "metadata": {},
     "output_type": "display_data"
    },
    {
     "name": "stderr",
     "output_type": "stream",
     "text": [
      "Some weights of RobertaForSequenceClassification were not initialized from the model checkpoint at roberta-large and are newly initialized: ['classifier.dense.bias', 'classifier.out_proj.bias', 'classifier.out_proj.weight', 'classifier.dense.weight']\n",
      "You should probably TRAIN this model on a down-stream task to be able to use it for predictions and inference.\n",
      "You're using a RobertaTokenizerFast tokenizer. Please note that with a fast tokenizer, using the `__call__` method is faster than using a method to encode the text followed by a call to the `pad` method to get a padded encoding.\n"
     ]
    },
    {
     "name": "stdout",
     "output_type": "stream",
     "text": [
      "1 / 30: Train Loss:\t0.5481\tVal Loss:\t1.0713\tAccuracy:\t0.3782\tF1:\t0.1829\n",
      "2 / 30: Train Loss:\t0.5026\tVal Loss:\t0.7534\tAccuracy:\t0.6723\tF1:\t0.6501\n",
      "3 / 30: Train Loss:\t0.3269\tVal Loss:\t0.5481\tAccuracy:\t0.7731\tF1:\t0.7699\n",
      "4 / 30: Train Loss:\t0.2009\tVal Loss:\t0.5986\tAccuracy:\t0.8235\tF1:\t0.8169\n",
      "5 / 30: Train Loss:\t0.1153\tVal Loss:\t0.6658\tAccuracy:\t0.7899\tF1:\t0.7875\n",
      "6 / 30: Train Loss:\t0.0911\tVal Loss:\t0.5852\tAccuracy:\t0.8319\tF1:\t0.8280\n",
      "7 / 30: Train Loss:\t0.0564\tVal Loss:\t0.5299\tAccuracy:\t0.8403\tF1:\t0.8383\n",
      "8 / 30: Train Loss:\t0.0386\tVal Loss:\t0.6042\tAccuracy:\t0.8319\tF1:\t0.8300\n",
      "9 / 30: Train Loss:\t0.0243\tVal Loss:\t0.7008\tAccuracy:\t0.8403\tF1:\t0.8357\n",
      "10 / 30: Train Loss:\t0.0147\tVal Loss:\t1.0543\tAccuracy:\t0.7899\tF1:\t0.7834\n",
      "No improvement for 3 epochs. Stopping early.\n",
      "best (higgest macro f1-score) val results:\n",
      "                    precision    recall  f1-score   support\n",
      "\n",
      " misrepresentation       0.86      0.79      0.82        38\n",
      "oversimplification       0.90      0.78      0.84        36\n",
      "slothful induction       0.79      0.93      0.86        45\n",
      "\n",
      "          accuracy                           0.84       119\n",
      "         macro avg       0.85      0.83      0.84       119\n",
      "      weighted avg       0.85      0.84      0.84       119\n",
      "\n",
      "test results:\n",
      "                    precision    recall  f1-score   support\n",
      "\n",
      " misrepresentation       0.72      0.82      0.77        22\n",
      "oversimplification       0.71      0.85      0.77        20\n",
      "slothful induction       0.83      0.60      0.70        25\n",
      "\n",
      "          accuracy                           0.75        67\n",
      "         macro avg       0.75      0.76      0.75        67\n",
      "      weighted avg       0.76      0.75      0.74        67\n",
      "\n",
      "### ### ### ### ### ### ### ### ### ### \n",
      "{'test_acc': [0.746268656716418], 'test_f1': [0.7454530460468115], 'eval_acc': [0.8403361344537815], 'eval_f1': [0.8382938536281411], 'lr': [1e-05]}\n",
      "### ### ### ### ### ### ### ### ### ### \n",
      "Grid search roberta-large, learning rate 5e-05\n"
     ]
    },
    {
     "data": {
      "application/vnd.jupyter.widget-view+json": {
       "model_id": "810d5005ceda4ae7b16c9d5da5aff57e",
       "version_major": 2,
       "version_minor": 0
      },
      "text/plain": [
       "Map:   0%|          | 0/67 [00:00<?, ? examples/s]"
      ]
     },
     "metadata": {},
     "output_type": "display_data"
    },
    {
     "name": "stderr",
     "output_type": "stream",
     "text": [
      "Some weights of RobertaForSequenceClassification were not initialized from the model checkpoint at roberta-large and are newly initialized: ['classifier.dense.bias', 'classifier.out_proj.bias', 'classifier.out_proj.weight', 'classifier.dense.weight']\n",
      "You should probably TRAIN this model on a down-stream task to be able to use it for predictions and inference.\n",
      "You're using a RobertaTokenizerFast tokenizer. Please note that with a fast tokenizer, using the `__call__` method is faster than using a method to encode the text followed by a call to the `pad` method to get a padded encoding.\n"
     ]
    },
    {
     "name": "stdout",
     "output_type": "stream",
     "text": [
      "1 / 30: Train Loss:\t0.5092\tVal Loss:\t0.6690\tAccuracy:\t0.6639\tF1:\t0.6365\n",
      "2 / 30: Train Loss:\t0.3573\tVal Loss:\t0.6382\tAccuracy:\t0.7479\tF1:\t0.7434\n",
      "3 / 30: Train Loss:\t0.2214\tVal Loss:\t0.6200\tAccuracy:\t0.7983\tF1:\t0.7947\n",
      "4 / 30: Train Loss:\t0.2119\tVal Loss:\t0.6348\tAccuracy:\t0.6975\tF1:\t0.7008\n",
      "5 / 30: Train Loss:\t0.1047\tVal Loss:\t1.0008\tAccuracy:\t0.7815\tF1:\t0.7756\n",
      "6 / 30: Train Loss:\t0.0465\tVal Loss:\t0.9342\tAccuracy:\t0.8067\tF1:\t0.8012\n",
      "7 / 30: Train Loss:\t0.0722\tVal Loss:\t0.8138\tAccuracy:\t0.8067\tF1:\t0.7984\n",
      "8 / 30: Train Loss:\t0.0563\tVal Loss:\t0.9096\tAccuracy:\t0.8067\tF1:\t0.8024\n",
      "9 / 30: Train Loss:\t0.0434\tVal Loss:\t1.5151\tAccuracy:\t0.7395\tF1:\t0.7322\n",
      "10 / 30: Train Loss:\t0.0635\tVal Loss:\t0.9440\tAccuracy:\t0.7815\tF1:\t0.7752\n",
      "11 / 30: Train Loss:\t0.0376\tVal Loss:\t1.5124\tAccuracy:\t0.7311\tF1:\t0.7206\n",
      "No improvement for 3 epochs. Stopping early.\n",
      "best (higgest macro f1-score) val results:\n",
      "                    precision    recall  f1-score   support\n",
      "\n",
      " misrepresentation       0.93      0.68      0.79        38\n",
      "oversimplification       0.93      0.69      0.79        36\n",
      "slothful induction       0.70      1.00      0.83        45\n",
      "\n",
      "          accuracy                           0.81       119\n",
      "         macro avg       0.85      0.79      0.80       119\n",
      "      weighted avg       0.84      0.81      0.80       119\n",
      "\n",
      "test results:\n",
      "                    precision    recall  f1-score   support\n",
      "\n",
      " misrepresentation       0.81      0.77      0.79        22\n",
      "oversimplification       0.76      0.80      0.78        20\n",
      "slothful induction       0.76      0.76      0.76        25\n",
      "\n",
      "          accuracy                           0.78        67\n",
      "         macro avg       0.78      0.78      0.78        67\n",
      "      weighted avg       0.78      0.78      0.78        67\n",
      "\n",
      "### ### ### ### ### ### ### ### ### ### \n",
      "{'test_acc': [0.746268656716418, 0.7761194029850746], 'test_f1': [0.7454530460468115, 0.7770618264322179], 'eval_acc': [0.8403361344537815, 0.8067226890756303], 'eval_f1': [0.8382938536281411, 0.8024058849746923], 'lr': [1e-05, 5e-05]}\n",
      "### ### ### ### ### ### ### ### ### ### \n",
      "Grid search roberta-large, learning rate 0.0001\n"
     ]
    },
    {
     "data": {
      "application/vnd.jupyter.widget-view+json": {
       "model_id": "000c884113e34b198fa57dda1c9db3f6",
       "version_major": 2,
       "version_minor": 0
      },
      "text/plain": [
       "Map:   0%|          | 0/119 [00:00<?, ? examples/s]"
      ]
     },
     "metadata": {},
     "output_type": "display_data"
    },
    {
     "name": "stderr",
     "output_type": "stream",
     "text": [
      "Some weights of RobertaForSequenceClassification were not initialized from the model checkpoint at roberta-large and are newly initialized: ['classifier.dense.bias', 'classifier.out_proj.bias', 'classifier.out_proj.weight', 'classifier.dense.weight']\n",
      "You should probably TRAIN this model on a down-stream task to be able to use it for predictions and inference.\n",
      "You're using a RobertaTokenizerFast tokenizer. Please note that with a fast tokenizer, using the `__call__` method is faster than using a method to encode the text followed by a call to the `pad` method to get a padded encoding.\n"
     ]
    },
    {
     "name": "stdout",
     "output_type": "stream",
     "text": [
      "1 / 30: Train Loss:\t0.5510\tVal Loss:\t0.9461\tAccuracy:\t0.5210\tF1:\t0.5068\n",
      "2 / 30: Train Loss:\t0.4976\tVal Loss:\t1.0624\tAccuracy:\t0.3950\tF1:\t0.3379\n",
      "3 / 30: Train Loss:\t0.5631\tVal Loss:\t1.0958\tAccuracy:\t0.3782\tF1:\t0.1829\n",
      "4 / 30: Train Loss:\t0.5537\tVal Loss:\t1.0943\tAccuracy:\t0.3782\tF1:\t0.1829\n",
      "No improvement for 3 epochs. Stopping early.\n",
      "best (higgest macro f1-score) val results:\n",
      "                    precision    recall  f1-score   support\n",
      "\n",
      " misrepresentation       0.42      0.29      0.34        38\n",
      "oversimplification       0.45      0.78      0.57        36\n",
      "slothful induction       0.74      0.51      0.61        45\n",
      "\n",
      "          accuracy                           0.52       119\n",
      "         macro avg       0.54      0.53      0.51       119\n",
      "      weighted avg       0.55      0.52      0.51       119\n",
      "\n",
      "test results:\n",
      "                    precision    recall  f1-score   support\n",
      "\n",
      " misrepresentation       0.75      0.68      0.71        22\n",
      "oversimplification       0.49      0.90      0.63        20\n",
      "slothful induction       0.70      0.28      0.40        25\n",
      "\n",
      "          accuracy                           0.60        67\n",
      "         macro avg       0.65      0.62      0.58        67\n",
      "      weighted avg       0.65      0.60      0.57        67\n",
      "\n",
      "### ### ### ### ### ### ### ### ### ### \n",
      "{'test_acc': [0.746268656716418, 0.7761194029850746, 0.5970149253731343], 'test_f1': [0.7454530460468115, 0.7770618264322179, 0.581954887218045], 'eval_acc': [0.8403361344537815, 0.8067226890756303, 0.5210084033613446], 'eval_f1': [0.8382938536281411, 0.8024058849746923, 0.5068139097744361], 'lr': [1e-05, 5e-05, 0.0001]}\n",
      "### ### ### ### ### ### ### ### ### ### \n"
     ]
    }
   ],
   "source": [
    "learning_rates = [1.0e-5, 5.0e-5 ,1.0e-4]\n",
    "\n",
    "for lr in learning_rates:\n",
    "    print(f'Grid search {model_checkpoint}, learning rate {lr}')\n",
    "    data = ClimateDataset(model_to_train=2,model_checkpoint=model_checkpoint,dataset_url=flicc_path,batch_size=16)\n",
    "    data.setup_dataloaders()\n",
    "    model = ClassificationModel(model_checkpoint=data.model_checkpoint,num_labels=data.num_labels)\n",
    "    trainer = Engine(epochs=30,labels=data.labels)\n",
    "    trainer.model = model.model\n",
    "    test_acc, test_f1, eval_acc, eval_f1 = trainer.run(lr=lr,\n",
    "                                                       wd=0.0,\n",
    "                                                       train_dataloader=data.train_dataloader,\n",
    "                                                       eval_dataloader=data.eval_dataloader,\n",
    "                                                       test_dataloader=data.test_dataloader,\n",
    "                                                       accumulation_steps=2,\n",
    "                                                       early_stop=3)\n",
    "    results['test_acc'].append(test_acc)\n",
    "    results['test_f1'].append(test_f1)\n",
    "    results['eval_acc'].append(eval_acc)\n",
    "    results['eval_f1'].append(eval_f1)\n",
    "    results['lr'].append(lr)\n",
    "    print('### '*10)\n",
    "    print(results)\n",
    "    print('### '*10)\n",
    "    with torch.no_grad():\n",
    "        torch.cuda.empty_cache()\n",
    "    del data, model, trainer, test_acc, test_f1, eval_acc, eval_f1\n",
    "    gc.collect()"
   ]
  },
  {
   "cell_type": "code",
   "execution_count": 5,
   "metadata": {},
   "outputs": [
    {
     "data": {
      "image/png": "[encoded data removed]",
      "text/plain": [
       "<Figure size 640x480 with 1 Axes>"
      ]
     },
     "metadata": {},
     "output_type": "display_data"
    }
   ],
   "source": [
    "Engine.plot_grid_search(df=results,\n",
    "                        title=f'Learning rates {model_checkpoint}',\n",
    "                        column='lr',\n",
    "                        sci_format=False)"
   ]
  },
  {
   "cell_type": "code",
   "execution_count": 6,
   "metadata": {},
   "outputs": [],
   "source": [
    "%reset -f"
   ]
  }
 ],
 "metadata": {
  "kernelspec": {
   "display_name": "Python 3",
   "language": "python",
   "name": "python3"
  },
  "language_info": {
   "codemirror_mode": {
    "name": "ipython",
    "version": 3
   },
   "file_extension": ".py",
   "mimetype": "text/x-python",
   "name": "python",
   "nbconvert_exporter": "python",
   "pygments_lexer": "ipython3",
   "version": "3.11.5"
  },
  "orig_nbformat": 4
 },
 "nbformat": 4,
 "nbformat_minor": 2
}
