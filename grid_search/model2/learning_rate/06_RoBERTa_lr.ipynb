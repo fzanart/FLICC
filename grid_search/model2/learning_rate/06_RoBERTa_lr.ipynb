{
 "cells": [
  {
   "cell_type": "code",
   "execution_count": 1,
   "metadata": {},
   "outputs": [],
   "source": [
    "import torch\n",
    "from data import ClimateDataset\n",
    "from models import ClassificationModel\n",
    "from engine import Engine"
   ]
  },
  {
   "cell_type": "code",
   "execution_count": 2,
   "metadata": {},
   "outputs": [],
   "source": [
    "model_checkpoint='roberta-large'\n",
    "\n",
    "# the commands below didn't work inside for loop and got CUDA out of memory Error.\n",
    "#     with torch.no_grad():\n",
    "#        torch.cuda.empty_cache()\n",
    "#    del data, model, trainer, acc, f1\n",
    "# Instead of running these commands in a loop, execute them cell by cell, restarting between them.\n",
    "# Each cell will print its results. To keep the results and avoid re-running specific cells, skip them intermittently on each run."
   ]
  },
  {
   "cell_type": "code",
   "execution_count": 3,
   "metadata": {},
   "outputs": [],
   "source": [
    "results = {'acc':[],\n",
    "           'f1':[],\n",
    "           'lr':[]}"
   ]
  },
  {
   "cell_type": "code",
   "execution_count": 4,
   "metadata": {},
   "outputs": [
    {
     "name": "stdout",
     "output_type": "stream",
     "text": [
      "Grid search roberta-large, learning rate 1e-05\n"
     ]
    },
    {
     "data": {
      "application/vnd.jupyter.widget-view+json": {
       "model_id": "4a3a9fffe4354e3ea68b7587db291588",
       "version_major": 2,
       "version_minor": 0
      },
      "text/plain": [
       "Filter:   0%|          | 0/1796 [00:00<?, ? examples/s]"
      ]
     },
     "metadata": {},
     "output_type": "display_data"
    },
    {
     "data": {
      "application/vnd.jupyter.widget-view+json": {
       "model_id": "6b68fe5354034564b0873b39057e7309",
       "version_major": 2,
       "version_minor": 0
      },
      "text/plain": [
       "Filter:   0%|          | 0/256 [00:00<?, ? examples/s]"
      ]
     },
     "metadata": {},
     "output_type": "display_data"
    },
    {
     "data": {
      "application/vnd.jupyter.widget-view+json": {
       "model_id": "6da81f8901ab4208b00c78a63275c075",
       "version_major": 2,
       "version_minor": 0
      },
      "text/plain": [
       "Filter:   0%|          | 0/457 [00:00<?, ? examples/s]"
      ]
     },
     "metadata": {},
     "output_type": "display_data"
    },
    {
     "data": {
      "application/vnd.jupyter.widget-view+json": {
       "model_id": "6aaa029832a345978413605f7d0bd21e",
       "version_major": 2,
       "version_minor": 0
      },
      "text/plain": [
       "Map:   0%|          | 0/472 [00:00<?, ? examples/s]"
      ]
     },
     "metadata": {},
     "output_type": "display_data"
    },
    {
     "data": {
      "application/vnd.jupyter.widget-view+json": {
       "model_id": "3279318dce244e12bb66cef110e37c58",
       "version_major": 2,
       "version_minor": 0
      },
      "text/plain": [
       "Map:   0%|          | 0/67 [00:00<?, ? examples/s]"
      ]
     },
     "metadata": {},
     "output_type": "display_data"
    },
    {
     "data": {
      "application/vnd.jupyter.widget-view+json": {
       "model_id": "d6dee26aff404192aa9dfe04110e8506",
       "version_major": 2,
       "version_minor": 0
      },
      "text/plain": [
       "Map:   0%|          | 0/119 [00:00<?, ? examples/s]"
      ]
     },
     "metadata": {},
     "output_type": "display_data"
    },
    {
     "name": "stderr",
     "output_type": "stream",
     "text": [
      "Some weights of RobertaForSequenceClassification were not initialized from the model checkpoint at roberta-large and are newly initialized: ['classifier.out_proj.weight', 'classifier.dense.weight', 'classifier.dense.bias', 'classifier.out_proj.bias']\n",
      "You should probably TRAIN this model on a down-stream task to be able to use it for predictions and inference.\n",
      "You're using a RobertaTokenizerFast tokenizer. Please note that with a fast tokenizer, using the `__call__` method is faster than using a method to encode the text followed by a call to the `pad` method to get a padded encoding.\n"
     ]
    },
    {
     "name": "stdout",
     "output_type": "stream",
     "text": [
      "1 / 30: Train Loss:\t0.5481\tVal Loss:\t1.0713\tAccuracy:\t0.3782\tF1:\t0.1829\n",
      "2 / 30: Train Loss:\t0.5026\tVal Loss:\t0.7534\tAccuracy:\t0.6723\tF1:\t0.6501\n",
      "3 / 30: Train Loss:\t0.3269\tVal Loss:\t0.5481\tAccuracy:\t0.7731\tF1:\t0.7699\n",
      "4 / 30: Train Loss:\t0.2009\tVal Loss:\t0.5986\tAccuracy:\t0.8235\tF1:\t0.8169\n",
      "5 / 30: Train Loss:\t0.1153\tVal Loss:\t0.6658\tAccuracy:\t0.7899\tF1:\t0.7875\n",
      "6 / 30: Train Loss:\t0.0911\tVal Loss:\t0.5852\tAccuracy:\t0.8319\tF1:\t0.8280\n",
      "7 / 30: Train Loss:\t0.0564\tVal Loss:\t0.5299\tAccuracy:\t0.8403\tF1:\t0.8383\n",
      "8 / 30: Train Loss:\t0.0386\tVal Loss:\t0.6042\tAccuracy:\t0.8319\tF1:\t0.8300\n",
      "9 / 30: Train Loss:\t0.0243\tVal Loss:\t0.7008\tAccuracy:\t0.8403\tF1:\t0.8357\n",
      "10 / 30: Train Loss:\t0.0147\tVal Loss:\t1.0543\tAccuracy:\t0.7899\tF1:\t0.7834\n",
      "No improvement for 3 epochs. Stopping early.\n",
      "best (higgest macro f1-score) val results:\n",
      "                    precision    recall  f1-score   support\n",
      "\n",
      " misrepresentation       0.96      0.58      0.72        38\n",
      "oversimplification       0.90      0.75      0.82        36\n",
      "slothful induction       0.68      1.00      0.81        45\n",
      "\n",
      "          accuracy                           0.79       119\n",
      "         macro avg       0.85      0.78      0.78       119\n",
      "      weighted avg       0.84      0.79      0.78       119\n",
      "\n",
      "test results:\n",
      "                    precision    recall  f1-score   support\n",
      "\n",
      " misrepresentation       0.80      0.55      0.65        22\n",
      "oversimplification       0.84      0.80      0.82        20\n",
      "slothful induction       0.64      0.84      0.72        25\n",
      "\n",
      "          accuracy                           0.73        67\n",
      "         macro avg       0.76      0.73      0.73        67\n",
      "      weighted avg       0.75      0.73      0.73        67\n",
      "\n",
      "### ### ### ### ### ### ### ### ### ### \n",
      "{'acc': [0.7313432835820896], 'f1': [0.7310998000653172], 'lr': [1e-05]}\n",
      "### ### ### ### ### ### ### ### ### ### \n"
     ]
    }
   ],
   "source": [
    "lr = 1.0e-5\n",
    "\n",
    "print(f'Grid search {model_checkpoint}, learning rate {lr}')\n",
    "data = ClimateDataset(model_to_train=2,model_checkpoint=model_checkpoint,batch_size=16)\n",
    "data.setup_dataloaders()\n",
    "model = ClassificationModel(model_checkpoint=data.model_checkpoint,num_labels=data.num_labels)\n",
    "trainer = Engine(epochs=30,labels=data.labels)\n",
    "trainer.model = model.model\n",
    "acc, f1 = trainer.run(lr=lr,\n",
    "                      wd=0.0,\n",
    "                      train_dataloader=data.train_dataloader,\n",
    "                      eval_dataloader=data.eval_dataloader,\n",
    "                      test_dataloader=data.test_dataloader,\n",
    "                      accumulation_steps=2,\n",
    "                      early_stop=3)\n",
    "results['acc'].append(acc)\n",
    "results['f1'].append(f1)\n",
    "results['lr'].append(lr)\n",
    "print('### '*10)\n",
    "print(results)\n",
    "print('### '*10)"
   ]
  },
  {
   "cell_type": "code",
   "execution_count": 4,
   "metadata": {},
   "outputs": [
    {
     "name": "stdout",
     "output_type": "stream",
     "text": [
      "Grid search roberta-large, learning rate 5e-05\n"
     ]
    },
    {
     "data": {
      "application/vnd.jupyter.widget-view+json": {
       "model_id": "1f203b6269d0421d9b7f1d4e8cb4188e",
       "version_major": 2,
       "version_minor": 0
      },
      "text/plain": [
       "Map:   0%|          | 0/67 [00:00<?, ? examples/s]"
      ]
     },
     "metadata": {},
     "output_type": "display_data"
    },
    {
     "name": "stderr",
     "output_type": "stream",
     "text": [
      "Some weights of RobertaForSequenceClassification were not initialized from the model checkpoint at roberta-large and are newly initialized: ['classifier.dense.bias', 'classifier.out_proj.bias', 'classifier.out_proj.weight', 'classifier.dense.weight']\n",
      "You should probably TRAIN this model on a down-stream task to be able to use it for predictions and inference.\n",
      "You're using a RobertaTokenizerFast tokenizer. Please note that with a fast tokenizer, using the `__call__` method is faster than using a method to encode the text followed by a call to the `pad` method to get a padded encoding.\n"
     ]
    },
    {
     "name": "stdout",
     "output_type": "stream",
     "text": [
      "1 / 30: Train Loss:\t0.5092\tVal Loss:\t0.6690\tAccuracy:\t0.6639\tF1:\t0.6365\n",
      "2 / 30: Train Loss:\t0.3573\tVal Loss:\t0.6382\tAccuracy:\t0.7479\tF1:\t0.7434\n",
      "3 / 30: Train Loss:\t0.2214\tVal Loss:\t0.6200\tAccuracy:\t0.7983\tF1:\t0.7947\n",
      "4 / 30: Train Loss:\t0.2119\tVal Loss:\t0.6348\tAccuracy:\t0.6975\tF1:\t0.7008\n",
      "5 / 30: Train Loss:\t0.1047\tVal Loss:\t1.0008\tAccuracy:\t0.7815\tF1:\t0.7756\n",
      "6 / 30: Train Loss:\t0.0465\tVal Loss:\t0.9342\tAccuracy:\t0.8067\tF1:\t0.8012\n",
      "7 / 30: Train Loss:\t0.0722\tVal Loss:\t0.8138\tAccuracy:\t0.8067\tF1:\t0.7984\n",
      "8 / 30: Train Loss:\t0.0563\tVal Loss:\t0.9096\tAccuracy:\t0.8067\tF1:\t0.8024\n",
      "9 / 30: Train Loss:\t0.0434\tVal Loss:\t1.5151\tAccuracy:\t0.7395\tF1:\t0.7322\n",
      "10 / 30: Train Loss:\t0.0635\tVal Loss:\t0.9440\tAccuracy:\t0.7815\tF1:\t0.7752\n",
      "11 / 30: Train Loss:\t0.0376\tVal Loss:\t1.5124\tAccuracy:\t0.7311\tF1:\t0.7206\n",
      "No improvement for 3 epochs. Stopping early.\n",
      "best (higgest macro f1-score) val results:\n",
      "                    precision    recall  f1-score   support\n",
      "\n",
      " misrepresentation       1.00      0.45      0.62        38\n",
      "oversimplification       0.93      0.69      0.79        36\n",
      "slothful induction       0.60      1.00      0.75        45\n",
      "\n",
      "          accuracy                           0.73       119\n",
      "         macro avg       0.84      0.71      0.72       119\n",
      "      weighted avg       0.83      0.73      0.72       119\n",
      "\n",
      "test results:\n",
      "                    precision    recall  f1-score   support\n",
      "\n",
      " misrepresentation       0.92      0.55      0.69        22\n",
      "oversimplification       0.79      0.75      0.77        20\n",
      "slothful induction       0.63      0.88      0.73        25\n",
      "\n",
      "          accuracy                           0.73        67\n",
      "         macro avg       0.78      0.73      0.73        67\n",
      "      weighted avg       0.77      0.73      0.73        67\n",
      "\n",
      "### ### ### ### ### ### ### ### ### ### \n",
      "{'acc': [0.7313432835820896], 'f1': [0.7294261294261294], 'lr': [5e-05]}\n",
      "### ### ### ### ### ### ### ### ### ### \n"
     ]
    }
   ],
   "source": [
    "lr = 5.0e-5\n",
    "\n",
    "print(f'Grid search {model_checkpoint}, learning rate {lr}')\n",
    "data = ClimateDataset(model_to_train=2,model_checkpoint=model_checkpoint,batch_size=16)\n",
    "data.setup_dataloaders()\n",
    "model = ClassificationModel(model_checkpoint=data.model_checkpoint,num_labels=data.num_labels)\n",
    "trainer = Engine(epochs=30,labels=data.labels)\n",
    "trainer.model = model.model\n",
    "acc, f1 = trainer.run(lr=lr,\n",
    "                      wd=0.0,\n",
    "                      train_dataloader=data.train_dataloader,\n",
    "                      eval_dataloader=data.eval_dataloader,\n",
    "                      test_dataloader=data.test_dataloader,\n",
    "                      accumulation_steps=2,\n",
    "                      early_stop=3)\n",
    "results['acc'].append(acc)\n",
    "results['f1'].append(f1)\n",
    "results['lr'].append(lr)\n",
    "print('### '*10)\n",
    "print(results)\n",
    "print('### '*10)"
   ]
  },
  {
   "cell_type": "code",
   "execution_count": 4,
   "metadata": {},
   "outputs": [
    {
     "name": "stdout",
     "output_type": "stream",
     "text": [
      "Grid search roberta-large, learning rate 0.0001\n"
     ]
    },
    {
     "data": {
      "application/vnd.jupyter.widget-view+json": {
       "model_id": "0b3bdc5e17dc4ab59b5af4cce34c5696",
       "version_major": 2,
       "version_minor": 0
      },
      "text/plain": [
       "Map:   0%|          | 0/119 [00:00<?, ? examples/s]"
      ]
     },
     "metadata": {},
     "output_type": "display_data"
    },
    {
     "name": "stderr",
     "output_type": "stream",
     "text": [
      "Some weights of RobertaForSequenceClassification were not initialized from the model checkpoint at roberta-large and are newly initialized: ['classifier.out_proj.weight', 'classifier.dense.bias', 'classifier.out_proj.bias', 'classifier.dense.weight']\n",
      "You should probably TRAIN this model on a down-stream task to be able to use it for predictions and inference.\n",
      "You're using a RobertaTokenizerFast tokenizer. Please note that with a fast tokenizer, using the `__call__` method is faster than using a method to encode the text followed by a call to the `pad` method to get a padded encoding.\n"
     ]
    },
    {
     "name": "stdout",
     "output_type": "stream",
     "text": [
      "1 / 30: Train Loss:\t0.5510\tVal Loss:\t0.9461\tAccuracy:\t0.5210\tF1:\t0.5068\n",
      "2 / 30: Train Loss:\t0.4976\tVal Loss:\t1.0624\tAccuracy:\t0.3950\tF1:\t0.3379\n",
      "3 / 30: Train Loss:\t0.5631\tVal Loss:\t1.0958\tAccuracy:\t0.3782\tF1:\t0.1829\n",
      "4 / 30: Train Loss:\t0.5537\tVal Loss:\t1.0943\tAccuracy:\t0.3782\tF1:\t0.1829\n",
      "No improvement for 3 epochs. Stopping early.\n",
      "best (higgest macro f1-score) val results:\n",
      "                    precision    recall  f1-score   support\n",
      "\n",
      " misrepresentation       0.00      0.00      0.00        38\n",
      "oversimplification       0.00      0.00      0.00        36\n",
      "slothful induction       0.38      1.00      0.55        45\n",
      "\n",
      "          accuracy                           0.38       119\n",
      "         macro avg       0.13      0.33      0.18       119\n",
      "      weighted avg       0.14      0.38      0.21       119\n",
      "\n",
      "test results:\n",
      "                    precision    recall  f1-score   support\n",
      "\n",
      " misrepresentation       0.00      0.00      0.00        22\n",
      "oversimplification       0.00      0.00      0.00        20\n",
      "slothful induction       0.37      1.00      0.54        25\n",
      "\n",
      "          accuracy                           0.37        67\n",
      "         macro avg       0.12      0.33      0.18        67\n",
      "      weighted avg       0.14      0.37      0.20        67\n",
      "\n",
      "### ### ### ### ### ### ### ### ### ### \n",
      "{'acc': [0.373134328358209], 'f1': [0.1811594202898551], 'lr': [0.0001]}\n",
      "### ### ### ### ### ### ### ### ### ### \n"
     ]
    }
   ],
   "source": [
    "lr = 1.0e-4\n",
    "\n",
    "print(f'Grid search {model_checkpoint}, learning rate {lr}')\n",
    "data = ClimateDataset(model_to_train=2,model_checkpoint=model_checkpoint,batch_size=16)\n",
    "data.setup_dataloaders()\n",
    "model = ClassificationModel(model_checkpoint=data.model_checkpoint,num_labels=data.num_labels)\n",
    "trainer = Engine(epochs=30,labels=data.labels)\n",
    "trainer.model = model.model\n",
    "acc, f1 = trainer.run(lr=lr,\n",
    "                      wd=0.0,\n",
    "                      train_dataloader=data.train_dataloader,\n",
    "                      eval_dataloader=data.eval_dataloader,\n",
    "                      test_dataloader=data.test_dataloader,\n",
    "                      accumulation_steps=2,\n",
    "                      early_stop=3)\n",
    "results['acc'].append(acc)\n",
    "results['f1'].append(f1)\n",
    "results['lr'].append(lr)\n",
    "print('### '*10)\n",
    "print(results)\n",
    "print('### '*10)"
   ]
  },
  {
   "cell_type": "code",
   "execution_count": 28,
   "metadata": {},
   "outputs": [],
   "source": [
    "from collections import defaultdict \n",
    "\n",
    "a = {'acc': [0.7313432835820896], 'f1': [0.7310998000653172], 'lr': [1e-05]}\n",
    "b = {'acc': [0.7313432835820896], 'f1': [0.7294261294261294], 'lr': [5e-05]}\n",
    "c = {'acc': [0.373134328358209], 'f1': [0.1811594202898551], 'lr': [0.0001]}\n",
    "\n",
    "results = defaultdict(list)\n",
    "for d in (a,b,c):\n",
    "    for k,v in d.items():\n",
    "        results[k].append(v[0])"
   ]
  },
  {
   "cell_type": "code",
   "execution_count": 29,
   "metadata": {},
   "outputs": [],
   "source": [
    "import matplotlib.pyplot as plt\n",
    "import seaborn as sns\n",
    "import pandas as pd"
   ]
  },
  {
   "cell_type": "code",
   "execution_count": 30,
   "metadata": {},
   "outputs": [
    {
     "data": {
      "image/png": "[encoded data removed]",
      "text/plain": [
       "<Figure size 640x480 with 1 Axes>"
      ]
     },
     "metadata": {},
     "output_type": "display_data"
    }
   ],
   "source": [
    "def plot_grid_search(df, title):\n",
    "\n",
    "    # Create the plot\n",
    "    ax = df.plot(x='lr', y=['acc', 'f1'], marker='o', linestyle='-')\n",
    "\n",
    "    # Set y-axis range between 0 and 1\n",
    "    plt.ylim(0, 1)\n",
    "\n",
    "    # Annotate points with F1 scores\n",
    "    for i, row in df.iterrows(): \n",
    "        ax.annotate(f'{row[\"f1\"]:.2f}', (row[\"lr\"], row[\"f1\"]), textcoords='offset points', xytext=(0, -10), ha='center')\n",
    "\n",
    "    # Annotate points with Acc scores\n",
    "    for i, row in df.iterrows():\n",
    "        ax.annotate(f'{row[\"acc\"]:.2f}', (row[\"lr\"], row[\"acc\"]), textcoords='offset points', xytext=(0, 10), ha='center')\n",
    "    \n",
    "    # \n",
    "    plt.xticks(df['lr'], [f'{val:.0e}' for val in df['lr']], ha='center')\n",
    "    # plt.xscale('log')\n",
    "    plt.minorticks_off()\n",
    "\n",
    "    plt.title(title)\n",
    "    plt.xlabel('lr')\n",
    "    plt.ylabel('Score')\n",
    "    plt.show()\n",
    "\n",
    "plot_grid_search(pd.DataFrame(results), f'Learning rates {model_checkpoint}')"
   ]
  }
 ],
 "metadata": {
  "kernelspec": {
   "display_name": "Python 3",
   "language": "python",
   "name": "python3"
  },
  "language_info": {
   "codemirror_mode": {
    "name": "ipython",
    "version": 3
   },
   "file_extension": ".py",
   "mimetype": "text/x-python",
   "name": "python",
   "nbconvert_exporter": "python",
   "pygments_lexer": "ipython3",
   "version": "3.11.5"
  },
  "orig_nbformat": 4
 },
 "nbformat": 4,
 "nbformat_minor": 2
}
