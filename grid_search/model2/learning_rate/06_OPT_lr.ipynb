{
 "cells": [
  {
   "cell_type": "code",
   "execution_count": 1,
   "metadata": {},
   "outputs": [],
   "source": [
    "import torch\n",
    "from data import ClimateDataset\n",
    "from models import ClassificationModel\n",
    "from engine import Engine"
   ]
  },
  {
   "cell_type": "code",
   "execution_count": 2,
   "metadata": {},
   "outputs": [],
   "source": [
    "model_checkpoint='facebook/opt-350m'"
   ]
  },
  {
   "cell_type": "code",
   "execution_count": 3,
   "metadata": {},
   "outputs": [],
   "source": [
    "results = {'acc':[],\n",
    "           'f1':[],\n",
    "           'lr':[]}"
   ]
  },
  {
   "cell_type": "code",
   "execution_count": 4,
   "metadata": {},
   "outputs": [
    {
     "name": "stdout",
     "output_type": "stream",
     "text": [
      "Grid search facebook/opt-350m, learning rate 0.0001\n"
     ]
    },
    {
     "data": {
      "application/vnd.jupyter.widget-view+json": {
       "model_id": "f7a240b0a9be43778aaf71ae473ad8a5",
       "version_major": 2,
       "version_minor": 0
      },
      "text/plain": [
       "Filter:   0%|          | 0/1796 [00:00<?, ? examples/s]"
      ]
     },
     "metadata": {},
     "output_type": "display_data"
    },
    {
     "data": {
      "application/vnd.jupyter.widget-view+json": {
       "model_id": "6eb3f270efd0404782336b4f052ed636",
       "version_major": 2,
       "version_minor": 0
      },
      "text/plain": [
       "Filter:   0%|          | 0/256 [00:00<?, ? examples/s]"
      ]
     },
     "metadata": {},
     "output_type": "display_data"
    },
    {
     "data": {
      "application/vnd.jupyter.widget-view+json": {
       "model_id": "0c4cccf13b9449abb657a952c0b2c40f",
       "version_major": 2,
       "version_minor": 0
      },
      "text/plain": [
       "Filter:   0%|          | 0/457 [00:00<?, ? examples/s]"
      ]
     },
     "metadata": {},
     "output_type": "display_data"
    },
    {
     "data": {
      "application/vnd.jupyter.widget-view+json": {
       "model_id": "4d23aac7ee324600a222420049317124",
       "version_major": 2,
       "version_minor": 0
      },
      "text/plain": [
       "Map:   0%|          | 0/472 [00:00<?, ? examples/s]"
      ]
     },
     "metadata": {},
     "output_type": "display_data"
    },
    {
     "name": "stderr",
     "output_type": "stream",
     "text": [
      "Asking to truncate to max_length but no maximum length is provided and the model has no predefined maximum length. Default to no truncation.\n"
     ]
    },
    {
     "data": {
      "application/vnd.jupyter.widget-view+json": {
       "model_id": "776b8eb96c2a4a0abc5be6f3b7403c71",
       "version_major": 2,
       "version_minor": 0
      },
      "text/plain": [
       "Map:   0%|          | 0/67 [00:00<?, ? examples/s]"
      ]
     },
     "metadata": {},
     "output_type": "display_data"
    },
    {
     "data": {
      "application/vnd.jupyter.widget-view+json": {
       "model_id": "02174e2a2f604ea1bd37904f69dfcdf3",
       "version_major": 2,
       "version_minor": 0
      },
      "text/plain": [
       "Map:   0%|          | 0/119 [00:00<?, ? examples/s]"
      ]
     },
     "metadata": {},
     "output_type": "display_data"
    },
    {
     "name": "stderr",
     "output_type": "stream",
     "text": [
      "Some weights of OPTForSequenceClassification were not initialized from the model checkpoint at facebook/opt-350m and are newly initialized: ['score.weight']\n",
      "You should probably TRAIN this model on a down-stream task to be able to use it for predictions and inference.\n",
      "You're using a GPT2TokenizerFast tokenizer. Please note that with a fast tokenizer, using the `__call__` method is faster than using a method to encode the text followed by a call to the `pad` method to get a padded encoding.\n"
     ]
    },
    {
     "name": "stdout",
     "output_type": "stream",
     "text": [
      "1 / 30: Train Loss:\t1.7204\tVal Loss:\t1.1727\tAccuracy:\t0.3193\tF1:\t0.1614\n",
      "2 / 30: Train Loss:\t0.6107\tVal Loss:\t1.2251\tAccuracy:\t0.3193\tF1:\t0.1614\n",
      "3 / 30: Train Loss:\t0.5815\tVal Loss:\t1.1821\tAccuracy:\t0.3193\tF1:\t0.1614\n",
      "4 / 30: Train Loss:\t0.5839\tVal Loss:\t1.1813\tAccuracy:\t0.3193\tF1:\t0.1614\n",
      "No improvement for 3 epochs. Stopping early.\n",
      "best (higgest macro f1-score) val results:\n",
      "                    precision    recall  f1-score   support\n",
      "\n",
      " misrepresentation       0.32      1.00      0.48        38\n",
      "oversimplification       0.00      0.00      0.00        36\n",
      "slothful induction       0.00      0.00      0.00        45\n",
      "\n",
      "          accuracy                           0.32       119\n",
      "         macro avg       0.11      0.33      0.16       119\n",
      "      weighted avg       0.10      0.32      0.15       119\n",
      "\n",
      "test results:\n",
      "                    precision    recall  f1-score   support\n",
      "\n",
      " misrepresentation       0.33      1.00      0.49        22\n",
      "oversimplification       0.00      0.00      0.00        20\n",
      "slothful induction       0.00      0.00      0.00        25\n",
      "\n",
      "          accuracy                           0.33        67\n",
      "         macro avg       0.11      0.33      0.16        67\n",
      "      weighted avg       0.11      0.33      0.16        67\n",
      "\n",
      "### ### ### ### ### ### ### ### ### ### \n",
      "{'acc': [0.3283582089552239], 'f1': [0.1647940074906367], 'lr': [0.0001]}\n",
      "### ### ### ### ### ### ### ### ### ### \n",
      "Grid search facebook/opt-350m, learning rate 5e-05\n"
     ]
    },
    {
     "data": {
      "application/vnd.jupyter.widget-view+json": {
       "model_id": "2f5533ab36794d16bb2fbfe27c7d1dd5",
       "version_major": 2,
       "version_minor": 0
      },
      "text/plain": [
       "Map:   0%|          | 0/67 [00:00<?, ? examples/s]"
      ]
     },
     "metadata": {},
     "output_type": "display_data"
    },
    {
     "name": "stderr",
     "output_type": "stream",
     "text": [
      "Asking to truncate to max_length but no maximum length is provided and the model has no predefined maximum length. Default to no truncation.\n",
      "Some weights of OPTForSequenceClassification were not initialized from the model checkpoint at facebook/opt-350m and are newly initialized: ['score.weight']\n",
      "You should probably TRAIN this model on a down-stream task to be able to use it for predictions and inference.\n",
      "You're using a GPT2TokenizerFast tokenizer. Please note that with a fast tokenizer, using the `__call__` method is faster than using a method to encode the text followed by a call to the `pad` method to get a padded encoding.\n"
     ]
    },
    {
     "name": "stdout",
     "output_type": "stream",
     "text": [
      "1 / 30: Train Loss:\t1.5031\tVal Loss:\t1.2496\tAccuracy:\t0.3025\tF1:\t0.1548\n",
      "2 / 30: Train Loss:\t0.5940\tVal Loss:\t0.9336\tAccuracy:\t0.5378\tF1:\t0.4689\n",
      "3 / 30: Train Loss:\t0.5140\tVal Loss:\t1.2618\tAccuracy:\t0.4874\tF1:\t0.4475\n",
      "4 / 30: Train Loss:\t0.5725\tVal Loss:\t1.8685\tAccuracy:\t0.4034\tF1:\t0.3217\n",
      "5 / 30: Train Loss:\t0.6134\tVal Loss:\t1.2581\tAccuracy:\t0.4874\tF1:\t0.4520\n",
      "No improvement for 3 epochs. Stopping early.\n",
      "best (higgest macro f1-score) val results:\n",
      "                    precision    recall  f1-score   support\n",
      "\n",
      " misrepresentation       0.44      0.50      0.47        38\n",
      "oversimplification       1.00      0.19      0.33        36\n",
      "slothful induction       0.46      0.71      0.56        45\n",
      "\n",
      "          accuracy                           0.49       119\n",
      "         macro avg       0.64      0.47      0.45       119\n",
      "      weighted avg       0.62      0.49      0.46       119\n",
      "\n",
      "test results:\n",
      "                    precision    recall  f1-score   support\n",
      "\n",
      " misrepresentation       0.33      0.55      0.41        22\n",
      "oversimplification       0.75      0.15      0.25        20\n",
      "slothful induction       0.48      0.52      0.50        25\n",
      "\n",
      "          accuracy                           0.42        67\n",
      "         macro avg       0.52      0.41      0.39        67\n",
      "      weighted avg       0.51      0.42      0.40        67\n",
      "\n",
      "### ### ### ### ### ### ### ### ### ### \n",
      "{'acc': [0.3283582089552239, 0.417910447761194], 'f1': [0.1647940074906367, 0.3879310344827586], 'lr': [0.0001, 5e-05]}\n",
      "### ### ### ### ### ### ### ### ### ### \n",
      "Grid search facebook/opt-350m, learning rate 1e-05\n"
     ]
    },
    {
     "data": {
      "application/vnd.jupyter.widget-view+json": {
       "model_id": "3e84c45bb6a54311b5e01db665ded411",
       "version_major": 2,
       "version_minor": 0
      },
      "text/plain": [
       "Map:   0%|          | 0/119 [00:00<?, ? examples/s]"
      ]
     },
     "metadata": {},
     "output_type": "display_data"
    },
    {
     "name": "stderr",
     "output_type": "stream",
     "text": [
      "Asking to truncate to max_length but no maximum length is provided and the model has no predefined maximum length. Default to no truncation.\n",
      "Some weights of OPTForSequenceClassification were not initialized from the model checkpoint at facebook/opt-350m and are newly initialized: ['score.weight']\n",
      "You should probably TRAIN this model on a down-stream task to be able to use it for predictions and inference.\n",
      "You're using a GPT2TokenizerFast tokenizer. Please note that with a fast tokenizer, using the `__call__` method is faster than using a method to encode the text followed by a call to the `pad` method to get a padded encoding.\n"
     ]
    },
    {
     "name": "stdout",
     "output_type": "stream",
     "text": [
      "1 / 30: Train Loss:\t1.1996\tVal Loss:\t1.2127\tAccuracy:\t0.4118\tF1:\t0.3465\n",
      "2 / 30: Train Loss:\t0.6238\tVal Loss:\t0.9765\tAccuracy:\t0.4034\tF1:\t0.3378\n",
      "3 / 30: Train Loss:\t0.5025\tVal Loss:\t0.8033\tAccuracy:\t0.6387\tF1:\t0.6096\n",
      "4 / 30: Train Loss:\t0.4829\tVal Loss:\t0.7848\tAccuracy:\t0.6555\tF1:\t0.6205\n",
      "5 / 30: Train Loss:\t0.4630\tVal Loss:\t1.0005\tAccuracy:\t0.4790\tF1:\t0.4578\n",
      "6 / 30: Train Loss:\t0.4579\tVal Loss:\t1.4612\tAccuracy:\t0.4286\tF1:\t0.3825\n",
      "7 / 30: Train Loss:\t0.3965\tVal Loss:\t1.0058\tAccuracy:\t0.6387\tF1:\t0.6413\n",
      "8 / 30: Train Loss:\t0.3653\tVal Loss:\t1.1319\tAccuracy:\t0.6050\tF1:\t0.5928\n",
      "9 / 30: Train Loss:\t0.2542\tVal Loss:\t0.9397\tAccuracy:\t0.6891\tF1:\t0.6844\n",
      "10 / 30: Train Loss:\t0.2200\tVal Loss:\t1.1877\tAccuracy:\t0.6975\tF1:\t0.6883\n",
      "11 / 30: Train Loss:\t0.1828\tVal Loss:\t1.2942\tAccuracy:\t0.6891\tF1:\t0.6796\n",
      "12 / 30: Train Loss:\t0.1514\tVal Loss:\t1.2558\tAccuracy:\t0.6723\tF1:\t0.6691\n",
      "13 / 30: Train Loss:\t0.1472\tVal Loss:\t1.9558\tAccuracy:\t0.5798\tF1:\t0.5652\n",
      "No improvement for 3 epochs. Stopping early.\n",
      "best (higgest macro f1-score) val results:\n",
      "                    precision    recall  f1-score   support\n",
      "\n",
      " misrepresentation       0.50      0.84      0.63        38\n",
      "oversimplification       0.63      0.67      0.65        36\n",
      "slothful induction       0.76      0.29      0.42        45\n",
      "\n",
      "          accuracy                           0.58       119\n",
      "         macro avg       0.63      0.60      0.57       119\n",
      "      weighted avg       0.64      0.58      0.56       119\n",
      "\n",
      "test results:\n",
      "                    precision    recall  f1-score   support\n",
      "\n",
      " misrepresentation       0.56      0.86      0.68        22\n",
      "oversimplification       0.62      0.75      0.68        20\n",
      "slothful induction       0.78      0.28      0.41        25\n",
      "\n",
      "          accuracy                           0.61        67\n",
      "         macro avg       0.65      0.63      0.59        67\n",
      "      weighted avg       0.66      0.61      0.58        67\n",
      "\n",
      "### ### ### ### ### ### ### ### ### ### \n",
      "{'acc': [0.3283582089552239, 0.417910447761194, 0.6119402985074627], 'f1': [0.1647940074906367, 0.3879310344827586, 0.5907181054239877], 'lr': [0.0001, 5e-05, 1e-05]}\n",
      "### ### ### ### ### ### ### ### ### ### \n"
     ]
    }
   ],
   "source": [
    "learning_rates = [1.0e-4, 5.0e-5, 1.0e-5]\n",
    "\n",
    "for lr in learning_rates:\n",
    "    print(f'Grid search {model_checkpoint}, learning rate {lr}')\n",
    "    data = ClimateDataset(model_to_train=2,model_checkpoint=model_checkpoint,batch_size=16)\n",
    "    data.setup_dataloaders()\n",
    "    model = ClassificationModel(model_checkpoint=data.model_checkpoint,num_labels=data.num_labels)\n",
    "    trainer = Engine(epochs=30,labels=data.labels)\n",
    "    trainer.model = model.model\n",
    "    trainer.device = model.device\n",
    "    acc, f1 = trainer.run(lr=lr,\n",
    "                          wd=0.0,\n",
    "                          train_dataloader=data.train_dataloader,\n",
    "                          eval_dataloader=data.eval_dataloader,\n",
    "                          test_dataloader=data.test_dataloader,\n",
    "                          accumulation_steps=2,\n",
    "                          early_stop=3)\n",
    "    results['acc'].append(acc)\n",
    "    results['f1'].append(f1)\n",
    "    results['lr'].append(lr)\n",
    "    print('### '*10)\n",
    "    print(results)\n",
    "    print('### '*10)\n",
    "    with torch.no_grad():\n",
    "        torch.cuda.empty_cache()\n",
    "    del data, model, trainer, acc, f1"
   ]
  },
  {
   "cell_type": "code",
   "execution_count": 5,
   "metadata": {},
   "outputs": [],
   "source": [
    "import matplotlib.pyplot as plt\n",
    "import seaborn as sns\n",
    "import pandas as pd"
   ]
  },
  {
   "cell_type": "code",
   "execution_count": 6,
   "metadata": {},
   "outputs": [
    {
     "data": {
      "image/png": "[encoded data removed]",
      "text/plain": [
       "<Figure size 640x480 with 1 Axes>"
      ]
     },
     "metadata": {},
     "output_type": "display_data"
    }
   ],
   "source": [
    "def plot_grid_search(df, title):\n",
    "\n",
    "    # Create the plot\n",
    "    ax = df.plot(x='lr', y=['acc', 'f1'], marker='o', linestyle='-')\n",
    "\n",
    "    # Set y-axis range between 0 and 1\n",
    "    plt.ylim(0, 1)\n",
    "\n",
    "    # Annotate points with F1 scores\n",
    "    for i, row in df.iterrows(): \n",
    "        ax.annotate(f'{row[\"f1\"]:.2f}', (row[\"lr\"], row[\"f1\"]), textcoords='offset points', xytext=(0, -10), ha='center')\n",
    "\n",
    "    # Annotate points with Acc scores\n",
    "    for i, row in df.iterrows():\n",
    "        ax.annotate(f'{row[\"acc\"]:.2f}', (row[\"lr\"], row[\"acc\"]), textcoords='offset points', xytext=(0, 10), ha='center')\n",
    "    \n",
    "    # \n",
    "    plt.xticks(df['lr'], [f'{val:.0e}' for val in df['lr']], ha='center')\n",
    "    plt.xscale('log')\n",
    "    plt.minorticks_off()\n",
    "\n",
    "    plt.title(title)\n",
    "    plt.xlabel('lr')\n",
    "    plt.ylabel('Score')\n",
    "    plt.show()\n",
    "\n",
    "plot_grid_search(pd.DataFrame(results), f'Learning rates {model_checkpoint}')"
   ]
  }
 ],
 "metadata": {
  "kernelspec": {
   "display_name": "Python 3",
   "language": "python",
   "name": "python3"
  },
  "language_info": {
   "codemirror_mode": {
    "name": "ipython",
    "version": 3
   },
   "file_extension": ".py",
   "mimetype": "text/x-python",
   "name": "python",
   "nbconvert_exporter": "python",
   "pygments_lexer": "ipython3",
   "version": "3.11.5"
  },
  "orig_nbformat": 4
 },
 "nbformat": 4,
 "nbformat_minor": 2
}
