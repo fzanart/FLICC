{
 "cells": [
  {
   "cell_type": "code",
   "execution_count": 1,
   "metadata": {},
   "outputs": [],
   "source": [
    "import os\n",
    "import sys\n",
    "import gc\n",
    "# assuming data, models, engine in flicc directory:\n",
    "flicc_path = os.path.realpath(\"__file__\").split('grid_search')[0]\n",
    "sys.path.append(flicc_path)\n",
    "import torch\n",
    "from data import ClimateDataset\n",
    "from models import ClassificationModel\n",
    "from engine import Engine"
   ]
  },
  {
   "cell_type": "code",
   "execution_count": 2,
   "metadata": {},
   "outputs": [],
   "source": [
    "model_checkpoint='facebook/opt-350m'"
   ]
  },
  {
   "cell_type": "code",
   "execution_count": 3,
   "metadata": {},
   "outputs": [],
   "source": [
    "results = {'test_acc':[],\n",
    "           'test_f1':[],\n",
    "           'eval_acc':[],\n",
    "           'eval_f1':[],\n",
    "           'lr':[]}"
   ]
  },
  {
   "cell_type": "code",
   "execution_count": 4,
   "metadata": {},
   "outputs": [
    {
     "name": "stdout",
     "output_type": "stream",
     "text": [
      "Grid search facebook/opt-350m, learning rate 1e-05\n"
     ]
    },
    {
     "data": {
      "application/vnd.jupyter.widget-view+json": {
       "model_id": "a925751a710c432395f66a751efa4a59",
       "version_major": 2,
       "version_minor": 0
      },
      "text/plain": [
       "Map:   0%|          | 0/119 [00:00<?, ? examples/s]"
      ]
     },
     "metadata": {},
     "output_type": "display_data"
    },
    {
     "name": "stderr",
     "output_type": "stream",
     "text": [
      "Asking to truncate to max_length but no maximum length is provided and the model has no predefined maximum length. Default to no truncation.\n",
      "Some weights of OPTForSequenceClassification were not initialized from the model checkpoint at facebook/opt-350m and are newly initialized: ['score.weight']\n",
      "You should probably TRAIN this model on a down-stream task to be able to use it for predictions and inference.\n",
      "You're using a GPT2TokenizerFast tokenizer. Please note that with a fast tokenizer, using the `__call__` method is faster than using a method to encode the text followed by a call to the `pad` method to get a padded encoding.\n"
     ]
    },
    {
     "name": "stdout",
     "output_type": "stream",
     "text": [
      "1 / 30: Train Loss:\t1.1996\tVal Loss:\t1.2127\tAccuracy:\t0.4118\tF1:\t0.3465\n",
      "2 / 30: Train Loss:\t0.6238\tVal Loss:\t0.9765\tAccuracy:\t0.4034\tF1:\t0.3378\n",
      "3 / 30: Train Loss:\t0.5025\tVal Loss:\t0.8033\tAccuracy:\t0.6387\tF1:\t0.6096\n",
      "4 / 30: Train Loss:\t0.4829\tVal Loss:\t0.7848\tAccuracy:\t0.6555\tF1:\t0.6205\n",
      "5 / 30: Train Loss:\t0.4630\tVal Loss:\t1.0005\tAccuracy:\t0.4790\tF1:\t0.4578\n",
      "6 / 30: Train Loss:\t0.4579\tVal Loss:\t1.4612\tAccuracy:\t0.4286\tF1:\t0.3825\n",
      "7 / 30: Train Loss:\t0.3965\tVal Loss:\t1.0058\tAccuracy:\t0.6387\tF1:\t0.6413\n",
      "8 / 30: Train Loss:\t0.3653\tVal Loss:\t1.1319\tAccuracy:\t0.6050\tF1:\t0.5928\n",
      "9 / 30: Train Loss:\t0.2542\tVal Loss:\t0.9397\tAccuracy:\t0.6891\tF1:\t0.6844\n",
      "10 / 30: Train Loss:\t0.2200\tVal Loss:\t1.1877\tAccuracy:\t0.6975\tF1:\t0.6883\n",
      "11 / 30: Train Loss:\t0.1828\tVal Loss:\t1.2942\tAccuracy:\t0.6891\tF1:\t0.6796\n",
      "12 / 30: Train Loss:\t0.1514\tVal Loss:\t1.2558\tAccuracy:\t0.6723\tF1:\t0.6691\n",
      "13 / 30: Train Loss:\t0.1472\tVal Loss:\t1.9558\tAccuracy:\t0.5798\tF1:\t0.5652\n",
      "No improvement for 3 epochs. Stopping early.\n",
      "best (higgest macro f1-score) val results:\n",
      "                    precision    recall  f1-score   support\n",
      "\n",
      " misrepresentation       0.69      0.58      0.63        38\n",
      "oversimplification       0.84      0.58      0.69        36\n",
      "slothful induction       0.65      0.89      0.75        45\n",
      "\n",
      "          accuracy                           0.70       119\n",
      "         macro avg       0.72      0.68      0.69       119\n",
      "      weighted avg       0.72      0.70      0.69       119\n",
      "\n",
      "test results:\n",
      "                    precision    recall  f1-score   support\n",
      "\n",
      " misrepresentation       0.70      0.32      0.44        22\n",
      "oversimplification       0.60      0.75      0.67        20\n",
      "slothful induction       0.62      0.80      0.70        25\n",
      "\n",
      "          accuracy                           0.63        67\n",
      "         macro avg       0.64      0.62      0.60        67\n",
      "      weighted avg       0.64      0.63      0.60        67\n",
      "\n",
      "### ### ### ### ### ### ### ### ### ### \n",
      "{'test_acc': [0.6268656716417911], 'test_f1': [0.6019736842105262], 'eval_acc': [0.6974789915966386], 'eval_f1': [0.688253190045744], 'lr': [1e-05]}\n",
      "### ### ### ### ### ### ### ### ### ### \n",
      "Grid search facebook/opt-350m, learning rate 5e-05\n"
     ]
    },
    {
     "name": "stderr",
     "output_type": "stream",
     "text": [
      "Some weights of OPTForSequenceClassification were not initialized from the model checkpoint at facebook/opt-350m and are newly initialized: ['score.weight']\n",
      "You should probably TRAIN this model on a down-stream task to be able to use it for predictions and inference.\n",
      "You're using a GPT2TokenizerFast tokenizer. Please note that with a fast tokenizer, using the `__call__` method is faster than using a method to encode the text followed by a call to the `pad` method to get a padded encoding.\n"
     ]
    },
    {
     "name": "stdout",
     "output_type": "stream",
     "text": [
      "1 / 30: Train Loss:\t1.5031\tVal Loss:\t1.2496\tAccuracy:\t0.3025\tF1:\t0.1548\n",
      "2 / 30: Train Loss:\t0.5940\tVal Loss:\t0.9336\tAccuracy:\t0.5378\tF1:\t0.4689\n",
      "3 / 30: Train Loss:\t0.5140\tVal Loss:\t1.2618\tAccuracy:\t0.4874\tF1:\t0.4475\n",
      "4 / 30: Train Loss:\t0.5725\tVal Loss:\t1.8685\tAccuracy:\t0.4034\tF1:\t0.3217\n",
      "5 / 30: Train Loss:\t0.6134\tVal Loss:\t1.2581\tAccuracy:\t0.4874\tF1:\t0.4520\n",
      "No improvement for 3 epochs. Stopping early.\n",
      "best (higgest macro f1-score) val results:\n",
      "                    precision    recall  f1-score   support\n",
      "\n",
      " misrepresentation       1.00      0.13      0.23        38\n",
      "oversimplification       0.79      0.42      0.55        36\n",
      "slothful induction       0.46      0.98      0.63        45\n",
      "\n",
      "          accuracy                           0.54       119\n",
      "         macro avg       0.75      0.51      0.47       119\n",
      "      weighted avg       0.73      0.54      0.48       119\n",
      "\n",
      "test results:\n",
      "                    precision    recall  f1-score   support\n",
      "\n",
      " misrepresentation       0.80      0.18      0.30        22\n",
      "oversimplification       0.57      0.60      0.59        20\n",
      "slothful induction       0.49      0.80      0.61        25\n",
      "\n",
      "          accuracy                           0.54        67\n",
      "         macro avg       0.62      0.53      0.50        67\n",
      "      weighted avg       0.62      0.54      0.50        67\n",
      "\n",
      "### ### ### ### ### ### ### ### ### ### \n",
      "{'test_acc': [0.6268656716417911, 0.5373134328358209], 'test_f1': [0.6019736842105262, 0.4959075853384796], 'eval_acc': [0.6974789915966386, 0.5378151260504201], 'eval_f1': [0.688253190045744, 0.46886137118695254], 'lr': [1e-05, 5e-05]}\n",
      "### ### ### ### ### ### ### ### ### ### \n",
      "Grid search facebook/opt-350m, learning rate 0.0001\n"
     ]
    },
    {
     "name": "stderr",
     "output_type": "stream",
     "text": [
      "Some weights of OPTForSequenceClassification were not initialized from the model checkpoint at facebook/opt-350m and are newly initialized: ['score.weight']\n",
      "You should probably TRAIN this model on a down-stream task to be able to use it for predictions and inference.\n",
      "You're using a GPT2TokenizerFast tokenizer. Please note that with a fast tokenizer, using the `__call__` method is faster than using a method to encode the text followed by a call to the `pad` method to get a padded encoding.\n"
     ]
    },
    {
     "name": "stdout",
     "output_type": "stream",
     "text": [
      "1 / 30: Train Loss:\t1.7204\tVal Loss:\t1.1727\tAccuracy:\t0.3193\tF1:\t0.1614\n",
      "2 / 30: Train Loss:\t0.6107\tVal Loss:\t1.2251\tAccuracy:\t0.3193\tF1:\t0.1614\n",
      "3 / 30: Train Loss:\t0.5815\tVal Loss:\t1.1821\tAccuracy:\t0.3193\tF1:\t0.1614\n",
      "4 / 30: Train Loss:\t0.5839\tVal Loss:\t1.1813\tAccuracy:\t0.3193\tF1:\t0.1614\n",
      "No improvement for 3 epochs. Stopping early.\n",
      "best (higgest macro f1-score) val results:\n",
      "                    precision    recall  f1-score   support\n",
      "\n",
      " misrepresentation       0.32      1.00      0.48        38\n",
      "oversimplification       0.00      0.00      0.00        36\n",
      "slothful induction       0.00      0.00      0.00        45\n",
      "\n",
      "          accuracy                           0.32       119\n",
      "         macro avg       0.11      0.33      0.16       119\n",
      "      weighted avg       0.10      0.32      0.15       119\n",
      "\n",
      "test results:\n",
      "                    precision    recall  f1-score   support\n",
      "\n",
      " misrepresentation       0.33      1.00      0.49        22\n",
      "oversimplification       0.00      0.00      0.00        20\n",
      "slothful induction       0.00      0.00      0.00        25\n",
      "\n",
      "          accuracy                           0.33        67\n",
      "         macro avg       0.11      0.33      0.16        67\n",
      "      weighted avg       0.11      0.33      0.16        67\n",
      "\n",
      "### ### ### ### ### ### ### ### ### ### \n",
      "{'test_acc': [0.6268656716417911, 0.5373134328358209, 0.3283582089552239], 'test_f1': [0.6019736842105262, 0.4959075853384796, 0.1647940074906367], 'eval_acc': [0.6974789915966386, 0.5378151260504201, 0.31932773109243695], 'eval_f1': [0.688253190045744, 0.46886137118695254, 0.1613588110403397], 'lr': [1e-05, 5e-05, 0.0001]}\n",
      "### ### ### ### ### ### ### ### ### ### \n"
     ]
    }
   ],
   "source": [
    "learning_rates = [1.0e-5, 5.0e-5 ,1.0e-4]\n",
    "\n",
    "for lr in learning_rates:\n",
    "    print(f'Grid search {model_checkpoint}, learning rate {lr}')\n",
    "    data = ClimateDataset(model_to_train=2,model_checkpoint=model_checkpoint,dataset_url=flicc_path,batch_size=16)\n",
    "    data.setup_dataloaders()\n",
    "    model = ClassificationModel(model_checkpoint=data.model_checkpoint,num_labels=data.num_labels)\n",
    "    trainer = Engine(epochs=30,labels=data.labels)\n",
    "    trainer.model = model.model\n",
    "    test_acc, test_f1, eval_acc, eval_f1 = trainer.run(lr=lr,\n",
    "                                                       wd=0.0,\n",
    "                                                       train_dataloader=data.train_dataloader,\n",
    "                                                       eval_dataloader=data.eval_dataloader,\n",
    "                                                       test_dataloader=data.test_dataloader,\n",
    "                                                       accumulation_steps=2,\n",
    "                                                       early_stop=3)\n",
    "    results['test_acc'].append(test_acc)\n",
    "    results['test_f1'].append(test_f1)\n",
    "    results['eval_acc'].append(eval_acc)\n",
    "    results['eval_f1'].append(eval_f1)\n",
    "    results['lr'].append(lr)\n",
    "    print('### '*10)\n",
    "    print(results)\n",
    "    print('### '*10)\n",
    "    with torch.no_grad():\n",
    "        torch.cuda.empty_cache()\n",
    "    del data, model, trainer, test_acc, test_f1, eval_acc, eval_f1\n",
    "    gc.collect()"
   ]
  },
  {
   "cell_type": "code",
   "execution_count": 5,
   "metadata": {},
   "outputs": [
    {
     "data": {
      "image/png": "[encoded data removed]",
      "text/plain": [
       "<Figure size 640x480 with 1 Axes>"
      ]
     },
     "metadata": {},
     "output_type": "display_data"
    }
   ],
   "source": [
    "Engine.plot_grid_search(df=results,\n",
    "                        title=f'Learning rates {model_checkpoint}',\n",
    "                        column='lr',\n",
    "                        sci_format=False)"
   ]
  },
  {
   "cell_type": "code",
   "execution_count": 6,
   "metadata": {},
   "outputs": [],
   "source": [
    "%reset -f"
   ]
  }
 ],
 "metadata": {
  "kernelspec": {
   "display_name": "Python 3",
   "language": "python",
   "name": "python3"
  },
  "language_info": {
   "codemirror_mode": {
    "name": "ipython",
    "version": 3
   },
   "file_extension": ".py",
   "mimetype": "text/x-python",
   "name": "python",
   "nbconvert_exporter": "python",
   "pygments_lexer": "ipython3",
   "version": "3.11.5"
  },
  "orig_nbformat": 4
 },
 "nbformat": 4,
 "nbformat_minor": 2
}
