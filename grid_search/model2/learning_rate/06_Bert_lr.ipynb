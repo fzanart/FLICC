{
 "cells": [
  {
   "cell_type": "code",
   "execution_count": 1,
   "metadata": {},
   "outputs": [],
   "source": [
    "import torch\n",
    "from data import ClimateDataset\n",
    "from models import ClassificationModel\n",
    "from engine import Engine"
   ]
  },
  {
   "cell_type": "code",
   "execution_count": 2,
   "metadata": {},
   "outputs": [],
   "source": [
    "model_checkpoint='bert-base-uncased'"
   ]
  },
  {
   "cell_type": "code",
   "execution_count": 3,
   "metadata": {},
   "outputs": [],
   "source": [
    "results = {'acc':[],\n",
    "           'f1':[],\n",
    "           'lr':[]}"
   ]
  },
  {
   "cell_type": "code",
   "execution_count": 4,
   "metadata": {},
   "outputs": [
    {
     "name": "stdout",
     "output_type": "stream",
     "text": [
      "Grid search bert-base-uncased, learning rate 0.0001\n"
     ]
    },
    {
     "data": {
      "application/vnd.jupyter.widget-view+json": {
       "model_id": "9d896c868f0e49148a65f22b1e9c769c",
       "version_major": 2,
       "version_minor": 0
      },
      "text/plain": [
       "Filter:   0%|          | 0/1796 [00:00<?, ? examples/s]"
      ]
     },
     "metadata": {},
     "output_type": "display_data"
    },
    {
     "data": {
      "application/vnd.jupyter.widget-view+json": {
       "model_id": "497abdb36aee40ee9bb859c1491d1f9b",
       "version_major": 2,
       "version_minor": 0
      },
      "text/plain": [
       "Filter:   0%|          | 0/256 [00:00<?, ? examples/s]"
      ]
     },
     "metadata": {},
     "output_type": "display_data"
    },
    {
     "data": {
      "application/vnd.jupyter.widget-view+json": {
       "model_id": "6f5dd6ae93884d278743702edbecb0cc",
       "version_major": 2,
       "version_minor": 0
      },
      "text/plain": [
       "Filter:   0%|          | 0/457 [00:00<?, ? examples/s]"
      ]
     },
     "metadata": {},
     "output_type": "display_data"
    },
    {
     "data": {
      "application/vnd.jupyter.widget-view+json": {
       "model_id": "053074ccdde34163b42f28013b5feb67",
       "version_major": 2,
       "version_minor": 0
      },
      "text/plain": [
       "Map:   0%|          | 0/472 [00:00<?, ? examples/s]"
      ]
     },
     "metadata": {},
     "output_type": "display_data"
    },
    {
     "data": {
      "application/vnd.jupyter.widget-view+json": {
       "model_id": "7ccd266e349349bb80ca998ed25f34b7",
       "version_major": 2,
       "version_minor": 0
      },
      "text/plain": [
       "Map:   0%|          | 0/67 [00:00<?, ? examples/s]"
      ]
     },
     "metadata": {},
     "output_type": "display_data"
    },
    {
     "data": {
      "application/vnd.jupyter.widget-view+json": {
       "model_id": "736b0654ca2b46ab99f834b2593d9309",
       "version_major": 2,
       "version_minor": 0
      },
      "text/plain": [
       "Map:   0%|          | 0/119 [00:00<?, ? examples/s]"
      ]
     },
     "metadata": {},
     "output_type": "display_data"
    },
    {
     "name": "stderr",
     "output_type": "stream",
     "text": [
      "Some weights of BertForSequenceClassification were not initialized from the model checkpoint at bert-base-uncased and are newly initialized: ['classifier.weight', 'classifier.bias']\n",
      "You should probably TRAIN this model on a down-stream task to be able to use it for predictions and inference.\n",
      "You're using a BertTokenizerFast tokenizer. Please note that with a fast tokenizer, using the `__call__` method is faster than using a method to encode the text followed by a call to the `pad` method to get a padded encoding.\n"
     ]
    },
    {
     "name": "stdout",
     "output_type": "stream",
     "text": [
      "1 / 20: Train Loss:\t0.9786\tVal Loss:\t0.7642\tAccuracy:\t0.7395\tF1:\t0.7418\n",
      "2 / 20: Train Loss:\t0.5217\tVal Loss:\t0.7808\tAccuracy:\t0.7395\tF1:\t0.7312\n",
      "3 / 20: Train Loss:\t0.3201\tVal Loss:\t0.7310\tAccuracy:\t0.7899\tF1:\t0.7869\n",
      "4 / 20: Train Loss:\t0.1411\tVal Loss:\t0.8409\tAccuracy:\t0.8067\tF1:\t0.8078\n",
      "5 / 20: Train Loss:\t0.1125\tVal Loss:\t0.9802\tAccuracy:\t0.7563\tF1:\t0.7518\n",
      "6 / 20: Train Loss:\t0.0888\tVal Loss:\t0.7770\tAccuracy:\t0.7815\tF1:\t0.7817\n",
      "7 / 20: Train Loss:\t0.0291\tVal Loss:\t0.8459\tAccuracy:\t0.8067\tF1:\t0.8070\n",
      "No improvement for 3 epochs. Stopping early.\n",
      "best (higgest macro f1-score) val results:\n",
      "                    precision    recall  f1-score   support\n",
      "\n",
      " misrepresentation       0.76      0.84      0.80        38\n",
      "oversimplification       0.93      0.72      0.81        36\n",
      "slothful induction       0.78      0.84      0.81        45\n",
      "\n",
      "          accuracy                           0.81       119\n",
      "         macro avg       0.82      0.80      0.81       119\n",
      "      weighted avg       0.82      0.81      0.81       119\n",
      "\n",
      "test results:\n",
      "                    precision    recall  f1-score   support\n",
      "\n",
      " misrepresentation       0.77      0.91      0.83        22\n",
      "oversimplification       0.70      0.80      0.74        20\n",
      "slothful induction       0.83      0.60      0.70        25\n",
      "\n",
      "          accuracy                           0.76        67\n",
      "         macro avg       0.77      0.77      0.76        67\n",
      "      weighted avg       0.77      0.76      0.76        67\n",
      "\n",
      "### ### ### ### ### ### ### ### ### ### \n",
      "{'acc': [0.7611940298507462], 'f1': [0.7583979328165374], 'lr': [0.0001]}\n",
      "### ### ### ### ### ### ### ### ### ### \n",
      "Grid search bert-base-uncased, learning rate 5e-05\n"
     ]
    },
    {
     "data": {
      "application/vnd.jupyter.widget-view+json": {
       "model_id": "da79fb27abd44ab5bf03c22f2dd7295f",
       "version_major": 2,
       "version_minor": 0
      },
      "text/plain": [
       "Map:   0%|          | 0/67 [00:00<?, ? examples/s]"
      ]
     },
     "metadata": {},
     "output_type": "display_data"
    },
    {
     "name": "stderr",
     "output_type": "stream",
     "text": [
      "Some weights of BertForSequenceClassification were not initialized from the model checkpoint at bert-base-uncased and are newly initialized: ['classifier.weight', 'classifier.bias']\n",
      "You should probably TRAIN this model on a down-stream task to be able to use it for predictions and inference.\n",
      "You're using a BertTokenizerFast tokenizer. Please note that with a fast tokenizer, using the `__call__` method is faster than using a method to encode the text followed by a call to the `pad` method to get a padded encoding.\n"
     ]
    },
    {
     "name": "stdout",
     "output_type": "stream",
     "text": [
      "1 / 20: Train Loss:\t1.0253\tVal Loss:\t0.8676\tAccuracy:\t0.6555\tF1:\t0.6329\n",
      "2 / 20: Train Loss:\t0.7402\tVal Loss:\t0.6248\tAccuracy:\t0.7899\tF1:\t0.7905\n",
      "3 / 20: Train Loss:\t0.3540\tVal Loss:\t0.5748\tAccuracy:\t0.8151\tF1:\t0.8135\n",
      "4 / 20: Train Loss:\t0.1253\tVal Loss:\t0.7674\tAccuracy:\t0.7731\tF1:\t0.7718\n",
      "5 / 20: Train Loss:\t0.0963\tVal Loss:\t0.6347\tAccuracy:\t0.8235\tF1:\t0.8221\n",
      "6 / 20: Train Loss:\t0.0974\tVal Loss:\t0.8858\tAccuracy:\t0.7479\tF1:\t0.7466\n",
      "7 / 20: Train Loss:\t0.0854\tVal Loss:\t0.7068\tAccuracy:\t0.7815\tF1:\t0.7846\n",
      "8 / 20: Train Loss:\t0.0273\tVal Loss:\t1.1179\tAccuracy:\t0.7227\tF1:\t0.7112\n",
      "No improvement for 3 epochs. Stopping early.\n",
      "best (higgest macro f1-score) val results:\n",
      "                    precision    recall  f1-score   support\n",
      "\n",
      " misrepresentation       0.90      0.50      0.64        38\n",
      "oversimplification       0.92      0.61      0.73        36\n",
      "slothful induction       0.61      1.00      0.76        45\n",
      "\n",
      "          accuracy                           0.72       119\n",
      "         macro avg       0.81      0.70      0.71       119\n",
      "      weighted avg       0.80      0.72      0.71       119\n",
      "\n",
      "test results:\n",
      "                    precision    recall  f1-score   support\n",
      "\n",
      " misrepresentation       0.92      0.55      0.69        22\n",
      "oversimplification       0.74      0.70      0.72        20\n",
      "slothful induction       0.60      0.84      0.70        25\n",
      "\n",
      "          accuracy                           0.70        67\n",
      "         macro avg       0.75      0.70      0.70        67\n",
      "      weighted avg       0.75      0.70      0.70        67\n",
      "\n",
      "### ### ### ### ### ### ### ### ### ### \n",
      "{'acc': [0.7611940298507462, 0.7014925373134329], 'f1': [0.7583979328165374, 0.7012210012210013], 'lr': [0.0001, 5e-05]}\n",
      "### ### ### ### ### ### ### ### ### ### \n",
      "Grid search bert-base-uncased, learning rate 1e-05\n"
     ]
    },
    {
     "data": {
      "application/vnd.jupyter.widget-view+json": {
       "model_id": "0a76e7b0cf0c4074841a7d5cf7a82c6c",
       "version_major": 2,
       "version_minor": 0
      },
      "text/plain": [
       "Map:   0%|          | 0/119 [00:00<?, ? examples/s]"
      ]
     },
     "metadata": {},
     "output_type": "display_data"
    },
    {
     "name": "stderr",
     "output_type": "stream",
     "text": [
      "Some weights of BertForSequenceClassification were not initialized from the model checkpoint at bert-base-uncased and are newly initialized: ['classifier.weight', 'classifier.bias']\n",
      "You should probably TRAIN this model on a down-stream task to be able to use it for predictions and inference.\n",
      "You're using a BertTokenizerFast tokenizer. Please note that with a fast tokenizer, using the `__call__` method is faster than using a method to encode the text followed by a call to the `pad` method to get a padded encoding.\n"
     ]
    },
    {
     "name": "stdout",
     "output_type": "stream",
     "text": [
      "1 / 20: Train Loss:\t1.0750\tVal Loss:\t0.9997\tAccuracy:\t0.5882\tF1:\t0.5296\n",
      "2 / 20: Train Loss:\t0.9814\tVal Loss:\t0.9298\tAccuracy:\t0.6050\tF1:\t0.5740\n",
      "3 / 20: Train Loss:\t0.8845\tVal Loss:\t0.8355\tAccuracy:\t0.6975\tF1:\t0.6770\n",
      "4 / 20: Train Loss:\t0.7495\tVal Loss:\t0.7461\tAccuracy:\t0.7143\tF1:\t0.7013\n",
      "5 / 20: Train Loss:\t0.6183\tVal Loss:\t0.6614\tAccuracy:\t0.7563\tF1:\t0.7536\n",
      "6 / 20: Train Loss:\t0.4782\tVal Loss:\t0.6038\tAccuracy:\t0.7647\tF1:\t0.7623\n",
      "7 / 20: Train Loss:\t0.3648\tVal Loss:\t0.5707\tAccuracy:\t0.8067\tF1:\t0.8010\n",
      "8 / 20: Train Loss:\t0.2705\tVal Loss:\t0.5533\tAccuracy:\t0.7899\tF1:\t0.7876\n",
      "9 / 20: Train Loss:\t0.1948\tVal Loss:\t0.5964\tAccuracy:\t0.7983\tF1:\t0.7936\n",
      "10 / 20: Train Loss:\t0.1518\tVal Loss:\t0.6867\tAccuracy:\t0.7479\tF1:\t0.7440\n",
      "No improvement for 3 epochs. Stopping early.\n",
      "best (higgest macro f1-score) val results:\n",
      "                    precision    recall  f1-score   support\n",
      "\n",
      " misrepresentation       0.88      0.55      0.68        38\n",
      "oversimplification       0.93      0.69      0.79        36\n",
      "slothful induction       0.63      0.96      0.76        45\n",
      "\n",
      "          accuracy                           0.75       119\n",
      "         macro avg       0.81      0.73      0.74       119\n",
      "      weighted avg       0.80      0.75      0.74       119\n",
      "\n",
      "test results:\n",
      "                    precision    recall  f1-score   support\n",
      "\n",
      " misrepresentation       0.86      0.55      0.67        22\n",
      "oversimplification       0.80      0.80      0.80        20\n",
      "slothful induction       0.61      0.80      0.69        25\n",
      "\n",
      "          accuracy                           0.72        67\n",
      "         macro avg       0.75      0.72      0.72        67\n",
      "      weighted avg       0.75      0.72      0.72        67\n",
      "\n",
      "### ### ### ### ### ### ### ### ### ### \n",
      "{'acc': [0.7611940298507462, 0.7014925373134329, 0.7164179104477612], 'f1': [0.7583979328165374, 0.7012210012210013, 0.7187739463601533], 'lr': [0.0001, 5e-05, 1e-05]}\n",
      "### ### ### ### ### ### ### ### ### ### \n"
     ]
    }
   ],
   "source": [
    "learning_rates = [1.0e-4, 5.0e-5, 1.0e-5]\n",
    "for lr in learning_rates:\n",
    "    print(f'Grid search {model_checkpoint}, learning rate {lr}')\n",
    "    data = ClimateDataset(model_to_train=2,model_checkpoint=model_checkpoint,batch_size=32)\n",
    "    data.setup_dataloaders()\n",
    "    model = ClassificationModel(model_checkpoint=data.model_checkpoint,num_labels=data.num_labels)\n",
    "    trainer = Engine(epochs=20,labels=data.labels)\n",
    "    trainer.model = model.model\n",
    "    trainer.device = model.device\n",
    "    acc, f1 = trainer.run(lr=lr,wd=0.0,train_dataloader=data.train_dataloader,eval_dataloader=data.eval_dataloader,test_dataloader=data.test_dataloader, early_stop=3)\n",
    "    results['acc'].append(acc)\n",
    "    results['f1'].append(f1)\n",
    "    results['lr'].append(lr)\n",
    "    print('### '*10)\n",
    "    print(results)\n",
    "    print('### '*10)\n",
    "    with torch.no_grad():\n",
    "        torch.cuda.empty_cache()\n",
    "    del data, model, trainer, acc, f1"
   ]
  },
  {
   "cell_type": "code",
   "execution_count": 5,
   "metadata": {},
   "outputs": [],
   "source": [
    "import matplotlib.pyplot as plt\n",
    "import seaborn as sns\n",
    "import pandas as pd"
   ]
  },
  {
   "cell_type": "code",
   "execution_count": 6,
   "metadata": {},
   "outputs": [
    {
     "data": {
      "image/png": "[encoded data removed]",
      "text/plain": [
       "<Figure size 640x480 with 1 Axes>"
      ]
     },
     "metadata": {},
     "output_type": "display_data"
    }
   ],
   "source": [
    "def plot_grid_search(df, title):\n",
    "\n",
    "    # Create the plot\n",
    "    ax = df.plot(x='lr', y=['acc', 'f1'], marker='o', linestyle='-')\n",
    "\n",
    "    # Set y-axis range between 0 and 1\n",
    "    plt.ylim(0, 1)\n",
    "\n",
    "    # Annotate points with F1 scores\n",
    "    for i, row in df.iterrows(): \n",
    "        ax.annotate(f'{row[\"f1\"]:.2f}', (row[\"lr\"], row[\"f1\"]), textcoords='offset points', xytext=(0, -10), ha='center')\n",
    "\n",
    "    # Annotate points with Acc scores\n",
    "    for i, row in df.iterrows():\n",
    "        ax.annotate(f'{row[\"acc\"]:.2f}', (row[\"lr\"], row[\"acc\"]), textcoords='offset points', xytext=(0, 10), ha='center')\n",
    "    \n",
    "    # \n",
    "    plt.xticks(df['lr'], [f'{val:.0e}' for val in df['lr']], ha='center')\n",
    "    plt.xscale('log')\n",
    "    plt.minorticks_off()\n",
    "\n",
    "    plt.title(title)\n",
    "    plt.xlabel('lr')\n",
    "    plt.ylabel('Score')\n",
    "    plt.show()\n",
    "\n",
    "plot_grid_search(pd.DataFrame(results), f'Learning rates {model_checkpoint}')"
   ]
  }
 ],
 "metadata": {
  "kernelspec": {
   "display_name": "Python 3",
   "language": "python",
   "name": "python3"
  },
  "language_info": {
   "codemirror_mode": {
    "name": "ipython",
    "version": 3
   },
   "file_extension": ".py",
   "mimetype": "text/x-python",
   "name": "python",
   "nbconvert_exporter": "python",
   "pygments_lexer": "ipython3",
   "version": "3.11.5"
  },
  "orig_nbformat": 4
 },
 "nbformat": 4,
 "nbformat_minor": 2
}
