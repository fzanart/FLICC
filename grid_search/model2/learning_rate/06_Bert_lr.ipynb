{
 "cells": [
  {
   "cell_type": "code",
   "execution_count": 1,
   "metadata": {},
   "outputs": [],
   "source": [
    "import os\n",
    "import sys\n",
    "import gc\n",
    "# assuming data, models, engine in flicc directory:\n",
    "flicc_path = os.path.realpath(\"__file__\").split('grid_search')[0]\n",
    "sys.path.append(flicc_path)\n",
    "import torch\n",
    "from data import ClimateDataset\n",
    "from models import ClassificationModel\n",
    "from engine import Engine"
   ]
  },
  {
   "cell_type": "code",
   "execution_count": 2,
   "metadata": {},
   "outputs": [],
   "source": [
    "model_checkpoint='bert-base-uncased'"
   ]
  },
  {
   "cell_type": "code",
   "execution_count": 3,
   "metadata": {},
   "outputs": [],
   "source": [
    "results = {'test_acc':[],\n",
    "           'test_f1':[],\n",
    "           'eval_acc':[],\n",
    "           'eval_f1':[],\n",
    "           'lr':[]}"
   ]
  },
  {
   "cell_type": "code",
   "execution_count": 4,
   "metadata": {},
   "outputs": [
    {
     "name": "stdout",
     "output_type": "stream",
     "text": [
      "Grid search bert-base-uncased, learning rate 1e-05\n"
     ]
    },
    {
     "data": {
      "application/vnd.jupyter.widget-view+json": {
       "model_id": "a6928be6b1594038835865c9a941c6e1",
       "version_major": 2,
       "version_minor": 0
      },
      "text/plain": [
       "Filter:   0%|          | 0/1796 [00:00<?, ? examples/s]"
      ]
     },
     "metadata": {},
     "output_type": "display_data"
    },
    {
     "data": {
      "application/vnd.jupyter.widget-view+json": {
       "model_id": "b6713ad36d4e4d419781061e6e51f540",
       "version_major": 2,
       "version_minor": 0
      },
      "text/plain": [
       "Filter:   0%|          | 0/256 [00:00<?, ? examples/s]"
      ]
     },
     "metadata": {},
     "output_type": "display_data"
    },
    {
     "data": {
      "application/vnd.jupyter.widget-view+json": {
       "model_id": "2e8940c7ddae4cd991079463bef70fe0",
       "version_major": 2,
       "version_minor": 0
      },
      "text/plain": [
       "Filter:   0%|          | 0/457 [00:00<?, ? examples/s]"
      ]
     },
     "metadata": {},
     "output_type": "display_data"
    },
    {
     "data": {
      "application/vnd.jupyter.widget-view+json": {
       "model_id": "69eb9bdc2dfa4241921bb0eb63c6b84f",
       "version_major": 2,
       "version_minor": 0
      },
      "text/plain": [
       "Map:   0%|          | 0/472 [00:00<?, ? examples/s]"
      ]
     },
     "metadata": {},
     "output_type": "display_data"
    },
    {
     "data": {
      "application/vnd.jupyter.widget-view+json": {
       "model_id": "1421b2c19f5b44c795afc6ccb1aa4aa2",
       "version_major": 2,
       "version_minor": 0
      },
      "text/plain": [
       "Map:   0%|          | 0/67 [00:00<?, ? examples/s]"
      ]
     },
     "metadata": {},
     "output_type": "display_data"
    },
    {
     "data": {
      "application/vnd.jupyter.widget-view+json": {
       "model_id": "66172ec6a2de40e2a544f2be3159385e",
       "version_major": 2,
       "version_minor": 0
      },
      "text/plain": [
       "Map:   0%|          | 0/119 [00:00<?, ? examples/s]"
      ]
     },
     "metadata": {},
     "output_type": "display_data"
    },
    {
     "name": "stderr",
     "output_type": "stream",
     "text": [
      "Some weights of BertForSequenceClassification were not initialized from the model checkpoint at bert-base-uncased and are newly initialized: ['classifier.weight', 'classifier.bias']\n",
      "You should probably TRAIN this model on a down-stream task to be able to use it for predictions and inference.\n",
      "You're using a BertTokenizerFast tokenizer. Please note that with a fast tokenizer, using the `__call__` method is faster than using a method to encode the text followed by a call to the `pad` method to get a padded encoding.\n"
     ]
    },
    {
     "name": "stdout",
     "output_type": "stream",
     "text": [
      "1 / 30: Train Loss:\t1.0750\tVal Loss:\t0.9997\tAccuracy:\t0.5882\tF1:\t0.5296\n",
      "2 / 30: Train Loss:\t0.9814\tVal Loss:\t0.9298\tAccuracy:\t0.6050\tF1:\t0.5740\n",
      "3 / 30: Train Loss:\t0.8845\tVal Loss:\t0.8355\tAccuracy:\t0.6975\tF1:\t0.6770\n",
      "4 / 30: Train Loss:\t0.7495\tVal Loss:\t0.7461\tAccuracy:\t0.7143\tF1:\t0.7013\n",
      "5 / 30: Train Loss:\t0.6183\tVal Loss:\t0.6614\tAccuracy:\t0.7563\tF1:\t0.7536\n",
      "6 / 30: Train Loss:\t0.4782\tVal Loss:\t0.6038\tAccuracy:\t0.7647\tF1:\t0.7623\n",
      "7 / 30: Train Loss:\t0.3648\tVal Loss:\t0.5707\tAccuracy:\t0.8067\tF1:\t0.8010\n",
      "8 / 30: Train Loss:\t0.2705\tVal Loss:\t0.5533\tAccuracy:\t0.7899\tF1:\t0.7876\n",
      "9 / 30: Train Loss:\t0.1948\tVal Loss:\t0.5964\tAccuracy:\t0.7983\tF1:\t0.7936\n",
      "10 / 30: Train Loss:\t0.1518\tVal Loss:\t0.6867\tAccuracy:\t0.7479\tF1:\t0.7440\n",
      "No improvement for 3 epochs. Stopping early.\n",
      "best (higgest macro f1-score) val results:\n",
      "                    precision    recall  f1-score   support\n",
      "\n",
      " misrepresentation       0.81      0.79      0.80        38\n",
      "oversimplification       0.83      0.69      0.76        36\n",
      "slothful induction       0.79      0.91      0.85        45\n",
      "\n",
      "          accuracy                           0.81       119\n",
      "         macro avg       0.81      0.80      0.80       119\n",
      "      weighted avg       0.81      0.81      0.80       119\n",
      "\n",
      "test results:\n",
      "                    precision    recall  f1-score   support\n",
      "\n",
      " misrepresentation       0.75      0.82      0.78        22\n",
      "oversimplification       0.76      0.80      0.78        20\n",
      "slothful induction       0.77      0.68      0.72        25\n",
      "\n",
      "          accuracy                           0.76        67\n",
      "         macro avg       0.76      0.77      0.76        67\n",
      "      weighted avg       0.76      0.76      0.76        67\n",
      "\n",
      "### ### ### ### ### ### ### ### ### ### \n",
      "{'test_acc': [0.7611940298507462], 'test_f1': [0.7621669186164572], 'eval_acc': [0.8067226890756303], 'eval_f1': [0.8009788607726752], 'lr': [1e-05]}\n",
      "### ### ### ### ### ### ### ### ### ### \n",
      "Grid search bert-base-uncased, learning rate 5e-05\n"
     ]
    },
    {
     "data": {
      "application/vnd.jupyter.widget-view+json": {
       "model_id": "aca96c524bbb4473bd45abf84527c441",
       "version_major": 2,
       "version_minor": 0
      },
      "text/plain": [
       "Map:   0%|          | 0/67 [00:00<?, ? examples/s]"
      ]
     },
     "metadata": {},
     "output_type": "display_data"
    },
    {
     "name": "stderr",
     "output_type": "stream",
     "text": [
      "Some weights of BertForSequenceClassification were not initialized from the model checkpoint at bert-base-uncased and are newly initialized: ['classifier.weight', 'classifier.bias']\n",
      "You should probably TRAIN this model on a down-stream task to be able to use it for predictions and inference.\n",
      "You're using a BertTokenizerFast tokenizer. Please note that with a fast tokenizer, using the `__call__` method is faster than using a method to encode the text followed by a call to the `pad` method to get a padded encoding.\n"
     ]
    },
    {
     "name": "stdout",
     "output_type": "stream",
     "text": [
      "1 / 30: Train Loss:\t1.0253\tVal Loss:\t0.8676\tAccuracy:\t0.6555\tF1:\t0.6329\n",
      "2 / 30: Train Loss:\t0.7402\tVal Loss:\t0.6248\tAccuracy:\t0.7899\tF1:\t0.7905\n",
      "3 / 30: Train Loss:\t0.3540\tVal Loss:\t0.5748\tAccuracy:\t0.8151\tF1:\t0.8135\n",
      "4 / 30: Train Loss:\t0.1253\tVal Loss:\t0.7674\tAccuracy:\t0.7731\tF1:\t0.7718\n",
      "5 / 30: Train Loss:\t0.0963\tVal Loss:\t0.6347\tAccuracy:\t0.8235\tF1:\t0.8221\n",
      "6 / 30: Train Loss:\t0.0974\tVal Loss:\t0.8858\tAccuracy:\t0.7479\tF1:\t0.7466\n",
      "7 / 30: Train Loss:\t0.0854\tVal Loss:\t0.7068\tAccuracy:\t0.7815\tF1:\t0.7846\n",
      "8 / 30: Train Loss:\t0.0273\tVal Loss:\t1.1179\tAccuracy:\t0.7227\tF1:\t0.7112\n",
      "No improvement for 3 epochs. Stopping early.\n",
      "best (higgest macro f1-score) val results:\n",
      "                    precision    recall  f1-score   support\n",
      "\n",
      " misrepresentation       0.82      0.87      0.85        38\n",
      "oversimplification       0.84      0.75      0.79        36\n",
      "slothful induction       0.81      0.84      0.83        45\n",
      "\n",
      "          accuracy                           0.82       119\n",
      "         macro avg       0.83      0.82      0.82       119\n",
      "      weighted avg       0.82      0.82      0.82       119\n",
      "\n",
      "test results:\n",
      "                    precision    recall  f1-score   support\n",
      "\n",
      " misrepresentation       0.74      0.91      0.82        22\n",
      "oversimplification       0.76      0.80      0.78        20\n",
      "slothful induction       0.89      0.68      0.77        25\n",
      "\n",
      "          accuracy                           0.79        67\n",
      "         macro avg       0.80      0.80      0.79        67\n",
      "      weighted avg       0.80      0.79      0.79        67\n",
      "\n",
      "### ### ### ### ### ### ### ### ### ### \n",
      "{'test_acc': [0.7611940298507462, 0.7910447761194029], 'test_f1': [0.7621669186164572, 0.7898472027391888], 'eval_acc': [0.8067226890756303, 0.8235294117647058], 'eval_f1': [0.8009788607726752, 0.822119483244803], 'lr': [1e-05, 5e-05]}\n",
      "### ### ### ### ### ### ### ### ### ### \n",
      "Grid search bert-base-uncased, learning rate 0.0001\n"
     ]
    },
    {
     "data": {
      "application/vnd.jupyter.widget-view+json": {
       "model_id": "74ef52fa622e45aa903142d18411835a",
       "version_major": 2,
       "version_minor": 0
      },
      "text/plain": [
       "Map:   0%|          | 0/119 [00:00<?, ? examples/s]"
      ]
     },
     "metadata": {},
     "output_type": "display_data"
    },
    {
     "name": "stderr",
     "output_type": "stream",
     "text": [
      "Some weights of BertForSequenceClassification were not initialized from the model checkpoint at bert-base-uncased and are newly initialized: ['classifier.weight', 'classifier.bias']\n",
      "You should probably TRAIN this model on a down-stream task to be able to use it for predictions and inference.\n",
      "You're using a BertTokenizerFast tokenizer. Please note that with a fast tokenizer, using the `__call__` method is faster than using a method to encode the text followed by a call to the `pad` method to get a padded encoding.\n"
     ]
    },
    {
     "name": "stdout",
     "output_type": "stream",
     "text": [
      "1 / 30: Train Loss:\t0.9786\tVal Loss:\t0.7642\tAccuracy:\t0.7395\tF1:\t0.7418\n",
      "2 / 30: Train Loss:\t0.5217\tVal Loss:\t0.7808\tAccuracy:\t0.7395\tF1:\t0.7312\n",
      "3 / 30: Train Loss:\t0.3201\tVal Loss:\t0.7310\tAccuracy:\t0.7899\tF1:\t0.7869\n",
      "4 / 30: Train Loss:\t0.1411\tVal Loss:\t0.8409\tAccuracy:\t0.8067\tF1:\t0.8078\n",
      "5 / 30: Train Loss:\t0.1125\tVal Loss:\t0.9802\tAccuracy:\t0.7563\tF1:\t0.7518\n",
      "6 / 30: Train Loss:\t0.0888\tVal Loss:\t0.7770\tAccuracy:\t0.7815\tF1:\t0.7817\n",
      "7 / 30: Train Loss:\t0.0291\tVal Loss:\t0.8459\tAccuracy:\t0.8067\tF1:\t0.8070\n",
      "No improvement for 3 epochs. Stopping early.\n",
      "best (higgest macro f1-score) val results:\n",
      "                    precision    recall  f1-score   support\n",
      "\n",
      " misrepresentation       0.88      0.74      0.80        38\n",
      "oversimplification       1.00      0.69      0.82        36\n",
      "slothful induction       0.69      0.96      0.80        45\n",
      "\n",
      "          accuracy                           0.81       119\n",
      "         macro avg       0.86      0.80      0.81       119\n",
      "      weighted avg       0.84      0.81      0.81       119\n",
      "\n",
      "test results:\n",
      "                    precision    recall  f1-score   support\n",
      "\n",
      " misrepresentation       0.88      0.68      0.77        22\n",
      "oversimplification       0.78      0.70      0.74        20\n",
      "slothful induction       0.62      0.80      0.70        25\n",
      "\n",
      "          accuracy                           0.73        67\n",
      "         macro avg       0.76      0.73      0.74        67\n",
      "      weighted avg       0.76      0.73      0.73        67\n",
      "\n",
      "### ### ### ### ### ### ### ### ### ### \n",
      "{'test_acc': [0.7611940298507462, 0.7910447761194029, 0.7313432835820896], 'test_f1': [0.7621669186164572, 0.7898472027391888, 0.7359424201529464], 'eval_acc': [0.8067226890756303, 0.8235294117647058, 0.8067226890756303], 'eval_f1': [0.8009788607726752, 0.822119483244803, 0.8078034829681835], 'lr': [1e-05, 5e-05, 0.0001]}\n",
      "### ### ### ### ### ### ### ### ### ### \n"
     ]
    }
   ],
   "source": [
    "learning_rates = [1.0e-5, 5.0e-5 ,1.0e-4]\n",
    "\n",
    "for lr in learning_rates:\n",
    "    print(f'Grid search {model_checkpoint}, learning rate {lr}')\n",
    "    data = ClimateDataset(model_to_train=2,model_checkpoint=model_checkpoint,dataset_url=flicc_path,batch_size=32)\n",
    "    data.setup_dataloaders()\n",
    "    model = ClassificationModel(model_checkpoint=data.model_checkpoint,num_labels=data.num_labels)\n",
    "    trainer = Engine(epochs=30,labels=data.labels)\n",
    "    trainer.model = model.model\n",
    "    test_acc, test_f1, eval_acc, eval_f1 = trainer.run(lr=lr,\n",
    "                                                       wd=0.0,\n",
    "                                                       train_dataloader=data.train_dataloader,\n",
    "                                                       eval_dataloader=data.eval_dataloader,\n",
    "                                                       test_dataloader=data.test_dataloader,\n",
    "                                                       early_stop=3)\n",
    "    results['test_acc'].append(test_acc)\n",
    "    results['test_f1'].append(test_f1)\n",
    "    results['eval_acc'].append(eval_acc)\n",
    "    results['eval_f1'].append(eval_f1)\n",
    "    results['lr'].append(lr)\n",
    "    print('### '*10)\n",
    "    print(results)\n",
    "    print('### '*10)\n",
    "    with torch.no_grad():\n",
    "        torch.cuda.empty_cache()\n",
    "    del data, model, trainer, test_acc, test_f1, eval_acc, eval_f1\n",
    "    gc.collect()"
   ]
  },
  {
   "cell_type": "code",
   "execution_count": 5,
   "metadata": {},
   "outputs": [
    {
     "data": {
      "image/png": "[encoded data removed]",
      "text/plain": [
       "<Figure size 640x480 with 1 Axes>"
      ]
     },
     "metadata": {},
     "output_type": "display_data"
    }
   ],
   "source": [
    "Engine.plot_grid_search(df=results,\n",
    "                        title=f'Learning rates {model_checkpoint}',\n",
    "                        column='lr',\n",
    "                        sci_format=False)"
   ]
  },
  {
   "cell_type": "code",
   "execution_count": 6,
   "metadata": {},
   "outputs": [],
   "source": [
    "%reset -f"
   ]
  }
 ],
 "metadata": {
  "kernelspec": {
   "display_name": "Python 3",
   "language": "python",
   "name": "python3"
  },
  "language_info": {
   "codemirror_mode": {
    "name": "ipython",
    "version": 3
   },
   "file_extension": ".py",
   "mimetype": "text/x-python",
   "name": "python",
   "nbconvert_exporter": "python",
   "pygments_lexer": "ipython3",
   "version": "3.11.5"
  },
  "orig_nbformat": 4
 },
 "nbformat": 4,
 "nbformat_minor": 2
}
