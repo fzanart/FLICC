{
 "cells": [
  {
   "cell_type": "code",
   "execution_count": 1,
   "metadata": {},
   "outputs": [],
   "source": [
    "import torch\n",
    "from data import ClimateDataset\n",
    "from models import ClassificationModel\n",
    "from engine import Engine"
   ]
  },
  {
   "cell_type": "code",
   "execution_count": 2,
   "metadata": {},
   "outputs": [],
   "source": [
    "model_checkpoint='gpt2'"
   ]
  },
  {
   "cell_type": "code",
   "execution_count": 3,
   "metadata": {},
   "outputs": [],
   "source": [
    "results = {'acc':[],\n",
    "           'f1':[],\n",
    "           'lr':[]}"
   ]
  },
  {
   "cell_type": "code",
   "execution_count": 4,
   "metadata": {},
   "outputs": [
    {
     "name": "stdout",
     "output_type": "stream",
     "text": [
      "Grid search gpt2, learning rate 0.0001\n"
     ]
    },
    {
     "name": "stderr",
     "output_type": "stream",
     "text": [
      "Some weights of GPT2ForSequenceClassification were not initialized from the model checkpoint at gpt2 and are newly initialized: ['score.weight']\n",
      "You should probably TRAIN this model on a down-stream task to be able to use it for predictions and inference.\n",
      "You're using a GPT2TokenizerFast tokenizer. Please note that with a fast tokenizer, using the `__call__` method is faster than using a method to encode the text followed by a call to the `pad` method to get a padded encoding.\n"
     ]
    },
    {
     "name": "stdout",
     "output_type": "stream",
     "text": [
      "1 / 30: Train Loss:\t1.9721\tVal Loss:\t1.2578\tAccuracy:\t0.3025\tF1:\t0.2328\n",
      "2 / 30: Train Loss:\t1.3151\tVal Loss:\t1.2343\tAccuracy:\t0.4454\tF1:\t0.3372\n",
      "3 / 30: Train Loss:\t1.1831\tVal Loss:\t1.1606\tAccuracy:\t0.4286\tF1:\t0.3460\n",
      "4 / 30: Train Loss:\t1.1341\tVal Loss:\t1.1150\tAccuracy:\t0.4538\tF1:\t0.4000\n",
      "5 / 30: Train Loss:\t1.0760\tVal Loss:\t1.0978\tAccuracy:\t0.5042\tF1:\t0.4563\n",
      "6 / 30: Train Loss:\t1.0661\tVal Loss:\t1.0814\tAccuracy:\t0.5126\tF1:\t0.4992\n",
      "7 / 30: Train Loss:\t1.0018\tVal Loss:\t1.0529\tAccuracy:\t0.5630\tF1:\t0.5680\n",
      "8 / 30: Train Loss:\t0.9192\tVal Loss:\t0.9656\tAccuracy:\t0.6471\tF1:\t0.6503\n",
      "9 / 30: Train Loss:\t0.8200\tVal Loss:\t0.8671\tAccuracy:\t0.5966\tF1:\t0.6003\n",
      "10 / 30: Train Loss:\t0.6729\tVal Loss:\t0.8393\tAccuracy:\t0.6471\tF1:\t0.6455\n",
      "11 / 30: Train Loss:\t0.6028\tVal Loss:\t0.8385\tAccuracy:\t0.6807\tF1:\t0.6817\n",
      "12 / 30: Train Loss:\t0.4844\tVal Loss:\t0.9439\tAccuracy:\t0.6639\tF1:\t0.6642\n",
      "13 / 30: Train Loss:\t0.4609\tVal Loss:\t0.8794\tAccuracy:\t0.6975\tF1:\t0.6991\n",
      "14 / 30: Train Loss:\t0.3004\tVal Loss:\t1.2397\tAccuracy:\t0.6891\tF1:\t0.6889\n",
      "15 / 30: Train Loss:\t0.3237\tVal Loss:\t1.3427\tAccuracy:\t0.6723\tF1:\t0.6619\n",
      "16 / 30: Train Loss:\t0.3193\tVal Loss:\t1.4365\tAccuracy:\t0.6975\tF1:\t0.6937\n",
      "No improvement for 3 epochs. Stopping early.\n",
      "best (higgest macro f1-score) val results:\n",
      "                    precision    recall  f1-score   support\n",
      "\n",
      " misrepresentation       0.66      0.76      0.71        38\n",
      "oversimplification       0.90      0.53      0.67        36\n",
      "slothful induction       0.65      0.78      0.71        45\n",
      "\n",
      "          accuracy                           0.70       119\n",
      "         macro avg       0.74      0.69      0.69       119\n",
      "      weighted avg       0.73      0.70      0.69       119\n",
      "\n",
      "test results:\n",
      "                    precision    recall  f1-score   support\n",
      "\n",
      " misrepresentation       0.61      0.77      0.68        22\n",
      "oversimplification       0.80      0.40      0.53        20\n",
      "slothful induction       0.55      0.64      0.59        25\n",
      "\n",
      "          accuracy                           0.61        67\n",
      "         macro avg       0.65      0.60      0.60        67\n",
      "      weighted avg       0.64      0.61      0.60        67\n",
      "\n",
      "### ### ### ### ### ### ### ### ### ### \n",
      "{'acc': [0.6119402985074627], 'f1': [0.6019753086419753], 'lr': [0.0001]}\n",
      "### ### ### ### ### ### ### ### ### ### \n",
      "Grid search gpt2, learning rate 5e-05\n"
     ]
    },
    {
     "name": "stderr",
     "output_type": "stream",
     "text": [
      "Some weights of GPT2ForSequenceClassification were not initialized from the model checkpoint at gpt2 and are newly initialized: ['score.weight']\n",
      "You should probably TRAIN this model on a down-stream task to be able to use it for predictions and inference.\n",
      "You're using a GPT2TokenizerFast tokenizer. Please note that with a fast tokenizer, using the `__call__` method is faster than using a method to encode the text followed by a call to the `pad` method to get a padded encoding.\n"
     ]
    },
    {
     "name": "stdout",
     "output_type": "stream",
     "text": [
      "1 / 30: Train Loss:\t1.7931\tVal Loss:\t1.2479\tAccuracy:\t0.4034\tF1:\t0.3648\n",
      "2 / 30: Train Loss:\t1.1408\tVal Loss:\t1.1632\tAccuracy:\t0.3950\tF1:\t0.3308\n",
      "3 / 30: Train Loss:\t1.0767\tVal Loss:\t1.1434\tAccuracy:\t0.4622\tF1:\t0.4635\n",
      "4 / 30: Train Loss:\t1.0465\tVal Loss:\t1.1130\tAccuracy:\t0.5126\tF1:\t0.5079\n",
      "5 / 30: Train Loss:\t0.9893\tVal Loss:\t1.0398\tAccuracy:\t0.5966\tF1:\t0.5995\n",
      "6 / 30: Train Loss:\t0.9277\tVal Loss:\t0.9947\tAccuracy:\t0.5882\tF1:\t0.5912\n",
      "7 / 30: Train Loss:\t0.8265\tVal Loss:\t0.9249\tAccuracy:\t0.6387\tF1:\t0.6425\n",
      "8 / 30: Train Loss:\t0.7818\tVal Loss:\t0.8767\tAccuracy:\t0.6891\tF1:\t0.6918\n",
      "9 / 30: Train Loss:\t0.6838\tVal Loss:\t0.9573\tAccuracy:\t0.6134\tF1:\t0.6164\n",
      "10 / 30: Train Loss:\t0.6011\tVal Loss:\t0.8284\tAccuracy:\t0.7143\tF1:\t0.7152\n",
      "11 / 30: Train Loss:\t0.5737\tVal Loss:\t0.7991\tAccuracy:\t0.7143\tF1:\t0.7160\n",
      "12 / 30: Train Loss:\t0.4977\tVal Loss:\t1.0143\tAccuracy:\t0.6387\tF1:\t0.6429\n",
      "13 / 30: Train Loss:\t0.4777\tVal Loss:\t1.0066\tAccuracy:\t0.6807\tF1:\t0.6813\n",
      "14 / 30: Train Loss:\t0.3599\tVal Loss:\t1.1045\tAccuracy:\t0.6807\tF1:\t0.6825\n",
      "No improvement for 3 epochs. Stopping early.\n",
      "best (higgest macro f1-score) val results:\n",
      "                    precision    recall  f1-score   support\n",
      "\n",
      " misrepresentation       0.57      0.84      0.68        38\n",
      "oversimplification       0.88      0.58      0.70        36\n",
      "slothful induction       0.72      0.62      0.67        45\n",
      "\n",
      "          accuracy                           0.68       119\n",
      "         macro avg       0.72      0.68      0.68       119\n",
      "      weighted avg       0.72      0.68      0.68       119\n",
      "\n",
      "test results:\n",
      "                    precision    recall  f1-score   support\n",
      "\n",
      " misrepresentation       0.54      0.86      0.67        22\n",
      "oversimplification       0.86      0.60      0.71        20\n",
      "slothful induction       0.72      0.52      0.60        25\n",
      "\n",
      "          accuracy                           0.66        67\n",
      "         macro avg       0.71      0.66      0.66        67\n",
      "      weighted avg       0.70      0.66      0.66        67\n",
      "\n",
      "### ### ### ### ### ### ### ### ### ### \n",
      "{'acc': [0.6119402985074627, 0.6567164179104478], 'f1': [0.6019753086419753, 0.6590667274661802], 'lr': [0.0001, 5e-05]}\n",
      "### ### ### ### ### ### ### ### ### ### \n",
      "Grid search gpt2, learning rate 1e-05\n"
     ]
    },
    {
     "name": "stderr",
     "output_type": "stream",
     "text": [
      "Some weights of GPT2ForSequenceClassification were not initialized from the model checkpoint at gpt2 and are newly initialized: ['score.weight']\n",
      "You should probably TRAIN this model on a down-stream task to be able to use it for predictions and inference.\n",
      "You're using a GPT2TokenizerFast tokenizer. Please note that with a fast tokenizer, using the `__call__` method is faster than using a method to encode the text followed by a call to the `pad` method to get a padded encoding.\n"
     ]
    },
    {
     "name": "stdout",
     "output_type": "stream",
     "text": [
      "1 / 30: Train Loss:\t1.9111\tVal Loss:\t1.8155\tAccuracy:\t0.3361\tF1:\t0.3069\n",
      "2 / 30: Train Loss:\t1.4345\tVal Loss:\t1.6299\tAccuracy:\t0.3109\tF1:\t0.2847\n",
      "3 / 30: Train Loss:\t1.3593\tVal Loss:\t1.4376\tAccuracy:\t0.3277\tF1:\t0.3122\n",
      "4 / 30: Train Loss:\t1.2371\tVal Loss:\t1.3733\tAccuracy:\t0.3613\tF1:\t0.3411\n",
      "5 / 30: Train Loss:\t1.1944\tVal Loss:\t1.3125\tAccuracy:\t0.3697\tF1:\t0.3458\n",
      "6 / 30: Train Loss:\t1.1725\tVal Loss:\t1.2594\tAccuracy:\t0.3613\tF1:\t0.3354\n",
      "7 / 30: Train Loss:\t1.0942\tVal Loss:\t1.2304\tAccuracy:\t0.4622\tF1:\t0.4496\n",
      "8 / 30: Train Loss:\t1.0965\tVal Loss:\t1.2055\tAccuracy:\t0.4538\tF1:\t0.4397\n",
      "9 / 30: Train Loss:\t1.0998\tVal Loss:\t1.1789\tAccuracy:\t0.4538\tF1:\t0.4424\n",
      "10 / 30: Train Loss:\t1.0652\tVal Loss:\t1.1592\tAccuracy:\t0.4874\tF1:\t0.4828\n",
      "11 / 30: Train Loss:\t1.0039\tVal Loss:\t1.1425\tAccuracy:\t0.4874\tF1:\t0.4881\n",
      "12 / 30: Train Loss:\t1.0081\tVal Loss:\t1.1096\tAccuracy:\t0.5378\tF1:\t0.5266\n",
      "13 / 30: Train Loss:\t1.0517\tVal Loss:\t1.0973\tAccuracy:\t0.5378\tF1:\t0.5367\n",
      "14 / 30: Train Loss:\t0.9961\tVal Loss:\t1.0836\tAccuracy:\t0.5378\tF1:\t0.5428\n",
      "15 / 30: Train Loss:\t0.9931\tVal Loss:\t1.0633\tAccuracy:\t0.5630\tF1:\t0.5648\n",
      "16 / 30: Train Loss:\t0.9526\tVal Loss:\t1.0428\tAccuracy:\t0.5882\tF1:\t0.5839\n",
      "17 / 30: Train Loss:\t0.9270\tVal Loss:\t1.0337\tAccuracy:\t0.5882\tF1:\t0.5916\n",
      "18 / 30: Train Loss:\t0.9433\tVal Loss:\t1.0133\tAccuracy:\t0.5966\tF1:\t0.5988\n",
      "19 / 30: Train Loss:\t0.9120\tVal Loss:\t0.9944\tAccuracy:\t0.5882\tF1:\t0.5889\n",
      "20 / 30: Train Loss:\t0.9144\tVal Loss:\t0.9857\tAccuracy:\t0.5966\tF1:\t0.5975\n",
      "21 / 30: Train Loss:\t0.8819\tVal Loss:\t0.9791\tAccuracy:\t0.5966\tF1:\t0.5990\n",
      "22 / 30: Train Loss:\t0.8438\tVal Loss:\t0.9611\tAccuracy:\t0.6050\tF1:\t0.6098\n",
      "23 / 30: Train Loss:\t0.8442\tVal Loss:\t0.9478\tAccuracy:\t0.6134\tF1:\t0.6144\n",
      "24 / 30: Train Loss:\t0.8536\tVal Loss:\t0.9507\tAccuracy:\t0.6134\tF1:\t0.6156\n",
      "25 / 30: Train Loss:\t0.7909\tVal Loss:\t0.9263\tAccuracy:\t0.6134\tF1:\t0.6145\n",
      "26 / 30: Train Loss:\t0.8025\tVal Loss:\t0.9179\tAccuracy:\t0.6303\tF1:\t0.6315\n",
      "27 / 30: Train Loss:\t0.7733\tVal Loss:\t0.9075\tAccuracy:\t0.6555\tF1:\t0.6566\n",
      "28 / 30: Train Loss:\t0.7492\tVal Loss:\t0.9053\tAccuracy:\t0.6723\tF1:\t0.6708\n",
      "29 / 30: Train Loss:\t0.7475\tVal Loss:\t0.8942\tAccuracy:\t0.6807\tF1:\t0.6798\n",
      "30 / 30: Train Loss:\t0.7035\tVal Loss:\t0.8854\tAccuracy:\t0.6639\tF1:\t0.6647\n",
      "best (higgest macro f1-score) val results:\n",
      "                    precision    recall  f1-score   support\n",
      "\n",
      " misrepresentation       0.68      0.71      0.69        38\n",
      "oversimplification       0.71      0.61      0.66        36\n",
      "slothful induction       0.62      0.67      0.65        45\n",
      "\n",
      "          accuracy                           0.66       119\n",
      "         macro avg       0.67      0.66      0.66       119\n",
      "      weighted avg       0.67      0.66      0.66       119\n",
      "\n",
      "test results:\n",
      "                    precision    recall  f1-score   support\n",
      "\n",
      " misrepresentation       0.68      0.59      0.63        22\n",
      "oversimplification       0.68      0.65      0.67        20\n",
      "slothful induction       0.66      0.76      0.70        25\n",
      "\n",
      "          accuracy                           0.67        67\n",
      "         macro avg       0.67      0.67      0.67        67\n",
      "      weighted avg       0.67      0.67      0.67        67\n",
      "\n",
      "### ### ### ### ### ### ### ### ### ### \n",
      "{'acc': [0.6119402985074627, 0.6567164179104478, 0.6716417910447762], 'f1': [0.6019753086419753, 0.6590667274661802, 0.6681722372779285], 'lr': [0.0001, 5e-05, 1e-05]}\n",
      "### ### ### ### ### ### ### ### ### ### \n"
     ]
    }
   ],
   "source": [
    "learning_rates = [1.0e-4, 5.0e-5, 1.0e-5]\n",
    "\n",
    "for lr in learning_rates:\n",
    "    print(f'Grid search {model_checkpoint}, learning rate {lr}')\n",
    "    data = ClimateDataset(model_to_train=2,model_checkpoint=model_checkpoint,batch_size=32)\n",
    "    data.setup_dataloaders()\n",
    "    model = ClassificationModel(model_checkpoint=data.model_checkpoint,num_labels=data.num_labels)\n",
    "    trainer = Engine(epochs=30,labels=data.labels)\n",
    "    trainer.model = model.model\n",
    "    trainer.device = model.device\n",
    "    acc, f1 = trainer.run(lr=lr,wd=0.0,train_dataloader=data.train_dataloader,eval_dataloader=data.eval_dataloader,test_dataloader=data.test_dataloader, early_stop=3)\n",
    "    results['acc'].append(acc)\n",
    "    results['f1'].append(f1)\n",
    "    results['lr'].append(lr)\n",
    "    print('### '*10)\n",
    "    print(results)\n",
    "    print('### '*10)\n",
    "    with torch.no_grad():\n",
    "        torch.cuda.empty_cache()\n",
    "    del data, model, trainer, acc, f1"
   ]
  },
  {
   "cell_type": "code",
   "execution_count": 5,
   "metadata": {},
   "outputs": [],
   "source": [
    "import matplotlib.pyplot as plt\n",
    "import seaborn as sns\n",
    "import pandas as pd"
   ]
  },
  {
   "cell_type": "code",
   "execution_count": 9,
   "metadata": {},
   "outputs": [
    {
     "data": {
      "image/png": "[encoded data removed]",
      "text/plain": [
       "<Figure size 640x480 with 1 Axes>"
      ]
     },
     "metadata": {},
     "output_type": "display_data"
    }
   ],
   "source": [
    "def plot_grid_search(df, title):\n",
    "\n",
    "    # Create the plot\n",
    "    ax = df.plot(x='lr', y=['acc', 'f1'], marker='o', linestyle='-')\n",
    "\n",
    "    # Set y-axis range between 0 and 1\n",
    "    plt.ylim(0, 1)\n",
    "\n",
    "    # Annotate points with F1 scores\n",
    "    for i, row in df.iterrows(): \n",
    "        ax.annotate(f'{row[\"f1\"]:.2f}', (row[\"lr\"], row[\"f1\"]), textcoords='offset points', xytext=(0, -10), ha='center')\n",
    "\n",
    "    # Annotate points with Acc scores\n",
    "    for i, row in df.iterrows():\n",
    "        ax.annotate(f'{row[\"acc\"]:.2f}', (row[\"lr\"], row[\"acc\"]), textcoords='offset points', xytext=(0, 10), ha='center')\n",
    "    \n",
    "    # \n",
    "    plt.xticks(df['lr'], [f'{val:.0e}' for val in df['lr']], ha='center')\n",
    "    plt.xscale('log')\n",
    "    plt.minorticks_off()\n",
    "\n",
    "    plt.title(title)\n",
    "    plt.xlabel('lr')\n",
    "    plt.ylabel('Score')\n",
    "    plt.show()\n",
    "\n",
    "plot_grid_search(pd.DataFrame(results), f'Learning rates {model_checkpoint}')"
   ]
  }
 ],
 "metadata": {
  "kernelspec": {
   "display_name": "Python 3",
   "language": "python",
   "name": "python3"
  },
  "language_info": {
   "codemirror_mode": {
    "name": "ipython",
    "version": 3
   },
   "file_extension": ".py",
   "mimetype": "text/x-python",
   "name": "python",
   "nbconvert_exporter": "python",
   "pygments_lexer": "ipython3",
   "version": "3.11.5"
  },
  "orig_nbformat": 4
 },
 "nbformat": 4,
 "nbformat_minor": 2
}
