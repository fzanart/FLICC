{
 "cells": [
  {
   "cell_type": "code",
   "execution_count": 1,
   "metadata": {},
   "outputs": [],
   "source": [
    "import os\n",
    "import sys\n",
    "import gc\n",
    "# assuming data, models, engine in flicc directory:\n",
    "flicc_path = os.path.realpath(\"__file__\").split('grid_search')[0]\n",
    "sys.path.append(flicc_path)\n",
    "import torch\n",
    "from data import ClimateDataset\n",
    "from models import ClassificationModel\n",
    "from engine import Engine"
   ]
  },
  {
   "cell_type": "code",
   "execution_count": 2,
   "metadata": {},
   "outputs": [],
   "source": [
    "model_checkpoint='gpt2'"
   ]
  },
  {
   "cell_type": "code",
   "execution_count": 3,
   "metadata": {},
   "outputs": [],
   "source": [
    "results = {'test_acc':[],\n",
    "           'test_f1':[],\n",
    "           'eval_acc':[],\n",
    "           'eval_f1':[],\n",
    "           'lr':[]}"
   ]
  },
  {
   "cell_type": "code",
   "execution_count": 4,
   "metadata": {},
   "outputs": [
    {
     "name": "stdout",
     "output_type": "stream",
     "text": [
      "Grid search gpt2, learning rate 1e-05\n"
     ]
    },
    {
     "data": {
      "application/vnd.jupyter.widget-view+json": {
       "model_id": "e849570f03564a069e4de032e649d34a",
       "version_major": 2,
       "version_minor": 0
      },
      "text/plain": [
       "Filter:   0%|          | 0/1796 [00:00<?, ? examples/s]"
      ]
     },
     "metadata": {},
     "output_type": "display_data"
    },
    {
     "data": {
      "application/vnd.jupyter.widget-view+json": {
       "model_id": "1f91cccfea25429e804b4e9f083465db",
       "version_major": 2,
       "version_minor": 0
      },
      "text/plain": [
       "Filter:   0%|          | 0/256 [00:00<?, ? examples/s]"
      ]
     },
     "metadata": {},
     "output_type": "display_data"
    },
    {
     "data": {
      "application/vnd.jupyter.widget-view+json": {
       "model_id": "19166b56a9864dbdaf1ec3021c84b9f7",
       "version_major": 2,
       "version_minor": 0
      },
      "text/plain": [
       "Filter:   0%|          | 0/457 [00:00<?, ? examples/s]"
      ]
     },
     "metadata": {},
     "output_type": "display_data"
    },
    {
     "data": {
      "application/vnd.jupyter.widget-view+json": {
       "model_id": "e89a2de67e02473a862bc8816f61a947",
       "version_major": 2,
       "version_minor": 0
      },
      "text/plain": [
       "Map:   0%|          | 0/472 [00:00<?, ? examples/s]"
      ]
     },
     "metadata": {},
     "output_type": "display_data"
    },
    {
     "data": {
      "application/vnd.jupyter.widget-view+json": {
       "model_id": "55c8cb7d16244824be945cd98b173319",
       "version_major": 2,
       "version_minor": 0
      },
      "text/plain": [
       "Map:   0%|          | 0/67 [00:00<?, ? examples/s]"
      ]
     },
     "metadata": {},
     "output_type": "display_data"
    },
    {
     "data": {
      "application/vnd.jupyter.widget-view+json": {
       "model_id": "5fae837f6e5140b7943133f5f960ff98",
       "version_major": 2,
       "version_minor": 0
      },
      "text/plain": [
       "Map:   0%|          | 0/119 [00:00<?, ? examples/s]"
      ]
     },
     "metadata": {},
     "output_type": "display_data"
    },
    {
     "name": "stderr",
     "output_type": "stream",
     "text": [
      "Some weights of GPT2ForSequenceClassification were not initialized from the model checkpoint at gpt2 and are newly initialized: ['score.weight']\n",
      "You should probably TRAIN this model on a down-stream task to be able to use it for predictions and inference.\n",
      "You're using a GPT2TokenizerFast tokenizer. Please note that with a fast tokenizer, using the `__call__` method is faster than using a method to encode the text followed by a call to the `pad` method to get a padded encoding.\n"
     ]
    },
    {
     "name": "stdout",
     "output_type": "stream",
     "text": [
      "1 / 30: Train Loss:\t1.9111\tVal Loss:\t1.8155\tAccuracy:\t0.3361\tF1:\t0.3069\n",
      "2 / 30: Train Loss:\t1.4345\tVal Loss:\t1.6299\tAccuracy:\t0.3109\tF1:\t0.2847\n",
      "3 / 30: Train Loss:\t1.3593\tVal Loss:\t1.4376\tAccuracy:\t0.3277\tF1:\t0.3122\n",
      "4 / 30: Train Loss:\t1.2371\tVal Loss:\t1.3733\tAccuracy:\t0.3613\tF1:\t0.3411\n",
      "5 / 30: Train Loss:\t1.1944\tVal Loss:\t1.3125\tAccuracy:\t0.3697\tF1:\t0.3458\n",
      "6 / 30: Train Loss:\t1.1725\tVal Loss:\t1.2594\tAccuracy:\t0.3613\tF1:\t0.3354\n",
      "7 / 30: Train Loss:\t1.0942\tVal Loss:\t1.2304\tAccuracy:\t0.4622\tF1:\t0.4496\n",
      "8 / 30: Train Loss:\t1.0965\tVal Loss:\t1.2055\tAccuracy:\t0.4538\tF1:\t0.4397\n",
      "9 / 30: Train Loss:\t1.0998\tVal Loss:\t1.1789\tAccuracy:\t0.4538\tF1:\t0.4424\n",
      "10 / 30: Train Loss:\t1.0652\tVal Loss:\t1.1592\tAccuracy:\t0.4874\tF1:\t0.4828\n",
      "11 / 30: Train Loss:\t1.0039\tVal Loss:\t1.1425\tAccuracy:\t0.4874\tF1:\t0.4881\n",
      "12 / 30: Train Loss:\t1.0081\tVal Loss:\t1.1096\tAccuracy:\t0.5378\tF1:\t0.5266\n",
      "13 / 30: Train Loss:\t1.0517\tVal Loss:\t1.0973\tAccuracy:\t0.5378\tF1:\t0.5367\n",
      "14 / 30: Train Loss:\t0.9961\tVal Loss:\t1.0836\tAccuracy:\t0.5378\tF1:\t0.5428\n",
      "15 / 30: Train Loss:\t0.9931\tVal Loss:\t1.0633\tAccuracy:\t0.5630\tF1:\t0.5648\n",
      "16 / 30: Train Loss:\t0.9526\tVal Loss:\t1.0428\tAccuracy:\t0.5882\tF1:\t0.5839\n",
      "17 / 30: Train Loss:\t0.9270\tVal Loss:\t1.0337\tAccuracy:\t0.5882\tF1:\t0.5916\n",
      "18 / 30: Train Loss:\t0.9433\tVal Loss:\t1.0133\tAccuracy:\t0.5966\tF1:\t0.5988\n",
      "19 / 30: Train Loss:\t0.9120\tVal Loss:\t0.9944\tAccuracy:\t0.5882\tF1:\t0.5889\n",
      "20 / 30: Train Loss:\t0.9144\tVal Loss:\t0.9857\tAccuracy:\t0.5966\tF1:\t0.5975\n",
      "21 / 30: Train Loss:\t0.8819\tVal Loss:\t0.9791\tAccuracy:\t0.5966\tF1:\t0.5990\n",
      "22 / 30: Train Loss:\t0.8438\tVal Loss:\t0.9611\tAccuracy:\t0.6050\tF1:\t0.6098\n",
      "23 / 30: Train Loss:\t0.8442\tVal Loss:\t0.9478\tAccuracy:\t0.6134\tF1:\t0.6144\n",
      "24 / 30: Train Loss:\t0.8536\tVal Loss:\t0.9507\tAccuracy:\t0.6134\tF1:\t0.6156\n",
      "25 / 30: Train Loss:\t0.7909\tVal Loss:\t0.9263\tAccuracy:\t0.6134\tF1:\t0.6145\n",
      "26 / 30: Train Loss:\t0.8025\tVal Loss:\t0.9179\tAccuracy:\t0.6303\tF1:\t0.6315\n",
      "27 / 30: Train Loss:\t0.7733\tVal Loss:\t0.9075\tAccuracy:\t0.6555\tF1:\t0.6566\n",
      "28 / 30: Train Loss:\t0.7492\tVal Loss:\t0.9053\tAccuracy:\t0.6723\tF1:\t0.6708\n",
      "29 / 30: Train Loss:\t0.7475\tVal Loss:\t0.8942\tAccuracy:\t0.6807\tF1:\t0.6798\n",
      "30 / 30: Train Loss:\t0.7035\tVal Loss:\t0.8854\tAccuracy:\t0.6639\tF1:\t0.6647\n",
      "best (higgest macro f1-score) val results:\n",
      "                    precision    recall  f1-score   support\n",
      "\n",
      " misrepresentation       0.77      0.61      0.68        38\n",
      "oversimplification       0.69      0.67      0.68        36\n",
      "slothful induction       0.63      0.76      0.69        45\n",
      "\n",
      "          accuracy                           0.68       119\n",
      "         macro avg       0.69      0.68      0.68       119\n",
      "      weighted avg       0.69      0.68      0.68       119\n",
      "\n",
      "test results:\n",
      "                    precision    recall  f1-score   support\n",
      "\n",
      " misrepresentation       0.71      0.55      0.62        22\n",
      "oversimplification       0.68      0.65      0.67        20\n",
      "slothful induction       0.61      0.76      0.68        25\n",
      "\n",
      "          accuracy                           0.66        67\n",
      "         macro avg       0.67      0.65      0.65        67\n",
      "      weighted avg       0.66      0.66      0.65        67\n",
      "\n",
      "### ### ### ### ### ### ### ### ### ### \n",
      "{'test_acc': [0.6567164179104478], 'test_f1': [0.6535409035409034], 'eval_acc': [0.680672268907563], 'eval_f1': [0.6797985377107166], 'lr': [1e-05]}\n",
      "### ### ### ### ### ### ### ### ### ### \n",
      "Grid search gpt2, learning rate 5e-05\n"
     ]
    },
    {
     "data": {
      "application/vnd.jupyter.widget-view+json": {
       "model_id": "59a21aa95be74bea99e675d8feca21dd",
       "version_major": 2,
       "version_minor": 0
      },
      "text/plain": [
       "Map:   0%|          | 0/67 [00:00<?, ? examples/s]"
      ]
     },
     "metadata": {},
     "output_type": "display_data"
    },
    {
     "name": "stderr",
     "output_type": "stream",
     "text": [
      "Some weights of GPT2ForSequenceClassification were not initialized from the model checkpoint at gpt2 and are newly initialized: ['score.weight']\n",
      "You should probably TRAIN this model on a down-stream task to be able to use it for predictions and inference.\n",
      "You're using a GPT2TokenizerFast tokenizer. Please note that with a fast tokenizer, using the `__call__` method is faster than using a method to encode the text followed by a call to the `pad` method to get a padded encoding.\n"
     ]
    },
    {
     "name": "stdout",
     "output_type": "stream",
     "text": [
      "1 / 30: Train Loss:\t1.7931\tVal Loss:\t1.2479\tAccuracy:\t0.4034\tF1:\t0.3648\n",
      "2 / 30: Train Loss:\t1.1408\tVal Loss:\t1.1632\tAccuracy:\t0.3950\tF1:\t0.3308\n",
      "3 / 30: Train Loss:\t1.0767\tVal Loss:\t1.1434\tAccuracy:\t0.4622\tF1:\t0.4635\n",
      "4 / 30: Train Loss:\t1.0465\tVal Loss:\t1.1130\tAccuracy:\t0.5126\tF1:\t0.5079\n",
      "5 / 30: Train Loss:\t0.9893\tVal Loss:\t1.0398\tAccuracy:\t0.5966\tF1:\t0.5995\n",
      "6 / 30: Train Loss:\t0.9277\tVal Loss:\t0.9947\tAccuracy:\t0.5882\tF1:\t0.5912\n",
      "7 / 30: Train Loss:\t0.8265\tVal Loss:\t0.9249\tAccuracy:\t0.6387\tF1:\t0.6425\n",
      "8 / 30: Train Loss:\t0.7818\tVal Loss:\t0.8767\tAccuracy:\t0.6891\tF1:\t0.6918\n",
      "9 / 30: Train Loss:\t0.6838\tVal Loss:\t0.9573\tAccuracy:\t0.6134\tF1:\t0.6164\n",
      "10 / 30: Train Loss:\t0.6011\tVal Loss:\t0.8284\tAccuracy:\t0.7143\tF1:\t0.7152\n",
      "11 / 30: Train Loss:\t0.5737\tVal Loss:\t0.7991\tAccuracy:\t0.7143\tF1:\t0.7160\n",
      "12 / 30: Train Loss:\t0.4977\tVal Loss:\t1.0143\tAccuracy:\t0.6387\tF1:\t0.6429\n",
      "13 / 30: Train Loss:\t0.4777\tVal Loss:\t1.0066\tAccuracy:\t0.6807\tF1:\t0.6813\n",
      "14 / 30: Train Loss:\t0.3599\tVal Loss:\t1.1045\tAccuracy:\t0.6807\tF1:\t0.6825\n",
      "No improvement for 3 epochs. Stopping early.\n",
      "best (higgest macro f1-score) val results:\n",
      "                    precision    recall  f1-score   support\n",
      "\n",
      " misrepresentation       0.64      0.79      0.71        38\n",
      "oversimplification       0.76      0.78      0.77        36\n",
      "slothful induction       0.77      0.60      0.68        45\n",
      "\n",
      "          accuracy                           0.71       119\n",
      "         macro avg       0.72      0.72      0.72       119\n",
      "      weighted avg       0.72      0.71      0.71       119\n",
      "\n",
      "test results:\n",
      "                    precision    recall  f1-score   support\n",
      "\n",
      " misrepresentation       0.61      0.64      0.62        22\n",
      "oversimplification       0.71      0.75      0.73        20\n",
      "slothful induction       0.57      0.52      0.54        25\n",
      "\n",
      "          accuracy                           0.63        67\n",
      "         macro avg       0.63      0.64      0.63        67\n",
      "      weighted avg       0.62      0.63      0.62        67\n",
      "\n",
      "### ### ### ### ### ### ### ### ### ### \n",
      "{'test_acc': [0.6567164179104478, 0.6268656716417911], 'test_f1': [0.6535409035409034, 0.6318654019873532], 'eval_acc': [0.680672268907563, 0.7142857142857143], 'eval_f1': [0.6797985377107166, 0.7160018802041365], 'lr': [1e-05, 5e-05]}\n",
      "### ### ### ### ### ### ### ### ### ### \n",
      "Grid search gpt2, learning rate 0.0001\n"
     ]
    },
    {
     "data": {
      "application/vnd.jupyter.widget-view+json": {
       "model_id": "685397e3ee6148aaa313f50805325672",
       "version_major": 2,
       "version_minor": 0
      },
      "text/plain": [
       "Map:   0%|          | 0/119 [00:00<?, ? examples/s]"
      ]
     },
     "metadata": {},
     "output_type": "display_data"
    },
    {
     "name": "stderr",
     "output_type": "stream",
     "text": [
      "Some weights of GPT2ForSequenceClassification were not initialized from the model checkpoint at gpt2 and are newly initialized: ['score.weight']\n",
      "You should probably TRAIN this model on a down-stream task to be able to use it for predictions and inference.\n",
      "You're using a GPT2TokenizerFast tokenizer. Please note that with a fast tokenizer, using the `__call__` method is faster than using a method to encode the text followed by a call to the `pad` method to get a padded encoding.\n"
     ]
    },
    {
     "name": "stdout",
     "output_type": "stream",
     "text": [
      "1 / 30: Train Loss:\t1.9721\tVal Loss:\t1.2578\tAccuracy:\t0.3025\tF1:\t0.2328\n",
      "2 / 30: Train Loss:\t1.3151\tVal Loss:\t1.2343\tAccuracy:\t0.4454\tF1:\t0.3372\n",
      "3 / 30: Train Loss:\t1.1831\tVal Loss:\t1.1606\tAccuracy:\t0.4286\tF1:\t0.3460\n",
      "4 / 30: Train Loss:\t1.1341\tVal Loss:\t1.1150\tAccuracy:\t0.4538\tF1:\t0.4000\n",
      "5 / 30: Train Loss:\t1.0760\tVal Loss:\t1.0978\tAccuracy:\t0.5042\tF1:\t0.4563\n",
      "6 / 30: Train Loss:\t1.0661\tVal Loss:\t1.0814\tAccuracy:\t0.5126\tF1:\t0.4992\n",
      "7 / 30: Train Loss:\t1.0018\tVal Loss:\t1.0529\tAccuracy:\t0.5630\tF1:\t0.5680\n",
      "8 / 30: Train Loss:\t0.9192\tVal Loss:\t0.9656\tAccuracy:\t0.6471\tF1:\t0.6503\n",
      "9 / 30: Train Loss:\t0.8200\tVal Loss:\t0.8671\tAccuracy:\t0.5966\tF1:\t0.6003\n",
      "10 / 30: Train Loss:\t0.6729\tVal Loss:\t0.8393\tAccuracy:\t0.6471\tF1:\t0.6455\n",
      "11 / 30: Train Loss:\t0.6028\tVal Loss:\t0.8385\tAccuracy:\t0.6807\tF1:\t0.6817\n",
      "12 / 30: Train Loss:\t0.4844\tVal Loss:\t0.9439\tAccuracy:\t0.6639\tF1:\t0.6642\n",
      "13 / 30: Train Loss:\t0.4609\tVal Loss:\t0.8794\tAccuracy:\t0.6975\tF1:\t0.6991\n",
      "14 / 30: Train Loss:\t0.3004\tVal Loss:\t1.2397\tAccuracy:\t0.6891\tF1:\t0.6889\n",
      "15 / 30: Train Loss:\t0.3237\tVal Loss:\t1.3427\tAccuracy:\t0.6723\tF1:\t0.6619\n",
      "16 / 30: Train Loss:\t0.3193\tVal Loss:\t1.4365\tAccuracy:\t0.6975\tF1:\t0.6937\n",
      "No improvement for 3 epochs. Stopping early.\n",
      "best (higgest macro f1-score) val results:\n",
      "                    precision    recall  f1-score   support\n",
      "\n",
      " misrepresentation       0.68      0.74      0.71        38\n",
      "oversimplification       0.79      0.64      0.71        36\n",
      "slothful induction       0.65      0.71      0.68        45\n",
      "\n",
      "          accuracy                           0.70       119\n",
      "         macro avg       0.71      0.70      0.70       119\n",
      "      weighted avg       0.70      0.70      0.70       119\n",
      "\n",
      "test results:\n",
      "                    precision    recall  f1-score   support\n",
      "\n",
      " misrepresentation       0.58      0.82      0.68        22\n",
      "oversimplification       0.75      0.75      0.75        20\n",
      "slothful induction       0.75      0.48      0.59        25\n",
      "\n",
      "          accuracy                           0.67        67\n",
      "         macro avg       0.69      0.68      0.67        67\n",
      "      weighted avg       0.69      0.67      0.67        67\n",
      "\n",
      "### ### ### ### ### ### ### ### ### ### \n",
      "{'test_acc': [0.6567164179104478, 0.6268656716417911, 0.6716417910447762], 'test_f1': [0.6535409035409034, 0.6318654019873532, 0.6715370455591348], 'eval_acc': [0.680672268907563, 0.7142857142857143, 0.6974789915966386], 'eval_f1': [0.6797985377107166, 0.7160018802041365, 0.6991347103385886], 'lr': [1e-05, 5e-05, 0.0001]}\n",
      "### ### ### ### ### ### ### ### ### ### \n"
     ]
    }
   ],
   "source": [
    "learning_rates = [1.0e-5, 5.0e-5 ,1.0e-4]\n",
    "\n",
    "for lr in learning_rates:\n",
    "    print(f'Grid search {model_checkpoint}, learning rate {lr}')\n",
    "    data = ClimateDataset(model_to_train=2,model_checkpoint=model_checkpoint,dataset_url=flicc_path,batch_size=32)\n",
    "    data.setup_dataloaders()\n",
    "    model = ClassificationModel(model_checkpoint=data.model_checkpoint,num_labels=data.num_labels)\n",
    "    trainer = Engine(epochs=30,labels=data.labels)\n",
    "    trainer.model = model.model\n",
    "    test_acc, test_f1, eval_acc, eval_f1 = trainer.run(lr=lr,\n",
    "                                                       wd=0.0,\n",
    "                                                       train_dataloader=data.train_dataloader,\n",
    "                                                       eval_dataloader=data.eval_dataloader,\n",
    "                                                       test_dataloader=data.test_dataloader,\n",
    "                                                       early_stop=3)\n",
    "    results['test_acc'].append(test_acc)\n",
    "    results['test_f1'].append(test_f1)\n",
    "    results['eval_acc'].append(eval_acc)\n",
    "    results['eval_f1'].append(eval_f1)\n",
    "    results['lr'].append(lr)\n",
    "    print('### '*10)\n",
    "    print(results)\n",
    "    print('### '*10)\n",
    "    with torch.no_grad():\n",
    "        torch.cuda.empty_cache()\n",
    "    del data, model, trainer, test_acc, test_f1, eval_acc, eval_f1\n",
    "    gc.collect()"
   ]
  },
  {
   "cell_type": "code",
   "execution_count": 5,
   "metadata": {},
   "outputs": [
    {
     "data": {
      "image/png": "[encoded data removed]",
      "text/plain": [
       "<Figure size 640x480 with 1 Axes>"
      ]
     },
     "metadata": {},
     "output_type": "display_data"
    }
   ],
   "source": [
    "Engine.plot_grid_search(df=results,\n",
    "                        title=f'Learning rates {model_checkpoint}',\n",
    "                        column='lr',\n",
    "                        sci_format=False)"
   ]
  },
  {
   "cell_type": "code",
   "execution_count": 6,
   "metadata": {},
   "outputs": [],
   "source": [
    "%reset -f"
   ]
  }
 ],
 "metadata": {
  "kernelspec": {
   "display_name": "Python 3",
   "language": "python",
   "name": "python3"
  },
  "language_info": {
   "codemirror_mode": {
    "name": "ipython",
    "version": 3
   },
   "file_extension": ".py",
   "mimetype": "text/x-python",
   "name": "python",
   "nbconvert_exporter": "python",
   "pygments_lexer": "ipython3",
   "version": "3.11.5"
  },
  "orig_nbformat": 4
 },
 "nbformat": 4,
 "nbformat_minor": 2
}
