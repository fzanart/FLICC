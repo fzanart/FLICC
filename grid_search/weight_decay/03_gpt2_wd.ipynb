{
 "cells": [
  {
   "cell_type": "code",
   "execution_count": 1,
   "metadata": {},
   "outputs": [],
   "source": [
    "import torch\n",
    "from data import ClimateDataset\n",
    "from models import ClassificationModel\n",
    "from engine import Engine"
   ]
  },
  {
   "cell_type": "code",
   "execution_count": 2,
   "metadata": {},
   "outputs": [],
   "source": [
    "model_checkpoint='gpt2'"
   ]
  },
  {
   "cell_type": "code",
   "execution_count": 3,
   "metadata": {},
   "outputs": [],
   "source": [
    "results = {'acc':[],\n",
    "           'f1':[],\n",
    "           'wd':[]}"
   ]
  },
  {
   "cell_type": "code",
   "execution_count": 4,
   "metadata": {},
   "outputs": [
    {
     "name": "stdout",
     "output_type": "stream",
     "text": [
      "Grid search gpt2, lr: 0.0001\n"
     ]
    },
    {
     "name": "stderr",
     "output_type": "stream",
     "text": [
      "Some weights of GPT2ForSequenceClassification were not initialized from the model checkpoint at gpt2 and are newly initialized: ['score.weight']\n",
      "You should probably TRAIN this model on a down-stream task to be able to use it for predictions and inference.\n",
      "You're using a GPT2TokenizerFast tokenizer. Please note that with a fast tokenizer, using the `__call__` method is faster than using a method to encode the text followed by a call to the `pad` method to get a padded encoding.\n"
     ]
    },
    {
     "name": "stdout",
     "output_type": "stream",
     "text": [
      "1 / 10: Train Loss:\t0.7142\tVal Loss:\t0.5473\tAccuracy:\t0.7396\tF1:\t0.4332\n",
      "2 / 10: Train Loss:\t0.5005\tVal Loss:\t0.4887\tAccuracy:\t0.7899\tF1:\t0.6327\n",
      "3 / 10: Train Loss:\t0.4572\tVal Loss:\t0.4670\tAccuracy:\t0.8009\tF1:\t0.6501\n",
      "4 / 10: Train Loss:\t0.4083\tVal Loss:\t0.4038\tAccuracy:\t0.8359\tF1:\t0.7537\n",
      "5 / 10: Train Loss:\t0.3212\tVal Loss:\t0.4607\tAccuracy:\t0.8184\tF1:\t0.6901\n",
      "6 / 10: Train Loss:\t0.2713\tVal Loss:\t0.4253\tAccuracy:\t0.8403\tF1:\t0.7873\n",
      "7 / 10: Train Loss:\t0.2036\tVal Loss:\t0.4406\tAccuracy:\t0.8490\tF1:\t0.7915\n",
      "8 / 10: Train Loss:\t0.1314\tVal Loss:\t0.7975\tAccuracy:\t0.8337\tF1:\t0.7371\n",
      "9 / 10: Train Loss:\t0.0683\tVal Loss:\t1.0197\tAccuracy:\t0.8206\tF1:\t0.7037\n",
      "10 / 10: Train Loss:\t0.0813\tVal Loss:\t0.8264\tAccuracy:\t0.8271\tF1:\t0.7232\n",
      "No improvement for 3 epochs. Stopping early.\n",
      "best (higgest macro f1-score) val results:\n",
      "              precision    recall  f1-score   support\n",
      "\n",
      "       bknow       0.84      0.41      0.55       119\n",
      "      struct       0.82      0.97      0.89       338\n",
      "\n",
      "    accuracy                           0.83       457\n",
      "   macro avg       0.83      0.69      0.72       457\n",
      "weighted avg       0.83      0.83      0.80       457\n",
      "\n",
      "test results:\n",
      "              precision    recall  f1-score   support\n",
      "\n",
      "       bknow       0.79      0.40      0.53        67\n",
      "      struct       0.82      0.96      0.89       189\n",
      "\n",
      "    accuracy                           0.82       256\n",
      "   macro avg       0.81      0.68      0.71       256\n",
      "weighted avg       0.81      0.82      0.79       256\n",
      "\n",
      "### ### ### ### ### ### ### ### ### ### \n",
      "{'acc': [0.81640625], 'f1': [0.7101491171014911], 'wd': [0.01]}\n",
      "### ### ### ### ### ### ### ### ### ### \n"
     ]
    }
   ],
   "source": [
    "lr = 1.0e-4\n",
    "wd = 0.01\n",
    "\n",
    "print(f'Grid search {model_checkpoint}, lr: {lr}')\n",
    "data = ClimateDataset(model_to_train=1,model_checkpoint=model_checkpoint,batch_size=32)\n",
    "data.setup_dataloaders()\n",
    "model = ClassificationModel(model_checkpoint=data.model_checkpoint,num_labels=data.num_labels)\n",
    "trainer = Engine(epochs=10,labels=data.labels)\n",
    "trainer.model = model.model\n",
    "trainer.dataset_encoded = data.dataset_encoded\n",
    "acc, f1 = trainer.run(lr=lr,\n",
    "                        wd=wd,\n",
    "                        train_dataloader=data.train_dataloader,\n",
    "                        eval_dataloader=data.eval_dataloader,\n",
    "                        test_dataloader=data.test_dataloader,\n",
    "                        early_stop=3)\n",
    "results['acc'].append(acc)\n",
    "results['f1'].append(f1)\n",
    "results['wd'].append(wd)\n",
    "print('### '*10)\n",
    "print(results)\n",
    "print('### '*10)"
   ]
  }
 ],
 "metadata": {
  "kernelspec": {
   "display_name": "Python 3",
   "language": "python",
   "name": "python3"
  },
  "language_info": {
   "codemirror_mode": {
    "name": "ipython",
    "version": 3
   },
   "file_extension": ".py",
   "mimetype": "text/x-python",
   "name": "python",
   "nbconvert_exporter": "python",
   "pygments_lexer": "ipython3",
   "version": "3.11.5"
  },
  "orig_nbformat": 4
 },
 "nbformat": 4,
 "nbformat_minor": 2
}
