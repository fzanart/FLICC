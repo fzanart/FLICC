{
 "cells": [
  {
   "cell_type": "code",
   "execution_count": 1,
   "metadata": {},
   "outputs": [],
   "source": [
    "import torch\n",
    "from data import ClimateDataset\n",
    "from models import ClassificationModel\n",
    "from engine import Engine"
   ]
  },
  {
   "cell_type": "code",
   "execution_count": 2,
   "metadata": {},
   "outputs": [],
   "source": [
    "model_checkpoint='facebook/opt-350m'"
   ]
  },
  {
   "cell_type": "code",
   "execution_count": 3,
   "metadata": {},
   "outputs": [],
   "source": [
    "results = {'acc':[],\n",
    "           'f1':[],\n",
    "           'g':[],\n",
    "           'wd':[]}"
   ]
  },
  {
   "cell_type": "code",
   "execution_count": 4,
   "metadata": {},
   "outputs": [
    {
     "name": "stdout",
     "output_type": "stream",
     "text": [
      "Grid search facebook/opt-350m, lr: 1e-05 ,focal loss, gamma: 8\n"
     ]
    },
    {
     "data": {
      "application/vnd.jupyter.widget-view+json": {
       "model_id": "2cff1fe3f46841ffa30520e72cf903b1",
       "version_major": 2,
       "version_minor": 0
      },
      "text/plain": [
       "Map:   0%|          | 0/1796 [00:00<?, ? examples/s]"
      ]
     },
     "metadata": {},
     "output_type": "display_data"
    },
    {
     "name": "stderr",
     "output_type": "stream",
     "text": [
      "Asking to truncate to max_length but no maximum length is provided and the model has no predefined maximum length. Default to no truncation.\n"
     ]
    },
    {
     "data": {
      "application/vnd.jupyter.widget-view+json": {
       "model_id": "086b6533ed4f46c9a054b22dc3be02db",
       "version_major": 2,
       "version_minor": 0
      },
      "text/plain": [
       "Map:   0%|          | 0/256 [00:00<?, ? examples/s]"
      ]
     },
     "metadata": {},
     "output_type": "display_data"
    },
    {
     "data": {
      "application/vnd.jupyter.widget-view+json": {
       "model_id": "0692b704d2d94b269b5dce15a151bf12",
       "version_major": 2,
       "version_minor": 0
      },
      "text/plain": [
       "Map:   0%|          | 0/457 [00:00<?, ? examples/s]"
      ]
     },
     "metadata": {},
     "output_type": "display_data"
    },
    {
     "name": "stderr",
     "output_type": "stream",
     "text": [
      "Some weights of OPTForSequenceClassification were not initialized from the model checkpoint at facebook/opt-350m and are newly initialized: ['score.weight']\n",
      "You should probably TRAIN this model on a down-stream task to be able to use it for predictions and inference.\n",
      "You're using a GPT2TokenizerFast tokenizer. Please note that with a fast tokenizer, using the `__call__` method is faster than using a method to encode the text followed by a call to the `pad` method to get a padded encoding.\n"
     ]
    },
    {
     "name": "stdout",
     "output_type": "stream",
     "text": [
      "1 / 10: Train Loss:\t0.2505\tVal Loss:\t0.6759\tAccuracy:\t0.4814\tF1:\t0.4814\n",
      "2 / 10: Train Loss:\t0.0083\tVal Loss:\t0.5944\tAccuracy:\t0.7527\tF1:\t0.6942\n",
      "3 / 10: Train Loss:\t0.0070\tVal Loss:\t0.6479\tAccuracy:\t0.5383\tF1:\t0.5354\n",
      "4 / 10: Train Loss:\t0.0063\tVal Loss:\t0.6160\tAccuracy:\t0.7002\tF1:\t0.6629\n",
      "5 / 10: Train Loss:\t0.0058\tVal Loss:\t0.6009\tAccuracy:\t0.7549\tF1:\t0.7081\n",
      "6 / 10: Train Loss:\t0.0086\tVal Loss:\t0.5354\tAccuracy:\t0.7921\tF1:\t0.6419\n",
      "7 / 10: Train Loss:\t0.0058\tVal Loss:\t0.7204\tAccuracy:\t0.4267\tF1:\t0.4216\n",
      "8 / 10: Train Loss:\t0.0074\tVal Loss:\t0.5032\tAccuracy:\t0.7812\tF1:\t0.6095\n",
      "No improvement for 3 epochs. Stopping early.\n",
      "best (higgest macro f1-score) val results:\n",
      "              precision    recall  f1-score   support\n",
      "\n",
      "       bknow       0.77      0.23      0.35       119\n",
      "      struct       0.78      0.98      0.87       338\n",
      "\n",
      "    accuracy                           0.78       457\n",
      "   macro avg       0.78      0.60      0.61       457\n",
      "weighted avg       0.78      0.78      0.73       457\n",
      "\n",
      "test results:\n",
      "              precision    recall  f1-score   support\n",
      "\n",
      "       bknow       0.71      0.30      0.42        67\n",
      "      struct       0.79      0.96      0.87       189\n",
      "\n",
      "    accuracy                           0.79       256\n",
      "   macro avg       0.75      0.63      0.64       256\n",
      "weighted avg       0.77      0.79      0.75       256\n",
      "\n",
      "### ### ### ### ### ### ### ### ### ### \n",
      "{'acc': [0.78515625], 'f1': [0.6445790735832386], 'g': [8], 'wd': [0.01]}\n",
      "### ### ### ### ### ### ### ### ### ### \n"
     ]
    }
   ],
   "source": [
    "gamma = 8\n",
    "lr = 1.0e-5\n",
    "wd = 0.01\n",
    "\n",
    "print(f'Grid search {model_checkpoint}, lr: {lr} ,focal loss, gamma: {gamma}')\n",
    "data = ClimateDataset(model_to_train=1,model_checkpoint=model_checkpoint,batch_size=16)\n",
    "data.setup_dataloaders()\n",
    "model = ClassificationModel(model_checkpoint=data.model_checkpoint,num_labels=data.num_labels)\n",
    "trainer = Engine(epochs=10,labels=data.labels)\n",
    "trainer.model = model.model\n",
    "trainer.dataset_encoded = data.dataset_encoded\n",
    "acc, f1 = trainer.run(lr=lr,\n",
    "                        wd=wd,\n",
    "                        train_dataloader=data.train_dataloader,\n",
    "                        eval_dataloader=data.eval_dataloader,\n",
    "                        test_dataloader=data.test_dataloader,\n",
    "                        focalloss=True,\n",
    "                        early_stop=3,\n",
    "                        accumulation_steps=2,\n",
    "                        gamma=gamma)\n",
    "results['acc'].append(acc)\n",
    "results['f1'].append(f1)\n",
    "results['g'].append(gamma)\n",
    "results['wd'].append(wd)\n",
    "print('### '*10)\n",
    "print(results)\n",
    "print('### '*10)"
   ]
  }
 ],
 "metadata": {
  "kernelspec": {
   "display_name": "Python 3",
   "language": "python",
   "name": "python3"
  },
  "language_info": {
   "codemirror_mode": {
    "name": "ipython",
    "version": 3
   },
   "file_extension": ".py",
   "mimetype": "text/x-python",
   "name": "python",
   "nbconvert_exporter": "python",
   "pygments_lexer": "ipython3",
   "version": "3.11.5"
  },
  "orig_nbformat": 4
 },
 "nbformat": 4,
 "nbformat_minor": 2
}
