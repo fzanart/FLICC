{
 "cells": [
  {
   "cell_type": "code",
   "execution_count": 1,
   "metadata": {},
   "outputs": [],
   "source": [
    "import torch\n",
    "from data import ClimateDataset\n",
    "from models import ClassificationModel\n",
    "from engine import Engine"
   ]
  },
  {
   "cell_type": "code",
   "execution_count": 2,
   "metadata": {},
   "outputs": [],
   "source": [
    "model_checkpoint='microsoft/deberta-base'"
   ]
  },
  {
   "cell_type": "code",
   "execution_count": 3,
   "metadata": {},
   "outputs": [],
   "source": [
    "results = {'acc':[],\n",
    "           'f1':[],\n",
    "           'lr':[]}"
   ]
  },
  {
   "cell_type": "code",
   "execution_count": 4,
   "metadata": {},
   "outputs": [
    {
     "name": "stdout",
     "output_type": "stream",
     "text": [
      "Grid search microsoft/deberta-base, learning rate 0.001\n"
     ]
    },
    {
     "data": {
      "application/vnd.jupyter.widget-view+json": {
       "model_id": "634e97dd5247488094228d25e2d52771",
       "version_major": 2,
       "version_minor": 0
      },
      "text/plain": [
       "Map:   0%|          | 0/256 [00:00<?, ? examples/s]"
      ]
     },
     "metadata": {},
     "output_type": "display_data"
    },
    {
     "name": "stderr",
     "output_type": "stream",
     "text": [
      "Some weights of DebertaForSequenceClassification were not initialized from the model checkpoint at microsoft/deberta-base and are newly initialized: ['pooler.dense.weight', 'pooler.dense.bias', 'classifier.bias', 'classifier.weight']\n",
      "You should probably TRAIN this model on a down-stream task to be able to use it for predictions and inference.\n",
      "You're using a DebertaTokenizerFast tokenizer. Please note that with a fast tokenizer, using the `__call__` method is faster than using a method to encode the text followed by a call to the `pad` method to get a padded encoding.\n"
     ]
    },
    {
     "name": "stdout",
     "output_type": "stream",
     "text": [
      "1 / 10: Train Loss:\t0.6069\tVal Loss:\t0.5826\tAccuracy:\t0.7396\tF1:\t0.4252\n",
      "2 / 10: Train Loss:\t0.5790\tVal Loss:\t0.5852\tAccuracy:\t0.7396\tF1:\t0.4252\n",
      "3 / 10: Train Loss:\t0.5766\tVal Loss:\t0.5869\tAccuracy:\t0.7396\tF1:\t0.4252\n",
      "4 / 10: Train Loss:\t0.5777\tVal Loss:\t0.5854\tAccuracy:\t0.7396\tF1:\t0.4252\n",
      "5 / 10: Train Loss:\t0.5761\tVal Loss:\t0.5873\tAccuracy:\t0.7396\tF1:\t0.4252\n",
      "6 / 10: Train Loss:\t0.5763\tVal Loss:\t0.5880\tAccuracy:\t0.7396\tF1:\t0.4252\n",
      "7 / 10: Train Loss:\t0.5754\tVal Loss:\t0.5864\tAccuracy:\t0.7396\tF1:\t0.4252\n",
      "8 / 10: Train Loss:\t0.5751\tVal Loss:\t0.5874\tAccuracy:\t0.7396\tF1:\t0.4252\n",
      "9 / 10: Train Loss:\t0.5760\tVal Loss:\t0.5864\tAccuracy:\t0.7396\tF1:\t0.4252\n",
      "10 / 10: Train Loss:\t0.5749\tVal Loss:\t0.5861\tAccuracy:\t0.7396\tF1:\t0.4252\n",
      "best (higgest macro f1-score) val results:\n",
      "              precision    recall  f1-score   support\n",
      "\n",
      "       bknow       0.00      0.00      0.00       119\n",
      "      struct       0.74      1.00      0.85       338\n",
      "\n",
      "    accuracy                           0.74       457\n",
      "   macro avg       0.37      0.50      0.43       457\n",
      "weighted avg       0.55      0.74      0.63       457\n",
      "\n",
      "test results:\n",
      "              precision    recall  f1-score   support\n",
      "\n",
      "       bknow       0.00      0.00      0.00        67\n",
      "      struct       0.74      1.00      0.85       189\n",
      "\n",
      "    accuracy                           0.74       256\n",
      "   macro avg       0.37      0.50      0.42       256\n",
      "weighted avg       0.55      0.74      0.63       256\n",
      "\n",
      "### ### ### ### ### ### ### ### ### ### \n",
      "{'acc': [0.73828125], 'f1': [0.4247191011235955], 'lr': [0.001]}\n",
      "### ### ### ### ### ### ### ### ### ### \n",
      "Grid search microsoft/deberta-base, learning rate 0.0001\n"
     ]
    },
    {
     "data": {
      "application/vnd.jupyter.widget-view+json": {
       "model_id": "630847e727ef49e4b142c770ed89d034",
       "version_major": 2,
       "version_minor": 0
      },
      "text/plain": [
       "Map:   0%|          | 0/457 [00:00<?, ? examples/s]"
      ]
     },
     "metadata": {},
     "output_type": "display_data"
    },
    {
     "name": "stderr",
     "output_type": "stream",
     "text": [
      "Some weights of DebertaForSequenceClassification were not initialized from the model checkpoint at microsoft/deberta-base and are newly initialized: ['pooler.dense.weight', 'pooler.dense.bias', 'classifier.bias', 'classifier.weight']\n",
      "You should probably TRAIN this model on a down-stream task to be able to use it for predictions and inference.\n",
      "You're using a DebertaTokenizerFast tokenizer. Please note that with a fast tokenizer, using the `__call__` method is faster than using a method to encode the text followed by a call to the `pad` method to get a padded encoding.\n"
     ]
    },
    {
     "name": "stdout",
     "output_type": "stream",
     "text": [
      "1 / 10: Train Loss:\t0.5333\tVal Loss:\t0.4564\tAccuracy:\t0.7637\tF1:\t0.7220\n",
      "2 / 10: Train Loss:\t0.3804\tVal Loss:\t0.4429\tAccuracy:\t0.8271\tF1:\t0.7797\n",
      "3 / 10: Train Loss:\t0.2239\tVal Loss:\t0.4672\tAccuracy:\t0.8534\tF1:\t0.7730\n",
      "4 / 10: Train Loss:\t0.1404\tVal Loss:\t0.7552\tAccuracy:\t0.8359\tF1:\t0.7200\n",
      "5 / 10: Train Loss:\t0.1392\tVal Loss:\t1.1487\tAccuracy:\t0.6958\tF1:\t0.6785\n",
      "6 / 10: Train Loss:\t0.0820\tVal Loss:\t0.6609\tAccuracy:\t0.8403\tF1:\t0.7808\n",
      "7 / 10: Train Loss:\t0.0262\tVal Loss:\t0.6931\tAccuracy:\t0.8468\tF1:\t0.7850\n",
      "8 / 10: Train Loss:\t0.0117\tVal Loss:\t0.7231\tAccuracy:\t0.8490\tF1:\t0.7966\n",
      "9 / 10: Train Loss:\t0.0196\tVal Loss:\t0.6316\tAccuracy:\t0.8665\tF1:\t0.8055\n",
      "10 / 10: Train Loss:\t0.0284\tVal Loss:\t0.6166\tAccuracy:\t0.8381\tF1:\t0.7771\n",
      "best (higgest macro f1-score) val results:\n",
      "              precision    recall  f1-score   support\n",
      "\n",
      "       bknow       0.73      0.61      0.66       119\n",
      "      struct       0.87      0.92      0.89       338\n",
      "\n",
      "    accuracy                           0.84       457\n",
      "   macro avg       0.80      0.76      0.78       457\n",
      "weighted avg       0.83      0.84      0.83       457\n",
      "\n",
      "test results:\n",
      "              precision    recall  f1-score   support\n",
      "\n",
      "       bknow       0.62      0.57      0.59        67\n",
      "      struct       0.85      0.88      0.86       189\n",
      "\n",
      "    accuracy                           0.80       256\n",
      "   macro avg       0.74      0.72      0.73       256\n",
      "weighted avg       0.79      0.80      0.79       256\n",
      "\n",
      "### ### ### ### ### ### ### ### ### ### \n",
      "{'acc': [0.73828125, 0.796875], 'f1': [0.4247191011235955, 0.7291666666666665], 'lr': [0.001, 0.0001]}\n",
      "### ### ### ### ### ### ### ### ### ### \n",
      "Grid search microsoft/deberta-base, learning rate 1e-05\n"
     ]
    },
    {
     "name": "stderr",
     "output_type": "stream",
     "text": [
      "Some weights of DebertaForSequenceClassification were not initialized from the model checkpoint at microsoft/deberta-base and are newly initialized: ['pooler.dense.weight', 'pooler.dense.bias', 'classifier.bias', 'classifier.weight']\n",
      "You should probably TRAIN this model on a down-stream task to be able to use it for predictions and inference.\n",
      "You're using a DebertaTokenizerFast tokenizer. Please note that with a fast tokenizer, using the `__call__` method is faster than using a method to encode the text followed by a call to the `pad` method to get a padded encoding.\n"
     ]
    },
    {
     "name": "stdout",
     "output_type": "stream",
     "text": [
      "1 / 10: Train Loss:\t0.5518\tVal Loss:\t0.4740\tAccuracy:\t0.7834\tF1:\t0.6590\n",
      "2 / 10: Train Loss:\t0.4234\tVal Loss:\t0.3983\tAccuracy:\t0.8249\tF1:\t0.7209\n",
      "3 / 10: Train Loss:\t0.3022\tVal Loss:\t0.3818\tAccuracy:\t0.8556\tF1:\t0.7903\n",
      "4 / 10: Train Loss:\t0.1827\tVal Loss:\t0.4040\tAccuracy:\t0.8643\tF1:\t0.8030\n",
      "5 / 10: Train Loss:\t0.1164\tVal Loss:\t0.4796\tAccuracy:\t0.8578\tF1:\t0.8023\n",
      "6 / 10: Train Loss:\t0.0903\tVal Loss:\t0.7037\tAccuracy:\t0.7921\tF1:\t0.7655\n",
      "7 / 10: Train Loss:\t0.0927\tVal Loss:\t0.5516\tAccuracy:\t0.8249\tF1:\t0.7888\n",
      "8 / 10: Train Loss:\t0.0454\tVal Loss:\t0.5412\tAccuracy:\t0.8534\tF1:\t0.8059\n",
      "9 / 10: Train Loss:\t0.0348\tVal Loss:\t0.5528\tAccuracy:\t0.8643\tF1:\t0.8083\n",
      "10 / 10: Train Loss:\t0.0231\tVal Loss:\t0.6154\tAccuracy:\t0.8490\tF1:\t0.7845\n",
      "best (higgest macro f1-score) val results:\n",
      "              precision    recall  f1-score   support\n",
      "\n",
      "       bknow       0.78      0.58      0.67       119\n",
      "      struct       0.86      0.94      0.90       338\n",
      "\n",
      "    accuracy                           0.85       457\n",
      "   macro avg       0.82      0.76      0.78       457\n",
      "weighted avg       0.84      0.85      0.84       457\n",
      "\n",
      "test results:\n",
      "              precision    recall  f1-score   support\n",
      "\n",
      "       bknow       0.74      0.60      0.66        67\n",
      "      struct       0.87      0.93      0.90       189\n",
      "\n",
      "    accuracy                           0.84       256\n",
      "   macro avg       0.80      0.76      0.78       256\n",
      "weighted avg       0.83      0.84      0.83       256\n",
      "\n",
      "### ### ### ### ### ### ### ### ### ### \n",
      "{'acc': [0.73828125, 0.796875, 0.83984375], 'f1': [0.4247191011235955, 0.7291666666666665, 0.7781488448775126], 'lr': [0.001, 0.0001, 1e-05]}\n",
      "### ### ### ### ### ### ### ### ### ### \n",
      "Grid search microsoft/deberta-base, learning rate 1e-06\n"
     ]
    },
    {
     "name": "stderr",
     "output_type": "stream",
     "text": [
      "Some weights of DebertaForSequenceClassification were not initialized from the model checkpoint at microsoft/deberta-base and are newly initialized: ['pooler.dense.weight', 'pooler.dense.bias', 'classifier.bias', 'classifier.weight']\n",
      "You should probably TRAIN this model on a down-stream task to be able to use it for predictions and inference.\n",
      "You're using a DebertaTokenizerFast tokenizer. Please note that with a fast tokenizer, using the `__call__` method is faster than using a method to encode the text followed by a call to the `pad` method to get a padded encoding.\n"
     ]
    },
    {
     "name": "stdout",
     "output_type": "stream",
     "text": [
      "1 / 10: Train Loss:\t0.6428\tVal Loss:\t0.5851\tAccuracy:\t0.7396\tF1:\t0.4252\n",
      "2 / 10: Train Loss:\t0.5648\tVal Loss:\t0.5715\tAccuracy:\t0.7396\tF1:\t0.4252\n",
      "3 / 10: Train Loss:\t0.5482\tVal Loss:\t0.5424\tAccuracy:\t0.7396\tF1:\t0.4252\n",
      "4 / 10: Train Loss:\t0.5302\tVal Loss:\t0.5252\tAccuracy:\t0.7396\tF1:\t0.4252\n",
      "5 / 10: Train Loss:\t0.5108\tVal Loss:\t0.5137\tAccuracy:\t0.7396\tF1:\t0.4252\n",
      "6 / 10: Train Loss:\t0.5001\tVal Loss:\t0.5086\tAccuracy:\t0.7396\tF1:\t0.4252\n",
      "7 / 10: Train Loss:\t0.4925\tVal Loss:\t0.5051\tAccuracy:\t0.7615\tF1:\t0.5144\n",
      "8 / 10: Train Loss:\t0.4779\tVal Loss:\t0.4959\tAccuracy:\t0.7702\tF1:\t0.5597\n",
      "9 / 10: Train Loss:\t0.4767\tVal Loss:\t0.4930\tAccuracy:\t0.7834\tF1:\t0.6373\n",
      "10 / 10: Train Loss:\t0.4734\tVal Loss:\t0.4855\tAccuracy:\t0.7877\tF1:\t0.6479\n",
      "best (higgest macro f1-score) val results:\n",
      "              precision    recall  f1-score   support\n",
      "\n",
      "       bknow       0.72      0.30      0.43       119\n",
      "      struct       0.80      0.96      0.87       338\n",
      "\n",
      "    accuracy                           0.79       457\n",
      "   macro avg       0.76      0.63      0.65       457\n",
      "weighted avg       0.78      0.79      0.75       457\n",
      "\n",
      "test results:\n",
      "              precision    recall  f1-score   support\n",
      "\n",
      "       bknow       0.63      0.33      0.43        67\n",
      "      struct       0.80      0.93      0.86       189\n",
      "\n",
      "    accuracy                           0.77       256\n",
      "   macro avg       0.71      0.63      0.64       256\n",
      "weighted avg       0.75      0.77      0.75       256\n",
      "\n",
      "### ### ### ### ### ### ### ### ### ### \n",
      "{'acc': [0.73828125, 0.796875, 0.83984375, 0.7734375], 'f1': [0.4247191011235955, 0.7291666666666665, 0.7781488448775126, 0.6449545671927308], 'lr': [0.001, 0.0001, 1e-05, 1e-06]}\n",
      "### ### ### ### ### ### ### ### ### ### \n"
     ]
    }
   ],
   "source": [
    "learning_rates = [1.0e-3, 1.0e-4, 1.0e-5, 1.0e-6]\n",
    "for lr in learning_rates:\n",
    "    print(f'Grid search {model_checkpoint}, learning rate {lr}')\n",
    "    data = ClimateDataset(model_to_train=1,model_checkpoint=model_checkpoint,batch_size=32)\n",
    "    data.setup_dataloaders()\n",
    "    model = ClassificationModel(model_checkpoint=data.model_checkpoint,num_labels=data.num_labels)\n",
    "    trainer = Engine(epochs=10,labels=data.labels)\n",
    "    trainer.model = model.model\n",
    "    trainer.device = model.device\n",
    "    acc, f1 = trainer.run(lr=lr,wd=0.0,train_dataloader=data.train_dataloader,eval_dataloader=data.eval_dataloader,test_dataloader=data.test_dataloader)\n",
    "    results['acc'].append(acc)\n",
    "    results['f1'].append(f1)\n",
    "    results['lr'].append(lr)\n",
    "    print('### '*10)\n",
    "    print(results)\n",
    "    print('### '*10)\n",
    "    with torch.no_grad():\n",
    "        torch.cuda.empty_cache()\n",
    "    del data, model, trainer, acc, f1"
   ]
  },
  {
   "cell_type": "code",
   "execution_count": 5,
   "metadata": {},
   "outputs": [],
   "source": [
    "import matplotlib.pyplot as plt\n",
    "import seaborn as sns\n",
    "import pandas as pd"
   ]
  },
  {
   "cell_type": "code",
   "execution_count": 6,
   "metadata": {},
   "outputs": [
    {
     "data": {
      "image/png": "[encoded data removed]",
      "text/plain": [
       "<Figure size 640x480 with 1 Axes>"
      ]
     },
     "metadata": {},
     "output_type": "display_data"
    }
   ],
   "source": [
    "def plot_grid_search(df, title):\n",
    "\n",
    "    # Create the plot\n",
    "    ax = df.plot(x='lr', y=['acc', 'f1'], marker='o', linestyle='-')\n",
    "\n",
    "    # Set y-axis range between 0 and 1\n",
    "    plt.ylim(0, 1)\n",
    "\n",
    "    # Annotate points with F1 scores\n",
    "    for i, row in df.iterrows(): \n",
    "        ax.annotate(f'{row[\"f1\"]:.2f}', (row[\"lr\"], row[\"f1\"]), textcoords='offset points', xytext=(0, -10), ha='center')\n",
    "\n",
    "    # Annotate points with Acc scores\n",
    "    for i, row in df.iterrows():\n",
    "        ax.annotate(f'{row[\"acc\"]:.2f}', (row[\"lr\"], row[\"acc\"]), textcoords='offset points', xytext=(0, 10), ha='center')\n",
    "    \n",
    "    # \n",
    "    plt.xticks(df['lr'], [f'{val:.0e}' for val in df['lr']], ha='center')\n",
    "    plt.xscale('log')\n",
    "    plt.minorticks_off()\n",
    "\n",
    "    plt.title(title)\n",
    "    plt.xlabel('lr')\n",
    "    plt.ylabel('Score')\n",
    "    plt.show()\n",
    "\n",
    "plot_grid_search(pd.DataFrame(results), f'Learning rates {model_checkpoint}')"
   ]
  }
 ],
 "metadata": {
  "kernelspec": {
   "display_name": "Python 3",
   "language": "python",
   "name": "python3"
  },
  "language_info": {
   "codemirror_mode": {
    "name": "ipython",
    "version": 3
   },
   "file_extension": ".py",
   "mimetype": "text/x-python",
   "name": "python",
   "nbconvert_exporter": "python",
   "pygments_lexer": "ipython3",
   "version": "3.11.6"
  },
  "orig_nbformat": 4
 },
 "nbformat": 4,
 "nbformat_minor": 2
}
