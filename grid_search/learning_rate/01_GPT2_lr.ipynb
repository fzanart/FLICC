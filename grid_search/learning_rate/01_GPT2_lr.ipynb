{
 "cells": [
  {
   "cell_type": "code",
   "execution_count": 1,
   "metadata": {},
   "outputs": [],
   "source": [
    "import torch\n",
    "from data import ClimateDataset\n",
    "from models import ClassificationModel\n",
    "from engine import Engine"
   ]
  },
  {
   "cell_type": "code",
   "execution_count": 2,
   "metadata": {},
   "outputs": [],
   "source": [
    "model_checkpoint='gpt2'"
   ]
  },
  {
   "cell_type": "code",
   "execution_count": 3,
   "metadata": {},
   "outputs": [],
   "source": [
    "results = {'acc':[],\n",
    "           'f1':[],\n",
    "           'lr':[]}"
   ]
  },
  {
   "cell_type": "code",
   "execution_count": 4,
   "metadata": {},
   "outputs": [
    {
     "name": "stdout",
     "output_type": "stream",
     "text": [
      "Grid search gpt2, learning rate 0.001\n"
     ]
    },
    {
     "data": {
      "application/vnd.jupyter.widget-view+json": {
       "model_id": "b9a147bf487e4f5c8317c42b5bcba0c8",
       "version_major": 2,
       "version_minor": 0
      },
      "text/plain": [
       "Map:   0%|          | 0/457 [00:00<?, ? examples/s]"
      ]
     },
     "metadata": {},
     "output_type": "display_data"
    },
    {
     "data": {
      "application/vnd.jupyter.widget-view+json": {
       "model_id": "c7d8aa991b0049c1ae7b92b76677e140",
       "version_major": 2,
       "version_minor": 0
      },
      "text/plain": [
       "Downloading model.safetensors:   0%|          | 0.00/548M [00:00<?, ?B/s]"
      ]
     },
     "metadata": {},
     "output_type": "display_data"
    },
    {
     "name": "stderr",
     "output_type": "stream",
     "text": [
      "Some weights of GPT2ForSequenceClassification were not initialized from the model checkpoint at gpt2 and are newly initialized: ['score.weight']\n",
      "You should probably TRAIN this model on a down-stream task to be able to use it for predictions and inference.\n",
      "You're using a GPT2TokenizerFast tokenizer. Please note that with a fast tokenizer, using the `__call__` method is faster than using a method to encode the text followed by a call to the `pad` method to get a padded encoding.\n"
     ]
    },
    {
     "name": "stdout",
     "output_type": "stream",
     "text": [
      "1 / 10: Train Loss:\t0.7650\tVal Loss:\t0.5851\tAccuracy:\t0.7396\tF1:\t0.4252\n",
      "2 / 10: Train Loss:\t0.5371\tVal Loss:\t0.4537\tAccuracy:\t0.8074\tF1:\t0.7006\n",
      "3 / 10: Train Loss:\t0.3551\tVal Loss:\t0.6896\tAccuracy:\t0.7374\tF1:\t0.7062\n",
      "4 / 10: Train Loss:\t0.1447\tVal Loss:\t0.7866\tAccuracy:\t0.7593\tF1:\t0.7242\n",
      "5 / 10: Train Loss:\t0.0333\tVal Loss:\t0.7516\tAccuracy:\t0.8096\tF1:\t0.7634\n",
      "6 / 10: Train Loss:\t0.0158\tVal Loss:\t1.0821\tAccuracy:\t0.7221\tF1:\t0.6915\n",
      "7 / 10: Train Loss:\t0.0028\tVal Loss:\t1.1060\tAccuracy:\t0.7462\tF1:\t0.7102\n",
      "8 / 10: Train Loss:\t0.0021\tVal Loss:\t1.1642\tAccuracy:\t0.7615\tF1:\t0.7221\n",
      "9 / 10: Train Loss:\t0.0043\tVal Loss:\t1.5493\tAccuracy:\t0.7243\tF1:\t0.6915\n",
      "10 / 10: Train Loss:\t0.0221\tVal Loss:\t0.8437\tAccuracy:\t0.7921\tF1:\t0.7148\n",
      "best (higgest macro f1-score) val results:\n",
      "              precision    recall  f1-score   support\n",
      "\n",
      "       bknow       0.62      0.52      0.57       119\n",
      "      struct       0.84      0.89      0.86       338\n",
      "\n",
      "    accuracy                           0.79       457\n",
      "   macro avg       0.73      0.70      0.71       457\n",
      "weighted avg       0.78      0.79      0.79       457\n",
      "\n",
      "test results:\n",
      "              precision    recall  f1-score   support\n",
      "\n",
      "       bknow       0.49      0.60      0.54        67\n",
      "      struct       0.85      0.78      0.81       189\n",
      "\n",
      "    accuracy                           0.73       256\n",
      "   macro avg       0.67      0.69      0.68       256\n",
      "weighted avg       0.75      0.73      0.74       256\n",
      "\n",
      "### ### ### ### ### ### ### ### ### ### \n",
      "{'acc': [0.734375], 'f1': [0.6768636768636768], 'lr': [0.001]}\n",
      "### ### ### ### ### ### ### ### ### ### \n",
      "Grid search gpt2, learning rate 0.0001\n"
     ]
    },
    {
     "name": "stderr",
     "output_type": "stream",
     "text": [
      "Some weights of GPT2ForSequenceClassification were not initialized from the model checkpoint at gpt2 and are newly initialized: ['score.weight']\n",
      "You should probably TRAIN this model on a down-stream task to be able to use it for predictions and inference.\n",
      "You're using a GPT2TokenizerFast tokenizer. Please note that with a fast tokenizer, using the `__call__` method is faster than using a method to encode the text followed by a call to the `pad` method to get a padded encoding.\n"
     ]
    },
    {
     "name": "stdout",
     "output_type": "stream",
     "text": [
      "1 / 10: Train Loss:\t0.7142\tVal Loss:\t0.5473\tAccuracy:\t0.7396\tF1:\t0.4332\n",
      "2 / 10: Train Loss:\t0.5005\tVal Loss:\t0.4887\tAccuracy:\t0.7899\tF1:\t0.6327\n",
      "3 / 10: Train Loss:\t0.4572\tVal Loss:\t0.4671\tAccuracy:\t0.8009\tF1:\t0.6501\n",
      "4 / 10: Train Loss:\t0.4075\tVal Loss:\t0.4011\tAccuracy:\t0.8337\tF1:\t0.7414\n",
      "5 / 10: Train Loss:\t0.3243\tVal Loss:\t0.4369\tAccuracy:\t0.8206\tF1:\t0.7010\n",
      "6 / 10: Train Loss:\t0.2816\tVal Loss:\t0.4141\tAccuracy:\t0.8315\tF1:\t0.7795\n",
      "7 / 10: Train Loss:\t0.1895\tVal Loss:\t0.4982\tAccuracy:\t0.8425\tF1:\t0.7550\n",
      "8 / 10: Train Loss:\t0.1216\tVal Loss:\t0.8174\tAccuracy:\t0.8337\tF1:\t0.7303\n",
      "9 / 10: Train Loss:\t0.1149\tVal Loss:\t0.8195\tAccuracy:\t0.8206\tF1:\t0.7010\n",
      "10 / 10: Train Loss:\t0.0883\tVal Loss:\t0.6169\tAccuracy:\t0.8490\tF1:\t0.7874\n",
      "best (higgest macro f1-score) val results:\n",
      "              precision    recall  f1-score   support\n",
      "\n",
      "       bknow       0.77      0.60      0.67       119\n",
      "      struct       0.87      0.94      0.90       338\n",
      "\n",
      "    accuracy                           0.85       457\n",
      "   macro avg       0.82      0.77      0.79       457\n",
      "weighted avg       0.84      0.85      0.84       457\n",
      "\n",
      "test results:\n",
      "              precision    recall  f1-score   support\n",
      "\n",
      "       bknow       0.65      0.49      0.56        67\n",
      "      struct       0.83      0.90      0.87       189\n",
      "\n",
      "    accuracy                           0.80       256\n",
      "   macro avg       0.74      0.70      0.71       256\n",
      "weighted avg       0.79      0.80      0.79       256\n",
      "\n",
      "### ### ### ### ### ### ### ### ### ### \n",
      "{'acc': [0.734375, 0.796875], 'f1': [0.6768636768636768, 0.7136711692334166], 'lr': [0.001, 0.0001]}\n",
      "### ### ### ### ### ### ### ### ### ### \n",
      "Grid search gpt2, learning rate 1e-05\n"
     ]
    },
    {
     "name": "stderr",
     "output_type": "stream",
     "text": [
      "Some weights of GPT2ForSequenceClassification were not initialized from the model checkpoint at gpt2 and are newly initialized: ['score.weight']\n",
      "You should probably TRAIN this model on a down-stream task to be able to use it for predictions and inference.\n",
      "You're using a GPT2TokenizerFast tokenizer. Please note that with a fast tokenizer, using the `__call__` method is faster than using a method to encode the text followed by a call to the `pad` method to get a padded encoding.\n"
     ]
    },
    {
     "name": "stdout",
     "output_type": "stream",
     "text": [
      "1 / 10: Train Loss:\t0.9721\tVal Loss:\t0.7254\tAccuracy:\t0.6761\tF1:\t0.5121\n",
      "2 / 10: Train Loss:\t0.6482\tVal Loss:\t0.6219\tAccuracy:\t0.6958\tF1:\t0.5000\n",
      "3 / 10: Train Loss:\t0.5991\tVal Loss:\t0.5891\tAccuracy:\t0.7221\tF1:\t0.5512\n",
      "4 / 10: Train Loss:\t0.5784\tVal Loss:\t0.5603\tAccuracy:\t0.7484\tF1:\t0.5787\n",
      "5 / 10: Train Loss:\t0.5549\tVal Loss:\t0.5327\tAccuracy:\t0.7615\tF1:\t0.5931\n",
      "6 / 10: Train Loss:\t0.5377\tVal Loss:\t0.5147\tAccuracy:\t0.7834\tF1:\t0.6439\n",
      "7 / 10: Train Loss:\t0.5183\tVal Loss:\t0.4942\tAccuracy:\t0.7834\tF1:\t0.6407\n",
      "8 / 10: Train Loss:\t0.5110\tVal Loss:\t0.4857\tAccuracy:\t0.8009\tF1:\t0.6697\n",
      "9 / 10: Train Loss:\t0.4982\tVal Loss:\t0.4786\tAccuracy:\t0.7987\tF1:\t0.6735\n",
      "10 / 10: Train Loss:\t0.4904\tVal Loss:\t0.4773\tAccuracy:\t0.7965\tF1:\t0.6714\n",
      "best (higgest macro f1-score) val results:\n",
      "              precision    recall  f1-score   support\n",
      "\n",
      "       bknow       0.73      0.34      0.47       119\n",
      "      struct       0.81      0.96      0.87       338\n",
      "\n",
      "    accuracy                           0.80       457\n",
      "   macro avg       0.77      0.65      0.67       457\n",
      "weighted avg       0.79      0.80      0.77       457\n",
      "\n",
      "test results:\n",
      "              precision    recall  f1-score   support\n",
      "\n",
      "       bknow       0.67      0.33      0.44        67\n",
      "      struct       0.80      0.94      0.86       189\n",
      "\n",
      "    accuracy                           0.78       256\n",
      "   macro avg       0.73      0.64      0.65       256\n",
      "weighted avg       0.76      0.78      0.75       256\n",
      "\n",
      "### ### ### ### ### ### ### ### ### ### \n",
      "{'acc': [0.734375, 0.796875, 0.78125], 'f1': [0.6768636768636768, 0.7136711692334166, 0.6520388349514563], 'lr': [0.001, 0.0001, 1e-05]}\n",
      "### ### ### ### ### ### ### ### ### ### \n",
      "Grid search gpt2, learning rate 1e-06\n"
     ]
    },
    {
     "name": "stderr",
     "output_type": "stream",
     "text": [
      "Some weights of GPT2ForSequenceClassification were not initialized from the model checkpoint at gpt2 and are newly initialized: ['score.weight']\n",
      "You should probably TRAIN this model on a down-stream task to be able to use it for predictions and inference.\n",
      "You're using a GPT2TokenizerFast tokenizer. Please note that with a fast tokenizer, using the `__call__` method is faster than using a method to encode the text followed by a call to the `pad` method to get a padded encoding.\n"
     ]
    },
    {
     "name": "stdout",
     "output_type": "stream",
     "text": [
      "1 / 10: Train Loss:\t1.8905\tVal Loss:\t1.4972\tAccuracy:\t0.6630\tF1:\t0.4436\n",
      "2 / 10: Train Loss:\t1.1964\tVal Loss:\t1.3742\tAccuracy:\t0.6893\tF1:\t0.4397\n",
      "3 / 10: Train Loss:\t1.0156\tVal Loss:\t1.2166\tAccuracy:\t0.6937\tF1:\t0.4417\n",
      "4 / 10: Train Loss:\t0.9753\tVal Loss:\t1.0939\tAccuracy:\t0.6827\tF1:\t0.4424\n",
      "5 / 10: Train Loss:\t0.9236\tVal Loss:\t1.0137\tAccuracy:\t0.6849\tF1:\t0.4435\n",
      "6 / 10: Train Loss:\t0.8797\tVal Loss:\t0.9398\tAccuracy:\t0.6849\tF1:\t0.4491\n",
      "7 / 10: Train Loss:\t0.8225\tVal Loss:\t0.8887\tAccuracy:\t0.6958\tF1:\t0.4655\n",
      "8 / 10: Train Loss:\t0.7784\tVal Loss:\t0.8529\tAccuracy:\t0.6958\tF1:\t0.4655\n",
      "9 / 10: Train Loss:\t0.7321\tVal Loss:\t0.8191\tAccuracy:\t0.6937\tF1:\t0.4644\n",
      "10 / 10: Train Loss:\t0.7422\tVal Loss:\t0.7816\tAccuracy:\t0.6849\tF1:\t0.4650\n",
      "best (higgest macro f1-score) val results:\n",
      "              precision    recall  f1-score   support\n",
      "\n",
      "       bknow       0.22      0.08      0.12       119\n",
      "      struct       0.74      0.90      0.81       338\n",
      "\n",
      "    accuracy                           0.68       457\n",
      "   macro avg       0.48      0.49      0.46       457\n",
      "weighted avg       0.60      0.68      0.63       457\n",
      "\n",
      "test results:\n",
      "              precision    recall  f1-score   support\n",
      "\n",
      "       bknow       0.26      0.07      0.12        67\n",
      "      struct       0.74      0.93      0.82       189\n",
      "\n",
      "    accuracy                           0.70       256\n",
      "   macro avg       0.50      0.50      0.47       256\n",
      "weighted avg       0.61      0.70      0.64       256\n",
      "\n",
      "### ### ### ### ### ### ### ### ### ### \n",
      "{'acc': [0.734375, 0.796875, 0.78125, 0.703125], 'f1': [0.6768636768636768, 0.7136711692334166, 0.6520388349514563, 0.4689376569494486], 'lr': [0.001, 0.0001, 1e-05, 1e-06]}\n",
      "### ### ### ### ### ### ### ### ### ### \n"
     ]
    }
   ],
   "source": [
    "learning_rates = [1.0e-3, 1.0e-4, 1.0e-5, 1.0e-6]\n",
    "for lr in learning_rates:\n",
    "    print(f'Grid search {model_checkpoint}, learning rate {lr}')\n",
    "    data = ClimateDataset(model_to_train=1,model_checkpoint=model_checkpoint,batch_size=32)\n",
    "    data.setup_dataloaders()\n",
    "    model = ClassificationModel(model_checkpoint=data.model_checkpoint,num_labels=data.num_labels)\n",
    "    trainer = Engine(epochs=10,labels=data.labels)\n",
    "    trainer.model = model.model\n",
    "    trainer.device = model.device\n",
    "    acc, f1 = trainer.run(lr=lr,wd=0.0,train_dataloader=data.train_dataloader,eval_dataloader=data.eval_dataloader,test_dataloader=data.test_dataloader)\n",
    "    results['acc'].append(acc)\n",
    "    results['f1'].append(f1)\n",
    "    results['lr'].append(lr)\n",
    "    print('### '*10)\n",
    "    print(results)\n",
    "    print('### '*10)\n",
    "    with torch.no_grad():\n",
    "        torch.cuda.empty_cache()\n",
    "    del data, model, trainer, acc, f1"
   ]
  },
  {
   "cell_type": "code",
   "execution_count": 5,
   "metadata": {},
   "outputs": [],
   "source": [
    "import matplotlib.pyplot as plt\n",
    "import seaborn as sns\n",
    "import pandas as pd"
   ]
  },
  {
   "cell_type": "code",
   "execution_count": 6,
   "metadata": {},
   "outputs": [
    {
     "data": {
      "image/png": "[encoded data removed]",
      "text/plain": [
       "<Figure size 640x480 with 1 Axes>"
      ]
     },
     "metadata": {},
     "output_type": "display_data"
    }
   ],
   "source": [
    "def plot_grid_search(df, title):\n",
    "\n",
    "    # Create the plot\n",
    "    ax = df.plot(x='lr', y=['acc', 'f1'], marker='o', linestyle='-')\n",
    "\n",
    "    # Set y-axis range between 0 and 1\n",
    "    plt.ylim(0, 1)\n",
    "\n",
    "    # Annotate points with F1 scores\n",
    "    for i, row in df.iterrows(): \n",
    "        ax.annotate(f'{row[\"f1\"]:.2f}', (row[\"lr\"], row[\"f1\"]), textcoords='offset points', xytext=(0, -10), ha='center')\n",
    "\n",
    "    # Annotate points with Acc scores\n",
    "    for i, row in df.iterrows():\n",
    "        ax.annotate(f'{row[\"acc\"]:.2f}', (row[\"lr\"], row[\"acc\"]), textcoords='offset points', xytext=(0, 10), ha='center')\n",
    "    \n",
    "    # \n",
    "    plt.xticks(df['lr'], [f'{val:.0e}' for val in df['lr']], ha='center')\n",
    "    plt.xscale('log')\n",
    "    plt.minorticks_off()\n",
    "\n",
    "    plt.title(title)\n",
    "    plt.xlabel('lr')\n",
    "    plt.ylabel('Score')\n",
    "    plt.show()\n",
    "\n",
    "plot_grid_search(pd.DataFrame(results), f'Learning rates {model_checkpoint}')"
   ]
  }
 ],
 "metadata": {
  "kernelspec": {
   "display_name": "Python 3",
   "language": "python",
   "name": "python3"
  },
  "language_info": {
   "codemirror_mode": {
    "name": "ipython",
    "version": 3
   },
   "file_extension": ".py",
   "mimetype": "text/x-python",
   "name": "python",
   "nbconvert_exporter": "python",
   "pygments_lexer": "ipython3",
   "version": "3.11.6"
  },
  "orig_nbformat": 4
 },
 "nbformat": 4,
 "nbformat_minor": 2
}
