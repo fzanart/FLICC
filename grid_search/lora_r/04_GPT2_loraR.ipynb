{
 "cells": [
  {
   "cell_type": "code",
   "execution_count": 1,
   "metadata": {},
   "outputs": [],
   "source": [
    "import torch\n",
    "from data import ClimateDataset\n",
    "from models import ClassificationModel\n",
    "from engine import Engine"
   ]
  },
  {
   "cell_type": "code",
   "execution_count": 2,
   "metadata": {},
   "outputs": [],
   "source": [
    "model_checkpoint='gpt2'"
   ]
  },
  {
   "cell_type": "code",
   "execution_count": 3,
   "metadata": {},
   "outputs": [],
   "source": [
    "results = {'acc':[],\n",
    "           'f1':[],\n",
    "           'r':[]}"
   ]
  },
  {
   "cell_type": "code",
   "execution_count": 4,
   "metadata": {},
   "outputs": [
    {
     "name": "stdout",
     "output_type": "stream",
     "text": [
      "Grid search gpt2, lr: 0.0001. Weight decay 0.0. Lora rank: 4\n"
     ]
    },
    {
     "name": "stderr",
     "output_type": "stream",
     "text": [
      "Some weights of GPT2ForSequenceClassification were not initialized from the model checkpoint at gpt2 and are newly initialized: ['score.weight']\n",
      "You should probably TRAIN this model on a down-stream task to be able to use it for predictions and inference.\n",
      "/mnt/software/miniconda3/lib/python3.11/site-packages/peft/tuners/lora/model.py:301: UserWarning: fan_in_fan_out is set to False but the target module is `Conv1D`. Setting fan_in_fan_out to True.\n",
      "  warnings.warn(\n",
      "You're using a GPT2TokenizerFast tokenizer. Please note that with a fast tokenizer, using the `__call__` method is faster than using a method to encode the text followed by a call to the `pad` method to get a padded encoding.\n"
     ]
    },
    {
     "name": "stdout",
     "output_type": "stream",
     "text": [
      "1 / 20: Train Loss:\t1.5141\tVal Loss:\t1.1803\tAccuracy:\t0.6893\tF1:\t0.4337\n",
      "2 / 20: Train Loss:\t0.7912\tVal Loss:\t0.8286\tAccuracy:\t0.7112\tF1:\t0.4560\n",
      "3 / 20: Train Loss:\t0.6638\tVal Loss:\t0.6850\tAccuracy:\t0.7133\tF1:\t0.4570\n",
      "4 / 20: Train Loss:\t0.6145\tVal Loss:\t0.6204\tAccuracy:\t0.7177\tF1:\t0.4394\n",
      "5 / 20: Train Loss:\t0.6001\tVal Loss:\t0.5913\tAccuracy:\t0.7352\tF1:\t0.4539\n",
      "6 / 20: Train Loss:\t0.5782\tVal Loss:\t0.5769\tAccuracy:\t0.7418\tF1:\t0.4569\n",
      "7 / 20: Train Loss:\t0.5668\tVal Loss:\t0.5691\tAccuracy:\t0.7440\tF1:\t0.4579\n",
      "8 / 20: Train Loss:\t0.5678\tVal Loss:\t0.5634\tAccuracy:\t0.7462\tF1:\t0.4514\n",
      "9 / 20: Train Loss:\t0.5627\tVal Loss:\t0.5604\tAccuracy:\t0.7462\tF1:\t0.4514\n",
      "10 / 20: Train Loss:\t0.5594\tVal Loss:\t0.5563\tAccuracy:\t0.7462\tF1:\t0.4514\n",
      "11 / 20: Train Loss:\t0.5586\tVal Loss:\t0.5514\tAccuracy:\t0.7462\tF1:\t0.4514\n",
      "12 / 20: Train Loss:\t0.5594\tVal Loss:\t0.5468\tAccuracy:\t0.7462\tF1:\t0.4514\n",
      "13 / 20: Train Loss:\t0.5555\tVal Loss:\t0.5437\tAccuracy:\t0.7505\tF1:\t0.4682\n",
      "14 / 20: Train Loss:\t0.5482\tVal Loss:\t0.5390\tAccuracy:\t0.7505\tF1:\t0.4682\n",
      "15 / 20: Train Loss:\t0.5446\tVal Loss:\t0.5338\tAccuracy:\t0.7527\tF1:\t0.4764\n",
      "16 / 20: Train Loss:\t0.5442\tVal Loss:\t0.5283\tAccuracy:\t0.7527\tF1:\t0.4764\n",
      "17 / 20: Train Loss:\t0.5330\tVal Loss:\t0.5233\tAccuracy:\t0.7549\tF1:\t0.4913\n",
      "18 / 20: Train Loss:\t0.5379\tVal Loss:\t0.5159\tAccuracy:\t0.7615\tF1:\t0.5263\n",
      "19 / 20: Train Loss:\t0.5217\tVal Loss:\t0.5056\tAccuracy:\t0.7724\tF1:\t0.5761\n",
      "20 / 20: Train Loss:\t0.5213\tVal Loss:\t0.4990\tAccuracy:\t0.7834\tF1:\t0.6231\n",
      "best (higgest macro f1-score) val results:\n",
      "              precision    recall  f1-score   support\n",
      "\n",
      "       bknow       0.75      0.25      0.38       119\n",
      "      struct       0.79      0.97      0.87       338\n",
      "\n",
      "    accuracy                           0.78       457\n",
      "   macro avg       0.77      0.61      0.62       457\n",
      "weighted avg       0.78      0.78      0.74       457\n",
      "\n",
      "test results:\n",
      "              precision    recall  f1-score   support\n",
      "\n",
      "       bknow       0.52      0.22      0.31        67\n",
      "      struct       0.77      0.93      0.84       189\n",
      "\n",
      "    accuracy                           0.74       256\n",
      "   macro avg       0.64      0.57      0.58       256\n",
      "weighted avg       0.70      0.74      0.70       256\n",
      "\n",
      "### ### ### ### ### ### ### ### ### ### \n",
      "{'acc': [0.7421875], 'f1': [0.576923076923077], 'r': [4]}\n",
      "### ### ### ### ### ### ### ### ### ### \n",
      "Grid search gpt2, lr: 0.0001. Weight decay 0.0. Lora rank: 8\n"
     ]
    },
    {
     "name": "stderr",
     "output_type": "stream",
     "text": [
      "Some weights of GPT2ForSequenceClassification were not initialized from the model checkpoint at gpt2 and are newly initialized: ['score.weight']\n",
      "You should probably TRAIN this model on a down-stream task to be able to use it for predictions and inference.\n",
      "/mnt/software/miniconda3/lib/python3.11/site-packages/peft/tuners/lora/model.py:301: UserWarning: fan_in_fan_out is set to False but the target module is `Conv1D`. Setting fan_in_fan_out to True.\n",
      "  warnings.warn(\n",
      "You're using a GPT2TokenizerFast tokenizer. Please note that with a fast tokenizer, using the `__call__` method is faster than using a method to encode the text followed by a call to the `pad` method to get a padded encoding.\n"
     ]
    },
    {
     "name": "stdout",
     "output_type": "stream",
     "text": [
      "1 / 20: Train Loss:\t1.5126\tVal Loss:\t1.1854\tAccuracy:\t0.6893\tF1:\t0.4337\n",
      "2 / 20: Train Loss:\t0.7909\tVal Loss:\t0.8356\tAccuracy:\t0.7090\tF1:\t0.4549\n",
      "3 / 20: Train Loss:\t0.6639\tVal Loss:\t0.6906\tAccuracy:\t0.7155\tF1:\t0.4581\n",
      "4 / 20: Train Loss:\t0.6155\tVal Loss:\t0.6238\tAccuracy:\t0.7221\tF1:\t0.4413\n",
      "5 / 20: Train Loss:\t0.6004\tVal Loss:\t0.5924\tAccuracy:\t0.7352\tF1:\t0.4539\n",
      "6 / 20: Train Loss:\t0.5790\tVal Loss:\t0.5770\tAccuracy:\t0.7418\tF1:\t0.4569\n",
      "7 / 20: Train Loss:\t0.5667\tVal Loss:\t0.5687\tAccuracy:\t0.7484\tF1:\t0.4598\n",
      "8 / 20: Train Loss:\t0.5681\tVal Loss:\t0.5630\tAccuracy:\t0.7440\tF1:\t0.4428\n",
      "9 / 20: Train Loss:\t0.5624\tVal Loss:\t0.5599\tAccuracy:\t0.7462\tF1:\t0.4514\n",
      "10 / 20: Train Loss:\t0.5590\tVal Loss:\t0.5559\tAccuracy:\t0.7462\tF1:\t0.4514\n",
      "11 / 20: Train Loss:\t0.5587\tVal Loss:\t0.5508\tAccuracy:\t0.7462\tF1:\t0.4514\n",
      "12 / 20: Train Loss:\t0.5589\tVal Loss:\t0.5459\tAccuracy:\t0.7462\tF1:\t0.4514\n",
      "13 / 20: Train Loss:\t0.5550\tVal Loss:\t0.5427\tAccuracy:\t0.7462\tF1:\t0.4514\n",
      "No improvement for 6 epochs. Stopping early.\n",
      "best (higgest macro f1-score) val results:\n",
      "              precision    recall  f1-score   support\n",
      "\n",
      "       bknow       1.00      0.03      0.05       119\n",
      "      struct       0.74      1.00      0.85       338\n",
      "\n",
      "    accuracy                           0.75       457\n",
      "   macro avg       0.87      0.51      0.45       457\n",
      "weighted avg       0.81      0.75      0.64       457\n",
      "\n",
      "test results:\n",
      "              precision    recall  f1-score   support\n",
      "\n",
      "       bknow       0.50      0.01      0.03        67\n",
      "      struct       0.74      0.99      0.85       189\n",
      "\n",
      "    accuracy                           0.74       256\n",
      "   macro avg       0.62      0.50      0.44       256\n",
      "weighted avg       0.68      0.74      0.63       256\n",
      "\n",
      "### ### ### ### ### ### ### ### ### ### \n",
      "{'acc': [0.7421875, 0.73828125], 'f1': [0.576923076923077, 0.43887198612883177], 'r': [4, 8]}\n",
      "### ### ### ### ### ### ### ### ### ### \n",
      "Grid search gpt2, lr: 0.0001. Weight decay 0.0. Lora rank: 16\n"
     ]
    },
    {
     "name": "stderr",
     "output_type": "stream",
     "text": [
      "Some weights of GPT2ForSequenceClassification were not initialized from the model checkpoint at gpt2 and are newly initialized: ['score.weight']\n",
      "You should probably TRAIN this model on a down-stream task to be able to use it for predictions and inference.\n",
      "/mnt/software/miniconda3/lib/python3.11/site-packages/peft/tuners/lora/model.py:301: UserWarning: fan_in_fan_out is set to False but the target module is `Conv1D`. Setting fan_in_fan_out to True.\n",
      "  warnings.warn(\n",
      "You're using a GPT2TokenizerFast tokenizer. Please note that with a fast tokenizer, using the `__call__` method is faster than using a method to encode the text followed by a call to the `pad` method to get a padded encoding.\n"
     ]
    },
    {
     "name": "stdout",
     "output_type": "stream",
     "text": [
      "1 / 20: Train Loss:\t1.5187\tVal Loss:\t1.1892\tAccuracy:\t0.6915\tF1:\t0.4347\n",
      "2 / 20: Train Loss:\t0.7929\tVal Loss:\t0.8357\tAccuracy:\t0.7090\tF1:\t0.4549\n",
      "3 / 20: Train Loss:\t0.6660\tVal Loss:\t0.6915\tAccuracy:\t0.7199\tF1:\t0.4602\n",
      "4 / 20: Train Loss:\t0.6170\tVal Loss:\t0.6240\tAccuracy:\t0.7221\tF1:\t0.4413\n",
      "5 / 20: Train Loss:\t0.6013\tVal Loss:\t0.5924\tAccuracy:\t0.7352\tF1:\t0.4539\n",
      "6 / 20: Train Loss:\t0.5792\tVal Loss:\t0.5771\tAccuracy:\t0.7418\tF1:\t0.4569\n",
      "7 / 20: Train Loss:\t0.5667\tVal Loss:\t0.5689\tAccuracy:\t0.7484\tF1:\t0.4598\n",
      "8 / 20: Train Loss:\t0.5680\tVal Loss:\t0.5633\tAccuracy:\t0.7440\tF1:\t0.4428\n",
      "9 / 20: Train Loss:\t0.5625\tVal Loss:\t0.5602\tAccuracy:\t0.7462\tF1:\t0.4514\n",
      "No improvement for 6 epochs. Stopping early.\n",
      "best (higgest macro f1-score) val results:\n",
      "              precision    recall  f1-score   support\n",
      "\n",
      "       bknow       1.00      0.03      0.05       119\n",
      "      struct       0.74      1.00      0.85       338\n",
      "\n",
      "    accuracy                           0.75       457\n",
      "   macro avg       0.87      0.51      0.45       457\n",
      "weighted avg       0.81      0.75      0.64       457\n",
      "\n",
      "test results:\n",
      "              precision    recall  f1-score   support\n",
      "\n",
      "       bknow       0.00      0.00      0.00        67\n",
      "      struct       0.74      1.00      0.85       189\n",
      "\n",
      "    accuracy                           0.74       256\n",
      "   macro avg       0.37      0.50      0.42       256\n",
      "weighted avg       0.55      0.74      0.63       256\n",
      "\n",
      "### ### ### ### ### ### ### ### ### ### \n",
      "{'acc': [0.7421875, 0.73828125, 0.73828125], 'f1': [0.576923076923077, 0.43887198612883177, 0.4247191011235955], 'r': [4, 8, 16]}\n",
      "### ### ### ### ### ### ### ### ### ### \n",
      "Grid search gpt2, lr: 0.0001. Weight decay 0.0. Lora rank: 32\n"
     ]
    },
    {
     "name": "stderr",
     "output_type": "stream",
     "text": [
      "Some weights of GPT2ForSequenceClassification were not initialized from the model checkpoint at gpt2 and are newly initialized: ['score.weight']\n",
      "You should probably TRAIN this model on a down-stream task to be able to use it for predictions and inference.\n",
      "/mnt/software/miniconda3/lib/python3.11/site-packages/peft/tuners/lora/model.py:301: UserWarning: fan_in_fan_out is set to False but the target module is `Conv1D`. Setting fan_in_fan_out to True.\n",
      "  warnings.warn(\n",
      "You're using a GPT2TokenizerFast tokenizer. Please note that with a fast tokenizer, using the `__call__` method is faster than using a method to encode the text followed by a call to the `pad` method to get a padded encoding.\n"
     ]
    },
    {
     "name": "stdout",
     "output_type": "stream",
     "text": [
      "1 / 20: Train Loss:\t1.5154\tVal Loss:\t1.1861\tAccuracy:\t0.6893\tF1:\t0.4337\n",
      "2 / 20: Train Loss:\t0.7927\tVal Loss:\t0.8302\tAccuracy:\t0.7090\tF1:\t0.4549\n",
      "3 / 20: Train Loss:\t0.6649\tVal Loss:\t0.6872\tAccuracy:\t0.7155\tF1:\t0.4581\n",
      "4 / 20: Train Loss:\t0.6163\tVal Loss:\t0.6217\tAccuracy:\t0.7221\tF1:\t0.4413\n",
      "5 / 20: Train Loss:\t0.6009\tVal Loss:\t0.5916\tAccuracy:\t0.7352\tF1:\t0.4539\n",
      "6 / 20: Train Loss:\t0.5792\tVal Loss:\t0.5766\tAccuracy:\t0.7418\tF1:\t0.4569\n",
      "7 / 20: Train Loss:\t0.5668\tVal Loss:\t0.5685\tAccuracy:\t0.7484\tF1:\t0.4598\n",
      "8 / 20: Train Loss:\t0.5678\tVal Loss:\t0.5628\tAccuracy:\t0.7440\tF1:\t0.4428\n",
      "9 / 20: Train Loss:\t0.5626\tVal Loss:\t0.5597\tAccuracy:\t0.7462\tF1:\t0.4514\n",
      "10 / 20: Train Loss:\t0.5589\tVal Loss:\t0.5556\tAccuracy:\t0.7462\tF1:\t0.4514\n",
      "11 / 20: Train Loss:\t0.5586\tVal Loss:\t0.5504\tAccuracy:\t0.7462\tF1:\t0.4514\n",
      "12 / 20: Train Loss:\t0.5587\tVal Loss:\t0.5456\tAccuracy:\t0.7462\tF1:\t0.4514\n",
      "13 / 20: Train Loss:\t0.5549\tVal Loss:\t0.5424\tAccuracy:\t0.7505\tF1:\t0.4682\n",
      "14 / 20: Train Loss:\t0.5471\tVal Loss:\t0.5377\tAccuracy:\t0.7505\tF1:\t0.4682\n",
      "15 / 20: Train Loss:\t0.5437\tVal Loss:\t0.5322\tAccuracy:\t0.7527\tF1:\t0.4764\n",
      "16 / 20: Train Loss:\t0.5426\tVal Loss:\t0.5267\tAccuracy:\t0.7527\tF1:\t0.4764\n",
      "17 / 20: Train Loss:\t0.5301\tVal Loss:\t0.5215\tAccuracy:\t0.7549\tF1:\t0.4978\n",
      "18 / 20: Train Loss:\t0.5358\tVal Loss:\t0.5129\tAccuracy:\t0.7637\tF1:\t0.5335\n",
      "19 / 20: Train Loss:\t0.5182\tVal Loss:\t0.5016\tAccuracy:\t0.7790\tF1:\t0.5861\n",
      "20 / 20: Train Loss:\t0.5156\tVal Loss:\t0.4935\tAccuracy:\t0.7856\tF1:\t0.6213\n",
      "best (higgest macro f1-score) val results:\n",
      "              precision    recall  f1-score   support\n",
      "\n",
      "       bknow       0.78      0.24      0.37       119\n",
      "      struct       0.79      0.98      0.87       338\n",
      "\n",
      "    accuracy                           0.79       457\n",
      "   macro avg       0.78      0.61      0.62       457\n",
      "weighted avg       0.79      0.79      0.74       457\n",
      "\n",
      "test results:\n",
      "              precision    recall  f1-score   support\n",
      "\n",
      "       bknow       0.50      0.19      0.28        67\n",
      "      struct       0.77      0.93      0.84       189\n",
      "\n",
      "    accuracy                           0.74       256\n",
      "   macro avg       0.63      0.56      0.56       256\n",
      "weighted avg       0.70      0.74      0.69       256\n",
      "\n",
      "### ### ### ### ### ### ### ### ### ### \n",
      "{'acc': [0.7421875, 0.73828125, 0.73828125, 0.73828125], 'f1': [0.576923076923077, 0.43887198612883177, 0.4247191011235955, 0.5598326789334566], 'r': [4, 8, 16, 32]}\n",
      "### ### ### ### ### ### ### ### ### ### \n"
     ]
    }
   ],
   "source": [
    "ranks = [4,8,16,32]\n",
    "lora_alpha = 8\n",
    "lora_dropout = 0.0\n",
    "lr = 1.0e-4\n",
    "wd = 0.0\n",
    "\n",
    "for r in ranks:\n",
    "    print(f'Grid search {model_checkpoint}, lr: {lr}. Weight decay {wd}. Lora rank: {r}')\n",
    "    data = ClimateDataset(model_to_train=1,model_checkpoint=model_checkpoint,batch_size=32)\n",
    "    data.setup_dataloaders()\n",
    "    model = ClassificationModel(model_checkpoint=data.model_checkpoint,\n",
    "                                num_labels=data.num_labels,\n",
    "                                lora=True,\n",
    "                                r=r,\n",
    "                                alpha=lora_alpha,\n",
    "                                dropout=lora_dropout)\n",
    "    trainer = Engine(epochs=20,labels=data.labels)\n",
    "    trainer.model = model.model\n",
    "    trainer.dataset_encoded = data.dataset_encoded\n",
    "    acc, f1 = trainer.run(lr=lr,\n",
    "                          wd=wd,\n",
    "                          train_dataloader=data.train_dataloader,\n",
    "                          eval_dataloader=data.eval_dataloader,\n",
    "                          test_dataloader=data.test_dataloader,\n",
    "                          early_stop=6)\n",
    "    results['acc'].append(acc)\n",
    "    results['f1'].append(f1)\n",
    "    results['r'].append(r)\n",
    "    print('### '*10)\n",
    "    print(results)\n",
    "    print('### '*10)\n",
    "    with torch.no_grad():\n",
    "        torch.cuda.empty_cache()\n",
    "    del data, model, trainer, acc, f1"
   ]
  },
  {
   "cell_type": "code",
   "execution_count": 5,
   "metadata": {},
   "outputs": [],
   "source": [
    "import matplotlib.pyplot as plt\n",
    "import seaborn as sns\n",
    "import pandas as pd"
   ]
  },
  {
   "cell_type": "code",
   "execution_count": 6,
   "metadata": {},
   "outputs": [
    {
     "data": {
      "image/png": "[encoded data removed]",
      "text/plain": [
       "<Figure size 640x480 with 1 Axes>"
      ]
     },
     "metadata": {},
     "output_type": "display_data"
    }
   ],
   "source": [
    "def plot_grid_search(df, title):\n",
    "\n",
    "    # Create the plot\n",
    "    ax = df.plot(x='r', y=['acc', 'f1'], marker='o', linestyle='-')\n",
    "\n",
    "    # Set y-axis range between 0 and 1\n",
    "    plt.ylim(0, 1)\n",
    "\n",
    "    # Annotate points with F1 scores\n",
    "    for i, row in df.iterrows(): \n",
    "        ax.annotate(f'{row[\"f1\"]:.2f}', (row[\"r\"], row[\"f1\"]), textcoords='offset points', xytext=(0, -10), ha='center')\n",
    "\n",
    "    # Annotate points with Acc scores\n",
    "    for i, row in df.iterrows():\n",
    "        ax.annotate(f'{row[\"acc\"]:.2f}', (row[\"r\"], row[\"acc\"]), textcoords='offset points', xytext=(0, 10), ha='center')\n",
    "    \n",
    "    # \n",
    "    plt.xticks(df['r'], [val for val in df['r']], ha='center')\n",
    "    # plt.xscale('log')\n",
    "    plt.minorticks_off()\n",
    "\n",
    "    plt.title(title)\n",
    "    plt.xlabel('rank of the update matrices')\n",
    "    plt.ylabel('Score')\n",
    "    plt.show()\n",
    "\n",
    "plot_grid_search(pd.DataFrame(results), f'Lora ranks. {model_checkpoint}.')"
   ]
  }
 ],
 "metadata": {
  "kernelspec": {
   "display_name": "Python 3",
   "language": "python",
   "name": "python3"
  },
  "language_info": {
   "codemirror_mode": {
    "name": "ipython",
    "version": 3
   },
   "file_extension": ".py",
   "mimetype": "text/x-python",
   "name": "python",
   "nbconvert_exporter": "python",
   "pygments_lexer": "ipython3",
   "version": "3.11.5"
  },
  "orig_nbformat": 4
 },
 "nbformat": 4,
 "nbformat_minor": 2
}
