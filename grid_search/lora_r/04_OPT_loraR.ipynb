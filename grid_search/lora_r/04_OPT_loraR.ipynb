{
 "cells": [
  {
   "cell_type": "code",
   "execution_count": 1,
   "metadata": {},
   "outputs": [],
   "source": [
    "import torch\n",
    "from data import ClimateDataset\n",
    "from models import ClassificationModel\n",
    "from engine import Engine"
   ]
  },
  {
   "cell_type": "code",
   "execution_count": 2,
   "metadata": {},
   "outputs": [],
   "source": [
    "model_checkpoint='facebook/opt-350m'"
   ]
  },
  {
   "cell_type": "code",
   "execution_count": 3,
   "metadata": {},
   "outputs": [],
   "source": [
    "results = {'acc':[],\n",
    "           'f1':[],\n",
    "           'r':[]}"
   ]
  },
  {
   "cell_type": "code",
   "execution_count": 4,
   "metadata": {},
   "outputs": [
    {
     "name": "stdout",
     "output_type": "stream",
     "text": [
      "Grid search facebook/opt-350m, lr: 1e-05. Focal loss gamma: 8. Weight decay 0.0. Lora rank: 4\n"
     ]
    },
    {
     "name": "stderr",
     "output_type": "stream",
     "text": [
      "Some weights of OPTForSequenceClassification were not initialized from the model checkpoint at facebook/opt-350m and are newly initialized: ['score.weight']\n",
      "You should probably TRAIN this model on a down-stream task to be able to use it for predictions and inference.\n",
      "You're using a GPT2TokenizerFast tokenizer. Please note that with a fast tokenizer, using the `__call__` method is faster than using a method to encode the text followed by a call to the `pad` method to get a padded encoding.\n"
     ]
    },
    {
     "name": "stdout",
     "output_type": "stream",
     "text": [
      "1 / 20: Train Loss:\t0.6537\tVal Loss:\t0.8332\tAccuracy:\t0.5667\tF1:\t0.5120\n",
      "2 / 20: Train Loss:\t0.2495\tVal Loss:\t0.7603\tAccuracy:\t0.5821\tF1:\t0.4947\n",
      "3 / 20: Train Loss:\t0.1569\tVal Loss:\t0.7535\tAccuracy:\t0.5558\tF1:\t0.4764\n",
      "4 / 20: Train Loss:\t0.1441\tVal Loss:\t0.7454\tAccuracy:\t0.5602\tF1:\t0.4683\n",
      "5 / 20: Train Loss:\t0.1159\tVal Loss:\t0.7577\tAccuracy:\t0.5186\tF1:\t0.4596\n",
      "6 / 20: Train Loss:\t0.0918\tVal Loss:\t0.7452\tAccuracy:\t0.5492\tF1:\t0.4718\n",
      "7 / 20: Train Loss:\t0.0861\tVal Loss:\t0.7442\tAccuracy:\t0.5536\tF1:\t0.4867\n",
      "No improvement for 6 epochs. Stopping early.\n",
      "best (higgest macro f1-score) val results:\n",
      "              precision    recall  f1-score   support\n",
      "\n",
      "       bknow       0.25      0.37      0.30       119\n",
      "      struct       0.74      0.62      0.67       338\n",
      "\n",
      "    accuracy                           0.55       457\n",
      "   macro avg       0.50      0.49      0.49       457\n",
      "weighted avg       0.61      0.55      0.58       457\n",
      "\n",
      "test results:\n",
      "              precision    recall  f1-score   support\n",
      "\n",
      "       bknow       0.26      0.45      0.33        67\n",
      "      struct       0.74      0.55      0.63       189\n",
      "\n",
      "    accuracy                           0.52       256\n",
      "   macro avg       0.50      0.50      0.48       256\n",
      "weighted avg       0.61      0.52      0.55       256\n",
      "\n",
      "### ### ### ### ### ### ### ### ### ### \n",
      "{'acc': [0.5234375], 'f1': [0.47998667998668], 'r': [4]}\n",
      "### ### ### ### ### ### ### ### ### ### \n",
      "Grid search facebook/opt-350m, lr: 1e-05. Focal loss gamma: 8. Weight decay 0.0. Lora rank: 8\n"
     ]
    },
    {
     "name": "stderr",
     "output_type": "stream",
     "text": [
      "Some weights of OPTForSequenceClassification were not initialized from the model checkpoint at facebook/opt-350m and are newly initialized: ['score.weight']\n",
      "You should probably TRAIN this model on a down-stream task to be able to use it for predictions and inference.\n",
      "You're using a GPT2TokenizerFast tokenizer. Please note that with a fast tokenizer, using the `__call__` method is faster than using a method to encode the text followed by a call to the `pad` method to get a padded encoding.\n"
     ]
    },
    {
     "name": "stdout",
     "output_type": "stream",
     "text": [
      "1 / 20: Train Loss:\t0.6369\tVal Loss:\t0.8316\tAccuracy:\t0.5602\tF1:\t0.5022\n",
      "2 / 20: Train Loss:\t0.2465\tVal Loss:\t0.7598\tAccuracy:\t0.5842\tF1:\t0.4963\n",
      "3 / 20: Train Loss:\t0.1542\tVal Loss:\t0.7526\tAccuracy:\t0.5580\tF1:\t0.4736\n",
      "4 / 20: Train Loss:\t0.1413\tVal Loss:\t0.7449\tAccuracy:\t0.5667\tF1:\t0.4773\n",
      "5 / 20: Train Loss:\t0.1136\tVal Loss:\t0.7569\tAccuracy:\t0.5274\tF1:\t0.4677\n",
      "6 / 20: Train Loss:\t0.0906\tVal Loss:\t0.7454\tAccuracy:\t0.5646\tF1:\t0.4907\n",
      "7 / 20: Train Loss:\t0.0870\tVal Loss:\t0.7443\tAccuracy:\t0.5646\tF1:\t0.4927\n",
      "No improvement for 6 epochs. Stopping early.\n",
      "best (higgest macro f1-score) val results:\n",
      "              precision    recall  f1-score   support\n",
      "\n",
      "       bknow       0.26      0.36      0.30       119\n",
      "      struct       0.74      0.64      0.68       338\n",
      "\n",
      "    accuracy                           0.56       457\n",
      "   macro avg       0.50      0.50      0.49       457\n",
      "weighted avg       0.61      0.56      0.58       457\n",
      "\n",
      "test results:\n",
      "              precision    recall  f1-score   support\n",
      "\n",
      "       bknow       0.26      0.45      0.33        67\n",
      "      struct       0.74      0.54      0.63       189\n",
      "\n",
      "    accuracy                           0.52       256\n",
      "   macro avg       0.50      0.50      0.48       256\n",
      "weighted avg       0.61      0.52      0.55       256\n",
      "\n",
      "### ### ### ### ### ### ### ### ### ### \n",
      "{'acc': [0.5234375, 0.51953125], 'f1': [0.47998667998668, 0.4770043350440979], 'r': [4, 8]}\n",
      "### ### ### ### ### ### ### ### ### ### \n",
      "Grid search facebook/opt-350m, lr: 1e-05. Focal loss gamma: 8. Weight decay 0.0. Lora rank: 16\n"
     ]
    },
    {
     "name": "stderr",
     "output_type": "stream",
     "text": [
      "Some weights of OPTForSequenceClassification were not initialized from the model checkpoint at facebook/opt-350m and are newly initialized: ['score.weight']\n",
      "You should probably TRAIN this model on a down-stream task to be able to use it for predictions and inference.\n",
      "You're using a GPT2TokenizerFast tokenizer. Please note that with a fast tokenizer, using the `__call__` method is faster than using a method to encode the text followed by a call to the `pad` method to get a padded encoding.\n"
     ]
    },
    {
     "name": "stdout",
     "output_type": "stream",
     "text": [
      "1 / 20: Train Loss:\t0.6225\tVal Loss:\t0.8290\tAccuracy:\t0.5646\tF1:\t0.5104\n",
      "2 / 20: Train Loss:\t0.2396\tVal Loss:\t0.7608\tAccuracy:\t0.5755\tF1:\t0.4923\n",
      "3 / 20: Train Loss:\t0.1518\tVal Loss:\t0.7551\tAccuracy:\t0.5383\tF1:\t0.4579\n",
      "4 / 20: Train Loss:\t0.1398\tVal Loss:\t0.7477\tAccuracy:\t0.5602\tF1:\t0.4773\n",
      "5 / 20: Train Loss:\t0.1130\tVal Loss:\t0.7602\tAccuracy:\t0.5142\tF1:\t0.4582\n",
      "6 / 20: Train Loss:\t0.0899\tVal Loss:\t0.7467\tAccuracy:\t0.5558\tF1:\t0.4784\n",
      "7 / 20: Train Loss:\t0.0859\tVal Loss:\t0.7459\tAccuracy:\t0.5624\tF1:\t0.4986\n",
      "No improvement for 6 epochs. Stopping early.\n",
      "best (higgest macro f1-score) val results:\n",
      "              precision    recall  f1-score   support\n",
      "\n",
      "       bknow       0.27      0.39      0.32       119\n",
      "      struct       0.74      0.62      0.68       338\n",
      "\n",
      "    accuracy                           0.56       457\n",
      "   macro avg       0.51      0.51      0.50       457\n",
      "weighted avg       0.62      0.56      0.58       457\n",
      "\n",
      "test results:\n",
      "              precision    recall  f1-score   support\n",
      "\n",
      "       bknow       0.26      0.46      0.34        67\n",
      "      struct       0.74      0.54      0.63       189\n",
      "\n",
      "    accuracy                           0.52       256\n",
      "   macro avg       0.50      0.50      0.48       256\n",
      "weighted avg       0.62      0.52      0.55       256\n",
      "\n",
      "### ### ### ### ### ### ### ### ### ### \n",
      "{'acc': [0.5234375, 0.51953125, 0.5234375], 'f1': [0.47998667998668, 0.4770043350440979, 0.4825026511134677], 'r': [4, 8, 16]}\n",
      "### ### ### ### ### ### ### ### ### ### \n",
      "Grid search facebook/opt-350m, lr: 1e-05. Focal loss gamma: 8. Weight decay 0.0. Lora rank: 32\n"
     ]
    },
    {
     "name": "stderr",
     "output_type": "stream",
     "text": [
      "Some weights of OPTForSequenceClassification were not initialized from the model checkpoint at facebook/opt-350m and are newly initialized: ['score.weight']\n",
      "You should probably TRAIN this model on a down-stream task to be able to use it for predictions and inference.\n",
      "You're using a GPT2TokenizerFast tokenizer. Please note that with a fast tokenizer, using the `__call__` method is faster than using a method to encode the text followed by a call to the `pad` method to get a padded encoding.\n"
     ]
    },
    {
     "name": "stdout",
     "output_type": "stream",
     "text": [
      "1 / 20: Train Loss:\t0.6354\tVal Loss:\t0.8284\tAccuracy:\t0.5602\tF1:\t0.5022\n",
      "2 / 20: Train Loss:\t0.2415\tVal Loss:\t0.7592\tAccuracy:\t0.5821\tF1:\t0.4969\n",
      "3 / 20: Train Loss:\t0.1519\tVal Loss:\t0.7537\tAccuracy:\t0.5470\tF1:\t0.4660\n",
      "4 / 20: Train Loss:\t0.1404\tVal Loss:\t0.7457\tAccuracy:\t0.5711\tF1:\t0.4803\n",
      "5 / 20: Train Loss:\t0.1130\tVal Loss:\t0.7581\tAccuracy:\t0.5208\tF1:\t0.4612\n",
      "6 / 20: Train Loss:\t0.0898\tVal Loss:\t0.7459\tAccuracy:\t0.5558\tF1:\t0.4825\n",
      "7 / 20: Train Loss:\t0.0860\tVal Loss:\t0.7450\tAccuracy:\t0.5580\tF1:\t0.4917\n",
      "No improvement for 6 epochs. Stopping early.\n",
      "best (higgest macro f1-score) val results:\n",
      "              precision    recall  f1-score   support\n",
      "\n",
      "       bknow       0.26      0.38      0.31       119\n",
      "      struct       0.74      0.62      0.68       338\n",
      "\n",
      "    accuracy                           0.56       457\n",
      "   macro avg       0.50      0.50      0.49       457\n",
      "weighted avg       0.61      0.56      0.58       457\n",
      "\n",
      "test results:\n",
      "              precision    recall  f1-score   support\n",
      "\n",
      "       bknow       0.25      0.43      0.32        67\n",
      "      struct       0.73      0.54      0.62       189\n",
      "\n",
      "    accuracy                           0.51       256\n",
      "   macro avg       0.49      0.49      0.47       256\n",
      "weighted avg       0.60      0.51      0.54       256\n",
      "\n",
      "### ### ### ### ### ### ### ### ### ### \n",
      "{'acc': [0.5234375, 0.51953125, 0.5234375, 0.51171875], 'f1': [0.47998667998668, 0.4770043350440979, 0.4825026511134677, 0.46850034049196937], 'r': [4, 8, 16, 32]}\n",
      "### ### ### ### ### ### ### ### ### ### \n"
     ]
    }
   ],
   "source": [
    "ranks = [4,8,16,32]\n",
    "lora_alpha = 8\n",
    "lora_dropout = 0.0\n",
    "lr = 1.0e-5\n",
    "g = 8\n",
    "wd = 0.0\n",
    "\n",
    "for r in ranks:\n",
    "    print(f'Grid search {model_checkpoint}, lr: {lr}. Focal loss gamma: {g}. Weight decay {wd}. Lora rank: {r}')\n",
    "    data = ClimateDataset(model_to_train=1,model_checkpoint=model_checkpoint,batch_size=32)\n",
    "    data.setup_dataloaders()\n",
    "    model = ClassificationModel(model_checkpoint=data.model_checkpoint,\n",
    "                                num_labels=data.num_labels,\n",
    "                                lora=True,\n",
    "                                r=r,\n",
    "                                alpha=lora_alpha,\n",
    "                                dropout=lora_dropout)\n",
    "    trainer = Engine(epochs=20,labels=data.labels)\n",
    "    trainer.model = model.model\n",
    "    trainer.dataset_encoded = data.dataset_encoded\n",
    "    acc, f1 = trainer.run(lr=lr,\n",
    "                          wd=wd,\n",
    "                          train_dataloader=data.train_dataloader,\n",
    "                          eval_dataloader=data.eval_dataloader,\n",
    "                          test_dataloader=data.test_dataloader,\n",
    "                          focalloss=True,\n",
    "                          early_stop=6,\n",
    "                          gamma=g)\n",
    "    results['acc'].append(acc)\n",
    "    results['f1'].append(f1)\n",
    "    results['r'].append(r)\n",
    "    print('### '*10)\n",
    "    print(results)\n",
    "    print('### '*10)\n",
    "    with torch.no_grad():\n",
    "        torch.cuda.empty_cache()\n",
    "    del data, model, trainer, acc, f1"
   ]
  },
  {
   "cell_type": "code",
   "execution_count": 5,
   "metadata": {},
   "outputs": [],
   "source": [
    "import matplotlib.pyplot as plt\n",
    "import seaborn as sns\n",
    "import pandas as pd"
   ]
  },
  {
   "cell_type": "code",
   "execution_count": 6,
   "metadata": {},
   "outputs": [
    {
     "data": {
      "image/png": "[encoded data removed]",
      "text/plain": [
       "<Figure size 640x480 with 1 Axes>"
      ]
     },
     "metadata": {},
     "output_type": "display_data"
    }
   ],
   "source": [
    "def plot_grid_search(df, title):\n",
    "\n",
    "    # Create the plot\n",
    "    ax = df.plot(x='r', y=['acc', 'f1'], marker='o', linestyle='-')\n",
    "\n",
    "    # Set y-axis range between 0 and 1\n",
    "    plt.ylim(0, 1)\n",
    "\n",
    "    # Annotate points with F1 scores\n",
    "    for i, row in df.iterrows(): \n",
    "        ax.annotate(f'{row[\"f1\"]:.2f}', (row[\"r\"], row[\"f1\"]), textcoords='offset points', xytext=(0, -10), ha='center')\n",
    "\n",
    "    # Annotate points with Acc scores\n",
    "    for i, row in df.iterrows():\n",
    "        ax.annotate(f'{row[\"acc\"]:.2f}', (row[\"r\"], row[\"acc\"]), textcoords='offset points', xytext=(0, 10), ha='center')\n",
    "    \n",
    "    # \n",
    "    plt.xticks(df['r'], [val for val in df['r']], ha='center')\n",
    "    # plt.xscale('log')\n",
    "    plt.minorticks_off()\n",
    "\n",
    "    plt.title(title)\n",
    "    plt.xlabel('rank of the update matrices')\n",
    "    plt.ylabel('Score')\n",
    "    plt.show()\n",
    "\n",
    "plot_grid_search(pd.DataFrame(results), f'Lora ranks. {model_checkpoint}.')"
   ]
  }
 ],
 "metadata": {
  "kernelspec": {
   "display_name": "Python 3",
   "language": "python",
   "name": "python3"
  },
  "language_info": {
   "codemirror_mode": {
    "name": "ipython",
    "version": 3
   },
   "file_extension": ".py",
   "mimetype": "text/x-python",
   "name": "python",
   "nbconvert_exporter": "python",
   "pygments_lexer": "ipython3",
   "version": "3.11.5"
  },
  "orig_nbformat": 4
 },
 "nbformat": 4,
 "nbformat_minor": 2
}
