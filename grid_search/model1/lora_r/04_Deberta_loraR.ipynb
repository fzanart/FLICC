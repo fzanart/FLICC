{
 "cells": [
  {
   "cell_type": "code",
   "execution_count": 1,
   "metadata": {},
   "outputs": [],
   "source": [
    "import torch\n",
    "from data import ClimateDataset\n",
    "from models import ClassificationModel\n",
    "from engine import Engine"
   ]
  },
  {
   "cell_type": "code",
   "execution_count": 2,
   "metadata": {},
   "outputs": [],
   "source": [
    "model_checkpoint='microsoft/deberta-base'"
   ]
  },
  {
   "cell_type": "code",
   "execution_count": 3,
   "metadata": {},
   "outputs": [],
   "source": [
    "results = {'acc':[],\n",
    "           'f1':[],\n",
    "           'r':[]}"
   ]
  },
  {
   "cell_type": "code",
   "execution_count": 4,
   "metadata": {},
   "outputs": [
    {
     "name": "stdout",
     "output_type": "stream",
     "text": [
      "Grid search microsoft/deberta-base, lr: 1e-05. Weight decay 0.0. Lora rank: 4\n"
     ]
    },
    {
     "name": "stderr",
     "output_type": "stream",
     "text": [
      "Some weights of DebertaForSequenceClassification were not initialized from the model checkpoint at microsoft/deberta-base and are newly initialized: ['pooler.dense.bias', 'classifier.bias', 'pooler.dense.weight', 'classifier.weight']\n",
      "You should probably TRAIN this model on a down-stream task to be able to use it for predictions and inference.\n",
      "You're using a DebertaTokenizerFast tokenizer. Please note that with a fast tokenizer, using the `__call__` method is faster than using a method to encode the text followed by a call to the `pad` method to get a padded encoding.\n"
     ]
    },
    {
     "name": "stdout",
     "output_type": "stream",
     "text": [
      "1 / 10: Train Loss:\t0.6838\tVal Loss:\t0.6745\tAccuracy:\t0.7396\tF1:\t0.4252\n",
      "2 / 10: Train Loss:\t0.6634\tVal Loss:\t0.6555\tAccuracy:\t0.7396\tF1:\t0.4252\n",
      "3 / 10: Train Loss:\t0.6469\tVal Loss:\t0.6396\tAccuracy:\t0.7396\tF1:\t0.4252\n",
      "4 / 10: Train Loss:\t0.6317\tVal Loss:\t0.6261\tAccuracy:\t0.7396\tF1:\t0.4252\n",
      "No improvement for 3 epochs. Stopping early.\n",
      "best (higgest macro f1-score) val results:\n",
      "              precision    recall  f1-score   support\n",
      "\n",
      "       bknow       0.00      0.00      0.00       119\n",
      "      struct       0.74      1.00      0.85       338\n",
      "\n",
      "    accuracy                           0.74       457\n",
      "   macro avg       0.37      0.50      0.43       457\n",
      "weighted avg       0.55      0.74      0.63       457\n",
      "\n",
      "test results:\n",
      "              precision    recall  f1-score   support\n",
      "\n",
      "       bknow       0.00      0.00      0.00        67\n",
      "      struct       0.74      1.00      0.85       189\n",
      "\n",
      "    accuracy                           0.74       256\n",
      "   macro avg       0.37      0.50      0.42       256\n",
      "weighted avg       0.55      0.74      0.63       256\n",
      "\n",
      "### ### ### ### ### ### ### ### ### ### \n",
      "{'acc': [0.73828125], 'f1': [0.4247191011235955], 'r': [4]}\n",
      "### ### ### ### ### ### ### ### ### ### \n",
      "Grid search microsoft/deberta-base, lr: 1e-05. Weight decay 0.0. Lora rank: 8\n"
     ]
    },
    {
     "name": "stderr",
     "output_type": "stream",
     "text": [
      "Some weights of DebertaForSequenceClassification were not initialized from the model checkpoint at microsoft/deberta-base and are newly initialized: ['pooler.dense.bias', 'classifier.bias', 'pooler.dense.weight', 'classifier.weight']\n",
      "You should probably TRAIN this model on a down-stream task to be able to use it for predictions and inference.\n",
      "You're using a DebertaTokenizerFast tokenizer. Please note that with a fast tokenizer, using the `__call__` method is faster than using a method to encode the text followed by a call to the `pad` method to get a padded encoding.\n"
     ]
    },
    {
     "name": "stdout",
     "output_type": "stream",
     "text": [
      "1 / 10: Train Loss:\t0.6838\tVal Loss:\t0.6745\tAccuracy:\t0.7396\tF1:\t0.4252\n",
      "2 / 10: Train Loss:\t0.6635\tVal Loss:\t0.6556\tAccuracy:\t0.7396\tF1:\t0.4252\n",
      "3 / 10: Train Loss:\t0.6470\tVal Loss:\t0.6397\tAccuracy:\t0.7396\tF1:\t0.4252\n",
      "4 / 10: Train Loss:\t0.6320\tVal Loss:\t0.6264\tAccuracy:\t0.7396\tF1:\t0.4252\n",
      "No improvement for 3 epochs. Stopping early.\n",
      "best (higgest macro f1-score) val results:\n",
      "              precision    recall  f1-score   support\n",
      "\n",
      "       bknow       0.00      0.00      0.00       119\n",
      "      struct       0.74      1.00      0.85       338\n",
      "\n",
      "    accuracy                           0.74       457\n",
      "   macro avg       0.37      0.50      0.43       457\n",
      "weighted avg       0.55      0.74      0.63       457\n",
      "\n",
      "test results:\n",
      "              precision    recall  f1-score   support\n",
      "\n",
      "       bknow       0.00      0.00      0.00        67\n",
      "      struct       0.74      1.00      0.85       189\n",
      "\n",
      "    accuracy                           0.74       256\n",
      "   macro avg       0.37      0.50      0.42       256\n",
      "weighted avg       0.55      0.74      0.63       256\n",
      "\n",
      "### ### ### ### ### ### ### ### ### ### \n",
      "{'acc': [0.73828125, 0.73828125], 'f1': [0.4247191011235955, 0.4247191011235955], 'r': [4, 8]}\n",
      "### ### ### ### ### ### ### ### ### ### \n",
      "Grid search microsoft/deberta-base, lr: 1e-05. Weight decay 0.0. Lora rank: 16\n"
     ]
    },
    {
     "name": "stderr",
     "output_type": "stream",
     "text": [
      "Some weights of DebertaForSequenceClassification were not initialized from the model checkpoint at microsoft/deberta-base and are newly initialized: ['pooler.dense.bias', 'classifier.bias', 'pooler.dense.weight', 'classifier.weight']\n",
      "You should probably TRAIN this model on a down-stream task to be able to use it for predictions and inference.\n",
      "You're using a DebertaTokenizerFast tokenizer. Please note that with a fast tokenizer, using the `__call__` method is faster than using a method to encode the text followed by a call to the `pad` method to get a padded encoding.\n"
     ]
    },
    {
     "name": "stdout",
     "output_type": "stream",
     "text": [
      "1 / 10: Train Loss:\t0.6838\tVal Loss:\t0.6745\tAccuracy:\t0.7396\tF1:\t0.4252\n",
      "2 / 10: Train Loss:\t0.6635\tVal Loss:\t0.6556\tAccuracy:\t0.7396\tF1:\t0.4252\n",
      "3 / 10: Train Loss:\t0.6470\tVal Loss:\t0.6397\tAccuracy:\t0.7396\tF1:\t0.4252\n",
      "4 / 10: Train Loss:\t0.6320\tVal Loss:\t0.6263\tAccuracy:\t0.7396\tF1:\t0.4252\n",
      "No improvement for 3 epochs. Stopping early.\n",
      "best (higgest macro f1-score) val results:\n",
      "              precision    recall  f1-score   support\n",
      "\n",
      "       bknow       0.00      0.00      0.00       119\n",
      "      struct       0.74      1.00      0.85       338\n",
      "\n",
      "    accuracy                           0.74       457\n",
      "   macro avg       0.37      0.50      0.43       457\n",
      "weighted avg       0.55      0.74      0.63       457\n",
      "\n",
      "test results:\n",
      "              precision    recall  f1-score   support\n",
      "\n",
      "       bknow       0.00      0.00      0.00        67\n",
      "      struct       0.74      1.00      0.85       189\n",
      "\n",
      "    accuracy                           0.74       256\n",
      "   macro avg       0.37      0.50      0.42       256\n",
      "weighted avg       0.55      0.74      0.63       256\n",
      "\n",
      "### ### ### ### ### ### ### ### ### ### \n",
      "{'acc': [0.73828125, 0.73828125, 0.73828125], 'f1': [0.4247191011235955, 0.4247191011235955, 0.4247191011235955], 'r': [4, 8, 16]}\n",
      "### ### ### ### ### ### ### ### ### ### \n",
      "Grid search microsoft/deberta-base, lr: 1e-05. Weight decay 0.0. Lora rank: 32\n"
     ]
    },
    {
     "name": "stderr",
     "output_type": "stream",
     "text": [
      "Some weights of DebertaForSequenceClassification were not initialized from the model checkpoint at microsoft/deberta-base and are newly initialized: ['pooler.dense.bias', 'classifier.bias', 'pooler.dense.weight', 'classifier.weight']\n",
      "You should probably TRAIN this model on a down-stream task to be able to use it for predictions and inference.\n",
      "You're using a DebertaTokenizerFast tokenizer. Please note that with a fast tokenizer, using the `__call__` method is faster than using a method to encode the text followed by a call to the `pad` method to get a padded encoding.\n"
     ]
    },
    {
     "name": "stdout",
     "output_type": "stream",
     "text": [
      "1 / 10: Train Loss:\t0.6838\tVal Loss:\t0.6745\tAccuracy:\t0.7396\tF1:\t0.4252\n",
      "2 / 10: Train Loss:\t0.6635\tVal Loss:\t0.6556\tAccuracy:\t0.7396\tF1:\t0.4252\n",
      "3 / 10: Train Loss:\t0.6470\tVal Loss:\t0.6397\tAccuracy:\t0.7396\tF1:\t0.4252\n",
      "4 / 10: Train Loss:\t0.6319\tVal Loss:\t0.6263\tAccuracy:\t0.7396\tF1:\t0.4252\n",
      "No improvement for 3 epochs. Stopping early.\n",
      "best (higgest macro f1-score) val results:\n",
      "              precision    recall  f1-score   support\n",
      "\n",
      "       bknow       0.00      0.00      0.00       119\n",
      "      struct       0.74      1.00      0.85       338\n",
      "\n",
      "    accuracy                           0.74       457\n",
      "   macro avg       0.37      0.50      0.43       457\n",
      "weighted avg       0.55      0.74      0.63       457\n",
      "\n",
      "test results:\n",
      "              precision    recall  f1-score   support\n",
      "\n",
      "       bknow       0.00      0.00      0.00        67\n",
      "      struct       0.74      1.00      0.85       189\n",
      "\n",
      "    accuracy                           0.74       256\n",
      "   macro avg       0.37      0.50      0.42       256\n",
      "weighted avg       0.55      0.74      0.63       256\n",
      "\n",
      "### ### ### ### ### ### ### ### ### ### \n",
      "{'acc': [0.73828125, 0.73828125, 0.73828125, 0.73828125], 'f1': [0.4247191011235955, 0.4247191011235955, 0.4247191011235955, 0.4247191011235955], 'r': [4, 8, 16, 32]}\n",
      "### ### ### ### ### ### ### ### ### ### \n"
     ]
    }
   ],
   "source": [
    "ranks = [4,8,16,32]\n",
    "lora_alpha = 8\n",
    "lora_dropout = 0.0\n",
    "lr = 1.0e-5\n",
    "wd = 0.0\n",
    "\n",
    "for r in ranks:\n",
    "    print(f'Grid search {model_checkpoint}, lr: {lr}. Weight decay {wd}. Lora rank: {r}')\n",
    "    data = ClimateDataset(model_to_train=1,model_checkpoint=model_checkpoint,batch_size=32)\n",
    "    data.setup_dataloaders()\n",
    "    model = ClassificationModel(model_checkpoint=data.model_checkpoint,\n",
    "                                num_labels=data.num_labels,\n",
    "                                lora=True,\n",
    "                                r=r,\n",
    "                                alpha=lora_alpha,\n",
    "                                dropout=lora_dropout)\n",
    "    trainer = Engine(epochs=10,labels=data.labels)\n",
    "    trainer.model = model.model\n",
    "    trainer.dataset_encoded = data.dataset_encoded\n",
    "    acc, f1 = trainer.run(lr=lr,\n",
    "                          wd=wd,\n",
    "                          train_dataloader=data.train_dataloader,\n",
    "                          eval_dataloader=data.eval_dataloader,\n",
    "                          test_dataloader=data.test_dataloader,\n",
    "                          early_stop=3)\n",
    "    results['acc'].append(acc)\n",
    "    results['f1'].append(f1)\n",
    "    results['r'].append(r)\n",
    "    print('### '*10)\n",
    "    print(results)\n",
    "    print('### '*10)\n",
    "    with torch.no_grad():\n",
    "        torch.cuda.empty_cache()\n",
    "    del data, model, trainer, acc, f1"
   ]
  },
  {
   "cell_type": "code",
   "execution_count": 5,
   "metadata": {},
   "outputs": [],
   "source": [
    "import matplotlib.pyplot as plt\n",
    "import seaborn as sns\n",
    "import pandas as pd"
   ]
  },
  {
   "cell_type": "code",
   "execution_count": 6,
   "metadata": {},
   "outputs": [
    {
     "data": {
      "image/png": "[encoded data removed]",
      "text/plain": [
       "<Figure size 640x480 with 1 Axes>"
      ]
     },
     "metadata": {},
     "output_type": "display_data"
    }
   ],
   "source": [
    "def plot_grid_search(df, title):\n",
    "\n",
    "    # Create the plot\n",
    "    ax = df.plot(x='r', y=['acc', 'f1'], marker='o', linestyle='-')\n",
    "\n",
    "    # Set y-axis range between 0 and 1\n",
    "    plt.ylim(0, 1)\n",
    "\n",
    "    # Annotate points with F1 scores\n",
    "    for i, row in df.iterrows(): \n",
    "        ax.annotate(f'{row[\"f1\"]:.2f}', (row[\"r\"], row[\"f1\"]), textcoords='offset points', xytext=(0, -10), ha='center')\n",
    "\n",
    "    # Annotate points with Acc scores\n",
    "    for i, row in df.iterrows():\n",
    "        ax.annotate(f'{row[\"acc\"]:.2f}', (row[\"r\"], row[\"acc\"]), textcoords='offset points', xytext=(0, 10), ha='center')\n",
    "    \n",
    "    # \n",
    "    plt.xticks(df['r'], [val for val in df['r']], ha='center')\n",
    "    # plt.xscale('log')\n",
    "    plt.minorticks_off()\n",
    "\n",
    "    plt.title(title)\n",
    "    plt.xlabel('rank of the update matrices')\n",
    "    plt.ylabel('Score')\n",
    "    plt.show()\n",
    "\n",
    "plot_grid_search(pd.DataFrame(results), f'Lora ranks. {model_checkpoint}.')"
   ]
  }
 ],
 "metadata": {
  "kernelspec": {
   "display_name": "Python 3",
   "language": "python",
   "name": "python3"
  },
  "language_info": {
   "codemirror_mode": {
    "name": "ipython",
    "version": 3
   },
   "file_extension": ".py",
   "mimetype": "text/x-python",
   "name": "python",
   "nbconvert_exporter": "python",
   "pygments_lexer": "ipython3",
   "version": "3.11.5"
  },
  "orig_nbformat": 4
 },
 "nbformat": 4,
 "nbformat_minor": 2
}
