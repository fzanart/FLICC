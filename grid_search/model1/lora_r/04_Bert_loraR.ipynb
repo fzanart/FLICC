{
 "cells": [
  {
   "cell_type": "code",
   "execution_count": 1,
   "metadata": {},
   "outputs": [],
   "source": [
    "import torch\n",
    "from data import ClimateDataset\n",
    "from models import ClassificationModel\n",
    "from engine import Engine"
   ]
  },
  {
   "cell_type": "code",
   "execution_count": 2,
   "metadata": {},
   "outputs": [],
   "source": [
    "model_checkpoint='bert-base-uncased'"
   ]
  },
  {
   "cell_type": "code",
   "execution_count": 3,
   "metadata": {},
   "outputs": [],
   "source": [
    "results = {'acc':[],\n",
    "           'f1':[],\n",
    "           'r':[]}"
   ]
  },
  {
   "cell_type": "code",
   "execution_count": 4,
   "metadata": {},
   "outputs": [
    {
     "name": "stdout",
     "output_type": "stream",
     "text": [
      "Grid search bert-base-uncased, lr: 0.0001. Focal loss gamma: 2. Weight decay 0.01. Lora rank: 4\n"
     ]
    },
    {
     "data": {
      "application/vnd.jupyter.widget-view+json": {
       "model_id": "8d10d6bee52746a4a9a96df91198afcb",
       "version_major": 2,
       "version_minor": 0
      },
      "text/plain": [
       "Map:   0%|          | 0/256 [00:00<?, ? examples/s]"
      ]
     },
     "metadata": {},
     "output_type": "display_data"
    },
    {
     "name": "stderr",
     "output_type": "stream",
     "text": [
      "Some weights of BertForSequenceClassification were not initialized from the model checkpoint at bert-base-uncased and are newly initialized: ['classifier.weight', 'classifier.bias']\n",
      "You should probably TRAIN this model on a down-stream task to be able to use it for predictions and inference.\n",
      "You're using a BertTokenizerFast tokenizer. Please note that with a fast tokenizer, using the `__call__` method is faster than using a method to encode the text followed by a call to the `pad` method to get a padded encoding.\n"
     ]
    },
    {
     "name": "stdout",
     "output_type": "stream",
     "text": [
      "1 / 10: Train Loss:\t0.3689\tVal Loss:\t0.7221\tAccuracy:\t0.2801\tF1:\t0.2454\n",
      "2 / 10: Train Loss:\t0.3460\tVal Loss:\t0.6915\tAccuracy:\t0.5011\tF1:\t0.4996\n",
      "3 / 10: Train Loss:\t0.3311\tVal Loss:\t0.6633\tAccuracy:\t0.6346\tF1:\t0.6170\n",
      "4 / 10: Train Loss:\t0.3057\tVal Loss:\t0.6111\tAccuracy:\t0.7046\tF1:\t0.6656\n",
      "5 / 10: Train Loss:\t0.2855\tVal Loss:\t0.5719\tAccuracy:\t0.7330\tF1:\t0.6821\n",
      "6 / 10: Train Loss:\t0.2788\tVal Loss:\t0.5695\tAccuracy:\t0.7374\tF1:\t0.6935\n",
      "7 / 10: Train Loss:\t0.2594\tVal Loss:\t0.5522\tAccuracy:\t0.7440\tF1:\t0.7061\n",
      "8 / 10: Train Loss:\t0.2461\tVal Loss:\t0.5274\tAccuracy:\t0.7768\tF1:\t0.7353\n",
      "9 / 10: Train Loss:\t0.2304\tVal Loss:\t0.5205\tAccuracy:\t0.7702\tF1:\t0.7333\n",
      "10 / 10: Train Loss:\t0.2135\tVal Loss:\t0.5132\tAccuracy:\t0.7681\tF1:\t0.7342\n",
      "best (higgest macro f1-score) val results:\n",
      "              precision    recall  f1-score   support\n",
      "\n",
      "       bknow       0.54      0.79      0.64       119\n",
      "      struct       0.91      0.76      0.83       338\n",
      "\n",
      "    accuracy                           0.77       457\n",
      "   macro avg       0.72      0.78      0.73       457\n",
      "weighted avg       0.81      0.77      0.78       457\n",
      "\n",
      "test results:\n",
      "              precision    recall  f1-score   support\n",
      "\n",
      "       bknow       0.54      0.78      0.63        67\n",
      "      struct       0.91      0.76      0.83       189\n",
      "\n",
      "    accuracy                           0.77       256\n",
      "   macro avg       0.72      0.77      0.73       256\n",
      "weighted avg       0.81      0.77      0.78       256\n",
      "\n",
      "### ### ### ### ### ### ### ### ### ### \n",
      "{'acc': [0.765625], 'f1': [0.7308662741799832], 'r': [4]}\n",
      "### ### ### ### ### ### ### ### ### ### \n",
      "Grid search bert-base-uncased, lr: 0.0001. Focal loss gamma: 2. Weight decay 0.01. Lora rank: 8\n"
     ]
    },
    {
     "data": {
      "application/vnd.jupyter.widget-view+json": {
       "model_id": "9f70bdd9c5f7407d82f6be10dcf9d06a",
       "version_major": 2,
       "version_minor": 0
      },
      "text/plain": [
       "Map:   0%|          | 0/457 [00:00<?, ? examples/s]"
      ]
     },
     "metadata": {},
     "output_type": "display_data"
    },
    {
     "name": "stderr",
     "output_type": "stream",
     "text": [
      "Some weights of BertForSequenceClassification were not initialized from the model checkpoint at bert-base-uncased and are newly initialized: ['classifier.weight', 'classifier.bias']\n",
      "You should probably TRAIN this model on a down-stream task to be able to use it for predictions and inference.\n",
      "You're using a BertTokenizerFast tokenizer. Please note that with a fast tokenizer, using the `__call__` method is faster than using a method to encode the text followed by a call to the `pad` method to get a padded encoding.\n"
     ]
    },
    {
     "name": "stdout",
     "output_type": "stream",
     "text": [
      "1 / 10: Train Loss:\t0.3689\tVal Loss:\t0.7222\tAccuracy:\t0.2779\tF1:\t0.2423\n",
      "2 / 10: Train Loss:\t0.3455\tVal Loss:\t0.6906\tAccuracy:\t0.5098\tF1:\t0.5076\n",
      "3 / 10: Train Loss:\t0.3279\tVal Loss:\t0.6571\tAccuracy:\t0.6368\tF1:\t0.6173\n",
      "4 / 10: Train Loss:\t0.3004\tVal Loss:\t0.6055\tAccuracy:\t0.7046\tF1:\t0.6668\n",
      "5 / 10: Train Loss:\t0.2820\tVal Loss:\t0.5707\tAccuracy:\t0.7309\tF1:\t0.6814\n",
      "6 / 10: Train Loss:\t0.2748\tVal Loss:\t0.5691\tAccuracy:\t0.7396\tF1:\t0.6978\n",
      "7 / 10: Train Loss:\t0.2569\tVal Loss:\t0.5480\tAccuracy:\t0.7484\tF1:\t0.7079\n",
      "8 / 10: Train Loss:\t0.2431\tVal Loss:\t0.5280\tAccuracy:\t0.7768\tF1:\t0.7374\n",
      "9 / 10: Train Loss:\t0.2264\tVal Loss:\t0.5157\tAccuracy:\t0.7681\tF1:\t0.7323\n",
      "10 / 10: Train Loss:\t0.2090\tVal Loss:\t0.5104\tAccuracy:\t0.7637\tF1:\t0.7283\n",
      "best (higgest macro f1-score) val results:\n",
      "              precision    recall  f1-score   support\n",
      "\n",
      "       bknow       0.53      0.77      0.63       119\n",
      "      struct       0.90      0.76      0.83       338\n",
      "\n",
      "    accuracy                           0.76       457\n",
      "   macro avg       0.72      0.77      0.73       457\n",
      "weighted avg       0.81      0.76      0.78       457\n",
      "\n",
      "test results:\n",
      "              precision    recall  f1-score   support\n",
      "\n",
      "       bknow       0.54      0.79      0.64        67\n",
      "      struct       0.91      0.76      0.83       189\n",
      "\n",
      "    accuracy                           0.77       256\n",
      "   macro avg       0.72      0.77      0.73       256\n",
      "weighted avg       0.81      0.77      0.78       256\n",
      "\n",
      "### ### ### ### ### ### ### ### ### ### \n",
      "{'acc': [0.765625, 0.765625], 'f1': [0.7308662741799832, 0.7325719061215962], 'r': [4, 8]}\n",
      "### ### ### ### ### ### ### ### ### ### \n",
      "Grid search bert-base-uncased, lr: 0.0001. Focal loss gamma: 2. Weight decay 0.01. Lora rank: 16\n"
     ]
    },
    {
     "name": "stderr",
     "output_type": "stream",
     "text": [
      "Some weights of BertForSequenceClassification were not initialized from the model checkpoint at bert-base-uncased and are newly initialized: ['classifier.weight', 'classifier.bias']\n",
      "You should probably TRAIN this model on a down-stream task to be able to use it for predictions and inference.\n",
      "You're using a BertTokenizerFast tokenizer. Please note that with a fast tokenizer, using the `__call__` method is faster than using a method to encode the text followed by a call to the `pad` method to get a padded encoding.\n"
     ]
    },
    {
     "name": "stdout",
     "output_type": "stream",
     "text": [
      "1 / 10: Train Loss:\t0.3689\tVal Loss:\t0.7219\tAccuracy:\t0.2779\tF1:\t0.2423\n",
      "2 / 10: Train Loss:\t0.3452\tVal Loss:\t0.6891\tAccuracy:\t0.5120\tF1:\t0.5099\n",
      "3 / 10: Train Loss:\t0.3275\tVal Loss:\t0.6557\tAccuracy:\t0.6565\tF1:\t0.6345\n",
      "4 / 10: Train Loss:\t0.3003\tVal Loss:\t0.6047\tAccuracy:\t0.7177\tF1:\t0.6772\n",
      "5 / 10: Train Loss:\t0.2820\tVal Loss:\t0.5703\tAccuracy:\t0.7309\tF1:\t0.6827\n",
      "6 / 10: Train Loss:\t0.2753\tVal Loss:\t0.5694\tAccuracy:\t0.7374\tF1:\t0.6947\n",
      "7 / 10: Train Loss:\t0.2566\tVal Loss:\t0.5475\tAccuracy:\t0.7440\tF1:\t0.7040\n",
      "8 / 10: Train Loss:\t0.2427\tVal Loss:\t0.5237\tAccuracy:\t0.7681\tF1:\t0.7293\n",
      "9 / 10: Train Loss:\t0.2271\tVal Loss:\t0.5166\tAccuracy:\t0.7527\tF1:\t0.7172\n",
      "10 / 10: Train Loss:\t0.2074\tVal Loss:\t0.5111\tAccuracy:\t0.7571\tF1:\t0.7241\n",
      "best (higgest macro f1-score) val results:\n",
      "              precision    recall  f1-score   support\n",
      "\n",
      "       bknow       0.52      0.79      0.63       119\n",
      "      struct       0.91      0.75      0.82       338\n",
      "\n",
      "    accuracy                           0.76       457\n",
      "   macro avg       0.72      0.77      0.72       457\n",
      "weighted avg       0.81      0.76      0.77       457\n",
      "\n",
      "test results:\n",
      "              precision    recall  f1-score   support\n",
      "\n",
      "       bknow       0.52      0.81      0.64        67\n",
      "      struct       0.92      0.74      0.82       189\n",
      "\n",
      "    accuracy                           0.76       256\n",
      "   macro avg       0.72      0.77      0.73       256\n",
      "weighted avg       0.81      0.76      0.77       256\n",
      "\n",
      "### ### ### ### ### ### ### ### ### ### \n",
      "{'acc': [0.765625, 0.765625, 0.7578125], 'f1': [0.7308662741799832, 0.7325719061215962, 0.7270037839697283], 'r': [4, 8, 16]}\n",
      "### ### ### ### ### ### ### ### ### ### \n",
      "Grid search bert-base-uncased, lr: 0.0001. Focal loss gamma: 2. Weight decay 0.01. Lora rank: 32\n"
     ]
    },
    {
     "name": "stderr",
     "output_type": "stream",
     "text": [
      "Some weights of BertForSequenceClassification were not initialized from the model checkpoint at bert-base-uncased and are newly initialized: ['classifier.weight', 'classifier.bias']\n",
      "You should probably TRAIN this model on a down-stream task to be able to use it for predictions and inference.\n",
      "You're using a BertTokenizerFast tokenizer. Please note that with a fast tokenizer, using the `__call__` method is faster than using a method to encode the text followed by a call to the `pad` method to get a padded encoding.\n"
     ]
    },
    {
     "name": "stdout",
     "output_type": "stream",
     "text": [
      "1 / 10: Train Loss:\t0.3689\tVal Loss:\t0.7221\tAccuracy:\t0.2801\tF1:\t0.2454\n",
      "2 / 10: Train Loss:\t0.3457\tVal Loss:\t0.6910\tAccuracy:\t0.5055\tF1:\t0.5037\n",
      "3 / 10: Train Loss:\t0.3296\tVal Loss:\t0.6607\tAccuracy:\t0.6477\tF1:\t0.6277\n",
      "4 / 10: Train Loss:\t0.3033\tVal Loss:\t0.6091\tAccuracy:\t0.7024\tF1:\t0.6626\n",
      "5 / 10: Train Loss:\t0.2846\tVal Loss:\t0.5741\tAccuracy:\t0.7243\tF1:\t0.6743\n",
      "6 / 10: Train Loss:\t0.2776\tVal Loss:\t0.5714\tAccuracy:\t0.7374\tF1:\t0.6958\n",
      "7 / 10: Train Loss:\t0.2591\tVal Loss:\t0.5502\tAccuracy:\t0.7418\tF1:\t0.7031\n",
      "8 / 10: Train Loss:\t0.2450\tVal Loss:\t0.5289\tAccuracy:\t0.7659\tF1:\t0.7262\n",
      "9 / 10: Train Loss:\t0.2301\tVal Loss:\t0.5196\tAccuracy:\t0.7593\tF1:\t0.7232\n",
      "10 / 10: Train Loss:\t0.2104\tVal Loss:\t0.5120\tAccuracy:\t0.7615\tF1:\t0.7272\n",
      "best (higgest macro f1-score) val results:\n",
      "              precision    recall  f1-score   support\n",
      "\n",
      "       bknow       0.53      0.78      0.63       119\n",
      "      struct       0.91      0.75      0.82       338\n",
      "\n",
      "    accuracy                           0.76       457\n",
      "   macro avg       0.72      0.77      0.73       457\n",
      "weighted avg       0.81      0.76      0.77       457\n",
      "\n",
      "test results:\n",
      "              precision    recall  f1-score   support\n",
      "\n",
      "       bknow       0.51      0.79      0.62        67\n",
      "      struct       0.91      0.73      0.81       189\n",
      "\n",
      "    accuracy                           0.75       256\n",
      "   macro avg       0.71      0.76      0.71       256\n",
      "weighted avg       0.80      0.75      0.76       256\n",
      "\n",
      "### ### ### ### ### ### ### ### ### ### \n",
      "{'acc': [0.765625, 0.765625, 0.7578125, 0.74609375], 'f1': [0.7308662741799832, 0.7325719061215962, 0.7270037839697283, 0.7146336025792732], 'r': [4, 8, 16, 32]}\n",
      "### ### ### ### ### ### ### ### ### ### \n"
     ]
    }
   ],
   "source": [
    "ranks = [4,8,16,32]\n",
    "lora_alpha = 8\n",
    "lora_dropout = 0.0\n",
    "lr = 1.0e-4\n",
    "g = 2\n",
    "wd = 0.01\n",
    "\n",
    "for r in ranks:\n",
    "    print(f'Grid search {model_checkpoint}, lr: {lr}. Focal loss gamma: {g}. Weight decay {wd}. Lora rank: {r}')\n",
    "    data = ClimateDataset(model_to_train=1,model_checkpoint=model_checkpoint,batch_size=32)\n",
    "    data.setup_dataloaders()\n",
    "    model = ClassificationModel(model_checkpoint=data.model_checkpoint,\n",
    "                                num_labels=data.num_labels,\n",
    "                                lora=True,\n",
    "                                r=r,\n",
    "                                alpha=lora_alpha,\n",
    "                                dropout=lora_dropout)\n",
    "    trainer = Engine(epochs=10,labels=data.labels)\n",
    "    trainer.model = model.model\n",
    "    trainer.dataset_encoded = data.dataset_encoded\n",
    "    acc, f1 = trainer.run(lr=lr,\n",
    "                          wd=wd,\n",
    "                          train_dataloader=data.train_dataloader,\n",
    "                          eval_dataloader=data.eval_dataloader,\n",
    "                          test_dataloader=data.test_dataloader,\n",
    "                          focalloss=True,\n",
    "                          early_stop=3,\n",
    "                          gamma=g)\n",
    "    results['acc'].append(acc)\n",
    "    results['f1'].append(f1)\n",
    "    results['r'].append(r)\n",
    "    print('### '*10)\n",
    "    print(results)\n",
    "    print('### '*10)\n",
    "    with torch.no_grad():\n",
    "        torch.cuda.empty_cache()\n",
    "    del data, model, trainer, acc, f1"
   ]
  },
  {
   "cell_type": "code",
   "execution_count": 5,
   "metadata": {},
   "outputs": [],
   "source": [
    "import matplotlib.pyplot as plt\n",
    "import seaborn as sns\n",
    "import pandas as pd"
   ]
  },
  {
   "cell_type": "code",
   "execution_count": 7,
   "metadata": {},
   "outputs": [
    {
     "data": {
      "image/png": "[encoded data removed]",
      "text/plain": [
       "<Figure size 640x480 with 1 Axes>"
      ]
     },
     "metadata": {},
     "output_type": "display_data"
    }
   ],
   "source": [
    "def plot_grid_search(df, title):\n",
    "\n",
    "    # Create the plot\n",
    "    ax = df.plot(x='r', y=['acc', 'f1'], marker='o', linestyle='-')\n",
    "\n",
    "    # Set y-axis range between 0 and 1\n",
    "    plt.ylim(0, 1)\n",
    "\n",
    "    # Annotate points with F1 scores\n",
    "    for i, row in df.iterrows(): \n",
    "        ax.annotate(f'{row[\"f1\"]:.2f}', (row[\"r\"], row[\"f1\"]), textcoords='offset points', xytext=(0, -10), ha='center')\n",
    "\n",
    "    # Annotate points with Acc scores\n",
    "    for i, row in df.iterrows():\n",
    "        ax.annotate(f'{row[\"acc\"]:.2f}', (row[\"r\"], row[\"acc\"]), textcoords='offset points', xytext=(0, 10), ha='center')\n",
    "    \n",
    "    # \n",
    "    plt.xticks(df['r'], [val for val in df['r']], ha='center')\n",
    "    # plt.xscale('log')\n",
    "    plt.minorticks_off()\n",
    "\n",
    "    plt.title(title)\n",
    "    plt.xlabel('rank of the update matrices')\n",
    "    plt.ylabel('Score')\n",
    "    plt.show()\n",
    "\n",
    "plot_grid_search(pd.DataFrame(results), f'Lora ranks. {model_checkpoint}.')"
   ]
  }
 ],
 "metadata": {
  "kernelspec": {
   "display_name": "Python 3",
   "language": "python",
   "name": "python3"
  },
  "language_info": {
   "codemirror_mode": {
    "name": "ipython",
    "version": 3
   },
   "file_extension": ".py",
   "mimetype": "text/x-python",
   "name": "python",
   "nbconvert_exporter": "python",
   "pygments_lexer": "ipython3",
   "version": "3.11.5"
  },
  "orig_nbformat": 4
 },
 "nbformat": 4,
 "nbformat_minor": 2
}
