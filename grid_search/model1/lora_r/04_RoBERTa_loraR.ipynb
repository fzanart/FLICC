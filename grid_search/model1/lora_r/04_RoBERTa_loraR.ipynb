{
 "cells": [
  {
   "cell_type": "code",
   "execution_count": 1,
   "metadata": {},
   "outputs": [],
   "source": [
    "import torch\n",
    "from data import ClimateDataset\n",
    "from models import ClassificationModel\n",
    "from engine import Engine"
   ]
  },
  {
   "cell_type": "code",
   "execution_count": 2,
   "metadata": {},
   "outputs": [],
   "source": [
    "model_checkpoint='roberta-large'\n",
    "\n",
    "# the commands below didn't work inside for loop and got CUDA out of memory Error.\n",
    "#     with torch.no_grad():\n",
    "#        torch.cuda.empty_cache()\n",
    "#    del data, model, trainer, acc, f1\n",
    "# Instead of running these commands in a loop, execute them cell by cell, restarting between them.\n",
    "# Each cell will print its results. To keep the results and avoid re-running specific cells, skip them intermittently on each run."
   ]
  },
  {
   "cell_type": "code",
   "execution_count": 3,
   "metadata": {},
   "outputs": [],
   "source": [
    "results = {'acc':[],\n",
    "           'f1':[],\n",
    "           'r':[]}"
   ]
  },
  {
   "cell_type": "code",
   "execution_count": 4,
   "metadata": {},
   "outputs": [
    {
     "name": "stdout",
     "output_type": "stream",
     "text": [
      "Grid search roberta-large, lr: 1e-05. Focal loss gamma: 2. Weight decay 0.0. Lora rank: 4\n"
     ]
    },
    {
     "data": {
      "application/vnd.jupyter.widget-view+json": {
       "model_id": "8094d58ba9f843338304096c508a53fc",
       "version_major": 2,
       "version_minor": 0
      },
      "text/plain": [
       "Map:   0%|          | 0/256 [00:00<?, ? examples/s]"
      ]
     },
     "metadata": {},
     "output_type": "display_data"
    },
    {
     "name": "stderr",
     "output_type": "stream",
     "text": [
      "Some weights of RobertaForSequenceClassification were not initialized from the model checkpoint at roberta-large and are newly initialized: ['classifier.out_proj.bias', 'classifier.dense.weight', 'classifier.dense.bias', 'classifier.out_proj.weight']\n",
      "You should probably TRAIN this model on a down-stream task to be able to use it for predictions and inference.\n",
      "You're using a RobertaTokenizerFast tokenizer. Please note that with a fast tokenizer, using the `__call__` method is faster than using a method to encode the text followed by a call to the `pad` method to get a padded encoding.\n"
     ]
    },
    {
     "name": "stdout",
     "output_type": "stream",
     "text": [
      "1 / 10: Train Loss:\t0.1824\tVal Loss:\t0.7065\tAccuracy:\t0.2691\tF1:\t0.2251\n",
      "2 / 10: Train Loss:\t0.1767\tVal Loss:\t0.7004\tAccuracy:\t0.3479\tF1:\t0.3336\n",
      "3 / 10: Train Loss:\t0.1744\tVal Loss:\t0.6962\tAccuracy:\t0.4508\tF1:\t0.4497\n",
      "4 / 10: Train Loss:\t0.1727\tVal Loss:\t0.6947\tAccuracy:\t0.4945\tF1:\t0.4936\n",
      "5 / 10: Train Loss:\t0.1719\tVal Loss:\t0.6928\tAccuracy:\t0.5120\tF1:\t0.5109\n",
      "6 / 10: Train Loss:\t0.1695\tVal Loss:\t0.6863\tAccuracy:\t0.5864\tF1:\t0.5776\n",
      "7 / 10: Train Loss:\t0.1656\tVal Loss:\t0.6724\tAccuracy:\t0.6893\tF1:\t0.6566\n",
      "8 / 10: Train Loss:\t0.1641\tVal Loss:\t0.6716\tAccuracy:\t0.6849\tF1:\t0.6628\n",
      "9 / 10: Train Loss:\t0.1595\tVal Loss:\t0.6417\tAccuracy:\t0.7374\tF1:\t0.6832\n",
      "10 / 10: Train Loss:\t0.1528\tVal Loss:\t0.6139\tAccuracy:\t0.7549\tF1:\t0.6901\n",
      "best (higgest macro f1-score) val results:\n",
      "              precision    recall  f1-score   support\n",
      "\n",
      "       bknow       0.53      0.57      0.55       119\n",
      "      struct       0.84      0.82      0.83       338\n",
      "\n",
      "    accuracy                           0.75       457\n",
      "   macro avg       0.69      0.70      0.69       457\n",
      "weighted avg       0.76      0.75      0.76       457\n",
      "\n",
      "test results:\n",
      "              precision    recall  f1-score   support\n",
      "\n",
      "       bknow       0.51      0.60      0.55        67\n",
      "      struct       0.85      0.80      0.82       189\n",
      "\n",
      "    accuracy                           0.75       256\n",
      "   macro avg       0.68      0.70      0.69       256\n",
      "weighted avg       0.76      0.75      0.75       256\n",
      "\n",
      "### ### ### ### ### ### ### ### ### ### \n",
      "{'acc': [0.74609375], 'f1': [0.6873062106548906], 'r': [4]}\n",
      "### ### ### ### ### ### ### ### ### ### \n"
     ]
    }
   ],
   "source": [
    "lr = 1.0e-5\n",
    "g = 2\n",
    "lora_alpha = 8\n",
    "r = 4\n",
    "lora_dropout = 0.0\n",
    "wd = 0.0\n",
    "\n",
    "\n",
    "print(f'Grid search {model_checkpoint}, lr: {lr}. Focal loss gamma: {g}. Weight decay {wd}. Lora rank: {r}')\n",
    "data = ClimateDataset(model_to_train=1,model_checkpoint=model_checkpoint,batch_size=16)\n",
    "data.setup_dataloaders()\n",
    "model = ClassificationModel(model_checkpoint=data.model_checkpoint,\n",
    "                            num_labels=data.num_labels,\n",
    "                            lora=True,\n",
    "                            r=r,\n",
    "                            alpha=lora_alpha,\n",
    "                            dropout=lora_dropout)\n",
    "trainer = Engine(epochs=10,labels=data.labels)\n",
    "trainer.model = model.model\n",
    "trainer.dataset_encoded = data.dataset_encoded\n",
    "acc, f1 = trainer.run(lr=lr,\n",
    "                        wd=0.0,\n",
    "                        train_dataloader=data.train_dataloader,\n",
    "                        eval_dataloader=data.eval_dataloader,\n",
    "                        test_dataloader=data.test_dataloader,\n",
    "                        focalloss=True,\n",
    "                        early_stop=3,\n",
    "                        accumulation_steps=2,\n",
    "                        gamma=g)\n",
    "results['acc'].append(acc)\n",
    "results['f1'].append(f1)\n",
    "results['r'].append(r)\n",
    "print('### '*10)\n",
    "print(results)\n",
    "print('### '*10)"
   ]
  },
  {
   "cell_type": "code",
   "execution_count": 4,
   "metadata": {},
   "outputs": [
    {
     "name": "stdout",
     "output_type": "stream",
     "text": [
      "Grid search roberta-large, lr: 1e-05. Focal loss gamma: 2. Weight decay 0.0. Lora rank: 8\n"
     ]
    },
    {
     "name": "stderr",
     "output_type": "stream",
     "text": [
      "Some weights of RobertaForSequenceClassification were not initialized from the model checkpoint at roberta-large and are newly initialized: ['classifier.out_proj.bias', 'classifier.dense.weight', 'classifier.out_proj.weight', 'classifier.dense.bias']\n",
      "You should probably TRAIN this model on a down-stream task to be able to use it for predictions and inference.\n",
      "You're using a RobertaTokenizerFast tokenizer. Please note that with a fast tokenizer, using the `__call__` method is faster than using a method to encode the text followed by a call to the `pad` method to get a padded encoding.\n"
     ]
    },
    {
     "name": "stdout",
     "output_type": "stream",
     "text": [
      "1 / 30: Train Loss:\t0.1824\tVal Loss:\t0.7064\tAccuracy:\t0.2691\tF1:\t0.2251\n",
      "2 / 30: Train Loss:\t0.1767\tVal Loss:\t0.7003\tAccuracy:\t0.3523\tF1:\t0.3389\n",
      "3 / 30: Train Loss:\t0.1743\tVal Loss:\t0.6960\tAccuracy:\t0.4530\tF1:\t0.4520\n",
      "4 / 30: Train Loss:\t0.1726\tVal Loss:\t0.6946\tAccuracy:\t0.4945\tF1:\t0.4936\n",
      "5 / 30: Train Loss:\t0.1717\tVal Loss:\t0.6922\tAccuracy:\t0.5208\tF1:\t0.5187\n",
      "6 / 30: Train Loss:\t0.1692\tVal Loss:\t0.6845\tAccuracy:\t0.6083\tF1:\t0.5959\n",
      "7 / 30: Train Loss:\t0.1648\tVal Loss:\t0.6693\tAccuracy:\t0.7002\tF1:\t0.6651\n",
      "8 / 30: Train Loss:\t0.1630\tVal Loss:\t0.6666\tAccuracy:\t0.6958\tF1:\t0.6708\n",
      "9 / 30: Train Loss:\t0.1579\tVal Loss:\t0.6350\tAccuracy:\t0.7462\tF1:\t0.6882\n",
      "10 / 30: Train Loss:\t0.1508\tVal Loss:\t0.6071\tAccuracy:\t0.7593\tF1:\t0.6956\n",
      "11 / 30: Train Loss:\t0.1453\tVal Loss:\t0.5952\tAccuracy:\t0.7746\tF1:\t0.7157\n",
      "12 / 30: Train Loss:\t0.1468\tVal Loss:\t0.5841\tAccuracy:\t0.7790\tF1:\t0.7169\n",
      "13 / 30: Train Loss:\t0.1462\tVal Loss:\t0.5859\tAccuracy:\t0.7724\tF1:\t0.7255\n",
      "14 / 30: Train Loss:\t0.1403\tVal Loss:\t0.5845\tAccuracy:\t0.7702\tF1:\t0.7353\n",
      "15 / 30: Train Loss:\t0.1409\tVal Loss:\t0.5725\tAccuracy:\t0.7812\tF1:\t0.7372\n",
      "16 / 30: Train Loss:\t0.1393\tVal Loss:\t0.5678\tAccuracy:\t0.7921\tF1:\t0.7487\n",
      "17 / 30: Train Loss:\t0.1351\tVal Loss:\t0.5446\tAccuracy:\t0.8118\tF1:\t0.7596\n",
      "18 / 30: Train Loss:\t0.1319\tVal Loss:\t0.5470\tAccuracy:\t0.8031\tF1:\t0.7603\n",
      "19 / 30: Train Loss:\t0.1277\tVal Loss:\t0.5362\tAccuracy:\t0.8184\tF1:\t0.7785\n",
      "20 / 30: Train Loss:\t0.1273\tVal Loss:\t0.5270\tAccuracy:\t0.8293\tF1:\t0.7874\n",
      "21 / 30: Train Loss:\t0.1214\tVal Loss:\t0.5255\tAccuracy:\t0.8206\tF1:\t0.7796\n",
      "22 / 30: Train Loss:\t0.1233\tVal Loss:\t0.5080\tAccuracy:\t0.8359\tF1:\t0.7909\n",
      "23 / 30: Train Loss:\t0.1223\tVal Loss:\t0.5001\tAccuracy:\t0.8271\tF1:\t0.7797\n",
      "24 / 30: Train Loss:\t0.1232\tVal Loss:\t0.5066\tAccuracy:\t0.8403\tF1:\t0.8077\n",
      "25 / 30: Train Loss:\t0.1182\tVal Loss:\t0.4938\tAccuracy:\t0.8403\tF1:\t0.7975\n",
      "26 / 30: Train Loss:\t0.1134\tVal Loss:\t0.4822\tAccuracy:\t0.8381\tF1:\t0.7920\n",
      "27 / 30: Train Loss:\t0.1167\tVal Loss:\t0.4921\tAccuracy:\t0.8315\tF1:\t0.7896\n",
      "No improvement for 3 epochs. Stopping early.\n",
      "best (higgest macro f1-score) val results:\n",
      "              precision    recall  f1-score   support\n",
      "\n",
      "       bknow       0.66      0.74      0.70       119\n",
      "      struct       0.90      0.86      0.88       338\n",
      "\n",
      "    accuracy                           0.83       457\n",
      "   macro avg       0.78      0.80      0.79       457\n",
      "weighted avg       0.84      0.83      0.83       457\n",
      "\n",
      "test results:\n",
      "              precision    recall  f1-score   support\n",
      "\n",
      "       bknow       0.53      0.75      0.62        67\n",
      "      struct       0.90      0.77      0.83       189\n",
      "\n",
      "    accuracy                           0.76       256\n",
      "   macro avg       0.71      0.76      0.72       256\n",
      "weighted avg       0.80      0.76      0.77       256\n",
      "\n",
      "### ### ### ### ### ### ### ### ### ### \n",
      "{'acc': [0.76171875], 'f1': [0.7236644193165933], 'r': [8]}\n",
      "### ### ### ### ### ### ### ### ### ### \n"
     ]
    }
   ],
   "source": [
    "lr = 1.0e-5\n",
    "g = 2\n",
    "lora_alpha = 8\n",
    "r = 8\n",
    "lora_dropout = 0.0\n",
    "wd = 0.0\n",
    "\n",
    "\n",
    "print(f'Grid search {model_checkpoint}, lr: {lr}. Focal loss gamma: {g}. Weight decay {wd}. Lora rank: {r}')\n",
    "data = ClimateDataset(model_to_train=1,model_checkpoint=model_checkpoint,batch_size=16)\n",
    "data.setup_dataloaders()\n",
    "model = ClassificationModel(model_checkpoint=data.model_checkpoint,\n",
    "                            num_labels=data.num_labels,\n",
    "                            lora=True,\n",
    "                            r=r,\n",
    "                            alpha=lora_alpha,\n",
    "                            dropout=lora_dropout)\n",
    "trainer = Engine(epochs=30,labels=data.labels)\n",
    "trainer.model = model.model\n",
    "trainer.dataset_encoded = data.dataset_encoded\n",
    "acc, f1 = trainer.run(lr=lr,\n",
    "                        wd=0.0,\n",
    "                        train_dataloader=data.train_dataloader,\n",
    "                        eval_dataloader=data.eval_dataloader,\n",
    "                        test_dataloader=data.test_dataloader,\n",
    "                        focalloss=True,\n",
    "                        early_stop=3,\n",
    "                        accumulation_steps=2,\n",
    "                        gamma=g)\n",
    "results['acc'].append(acc)\n",
    "results['f1'].append(f1)\n",
    "results['r'].append(r)\n",
    "print('### '*10)\n",
    "print(results)\n",
    "print('### '*10)"
   ]
  },
  {
   "cell_type": "code",
   "execution_count": 4,
   "metadata": {},
   "outputs": [
    {
     "name": "stdout",
     "output_type": "stream",
     "text": [
      "Grid search roberta-large, lr: 1e-05. Focal loss gamma: 2. Weight decay 0.0. Lora rank: 16\n"
     ]
    },
    {
     "name": "stderr",
     "output_type": "stream",
     "text": [
      "Some weights of RobertaForSequenceClassification were not initialized from the model checkpoint at roberta-large and are newly initialized: ['classifier.dense.bias', 'classifier.out_proj.bias', 'classifier.out_proj.weight', 'classifier.dense.weight']\n",
      "You should probably TRAIN this model on a down-stream task to be able to use it for predictions and inference.\n",
      "You're using a RobertaTokenizerFast tokenizer. Please note that with a fast tokenizer, using the `__call__` method is faster than using a method to encode the text followed by a call to the `pad` method to get a padded encoding.\n"
     ]
    },
    {
     "name": "stdout",
     "output_type": "stream",
     "text": [
      "1 / 30: Train Loss:\t0.1824\tVal Loss:\t0.7065\tAccuracy:\t0.2691\tF1:\t0.2251\n",
      "2 / 30: Train Loss:\t0.1767\tVal Loss:\t0.7004\tAccuracy:\t0.3479\tF1:\t0.3336\n",
      "3 / 30: Train Loss:\t0.1744\tVal Loss:\t0.6963\tAccuracy:\t0.4508\tF1:\t0.4497\n",
      "4 / 30: Train Loss:\t0.1727\tVal Loss:\t0.6946\tAccuracy:\t0.4967\tF1:\t0.4958\n",
      "5 / 30: Train Loss:\t0.1718\tVal Loss:\t0.6926\tAccuracy:\t0.5164\tF1:\t0.5151\n",
      "6 / 30: Train Loss:\t0.1694\tVal Loss:\t0.6855\tAccuracy:\t0.5908\tF1:\t0.5804\n",
      "7 / 30: Train Loss:\t0.1652\tVal Loss:\t0.6708\tAccuracy:\t0.6937\tF1:\t0.6604\n",
      "8 / 30: Train Loss:\t0.1636\tVal Loss:\t0.6690\tAccuracy:\t0.6937\tF1:\t0.6689\n",
      "9 / 30: Train Loss:\t0.1587\tVal Loss:\t0.6383\tAccuracy:\t0.7462\tF1:\t0.6911\n",
      "10 / 30: Train Loss:\t0.1520\tVal Loss:\t0.6100\tAccuracy:\t0.7571\tF1:\t0.6905\n",
      "11 / 30: Train Loss:\t0.1456\tVal Loss:\t0.5964\tAccuracy:\t0.7724\tF1:\t0.7122\n",
      "12 / 30: Train Loss:\t0.1473\tVal Loss:\t0.5831\tAccuracy:\t0.7746\tF1:\t0.7082\n",
      "13 / 30: Train Loss:\t0.1464\tVal Loss:\t0.5857\tAccuracy:\t0.7746\tF1:\t0.7275\n",
      "14 / 30: Train Loss:\t0.1407\tVal Loss:\t0.5855\tAccuracy:\t0.7659\tF1:\t0.7303\n",
      "15 / 30: Train Loss:\t0.1410\tVal Loss:\t0.5719\tAccuracy:\t0.7768\tF1:\t0.7319\n",
      "16 / 30: Train Loss:\t0.1398\tVal Loss:\t0.5669\tAccuracy:\t0.7899\tF1:\t0.7443\n",
      "17 / 30: Train Loss:\t0.1353\tVal Loss:\t0.5448\tAccuracy:\t0.8096\tF1:\t0.7574\n",
      "18 / 30: Train Loss:\t0.1320\tVal Loss:\t0.5465\tAccuracy:\t0.8053\tF1:\t0.7646\n",
      "19 / 30: Train Loss:\t0.1279\tVal Loss:\t0.5361\tAccuracy:\t0.8140\tF1:\t0.7721\n",
      "20 / 30: Train Loss:\t0.1274\tVal Loss:\t0.5281\tAccuracy:\t0.8271\tF1:\t0.7862\n",
      "21 / 30: Train Loss:\t0.1215\tVal Loss:\t0.5257\tAccuracy:\t0.8228\tF1:\t0.7828\n",
      "22 / 30: Train Loss:\t0.1233\tVal Loss:\t0.5079\tAccuracy:\t0.8293\tF1:\t0.7831\n",
      "23 / 30: Train Loss:\t0.1221\tVal Loss:\t0.5004\tAccuracy:\t0.8293\tF1:\t0.7831\n",
      "No improvement for 3 epochs. Stopping early.\n",
      "best (higgest macro f1-score) val results:\n",
      "              precision    recall  f1-score   support\n",
      "\n",
      "       bknow       0.66      0.71      0.68       119\n",
      "      struct       0.89      0.87      0.88       338\n",
      "\n",
      "    accuracy                           0.83       457\n",
      "   macro avg       0.78      0.79      0.78       457\n",
      "weighted avg       0.83      0.83      0.83       457\n",
      "\n",
      "test results:\n",
      "              precision    recall  f1-score   support\n",
      "\n",
      "       bknow       0.54      0.67      0.60        67\n",
      "      struct       0.87      0.79      0.83       189\n",
      "\n",
      "    accuracy                           0.76       256\n",
      "   macro avg       0.70      0.73      0.71       256\n",
      "weighted avg       0.78      0.76      0.77       256\n",
      "\n",
      "### ### ### ### ### ### ### ### ### ### \n",
      "{'acc': [0.76171875], 'f1': [0.7135257104070738], 'r': [16]}\n",
      "### ### ### ### ### ### ### ### ### ### \n"
     ]
    }
   ],
   "source": [
    "lr = 1.0e-5\n",
    "g = 2\n",
    "lora_alpha = 8\n",
    "r = 16\n",
    "lora_dropout = 0.0\n",
    "wd = 0.0\n",
    "\n",
    "\n",
    "print(f'Grid search {model_checkpoint}, lr: {lr}. Focal loss gamma: {g}. Weight decay {wd}. Lora rank: {r}')\n",
    "data = ClimateDataset(model_to_train=1,model_checkpoint=model_checkpoint,batch_size=16)\n",
    "data.setup_dataloaders()\n",
    "model = ClassificationModel(model_checkpoint=data.model_checkpoint,\n",
    "                            num_labels=data.num_labels,\n",
    "                            lora=True,\n",
    "                            r=r,\n",
    "                            alpha=lora_alpha,\n",
    "                            dropout=lora_dropout)\n",
    "trainer = Engine(epochs=30,labels=data.labels)\n",
    "trainer.model = model.model\n",
    "trainer.dataset_encoded = data.dataset_encoded\n",
    "acc, f1 = trainer.run(lr=lr,\n",
    "                        wd=0.0,\n",
    "                        train_dataloader=data.train_dataloader,\n",
    "                        eval_dataloader=data.eval_dataloader,\n",
    "                        test_dataloader=data.test_dataloader,\n",
    "                        focalloss=True,\n",
    "                        early_stop=3,\n",
    "                        accumulation_steps=2,\n",
    "                        gamma=g)\n",
    "results['acc'].append(acc)\n",
    "results['f1'].append(f1)\n",
    "results['r'].append(r)\n",
    "print('### '*10)\n",
    "print(results)\n",
    "print('### '*10)"
   ]
  },
  {
   "cell_type": "code",
   "execution_count": 4,
   "metadata": {},
   "outputs": [
    {
     "name": "stdout",
     "output_type": "stream",
     "text": [
      "Grid search roberta-large, lr: 1e-05. Focal loss gamma: 2. Weight decay 0.0. Lora rank: 32\n"
     ]
    },
    {
     "name": "stderr",
     "output_type": "stream",
     "text": [
      "Some weights of RobertaForSequenceClassification were not initialized from the model checkpoint at roberta-large and are newly initialized: ['classifier.dense.weight', 'classifier.dense.bias', 'classifier.out_proj.bias', 'classifier.out_proj.weight']\n",
      "You should probably TRAIN this model on a down-stream task to be able to use it for predictions and inference.\n",
      "You're using a RobertaTokenizerFast tokenizer. Please note that with a fast tokenizer, using the `__call__` method is faster than using a method to encode the text followed by a call to the `pad` method to get a padded encoding.\n"
     ]
    },
    {
     "name": "stdout",
     "output_type": "stream",
     "text": [
      "1 / 10: Train Loss:\t0.1824\tVal Loss:\t0.7064\tAccuracy:\t0.2691\tF1:\t0.2251\n",
      "2 / 10: Train Loss:\t0.1767\tVal Loss:\t0.7003\tAccuracy:\t0.3501\tF1:\t0.3363\n",
      "3 / 10: Train Loss:\t0.1744\tVal Loss:\t0.6962\tAccuracy:\t0.4508\tF1:\t0.4499\n",
      "4 / 10: Train Loss:\t0.1726\tVal Loss:\t0.6947\tAccuracy:\t0.4967\tF1:\t0.4957\n",
      "5 / 10: Train Loss:\t0.1717\tVal Loss:\t0.6924\tAccuracy:\t0.5186\tF1:\t0.5169\n",
      "6 / 10: Train Loss:\t0.1693\tVal Loss:\t0.6851\tAccuracy:\t0.5952\tF1:\t0.5843\n",
      "7 / 10: Train Loss:\t0.1651\tVal Loss:\t0.6703\tAccuracy:\t0.6915\tF1:\t0.6575\n",
      "8 / 10: Train Loss:\t0.1633\tVal Loss:\t0.6684\tAccuracy:\t0.6937\tF1:\t0.6689\n",
      "9 / 10: Train Loss:\t0.1584\tVal Loss:\t0.6370\tAccuracy:\t0.7484\tF1:\t0.6930\n",
      "10 / 10: Train Loss:\t0.1517\tVal Loss:\t0.6091\tAccuracy:\t0.7593\tF1:\t0.6925\n",
      "best (higgest macro f1-score) val results:\n",
      "              precision    recall  f1-score   support\n",
      "\n",
      "       bknow       0.54      0.56      0.55       119\n",
      "      struct       0.84      0.83      0.84       338\n",
      "\n",
      "    accuracy                           0.76       457\n",
      "   macro avg       0.69      0.70      0.69       457\n",
      "weighted avg       0.76      0.76      0.76       457\n",
      "\n",
      "test results:\n",
      "              precision    recall  f1-score   support\n",
      "\n",
      "       bknow       0.52      0.60      0.56        67\n",
      "      struct       0.85      0.80      0.83       189\n",
      "\n",
      "    accuracy                           0.75       256\n",
      "   macro avg       0.68      0.70      0.69       256\n",
      "weighted avg       0.76      0.75      0.76       256\n",
      "\n",
      "### ### ### ### ### ### ### ### ### ### \n",
      "{'acc': [0.75], 'f1': [0.6908212560386473], 'r': [32]}\n",
      "### ### ### ### ### ### ### ### ### ### \n"
     ]
    }
   ],
   "source": [
    "lr = 1.0e-5\n",
    "g = 2\n",
    "lora_alpha = 8\n",
    "r = 32\n",
    "lora_dropout = 0.0\n",
    "wd = 0.0\n",
    "\n",
    "\n",
    "print(f'Grid search {model_checkpoint}, lr: {lr}. Focal loss gamma: {g}. Weight decay {wd}. Lora rank: {r}')\n",
    "data = ClimateDataset(model_to_train=1,model_checkpoint=model_checkpoint,batch_size=16)\n",
    "data.setup_dataloaders()\n",
    "model = ClassificationModel(model_checkpoint=data.model_checkpoint,\n",
    "                            num_labels=data.num_labels,\n",
    "                            lora=True,\n",
    "                            r=r,\n",
    "                            alpha=lora_alpha,\n",
    "                            dropout=lora_dropout)\n",
    "trainer = Engine(epochs=10,labels=data.labels)\n",
    "trainer.model = model.model\n",
    "trainer.dataset_encoded = data.dataset_encoded\n",
    "acc, f1 = trainer.run(lr=lr,\n",
    "                        wd=0.0,\n",
    "                        train_dataloader=data.train_dataloader,\n",
    "                        eval_dataloader=data.eval_dataloader,\n",
    "                        test_dataloader=data.test_dataloader,\n",
    "                        focalloss=True,\n",
    "                        early_stop=3,\n",
    "                        accumulation_steps=2,\n",
    "                        gamma=g)\n",
    "results['acc'].append(acc)\n",
    "results['f1'].append(f1)\n",
    "results['r'].append(r)\n",
    "print('### '*10)\n",
    "print(results)\n",
    "print('### '*10)"
   ]
  },
  {
   "cell_type": "code",
   "execution_count": 5,
   "metadata": {},
   "outputs": [],
   "source": [
    "results = {'acc': [0.74609375,0.76171875,0.76171875,0.75], 'f1': [0.6873062106548906,0.7236644193165933,0.7135257104070738,0.6908212560386473], 'r': [4,8,16,32]}"
   ]
  },
  {
   "cell_type": "code",
   "execution_count": 6,
   "metadata": {},
   "outputs": [],
   "source": [
    "import matplotlib.pyplot as plt\n",
    "import seaborn as sns\n",
    "import pandas as pd"
   ]
  },
  {
   "cell_type": "code",
   "execution_count": 7,
   "metadata": {},
   "outputs": [
    {
     "data": {
      "image/png": "[encoded data removed]",
      "text/plain": [
       "<Figure size 640x480 with 1 Axes>"
      ]
     },
     "metadata": {},
     "output_type": "display_data"
    }
   ],
   "source": [
    "def plot_grid_search(df, title):\n",
    "\n",
    "    # Create the plot\n",
    "    ax = df.plot(x='r', y=['acc', 'f1'], marker='o', linestyle='-')\n",
    "\n",
    "    # Set y-axis range between 0 and 1\n",
    "    plt.ylim(0, 1)\n",
    "\n",
    "    # Annotate points with F1 scores\n",
    "    for i, row in df.iterrows(): \n",
    "        ax.annotate(f'{row[\"f1\"]:.2f}', (row[\"r\"], row[\"f1\"]), textcoords='offset points', xytext=(0, -10), ha='center')\n",
    "\n",
    "    # Annotate points with Acc scores\n",
    "    for i, row in df.iterrows():\n",
    "        ax.annotate(f'{row[\"acc\"]:.2f}', (row[\"r\"], row[\"acc\"]), textcoords='offset points', xytext=(0, 10), ha='center')\n",
    "    \n",
    "    # \n",
    "    plt.xticks(df['r'], [val for val in df['r']], ha='center')\n",
    "    plt.minorticks_off()\n",
    "\n",
    "    plt.title(title)\n",
    "    plt.xlabel('rank of the update matrices')\n",
    "    plt.ylabel('Score')\n",
    "    plt.show()\n",
    "\n",
    "plot_grid_search(pd.DataFrame(results), f'Lora ranks. {model_checkpoint}.')"
   ]
  }
 ],
 "metadata": {
  "kernelspec": {
   "display_name": "Python 3",
   "language": "python",
   "name": "python3"
  },
  "language_info": {
   "codemirror_mode": {
    "name": "ipython",
    "version": 3
   },
   "file_extension": ".py",
   "mimetype": "text/x-python",
   "name": "python",
   "nbconvert_exporter": "python",
   "pygments_lexer": "ipython3",
   "version": "3.11.5"
  },
  "orig_nbformat": 4
 },
 "nbformat": 4,
 "nbformat_minor": 2
}
