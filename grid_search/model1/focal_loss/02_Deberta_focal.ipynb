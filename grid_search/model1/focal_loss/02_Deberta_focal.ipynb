{
 "cells": [
  {
   "cell_type": "code",
   "execution_count": 1,
   "metadata": {},
   "outputs": [],
   "source": [
    "import os\n",
    "import sys\n",
    "import gc\n",
    "# assuming data, models, engine in flicc directory:\n",
    "flicc_path = os.path.realpath(\"__file__\").split('grid_search')[0]\n",
    "sys.path.append(flicc_path)\n",
    "import torch\n",
    "from data import ClimateDataset\n",
    "from models import ClassificationModel\n",
    "from engine import Engine"
   ]
  },
  {
   "cell_type": "code",
   "execution_count": 2,
   "metadata": {},
   "outputs": [],
   "source": [
    "model_checkpoint='microsoft/deberta-base'"
   ]
  },
  {
   "cell_type": "code",
   "execution_count": 3,
   "metadata": {},
   "outputs": [],
   "source": [
    "results = {'test_acc':[],\n",
    "           'test_f1':[],\n",
    "           'eval_acc':[],\n",
    "           'eval_f1':[],\n",
    "           'g':[]}"
   ]
  },
  {
   "cell_type": "code",
   "execution_count": 4,
   "metadata": {},
   "outputs": [
    {
     "name": "stdout",
     "output_type": "stream",
     "text": [
      "Grid search microsoft/deberta-base, learning rate 1e-05, focal loss gamma 2\n"
     ]
    },
    {
     "data": {
      "application/vnd.jupyter.widget-view+json": {
       "model_id": "1fded1545c00413c99752e1dcc87db45",
       "version_major": 2,
       "version_minor": 0
      },
      "text/plain": [
       "Map:   0%|          | 0/1796 [00:00<?, ? examples/s]"
      ]
     },
     "metadata": {},
     "output_type": "display_data"
    },
    {
     "data": {
      "application/vnd.jupyter.widget-view+json": {
       "model_id": "76ffc21cd94e46f3bc7754158d842cac",
       "version_major": 2,
       "version_minor": 0
      },
      "text/plain": [
       "Map:   0%|          | 0/256 [00:00<?, ? examples/s]"
      ]
     },
     "metadata": {},
     "output_type": "display_data"
    },
    {
     "data": {
      "application/vnd.jupyter.widget-view+json": {
       "model_id": "5bfad8e2a67149418895e792bf0031aa",
       "version_major": 2,
       "version_minor": 0
      },
      "text/plain": [
       "Map:   0%|          | 0/457 [00:00<?, ? examples/s]"
      ]
     },
     "metadata": {},
     "output_type": "display_data"
    },
    {
     "name": "stderr",
     "output_type": "stream",
     "text": [
      "Some weights of DebertaForSequenceClassification were not initialized from the model checkpoint at microsoft/deberta-base and are newly initialized: ['pooler.dense.weight', 'classifier.weight', 'classifier.bias', 'pooler.dense.bias']\n",
      "You should probably TRAIN this model on a down-stream task to be able to use it for predictions and inference.\n",
      "You're using a DebertaTokenizerFast tokenizer. Please note that with a fast tokenizer, using the `__call__` method is faster than using a method to encode the text followed by a call to the `pad` method to get a padded encoding.\n"
     ]
    },
    {
     "name": "stdout",
     "output_type": "stream",
     "text": [
      "1 / 30: Train Loss:\t0.1726\tVal Loss:\t0.6810\tAccuracy:\t0.6543\tF1:\t0.6350\n",
      "2 / 30: Train Loss:\t0.1576\tVal Loss:\t0.5671\tAccuracy:\t0.7681\tF1:\t0.7052\n",
      "3 / 30: Train Loss:\t0.1249\tVal Loss:\t0.5174\tAccuracy:\t0.8140\tF1:\t0.7630\n",
      "4 / 30: Train Loss:\t0.0832\tVal Loss:\t0.4431\tAccuracy:\t0.8381\tF1:\t0.7920\n",
      "5 / 30: Train Loss:\t0.0535\tVal Loss:\t0.4184\tAccuracy:\t0.8228\tF1:\t0.7808\n",
      "6 / 30: Train Loss:\t0.0424\tVal Loss:\t0.5880\tAccuracy:\t0.7024\tF1:\t0.6865\n",
      "7 / 30: Train Loss:\t0.0341\tVal Loss:\t0.4634\tAccuracy:\t0.7834\tF1:\t0.7531\n",
      "No improvement for 3 epochs. Stopping early.\n",
      "best (higgest macro f1-score) val results:\n",
      "              precision    recall  f1-score   support\n",
      "\n",
      "       bknow       0.68      0.71      0.69       119\n",
      "      struct       0.90      0.88      0.89       338\n",
      "\n",
      "    accuracy                           0.84       457\n",
      "   macro avg       0.79      0.80      0.79       457\n",
      "weighted avg       0.84      0.84      0.84       457\n",
      "\n",
      "test results:\n",
      "              precision    recall  f1-score   support\n",
      "\n",
      "       bknow       0.58      0.61      0.59        67\n",
      "      struct       0.86      0.84      0.85       189\n",
      "\n",
      "    accuracy                           0.78       256\n",
      "   macro avg       0.72      0.73      0.72       256\n",
      "weighted avg       0.79      0.78      0.78       256\n",
      "\n",
      "### ### ### ### ### ### ### ### ### ### \n",
      "{'test_acc': [0.78125], 'test_f1': [0.7222351391149345], 'eval_acc': [0.838074398249453], 'eval_f1': [0.7920479142070052], 'g': [2]}\n",
      "### ### ### ### ### ### ### ### ### ### \n",
      "Grid search microsoft/deberta-base, learning rate 1e-05, focal loss gamma 4\n"
     ]
    },
    {
     "data": {
      "application/vnd.jupyter.widget-view+json": {
       "model_id": "ebda9d24b20b42ba924c7dd9e6fcb91a",
       "version_major": 2,
       "version_minor": 0
      },
      "text/plain": [
       "Map:   0%|          | 0/256 [00:00<?, ? examples/s]"
      ]
     },
     "metadata": {},
     "output_type": "display_data"
    },
    {
     "name": "stderr",
     "output_type": "stream",
     "text": [
      "Some weights of DebertaForSequenceClassification were not initialized from the model checkpoint at microsoft/deberta-base and are newly initialized: ['pooler.dense.weight', 'classifier.weight', 'classifier.bias', 'pooler.dense.bias']\n",
      "You should probably TRAIN this model on a down-stream task to be able to use it for predictions and inference.\n",
      "You're using a DebertaTokenizerFast tokenizer. Please note that with a fast tokenizer, using the `__call__` method is faster than using a method to encode the text followed by a call to the `pad` method to get a padded encoding.\n"
     ]
    },
    {
     "name": "stdout",
     "output_type": "stream",
     "text": [
      "1 / 30: Train Loss:\t0.0450\tVal Loss:\t0.7135\tAccuracy:\t0.2626\tF1:\t0.2099\n",
      "2 / 30: Train Loss:\t0.0424\tVal Loss:\t0.6646\tAccuracy:\t0.7505\tF1:\t0.4682\n",
      "3 / 30: Train Loss:\t0.0402\tVal Loss:\t0.6992\tAccuracy:\t0.3698\tF1:\t0.3551\n",
      "4 / 30: Train Loss:\t0.0383\tVal Loss:\t0.6555\tAccuracy:\t0.5492\tF1:\t0.5483\n",
      "5 / 30: Train Loss:\t0.0338\tVal Loss:\t0.6666\tAccuracy:\t0.5558\tF1:\t0.5541\n",
      "6 / 30: Train Loss:\t0.0300\tVal Loss:\t0.6133\tAccuracy:\t0.5558\tF1:\t0.5541\n",
      "7 / 30: Train Loss:\t0.0245\tVal Loss:\t0.5468\tAccuracy:\t0.7221\tF1:\t0.7015\n",
      "8 / 30: Train Loss:\t0.0177\tVal Loss:\t0.4244\tAccuracy:\t0.8249\tF1:\t0.7752\n",
      "9 / 30: Train Loss:\t0.0167\tVal Loss:\t0.4960\tAccuracy:\t0.7352\tF1:\t0.7103\n",
      "10 / 30: Train Loss:\t0.0125\tVal Loss:\t0.4579\tAccuracy:\t0.8031\tF1:\t0.7727\n",
      "11 / 30: Train Loss:\t0.0112\tVal Loss:\t0.5318\tAccuracy:\t0.6937\tF1:\t0.6786\n",
      "No improvement for 3 epochs. Stopping early.\n",
      "best (higgest macro f1-score) val results:\n",
      "              precision    recall  f1-score   support\n",
      "\n",
      "       bknow       0.66      0.68      0.67       119\n",
      "      struct       0.89      0.88      0.88       338\n",
      "\n",
      "    accuracy                           0.82       457\n",
      "   macro avg       0.77      0.78      0.78       457\n",
      "weighted avg       0.83      0.82      0.83       457\n",
      "\n",
      "test results:\n",
      "              precision    recall  f1-score   support\n",
      "\n",
      "       bknow       0.61      0.69      0.64        67\n",
      "      struct       0.88      0.84      0.86       189\n",
      "\n",
      "    accuracy                           0.80       256\n",
      "   macro avg       0.74      0.76      0.75       256\n",
      "weighted avg       0.81      0.80      0.80       256\n",
      "\n",
      "### ### ### ### ### ### ### ### ### ### \n",
      "{'test_acc': [0.78125, 0.80078125], 'test_f1': [0.7222351391149345, 0.752572630621411], 'eval_acc': [0.838074398249453, 0.824945295404814], 'eval_f1': [0.7920479142070052, 0.7751869342778435], 'g': [2, 4]}\n",
      "### ### ### ### ### ### ### ### ### ### \n",
      "Grid search microsoft/deberta-base, learning rate 1e-05, focal loss gamma 8\n"
     ]
    },
    {
     "data": {
      "application/vnd.jupyter.widget-view+json": {
       "model_id": "a57c9930f95b40da9f6a1be5164d5a06",
       "version_major": 2,
       "version_minor": 0
      },
      "text/plain": [
       "Map:   0%|          | 0/457 [00:00<?, ? examples/s]"
      ]
     },
     "metadata": {},
     "output_type": "display_data"
    },
    {
     "name": "stderr",
     "output_type": "stream",
     "text": [
      "Some weights of DebertaForSequenceClassification were not initialized from the model checkpoint at microsoft/deberta-base and are newly initialized: ['pooler.dense.weight', 'classifier.weight', 'classifier.bias', 'pooler.dense.bias']\n",
      "You should probably TRAIN this model on a down-stream task to be able to use it for predictions and inference.\n",
      "You're using a DebertaTokenizerFast tokenizer. Please note that with a fast tokenizer, using the `__call__` method is faster than using a method to encode the text followed by a call to the `pad` method to get a padded encoding.\n"
     ]
    },
    {
     "name": "stdout",
     "output_type": "stream",
     "text": [
      "1 / 30: Train Loss:\t0.0028\tVal Loss:\t0.6977\tAccuracy:\t0.3107\tF1:\t0.2789\n",
      "2 / 30: Train Loss:\t0.0028\tVal Loss:\t0.6619\tAccuracy:\t0.7637\tF1:\t0.7124\n",
      "3 / 30: Train Loss:\t0.0025\tVal Loss:\t0.6790\tAccuracy:\t0.6958\tF1:\t0.6653\n",
      "4 / 30: Train Loss:\t0.0023\tVal Loss:\t0.6535\tAccuracy:\t0.7155\tF1:\t0.6856\n",
      "5 / 30: Train Loss:\t0.0021\tVal Loss:\t0.6348\tAccuracy:\t0.7440\tF1:\t0.7061\n",
      "No improvement for 3 epochs. Stopping early.\n",
      "best (higgest macro f1-score) val results:\n",
      "              precision    recall  f1-score   support\n",
      "\n",
      "       bknow       0.54      0.66      0.59       119\n",
      "      struct       0.87      0.80      0.83       338\n",
      "\n",
      "    accuracy                           0.76       457\n",
      "   macro avg       0.70      0.73      0.71       457\n",
      "weighted avg       0.78      0.76      0.77       457\n",
      "\n",
      "test results:\n",
      "              precision    recall  f1-score   support\n",
      "\n",
      "       bknow       0.51      0.63      0.56        67\n",
      "      struct       0.86      0.78      0.82       189\n",
      "\n",
      "    accuracy                           0.74       256\n",
      "   macro avg       0.68      0.70      0.69       256\n",
      "weighted avg       0.76      0.74      0.75       256\n",
      "\n",
      "### ### ### ### ### ### ### ### ### ### \n",
      "{'test_acc': [0.78125, 0.80078125, 0.7421875], 'test_f1': [0.7222351391149345, 0.752572630621411, 0.6888397790055248], 'eval_acc': [0.838074398249453, 0.824945295404814, 0.7636761487964989], 'eval_f1': [0.7920479142070052, 0.7751869342778435, 0.7123776223776224], 'g': [2, 4, 8]}\n",
      "### ### ### ### ### ### ### ### ### ### \n",
      "Grid search microsoft/deberta-base, learning rate 1e-05, focal loss gamma 16\n"
     ]
    },
    {
     "name": "stderr",
     "output_type": "stream",
     "text": [
      "Some weights of DebertaForSequenceClassification were not initialized from the model checkpoint at microsoft/deberta-base and are newly initialized: ['pooler.dense.weight', 'classifier.weight', 'classifier.bias', 'pooler.dense.bias']\n",
      "You should probably TRAIN this model on a down-stream task to be able to use it for predictions and inference.\n",
      "You're using a DebertaTokenizerFast tokenizer. Please note that with a fast tokenizer, using the `__call__` method is faster than using a method to encode the text followed by a call to the `pad` method to get a padded encoding.\n"
     ]
    },
    {
     "name": "stdout",
     "output_type": "stream",
     "text": [
      "1 / 30: Train Loss:\t0.0000\tVal Loss:\t0.6960\tAccuracy:\t0.2735\tF1:\t0.2262\n",
      "2 / 30: Train Loss:\t0.0000\tVal Loss:\t0.6776\tAccuracy:\t0.7330\tF1:\t0.6821\n",
      "3 / 30: Train Loss:\t0.0000\tVal Loss:\t0.6786\tAccuracy:\t0.7637\tF1:\t0.6949\n",
      "4 / 30: Train Loss:\t0.0000\tVal Loss:\t0.6562\tAccuracy:\t0.7462\tF1:\t0.7071\n",
      "5 / 30: Train Loss:\t0.0000\tVal Loss:\t0.6759\tAccuracy:\t0.7352\tF1:\t0.7069\n",
      "6 / 30: Train Loss:\t0.0000\tVal Loss:\t0.6505\tAccuracy:\t0.7834\tF1:\t0.7404\n",
      "7 / 30: Train Loss:\t0.0000\tVal Loss:\t0.6691\tAccuracy:\t0.8206\tF1:\t0.7140\n",
      "8 / 30: Train Loss:\t0.0000\tVal Loss:\t0.6687\tAccuracy:\t0.7440\tF1:\t0.7082\n",
      "9 / 30: Train Loss:\t0.0000\tVal Loss:\t0.6638\tAccuracy:\t0.7177\tF1:\t0.6968\n",
      "No improvement for 3 epochs. Stopping early.\n",
      "best (higgest macro f1-score) val results:\n",
      "              precision    recall  f1-score   support\n",
      "\n",
      "       bknow       0.57      0.72      0.63       119\n",
      "      struct       0.89      0.80      0.85       338\n",
      "\n",
      "    accuracy                           0.78       457\n",
      "   macro avg       0.73      0.76      0.74       457\n",
      "weighted avg       0.81      0.78      0.79       457\n",
      "\n",
      "test results:\n",
      "              precision    recall  f1-score   support\n",
      "\n",
      "       bknow       0.51      0.66      0.58        67\n",
      "      struct       0.86      0.78      0.82       189\n",
      "\n",
      "    accuracy                           0.75       256\n",
      "   macro avg       0.69      0.72      0.70       256\n",
      "weighted avg       0.77      0.75      0.76       256\n",
      "\n",
      "### ### ### ### ### ### ### ### ### ### \n",
      "{'test_acc': [0.78125, 0.80078125, 0.7421875, 0.74609375], 'test_f1': [0.7222351391149345, 0.752572630621411, 0.6888397790055248, 0.6970524514355417], 'eval_acc': [0.838074398249453, 0.824945295404814, 0.7636761487964989, 0.7833698030634574], 'eval_f1': [0.7920479142070052, 0.7751869342778435, 0.7123776223776224, 0.7403602807412211], 'g': [2, 4, 8, 16]}\n",
      "### ### ### ### ### ### ### ### ### ### \n"
     ]
    }
   ],
   "source": [
    "gamma = [2,4,8,16]\n",
    "lr = 1.0e-5\n",
    "\n",
    "for g in gamma:\n",
    "    print(f'Grid search {model_checkpoint}, learning rate {lr}, focal loss gamma {g}')\n",
    "    data = ClimateDataset(model_to_train=1,model_checkpoint=model_checkpoint,dataset_url=flicc_path,batch_size=16)\n",
    "    data.setup_dataloaders()\n",
    "    model = ClassificationModel(model_checkpoint=data.model_checkpoint,num_labels=data.num_labels)\n",
    "    trainer = Engine(epochs=30,labels=data.labels)\n",
    "    trainer.model = model.model\n",
    "    trainer.dataset_encoded = data.dataset_encoded\n",
    "    test_acc, test_f1, eval_acc, eval_f1 = trainer.run(lr=lr,\n",
    "                                                       wd=0.0,\n",
    "                                                       train_dataloader=data.train_dataloader,\n",
    "                                                       eval_dataloader=data.eval_dataloader,\n",
    "                                                       test_dataloader=data.test_dataloader,\n",
    "                                                       focalloss=True,\n",
    "                                                       gamma=g,\n",
    "                                                       accumulation_steps=2,\n",
    "                                                       early_stop=3)\n",
    "    results['test_acc'].append(test_acc)\n",
    "    results['test_f1'].append(test_f1)\n",
    "    results['eval_acc'].append(eval_acc)\n",
    "    results['eval_f1'].append(eval_f1)\n",
    "    results['g'].append(g)\n",
    "    print('### '*10)\n",
    "    print(results)\n",
    "    print('### '*10)\n",
    "    with torch.no_grad():\n",
    "        torch.cuda.empty_cache()\n",
    "    del data, model, trainer, test_acc, test_f1, eval_acc, eval_f1\n",
    "    gc.collect()"
   ]
  },
  {
   "cell_type": "code",
   "execution_count": 5,
   "metadata": {},
   "outputs": [
    {
     "data": {
      "image/png": "[encoded data removed]",
      "text/plain": [
       "<Figure size 640x480 with 1 Axes>"
      ]
     },
     "metadata": {},
     "output_type": "display_data"
    }
   ],
   "source": [
    "Engine.plot_grid_search(df=results,\n",
    "                        title=f'Focal loss, lr: {lr}, {model_checkpoint}',\n",
    "                        column='g',\n",
    "                        sci_format=False)"
   ]
  },
  {
   "cell_type": "code",
   "execution_count": 6,
   "metadata": {},
   "outputs": [],
   "source": [
    "%reset -f"
   ]
  }
 ],
 "metadata": {
  "kernelspec": {
   "display_name": "Python 3",
   "language": "python",
   "name": "python3"
  },
  "language_info": {
   "codemirror_mode": {
    "name": "ipython",
    "version": 3
   },
   "file_extension": ".py",
   "mimetype": "text/x-python",
   "name": "python",
   "nbconvert_exporter": "python",
   "pygments_lexer": "ipython3",
   "version": "3.11.5"
  },
  "orig_nbformat": 4
 },
 "nbformat": 4,
 "nbformat_minor": 2
}
