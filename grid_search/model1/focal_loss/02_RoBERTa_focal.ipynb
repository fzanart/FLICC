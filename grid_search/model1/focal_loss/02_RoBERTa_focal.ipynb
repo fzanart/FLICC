{
 "cells": [
  {
   "cell_type": "code",
   "execution_count": 1,
   "metadata": {},
   "outputs": [],
   "source": [
    "import os\n",
    "import sys\n",
    "import gc\n",
    "# assuming data, models, engine in flicc directory:\n",
    "flicc_path = os.path.realpath(\"__file__\").split('grid_search')[0]\n",
    "sys.path.append(flicc_path)\n",
    "import torch\n",
    "from data import ClimateDataset\n",
    "from models import ClassificationModel\n",
    "from engine import Engine"
   ]
  },
  {
   "cell_type": "code",
   "execution_count": 2,
   "metadata": {},
   "outputs": [],
   "source": [
    "model_checkpoint='roberta-large'"
   ]
  },
  {
   "cell_type": "code",
   "execution_count": 3,
   "metadata": {},
   "outputs": [],
   "source": [
    "results = {'test_acc':[],\n",
    "           'test_f1':[],\n",
    "           'eval_acc':[],\n",
    "           'eval_f1':[],\n",
    "           'g':[]}"
   ]
  },
  {
   "cell_type": "code",
   "execution_count": 4,
   "metadata": {},
   "outputs": [
    {
     "name": "stdout",
     "output_type": "stream",
     "text": [
      "Grid search roberta-large, learning rate 1e-05, focal loss gamma 2\n"
     ]
    },
    {
     "name": "stderr",
     "output_type": "stream",
     "text": [
      "Some weights of RobertaForSequenceClassification were not initialized from the model checkpoint at roberta-large and are newly initialized: ['classifier.out_proj.weight', 'classifier.dense.bias', 'classifier.dense.weight', 'classifier.out_proj.bias']\n",
      "You should probably TRAIN this model on a down-stream task to be able to use it for predictions and inference.\n",
      "You're using a RobertaTokenizerFast tokenizer. Please note that with a fast tokenizer, using the `__call__` method is faster than using a method to encode the text followed by a call to the `pad` method to get a padded encoding.\n"
     ]
    },
    {
     "name": "stdout",
     "output_type": "stream",
     "text": [
      "1 / 30: Train Loss:\t0.1746\tVal Loss:\t0.5704\tAccuracy:\t0.8228\tF1:\t0.7471\n",
      "2 / 30: Train Loss:\t0.1253\tVal Loss:\t0.5441\tAccuracy:\t0.7571\tF1:\t0.7335\n",
      "3 / 30: Train Loss:\t0.0888\tVal Loss:\t0.4125\tAccuracy:\t0.8621\tF1:\t0.8303\n",
      "4 / 30: Train Loss:\t0.0600\tVal Loss:\t0.3417\tAccuracy:\t0.8687\tF1:\t0.8296\n",
      "5 / 30: Train Loss:\t0.0336\tVal Loss:\t0.3171\tAccuracy:\t0.8709\tF1:\t0.8145\n",
      "6 / 30: Train Loss:\t0.0406\tVal Loss:\t0.6483\tAccuracy:\t0.6958\tF1:\t0.6836\n",
      "No improvement for 3 epochs. Stopping early.\n",
      "best (higgest macro f1-score) val results:\n",
      "              precision    recall  f1-score   support\n",
      "\n",
      "       bknow       0.70      0.82      0.76       119\n",
      "      struct       0.93      0.88      0.90       338\n",
      "\n",
      "    accuracy                           0.86       457\n",
      "   macro avg       0.82      0.85      0.83       457\n",
      "weighted avg       0.87      0.86      0.87       457\n",
      "\n",
      "test results:\n",
      "              precision    recall  f1-score   support\n",
      "\n",
      "       bknow       0.59      0.79      0.68        67\n",
      "      struct       0.92      0.80      0.86       189\n",
      "\n",
      "    accuracy                           0.80       256\n",
      "   macro avg       0.75      0.80      0.77       256\n",
      "weighted avg       0.83      0.80      0.81       256\n",
      "\n",
      "### ### ### ### ### ### ### ### ### ### \n",
      "{'test_acc': [0.80078125], 'test_f1': [0.765748631918902], 'eval_acc': [0.862144420131291], 'eval_f1': [0.8302867753249432], 'g': [2]}\n",
      "### ### ### ### ### ### ### ### ### ### \n",
      "Grid search roberta-large, learning rate 1e-05, focal loss gamma 4\n"
     ]
    },
    {
     "name": "stderr",
     "output_type": "stream",
     "text": [
      "Some weights of RobertaForSequenceClassification were not initialized from the model checkpoint at roberta-large and are newly initialized: ['classifier.out_proj.weight', 'classifier.dense.bias', 'classifier.dense.weight', 'classifier.out_proj.bias']\n",
      "You should probably TRAIN this model on a down-stream task to be able to use it for predictions and inference.\n",
      "You're using a RobertaTokenizerFast tokenizer. Please note that with a fast tokenizer, using the `__call__` method is faster than using a method to encode the text followed by a call to the `pad` method to get a padded encoding.\n"
     ]
    },
    {
     "name": "stdout",
     "output_type": "stream",
     "text": [
      "1 / 30: Train Loss:\t0.0478\tVal Loss:\t0.6340\tAccuracy:\t0.7965\tF1:\t0.7190\n",
      "2 / 30: Train Loss:\t0.0366\tVal Loss:\t0.6089\tAccuracy:\t0.7637\tF1:\t0.7396\n",
      "3 / 30: Train Loss:\t0.0285\tVal Loss:\t0.5105\tAccuracy:\t0.8425\tF1:\t0.8065\n",
      "4 / 30: Train Loss:\t0.0201\tVal Loss:\t0.4073\tAccuracy:\t0.8731\tF1:\t0.8285\n",
      "5 / 30: Train Loss:\t0.0162\tVal Loss:\t0.4039\tAccuracy:\t0.8687\tF1:\t0.8107\n",
      "6 / 30: Train Loss:\t0.0185\tVal Loss:\t0.3675\tAccuracy:\t0.8403\tF1:\t0.8077\n",
      "7 / 30: Train Loss:\t0.0089\tVal Loss:\t0.3153\tAccuracy:\t0.8950\tF1:\t0.8598\n",
      "8 / 30: Train Loss:\t0.0093\tVal Loss:\t0.3301\tAccuracy:\t0.8775\tF1:\t0.8245\n",
      "9 / 30: Train Loss:\t0.0045\tVal Loss:\t0.3480\tAccuracy:\t0.8556\tF1:\t0.8192\n",
      "10 / 30: Train Loss:\t0.0025\tVal Loss:\t0.2908\tAccuracy:\t0.8950\tF1:\t0.8581\n",
      "No improvement for 3 epochs. Stopping early.\n",
      "best (higgest macro f1-score) val results:\n",
      "              precision    recall  f1-score   support\n",
      "\n",
      "       bknow       0.83      0.76      0.79       119\n",
      "      struct       0.92      0.94      0.93       338\n",
      "\n",
      "    accuracy                           0.89       457\n",
      "   macro avg       0.87      0.85      0.86       457\n",
      "weighted avg       0.89      0.89      0.89       457\n",
      "\n",
      "test results:\n",
      "              precision    recall  f1-score   support\n",
      "\n",
      "       bknow       0.67      0.72      0.69        67\n",
      "      struct       0.90      0.87      0.88       189\n",
      "\n",
      "    accuracy                           0.83       256\n",
      "   macro avg       0.78      0.79      0.79       256\n",
      "weighted avg       0.84      0.83      0.83       256\n",
      "\n",
      "### ### ### ### ### ### ### ### ### ### \n",
      "{'test_acc': [0.80078125, 0.83203125], 'test_f1': [0.765748631918902, 0.7876829903369529], 'eval_acc': [0.862144420131291, 0.8949671772428884], 'eval_f1': [0.8302867753249432, 0.8597514193647384], 'g': [2, 4]}\n",
      "### ### ### ### ### ### ### ### ### ### \n",
      "Grid search roberta-large, learning rate 1e-05, focal loss gamma 8\n"
     ]
    },
    {
     "name": "stderr",
     "output_type": "stream",
     "text": [
      "Some weights of RobertaForSequenceClassification were not initialized from the model checkpoint at roberta-large and are newly initialized: ['classifier.out_proj.weight', 'classifier.dense.bias', 'classifier.dense.weight', 'classifier.out_proj.bias']\n",
      "You should probably TRAIN this model on a down-stream task to be able to use it for predictions and inference.\n",
      "You're using a RobertaTokenizerFast tokenizer. Please note that with a fast tokenizer, using the `__call__` method is faster than using a method to encode the text followed by a call to the `pad` method to get a padded encoding.\n"
     ]
    },
    {
     "name": "stdout",
     "output_type": "stream",
     "text": [
      "1 / 30: Train Loss:\t0.0040\tVal Loss:\t0.6856\tAccuracy:\t0.6543\tF1:\t0.6334\n",
      "2 / 30: Train Loss:\t0.0030\tVal Loss:\t0.6517\tAccuracy:\t0.8184\tF1:\t0.7315\n",
      "3 / 30: Train Loss:\t0.0028\tVal Loss:\t0.6387\tAccuracy:\t0.7462\tF1:\t0.7249\n",
      "4 / 30: Train Loss:\t0.0027\tVal Loss:\t0.6427\tAccuracy:\t0.6565\tF1:\t0.6467\n",
      "5 / 30: Train Loss:\t0.0028\tVal Loss:\t0.6117\tAccuracy:\t0.8490\tF1:\t0.7751\n",
      "6 / 30: Train Loss:\t0.0019\tVal Loss:\t0.5926\tAccuracy:\t0.7352\tF1:\t0.7189\n",
      "7 / 30: Train Loss:\t0.0018\tVal Loss:\t0.5223\tAccuracy:\t0.8556\tF1:\t0.8201\n",
      "8 / 30: Train Loss:\t0.0018\tVal Loss:\t0.5968\tAccuracy:\t0.8053\tF1:\t0.7831\n",
      "9 / 30: Train Loss:\t0.0012\tVal Loss:\t0.5472\tAccuracy:\t0.7593\tF1:\t0.7392\n",
      "10 / 30: Train Loss:\t0.0020\tVal Loss:\t0.5401\tAccuracy:\t0.8556\tF1:\t0.7841\n",
      "No improvement for 3 epochs. Stopping early.\n",
      "best (higgest macro f1-score) val results:\n",
      "              precision    recall  f1-score   support\n",
      "\n",
      "       bknow       0.70      0.79      0.74       119\n",
      "      struct       0.92      0.88      0.90       338\n",
      "\n",
      "    accuracy                           0.86       457\n",
      "   macro avg       0.81      0.83      0.82       457\n",
      "weighted avg       0.86      0.86      0.86       457\n",
      "\n",
      "test results:\n",
      "              precision    recall  f1-score   support\n",
      "\n",
      "       bknow       0.61      0.73      0.67        67\n",
      "      struct       0.90      0.84      0.87       189\n",
      "\n",
      "    accuracy                           0.81       256\n",
      "   macro avg       0.76      0.78      0.77       256\n",
      "weighted avg       0.82      0.81      0.81       256\n",
      "\n",
      "### ### ### ### ### ### ### ### ### ### \n",
      "{'test_acc': [0.80078125, 0.83203125, 0.80859375], 'test_f1': [0.765748631918902, 0.7876829903369529, 0.7662100456621004], 'eval_acc': [0.862144420131291, 0.8949671772428884, 0.8555798687089715], 'eval_f1': [0.8302867753249432, 0.8597514193647384, 0.8200787401574803], 'g': [2, 4, 8]}\n",
      "### ### ### ### ### ### ### ### ### ### \n",
      "Grid search roberta-large, learning rate 1e-05, focal loss gamma 16\n"
     ]
    },
    {
     "name": "stderr",
     "output_type": "stream",
     "text": [
      "Some weights of RobertaForSequenceClassification were not initialized from the model checkpoint at roberta-large and are newly initialized: ['classifier.out_proj.weight', 'classifier.dense.bias', 'classifier.dense.weight', 'classifier.out_proj.bias']\n",
      "You should probably TRAIN this model on a down-stream task to be able to use it for predictions and inference.\n",
      "You're using a RobertaTokenizerFast tokenizer. Please note that with a fast tokenizer, using the `__call__` method is faster than using a method to encode the text followed by a call to the `pad` method to get a padded encoding.\n"
     ]
    },
    {
     "name": "stdout",
     "output_type": "stream",
     "text": [
      "1 / 30: Train Loss:\t0.0000\tVal Loss:\t0.6960\tAccuracy:\t0.4814\tF1:\t0.4792\n",
      "2 / 30: Train Loss:\t0.0000\tVal Loss:\t0.6843\tAccuracy:\t0.7352\tF1:\t0.5797\n",
      "3 / 30: Train Loss:\t0.0000\tVal Loss:\t0.6808\tAccuracy:\t0.7330\tF1:\t0.6123\n",
      "4 / 30: Train Loss:\t0.0000\tVal Loss:\t0.6823\tAccuracy:\t0.7133\tF1:\t0.6855\n",
      "5 / 30: Train Loss:\t0.0000\tVal Loss:\t0.6745\tAccuracy:\t0.7812\tF1:\t0.6570\n",
      "6 / 30: Train Loss:\t0.0000\tVal Loss:\t0.6860\tAccuracy:\t0.7024\tF1:\t0.6758\n",
      "7 / 30: Train Loss:\t0.0000\tVal Loss:\t0.6736\tAccuracy:\t0.8053\tF1:\t0.7032\n",
      "8 / 30: Train Loss:\t0.0000\tVal Loss:\t0.6666\tAccuracy:\t0.8162\tF1:\t0.7560\n",
      "9 / 30: Train Loss:\t0.0000\tVal Loss:\t0.6763\tAccuracy:\t0.7921\tF1:\t0.7199\n",
      "10 / 30: Train Loss:\t0.0000\tVal Loss:\t0.6807\tAccuracy:\t0.7374\tF1:\t0.7106\n",
      "11 / 30: Train Loss:\t0.0000\tVal Loss:\t0.6593\tAccuracy:\t0.7943\tF1:\t0.6251\n",
      "No improvement for 3 epochs. Stopping early.\n",
      "best (higgest macro f1-score) val results:\n",
      "              precision    recall  f1-score   support\n",
      "\n",
      "       bknow       0.66      0.61      0.63       119\n",
      "      struct       0.87      0.89      0.88       338\n",
      "\n",
      "    accuracy                           0.82       457\n",
      "   macro avg       0.76      0.75      0.76       457\n",
      "weighted avg       0.81      0.82      0.81       457\n",
      "\n",
      "test results:\n",
      "              precision    recall  f1-score   support\n",
      "\n",
      "       bknow       0.57      0.58      0.58        67\n",
      "      struct       0.85      0.85      0.85       189\n",
      "\n",
      "    accuracy                           0.78       256\n",
      "   macro avg       0.71      0.71      0.71       256\n",
      "weighted avg       0.78      0.78      0.78       256\n",
      "\n",
      "### ### ### ### ### ### ### ### ### ### \n",
      "{'test_acc': [0.80078125, 0.83203125, 0.80859375, 0.77734375], 'test_f1': [0.765748631918902, 0.7876829903369529, 0.7662100456621004, 0.7132920719127616], 'eval_acc': [0.862144420131291, 0.8949671772428884, 0.8555798687089715, 0.8161925601750547], 'eval_f1': [0.8302867753249432, 0.8597514193647384, 0.8200787401574803, 0.7559877955758962], 'g': [2, 4, 8, 16]}\n",
      "### ### ### ### ### ### ### ### ### ### \n"
     ]
    }
   ],
   "source": [
    "gamma = [2,4,8,16]\n",
    "lr = 1.0e-5\n",
    "\n",
    "for g in gamma:\n",
    "    print(f'Grid search {model_checkpoint}, learning rate {lr}, focal loss gamma {g}')\n",
    "    data = ClimateDataset(model_to_train=1,model_checkpoint=model_checkpoint,dataset_url=flicc_path,batch_size=16)\n",
    "    data.setup_dataloaders()\n",
    "    model = ClassificationModel(model_checkpoint=data.model_checkpoint,num_labels=data.num_labels)\n",
    "    trainer = Engine(epochs=30,labels=data.labels)\n",
    "    trainer.model = model.model\n",
    "    trainer.dataset_encoded = data.dataset_encoded\n",
    "    test_acc, test_f1, eval_acc, eval_f1 = trainer.run(lr=lr,\n",
    "                                                       wd=0.0,\n",
    "                                                       train_dataloader=data.train_dataloader,\n",
    "                                                       eval_dataloader=data.eval_dataloader,\n",
    "                                                       test_dataloader=data.test_dataloader,\n",
    "                                                       focalloss=True,\n",
    "                                                       gamma=g,\n",
    "                                                       accumulation_steps=2,\n",
    "                                                       early_stop=3)\n",
    "    results['test_acc'].append(test_acc)\n",
    "    results['test_f1'].append(test_f1)\n",
    "    results['eval_acc'].append(eval_acc)\n",
    "    results['eval_f1'].append(eval_f1)\n",
    "    results['g'].append(g)\n",
    "    print('### '*10)\n",
    "    print(results)\n",
    "    print('### '*10)\n",
    "    with torch.no_grad():\n",
    "        torch.cuda.empty_cache()\n",
    "    del data, model, trainer, test_acc, test_f1, eval_acc, eval_f1\n",
    "    gc.collect()"
   ]
  },
  {
   "cell_type": "code",
   "execution_count": 5,
   "metadata": {},
   "outputs": [
    {
     "data": {
      "image/png": "[encoded data removed]",
      "text/plain": [
       "<Figure size 640x480 with 1 Axes>"
      ]
     },
     "metadata": {},
     "output_type": "display_data"
    }
   ],
   "source": [
    "Engine.plot_grid_search(df=results,\n",
    "                        title=f'Focal loss, lr: {lr}, {model_checkpoint}',\n",
    "                        column='g',\n",
    "                        sci_format=False)"
   ]
  },
  {
   "cell_type": "code",
   "execution_count": 6,
   "metadata": {},
   "outputs": [],
   "source": [
    "%reset -f"
   ]
  }
 ],
 "metadata": {
  "kernelspec": {
   "display_name": "Python 3",
   "language": "python",
   "name": "python3"
  },
  "language_info": {
   "codemirror_mode": {
    "name": "ipython",
    "version": 3
   },
   "file_extension": ".py",
   "mimetype": "text/x-python",
   "name": "python",
   "nbconvert_exporter": "python",
   "pygments_lexer": "ipython3",
   "version": "3.11.5"
  },
  "orig_nbformat": 4
 },
 "nbformat": 4,
 "nbformat_minor": 2
}
