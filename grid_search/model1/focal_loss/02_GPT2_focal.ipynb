{
 "cells": [
  {
   "cell_type": "code",
   "execution_count": 1,
   "metadata": {},
   "outputs": [],
   "source": [
    "import os\n",
    "import sys\n",
    "import gc\n",
    "# assuming data, models, engine in flicc directory:\n",
    "flicc_path = os.path.realpath(\"__file__\").split('grid_search')[0]\n",
    "sys.path.append(flicc_path)\n",
    "import torch\n",
    "from data import ClimateDataset\n",
    "from models import ClassificationModel\n",
    "from engine import Engine"
   ]
  },
  {
   "cell_type": "code",
   "execution_count": 2,
   "metadata": {},
   "outputs": [],
   "source": [
    "model_checkpoint='gpt2'"
   ]
  },
  {
   "cell_type": "code",
   "execution_count": 3,
   "metadata": {},
   "outputs": [],
   "source": [
    "results = {'test_acc':[],\n",
    "           'test_f1':[],\n",
    "           'eval_acc':[],\n",
    "           'eval_f1':[],\n",
    "           'g':[]}"
   ]
  },
  {
   "cell_type": "code",
   "execution_count": 4,
   "metadata": {},
   "outputs": [
    {
     "name": "stdout",
     "output_type": "stream",
     "text": [
      "Grid search gpt2, learning rate 5e-05, focal loss gamma 2\n"
     ]
    },
    {
     "data": {
      "application/vnd.jupyter.widget-view+json": {
       "model_id": "557c5ff4a5a041398f262dfa80598f0e",
       "version_major": 2,
       "version_minor": 0
      },
      "text/plain": [
       "Map:   0%|          | 0/1796 [00:00<?, ? examples/s]"
      ]
     },
     "metadata": {},
     "output_type": "display_data"
    },
    {
     "data": {
      "application/vnd.jupyter.widget-view+json": {
       "model_id": "f9a54c619ae8414a9238e332eb3a007e",
       "version_major": 2,
       "version_minor": 0
      },
      "text/plain": [
       "Map:   0%|          | 0/256 [00:00<?, ? examples/s]"
      ]
     },
     "metadata": {},
     "output_type": "display_data"
    },
    {
     "data": {
      "application/vnd.jupyter.widget-view+json": {
       "model_id": "c6a8e6536eb845e1b7b575cf68c9878a",
       "version_major": 2,
       "version_minor": 0
      },
      "text/plain": [
       "Map:   0%|          | 0/457 [00:00<?, ? examples/s]"
      ]
     },
     "metadata": {},
     "output_type": "display_data"
    },
    {
     "name": "stderr",
     "output_type": "stream",
     "text": [
      "Some weights of GPT2ForSequenceClassification were not initialized from the model checkpoint at gpt2 and are newly initialized: ['score.weight']\n",
      "You should probably TRAIN this model on a down-stream task to be able to use it for predictions and inference.\n",
      "You're using a GPT2TokenizerFast tokenizer. Please note that with a fast tokenizer, using the `__call__` method is faster than using a method to encode the text followed by a call to the `pad` method to get a padded encoding.\n"
     ]
    },
    {
     "name": "stdout",
     "output_type": "stream",
     "text": [
      "1 / 30: Train Loss:\t0.7956\tVal Loss:\t0.6497\tAccuracy:\t0.6674\tF1:\t0.5422\n",
      "2 / 30: Train Loss:\t0.3607\tVal Loss:\t0.6472\tAccuracy:\t0.6893\tF1:\t0.6184\n",
      "3 / 30: Train Loss:\t0.3361\tVal Loss:\t0.6037\tAccuracy:\t0.7921\tF1:\t0.6832\n",
      "4 / 30: Train Loss:\t0.3166\tVal Loss:\t0.5878\tAccuracy:\t0.8074\tF1:\t0.7204\n",
      "5 / 30: Train Loss:\t0.3024\tVal Loss:\t0.5690\tAccuracy:\t0.8031\tF1:\t0.7199\n",
      "6 / 30: Train Loss:\t0.2876\tVal Loss:\t0.5759\tAccuracy:\t0.7637\tF1:\t0.7056\n",
      "7 / 30: Train Loss:\t0.2678\tVal Loss:\t0.5635\tAccuracy:\t0.7899\tF1:\t0.7357\n",
      "8 / 30: Train Loss:\t0.2644\tVal Loss:\t0.5453\tAccuracy:\t0.7812\tF1:\t0.7247\n",
      "9 / 30: Train Loss:\t0.2466\tVal Loss:\t0.5391\tAccuracy:\t0.7790\tF1:\t0.7340\n",
      "10 / 30: Train Loss:\t0.2303\tVal Loss:\t0.6126\tAccuracy:\t0.6718\tF1:\t0.6542\n",
      "No improvement for 3 epochs. Stopping early.\n",
      "best (higgest macro f1-score) val results:\n",
      "              precision    recall  f1-score   support\n",
      "\n",
      "       bknow       0.59      0.65      0.62       119\n",
      "      struct       0.87      0.84      0.86       338\n",
      "\n",
      "    accuracy                           0.79       457\n",
      "   macro avg       0.73      0.74      0.74       457\n",
      "weighted avg       0.80      0.79      0.79       457\n",
      "\n",
      "test results:\n",
      "              precision    recall  f1-score   support\n",
      "\n",
      "       bknow       0.49      0.60      0.54        67\n",
      "      struct       0.85      0.78      0.81       189\n",
      "\n",
      "    accuracy                           0.73       256\n",
      "   macro avg       0.67      0.69      0.68       256\n",
      "weighted avg       0.75      0.73      0.74       256\n",
      "\n",
      "### ### ### ### ### ### ### ### ### ### \n",
      "{'test_acc': [0.734375], 'test_f1': [0.6768636768636768], 'eval_acc': [0.7899343544857768], 'eval_f1': [0.735710843373494], 'g': [2]}\n",
      "### ### ### ### ### ### ### ### ### ### \n",
      "Grid search gpt2, learning rate 5e-05, focal loss gamma 4\n"
     ]
    },
    {
     "data": {
      "application/vnd.jupyter.widget-view+json": {
       "model_id": "346179ddf933418b92aa68198256c47d",
       "version_major": 2,
       "version_minor": 0
      },
      "text/plain": [
       "Map:   0%|          | 0/256 [00:00<?, ? examples/s]"
      ]
     },
     "metadata": {},
     "output_type": "display_data"
    },
    {
     "name": "stderr",
     "output_type": "stream",
     "text": [
      "Some weights of GPT2ForSequenceClassification were not initialized from the model checkpoint at gpt2 and are newly initialized: ['score.weight']\n",
      "You should probably TRAIN this model on a down-stream task to be able to use it for predictions and inference.\n",
      "You're using a GPT2TokenizerFast tokenizer. Please note that with a fast tokenizer, using the `__call__` method is faster than using a method to encode the text followed by a call to the `pad` method to get a padded encoding.\n"
     ]
    },
    {
     "name": "stdout",
     "output_type": "stream",
     "text": [
      "1 / 30: Train Loss:\t0.4969\tVal Loss:\t0.6756\tAccuracy:\t0.6258\tF1:\t0.5232\n",
      "2 / 30: Train Loss:\t0.1122\tVal Loss:\t0.6974\tAccuracy:\t0.5646\tF1:\t0.5408\n",
      "3 / 30: Train Loss:\t0.1012\tVal Loss:\t0.6766\tAccuracy:\t0.6499\tF1:\t0.6030\n",
      "4 / 30: Train Loss:\t0.0917\tVal Loss:\t0.6551\tAccuracy:\t0.7177\tF1:\t0.6305\n",
      "5 / 30: Train Loss:\t0.0914\tVal Loss:\t0.6393\tAccuracy:\t0.7527\tF1:\t0.6397\n",
      "6 / 30: Train Loss:\t0.0859\tVal Loss:\t0.6418\tAccuracy:\t0.7615\tF1:\t0.6843\n",
      "7 / 30: Train Loss:\t0.0790\tVal Loss:\t0.6267\tAccuracy:\t0.7899\tF1:\t0.7012\n",
      "8 / 30: Train Loss:\t0.0841\tVal Loss:\t0.5996\tAccuracy:\t0.7877\tF1:\t0.6307\n",
      "9 / 30: Train Loss:\t0.0831\tVal Loss:\t0.6114\tAccuracy:\t0.8074\tF1:\t0.7099\n",
      "10 / 30: Train Loss:\t0.0791\tVal Loss:\t0.6157\tAccuracy:\t0.8031\tF1:\t0.7236\n",
      "11 / 30: Train Loss:\t0.0740\tVal Loss:\t0.6237\tAccuracy:\t0.7724\tF1:\t0.7137\n",
      "12 / 30: Train Loss:\t0.0724\tVal Loss:\t0.6063\tAccuracy:\t0.7943\tF1:\t0.7186\n",
      "13 / 30: Train Loss:\t0.0716\tVal Loss:\t0.5961\tAccuracy:\t0.8074\tF1:\t0.7298\n",
      "14 / 30: Train Loss:\t0.0672\tVal Loss:\t0.5984\tAccuracy:\t0.7921\tF1:\t0.7216\n",
      "15 / 30: Train Loss:\t0.0651\tVal Loss:\t0.6039\tAccuracy:\t0.7790\tF1:\t0.7340\n",
      "16 / 30: Train Loss:\t0.0632\tVal Loss:\t0.6005\tAccuracy:\t0.7724\tF1:\t0.7205\n",
      "17 / 30: Train Loss:\t0.0571\tVal Loss:\t0.5875\tAccuracy:\t0.7790\tF1:\t0.7212\n",
      "18 / 30: Train Loss:\t0.0582\tVal Loss:\t0.5580\tAccuracy:\t0.8096\tF1:\t0.7435\n",
      "19 / 30: Train Loss:\t0.0543\tVal Loss:\t0.5718\tAccuracy:\t0.7877\tF1:\t0.7362\n",
      "20 / 30: Train Loss:\t0.0510\tVal Loss:\t0.5582\tAccuracy:\t0.7943\tF1:\t0.7462\n",
      "21 / 30: Train Loss:\t0.0481\tVal Loss:\t0.5601\tAccuracy:\t0.7834\tF1:\t0.7392\n",
      "22 / 30: Train Loss:\t0.0420\tVal Loss:\t0.5727\tAccuracy:\t0.7527\tF1:\t0.7220\n",
      "23 / 30: Train Loss:\t0.0399\tVal Loss:\t0.5641\tAccuracy:\t0.7287\tF1:\t0.7044\n",
      "No improvement for 3 epochs. Stopping early.\n",
      "best (higgest macro f1-score) val results:\n",
      "              precision    recall  f1-score   support\n",
      "\n",
      "       bknow       0.59      0.69      0.64       119\n",
      "      struct       0.88      0.83      0.86       338\n",
      "\n",
      "    accuracy                           0.79       457\n",
      "   macro avg       0.74      0.76      0.75       457\n",
      "weighted avg       0.81      0.79      0.80       457\n",
      "\n",
      "test results:\n",
      "              precision    recall  f1-score   support\n",
      "\n",
      "       bknow       0.50      0.67      0.57        67\n",
      "      struct       0.87      0.76      0.81       189\n",
      "\n",
      "    accuracy                           0.74       256\n",
      "   macro avg       0.68      0.72      0.69       256\n",
      "weighted avg       0.77      0.74      0.75       256\n",
      "\n",
      "### ### ### ### ### ### ### ### ### ### \n",
      "{'test_acc': [0.734375, 0.73828125], 'test_f1': [0.6768636768636768, 0.6922580066385575], 'eval_acc': [0.7899343544857768, 0.7943107221006565], 'eval_f1': [0.735710843373494, 0.7461831159009265], 'g': [2, 4]}\n",
      "### ### ### ### ### ### ### ### ### ### \n",
      "Grid search gpt2, learning rate 5e-05, focal loss gamma 8\n"
     ]
    },
    {
     "data": {
      "application/vnd.jupyter.widget-view+json": {
       "model_id": "e72ef392be6f41d08c1ae2de20a4d4cc",
       "version_major": 2,
       "version_minor": 0
      },
      "text/plain": [
       "Map:   0%|          | 0/457 [00:00<?, ? examples/s]"
      ]
     },
     "metadata": {},
     "output_type": "display_data"
    },
    {
     "name": "stderr",
     "output_type": "stream",
     "text": [
      "Some weights of GPT2ForSequenceClassification were not initialized from the model checkpoint at gpt2 and are newly initialized: ['score.weight']\n",
      "You should probably TRAIN this model on a down-stream task to be able to use it for predictions and inference.\n",
      "You're using a GPT2TokenizerFast tokenizer. Please note that with a fast tokenizer, using the `__call__` method is faster than using a method to encode the text followed by a call to the `pad` method to get a padded encoding.\n"
     ]
    },
    {
     "name": "stdout",
     "output_type": "stream",
     "text": [
      "1 / 30: Train Loss:\t0.3107\tVal Loss:\t0.7950\tAccuracy:\t0.3239\tF1:\t0.3036\n",
      "2 / 30: Train Loss:\t0.0171\tVal Loss:\t0.7663\tAccuracy:\t0.3326\tF1:\t0.3166\n",
      "3 / 30: Train Loss:\t0.0139\tVal Loss:\t0.7454\tAccuracy:\t0.3720\tF1:\t0.3666\n",
      "4 / 30: Train Loss:\t0.0108\tVal Loss:\t0.7350\tAccuracy:\t0.4026\tF1:\t0.4004\n",
      "5 / 30: Train Loss:\t0.0111\tVal Loss:\t0.7424\tAccuracy:\t0.3611\tF1:\t0.3510\n",
      "6 / 30: Train Loss:\t0.0099\tVal Loss:\t0.7143\tAccuracy:\t0.4486\tF1:\t0.4478\n",
      "7 / 30: Train Loss:\t0.0085\tVal Loss:\t0.7013\tAccuracy:\t0.5252\tF1:\t0.5131\n",
      "8 / 30: Train Loss:\t0.0089\tVal Loss:\t0.7205\tAccuracy:\t0.3961\tF1:\t0.3942\n",
      "9 / 30: Train Loss:\t0.0085\tVal Loss:\t0.7047\tAccuracy:\t0.4967\tF1:\t0.4918\n",
      "10 / 30: Train Loss:\t0.0081\tVal Loss:\t0.7025\tAccuracy:\t0.5033\tF1:\t0.4982\n",
      "No improvement for 3 epochs. Stopping early.\n",
      "best (higgest macro f1-score) val results:\n",
      "              precision    recall  f1-score   support\n",
      "\n",
      "       bknow       0.32      0.71      0.44       119\n",
      "      struct       0.82      0.46      0.59       338\n",
      "\n",
      "    accuracy                           0.53       457\n",
      "   macro avg       0.57      0.58      0.51       457\n",
      "weighted avg       0.69      0.53      0.55       457\n",
      "\n",
      "test results:\n",
      "              precision    recall  f1-score   support\n",
      "\n",
      "       bknow       0.31      0.66      0.42        67\n",
      "      struct       0.80      0.48      0.60       189\n",
      "\n",
      "    accuracy                           0.52       256\n",
      "   macro avg       0.55      0.57      0.51       256\n",
      "weighted avg       0.67      0.52      0.55       256\n",
      "\n",
      "### ### ### ### ### ### ### ### ### ### \n",
      "{'test_acc': [0.734375, 0.73828125, 0.5234375], 'test_f1': [0.6768636768636768, 0.6922580066385575, 0.5075370545569221], 'eval_acc': [0.7899343544857768, 0.7943107221006565, 0.5251641137855579], 'eval_f1': [0.735710843373494, 0.7461831159009265, 0.5130778484275649], 'g': [2, 4, 8]}\n",
      "### ### ### ### ### ### ### ### ### ### \n",
      "Grid search gpt2, learning rate 5e-05, focal loss gamma 16\n"
     ]
    },
    {
     "name": "stderr",
     "output_type": "stream",
     "text": [
      "Some weights of GPT2ForSequenceClassification were not initialized from the model checkpoint at gpt2 and are newly initialized: ['score.weight']\n",
      "You should probably TRAIN this model on a down-stream task to be able to use it for predictions and inference.\n",
      "You're using a GPT2TokenizerFast tokenizer. Please note that with a fast tokenizer, using the `__call__` method is faster than using a method to encode the text followed by a call to the `pad` method to get a padded encoding.\n"
     ]
    },
    {
     "name": "stdout",
     "output_type": "stream",
     "text": [
      "1 / 30: Train Loss:\t0.2083\tVal Loss:\t0.8163\tAccuracy:\t0.3348\tF1:\t0.3174\n",
      "2 / 30: Train Loss:\t0.0020\tVal Loss:\t0.8206\tAccuracy:\t0.3020\tF1:\t0.2725\n",
      "3 / 30: Train Loss:\t0.0016\tVal Loss:\t0.7992\tAccuracy:\t0.3260\tF1:\t0.3042\n",
      "4 / 30: Train Loss:\t0.0009\tVal Loss:\t0.7864\tAccuracy:\t0.3304\tF1:\t0.3139\n",
      "No improvement for 3 epochs. Stopping early.\n",
      "best (higgest macro f1-score) val results:\n",
      "              precision    recall  f1-score   support\n",
      "\n",
      "       bknow       0.27      0.95      0.43       119\n",
      "      struct       0.87      0.12      0.21       338\n",
      "\n",
      "    accuracy                           0.33       457\n",
      "   macro avg       0.57      0.53      0.32       457\n",
      "weighted avg       0.71      0.33      0.27       457\n",
      "\n",
      "test results:\n",
      "              precision    recall  f1-score   support\n",
      "\n",
      "       bknow       0.27      0.90      0.42        67\n",
      "      struct       0.79      0.14      0.24       189\n",
      "\n",
      "    accuracy                           0.34       256\n",
      "   macro avg       0.53      0.52      0.33       256\n",
      "weighted avg       0.66      0.34      0.29       256\n",
      "\n",
      "### ### ### ### ### ### ### ### ### ### \n",
      "{'test_acc': [0.734375, 0.73828125, 0.5234375, 0.33984375], 'test_f1': [0.6768636768636768, 0.6922580066385575, 0.5075370545569221, 0.3286886899312613], 'eval_acc': [0.7899343544857768, 0.7943107221006565, 0.5251641137855579, 0.3347921225382932], 'eval_f1': [0.735710843373494, 0.7461831159009265, 0.5130778484275649, 0.317374213836478], 'g': [2, 4, 8, 16]}\n",
      "### ### ### ### ### ### ### ### ### ### \n"
     ]
    }
   ],
   "source": [
    "gamma = [2,4,8,16]\n",
    "lr = 5.0e-5\n",
    "\n",
    "for g in gamma:\n",
    "    print(f'Grid search {model_checkpoint}, learning rate {lr}, focal loss gamma {g}')\n",
    "    data = ClimateDataset(model_to_train=1,model_checkpoint=model_checkpoint,dataset_url=flicc_path,batch_size=32)\n",
    "    data.setup_dataloaders()\n",
    "    model = ClassificationModel(model_checkpoint=data.model_checkpoint,num_labels=data.num_labels)\n",
    "    trainer = Engine(epochs=30,labels=data.labels)\n",
    "    trainer.model = model.model\n",
    "    trainer.dataset_encoded = data.dataset_encoded\n",
    "    test_acc, test_f1, eval_acc, eval_f1 = trainer.run(lr=lr,\n",
    "                                                       wd=0.0,\n",
    "                                                       train_dataloader=data.train_dataloader,\n",
    "                                                       eval_dataloader=data.eval_dataloader,\n",
    "                                                       test_dataloader=data.test_dataloader,\n",
    "                                                       focalloss=True,\n",
    "                                                       gamma=g,\n",
    "                                                       early_stop=3)\n",
    "    results['test_acc'].append(test_acc)\n",
    "    results['test_f1'].append(test_f1)\n",
    "    results['eval_acc'].append(eval_acc)\n",
    "    results['eval_f1'].append(eval_f1)\n",
    "    results['g'].append(g)\n",
    "    print('### '*10)\n",
    "    print(results)\n",
    "    print('### '*10)\n",
    "    with torch.no_grad():\n",
    "        torch.cuda.empty_cache()\n",
    "    del data, model, trainer, test_acc, test_f1, eval_acc, eval_f1\n",
    "    gc.collect()"
   ]
  },
  {
   "cell_type": "code",
   "execution_count": 5,
   "metadata": {},
   "outputs": [
    {
     "data": {
      "image/png": "[encoded data removed]",
      "text/plain": [
       "<Figure size 640x480 with 1 Axes>"
      ]
     },
     "metadata": {},
     "output_type": "display_data"
    }
   ],
   "source": [
    "Engine.plot_grid_search(df=results,\n",
    "                        title=f'Focal loss, lr: {lr}, {model_checkpoint}',\n",
    "                        column='g',\n",
    "                        sci_format=False)"
   ]
  },
  {
   "cell_type": "code",
   "execution_count": 6,
   "metadata": {},
   "outputs": [],
   "source": [
    "%reset -f"
   ]
  }
 ],
 "metadata": {
  "kernelspec": {
   "display_name": "Python 3",
   "language": "python",
   "name": "python3"
  },
  "language_info": {
   "codemirror_mode": {
    "name": "ipython",
    "version": 3
   },
   "file_extension": ".py",
   "mimetype": "text/x-python",
   "name": "python",
   "nbconvert_exporter": "python",
   "pygments_lexer": "ipython3",
   "version": "3.11.5"
  },
  "orig_nbformat": 4
 },
 "nbformat": 4,
 "nbformat_minor": 2
}
