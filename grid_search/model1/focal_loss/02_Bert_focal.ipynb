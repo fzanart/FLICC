{
 "cells": [
  {
   "cell_type": "code",
   "execution_count": 1,
   "metadata": {},
   "outputs": [],
   "source": [
    "import os\n",
    "import sys\n",
    "import gc\n",
    "# assuming data, models, engine in flicc directory:\n",
    "flicc_path = os.path.realpath(\"__file__\").split('grid_search')[0]\n",
    "sys.path.append(flicc_path)\n",
    "import torch\n",
    "from data import ClimateDataset\n",
    "from models import ClassificationModel\n",
    "from engine import Engine"
   ]
  },
  {
   "cell_type": "code",
   "execution_count": 2,
   "metadata": {},
   "outputs": [],
   "source": [
    "model_checkpoint='bert-base-uncased'"
   ]
  },
  {
   "cell_type": "code",
   "execution_count": 3,
   "metadata": {},
   "outputs": [],
   "source": [
    "results = {'test_acc':[],\n",
    "           'test_f1':[],\n",
    "           'eval_acc':[],\n",
    "           'eval_f1':[],\n",
    "           'g':[]}"
   ]
  },
  {
   "cell_type": "code",
   "execution_count": 4,
   "metadata": {},
   "outputs": [
    {
     "name": "stdout",
     "output_type": "stream",
     "text": [
      "Grid search bert-base-uncased, learning rate 0.0001, focal loss gamma 2\n"
     ]
    },
    {
     "name": "stderr",
     "output_type": "stream",
     "text": [
      "Some weights of BertForSequenceClassification were not initialized from the model checkpoint at bert-base-uncased and are newly initialized: ['classifier.weight', 'classifier.bias']\n",
      "You should probably TRAIN this model on a down-stream task to be able to use it for predictions and inference.\n",
      "You're using a BertTokenizerFast tokenizer. Please note that with a fast tokenizer, using the `__call__` method is faster than using a method to encode the text followed by a call to the `pad` method to get a padded encoding.\n"
     ]
    },
    {
     "name": "stdout",
     "output_type": "stream",
     "text": [
      "1 / 30: Train Loss:\t0.3150\tVal Loss:\t0.5824\tAccuracy:\t0.7505\tF1:\t0.7162\n",
      "2 / 30: Train Loss:\t0.2114\tVal Loss:\t0.4516\tAccuracy:\t0.8184\tF1:\t0.7661\n",
      "3 / 30: Train Loss:\t0.1343\tVal Loss:\t0.4526\tAccuracy:\t0.7899\tF1:\t0.7602\n",
      "4 / 30: Train Loss:\t0.0957\tVal Loss:\t0.3677\tAccuracy:\t0.8446\tF1:\t0.7783\n",
      "5 / 30: Train Loss:\t0.0574\tVal Loss:\t0.5623\tAccuracy:\t0.7221\tF1:\t0.7037\n",
      "6 / 30: Train Loss:\t0.0479\tVal Loss:\t0.4109\tAccuracy:\t0.8534\tF1:\t0.8151\n",
      "7 / 30: Train Loss:\t0.0550\tVal Loss:\t0.6394\tAccuracy:\t0.6937\tF1:\t0.6798\n",
      "8 / 30: Train Loss:\t0.0532\tVal Loss:\t0.3485\tAccuracy:\t0.8446\tF1:\t0.7989\n",
      "9 / 30: Train Loss:\t0.0044\tVal Loss:\t0.3913\tAccuracy:\t0.8556\tF1:\t0.8145\n",
      "No improvement for 3 epochs. Stopping early.\n",
      "best (higgest macro f1-score) val results:\n",
      "              precision    recall  f1-score   support\n",
      "\n",
      "       bknow       0.70      0.76      0.73       119\n",
      "      struct       0.91      0.88      0.90       338\n",
      "\n",
      "    accuracy                           0.85       457\n",
      "   macro avg       0.81      0.82      0.82       457\n",
      "weighted avg       0.86      0.85      0.86       457\n",
      "\n",
      "test results:\n",
      "              precision    recall  f1-score   support\n",
      "\n",
      "       bknow       0.63      0.70      0.66        67\n",
      "      struct       0.89      0.85      0.87       189\n",
      "\n",
      "    accuracy                           0.81       256\n",
      "   macro avg       0.76      0.78      0.77       256\n",
      "weighted avg       0.82      0.81      0.82       256\n",
      "\n",
      "### ### ### ### ### ### ### ### ### ### \n",
      "{'test_acc': [0.8125], 'test_f1': [0.7661210506280929], 'eval_acc': [0.8533916849015317], 'eval_f1': [0.8150859075399342], 'g': [2]}\n",
      "### ### ### ### ### ### ### ### ### ### \n",
      "Grid search bert-base-uncased, learning rate 0.0001, focal loss gamma 4\n"
     ]
    },
    {
     "name": "stderr",
     "output_type": "stream",
     "text": [
      "Some weights of BertForSequenceClassification were not initialized from the model checkpoint at bert-base-uncased and are newly initialized: ['classifier.weight', 'classifier.bias']\n",
      "You should probably TRAIN this model on a down-stream task to be able to use it for predictions and inference.\n",
      "You're using a BertTokenizerFast tokenizer. Please note that with a fast tokenizer, using the `__call__` method is faster than using a method to encode the text followed by a call to the `pad` method to get a padded encoding.\n"
     ]
    },
    {
     "name": "stdout",
     "output_type": "stream",
     "text": [
      "1 / 30: Train Loss:\t0.0862\tVal Loss:\t0.6186\tAccuracy:\t0.7243\tF1:\t0.6895\n",
      "2 / 30: Train Loss:\t0.0592\tVal Loss:\t0.5259\tAccuracy:\t0.8381\tF1:\t0.7615\n",
      "3 / 30: Train Loss:\t0.0360\tVal Loss:\t0.5101\tAccuracy:\t0.7834\tF1:\t0.7345\n",
      "4 / 30: Train Loss:\t0.0243\tVal Loss:\t0.4099\tAccuracy:\t0.8337\tF1:\t0.7725\n",
      "5 / 30: Train Loss:\t0.0116\tVal Loss:\t0.5404\tAccuracy:\t0.7024\tF1:\t0.6858\n",
      "6 / 30: Train Loss:\t0.0186\tVal Loss:\t0.6484\tAccuracy:\t0.6149\tF1:\t0.6088\n",
      "7 / 30: Train Loss:\t0.0138\tVal Loss:\t0.5788\tAccuracy:\t0.6958\tF1:\t0.6799\n",
      "No improvement for 3 epochs. Stopping early.\n",
      "best (higgest macro f1-score) val results:\n",
      "              precision    recall  f1-score   support\n",
      "\n",
      "       bknow       0.71      0.61      0.65       119\n",
      "      struct       0.87      0.91      0.89       338\n",
      "\n",
      "    accuracy                           0.83       457\n",
      "   macro avg       0.79      0.76      0.77       457\n",
      "weighted avg       0.83      0.83      0.83       457\n",
      "\n",
      "test results:\n",
      "              precision    recall  f1-score   support\n",
      "\n",
      "       bknow       0.70      0.66      0.68        67\n",
      "      struct       0.88      0.90      0.89       189\n",
      "\n",
      "    accuracy                           0.84       256\n",
      "   macro avg       0.79      0.78      0.78       256\n",
      "weighted avg       0.83      0.84      0.83       256\n",
      "\n",
      "### ### ### ### ### ### ### ### ### ### \n",
      "{'test_acc': [0.8125, 0.8359375], 'test_f1': [0.7661210506280929, 0.7834877164720097], 'eval_acc': [0.8533916849015317, 0.8336980306345733], 'eval_f1': [0.8150859075399342, 0.7725176840450616], 'g': [2, 4]}\n",
      "### ### ### ### ### ### ### ### ### ### \n",
      "Grid search bert-base-uncased, learning rate 0.0001, focal loss gamma 8\n"
     ]
    },
    {
     "name": "stderr",
     "output_type": "stream",
     "text": [
      "Some weights of BertForSequenceClassification were not initialized from the model checkpoint at bert-base-uncased and are newly initialized: ['classifier.weight', 'classifier.bias']\n",
      "You should probably TRAIN this model on a down-stream task to be able to use it for predictions and inference.\n",
      "You're using a BertTokenizerFast tokenizer. Please note that with a fast tokenizer, using the `__call__` method is faster than using a method to encode the text followed by a call to the `pad` method to get a padded encoding.\n"
     ]
    },
    {
     "name": "stdout",
     "output_type": "stream",
     "text": [
      "1 / 30: Train Loss:\t0.0060\tVal Loss:\t0.6438\tAccuracy:\t0.7790\tF1:\t0.7240\n",
      "2 / 30: Train Loss:\t0.0038\tVal Loss:\t0.6278\tAccuracy:\t0.7746\tF1:\t0.7431\n",
      "3 / 30: Train Loss:\t0.0033\tVal Loss:\t0.4605\tAccuracy:\t0.8381\tF1:\t0.7713\n",
      "4 / 30: Train Loss:\t0.0061\tVal Loss:\t0.6213\tAccuracy:\t0.8031\tF1:\t0.7236\n",
      "5 / 30: Train Loss:\t0.0021\tVal Loss:\t0.5652\tAccuracy:\t0.8228\tF1:\t0.7488\n",
      "6 / 30: Train Loss:\t0.0012\tVal Loss:\t0.5122\tAccuracy:\t0.7856\tF1:\t0.7552\n",
      "No improvement for 3 epochs. Stopping early.\n",
      "best (higgest macro f1-score) val results:\n",
      "              precision    recall  f1-score   support\n",
      "\n",
      "       bknow       0.75      0.57      0.65       119\n",
      "      struct       0.86      0.93      0.89       338\n",
      "\n",
      "    accuracy                           0.84       457\n",
      "   macro avg       0.80      0.75      0.77       457\n",
      "weighted avg       0.83      0.84      0.83       457\n",
      "\n",
      "test results:\n",
      "              precision    recall  f1-score   support\n",
      "\n",
      "       bknow       0.75      0.58      0.66        67\n",
      "      struct       0.86      0.93      0.90       189\n",
      "\n",
      "    accuracy                           0.84       256\n",
      "   macro avg       0.81      0.76      0.78       256\n",
      "weighted avg       0.83      0.84      0.83       256\n",
      "\n",
      "### ### ### ### ### ### ### ### ### ### \n",
      "{'test_acc': [0.8125, 0.8359375, 0.83984375], 'test_f1': [0.7661210506280929, 0.7834877164720097, 0.7755682425642012], 'eval_acc': [0.8533916849015317, 0.8336980306345733, 0.838074398249453], 'eval_f1': [0.8150859075399342, 0.7725176840450616, 0.7712527056277056], 'g': [2, 4, 8]}\n",
      "### ### ### ### ### ### ### ### ### ### \n",
      "Grid search bert-base-uncased, learning rate 0.0001, focal loss gamma 16\n"
     ]
    },
    {
     "name": "stderr",
     "output_type": "stream",
     "text": [
      "Some weights of BertForSequenceClassification were not initialized from the model checkpoint at bert-base-uncased and are newly initialized: ['classifier.weight', 'classifier.bias']\n",
      "You should probably TRAIN this model on a down-stream task to be able to use it for predictions and inference.\n",
      "You're using a BertTokenizerFast tokenizer. Please note that with a fast tokenizer, using the `__call__` method is faster than using a method to encode the text followed by a call to the `pad` method to get a padded encoding.\n"
     ]
    },
    {
     "name": "stdout",
     "output_type": "stream",
     "text": [
      "1 / 30: Train Loss:\t0.0000\tVal Loss:\t0.6792\tAccuracy:\t0.6849\tF1:\t0.6594\n",
      "2 / 30: Train Loss:\t0.0000\tVal Loss:\t0.6638\tAccuracy:\t0.7921\tF1:\t0.7559\n",
      "3 / 30: Train Loss:\t0.0000\tVal Loss:\t0.6626\tAccuracy:\t0.6543\tF1:\t0.6447\n",
      "4 / 30: Train Loss:\t0.0000\tVal Loss:\t0.6501\tAccuracy:\t0.6937\tF1:\t0.6773\n",
      "5 / 30: Train Loss:\t0.0000\tVal Loss:\t0.6907\tAccuracy:\t0.5952\tF1:\t0.5881\n",
      "No improvement for 3 epochs. Stopping early.\n",
      "best (higgest macro f1-score) val results:\n",
      "              precision    recall  f1-score   support\n",
      "\n",
      "       bknow       0.57      0.78      0.66       119\n",
      "      struct       0.91      0.80      0.85       338\n",
      "\n",
      "    accuracy                           0.79       457\n",
      "   macro avg       0.74      0.79      0.76       457\n",
      "weighted avg       0.82      0.79      0.80       457\n",
      "\n",
      "test results:\n",
      "              precision    recall  f1-score   support\n",
      "\n",
      "       bknow       0.51      0.75      0.61        67\n",
      "      struct       0.89      0.75      0.81       189\n",
      "\n",
      "    accuracy                           0.75       256\n",
      "   macro avg       0.70      0.75      0.71       256\n",
      "weighted avg       0.79      0.75      0.76       256\n",
      "\n",
      "### ### ### ### ### ### ### ### ### ### \n",
      "{'test_acc': [0.8125, 0.8359375, 0.83984375, 0.74609375], 'test_f1': [0.7661210506280929, 0.7834877164720097, 0.7755682425642012, 0.7093703606671907], 'eval_acc': [0.8533916849015317, 0.8336980306345733, 0.838074398249453, 0.7921225382932167], 'eval_f1': [0.8150859075399342, 0.7725176840450616, 0.7712527056277056, 0.7559213596217527], 'g': [2, 4, 8, 16]}\n",
      "### ### ### ### ### ### ### ### ### ### \n"
     ]
    }
   ],
   "source": [
    "gamma = [2,4,8,16]\n",
    "lr = 1.0e-4\n",
    "\n",
    "for g in gamma:\n",
    "    print(f'Grid search {model_checkpoint}, learning rate {lr}, focal loss gamma {g}')\n",
    "    data = ClimateDataset(model_to_train=1,model_checkpoint=model_checkpoint,dataset_url=flicc_path,batch_size=32)\n",
    "    data.setup_dataloaders()\n",
    "    model = ClassificationModel(model_checkpoint=data.model_checkpoint,num_labels=data.num_labels)\n",
    "    trainer = Engine(epochs=30,labels=data.labels)\n",
    "    trainer.model = model.model\n",
    "    trainer.dataset_encoded = data.dataset_encoded\n",
    "    test_acc, test_f1, eval_acc, eval_f1 = trainer.run(lr=lr,\n",
    "                                                       wd=0.0,\n",
    "                                                       train_dataloader=data.train_dataloader,\n",
    "                                                       eval_dataloader=data.eval_dataloader,\n",
    "                                                       test_dataloader=data.test_dataloader,\n",
    "                                                       focalloss=True,\n",
    "                                                       gamma=g,\n",
    "                                                       early_stop=3)\n",
    "    results['test_acc'].append(test_acc)\n",
    "    results['test_f1'].append(test_f1)\n",
    "    results['eval_acc'].append(eval_acc)\n",
    "    results['eval_f1'].append(eval_f1)\n",
    "    results['g'].append(g)\n",
    "    print('### '*10)\n",
    "    print(results)\n",
    "    print('### '*10)\n",
    "    with torch.no_grad():\n",
    "        torch.cuda.empty_cache()\n",
    "    del data, model, trainer, test_acc, test_f1, eval_acc, eval_f1\n",
    "    gc.collect()"
   ]
  },
  {
   "cell_type": "code",
   "execution_count": 5,
   "metadata": {},
   "outputs": [
    {
     "data": {
      "image/png": "[encoded data removed]",
      "text/plain": [
       "<Figure size 640x480 with 1 Axes>"
      ]
     },
     "metadata": {},
     "output_type": "display_data"
    }
   ],
   "source": [
    "Engine.plot_grid_search(df=results,\n",
    "                        title=f'Focal loss, lr: {lr}, {model_checkpoint}',\n",
    "                        column='g',\n",
    "                        sci_format=False)"
   ]
  },
  {
   "cell_type": "code",
   "execution_count": 6,
   "metadata": {},
   "outputs": [],
   "source": [
    "%reset -f"
   ]
  }
 ],
 "metadata": {
  "kernelspec": {
   "display_name": "Python 3",
   "language": "python",
   "name": "python3"
  },
  "language_info": {
   "codemirror_mode": {
    "name": "ipython",
    "version": 3
   },
   "file_extension": ".py",
   "mimetype": "text/x-python",
   "name": "python",
   "nbconvert_exporter": "python",
   "pygments_lexer": "ipython3",
   "version": "3.11.5"
  },
  "orig_nbformat": 4
 },
 "nbformat": 4,
 "nbformat_minor": 2
}
