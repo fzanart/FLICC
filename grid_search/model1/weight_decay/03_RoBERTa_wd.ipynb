{
 "cells": [
  {
   "cell_type": "code",
   "execution_count": 1,
   "metadata": {},
   "outputs": [],
   "source": [
    "import torch\n",
    "from data import ClimateDataset\n",
    "from models import ClassificationModel\n",
    "from engine import Engine"
   ]
  },
  {
   "cell_type": "code",
   "execution_count": 2,
   "metadata": {},
   "outputs": [],
   "source": [
    "model_checkpoint='roberta-large'"
   ]
  },
  {
   "cell_type": "code",
   "execution_count": 3,
   "metadata": {},
   "outputs": [],
   "source": [
    "results = {'acc':[],\n",
    "           'f1':[],\n",
    "           'g':[],\n",
    "           'wd':[]}"
   ]
  },
  {
   "cell_type": "code",
   "execution_count": 4,
   "metadata": {},
   "outputs": [
    {
     "name": "stdout",
     "output_type": "stream",
     "text": [
      "Grid search roberta-large, lr: 1e-05 ,focal loss, gamma: 2\n"
     ]
    },
    {
     "data": {
      "application/vnd.jupyter.widget-view+json": {
       "model_id": "768598f5b5284a64a4ac41feb892d33e",
       "version_major": 2,
       "version_minor": 0
      },
      "text/plain": [
       "Downloading (…)lve/main/config.json:   0%|          | 0.00/482 [00:00<?, ?B/s]"
      ]
     },
     "metadata": {},
     "output_type": "display_data"
    },
    {
     "data": {
      "application/vnd.jupyter.widget-view+json": {
       "model_id": "afe7114794764ca1bfc3fce2d61da65d",
       "version_major": 2,
       "version_minor": 0
      },
      "text/plain": [
       "Downloading (…)olve/main/vocab.json:   0%|          | 0.00/899k [00:00<?, ?B/s]"
      ]
     },
     "metadata": {},
     "output_type": "display_data"
    },
    {
     "data": {
      "application/vnd.jupyter.widget-view+json": {
       "model_id": "2bf35420591f4012a81c21d4a293286a",
       "version_major": 2,
       "version_minor": 0
      },
      "text/plain": [
       "Downloading (…)olve/main/merges.txt:   0%|          | 0.00/456k [00:00<?, ?B/s]"
      ]
     },
     "metadata": {},
     "output_type": "display_data"
    },
    {
     "data": {
      "application/vnd.jupyter.widget-view+json": {
       "model_id": "75d2284f35b74dd7a0cab24cd97a19db",
       "version_major": 2,
       "version_minor": 0
      },
      "text/plain": [
       "Downloading (…)/main/tokenizer.json:   0%|          | 0.00/1.36M [00:00<?, ?B/s]"
      ]
     },
     "metadata": {},
     "output_type": "display_data"
    },
    {
     "data": {
      "application/vnd.jupyter.widget-view+json": {
       "model_id": "92aa140108bf4458a50d3127825248bc",
       "version_major": 2,
       "version_minor": 0
      },
      "text/plain": [
       "Map:   0%|          | 0/1796 [00:00<?, ? examples/s]"
      ]
     },
     "metadata": {},
     "output_type": "display_data"
    },
    {
     "data": {
      "application/vnd.jupyter.widget-view+json": {
       "model_id": "30bbc9d298394b1685f4ae6cee99be83",
       "version_major": 2,
       "version_minor": 0
      },
      "text/plain": [
       "Map:   0%|          | 0/256 [00:00<?, ? examples/s]"
      ]
     },
     "metadata": {},
     "output_type": "display_data"
    },
    {
     "data": {
      "application/vnd.jupyter.widget-view+json": {
       "model_id": "dd274f0735074aab9533cf226c5191bf",
       "version_major": 2,
       "version_minor": 0
      },
      "text/plain": [
       "Map:   0%|          | 0/457 [00:00<?, ? examples/s]"
      ]
     },
     "metadata": {},
     "output_type": "display_data"
    },
    {
     "data": {
      "application/vnd.jupyter.widget-view+json": {
       "model_id": "d851ab061e25476789c8e0360c7f563f",
       "version_major": 2,
       "version_minor": 0
      },
      "text/plain": [
       "Downloading model.safetensors:   0%|          | 0.00/1.42G [00:00<?, ?B/s]"
      ]
     },
     "metadata": {},
     "output_type": "display_data"
    },
    {
     "name": "stderr",
     "output_type": "stream",
     "text": [
      "Some weights of RobertaForSequenceClassification were not initialized from the model checkpoint at roberta-large and are newly initialized: ['classifier.dense.weight', 'classifier.out_proj.weight', 'classifier.dense.bias', 'classifier.out_proj.bias']\n",
      "You should probably TRAIN this model on a down-stream task to be able to use it for predictions and inference.\n",
      "You're using a RobertaTokenizerFast tokenizer. Please note that with a fast tokenizer, using the `__call__` method is faster than using a method to encode the text followed by a call to the `pad` method to get a padded encoding.\n"
     ]
    },
    {
     "name": "stdout",
     "output_type": "stream",
     "text": [
      "1 / 10: Train Loss:\t0.1740\tVal Loss:\t0.5718\tAccuracy:\t0.8228\tF1:\t0.7640\n",
      "2 / 10: Train Loss:\t0.1222\tVal Loss:\t0.5363\tAccuracy:\t0.7790\tF1:\t0.7515\n",
      "3 / 10: Train Loss:\t0.0814\tVal Loss:\t0.3781\tAccuracy:\t0.8271\tF1:\t0.7970\n",
      "4 / 10: Train Loss:\t0.0575\tVal Loss:\t0.3598\tAccuracy:\t0.8337\tF1:\t0.7994\n",
      "5 / 10: Train Loss:\t0.0323\tVal Loss:\t0.4431\tAccuracy:\t0.7987\tF1:\t0.7747\n",
      "6 / 10: Train Loss:\t0.0256\tVal Loss:\t0.4895\tAccuracy:\t0.7899\tF1:\t0.7664\n",
      "7 / 10: Train Loss:\t0.0179\tVal Loss:\t0.3341\tAccuracy:\t0.8687\tF1:\t0.8181\n",
      "8 / 10: Train Loss:\t0.0108\tVal Loss:\t0.3284\tAccuracy:\t0.8709\tF1:\t0.8206\n",
      "9 / 10: Train Loss:\t0.0135\tVal Loss:\t0.3381\tAccuracy:\t0.8621\tF1:\t0.8005\n",
      "10 / 10: Train Loss:\t0.0052\tVal Loss:\t0.3426\tAccuracy:\t0.8753\tF1:\t0.8310\n",
      "best (higgest macro f1-score) val results:\n",
      "              precision    recall  f1-score   support\n",
      "\n",
      "       bknow       0.80      0.70      0.74       119\n",
      "      struct       0.90      0.94      0.92       338\n",
      "\n",
      "    accuracy                           0.88       457\n",
      "   macro avg       0.85      0.82      0.83       457\n",
      "weighted avg       0.87      0.88      0.87       457\n",
      "\n",
      "test results:\n",
      "              precision    recall  f1-score   support\n",
      "\n",
      "       bknow       0.69      0.72      0.70        67\n",
      "      struct       0.90      0.88      0.89       189\n",
      "\n",
      "    accuracy                           0.84       256\n",
      "   macro avg       0.79      0.80      0.80       256\n",
      "weighted avg       0.84      0.84      0.84       256\n",
      "\n",
      "### ### ### ### ### ### ### ### ### ### \n",
      "{'acc': [0.83984375], 'f1': [0.795698296836983], 'g': [2], 'wd': [0.01]}\n",
      "### ### ### ### ### ### ### ### ### ### \n"
     ]
    }
   ],
   "source": [
    "lr = 1.0e-5\n",
    "gamma = 2\n",
    "wd = 0.01\n",
    "\n",
    "print(f'Grid search {model_checkpoint}, lr: {lr} ,focal loss, gamma: {gamma}')\n",
    "data = ClimateDataset(model_to_train=1,model_checkpoint=model_checkpoint,batch_size=16)\n",
    "data.setup_dataloaders()\n",
    "model = ClassificationModel(model_checkpoint=data.model_checkpoint,num_labels=data.num_labels)\n",
    "trainer = Engine(epochs=10,labels=data.labels)\n",
    "trainer.model = model.model\n",
    "trainer.dataset_encoded = data.dataset_encoded\n",
    "acc, f1 = trainer.run(lr=lr,\n",
    "                        wd=wd,\n",
    "                        train_dataloader=data.train_dataloader,\n",
    "                        eval_dataloader=data.eval_dataloader,\n",
    "                        test_dataloader=data.test_dataloader,\n",
    "                        focalloss=True,\n",
    "                        early_stop=3,\n",
    "                        accumulation_steps=2,\n",
    "                        gamma=gamma)\n",
    "results['acc'].append(acc)\n",
    "results['f1'].append(f1)\n",
    "results['g'].append(gamma)\n",
    "results['wd'].append(wd)\n",
    "print('### '*10)\n",
    "print(results)\n",
    "print('### '*10)"
   ]
  }
 ],
 "metadata": {
  "kernelspec": {
   "display_name": "Python 3",
   "language": "python",
   "name": "python3"
  },
  "language_info": {
   "codemirror_mode": {
    "name": "ipython",
    "version": 3
   },
   "file_extension": ".py",
   "mimetype": "text/x-python",
   "name": "python",
   "nbconvert_exporter": "python",
   "pygments_lexer": "ipython3",
   "version": "3.11.5"
  },
  "orig_nbformat": 4
 },
 "nbformat": 4,
 "nbformat_minor": 2
}
