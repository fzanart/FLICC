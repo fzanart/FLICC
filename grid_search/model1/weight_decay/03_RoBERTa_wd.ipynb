{
 "cells": [
  {
   "cell_type": "code",
   "execution_count": 1,
   "metadata": {},
   "outputs": [],
   "source": [
    "import os\n",
    "import sys\n",
    "import gc\n",
    "# assuming data, models, engine in flicc directory:\n",
    "flicc_path = os.path.realpath(\"__file__\").split('grid_search')[0]\n",
    "sys.path.append(flicc_path)\n",
    "import torch\n",
    "from data import ClimateDataset\n",
    "from models import ClassificationModel\n",
    "from engine import Engine"
   ]
  },
  {
   "cell_type": "code",
   "execution_count": 2,
   "metadata": {},
   "outputs": [],
   "source": [
    "model_checkpoint='roberta-large'"
   ]
  },
  {
   "cell_type": "code",
   "execution_count": 3,
   "metadata": {},
   "outputs": [],
   "source": [
    "results = {'test_acc':[],\n",
    "           'test_f1':[],\n",
    "           'eval_acc':[],\n",
    "           'eval_f1':[],\n",
    "           'wd':[]}"
   ]
  },
  {
   "cell_type": "code",
   "execution_count": 4,
   "metadata": {},
   "outputs": [
    {
     "name": "stdout",
     "output_type": "stream",
     "text": [
      "Grid search roberta-large, learning rate 1e-05, focal loss gamma 4, weight decay 0.1\n"
     ]
    },
    {
     "name": "stderr",
     "output_type": "stream",
     "text": [
      "Some weights of RobertaForSequenceClassification were not initialized from the model checkpoint at roberta-large and are newly initialized: ['classifier.dense.bias', 'classifier.out_proj.weight', 'classifier.out_proj.bias', 'classifier.dense.weight']\n",
      "You should probably TRAIN this model on a down-stream task to be able to use it for predictions and inference.\n",
      "You're using a RobertaTokenizerFast tokenizer. Please note that with a fast tokenizer, using the `__call__` method is faster than using a method to encode the text followed by a call to the `pad` method to get a padded encoding.\n"
     ]
    },
    {
     "name": "stdout",
     "output_type": "stream",
     "text": [
      "1 / 30: Train Loss:\t0.0481\tVal Loss:\t0.6484\tAccuracy:\t0.7834\tF1:\t0.7180\n",
      "2 / 30: Train Loss:\t0.0359\tVal Loss:\t0.6188\tAccuracy:\t0.7352\tF1:\t0.7119\n",
      "3 / 30: Train Loss:\t0.0274\tVal Loss:\t0.5241\tAccuracy:\t0.7790\tF1:\t0.7539\n",
      "4 / 30: Train Loss:\t0.0227\tVal Loss:\t0.4997\tAccuracy:\t0.8621\tF1:\t0.8234\n",
      "5 / 30: Train Loss:\t0.0136\tVal Loss:\t0.3947\tAccuracy:\t0.8512\tF1:\t0.8099\n",
      "6 / 30: Train Loss:\t0.0107\tVal Loss:\t0.4123\tAccuracy:\t0.8446\tF1:\t0.8105\n",
      "7 / 30: Train Loss:\t0.0103\tVal Loss:\t0.3486\tAccuracy:\t0.8665\tF1:\t0.8357\n",
      "8 / 30: Train Loss:\t0.0081\tVal Loss:\t0.4356\tAccuracy:\t0.8053\tF1:\t0.7803\n",
      "9 / 30: Train Loss:\t0.0077\tVal Loss:\t0.3800\tAccuracy:\t0.8818\tF1:\t0.8483\n",
      "10 / 30: Train Loss:\t0.0087\tVal Loss:\t0.3979\tAccuracy:\t0.8950\tF1:\t0.8598\n",
      "11 / 30: Train Loss:\t0.0078\tVal Loss:\t0.3042\tAccuracy:\t0.8753\tF1:\t0.8376\n",
      "12 / 30: Train Loss:\t0.0075\tVal Loss:\t0.3063\tAccuracy:\t0.8775\tF1:\t0.8324\n",
      "13 / 30: Train Loss:\t0.0015\tVal Loss:\t0.2971\tAccuracy:\t0.8709\tF1:\t0.8271\n",
      "No improvement for 3 epochs. Stopping early.\n",
      "best (higgest macro f1-score) val results:\n",
      "              precision    recall  f1-score   support\n",
      "\n",
      "       bknow       0.83      0.76      0.79       119\n",
      "      struct       0.92      0.94      0.93       338\n",
      "\n",
      "    accuracy                           0.89       457\n",
      "   macro avg       0.87      0.85      0.86       457\n",
      "weighted avg       0.89      0.89      0.89       457\n",
      "\n",
      "test results:\n",
      "              precision    recall  f1-score   support\n",
      "\n",
      "       bknow       0.68      0.69      0.68        67\n",
      "      struct       0.89      0.88      0.89       189\n",
      "\n",
      "    accuracy                           0.83       256\n",
      "   macro avg       0.78      0.79      0.78       256\n",
      "weighted avg       0.83      0.83      0.83       256\n",
      "\n",
      "### ### ### ### ### ### ### ### ### ### \n",
      "{'test_acc': [0.83203125], 'test_f1': [0.7837115630219078], 'eval_acc': [0.8949671772428884], 'eval_f1': [0.8597514193647384], 'wd': [0.1]}\n",
      "### ### ### ### ### ### ### ### ### ### \n",
      "Grid search roberta-large, learning rate 1e-05, focal loss gamma 4, weight decay 0.01\n"
     ]
    },
    {
     "name": "stderr",
     "output_type": "stream",
     "text": [
      "Some weights of RobertaForSequenceClassification were not initialized from the model checkpoint at roberta-large and are newly initialized: ['classifier.dense.bias', 'classifier.out_proj.weight', 'classifier.out_proj.bias', 'classifier.dense.weight']\n",
      "You should probably TRAIN this model on a down-stream task to be able to use it for predictions and inference.\n",
      "You're using a RobertaTokenizerFast tokenizer. Please note that with a fast tokenizer, using the `__call__` method is faster than using a method to encode the text followed by a call to the `pad` method to get a padded encoding.\n"
     ]
    },
    {
     "name": "stdout",
     "output_type": "stream",
     "text": [
      "1 / 30: Train Loss:\t0.0480\tVal Loss:\t0.6413\tAccuracy:\t0.7943\tF1:\t0.7285\n",
      "2 / 30: Train Loss:\t0.0364\tVal Loss:\t0.6047\tAccuracy:\t0.7987\tF1:\t0.7693\n",
      "3 / 30: Train Loss:\t0.0278\tVal Loss:\t0.5171\tAccuracy:\t0.8140\tF1:\t0.7780\n",
      "4 / 30: Train Loss:\t0.0196\tVal Loss:\t0.4304\tAccuracy:\t0.8709\tF1:\t0.8206\n",
      "5 / 30: Train Loss:\t0.0146\tVal Loss:\t0.4108\tAccuracy:\t0.8271\tF1:\t0.7079\n",
      "6 / 30: Train Loss:\t0.0194\tVal Loss:\t0.4647\tAccuracy:\t0.8162\tF1:\t0.7863\n",
      "7 / 30: Train Loss:\t0.0091\tVal Loss:\t0.3576\tAccuracy:\t0.8753\tF1:\t0.8310\n",
      "8 / 30: Train Loss:\t0.0045\tVal Loss:\t0.3231\tAccuracy:\t0.8818\tF1:\t0.8466\n",
      "9 / 30: Train Loss:\t0.0018\tVal Loss:\t0.3159\tAccuracy:\t0.8687\tF1:\t0.8247\n",
      "10 / 30: Train Loss:\t0.0138\tVal Loss:\t0.3888\tAccuracy:\t0.8512\tF1:\t0.8155\n",
      "11 / 30: Train Loss:\t0.0051\tVal Loss:\t0.3033\tAccuracy:\t0.8796\tF1:\t0.8398\n",
      "No improvement for 3 epochs. Stopping early.\n",
      "best (higgest macro f1-score) val results:\n",
      "              precision    recall  f1-score   support\n",
      "\n",
      "       bknow       0.77      0.77      0.77       119\n",
      "      struct       0.92      0.92      0.92       338\n",
      "\n",
      "    accuracy                           0.88       457\n",
      "   macro avg       0.85      0.85      0.85       457\n",
      "weighted avg       0.88      0.88      0.88       457\n",
      "\n",
      "test results:\n",
      "              precision    recall  f1-score   support\n",
      "\n",
      "       bknow       0.66      0.72      0.69        67\n",
      "      struct       0.90      0.87      0.88       189\n",
      "\n",
      "    accuracy                           0.83       256\n",
      "   macro avg       0.78      0.79      0.78       256\n",
      "weighted avg       0.83      0.83      0.83       256\n",
      "\n",
      "### ### ### ### ### ### ### ### ### ### \n",
      "{'test_acc': [0.83203125, 0.828125], 'test_f1': [0.7837115630219078, 0.7837173579109062], 'eval_acc': [0.8949671772428884, 0.8818380743982495], 'eval_f1': [0.8597514193647384, 0.8466137934463727], 'wd': [0.1, 0.01]}\n",
      "### ### ### ### ### ### ### ### ### ### \n"
     ]
    }
   ],
   "source": [
    "g = 4\n",
    "lr = 1.0e-5\n",
    "weight_decay = [0.1, 0.01]\n",
    "\n",
    "for wd in weight_decay:\n",
    "    print(f'Grid search {model_checkpoint}, learning rate {lr}, focal loss gamma {g}, weight decay {wd}')\n",
    "    data = ClimateDataset(model_to_train=1,model_checkpoint=model_checkpoint,dataset_url=flicc_path,batch_size=16)\n",
    "    data.setup_dataloaders()\n",
    "    model = ClassificationModel(model_checkpoint=data.model_checkpoint,num_labels=data.num_labels)\n",
    "    trainer = Engine(epochs=30,labels=data.labels)\n",
    "    trainer.model = model.model\n",
    "    trainer.dataset_encoded = data.dataset_encoded\n",
    "    test_acc, test_f1, eval_acc, eval_f1 = trainer.run(lr=lr,\n",
    "                                                       wd=wd,\n",
    "                                                       train_dataloader=data.train_dataloader,\n",
    "                                                       eval_dataloader=data.eval_dataloader,\n",
    "                                                       test_dataloader=data.test_dataloader,\n",
    "                                                       accumulation_steps=2,\n",
    "                                                       focalloss=True,\n",
    "                                                       gamma=g,\n",
    "                                                       early_stop=3)\n",
    "    results['test_acc'].append(test_acc)\n",
    "    results['test_f1'].append(test_f1)\n",
    "    results['eval_acc'].append(eval_acc)\n",
    "    results['eval_f1'].append(eval_f1)\n",
    "    results['wd'].append(wd)\n",
    "    print('### '*10)\n",
    "    print(results)\n",
    "    print('### '*10)\n",
    "    with torch.no_grad():\n",
    "        torch.cuda.empty_cache()\n",
    "    del data, model, trainer, test_acc, test_f1, eval_acc, eval_f1\n",
    "    gc.collect()"
   ]
  },
  {
   "cell_type": "code",
   "execution_count": 5,
   "metadata": {},
   "outputs": [
    {
     "data": {
      "image/png": "[encoded data removed]",
      "text/plain": [
       "<Figure size 640x480 with 1 Axes>"
      ]
     },
     "metadata": {},
     "output_type": "display_data"
    }
   ],
   "source": [
    "Engine.plot_grid_search(df=results,\n",
    "                        title=f'Weight decay, lr: {lr}, focal loss gamma {g} {model_checkpoint}',\n",
    "                        column='wd',\n",
    "                        sci_format=True)"
   ]
  },
  {
   "cell_type": "code",
   "execution_count": 6,
   "metadata": {},
   "outputs": [],
   "source": [
    "%reset -f"
   ]
  }
 ],
 "metadata": {
  "kernelspec": {
   "display_name": "Python 3",
   "language": "python",
   "name": "python3"
  },
  "language_info": {
   "codemirror_mode": {
    "name": "ipython",
    "version": 3
   },
   "file_extension": ".py",
   "mimetype": "text/x-python",
   "name": "python",
   "nbconvert_exporter": "python",
   "pygments_lexer": "ipython3",
   "version": "3.11.5"
  },
  "orig_nbformat": 4
 },
 "nbformat": 4,
 "nbformat_minor": 2
}
