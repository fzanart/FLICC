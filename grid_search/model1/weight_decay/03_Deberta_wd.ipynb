{
 "cells": [
  {
   "cell_type": "code",
   "execution_count": 1,
   "metadata": {},
   "outputs": [],
   "source": [
    "import os\n",
    "import sys\n",
    "import gc\n",
    "# assuming data, models, engine in flicc directory:\n",
    "flicc_path = os.path.realpath(\"__file__\").split('grid_search')[0]\n",
    "sys.path.append(flicc_path)\n",
    "import torch\n",
    "from data import ClimateDataset\n",
    "from models import ClassificationModel\n",
    "from engine import Engine"
   ]
  },
  {
   "cell_type": "code",
   "execution_count": 2,
   "metadata": {},
   "outputs": [],
   "source": [
    "model_checkpoint='microsoft/deberta-base'"
   ]
  },
  {
   "cell_type": "code",
   "execution_count": 3,
   "metadata": {},
   "outputs": [],
   "source": [
    "results = {'test_acc':[],\n",
    "           'test_f1':[],\n",
    "           'eval_acc':[],\n",
    "           'eval_f1':[],\n",
    "           'wd':[]}"
   ]
  },
  {
   "cell_type": "code",
   "execution_count": 4,
   "metadata": {},
   "outputs": [
    {
     "name": "stdout",
     "output_type": "stream",
     "text": [
      "Grid search microsoft/deberta-base, learning rate 1e-05, focal loss gamma 4, weight decay 0.1\n"
     ]
    },
    {
     "name": "stderr",
     "output_type": "stream",
     "text": [
      "Some weights of DebertaForSequenceClassification were not initialized from the model checkpoint at microsoft/deberta-base and are newly initialized: ['pooler.dense.bias', 'classifier.weight', 'pooler.dense.weight', 'classifier.bias']\n",
      "You should probably TRAIN this model on a down-stream task to be able to use it for predictions and inference.\n",
      "You're using a DebertaTokenizerFast tokenizer. Please note that with a fast tokenizer, using the `__call__` method is faster than using a method to encode the text followed by a call to the `pad` method to get a padded encoding.\n"
     ]
    },
    {
     "name": "stdout",
     "output_type": "stream",
     "text": [
      "1 / 30: Train Loss:\t0.0873\tVal Loss:\t0.7006\tAccuracy:\t0.2691\tF1:\t0.2197\n",
      "2 / 30: Train Loss:\t0.0834\tVal Loss:\t0.6771\tAccuracy:\t0.7834\tF1:\t0.6724\n",
      "3 / 30: Train Loss:\t0.0760\tVal Loss:\t0.6419\tAccuracy:\t0.7484\tF1:\t0.7142\n",
      "4 / 30: Train Loss:\t0.0638\tVal Loss:\t0.6652\tAccuracy:\t0.5230\tF1:\t0.5220\n",
      "5 / 30: Train Loss:\t0.0576\tVal Loss:\t0.5410\tAccuracy:\t0.7899\tF1:\t0.7455\n",
      "6 / 30: Train Loss:\t0.0464\tVal Loss:\t0.4978\tAccuracy:\t0.8425\tF1:\t0.7831\n",
      "7 / 30: Train Loss:\t0.0377\tVal Loss:\t0.4699\tAccuracy:\t0.7987\tF1:\t0.7612\n",
      "8 / 30: Train Loss:\t0.0259\tVal Loss:\t0.5469\tAccuracy:\t0.7024\tF1:\t0.6845\n",
      "9 / 30: Train Loss:\t0.0229\tVal Loss:\t0.4682\tAccuracy:\t0.7856\tF1:\t0.7516\n",
      "No improvement for 3 epochs. Stopping early.\n",
      "best (higgest macro f1-score) val results:\n",
      "              precision    recall  f1-score   support\n",
      "\n",
      "       bknow       0.74      0.61      0.67       119\n",
      "      struct       0.87      0.92      0.90       338\n",
      "\n",
      "    accuracy                           0.84       457\n",
      "   macro avg       0.80      0.77      0.78       457\n",
      "weighted avg       0.84      0.84      0.84       457\n",
      "\n",
      "test results:\n",
      "              precision    recall  f1-score   support\n",
      "\n",
      "       bknow       0.61      0.52      0.56        67\n",
      "      struct       0.84      0.88      0.86       189\n",
      "\n",
      "    accuracy                           0.79       256\n",
      "   macro avg       0.73      0.70      0.71       256\n",
      "weighted avg       0.78      0.79      0.78       256\n",
      "\n",
      "### ### ### ### ### ### ### ### ### ### \n",
      "{'test_acc': [0.7890625], 'test_f1': [0.7126704356501496], 'eval_acc': [0.8424507658643327], 'eval_f1': [0.7831382473900664], 'wd': [0.1]}\n",
      "### ### ### ### ### ### ### ### ### ### \n",
      "Grid search microsoft/deberta-base, learning rate 1e-05, focal loss gamma 4, weight decay 0.01\n"
     ]
    },
    {
     "name": "stderr",
     "output_type": "stream",
     "text": [
      "Some weights of DebertaForSequenceClassification were not initialized from the model checkpoint at microsoft/deberta-base and are newly initialized: ['pooler.dense.bias', 'classifier.weight', 'pooler.dense.weight', 'classifier.bias']\n",
      "You should probably TRAIN this model on a down-stream task to be able to use it for predictions and inference.\n",
      "You're using a DebertaTokenizerFast tokenizer. Please note that with a fast tokenizer, using the `__call__` method is faster than using a method to encode the text followed by a call to the `pad` method to get a padded encoding.\n"
     ]
    },
    {
     "name": "stdout",
     "output_type": "stream",
     "text": [
      "1 / 30: Train Loss:\t0.0873\tVal Loss:\t0.7005\tAccuracy:\t0.2691\tF1:\t0.2197\n",
      "2 / 30: Train Loss:\t0.0811\tVal Loss:\t0.6576\tAccuracy:\t0.7068\tF1:\t0.6847\n",
      "3 / 30: Train Loss:\t0.0750\tVal Loss:\t0.6561\tAccuracy:\t0.7593\tF1:\t0.7168\n",
      "4 / 30: Train Loss:\t0.0701\tVal Loss:\t0.6289\tAccuracy:\t0.7921\tF1:\t0.7232\n",
      "5 / 30: Train Loss:\t0.0607\tVal Loss:\t0.6246\tAccuracy:\t0.8031\tF1:\t0.7624\n",
      "6 / 30: Train Loss:\t0.0543\tVal Loss:\t0.5890\tAccuracy:\t0.7068\tF1:\t0.6884\n",
      "7 / 30: Train Loss:\t0.0397\tVal Loss:\t0.5130\tAccuracy:\t0.7724\tF1:\t0.7428\n",
      "8 / 30: Train Loss:\t0.0326\tVal Loss:\t0.5219\tAccuracy:\t0.7046\tF1:\t0.6843\n",
      "No improvement for 3 epochs. Stopping early.\n",
      "best (higgest macro f1-score) val results:\n",
      "              precision    recall  f1-score   support\n",
      "\n",
      "       bknow       0.60      0.75      0.66       119\n",
      "      struct       0.90      0.82      0.86       338\n",
      "\n",
      "    accuracy                           0.80       457\n",
      "   macro avg       0.75      0.79      0.76       457\n",
      "weighted avg       0.82      0.80      0.81       457\n",
      "\n",
      "test results:\n",
      "              precision    recall  f1-score   support\n",
      "\n",
      "       bknow       0.52      0.69      0.59        67\n",
      "      struct       0.87      0.77      0.82       189\n",
      "\n",
      "    accuracy                           0.75       256\n",
      "   macro avg       0.70      0.73      0.70       256\n",
      "weighted avg       0.78      0.75      0.76       256\n",
      "\n",
      "### ### ### ### ### ### ### ### ### ### \n",
      "{'test_acc': [0.7890625, 0.75], 'test_f1': [0.7126704356501496, 0.7049841544223566], 'eval_acc': [0.8424507658643327, 0.8030634573304157], 'eval_f1': [0.7831382473900664, 0.7624301095143478], 'wd': [0.1, 0.01]}\n",
      "### ### ### ### ### ### ### ### ### ### \n"
     ]
    }
   ],
   "source": [
    "g = 4\n",
    "lr = 1.0e-5\n",
    "weight_decay = [0.1, 0.01]\n",
    "\n",
    "for wd in weight_decay:\n",
    "    print(f'Grid search {model_checkpoint}, learning rate {lr}, focal loss gamma {g}, weight decay {wd}')\n",
    "    data = ClimateDataset(model_to_train=1,model_checkpoint=model_checkpoint,dataset_url=flicc_path,batch_size=32)\n",
    "    data.setup_dataloaders()\n",
    "    model = ClassificationModel(model_checkpoint=data.model_checkpoint,num_labels=data.num_labels)\n",
    "    trainer = Engine(epochs=30,labels=data.labels)\n",
    "    trainer.model = model.model\n",
    "    trainer.dataset_encoded = data.dataset_encoded\n",
    "    test_acc, test_f1, eval_acc, eval_f1 = trainer.run(lr=lr,\n",
    "                                                       wd=wd,\n",
    "                                                       train_dataloader=data.train_dataloader,\n",
    "                                                       eval_dataloader=data.eval_dataloader,\n",
    "                                                       test_dataloader=data.test_dataloader,\n",
    "                                                       focalloss=True,\n",
    "                                                       gamma=g,\n",
    "                                                       early_stop=3)\n",
    "    results['test_acc'].append(test_acc)\n",
    "    results['test_f1'].append(test_f1)\n",
    "    results['eval_acc'].append(eval_acc)\n",
    "    results['eval_f1'].append(eval_f1)\n",
    "    results['wd'].append(wd)\n",
    "    print('### '*10)\n",
    "    print(results)\n",
    "    print('### '*10)\n",
    "    with torch.no_grad():\n",
    "        torch.cuda.empty_cache()\n",
    "    del data, model, trainer, test_acc, test_f1, eval_acc, eval_f1\n",
    "    gc.collect()"
   ]
  },
  {
   "cell_type": "code",
   "execution_count": 5,
   "metadata": {},
   "outputs": [
    {
     "data": {
      "image/png": "[encoded data removed]",
      "text/plain": [
       "<Figure size 640x480 with 1 Axes>"
      ]
     },
     "metadata": {},
     "output_type": "display_data"
    }
   ],
   "source": [
    "Engine.plot_grid_search(df=results,\n",
    "                        title=f'Weight decay, lr: {lr}, focal loss gamma {g} {model_checkpoint}',\n",
    "                        column='wd',\n",
    "                        sci_format=True)"
   ]
  },
  {
   "cell_type": "code",
   "execution_count": 6,
   "metadata": {},
   "outputs": [],
   "source": [
    "%reset -f"
   ]
  }
 ],
 "metadata": {
  "kernelspec": {
   "display_name": "Python 3",
   "language": "python",
   "name": "python3"
  },
  "language_info": {
   "codemirror_mode": {
    "name": "ipython",
    "version": 3
   },
   "file_extension": ".py",
   "mimetype": "text/x-python",
   "name": "python",
   "nbconvert_exporter": "python",
   "pygments_lexer": "ipython3",
   "version": "3.11.5"
  },
  "orig_nbformat": 4
 },
 "nbformat": 4,
 "nbformat_minor": 2
}
