{
 "cells": [
  {
   "cell_type": "code",
   "execution_count": 1,
   "metadata": {},
   "outputs": [],
   "source": [
    "import torch\n",
    "from data import ClimateDataset\n",
    "from models import ClassificationModel\n",
    "from engine import Engine"
   ]
  },
  {
   "cell_type": "code",
   "execution_count": 2,
   "metadata": {},
   "outputs": [],
   "source": [
    "model_checkpoint='microsoft/deberta-base'"
   ]
  },
  {
   "cell_type": "code",
   "execution_count": 3,
   "metadata": {},
   "outputs": [],
   "source": [
    "results = {'acc':[],\n",
    "           'f1':[],\n",
    "           'wd':[]}"
   ]
  },
  {
   "cell_type": "code",
   "execution_count": 4,
   "metadata": {},
   "outputs": [
    {
     "name": "stdout",
     "output_type": "stream",
     "text": [
      "Grid search microsoft/deberta-base, lr: 1e-05\n"
     ]
    },
    {
     "name": "stderr",
     "output_type": "stream",
     "text": [
      "Some weights of DebertaForSequenceClassification were not initialized from the model checkpoint at microsoft/deberta-base and are newly initialized: ['pooler.dense.weight', 'classifier.bias', 'classifier.weight', 'pooler.dense.bias']\n",
      "You should probably TRAIN this model on a down-stream task to be able to use it for predictions and inference.\n",
      "You're using a DebertaTokenizerFast tokenizer. Please note that with a fast tokenizer, using the `__call__` method is faster than using a method to encode the text followed by a call to the `pad` method to get a padded encoding.\n"
     ]
    },
    {
     "name": "stdout",
     "output_type": "stream",
     "text": [
      "1 / 10: Train Loss:\t0.5518\tVal Loss:\t0.4740\tAccuracy:\t0.7856\tF1:\t0.6638\n",
      "2 / 10: Train Loss:\t0.4235\tVal Loss:\t0.3983\tAccuracy:\t0.8249\tF1:\t0.7209\n",
      "3 / 10: Train Loss:\t0.3025\tVal Loss:\t0.3815\tAccuracy:\t0.8556\tF1:\t0.7903\n",
      "4 / 10: Train Loss:\t0.1828\tVal Loss:\t0.4041\tAccuracy:\t0.8643\tF1:\t0.8030\n",
      "5 / 10: Train Loss:\t0.1163\tVal Loss:\t0.4796\tAccuracy:\t0.8600\tF1:\t0.8060\n",
      "6 / 10: Train Loss:\t0.0896\tVal Loss:\t0.6837\tAccuracy:\t0.7965\tF1:\t0.7697\n",
      "7 / 10: Train Loss:\t0.0885\tVal Loss:\t0.5895\tAccuracy:\t0.8162\tF1:\t0.7829\n",
      "8 / 10: Train Loss:\t0.0499\tVal Loss:\t0.5293\tAccuracy:\t0.8403\tF1:\t0.7921\n",
      "No improvement for 3 epochs. Stopping early.\n",
      "best (higgest macro f1-score) val results:\n",
      "              precision    recall  f1-score   support\n",
      "\n",
      "       bknow       0.69      0.69      0.69       119\n",
      "      struct       0.89      0.89      0.89       338\n",
      "\n",
      "    accuracy                           0.84       457\n",
      "   macro avg       0.79      0.79      0.79       457\n",
      "weighted avg       0.84      0.84      0.84       457\n",
      "\n",
      "test results:\n",
      "              precision    recall  f1-score   support\n",
      "\n",
      "       bknow       0.66      0.63      0.64        67\n",
      "      struct       0.87      0.88      0.88       189\n",
      "\n",
      "    accuracy                           0.82       256\n",
      "   macro avg       0.76      0.76      0.76       256\n",
      "weighted avg       0.81      0.82      0.82       256\n",
      "\n",
      "### ### ### ### ### ### ### ### ### ### \n",
      "{'acc': [0.81640625], 'f1': [0.7589308969966541], 'wd': [0.01]}\n",
      "### ### ### ### ### ### ### ### ### ### \n"
     ]
    }
   ],
   "source": [
    "lr = 1.0e-5\n",
    "wd = 0.01\n",
    "\n",
    "print(f'Grid search {model_checkpoint}, lr: {lr}')\n",
    "data = ClimateDataset(model_to_train=1,model_checkpoint=model_checkpoint,batch_size=32)\n",
    "data.setup_dataloaders()\n",
    "model = ClassificationModel(model_checkpoint=data.model_checkpoint,num_labels=data.num_labels)\n",
    "trainer = Engine(epochs=10,labels=data.labels)\n",
    "trainer.model = model.model\n",
    "trainer.dataset_encoded = data.dataset_encoded\n",
    "acc, f1 = trainer.run(lr=lr,\n",
    "                        wd=wd,\n",
    "                        train_dataloader=data.train_dataloader,\n",
    "                        eval_dataloader=data.eval_dataloader,\n",
    "                        test_dataloader=data.test_dataloader,\n",
    "                        early_stop=3)\n",
    "results['acc'].append(acc)\n",
    "results['f1'].append(f1)\n",
    "results['wd'].append(wd)\n",
    "print('### '*10)\n",
    "print(results)\n",
    "print('### '*10)"
   ]
  }
 ],
 "metadata": {
  "kernelspec": {
   "display_name": "Python 3",
   "language": "python",
   "name": "python3"
  },
  "language_info": {
   "codemirror_mode": {
    "name": "ipython",
    "version": 3
   },
   "file_extension": ".py",
   "mimetype": "text/x-python",
   "name": "python",
   "nbconvert_exporter": "python",
   "pygments_lexer": "ipython3",
   "version": "3.11.5"
  },
  "orig_nbformat": 4
 },
 "nbformat": 4,
 "nbformat_minor": 2
}
