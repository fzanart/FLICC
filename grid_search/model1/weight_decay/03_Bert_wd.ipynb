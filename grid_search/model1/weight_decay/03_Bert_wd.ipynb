{
 "cells": [
  {
   "cell_type": "code",
   "execution_count": 1,
   "metadata": {},
   "outputs": [],
   "source": [
    "import os\n",
    "import sys\n",
    "import gc\n",
    "# assuming data, models, engine in flicc directory:\n",
    "flicc_path = os.path.realpath(\"__file__\").split('grid_search')[0]\n",
    "sys.path.append(flicc_path)\n",
    "import torch\n",
    "from data import ClimateDataset\n",
    "from models import ClassificationModel\n",
    "from engine import Engine"
   ]
  },
  {
   "cell_type": "code",
   "execution_count": 2,
   "metadata": {},
   "outputs": [],
   "source": [
    "model_checkpoint='bert-base-uncased'"
   ]
  },
  {
   "cell_type": "code",
   "execution_count": 3,
   "metadata": {},
   "outputs": [],
   "source": [
    "results = {'test_acc':[],\n",
    "           'test_f1':[],\n",
    "           'eval_acc':[],\n",
    "           'eval_f1':[],\n",
    "           'wd':[]}"
   ]
  },
  {
   "cell_type": "code",
   "execution_count": 4,
   "metadata": {},
   "outputs": [
    {
     "name": "stdout",
     "output_type": "stream",
     "text": [
      "Grid search bert-base-uncased, learning rate 0.0001, focal loss gamma 4, weight decay 0.1\n"
     ]
    },
    {
     "name": "stderr",
     "output_type": "stream",
     "text": [
      "Some weights of BertForSequenceClassification were not initialized from the model checkpoint at bert-base-uncased and are newly initialized: ['classifier.bias', 'classifier.weight']\n",
      "You should probably TRAIN this model on a down-stream task to be able to use it for predictions and inference.\n",
      "You're using a BertTokenizerFast tokenizer. Please note that with a fast tokenizer, using the `__call__` method is faster than using a method to encode the text followed by a call to the `pad` method to get a padded encoding.\n"
     ]
    },
    {
     "name": "stdout",
     "output_type": "stream",
     "text": [
      "1 / 30: Train Loss:\t0.0853\tVal Loss:\t0.6082\tAccuracy:\t0.7484\tF1:\t0.7161\n",
      "2 / 30: Train Loss:\t0.0600\tVal Loss:\t0.4755\tAccuracy:\t0.8359\tF1:\t0.7608\n",
      "3 / 30: Train Loss:\t0.0449\tVal Loss:\t0.4224\tAccuracy:\t0.8206\tF1:\t0.7645\n",
      "4 / 30: Train Loss:\t0.0340\tVal Loss:\t0.5048\tAccuracy:\t0.8578\tF1:\t0.8023\n",
      "5 / 30: Train Loss:\t0.0190\tVal Loss:\t0.5972\tAccuracy:\t0.6433\tF1:\t0.6309\n",
      "6 / 30: Train Loss:\t0.0140\tVal Loss:\t0.4132\tAccuracy:\t0.8249\tF1:\t0.7740\n",
      "7 / 30: Train Loss:\t0.0138\tVal Loss:\t0.4277\tAccuracy:\t0.8118\tF1:\t0.7324\n",
      "No improvement for 3 epochs. Stopping early.\n",
      "best (higgest macro f1-score) val results:\n",
      "              precision    recall  f1-score   support\n",
      "\n",
      "       bknow       0.78      0.63      0.70       119\n",
      "      struct       0.88      0.94      0.91       338\n",
      "\n",
      "    accuracy                           0.86       457\n",
      "   macro avg       0.83      0.78      0.80       457\n",
      "weighted avg       0.85      0.86      0.85       457\n",
      "\n",
      "test results:\n",
      "              precision    recall  f1-score   support\n",
      "\n",
      "       bknow       0.77      0.66      0.71        67\n",
      "      struct       0.88      0.93      0.91       189\n",
      "\n",
      "    accuracy                           0.86       256\n",
      "   macro avg       0.83      0.79      0.81       256\n",
      "weighted avg       0.85      0.86      0.86       256\n",
      "\n",
      "### ### ### ### ### ### ### ### ### ### \n",
      "{'test_acc': [0.859375], 'test_f1': [0.8084469571000998], 'eval_acc': [0.8577680525164114], 'eval_f1': [0.8023422164554015], 'wd': [0.1]}\n",
      "### ### ### ### ### ### ### ### ### ### \n",
      "Grid search bert-base-uncased, learning rate 0.0001, focal loss gamma 4, weight decay 0.01\n"
     ]
    },
    {
     "name": "stderr",
     "output_type": "stream",
     "text": [
      "Some weights of BertForSequenceClassification were not initialized from the model checkpoint at bert-base-uncased and are newly initialized: ['classifier.bias', 'classifier.weight']\n",
      "You should probably TRAIN this model on a down-stream task to be able to use it for predictions and inference.\n",
      "You're using a BertTokenizerFast tokenizer. Please note that with a fast tokenizer, using the `__call__` method is faster than using a method to encode the text followed by a call to the `pad` method to get a padded encoding.\n"
     ]
    },
    {
     "name": "stdout",
     "output_type": "stream",
     "text": [
      "1 / 30: Train Loss:\t0.0846\tVal Loss:\t0.6342\tAccuracy:\t0.7002\tF1:\t0.6788\n",
      "2 / 30: Train Loss:\t0.0543\tVal Loss:\t0.4977\tAccuracy:\t0.8534\tF1:\t0.7949\n",
      "3 / 30: Train Loss:\t0.0509\tVal Loss:\t0.5017\tAccuracy:\t0.7724\tF1:\t0.7354\n",
      "4 / 30: Train Loss:\t0.0289\tVal Loss:\t0.4921\tAccuracy:\t0.7856\tF1:\t0.7413\n",
      "5 / 30: Train Loss:\t0.0315\tVal Loss:\t0.6486\tAccuracy:\t0.6346\tF1:\t0.6263\n",
      "No improvement for 3 epochs. Stopping early.\n",
      "best (higgest macro f1-score) val results:\n",
      "              precision    recall  f1-score   support\n",
      "\n",
      "       bknow       0.78      0.61      0.69       119\n",
      "      struct       0.87      0.94      0.90       338\n",
      "\n",
      "    accuracy                           0.85       457\n",
      "   macro avg       0.82      0.78      0.79       457\n",
      "weighted avg       0.85      0.85      0.85       457\n",
      "\n",
      "test results:\n",
      "              precision    recall  f1-score   support\n",
      "\n",
      "       bknow       0.74      0.60      0.66        67\n",
      "      struct       0.87      0.93      0.90       189\n",
      "\n",
      "    accuracy                           0.84       256\n",
      "   macro avg       0.80      0.76      0.78       256\n",
      "weighted avg       0.83      0.84      0.83       256\n",
      "\n",
      "### ### ### ### ### ### ### ### ### ### \n",
      "{'test_acc': [0.859375, 0.83984375], 'test_f1': [0.8084469571000998, 0.7781488448775126], 'eval_acc': [0.8577680525164114, 0.8533916849015317], 'eval_f1': [0.8023422164554015, 0.7949341316563192], 'wd': [0.1, 0.01]}\n",
      "### ### ### ### ### ### ### ### ### ### \n"
     ]
    }
   ],
   "source": [
    "g = 4\n",
    "lr = 1.0e-4\n",
    "weight_decay = [0.1, 0.01]\n",
    "\n",
    "for wd in weight_decay:\n",
    "    print(f'Grid search {model_checkpoint}, learning rate {lr}, focal loss gamma {g}, weight decay {wd}')\n",
    "    data = ClimateDataset(model_to_train=1,model_checkpoint=model_checkpoint,dataset_url=flicc_path,batch_size=32)\n",
    "    data.setup_dataloaders()\n",
    "    model = ClassificationModel(model_checkpoint=data.model_checkpoint,num_labels=data.num_labels)\n",
    "    trainer = Engine(epochs=30,labels=data.labels)\n",
    "    trainer.model = model.model\n",
    "    trainer.dataset_encoded = data.dataset_encoded\n",
    "    test_acc, test_f1, eval_acc, eval_f1 = trainer.run(lr=lr,\n",
    "                                                       wd=wd,\n",
    "                                                       train_dataloader=data.train_dataloader,\n",
    "                                                       eval_dataloader=data.eval_dataloader,\n",
    "                                                       test_dataloader=data.test_dataloader,\n",
    "                                                       focalloss=True,\n",
    "                                                       gamma=g,\n",
    "                                                       early_stop=3)\n",
    "    results['test_acc'].append(test_acc)\n",
    "    results['test_f1'].append(test_f1)\n",
    "    results['eval_acc'].append(eval_acc)\n",
    "    results['eval_f1'].append(eval_f1)\n",
    "    results['wd'].append(wd)\n",
    "    print('### '*10)\n",
    "    print(results)\n",
    "    print('### '*10)\n",
    "    with torch.no_grad():\n",
    "        torch.cuda.empty_cache()\n",
    "    del data, model, trainer, test_acc, test_f1, eval_acc, eval_f1\n",
    "    gc.collect()"
   ]
  },
  {
   "cell_type": "code",
   "execution_count": 5,
   "metadata": {},
   "outputs": [
    {
     "data": {
      "image/png": "[encoded data removed]",
      "text/plain": [
       "<Figure size 640x480 with 1 Axes>"
      ]
     },
     "metadata": {},
     "output_type": "display_data"
    }
   ],
   "source": [
    "Engine.plot_grid_search(df=results,\n",
    "                        title=f'Weight decay, lr: {lr}, focal loss gamma {g} {model_checkpoint}',\n",
    "                        column='wd',\n",
    "                        sci_format=True)"
   ]
  },
  {
   "cell_type": "code",
   "execution_count": 6,
   "metadata": {},
   "outputs": [],
   "source": [
    "%reset -f"
   ]
  }
 ],
 "metadata": {
  "kernelspec": {
   "display_name": "Python 3",
   "language": "python",
   "name": "python3"
  },
  "language_info": {
   "codemirror_mode": {
    "name": "ipython",
    "version": 3
   },
   "file_extension": ".py",
   "mimetype": "text/x-python",
   "name": "python",
   "nbconvert_exporter": "python",
   "pygments_lexer": "ipython3",
   "version": "3.11.5"
  },
  "orig_nbformat": 4
 },
 "nbformat": 4,
 "nbformat_minor": 2
}
