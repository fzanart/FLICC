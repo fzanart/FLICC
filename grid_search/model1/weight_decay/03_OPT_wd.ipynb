{
 "cells": [
  {
   "cell_type": "code",
   "execution_count": 1,
   "metadata": {},
   "outputs": [],
   "source": [
    "import os\n",
    "import sys\n",
    "import gc\n",
    "# assuming data, models, engine in flicc directory:\n",
    "flicc_path = os.path.realpath(\"__file__\").split('grid_search')[0]\n",
    "sys.path.append(flicc_path)\n",
    "import torch\n",
    "from data import ClimateDataset\n",
    "from models import ClassificationModel\n",
    "from engine import Engine"
   ]
  },
  {
   "cell_type": "code",
   "execution_count": 2,
   "metadata": {},
   "outputs": [],
   "source": [
    "model_checkpoint='facebook/opt-350m'"
   ]
  },
  {
   "cell_type": "code",
   "execution_count": 3,
   "metadata": {},
   "outputs": [],
   "source": [
    "results = {'test_acc':[],\n",
    "           'test_f1':[],\n",
    "           'eval_acc':[],\n",
    "           'eval_f1':[],\n",
    "           'wd':[]}"
   ]
  },
  {
   "cell_type": "code",
   "execution_count": 4,
   "metadata": {},
   "outputs": [
    {
     "name": "stdout",
     "output_type": "stream",
     "text": [
      "Grid search facebook/opt-350m, learning rate 5e-05, weight decay 0.1\n"
     ]
    },
    {
     "name": "stderr",
     "output_type": "stream",
     "text": [
      "Some weights of OPTForSequenceClassification were not initialized from the model checkpoint at facebook/opt-350m and are newly initialized: ['score.weight']\n",
      "You should probably TRAIN this model on a down-stream task to be able to use it for predictions and inference.\n",
      "You're using a GPT2TokenizerFast tokenizer. Please note that with a fast tokenizer, using the `__call__` method is faster than using a method to encode the text followed by a call to the `pad` method to get a padded encoding.\n"
     ]
    },
    {
     "name": "stdout",
     "output_type": "stream",
     "text": [
      "1 / 30: Train Loss:\t0.5799\tVal Loss:\t0.5465\tAccuracy:\t0.7549\tF1:\t0.6648\n",
      "2 / 30: Train Loss:\t0.2832\tVal Loss:\t0.5769\tAccuracy:\t0.7396\tF1:\t0.4252\n",
      "3 / 30: Train Loss:\t0.3086\tVal Loss:\t0.5796\tAccuracy:\t0.7396\tF1:\t0.4252\n",
      "4 / 30: Train Loss:\t0.2987\tVal Loss:\t0.5784\tAccuracy:\t0.7396\tF1:\t0.4252\n",
      "No improvement for 3 epochs. Stopping early.\n",
      "best (higgest macro f1-score) val results:\n",
      "              precision    recall  f1-score   support\n",
      "\n",
      "       bknow       0.53      0.45      0.49       119\n",
      "      struct       0.82      0.86      0.84       338\n",
      "\n",
      "    accuracy                           0.75       457\n",
      "   macro avg       0.68      0.66      0.66       457\n",
      "weighted avg       0.74      0.75      0.75       457\n",
      "\n",
      "test results:\n",
      "              precision    recall  f1-score   support\n",
      "\n",
      "       bknow       0.62      0.52      0.57        67\n",
      "      struct       0.84      0.89      0.86       189\n",
      "\n",
      "    accuracy                           0.79       256\n",
      "   macro avg       0.73      0.71      0.72       256\n",
      "weighted avg       0.78      0.79      0.79       256\n",
      "\n",
      "### ### ### ### ### ### ### ### ### ### \n",
      "{'test_acc': [0.79296875], 'test_f1': [0.7164294522122598], 'eval_acc': [0.7549234135667396], 'eval_f1': [0.6647629028032487], 'wd': [0.1]}\n",
      "### ### ### ### ### ### ### ### ### ### \n",
      "Grid search facebook/opt-350m, learning rate 5e-05, weight decay 0.01\n"
     ]
    },
    {
     "name": "stderr",
     "output_type": "stream",
     "text": [
      "Some weights of OPTForSequenceClassification were not initialized from the model checkpoint at facebook/opt-350m and are newly initialized: ['score.weight']\n",
      "You should probably TRAIN this model on a down-stream task to be able to use it for predictions and inference.\n",
      "You're using a GPT2TokenizerFast tokenizer. Please note that with a fast tokenizer, using the `__call__` method is faster than using a method to encode the text followed by a call to the `pad` method to get a padded encoding.\n"
     ]
    },
    {
     "name": "stdout",
     "output_type": "stream",
     "text": [
      "1 / 30: Train Loss:\t0.5807\tVal Loss:\t0.5369\tAccuracy:\t0.7440\tF1:\t0.6395\n",
      "2 / 30: Train Loss:\t0.2919\tVal Loss:\t0.6663\tAccuracy:\t0.7396\tF1:\t0.4252\n",
      "3 / 30: Train Loss:\t0.3114\tVal Loss:\t0.5828\tAccuracy:\t0.7396\tF1:\t0.4252\n",
      "4 / 30: Train Loss:\t0.2998\tVal Loss:\t0.5774\tAccuracy:\t0.7396\tF1:\t0.4252\n",
      "No improvement for 3 epochs. Stopping early.\n",
      "best (higgest macro f1-score) val results:\n",
      "              precision    recall  f1-score   support\n",
      "\n",
      "       bknow       0.51      0.39      0.45       119\n",
      "      struct       0.80      0.87      0.83       338\n",
      "\n",
      "    accuracy                           0.74       457\n",
      "   macro avg       0.66      0.63      0.64       457\n",
      "weighted avg       0.73      0.74      0.73       457\n",
      "\n",
      "test results:\n",
      "              precision    recall  f1-score   support\n",
      "\n",
      "       bknow       0.66      0.52      0.58        67\n",
      "      struct       0.84      0.90      0.87       189\n",
      "\n",
      "    accuracy                           0.80       256\n",
      "   macro avg       0.75      0.71      0.73       256\n",
      "weighted avg       0.79      0.80      0.80       256\n",
      "\n",
      "### ### ### ### ### ### ### ### ### ### \n",
      "{'test_acc': [0.79296875, 0.8046875], 'test_f1': [0.7164294522122598, 0.727891156462585], 'eval_acc': [0.7549234135667396, 0.7439824945295405], 'eval_f1': [0.6647629028032487, 0.6395340214247672], 'wd': [0.1, 0.01]}\n",
      "### ### ### ### ### ### ### ### ### ### \n"
     ]
    }
   ],
   "source": [
    "lr = 5.0e-5\n",
    "weight_decay = [0.1, 0.01]\n",
    "\n",
    "for wd in weight_decay:\n",
    "    print(f'Grid search {model_checkpoint}, learning rate {lr}, weight decay {wd}')\n",
    "    data = ClimateDataset(model_to_train=1,model_checkpoint=model_checkpoint,dataset_url=flicc_path,batch_size=16)\n",
    "    data.setup_dataloaders()\n",
    "    model = ClassificationModel(model_checkpoint=data.model_checkpoint,num_labels=data.num_labels)\n",
    "    trainer = Engine(epochs=30,labels=data.labels)\n",
    "    trainer.model = model.model\n",
    "    trainer.dataset_encoded = data.dataset_encoded\n",
    "    test_acc, test_f1, eval_acc, eval_f1 = trainer.run(lr=lr,\n",
    "                                                       wd=wd,\n",
    "                                                       train_dataloader=data.train_dataloader,\n",
    "                                                       eval_dataloader=data.eval_dataloader,\n",
    "                                                       test_dataloader=data.test_dataloader,\n",
    "                                                       accumulation_steps=2,\n",
    "                                                       early_stop=3)\n",
    "    results['test_acc'].append(test_acc)\n",
    "    results['test_f1'].append(test_f1)\n",
    "    results['eval_acc'].append(eval_acc)\n",
    "    results['eval_f1'].append(eval_f1)\n",
    "    results['wd'].append(wd)\n",
    "    print('### '*10)\n",
    "    print(results)\n",
    "    print('### '*10)\n",
    "    with torch.no_grad():\n",
    "        torch.cuda.empty_cache()\n",
    "    del data, model, trainer, test_acc, test_f1, eval_acc, eval_f1\n",
    "    gc.collect()"
   ]
  },
  {
   "cell_type": "code",
   "execution_count": 5,
   "metadata": {},
   "outputs": [
    {
     "data": {
      "image/png": "[encoded data removed]",
      "text/plain": [
       "<Figure size 640x480 with 1 Axes>"
      ]
     },
     "metadata": {},
     "output_type": "display_data"
    }
   ],
   "source": [
    "Engine.plot_grid_search(df=results,\n",
    "                        title=f'Weight decay, lr: {lr} {model_checkpoint}',\n",
    "                        column='wd',\n",
    "                        sci_format=True)"
   ]
  },
  {
   "cell_type": "code",
   "execution_count": 6,
   "metadata": {},
   "outputs": [],
   "source": [
    "%reset -f"
   ]
  }
 ],
 "metadata": {
  "kernelspec": {
   "display_name": "Python 3",
   "language": "python",
   "name": "python3"
  },
  "language_info": {
   "codemirror_mode": {
    "name": "ipython",
    "version": 3
   },
   "file_extension": ".py",
   "mimetype": "text/x-python",
   "name": "python",
   "nbconvert_exporter": "python",
   "pygments_lexer": "ipython3",
   "version": "3.11.5"
  },
  "orig_nbformat": 4
 },
 "nbformat": 4,
 "nbformat_minor": 2
}
