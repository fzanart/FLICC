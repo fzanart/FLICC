{
 "cells": [
  {
   "cell_type": "code",
   "execution_count": 1,
   "metadata": {},
   "outputs": [],
   "source": [
    "import os\n",
    "import sys\n",
    "import gc\n",
    "# assuming data, models, engine in flicc directory:\n",
    "flicc_path = os.path.realpath(\"__file__\").split('grid_search')[0]\n",
    "sys.path.append(flicc_path)\n",
    "import torch\n",
    "from data import ClimateDataset\n",
    "from models import ClassificationModel\n",
    "from engine import Engine"
   ]
  },
  {
   "cell_type": "code",
   "execution_count": 2,
   "metadata": {},
   "outputs": [],
   "source": [
    "model_checkpoint='gpt2'"
   ]
  },
  {
   "cell_type": "code",
   "execution_count": 3,
   "metadata": {},
   "outputs": [],
   "source": [
    "results = {'test_acc':[],\n",
    "           'test_f1':[],\n",
    "           'eval_acc':[],\n",
    "           'eval_f1':[],\n",
    "           'wd':[]}"
   ]
  },
  {
   "cell_type": "code",
   "execution_count": 4,
   "metadata": {},
   "outputs": [
    {
     "name": "stdout",
     "output_type": "stream",
     "text": [
      "Grid search gpt2, learning rate 5e-05, weight decay 0.1\n"
     ]
    },
    {
     "name": "stderr",
     "output_type": "stream",
     "text": [
      "Some weights of GPT2ForSequenceClassification were not initialized from the model checkpoint at gpt2 and are newly initialized: ['score.weight']\n",
      "You should probably TRAIN this model on a down-stream task to be able to use it for predictions and inference.\n",
      "You're using a GPT2TokenizerFast tokenizer. Please note that with a fast tokenizer, using the `__call__` method is faster than using a method to encode the text followed by a call to the `pad` method to get a padded encoding.\n"
     ]
    },
    {
     "name": "stdout",
     "output_type": "stream",
     "text": [
      "1 / 30: Train Loss:\t0.7030\tVal Loss:\t0.5707\tAccuracy:\t0.7418\tF1:\t0.4495\n",
      "2 / 30: Train Loss:\t0.5318\tVal Loss:\t0.5199\tAccuracy:\t0.7724\tF1:\t0.5614\n",
      "3 / 30: Train Loss:\t0.4902\tVal Loss:\t0.5102\tAccuracy:\t0.7812\tF1:\t0.5831\n",
      "4 / 30: Train Loss:\t0.4595\tVal Loss:\t0.4544\tAccuracy:\t0.8053\tF1:\t0.6677\n",
      "5 / 30: Train Loss:\t0.4118\tVal Loss:\t0.4527\tAccuracy:\t0.8031\tF1:\t0.6748\n",
      "6 / 30: Train Loss:\t0.3972\tVal Loss:\t0.4224\tAccuracy:\t0.8271\tF1:\t0.7406\n",
      "7 / 30: Train Loss:\t0.3486\tVal Loss:\t0.4318\tAccuracy:\t0.8053\tF1:\t0.7506\n",
      "8 / 30: Train Loss:\t0.3122\tVal Loss:\t0.4112\tAccuracy:\t0.8206\tF1:\t0.7618\n",
      "9 / 30: Train Loss:\t0.2552\tVal Loss:\t0.5557\tAccuracy:\t0.7702\tF1:\t0.7302\n",
      "10 / 30: Train Loss:\t0.2074\tVal Loss:\t0.6545\tAccuracy:\t0.7199\tF1:\t0.6904\n",
      "11 / 30: Train Loss:\t0.1582\tVal Loss:\t0.5513\tAccuracy:\t0.8096\tF1:\t0.7587\n",
      "No improvement for 3 epochs. Stopping early.\n",
      "best (higgest macro f1-score) val results:\n",
      "              precision    recall  f1-score   support\n",
      "\n",
      "       bknow       0.67      0.62      0.64       119\n",
      "      struct       0.87      0.89      0.88       338\n",
      "\n",
      "    accuracy                           0.82       457\n",
      "   macro avg       0.77      0.76      0.76       457\n",
      "weighted avg       0.82      0.82      0.82       457\n",
      "\n",
      "test results:\n",
      "              precision    recall  f1-score   support\n",
      "\n",
      "       bknow       0.61      0.60      0.60        67\n",
      "      struct       0.86      0.86      0.86       189\n",
      "\n",
      "    accuracy                           0.79       256\n",
      "   macro avg       0.73      0.73      0.73       256\n",
      "weighted avg       0.79      0.79      0.79       256\n",
      "\n",
      "### ### ### ### ### ### ### ### ### ### \n",
      "{'test_acc': [0.79296875], 'test_f1': [0.7308310353720713], 'eval_acc': [0.8205689277899344], 'eval_f1': [0.7617976099669463], 'wd': [0.1]}\n",
      "### ### ### ### ### ### ### ### ### ### \n",
      "Grid search gpt2, learning rate 5e-05, weight decay 0.01\n"
     ]
    },
    {
     "name": "stderr",
     "output_type": "stream",
     "text": [
      "Some weights of GPT2ForSequenceClassification were not initialized from the model checkpoint at gpt2 and are newly initialized: ['score.weight']\n",
      "You should probably TRAIN this model on a down-stream task to be able to use it for predictions and inference.\n",
      "You're using a GPT2TokenizerFast tokenizer. Please note that with a fast tokenizer, using the `__call__` method is faster than using a method to encode the text followed by a call to the `pad` method to get a padded encoding.\n"
     ]
    },
    {
     "name": "stdout",
     "output_type": "stream",
     "text": [
      "1 / 30: Train Loss:\t0.7030\tVal Loss:\t0.5708\tAccuracy:\t0.7418\tF1:\t0.4495\n",
      "2 / 30: Train Loss:\t0.5318\tVal Loss:\t0.5200\tAccuracy:\t0.7724\tF1:\t0.5614\n",
      "3 / 30: Train Loss:\t0.4904\tVal Loss:\t0.5094\tAccuracy:\t0.7834\tF1:\t0.5896\n",
      "4 / 30: Train Loss:\t0.4597\tVal Loss:\t0.4538\tAccuracy:\t0.8074\tF1:\t0.6730\n",
      "5 / 30: Train Loss:\t0.4117\tVal Loss:\t0.4567\tAccuracy:\t0.8053\tF1:\t0.6770\n",
      "6 / 30: Train Loss:\t0.3970\tVal Loss:\t0.4250\tAccuracy:\t0.8228\tF1:\t0.7319\n",
      "7 / 30: Train Loss:\t0.3497\tVal Loss:\t0.4272\tAccuracy:\t0.8053\tF1:\t0.7479\n",
      "8 / 30: Train Loss:\t0.3115\tVal Loss:\t0.4063\tAccuracy:\t0.8271\tF1:\t0.7643\n",
      "9 / 30: Train Loss:\t0.2559\tVal Loss:\t0.5512\tAccuracy:\t0.7659\tF1:\t0.7251\n",
      "10 / 30: Train Loss:\t0.2083\tVal Loss:\t0.6658\tAccuracy:\t0.7221\tF1:\t0.6951\n",
      "11 / 30: Train Loss:\t0.1530\tVal Loss:\t0.5513\tAccuracy:\t0.8381\tF1:\t0.7757\n",
      "12 / 30: Train Loss:\t0.1232\tVal Loss:\t0.6041\tAccuracy:\t0.8293\tF1:\t0.7772\n",
      "13 / 30: Train Loss:\t0.1172\tVal Loss:\t0.5952\tAccuracy:\t0.8359\tF1:\t0.7815\n",
      "14 / 30: Train Loss:\t0.0671\tVal Loss:\t1.2821\tAccuracy:\t0.7877\tF1:\t0.6270\n",
      "15 / 30: Train Loss:\t0.0976\tVal Loss:\t0.7992\tAccuracy:\t0.8228\tF1:\t0.7417\n",
      "16 / 30: Train Loss:\t0.0587\tVal Loss:\t0.9692\tAccuracy:\t0.7856\tF1:\t0.7506\n",
      "No improvement for 3 epochs. Stopping early.\n",
      "best (higgest macro f1-score) val results:\n",
      "              precision    recall  f1-score   support\n",
      "\n",
      "       bknow       0.70      0.65      0.67       119\n",
      "      struct       0.88      0.90      0.89       338\n",
      "\n",
      "    accuracy                           0.84       457\n",
      "   macro avg       0.79      0.77      0.78       457\n",
      "weighted avg       0.83      0.84      0.83       457\n",
      "\n",
      "test results:\n",
      "              precision    recall  f1-score   support\n",
      "\n",
      "       bknow       0.58      0.58      0.58        67\n",
      "      struct       0.85      0.85      0.85       189\n",
      "\n",
      "    accuracy                           0.78       256\n",
      "   macro avg       0.72      0.72      0.72       256\n",
      "weighted avg       0.78      0.78      0.78       256\n",
      "\n",
      "### ### ### ### ### ### ### ### ### ### \n",
      "{'test_acc': [0.79296875, 0.78125], 'test_f1': [0.7308310353720713, 0.7169707020453289], 'eval_acc': [0.8205689277899344, 0.8358862144420132], 'eval_f1': [0.7617976099669463, 0.7815000159372708], 'wd': [0.1, 0.01]}\n",
      "### ### ### ### ### ### ### ### ### ### \n"
     ]
    }
   ],
   "source": [
    "lr = 5.0e-5\n",
    "weight_decay = [0.1, 0.01]\n",
    "\n",
    "for wd in weight_decay:\n",
    "    print(f'Grid search {model_checkpoint}, learning rate {lr}, weight decay {wd}')\n",
    "    data = ClimateDataset(model_to_train=1,model_checkpoint=model_checkpoint,dataset_url=flicc_path,batch_size=32)\n",
    "    data.setup_dataloaders()\n",
    "    model = ClassificationModel(model_checkpoint=data.model_checkpoint,num_labels=data.num_labels)\n",
    "    trainer = Engine(epochs=30,labels=data.labels)\n",
    "    trainer.model = model.model\n",
    "    trainer.dataset_encoded = data.dataset_encoded\n",
    "    test_acc, test_f1, eval_acc, eval_f1 = trainer.run(lr=lr,\n",
    "                                                       wd=wd,\n",
    "                                                       train_dataloader=data.train_dataloader,\n",
    "                                                       eval_dataloader=data.eval_dataloader,\n",
    "                                                       test_dataloader=data.test_dataloader,\n",
    "                                                       early_stop=3)\n",
    "    results['test_acc'].append(test_acc)\n",
    "    results['test_f1'].append(test_f1)\n",
    "    results['eval_acc'].append(eval_acc)\n",
    "    results['eval_f1'].append(eval_f1)\n",
    "    results['wd'].append(wd)\n",
    "    print('### '*10)\n",
    "    print(results)\n",
    "    print('### '*10)\n",
    "    with torch.no_grad():\n",
    "        torch.cuda.empty_cache()\n",
    "    del data, model, trainer, test_acc, test_f1, eval_acc, eval_f1\n",
    "    gc.collect()"
   ]
  },
  {
   "cell_type": "code",
   "execution_count": 5,
   "metadata": {},
   "outputs": [
    {
     "data": {
      "image/png": "[encoded data removed]",
      "text/plain": [
       "<Figure size 640x480 with 1 Axes>"
      ]
     },
     "metadata": {},
     "output_type": "display_data"
    }
   ],
   "source": [
    "Engine.plot_grid_search(df=results,\n",
    "                        title=f'Weight decay, lr: {lr}, {model_checkpoint}',\n",
    "                        column='wd',\n",
    "                        sci_format=True)"
   ]
  },
  {
   "cell_type": "code",
   "execution_count": 6,
   "metadata": {},
   "outputs": [],
   "source": [
    "%reset -f"
   ]
  }
 ],
 "metadata": {
  "kernelspec": {
   "display_name": "Python 3",
   "language": "python",
   "name": "python3"
  },
  "language_info": {
   "codemirror_mode": {
    "name": "ipython",
    "version": 3
   },
   "file_extension": ".py",
   "mimetype": "text/x-python",
   "name": "python",
   "nbconvert_exporter": "python",
   "pygments_lexer": "ipython3",
   "version": "3.11.5"
  },
  "orig_nbformat": 4
 },
 "nbformat": 4,
 "nbformat_minor": 2
}
