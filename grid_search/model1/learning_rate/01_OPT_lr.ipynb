{
 "cells": [
  {
   "cell_type": "code",
   "execution_count": 1,
   "metadata": {},
   "outputs": [],
   "source": [
    "import os\n",
    "import sys\n",
    "import gc\n",
    "# assuming data, models, engine in flicc directory:\n",
    "flicc_path = os.path.realpath(\"__file__\").split('grid_search')[0]\n",
    "sys.path.append(flicc_path)\n",
    "import torch\n",
    "from data import ClimateDataset\n",
    "from models import ClassificationModel\n",
    "from engine import Engine"
   ]
  },
  {
   "cell_type": "code",
   "execution_count": 2,
   "metadata": {},
   "outputs": [],
   "source": [
    "model_checkpoint='facebook/opt-350m'"
   ]
  },
  {
   "cell_type": "code",
   "execution_count": 3,
   "metadata": {},
   "outputs": [],
   "source": [
    "results = {'test_acc':[],\n",
    "           'test_f1':[],\n",
    "           'eval_acc':[],\n",
    "           'eval_f1':[],\n",
    "           'lr':[]}"
   ]
  },
  {
   "cell_type": "code",
   "execution_count": 4,
   "metadata": {},
   "outputs": [
    {
     "name": "stdout",
     "output_type": "stream",
     "text": [
      "Grid search facebook/opt-350m, learning rate 1e-05\n"
     ]
    },
    {
     "data": {
      "application/vnd.jupyter.widget-view+json": {
       "model_id": "2f979fb947d04eb3813b89e90920e28d",
       "version_major": 2,
       "version_minor": 0
      },
      "text/plain": [
       "Map:   0%|          | 0/457 [00:00<?, ? examples/s]"
      ]
     },
     "metadata": {},
     "output_type": "display_data"
    },
    {
     "name": "stderr",
     "output_type": "stream",
     "text": [
      "Asking to truncate to max_length but no maximum length is provided and the model has no predefined maximum length. Default to no truncation.\n",
      "Some weights of OPTForSequenceClassification were not initialized from the model checkpoint at facebook/opt-350m and are newly initialized: ['score.weight']\n",
      "You should probably TRAIN this model on a down-stream task to be able to use it for predictions and inference.\n",
      "You're using a GPT2TokenizerFast tokenizer. Please note that with a fast tokenizer, using the `__call__` method is faster than using a method to encode the text followed by a call to the `pad` method to get a padded encoding.\n"
     ]
    },
    {
     "name": "stdout",
     "output_type": "stream",
     "text": [
      "1 / 30: Train Loss:\t0.4011\tVal Loss:\t0.4548\tAccuracy:\t0.7877\tF1:\t0.6111\n",
      "2 / 30: Train Loss:\t0.2440\tVal Loss:\t0.4215\tAccuracy:\t0.8315\tF1:\t0.7659\n",
      "3 / 30: Train Loss:\t0.2019\tVal Loss:\t1.3618\tAccuracy:\t0.6039\tF1:\t0.5987\n",
      "4 / 30: Train Loss:\t0.2238\tVal Loss:\t0.9480\tAccuracy:\t0.6915\tF1:\t0.6718\n",
      "5 / 30: Train Loss:\t0.2905\tVal Loss:\t0.5305\tAccuracy:\t0.7549\tF1:\t0.5384\n",
      "No improvement for 3 epochs. Stopping early.\n",
      "best (higgest macro f1-score) val results:\n",
      "              precision    recall  f1-score   support\n",
      "\n",
      "       bknow       0.72      0.58      0.64       119\n",
      "      struct       0.86      0.92      0.89       338\n",
      "\n",
      "    accuracy                           0.83       457\n",
      "   macro avg       0.79      0.75      0.77       457\n",
      "weighted avg       0.82      0.83      0.83       457\n",
      "\n",
      "test results:\n",
      "              precision    recall  f1-score   support\n",
      "\n",
      "       bknow       0.60      0.57      0.58        67\n",
      "      struct       0.85      0.87      0.86       189\n",
      "\n",
      "    accuracy                           0.79       256\n",
      "   macro avg       0.73      0.72      0.72       256\n",
      "weighted avg       0.79      0.79      0.79       256\n",
      "\n",
      "### ### ### ### ### ### ### ### ### ### \n",
      "{'test_acc': [0.7890625], 'test_f1': [0.721627064035441], 'eval_acc': [0.8315098468271335], 'eval_f1': [0.7658515487240909], 'lr': [1e-05]}\n",
      "### ### ### ### ### ### ### ### ### ### \n",
      "Grid search facebook/opt-350m, learning rate 5e-05\n"
     ]
    },
    {
     "name": "stderr",
     "output_type": "stream",
     "text": [
      "Some weights of OPTForSequenceClassification were not initialized from the model checkpoint at facebook/opt-350m and are newly initialized: ['score.weight']\n",
      "You should probably TRAIN this model on a down-stream task to be able to use it for predictions and inference.\n",
      "You're using a GPT2TokenizerFast tokenizer. Please note that with a fast tokenizer, using the `__call__` method is faster than using a method to encode the text followed by a call to the `pad` method to get a padded encoding.\n"
     ]
    },
    {
     "name": "stdout",
     "output_type": "stream",
     "text": [
      "1 / 30: Train Loss:\t0.5817\tVal Loss:\t0.5485\tAccuracy:\t0.7484\tF1:\t0.6525\n",
      "2 / 30: Train Loss:\t0.2843\tVal Loss:\t0.6190\tAccuracy:\t0.7396\tF1:\t0.4252\n",
      "3 / 30: Train Loss:\t0.3132\tVal Loss:\t0.5777\tAccuracy:\t0.7396\tF1:\t0.4252\n",
      "4 / 30: Train Loss:\t0.2979\tVal Loss:\t0.5766\tAccuracy:\t0.7396\tF1:\t0.4252\n",
      "No improvement for 3 epochs. Stopping early.\n",
      "best (higgest macro f1-score) val results:\n",
      "              precision    recall  f1-score   support\n",
      "\n",
      "       bknow       0.52      0.43      0.47       119\n",
      "      struct       0.81      0.86      0.84       338\n",
      "\n",
      "    accuracy                           0.75       457\n",
      "   macro avg       0.67      0.64      0.65       457\n",
      "weighted avg       0.74      0.75      0.74       457\n",
      "\n",
      "test results:\n",
      "              precision    recall  f1-score   support\n",
      "\n",
      "       bknow       0.65      0.54      0.59        67\n",
      "      struct       0.85      0.90      0.87       189\n",
      "\n",
      "    accuracy                           0.80       256\n",
      "   macro avg       0.75      0.72      0.73       256\n",
      "weighted avg       0.80      0.80      0.80       256\n",
      "\n",
      "### ### ### ### ### ### ### ### ### ### \n",
      "{'test_acc': [0.7890625, 0.8046875], 'test_f1': [0.721627064035441, 0.7309794031105507], 'eval_acc': [0.8315098468271335, 0.7483588621444202], 'eval_f1': [0.7658515487240909, 0.6525266282752282], 'lr': [1e-05, 5e-05]}\n",
      "### ### ### ### ### ### ### ### ### ### \n",
      "Grid search facebook/opt-350m, learning rate 0.0001\n"
     ]
    },
    {
     "name": "stderr",
     "output_type": "stream",
     "text": [
      "Some weights of OPTForSequenceClassification were not initialized from the model checkpoint at facebook/opt-350m and are newly initialized: ['score.weight']\n",
      "You should probably TRAIN this model on a down-stream task to be able to use it for predictions and inference.\n",
      "You're using a GPT2TokenizerFast tokenizer. Please note that with a fast tokenizer, using the `__call__` method is faster than using a method to encode the text followed by a call to the `pad` method to get a padded encoding.\n"
     ]
    },
    {
     "name": "stdout",
     "output_type": "stream",
     "text": [
      "1 / 30: Train Loss:\t0.6392\tVal Loss:\t0.5807\tAccuracy:\t0.7396\tF1:\t0.4252\n",
      "2 / 30: Train Loss:\t0.3051\tVal Loss:\t0.5897\tAccuracy:\t0.7396\tF1:\t0.4252\n",
      "3 / 30: Train Loss:\t0.3062\tVal Loss:\t0.5833\tAccuracy:\t0.7396\tF1:\t0.4252\n",
      "4 / 30: Train Loss:\t0.3009\tVal Loss:\t0.5776\tAccuracy:\t0.7396\tF1:\t0.4252\n",
      "No improvement for 3 epochs. Stopping early.\n",
      "best (higgest macro f1-score) val results:\n",
      "              precision    recall  f1-score   support\n",
      "\n",
      "       bknow       0.00      0.00      0.00       119\n",
      "      struct       0.74      1.00      0.85       338\n",
      "\n",
      "    accuracy                           0.74       457\n",
      "   macro avg       0.37      0.50      0.43       457\n",
      "weighted avg       0.55      0.74      0.63       457\n",
      "\n",
      "test results:\n",
      "              precision    recall  f1-score   support\n",
      "\n",
      "       bknow       0.00      0.00      0.00        67\n",
      "      struct       0.74      1.00      0.85       189\n",
      "\n",
      "    accuracy                           0.74       256\n",
      "   macro avg       0.37      0.50      0.42       256\n",
      "weighted avg       0.55      0.74      0.63       256\n",
      "\n",
      "### ### ### ### ### ### ### ### ### ### \n",
      "{'test_acc': [0.7890625, 0.8046875, 0.73828125], 'test_f1': [0.721627064035441, 0.7309794031105507, 0.4247191011235955], 'eval_acc': [0.8315098468271335, 0.7483588621444202, 0.7396061269146609], 'eval_f1': [0.7658515487240909, 0.6525266282752282, 0.42515723270440253], 'lr': [1e-05, 5e-05, 0.0001]}\n",
      "### ### ### ### ### ### ### ### ### ### \n"
     ]
    }
   ],
   "source": [
    "learning_rates = [1.0e-5, 5.0e-5 ,1.0e-4]\n",
    "\n",
    "for lr in learning_rates:\n",
    "    print(f'Grid search {model_checkpoint}, learning rate {lr}')\n",
    "    data = ClimateDataset(model_to_train=1,model_checkpoint=model_checkpoint,dataset_url=flicc_path,batch_size=16)\n",
    "    data.setup_dataloaders()\n",
    "    model = ClassificationModel(model_checkpoint=data.model_checkpoint,num_labels=data.num_labels)\n",
    "    trainer = Engine(epochs=30,labels=data.labels)\n",
    "    trainer.model = model.model\n",
    "    trainer.device = model.device\n",
    "    test_acc, test_f1, eval_acc, eval_f1 = trainer.run(lr=lr,\n",
    "                                                       wd=0.0,\n",
    "                                                       train_dataloader=data.train_dataloader,\n",
    "                                                       eval_dataloader=data.eval_dataloader,\n",
    "                                                       test_dataloader=data.test_dataloader,\n",
    "                                                       accumulation_steps=2,\n",
    "                                                       early_stop=3)\n",
    "    results['test_acc'].append(test_acc)\n",
    "    results['test_f1'].append(test_f1)\n",
    "    results['eval_acc'].append(eval_acc)\n",
    "    results['eval_f1'].append(eval_f1)\n",
    "    results['lr'].append(lr)\n",
    "    print('### '*10)\n",
    "    print(results)\n",
    "    print('### '*10)\n",
    "    with torch.no_grad():\n",
    "        torch.cuda.empty_cache()\n",
    "    del data, model, trainer, test_acc, test_f1, eval_acc, eval_f1\n",
    "    gc.collect()"
   ]
  },
  {
   "cell_type": "code",
   "execution_count": 5,
   "metadata": {},
   "outputs": [
    {
     "data": {
      "image/png": "[encoded data removed]",
      "text/plain": [
       "<Figure size 640x480 with 1 Axes>"
      ]
     },
     "metadata": {},
     "output_type": "display_data"
    }
   ],
   "source": [
    "Engine.plot_grid_search(df=results,\n",
    "                        title=f'Learning rates {model_checkpoint}',\n",
    "                        column='lr',\n",
    "                        sci_format=False)"
   ]
  },
  {
   "cell_type": "code",
   "execution_count": 6,
   "metadata": {},
   "outputs": [],
   "source": [
    "%reset -f"
   ]
  }
 ],
 "metadata": {
  "kernelspec": {
   "display_name": "Python 3",
   "language": "python",
   "name": "python3"
  },
  "language_info": {
   "codemirror_mode": {
    "name": "ipython",
    "version": 3
   },
   "file_extension": ".py",
   "mimetype": "text/x-python",
   "name": "python",
   "nbconvert_exporter": "python",
   "pygments_lexer": "ipython3",
   "version": "3.11.5"
  },
  "orig_nbformat": 4
 },
 "nbformat": 4,
 "nbformat_minor": 2
}
