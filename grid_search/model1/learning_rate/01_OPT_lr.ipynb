{
 "cells": [
  {
   "cell_type": "code",
   "execution_count": 1,
   "metadata": {},
   "outputs": [],
   "source": [
    "import torch\n",
    "from data import ClimateDataset\n",
    "from models import ClassificationModel\n",
    "from engine import Engine"
   ]
  },
  {
   "cell_type": "code",
   "execution_count": 2,
   "metadata": {},
   "outputs": [],
   "source": [
    "model_checkpoint='facebook/opt-350m'"
   ]
  },
  {
   "cell_type": "code",
   "execution_count": 3,
   "metadata": {},
   "outputs": [],
   "source": [
    "results = {'acc':[],\n",
    "           'f1':[],\n",
    "           'lr':[]}"
   ]
  },
  {
   "cell_type": "code",
   "execution_count": 4,
   "metadata": {},
   "outputs": [
    {
     "name": "stdout",
     "output_type": "stream",
     "text": [
      "Grid search facebook/opt-350m, learning rate 0.001\n"
     ]
    },
    {
     "data": {
      "application/vnd.jupyter.widget-view+json": {
       "model_id": "c21454e4692544b58d7c77d464496399",
       "version_major": 2,
       "version_minor": 0
      },
      "text/plain": [
       "Downloading (…)okenizer_config.json:   0%|          | 0.00/685 [00:00<?, ?B/s]"
      ]
     },
     "metadata": {},
     "output_type": "display_data"
    },
    {
     "data": {
      "application/vnd.jupyter.widget-view+json": {
       "model_id": "9e37b153dd844f1c81991fa4486ebbf5",
       "version_major": 2,
       "version_minor": 0
      },
      "text/plain": [
       "Downloading (…)lve/main/config.json:   0%|          | 0.00/644 [00:00<?, ?B/s]"
      ]
     },
     "metadata": {},
     "output_type": "display_data"
    },
    {
     "data": {
      "application/vnd.jupyter.widget-view+json": {
       "model_id": "2722d908b246463782de1d85aa5140ae",
       "version_major": 2,
       "version_minor": 0
      },
      "text/plain": [
       "Downloading (…)olve/main/vocab.json:   0%|          | 0.00/899k [00:00<?, ?B/s]"
      ]
     },
     "metadata": {},
     "output_type": "display_data"
    },
    {
     "data": {
      "application/vnd.jupyter.widget-view+json": {
       "model_id": "bc7a032f6a0c49279e4abc2c89fa0cbb",
       "version_major": 2,
       "version_minor": 0
      },
      "text/plain": [
       "Downloading (…)olve/main/merges.txt:   0%|          | 0.00/456k [00:00<?, ?B/s]"
      ]
     },
     "metadata": {},
     "output_type": "display_data"
    },
    {
     "data": {
      "application/vnd.jupyter.widget-view+json": {
       "model_id": "44a4e5ee7b0c4685acbb0368a6e85c8b",
       "version_major": 2,
       "version_minor": 0
      },
      "text/plain": [
       "Downloading (…)cial_tokens_map.json:   0%|          | 0.00/441 [00:00<?, ?B/s]"
      ]
     },
     "metadata": {},
     "output_type": "display_data"
    },
    {
     "data": {
      "application/vnd.jupyter.widget-view+json": {
       "model_id": "8972e2b5dbb1497b994946c4a3003520",
       "version_major": 2,
       "version_minor": 0
      },
      "text/plain": [
       "Map:   0%|          | 0/1796 [00:00<?, ? examples/s]"
      ]
     },
     "metadata": {},
     "output_type": "display_data"
    },
    {
     "name": "stderr",
     "output_type": "stream",
     "text": [
      "Asking to truncate to max_length but no maximum length is provided and the model has no predefined maximum length. Default to no truncation.\n"
     ]
    },
    {
     "data": {
      "application/vnd.jupyter.widget-view+json": {
       "model_id": "5b1606f1c0e34226a1ed7d9665d52640",
       "version_major": 2,
       "version_minor": 0
      },
      "text/plain": [
       "Map:   0%|          | 0/256 [00:00<?, ? examples/s]"
      ]
     },
     "metadata": {},
     "output_type": "display_data"
    },
    {
     "data": {
      "application/vnd.jupyter.widget-view+json": {
       "model_id": "c2c13b32daf6453eacabea1b9ebc25c2",
       "version_major": 2,
       "version_minor": 0
      },
      "text/plain": [
       "Map:   0%|          | 0/457 [00:00<?, ? examples/s]"
      ]
     },
     "metadata": {},
     "output_type": "display_data"
    },
    {
     "data": {
      "application/vnd.jupyter.widget-view+json": {
       "model_id": "48f406199c5e4672989ce65e4b27f31d",
       "version_major": 2,
       "version_minor": 0
      },
      "text/plain": [
       "Downloading pytorch_model.bin:   0%|          | 0.00/663M [00:00<?, ?B/s]"
      ]
     },
     "metadata": {},
     "output_type": "display_data"
    },
    {
     "name": "stderr",
     "output_type": "stream",
     "text": [
      "Some weights of OPTForSequenceClassification were not initialized from the model checkpoint at facebook/opt-350m and are newly initialized: ['score.weight']\n",
      "You should probably TRAIN this model on a down-stream task to be able to use it for predictions and inference.\n",
      "You're using a GPT2TokenizerFast tokenizer. Please note that with a fast tokenizer, using the `__call__` method is faster than using a method to encode the text followed by a call to the `pad` method to get a padded encoding.\n"
     ]
    },
    {
     "name": "stdout",
     "output_type": "stream",
     "text": [
      "1 / 10: Train Loss:\t1.3505\tVal Loss:\t0.6086\tAccuracy:\t0.7396\tF1:\t0.4252\n",
      "2 / 10: Train Loss:\t0.5941\tVal Loss:\t0.5958\tAccuracy:\t0.7396\tF1:\t0.4252\n",
      "3 / 10: Train Loss:\t0.5841\tVal Loss:\t0.6137\tAccuracy:\t0.7396\tF1:\t0.4252\n",
      "4 / 10: Train Loss:\t0.5864\tVal Loss:\t0.6004\tAccuracy:\t0.7396\tF1:\t0.4252\n",
      "5 / 10: Train Loss:\t0.5851\tVal Loss:\t0.5829\tAccuracy:\t0.7396\tF1:\t0.4252\n",
      "6 / 10: Train Loss:\t0.5831\tVal Loss:\t0.5853\tAccuracy:\t0.7396\tF1:\t0.4252\n",
      "7 / 10: Train Loss:\t0.5827\tVal Loss:\t0.5853\tAccuracy:\t0.7396\tF1:\t0.4252\n",
      "8 / 10: Train Loss:\t0.5821\tVal Loss:\t0.5855\tAccuracy:\t0.7396\tF1:\t0.4252\n",
      "9 / 10: Train Loss:\t0.5808\tVal Loss:\t0.5859\tAccuracy:\t0.7396\tF1:\t0.4252\n",
      "10 / 10: Train Loss:\t0.5794\tVal Loss:\t0.5864\tAccuracy:\t0.7396\tF1:\t0.4252\n",
      "best (higgest macro f1-score) val results:\n",
      "              precision    recall  f1-score   support\n",
      "\n",
      "       bknow       0.00      0.00      0.00       119\n",
      "      struct       0.74      1.00      0.85       338\n",
      "\n",
      "    accuracy                           0.74       457\n",
      "   macro avg       0.37      0.50      0.43       457\n",
      "weighted avg       0.55      0.74      0.63       457\n",
      "\n",
      "test results:\n",
      "              precision    recall  f1-score   support\n",
      "\n",
      "       bknow       0.00      0.00      0.00        67\n",
      "      struct       0.74      1.00      0.85       189\n",
      "\n",
      "    accuracy                           0.74       256\n",
      "   macro avg       0.37      0.50      0.42       256\n",
      "weighted avg       0.55      0.74      0.63       256\n",
      "\n",
      "### ### ### ### ### ### ### ### ### ### \n",
      "{'acc': [0.73828125], 'f1': [0.4247191011235955], 'lr': [0.001]}\n",
      "### ### ### ### ### ### ### ### ### ### \n",
      "Grid search facebook/opt-350m, learning rate 0.0001\n"
     ]
    },
    {
     "data": {
      "application/vnd.jupyter.widget-view+json": {
       "model_id": "053d85b05b8b49a1b6517192544ed87f",
       "version_major": 2,
       "version_minor": 0
      },
      "text/plain": [
       "Map:   0%|          | 0/256 [00:00<?, ? examples/s]"
      ]
     },
     "metadata": {},
     "output_type": "display_data"
    },
    {
     "name": "stderr",
     "output_type": "stream",
     "text": [
      "Asking to truncate to max_length but no maximum length is provided and the model has no predefined maximum length. Default to no truncation.\n",
      "Some weights of OPTForSequenceClassification were not initialized from the model checkpoint at facebook/opt-350m and are newly initialized: ['score.weight']\n",
      "You should probably TRAIN this model on a down-stream task to be able to use it for predictions and inference.\n",
      "You're using a GPT2TokenizerFast tokenizer. Please note that with a fast tokenizer, using the `__call__` method is faster than using a method to encode the text followed by a call to the `pad` method to get a padded encoding.\n"
     ]
    },
    {
     "name": "stdout",
     "output_type": "stream",
     "text": [
      "1 / 10: Train Loss:\t1.3195\tVal Loss:\t0.6263\tAccuracy:\t0.7396\tF1:\t0.4252\n",
      "2 / 10: Train Loss:\t0.5953\tVal Loss:\t0.5907\tAccuracy:\t0.7396\tF1:\t0.4252\n",
      "3 / 10: Train Loss:\t0.5958\tVal Loss:\t0.5919\tAccuracy:\t0.7396\tF1:\t0.4252\n",
      "4 / 10: Train Loss:\t0.5839\tVal Loss:\t0.6062\tAccuracy:\t0.7396\tF1:\t0.4252\n",
      "5 / 10: Train Loss:\t0.5864\tVal Loss:\t0.6010\tAccuracy:\t0.7396\tF1:\t0.4252\n",
      "6 / 10: Train Loss:\t0.5859\tVal Loss:\t0.6110\tAccuracy:\t0.7396\tF1:\t0.4252\n",
      "7 / 10: Train Loss:\t0.5875\tVal Loss:\t0.6282\tAccuracy:\t0.7396\tF1:\t0.4252\n",
      "8 / 10: Train Loss:\t0.5894\tVal Loss:\t0.6137\tAccuracy:\t0.7396\tF1:\t0.4252\n",
      "9 / 10: Train Loss:\t0.5888\tVal Loss:\t0.5961\tAccuracy:\t0.7396\tF1:\t0.4252\n",
      "10 / 10: Train Loss:\t0.5851\tVal Loss:\t0.5928\tAccuracy:\t0.7396\tF1:\t0.4252\n",
      "best (higgest macro f1-score) val results:\n",
      "              precision    recall  f1-score   support\n",
      "\n",
      "       bknow       0.00      0.00      0.00       119\n",
      "      struct       0.74      1.00      0.85       338\n",
      "\n",
      "    accuracy                           0.74       457\n",
      "   macro avg       0.37      0.50      0.43       457\n",
      "weighted avg       0.55      0.74      0.63       457\n",
      "\n",
      "test results:\n",
      "              precision    recall  f1-score   support\n",
      "\n",
      "       bknow       0.00      0.00      0.00        67\n",
      "      struct       0.74      1.00      0.85       189\n",
      "\n",
      "    accuracy                           0.74       256\n",
      "   macro avg       0.37      0.50      0.42       256\n",
      "weighted avg       0.55      0.74      0.63       256\n",
      "\n",
      "### ### ### ### ### ### ### ### ### ### \n",
      "{'acc': [0.73828125, 0.73828125], 'f1': [0.4247191011235955, 0.4247191011235955], 'lr': [0.001, 0.0001]}\n",
      "### ### ### ### ### ### ### ### ### ### \n",
      "Grid search facebook/opt-350m, learning rate 1e-05\n"
     ]
    },
    {
     "data": {
      "application/vnd.jupyter.widget-view+json": {
       "model_id": "c040b14a887d453fbf604c163d7bd6c2",
       "version_major": 2,
       "version_minor": 0
      },
      "text/plain": [
       "Map:   0%|          | 0/457 [00:00<?, ? examples/s]"
      ]
     },
     "metadata": {},
     "output_type": "display_data"
    },
    {
     "name": "stderr",
     "output_type": "stream",
     "text": [
      "Asking to truncate to max_length but no maximum length is provided and the model has no predefined maximum length. Default to no truncation.\n",
      "Some weights of OPTForSequenceClassification were not initialized from the model checkpoint at facebook/opt-350m and are newly initialized: ['score.weight']\n",
      "You should probably TRAIN this model on a down-stream task to be able to use it for predictions and inference.\n",
      "You're using a GPT2TokenizerFast tokenizer. Please note that with a fast tokenizer, using the `__call__` method is faster than using a method to encode the text followed by a call to the `pad` method to get a padded encoding.\n"
     ]
    },
    {
     "name": "stdout",
     "output_type": "stream",
     "text": [
      "1 / 10: Train Loss:\t0.8489\tVal Loss:\t0.4737\tAccuracy:\t0.7790\tF1:\t0.7040\n",
      "2 / 10: Train Loss:\t0.4959\tVal Loss:\t0.4074\tAccuracy:\t0.8249\tF1:\t0.7476\n",
      "3 / 10: Train Loss:\t0.4080\tVal Loss:\t0.5130\tAccuracy:\t0.8074\tF1:\t0.7656\n",
      "4 / 10: Train Loss:\t0.3217\tVal Loss:\t0.5484\tAccuracy:\t0.8118\tF1:\t0.7620\n",
      "5 / 10: Train Loss:\t0.3510\tVal Loss:\t0.5765\tAccuracy:\t0.8271\tF1:\t0.7533\n",
      "6 / 10: Train Loss:\t0.2428\tVal Loss:\t0.7227\tAccuracy:\t0.8031\tF1:\t0.7535\n",
      "7 / 10: Train Loss:\t0.1143\tVal Loss:\t0.7839\tAccuracy:\t0.8228\tF1:\t0.7612\n",
      "8 / 10: Train Loss:\t0.0760\tVal Loss:\t0.8563\tAccuracy:\t0.8096\tF1:\t0.7508\n",
      "9 / 10: Train Loss:\t0.1536\tVal Loss:\t1.3949\tAccuracy:\t0.7352\tF1:\t0.7013\n",
      "10 / 10: Train Loss:\t0.2861\tVal Loss:\t0.8299\tAccuracy:\t0.7637\tF1:\t0.7185\n",
      "best (higgest macro f1-score) val results:\n",
      "              precision    recall  f1-score   support\n",
      "\n",
      "       bknow       0.54      0.70      0.61       119\n",
      "      struct       0.88      0.79      0.83       338\n",
      "\n",
      "    accuracy                           0.76       457\n",
      "   macro avg       0.71      0.74      0.72       457\n",
      "weighted avg       0.79      0.76      0.77       457\n",
      "\n",
      "test results:\n",
      "              precision    recall  f1-score   support\n",
      "\n",
      "       bknow       0.53      0.69      0.60        67\n",
      "      struct       0.88      0.78      0.83       189\n",
      "\n",
      "    accuracy                           0.76       256\n",
      "   macro avg       0.70      0.73      0.71       256\n",
      "weighted avg       0.78      0.76      0.77       256\n",
      "\n",
      "### ### ### ### ### ### ### ### ### ### \n",
      "{'acc': [0.73828125, 0.73828125, 0.7578125], 'f1': [0.4247191011235955, 0.4247191011235955, 0.712109119930349], 'lr': [0.001, 0.0001, 1e-05]}\n",
      "### ### ### ### ### ### ### ### ### ### \n",
      "Grid search facebook/opt-350m, learning rate 1e-06\n"
     ]
    },
    {
     "name": "stderr",
     "output_type": "stream",
     "text": [
      "Some weights of OPTForSequenceClassification were not initialized from the model checkpoint at facebook/opt-350m and are newly initialized: ['score.weight']\n",
      "You should probably TRAIN this model on a down-stream task to be able to use it for predictions and inference.\n",
      "You're using a GPT2TokenizerFast tokenizer. Please note that with a fast tokenizer, using the `__call__` method is faster than using a method to encode the text followed by a call to the `pad` method to get a padded encoding.\n"
     ]
    },
    {
     "name": "stdout",
     "output_type": "stream",
     "text": [
      "1 / 10: Train Loss:\t0.6281\tVal Loss:\t0.6182\tAccuracy:\t0.7221\tF1:\t0.4908\n",
      "2 / 10: Train Loss:\t0.5404\tVal Loss:\t0.5049\tAccuracy:\t0.7571\tF1:\t0.6007\n",
      "3 / 10: Train Loss:\t0.5077\tVal Loss:\t0.4553\tAccuracy:\t0.7702\tF1:\t0.6442\n",
      "4 / 10: Train Loss:\t0.4783\tVal Loss:\t0.4507\tAccuracy:\t0.7812\tF1:\t0.6598\n",
      "5 / 10: Train Loss:\t0.4737\tVal Loss:\t0.4175\tAccuracy:\t0.7965\tF1:\t0.6823\n",
      "6 / 10: Train Loss:\t0.4564\tVal Loss:\t0.4093\tAccuracy:\t0.8184\tF1:\t0.7315\n",
      "7 / 10: Train Loss:\t0.4425\tVal Loss:\t0.4037\tAccuracy:\t0.8206\tF1:\t0.7604\n",
      "8 / 10: Train Loss:\t0.4320\tVal Loss:\t0.4025\tAccuracy:\t0.8053\tF1:\t0.7258\n",
      "9 / 10: Train Loss:\t0.4094\tVal Loss:\t0.4011\tAccuracy:\t0.8162\tF1:\t0.7421\n",
      "10 / 10: Train Loss:\t0.3746\tVal Loss:\t0.4072\tAccuracy:\t0.8140\tF1:\t0.7566\n",
      "best (higgest macro f1-score) val results:\n",
      "              precision    recall  f1-score   support\n",
      "\n",
      "       bknow       0.65      0.63      0.64       119\n",
      "      struct       0.87      0.88      0.87       338\n",
      "\n",
      "    accuracy                           0.81       457\n",
      "   macro avg       0.76      0.75      0.76       457\n",
      "weighted avg       0.81      0.81      0.81       457\n",
      "\n",
      "test results:\n",
      "              precision    recall  f1-score   support\n",
      "\n",
      "       bknow       0.53      0.58      0.56        67\n",
      "      struct       0.85      0.82      0.83       189\n",
      "\n",
      "    accuracy                           0.76       256\n",
      "   macro avg       0.69      0.70      0.70       256\n",
      "weighted avg       0.77      0.76      0.76       256\n",
      "\n",
      "### ### ### ### ### ### ### ### ### ### \n",
      "{'acc': [0.73828125, 0.73828125, 0.7578125, 0.7578125], 'f1': [0.4247191011235955, 0.4247191011235955, 0.712109119930349, 0.6952380952380952], 'lr': [0.001, 0.0001, 1e-05, 1e-06]}\n",
      "### ### ### ### ### ### ### ### ### ### \n"
     ]
    }
   ],
   "source": [
    "learning_rates = [1.0e-3, 1.0e-4, 1.0e-5, 1.0e-6]\n",
    "for lr in learning_rates:\n",
    "    print(f'Grid search {model_checkpoint}, learning rate {lr}')\n",
    "    data = ClimateDataset(model_to_train=1,model_checkpoint=model_checkpoint,batch_size=32)\n",
    "    data.setup_dataloaders()\n",
    "    model = ClassificationModel(model_checkpoint=data.model_checkpoint,num_labels=data.num_labels)\n",
    "    trainer = Engine(epochs=10,labels=data.labels)\n",
    "    trainer.model = model.model\n",
    "    trainer.device = model.device\n",
    "    acc, f1 = trainer.run(lr=lr,wd=0.0,train_dataloader=data.train_dataloader,eval_dataloader=data.eval_dataloader,test_dataloader=data.test_dataloader)\n",
    "    results['acc'].append(acc)\n",
    "    results['f1'].append(f1)\n",
    "    results['lr'].append(lr)\n",
    "    print('### '*10)\n",
    "    print(results)\n",
    "    print('### '*10)\n",
    "    with torch.no_grad():\n",
    "        torch.cuda.empty_cache()\n",
    "    del data, model, trainer, acc, f1"
   ]
  },
  {
   "cell_type": "code",
   "execution_count": 5,
   "metadata": {},
   "outputs": [],
   "source": [
    "import matplotlib.pyplot as plt\n",
    "import seaborn as sns\n",
    "import pandas as pd"
   ]
  },
  {
   "cell_type": "code",
   "execution_count": 6,
   "metadata": {},
   "outputs": [
    {
     "data": {
      "image/png": "[encoded data removed]",
      "text/plain": [
       "<Figure size 640x480 with 1 Axes>"
      ]
     },
     "metadata": {},
     "output_type": "display_data"
    }
   ],
   "source": [
    "def plot_grid_search(df, title):\n",
    "\n",
    "    # Create the plot\n",
    "    ax = df.plot(x='lr', y=['acc', 'f1'], marker='o', linestyle='-')\n",
    "\n",
    "    # Set y-axis range between 0 and 1\n",
    "    plt.ylim(0, 1)\n",
    "\n",
    "    # Annotate points with F1 scores\n",
    "    for i, row in df.iterrows(): \n",
    "        ax.annotate(f'{row[\"f1\"]:.2f}', (row[\"lr\"], row[\"f1\"]), textcoords='offset points', xytext=(0, -10), ha='center')\n",
    "\n",
    "    # Annotate points with Acc scores\n",
    "    for i, row in df.iterrows():\n",
    "        ax.annotate(f'{row[\"acc\"]:.2f}', (row[\"lr\"], row[\"acc\"]), textcoords='offset points', xytext=(0, 10), ha='center')\n",
    "    \n",
    "    # \n",
    "    plt.xticks(df['lr'], [f'{val:.0e}' for val in df['lr']], ha='center')\n",
    "    plt.xscale('log')\n",
    "    plt.minorticks_off()\n",
    "\n",
    "    plt.title(title)\n",
    "    plt.xlabel('lr')\n",
    "    plt.ylabel('Score')\n",
    "    plt.show()\n",
    "\n",
    "plot_grid_search(pd.DataFrame(results), f'Learning rates {model_checkpoint}')"
   ]
  }
 ],
 "metadata": {
  "kernelspec": {
   "display_name": "Python 3",
   "language": "python",
   "name": "python3"
  },
  "language_info": {
   "codemirror_mode": {
    "name": "ipython",
    "version": 3
   },
   "file_extension": ".py",
   "mimetype": "text/x-python",
   "name": "python",
   "nbconvert_exporter": "python",
   "pygments_lexer": "ipython3",
   "version": "3.11.6"
  },
  "orig_nbformat": 4
 },
 "nbformat": 4,
 "nbformat_minor": 2
}
