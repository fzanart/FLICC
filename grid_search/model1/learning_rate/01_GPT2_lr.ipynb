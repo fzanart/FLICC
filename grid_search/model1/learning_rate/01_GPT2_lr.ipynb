{
 "cells": [
  {
   "cell_type": "code",
   "execution_count": 1,
   "metadata": {},
   "outputs": [],
   "source": [
    "import os\n",
    "import sys\n",
    "import gc\n",
    "# assuming data, models, engine in flicc directory:\n",
    "flicc_path = os.path.realpath(\"__file__\").split('grid_search')[0]\n",
    "sys.path.append(flicc_path)\n",
    "import torch\n",
    "from data import ClimateDataset\n",
    "from models import ClassificationModel\n",
    "from engine import Engine"
   ]
  },
  {
   "cell_type": "code",
   "execution_count": 2,
   "metadata": {},
   "outputs": [],
   "source": [
    "model_checkpoint='gpt2'"
   ]
  },
  {
   "cell_type": "code",
   "execution_count": 3,
   "metadata": {},
   "outputs": [],
   "source": [
    "results = {'test_acc':[],\n",
    "           'test_f1':[],\n",
    "           'eval_acc':[],\n",
    "           'eval_f1':[],\n",
    "           'lr':[]}"
   ]
  },
  {
   "cell_type": "code",
   "execution_count": 4,
   "metadata": {},
   "outputs": [
    {
     "name": "stdout",
     "output_type": "stream",
     "text": [
      "Grid search gpt2, learning rate 1e-05\n"
     ]
    },
    {
     "data": {
      "application/vnd.jupyter.widget-view+json": {
       "model_id": "d7cdf242587b472eba285b1a3e6d81e6",
       "version_major": 2,
       "version_minor": 0
      },
      "text/plain": [
       "Downloading (…)lve/main/config.json:   0%|          | 0.00/665 [00:00<?, ?B/s]"
      ]
     },
     "metadata": {},
     "output_type": "display_data"
    },
    {
     "data": {
      "application/vnd.jupyter.widget-view+json": {
       "model_id": "db054765b1f944a0aaff4a0689cb64e9",
       "version_major": 2,
       "version_minor": 0
      },
      "text/plain": [
       "Downloading (…)olve/main/vocab.json:   0%|          | 0.00/1.04M [00:00<?, ?B/s]"
      ]
     },
     "metadata": {},
     "output_type": "display_data"
    },
    {
     "data": {
      "application/vnd.jupyter.widget-view+json": {
       "model_id": "f377413ddb4048ecbbf10a59916a17cd",
       "version_major": 2,
       "version_minor": 0
      },
      "text/plain": [
       "Downloading (…)olve/main/merges.txt:   0%|          | 0.00/456k [00:00<?, ?B/s]"
      ]
     },
     "metadata": {},
     "output_type": "display_data"
    },
    {
     "data": {
      "application/vnd.jupyter.widget-view+json": {
       "model_id": "8e35f1dbbc034a32837603dacea66554",
       "version_major": 2,
       "version_minor": 0
      },
      "text/plain": [
       "Downloading (…)/main/tokenizer.json:   0%|          | 0.00/1.36M [00:00<?, ?B/s]"
      ]
     },
     "metadata": {},
     "output_type": "display_data"
    },
    {
     "data": {
      "application/vnd.jupyter.widget-view+json": {
       "model_id": "dc4911ca88c34f8e8035d0de5071d4ce",
       "version_major": 2,
       "version_minor": 0
      },
      "text/plain": [
       "Map:   0%|          | 0/1796 [00:00<?, ? examples/s]"
      ]
     },
     "metadata": {},
     "output_type": "display_data"
    },
    {
     "data": {
      "application/vnd.jupyter.widget-view+json": {
       "model_id": "7a6b87fe4ca7455090dbba16a1f3b5fd",
       "version_major": 2,
       "version_minor": 0
      },
      "text/plain": [
       "Map:   0%|          | 0/256 [00:00<?, ? examples/s]"
      ]
     },
     "metadata": {},
     "output_type": "display_data"
    },
    {
     "data": {
      "application/vnd.jupyter.widget-view+json": {
       "model_id": "3f5ce341db5c4150bd8c395932ae25c0",
       "version_major": 2,
       "version_minor": 0
      },
      "text/plain": [
       "Map:   0%|          | 0/457 [00:00<?, ? examples/s]"
      ]
     },
     "metadata": {},
     "output_type": "display_data"
    },
    {
     "data": {
      "application/vnd.jupyter.widget-view+json": {
       "model_id": "9ed37a5898c84a809d7ed97643d9e04a",
       "version_major": 2,
       "version_minor": 0
      },
      "text/plain": [
       "Downloading model.safetensors:   0%|          | 0.00/548M [00:00<?, ?B/s]"
      ]
     },
     "metadata": {},
     "output_type": "display_data"
    },
    {
     "name": "stderr",
     "output_type": "stream",
     "text": [
      "Some weights of GPT2ForSequenceClassification were not initialized from the model checkpoint at gpt2 and are newly initialized: ['score.weight']\n",
      "You should probably TRAIN this model on a down-stream task to be able to use it for predictions and inference.\n",
      "You're using a GPT2TokenizerFast tokenizer. Please note that with a fast tokenizer, using the `__call__` method is faster than using a method to encode the text followed by a call to the `pad` method to get a padded encoding.\n"
     ]
    },
    {
     "name": "stdout",
     "output_type": "stream",
     "text": [
      "1 / 30: Train Loss:\t0.5212\tVal Loss:\t0.7320\tAccuracy:\t0.6455\tF1:\t0.4992\n",
      "2 / 30: Train Loss:\t0.3363\tVal Loss:\t0.6548\tAccuracy:\t0.6521\tF1:\t0.5165\n",
      "3 / 30: Train Loss:\t0.3078\tVal Loss:\t0.5999\tAccuracy:\t0.6937\tF1:\t0.5031\n",
      "4 / 30: Train Loss:\t0.2928\tVal Loss:\t0.5853\tAccuracy:\t0.7068\tF1:\t0.5441\n",
      "5 / 30: Train Loss:\t0.2833\tVal Loss:\t0.5676\tAccuracy:\t0.7243\tF1:\t0.5678\n",
      "6 / 30: Train Loss:\t0.2737\tVal Loss:\t0.5477\tAccuracy:\t0.7418\tF1:\t0.5884\n",
      "7 / 30: Train Loss:\t0.2649\tVal Loss:\t0.5249\tAccuracy:\t0.7790\tF1:\t0.6521\n",
      "8 / 30: Train Loss:\t0.2550\tVal Loss:\t0.5045\tAccuracy:\t0.7921\tF1:\t0.6755\n",
      "9 / 30: Train Loss:\t0.2487\tVal Loss:\t0.4910\tAccuracy:\t0.7965\tF1:\t0.6685\n",
      "10 / 30: Train Loss:\t0.2504\tVal Loss:\t0.4800\tAccuracy:\t0.7987\tF1:\t0.6706\n",
      "11 / 30: Train Loss:\t0.2426\tVal Loss:\t0.4720\tAccuracy:\t0.8096\tF1:\t0.6952\n",
      "12 / 30: Train Loss:\t0.2370\tVal Loss:\t0.4703\tAccuracy:\t0.8074\tF1:\t0.6877\n",
      "13 / 30: Train Loss:\t0.2283\tVal Loss:\t0.4571\tAccuracy:\t0.8053\tF1:\t0.6984\n",
      "14 / 30: Train Loss:\t0.2283\tVal Loss:\t0.4482\tAccuracy:\t0.8118\tF1:\t0.7025\n",
      "15 / 30: Train Loss:\t0.2210\tVal Loss:\t0.4450\tAccuracy:\t0.8140\tF1:\t0.7187\n",
      "16 / 30: Train Loss:\t0.2181\tVal Loss:\t0.4414\tAccuracy:\t0.8096\tF1:\t0.7206\n",
      "17 / 30: Train Loss:\t0.2144\tVal Loss:\t0.4325\tAccuracy:\t0.8184\tF1:\t0.7295\n",
      "18 / 30: Train Loss:\t0.2112\tVal Loss:\t0.4376\tAccuracy:\t0.8053\tF1:\t0.7258\n",
      "19 / 30: Train Loss:\t0.2023\tVal Loss:\t0.4399\tAccuracy:\t0.8031\tF1:\t0.7323\n",
      "20 / 30: Train Loss:\t0.1954\tVal Loss:\t0.4462\tAccuracy:\t0.7943\tF1:\t0.7253\n",
      "21 / 30: Train Loss:\t0.1977\tVal Loss:\t0.4239\tAccuracy:\t0.8140\tF1:\t0.7364\n",
      "22 / 30: Train Loss:\t0.1858\tVal Loss:\t0.4250\tAccuracy:\t0.8140\tF1:\t0.7364\n",
      "23 / 30: Train Loss:\t0.1769\tVal Loss:\t0.4286\tAccuracy:\t0.8096\tF1:\t0.7320\n",
      "24 / 30: Train Loss:\t0.1797\tVal Loss:\t0.4480\tAccuracy:\t0.7921\tF1:\t0.7337\n",
      "No improvement for 3 epochs. Stopping early.\n",
      "best (higgest macro f1-score) val results:\n",
      "              precision    recall  f1-score   support\n",
      "\n",
      "       bknow       0.69      0.52      0.59       119\n",
      "      struct       0.84      0.92      0.88       338\n",
      "\n",
      "    accuracy                           0.81       457\n",
      "   macro avg       0.77      0.72      0.74       457\n",
      "weighted avg       0.80      0.81      0.80       457\n",
      "\n",
      "test results:\n",
      "              precision    recall  f1-score   support\n",
      "\n",
      "       bknow       0.55      0.54      0.55        67\n",
      "      struct       0.84      0.85      0.84       189\n",
      "\n",
      "    accuracy                           0.77       256\n",
      "   macro avg       0.70      0.69      0.69       256\n",
      "weighted avg       0.76      0.77      0.76       256\n",
      "\n",
      "### ### ### ### ### ### ### ### ### ### \n",
      "{'test_acc': [0.765625], 'test_f1': [0.69377990430622], 'eval_acc': [0.8140043763676149], 'eval_f1': [0.7363670297600868], 'lr': [1e-05]}\n",
      "### ### ### ### ### ### ### ### ### ### \n",
      "Grid search gpt2, learning rate 5e-05\n"
     ]
    },
    {
     "data": {
      "application/vnd.jupyter.widget-view+json": {
       "model_id": "348d1e80c28f44b0bf3ce2a0ca7bb381",
       "version_major": 2,
       "version_minor": 0
      },
      "text/plain": [
       "Map:   0%|          | 0/256 [00:00<?, ? examples/s]"
      ]
     },
     "metadata": {},
     "output_type": "display_data"
    },
    {
     "name": "stderr",
     "output_type": "stream",
     "text": [
      "Some weights of GPT2ForSequenceClassification were not initialized from the model checkpoint at gpt2 and are newly initialized: ['score.weight']\n",
      "You should probably TRAIN this model on a down-stream task to be able to use it for predictions and inference.\n",
      "You're using a GPT2TokenizerFast tokenizer. Please note that with a fast tokenizer, using the `__call__` method is faster than using a method to encode the text followed by a call to the `pad` method to get a padded encoding.\n"
     ]
    },
    {
     "name": "stdout",
     "output_type": "stream",
     "text": [
      "1 / 30: Train Loss:\t0.3727\tVal Loss:\t0.6011\tAccuracy:\t0.7068\tF1:\t0.5202\n",
      "2 / 30: Train Loss:\t0.2833\tVal Loss:\t0.5482\tAccuracy:\t0.7615\tF1:\t0.6148\n",
      "3 / 30: Train Loss:\t0.2640\tVal Loss:\t0.5004\tAccuracy:\t0.7987\tF1:\t0.6515\n",
      "4 / 30: Train Loss:\t0.2407\tVal Loss:\t0.4704\tAccuracy:\t0.8053\tF1:\t0.7032\n",
      "5 / 30: Train Loss:\t0.2196\tVal Loss:\t0.4988\tAccuracy:\t0.7593\tF1:\t0.7001\n",
      "6 / 30: Train Loss:\t0.2058\tVal Loss:\t0.4402\tAccuracy:\t0.8118\tF1:\t0.7248\n",
      "7 / 30: Train Loss:\t0.1864\tVal Loss:\t0.4293\tAccuracy:\t0.8184\tF1:\t0.7476\n",
      "8 / 30: Train Loss:\t0.1582\tVal Loss:\t0.4388\tAccuracy:\t0.8162\tF1:\t0.7587\n",
      "9 / 30: Train Loss:\t0.1344\tVal Loss:\t0.5028\tAccuracy:\t0.8053\tF1:\t0.7602\n",
      "10 / 30: Train Loss:\t0.1214\tVal Loss:\t0.4717\tAccuracy:\t0.8053\tF1:\t0.7492\n",
      "11 / 30: Train Loss:\t0.0950\tVal Loss:\t0.4931\tAccuracy:\t0.8381\tF1:\t0.7681\n",
      "12 / 30: Train Loss:\t0.0792\tVal Loss:\t0.7517\tAccuracy:\t0.8009\tF1:\t0.6666\n",
      "13 / 30: Train Loss:\t0.0926\tVal Loss:\t0.5769\tAccuracy:\t0.8381\tF1:\t0.7886\n",
      "14 / 30: Train Loss:\t0.0518\tVal Loss:\t0.7763\tAccuracy:\t0.7330\tF1:\t0.6993\n",
      "15 / 30: Train Loss:\t0.0338\tVal Loss:\t0.9863\tAccuracy:\t0.7549\tF1:\t0.7172\n",
      "16 / 30: Train Loss:\t0.0266\tVal Loss:\t0.7755\tAccuracy:\t0.8096\tF1:\t0.7623\n",
      "No improvement for 3 epochs. Stopping early.\n",
      "best (higgest macro f1-score) val results:\n",
      "              precision    recall  f1-score   support\n",
      "\n",
      "       bknow       0.69      0.68      0.69       119\n",
      "      struct       0.89      0.89      0.89       338\n",
      "\n",
      "    accuracy                           0.84       457\n",
      "   macro avg       0.79      0.79      0.79       457\n",
      "weighted avg       0.84      0.84      0.84       457\n",
      "\n",
      "test results:\n",
      "              precision    recall  f1-score   support\n",
      "\n",
      "       bknow       0.59      0.61      0.60        67\n",
      "      struct       0.86      0.85      0.86       189\n",
      "\n",
      "    accuracy                           0.79       256\n",
      "   macro avg       0.73      0.73      0.73       256\n",
      "weighted avg       0.79      0.79      0.79       256\n",
      "\n",
      "### ### ### ### ### ### ### ### ### ### \n",
      "{'test_acc': [0.765625, 0.7890625], 'test_f1': [0.69377990430622, 0.7296620775969962], 'eval_acc': [0.8140043763676149, 0.838074398249453], 'eval_f1': [0.7363670297600868, 0.7886480675966202], 'lr': [1e-05, 5e-05]}\n",
      "### ### ### ### ### ### ### ### ### ### \n",
      "Grid search gpt2, learning rate 0.0001\n"
     ]
    },
    {
     "data": {
      "application/vnd.jupyter.widget-view+json": {
       "model_id": "645daadfa18546b68e61c58201e619c5",
       "version_major": 2,
       "version_minor": 0
      },
      "text/plain": [
       "Map:   0%|          | 0/457 [00:00<?, ? examples/s]"
      ]
     },
     "metadata": {},
     "output_type": "display_data"
    },
    {
     "name": "stderr",
     "output_type": "stream",
     "text": [
      "Some weights of GPT2ForSequenceClassification were not initialized from the model checkpoint at gpt2 and are newly initialized: ['score.weight']\n",
      "You should probably TRAIN this model on a down-stream task to be able to use it for predictions and inference.\n",
      "You're using a GPT2TokenizerFast tokenizer. Please note that with a fast tokenizer, using the `__call__` method is faster than using a method to encode the text followed by a call to the `pad` method to get a padded encoding.\n"
     ]
    },
    {
     "name": "stdout",
     "output_type": "stream",
     "text": [
      "1 / 30: Train Loss:\t0.3610\tVal Loss:\t0.5853\tAccuracy:\t0.7418\tF1:\t0.4495\n",
      "2 / 30: Train Loss:\t0.2831\tVal Loss:\t0.5234\tAccuracy:\t0.7593\tF1:\t0.5306\n",
      "3 / 30: Train Loss:\t0.2563\tVal Loss:\t0.4940\tAccuracy:\t0.7856\tF1:\t0.6666\n",
      "4 / 30: Train Loss:\t0.2268\tVal Loss:\t0.4617\tAccuracy:\t0.8118\tF1:\t0.7342\n",
      "5 / 30: Train Loss:\t0.1966\tVal Loss:\t0.4290\tAccuracy:\t0.8206\tF1:\t0.7276\n",
      "6 / 30: Train Loss:\t0.1627\tVal Loss:\t0.4329\tAccuracy:\t0.8271\tF1:\t0.7344\n",
      "7 / 30: Train Loss:\t0.1269\tVal Loss:\t0.5092\tAccuracy:\t0.7724\tF1:\t0.7333\n",
      "8 / 30: Train Loss:\t0.1022\tVal Loss:\t0.5202\tAccuracy:\t0.8293\tF1:\t0.7522\n",
      "9 / 30: Train Loss:\t0.0643\tVal Loss:\t1.0455\tAccuracy:\t0.8031\tF1:\t0.6522\n",
      "10 / 30: Train Loss:\t0.0575\tVal Loss:\t1.1503\tAccuracy:\t0.8118\tF1:\t0.6835\n",
      "11 / 30: Train Loss:\t0.0736\tVal Loss:\t0.5549\tAccuracy:\t0.8359\tF1:\t0.7689\n",
      "12 / 30: Train Loss:\t0.0339\tVal Loss:\t0.8036\tAccuracy:\t0.7812\tF1:\t0.7436\n",
      "13 / 30: Train Loss:\t0.0375\tVal Loss:\t0.7588\tAccuracy:\t0.8140\tF1:\t0.7630\n",
      "14 / 30: Train Loss:\t0.0224\tVal Loss:\t1.1139\tAccuracy:\t0.8140\tF1:\t0.7022\n",
      "No improvement for 3 epochs. Stopping early.\n",
      "best (higgest macro f1-score) val results:\n",
      "              precision    recall  f1-score   support\n",
      "\n",
      "       bknow       0.74      0.57      0.64       119\n",
      "      struct       0.86      0.93      0.89       338\n",
      "\n",
      "    accuracy                           0.84       457\n",
      "   macro avg       0.80      0.75      0.77       457\n",
      "weighted avg       0.83      0.84      0.83       457\n",
      "\n",
      "test results:\n",
      "              precision    recall  f1-score   support\n",
      "\n",
      "       bknow       0.63      0.54      0.58        67\n",
      "      struct       0.84      0.89      0.87       189\n",
      "\n",
      "    accuracy                           0.80       256\n",
      "   macro avg       0.74      0.71      0.72       256\n",
      "weighted avg       0.79      0.80      0.79       256\n",
      "\n",
      "### ### ### ### ### ### ### ### ### ### \n",
      "{'test_acc': [0.765625, 0.7890625, 0.796875], 'test_f1': [0.69377990430622, 0.7296620775969962, 0.7233122713668108], 'eval_acc': [0.8140043763676149, 0.838074398249453, 0.8358862144420132], 'eval_f1': [0.7363670297600868, 0.7886480675966202, 0.7689320650158764], 'lr': [1e-05, 5e-05, 0.0001]}\n",
      "### ### ### ### ### ### ### ### ### ### \n"
     ]
    }
   ],
   "source": [
    "learning_rates = [1.0e-5, 5.0e-5 ,1.0e-4]\n",
    "\n",
    "for lr in learning_rates:\n",
    "    print(f'Grid search {model_checkpoint}, learning rate {lr}')\n",
    "    data = ClimateDataset(model_to_train=1,model_checkpoint=model_checkpoint,dataset_url=flicc_path,batch_size=16)\n",
    "    data.setup_dataloaders()\n",
    "    model = ClassificationModel(model_checkpoint=data.model_checkpoint,num_labels=data.num_labels)\n",
    "    trainer = Engine(epochs=30,labels=data.labels)\n",
    "    trainer.model = model.model\n",
    "    trainer.device = model.device\n",
    "    test_acc, test_f1, eval_acc, eval_f1 = trainer.run(lr=lr,\n",
    "                                                       wd=0.0,\n",
    "                                                       train_dataloader=data.train_dataloader,\n",
    "                                                       eval_dataloader=data.eval_dataloader,\n",
    "                                                       test_dataloader=data.test_dataloader,\n",
    "                                                       accumulation_steps=2,\n",
    "                                                       early_stop=3)\n",
    "    results['test_acc'].append(test_acc)\n",
    "    results['test_f1'].append(test_f1)\n",
    "    results['eval_acc'].append(eval_acc)\n",
    "    results['eval_f1'].append(eval_f1)\n",
    "    results['lr'].append(lr)\n",
    "    print('### '*10)\n",
    "    print(results)\n",
    "    print('### '*10)\n",
    "    with torch.no_grad():\n",
    "        torch.cuda.empty_cache()\n",
    "    del data, model, trainer, test_acc, test_f1, eval_acc, eval_f1\n",
    "    gc.collect()"
   ]
  },
  {
   "cell_type": "code",
   "execution_count": 5,
   "metadata": {},
   "outputs": [
    {
     "data": {
      "image/png": "[encoded data removed]",
      "text/plain": [
       "<Figure size 640x480 with 1 Axes>"
      ]
     },
     "metadata": {},
     "output_type": "display_data"
    }
   ],
   "source": [
    "Engine.plot_grid_search(df=results,\n",
    "                        title=f'Learning rates {model_checkpoint}',\n",
    "                        column='lr',\n",
    "                        sci_format=False)"
   ]
  },
  {
   "cell_type": "code",
   "execution_count": 6,
   "metadata": {},
   "outputs": [],
   "source": [
    "%reset -f"
   ]
  }
 ],
 "metadata": {
  "kernelspec": {
   "display_name": "Python 3",
   "language": "python",
   "name": "python3"
  },
  "language_info": {
   "codemirror_mode": {
    "name": "ipython",
    "version": 3
   },
   "file_extension": ".py",
   "mimetype": "text/x-python",
   "name": "python",
   "nbconvert_exporter": "python",
   "pygments_lexer": "ipython3",
   "version": "3.11.5"
  },
  "orig_nbformat": 4
 },
 "nbformat": 4,
 "nbformat_minor": 2
}
