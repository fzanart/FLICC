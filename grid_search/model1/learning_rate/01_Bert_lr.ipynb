{
 "cells": [
  {
   "cell_type": "code",
   "execution_count": 1,
   "metadata": {},
   "outputs": [],
   "source": [
    "import torch\n",
    "from data import ClimateDataset\n",
    "from models import ClassificationModel\n",
    "from engine import Engine"
   ]
  },
  {
   "cell_type": "code",
   "execution_count": 2,
   "metadata": {},
   "outputs": [],
   "source": [
    "model_checkpoint='bert-base-uncased'"
   ]
  },
  {
   "cell_type": "code",
   "execution_count": 3,
   "metadata": {},
   "outputs": [],
   "source": [
    "results = {'acc':[],\n",
    "           'f1':[],\n",
    "           'lr':[]}"
   ]
  },
  {
   "cell_type": "code",
   "execution_count": 4,
   "metadata": {},
   "outputs": [
    {
     "name": "stdout",
     "output_type": "stream",
     "text": [
      "Grid search bert-base-uncased, learning rate 0.001\n"
     ]
    },
    {
     "name": "stderr",
     "output_type": "stream",
     "text": [
      "Some weights of BertForSequenceClassification were not initialized from the model checkpoint at bert-base-uncased and are newly initialized: ['classifier.bias', 'classifier.weight']\n",
      "You should probably TRAIN this model on a down-stream task to be able to use it for predictions and inference.\n",
      "You're using a BertTokenizerFast tokenizer. Please note that with a fast tokenizer, using the `__call__` method is faster than using a method to encode the text followed by a call to the `pad` method to get a padded encoding.\n"
     ]
    },
    {
     "name": "stdout",
     "output_type": "stream",
     "text": [
      "1 / 10: Train Loss:\t0.6319\tVal Loss:\t0.5994\tAccuracy:\t0.7396\tF1:\t0.4252\n",
      "2 / 10: Train Loss:\t0.5928\tVal Loss:\t0.6173\tAccuracy:\t0.7396\tF1:\t0.4252\n",
      "3 / 10: Train Loss:\t0.5952\tVal Loss:\t0.6104\tAccuracy:\t0.7396\tF1:\t0.4252\n",
      "4 / 10: Train Loss:\t0.5934\tVal Loss:\t0.6050\tAccuracy:\t0.7396\tF1:\t0.4252\n",
      "No improvement for 3 epochs. Stopping early.\n",
      "best (higgest macro f1-score) val results:\n",
      "              precision    recall  f1-score   support\n",
      "\n",
      "       bknow       0.00      0.00      0.00       119\n",
      "      struct       0.74      1.00      0.85       338\n",
      "\n",
      "    accuracy                           0.74       457\n",
      "   macro avg       0.37      0.50      0.43       457\n",
      "weighted avg       0.55      0.74      0.63       457\n",
      "\n",
      "test results:\n",
      "              precision    recall  f1-score   support\n",
      "\n",
      "       bknow       0.00      0.00      0.00        67\n",
      "      struct       0.74      1.00      0.85       189\n",
      "\n",
      "    accuracy                           0.74       256\n",
      "   macro avg       0.37      0.50      0.42       256\n",
      "weighted avg       0.55      0.74      0.63       256\n",
      "\n",
      "### ### ### ### ### ### ### ### ### ### \n",
      "{'acc': [0.73828125], 'f1': [0.4247191011235955], 'lr': [0.001]}\n",
      "### ### ### ### ### ### ### ### ### ### \n",
      "Grid search bert-base-uncased, learning rate 0.0001\n"
     ]
    },
    {
     "name": "stderr",
     "output_type": "stream",
     "text": [
      "Some weights of BertForSequenceClassification were not initialized from the model checkpoint at bert-base-uncased and are newly initialized: ['classifier.bias', 'classifier.weight']\n",
      "You should probably TRAIN this model on a down-stream task to be able to use it for predictions and inference.\n",
      "You're using a BertTokenizerFast tokenizer. Please note that with a fast tokenizer, using the `__call__` method is faster than using a method to encode the text followed by a call to the `pad` method to get a padded encoding.\n"
     ]
    },
    {
     "name": "stdout",
     "output_type": "stream",
     "text": [
      "1 / 10: Train Loss:\t0.5316\tVal Loss:\t0.5904\tAccuracy:\t0.7418\tF1:\t0.6998\n",
      "2 / 10: Train Loss:\t0.3631\tVal Loss:\t0.4570\tAccuracy:\t0.8337\tF1:\t0.7853\n",
      "3 / 10: Train Loss:\t0.1890\tVal Loss:\t0.4311\tAccuracy:\t0.8512\tF1:\t0.7869\n",
      "4 / 10: Train Loss:\t0.1567\tVal Loss:\t0.4487\tAccuracy:\t0.8578\tF1:\t0.7832\n",
      "5 / 10: Train Loss:\t0.1385\tVal Loss:\t0.4915\tAccuracy:\t0.7834\tF1:\t0.7436\n",
      "6 / 10: Train Loss:\t0.0430\tVal Loss:\t0.6783\tAccuracy:\t0.8162\tF1:\t0.7763\n",
      "No improvement for 3 epochs. Stopping early.\n",
      "best (higgest macro f1-score) val results:\n",
      "              precision    recall  f1-score   support\n",
      "\n",
      "       bknow       0.62      0.76      0.68       119\n",
      "      struct       0.91      0.84      0.87       338\n",
      "\n",
      "    accuracy                           0.82       457\n",
      "   macro avg       0.76      0.80      0.78       457\n",
      "weighted avg       0.83      0.82      0.82       457\n",
      "\n",
      "test results:\n",
      "              precision    recall  f1-score   support\n",
      "\n",
      "       bknow       0.61      0.75      0.67        67\n",
      "      struct       0.90      0.83      0.87       189\n",
      "\n",
      "    accuracy                           0.81       256\n",
      "   macro avg       0.76      0.79      0.77       256\n",
      "weighted avg       0.83      0.81      0.81       256\n",
      "\n",
      "### ### ### ### ### ### ### ### ### ### \n",
      "{'acc': [0.73828125, 0.80859375], 'f1': [0.4247191011235955, 0.7680773568509993], 'lr': [0.001, 0.0001]}\n",
      "### ### ### ### ### ### ### ### ### ### \n",
      "Grid search bert-base-uncased, learning rate 1e-05\n"
     ]
    },
    {
     "name": "stderr",
     "output_type": "stream",
     "text": [
      "Some weights of BertForSequenceClassification were not initialized from the model checkpoint at bert-base-uncased and are newly initialized: ['classifier.bias', 'classifier.weight']\n",
      "You should probably TRAIN this model on a down-stream task to be able to use it for predictions and inference.\n",
      "You're using a BertTokenizerFast tokenizer. Please note that with a fast tokenizer, using the `__call__` method is faster than using a method to encode the text followed by a call to the `pad` method to get a padded encoding.\n"
     ]
    },
    {
     "name": "stdout",
     "output_type": "stream",
     "text": [
      "1 / 10: Train Loss:\t0.5649\tVal Loss:\t0.5089\tAccuracy:\t0.7396\tF1:\t0.4252\n",
      "2 / 10: Train Loss:\t0.4641\tVal Loss:\t0.4326\tAccuracy:\t0.8053\tF1:\t0.7360\n",
      "3 / 10: Train Loss:\t0.3456\tVal Loss:\t0.3892\tAccuracy:\t0.8118\tF1:\t0.7557\n",
      "4 / 10: Train Loss:\t0.2214\tVal Loss:\t0.3885\tAccuracy:\t0.8162\tF1:\t0.7639\n",
      "5 / 10: Train Loss:\t0.1114\tVal Loss:\t0.6435\tAccuracy:\t0.7221\tF1:\t0.7000\n",
      "6 / 10: Train Loss:\t0.0761\tVal Loss:\t0.8333\tAccuracy:\t0.7046\tF1:\t0.6857\n",
      "7 / 10: Train Loss:\t0.0729\tVal Loss:\t0.6943\tAccuracy:\t0.7593\tF1:\t0.7289\n",
      "No improvement for 3 epochs. Stopping early.\n",
      "best (higgest macro f1-score) val results:\n",
      "              precision    recall  f1-score   support\n",
      "\n",
      "       bknow       0.52      0.82      0.64       119\n",
      "      struct       0.92      0.74      0.82       338\n",
      "\n",
      "    accuracy                           0.76       457\n",
      "   macro avg       0.72      0.78      0.73       457\n",
      "weighted avg       0.82      0.76      0.77       457\n",
      "\n",
      "test results:\n",
      "              precision    recall  f1-score   support\n",
      "\n",
      "       bknow       0.50      0.87      0.63        67\n",
      "      struct       0.94      0.69      0.79       189\n",
      "\n",
      "    accuracy                           0.73       256\n",
      "   macro avg       0.72      0.78      0.71       256\n",
      "weighted avg       0.82      0.73      0.75       256\n",
      "\n",
      "### ### ### ### ### ### ### ### ### ### \n",
      "{'acc': [0.73828125, 0.80859375, 0.734375], 'f1': [0.4247191011235955, 0.7680773568509993, 0.711558854718982], 'lr': [0.001, 0.0001, 1e-05]}\n",
      "### ### ### ### ### ### ### ### ### ### \n",
      "Grid search bert-base-uncased, learning rate 1e-06\n"
     ]
    },
    {
     "name": "stderr",
     "output_type": "stream",
     "text": [
      "Some weights of BertForSequenceClassification were not initialized from the model checkpoint at bert-base-uncased and are newly initialized: ['classifier.bias', 'classifier.weight']\n",
      "You should probably TRAIN this model on a down-stream task to be able to use it for predictions and inference.\n",
      "You're using a BertTokenizerFast tokenizer. Please note that with a fast tokenizer, using the `__call__` method is faster than using a method to encode the text followed by a call to the `pad` method to get a padded encoding.\n"
     ]
    },
    {
     "name": "stdout",
     "output_type": "stream",
     "text": [
      "1 / 10: Train Loss:\t0.6251\tVal Loss:\t0.5857\tAccuracy:\t0.7396\tF1:\t0.4252\n",
      "2 / 10: Train Loss:\t0.5804\tVal Loss:\t0.5703\tAccuracy:\t0.7396\tF1:\t0.4252\n",
      "3 / 10: Train Loss:\t0.5630\tVal Loss:\t0.5584\tAccuracy:\t0.7396\tF1:\t0.4252\n",
      "4 / 10: Train Loss:\t0.5526\tVal Loss:\t0.5472\tAccuracy:\t0.7396\tF1:\t0.4252\n",
      "No improvement for 3 epochs. Stopping early.\n",
      "best (higgest macro f1-score) val results:\n",
      "              precision    recall  f1-score   support\n",
      "\n",
      "       bknow       0.00      0.00      0.00       119\n",
      "      struct       0.74      1.00      0.85       338\n",
      "\n",
      "    accuracy                           0.74       457\n",
      "   macro avg       0.37      0.50      0.43       457\n",
      "weighted avg       0.55      0.74      0.63       457\n",
      "\n",
      "test results:\n",
      "              precision    recall  f1-score   support\n",
      "\n",
      "       bknow       0.00      0.00      0.00        67\n",
      "      struct       0.74      1.00      0.85       189\n",
      "\n",
      "    accuracy                           0.74       256\n",
      "   macro avg       0.37      0.50      0.42       256\n",
      "weighted avg       0.55      0.74      0.63       256\n",
      "\n",
      "### ### ### ### ### ### ### ### ### ### \n",
      "{'acc': [0.73828125, 0.80859375, 0.734375, 0.73828125], 'f1': [0.4247191011235955, 0.7680773568509993, 0.711558854718982, 0.4247191011235955], 'lr': [0.001, 0.0001, 1e-05, 1e-06]}\n",
      "### ### ### ### ### ### ### ### ### ### \n"
     ]
    }
   ],
   "source": [
    "learning_rates = [1.0e-3, 1.0e-4, 1.0e-5, 1.0e-6]\n",
    "for lr in learning_rates:\n",
    "    print(f'Grid search {model_checkpoint}, learning rate {lr}')\n",
    "    data = ClimateDataset(model_to_train=1,model_checkpoint=model_checkpoint,batch_size=32)\n",
    "    data.setup_dataloaders()\n",
    "    model = ClassificationModel(model_checkpoint=data.model_checkpoint,num_labels=data.num_labels)\n",
    "    trainer = Engine(epochs=10,labels=data.labels)\n",
    "    trainer.model = model.model\n",
    "    trainer.device = model.device\n",
    "    acc, f1 = trainer.run(lr=lr,wd=0.0,train_dataloader=data.train_dataloader,eval_dataloader=data.eval_dataloader,test_dataloader=data.test_dataloader, early_stop=3)\n",
    "    results['acc'].append(acc)\n",
    "    results['f1'].append(f1)\n",
    "    results['lr'].append(lr)\n",
    "    print('### '*10)\n",
    "    print(results)\n",
    "    print('### '*10)\n",
    "    with torch.no_grad():\n",
    "        torch.cuda.empty_cache()\n",
    "    del data, model, trainer, acc, f1"
   ]
  },
  {
   "cell_type": "code",
   "execution_count": 5,
   "metadata": {},
   "outputs": [],
   "source": [
    "import matplotlib.pyplot as plt\n",
    "import seaborn as sns\n",
    "import pandas as pd"
   ]
  },
  {
   "cell_type": "code",
   "execution_count": 6,
   "metadata": {},
   "outputs": [
    {
     "data": {
      "image/png": "[encoded data removed]",
      "text/plain": [
       "<Figure size 640x480 with 1 Axes>"
      ]
     },
     "metadata": {},
     "output_type": "display_data"
    }
   ],
   "source": [
    "def plot_grid_search(df, title):\n",
    "\n",
    "    # Create the plot\n",
    "    ax = df.plot(x='lr', y=['acc', 'f1'], marker='o', linestyle='-')\n",
    "\n",
    "    # Set y-axis range between 0 and 1\n",
    "    plt.ylim(0, 1)\n",
    "\n",
    "    # Annotate points with F1 scores\n",
    "    for i, row in df.iterrows(): \n",
    "        ax.annotate(f'{row[\"f1\"]:.2f}', (row[\"lr\"], row[\"f1\"]), textcoords='offset points', xytext=(0, -10), ha='center')\n",
    "\n",
    "    # Annotate points with Acc scores\n",
    "    for i, row in df.iterrows():\n",
    "        ax.annotate(f'{row[\"acc\"]:.2f}', (row[\"lr\"], row[\"acc\"]), textcoords='offset points', xytext=(0, 10), ha='center')\n",
    "    \n",
    "    # \n",
    "    plt.xticks(df['lr'], [f'{val:.0e}' for val in df['lr']], ha='center')\n",
    "    plt.xscale('log')\n",
    "    plt.minorticks_off()\n",
    "\n",
    "    plt.title(title)\n",
    "    plt.xlabel('lr')\n",
    "    plt.ylabel('Score')\n",
    "    plt.show()\n",
    "\n",
    "plot_grid_search(pd.DataFrame(results), f'Learning rates {model_checkpoint}')"
   ]
  }
 ],
 "metadata": {
  "kernelspec": {
   "display_name": "Python 3",
   "language": "python",
   "name": "python3"
  },
  "language_info": {
   "codemirror_mode": {
    "name": "ipython",
    "version": 3
   },
   "file_extension": ".py",
   "mimetype": "text/x-python",
   "name": "python",
   "nbconvert_exporter": "python",
   "pygments_lexer": "ipython3",
   "version": "3.8.17"
  },
  "orig_nbformat": 4
 },
 "nbformat": 4,
 "nbformat_minor": 2
}
