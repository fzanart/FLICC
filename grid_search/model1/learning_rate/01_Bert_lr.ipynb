{
 "cells": [
  {
   "cell_type": "code",
   "execution_count": 1,
   "metadata": {},
   "outputs": [],
   "source": [
    "import os\n",
    "import sys\n",
    "# assuming data, models, engine in flicc directory:\n",
    "flicc_path = os.path.realpath(\"__file__\").split('grid_search')[0]\n",
    "sys.path.append(flicc_path)\n",
    "import torch\n",
    "from data import ClimateDataset\n",
    "from models import ClassificationModel\n",
    "from engine import Engine"
   ]
  },
  {
   "cell_type": "code",
   "execution_count": 4,
   "metadata": {},
   "outputs": [],
   "source": [
    "model_checkpoint='bert-base-uncased'"
   ]
  },
  {
   "cell_type": "code",
   "execution_count": 3,
   "metadata": {},
   "outputs": [],
   "source": [
    "results = {'test_acc':[],\n",
    "           'test_f1':[],\n",
    "           'eval_acc':[],\n",
    "           'eval_f1':[],\n",
    "           'lr':[]}"
   ]
  },
  {
   "cell_type": "code",
   "execution_count": 4,
   "metadata": {},
   "outputs": [
    {
     "name": "stdout",
     "output_type": "stream",
     "text": [
      "Grid search bert-base-uncased, learning rate 1e-05\n"
     ]
    },
    {
     "name": "stderr",
     "output_type": "stream",
     "text": [
      "Some weights of BertForSequenceClassification were not initialized from the model checkpoint at bert-base-uncased and are newly initialized: ['classifier.bias', 'classifier.weight']\n",
      "You should probably TRAIN this model on a down-stream task to be able to use it for predictions and inference.\n",
      "You're using a BertTokenizerFast tokenizer. Please note that with a fast tokenizer, using the `__call__` method is faster than using a method to encode the text followed by a call to the `pad` method to get a padded encoding.\n"
     ]
    },
    {
     "name": "stdout",
     "output_type": "stream",
     "text": [
      "1 / 30: Train Loss:\t0.5649\tVal Loss:\t0.5089\tAccuracy:\t0.7396\tF1:\t0.4252\n",
      "2 / 30: Train Loss:\t0.4643\tVal Loss:\t0.4319\tAccuracy:\t0.8096\tF1:\t0.7451\n",
      "3 / 30: Train Loss:\t0.3451\tVal Loss:\t0.3916\tAccuracy:\t0.8140\tF1:\t0.7605\n",
      "4 / 30: Train Loss:\t0.2225\tVal Loss:\t0.3906\tAccuracy:\t0.8096\tF1:\t0.7599\n",
      "5 / 30: Train Loss:\t0.1123\tVal Loss:\t0.5959\tAccuracy:\t0.7527\tF1:\t0.7271\n",
      "6 / 30: Train Loss:\t0.0787\tVal Loss:\t0.9361\tAccuracy:\t0.6652\tF1:\t0.6535\n",
      "No improvement for 3 epochs. Stopping early.\n",
      "not quantized, is_quantized: False\n",
      "best (higgest macro f1-score) val results:\n",
      "              precision    recall  f1-score   support\n",
      "\n",
      "       bknow       0.64      0.66      0.65       119\n",
      "      struct       0.88      0.87      0.87       338\n",
      "\n",
      "    accuracy                           0.81       457\n",
      "   macro avg       0.76      0.76      0.76       457\n",
      "weighted avg       0.82      0.81      0.81       457\n",
      "\n",
      "not quantized, is_quantized: False\n",
      "test results:\n",
      "              precision    recall  f1-score   support\n",
      "\n",
      "       bknow       0.56      0.70      0.62        67\n",
      "      struct       0.88      0.80      0.84       189\n",
      "\n",
      "    accuracy                           0.78       256\n",
      "   macro avg       0.72      0.75      0.73       256\n",
      "weighted avg       0.80      0.78      0.78       256\n",
      "\n",
      "### ### ### ### ### ### ### ### ### ### \n",
      "{'test_acc': [0.77734375], 'test_f1': [0.7323109097246427], 'eval_acc': [0.8140043763676149], 'eval_f1': [0.7605013779879526], 'lr': [1e-05]}\n",
      "### ### ### ### ### ### ### ### ### ### \n",
      "Grid search bert-base-uncased, learning rate 5e-05\n"
     ]
    },
    {
     "name": "stderr",
     "output_type": "stream",
     "text": [
      "Some weights of BertForSequenceClassification were not initialized from the model checkpoint at bert-base-uncased and are newly initialized: ['classifier.bias', 'classifier.weight']\n",
      "You should probably TRAIN this model on a down-stream task to be able to use it for predictions and inference.\n",
      "You're using a BertTokenizerFast tokenizer. Please note that with a fast tokenizer, using the `__call__` method is faster than using a method to encode the text followed by a call to the `pad` method to get a padded encoding.\n"
     ]
    },
    {
     "name": "stdout",
     "output_type": "stream",
     "text": [
      "1 / 30: Train Loss:\t0.5134\tVal Loss:\t0.4177\tAccuracy:\t0.8053\tF1:\t0.7328\n",
      "2 / 30: Train Loss:\t0.3118\tVal Loss:\t0.4138\tAccuracy:\t0.8403\tF1:\t0.7584\n",
      "3 / 30: Train Loss:\t0.1837\tVal Loss:\t0.3807\tAccuracy:\t0.8446\tF1:\t0.7446\n",
      "4 / 30: Train Loss:\t0.1162\tVal Loss:\t0.5028\tAccuracy:\t0.7921\tF1:\t0.7578\n",
      "5 / 30: Train Loss:\t0.0768\tVal Loss:\t1.3769\tAccuracy:\t0.5908\tF1:\t0.5866\n",
      "No improvement for 3 epochs. Stopping early.\n",
      "not quantized, is_quantized: False\n",
      "best (higgest macro f1-score) val results:\n",
      "              precision    recall  f1-score   support\n",
      "\n",
      "       bknow       0.82      0.50      0.62       119\n",
      "      struct       0.84      0.96      0.90       338\n",
      "\n",
      "    accuracy                           0.84       457\n",
      "   macro avg       0.83      0.73      0.76       457\n",
      "weighted avg       0.84      0.84      0.83       457\n",
      "\n",
      "not quantized, is_quantized: False\n",
      "test results:\n",
      "              precision    recall  f1-score   support\n",
      "\n",
      "       bknow       0.67      0.42      0.51        67\n",
      "      struct       0.82      0.93      0.87       189\n",
      "\n",
      "    accuracy                           0.79       256\n",
      "   macro avg       0.74      0.67      0.69       256\n",
      "weighted avg       0.78      0.79      0.78       256\n",
      "\n",
      "### ### ### ### ### ### ### ### ### ### \n",
      "{'test_acc': [0.77734375, 0.79296875], 'test_f1': [0.7323109097246427, 0.6911239101236142], 'eval_acc': [0.8140043763676149, 0.8402625820568927], 'eval_f1': [0.7605013779879526, 0.7584164295076505], 'lr': [1e-05, 5e-05]}\n",
      "### ### ### ### ### ### ### ### ### ### \n",
      "Grid search bert-base-uncased, learning rate 0.0001\n"
     ]
    },
    {
     "name": "stderr",
     "output_type": "stream",
     "text": [
      "Some weights of BertForSequenceClassification were not initialized from the model checkpoint at bert-base-uncased and are newly initialized: ['classifier.bias', 'classifier.weight']\n",
      "You should probably TRAIN this model on a down-stream task to be able to use it for predictions and inference.\n",
      "You're using a BertTokenizerFast tokenizer. Please note that with a fast tokenizer, using the `__call__` method is faster than using a method to encode the text followed by a call to the `pad` method to get a padded encoding.\n"
     ]
    },
    {
     "name": "stdout",
     "output_type": "stream",
     "text": [
      "1 / 30: Train Loss:\t0.5310\tVal Loss:\t0.4811\tAccuracy:\t0.7681\tF1:\t0.7260\n",
      "2 / 30: Train Loss:\t0.3439\tVal Loss:\t0.3782\tAccuracy:\t0.8512\tF1:\t0.7912\n",
      "3 / 30: Train Loss:\t0.1873\tVal Loss:\t0.5958\tAccuracy:\t0.8184\tF1:\t0.6808\n",
      "4 / 30: Train Loss:\t0.2862\tVal Loss:\t0.4722\tAccuracy:\t0.8118\tF1:\t0.7632\n",
      "5 / 30: Train Loss:\t0.1083\tVal Loss:\t0.5225\tAccuracy:\t0.8031\tF1:\t0.7570\n",
      "No improvement for 3 epochs. Stopping early.\n",
      "not quantized, is_quantized: False\n",
      "best (higgest macro f1-score) val results:\n",
      "              precision    recall  f1-score   support\n",
      "\n",
      "       bknow       0.77      0.61      0.68       119\n",
      "      struct       0.87      0.94      0.90       338\n",
      "\n",
      "    accuracy                           0.85       457\n",
      "   macro avg       0.82      0.77      0.79       457\n",
      "weighted avg       0.85      0.85      0.84       457\n",
      "\n",
      "not quantized, is_quantized: False\n",
      "test results:\n",
      "              precision    recall  f1-score   support\n",
      "\n",
      "       bknow       0.69      0.64      0.67        67\n",
      "      struct       0.88      0.90      0.89       189\n",
      "\n",
      "    accuracy                           0.83       256\n",
      "   macro avg       0.78      0.77      0.78       256\n",
      "weighted avg       0.83      0.83      0.83       256\n",
      "\n",
      "### ### ### ### ### ### ### ### ### ### \n",
      "{'test_acc': [0.77734375, 0.79296875, 0.83203125], 'test_f1': [0.7323109097246427, 0.6911239101236142, 0.7771975630983463], 'eval_acc': [0.8140043763676149, 0.8402625820568927, 0.8512035010940919], 'eval_f1': [0.7605013779879526, 0.7584164295076505, 0.7911895930763856], 'lr': [1e-05, 5e-05, 0.0001]}\n",
      "### ### ### ### ### ### ### ### ### ### \n"
     ]
    }
   ],
   "source": [
    "learning_rates = [1.0e-5, 5.0e-5 ,1.0e-4]\n",
    "\n",
    "for lr in learning_rates:\n",
    "    print(f'Grid search {model_checkpoint}, learning rate {lr}')\n",
    "    data = ClimateDataset(model_to_train=1,model_checkpoint=model_checkpoint,dataset_url=flicc_path,batch_size=32)\n",
    "    data.setup_dataloaders()\n",
    "    model = ClassificationModel(model_checkpoint=data.model_checkpoint,num_labels=data.num_labels)\n",
    "    trainer = Engine(epochs=30,labels=data.labels)\n",
    "    trainer.model = model.model\n",
    "    trainer.device = model.device\n",
    "    test_acc, test_f1, eval_acc, eval_f1 = trainer.run(lr=lr,\n",
    "                                                       wd=0.0,\n",
    "                                                       train_dataloader=data.train_dataloader,\n",
    "                                                       eval_dataloader=data.eval_dataloader,\n",
    "                                                       test_dataloader=data.test_dataloader,\n",
    "                                                       early_stop=3)\n",
    "    results['test_acc'].append(test_acc)\n",
    "    results['test_f1'].append(test_f1)\n",
    "    results['eval_acc'].append(eval_acc)\n",
    "    results['eval_f1'].append(eval_f1)\n",
    "    results['lr'].append(lr)\n",
    "    print('### '*10)\n",
    "    print(results)\n",
    "    print('### '*10)\n",
    "    with torch.no_grad():\n",
    "        torch.cuda.empty_cache()\n",
    "    del data, model, trainer, test_acc, test_f1, eval_acc, eval_f1"
   ]
  },
  {
   "cell_type": "code",
   "execution_count": 6,
   "metadata": {},
   "outputs": [
    {
     "data": {
      "image/png": "[encoded data removed]",
      "text/plain": [
       "<Figure size 640x480 with 1 Axes>"
      ]
     },
     "metadata": {},
     "output_type": "display_data"
    }
   ],
   "source": [
    "Engine.plot_grid_search(df=results,\n",
    "                        title=f'Learning rates {model_checkpoint}',\n",
    "                        column='lr',\n",
    "                        sci_format=True)"
   ]
  },
  {
   "cell_type": "code",
   "execution_count": null,
   "metadata": {},
   "outputs": [],
   "source": [
    "%reset -f"
   ]
  }
 ],
 "metadata": {
  "kernelspec": {
   "display_name": "Python 3",
   "language": "python",
   "name": "python3"
  },
  "language_info": {
   "codemirror_mode": {
    "name": "ipython",
    "version": 3
   },
   "file_extension": ".py",
   "mimetype": "text/x-python",
   "name": "python",
   "nbconvert_exporter": "python",
   "pygments_lexer": "ipython3",
   "version": "3.11.5"
  },
  "orig_nbformat": 4
 },
 "nbformat": 4,
 "nbformat_minor": 2
}
