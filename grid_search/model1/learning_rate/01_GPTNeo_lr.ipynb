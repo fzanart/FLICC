{
 "cells": [
  {
   "cell_type": "code",
   "execution_count": 4,
   "metadata": {},
   "outputs": [],
   "source": [
    "import os\n",
    "os.environ['TRANSFORMERS_CACHE'] = '/mnt/software/'\n",
    "import sys\n",
    "import gc\n",
    "# assuming data, models, engine in flicc directory:\n",
    "flicc_path = os.path.realpath(\"__file__\").split('grid_search')[0]\n",
    "sys.path.append(flicc_path)\n",
    "import torch\n",
    "from data import ClimateDataset\n",
    "from models import ClassificationModel\n",
    "from engine import Engine\n",
    "\n",
    "import warnings\n",
    "warnings.filterwarnings(\"ignore\")"
   ]
  },
  {
   "cell_type": "code",
   "execution_count": 5,
   "metadata": {},
   "outputs": [],
   "source": [
    "model_checkpoint='EleutherAI/gpt-neo-1.3B'"
   ]
  },
  {
   "cell_type": "code",
   "execution_count": 6,
   "metadata": {},
   "outputs": [],
   "source": [
    "results = {'test_acc':[],\n",
    "           'test_f1':[],\n",
    "           'eval_acc':[],\n",
    "           'eval_f1':[],\n",
    "           'lr':[]}"
   ]
  },
  {
   "cell_type": "code",
   "execution_count": 7,
   "metadata": {},
   "outputs": [
    {
     "name": "stdout",
     "output_type": "stream",
     "text": [
      "Grid search EleutherAI/gpt-neo-1.3B, learning rate 1e-05\n"
     ]
    },
    {
     "data": {
      "application/vnd.jupyter.widget-view+json": {
       "model_id": "dacf3c75b19749b69800c4ff32272151",
       "version_major": 2,
       "version_minor": 0
      },
      "text/plain": [
       "Downloading (…)okenizer_config.json:   0%|          | 0.00/200 [00:00<?, ?B/s]"
      ]
     },
     "metadata": {},
     "output_type": "display_data"
    },
    {
     "data": {
      "application/vnd.jupyter.widget-view+json": {
       "model_id": "3f1ca0fdcf2a4a4a83895ed3f5eb6494",
       "version_major": 2,
       "version_minor": 0
      },
      "text/plain": [
       "Downloading (…)lve/main/config.json:   0%|          | 0.00/1.35k [00:00<?, ?B/s]"
      ]
     },
     "metadata": {},
     "output_type": "display_data"
    },
    {
     "data": {
      "application/vnd.jupyter.widget-view+json": {
       "model_id": "208312107e0e43b290dc7e2aa6163635",
       "version_major": 2,
       "version_minor": 0
      },
      "text/plain": [
       "Downloading (…)olve/main/vocab.json:   0%|          | 0.00/798k [00:00<?, ?B/s]"
      ]
     },
     "metadata": {},
     "output_type": "display_data"
    },
    {
     "data": {
      "application/vnd.jupyter.widget-view+json": {
       "model_id": "92354130967d4267ba56e96668ac4cab",
       "version_major": 2,
       "version_minor": 0
      },
      "text/plain": [
       "Downloading (…)olve/main/merges.txt:   0%|          | 0.00/456k [00:00<?, ?B/s]"
      ]
     },
     "metadata": {},
     "output_type": "display_data"
    },
    {
     "data": {
      "application/vnd.jupyter.widget-view+json": {
       "model_id": "1adeb74b5d914922bcba97072afacfff",
       "version_major": 2,
       "version_minor": 0
      },
      "text/plain": [
       "Downloading (…)cial_tokens_map.json:   0%|          | 0.00/90.0 [00:00<?, ?B/s]"
      ]
     },
     "metadata": {},
     "output_type": "display_data"
    },
    {
     "data": {
      "application/vnd.jupyter.widget-view+json": {
       "model_id": "0300f2f696764e459337de5094c0891c",
       "version_major": 2,
       "version_minor": 0
      },
      "text/plain": [
       "Map:   0%|          | 0/1796 [00:00<?, ? examples/s]"
      ]
     },
     "metadata": {},
     "output_type": "display_data"
    },
    {
     "data": {
      "application/vnd.jupyter.widget-view+json": {
       "model_id": "0b46c49fc258455b83770be97ce250c5",
       "version_major": 2,
       "version_minor": 0
      },
      "text/plain": [
       "Map:   0%|          | 0/256 [00:00<?, ? examples/s]"
      ]
     },
     "metadata": {},
     "output_type": "display_data"
    },
    {
     "data": {
      "application/vnd.jupyter.widget-view+json": {
       "model_id": "16bd0535810840b89d86a964751aa1e4",
       "version_major": 2,
       "version_minor": 0
      },
      "text/plain": [
       "Map:   0%|          | 0/457 [00:00<?, ? examples/s]"
      ]
     },
     "metadata": {},
     "output_type": "display_data"
    },
    {
     "data": {
      "application/vnd.jupyter.widget-view+json": {
       "model_id": "a91a6e41189746cb92369c30af3e093f",
       "version_major": 2,
       "version_minor": 0
      },
      "text/plain": [
       "Downloading model.safetensors:   0%|          | 0.00/5.31G [00:00<?, ?B/s]"
      ]
     },
     "metadata": {},
     "output_type": "display_data"
    },
    {
     "name": "stderr",
     "output_type": "stream",
     "text": [
      "Some weights of GPTNeoForSequenceClassification were not initialized from the model checkpoint at EleutherAI/gpt-neo-1.3B and are newly initialized: ['score.weight']\n",
      "You should probably TRAIN this model on a down-stream task to be able to use it for predictions and inference.\n",
      "You're using a GPT2TokenizerFast tokenizer. Please note that with a fast tokenizer, using the `__call__` method is faster than using a method to encode the text followed by a call to the `pad` method to get a padded encoding.\n"
     ]
    },
    {
     "name": "stdout",
     "output_type": "stream",
     "text": [
      "1 / 30: Train Loss:\t0.2293\tVal Loss:\t0.8636\tAccuracy:\t0.5996\tF1:\t0.4399\tTest Accuracy:\t0.6445\tTest F1:\t0.4766 *\n",
      "2 / 30: Train Loss:\t0.2170\tVal Loss:\t0.8283\tAccuracy:\t0.6214\tF1:\t0.4634\tTest Accuracy:\t0.6289\tTest F1:\t0.4606 *\n",
      "3 / 30: Train Loss:\t0.2060\tVal Loss:\t0.8001\tAccuracy:\t0.6411\tF1:\t0.4713\tTest Accuracy:\t0.6523\tTest F1:\t0.4813 *\n",
      "4 / 30: Train Loss:\t0.2000\tVal Loss:\t0.7736\tAccuracy:\t0.6302\tF1:\t0.4723\tTest Accuracy:\t0.6602\tTest F1:\t0.4861 *\n",
      "5 / 30: Train Loss:\t0.1883\tVal Loss:\t0.7472\tAccuracy:\t0.6455\tF1:\t0.4700\tTest Accuracy:\t0.6523\tTest F1:\t0.4813\n",
      "6 / 30: Train Loss:\t0.1814\tVal Loss:\t0.7101\tAccuracy:\t0.6565\tF1:\t0.4883\tTest Accuracy:\t0.6641\tTest F1:\t0.5086 *\n",
      "7 / 30: Train Loss:\t0.1712\tVal Loss:\t0.6792\tAccuracy:\t0.6761\tF1:\t0.5121\tTest Accuracy:\t0.6953\tTest F1:\t0.5484 *\n",
      "8 / 30: Train Loss:\t0.1649\tVal Loss:\t0.6746\tAccuracy:\t0.6761\tF1:\t0.5083\tTest Accuracy:\t0.7031\tTest F1:\t0.5657\n",
      "9 / 30: Train Loss:\t0.1574\tVal Loss:\t0.6519\tAccuracy:\t0.6893\tF1:\t0.5208\tTest Accuracy:\t0.7031\tTest F1:\t0.5657 *\n",
      "10 / 30: Train Loss:\t0.1506\tVal Loss:\t0.6211\tAccuracy:\t0.7002\tF1:\t0.5567\tTest Accuracy:\t0.7227\tTest F1:\t0.5969 *\n",
      "11 / 30: Train Loss:\t0.1455\tVal Loss:\t0.6174\tAccuracy:\t0.6980\tF1:\t0.5485\tTest Accuracy:\t0.7305\tTest F1:\t0.6082\n",
      "12 / 30: Train Loss:\t0.1394\tVal Loss:\t0.5975\tAccuracy:\t0.7177\tF1:\t0.5731\tTest Accuracy:\t0.7383\tTest F1:\t0.6332 *\n",
      "13 / 30: Train Loss:\t0.1355\tVal Loss:\t0.5878\tAccuracy:\t0.7199\tF1:\t0.5904\tTest Accuracy:\t0.7422\tTest F1:\t0.6276 *\n",
      "14 / 30: Train Loss:\t0.1302\tVal Loss:\t0.5747\tAccuracy:\t0.7418\tF1:\t0.6196\tTest Accuracy:\t0.7344\tTest F1:\t0.6063 *\n",
      "15 / 30: Train Loss:\t0.1268\tVal Loss:\t0.5674\tAccuracy:\t0.7374\tF1:\t0.6187\tTest Accuracy:\t0.7422\tTest F1:\t0.6229\n",
      "16 / 30: Train Loss:\t0.1217\tVal Loss:\t0.5491\tAccuracy:\t0.7396\tF1:\t0.6205\tTest Accuracy:\t0.7383\tTest F1:\t0.6289 *\n",
      "17 / 30: Train Loss:\t0.1193\tVal Loss:\t0.5586\tAccuracy:\t0.7396\tF1:\t0.6258\tTest Accuracy:\t0.7539\tTest F1:\t0.6467 *\n",
      "18 / 30: Train Loss:\t0.1158\tVal Loss:\t0.5353\tAccuracy:\t0.7505\tF1:\t0.6428\tTest Accuracy:\t0.7227\tTest F1:\t0.6019 *\n",
      "19 / 30: Train Loss:\t0.1127\tVal Loss:\t0.5389\tAccuracy:\t0.7462\tF1:\t0.6340\tTest Accuracy:\t0.7305\tTest F1:\t0.6082\n",
      "20 / 30: Train Loss:\t0.1089\tVal Loss:\t0.5349\tAccuracy:\t0.7440\tF1:\t0.6371\tTest Accuracy:\t0.7500\tTest F1:\t0.6476\n",
      "21 / 30: Train Loss:\t0.1068\tVal Loss:\t0.5342\tAccuracy:\t0.7484\tF1:\t0.6457\tTest Accuracy:\t0.7500\tTest F1:\t0.6476 *\n",
      "22 / 30: Train Loss:\t0.1037\tVal Loss:\t0.5219\tAccuracy:\t0.7593\tF1:\t0.6553\tTest Accuracy:\t0.7578\tTest F1:\t0.6545 *\n",
      "23 / 30: Train Loss:\t0.1009\tVal Loss:\t0.5214\tAccuracy:\t0.7681\tF1:\t0.6701\tTest Accuracy:\t0.7734\tTest F1:\t0.6727 *\n",
      "24 / 30: Train Loss:\t0.0974\tVal Loss:\t0.5186\tAccuracy:\t0.7615\tF1:\t0.6573\tTest Accuracy:\t0.7617\tTest F1:\t0.6621\n",
      "25 / 30: Train Loss:\t0.0955\tVal Loss:\t0.5102\tAccuracy:\t0.7659\tF1:\t0.6659\tTest Accuracy:\t0.7500\tTest F1:\t0.6557\n",
      "26 / 30: Train Loss:\t0.0914\tVal Loss:\t0.5132\tAccuracy:\t0.7549\tF1:\t0.6605\tTest Accuracy:\t0.7578\tTest F1:\t0.6626\n",
      "No improvement for 3 epochs. Stopping early.\n",
      "Grid search EleutherAI/gpt-neo-1.3B, learning rate 5e-05\n"
     ]
    },
    {
     "data": {
      "application/vnd.jupyter.widget-view+json": {
       "model_id": "62c93cce59f74b6f8b3235a0f6a646ca",
       "version_major": 2,
       "version_minor": 0
      },
      "text/plain": [
       "Map:   0%|          | 0/256 [00:00<?, ? examples/s]"
      ]
     },
     "metadata": {},
     "output_type": "display_data"
    },
    {
     "name": "stderr",
     "output_type": "stream",
     "text": [
      "Some weights of GPTNeoForSequenceClassification were not initialized from the model checkpoint at EleutherAI/gpt-neo-1.3B and are newly initialized: ['score.weight']\n",
      "You should probably TRAIN this model on a down-stream task to be able to use it for predictions and inference.\n",
      "You're using a GPT2TokenizerFast tokenizer. Please note that with a fast tokenizer, using the `__call__` method is faster than using a method to encode the text followed by a call to the `pad` method to get a padded encoding.\n"
     ]
    },
    {
     "name": "stdout",
     "output_type": "stream",
     "text": [
      "1 / 30: Train Loss:\t0.2141\tVal Loss:\t0.7386\tAccuracy:\t0.6149\tF1:\t0.4858\tTest Accuracy:\t0.6445\tTest F1:\t0.5184 *\n",
      "2 / 30: Train Loss:\t0.1731\tVal Loss:\t0.6408\tAccuracy:\t0.6849\tF1:\t0.5488\tTest Accuracy:\t0.6758\tTest F1:\t0.5654 *\n",
      "3 / 30: Train Loss:\t0.1439\tVal Loss:\t0.5599\tAccuracy:\t0.7462\tF1:\t0.6438\tTest Accuracy:\t0.7109\tTest F1:\t0.5973 *\n",
      "4 / 30: Train Loss:\t0.1243\tVal Loss:\t0.5316\tAccuracy:\t0.7484\tF1:\t0.6384\tTest Accuracy:\t0.7617\tTest F1:\t0.6536\n",
      "5 / 30: Train Loss:\t0.1090\tVal Loss:\t0.5095\tAccuracy:\t0.7615\tF1:\t0.6573\tTest Accuracy:\t0.7500\tTest F1:\t0.6476 *\n",
      "6 / 30: Train Loss:\t0.0950\tVal Loss:\t0.4952\tAccuracy:\t0.7593\tF1:\t0.6577\tTest Accuracy:\t0.7578\tTest F1:\t0.6586 *\n",
      "7 / 30: Train Loss:\t0.0824\tVal Loss:\t0.4776\tAccuracy:\t0.7746\tF1:\t0.6868\tTest Accuracy:\t0.7500\tTest F1:\t0.6667 *\n",
      "8 / 30: Train Loss:\t0.0675\tVal Loss:\t0.4895\tAccuracy:\t0.7702\tF1:\t0.6905\tTest Accuracy:\t0.7500\tTest F1:\t0.6765 *\n",
      "9 / 30: Train Loss:\t0.0521\tVal Loss:\t0.5193\tAccuracy:\t0.7877\tF1:\t0.7088\tTest Accuracy:\t0.7422\tTest F1:\t0.6664 *\n",
      "10 / 30: Train Loss:\t0.0381\tVal Loss:\t0.5469\tAccuracy:\t0.7681\tF1:\t0.7005\tTest Accuracy:\t0.7461\tTest F1:\t0.6819\n",
      "11 / 30: Train Loss:\t0.0267\tVal Loss:\t0.5831\tAccuracy:\t0.7746\tF1:\t0.7082\tTest Accuracy:\t0.7305\tTest F1:\t0.6734\n",
      "12 / 30: Train Loss:\t0.0190\tVal Loss:\t0.6015\tAccuracy:\t0.7921\tF1:\t0.7232\tTest Accuracy:\t0.8008\tTest F1:\t0.7384 *\n",
      "13 / 30: Train Loss:\t0.0133\tVal Loss:\t0.6063\tAccuracy:\t0.7834\tF1:\t0.6950\tTest Accuracy:\t0.7695\tTest F1:\t0.6692\n",
      "14 / 30: Train Loss:\t0.0092\tVal Loss:\t0.6397\tAccuracy:\t0.7856\tF1:\t0.6950\tTest Accuracy:\t0.7500\tTest F1:\t0.6557\n",
      "15 / 30: Train Loss:\t0.0075\tVal Loss:\t0.6739\tAccuracy:\t0.7768\tF1:\t0.6966\tTest Accuracy:\t0.7695\tTest F1:\t0.6943\n",
      "No improvement for 3 epochs. Stopping early.\n",
      "Grid search EleutherAI/gpt-neo-1.3B, learning rate 0.0001\n"
     ]
    },
    {
     "data": {
      "application/vnd.jupyter.widget-view+json": {
       "model_id": "c8dc327940ae4a0fa891a40fcd98381e",
       "version_major": 2,
       "version_minor": 0
      },
      "text/plain": [
       "Map:   0%|          | 0/457 [00:00<?, ? examples/s]"
      ]
     },
     "metadata": {},
     "output_type": "display_data"
    },
    {
     "name": "stderr",
     "output_type": "stream",
     "text": [
      "Some weights of GPTNeoForSequenceClassification were not initialized from the model checkpoint at EleutherAI/gpt-neo-1.3B and are newly initialized: ['score.weight']\n",
      "You should probably TRAIN this model on a down-stream task to be able to use it for predictions and inference.\n",
      "You're using a GPT2TokenizerFast tokenizer. Please note that with a fast tokenizer, using the `__call__` method is faster than using a method to encode the text followed by a call to the `pad` method to get a padded encoding.\n"
     ]
    },
    {
     "name": "stdout",
     "output_type": "stream",
     "text": [
      "1 / 30: Train Loss:\t0.2007\tVal Loss:\t0.6608\tAccuracy:\t0.6740\tF1:\t0.5498\tTest Accuracy:\t0.6719\tTest F1:\t0.5713 *\n",
      "2 / 30: Train Loss:\t0.1438\tVal Loss:\t0.5353\tAccuracy:\t0.7637\tF1:\t0.6519\tTest Accuracy:\t0.7500\tTest F1:\t0.6295 *\n",
      "3 / 30: Train Loss:\t0.1125\tVal Loss:\t0.5026\tAccuracy:\t0.7746\tF1:\t0.6739\tTest Accuracy:\t0.7695\tTest F1:\t0.6808 *\n",
      "4 / 30: Train Loss:\t0.0915\tVal Loss:\t0.4874\tAccuracy:\t0.7724\tF1:\t0.6806\tTest Accuracy:\t0.7461\tTest F1:\t0.6597 *\n",
      "5 / 30: Train Loss:\t0.0674\tVal Loss:\t0.4875\tAccuracy:\t0.7768\tF1:\t0.6908\tTest Accuracy:\t0.7695\tTest F1:\t0.6843 *\n",
      "6 / 30: Train Loss:\t0.0417\tVal Loss:\t0.5303\tAccuracy:\t0.7724\tF1:\t0.6961\tTest Accuracy:\t0.7539\tTest F1:\t0.6702 *\n",
      "7 / 30: Train Loss:\t0.0217\tVal Loss:\t0.5831\tAccuracy:\t0.7856\tF1:\t0.7185\tTest Accuracy:\t0.7773\tTest F1:\t0.7105 *\n",
      "8 / 30: Train Loss:\t0.0105\tVal Loss:\t0.7045\tAccuracy:\t0.7549\tF1:\t0.7128\tTest Accuracy:\t0.7383\tTest F1:\t0.7004\n",
      "9 / 30: Train Loss:\t0.0093\tVal Loss:\t0.7325\tAccuracy:\t0.7287\tF1:\t0.6891\tTest Accuracy:\t0.7305\tTest F1:\t0.7005\n",
      "10 / 30: Train Loss:\t0.0104\tVal Loss:\t0.8263\tAccuracy:\t0.7702\tF1:\t0.6442\tTest Accuracy:\t0.8047\tTest F1:\t0.6893\n",
      "No improvement for 3 epochs. Stopping early.\n"
     ]
    }
   ],
   "source": [
    "r = 8\n",
    "a = 8\n",
    "lora_dropout = 0.0\n",
    "\n",
    "learning_rates = [1.0e-5, 5.0e-5 ,1.0e-4]\n",
    "\n",
    "for lr in learning_rates:\n",
    "    print(f'Grid search {model_checkpoint}, learning rate {lr}')\n",
    "    data = ClimateDataset(model_to_train=1,model_checkpoint=model_checkpoint,dataset_url=flicc_path,batch_size=8)\n",
    "    data.setup_dataloaders()\n",
    "    model = ClassificationModel(model_checkpoint=data.model_checkpoint,\n",
    "                                num_labels=data.num_labels,\n",
    "                                quantized_model=True,\n",
    "                                lora=True,\n",
    "                                r=r,\n",
    "                                alpha=a,\n",
    "                                dropout=lora_dropout)\n",
    "    trainer = Engine(epochs=30,labels=data.labels)\n",
    "    trainer.model = model.model\n",
    "    trainer.run(lr=lr,\n",
    "                wd=0.0,\n",
    "                train_dataloader=data.train_dataloader,\n",
    "                eval_dataloader=data.eval_dataloader,\n",
    "                test_dataloader=data.test_dataloader,\n",
    "                accumulation_steps=4,\n",
    "                early_stop=3,\n",
    "                is_quantized=True)\n",
    "    with torch.no_grad():\n",
    "        torch.cuda.empty_cache()\n",
    "    del data, model, trainer\n",
    "    gc.collect()"
   ]
  }
 ],
 "metadata": {
  "kernelspec": {
   "display_name": "Python 3",
   "language": "python",
   "name": "python3"
  },
  "language_info": {
   "codemirror_mode": {
    "name": "ipython",
    "version": 3
   },
   "file_extension": ".py",
   "mimetype": "text/x-python",
   "name": "python",
   "nbconvert_exporter": "python",
   "pygments_lexer": "ipython3",
   "version": "3.11.5"
  },
  "orig_nbformat": 4
 },
 "nbformat": 4,
 "nbformat_minor": 2
}
