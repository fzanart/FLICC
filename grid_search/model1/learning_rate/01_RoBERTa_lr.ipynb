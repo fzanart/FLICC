{
 "cells": [
  {
   "cell_type": "code",
   "execution_count": 1,
   "metadata": {},
   "outputs": [],
   "source": [
    "import os\n",
    "import sys\n",
    "import gc\n",
    "# assuming data, models, engine in flicc directory:\n",
    "flicc_path = os.path.realpath(\"__file__\").split('grid_search')[0]\n",
    "sys.path.append(flicc_path)\n",
    "import torch\n",
    "from data import ClimateDataset\n",
    "from models import ClassificationModel\n",
    "from engine import Engine"
   ]
  },
  {
   "cell_type": "code",
   "execution_count": 2,
   "metadata": {},
   "outputs": [],
   "source": [
    "model_checkpoint='roberta-large'"
   ]
  },
  {
   "cell_type": "code",
   "execution_count": 3,
   "metadata": {},
   "outputs": [],
   "source": [
    "results = {'test_acc':[],\n",
    "           'test_f1':[],\n",
    "           'eval_acc':[],\n",
    "           'eval_f1':[],\n",
    "           'lr':[]}"
   ]
  },
  {
   "cell_type": "code",
   "execution_count": 4,
   "metadata": {},
   "outputs": [
    {
     "name": "stdout",
     "output_type": "stream",
     "text": [
      "Grid search roberta-large, learning rate 1e-05\n"
     ]
    },
    {
     "name": "stderr",
     "output_type": "stream",
     "text": [
      "Some weights of RobertaForSequenceClassification were not initialized from the model checkpoint at roberta-large and are newly initialized: ['classifier.out_proj.weight', 'classifier.dense.bias', 'classifier.dense.weight', 'classifier.out_proj.bias']\n",
      "You should probably TRAIN this model on a down-stream task to be able to use it for predictions and inference.\n",
      "You're using a RobertaTokenizerFast tokenizer. Please note that with a fast tokenizer, using the `__call__` method is faster than using a method to encode the text followed by a call to the `pad` method to get a padded encoding.\n"
     ]
    },
    {
     "name": "stdout",
     "output_type": "stream",
     "text": [
      "1 / 30: Train Loss:\t0.3028\tVal Loss:\t0.4961\tAccuracy:\t0.7746\tF1:\t0.5681\n",
      "2 / 30: Train Loss:\t0.2232\tVal Loss:\t0.3569\tAccuracy:\t0.8534\tF1:\t0.8203\n",
      "3 / 30: Train Loss:\t0.1538\tVal Loss:\t0.2871\tAccuracy:\t0.8906\tF1:\t0.8564\n",
      "4 / 30: Train Loss:\t0.0927\tVal Loss:\t0.3524\tAccuracy:\t0.8928\tF1:\t0.8470\n",
      "5 / 30: Train Loss:\t0.0636\tVal Loss:\t0.3772\tAccuracy:\t0.8972\tF1:\t0.8532\n",
      "6 / 30: Train Loss:\t0.0563\tVal Loss:\t0.6523\tAccuracy:\t0.8053\tF1:\t0.7788\n",
      "No improvement for 3 epochs. Stopping early.\n",
      "best (higgest macro f1-score) val results:\n",
      "              precision    recall  f1-score   support\n",
      "\n",
      "       bknow       0.80      0.77      0.79       119\n",
      "      struct       0.92      0.93      0.93       338\n",
      "\n",
      "    accuracy                           0.89       457\n",
      "   macro avg       0.86      0.85      0.86       457\n",
      "weighted avg       0.89      0.89      0.89       457\n",
      "\n",
      "test results:\n",
      "              precision    recall  f1-score   support\n",
      "\n",
      "       bknow       0.68      0.69      0.68        67\n",
      "      struct       0.89      0.88      0.89       189\n",
      "\n",
      "    accuracy                           0.83       256\n",
      "   macro avg       0.78      0.79      0.78       256\n",
      "weighted avg       0.83      0.83      0.83       256\n",
      "\n",
      "### ### ### ### ### ### ### ### ### ### \n",
      "{'test_acc': [0.83203125], 'test_f1': [0.7837115630219078], 'eval_acc': [0.8905908096280087], 'eval_f1': [0.8563976872800403], 'lr': [1e-05]}\n",
      "### ### ### ### ### ### ### ### ### ### \n",
      "Grid search roberta-large, learning rate 5e-05\n"
     ]
    },
    {
     "name": "stderr",
     "output_type": "stream",
     "text": [
      "Some weights of RobertaForSequenceClassification were not initialized from the model checkpoint at roberta-large and are newly initialized: ['classifier.out_proj.weight', 'classifier.dense.bias', 'classifier.dense.weight', 'classifier.out_proj.bias']\n",
      "You should probably TRAIN this model on a down-stream task to be able to use it for predictions and inference.\n",
      "You're using a RobertaTokenizerFast tokenizer. Please note that with a fast tokenizer, using the `__call__` method is faster than using a method to encode the text followed by a call to the `pad` method to get a padded encoding.\n"
     ]
    },
    {
     "name": "stdout",
     "output_type": "stream",
     "text": [
      "1 / 30: Train Loss:\t0.3016\tVal Loss:\t0.5391\tAccuracy:\t0.7396\tF1:\t0.4252\n",
      "2 / 30: Train Loss:\t0.2934\tVal Loss:\t0.5724\tAccuracy:\t0.7396\tF1:\t0.4252\n",
      "3 / 30: Train Loss:\t0.2863\tVal Loss:\t0.5021\tAccuracy:\t0.8140\tF1:\t0.6796\n",
      "4 / 30: Train Loss:\t0.2915\tVal Loss:\t0.5772\tAccuracy:\t0.7396\tF1:\t0.4252\n",
      "5 / 30: Train Loss:\t0.2943\tVal Loss:\t0.5822\tAccuracy:\t0.7396\tF1:\t0.4252\n",
      "6 / 30: Train Loss:\t0.2891\tVal Loss:\t0.5781\tAccuracy:\t0.7396\tF1:\t0.4252\n",
      "No improvement for 3 epochs. Stopping early.\n",
      "best (higgest macro f1-score) val results:\n",
      "              precision    recall  f1-score   support\n",
      "\n",
      "       bknow       0.90      0.32      0.47       119\n",
      "      struct       0.80      0.99      0.89       338\n",
      "\n",
      "    accuracy                           0.81       457\n",
      "   macro avg       0.85      0.65      0.68       457\n",
      "weighted avg       0.83      0.81      0.78       457\n",
      "\n",
      "test results:\n",
      "              precision    recall  f1-score   support\n",
      "\n",
      "       bknow       0.67      0.36      0.47        67\n",
      "      struct       0.80      0.94      0.87       189\n",
      "\n",
      "    accuracy                           0.79       256\n",
      "   macro avg       0.74      0.65      0.67       256\n",
      "weighted avg       0.77      0.79      0.76       256\n",
      "\n",
      "### ### ### ### ### ### ### ### ### ### \n",
      "{'test_acc': [0.83203125, 0.78515625], 'test_f1': [0.7837115630219078, 0.6657725449236832], 'eval_acc': [0.8905908096280087, 0.8140043763676149], 'eval_f1': [0.8563976872800403, 0.679583941666048], 'lr': [1e-05, 5e-05]}\n",
      "### ### ### ### ### ### ### ### ### ### \n",
      "Grid search roberta-large, learning rate 0.0001\n"
     ]
    },
    {
     "name": "stderr",
     "output_type": "stream",
     "text": [
      "Some weights of RobertaForSequenceClassification were not initialized from the model checkpoint at roberta-large and are newly initialized: ['classifier.out_proj.weight', 'classifier.dense.bias', 'classifier.dense.weight', 'classifier.out_proj.bias']\n",
      "You should probably TRAIN this model on a down-stream task to be able to use it for predictions and inference.\n",
      "You're using a RobertaTokenizerFast tokenizer. Please note that with a fast tokenizer, using the `__call__` method is faster than using a method to encode the text followed by a call to the `pad` method to get a padded encoding.\n"
     ]
    },
    {
     "name": "stdout",
     "output_type": "stream",
     "text": [
      "1 / 30: Train Loss:\t0.3072\tVal Loss:\t0.5770\tAccuracy:\t0.7396\tF1:\t0.4252\n",
      "2 / 30: Train Loss:\t0.2960\tVal Loss:\t0.5872\tAccuracy:\t0.7396\tF1:\t0.4252\n",
      "3 / 30: Train Loss:\t0.2949\tVal Loss:\t0.5828\tAccuracy:\t0.7396\tF1:\t0.4252\n",
      "4 / 30: Train Loss:\t0.2915\tVal Loss:\t0.5872\tAccuracy:\t0.7396\tF1:\t0.4252\n",
      "No improvement for 3 epochs. Stopping early.\n",
      "best (higgest macro f1-score) val results:\n",
      "              precision    recall  f1-score   support\n",
      "\n",
      "       bknow       0.00      0.00      0.00       119\n",
      "      struct       0.74      1.00      0.85       338\n",
      "\n",
      "    accuracy                           0.74       457\n",
      "   macro avg       0.37      0.50      0.43       457\n",
      "weighted avg       0.55      0.74      0.63       457\n",
      "\n",
      "test results:\n",
      "              precision    recall  f1-score   support\n",
      "\n",
      "       bknow       0.00      0.00      0.00        67\n",
      "      struct       0.74      1.00      0.85       189\n",
      "\n",
      "    accuracy                           0.74       256\n",
      "   macro avg       0.37      0.50      0.42       256\n",
      "weighted avg       0.55      0.74      0.63       256\n",
      "\n",
      "### ### ### ### ### ### ### ### ### ### \n",
      "{'test_acc': [0.83203125, 0.78515625, 0.73828125], 'test_f1': [0.7837115630219078, 0.6657725449236832, 0.4247191011235955], 'eval_acc': [0.8905908096280087, 0.8140043763676149, 0.7396061269146609], 'eval_f1': [0.8563976872800403, 0.679583941666048, 0.42515723270440253], 'lr': [1e-05, 5e-05, 0.0001]}\n",
      "### ### ### ### ### ### ### ### ### ### \n"
     ]
    }
   ],
   "source": [
    "learning_rates = [1.0e-5, 5.0e-5 ,1.0e-4]\n",
    "\n",
    "for lr in learning_rates:\n",
    "    print(f'Grid search {model_checkpoint}, learning rate {lr}')\n",
    "    data = ClimateDataset(model_to_train=1,model_checkpoint=model_checkpoint,dataset_url=flicc_path,batch_size=16)\n",
    "    data.setup_dataloaders()\n",
    "    model = ClassificationModel(model_checkpoint=data.model_checkpoint,num_labels=data.num_labels)\n",
    "    trainer = Engine(epochs=30,labels=data.labels)\n",
    "    trainer.model = model.model\n",
    "    test_acc, test_f1, eval_acc, eval_f1 = trainer.run(lr=lr,\n",
    "                                                       wd=0.0,\n",
    "                                                       train_dataloader=data.train_dataloader,\n",
    "                                                       eval_dataloader=data.eval_dataloader,\n",
    "                                                       test_dataloader=data.test_dataloader,\n",
    "                                                       accumulation_steps=2,\n",
    "                                                       early_stop=3)\n",
    "    results['test_acc'].append(test_acc)\n",
    "    results['test_f1'].append(test_f1)\n",
    "    results['eval_acc'].append(eval_acc)\n",
    "    results['eval_f1'].append(eval_f1)\n",
    "    results['lr'].append(lr)\n",
    "    print('### '*10)\n",
    "    print(results)\n",
    "    print('### '*10)\n",
    "    with torch.no_grad():\n",
    "        torch.cuda.empty_cache()\n",
    "    del data, model, trainer, test_acc, test_f1, eval_acc, eval_f1\n",
    "    gc.collect()"
   ]
  },
  {
   "cell_type": "code",
   "execution_count": 5,
   "metadata": {},
   "outputs": [
    {
     "data": {
      "image/png": "[encoded data removed]",
      "text/plain": [
       "<Figure size 640x480 with 1 Axes>"
      ]
     },
     "metadata": {},
     "output_type": "display_data"
    }
   ],
   "source": [
    "Engine.plot_grid_search(df=results,\n",
    "                        title=f'Learning rates {model_checkpoint}',\n",
    "                        column='lr',\n",
    "                        sci_format=False)"
   ]
  },
  {
   "cell_type": "code",
   "execution_count": 6,
   "metadata": {},
   "outputs": [],
   "source": [
    "%reset -f"
   ]
  }
 ],
 "metadata": {
  "kernelspec": {
   "display_name": "Python 3",
   "language": "python",
   "name": "python3"
  },
  "language_info": {
   "codemirror_mode": {
    "name": "ipython",
    "version": 3
   },
   "file_extension": ".py",
   "mimetype": "text/x-python",
   "name": "python",
   "nbconvert_exporter": "python",
   "pygments_lexer": "ipython3",
   "version": "3.11.5"
  },
  "orig_nbformat": 4
 },
 "nbformat": 4,
 "nbformat_minor": 2
}
