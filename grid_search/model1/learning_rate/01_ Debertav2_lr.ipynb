{
 "cells": [
  {
   "cell_type": "code",
   "execution_count": 1,
   "metadata": {},
   "outputs": [],
   "source": [
    "import os\n",
    "os.environ['TRANSFORMERS_CACHE'] = '/mnt/software/'\n",
    "import sys\n",
    "import gc\n",
    "# assuming data, models, engine in flicc directory:\n",
    "flicc_path = os.path.realpath(\"__file__\").split('grid_search')[0]\n",
    "sys.path.append(flicc_path)\n",
    "import torch\n",
    "from data import ClimateDataset\n",
    "from models import ClassificationModel\n",
    "from engine import Engine\n",
    "\n",
    "import warnings\n",
    "warnings.filterwarnings(\"ignore\")"
   ]
  },
  {
   "cell_type": "code",
   "execution_count": 2,
   "metadata": {},
   "outputs": [],
   "source": [
    "model_checkpoint='microsoft/deberta-v2-xlarge'"
   ]
  },
  {
   "cell_type": "code",
   "execution_count": 3,
   "metadata": {},
   "outputs": [],
   "source": [
    "results = {'test_acc':[],\n",
    "           'test_f1':[],\n",
    "           'eval_acc':[],\n",
    "           'eval_f1':[],\n",
    "           'lr':[]}"
   ]
  },
  {
   "cell_type": "code",
   "execution_count": 4,
   "metadata": {},
   "outputs": [
    {
     "name": "stdout",
     "output_type": "stream",
     "text": [
      "Grid search microsoft/deberta-v2-xlarge, learning rate 1e-06\n"
     ]
    },
    {
     "name": "stderr",
     "output_type": "stream",
     "text": [
      "Some weights of DebertaV2ForSequenceClassification were not initialized from the model checkpoint at microsoft/deberta-v2-xlarge and are newly initialized: ['classifier.bias', 'classifier.weight', 'pooler.dense.weight', 'pooler.dense.bias']\n",
      "You should probably TRAIN this model on a down-stream task to be able to use it for predictions and inference.\n",
      "You're using a DebertaV2TokenizerFast tokenizer. Please note that with a fast tokenizer, using the `__call__` method is faster than using a method to encode the text followed by a call to the `pad` method to get a padded encoding.\n"
     ]
    },
    {
     "name": "stdout",
     "output_type": "stream",
     "text": [
      "1 / 30: Train Loss:\t0.2021\tVal Loss:\t0.8061\tAccuracy:\t0.2626\tF1:\t0.2099\tTest Accuracy:\t0.2617\tTest F1:\t0.2074 *\n",
      "2 / 30: Train Loss:\t0.1989\tVal Loss:\t0.7928\tAccuracy:\t0.2691\tF1:\t0.2197\tTest Accuracy:\t0.2578\tTest F1:\t0.2050 *\n",
      "3 / 30: Train Loss:\t0.1978\tVal Loss:\t0.7820\tAccuracy:\t0.2713\tF1:\t0.2230\tTest Accuracy:\t0.2578\tTest F1:\t0.2050 *\n",
      "4 / 30: Train Loss:\t0.1943\tVal Loss:\t0.7722\tAccuracy:\t0.2713\tF1:\t0.2230\tTest Accuracy:\t0.2578\tTest F1:\t0.2050\n",
      "5 / 30: Train Loss:\t0.1926\tVal Loss:\t0.7599\tAccuracy:\t0.2735\tF1:\t0.2280\tTest Accuracy:\t0.2656\tTest F1:\t0.2199 *\n",
      "6 / 30: Train Loss:\t0.1895\tVal Loss:\t0.7512\tAccuracy:\t0.2757\tF1:\t0.2362\tTest Accuracy:\t0.2852\tTest F1:\t0.2506 *\n",
      "7 / 30: Train Loss:\t0.1883\tVal Loss:\t0.7403\tAccuracy:\t0.2888\tF1:\t0.2601\tTest Accuracy:\t0.2852\tTest F1:\t0.2580 *\n",
      "8 / 30: Train Loss:\t0.1844\tVal Loss:\t0.7327\tAccuracy:\t0.2954\tF1:\t0.2780\tTest Accuracy:\t0.3203\tTest F1:\t0.3050 *\n",
      "9 / 30: Train Loss:\t0.1834\tVal Loss:\t0.7219\tAccuracy:\t0.3239\tF1:\t0.3205\tTest Accuracy:\t0.3594\tTest F1:\t0.3554 *\n",
      "10 / 30: Train Loss:\t0.1809\tVal Loss:\t0.7134\tAccuracy:\t0.3523\tF1:\t0.3523\tTest Accuracy:\t0.3711\tTest F1:\t0.3703 *\n",
      "11 / 30: Train Loss:\t0.1794\tVal Loss:\t0.7054\tAccuracy:\t0.3851\tF1:\t0.3794\tTest Accuracy:\t0.3945\tTest F1:\t0.3930 *\n",
      "12 / 30: Train Loss:\t0.1771\tVal Loss:\t0.6970\tAccuracy:\t0.4486\tF1:\t0.4140\tTest Accuracy:\t0.4727\tTest F1:\t0.4471 *\n",
      "13 / 30: Train Loss:\t0.1747\tVal Loss:\t0.6907\tAccuracy:\t0.5821\tF1:\t0.4301\tTest Accuracy:\t0.5820\tTest F1:\t0.4764 *\n",
      "14 / 30: Train Loss:\t0.1741\tVal Loss:\t0.6824\tAccuracy:\t0.6389\tF1:\t0.4409\tTest Accuracy:\t0.6328\tTest F1:\t0.4696 *\n",
      "15 / 30: Train Loss:\t0.1711\tVal Loss:\t0.6755\tAccuracy:\t0.6652\tF1:\t0.4342\tTest Accuracy:\t0.6758\tTest F1:\t0.4803\n",
      "16 / 30: Train Loss:\t0.1706\tVal Loss:\t0.6702\tAccuracy:\t0.6915\tF1:\t0.4285\tTest Accuracy:\t0.7031\tTest F1:\t0.4689\n",
      "17 / 30: Train Loss:\t0.1678\tVal Loss:\t0.6629\tAccuracy:\t0.7046\tF1:\t0.4204\tTest Accuracy:\t0.7227\tTest F1:\t0.4686\n",
      "No improvement for 3 epochs. Stopping early.\n",
      "Grid search microsoft/deberta-v2-xlarge, learning rate 1e-05\n"
     ]
    },
    {
     "name": "stderr",
     "output_type": "stream",
     "text": [
      "Some weights of DebertaV2ForSequenceClassification were not initialized from the model checkpoint at microsoft/deberta-v2-xlarge and are newly initialized: ['classifier.bias', 'classifier.weight', 'pooler.dense.weight', 'pooler.dense.bias']\n",
      "You should probably TRAIN this model on a down-stream task to be able to use it for predictions and inference.\n",
      "You're using a DebertaV2TokenizerFast tokenizer. Please note that with a fast tokenizer, using the `__call__` method is faster than using a method to encode the text followed by a call to the `pad` method to get a padded encoding.\n"
     ]
    },
    {
     "name": "stdout",
     "output_type": "stream",
     "text": [
      "1 / 30: Train Loss:\t0.1909\tVal Loss:\t0.7123\tAccuracy:\t0.3829\tF1:\t0.3816\tTest Accuracy:\t0.3750\tTest F1:\t0.3750 *\n",
      "2 / 30: Train Loss:\t0.1705\tVal Loss:\t0.6467\tAccuracy:\t0.7243\tF1:\t0.4201\tTest Accuracy:\t0.7305\tTest F1:\t0.4221 *\n",
      "3 / 30: Train Loss:\t0.1597\tVal Loss:\t0.6096\tAccuracy:\t0.7374\tF1:\t0.4244\tTest Accuracy:\t0.7383\tTest F1:\t0.4247 *\n",
      "4 / 30: Train Loss:\t0.1521\tVal Loss:\t0.5948\tAccuracy:\t0.7374\tF1:\t0.4244\tTest Accuracy:\t0.7383\tTest F1:\t0.4247\n",
      "5 / 30: Train Loss:\t0.1492\tVal Loss:\t0.5867\tAccuracy:\t0.7374\tF1:\t0.4244\tTest Accuracy:\t0.7383\tTest F1:\t0.4247\n",
      "6 / 30: Train Loss:\t0.1485\tVal Loss:\t0.5831\tAccuracy:\t0.7374\tF1:\t0.4244\tTest Accuracy:\t0.7383\tTest F1:\t0.4247\n",
      "No improvement for 3 epochs. Stopping early.\n",
      "Grid search microsoft/deberta-v2-xlarge, learning rate 5e-05\n"
     ]
    },
    {
     "name": "stderr",
     "output_type": "stream",
     "text": [
      "Some weights of DebertaV2ForSequenceClassification were not initialized from the model checkpoint at microsoft/deberta-v2-xlarge and are newly initialized: ['classifier.bias', 'classifier.weight', 'pooler.dense.weight', 'pooler.dense.bias']\n",
      "You should probably TRAIN this model on a down-stream task to be able to use it for predictions and inference.\n",
      "You're using a DebertaV2TokenizerFast tokenizer. Please note that with a fast tokenizer, using the `__call__` method is faster than using a method to encode the text followed by a call to the `pad` method to get a padded encoding.\n"
     ]
    },
    {
     "name": "stdout",
     "output_type": "stream",
     "text": [
      "1 / 30: Train Loss:\t0.1647\tVal Loss:\t0.5855\tAccuracy:\t0.7396\tF1:\t0.4252\tTest Accuracy:\t0.7383\tTest F1:\t0.4247 *\n",
      "2 / 30: Train Loss:\t0.1453\tVal Loss:\t0.5767\tAccuracy:\t0.7396\tF1:\t0.4252\tTest Accuracy:\t0.7383\tTest F1:\t0.4247\n",
      "3 / 30: Train Loss:\t0.1463\tVal Loss:\t0.5731\tAccuracy:\t0.7396\tF1:\t0.4252\tTest Accuracy:\t0.7383\tTest F1:\t0.4247\n",
      "4 / 30: Train Loss:\t0.1445\tVal Loss:\t0.5696\tAccuracy:\t0.7396\tF1:\t0.4252\tTest Accuracy:\t0.7383\tTest F1:\t0.4247\n",
      "No improvement for 3 epochs. Stopping early.\n",
      "Grid search microsoft/deberta-v2-xlarge, learning rate 0.0001\n"
     ]
    },
    {
     "name": "stderr",
     "output_type": "stream",
     "text": [
      "Some weights of DebertaV2ForSequenceClassification were not initialized from the model checkpoint at microsoft/deberta-v2-xlarge and are newly initialized: ['classifier.bias', 'classifier.weight', 'pooler.dense.weight', 'pooler.dense.bias']\n",
      "You should probably TRAIN this model on a down-stream task to be able to use it for predictions and inference.\n",
      "You're using a DebertaV2TokenizerFast tokenizer. Please note that with a fast tokenizer, using the `__call__` method is faster than using a method to encode the text followed by a call to the `pad` method to get a padded encoding.\n"
     ]
    },
    {
     "name": "stdout",
     "output_type": "stream",
     "text": [
      "1 / 30: Train Loss:\t0.1561\tVal Loss:\t0.5761\tAccuracy:\t0.7396\tF1:\t0.4252\tTest Accuracy:\t0.7383\tTest F1:\t0.4247 *\n",
      "2 / 30: Train Loss:\t0.1439\tVal Loss:\t0.5688\tAccuracy:\t0.7396\tF1:\t0.4252\tTest Accuracy:\t0.7383\tTest F1:\t0.4247\n",
      "3 / 30: Train Loss:\t0.1446\tVal Loss:\t0.5635\tAccuracy:\t0.7396\tF1:\t0.4252\tTest Accuracy:\t0.7383\tTest F1:\t0.4247\n",
      "4 / 30: Train Loss:\t0.1410\tVal Loss:\t0.5445\tAccuracy:\t0.7396\tF1:\t0.4252\tTest Accuracy:\t0.7383\tTest F1:\t0.4247\n",
      "No improvement for 3 epochs. Stopping early.\n",
      "Grid search microsoft/deberta-v2-xlarge, learning rate 0.001\n"
     ]
    },
    {
     "name": "stderr",
     "output_type": "stream",
     "text": [
      "Some weights of DebertaV2ForSequenceClassification were not initialized from the model checkpoint at microsoft/deberta-v2-xlarge and are newly initialized: ['classifier.bias', 'classifier.weight', 'pooler.dense.weight', 'pooler.dense.bias']\n",
      "You should probably TRAIN this model on a down-stream task to be able to use it for predictions and inference.\n",
      "You're using a DebertaV2TokenizerFast tokenizer. Please note that with a fast tokenizer, using the `__call__` method is faster than using a method to encode the text followed by a call to the `pad` method to get a padded encoding.\n"
     ]
    },
    {
     "name": "stdout",
     "output_type": "stream",
     "text": [
      "1 / 30: Train Loss:\t0.1498\tVal Loss:\t0.5831\tAccuracy:\t0.7396\tF1:\t0.4252\tTest Accuracy:\t0.7383\tTest F1:\t0.4247 *\n",
      "2 / 30: Train Loss:\t0.1423\tVal Loss:\t0.5306\tAccuracy:\t0.7505\tF1:\t0.4753\tTest Accuracy:\t0.7500\tTest F1:\t0.5056 *\n",
      "3 / 30: Train Loss:\t0.1315\tVal Loss:\t0.5729\tAccuracy:\t0.7396\tF1:\t0.4252\tTest Accuracy:\t0.7383\tTest F1:\t0.4247\n",
      "4 / 30: Train Loss:\t0.1530\tVal Loss:\t0.5842\tAccuracy:\t0.7396\tF1:\t0.4252\tTest Accuracy:\t0.7383\tTest F1:\t0.4247\n",
      "5 / 30: Train Loss:\t0.1473\tVal Loss:\t0.5884\tAccuracy:\t0.7396\tF1:\t0.4252\tTest Accuracy:\t0.7383\tTest F1:\t0.4247\n",
      "No improvement for 3 epochs. Stopping early.\n"
     ]
    }
   ],
   "source": [
    "r = 8\n",
    "a = 8\n",
    "lora_dropout = 0.0\n",
    "\n",
    "learning_rates = [1.0e-6, 1.0e-5, 5.0e-5 ,1.0e-4, 1.0e-3]\n",
    "\n",
    "for lr in learning_rates:\n",
    "    print(f'Grid search {model_checkpoint}, learning rate {lr}')\n",
    "    data = ClimateDataset(model_to_train=1,model_checkpoint=model_checkpoint,dataset_url=flicc_path,batch_size=8)\n",
    "    data.setup_dataloaders()\n",
    "    model = ClassificationModel(model_checkpoint=data.model_checkpoint,\n",
    "                                num_labels=data.num_labels,\n",
    "                                quantized_model=True,\n",
    "                                lora=True,\n",
    "                                r=r,\n",
    "                                alpha=a,\n",
    "                                dropout=lora_dropout)\n",
    "    trainer = Engine(epochs=30,labels=data.labels)\n",
    "    trainer.model = model.model\n",
    "    trainer.run(lr=lr,\n",
    "                wd=0.0,\n",
    "                train_dataloader=data.train_dataloader,\n",
    "                eval_dataloader=data.eval_dataloader,\n",
    "                test_dataloader=data.test_dataloader,\n",
    "                accumulation_steps=4,\n",
    "                early_stop=3,\n",
    "                is_quantized=True)\n",
    "    with torch.no_grad():\n",
    "        torch.cuda.empty_cache()\n",
    "    del data, model, trainer\n",
    "    gc.collect()"
   ]
  },
  {
   "cell_type": "code",
   "execution_count": 5,
   "metadata": {},
   "outputs": [],
   "source": [
    "%reset -f"
   ]
  }
 ],
 "metadata": {
  "kernelspec": {
   "display_name": "Python 3",
   "language": "python",
   "name": "python3"
  },
  "language_info": {
   "codemirror_mode": {
    "name": "ipython",
    "version": 3
   },
   "file_extension": ".py",
   "mimetype": "text/x-python",
   "name": "python",
   "nbconvert_exporter": "python",
   "pygments_lexer": "ipython3",
   "version": "3.11.5"
  },
  "orig_nbformat": 4
 },
 "nbformat": 4,
 "nbformat_minor": 2
}
