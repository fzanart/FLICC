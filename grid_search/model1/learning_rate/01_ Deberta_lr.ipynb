{
 "cells": [
  {
   "cell_type": "code",
   "execution_count": 1,
   "metadata": {},
   "outputs": [],
   "source": [
    "import os\n",
    "import sys\n",
    "import gc\n",
    "# assuming data, models, engine in flicc directory:\n",
    "flicc_path = os.path.realpath(\"__file__\").split('grid_search')[0]\n",
    "sys.path.append(flicc_path)\n",
    "import torch\n",
    "from data import ClimateDataset\n",
    "from models import ClassificationModel\n",
    "from engine import Engine"
   ]
  },
  {
   "cell_type": "code",
   "execution_count": 2,
   "metadata": {},
   "outputs": [],
   "source": [
    "model_checkpoint='microsoft/deberta-base'"
   ]
  },
  {
   "cell_type": "code",
   "execution_count": 3,
   "metadata": {},
   "outputs": [],
   "source": [
    "results = {'test_acc':[],\n",
    "           'test_f1':[],\n",
    "           'eval_acc':[],\n",
    "           'eval_f1':[],\n",
    "           'lr':[]}"
   ]
  },
  {
   "cell_type": "code",
   "execution_count": 4,
   "metadata": {},
   "outputs": [
    {
     "name": "stdout",
     "output_type": "stream",
     "text": [
      "Grid search microsoft/deberta-base, learning rate 1e-05\n"
     ]
    },
    {
     "data": {
      "application/vnd.jupyter.widget-view+json": {
       "model_id": "e9266dc61fb241ca87d8b145c1749484",
       "version_major": 2,
       "version_minor": 0
      },
      "text/plain": [
       "Downloading (…)okenizer_config.json:   0%|          | 0.00/52.0 [00:00<?, ?B/s]"
      ]
     },
     "metadata": {},
     "output_type": "display_data"
    },
    {
     "data": {
      "application/vnd.jupyter.widget-view+json": {
       "model_id": "1a4e2cb3d089473c92c447890a9aa78c",
       "version_major": 2,
       "version_minor": 0
      },
      "text/plain": [
       "Downloading (…)lve/main/config.json:   0%|          | 0.00/474 [00:00<?, ?B/s]"
      ]
     },
     "metadata": {},
     "output_type": "display_data"
    },
    {
     "data": {
      "application/vnd.jupyter.widget-view+json": {
       "model_id": "ee9d35ba76ab486189b403c3761f3f77",
       "version_major": 2,
       "version_minor": 0
      },
      "text/plain": [
       "Downloading (…)olve/main/vocab.json:   0%|          | 0.00/899k [00:00<?, ?B/s]"
      ]
     },
     "metadata": {},
     "output_type": "display_data"
    },
    {
     "data": {
      "application/vnd.jupyter.widget-view+json": {
       "model_id": "d35912552fa14b0789c9facecaa20922",
       "version_major": 2,
       "version_minor": 0
      },
      "text/plain": [
       "Downloading (…)olve/main/merges.txt:   0%|          | 0.00/456k [00:00<?, ?B/s]"
      ]
     },
     "metadata": {},
     "output_type": "display_data"
    },
    {
     "data": {
      "application/vnd.jupyter.widget-view+json": {
       "model_id": "46275ad36eab48ef9c8e38646c6cc66d",
       "version_major": 2,
       "version_minor": 0
      },
      "text/plain": [
       "Map:   0%|          | 0/1796 [00:00<?, ? examples/s]"
      ]
     },
     "metadata": {},
     "output_type": "display_data"
    },
    {
     "data": {
      "application/vnd.jupyter.widget-view+json": {
       "model_id": "1703667a005c49118e985c313f969cfd",
       "version_major": 2,
       "version_minor": 0
      },
      "text/plain": [
       "Map:   0%|          | 0/256 [00:00<?, ? examples/s]"
      ]
     },
     "metadata": {},
     "output_type": "display_data"
    },
    {
     "data": {
      "application/vnd.jupyter.widget-view+json": {
       "model_id": "60a77c8109134bbfbe192178f2788e15",
       "version_major": 2,
       "version_minor": 0
      },
      "text/plain": [
       "Map:   0%|          | 0/457 [00:00<?, ? examples/s]"
      ]
     },
     "metadata": {},
     "output_type": "display_data"
    },
    {
     "data": {
      "application/vnd.jupyter.widget-view+json": {
       "model_id": "b516379617cd4c239744810c0b0f43ac",
       "version_major": 2,
       "version_minor": 0
      },
      "text/plain": [
       "Downloading pytorch_model.bin:   0%|          | 0.00/559M [00:00<?, ?B/s]"
      ]
     },
     "metadata": {},
     "output_type": "display_data"
    },
    {
     "name": "stderr",
     "output_type": "stream",
     "text": [
      "Some weights of DebertaForSequenceClassification were not initialized from the model checkpoint at microsoft/deberta-base and are newly initialized: ['classifier.weight', 'classifier.bias', 'pooler.dense.bias', 'pooler.dense.weight']\n",
      "You should probably TRAIN this model on a down-stream task to be able to use it for predictions and inference.\n",
      "You're using a DebertaTokenizerFast tokenizer. Please note that with a fast tokenizer, using the `__call__` method is faster than using a method to encode the text followed by a call to the `pad` method to get a padded encoding.\n"
     ]
    },
    {
     "name": "stdout",
     "output_type": "stream",
     "text": [
      "1 / 30: Train Loss:\t0.5518\tVal Loss:\t0.4740\tAccuracy:\t0.7834\tF1:\t0.6590\n",
      "2 / 30: Train Loss:\t0.4234\tVal Loss:\t0.3983\tAccuracy:\t0.8249\tF1:\t0.7209\n",
      "3 / 30: Train Loss:\t0.3022\tVal Loss:\t0.3819\tAccuracy:\t0.8556\tF1:\t0.7903\n",
      "4 / 30: Train Loss:\t0.1827\tVal Loss:\t0.4040\tAccuracy:\t0.8643\tF1:\t0.8030\n",
      "5 / 30: Train Loss:\t0.1165\tVal Loss:\t0.4796\tAccuracy:\t0.8578\tF1:\t0.8023\n",
      "6 / 30: Train Loss:\t0.0904\tVal Loss:\t0.7063\tAccuracy:\t0.7921\tF1:\t0.7655\n",
      "7 / 30: Train Loss:\t0.0933\tVal Loss:\t0.5466\tAccuracy:\t0.8293\tF1:\t0.7932\n",
      "No improvement for 3 epochs. Stopping early.\n",
      "best (higgest macro f1-score) val results:\n",
      "              precision    recall  f1-score   support\n",
      "\n",
      "       bknow       0.84      0.59      0.69       119\n",
      "      struct       0.87      0.96      0.91       338\n",
      "\n",
      "    accuracy                           0.86       457\n",
      "   macro avg       0.86      0.77      0.80       457\n",
      "weighted avg       0.86      0.86      0.86       457\n",
      "\n",
      "test results:\n",
      "              precision    recall  f1-score   support\n",
      "\n",
      "       bknow       0.69      0.54      0.61        67\n",
      "      struct       0.85      0.92      0.88       189\n",
      "\n",
      "    accuracy                           0.82       256\n",
      "   macro avg       0.77      0.73      0.74       256\n",
      "weighted avg       0.81      0.82      0.81       256\n",
      "\n",
      "### ### ### ### ### ### ### ### ### ### \n",
      "{'test_acc': [0.81640625], 'test_f1': [0.7427245707443282], 'eval_acc': [0.8643326039387309], 'eval_f1': [0.8029953276226499], 'lr': [1e-05]}\n",
      "### ### ### ### ### ### ### ### ### ### \n",
      "Grid search microsoft/deberta-base, learning rate 5e-05\n"
     ]
    },
    {
     "data": {
      "application/vnd.jupyter.widget-view+json": {
       "model_id": "3cefd84d57724303964ddfdf93c0698d",
       "version_major": 2,
       "version_minor": 0
      },
      "text/plain": [
       "Map:   0%|          | 0/256 [00:00<?, ? examples/s]"
      ]
     },
     "metadata": {},
     "output_type": "display_data"
    },
    {
     "name": "stderr",
     "output_type": "stream",
     "text": [
      "Some weights of DebertaForSequenceClassification were not initialized from the model checkpoint at microsoft/deberta-base and are newly initialized: ['classifier.weight', 'classifier.bias', 'pooler.dense.bias', 'pooler.dense.weight']\n",
      "You should probably TRAIN this model on a down-stream task to be able to use it for predictions and inference.\n",
      "You're using a DebertaTokenizerFast tokenizer. Please note that with a fast tokenizer, using the `__call__` method is faster than using a method to encode the text followed by a call to the `pad` method to get a padded encoding.\n"
     ]
    },
    {
     "name": "stdout",
     "output_type": "stream",
     "text": [
      "1 / 30: Train Loss:\t0.4899\tVal Loss:\t0.3848\tAccuracy:\t0.8162\tF1:\t0.7652\n",
      "2 / 30: Train Loss:\t0.3062\tVal Loss:\t0.4293\tAccuracy:\t0.8249\tF1:\t0.7897\n",
      "3 / 30: Train Loss:\t0.2231\tVal Loss:\t0.3774\tAccuracy:\t0.8665\tF1:\t0.8202\n",
      "4 / 30: Train Loss:\t0.1149\tVal Loss:\t0.5005\tAccuracy:\t0.8140\tF1:\t0.7761\n",
      "5 / 30: Train Loss:\t0.0446\tVal Loss:\t0.8013\tAccuracy:\t0.7352\tF1:\t0.7095\n",
      "6 / 30: Train Loss:\t0.0579\tVal Loss:\t0.7334\tAccuracy:\t0.7659\tF1:\t0.7341\n",
      "No improvement for 3 epochs. Stopping early.\n",
      "best (higgest macro f1-score) val results:\n",
      "              precision    recall  f1-score   support\n",
      "\n",
      "       bknow       0.77      0.69      0.73       119\n",
      "      struct       0.89      0.93      0.91       338\n",
      "\n",
      "    accuracy                           0.87       457\n",
      "   macro avg       0.83      0.81      0.82       457\n",
      "weighted avg       0.86      0.87      0.86       457\n",
      "\n",
      "test results:\n",
      "              precision    recall  f1-score   support\n",
      "\n",
      "       bknow       0.60      0.61      0.61        67\n",
      "      struct       0.86      0.86      0.86       189\n",
      "\n",
      "    accuracy                           0.79       256\n",
      "   macro avg       0.73      0.73      0.73       256\n",
      "weighted avg       0.79      0.79      0.79       256\n",
      "\n",
      "### ### ### ### ### ### ### ### ### ### \n",
      "{'test_acc': [0.81640625, 0.79296875], 'test_f1': [0.7427245707443282, 0.7334119265153749], 'eval_acc': [0.8643326039387309, 0.8665207877461707], 'eval_f1': [0.8029953276226499, 0.8201773907434284], 'lr': [1e-05, 5e-05]}\n",
      "### ### ### ### ### ### ### ### ### ### \n",
      "Grid search microsoft/deberta-base, learning rate 0.0001\n"
     ]
    },
    {
     "data": {
      "application/vnd.jupyter.widget-view+json": {
       "model_id": "de588154e82c4b28ad3ae4aec4862bf0",
       "version_major": 2,
       "version_minor": 0
      },
      "text/plain": [
       "Map:   0%|          | 0/457 [00:00<?, ? examples/s]"
      ]
     },
     "metadata": {},
     "output_type": "display_data"
    },
    {
     "name": "stderr",
     "output_type": "stream",
     "text": [
      "Some weights of DebertaForSequenceClassification were not initialized from the model checkpoint at microsoft/deberta-base and are newly initialized: ['classifier.weight', 'classifier.bias', 'pooler.dense.bias', 'pooler.dense.weight']\n",
      "You should probably TRAIN this model on a down-stream task to be able to use it for predictions and inference.\n",
      "You're using a DebertaTokenizerFast tokenizer. Please note that with a fast tokenizer, using the `__call__` method is faster than using a method to encode the text followed by a call to the `pad` method to get a padded encoding.\n"
     ]
    },
    {
     "name": "stdout",
     "output_type": "stream",
     "text": [
      "1 / 30: Train Loss:\t0.5335\tVal Loss:\t0.4544\tAccuracy:\t0.7637\tF1:\t0.7220\n",
      "2 / 30: Train Loss:\t0.3815\tVal Loss:\t0.3671\tAccuracy:\t0.8315\tF1:\t0.7730\n",
      "3 / 30: Train Loss:\t0.1899\tVal Loss:\t0.4481\tAccuracy:\t0.7921\tF1:\t0.7476\n",
      "4 / 30: Train Loss:\t0.1465\tVal Loss:\t0.7956\tAccuracy:\t0.7812\tF1:\t0.5732\n",
      "5 / 30: Train Loss:\t0.1785\tVal Loss:\t0.3647\tAccuracy:\t0.8403\tF1:\t0.7873\n",
      "6 / 30: Train Loss:\t0.0612\tVal Loss:\t1.0487\tAccuracy:\t0.7549\tF1:\t0.7299\n",
      "7 / 30: Train Loss:\t0.0728\tVal Loss:\t0.9324\tAccuracy:\t0.7724\tF1:\t0.7428\n",
      "8 / 30: Train Loss:\t0.0504\tVal Loss:\t0.6766\tAccuracy:\t0.8403\tF1:\t0.7720\n",
      "No improvement for 3 epochs. Stopping early.\n",
      "best (higgest macro f1-score) val results:\n",
      "              precision    recall  f1-score   support\n",
      "\n",
      "       bknow       0.71      0.66      0.68       119\n",
      "      struct       0.88      0.91      0.89       338\n",
      "\n",
      "    accuracy                           0.84       457\n",
      "   macro avg       0.80      0.78      0.79       457\n",
      "weighted avg       0.84      0.84      0.84       457\n",
      "\n",
      "test results:\n",
      "              precision    recall  f1-score   support\n",
      "\n",
      "       bknow       0.63      0.58      0.60        67\n",
      "      struct       0.86      0.88      0.87       189\n",
      "\n",
      "    accuracy                           0.80       256\n",
      "   macro avg       0.74      0.73      0.74       256\n",
      "weighted avg       0.80      0.80      0.80       256\n",
      "\n",
      "### ### ### ### ### ### ### ### ### ### \n",
      "{'test_acc': [0.81640625, 0.79296875, 0.80078125], 'test_f1': [0.7427245707443282, 0.7334119265153749, 0.7357459469305969], 'eval_acc': [0.8643326039387309, 0.8665207877461707, 0.8402625820568927], 'eval_f1': [0.8029953276226499, 0.8201773907434284, 0.7873266821789437], 'lr': [1e-05, 5e-05, 0.0001]}\n",
      "### ### ### ### ### ### ### ### ### ### \n"
     ]
    }
   ],
   "source": [
    "learning_rates = [1.0e-5, 5.0e-5 ,1.0e-4]\n",
    "\n",
    "for lr in learning_rates:\n",
    "    print(f'Grid search {model_checkpoint}, learning rate {lr}')\n",
    "    data = ClimateDataset(model_to_train=1,model_checkpoint=model_checkpoint,dataset_url=flicc_path,batch_size=32)\n",
    "    data.setup_dataloaders()\n",
    "    model = ClassificationModel(model_checkpoint=data.model_checkpoint,num_labels=data.num_labels)\n",
    "    trainer = Engine(epochs=30,labels=data.labels)\n",
    "    trainer.model = model.model\n",
    "    trainer.device = model.device\n",
    "    test_acc, test_f1, eval_acc, eval_f1 = trainer.run(lr=lr,\n",
    "                                                       wd=0.0,\n",
    "                                                       train_dataloader=data.train_dataloader,\n",
    "                                                       eval_dataloader=data.eval_dataloader,\n",
    "                                                       test_dataloader=data.test_dataloader,\n",
    "                                                       early_stop=3)\n",
    "    results['test_acc'].append(test_acc)\n",
    "    results['test_f1'].append(test_f1)\n",
    "    results['eval_acc'].append(eval_acc)\n",
    "    results['eval_f1'].append(eval_f1)\n",
    "    results['lr'].append(lr)\n",
    "    print('### '*10)\n",
    "    print(results)\n",
    "    print('### '*10)\n",
    "    with torch.no_grad():\n",
    "        torch.cuda.empty_cache()\n",
    "    del data, model, trainer, test_acc, test_f1, eval_acc, eval_f1\n",
    "    gc.collect()"
   ]
  },
  {
   "cell_type": "code",
   "execution_count": 5,
   "metadata": {},
   "outputs": [
    {
     "data": {
      "image/png": "[encoded data removed]",
      "text/plain": [
       "<Figure size 640x480 with 1 Axes>"
      ]
     },
     "metadata": {},
     "output_type": "display_data"
    }
   ],
   "source": [
    "Engine.plot_grid_search(df=results,\n",
    "                        title=f'Learning rates {model_checkpoint}',\n",
    "                        column='lr',\n",
    "                        sci_format=False)"
   ]
  },
  {
   "cell_type": "code",
   "execution_count": null,
   "metadata": {},
   "outputs": [],
   "source": [
    "%reset -f"
   ]
  }
 ],
 "metadata": {
  "kernelspec": {
   "display_name": "Python 3",
   "language": "python",
   "name": "python3"
  },
  "language_info": {
   "codemirror_mode": {
    "name": "ipython",
    "version": 3
   },
   "file_extension": ".py",
   "mimetype": "text/x-python",
   "name": "python",
   "nbconvert_exporter": "python",
   "pygments_lexer": "ipython3",
   "version": "3.11.5"
  },
  "orig_nbformat": 4
 },
 "nbformat": 4,
 "nbformat_minor": 2
}
