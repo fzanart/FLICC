{
 "cells": [
  {
   "cell_type": "code",
   "execution_count": 1,
   "metadata": {},
   "outputs": [],
   "source": [
    "import torch\n",
    "from data import ClimateDataset\n",
    "from models import ClassificationModel\n",
    "from engine import Engine"
   ]
  },
  {
   "cell_type": "code",
   "execution_count": 2,
   "metadata": {},
   "outputs": [],
   "source": [
    "model_checkpoint='gpt2'"
   ]
  },
  {
   "cell_type": "code",
   "execution_count": 3,
   "metadata": {},
   "outputs": [],
   "source": [
    "results = {'acc':[],\n",
    "           'f1':[],\n",
    "           'a':[]}"
   ]
  },
  {
   "cell_type": "code",
   "execution_count": 4,
   "metadata": {},
   "outputs": [
    {
     "name": "stdout",
     "output_type": "stream",
     "text": [
      "Grid search gpt2, lr: 0.0001. Weight decay 0.0. Lora rank: 4. Lora alpha: 4\n"
     ]
    },
    {
     "name": "stderr",
     "output_type": "stream",
     "text": [
      "Some weights of GPT2ForSequenceClassification were not initialized from the model checkpoint at gpt2 and are newly initialized: ['score.weight']\n",
      "You should probably TRAIN this model on a down-stream task to be able to use it for predictions and inference.\n",
      "/mnt/software/miniconda3/lib/python3.11/site-packages/peft/tuners/lora/model.py:301: UserWarning: fan_in_fan_out is set to False but the target module is `Conv1D`. Setting fan_in_fan_out to True.\n",
      "  warnings.warn(\n",
      "You're using a GPT2TokenizerFast tokenizer. Please note that with a fast tokenizer, using the `__call__` method is faster than using a method to encode the text followed by a call to the `pad` method to get a padded encoding.\n"
     ]
    },
    {
     "name": "stdout",
     "output_type": "stream",
     "text": [
      "1 / 10: Train Loss:\t1.6023\tVal Loss:\t1.2169\tAccuracy:\t0.6980\tF1:\t0.4437\n",
      "2 / 10: Train Loss:\t0.8167\tVal Loss:\t0.9332\tAccuracy:\t0.7112\tF1:\t0.4433\n",
      "3 / 10: Train Loss:\t0.6896\tVal Loss:\t0.7499\tAccuracy:\t0.7243\tF1:\t0.4558\n",
      "4 / 10: Train Loss:\t0.6333\tVal Loss:\t0.6541\tAccuracy:\t0.7309\tF1:\t0.4449\n",
      "5 / 10: Train Loss:\t0.6126\tVal Loss:\t0.6021\tAccuracy:\t0.7396\tF1:\t0.4486\n",
      "6 / 10: Train Loss:\t0.5836\tVal Loss:\t0.5794\tAccuracy:\t0.7462\tF1:\t0.4514\n",
      "No improvement for 3 epochs. Stopping early.\n",
      "best (higgest macro f1-score) val results:\n",
      "              precision    recall  f1-score   support\n",
      "\n",
      "       bknow       1.00      0.03      0.05       119\n",
      "      struct       0.74      1.00      0.85       338\n",
      "\n",
      "    accuracy                           0.75       457\n",
      "   macro avg       0.87      0.51      0.45       457\n",
      "weighted avg       0.81      0.75      0.64       457\n",
      "\n",
      "test results:\n",
      "              precision    recall  f1-score   support\n",
      "\n",
      "       bknow       0.00      0.00      0.00        67\n",
      "      struct       0.74      1.00      0.85       189\n",
      "\n",
      "    accuracy                           0.74       256\n",
      "   macro avg       0.37      0.50      0.42       256\n",
      "weighted avg       0.55      0.74      0.63       256\n",
      "\n",
      "### ### ### ### ### ### ### ### ### ### \n",
      "{'acc': [0.73828125], 'f1': [0.4247191011235955], 'a': [4]}\n",
      "### ### ### ### ### ### ### ### ### ### \n",
      "Grid search gpt2, lr: 0.0001. Weight decay 0.0. Lora rank: 4. Lora alpha: 8\n"
     ]
    },
    {
     "name": "stderr",
     "output_type": "stream",
     "text": [
      "Some weights of GPT2ForSequenceClassification were not initialized from the model checkpoint at gpt2 and are newly initialized: ['score.weight']\n",
      "You should probably TRAIN this model on a down-stream task to be able to use it for predictions and inference.\n",
      "/mnt/software/miniconda3/lib/python3.11/site-packages/peft/tuners/lora/model.py:301: UserWarning: fan_in_fan_out is set to False but the target module is `Conv1D`. Setting fan_in_fan_out to True.\n",
      "  warnings.warn(\n",
      "You're using a GPT2TokenizerFast tokenizer. Please note that with a fast tokenizer, using the `__call__` method is faster than using a method to encode the text followed by a call to the `pad` method to get a padded encoding.\n"
     ]
    },
    {
     "name": "stdout",
     "output_type": "stream",
     "text": [
      "1 / 10: Train Loss:\t1.5141\tVal Loss:\t1.1803\tAccuracy:\t0.6893\tF1:\t0.4337\n",
      "2 / 10: Train Loss:\t0.7912\tVal Loss:\t0.8286\tAccuracy:\t0.7112\tF1:\t0.4560\n",
      "3 / 10: Train Loss:\t0.6638\tVal Loss:\t0.6850\tAccuracy:\t0.7133\tF1:\t0.4570\n",
      "4 / 10: Train Loss:\t0.6145\tVal Loss:\t0.6204\tAccuracy:\t0.7177\tF1:\t0.4394\n",
      "5 / 10: Train Loss:\t0.6001\tVal Loss:\t0.5913\tAccuracy:\t0.7352\tF1:\t0.4539\n",
      "6 / 10: Train Loss:\t0.5782\tVal Loss:\t0.5769\tAccuracy:\t0.7418\tF1:\t0.4569\n",
      "No improvement for 3 epochs. Stopping early.\n",
      "best (higgest macro f1-score) val results:\n",
      "              precision    recall  f1-score   support\n",
      "\n",
      "       bknow       0.57      0.03      0.06       119\n",
      "      struct       0.74      0.99      0.85       338\n",
      "\n",
      "    accuracy                           0.74       457\n",
      "   macro avg       0.66      0.51      0.46       457\n",
      "weighted avg       0.70      0.74      0.65       457\n",
      "\n",
      "test results:\n",
      "              precision    recall  f1-score   support\n",
      "\n",
      "       bknow       0.00      0.00      0.00        67\n",
      "      struct       0.74      0.99      0.84       189\n",
      "\n",
      "    accuracy                           0.73       256\n",
      "   macro avg       0.37      0.49      0.42       256\n",
      "weighted avg       0.54      0.73      0.62       256\n",
      "\n",
      "### ### ### ### ### ### ### ### ### ### \n",
      "{'acc': [0.73828125, 0.73046875], 'f1': [0.4247191011235955, 0.4221218961625282], 'a': [4, 8]}\n",
      "### ### ### ### ### ### ### ### ### ### \n",
      "Grid search gpt2, lr: 0.0001. Weight decay 0.0. Lora rank: 4. Lora alpha: 16\n"
     ]
    },
    {
     "name": "stderr",
     "output_type": "stream",
     "text": [
      "Some weights of GPT2ForSequenceClassification were not initialized from the model checkpoint at gpt2 and are newly initialized: ['score.weight']\n",
      "You should probably TRAIN this model on a down-stream task to be able to use it for predictions and inference.\n",
      "/mnt/software/miniconda3/lib/python3.11/site-packages/peft/tuners/lora/model.py:301: UserWarning: fan_in_fan_out is set to False but the target module is `Conv1D`. Setting fan_in_fan_out to True.\n",
      "  warnings.warn(\n",
      "You're using a GPT2TokenizerFast tokenizer. Please note that with a fast tokenizer, using the `__call__` method is faster than using a method to encode the text followed by a call to the `pad` method to get a padded encoding.\n"
     ]
    },
    {
     "name": "stdout",
     "output_type": "stream",
     "text": [
      "1 / 10: Train Loss:\t1.4059\tVal Loss:\t1.0401\tAccuracy:\t0.6871\tF1:\t0.4609\n",
      "2 / 10: Train Loss:\t0.7638\tVal Loss:\t0.7520\tAccuracy:\t0.7024\tF1:\t0.4518\n",
      "3 / 10: Train Loss:\t0.6440\tVal Loss:\t0.6450\tAccuracy:\t0.7112\tF1:\t0.4736\n",
      "4 / 10: Train Loss:\t0.6027\tVal Loss:\t0.6066\tAccuracy:\t0.7199\tF1:\t0.4664\n",
      "5 / 10: Train Loss:\t0.5925\tVal Loss:\t0.5892\tAccuracy:\t0.7265\tF1:\t0.4634\n",
      "6 / 10: Train Loss:\t0.5735\tVal Loss:\t0.5777\tAccuracy:\t0.7374\tF1:\t0.4687\n",
      "No improvement for 3 epochs. Stopping early.\n",
      "best (higgest macro f1-score) val results:\n",
      "              precision    recall  f1-score   support\n",
      "\n",
      "       bknow       0.46      0.05      0.09       119\n",
      "      struct       0.75      0.98      0.85       338\n",
      "\n",
      "    accuracy                           0.74       457\n",
      "   macro avg       0.60      0.51      0.47       457\n",
      "weighted avg       0.67      0.74      0.65       457\n",
      "\n",
      "test results:\n",
      "              precision    recall  f1-score   support\n",
      "\n",
      "       bknow       0.40      0.03      0.06        67\n",
      "      struct       0.74      0.98      0.85       189\n",
      "\n",
      "    accuracy                           0.73       256\n",
      "   macro avg       0.57      0.51      0.45       256\n",
      "weighted avg       0.65      0.73      0.64       256\n",
      "\n",
      "### ### ### ### ### ### ### ### ### ### \n",
      "{'acc': [0.73828125, 0.73046875, 0.734375], 'f1': [0.4247191011235955, 0.4221218961625282, 0.4505050505050505], 'a': [4, 8, 16]}\n",
      "### ### ### ### ### ### ### ### ### ### \n",
      "Grid search gpt2, lr: 0.0001. Weight decay 0.0. Lora rank: 4. Lora alpha: 32\n"
     ]
    },
    {
     "name": "stderr",
     "output_type": "stream",
     "text": [
      "Some weights of GPT2ForSequenceClassification were not initialized from the model checkpoint at gpt2 and are newly initialized: ['score.weight']\n",
      "You should probably TRAIN this model on a down-stream task to be able to use it for predictions and inference.\n",
      "/mnt/software/miniconda3/lib/python3.11/site-packages/peft/tuners/lora/model.py:301: UserWarning: fan_in_fan_out is set to False but the target module is `Conv1D`. Setting fan_in_fan_out to True.\n",
      "  warnings.warn(\n",
      "You're using a GPT2TokenizerFast tokenizer. Please note that with a fast tokenizer, using the `__call__` method is faster than using a method to encode the text followed by a call to the `pad` method to get a padded encoding.\n"
     ]
    },
    {
     "name": "stdout",
     "output_type": "stream",
     "text": [
      "1 / 10: Train Loss:\t1.2640\tVal Loss:\t0.8668\tAccuracy:\t0.6455\tF1:\t0.4618\n",
      "2 / 10: Train Loss:\t0.6934\tVal Loss:\t0.6678\tAccuracy:\t0.6783\tF1:\t0.4760\n",
      "3 / 10: Train Loss:\t0.6114\tVal Loss:\t0.6246\tAccuracy:\t0.6937\tF1:\t0.5116\n",
      "4 / 10: Train Loss:\t0.5840\tVal Loss:\t0.6107\tAccuracy:\t0.6893\tF1:\t0.5047\n",
      "5 / 10: Train Loss:\t0.5836\tVal Loss:\t0.5981\tAccuracy:\t0.7046\tF1:\t0.5008\n",
      "6 / 10: Train Loss:\t0.5650\tVal Loss:\t0.5888\tAccuracy:\t0.7177\tF1:\t0.5089\n",
      "No improvement for 3 epochs. Stopping early.\n",
      "best (higgest macro f1-score) val results:\n",
      "              precision    recall  f1-score   support\n",
      "\n",
      "       bknow       0.38      0.13      0.19       119\n",
      "      struct       0.75      0.93      0.83       338\n",
      "\n",
      "    accuracy                           0.72       457\n",
      "   macro avg       0.56      0.53      0.51       457\n",
      "weighted avg       0.65      0.72      0.66       457\n",
      "\n",
      "test results:\n",
      "              precision    recall  f1-score   support\n",
      "\n",
      "       bknow       0.42      0.12      0.19        67\n",
      "      struct       0.75      0.94      0.84       189\n",
      "\n",
      "    accuracy                           0.73       256\n",
      "   macro avg       0.59      0.53      0.51       256\n",
      "weighted avg       0.66      0.73      0.67       256\n",
      "\n",
      "### ### ### ### ### ### ### ### ### ### \n",
      "{'acc': [0.73828125, 0.73046875, 0.734375, 0.7265625], 'f1': [0.4247191011235955, 0.4221218961625282, 0.4505050505050505, 0.5108636314008079], 'a': [4, 8, 16, 32]}\n",
      "### ### ### ### ### ### ### ### ### ### \n"
     ]
    }
   ],
   "source": [
    "r = 4\n",
    "lora_alpha = [4,8,16,32]\n",
    "lora_dropout = 0.0\n",
    "lr = 1.0e-4\n",
    "wd = 0.0\n",
    "\n",
    "for a in lora_alpha:\n",
    "    print(f'Grid search {model_checkpoint}, lr: {lr}. Weight decay {wd}. Lora rank: {r}. Lora alpha: {a}')\n",
    "    data = ClimateDataset(model_to_train=1,model_checkpoint=model_checkpoint,batch_size=32)\n",
    "    data.setup_dataloaders()\n",
    "    model = ClassificationModel(model_checkpoint=data.model_checkpoint,\n",
    "                                num_labels=data.num_labels,\n",
    "                                lora=True,\n",
    "                                r=r,\n",
    "                                alpha=a,\n",
    "                                dropout=lora_dropout)\n",
    "    trainer = Engine(epochs=10,labels=data.labels)\n",
    "    trainer.model = model.model\n",
    "    trainer.dataset_encoded = data.dataset_encoded\n",
    "    acc, f1 = trainer.run(lr=lr,\n",
    "                          wd=wd,\n",
    "                          train_dataloader=data.train_dataloader,\n",
    "                          eval_dataloader=data.eval_dataloader,\n",
    "                          test_dataloader=data.test_dataloader,\n",
    "                          early_stop=3)\n",
    "    results['acc'].append(acc)\n",
    "    results['f1'].append(f1)\n",
    "    results['a'].append(a)\n",
    "    print('### '*10)\n",
    "    print(results)\n",
    "    print('### '*10)\n",
    "    with torch.no_grad():\n",
    "        torch.cuda.empty_cache()\n",
    "    del data, model, trainer, acc, f1"
   ]
  },
  {
   "cell_type": "code",
   "execution_count": 5,
   "metadata": {},
   "outputs": [],
   "source": [
    "import matplotlib.pyplot as plt\n",
    "import seaborn as sns\n",
    "import pandas as pd"
   ]
  },
  {
   "cell_type": "code",
   "execution_count": 6,
   "metadata": {},
   "outputs": [
    {
     "data": {
      "image/png": "[encoded data removed]",
      "text/plain": [
       "<Figure size 640x480 with 1 Axes>"
      ]
     },
     "metadata": {},
     "output_type": "display_data"
    }
   ],
   "source": [
    "def plot_grid_search(df, title):\n",
    "\n",
    "    # Create the plot\n",
    "    ax = df.plot(x='a', y=['acc', 'f1'], marker='o', linestyle='-')\n",
    "\n",
    "    # Set y-axis range between 0 and 1\n",
    "    plt.ylim(0, 1)\n",
    "\n",
    "    # Annotate points with F1 scores\n",
    "    for i, row in df.iterrows(): \n",
    "        ax.annotate(f'{row[\"f1\"]:.2f}', (row[\"a\"], row[\"f1\"]), textcoords='offset points', xytext=(0, -10), ha='center')\n",
    "\n",
    "    # Annotate points with Acc scores\n",
    "    for i, row in df.iterrows():\n",
    "        ax.annotate(f'{row[\"acc\"]:.2f}', (row[\"a\"], row[\"acc\"]), textcoords='offset points', xytext=(0, 10), ha='center')\n",
    "    \n",
    "    # \n",
    "    plt.xticks(df['a'], [val for val in df['a']], ha='center')\n",
    "    # plt.xscale('log')\n",
    "    plt.minorticks_off()\n",
    "\n",
    "    plt.title(title)\n",
    "    plt.xlabel('alpha')\n",
    "    plt.ylabel('Score')\n",
    "    plt.show()\n",
    "\n",
    "plot_grid_search(pd.DataFrame(results), f'Alpha: LoRA scaling factor. {model_checkpoint}.')"
   ]
  }
 ],
 "metadata": {
  "kernelspec": {
   "display_name": "Python 3",
   "language": "python",
   "name": "python3"
  },
  "language_info": {
   "codemirror_mode": {
    "name": "ipython",
    "version": 3
   },
   "file_extension": ".py",
   "mimetype": "text/x-python",
   "name": "python",
   "nbconvert_exporter": "python",
   "pygments_lexer": "ipython3",
   "version": "3.11.5"
  },
  "orig_nbformat": 4
 },
 "nbformat": 4,
 "nbformat_minor": 2
}
