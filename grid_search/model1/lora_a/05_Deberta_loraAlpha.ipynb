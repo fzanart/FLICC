{
 "cells": [
  {
   "cell_type": "code",
   "execution_count": 1,
   "metadata": {},
   "outputs": [],
   "source": [
    "import torch\n",
    "from data import ClimateDataset\n",
    "from models import ClassificationModel\n",
    "from engine import Engine"
   ]
  },
  {
   "cell_type": "code",
   "execution_count": 2,
   "metadata": {},
   "outputs": [],
   "source": [
    "model_checkpoint='microsoft/deberta-base'"
   ]
  },
  {
   "cell_type": "code",
   "execution_count": 3,
   "metadata": {},
   "outputs": [],
   "source": [
    "results = {'acc':[],\n",
    "           'f1':[],\n",
    "           'a':[]}"
   ]
  },
  {
   "cell_type": "code",
   "execution_count": 4,
   "metadata": {},
   "outputs": [
    {
     "name": "stdout",
     "output_type": "stream",
     "text": [
      "Grid search gpt2, lr: 0.0001. Focal loss gamma: 2. Weight decay 0.01. Lora rank: 4. Lora alpha: 4\n"
     ]
    },
    {
     "name": "stderr",
     "output_type": "stream",
     "text": [
      "Some weights of GPT2ForSequenceClassification were not initialized from the model checkpoint at gpt2 and are newly initialized: ['score.weight']\n",
      "You should probably TRAIN this model on a down-stream task to be able to use it for predictions and inference.\n",
      "/mnt/software/miniconda3/lib/python3.11/site-packages/peft/tuners/lora/model.py:301: UserWarning: fan_in_fan_out is set to False but the target module is `Conv1D`. Setting fan_in_fan_out to True.\n",
      "  warnings.warn(\n",
      "You're using a GPT2TokenizerFast tokenizer. Please note that with a fast tokenizer, using the `__call__` method is faster than using a method to encode the text followed by a call to the `pad` method to get a padded encoding.\n"
     ]
    },
    {
     "name": "stdout",
     "output_type": "stream",
     "text": [
      "1 / 10: Train Loss:\t2.1999\tVal Loss:\t1.0195\tAccuracy:\t0.6236\tF1:\t0.4535\n",
      "2 / 10: Train Loss:\t0.9840\tVal Loss:\t0.7372\tAccuracy:\t0.6389\tF1:\t0.4917\n",
      "3 / 10: Train Loss:\t0.5777\tVal Loss:\t0.6873\tAccuracy:\t0.5908\tF1:\t0.4986\n",
      "4 / 10: Train Loss:\t0.4500\tVal Loss:\t0.6907\tAccuracy:\t0.5383\tF1:\t0.4963\n",
      "5 / 10: Train Loss:\t0.4074\tVal Loss:\t0.7176\tAccuracy:\t0.4836\tF1:\t0.4815\n",
      "6 / 10: Train Loss:\t0.3807\tVal Loss:\t0.7042\tAccuracy:\t0.4989\tF1:\t0.4950\n",
      "No improvement for 3 epochs. Stopping early.\n",
      "best (higgest macro f1-score) val results:\n",
      "              precision    recall  f1-score   support\n",
      "\n",
      "       bknow       0.32      0.79      0.45       119\n",
      "      struct       0.84      0.40      0.54       338\n",
      "\n",
      "    accuracy                           0.50       457\n",
      "   macro avg       0.58      0.59      0.50       457\n",
      "weighted avg       0.71      0.50      0.52       457\n",
      "\n",
      "test results:\n",
      "              precision    recall  f1-score   support\n",
      "\n",
      "       bknow       0.28      0.78      0.41        67\n",
      "      struct       0.79      0.30      0.44       189\n",
      "\n",
      "    accuracy                           0.43       256\n",
      "   macro avg       0.54      0.54      0.43       256\n",
      "weighted avg       0.66      0.43      0.43       256\n",
      "\n",
      "### ### ### ### ### ### ### ### ### ### \n",
      "{'acc': [0.42578125], 'f1': [0.425562119338737], 'a': [4]}\n",
      "### ### ### ### ### ### ### ### ### ### \n",
      "Grid search gpt2, lr: 0.0001. Focal loss gamma: 2. Weight decay 0.01. Lora rank: 4. Lora alpha: 8\n"
     ]
    },
    {
     "name": "stderr",
     "output_type": "stream",
     "text": [
      "Some weights of GPT2ForSequenceClassification were not initialized from the model checkpoint at gpt2 and are newly initialized: ['score.weight']\n",
      "You should probably TRAIN this model on a down-stream task to be able to use it for predictions and inference.\n",
      "/mnt/software/miniconda3/lib/python3.11/site-packages/peft/tuners/lora/model.py:301: UserWarning: fan_in_fan_out is set to False but the target module is `Conv1D`. Setting fan_in_fan_out to True.\n",
      "  warnings.warn(\n",
      "You're using a GPT2TokenizerFast tokenizer. Please note that with a fast tokenizer, using the `__call__` method is faster than using a method to encode the text followed by a call to the `pad` method to get a padded encoding.\n"
     ]
    },
    {
     "name": "stdout",
     "output_type": "stream",
     "text": [
      "1 / 10: Train Loss:\t2.0997\tVal Loss:\t0.9728\tAccuracy:\t0.6171\tF1:\t0.4608\n",
      "2 / 10: Train Loss:\t0.8629\tVal Loss:\t0.7163\tAccuracy:\t0.6083\tF1:\t0.5035\n",
      "3 / 10: Train Loss:\t0.5026\tVal Loss:\t0.7098\tAccuracy:\t0.5405\tF1:\t0.4993\n",
      "4 / 10: Train Loss:\t0.4139\tVal Loss:\t0.7054\tAccuracy:\t0.5142\tF1:\t0.4942\n",
      "5 / 10: Train Loss:\t0.3896\tVal Loss:\t0.7153\tAccuracy:\t0.4705\tF1:\t0.4670\n",
      "No improvement for 3 epochs. Stopping early.\n",
      "best (higgest macro f1-score) val results:\n",
      "              precision    recall  f1-score   support\n",
      "\n",
      "       bknow       0.30      0.75      0.42       119\n",
      "      struct       0.81      0.37      0.51       338\n",
      "\n",
      "    accuracy                           0.47       457\n",
      "   macro avg       0.55      0.56      0.47       457\n",
      "weighted avg       0.67      0.47      0.49       457\n",
      "\n",
      "test results:\n",
      "              precision    recall  f1-score   support\n",
      "\n",
      "       bknow       0.26      0.73      0.38        67\n",
      "      struct       0.72      0.25      0.37       189\n",
      "\n",
      "    accuracy                           0.38       256\n",
      "   macro avg       0.49      0.49      0.37       256\n",
      "weighted avg       0.60      0.38      0.37       256\n",
      "\n",
      "### ### ### ### ### ### ### ### ### ### \n",
      "{'acc': [0.42578125, 0.375], 'f1': [0.425562119338737, 0.37496185069889515], 'a': [4, 4]}\n",
      "### ### ### ### ### ### ### ### ### ### \n",
      "Grid search gpt2, lr: 0.0001. Focal loss gamma: 2. Weight decay 0.01. Lora rank: 4. Lora alpha: 16\n"
     ]
    },
    {
     "name": "stderr",
     "output_type": "stream",
     "text": [
      "Some weights of GPT2ForSequenceClassification were not initialized from the model checkpoint at gpt2 and are newly initialized: ['score.weight']\n",
      "You should probably TRAIN this model on a down-stream task to be able to use it for predictions and inference.\n",
      "/mnt/software/miniconda3/lib/python3.11/site-packages/peft/tuners/lora/model.py:301: UserWarning: fan_in_fan_out is set to False but the target module is `Conv1D`. Setting fan_in_fan_out to True.\n",
      "  warnings.warn(\n",
      "You're using a GPT2TokenizerFast tokenizer. Please note that with a fast tokenizer, using the `__call__` method is faster than using a method to encode the text followed by a call to the `pad` method to get a padded encoding.\n"
     ]
    },
    {
     "name": "stdout",
     "output_type": "stream",
     "text": [
      "1 / 10: Train Loss:\t1.9685\tVal Loss:\t0.9052\tAccuracy:\t0.5886\tF1:\t0.4772\n",
      "2 / 10: Train Loss:\t0.7354\tVal Loss:\t0.7181\tAccuracy:\t0.5711\tF1:\t0.4974\n",
      "3 / 10: Train Loss:\t0.4570\tVal Loss:\t0.7338\tAccuracy:\t0.4902\tF1:\t0.4786\n",
      "4 / 10: Train Loss:\t0.3943\tVal Loss:\t0.7238\tAccuracy:\t0.4661\tF1:\t0.4626\n",
      "5 / 10: Train Loss:\t0.3817\tVal Loss:\t0.7231\tAccuracy:\t0.4398\tF1:\t0.4396\n",
      "No improvement for 3 epochs. Stopping early.\n",
      "best (higgest macro f1-score) val results:\n",
      "              precision    recall  f1-score   support\n",
      "\n",
      "       bknow       0.29      0.81      0.43       119\n",
      "      struct       0.82      0.31      0.45       338\n",
      "\n",
      "    accuracy                           0.44       457\n",
      "   macro avg       0.56      0.56      0.44       457\n",
      "weighted avg       0.68      0.44      0.44       457\n",
      "\n",
      "test results:\n",
      "              precision    recall  f1-score   support\n",
      "\n",
      "       bknow       0.26      0.79      0.39        67\n",
      "      struct       0.74      0.21      0.32       189\n",
      "\n",
      "    accuracy                           0.36       256\n",
      "   macro avg       0.50      0.50      0.36       256\n",
      "weighted avg       0.61      0.36      0.34       256\n",
      "\n",
      "### ### ### ### ### ### ### ### ### ### \n",
      "{'acc': [0.42578125, 0.375, 0.359375], 'f1': [0.425562119338737, 0.37496185069889515, 0.35745332108968475], 'a': [4, 4, 4]}\n",
      "### ### ### ### ### ### ### ### ### ### \n",
      "Grid search gpt2, lr: 0.0001. Focal loss gamma: 2. Weight decay 0.01. Lora rank: 4. Lora alpha: 32\n"
     ]
    },
    {
     "name": "stderr",
     "output_type": "stream",
     "text": [
      "Some weights of GPT2ForSequenceClassification were not initialized from the model checkpoint at gpt2 and are newly initialized: ['score.weight']\n",
      "You should probably TRAIN this model on a down-stream task to be able to use it for predictions and inference.\n",
      "/mnt/software/miniconda3/lib/python3.11/site-packages/peft/tuners/lora/model.py:301: UserWarning: fan_in_fan_out is set to False but the target module is `Conv1D`. Setting fan_in_fan_out to True.\n",
      "  warnings.warn(\n",
      "You're using a GPT2TokenizerFast tokenizer. Please note that with a fast tokenizer, using the `__call__` method is faster than using a method to encode the text followed by a call to the `pad` method to get a padded encoding.\n"
     ]
    },
    {
     "name": "stdout",
     "output_type": "stream",
     "text": [
      "1 / 10: Train Loss:\t1.7312\tVal Loss:\t0.8325\tAccuracy:\t0.5602\tF1:\t0.4836\n",
      "2 / 10: Train Loss:\t0.5805\tVal Loss:\t0.7655\tAccuracy:\t0.4289\tF1:\t0.4182\n",
      "3 / 10: Train Loss:\t0.4186\tVal Loss:\t0.7644\tAccuracy:\t0.3982\tF1:\t0.3981\n",
      "4 / 10: Train Loss:\t0.3775\tVal Loss:\t0.7516\tAccuracy:\t0.3917\tF1:\t0.3899\n",
      "No improvement for 3 epochs. Stopping early.\n",
      "best (higgest macro f1-score) val results:\n",
      "              precision    recall  f1-score   support\n",
      "\n",
      "       bknow       0.28      0.86      0.42       119\n",
      "      struct       0.82      0.23      0.36       338\n",
      "\n",
      "    accuracy                           0.39       457\n",
      "   macro avg       0.55      0.54      0.39       457\n",
      "weighted avg       0.68      0.39      0.37       457\n",
      "\n",
      "test results:\n",
      "              precision    recall  f1-score   support\n",
      "\n",
      "       bknow       0.27      0.88      0.41        67\n",
      "      struct       0.78      0.15      0.25       189\n",
      "\n",
      "    accuracy                           0.34       256\n",
      "   macro avg       0.52      0.51      0.33       256\n",
      "weighted avg       0.64      0.34      0.29       256\n",
      "\n",
      "### ### ### ### ### ### ### ### ### ### \n",
      "{'acc': [0.42578125, 0.375, 0.359375, 0.33984375], 'f1': [0.425562119338737, 0.37496185069889515, 0.35745332108968475, 0.3300193573364305], 'a': [4, 4, 4, 4]}\n",
      "### ### ### ### ### ### ### ### ### ### \n"
     ]
    }
   ],
   "source": [
    "r = 8\n",
    "lora_alpha = [4,8,16,32]\n",
    "lora_dropout = 0.0\n",
    "lr = 1.0e-5\n",
    "wd = 0.0\n",
    "\n",
    "for a in lora_alpha:\n",
    "    print(f'Grid search {model_checkpoint}, lr: {lr}. Weight decay {wd}. Lora rank: {r}. Lora alpha: {a}')\n",
    "    data = ClimateDataset(model_to_train=1,model_checkpoint=model_checkpoint,batch_size=32)\n",
    "    data.setup_dataloaders()\n",
    "    model = ClassificationModel(model_checkpoint=data.model_checkpoint,\n",
    "                                num_labels=data.num_labels,\n",
    "                                lora=True,\n",
    "                                r=r,\n",
    "                                alpha=a,\n",
    "                                dropout=lora_dropout)\n",
    "    trainer = Engine(epochs=10,labels=data.labels)\n",
    "    trainer.model = model.model\n",
    "    trainer.dataset_encoded = data.dataset_encoded\n",
    "    acc, f1 = trainer.run(lr=lr,\n",
    "                          wd=wd,\n",
    "                          train_dataloader=data.train_dataloader,\n",
    "                          eval_dataloader=data.eval_dataloader,\n",
    "                          test_dataloader=data.test_dataloader,\n",
    "                          early_stop=3)\n",
    "    results['acc'].append(acc)\n",
    "    results['f1'].append(f1)\n",
    "    results['a'].append(a)\n",
    "    print('### '*10)\n",
    "    print(results)\n",
    "    print('### '*10)\n",
    "    with torch.no_grad():\n",
    "        torch.cuda.empty_cache()\n",
    "    del data, model, trainer, acc, f1"
   ]
  },
  {
   "cell_type": "code",
   "execution_count": 8,
   "metadata": {},
   "outputs": [],
   "source": [
    "import matplotlib.pyplot as plt\n",
    "import seaborn as sns\n",
    "import pandas as pd\n"
   ]
  },
  {
   "cell_type": "code",
   "execution_count": 9,
   "metadata": {},
   "outputs": [
    {
     "data": {
      "image/png": "[encoded data removed]",
      "text/plain": [
       "<Figure size 640x480 with 1 Axes>"
      ]
     },
     "metadata": {},
     "output_type": "display_data"
    }
   ],
   "source": [
    "def plot_grid_search(df, title):\n",
    "\n",
    "    # Create the plot\n",
    "    ax = df.plot(x='a', y=['acc', 'f1'], marker='o', linestyle='-')\n",
    "\n",
    "    # Set y-axis range between 0 and 1\n",
    "    plt.ylim(0, 1)\n",
    "\n",
    "    # Annotate points with F1 scores\n",
    "    for i, row in df.iterrows(): \n",
    "        ax.annotate(f'{row[\"f1\"]:.2f}', (row[\"a\"], row[\"f1\"]), textcoords='offset points', xytext=(0, -10), ha='center')\n",
    "\n",
    "    # Annotate points with Acc scores\n",
    "    for i, row in df.iterrows():\n",
    "        ax.annotate(f'{row[\"acc\"]:.2f}', (row[\"a\"], row[\"acc\"]), textcoords='offset points', xytext=(0, 10), ha='center')\n",
    "    \n",
    "    # \n",
    "    plt.xticks(df['a'], [val for val in df['a']], ha='center')\n",
    "    # plt.xscale('log')\n",
    "    plt.minorticks_off()\n",
    "\n",
    "    plt.title(title)\n",
    "    plt.xlabel('alpha')\n",
    "    plt.ylabel('Score')\n",
    "    plt.show()\n",
    "\n",
    "plot_grid_search(pd.DataFrame(results), f'Alpha: LoRA scaling factor. {model_checkpoint}.')"
   ]
  }
 ],
 "metadata": {
  "kernelspec": {
   "display_name": "Python 3",
   "language": "python",
   "name": "python3"
  },
  "language_info": {
   "codemirror_mode": {
    "name": "ipython",
    "version": 3
   },
   "file_extension": ".py",
   "mimetype": "text/x-python",
   "name": "python",
   "nbconvert_exporter": "python",
   "pygments_lexer": "ipython3",
   "version": "3.11.5"
  },
  "orig_nbformat": 4
 },
 "nbformat": 4,
 "nbformat_minor": 2
}
