{
 "cells": [
  {
   "cell_type": "code",
   "execution_count": 1,
   "metadata": {},
   "outputs": [],
   "source": [
    "import torch\n",
    "from data import ClimateDataset\n",
    "from models import ClassificationModel\n",
    "from engine import Engine"
   ]
  },
  {
   "cell_type": "code",
   "execution_count": 2,
   "metadata": {},
   "outputs": [],
   "source": [
    "model_checkpoint='bert-base-uncased'"
   ]
  },
  {
   "cell_type": "code",
   "execution_count": 3,
   "metadata": {},
   "outputs": [],
   "source": [
    "results = {'acc':[],\n",
    "           'f1':[],\n",
    "           'a':[]}"
   ]
  },
  {
   "cell_type": "code",
   "execution_count": 4,
   "metadata": {},
   "outputs": [
    {
     "name": "stdout",
     "output_type": "stream",
     "text": [
      "Grid search bert-base-uncased, lr: 0.0001. Focal loss gamma: 2. Weight decay 0.01. Lora rank: 8. Lora alpha: 4\n"
     ]
    },
    {
     "name": "stderr",
     "output_type": "stream",
     "text": [
      "Some weights of BertForSequenceClassification were not initialized from the model checkpoint at bert-base-uncased and are newly initialized: ['classifier.bias', 'classifier.weight']\n",
      "You should probably TRAIN this model on a down-stream task to be able to use it for predictions and inference.\n",
      "You're using a BertTokenizerFast tokenizer. Please note that with a fast tokenizer, using the `__call__` method is faster than using a method to encode the text followed by a call to the `pad` method to get a padded encoding.\n"
     ]
    },
    {
     "name": "stdout",
     "output_type": "stream",
     "text": [
      "1 / 10: Train Loss:\t0.3700\tVal Loss:\t0.7238\tAccuracy:\t0.2801\tF1:\t0.2454\n",
      "2 / 10: Train Loss:\t0.3505\tVal Loss:\t0.6940\tAccuracy:\t0.4989\tF1:\t0.4970\n",
      "3 / 10: Train Loss:\t0.3356\tVal Loss:\t0.6748\tAccuracy:\t0.5974\tF1:\t0.5843\n",
      "4 / 10: Train Loss:\t0.3141\tVal Loss:\t0.6334\tAccuracy:\t0.6827\tF1:\t0.6488\n",
      "5 / 10: Train Loss:\t0.2960\tVal Loss:\t0.5967\tAccuracy:\t0.7287\tF1:\t0.6845\n",
      "6 / 10: Train Loss:\t0.2913\tVal Loss:\t0.5920\tAccuracy:\t0.7265\tF1:\t0.6837\n",
      "7 / 10: Train Loss:\t0.2739\tVal Loss:\t0.5677\tAccuracy:\t0.7396\tF1:\t0.6943\n",
      "8 / 10: Train Loss:\t0.2659\tVal Loss:\t0.5573\tAccuracy:\t0.7440\tF1:\t0.6994\n",
      "9 / 10: Train Loss:\t0.2535\tVal Loss:\t0.5450\tAccuracy:\t0.7484\tF1:\t0.7079\n",
      "10 / 10: Train Loss:\t0.2402\tVal Loss:\t0.5374\tAccuracy:\t0.7571\tF1:\t0.7192\n",
      "best (higgest macro f1-score) val results:\n",
      "              precision    recall  f1-score   support\n",
      "\n",
      "       bknow       0.52      0.75      0.62       119\n",
      "      struct       0.90      0.76      0.82       338\n",
      "\n",
      "    accuracy                           0.76       457\n",
      "   macro avg       0.71      0.75      0.72       457\n",
      "weighted avg       0.80      0.76      0.77       457\n",
      "\n",
      "test results:\n",
      "              precision    recall  f1-score   support\n",
      "\n",
      "       bknow       0.48      0.70      0.57        67\n",
      "      struct       0.87      0.74      0.80       189\n",
      "\n",
      "    accuracy                           0.73       256\n",
      "   macro avg       0.68      0.72      0.69       256\n",
      "weighted avg       0.77      0.73      0.74       256\n",
      "\n",
      "### ### ### ### ### ### ### ### ### ### \n",
      "{'acc': [0.7265625], 'f1': [0.6860106532099804], 'r': [8]}\n",
      "### ### ### ### ### ### ### ### ### ### \n",
      "Grid search bert-base-uncased, lr: 0.0001. Focal loss gamma: 2. Weight decay 0.01. Lora rank: 8. Lora alpha: 16\n"
     ]
    },
    {
     "name": "stderr",
     "output_type": "stream",
     "text": [
      "Some weights of BertForSequenceClassification were not initialized from the model checkpoint at bert-base-uncased and are newly initialized: ['classifier.bias', 'classifier.weight']\n",
      "You should probably TRAIN this model on a down-stream task to be able to use it for predictions and inference.\n",
      "You're using a BertTokenizerFast tokenizer. Please note that with a fast tokenizer, using the `__call__` method is faster than using a method to encode the text followed by a call to the `pad` method to get a padded encoding.\n"
     ]
    },
    {
     "name": "stdout",
     "output_type": "stream",
     "text": [
      "1 / 10: Train Loss:\t0.3670\tVal Loss:\t0.7194\tAccuracy:\t0.2932\tF1:\t0.2620\n",
      "2 / 10: Train Loss:\t0.3395\tVal Loss:\t0.6808\tAccuracy:\t0.5602\tF1:\t0.5530\n",
      "3 / 10: Train Loss:\t0.3147\tVal Loss:\t0.6235\tAccuracy:\t0.7046\tF1:\t0.6710\n",
      "4 / 10: Train Loss:\t0.2857\tVal Loss:\t0.5814\tAccuracy:\t0.7199\tF1:\t0.6755\n",
      "5 / 10: Train Loss:\t0.2660\tVal Loss:\t0.5543\tAccuracy:\t0.7462\tF1:\t0.7037\n",
      "6 / 10: Train Loss:\t0.2537\tVal Loss:\t0.5494\tAccuracy:\t0.7396\tF1:\t0.7053\n",
      "7 / 10: Train Loss:\t0.2324\tVal Loss:\t0.5321\tAccuracy:\t0.7484\tF1:\t0.7161\n",
      "8 / 10: Train Loss:\t0.2127\tVal Loss:\t0.5038\tAccuracy:\t0.7943\tF1:\t0.7580\n",
      "9 / 10: Train Loss:\t0.1919\tVal Loss:\t0.4761\tAccuracy:\t0.7921\tF1:\t0.7540\n",
      "10 / 10: Train Loss:\t0.1700\tVal Loss:\t0.4630\tAccuracy:\t0.8118\tF1:\t0.7720\n",
      "best (higgest macro f1-score) val results:\n",
      "              precision    recall  f1-score   support\n",
      "\n",
      "       bknow       0.61      0.76      0.68       119\n",
      "      struct       0.91      0.83      0.87       338\n",
      "\n",
      "    accuracy                           0.81       457\n",
      "   macro avg       0.76      0.79      0.77       457\n",
      "weighted avg       0.83      0.81      0.82       457\n",
      "\n",
      "test results:\n",
      "              precision    recall  f1-score   support\n",
      "\n",
      "       bknow       0.58      0.72      0.64        67\n",
      "      struct       0.89      0.81      0.85       189\n",
      "\n",
      "    accuracy                           0.79       256\n",
      "   macro avg       0.73      0.77      0.75       256\n",
      "weighted avg       0.81      0.79      0.80       256\n",
      "\n",
      "### ### ### ### ### ### ### ### ### ### \n",
      "{'acc': [0.7265625, 0.7890625], 'f1': [0.6860106532099804, 0.745414364640884], 'r': [8, 8]}\n",
      "### ### ### ### ### ### ### ### ### ### \n",
      "Grid search bert-base-uncased, lr: 0.0001. Focal loss gamma: 2. Weight decay 0.01. Lora rank: 8. Lora alpha: 32\n"
     ]
    },
    {
     "name": "stderr",
     "output_type": "stream",
     "text": [
      "Some weights of BertForSequenceClassification were not initialized from the model checkpoint at bert-base-uncased and are newly initialized: ['classifier.bias', 'classifier.weight']\n",
      "You should probably TRAIN this model on a down-stream task to be able to use it for predictions and inference.\n",
      "You're using a BertTokenizerFast tokenizer. Please note that with a fast tokenizer, using the `__call__` method is faster than using a method to encode the text followed by a call to the `pad` method to get a padded encoding.\n"
     ]
    },
    {
     "name": "stdout",
     "output_type": "stream",
     "text": [
      "1 / 10: Train Loss:\t0.3644\tVal Loss:\t0.7143\tAccuracy:\t0.3107\tF1:\t0.2866\n",
      "2 / 10: Train Loss:\t0.3317\tVal Loss:\t0.6532\tAccuracy:\t0.6630\tF1:\t0.6367\n",
      "3 / 10: Train Loss:\t0.2971\tVal Loss:\t0.6030\tAccuracy:\t0.7046\tF1:\t0.6740\n",
      "4 / 10: Train Loss:\t0.2684\tVal Loss:\t0.5661\tAccuracy:\t0.7177\tF1:\t0.6836\n",
      "5 / 10: Train Loss:\t0.2445\tVal Loss:\t0.5503\tAccuracy:\t0.7396\tF1:\t0.7100\n",
      "6 / 10: Train Loss:\t0.2226\tVal Loss:\t0.5123\tAccuracy:\t0.7812\tF1:\t0.7456\n",
      "7 / 10: Train Loss:\t0.1992\tVal Loss:\t0.4992\tAccuracy:\t0.7724\tF1:\t0.7383\n",
      "8 / 10: Train Loss:\t0.1753\tVal Loss:\t0.4648\tAccuracy:\t0.7987\tF1:\t0.7582\n",
      "9 / 10: Train Loss:\t0.1511\tVal Loss:\t0.4255\tAccuracy:\t0.8118\tF1:\t0.7678\n",
      "10 / 10: Train Loss:\t0.1318\tVal Loss:\t0.4208\tAccuracy:\t0.8162\tF1:\t0.7721\n",
      "best (higgest macro f1-score) val results:\n",
      "              precision    recall  f1-score   support\n",
      "\n",
      "       bknow       0.63      0.72      0.67       119\n",
      "      struct       0.90      0.85      0.87       338\n",
      "\n",
      "    accuracy                           0.82       457\n",
      "   macro avg       0.76      0.79      0.77       457\n",
      "weighted avg       0.83      0.82      0.82       457\n",
      "\n",
      "test results:\n",
      "              precision    recall  f1-score   support\n",
      "\n",
      "       bknow       0.58      0.69      0.63        67\n",
      "      struct       0.88      0.83      0.85       189\n",
      "\n",
      "    accuracy                           0.79       256\n",
      "   macro avg       0.73      0.76      0.74       256\n",
      "weighted avg       0.80      0.79      0.79       256\n",
      "\n",
      "### ### ### ### ### ### ### ### ### ### \n",
      "{'acc': [0.7265625, 0.7890625, 0.7890625], 'f1': [0.6860106532099804, 0.745414364640884, 0.7412980013474062], 'r': [8, 8, 8]}\n",
      "### ### ### ### ### ### ### ### ### ### \n"
     ]
    }
   ],
   "source": [
    "r = 8\n",
    "lora_alpha = [4,16,32]\n",
    "lora_dropout = 0.0\n",
    "lr = 1.0e-4\n",
    "g = 2\n",
    "wd = 0.01\n",
    "\n",
    "for a in lora_alpha:\n",
    "    print(f'Grid search {model_checkpoint}, lr: {lr}. Focal loss gamma: {g}. Weight decay {wd}. Lora rank: {r}. Lora alpha: {a}')\n",
    "    data = ClimateDataset(model_to_train=1,model_checkpoint=model_checkpoint,batch_size=32)\n",
    "    data.setup_dataloaders()\n",
    "    model = ClassificationModel(model_checkpoint=data.model_checkpoint,\n",
    "                                num_labels=data.num_labels,\n",
    "                                lora=True,\n",
    "                                r=r,\n",
    "                                alpha=a,\n",
    "                                dropout=lora_dropout)\n",
    "    trainer = Engine(epochs=10,labels=data.labels)\n",
    "    trainer.model = model.model\n",
    "    trainer.dataset_encoded = data.dataset_encoded\n",
    "    acc, f1 = trainer.run(lr=lr,\n",
    "                          wd=wd,\n",
    "                          train_dataloader=data.train_dataloader,\n",
    "                          eval_dataloader=data.eval_dataloader,\n",
    "                          test_dataloader=data.test_dataloader,\n",
    "                          focalloss=True,\n",
    "                          early_stop=3,\n",
    "                          gamma=g)\n",
    "    results['acc'].append(acc)\n",
    "    results['f1'].append(f1)\n",
    "    results['a'].append(r)\n",
    "    print('### '*10)\n",
    "    print(results)\n",
    "    print('### '*10)\n",
    "    with torch.no_grad():\n",
    "        torch.cuda.empty_cache()\n",
    "    del data, model, trainer, acc, f1"
   ]
  },
  {
   "cell_type": "code",
   "execution_count": 9,
   "metadata": {},
   "outputs": [],
   "source": [
    "import matplotlib.pyplot as plt\n",
    "import seaborn as sns\n",
    "import pandas as pd\n",
    "\n",
    "results = {'acc': [0.7265625, 0.765625, 0.7890625, 0.7890625], 'f1': [0.6860106532099804, 0.7325719061215962, 0.745414364640884, 0.7412980013474062], 'a': [4, 8, 16, 32]}"
   ]
  },
  {
   "cell_type": "code",
   "execution_count": 10,
   "metadata": {},
   "outputs": [
    {
     "data": {
      "image/png": "[encoded data removed]",
      "text/plain": [
       "<Figure size 640x480 with 1 Axes>"
      ]
     },
     "metadata": {},
     "output_type": "display_data"
    }
   ],
   "source": [
    "def plot_grid_search(df, title):\n",
    "\n",
    "    # Create the plot\n",
    "    ax = df.plot(x='a', y=['acc', 'f1'], marker='o', linestyle='-')\n",
    "\n",
    "    # Set y-axis range between 0 and 1\n",
    "    plt.ylim(0, 1)\n",
    "\n",
    "    # Annotate points with F1 scores\n",
    "    for i, row in df.iterrows(): \n",
    "        ax.annotate(f'{row[\"f1\"]:.2f}', (row[\"a\"], row[\"f1\"]), textcoords='offset points', xytext=(0, -10), ha='center')\n",
    "\n",
    "    # Annotate points with Acc scores\n",
    "    for i, row in df.iterrows():\n",
    "        ax.annotate(f'{row[\"acc\"]:.2f}', (row[\"a\"], row[\"acc\"]), textcoords='offset points', xytext=(0, 10), ha='center')\n",
    "    \n",
    "    # \n",
    "    plt.xticks(df['a'], [val for val in df['a']], ha='center')\n",
    "    # plt.xscale('log')\n",
    "    plt.minorticks_off()\n",
    "\n",
    "    plt.title(title)\n",
    "    plt.xlabel('alpha')\n",
    "    plt.ylabel('Score')\n",
    "    plt.show()\n",
    "\n",
    "plot_grid_search(pd.DataFrame(results), f'Alpha: LoRA scaling factor. {model_checkpoint}.')"
   ]
  }
 ],
 "metadata": {
  "kernelspec": {
   "display_name": "Python 3",
   "language": "python",
   "name": "python3"
  },
  "language_info": {
   "codemirror_mode": {
    "name": "ipython",
    "version": 3
   },
   "file_extension": ".py",
   "mimetype": "text/x-python",
   "name": "python",
   "nbconvert_exporter": "python",
   "pygments_lexer": "ipython3",
   "version": "3.11.5"
  },
  "orig_nbformat": 4
 },
 "nbformat": 4,
 "nbformat_minor": 2
}
