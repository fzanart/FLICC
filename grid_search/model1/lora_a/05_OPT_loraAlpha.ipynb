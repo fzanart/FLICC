{
 "cells": [
  {
   "cell_type": "code",
   "execution_count": 1,
   "metadata": {},
   "outputs": [],
   "source": [
    "import torch\n",
    "from data import ClimateDataset\n",
    "from models import ClassificationModel\n",
    "from engine import Engine"
   ]
  },
  {
   "cell_type": "code",
   "execution_count": 2,
   "metadata": {},
   "outputs": [],
   "source": [
    "model_checkpoint='facebook/opt-350m'"
   ]
  },
  {
   "cell_type": "code",
   "execution_count": 3,
   "metadata": {},
   "outputs": [],
   "source": [
    "results = {'acc':[],\n",
    "           'f1':[],\n",
    "           'a':[]}"
   ]
  },
  {
   "cell_type": "code",
   "execution_count": 4,
   "metadata": {},
   "outputs": [
    {
     "name": "stdout",
     "output_type": "stream",
     "text": [
      "Grid search facebook/opt-350m, lr: 1e-05. Focal loss gamma: 8. Weight decay 0.0. Lora rank: 16. Lora alpha: 4\n"
     ]
    },
    {
     "name": "stderr",
     "output_type": "stream",
     "text": [
      "Some weights of OPTForSequenceClassification were not initialized from the model checkpoint at facebook/opt-350m and are newly initialized: ['score.weight']\n",
      "You should probably TRAIN this model on a down-stream task to be able to use it for predictions and inference.\n",
      "You're using a GPT2TokenizerFast tokenizer. Please note that with a fast tokenizer, using the `__call__` method is faster than using a method to encode the text followed by a call to the `pad` method to get a padded encoding.\n"
     ]
    },
    {
     "name": "stdout",
     "output_type": "stream",
     "text": [
      "1 / 10: Train Loss:\t0.7338\tVal Loss:\t0.8247\tAccuracy:\t0.5886\tF1:\t0.5121\n",
      "2 / 10: Train Loss:\t0.2964\tVal Loss:\t0.7658\tAccuracy:\t0.5864\tF1:\t0.5043\n",
      "3 / 10: Train Loss:\t0.1894\tVal Loss:\t0.7492\tAccuracy:\t0.5842\tF1:\t0.4985\n",
      "4 / 10: Train Loss:\t0.1627\tVal Loss:\t0.7390\tAccuracy:\t0.5711\tF1:\t0.4803\n",
      "No improvement for 3 epochs. Stopping early.\n",
      "best (higgest macro f1-score) val results:\n",
      "              precision    recall  f1-score   support\n",
      "\n",
      "       bknow       0.24      0.29      0.26       119\n",
      "      struct       0.73      0.67      0.70       338\n",
      "\n",
      "    accuracy                           0.57       457\n",
      "   macro avg       0.48      0.48      0.48       457\n",
      "weighted avg       0.60      0.57      0.58       457\n",
      "\n",
      "test results:\n",
      "              precision    recall  f1-score   support\n",
      "\n",
      "       bknow       0.24      0.34      0.28        67\n",
      "      struct       0.72      0.61      0.66       189\n",
      "\n",
      "    accuracy                           0.54       256\n",
      "   macro avg       0.48      0.48      0.47       256\n",
      "weighted avg       0.60      0.54      0.56       256\n",
      "\n",
      "### ### ### ### ### ### ### ### ### ### \n",
      "{'acc': [0.5390625], 'f1': [0.4707036725539669], 'a': [4]}\n",
      "### ### ### ### ### ### ### ### ### ### \n",
      "Grid search facebook/opt-350m, lr: 1e-05. Focal loss gamma: 8. Weight decay 0.0. Lora rank: 16. Lora alpha: 8\n"
     ]
    },
    {
     "name": "stderr",
     "output_type": "stream",
     "text": [
      "Some weights of OPTForSequenceClassification were not initialized from the model checkpoint at facebook/opt-350m and are newly initialized: ['score.weight']\n",
      "You should probably TRAIN this model on a down-stream task to be able to use it for predictions and inference.\n",
      "You're using a GPT2TokenizerFast tokenizer. Please note that with a fast tokenizer, using the `__call__` method is faster than using a method to encode the text followed by a call to the `pad` method to get a padded encoding.\n"
     ]
    },
    {
     "name": "stdout",
     "output_type": "stream",
     "text": [
      "1 / 10: Train Loss:\t0.6225\tVal Loss:\t0.8290\tAccuracy:\t0.5646\tF1:\t0.5104\n",
      "2 / 10: Train Loss:\t0.2396\tVal Loss:\t0.7608\tAccuracy:\t0.5755\tF1:\t0.4923\n",
      "3 / 10: Train Loss:\t0.1518\tVal Loss:\t0.7551\tAccuracy:\t0.5383\tF1:\t0.4579\n",
      "4 / 10: Train Loss:\t0.1398\tVal Loss:\t0.7477\tAccuracy:\t0.5602\tF1:\t0.4773\n",
      "No improvement for 3 epochs. Stopping early.\n",
      "best (higgest macro f1-score) val results:\n",
      "              precision    recall  f1-score   support\n",
      "\n",
      "       bknow       0.24      0.31      0.27       119\n",
      "      struct       0.73      0.65      0.69       338\n",
      "\n",
      "    accuracy                           0.56       457\n",
      "   macro avg       0.48      0.48      0.48       457\n",
      "weighted avg       0.60      0.56      0.58       457\n",
      "\n",
      "test results:\n",
      "              precision    recall  f1-score   support\n",
      "\n",
      "       bknow       0.26      0.37      0.30        67\n",
      "      struct       0.74      0.62      0.67       189\n",
      "\n",
      "    accuracy                           0.55       256\n",
      "   macro avg       0.50      0.50      0.49       256\n",
      "weighted avg       0.61      0.55      0.58       256\n",
      "\n",
      "### ### ### ### ### ### ### ### ### ### \n",
      "{'acc': [0.5390625, 0.5546875], 'f1': [0.4707036725539669, 0.48864592094196807], 'a': [4, 8]}\n",
      "### ### ### ### ### ### ### ### ### ### \n",
      "Grid search facebook/opt-350m, lr: 1e-05. Focal loss gamma: 8. Weight decay 0.0. Lora rank: 16. Lora alpha: 16\n"
     ]
    },
    {
     "name": "stderr",
     "output_type": "stream",
     "text": [
      "Some weights of OPTForSequenceClassification were not initialized from the model checkpoint at facebook/opt-350m and are newly initialized: ['score.weight']\n",
      "You should probably TRAIN this model on a down-stream task to be able to use it for predictions and inference.\n",
      "You're using a GPT2TokenizerFast tokenizer. Please note that with a fast tokenizer, using the `__call__` method is faster than using a method to encode the text followed by a call to the `pad` method to get a padded encoding.\n"
     ]
    },
    {
     "name": "stdout",
     "output_type": "stream",
     "text": [
      "1 / 10: Train Loss:\t0.5137\tVal Loss:\t0.7794\tAccuracy:\t0.5536\tF1:\t0.4829\n",
      "2 / 10: Train Loss:\t0.1760\tVal Loss:\t0.7613\tAccuracy:\t0.5405\tF1:\t0.4657\n",
      "3 / 10: Train Loss:\t0.1213\tVal Loss:\t0.7468\tAccuracy:\t0.5711\tF1:\t0.4780\n",
      "4 / 10: Train Loss:\t0.1114\tVal Loss:\t0.7495\tAccuracy:\t0.5470\tF1:\t0.4703\n",
      "No improvement for 3 epochs. Stopping early.\n",
      "best (higgest macro f1-score) val results:\n",
      "              precision    recall  f1-score   support\n",
      "\n",
      "       bknow       0.23      0.32      0.27       119\n",
      "      struct       0.72      0.63      0.67       338\n",
      "\n",
      "    accuracy                           0.55       457\n",
      "   macro avg       0.48      0.47      0.47       457\n",
      "weighted avg       0.60      0.55      0.57       457\n",
      "\n",
      "test results:\n",
      "              precision    recall  f1-score   support\n",
      "\n",
      "       bknow       0.23      0.39      0.29        67\n",
      "      struct       0.72      0.55      0.62       189\n",
      "\n",
      "    accuracy                           0.51       256\n",
      "   macro avg       0.48      0.47      0.46       256\n",
      "weighted avg       0.59      0.51      0.54       256\n",
      "\n",
      "### ### ### ### ### ### ### ### ### ### \n",
      "{'acc': [0.5390625, 0.5546875, 0.5078125], 'f1': [0.4707036725539669, 0.48864592094196807, 0.45744466123931904], 'a': [4, 8, 16]}\n",
      "### ### ### ### ### ### ### ### ### ### \n",
      "Grid search facebook/opt-350m, lr: 1e-05. Focal loss gamma: 8. Weight decay 0.0. Lora rank: 16. Lora alpha: 32\n"
     ]
    },
    {
     "name": "stderr",
     "output_type": "stream",
     "text": [
      "Some weights of OPTForSequenceClassification were not initialized from the model checkpoint at facebook/opt-350m and are newly initialized: ['score.weight']\n",
      "You should probably TRAIN this model on a down-stream task to be able to use it for predictions and inference.\n",
      "You're using a GPT2TokenizerFast tokenizer. Please note that with a fast tokenizer, using the `__call__` method is faster than using a method to encode the text followed by a call to the `pad` method to get a padded encoding.\n"
     ]
    },
    {
     "name": "stdout",
     "output_type": "stream",
     "text": [
      "1 / 10: Train Loss:\t0.4011\tVal Loss:\t0.7937\tAccuracy:\t0.5011\tF1:\t0.4608\n",
      "2 / 10: Train Loss:\t0.1296\tVal Loss:\t0.7519\tAccuracy:\t0.5580\tF1:\t0.4714\n",
      "3 / 10: Train Loss:\t0.0903\tVal Loss:\t0.7403\tAccuracy:\t0.5558\tF1:\t0.4742\n",
      "4 / 10: Train Loss:\t0.0835\tVal Loss:\t0.7480\tAccuracy:\t0.5449\tF1:\t0.4785\n",
      "5 / 10: Train Loss:\t0.0741\tVal Loss:\t0.7108\tAccuracy:\t0.5799\tF1:\t0.4975\n",
      "6 / 10: Train Loss:\t0.0667\tVal Loss:\t0.7201\tAccuracy:\t0.5733\tF1:\t0.5186\n",
      "7 / 10: Train Loss:\t0.0650\tVal Loss:\t0.7204\tAccuracy:\t0.5449\tF1:\t0.5174\n",
      "8 / 10: Train Loss:\t0.0670\tVal Loss:\t0.6715\tAccuracy:\t0.6105\tF1:\t0.5238\n",
      "9 / 10: Train Loss:\t0.0530\tVal Loss:\t0.6802\tAccuracy:\t0.6039\tF1:\t0.5312\n",
      "10 / 10: Train Loss:\t0.0487\tVal Loss:\t0.6696\tAccuracy:\t0.6127\tF1:\t0.5254\n",
      "best (higgest macro f1-score) val results:\n",
      "              precision    recall  f1-score   support\n",
      "\n",
      "       bknow       0.30      0.35      0.32       119\n",
      "      struct       0.76      0.70      0.73       338\n",
      "\n",
      "    accuracy                           0.61       457\n",
      "   macro avg       0.53      0.53      0.53       457\n",
      "weighted avg       0.64      0.61      0.62       457\n",
      "\n",
      "test results:\n",
      "              precision    recall  f1-score   support\n",
      "\n",
      "       bknow       0.34      0.52      0.41        67\n",
      "      struct       0.79      0.63      0.70       189\n",
      "\n",
      "    accuracy                           0.61       256\n",
      "   macro avg       0.56      0.58      0.56       256\n",
      "weighted avg       0.67      0.61      0.63       256\n",
      "\n",
      "### ### ### ### ### ### ### ### ### ### \n",
      "{'acc': [0.5390625, 0.5546875, 0.5078125, 0.60546875], 'f1': [0.4707036725539669, 0.48864592094196807, 0.45744466123931904, 0.5565845209308706], 'a': [4, 8, 16, 32]}\n",
      "### ### ### ### ### ### ### ### ### ### \n"
     ]
    }
   ],
   "source": [
    "r = 16\n",
    "lora_alpha = [4,8,16,32]\n",
    "lora_dropout = 0.0\n",
    "lr = 1.0e-5\n",
    "g = 8\n",
    "wd = 0.0\n",
    "\n",
    "for a in lora_alpha:\n",
    "    print(f'Grid search {model_checkpoint}, lr: {lr}. Focal loss gamma: {g}. Weight decay {wd}. Lora rank: {r}. Lora alpha: {a}')\n",
    "    data = ClimateDataset(model_to_train=1,model_checkpoint=model_checkpoint,batch_size=32)\n",
    "    data.setup_dataloaders()\n",
    "    model = ClassificationModel(model_checkpoint=data.model_checkpoint,\n",
    "                                num_labels=data.num_labels,\n",
    "                                lora=True,\n",
    "                                r=r,\n",
    "                                alpha=a,\n",
    "                                dropout=lora_dropout)\n",
    "    trainer = Engine(epochs=10,labels=data.labels)\n",
    "    trainer.model = model.model\n",
    "    trainer.dataset_encoded = data.dataset_encoded\n",
    "    acc, f1 = trainer.run(lr=lr,\n",
    "                          wd=wd,\n",
    "                          train_dataloader=data.train_dataloader,\n",
    "                          eval_dataloader=data.eval_dataloader,\n",
    "                          test_dataloader=data.test_dataloader,\n",
    "                          focalloss=True,\n",
    "                          early_stop=3,\n",
    "                          gamma=g)\n",
    "    results['acc'].append(acc)\n",
    "    results['f1'].append(f1)\n",
    "    results['a'].append(a)\n",
    "    print('### '*10)\n",
    "    print(results)\n",
    "    print('### '*10)\n",
    "    with torch.no_grad():\n",
    "        torch.cuda.empty_cache()\n",
    "    del data, model, trainer, acc, f1"
   ]
  },
  {
   "cell_type": "code",
   "execution_count": 7,
   "metadata": {},
   "outputs": [],
   "source": [
    "import matplotlib.pyplot as plt\n",
    "import seaborn as sns\n",
    "import pandas as pd\n",
    "\n",
    "results = {'acc': [0.5390625, 0.5546875, 0.5078125, 0.60546875], 'f1': [0.4707036725539669, 0.48864592094196807, 0.45744466123931904, 0.5565845209308706], 'a': [4, 8, 16, 32]}"
   ]
  },
  {
   "cell_type": "code",
   "execution_count": 8,
   "metadata": {},
   "outputs": [
    {
     "data": {
      "image/png": "[encoded data removed]",
      "text/plain": [
       "<Figure size 640x480 with 1 Axes>"
      ]
     },
     "metadata": {},
     "output_type": "display_data"
    }
   ],
   "source": [
    "def plot_grid_search(df, title):\n",
    "\n",
    "    # Create the plot\n",
    "    ax = df.plot(x='a', y=['acc', 'f1'], marker='o', linestyle='-')\n",
    "\n",
    "    # Set y-axis range between 0 and 1\n",
    "    plt.ylim(0, 1)\n",
    "\n",
    "    # Annotate points with F1 scores\n",
    "    for i, row in df.iterrows(): \n",
    "        ax.annotate(f'{row[\"f1\"]:.2f}', (row[\"a\"], row[\"f1\"]), textcoords='offset points', xytext=(0, -10), ha='center')\n",
    "\n",
    "    # Annotate points with Acc scores\n",
    "    for i, row in df.iterrows():\n",
    "        ax.annotate(f'{row[\"acc\"]:.2f}', (row[\"a\"], row[\"acc\"]), textcoords='offset points', xytext=(0, 10), ha='center')\n",
    "    \n",
    "    # \n",
    "    plt.xticks(df['a'], [val for val in df['a']], ha='center')\n",
    "    # plt.xscale('log')\n",
    "    plt.minorticks_off()\n",
    "\n",
    "    plt.title(title)\n",
    "    plt.xlabel('alpha')\n",
    "    plt.ylabel('Score')\n",
    "    plt.show()\n",
    "\n",
    "plot_grid_search(pd.DataFrame(results), f'Alpha: LoRA scaling factor. {model_checkpoint}.')"
   ]
  }
 ],
 "metadata": {
  "kernelspec": {
   "display_name": "Python 3",
   "language": "python",
   "name": "python3"
  },
  "language_info": {
   "codemirror_mode": {
    "name": "ipython",
    "version": 3
   },
   "file_extension": ".py",
   "mimetype": "text/x-python",
   "name": "python",
   "nbconvert_exporter": "python",
   "pygments_lexer": "ipython3",
   "version": "3.11.5"
  },
  "orig_nbformat": 4
 },
 "nbformat": 4,
 "nbformat_minor": 2
}
