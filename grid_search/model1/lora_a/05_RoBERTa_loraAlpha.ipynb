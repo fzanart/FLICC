{
 "cells": [
  {
   "cell_type": "code",
   "execution_count": 1,
   "metadata": {},
   "outputs": [],
   "source": [
    "import torch\n",
    "from data import ClimateDataset\n",
    "from models import ClassificationModel\n",
    "from engine import Engine"
   ]
  },
  {
   "cell_type": "code",
   "execution_count": 2,
   "metadata": {},
   "outputs": [],
   "source": [
    "model_checkpoint='roberta-large'\n",
    "\n",
    "# the commands below didn't work inside for loop and got CUDA out of memory Error.\n",
    "#     with torch.no_grad():\n",
    "#        torch.cuda.empty_cache()\n",
    "#    del data, model, trainer, acc, f1\n",
    "# Instead of running these commands in a loop, execute them cell by cell, restarting between them.\n",
    "# Each cell will print its results. To keep the results and avoid re-running specific cells, skip them intermittently on each run."
   ]
  },
  {
   "cell_type": "code",
   "execution_count": 3,
   "metadata": {},
   "outputs": [],
   "source": [
    "results = {'acc':[],\n",
    "           'f1':[],\n",
    "           'a':[]}"
   ]
  },
  {
   "cell_type": "code",
   "execution_count": 4,
   "metadata": {},
   "outputs": [
    {
     "name": "stdout",
     "output_type": "stream",
     "text": [
      "Grid search roberta-large, lr: 1e-05. Focal loss gamma: 2. Weight decay 0.0. Lora rank: 8. Lora alpha: 4\n"
     ]
    },
    {
     "name": "stderr",
     "output_type": "stream",
     "text": [
      "Some weights of RobertaForSequenceClassification were not initialized from the model checkpoint at roberta-large and are newly initialized: ['classifier.out_proj.bias', 'classifier.dense.weight', 'classifier.out_proj.weight', 'classifier.dense.bias']\n",
      "You should probably TRAIN this model on a down-stream task to be able to use it for predictions and inference.\n",
      "You're using a RobertaTokenizerFast tokenizer. Please note that with a fast tokenizer, using the `__call__` method is faster than using a method to encode the text followed by a call to the `pad` method to get a padded encoding.\n"
     ]
    },
    {
     "name": "stdout",
     "output_type": "stream",
     "text": [
      "1 / 30: Train Loss:\t0.1824\tVal Loss:\t0.7066\tAccuracy:\t0.2691\tF1:\t0.2251\n",
      "2 / 30: Train Loss:\t0.1768\tVal Loss:\t0.7006\tAccuracy:\t0.3479\tF1:\t0.3336\n",
      "3 / 30: Train Loss:\t0.1745\tVal Loss:\t0.6965\tAccuracy:\t0.4464\tF1:\t0.4451\n",
      "4 / 30: Train Loss:\t0.1728\tVal Loss:\t0.6954\tAccuracy:\t0.4945\tF1:\t0.4937\n",
      "5 / 30: Train Loss:\t0.1722\tVal Loss:\t0.6942\tAccuracy:\t0.4858\tF1:\t0.4855\n",
      "6 / 30: Train Loss:\t0.1704\tVal Loss:\t0.6896\tAccuracy:\t0.5339\tF1:\t0.5310\n",
      "7 / 30: Train Loss:\t0.1673\tVal Loss:\t0.6796\tAccuracy:\t0.6455\tF1:\t0.6265\n",
      "8 / 30: Train Loss:\t0.1668\tVal Loss:\t0.6827\tAccuracy:\t0.6018\tF1:\t0.5925\n",
      "9 / 30: Train Loss:\t0.1641\tVal Loss:\t0.6653\tAccuracy:\t0.7024\tF1:\t0.6637\n",
      "10 / 30: Train Loss:\t0.1590\tVal Loss:\t0.6496\tAccuracy:\t0.7330\tF1:\t0.6834\n",
      "11 / 30: Train Loss:\t0.1535\tVal Loss:\t0.6354\tAccuracy:\t0.7571\tF1:\t0.6996\n",
      "12 / 30: Train Loss:\t0.1532\tVal Loss:\t0.6200\tAccuracy:\t0.7593\tF1:\t0.6941\n",
      "13 / 30: Train Loss:\t0.1531\tVal Loss:\t0.6179\tAccuracy:\t0.7659\tF1:\t0.7169\n",
      "14 / 30: Train Loss:\t0.1481\tVal Loss:\t0.6085\tAccuracy:\t0.7724\tF1:\t0.7323\n",
      "15 / 30: Train Loss:\t0.1470\tVal Loss:\t0.6004\tAccuracy:\t0.7746\tF1:\t0.7263\n",
      "16 / 30: Train Loss:\t0.1460\tVal Loss:\t0.6014\tAccuracy:\t0.7702\tF1:\t0.7258\n",
      "17 / 30: Train Loss:\t0.1427\tVal Loss:\t0.5809\tAccuracy:\t0.7856\tF1:\t0.7275\n",
      "No improvement for 3 epochs. Stopping early.\n",
      "best (higgest macro f1-score) val results:\n",
      "              precision    recall  f1-score   support\n",
      "\n",
      "       bknow       0.58      0.62      0.60       119\n",
      "      struct       0.86      0.84      0.85       338\n",
      "\n",
      "    accuracy                           0.79       457\n",
      "   macro avg       0.72      0.73      0.73       457\n",
      "weighted avg       0.79      0.79      0.79       457\n",
      "\n",
      "test results:\n",
      "              precision    recall  f1-score   support\n",
      "\n",
      "       bknow       0.52      0.64      0.57        67\n",
      "      struct       0.86      0.79      0.82       189\n",
      "\n",
      "    accuracy                           0.75       256\n",
      "   macro avg       0.69      0.72      0.70       256\n",
      "weighted avg       0.77      0.75      0.76       256\n",
      "\n",
      "### ### ### ### ### ### ### ### ### ### \n",
      "{'acc': [0.75], 'f1': [0.698268876611418], 'a': [4]}\n",
      "### ### ### ### ### ### ### ### ### ### \n"
     ]
    }
   ],
   "source": [
    "lr = 1.0e-5\n",
    "g = 2\n",
    "lora_alpha = 4\n",
    "r = 8\n",
    "lora_dropout = 0.0\n",
    "wd = 0.0\n",
    "\n",
    "\n",
    "print(f'Grid search {model_checkpoint}, lr: {lr}. Focal loss gamma: {g}. Weight decay {wd}. Lora rank: {r}. Lora alpha: {lora_alpha}')\n",
    "data = ClimateDataset(model_to_train=1,model_checkpoint=model_checkpoint,batch_size=16)\n",
    "data.setup_dataloaders()\n",
    "model = ClassificationModel(model_checkpoint=data.model_checkpoint,\n",
    "                            num_labels=data.num_labels,\n",
    "                            lora=True,\n",
    "                            r=r,\n",
    "                            alpha=lora_alpha,\n",
    "                            dropout=lora_dropout)\n",
    "trainer = Engine(epochs=30,labels=data.labels)\n",
    "trainer.model = model.model\n",
    "trainer.dataset_encoded = data.dataset_encoded\n",
    "acc, f1 = trainer.run(lr=lr,\n",
    "                        wd=0.0,\n",
    "                        train_dataloader=data.train_dataloader,\n",
    "                        eval_dataloader=data.eval_dataloader,\n",
    "                        test_dataloader=data.test_dataloader,\n",
    "                        focalloss=True,\n",
    "                        early_stop=3,\n",
    "                        accumulation_steps=2,\n",
    "                        gamma=g)\n",
    "results['acc'].append(acc)\n",
    "results['f1'].append(f1)\n",
    "results['a'].append(lora_alpha)\n",
    "print('### '*10)\n",
    "print(results)\n",
    "print('### '*10)"
   ]
  },
  {
   "cell_type": "code",
   "execution_count": 4,
   "metadata": {},
   "outputs": [
    {
     "name": "stdout",
     "output_type": "stream",
     "text": [
      "Grid search roberta-large, lr: 1e-05. Focal loss gamma: 2. Weight decay 0.0. Lora rank: 8. Lora alpha: 16\n"
     ]
    },
    {
     "name": "stderr",
     "output_type": "stream",
     "text": [
      "Some weights of RobertaForSequenceClassification were not initialized from the model checkpoint at roberta-large and are newly initialized: ['classifier.out_proj.weight', 'classifier.dense.weight', 'classifier.out_proj.bias', 'classifier.dense.bias']\n",
      "You should probably TRAIN this model on a down-stream task to be able to use it for predictions and inference.\n",
      "You're using a RobertaTokenizerFast tokenizer. Please note that with a fast tokenizer, using the `__call__` method is faster than using a method to encode the text followed by a call to the `pad` method to get a padded encoding.\n"
     ]
    },
    {
     "name": "stdout",
     "output_type": "stream",
     "text": [
      "1 / 30: Train Loss:\t0.1824\tVal Loss:\t0.7061\tAccuracy:\t0.2713\tF1:\t0.2282\n",
      "2 / 30: Train Loss:\t0.1765\tVal Loss:\t0.6995\tAccuracy:\t0.3654\tF1:\t0.3547\n",
      "3 / 30: Train Loss:\t0.1741\tVal Loss:\t0.6953\tAccuracy:\t0.4530\tF1:\t0.4520\n",
      "4 / 30: Train Loss:\t0.1720\tVal Loss:\t0.6927\tAccuracy:\t0.5230\tF1:\t0.5202\n",
      "5 / 30: Train Loss:\t0.1703\tVal Loss:\t0.6873\tAccuracy:\t0.5689\tF1:\t0.5608\n",
      "6 / 30: Train Loss:\t0.1661\tVal Loss:\t0.6689\tAccuracy:\t0.7024\tF1:\t0.6681\n",
      "7 / 30: Train Loss:\t0.1580\tVal Loss:\t0.6359\tAccuracy:\t0.7462\tF1:\t0.6882\n",
      "8 / 30: Train Loss:\t0.1559\tVal Loss:\t0.6305\tAccuracy:\t0.7396\tF1:\t0.6943\n",
      "9 / 30: Train Loss:\t0.1491\tVal Loss:\t0.5961\tAccuracy:\t0.7702\tF1:\t0.7171\n",
      "10 / 30: Train Loss:\t0.1430\tVal Loss:\t0.5673\tAccuracy:\t0.7746\tF1:\t0.7143\n",
      "11 / 30: Train Loss:\t0.1369\tVal Loss:\t0.5629\tAccuracy:\t0.7812\tF1:\t0.7261\n",
      "12 / 30: Train Loss:\t0.1384\tVal Loss:\t0.5482\tAccuracy:\t0.7943\tF1:\t0.7358\n",
      "13 / 30: Train Loss:\t0.1357\tVal Loss:\t0.5491\tAccuracy:\t0.8053\tF1:\t0.7646\n",
      "14 / 30: Train Loss:\t0.1298\tVal Loss:\t0.5462\tAccuracy:\t0.7921\tF1:\t0.7578\n",
      "15 / 30: Train Loss:\t0.1310\tVal Loss:\t0.5351\tAccuracy:\t0.8096\tF1:\t0.7698\n",
      "16 / 30: Train Loss:\t0.1284\tVal Loss:\t0.5170\tAccuracy:\t0.8337\tF1:\t0.7908\n",
      "17 / 30: Train Loss:\t0.1230\tVal Loss:\t0.4992\tAccuracy:\t0.8403\tF1:\t0.7954\n",
      "18 / 30: Train Loss:\t0.1165\tVal Loss:\t0.4932\tAccuracy:\t0.8403\tF1:\t0.8005\n",
      "19 / 30: Train Loss:\t0.1136\tVal Loss:\t0.4868\tAccuracy:\t0.8468\tF1:\t0.8073\n",
      "20 / 30: Train Loss:\t0.1121\tVal Loss:\t0.4740\tAccuracy:\t0.8534\tF1:\t0.8102\n",
      "21 / 30: Train Loss:\t0.1075\tVal Loss:\t0.4820\tAccuracy:\t0.8446\tF1:\t0.8069\n",
      "22 / 30: Train Loss:\t0.1100\tVal Loss:\t0.4621\tAccuracy:\t0.8446\tF1:\t0.7989\n",
      "23 / 30: Train Loss:\t0.1098\tVal Loss:\t0.4552\tAccuracy:\t0.8512\tF1:\t0.8068\n",
      "No improvement for 3 epochs. Stopping early.\n",
      "best (higgest macro f1-score) val results:\n",
      "              precision    recall  f1-score   support\n",
      "\n",
      "       bknow       0.71      0.71      0.71       119\n",
      "      struct       0.90      0.90      0.90       338\n",
      "\n",
      "    accuracy                           0.85       457\n",
      "   macro avg       0.81      0.81      0.81       457\n",
      "weighted avg       0.85      0.85      0.85       457\n",
      "\n",
      "test results:\n",
      "              precision    recall  f1-score   support\n",
      "\n",
      "       bknow       0.57      0.69      0.63        67\n",
      "      struct       0.88      0.82      0.85       189\n",
      "\n",
      "    accuracy                           0.79       256\n",
      "   macro avg       0.73      0.75      0.74       256\n",
      "weighted avg       0.80      0.79      0.79       256\n",
      "\n",
      "### ### ### ### ### ### ### ### ### ### \n",
      "{'acc': [0.78515625], 'f1': [0.7375827043146025], 'a': [16]}\n",
      "### ### ### ### ### ### ### ### ### ### \n"
     ]
    }
   ],
   "source": [
    "lr = 1.0e-5\n",
    "g = 2\n",
    "lora_alpha = 16\n",
    "r = 8\n",
    "lora_dropout = 0.0\n",
    "wd = 0.0\n",
    "\n",
    "\n",
    "print(f'Grid search {model_checkpoint}, lr: {lr}. Focal loss gamma: {g}. Weight decay {wd}. Lora rank: {r}. Lora alpha: {lora_alpha}')\n",
    "data = ClimateDataset(model_to_train=1,model_checkpoint=model_checkpoint,batch_size=16)\n",
    "data.setup_dataloaders()\n",
    "model = ClassificationModel(model_checkpoint=data.model_checkpoint,\n",
    "                            num_labels=data.num_labels,\n",
    "                            lora=True,\n",
    "                            r=r,\n",
    "                            alpha=lora_alpha,\n",
    "                            dropout=lora_dropout)\n",
    "trainer = Engine(epochs=30,labels=data.labels)\n",
    "trainer.model = model.model\n",
    "trainer.dataset_encoded = data.dataset_encoded\n",
    "acc, f1 = trainer.run(lr=lr,\n",
    "                        wd=0.0,\n",
    "                        train_dataloader=data.train_dataloader,\n",
    "                        eval_dataloader=data.eval_dataloader,\n",
    "                        test_dataloader=data.test_dataloader,\n",
    "                        focalloss=True,\n",
    "                        early_stop=3,\n",
    "                        accumulation_steps=2,\n",
    "                        gamma=g)\n",
    "results['acc'].append(acc)\n",
    "results['f1'].append(f1)\n",
    "results['a'].append(lora_alpha)\n",
    "print('### '*10)\n",
    "print(results)\n",
    "print('### '*10)"
   ]
  },
  {
   "cell_type": "code",
   "execution_count": 4,
   "metadata": {},
   "outputs": [
    {
     "name": "stdout",
     "output_type": "stream",
     "text": [
      "Grid search roberta-large, lr: 1e-05. Focal loss gamma: 2. Weight decay 0.0. Lora rank: 8. Lora alpha: 32\n"
     ]
    },
    {
     "name": "stderr",
     "output_type": "stream",
     "text": [
      "Some weights of RobertaForSequenceClassification were not initialized from the model checkpoint at roberta-large and are newly initialized: ['classifier.dense.bias', 'classifier.out_proj.bias', 'classifier.dense.weight', 'classifier.out_proj.weight']\n",
      "You should probably TRAIN this model on a down-stream task to be able to use it for predictions and inference.\n",
      "You're using a RobertaTokenizerFast tokenizer. Please note that with a fast tokenizer, using the `__call__` method is faster than using a method to encode the text followed by a call to the `pad` method to get a padded encoding.\n"
     ]
    },
    {
     "name": "stdout",
     "output_type": "stream",
     "text": [
      "1 / 30: Train Loss:\t0.1823\tVal Loss:\t0.7054\tAccuracy:\t0.2713\tF1:\t0.2282\n",
      "2 / 30: Train Loss:\t0.1763\tVal Loss:\t0.6985\tAccuracy:\t0.3786\tF1:\t0.3701\n",
      "3 / 30: Train Loss:\t0.1737\tVal Loss:\t0.6933\tAccuracy:\t0.4836\tF1:\t0.4836\n",
      "4 / 30: Train Loss:\t0.1705\tVal Loss:\t0.6875\tAccuracy:\t0.5755\tF1:\t0.5673\n",
      "5 / 30: Train Loss:\t0.1666\tVal Loss:\t0.6640\tAccuracy:\t0.7068\tF1:\t0.6698\n",
      "6 / 30: Train Loss:\t0.1582\tVal Loss:\t0.6151\tAccuracy:\t0.7615\tF1:\t0.6912\n",
      "7 / 30: Train Loss:\t0.1469\tVal Loss:\t0.5833\tAccuracy:\t0.7746\tF1:\t0.7185\n",
      "8 / 30: Train Loss:\t0.1483\tVal Loss:\t0.5909\tAccuracy:\t0.7637\tF1:\t0.7220\n",
      "9 / 30: Train Loss:\t0.1398\tVal Loss:\t0.5517\tAccuracy:\t0.7877\tF1:\t0.7375\n",
      "10 / 30: Train Loss:\t0.1333\tVal Loss:\t0.5261\tAccuracy:\t0.8206\tF1:\t0.7671\n",
      "11 / 30: Train Loss:\t0.1274\tVal Loss:\t0.5237\tAccuracy:\t0.8228\tF1:\t0.7764\n",
      "12 / 30: Train Loss:\t0.1292\tVal Loss:\t0.5049\tAccuracy:\t0.8381\tF1:\t0.7825\n",
      "13 / 30: Train Loss:\t0.1235\tVal Loss:\t0.5137\tAccuracy:\t0.8381\tF1:\t0.8029\n",
      "14 / 30: Train Loss:\t0.1197\tVal Loss:\t0.5022\tAccuracy:\t0.8359\tF1:\t0.7998\n",
      "15 / 30: Train Loss:\t0.1195\tVal Loss:\t0.4864\tAccuracy:\t0.8512\tF1:\t0.8128\n",
      "16 / 30: Train Loss:\t0.1151\tVal Loss:\t0.4691\tAccuracy:\t0.8512\tF1:\t0.8068\n",
      "17 / 30: Train Loss:\t0.1100\tVal Loss:\t0.4514\tAccuracy:\t0.8556\tF1:\t0.8115\n",
      "18 / 30: Train Loss:\t0.1018\tVal Loss:\t0.4501\tAccuracy:\t0.8578\tF1:\t0.8197\n",
      "19 / 30: Train Loss:\t0.1005\tVal Loss:\t0.4407\tAccuracy:\t0.8578\tF1:\t0.8188\n",
      "20 / 30: Train Loss:\t0.0968\tVal Loss:\t0.4256\tAccuracy:\t0.8687\tF1:\t0.8296\n",
      "21 / 30: Train Loss:\t0.0921\tVal Loss:\t0.4361\tAccuracy:\t0.8490\tF1:\t0.8150\n",
      "22 / 30: Train Loss:\t0.0930\tVal Loss:\t0.4192\tAccuracy:\t0.8600\tF1:\t0.8220\n",
      "23 / 30: Train Loss:\t0.0943\tVal Loss:\t0.3970\tAccuracy:\t0.8643\tF1:\t0.8229\n",
      "No improvement for 3 epochs. Stopping early.\n",
      "best (higgest macro f1-score) val results:\n",
      "              precision    recall  f1-score   support\n",
      "\n",
      "       bknow       0.74      0.73      0.74       119\n",
      "      struct       0.91      0.91      0.91       338\n",
      "\n",
      "    accuracy                           0.86       457\n",
      "   macro avg       0.82      0.82      0.82       457\n",
      "weighted avg       0.86      0.86      0.86       457\n",
      "\n",
      "test results:\n",
      "              precision    recall  f1-score   support\n",
      "\n",
      "       bknow       0.62      0.66      0.64        67\n",
      "      struct       0.88      0.86      0.87       189\n",
      "\n",
      "    accuracy                           0.80       256\n",
      "   macro avg       0.75      0.76      0.75       256\n",
      "weighted avg       0.81      0.80      0.81       256\n",
      "\n",
      "### ### ### ### ### ### ### ### ### ### \n",
      "{'acc': [0.8046875], 'f1': [0.7519956599240487], 'a': [32]}\n",
      "### ### ### ### ### ### ### ### ### ### \n"
     ]
    }
   ],
   "source": [
    "lr = 1.0e-5\n",
    "g = 2\n",
    "lora_alpha = 32\n",
    "r = 8\n",
    "lora_dropout = 0.0\n",
    "wd = 0.0\n",
    "\n",
    "\n",
    "print(f'Grid search {model_checkpoint}, lr: {lr}. Focal loss gamma: {g}. Weight decay {wd}. Lora rank: {r}. Lora alpha: {lora_alpha}')\n",
    "data = ClimateDataset(model_to_train=1,model_checkpoint=model_checkpoint,batch_size=16)\n",
    "data.setup_dataloaders()\n",
    "model = ClassificationModel(model_checkpoint=data.model_checkpoint,\n",
    "                            num_labels=data.num_labels,\n",
    "                            lora=True,\n",
    "                            r=r,\n",
    "                            alpha=lora_alpha,\n",
    "                            dropout=lora_dropout)\n",
    "trainer = Engine(epochs=30,labels=data.labels)\n",
    "trainer.model = model.model\n",
    "trainer.dataset_encoded = data.dataset_encoded\n",
    "acc, f1 = trainer.run(lr=lr,\n",
    "                        wd=0.0,\n",
    "                        train_dataloader=data.train_dataloader,\n",
    "                        eval_dataloader=data.eval_dataloader,\n",
    "                        test_dataloader=data.test_dataloader,\n",
    "                        focalloss=True,\n",
    "                        early_stop=3,\n",
    "                        accumulation_steps=2,\n",
    "                        gamma=g)\n",
    "results['acc'].append(acc)\n",
    "results['f1'].append(f1)\n",
    "results['a'].append(lora_alpha)\n",
    "print('### '*10)\n",
    "print(results)\n",
    "print('### '*10)"
   ]
  },
  {
   "cell_type": "code",
   "execution_count": 8,
   "metadata": {},
   "outputs": [],
   "source": [
    "results = {'acc': [0.75,0.76171875,0.78515625,0.8046875], 'f1': [0.698268876611418,0.7236644193165933,0.7375827043146025,0.7519956599240487], 'a': [4,8,16,32]}"
   ]
  },
  {
   "cell_type": "code",
   "execution_count": 9,
   "metadata": {},
   "outputs": [],
   "source": [
    "import matplotlib.pyplot as plt\n",
    "import seaborn as sns\n",
    "import pandas as pd"
   ]
  },
  {
   "cell_type": "code",
   "execution_count": 10,
   "metadata": {},
   "outputs": [
    {
     "data": {
      "image/png": "[encoded data removed]",
      "text/plain": [
       "<Figure size 640x480 with 1 Axes>"
      ]
     },
     "metadata": {},
     "output_type": "display_data"
    }
   ],
   "source": [
    "def plot_grid_search(df, title):\n",
    "\n",
    "    # Create the plot\n",
    "    ax = df.plot(x='a', y=['acc', 'f1'], marker='o', linestyle='-')\n",
    "\n",
    "    # Set y-axis range between 0 and 1\n",
    "    plt.ylim(0, 1)\n",
    "\n",
    "    # Annotate points with F1 scores\n",
    "    for i, row in df.iterrows(): \n",
    "        ax.annotate(f'{row[\"f1\"]:.2f}', (row[\"a\"], row[\"f1\"]), textcoords='offset points', xytext=(0, -10), ha='center')\n",
    "\n",
    "    # Annotate points with Acc scores\n",
    "    for i, row in df.iterrows():\n",
    "        ax.annotate(f'{row[\"acc\"]:.2f}', (row[\"a\"], row[\"acc\"]), textcoords='offset points', xytext=(0, 10), ha='center')\n",
    "    \n",
    "    # \n",
    "    plt.xticks(df['a'], [val for val in df['a']], ha='center')\n",
    "    plt.minorticks_off()\n",
    "\n",
    "    plt.title(title)\n",
    "    plt.xlabel('alpha')\n",
    "    plt.ylabel('Score')\n",
    "    plt.show()\n",
    "\n",
    "plot_grid_search(pd.DataFrame(results), f'Alpha: LoRA scaling factor. {model_checkpoint}.')"
   ]
  }
 ],
 "metadata": {
  "kernelspec": {
   "display_name": "Python 3",
   "language": "python",
   "name": "python3"
  },
  "language_info": {
   "codemirror_mode": {
    "name": "ipython",
    "version": 3
   },
   "file_extension": ".py",
   "mimetype": "text/x-python",
   "name": "python",
   "nbconvert_exporter": "python",
   "pygments_lexer": "ipython3",
   "version": "3.11.5"
  },
  "orig_nbformat": 4
 },
 "nbformat": 4,
 "nbformat_minor": 2
}
