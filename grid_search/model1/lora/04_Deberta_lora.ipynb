{
 "cells": [
  {
   "cell_type": "code",
   "execution_count": 1,
   "metadata": {},
   "outputs": [],
   "source": [
    "import os\n",
    "import sys\n",
    "import gc\n",
    "# assuming data, models, engine in flicc directory:\n",
    "flicc_path = os.path.realpath(\"__file__\").split('grid_search')[0]\n",
    "sys.path.append(flicc_path)\n",
    "import torch\n",
    "from data import ClimateDataset\n",
    "from models import ClassificationModel\n",
    "from engine import Engine"
   ]
  },
  {
   "cell_type": "code",
   "execution_count": 2,
   "metadata": {},
   "outputs": [],
   "source": [
    "model_checkpoint='microsoft/deberta-base'"
   ]
  },
  {
   "cell_type": "code",
   "execution_count": 3,
   "metadata": {},
   "outputs": [],
   "source": [
    "results = {'test_acc':[],\n",
    "           'test_f1':[],\n",
    "           'eval_acc':[],\n",
    "           'eval_f1':[],\n",
    "           'rank, alpha':[]}"
   ]
  },
  {
   "cell_type": "code",
   "execution_count": 4,
   "metadata": {},
   "outputs": [
    {
     "name": "stdout",
     "output_type": "stream",
     "text": [
      "Grid search microsoft/deberta-base, learning rate 1e-05 focal loss, gamma: 4 wd: 0.0, Lora alpha 8, rank 8\n"
     ]
    },
    {
     "name": "stderr",
     "output_type": "stream",
     "text": [
      "Some weights of DebertaForSequenceClassification were not initialized from the model checkpoint at microsoft/deberta-base and are newly initialized: ['classifier.bias', 'pooler.dense.bias', 'pooler.dense.weight', 'classifier.weight']\n",
      "You should probably TRAIN this model on a down-stream task to be able to use it for predictions and inference.\n",
      "You're using a DebertaTokenizerFast tokenizer. Please note that with a fast tokenizer, using the `__call__` method is faster than using a method to encode the text followed by a call to the `pad` method to get a padded encoding.\n"
     ]
    },
    {
     "name": "stdout",
     "output_type": "stream",
     "text": [
      "1 / 30: Train Loss:\t0.0870\tVal Loss:\t0.6944\tAccuracy:\t0.2670\tF1:\t0.2165\n",
      "2 / 30: Train Loss:\t0.0871\tVal Loss:\t0.6936\tAccuracy:\t0.3414\tF1:\t0.3313\n",
      "3 / 30: Train Loss:\t0.0874\tVal Loss:\t0.6934\tAccuracy:\t0.3786\tF1:\t0.3760\n",
      "4 / 30: Train Loss:\t0.0872\tVal Loss:\t0.6934\tAccuracy:\t0.3982\tF1:\t0.3971\n",
      "5 / 30: Train Loss:\t0.0863\tVal Loss:\t0.6934\tAccuracy:\t0.3851\tF1:\t0.3821\n",
      "6 / 30: Train Loss:\t0.0869\tVal Loss:\t0.6934\tAccuracy:\t0.3961\tF1:\t0.3942\n",
      "7 / 30: Train Loss:\t0.0868\tVal Loss:\t0.6937\tAccuracy:\t0.3217\tF1:\t0.3039\n",
      "No improvement for 3 epochs. Stopping early.\n",
      "best (higgest macro f1-score) val results:\n",
      "              precision    recall  f1-score   support\n",
      "\n",
      "       bknow       0.28      0.85      0.42       119\n",
      "      struct       0.82      0.24      0.37       338\n",
      "\n",
      "    accuracy                           0.40       457\n",
      "   macro avg       0.55      0.54      0.40       457\n",
      "weighted avg       0.68      0.40      0.38       457\n",
      "\n",
      "test results:\n",
      "              precision    recall  f1-score   support\n",
      "\n",
      "       bknow       0.26      0.81      0.40        67\n",
      "      struct       0.74      0.20      0.31       189\n",
      "\n",
      "    accuracy                           0.36       256\n",
      "   macro avg       0.50      0.50      0.35       256\n",
      "weighted avg       0.61      0.36      0.33       256\n",
      "\n",
      "### ### ### ### ### ### ### ### ### ### \n",
      "{'test_acc': [0.35546875], 'test_f1': [0.35261391328336933], 'eval_acc': [0.3982494529540481], 'eval_f1': [0.39709473300423603], 'rank, alpha': [8]}\n",
      "### ### ### ### ### ### ### ### ### ### \n",
      "Grid search microsoft/deberta-base, learning rate 1e-05 focal loss, gamma: 4 wd: 0.0, Lora alpha 16, rank 16\n"
     ]
    },
    {
     "name": "stderr",
     "output_type": "stream",
     "text": [
      "Some weights of DebertaForSequenceClassification were not initialized from the model checkpoint at microsoft/deberta-base and are newly initialized: ['classifier.bias', 'pooler.dense.bias', 'pooler.dense.weight', 'classifier.weight']\n",
      "You should probably TRAIN this model on a down-stream task to be able to use it for predictions and inference.\n",
      "You're using a DebertaTokenizerFast tokenizer. Please note that with a fast tokenizer, using the `__call__` method is faster than using a method to encode the text followed by a call to the `pad` method to get a padded encoding.\n"
     ]
    },
    {
     "name": "stdout",
     "output_type": "stream",
     "text": [
      "1 / 30: Train Loss:\t0.0869\tVal Loss:\t0.6944\tAccuracy:\t0.2670\tF1:\t0.2165\n",
      "2 / 30: Train Loss:\t0.0871\tVal Loss:\t0.6936\tAccuracy:\t0.3501\tF1:\t0.3409\n",
      "3 / 30: Train Loss:\t0.0874\tVal Loss:\t0.6934\tAccuracy:\t0.3939\tF1:\t0.3925\n",
      "4 / 30: Train Loss:\t0.0872\tVal Loss:\t0.6934\tAccuracy:\t0.4136\tF1:\t0.4132\n",
      "5 / 30: Train Loss:\t0.0863\tVal Loss:\t0.6934\tAccuracy:\t0.4136\tF1:\t0.4129\n",
      "6 / 30: Train Loss:\t0.0869\tVal Loss:\t0.6933\tAccuracy:\t0.4311\tF1:\t0.4310\n",
      "7 / 30: Train Loss:\t0.0868\tVal Loss:\t0.6935\tAccuracy:\t0.3786\tF1:\t0.3725\n",
      "8 / 30: Train Loss:\t0.0872\tVal Loss:\t0.6937\tAccuracy:\t0.3611\tF1:\t0.3502\n",
      "9 / 30: Train Loss:\t0.0867\tVal Loss:\t0.6935\tAccuracy:\t0.4136\tF1:\t0.4118\n",
      "No improvement for 3 epochs. Stopping early.\n",
      "best (higgest macro f1-score) val results:\n",
      "              precision    recall  f1-score   support\n",
      "\n",
      "       bknow       0.29      0.85      0.44       119\n",
      "      struct       0.84      0.28      0.42       338\n",
      "\n",
      "    accuracy                           0.43       457\n",
      "   macro avg       0.57      0.57      0.43       457\n",
      "weighted avg       0.70      0.43      0.43       457\n",
      "\n",
      "test results:\n",
      "              precision    recall  f1-score   support\n",
      "\n",
      "       bknow       0.26      0.73      0.38        67\n",
      "      struct       0.73      0.25      0.38       189\n",
      "\n",
      "    accuracy                           0.38       256\n",
      "   macro avg       0.49      0.49      0.38       256\n",
      "weighted avg       0.60      0.38      0.38       256\n",
      "\n",
      "### ### ### ### ### ### ### ### ### ### \n",
      "{'test_acc': [0.35546875, 0.37890625], 'test_f1': [0.35261391328336933, 0.37889677271686883], 'eval_acc': [0.3982494529540481, 0.4310722100656455], 'eval_f1': [0.39709473300423603, 0.43100409914569204], 'rank, alpha': [8, 16]}\n",
      "### ### ### ### ### ### ### ### ### ### \n"
     ]
    }
   ],
   "source": [
    "g = 4\n",
    "lr = 1.0e-5\n",
    "wd = 0.0\n",
    "alphas = [8, 16]\n",
    "ranks = [8, 16]\n",
    "lora_dropout = 0.0\n",
    "\n",
    "\n",
    "for a,r in zip(alphas, ranks):\n",
    "    print(f'Grid search {model_checkpoint}, learning rate {lr} focal loss, gamma: {g} wd: {wd}, Lora alpha {a}, rank {r}')\n",
    "    data = ClimateDataset(model_to_train=1,model_checkpoint=model_checkpoint,dataset_url=flicc_path,batch_size=32)\n",
    "    data.setup_dataloaders()\n",
    "    model = ClassificationModel(model_checkpoint=data.model_checkpoint,\n",
    "                            num_labels=data.num_labels,\n",
    "                            lora=True,\n",
    "                            r=r,\n",
    "                            alpha=a,\n",
    "                            dropout=lora_dropout)\n",
    "    trainer = Engine(epochs=30,labels=data.labels)\n",
    "    trainer.model = model.model\n",
    "    trainer.dataset_encoded = data.dataset_encoded\n",
    "    test_acc, test_f1, eval_acc, eval_f1 = trainer.run(lr=lr,\n",
    "                          wd=wd,\n",
    "                          train_dataloader=data.train_dataloader,\n",
    "                          eval_dataloader=data.eval_dataloader,\n",
    "                          test_dataloader=data.test_dataloader,\n",
    "                          focalloss=True,\n",
    "                          gamma=g,\n",
    "                          early_stop=3)\n",
    "    results['test_acc'].append(test_acc)\n",
    "    results['test_f1'].append(test_f1)\n",
    "    results['eval_acc'].append(eval_acc)\n",
    "    results['eval_f1'].append(eval_f1)\n",
    "    results['rank, alpha'].append(r)\n",
    "    print('### '*10)\n",
    "    print(results)\n",
    "    print('### '*10)\n",
    "    with torch.no_grad():\n",
    "        torch.cuda.empty_cache()\n",
    "    del data, model, trainer, test_acc, test_f1, eval_acc, eval_f1\n",
    "    gc.collect()"
   ]
  },
  {
   "cell_type": "code",
   "execution_count": 5,
   "metadata": {},
   "outputs": [
    {
     "data": {
      "image/png": "[encoded data removed]",
      "text/plain": [
       "<Figure size 640x480 with 1 Axes>"
      ]
     },
     "metadata": {},
     "output_type": "display_data"
    }
   ],
   "source": [
    "Engine.plot_grid_search(df=results,\n",
    "                        title=f'LORA, lr: {lr}, focal loss gamma {g} {model_checkpoint}',\n",
    "                        column='rank, alpha',\n",
    "                        sci_format=False)"
   ]
  },
  {
   "cell_type": "code",
   "execution_count": 6,
   "metadata": {},
   "outputs": [],
   "source": [
    "%reset -f"
   ]
  }
 ],
 "metadata": {
  "kernelspec": {
   "display_name": "base",
   "language": "python",
   "name": "python3"
  },
  "language_info": {
   "codemirror_mode": {
    "name": "ipython",
    "version": 3
   },
   "file_extension": ".py",
   "mimetype": "text/x-python",
   "name": "python",
   "nbconvert_exporter": "python",
   "pygments_lexer": "ipython3",
   "version": "3.11.5"
  }
 },
 "nbformat": 4,
 "nbformat_minor": 2
}
