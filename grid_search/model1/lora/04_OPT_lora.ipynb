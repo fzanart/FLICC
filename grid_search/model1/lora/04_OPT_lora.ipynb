{
 "cells": [
  {
   "cell_type": "code",
   "execution_count": 1,
   "metadata": {},
   "outputs": [],
   "source": [
    "import os\n",
    "import sys\n",
    "import gc\n",
    "# assuming data, models, engine in flicc directory:\n",
    "flicc_path = os.path.realpath(\"__file__\").split('grid_search')[0]\n",
    "sys.path.append(flicc_path)\n",
    "import torch\n",
    "from data import ClimateDataset\n",
    "from models import ClassificationModel\n",
    "from engine import Engine"
   ]
  },
  {
   "cell_type": "code",
   "execution_count": 2,
   "metadata": {},
   "outputs": [],
   "source": [
    "model_checkpoint='facebook/opt-350m'"
   ]
  },
  {
   "cell_type": "code",
   "execution_count": 3,
   "metadata": {},
   "outputs": [],
   "source": [
    "results = {'test_acc':[],\n",
    "           'test_f1':[],\n",
    "           'eval_acc':[],\n",
    "           'eval_f1':[],\n",
    "           'rank, alpha':[]}"
   ]
  },
  {
   "cell_type": "code",
   "execution_count": 4,
   "metadata": {},
   "outputs": [
    {
     "name": "stdout",
     "output_type": "stream",
     "text": [
      "Grid search facebook/opt-350m, learning rate 5e-05 wd: 0.0, Lora alpha 8, rank 8\n"
     ]
    },
    {
     "name": "stderr",
     "output_type": "stream",
     "text": [
      "Some weights of OPTForSequenceClassification were not initialized from the model checkpoint at facebook/opt-350m and are newly initialized: ['score.weight']\n",
      "You should probably TRAIN this model on a down-stream task to be able to use it for predictions and inference.\n",
      "You're using a GPT2TokenizerFast tokenizer. Please note that with a fast tokenizer, using the `__call__` method is faster than using a method to encode the text followed by a call to the `pad` method to get a padded encoding.\n"
     ]
    },
    {
     "name": "stdout",
     "output_type": "stream",
     "text": [
      "1 / 30: Train Loss:\t0.6612\tVal Loss:\t0.6459\tAccuracy:\t0.6915\tF1:\t0.4632\n",
      "2 / 30: Train Loss:\t0.6073\tVal Loss:\t0.5955\tAccuracy:\t0.7155\tF1:\t0.4871\n",
      "3 / 30: Train Loss:\t0.5809\tVal Loss:\t0.5499\tAccuracy:\t0.7374\tF1:\t0.5741\n",
      "4 / 30: Train Loss:\t0.5538\tVal Loss:\t0.5291\tAccuracy:\t0.7330\tF1:\t0.6123\n",
      "5 / 30: Train Loss:\t0.5498\tVal Loss:\t0.4969\tAccuracy:\t0.7484\tF1:\t0.6134\n",
      "6 / 30: Train Loss:\t0.5201\tVal Loss:\t0.4872\tAccuracy:\t0.7571\tF1:\t0.6078\n",
      "7 / 30: Train Loss:\t0.5192\tVal Loss:\t0.4919\tAccuracy:\t0.7527\tF1:\t0.5972\n",
      "8 / 30: Train Loss:\t0.5106\tVal Loss:\t0.4762\tAccuracy:\t0.7659\tF1:\t0.6314\n",
      "9 / 30: Train Loss:\t0.5012\tVal Loss:\t0.4733\tAccuracy:\t0.7702\tF1:\t0.6470\n",
      "10 / 30: Train Loss:\t0.4947\tVal Loss:\t0.4862\tAccuracy:\t0.7790\tF1:\t0.6399\n",
      "11 / 30: Train Loss:\t0.4892\tVal Loss:\t0.4706\tAccuracy:\t0.7812\tF1:\t0.6541\n",
      "12 / 30: Train Loss:\t0.4891\tVal Loss:\t0.4487\tAccuracy:\t0.7856\tF1:\t0.6666\n",
      "13 / 30: Train Loss:\t0.4730\tVal Loss:\t0.4516\tAccuracy:\t0.7899\tF1:\t0.6622\n",
      "14 / 30: Train Loss:\t0.4829\tVal Loss:\t0.4478\tAccuracy:\t0.7856\tF1:\t0.6581\n",
      "15 / 30: Train Loss:\t0.4764\tVal Loss:\t0.4488\tAccuracy:\t0.7965\tF1:\t0.6528\n",
      "No improvement for 3 epochs. Stopping early.\n",
      "best (higgest macro f1-score) val results:\n",
      "              precision    recall  f1-score   support\n",
      "\n",
      "       bknow       0.66      0.36      0.47       119\n",
      "      struct       0.81      0.93      0.87       338\n",
      "\n",
      "    accuracy                           0.79       457\n",
      "   macro avg       0.73      0.65      0.67       457\n",
      "weighted avg       0.77      0.79      0.76       457\n",
      "\n",
      "test results:\n",
      "              precision    recall  f1-score   support\n",
      "\n",
      "       bknow       0.66      0.46      0.54        67\n",
      "      struct       0.83      0.92      0.87       189\n",
      "\n",
      "    accuracy                           0.80       256\n",
      "   macro avg       0.74      0.69      0.71       256\n",
      "weighted avg       0.78      0.80      0.78       256\n",
      "\n",
      "### ### ### ### ### ### ### ### ### ### \n",
      "{'test_acc': [0.796875], 'test_f1': [0.7066031913955744], 'eval_acc': [0.7855579868708972], 'eval_f1': [0.6665723645026802], 'rank, alpha': [8]}\n",
      "### ### ### ### ### ### ### ### ### ### \n",
      "Grid search facebook/opt-350m, learning rate 5e-05 wd: 0.0, Lora alpha 16, rank 16\n"
     ]
    },
    {
     "name": "stderr",
     "output_type": "stream",
     "text": [
      "Some weights of OPTForSequenceClassification were not initialized from the model checkpoint at facebook/opt-350m and are newly initialized: ['score.weight']\n",
      "You should probably TRAIN this model on a down-stream task to be able to use it for predictions and inference.\n",
      "You're using a GPT2TokenizerFast tokenizer. Please note that with a fast tokenizer, using the `__call__` method is faster than using a method to encode the text followed by a call to the `pad` method to get a padded encoding.\n"
     ]
    },
    {
     "name": "stdout",
     "output_type": "stream",
     "text": [
      "1 / 30: Train Loss:\t0.6556\tVal Loss:\t0.6331\tAccuracy:\t0.6893\tF1:\t0.4915\n",
      "2 / 30: Train Loss:\t0.5947\tVal Loss:\t0.5701\tAccuracy:\t0.7133\tF1:\t0.5561\n",
      "3 / 30: Train Loss:\t0.5651\tVal Loss:\t0.5229\tAccuracy:\t0.7374\tF1:\t0.5814\n",
      "4 / 30: Train Loss:\t0.5300\tVal Loss:\t0.5153\tAccuracy:\t0.7462\tF1:\t0.5883\n",
      "5 / 30: Train Loss:\t0.5266\tVal Loss:\t0.5088\tAccuracy:\t0.7571\tF1:\t0.5971\n",
      "6 / 30: Train Loss:\t0.5137\tVal Loss:\t0.4909\tAccuracy:\t0.7637\tF1:\t0.6264\n",
      "7 / 30: Train Loss:\t0.5058\tVal Loss:\t0.5014\tAccuracy:\t0.7571\tF1:\t0.6144\n",
      "8 / 30: Train Loss:\t0.4971\tVal Loss:\t0.4684\tAccuracy:\t0.7790\tF1:\t0.6578\n",
      "9 / 30: Train Loss:\t0.4900\tVal Loss:\t0.4526\tAccuracy:\t0.7877\tF1:\t0.6659\n",
      "10 / 30: Train Loss:\t0.4852\tVal Loss:\t0.4422\tAccuracy:\t0.7899\tF1:\t0.6467\n",
      "11 / 30: Train Loss:\t0.4842\tVal Loss:\t0.4377\tAccuracy:\t0.7856\tF1:\t0.6426\n",
      "12 / 30: Train Loss:\t0.4843\tVal Loss:\t0.4296\tAccuracy:\t0.8118\tF1:\t0.7324\n",
      "13 / 30: Train Loss:\t0.4775\tVal Loss:\t0.4367\tAccuracy:\t0.8031\tF1:\t0.6688\n",
      "14 / 30: Train Loss:\t0.4952\tVal Loss:\t0.4227\tAccuracy:\t0.8009\tF1:\t0.6988\n",
      "15 / 30: Train Loss:\t0.4761\tVal Loss:\t0.4250\tAccuracy:\t0.8031\tF1:\t0.7055\n",
      "No improvement for 3 epochs. Stopping early.\n",
      "best (higgest macro f1-score) val results:\n",
      "              precision    recall  f1-score   support\n",
      "\n",
      "       bknow       0.69      0.51      0.59       119\n",
      "      struct       0.84      0.92      0.88       338\n",
      "\n",
      "    accuracy                           0.81       457\n",
      "   macro avg       0.76      0.71      0.73       457\n",
      "weighted avg       0.80      0.81      0.80       457\n",
      "\n",
      "test results:\n",
      "              precision    recall  f1-score   support\n",
      "\n",
      "       bknow       0.55      0.48      0.51        67\n",
      "      struct       0.82      0.86      0.84       189\n",
      "\n",
      "    accuracy                           0.76       256\n",
      "   macro avg       0.69      0.67      0.68       256\n",
      "weighted avg       0.75      0.76      0.76       256\n",
      "\n",
      "### ### ### ### ### ### ### ### ### ### \n",
      "{'test_acc': [0.796875, 0.76171875], 'test_f1': [0.7066031913955744, 0.677188630490956], 'eval_acc': [0.7855579868708972, 0.811816192560175], 'eval_f1': [0.6665723645026802, 0.7323627151884942], 'rank, alpha': [8, 16]}\n",
      "### ### ### ### ### ### ### ### ### ### \n"
     ]
    }
   ],
   "source": [
    "lr = 5.0e-5\n",
    "wd = 0.0\n",
    "alphas = [8, 16]\n",
    "ranks = [8, 16]\n",
    "lora_dropout = 0.0\n",
    "\n",
    "\n",
    "for a,r in zip(alphas, ranks):\n",
    "    print(f'Grid search {model_checkpoint}, learning rate {lr} wd: {wd}, Lora alpha {a}, rank {r}')\n",
    "    data = ClimateDataset(model_to_train=1,model_checkpoint=model_checkpoint,dataset_url=flicc_path,batch_size=32)\n",
    "    data.setup_dataloaders()\n",
    "    model = ClassificationModel(model_checkpoint=data.model_checkpoint,\n",
    "                            num_labels=data.num_labels,\n",
    "                            lora=True,\n",
    "                            r=r,\n",
    "                            alpha=a,\n",
    "                            dropout=lora_dropout)\n",
    "    trainer = Engine(epochs=30,labels=data.labels)\n",
    "    trainer.model = model.model\n",
    "    trainer.dataset_encoded = data.dataset_encoded\n",
    "    test_acc, test_f1, eval_acc, eval_f1 = trainer.run(lr=lr,\n",
    "                          wd=wd,\n",
    "                          train_dataloader=data.train_dataloader,\n",
    "                          eval_dataloader=data.eval_dataloader,\n",
    "                          test_dataloader=data.test_dataloader,\n",
    "                          early_stop=3)\n",
    "    results['test_acc'].append(test_acc)\n",
    "    results['test_f1'].append(test_f1)\n",
    "    results['eval_acc'].append(eval_acc)\n",
    "    results['eval_f1'].append(eval_f1)\n",
    "    results['rank, alpha'].append(r)\n",
    "    print('### '*10)\n",
    "    print(results)\n",
    "    print('### '*10)\n",
    "    with torch.no_grad():\n",
    "        torch.cuda.empty_cache()\n",
    "    del data, model, trainer, test_acc, test_f1, eval_acc, eval_f1\n",
    "    gc.collect()"
   ]
  },
  {
   "cell_type": "code",
   "execution_count": 5,
   "metadata": {},
   "outputs": [
    {
     "data": {
      "image/png": "[encoded data removed]",
      "text/plain": [
       "<Figure size 640x480 with 1 Axes>"
      ]
     },
     "metadata": {},
     "output_type": "display_data"
    }
   ],
   "source": [
    "Engine.plot_grid_search(df=results,\n",
    "                        title=f'LORA, lr: {lr}, wd:{wd} {model_checkpoint}',\n",
    "                        column='rank, alpha',\n",
    "                        sci_format=False)"
   ]
  },
  {
   "cell_type": "code",
   "execution_count": 6,
   "metadata": {},
   "outputs": [],
   "source": [
    "%reset -f"
   ]
  }
 ],
 "metadata": {
  "kernelspec": {
   "display_name": "base",
   "language": "python",
   "name": "python3"
  },
  "language_info": {
   "codemirror_mode": {
    "name": "ipython",
    "version": 3
   },
   "file_extension": ".py",
   "mimetype": "text/x-python",
   "name": "python",
   "nbconvert_exporter": "python",
   "pygments_lexer": "ipython3",
   "version": "3.11.5"
  }
 },
 "nbformat": 4,
 "nbformat_minor": 2
}
