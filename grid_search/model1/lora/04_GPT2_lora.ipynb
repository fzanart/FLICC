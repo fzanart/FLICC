{
 "cells": [
  {
   "cell_type": "code",
   "execution_count": 1,
   "metadata": {},
   "outputs": [],
   "source": [
    "import os\n",
    "import sys\n",
    "import gc\n",
    "# assuming data, models, engine in flicc directory:\n",
    "flicc_path = os.path.realpath(\"__file__\").split('grid_search')[0]\n",
    "sys.path.append(flicc_path)\n",
    "import torch\n",
    "from data import ClimateDataset\n",
    "from models import ClassificationModel\n",
    "from engine import Engine"
   ]
  },
  {
   "cell_type": "code",
   "execution_count": 2,
   "metadata": {},
   "outputs": [],
   "source": [
    "model_checkpoint='gpt2'"
   ]
  },
  {
   "cell_type": "code",
   "execution_count": 3,
   "metadata": {},
   "outputs": [],
   "source": [
    "results = {'test_acc':[],\n",
    "           'test_f1':[],\n",
    "           'eval_acc':[],\n",
    "           'eval_f1':[],\n",
    "           'rank, alpha':[]}"
   ]
  },
  {
   "cell_type": "code",
   "execution_count": 4,
   "metadata": {},
   "outputs": [
    {
     "name": "stdout",
     "output_type": "stream",
     "text": [
      "Grid search gpt2, learning rate 5e-05 wd: 0.1, Lora alpha 8, rank 8\n"
     ]
    },
    {
     "name": "stderr",
     "output_type": "stream",
     "text": [
      "Some weights of GPT2ForSequenceClassification were not initialized from the model checkpoint at gpt2 and are newly initialized: ['score.weight']\n",
      "You should probably TRAIN this model on a down-stream task to be able to use it for predictions and inference.\n",
      "/mnt/software/miniconda3/lib/python3.11/site-packages/peft/tuners/lora/model.py:311: UserWarning: fan_in_fan_out is set to False but the target module is `Conv1D`. Setting fan_in_fan_out to True.\n",
      "  warnings.warn(\n",
      "You're using a GPT2TokenizerFast tokenizer. Please note that with a fast tokenizer, using the `__call__` method is faster than using a method to encode the text followed by a call to the `pad` method to get a padded encoding.\n"
     ]
    },
    {
     "name": "stdout",
     "output_type": "stream",
     "text": [
      "1 / 30: Train Loss:\t1.9749\tVal Loss:\t1.3062\tAccuracy:\t0.6477\tF1:\t0.4791\n",
      "2 / 30: Train Loss:\t0.9893\tVal Loss:\t1.1682\tAccuracy:\t0.6958\tF1:\t0.4427\n",
      "3 / 30: Train Loss:\t0.8112\tVal Loss:\t0.9775\tAccuracy:\t0.7024\tF1:\t0.4518\n",
      "4 / 30: Train Loss:\t0.7445\tVal Loss:\t0.8455\tAccuracy:\t0.7046\tF1:\t0.4528\n",
      "No improvement for 3 epochs. Stopping early.\n",
      "best (higgest macro f1-score) val results:\n",
      "              precision    recall  f1-score   support\n",
      "\n",
      "       bknow       0.23      0.15      0.18       119\n",
      "      struct       0.73      0.82      0.78       338\n",
      "\n",
      "    accuracy                           0.65       457\n",
      "   macro avg       0.48      0.49      0.48       457\n",
      "weighted avg       0.60      0.65      0.62       457\n",
      "\n",
      "test results:\n",
      "              precision    recall  f1-score   support\n",
      "\n",
      "       bknow       0.25      0.13      0.17        67\n",
      "      struct       0.74      0.86      0.79       189\n",
      "\n",
      "    accuracy                           0.67       256\n",
      "   macro avg       0.49      0.50      0.48       256\n",
      "weighted avg       0.61      0.67      0.63       256\n",
      "\n",
      "### ### ### ### ### ### ### ### ### ### \n",
      "{'test_acc': [0.66796875], 'test_f1': [0.48346666033660124], 'eval_acc': [0.6477024070021882], 'eval_f1': [0.4790971971482984], 'rank, alpha': [8]}\n",
      "### ### ### ### ### ### ### ### ### ### \n",
      "Grid search gpt2, learning rate 5e-05 wd: 0.1, Lora alpha 16, rank 16\n"
     ]
    },
    {
     "name": "stderr",
     "output_type": "stream",
     "text": [
      "Some weights of GPT2ForSequenceClassification were not initialized from the model checkpoint at gpt2 and are newly initialized: ['score.weight']\n",
      "You should probably TRAIN this model on a down-stream task to be able to use it for predictions and inference.\n",
      "/mnt/software/miniconda3/lib/python3.11/site-packages/peft/tuners/lora/model.py:311: UserWarning: fan_in_fan_out is set to False but the target module is `Conv1D`. Setting fan_in_fan_out to True.\n",
      "  warnings.warn(\n",
      "You're using a GPT2TokenizerFast tokenizer. Please note that with a fast tokenizer, using the `__call__` method is faster than using a method to encode the text followed by a call to the `pad` method to get a padded encoding.\n"
     ]
    },
    {
     "name": "stdout",
     "output_type": "stream",
     "text": [
      "1 / 30: Train Loss:\t1.8151\tVal Loss:\t1.3633\tAccuracy:\t0.6740\tF1:\t0.4383\n",
      "2 / 30: Train Loss:\t0.9427\tVal Loss:\t1.0563\tAccuracy:\t0.6958\tF1:\t0.4486\n",
      "3 / 30: Train Loss:\t0.7779\tVal Loss:\t0.8790\tAccuracy:\t0.6980\tF1:\t0.4497\n",
      "4 / 30: Train Loss:\t0.7096\tVal Loss:\t0.7583\tAccuracy:\t0.7002\tF1:\t0.4566\n",
      "5 / 30: Train Loss:\t0.6743\tVal Loss:\t0.6862\tAccuracy:\t0.7090\tF1:\t0.4609\n",
      "6 / 30: Train Loss:\t0.6328\tVal Loss:\t0.6441\tAccuracy:\t0.7133\tF1:\t0.4631\n",
      "7 / 30: Train Loss:\t0.6038\tVal Loss:\t0.6198\tAccuracy:\t0.7243\tF1:\t0.4623\n",
      "8 / 30: Train Loss:\t0.5940\tVal Loss:\t0.6069\tAccuracy:\t0.7352\tF1:\t0.4609\n",
      "9 / 30: Train Loss:\t0.5803\tVal Loss:\t0.5976\tAccuracy:\t0.7352\tF1:\t0.4609\n",
      "No improvement for 3 epochs. Stopping early.\n",
      "best (higgest macro f1-score) val results:\n",
      "              precision    recall  f1-score   support\n",
      "\n",
      "       bknow       0.27      0.06      0.10       119\n",
      "      struct       0.74      0.94      0.83       338\n",
      "\n",
      "    accuracy                           0.71       457\n",
      "   macro avg       0.50      0.50      0.46       457\n",
      "weighted avg       0.62      0.71      0.64       457\n",
      "\n",
      "test results:\n",
      "              precision    recall  f1-score   support\n",
      "\n",
      "       bknow       0.25      0.03      0.05        67\n",
      "      struct       0.74      0.97      0.84       189\n",
      "\n",
      "    accuracy                           0.72       256\n",
      "   macro avg       0.49      0.50      0.45       256\n",
      "weighted avg       0.61      0.72      0.63       256\n",
      "\n",
      "### ### ### ### ### ### ### ### ### ### \n",
      "{'test_acc': [0.66796875, 0.72265625], 'test_f1': [0.48346666033660124, 0.4454309687261633], 'eval_acc': [0.6477024070021882, 0.7133479212253829], 'eval_f1': [0.4790971971482984, 0.46310030940316577], 'rank, alpha': [8, 16]}\n",
      "### ### ### ### ### ### ### ### ### ### \n"
     ]
    }
   ],
   "source": [
    "lr = 5.0e-5\n",
    "wd = 0.1\n",
    "alphas = [8, 16]\n",
    "ranks = [8, 16]\n",
    "lora_dropout = 0.0\n",
    "\n",
    "\n",
    "for a,r in zip(alphas, ranks):\n",
    "    print(f'Grid search {model_checkpoint}, learning rate {lr} wd: {wd}, Lora alpha {a}, rank {r}')\n",
    "    data = ClimateDataset(model_to_train=1,model_checkpoint=model_checkpoint,dataset_url=flicc_path,batch_size=32)\n",
    "    data.setup_dataloaders()\n",
    "    model = ClassificationModel(model_checkpoint=data.model_checkpoint,\n",
    "                            num_labels=data.num_labels,\n",
    "                            lora=True,\n",
    "                            r=r,\n",
    "                            alpha=a,\n",
    "                            dropout=lora_dropout)\n",
    "    trainer = Engine(epochs=30,labels=data.labels)\n",
    "    trainer.model = model.model\n",
    "    trainer.dataset_encoded = data.dataset_encoded\n",
    "    test_acc, test_f1, eval_acc, eval_f1 = trainer.run(lr=lr,\n",
    "                          wd=wd,\n",
    "                          train_dataloader=data.train_dataloader,\n",
    "                          eval_dataloader=data.eval_dataloader,\n",
    "                          test_dataloader=data.test_dataloader,\n",
    "                          early_stop=3)\n",
    "    results['test_acc'].append(test_acc)\n",
    "    results['test_f1'].append(test_f1)\n",
    "    results['eval_acc'].append(eval_acc)\n",
    "    results['eval_f1'].append(eval_f1)\n",
    "    results['rank, alpha'].append(r)\n",
    "    print('### '*10)\n",
    "    print(results)\n",
    "    print('### '*10)\n",
    "    with torch.no_grad():\n",
    "        torch.cuda.empty_cache()\n",
    "    del data, model, trainer, test_acc, test_f1, eval_acc, eval_f1\n",
    "    gc.collect()"
   ]
  },
  {
   "cell_type": "code",
   "execution_count": 5,
   "metadata": {},
   "outputs": [
    {
     "data": {
      "image/png": "[encoded data removed]",
      "text/plain": [
       "<Figure size 640x480 with 1 Axes>"
      ]
     },
     "metadata": {},
     "output_type": "display_data"
    }
   ],
   "source": [
    "Engine.plot_grid_search(df=results,\n",
    "                        title=f'LORA, lr: {lr},wd: {wd}, {model_checkpoint}',\n",
    "                        column='rank, alpha',\n",
    "                        sci_format=False)"
   ]
  },
  {
   "cell_type": "code",
   "execution_count": 6,
   "metadata": {},
   "outputs": [],
   "source": [
    "%reset -f"
   ]
  }
 ],
 "metadata": {
  "kernelspec": {
   "display_name": "base",
   "language": "python",
   "name": "python3"
  },
  "language_info": {
   "codemirror_mode": {
    "name": "ipython",
    "version": 3
   },
   "file_extension": ".py",
   "mimetype": "text/x-python",
   "name": "python",
   "nbconvert_exporter": "python",
   "pygments_lexer": "ipython3",
   "version": "3.11.5"
  }
 },
 "nbformat": 4,
 "nbformat_minor": 2
}
