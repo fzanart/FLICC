{
 "cells": [
  {
   "cell_type": "code",
   "execution_count": 1,
   "metadata": {},
   "outputs": [],
   "source": [
    "import os\n",
    "import sys\n",
    "import gc\n",
    "# assuming data, models, engine in flicc directory:\n",
    "flicc_path = os.path.realpath(\"__file__\").split('grid_search')[0]\n",
    "sys.path.append(flicc_path)\n",
    "import torch\n",
    "from data import ClimateDataset\n",
    "from models import ClassificationModel\n",
    "from engine import Engine"
   ]
  },
  {
   "cell_type": "code",
   "execution_count": 2,
   "metadata": {},
   "outputs": [],
   "source": [
    "model_checkpoint='roberta-large'"
   ]
  },
  {
   "cell_type": "code",
   "execution_count": 3,
   "metadata": {},
   "outputs": [],
   "source": [
    "results = {'test_acc':[],\n",
    "           'test_f1':[],\n",
    "           'eval_acc':[],\n",
    "           'eval_f1':[],\n",
    "           'rank, alpha':[]}"
   ]
  },
  {
   "cell_type": "code",
   "execution_count": 4,
   "metadata": {},
   "outputs": [
    {
     "name": "stdout",
     "output_type": "stream",
     "text": [
      "Grid search roberta-large, learning rate 1e-05 focal loss, gamma: 4 wd: 0.0, Lora alpha 8, rank 8\n"
     ]
    },
    {
     "name": "stderr",
     "output_type": "stream",
     "text": [
      "Some weights of RobertaForSequenceClassification were not initialized from the model checkpoint at roberta-large and are newly initialized: ['classifier.dense.weight', 'classifier.out_proj.bias', 'classifier.dense.bias', 'classifier.out_proj.weight']\n",
      "You should probably TRAIN this model on a down-stream task to be able to use it for predictions and inference.\n",
      "You're using a RobertaTokenizerFast tokenizer. Please note that with a fast tokenizer, using the `__call__` method is faster than using a method to encode the text followed by a call to the `pad` method to get a padded encoding.\n"
     ]
    },
    {
     "name": "stdout",
     "output_type": "stream",
     "text": [
      "1 / 30: Train Loss:\t0.0493\tVal Loss:\t0.6991\tAccuracy:\t0.3326\tF1:\t0.3156\n",
      "2 / 30: Train Loss:\t0.0466\tVal Loss:\t0.6938\tAccuracy:\t0.4617\tF1:\t0.4617\n",
      "3 / 30: Train Loss:\t0.0457\tVal Loss:\t0.6907\tAccuracy:\t0.5317\tF1:\t0.5267\n",
      "4 / 30: Train Loss:\t0.0451\tVal Loss:\t0.6924\tAccuracy:\t0.5120\tF1:\t0.5113\n",
      "5 / 30: Train Loss:\t0.0451\tVal Loss:\t0.6896\tAccuracy:\t0.5602\tF1:\t0.5557\n",
      "6 / 30: Train Loss:\t0.0442\tVal Loss:\t0.6797\tAccuracy:\t0.7199\tF1:\t0.6743\n",
      "7 / 30: Train Loss:\t0.0433\tVal Loss:\t0.6764\tAccuracy:\t0.7221\tF1:\t0.6775\n",
      "8 / 30: Train Loss:\t0.0431\tVal Loss:\t0.6828\tAccuracy:\t0.6411\tF1:\t0.6301\n",
      "9 / 30: Train Loss:\t0.0426\tVal Loss:\t0.6700\tAccuracy:\t0.7155\tF1:\t0.6856\n",
      "10 / 30: Train Loss:\t0.0407\tVal Loss:\t0.6528\tAccuracy:\t0.7505\tF1:\t0.6877\n",
      "11 / 30: Train Loss:\t0.0392\tVal Loss:\t0.6449\tAccuracy:\t0.7702\tF1:\t0.7102\n",
      "12 / 30: Train Loss:\t0.0396\tVal Loss:\t0.6319\tAccuracy:\t0.7571\tF1:\t0.6803\n",
      "13 / 30: Train Loss:\t0.0400\tVal Loss:\t0.6393\tAccuracy:\t0.7724\tF1:\t0.7278\n",
      "14 / 30: Train Loss:\t0.0384\tVal Loss:\t0.6307\tAccuracy:\t0.7702\tF1:\t0.7246\n",
      "15 / 30: Train Loss:\t0.0383\tVal Loss:\t0.6264\tAccuracy:\t0.7746\tF1:\t0.7263\n",
      "16 / 30: Train Loss:\t0.0375\tVal Loss:\t0.6268\tAccuracy:\t0.7746\tF1:\t0.7287\n",
      "17 / 30: Train Loss:\t0.0368\tVal Loss:\t0.6079\tAccuracy:\t0.7987\tF1:\t0.7372\n",
      "18 / 30: Train Loss:\t0.0366\tVal Loss:\t0.6168\tAccuracy:\t0.7790\tF1:\t0.7395\n",
      "19 / 30: Train Loss:\t0.0349\tVal Loss:\t0.6060\tAccuracy:\t0.7856\tF1:\t0.7424\n",
      "20 / 30: Train Loss:\t0.0355\tVal Loss:\t0.6092\tAccuracy:\t0.8009\tF1:\t0.7653\n",
      "21 / 30: Train Loss:\t0.0332\tVal Loss:\t0.5983\tAccuracy:\t0.8074\tF1:\t0.7646\n",
      "22 / 30: Train Loss:\t0.0342\tVal Loss:\t0.5778\tAccuracy:\t0.8249\tF1:\t0.7752\n",
      "23 / 30: Train Loss:\t0.0341\tVal Loss:\t0.5808\tAccuracy:\t0.8228\tF1:\t0.7753\n",
      "24 / 30: Train Loss:\t0.0348\tVal Loss:\t0.5827\tAccuracy:\t0.8206\tF1:\t0.7845\n",
      "25 / 30: Train Loss:\t0.0338\tVal Loss:\t0.5778\tAccuracy:\t0.8293\tF1:\t0.7853\n",
      "26 / 30: Train Loss:\t0.0325\tVal Loss:\t0.5614\tAccuracy:\t0.8425\tF1:\t0.7955\n",
      "27 / 30: Train Loss:\t0.0320\tVal Loss:\t0.5682\tAccuracy:\t0.8184\tF1:\t0.7774\n",
      "28 / 30: Train Loss:\t0.0325\tVal Loss:\t0.5494\tAccuracy:\t0.8468\tF1:\t0.7978\n",
      "29 / 30: Train Loss:\t0.0316\tVal Loss:\t0.5446\tAccuracy:\t0.8512\tF1:\t0.8025\n",
      "30 / 30: Train Loss:\t0.0306\tVal Loss:\t0.5640\tAccuracy:\t0.8249\tF1:\t0.7860\n",
      "best (higgest macro f1-score) val results:\n",
      "              precision    recall  f1-score   support\n",
      "\n",
      "       bknow       0.73      0.68      0.70       119\n",
      "      struct       0.89      0.91      0.90       338\n",
      "\n",
      "    accuracy                           0.85       457\n",
      "   macro avg       0.81      0.80      0.80       457\n",
      "weighted avg       0.85      0.85      0.85       457\n",
      "\n",
      "test results:\n",
      "              precision    recall  f1-score   support\n",
      "\n",
      "       bknow       0.62      0.67      0.64        67\n",
      "      struct       0.88      0.85      0.87       189\n",
      "\n",
      "    accuracy                           0.80       256\n",
      "   macro avg       0.75      0.76      0.75       256\n",
      "weighted avg       0.81      0.80      0.81       256\n",
      "\n",
      "### ### ### ### ### ### ### ### ### ### \n",
      "{'test_acc': [0.8046875], 'test_f1': [0.7542242703533026], 'eval_acc': [0.8512035010940919], 'eval_f1': [0.8024663107042971], 'rank, alpha': [8]}\n",
      "### ### ### ### ### ### ### ### ### ### \n",
      "Grid search roberta-large, learning rate 1e-05 focal loss, gamma: 4 wd: 0.0, Lora alpha 16, rank 16\n"
     ]
    },
    {
     "name": "stderr",
     "output_type": "stream",
     "text": [
      "Some weights of RobertaForSequenceClassification were not initialized from the model checkpoint at roberta-large and are newly initialized: ['classifier.dense.weight', 'classifier.out_proj.bias', 'classifier.dense.bias', 'classifier.out_proj.weight']\n",
      "You should probably TRAIN this model on a down-stream task to be able to use it for predictions and inference.\n",
      "You're using a RobertaTokenizerFast tokenizer. Please note that with a fast tokenizer, using the `__call__` method is faster than using a method to encode the text followed by a call to the `pad` method to get a padded encoding.\n"
     ]
    },
    {
     "name": "stdout",
     "output_type": "stream",
     "text": [
      "1 / 30: Train Loss:\t0.0493\tVal Loss:\t0.6990\tAccuracy:\t0.3370\tF1:\t0.3201\n",
      "2 / 30: Train Loss:\t0.0466\tVal Loss:\t0.6934\tAccuracy:\t0.4617\tF1:\t0.4617\n",
      "3 / 30: Train Loss:\t0.0456\tVal Loss:\t0.6907\tAccuracy:\t0.5339\tF1:\t0.5299\n",
      "4 / 30: Train Loss:\t0.0449\tVal Loss:\t0.6923\tAccuracy:\t0.5120\tF1:\t0.5113\n",
      "5 / 30: Train Loss:\t0.0449\tVal Loss:\t0.6880\tAccuracy:\t0.5930\tF1:\t0.5856\n",
      "6 / 30: Train Loss:\t0.0437\tVal Loss:\t0.6750\tAccuracy:\t0.7396\tF1:\t0.6838\n",
      "7 / 30: Train Loss:\t0.0425\tVal Loss:\t0.6676\tAccuracy:\t0.7440\tF1:\t0.6891\n",
      "8 / 30: Train Loss:\t0.0419\tVal Loss:\t0.6683\tAccuracy:\t0.7199\tF1:\t0.6914\n",
      "9 / 30: Train Loss:\t0.0408\tVal Loss:\t0.6516\tAccuracy:\t0.7374\tF1:\t0.7023\n",
      "10 / 30: Train Loss:\t0.0391\tVal Loss:\t0.6286\tAccuracy:\t0.7637\tF1:\t0.6996\n",
      "11 / 30: Train Loss:\t0.0374\tVal Loss:\t0.6217\tAccuracy:\t0.7790\tF1:\t0.7253\n",
      "12 / 30: Train Loss:\t0.0381\tVal Loss:\t0.6123\tAccuracy:\t0.7877\tF1:\t0.7252\n",
      "13 / 30: Train Loss:\t0.0383\tVal Loss:\t0.6197\tAccuracy:\t0.7812\tF1:\t0.7383\n",
      "14 / 30: Train Loss:\t0.0366\tVal Loss:\t0.6094\tAccuracy:\t0.7921\tF1:\t0.7487\n",
      "15 / 30: Train Loss:\t0.0366\tVal Loss:\t0.6067\tAccuracy:\t0.8009\tF1:\t0.7549\n",
      "16 / 30: Train Loss:\t0.0357\tVal Loss:\t0.6050\tAccuracy:\t0.8206\tF1:\t0.7775\n",
      "17 / 30: Train Loss:\t0.0347\tVal Loss:\t0.5809\tAccuracy:\t0.8228\tF1:\t0.7654\n",
      "18 / 30: Train Loss:\t0.0345\tVal Loss:\t0.5865\tAccuracy:\t0.8206\tF1:\t0.7775\n",
      "19 / 30: Train Loss:\t0.0326\tVal Loss:\t0.5780\tAccuracy:\t0.8206\tF1:\t0.7806\n",
      "20 / 30: Train Loss:\t0.0328\tVal Loss:\t0.5711\tAccuracy:\t0.8271\tF1:\t0.7841\n",
      "21 / 30: Train Loss:\t0.0313\tVal Loss:\t0.5646\tAccuracy:\t0.8337\tF1:\t0.7928\n",
      "22 / 30: Train Loss:\t0.0315\tVal Loss:\t0.5363\tAccuracy:\t0.8425\tF1:\t0.7908\n",
      "23 / 30: Train Loss:\t0.0321\tVal Loss:\t0.5415\tAccuracy:\t0.8403\tF1:\t0.7835\n",
      "24 / 30: Train Loss:\t0.0322\tVal Loss:\t0.5458\tAccuracy:\t0.8359\tF1:\t0.7960\n",
      "25 / 30: Train Loss:\t0.0315\tVal Loss:\t0.5405\tAccuracy:\t0.8381\tF1:\t0.7909\n",
      "26 / 30: Train Loss:\t0.0298\tVal Loss:\t0.5184\tAccuracy:\t0.8578\tF1:\t0.8095\n",
      "27 / 30: Train Loss:\t0.0296\tVal Loss:\t0.5314\tAccuracy:\t0.8425\tF1:\t0.7998\n",
      "28 / 30: Train Loss:\t0.0299\tVal Loss:\t0.5175\tAccuracy:\t0.8468\tF1:\t0.7967\n",
      "29 / 30: Train Loss:\t0.0290\tVal Loss:\t0.5093\tAccuracy:\t0.8600\tF1:\t0.8141\n",
      "30 / 30: Train Loss:\t0.0281\tVal Loss:\t0.5279\tAccuracy:\t0.8337\tF1:\t0.7897\n",
      "best (higgest macro f1-score) val results:\n",
      "              precision    recall  f1-score   support\n",
      "\n",
      "       bknow       0.75      0.70      0.72       119\n",
      "      struct       0.90      0.92      0.91       338\n",
      "\n",
      "    accuracy                           0.86       457\n",
      "   macro avg       0.82      0.81      0.81       457\n",
      "weighted avg       0.86      0.86      0.86       457\n",
      "\n",
      "test results:\n",
      "              precision    recall  f1-score   support\n",
      "\n",
      "       bknow       0.65      0.70      0.68        67\n",
      "      struct       0.89      0.87      0.88       189\n",
      "\n",
      "    accuracy                           0.82       256\n",
      "   macro avg       0.77      0.78      0.78       256\n",
      "weighted avg       0.83      0.82      0.83       256\n",
      "\n",
      "### ### ### ### ### ### ### ### ### ### \n",
      "{'test_acc': [0.8046875, 0.82421875], 'test_f1': [0.7542242703533026, 0.7778077805851833], 'eval_acc': [0.8512035010940919, 0.8599562363238512], 'eval_f1': [0.8024663107042971, 0.8140859394863973], 'rank, alpha': [8, 16]}\n",
      "### ### ### ### ### ### ### ### ### ### \n"
     ]
    }
   ],
   "source": [
    "g = 4\n",
    "lr = 1.0e-5\n",
    "wd = 0.0\n",
    "alphas = [8, 16]\n",
    "ranks = [8, 16]\n",
    "lora_dropout = 0.0\n",
    "\n",
    "\n",
    "for a,r in zip(alphas, ranks):\n",
    "    print(f'Grid search {model_checkpoint}, learning rate {lr} focal loss, gamma: {g} wd: {wd}, Lora alpha {a}, rank {r}')\n",
    "    data = ClimateDataset(model_to_train=1,model_checkpoint=model_checkpoint,dataset_url=flicc_path,batch_size=16)\n",
    "    data.setup_dataloaders()\n",
    "    model = ClassificationModel(model_checkpoint=data.model_checkpoint,\n",
    "                            num_labels=data.num_labels,\n",
    "                            lora=True,\n",
    "                            r=r,\n",
    "                            alpha=a,\n",
    "                            dropout=lora_dropout)\n",
    "    trainer = Engine(epochs=30,labels=data.labels)\n",
    "    trainer.model = model.model\n",
    "    trainer.dataset_encoded = data.dataset_encoded\n",
    "    test_acc, test_f1, eval_acc, eval_f1 = trainer.run(lr=lr,\n",
    "                          wd=wd,\n",
    "                          train_dataloader=data.train_dataloader,\n",
    "                          eval_dataloader=data.eval_dataloader,\n",
    "                          test_dataloader=data.test_dataloader,\n",
    "                          accumulation_steps=2,\n",
    "                          focalloss=True,\n",
    "                          gamma=g,\n",
    "                          early_stop=3)\n",
    "    results['test_acc'].append(test_acc)\n",
    "    results['test_f1'].append(test_f1)\n",
    "    results['eval_acc'].append(eval_acc)\n",
    "    results['eval_f1'].append(eval_f1)\n",
    "    results['rank, alpha'].append(r)\n",
    "    print('### '*10)\n",
    "    print(results)\n",
    "    print('### '*10)\n",
    "    with torch.no_grad():\n",
    "        torch.cuda.empty_cache()\n",
    "    del data, model, trainer, test_acc, test_f1, eval_acc, eval_f1\n",
    "    gc.collect()"
   ]
  },
  {
   "cell_type": "code",
   "execution_count": 5,
   "metadata": {},
   "outputs": [
    {
     "data": {
      "image/png": "[encoded data removed]",
      "text/plain": [
       "<Figure size 640x480 with 1 Axes>"
      ]
     },
     "metadata": {},
     "output_type": "display_data"
    }
   ],
   "source": [
    "Engine.plot_grid_search(df=results,\n",
    "                        title=f'LORA, lr: {lr}, focal loss gamma {g} {model_checkpoint}',\n",
    "                        column='rank, alpha',\n",
    "                        sci_format=False)"
   ]
  },
  {
   "cell_type": "code",
   "execution_count": 6,
   "metadata": {},
   "outputs": [],
   "source": [
    "%reset -f"
   ]
  }
 ],
 "metadata": {
  "kernelspec": {
   "display_name": "base",
   "language": "python",
   "name": "python3"
  },
  "language_info": {
   "codemirror_mode": {
    "name": "ipython",
    "version": 3
   },
   "file_extension": ".py",
   "mimetype": "text/x-python",
   "name": "python",
   "nbconvert_exporter": "python",
   "pygments_lexer": "ipython3",
   "version": "3.11.5"
  }
 },
 "nbformat": 4,
 "nbformat_minor": 2
}
