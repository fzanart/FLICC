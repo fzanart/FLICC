{
 "cells": [
  {
   "cell_type": "code",
   "execution_count": 1,
   "metadata": {},
   "outputs": [],
   "source": [
    "import os\n",
    "import sys\n",
    "import gc\n",
    "# assuming data, models, engine in flicc directory:\n",
    "flicc_path = os.path.realpath(\"__file__\").split('grid_search')[0]\n",
    "sys.path.append(flicc_path)\n",
    "import torch\n",
    "from data import ClimateDataset\n",
    "from models import ClassificationModel\n",
    "from engine import Engine"
   ]
  },
  {
   "cell_type": "code",
   "execution_count": 2,
   "metadata": {},
   "outputs": [],
   "source": [
    "model_checkpoint='bert-base-uncased'"
   ]
  },
  {
   "cell_type": "code",
   "execution_count": 3,
   "metadata": {},
   "outputs": [],
   "source": [
    "results = {'test_acc':[],\n",
    "           'test_f1':[],\n",
    "           'eval_acc':[],\n",
    "           'eval_f1':[],\n",
    "           'rank, alpha':[]}"
   ]
  },
  {
   "cell_type": "code",
   "execution_count": 4,
   "metadata": {},
   "outputs": [
    {
     "name": "stdout",
     "output_type": "stream",
     "text": [
      "Grid search bert-base-uncased, learning rate 0.0001 focal loss, gamma: 4 wd: 0.1, Lora alpha 8, rank 8\n"
     ]
    },
    {
     "name": "stderr",
     "output_type": "stream",
     "text": [
      "Some weights of BertForSequenceClassification were not initialized from the model checkpoint at bert-base-uncased and are newly initialized: ['classifier.bias', 'classifier.weight']\n",
      "You should probably TRAIN this model on a down-stream task to be able to use it for predictions and inference.\n",
      "You're using a BertTokenizerFast tokenizer. Please note that with a fast tokenizer, using the `__call__` method is faster than using a method to encode the text followed by a call to the `pad` method to get a padded encoding.\n"
     ]
    },
    {
     "name": "stdout",
     "output_type": "stream",
     "text": [
      "1 / 30: Train Loss:\t0.0992\tVal Loss:\t0.7056\tAccuracy:\t0.3961\tF1:\t0.3921\n",
      "2 / 30: Train Loss:\t0.0904\tVal Loss:\t0.6829\tAccuracy:\t0.5996\tF1:\t0.5811\n",
      "3 / 30: Train Loss:\t0.0865\tVal Loss:\t0.6714\tAccuracy:\t0.6324\tF1:\t0.6119\n",
      "4 / 30: Train Loss:\t0.0802\tVal Loss:\t0.6454\tAccuracy:\t0.6893\tF1:\t0.6545\n",
      "5 / 30: Train Loss:\t0.0761\tVal Loss:\t0.6153\tAccuracy:\t0.7374\tF1:\t0.6860\n",
      "6 / 30: Train Loss:\t0.0743\tVal Loss:\t0.6203\tAccuracy:\t0.7221\tF1:\t0.6844\n",
      "7 / 30: Train Loss:\t0.0693\tVal Loss:\t0.6035\tAccuracy:\t0.7309\tF1:\t0.6876\n",
      "8 / 30: Train Loss:\t0.0673\tVal Loss:\t0.5885\tAccuracy:\t0.7637\tF1:\t0.7185\n",
      "9 / 30: Train Loss:\t0.0634\tVal Loss:\t0.5795\tAccuracy:\t0.7593\tF1:\t0.7212\n",
      "10 / 30: Train Loss:\t0.0588\tVal Loss:\t0.5756\tAccuracy:\t0.7571\tF1:\t0.7222\n",
      "11 / 30: Train Loss:\t0.0584\tVal Loss:\t0.5696\tAccuracy:\t0.7571\tF1:\t0.7212\n",
      "12 / 30: Train Loss:\t0.0545\tVal Loss:\t0.5543\tAccuracy:\t0.7637\tF1:\t0.7283\n",
      "13 / 30: Train Loss:\t0.0511\tVal Loss:\t0.5391\tAccuracy:\t0.7899\tF1:\t0.7519\n",
      "14 / 30: Train Loss:\t0.0462\tVal Loss:\t0.5254\tAccuracy:\t0.7877\tF1:\t0.7508\n",
      "15 / 30: Train Loss:\t0.0443\tVal Loss:\t0.5145\tAccuracy:\t0.7987\tF1:\t0.7602\n",
      "16 / 30: Train Loss:\t0.0442\tVal Loss:\t0.5278\tAccuracy:\t0.7812\tF1:\t0.7493\n",
      "17 / 30: Train Loss:\t0.0386\tVal Loss:\t0.4814\tAccuracy:\t0.8053\tF1:\t0.7685\n",
      "18 / 30: Train Loss:\t0.0354\tVal Loss:\t0.4569\tAccuracy:\t0.8162\tF1:\t0.7699\n",
      "19 / 30: Train Loss:\t0.0313\tVal Loss:\t0.4550\tAccuracy:\t0.8096\tF1:\t0.7678\n",
      "20 / 30: Train Loss:\t0.0290\tVal Loss:\t0.4671\tAccuracy:\t0.8009\tF1:\t0.7662\n",
      "21 / 30: Train Loss:\t0.0270\tVal Loss:\t0.4420\tAccuracy:\t0.8096\tF1:\t0.7688\n",
      "No improvement for 3 epochs. Stopping early.\n",
      "best (higgest macro f1-score) val results:\n",
      "              precision    recall  f1-score   support\n",
      "\n",
      "       bknow       0.63      0.71      0.67       119\n",
      "      struct       0.89      0.86      0.87       338\n",
      "\n",
      "    accuracy                           0.82       457\n",
      "   macro avg       0.76      0.78      0.77       457\n",
      "weighted avg       0.82      0.82      0.82       457\n",
      "\n",
      "test results:\n",
      "              precision    recall  f1-score   support\n",
      "\n",
      "       bknow       0.60      0.69      0.64        67\n",
      "      struct       0.88      0.84      0.86       189\n",
      "\n",
      "    accuracy                           0.80       256\n",
      "   macro avg       0.74      0.76      0.75       256\n",
      "weighted avg       0.81      0.80      0.80       256\n",
      "\n",
      "### ### ### ### ### ### ### ### ### ### \n",
      "{'test_acc': [0.796875], 'test_f1': [0.748792270531401], 'eval_acc': [0.8161925601750547], 'eval_f1': [0.769889224572004], 'rank, alpha': [8]}\n",
      "### ### ### ### ### ### ### ### ### ### \n",
      "Grid search bert-base-uncased, learning rate 0.0001 focal loss, gamma: 4 wd: 0.1, Lora alpha 16, rank 16\n"
     ]
    },
    {
     "name": "stderr",
     "output_type": "stream",
     "text": [
      "Some weights of BertForSequenceClassification were not initialized from the model checkpoint at bert-base-uncased and are newly initialized: ['classifier.bias', 'classifier.weight']\n",
      "You should probably TRAIN this model on a down-stream task to be able to use it for predictions and inference.\n",
      "You're using a BertTokenizerFast tokenizer. Please note that with a fast tokenizer, using the `__call__` method is faster than using a method to encode the text followed by a call to the `pad` method to get a padded encoding.\n"
     ]
    },
    {
     "name": "stdout",
     "output_type": "stream",
     "text": [
      "1 / 30: Train Loss:\t0.0984\tVal Loss:\t0.7029\tAccuracy:\t0.4070\tF1:\t0.4044\n",
      "2 / 30: Train Loss:\t0.0882\tVal Loss:\t0.6753\tAccuracy:\t0.6455\tF1:\t0.6233\n",
      "3 / 30: Train Loss:\t0.0832\tVal Loss:\t0.6514\tAccuracy:\t0.6893\tF1:\t0.6576\n",
      "4 / 30: Train Loss:\t0.0758\tVal Loss:\t0.6209\tAccuracy:\t0.7177\tF1:\t0.6748\n",
      "5 / 30: Train Loss:\t0.0715\tVal Loss:\t0.6002\tAccuracy:\t0.7374\tF1:\t0.6923\n",
      "6 / 30: Train Loss:\t0.0688\tVal Loss:\t0.5996\tAccuracy:\t0.7374\tF1:\t0.7023\n",
      "7 / 30: Train Loss:\t0.0637\tVal Loss:\t0.5866\tAccuracy:\t0.7330\tF1:\t0.7013\n",
      "8 / 30: Train Loss:\t0.0594\tVal Loss:\t0.5684\tAccuracy:\t0.7659\tF1:\t0.7332\n",
      "9 / 30: Train Loss:\t0.0549\tVal Loss:\t0.5516\tAccuracy:\t0.7549\tF1:\t0.7231\n",
      "10 / 30: Train Loss:\t0.0485\tVal Loss:\t0.5256\tAccuracy:\t0.7987\tF1:\t0.7582\n",
      "11 / 30: Train Loss:\t0.0466\tVal Loss:\t0.5280\tAccuracy:\t0.7877\tF1:\t0.7546\n",
      "12 / 30: Train Loss:\t0.0418\tVal Loss:\t0.4978\tAccuracy:\t0.7943\tF1:\t0.7570\n",
      "13 / 30: Train Loss:\t0.0383\tVal Loss:\t0.4916\tAccuracy:\t0.8031\tF1:\t0.7674\n",
      "14 / 30: Train Loss:\t0.0319\tVal Loss:\t0.4587\tAccuracy:\t0.8228\tF1:\t0.7818\n",
      "15 / 30: Train Loss:\t0.0299\tVal Loss:\t0.4424\tAccuracy:\t0.8337\tF1:\t0.7875\n",
      "16 / 30: Train Loss:\t0.0304\tVal Loss:\t0.4554\tAccuracy:\t0.8206\tF1:\t0.7872\n",
      "17 / 30: Train Loss:\t0.0219\tVal Loss:\t0.4730\tAccuracy:\t0.7877\tF1:\t0.7598\n",
      "18 / 30: Train Loss:\t0.0219\tVal Loss:\t0.4063\tAccuracy:\t0.8359\tF1:\t0.7852\n",
      "No improvement for 3 epochs. Stopping early.\n",
      "best (higgest macro f1-score) val results:\n",
      "              precision    recall  f1-score   support\n",
      "\n",
      "       bknow       0.67      0.71      0.69       119\n",
      "      struct       0.89      0.88      0.89       338\n",
      "\n",
      "    accuracy                           0.83       457\n",
      "   macro avg       0.78      0.79      0.79       457\n",
      "weighted avg       0.84      0.83      0.83       457\n",
      "\n",
      "test results:\n",
      "              precision    recall  f1-score   support\n",
      "\n",
      "       bknow       0.61      0.67      0.64        67\n",
      "      struct       0.88      0.85      0.86       189\n",
      "\n",
      "    accuracy                           0.80       256\n",
      "   macro avg       0.74      0.76      0.75       256\n",
      "weighted avg       0.81      0.80      0.80       256\n",
      "\n",
      "### ### ### ### ### ### ### ### ### ### \n",
      "{'test_acc': [0.796875, 0.80078125], 'test_f1': [0.748792270531401, 0.7504157825313988], 'eval_acc': [0.8161925601750547, 0.8336980306345733], 'eval_f1': [0.769889224572004, 0.7875458771715194], 'rank, alpha': [8, 16]}\n",
      "### ### ### ### ### ### ### ### ### ### \n"
     ]
    }
   ],
   "source": [
    "g = 4\n",
    "lr = 1.0e-4\n",
    "wd = 0.1\n",
    "alphas = [8, 16]\n",
    "ranks = [8, 16]\n",
    "lora_dropout = 0.0\n",
    "\n",
    "\n",
    "for a,r in zip(alphas, ranks):\n",
    "    print(f'Grid search {model_checkpoint}, learning rate {lr} focal loss, gamma: {g} wd: {wd}, Lora alpha {a}, rank {r}')\n",
    "    data = ClimateDataset(model_to_train=1,model_checkpoint=model_checkpoint,dataset_url=flicc_path,batch_size=32)\n",
    "    data.setup_dataloaders()\n",
    "    model = ClassificationModel(model_checkpoint=data.model_checkpoint,\n",
    "                            num_labels=data.num_labels,\n",
    "                            lora=True,\n",
    "                            r=r,\n",
    "                            alpha=a,\n",
    "                            dropout=lora_dropout)\n",
    "    trainer = Engine(epochs=30,labels=data.labels)\n",
    "    trainer.model = model.model\n",
    "    trainer.dataset_encoded = data.dataset_encoded\n",
    "    test_acc, test_f1, eval_acc, eval_f1 = trainer.run(lr=lr,\n",
    "                          wd=wd,\n",
    "                          train_dataloader=data.train_dataloader,\n",
    "                          eval_dataloader=data.eval_dataloader,\n",
    "                          test_dataloader=data.test_dataloader,\n",
    "                          focalloss=True,\n",
    "                          gamma=g,\n",
    "                          early_stop=3)\n",
    "    results['test_acc'].append(test_acc)\n",
    "    results['test_f1'].append(test_f1)\n",
    "    results['eval_acc'].append(eval_acc)\n",
    "    results['eval_f1'].append(eval_f1)\n",
    "    results['rank, alpha'].append(r)\n",
    "    print('### '*10)\n",
    "    print(results)\n",
    "    print('### '*10)\n",
    "    with torch.no_grad():\n",
    "        torch.cuda.empty_cache()\n",
    "    del data, model, trainer, test_acc, test_f1, eval_acc, eval_f1\n",
    "    gc.collect()"
   ]
  },
  {
   "cell_type": "code",
   "execution_count": 5,
   "metadata": {},
   "outputs": [
    {
     "data": {
      "image/png": "[encoded data removed]",
      "text/plain": [
       "<Figure size 640x480 with 1 Axes>"
      ]
     },
     "metadata": {},
     "output_type": "display_data"
    }
   ],
   "source": [
    "Engine.plot_grid_search(df=results,\n",
    "                        title=f'LORA, lr: {lr}, focal loss gamma {g} {model_checkpoint}',\n",
    "                        column='rank, alpha',\n",
    "                        sci_format=False)"
   ]
  },
  {
   "cell_type": "code",
   "execution_count": 6,
   "metadata": {},
   "outputs": [],
   "source": [
    "%reset -f"
   ]
  }
 ],
 "metadata": {
  "kernelspec": {
   "display_name": "base",
   "language": "python",
   "name": "python3"
  },
  "language_info": {
   "codemirror_mode": {
    "name": "ipython",
    "version": 3
   },
   "file_extension": ".py",
   "mimetype": "text/x-python",
   "name": "python",
   "nbconvert_exporter": "python",
   "pygments_lexer": "ipython3",
   "version": "3.11.5"
  }
 },
 "nbformat": 4,
 "nbformat_minor": 2
}
