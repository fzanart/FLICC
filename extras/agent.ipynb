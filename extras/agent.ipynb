{
 "cells": [
  {
   "cell_type": "code",
   "execution_count": 1,
   "metadata": {},
   "outputs": [],
   "source": [
    "import os\n",
    "from langchain.schema import SystemMessage\n",
    "from langchain.chat_models import ChatOpenAI\n",
    "from langchain.agents import initialize_agent\n",
    "from langchain.agents import AgentType\n",
    "from langchain.tools import Tool\n",
    "from transformers import pipeline\n",
    "\n",
    "os.environ[\"OPENAI_API_KEY\"] = ''"
   ]
  },
  {
   "cell_type": "code",
   "execution_count": 2,
   "metadata": {},
   "outputs": [],
   "source": [
    "def fallacy_detector(text):\n",
    "    pipe = pipeline(model=\"fzanartu/flicc\", device='cuda')\n",
    "    result = pipe([text])\n",
    "    return result[0].get('label')"
   ]
  },
  {
   "cell_type": "code",
   "execution_count": 3,
   "metadata": {},
   "outputs": [],
   "source": [
    "system_message = SystemMessage(\n",
    "    content =   \"\"\"You are an expert climate analyst, who provide precise and consise responses to climate change misinformation.\n",
    "\n",
    "                Please make sure you complete the objective above with the following rules:\n",
    "\n",
    "                1/ Provide precise and concise replies to climate change misinformation using a structured \"hamburger-style\" response, including the myth, the fallacy, and the fact.\n",
    "                2/ You should use the provided fallacy detector tool to identify the correct fallacy contained in the text.\n",
    "                3/ Hamburger-Style Response: Your responses should follow a structured format commonly known as the \"hamburger-style.\" This includes:\n",
    "                Top Bun (Myth): Start with the misinformation related to climate change.\n",
    "                Meat (Fallacy): Utilize the provided fallacy detector tool to identify the specific fallacy in the misinformation. Explain why the misinformation is incorrect, addressing the fallacious reasoning present.\n",
    "                Bottom Bun (Fact): End with a clear and concise presentation of the factual information that debunks the climate change myth.\n",
    "\n",
    "                Your task is complete once you have written all the elements of the hamburger-style response.\n",
    "                \"\"\"\n",
    "            )\n",
    "\n",
    "tools = [\n",
    "    Tool(\n",
    "        name=\"fallacy_detector\",\n",
    "        func=fallacy_detector,\n",
    "        description=\"useful when you need to detect a fallacy\"\n",
    "    ),\n",
    "]\n",
    "\n",
    "agent_kwargs = {\n",
    "    \"system_message\": system_message,\n",
    "}\n",
    "\n",
    "llm = ChatOpenAI(temperature=0.0, model=\"gpt-3.5-turbo\")\n",
    "\n",
    "agent = initialize_agent(\n",
    "    tools,\n",
    "    llm,\n",
    "    agent=AgentType.OPENAI_FUNCTIONS,\n",
    "    verbose=True,\n",
    "    agent_kwargs=agent_kwargs,\n",
    ")"
   ]
  },
  {
   "cell_type": "code",
   "execution_count": 4,
   "metadata": {},
   "outputs": [
    {
     "name": "stdout",
     "output_type": "stream",
     "text": [
      "\n",
      "\n",
      "\u001b[1m> Entering new AgentExecutor chain...\u001b[0m\n",
      "\u001b[32;1m\u001b[1;3m\n",
      "Invoking: `fallacy_detector` with `So many more people die from cold than from heat in the UK.`\n",
      "\n",
      "\n",
      "\u001b[0m\u001b[36;1m\u001b[1;3moversimplification\u001b[0m\u001b[32;1m\u001b[1;3mTop Bun (Myth): So many more people die from cold than from heat in the UK.\n",
      "\n",
      "Meat (Fallacy): The fallacy in this statement is oversimplification. While it is true that cold weather can have adverse health effects, it is an oversimplification to claim that more people die from cold than from heat in the UK without considering other factors and nuances.\n",
      "\n",
      "Bottom Bun (Fact): The fact is that both cold and heat can have significant impacts on human health. While cold weather can increase the risk of respiratory and cardiovascular diseases, heatwaves can lead to heatstroke, dehydration, and exacerbation of existing health conditions. According to studies, heat-related deaths have been increasing in the UK due to the effects of climate change. It is important to address both cold and heat-related risks and take appropriate measures to protect public health.\u001b[0m\n",
      "\n",
      "\u001b[1m> Finished chain.\u001b[0m\n"
     ]
    }
   ],
   "source": [
    "response = agent.run(\"So many more people die from cold than from heat in the UK.\")"
   ]
  },
  {
   "cell_type": "code",
   "execution_count": 6,
   "metadata": {},
   "outputs": [
    {
     "name": "stdout",
     "output_type": "stream",
     "text": [
      "Top Bun (Myth): So many more people die from cold than from heat in the UK.\n",
      "\n",
      "Meat (Fallacy): The fallacy in this statement is oversimplification. While it is true that cold weather can have adverse health effects, it is an oversimplification to claim that more people die from cold than from heat in the UK without considering other factors and nuances.\n",
      "\n",
      "Bottom Bun (Fact): The fact is that both cold and heat can have significant impacts on human health. While cold weather can increase the risk of respiratory and cardiovascular diseases, heatwaves can lead to heatstroke, dehydration, and exacerbation of existing health conditions. According to studies, heat-related deaths have been increasing in the UK due to the effects of climate change. It is important to address both cold and heat-related risks and take appropriate measures to protect public health.\n"
     ]
    }
   ],
   "source": [
    "print(response)"
   ]
  },
  {
   "cell_type": "code",
   "execution_count": null,
   "metadata": {},
   "outputs": [],
   "source": []
  }
 ],
 "metadata": {
  "kernelspec": {
   "display_name": "base",
   "language": "python",
   "name": "python3"
  },
  "language_info": {
   "codemirror_mode": {
    "name": "ipython",
    "version": 3
   },
   "file_extension": ".py",
   "mimetype": "text/x-python",
   "name": "python",
   "nbconvert_exporter": "python",
   "pygments_lexer": "ipython3",
   "version": "3.11.5"
  }
 },
 "nbformat": 4,
 "nbformat_minor": 2
}
