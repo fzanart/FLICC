{
 "cells": [
  {
   "cell_type": "code",
   "execution_count": 1,
   "metadata": {},
   "outputs": [],
   "source": [
    "from transformers import pipeline\n",
    "import pandas as pd\n",
    "from sklearn.metrics import f1_score, accuracy_score"
   ]
  },
  {
   "cell_type": "code",
   "execution_count": 2,
   "metadata": {},
   "outputs": [],
   "source": [
    "pipe = pipeline(model='fzanartu/flicc', device='cuda')"
   ]
  },
  {
   "cell_type": "code",
   "execution_count": 3,
   "metadata": {},
   "outputs": [
    {
     "name": "stdout",
     "output_type": "stream",
     "text": [
      "label: cherry picking, acc: 0.48, f1: 0.65\n",
      "label: single cause, acc: 0.22, f1: 0.36\n",
      "label: fake experts, acc: 0.1, f1: 0.18\n"
     ]
    }
   ],
   "source": [
    "datasets = {'cherry picking':'https://raw.githubusercontent.com/Tariq60/fallacy-detection/master/data/climate/test/Cherry%20Picking.tsv',\n",
    "            'single cause': 'https://raw.githubusercontent.com/Tariq60/fallacy-detection/master/data/climate/test/False%20Cause.tsv',\n",
    "            'fake experts': 'https://raw.githubusercontent.com/Tariq60/fallacy-detection/master/data/climate/test/False%20Authority.tsv'\n",
    "            }\n",
    "\n",
    "for label, link in datasets.items():\n",
    "\n",
    "    data = pd.read_csv(link, sep='\\t')\n",
    "    data['label'] = label\n",
    "    al_true = data['label'].to_list()\n",
    "    al_results = pipe(data['fact_checked_segment'].to_list())\n",
    "    al_pred = [x.get('label') for x in al_results]\n",
    "    print(f'label: {label}, acc: {round(accuracy_score(al_true, al_pred),2)}, f1: {round(f1_score(al_true, al_pred, average=\"weighted\", zero_division=0.0),2)}')\n"
   ]
  },
  {
   "cell_type": "code",
   "execution_count": 4,
   "metadata": {},
   "outputs": [
    {
     "name": "stdout",
     "output_type": "stream",
     "text": [
      "label: cherry picking, acc: 0.22, f1: 0.36\n",
      "label: ad hominem, acc: 0.69, f1: 0.81\n",
      "label: false choice, acc: 0.5, f1: 0.67\n"
     ]
    }
   ],
   "source": [
    "jin = pd.read_csv('https://raw.githubusercontent.com/causalNLP/logical-fallacy/main/data/climate_test.csv', usecols=['source_article', 'logical_fallacies'])\n",
    "jin = jin[jin['logical_fallacies'].isin(['intentional', 'ad hominem', 'false dilemma'])]\n",
    "jin = jin.dropna().reset_index(drop=True)\n",
    "\n",
    "fallacies_map = {'intentional':'cherry picking', \n",
    "                 'ad hominem':'ad hominem',\n",
    "                 'false dilemma':'false choice'}\n",
    "\n",
    "\n",
    "for fallacy in jin['logical_fallacies'].unique():\n",
    "    fallacies = jin[jin['logical_fallacies'] == fallacy]['source_article'].to_list()\n",
    "    jin_true = [fallacies_map.get(fallacy)] * len(fallacies)\n",
    "    jin_results = pipe(fallacies)\n",
    "    jin_pred = [x.get('label') for x in jin_results]\n",
    "    print(f'label: {fallacies_map.get(fallacy)}, acc: {round(accuracy_score(jin_true, jin_pred),2)}, f1: {round(f1_score(jin_true, jin_pred, average=\"weighted\", zero_division=0.0),2)}')"
   ]
  },
  {
   "cell_type": "code",
   "execution_count": null,
   "metadata": {},
   "outputs": [],
   "source": []
  }
 ],
 "metadata": {
  "kernelspec": {
   "display_name": "base",
   "language": "python",
   "name": "python3"
  },
  "language_info": {
   "codemirror_mode": {
    "name": "ipython",
    "version": 3
   },
   "file_extension": ".py",
   "mimetype": "text/x-python",
   "name": "python",
   "nbconvert_exporter": "python",
   "pygments_lexer": "ipython3",
   "version": "3.11.5"
  }
 },
 "nbformat": 4,
 "nbformat_minor": 2
}
