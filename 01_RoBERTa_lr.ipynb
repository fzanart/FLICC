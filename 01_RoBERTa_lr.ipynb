{
 "cells": [
  {
   "cell_type": "code",
   "execution_count": 1,
   "metadata": {},
   "outputs": [],
   "source": [
    "import torch\n",
    "from data import ClimateDataset\n",
    "from models import ClassificationModel\n",
    "from engine import Engine"
   ]
  },
  {
   "cell_type": "code",
   "execution_count": 2,
   "metadata": {},
   "outputs": [],
   "source": [
    "model_checkpoint='roberta-large'\n",
    "\n",
    "# the commands below didn't work inside for loop and got CUDA out of memory Error.\n",
    "#     with torch.no_grad():\n",
    "#        torch.cuda.empty_cache()\n",
    "#    del data, model, trainer, acc, f1\n",
    "# Instead of running these commands in a loop, execute them cell by cell, restarting between them.\n",
    "# Each cell will print its results. To keep the results and avoid re-running specific cells, skip them intermittently on each run."
   ]
  },
  {
   "cell_type": "code",
   "execution_count": 3,
   "metadata": {},
   "outputs": [],
   "source": [
    "results = {'acc':[],\n",
    "           'f1':[],\n",
    "           'lr':[]}"
   ]
  },
  {
   "cell_type": "code",
   "execution_count": 4,
   "metadata": {},
   "outputs": [
    {
     "name": "stdout",
     "output_type": "stream",
     "text": [
      "Grid search roberta-large, learning rate 0.001\n"
     ]
    },
    {
     "name": "stderr",
     "output_type": "stream",
     "text": [
      "Some weights of RobertaForSequenceClassification were not initialized from the model checkpoint at roberta-large and are newly initialized: ['classifier.out_proj.bias', 'classifier.dense.weight', 'classifier.out_proj.weight', 'classifier.dense.bias']\n",
      "You should probably TRAIN this model on a down-stream task to be able to use it for predictions and inference.\n",
      "You're using a RobertaTokenizerFast tokenizer. Please note that with a fast tokenizer, using the `__call__` method is faster than using a method to encode the text followed by a call to the `pad` method to get a padded encoding.\n"
     ]
    },
    {
     "name": "stdout",
     "output_type": "stream",
     "text": [
      "1 / 10: Train Loss:\t0.6991\tVal Loss:\t0.6117\tAccuracy:\t0.7396\tF1:\t0.4252\n",
      "2 / 10: Train Loss:\t0.5882\tVal Loss:\t0.6114\tAccuracy:\t0.7396\tF1:\t0.4252\n",
      "3 / 10: Train Loss:\t0.5898\tVal Loss:\t0.6091\tAccuracy:\t0.7396\tF1:\t0.4252\n",
      "4 / 10: Train Loss:\t0.5906\tVal Loss:\t0.5968\tAccuracy:\t0.7396\tF1:\t0.4252\n",
      "5 / 10: Train Loss:\t0.5976\tVal Loss:\t0.5922\tAccuracy:\t0.7396\tF1:\t0.4252\n",
      "6 / 10: Train Loss:\t0.5882\tVal Loss:\t0.5887\tAccuracy:\t0.7396\tF1:\t0.4252\n",
      "7 / 10: Train Loss:\t0.5903\tVal Loss:\t0.5982\tAccuracy:\t0.7396\tF1:\t0.4252\n",
      "8 / 10: Train Loss:\t0.5869\tVal Loss:\t0.5918\tAccuracy:\t0.7396\tF1:\t0.4252\n",
      "9 / 10: Train Loss:\t0.5899\tVal Loss:\t0.5844\tAccuracy:\t0.7396\tF1:\t0.4252\n",
      "10 / 10: Train Loss:\t0.5864\tVal Loss:\t0.5897\tAccuracy:\t0.7396\tF1:\t0.4252\n",
      "best (higgest macro f1-score) val results:\n",
      "              precision    recall  f1-score   support\n",
      "\n",
      "       bknow       0.00      0.00      0.00       119\n",
      "      struct       0.74      1.00      0.85       338\n",
      "\n",
      "    accuracy                           0.74       457\n",
      "   macro avg       0.37      0.50      0.43       457\n",
      "weighted avg       0.55      0.74      0.63       457\n",
      "\n",
      "test results:\n",
      "              precision    recall  f1-score   support\n",
      "\n",
      "       bknow       0.00      0.00      0.00        67\n",
      "      struct       0.74      1.00      0.85       189\n",
      "\n",
      "    accuracy                           0.74       256\n",
      "   macro avg       0.37      0.50      0.42       256\n",
      "weighted avg       0.55      0.74      0.63       256\n",
      "\n",
      "### ### ### ### ### ### ### ### ### ### \n",
      "{'acc': [0.73828125], 'f1': [0.4247191011235955], 'lr': [0.001]}\n",
      "### ### ### ### ### ### ### ### ### ### \n"
     ]
    }
   ],
   "source": [
    "print(f'Grid search {model_checkpoint}, learning rate {1.0e-3}')\n",
    "data = ClimateDataset(model_to_train=1,model_checkpoint=model_checkpoint,batch_size=32)\n",
    "data.setup_dataloaders()\n",
    "model = ClassificationModel(model_checkpoint=data.model_checkpoint,num_labels=data.num_labels)\n",
    "trainer = Engine(epochs=10,labels=data.labels)\n",
    "trainer.model = model.model\n",
    "trainer.device = model.device\n",
    "acc, f1 = trainer.run(lr=1.0e-3,wd=0.0,train_dataloader=data.train_dataloader,eval_dataloader=data.eval_dataloader,test_dataloader=data.test_dataloader)\n",
    "results['acc'].append(acc)\n",
    "results['f1'].append(f1)\n",
    "results['lr'].append(1.0e-3)\n",
    "print('### '*10)\n",
    "print(results)\n",
    "print('### '*10)"
   ]
  },
  {
   "cell_type": "code",
   "execution_count": 4,
   "metadata": {},
   "outputs": [
    {
     "name": "stdout",
     "output_type": "stream",
     "text": [
      "Grid search roberta-large, learning rate 0.0001\n"
     ]
    },
    {
     "name": "stderr",
     "output_type": "stream",
     "text": [
      "Some weights of RobertaForSequenceClassification were not initialized from the model checkpoint at roberta-large and are newly initialized: ['classifier.dense.bias', 'classifier.dense.weight', 'classifier.out_proj.bias', 'classifier.out_proj.weight']\n",
      "You should probably TRAIN this model on a down-stream task to be able to use it for predictions and inference.\n",
      "You're using a RobertaTokenizerFast tokenizer. Please note that with a fast tokenizer, using the `__call__` method is faster than using a method to encode the text followed by a call to the `pad` method to get a padded encoding.\n"
     ]
    },
    {
     "name": "stdout",
     "output_type": "stream",
     "text": [
      "1 / 10: Train Loss:\t0.6122\tVal Loss:\t0.5836\tAccuracy:\t0.7396\tF1:\t0.4252\n",
      "2 / 10: Train Loss:\t0.5813\tVal Loss:\t0.5837\tAccuracy:\t0.7396\tF1:\t0.4252\n",
      "3 / 10: Train Loss:\t0.5792\tVal Loss:\t0.5842\tAccuracy:\t0.7396\tF1:\t0.4252\n",
      "4 / 10: Train Loss:\t0.5841\tVal Loss:\t0.5864\tAccuracy:\t0.7396\tF1:\t0.4252\n",
      "5 / 10: Train Loss:\t0.5848\tVal Loss:\t0.5836\tAccuracy:\t0.7396\tF1:\t0.4252\n",
      "6 / 10: Train Loss:\t0.5816\tVal Loss:\t0.5837\tAccuracy:\t0.7396\tF1:\t0.4252\n",
      "7 / 10: Train Loss:\t0.5879\tVal Loss:\t0.5829\tAccuracy:\t0.7396\tF1:\t0.4252\n",
      "8 / 10: Train Loss:\t0.5828\tVal Loss:\t0.5830\tAccuracy:\t0.7396\tF1:\t0.4252\n",
      "9 / 10: Train Loss:\t0.5843\tVal Loss:\t0.5839\tAccuracy:\t0.7396\tF1:\t0.4252\n",
      "10 / 10: Train Loss:\t0.5833\tVal Loss:\t0.5832\tAccuracy:\t0.7396\tF1:\t0.4252\n",
      "best (higgest macro f1-score) val results:\n",
      "              precision    recall  f1-score   support\n",
      "\n",
      "       bknow       0.00      0.00      0.00       119\n",
      "      struct       0.74      1.00      0.85       338\n",
      "\n",
      "    accuracy                           0.74       457\n",
      "   macro avg       0.37      0.50      0.43       457\n",
      "weighted avg       0.55      0.74      0.63       457\n",
      "\n",
      "test results:\n",
      "              precision    recall  f1-score   support\n",
      "\n",
      "       bknow       0.00      0.00      0.00        67\n",
      "      struct       0.74      1.00      0.85       189\n",
      "\n",
      "    accuracy                           0.74       256\n",
      "   macro avg       0.37      0.50      0.42       256\n",
      "weighted avg       0.55      0.74      0.63       256\n",
      "\n",
      "### ### ### ### ### ### ### ### ### ### \n",
      "{'acc': [0.73828125], 'f1': [0.4247191011235955], 'lr': [0.0001]}\n",
      "### ### ### ### ### ### ### ### ### ### \n"
     ]
    }
   ],
   "source": [
    "print(f'Grid search {model_checkpoint}, learning rate {1.0e-4}')\n",
    "data = ClimateDataset(model_to_train=1,model_checkpoint=model_checkpoint,batch_size=32)\n",
    "data.setup_dataloaders()\n",
    "model = ClassificationModel(model_checkpoint=data.model_checkpoint,num_labels=data.num_labels)\n",
    "trainer = Engine(epochs=10,labels=data.labels)\n",
    "trainer.model = model.model\n",
    "trainer.device = model.device\n",
    "acc, f1 = trainer.run(lr=1.0e-4,wd=0.0,train_dataloader=data.train_dataloader,eval_dataloader=data.eval_dataloader,test_dataloader=data.test_dataloader)\n",
    "results['acc'].append(acc)\n",
    "results['f1'].append(f1)\n",
    "results['lr'].append(1.0e-4)\n",
    "print('### '*10)\n",
    "print(results)\n",
    "print('### '*10)"
   ]
  },
  {
   "cell_type": "code",
   "execution_count": 4,
   "metadata": {},
   "outputs": [
    {
     "name": "stdout",
     "output_type": "stream",
     "text": [
      "Grid search roberta-large, learning rate 1e-05\n"
     ]
    },
    {
     "name": "stderr",
     "output_type": "stream",
     "text": [
      "Some weights of RobertaForSequenceClassification were not initialized from the model checkpoint at roberta-large and are newly initialized: ['classifier.dense.weight', 'classifier.out_proj.weight', 'classifier.out_proj.bias', 'classifier.dense.bias']\n",
      "You should probably TRAIN this model on a down-stream task to be able to use it for predictions and inference.\n",
      "You're using a RobertaTokenizerFast tokenizer. Please note that with a fast tokenizer, using the `__call__` method is faster than using a method to encode the text followed by a call to the `pad` method to get a padded encoding.\n"
     ]
    },
    {
     "name": "stdout",
     "output_type": "stream",
     "text": [
      "1 / 10: Train Loss:\t0.5702\tVal Loss:\t0.4584\tAccuracy:\t0.8053\tF1:\t0.6799\n",
      "2 / 10: Train Loss:\t0.3987\tVal Loss:\t0.3201\tAccuracy:\t0.8621\tF1:\t0.8019\n",
      "3 / 10: Train Loss:\t0.2543\tVal Loss:\t0.3253\tAccuracy:\t0.8643\tF1:\t0.8293\n",
      "4 / 10: Train Loss:\t0.1502\tVal Loss:\t0.3877\tAccuracy:\t0.8709\tF1:\t0.8395\n",
      "5 / 10: Train Loss:\t0.1363\tVal Loss:\t0.3820\tAccuracy:\t0.8753\tF1:\t0.8419\n",
      "6 / 10: Train Loss:\t0.0735\tVal Loss:\t0.5129\tAccuracy:\t0.8425\tF1:\t0.8091\n",
      "7 / 10: Train Loss:\t0.0837\tVal Loss:\t0.5449\tAccuracy:\t0.8206\tF1:\t0.7972\n",
      "8 / 10: Train Loss:\t0.0990\tVal Loss:\t0.4921\tAccuracy:\t0.8687\tF1:\t0.8052\n",
      "9 / 10: Train Loss:\t0.0374\tVal Loss:\t0.5240\tAccuracy:\t0.8796\tF1:\t0.8369\n",
      "10 / 10: Train Loss:\t0.0148\tVal Loss:\t0.5774\tAccuracy:\t0.8753\tF1:\t0.8255\n",
      "best (higgest macro f1-score) val results:\n",
      "              precision    recall  f1-score   support\n",
      "\n",
      "       bknow       0.83      0.66      0.73       119\n",
      "      struct       0.89      0.95      0.92       338\n",
      "\n",
      "    accuracy                           0.88       457\n",
      "   macro avg       0.86      0.80      0.83       457\n",
      "weighted avg       0.87      0.88      0.87       457\n",
      "\n",
      "test results:\n",
      "              precision    recall  f1-score   support\n",
      "\n",
      "       bknow       0.75      0.63      0.68        67\n",
      "      struct       0.88      0.93      0.90       189\n",
      "\n",
      "    accuracy                           0.85       256\n",
      "   macro avg       0.81      0.78      0.79       256\n",
      "weighted avg       0.84      0.85      0.84       256\n",
      "\n",
      "### ### ### ### ### ### ### ### ### ### \n",
      "{'acc': [0.84765625], 'f1': [0.7913348799297761], 'lr': [1e-05]}\n",
      "### ### ### ### ### ### ### ### ### ### \n"
     ]
    }
   ],
   "source": [
    "print(f'Grid search {model_checkpoint}, learning rate {1.0e-5}')\n",
    "data = ClimateDataset(model_to_train=1,model_checkpoint=model_checkpoint,batch_size=32)\n",
    "data.setup_dataloaders()\n",
    "model = ClassificationModel(model_checkpoint=data.model_checkpoint,num_labels=data.num_labels)\n",
    "trainer = Engine(epochs=10,labels=data.labels)\n",
    "trainer.model = model.model\n",
    "trainer.device = model.device\n",
    "acc, f1 = trainer.run(lr=1.0e-5,wd=0.0,train_dataloader=data.train_dataloader,eval_dataloader=data.eval_dataloader,test_dataloader=data.test_dataloader)\n",
    "results['acc'].append(acc)\n",
    "results['f1'].append(f1)\n",
    "results['lr'].append(1.0e-5)\n",
    "print('### '*10)\n",
    "print(results)\n",
    "print('### '*10)"
   ]
  },
  {
   "cell_type": "code",
   "execution_count": 4,
   "metadata": {},
   "outputs": [
    {
     "name": "stdout",
     "output_type": "stream",
     "text": [
      "Grid search roberta-large, learning rate 1e-06\n"
     ]
    },
    {
     "name": "stderr",
     "output_type": "stream",
     "text": [
      "Some weights of RobertaForSequenceClassification were not initialized from the model checkpoint at roberta-large and are newly initialized: ['classifier.out_proj.bias', 'classifier.out_proj.weight', 'classifier.dense.weight', 'classifier.dense.bias']\n",
      "You should probably TRAIN this model on a down-stream task to be able to use it for predictions and inference.\n",
      "You're using a RobertaTokenizerFast tokenizer. Please note that with a fast tokenizer, using the `__call__` method is faster than using a method to encode the text followed by a call to the `pad` method to get a padded encoding.\n"
     ]
    },
    {
     "name": "stdout",
     "output_type": "stream",
     "text": [
      "1 / 10: Train Loss:\t0.6430\tVal Loss:\t0.6188\tAccuracy:\t0.6389\tF1:\t0.4409\n",
      "2 / 10: Train Loss:\t0.5954\tVal Loss:\t0.5990\tAccuracy:\t0.7396\tF1:\t0.4252\n",
      "3 / 10: Train Loss:\t0.5856\tVal Loss:\t0.5775\tAccuracy:\t0.7396\tF1:\t0.4252\n",
      "4 / 10: Train Loss:\t0.5649\tVal Loss:\t0.5394\tAccuracy:\t0.7527\tF1:\t0.4833\n",
      "5 / 10: Train Loss:\t0.5245\tVal Loss:\t0.4837\tAccuracy:\t0.7987\tF1:\t0.6549\n",
      "6 / 10: Train Loss:\t0.4786\tVal Loss:\t0.4465\tAccuracy:\t0.7965\tF1:\t0.6624\n",
      "7 / 10: Train Loss:\t0.4381\tVal Loss:\t0.4212\tAccuracy:\t0.8009\tF1:\t0.6697\n",
      "8 / 10: Train Loss:\t0.4082\tVal Loss:\t0.3920\tAccuracy:\t0.8162\tF1:\t0.7094\n",
      "9 / 10: Train Loss:\t0.3656\tVal Loss:\t0.3545\tAccuracy:\t0.8359\tF1:\t0.7608\n",
      "10 / 10: Train Loss:\t0.3275\tVal Loss:\t0.3403\tAccuracy:\t0.8468\tF1:\t0.7807\n",
      "best (higgest macro f1-score) val results:\n",
      "              precision    recall  f1-score   support\n",
      "\n",
      "       bknow       0.78      0.57      0.66       119\n",
      "      struct       0.86      0.94      0.90       338\n",
      "\n",
      "    accuracy                           0.85       457\n",
      "   macro avg       0.82      0.76      0.78       457\n",
      "weighted avg       0.84      0.85      0.84       457\n",
      "\n",
      "test results:\n",
      "              precision    recall  f1-score   support\n",
      "\n",
      "       bknow       0.71      0.52      0.60        67\n",
      "      struct       0.85      0.93      0.88       189\n",
      "\n",
      "    accuracy                           0.82       256\n",
      "   macro avg       0.78      0.72      0.74       256\n",
      "weighted avg       0.81      0.82      0.81       256\n",
      "\n",
      "### ### ### ### ### ### ### ### ### ### \n",
      "{'acc': [0.8203125], 'f1': [0.7436433298502263], 'lr': [1e-06]}\n",
      "### ### ### ### ### ### ### ### ### ### \n"
     ]
    }
   ],
   "source": [
    "print(f'Grid search {model_checkpoint}, learning rate {1.0e-6}')\n",
    "data = ClimateDataset(model_to_train=1,model_checkpoint=model_checkpoint,batch_size=32)\n",
    "data.setup_dataloaders()\n",
    "model = ClassificationModel(model_checkpoint=data.model_checkpoint,num_labels=data.num_labels)\n",
    "trainer = Engine(epochs=10,labels=data.labels)\n",
    "trainer.model = model.model\n",
    "trainer.device = model.device\n",
    "acc, f1 = trainer.run(lr=1.0e-6,wd=0.0,train_dataloader=data.train_dataloader,eval_dataloader=data.eval_dataloader,test_dataloader=data.test_dataloader)\n",
    "results['acc'].append(acc)\n",
    "results['f1'].append(f1)\n",
    "results['lr'].append(1.0e-6)\n",
    "print('### '*10)\n",
    "print(results)\n",
    "print('### '*10)"
   ]
  },
  {
   "cell_type": "code",
   "execution_count": 5,
   "metadata": {},
   "outputs": [],
   "source": [
    "results = {'acc': [0.73828125,0.73828125,0.84765625,0.8203125], 'f1': [0.4247191011235955,0.4247191011235955,0.7913348799297761,0.7436433298502263], 'lr': [0.001,0.0001,1e-05,1e-06]}"
   ]
  },
  {
   "cell_type": "code",
   "execution_count": 6,
   "metadata": {},
   "outputs": [],
   "source": [
    "import matplotlib.pyplot as plt\n",
    "import seaborn as sns\n",
    "import pandas as pd"
   ]
  },
  {
   "cell_type": "code",
   "execution_count": 7,
   "metadata": {},
   "outputs": [
    {
     "data": {
      "image/png": "[encoded data removed]",
      "text/plain": [
       "<Figure size 640x480 with 1 Axes>"
      ]
     },
     "metadata": {},
     "output_type": "display_data"
    }
   ],
   "source": [
    "def plot_grid_search(df, title):\n",
    "\n",
    "    # Create the plot\n",
    "    ax = df.plot(x='lr', y=['acc', 'f1'], marker='o', linestyle='-')\n",
    "\n",
    "    # Set y-axis range between 0 and 1\n",
    "    plt.ylim(0, 1)\n",
    "\n",
    "    # Annotate points with F1 scores\n",
    "    for i, row in df.iterrows(): \n",
    "        ax.annotate(f'{row[\"f1\"]:.2f}', (row[\"lr\"], row[\"f1\"]), textcoords='offset points', xytext=(0, -10), ha='center')\n",
    "\n",
    "    # Annotate points with Acc scores\n",
    "    for i, row in df.iterrows():\n",
    "        ax.annotate(f'{row[\"acc\"]:.2f}', (row[\"lr\"], row[\"acc\"]), textcoords='offset points', xytext=(0, 10), ha='center')\n",
    "    \n",
    "    # \n",
    "    plt.xticks(df['lr'], [f'{val:.0e}' for val in df['lr']], ha='center')\n",
    "    plt.xscale('log')\n",
    "    plt.minorticks_off()\n",
    "\n",
    "    plt.title(title)\n",
    "    plt.xlabel('lr')\n",
    "    plt.ylabel('Score')\n",
    "    plt.show()\n",
    "\n",
    "plot_grid_search(pd.DataFrame(results), f'Learning rates {model_checkpoint}')"
   ]
  }
 ],
 "metadata": {
  "kernelspec": {
   "display_name": "Python 3",
   "language": "python",
   "name": "python3"
  },
  "language_info": {
   "codemirror_mode": {
    "name": "ipython",
    "version": 3
   },
   "file_extension": ".py",
   "mimetype": "text/x-python",
   "name": "python",
   "nbconvert_exporter": "python",
   "pygments_lexer": "ipython3",
   "version": "3.11.6"
  },
  "orig_nbformat": 4
 },
 "nbformat": 4,
 "nbformat_minor": 2
}
