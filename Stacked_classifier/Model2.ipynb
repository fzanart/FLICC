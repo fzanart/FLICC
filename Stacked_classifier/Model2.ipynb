{
 "cells": [
  {
   "cell_type": "code",
   "execution_count": 1,
   "metadata": {},
   "outputs": [],
   "source": [
    "import os\n",
    "import sys\n",
    "import gc\n",
    "# assuming data, models, engine in flicc directory:\n",
    "flicc_path = os.path.join(os.path.dirname(os.getcwd()), '')\n",
    "sys.path.append(flicc_path)\n",
    "import torch\n",
    "from data import ClimateDataset\n",
    "from models import ClassificationModel\n",
    "from engine import Engine"
   ]
  },
  {
   "cell_type": "code",
   "execution_count": 2,
   "metadata": {},
   "outputs": [],
   "source": [
    "model_checkpoint='bert-base-uncased'"
   ]
  },
  {
   "cell_type": "code",
   "execution_count": 3,
   "metadata": {},
   "outputs": [
    {
     "data": {
      "application/vnd.jupyter.widget-view+json": {
       "model_id": "317055318d4346a492548ac5848d0193",
       "version_major": 2,
       "version_minor": 0
      },
      "text/plain": [
       "Filter:   0%|          | 0/1796 [00:00<?, ? examples/s]"
      ]
     },
     "metadata": {},
     "output_type": "display_data"
    },
    {
     "data": {
      "application/vnd.jupyter.widget-view+json": {
       "model_id": "89e6f9cce2d043c5a05f1a6afbd00b43",
       "version_major": 2,
       "version_minor": 0
      },
      "text/plain": [
       "Filter:   0%|          | 0/256 [00:00<?, ? examples/s]"
      ]
     },
     "metadata": {},
     "output_type": "display_data"
    },
    {
     "data": {
      "application/vnd.jupyter.widget-view+json": {
       "model_id": "0f002db1e62348899d53956df4f41952",
       "version_major": 2,
       "version_minor": 0
      },
      "text/plain": [
       "Filter:   0%|          | 0/457 [00:00<?, ? examples/s]"
      ]
     },
     "metadata": {},
     "output_type": "display_data"
    },
    {
     "data": {
      "application/vnd.jupyter.widget-view+json": {
       "model_id": "9ebd8a152a7f40c5999d7ccbf170cb3a",
       "version_major": 2,
       "version_minor": 0
      },
      "text/plain": [
       "Map:   0%|          | 0/472 [00:00<?, ? examples/s]"
      ]
     },
     "metadata": {},
     "output_type": "display_data"
    },
    {
     "data": {
      "application/vnd.jupyter.widget-view+json": {
       "model_id": "c906d2485d204e5ead11ec76600817c5",
       "version_major": 2,
       "version_minor": 0
      },
      "text/plain": [
       "Map:   0%|          | 0/67 [00:00<?, ? examples/s]"
      ]
     },
     "metadata": {},
     "output_type": "display_data"
    },
    {
     "data": {
      "application/vnd.jupyter.widget-view+json": {
       "model_id": "1f6767c27f5149d28e2b44d156c7860d",
       "version_major": 2,
       "version_minor": 0
      },
      "text/plain": [
       "Map:   0%|          | 0/119 [00:00<?, ? examples/s]"
      ]
     },
     "metadata": {},
     "output_type": "display_data"
    },
    {
     "name": "stderr",
     "output_type": "stream",
     "text": [
      "Some weights of BertForSequenceClassification were not initialized from the model checkpoint at bert-base-uncased and are newly initialized: ['classifier.bias', 'classifier.weight']\n",
      "You should probably TRAIN this model on a down-stream task to be able to use it for predictions and inference.\n",
      "You're using a BertTokenizerFast tokenizer. Please note that with a fast tokenizer, using the `__call__` method is faster than using a method to encode the text followed by a call to the `pad` method to get a padded encoding.\n"
     ]
    },
    {
     "name": "stdout",
     "output_type": "stream",
     "text": [
      "1 / 30: Train Loss:\t0.1382\tVal Loss:\t1.0311\tAccuracy:\t0.5462\tF1:\t0.5276\n",
      "2 / 30: Train Loss:\t0.0853\tVal Loss:\t0.8664\tAccuracy:\t0.7563\tF1:\t0.7514\n",
      "3 / 30: Train Loss:\t0.0386\tVal Loss:\t0.7712\tAccuracy:\t0.7815\tF1:\t0.7691\n",
      "4 / 30: Train Loss:\t0.0236\tVal Loss:\t0.7735\tAccuracy:\t0.7395\tF1:\t0.7332\n",
      "5 / 30: Train Loss:\t0.0301\tVal Loss:\t0.7139\tAccuracy:\t0.7815\tF1:\t0.7808\n",
      "6 / 30: Train Loss:\t0.0243\tVal Loss:\t0.7643\tAccuracy:\t0.7143\tF1:\t0.7019\n",
      "7 / 30: Train Loss:\t0.0098\tVal Loss:\t0.7103\tAccuracy:\t0.8067\tF1:\t0.8061\n",
      "8 / 30: Train Loss:\t0.0039\tVal Loss:\t0.7442\tAccuracy:\t0.6975\tF1:\t0.6839\n",
      "9 / 30: Train Loss:\t0.0033\tVal Loss:\t0.6406\tAccuracy:\t0.8151\tF1:\t0.8154\n",
      "10 / 30: Train Loss:\t0.0008\tVal Loss:\t0.6534\tAccuracy:\t0.7395\tF1:\t0.7346\n",
      "11 / 30: Train Loss:\t0.0003\tVal Loss:\t0.6265\tAccuracy:\t0.7899\tF1:\t0.7909\n",
      "12 / 30: Train Loss:\t0.0002\tVal Loss:\t0.6178\tAccuracy:\t0.7983\tF1:\t0.7988\n",
      "No improvement for 3 epochs. Stopping early.\n",
      "best (higgest macro f1-score) val results:\n",
      "                    precision    recall  f1-score   support\n",
      "\n",
      " misrepresentation       0.77      0.79      0.78        38\n",
      "oversimplification       1.00      0.72      0.84        36\n",
      "slothful induction       0.76      0.91      0.83        45\n",
      "\n",
      "          accuracy                           0.82       119\n",
      "         macro avg       0.84      0.81      0.82       119\n",
      "      weighted avg       0.84      0.82      0.82       119\n",
      "\n",
      "test results:\n",
      "                    precision    recall  f1-score   support\n",
      "\n",
      " misrepresentation       0.80      0.91      0.85        22\n",
      "oversimplification       0.80      0.80      0.80        20\n",
      "slothful induction       0.86      0.76      0.81        25\n",
      "\n",
      "          accuracy                           0.82        67\n",
      "         macro avg       0.82      0.82      0.82        67\n",
      "      weighted avg       0.82      0.82      0.82        67\n",
      "\n",
      "test_acc: 0.82, test_f1: 0.82, eval_acc: 0.82, eval_f1: 0.82\n"
     ]
    }
   ],
   "source": [
    "g = 8\n",
    "lr = 5.0e-5\n",
    "wd = 0.0\n",
    "\n",
    "data = ClimateDataset(model_to_train=2,model_checkpoint=model_checkpoint,dataset_url=flicc_path,batch_size=32)\n",
    "data.setup_dataloaders()\n",
    "model = ClassificationModel(model_checkpoint=data.model_checkpoint,num_labels=data.num_labels)\n",
    "trainer = Engine(epochs=30,labels=data.labels)\n",
    "trainer.model = model.model\n",
    "trainer.dataset_encoded = data.dataset_encoded\n",
    "test_acc, test_f1, eval_acc, eval_f1 = trainer.run(lr=lr,\n",
    "                                                    wd=wd,\n",
    "                                                    train_dataloader=data.train_dataloader,\n",
    "                                                    eval_dataloader=data.eval_dataloader,\n",
    "                                                    test_dataloader=data.test_dataloader,\n",
    "                                                    focalloss=True,\n",
    "                                                    gamma=g,\n",
    "                                                    early_stop=3)\n",
    "\n",
    "print(f'test_acc: {test_acc:.2f}, test_f1: {test_f1:.2f}, eval_acc: {eval_acc:.2f}, eval_f1: {eval_f1:.2f}')\n",
    "trainer.save_best_model()"
   ]
  },
  {
   "cell_type": "code",
   "execution_count": null,
   "metadata": {},
   "outputs": [],
   "source": []
  }
 ],
 "metadata": {
  "kernelspec": {
   "display_name": "base",
   "language": "python",
   "name": "python3"
  },
  "language_info": {
   "codemirror_mode": {
    "name": "ipython",
    "version": 3
   },
   "file_extension": ".py",
   "mimetype": "text/x-python",
   "name": "python",
   "nbconvert_exporter": "python",
   "pygments_lexer": "ipython3",
   "version": "3.11.5"
  }
 },
 "nbformat": 4,
 "nbformat_minor": 2
}
