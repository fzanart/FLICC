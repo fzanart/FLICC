{
 "cells": [
  {
   "cell_type": "code",
   "execution_count": 1,
   "metadata": {},
   "outputs": [],
   "source": [
    "import os\n",
    "import sys\n",
    "import gc\n",
    "# assuming data, models, engine in flicc directory:\n",
    "flicc_path = os.path.join(os.path.dirname(os.getcwd()), '')\n",
    "sys.path.append(flicc_path)\n",
    "import torch\n",
    "from data import ClimateDataset\n",
    "from models import ClassificationModel\n",
    "from engine import Engine"
   ]
  },
  {
   "cell_type": "code",
   "execution_count": 2,
   "metadata": {},
   "outputs": [],
   "source": [
    "model_checkpoint='roberta-large'"
   ]
  },
  {
   "cell_type": "code",
   "execution_count": 3,
   "metadata": {},
   "outputs": [
    {
     "data": {
      "application/vnd.jupyter.widget-view+json": {
       "model_id": "ced14ebbd82d4597b4fed3be113e6bc2",
       "version_major": 2,
       "version_minor": 0
      },
      "text/plain": [
       "Filter:   0%|          | 0/1796 [00:00<?, ? examples/s]"
      ]
     },
     "metadata": {},
     "output_type": "display_data"
    },
    {
     "data": {
      "application/vnd.jupyter.widget-view+json": {
       "model_id": "ec123973dc3f4fc8a5c06b8c9e440aa8",
       "version_major": 2,
       "version_minor": 0
      },
      "text/plain": [
       "Filter:   0%|          | 0/256 [00:00<?, ? examples/s]"
      ]
     },
     "metadata": {},
     "output_type": "display_data"
    },
    {
     "data": {
      "application/vnd.jupyter.widget-view+json": {
       "model_id": "e8abdcdfe0984fb88bb042a14db43b74",
       "version_major": 2,
       "version_minor": 0
      },
      "text/plain": [
       "Filter:   0%|          | 0/457 [00:00<?, ? examples/s]"
      ]
     },
     "metadata": {},
     "output_type": "display_data"
    },
    {
     "data": {
      "application/vnd.jupyter.widget-view+json": {
       "model_id": "d3882ec8c89c4e9c9183b417c99a7de1",
       "version_major": 2,
       "version_minor": 0
      },
      "text/plain": [
       "Map:   0%|          | 0/1324 [00:00<?, ? examples/s]"
      ]
     },
     "metadata": {},
     "output_type": "display_data"
    },
    {
     "data": {
      "application/vnd.jupyter.widget-view+json": {
       "model_id": "da16a904e0ee4f5b89f4a1611b3b565d",
       "version_major": 2,
       "version_minor": 0
      },
      "text/plain": [
       "Map:   0%|          | 0/189 [00:00<?, ? examples/s]"
      ]
     },
     "metadata": {},
     "output_type": "display_data"
    },
    {
     "data": {
      "application/vnd.jupyter.widget-view+json": {
       "model_id": "e9e12550b2254f168c83e8962babffc5",
       "version_major": 2,
       "version_minor": 0
      },
      "text/plain": [
       "Map:   0%|          | 0/338 [00:00<?, ? examples/s]"
      ]
     },
     "metadata": {},
     "output_type": "display_data"
    },
    {
     "name": "stderr",
     "output_type": "stream",
     "text": [
      "Some weights of RobertaForSequenceClassification were not initialized from the model checkpoint at roberta-large and are newly initialized: ['classifier.out_proj.bias', 'classifier.dense.bias', 'classifier.out_proj.weight', 'classifier.dense.weight']\n",
      "You should probably TRAIN this model on a down-stream task to be able to use it for predictions and inference.\n",
      "You're using a RobertaTokenizerFast tokenizer. Please note that with a fast tokenizer, using the `__call__` method is faster than using a method to encode the text followed by a call to the `pad` method to get a padded encoding.\n"
     ]
    },
    {
     "name": "stdout",
     "output_type": "stream",
     "text": [
      "1 / 30: Train Loss:\t0.9928\tVal Loss:\t1.5466\tAccuracy:\t0.4822\tF1:\t0.3212\n",
      "2 / 30: Train Loss:\t0.6064\tVal Loss:\t0.9496\tAccuracy:\t0.6834\tF1:\t0.5126\n",
      "3 / 30: Train Loss:\t0.3717\tVal Loss:\t0.8316\tAccuracy:\t0.7337\tF1:\t0.6815\n",
      "4 / 30: Train Loss:\t0.2601\tVal Loss:\t0.7995\tAccuracy:\t0.7485\tF1:\t0.7163\n",
      "5 / 30: Train Loss:\t0.1640\tVal Loss:\t0.8053\tAccuracy:\t0.7633\tF1:\t0.7146\n",
      "6 / 30: Train Loss:\t0.1059\tVal Loss:\t0.7337\tAccuracy:\t0.8018\tF1:\t0.7795\n",
      "7 / 30: Train Loss:\t0.0702\tVal Loss:\t0.8114\tAccuracy:\t0.7840\tF1:\t0.7649\n",
      "8 / 30: Train Loss:\t0.0484\tVal Loss:\t0.8334\tAccuracy:\t0.7959\tF1:\t0.7796\n",
      "9 / 30: Train Loss:\t0.0428\tVal Loss:\t0.9136\tAccuracy:\t0.7544\tF1:\t0.7357\n",
      "10 / 30: Train Loss:\t0.0259\tVal Loss:\t0.8173\tAccuracy:\t0.7929\tF1:\t0.7817\n",
      "11 / 30: Train Loss:\t0.0115\tVal Loss:\t0.8286\tAccuracy:\t0.7899\tF1:\t0.7743\n",
      "12 / 30: Train Loss:\t0.0130\tVal Loss:\t0.8835\tAccuracy:\t0.7899\tF1:\t0.7700\n",
      "13 / 30: Train Loss:\t0.0079\tVal Loss:\t0.9952\tAccuracy:\t0.7781\tF1:\t0.7776\n",
      "No improvement for 3 epochs. Stopping early.\n",
      "best (higgest macro f1-score) val results:\n",
      "                         precision    recall  f1-score   support\n",
      "\n",
      "             ad hominem       0.84      0.69      0.75        67\n",
      "               anecdote       0.93      0.86      0.89        43\n",
      "         cherry picking       0.79      0.82      0.81        56\n",
      "      conspiracy theory       0.73      0.92      0.82        39\n",
      "           fake experts       0.83      0.83      0.83        12\n",
      "           false choice       0.92      0.92      0.92        13\n",
      "      false equivalence       0.50      0.43      0.46        14\n",
      "impossible expectations       0.72      0.78      0.75        37\n",
      "           single cause       0.78      0.81      0.79        57\n",
      "\n",
      "               accuracy                           0.79       338\n",
      "              macro avg       0.78      0.79      0.78       338\n",
      "           weighted avg       0.80      0.79      0.79       338\n",
      "\n",
      "test results:\n",
      "                         precision    recall  f1-score   support\n",
      "\n",
      "             ad hominem       0.88      0.76      0.81        37\n",
      "               anecdote       0.91      0.88      0.89        24\n",
      "         cherry picking       0.75      0.68      0.71        31\n",
      "      conspiracy theory       0.74      0.91      0.82        22\n",
      "           fake experts       1.00      0.86      0.92         7\n",
      "           false choice       0.50      0.71      0.59         7\n",
      "      false equivalence       0.43      0.38      0.40         8\n",
      "impossible expectations       0.71      0.95      0.82        21\n",
      "           single cause       0.86      0.75      0.80        32\n",
      "\n",
      "               accuracy                           0.78       189\n",
      "              macro avg       0.75      0.76      0.75       189\n",
      "           weighted avg       0.79      0.78      0.78       189\n",
      "\n",
      "test_acc: 0.78, test_f1: 0.75, eval_acc: 0.79, eval_f1: 0.78\n"
     ]
    }
   ],
   "source": [
    "lr = 1.0e-5\n",
    "wd = 0.0\n",
    "\n",
    "data = ClimateDataset(model_to_train=3,model_checkpoint=model_checkpoint,dataset_url=flicc_path,batch_size=16)\n",
    "data.setup_dataloaders()\n",
    "model = ClassificationModel(model_checkpoint=data.model_checkpoint,num_labels=data.num_labels)\n",
    "trainer = Engine(epochs=30,labels=data.labels)\n",
    "trainer.model = model.model\n",
    "trainer.dataset_encoded = data.dataset_encoded\n",
    "test_acc, test_f1, eval_acc, eval_f1 = trainer.run(lr=lr,\n",
    "                                                    wd=wd,\n",
    "                                                    train_dataloader=data.train_dataloader,\n",
    "                                                    eval_dataloader=data.eval_dataloader,\n",
    "                                                    test_dataloader=data.test_dataloader,\n",
    "                                                    accumulation_steps=2,\n",
    "                                                    early_stop=3)\n",
    "\n",
    "print(f'test_acc: {test_acc:.2f}, test_f1: {test_f1:.2f}, eval_acc: {eval_acc:.2f}, eval_f1: {eval_f1:.2f}')\n",
    "trainer.save_best_model()"
   ]
  },
  {
   "cell_type": "code",
   "execution_count": null,
   "metadata": {},
   "outputs": [],
   "source": []
  }
 ],
 "metadata": {
  "kernelspec": {
   "display_name": "base",
   "language": "python",
   "name": "python3"
  },
  "language_info": {
   "codemirror_mode": {
    "name": "ipython",
    "version": 3
   },
   "file_extension": ".py",
   "mimetype": "text/x-python",
   "name": "python",
   "nbconvert_exporter": "python",
   "pygments_lexer": "ipython3",
   "version": "3.11.5"
  }
 },
 "nbformat": 4,
 "nbformat_minor": 2
}
