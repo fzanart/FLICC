{
 "cells": [
  {
   "cell_type": "code",
   "execution_count": 1,
   "metadata": {},
   "outputs": [],
   "source": [
    "import os\n",
    "import sys\n",
    "import gc\n",
    "# assuming data, models, engine in flicc directory:\n",
    "flicc_path = os.path.join(os.path.dirname(os.getcwd()), '')\n",
    "sys.path.append(flicc_path)\n",
    "import torch\n",
    "from data import ClimateDataset\n",
    "from models import ClassificationModel\n",
    "from engine import Engine"
   ]
  },
  {
   "cell_type": "code",
   "execution_count": 2,
   "metadata": {},
   "outputs": [],
   "source": [
    "model_checkpoint='bert-base-uncased'"
   ]
  },
  {
   "cell_type": "code",
   "execution_count": 3,
   "metadata": {},
   "outputs": [
    {
     "name": "stderr",
     "output_type": "stream",
     "text": [
      "Some weights of BertForSequenceClassification were not initialized from the model checkpoint at bert-base-uncased and are newly initialized: ['classifier.weight', 'classifier.bias']\n",
      "You should probably TRAIN this model on a down-stream task to be able to use it for predictions and inference.\n",
      "You're using a BertTokenizerFast tokenizer. Please note that with a fast tokenizer, using the `__call__` method is faster than using a method to encode the text followed by a call to the `pad` method to get a padded encoding.\n"
     ]
    },
    {
     "name": "stdout",
     "output_type": "stream",
     "text": [
      "1 / 30: Train Loss:\t0.0853\tVal Loss:\t0.6082\tAccuracy:\t0.7484\tF1:\t0.7161\n",
      "2 / 30: Train Loss:\t0.0600\tVal Loss:\t0.4755\tAccuracy:\t0.8359\tF1:\t0.7608\n",
      "3 / 30: Train Loss:\t0.0449\tVal Loss:\t0.4224\tAccuracy:\t0.8206\tF1:\t0.7645\n",
      "4 / 30: Train Loss:\t0.0340\tVal Loss:\t0.5048\tAccuracy:\t0.8578\tF1:\t0.8023\n",
      "5 / 30: Train Loss:\t0.0190\tVal Loss:\t0.5972\tAccuracy:\t0.6433\tF1:\t0.6309\n",
      "6 / 30: Train Loss:\t0.0140\tVal Loss:\t0.4132\tAccuracy:\t0.8249\tF1:\t0.7740\n",
      "7 / 30: Train Loss:\t0.0138\tVal Loss:\t0.4277\tAccuracy:\t0.8118\tF1:\t0.7324\n",
      "No improvement for 3 epochs. Stopping early.\n",
      "best (higgest macro f1-score) val results:\n",
      "              precision    recall  f1-score   support\n",
      "\n",
      "       bknow       0.78      0.63      0.70       119\n",
      "      struct       0.88      0.94      0.91       338\n",
      "\n",
      "    accuracy                           0.86       457\n",
      "   macro avg       0.83      0.78      0.80       457\n",
      "weighted avg       0.85      0.86      0.85       457\n",
      "\n",
      "test results:\n",
      "              precision    recall  f1-score   support\n",
      "\n",
      "       bknow       0.77      0.66      0.71        67\n",
      "      struct       0.88      0.93      0.91       189\n",
      "\n",
      "    accuracy                           0.86       256\n",
      "   macro avg       0.83      0.79      0.81       256\n",
      "weighted avg       0.85      0.86      0.86       256\n",
      "\n",
      "test_acc: 0.86, test_f1: 0.81, eval_acc: 0.86, eval_f1: 0.80\n"
     ]
    }
   ],
   "source": [
    "g = 4\n",
    "lr = 1.0e-4\n",
    "wd = 0.1\n",
    "\n",
    "data = ClimateDataset(model_to_train=1,model_checkpoint=model_checkpoint,dataset_url=flicc_path,batch_size=32)\n",
    "data.setup_dataloaders()\n",
    "model = ClassificationModel(model_checkpoint=data.model_checkpoint,num_labels=data.num_labels)\n",
    "trainer = Engine(epochs=30,labels=data.labels)\n",
    "trainer.model = model.model\n",
    "trainer.dataset_encoded = data.dataset_encoded\n",
    "test_acc, test_f1, eval_acc, eval_f1 = trainer.run(lr=lr,\n",
    "                                                    wd=wd,\n",
    "                                                    train_dataloader=data.train_dataloader,\n",
    "                                                    eval_dataloader=data.eval_dataloader,\n",
    "                                                    test_dataloader=data.test_dataloader,\n",
    "                                                    focalloss=True,\n",
    "                                                    gamma=g,\n",
    "                                                    early_stop=3)\n",
    "\n",
    "print(f'test_acc: {test_acc:.2f}, test_f1: {test_f1:.2f}, eval_acc: {eval_acc:.2f}, eval_f1: {eval_f1:.2f}')\n",
    "trainer.save_best_model()"
   ]
  },
  {
   "cell_type": "code",
   "execution_count": null,
   "metadata": {},
   "outputs": [],
   "source": []
  }
 ],
 "metadata": {
  "kernelspec": {
   "display_name": "base",
   "language": "python",
   "name": "python3"
  },
  "language_info": {
   "codemirror_mode": {
    "name": "ipython",
    "version": 3
   },
   "file_extension": ".py",
   "mimetype": "text/x-python",
   "name": "python",
   "nbconvert_exporter": "python",
   "pygments_lexer": "ipython3",
   "version": "3.11.5"
  }
 },
 "nbformat": 4,
 "nbformat_minor": 2
}
