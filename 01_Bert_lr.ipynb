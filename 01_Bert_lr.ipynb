{
 "cells": [
  {
   "cell_type": "code",
   "execution_count": 1,
   "metadata": {},
   "outputs": [],
   "source": [
    "import torch\n",
    "from data import ClimateDataset\n",
    "from models import ClassificationModel\n",
    "from engine import Engine"
   ]
  },
  {
   "cell_type": "code",
   "execution_count": 2,
   "metadata": {},
   "outputs": [],
   "source": [
    "model_checkpoint='bert-base-uncased'"
   ]
  },
  {
   "cell_type": "code",
   "execution_count": 3,
   "metadata": {},
   "outputs": [],
   "source": [
    "results = {'acc':[],\n",
    "           'f1':[],\n",
    "           'lr':[]}"
   ]
  },
  {
   "cell_type": "code",
   "execution_count": 4,
   "metadata": {},
   "outputs": [
    {
     "name": "stdout",
     "output_type": "stream",
     "text": [
      "Grid search bert-base-uncased, learning rate 0.001\n"
     ]
    },
    {
     "name": "stderr",
     "output_type": "stream",
     "text": [
      "Some weights of BertForSequenceClassification were not initialized from the model checkpoint at bert-base-uncased and are newly initialized: ['classifier.bias', 'classifier.weight']\n",
      "You should probably TRAIN this model on a down-stream task to be able to use it for predictions and inference.\n",
      "You're using a BertTokenizerFast tokenizer. Please note that with a fast tokenizer, using the `__call__` method is faster than using a method to encode the text followed by a call to the `pad` method to get a padded encoding.\n"
     ]
    },
    {
     "name": "stdout",
     "output_type": "stream",
     "text": [
      "1 / 10: Train Loss:\t0.6391\tVal Loss:\t0.5851\tAccuracy:\t0.7396\tF1:\t0.4252\n",
      "2 / 10: Train Loss:\t0.5874\tVal Loss:\t0.6111\tAccuracy:\t0.7396\tF1:\t0.4252\n",
      "3 / 10: Train Loss:\t0.5885\tVal Loss:\t0.6109\tAccuracy:\t0.7396\tF1:\t0.4252\n",
      "4 / 10: Train Loss:\t0.5818\tVal Loss:\t0.6104\tAccuracy:\t0.7396\tF1:\t0.4252\n",
      "5 / 10: Train Loss:\t0.5891\tVal Loss:\t0.6086\tAccuracy:\t0.7396\tF1:\t0.4252\n",
      "6 / 10: Train Loss:\t0.5913\tVal Loss:\t0.6115\tAccuracy:\t0.7396\tF1:\t0.4252\n",
      "7 / 10: Train Loss:\t0.5922\tVal Loss:\t0.6012\tAccuracy:\t0.7396\tF1:\t0.4252\n",
      "8 / 10: Train Loss:\t0.5876\tVal Loss:\t0.6187\tAccuracy:\t0.7396\tF1:\t0.4252\n",
      "9 / 10: Train Loss:\t0.5927\tVal Loss:\t0.6188\tAccuracy:\t0.7396\tF1:\t0.4252\n",
      "10 / 10: Train Loss:\t0.5881\tVal Loss:\t0.6026\tAccuracy:\t0.7396\tF1:\t0.4252\n",
      "best (higgest macro f1-score) val results:\n",
      "              precision    recall  f1-score   support\n",
      "\n",
      "       bknow       0.00      0.00      0.00       119\n",
      "      struct       0.74      1.00      0.85       338\n",
      "\n",
      "    accuracy                           0.74       457\n",
      "   macro avg       0.37      0.50      0.43       457\n",
      "weighted avg       0.55      0.74      0.63       457\n",
      "\n",
      "test results:\n",
      "              precision    recall  f1-score   support\n",
      "\n",
      "       bknow       0.00      0.00      0.00        67\n",
      "      struct       0.74      1.00      0.85       189\n",
      "\n",
      "    accuracy                           0.74       256\n",
      "   macro avg       0.37      0.50      0.42       256\n",
      "weighted avg       0.55      0.74      0.63       256\n",
      "\n",
      "### ### ### ### ### ### ### ### ### ### \n",
      "{'acc': [0.73828125], 'f1': [0.4247191011235955], 'lr': [0.001]}\n",
      "### ### ### ### ### ### ### ### ### ### \n",
      "Grid search bert-base-uncased, learning rate 0.0001\n"
     ]
    },
    {
     "name": "stderr",
     "output_type": "stream",
     "text": [
      "Some weights of BertForSequenceClassification were not initialized from the model checkpoint at bert-base-uncased and are newly initialized: ['classifier.bias', 'classifier.weight']\n",
      "You should probably TRAIN this model on a down-stream task to be able to use it for predictions and inference.\n",
      "You're using a BertTokenizerFast tokenizer. Please note that with a fast tokenizer, using the `__call__` method is faster than using a method to encode the text followed by a call to the `pad` method to get a padded encoding.\n"
     ]
    },
    {
     "name": "stdout",
     "output_type": "stream",
     "text": [
      "1 / 10: Train Loss:\t0.5310\tVal Loss:\t0.4833\tAccuracy:\t0.7681\tF1:\t0.7260\n",
      "2 / 10: Train Loss:\t0.3462\tVal Loss:\t0.4192\tAccuracy:\t0.8381\tF1:\t0.7886\n",
      "3 / 10: Train Loss:\t0.2382\tVal Loss:\t0.4344\tAccuracy:\t0.8249\tF1:\t0.6969\n",
      "4 / 10: Train Loss:\t0.1340\tVal Loss:\t0.4562\tAccuracy:\t0.8381\tF1:\t0.7396\n",
      "5 / 10: Train Loss:\t0.0678\tVal Loss:\t1.0935\tAccuracy:\t0.6718\tF1:\t0.6576\n",
      "6 / 10: Train Loss:\t0.1009\tVal Loss:\t0.9745\tAccuracy:\t0.6521\tF1:\t0.6416\n",
      "7 / 10: Train Loss:\t0.0714\tVal Loss:\t0.6452\tAccuracy:\t0.8228\tF1:\t0.7598\n",
      "8 / 10: Train Loss:\t0.0397\tVal Loss:\t0.7195\tAccuracy:\t0.8359\tF1:\t0.7734\n",
      "9 / 10: Train Loss:\t0.0175\tVal Loss:\t0.8150\tAccuracy:\t0.8359\tF1:\t0.7719\n",
      "10 / 10: Train Loss:\t0.0104\tVal Loss:\t0.8830\tAccuracy:\t0.8271\tF1:\t0.7698\n",
      "best (higgest macro f1-score) val results:\n",
      "              precision    recall  f1-score   support\n",
      "\n",
      "       bknow       0.68      0.63      0.66       119\n",
      "      struct       0.87      0.90      0.88       338\n",
      "\n",
      "    accuracy                           0.83       457\n",
      "   macro avg       0.78      0.76      0.77       457\n",
      "weighted avg       0.82      0.83      0.82       457\n",
      "\n",
      "test results:\n",
      "              precision    recall  f1-score   support\n",
      "\n",
      "       bknow       0.73      0.64      0.68        67\n",
      "      struct       0.88      0.92      0.90       189\n",
      "\n",
      "    accuracy                           0.84       256\n",
      "   macro avg       0.80      0.78      0.79       256\n",
      "weighted avg       0.84      0.84      0.84       256\n",
      "\n",
      "### ### ### ### ### ### ### ### ### ### \n",
      "{'acc': [0.73828125, 0.84375], 'f1': [0.4247191011235955, 0.7894563697672505], 'lr': [0.001, 0.0001]}\n",
      "### ### ### ### ### ### ### ### ### ### \n",
      "Grid search bert-base-uncased, learning rate 1e-05\n"
     ]
    },
    {
     "name": "stderr",
     "output_type": "stream",
     "text": [
      "Some weights of BertForSequenceClassification were not initialized from the model checkpoint at bert-base-uncased and are newly initialized: ['classifier.bias', 'classifier.weight']\n",
      "You should probably TRAIN this model on a down-stream task to be able to use it for predictions and inference.\n",
      "You're using a BertTokenizerFast tokenizer. Please note that with a fast tokenizer, using the `__call__` method is faster than using a method to encode the text followed by a call to the `pad` method to get a padded encoding.\n"
     ]
    },
    {
     "name": "stdout",
     "output_type": "stream",
     "text": [
      "1 / 10: Train Loss:\t0.5649\tVal Loss:\t0.5089\tAccuracy:\t0.7396\tF1:\t0.4252\n",
      "2 / 10: Train Loss:\t0.4640\tVal Loss:\t0.4322\tAccuracy:\t0.8074\tF1:\t0.7398\n",
      "3 / 10: Train Loss:\t0.3439\tVal Loss:\t0.3912\tAccuracy:\t0.8162\tF1:\t0.7627\n",
      "4 / 10: Train Loss:\t0.2187\tVal Loss:\t0.3851\tAccuracy:\t0.8118\tF1:\t0.7570\n",
      "5 / 10: Train Loss:\t0.1078\tVal Loss:\t0.6649\tAccuracy:\t0.7112\tF1:\t0.6909\n",
      "6 / 10: Train Loss:\t0.0748\tVal Loss:\t0.8607\tAccuracy:\t0.7068\tF1:\t0.6884\n",
      "7 / 10: Train Loss:\t0.0690\tVal Loss:\t0.8250\tAccuracy:\t0.7287\tF1:\t0.7067\n",
      "8 / 10: Train Loss:\t0.1299\tVal Loss:\t0.5692\tAccuracy:\t0.8446\tF1:\t0.7491\n",
      "9 / 10: Train Loss:\t0.0700\tVal Loss:\t0.5492\tAccuracy:\t0.8446\tF1:\t0.7943\n",
      "10 / 10: Train Loss:\t0.0328\tVal Loss:\t0.6292\tAccuracy:\t0.8096\tF1:\t0.7718\n",
      "best (higgest macro f1-score) val results:\n",
      "              precision    recall  f1-score   support\n",
      "\n",
      "       bknow       0.61      0.77      0.68       119\n",
      "      struct       0.91      0.82      0.86       338\n",
      "\n",
      "    accuracy                           0.81       457\n",
      "   macro avg       0.76      0.80      0.77       457\n",
      "weighted avg       0.83      0.81      0.82       457\n",
      "\n",
      "test results:\n",
      "              precision    recall  f1-score   support\n",
      "\n",
      "       bknow       0.56      0.81      0.66        67\n",
      "      struct       0.92      0.78      0.84       189\n",
      "\n",
      "    accuracy                           0.79       256\n",
      "   macro avg       0.74      0.79      0.75       256\n",
      "weighted avg       0.83      0.79      0.80       256\n",
      "\n",
      "### ### ### ### ### ### ### ### ### ### \n",
      "{'acc': [0.73828125, 0.84375, 0.78515625], 'f1': [0.4247191011235955, 0.7894563697672505, 0.7524917819536976], 'lr': [0.001, 0.0001, 1e-05]}\n",
      "### ### ### ### ### ### ### ### ### ### \n"
     ]
    }
   ],
   "source": [
    "learning_rates = [1.0e-3, 1.0e-4, 1.0e-5]\n",
    "for lr in learning_rates:\n",
    "    print(f'Grid search {model_checkpoint}, learning rate {lr}')\n",
    "    data = ClimateDataset(model_to_train=1,model_checkpoint=model_checkpoint,batch_size=32)\n",
    "    data.setup_dataloaders()\n",
    "    model = ClassificationModel(model_checkpoint=data.model_checkpoint,num_labels=data.num_labels)\n",
    "    trainer = Engine(epochs=10,labels=data.labels)\n",
    "    trainer.model = model.model\n",
    "    trainer.device = model.device\n",
    "    acc, f1 = trainer.run(lr=lr,wd=0.0,train_dataloader=data.train_dataloader,eval_dataloader=data.eval_dataloader,test_dataloader=data.test_dataloader)\n",
    "    results['acc'].append(acc)\n",
    "    results['f1'].append(f1)\n",
    "    results['lr'].append(lr)\n",
    "    print('### '*10)\n",
    "    print(results)\n",
    "    print('### '*10)\n",
    "    with torch.no_grad():\n",
    "        torch.cuda.empty_cache()\n",
    "    del data, model, trainer, acc, f1"
   ]
  },
  {
   "cell_type": "code",
   "execution_count": 6,
   "metadata": {},
   "outputs": [],
   "source": [
    "import matplotlib.pyplot as plt\n",
    "import seaborn as sns\n",
    "import pandas as pd"
   ]
  },
  {
   "cell_type": "code",
   "execution_count": 51,
   "metadata": {},
   "outputs": [
    {
     "data": {
      "image/png": "[encoded data removed]",
      "text/plain": [
       "<Figure size 640x480 with 1 Axes>"
      ]
     },
     "metadata": {},
     "output_type": "display_data"
    }
   ],
   "source": [
    "def plot_grid_search(df, title):\n",
    "\n",
    "    # Create the plot\n",
    "    ax = df.plot(x='lr', y=['acc', 'f1'], marker='o', linestyle='-')\n",
    "\n",
    "    # Set y-axis range between 0 and 1\n",
    "    plt.ylim(0, 1)\n",
    "\n",
    "    # Annotate points with F1 scores\n",
    "    for i, row in df.iterrows(): \n",
    "        ax.annotate(f'{row[\"f1\"]:.2f}', (row[\"lr\"], row[\"f1\"]), textcoords='offset points', xytext=(0, -10), ha='center')\n",
    "\n",
    "    # Annotate points with Acc scores\n",
    "    for i, row in df.iterrows():\n",
    "        ax.annotate(f'{row[\"acc\"]:.2f}', (row[\"lr\"], row[\"acc\"]), textcoords='offset points', xytext=(0, 10), ha='center')\n",
    "    \n",
    "    # \n",
    "    plt.xticks(df['lr'], [f'{val:.0e}' for val in df['lr']], ha='center')\n",
    "    plt.xscale('log')\n",
    "    plt.minorticks_off()\n",
    "\n",
    "    plt.title(title)\n",
    "    plt.xlabel('lr')\n",
    "    plt.ylabel('Score')\n",
    "    plt.show()\n",
    "\n",
    "plot_grid_search(pd.DataFrame(results), f'Learning rates {model_checkpoint}')"
   ]
  }
 ],
 "metadata": {
  "kernelspec": {
   "display_name": "Python 3",
   "language": "python",
   "name": "python3"
  },
  "language_info": {
   "codemirror_mode": {
    "name": "ipython",
    "version": 3
   },
   "file_extension": ".py",
   "mimetype": "text/x-python",
   "name": "python",
   "nbconvert_exporter": "python",
   "pygments_lexer": "ipython3",
   "version": "3.11.6"
  },
  "orig_nbformat": 4
 },
 "nbformat": 4,
 "nbformat_minor": 2
}
