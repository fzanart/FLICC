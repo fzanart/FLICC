{
 "cells": [
  {
   "cell_type": "code",
   "execution_count": 1,
   "metadata": {},
   "outputs": [],
   "source": [
    "import torch\n",
    "from data import ClimateDataset\n",
    "from models import ClassificationModel\n",
    "from engine import Engine"
   ]
  },
  {
   "cell_type": "code",
   "execution_count": 2,
   "metadata": {},
   "outputs": [],
   "source": [
    "model_checkpoint='facebook/opt-350m'"
   ]
  },
  {
   "cell_type": "code",
   "execution_count": 3,
   "metadata": {},
   "outputs": [],
   "source": [
    "results = {'acc':[],\n",
    "           'f1':[],\n",
    "           'g':[]}"
   ]
  },
  {
   "cell_type": "code",
   "execution_count": 4,
   "metadata": {},
   "outputs": [
    {
     "name": "stdout",
     "output_type": "stream",
     "text": [
      "Grid search facebook/opt-350m, learning rate 1e-05 focal loss, gamma: 2\n"
     ]
    },
    {
     "name": "stderr",
     "output_type": "stream",
     "text": [
      "Some weights of OPTForSequenceClassification were not initialized from the model checkpoint at facebook/opt-350m and are newly initialized: ['score.weight']\n",
      "You should probably TRAIN this model on a down-stream task to be able to use it for predictions and inference.\n",
      "You're using a GPT2TokenizerFast tokenizer. Please note that with a fast tokenizer, using the `__call__` method is faster than using a method to encode the text followed by a call to the `pad` method to get a padded encoding.\n"
     ]
    },
    {
     "name": "stdout",
     "output_type": "stream",
     "text": [
      "1 / 20: Train Loss:\t3.2594\tVal Loss:\t1.1972\tAccuracy:\t0.4118\tF1:\t0.3560\n",
      "2 / 20: Train Loss:\t1.0250\tVal Loss:\t0.8966\tAccuracy:\t0.6387\tF1:\t0.6042\n",
      "3 / 20: Train Loss:\t0.6893\tVal Loss:\t0.8489\tAccuracy:\t0.5966\tF1:\t0.6003\n",
      "4 / 20: Train Loss:\t0.6259\tVal Loss:\t0.8087\tAccuracy:\t0.6050\tF1:\t0.5953\n",
      "5 / 20: Train Loss:\t0.6395\tVal Loss:\t0.7391\tAccuracy:\t0.7227\tF1:\t0.7216\n",
      "6 / 20: Train Loss:\t0.6453\tVal Loss:\t0.7291\tAccuracy:\t0.6891\tF1:\t0.6710\n",
      "7 / 20: Train Loss:\t0.6790\tVal Loss:\t0.9360\tAccuracy:\t0.5462\tF1:\t0.4964\n",
      "8 / 20: Train Loss:\t0.6223\tVal Loss:\t0.8392\tAccuracy:\t0.6891\tF1:\t0.6926\n",
      "No improvement for 3 epochs. Stopping early.\n",
      "best (higgest macro f1-score) val results:\n",
      "                    precision    recall  f1-score   support\n",
      "\n",
      " misrepresentation       0.82      0.71      0.76        38\n",
      "oversimplification       0.55      0.83      0.66        36\n",
      "slothful induction       0.81      0.56      0.66        45\n",
      "\n",
      "          accuracy                           0.69       119\n",
      "         macro avg       0.72      0.70      0.69       119\n",
      "      weighted avg       0.73      0.69      0.69       119\n",
      "\n",
      "test results:\n",
      "                    precision    recall  f1-score   support\n",
      "\n",
      " misrepresentation       0.68      0.59      0.63        22\n",
      "oversimplification       0.49      0.85      0.62        20\n",
      "slothful induction       0.62      0.32      0.42        25\n",
      "\n",
      "          accuracy                           0.57        67\n",
      "         macro avg       0.60      0.59      0.56        67\n",
      "      weighted avg       0.60      0.57      0.55        67\n",
      "\n",
      "### ### ### ### ### ### ### ### ### ### \n",
      "{'acc': [0.5671641791044776], 'f1': [0.5577935970747268], 'g': [2]}\n",
      "### ### ### ### ### ### ### ### ### ### \n",
      "Grid search facebook/opt-350m, learning rate 1e-05 focal loss, gamma: 4\n"
     ]
    },
    {
     "name": "stderr",
     "output_type": "stream",
     "text": [
      "Some weights of OPTForSequenceClassification were not initialized from the model checkpoint at facebook/opt-350m and are newly initialized: ['score.weight']\n",
      "You should probably TRAIN this model on a down-stream task to be able to use it for predictions and inference.\n",
      "You're using a GPT2TokenizerFast tokenizer. Please note that with a fast tokenizer, using the `__call__` method is faster than using a method to encode the text followed by a call to the `pad` method to get a padded encoding.\n"
     ]
    },
    {
     "name": "stdout",
     "output_type": "stream",
     "text": [
      "1 / 20: Train Loss:\t2.9522\tVal Loss:\t1.1869\tAccuracy:\t0.3697\tF1:\t0.2986\n",
      "2 / 20: Train Loss:\t0.7506\tVal Loss:\t0.9809\tAccuracy:\t0.4286\tF1:\t0.3759\n",
      "3 / 20: Train Loss:\t0.3082\tVal Loss:\t0.8798\tAccuracy:\t0.6218\tF1:\t0.6142\n",
      "4 / 20: Train Loss:\t0.3103\tVal Loss:\t0.8311\tAccuracy:\t0.6723\tF1:\t0.6613\n",
      "5 / 20: Train Loss:\t0.2664\tVal Loss:\t0.7961\tAccuracy:\t0.6639\tF1:\t0.6427\n",
      "6 / 20: Train Loss:\t0.2699\tVal Loss:\t0.7601\tAccuracy:\t0.6639\tF1:\t0.6476\n",
      "7 / 20: Train Loss:\t0.2714\tVal Loss:\t0.7442\tAccuracy:\t0.6807\tF1:\t0.6675\n",
      "8 / 20: Train Loss:\t0.2620\tVal Loss:\t0.7415\tAccuracy:\t0.6807\tF1:\t0.6797\n",
      "9 / 20: Train Loss:\t0.2546\tVal Loss:\t0.7433\tAccuracy:\t0.7059\tF1:\t0.7051\n",
      "10 / 20: Train Loss:\t0.2471\tVal Loss:\t0.9049\tAccuracy:\t0.5966\tF1:\t0.5869\n",
      "11 / 20: Train Loss:\t0.3010\tVal Loss:\t1.2492\tAccuracy:\t0.4454\tF1:\t0.4232\n",
      "12 / 20: Train Loss:\t0.6919\tVal Loss:\t1.0681\tAccuracy:\t0.4874\tF1:\t0.4164\n",
      "No improvement for 3 epochs. Stopping early.\n",
      "best (higgest macro f1-score) val results:\n",
      "                    precision    recall  f1-score   support\n",
      "\n",
      " misrepresentation       0.41      0.74      0.52        38\n",
      "oversimplification       0.59      0.81      0.68        36\n",
      "slothful induction       1.00      0.02      0.04        45\n",
      "\n",
      "          accuracy                           0.49       119\n",
      "         macro avg       0.67      0.52      0.42       119\n",
      "      weighted avg       0.69      0.49      0.39       119\n",
      "\n",
      "test results:\n",
      "                    precision    recall  f1-score   support\n",
      "\n",
      " misrepresentation       0.51      0.91      0.66        22\n",
      "oversimplification       0.59      0.80      0.68        20\n",
      "slothful induction       1.00      0.04      0.08        25\n",
      "\n",
      "          accuracy                           0.55        67\n",
      "         macro avg       0.70      0.58      0.47        67\n",
      "      weighted avg       0.72      0.55      0.45        67\n",
      "\n",
      "### ### ### ### ### ### ### ### ### ### \n",
      "{'acc': [0.5671641791044776, 0.5522388059701493], 'f1': [0.5577935970747268, 0.4711706152236323], 'g': [2, 4]}\n",
      "### ### ### ### ### ### ### ### ### ### \n",
      "Grid search facebook/opt-350m, learning rate 1e-05 focal loss, gamma: 8\n"
     ]
    },
    {
     "name": "stderr",
     "output_type": "stream",
     "text": [
      "Some weights of OPTForSequenceClassification were not initialized from the model checkpoint at facebook/opt-350m and are newly initialized: ['score.weight']\n",
      "You should probably TRAIN this model on a down-stream task to be able to use it for predictions and inference.\n",
      "You're using a GPT2TokenizerFast tokenizer. Please note that with a fast tokenizer, using the `__call__` method is faster than using a method to encode the text followed by a call to the `pad` method to get a padded encoding.\n"
     ]
    },
    {
     "name": "stdout",
     "output_type": "stream",
     "text": [
      "1 / 20: Train Loss:\t1.6938\tVal Loss:\t1.3368\tAccuracy:\t0.3697\tF1:\t0.2974\n",
      "2 / 20: Train Loss:\t0.1746\tVal Loss:\t0.9620\tAccuracy:\t0.5126\tF1:\t0.4855\n",
      "3 / 20: Train Loss:\t0.1113\tVal Loss:\t0.9740\tAccuracy:\t0.4790\tF1:\t0.4320\n",
      "4 / 20: Train Loss:\t0.1276\tVal Loss:\t0.8735\tAccuracy:\t0.6471\tF1:\t0.6428\n",
      "5 / 20: Train Loss:\t0.1532\tVal Loss:\t0.9486\tAccuracy:\t0.4286\tF1:\t0.3886\n",
      "6 / 20: Train Loss:\t0.2037\tVal Loss:\t0.9452\tAccuracy:\t0.4622\tF1:\t0.4254\n",
      "7 / 20: Train Loss:\t0.2069\tVal Loss:\t0.9393\tAccuracy:\t0.5294\tF1:\t0.4859\n",
      "No improvement for 3 epochs. Stopping early.\n",
      "best (higgest macro f1-score) val results:\n",
      "                    precision    recall  f1-score   support\n",
      "\n",
      " misrepresentation       0.41      0.92      0.57        38\n",
      "oversimplification       1.00      0.17      0.29        36\n",
      "slothful induction       0.79      0.49      0.60        45\n",
      "\n",
      "          accuracy                           0.53       119\n",
      "         macro avg       0.73      0.53      0.49       119\n",
      "      weighted avg       0.73      0.53      0.50       119\n",
      "\n",
      "test results:\n",
      "                    precision    recall  f1-score   support\n",
      "\n",
      " misrepresentation       0.43      0.91      0.59        22\n",
      "oversimplification       0.83      0.25      0.38        20\n",
      "slothful induction       0.80      0.48      0.60        25\n",
      "\n",
      "          accuracy                           0.55        67\n",
      "         macro avg       0.69      0.55      0.52        67\n",
      "      weighted avg       0.69      0.55      0.53        67\n",
      "\n",
      "### ### ### ### ### ### ### ### ### ### \n",
      "{'acc': [0.5671641791044776, 0.5522388059701493, 0.5522388059701493], 'f1': [0.5577935970747268, 0.4711706152236323, 0.5242835595776772], 'g': [2, 4, 8]}\n",
      "### ### ### ### ### ### ### ### ### ### \n",
      "Grid search facebook/opt-350m, learning rate 1e-05 focal loss, gamma: 16\n"
     ]
    },
    {
     "name": "stderr",
     "output_type": "stream",
     "text": [
      "Some weights of OPTForSequenceClassification were not initialized from the model checkpoint at facebook/opt-350m and are newly initialized: ['score.weight']\n",
      "You should probably TRAIN this model on a down-stream task to be able to use it for predictions and inference.\n",
      "You're using a GPT2TokenizerFast tokenizer. Please note that with a fast tokenizer, using the `__call__` method is faster than using a method to encode the text followed by a call to the `pad` method to get a padded encoding.\n"
     ]
    },
    {
     "name": "stdout",
     "output_type": "stream",
     "text": [
      "1 / 20: Train Loss:\t1.3680\tVal Loss:\t1.2412\tAccuracy:\t0.3782\tF1:\t0.2976\n",
      "2 / 20: Train Loss:\t0.0435\tVal Loss:\t0.9915\tAccuracy:\t0.5294\tF1:\t0.4962\n",
      "3 / 20: Train Loss:\t0.0127\tVal Loss:\t0.9708\tAccuracy:\t0.5042\tF1:\t0.4915\n",
      "4 / 20: Train Loss:\t0.0104\tVal Loss:\t0.9585\tAccuracy:\t0.5210\tF1:\t0.5041\n",
      "5 / 20: Train Loss:\t0.0076\tVal Loss:\t0.9614\tAccuracy:\t0.4622\tF1:\t0.4391\n",
      "6 / 20: Train Loss:\t0.0071\tVal Loss:\t0.9578\tAccuracy:\t0.5294\tF1:\t0.5209\n",
      "7 / 20: Train Loss:\t0.0083\tVal Loss:\t0.9427\tAccuracy:\t0.5882\tF1:\t0.5879\n",
      "8 / 20: Train Loss:\t0.0058\tVal Loss:\t0.9430\tAccuracy:\t0.6050\tF1:\t0.6069\n",
      "9 / 20: Train Loss:\t0.0065\tVal Loss:\t0.9388\tAccuracy:\t0.6218\tF1:\t0.6243\n",
      "10 / 20: Train Loss:\t0.0059\tVal Loss:\t0.9260\tAccuracy:\t0.6639\tF1:\t0.6625\n",
      "11 / 20: Train Loss:\t0.0071\tVal Loss:\t0.9323\tAccuracy:\t0.5630\tF1:\t0.5588\n",
      "12 / 20: Train Loss:\t0.0074\tVal Loss:\t0.9373\tAccuracy:\t0.5546\tF1:\t0.5350\n",
      "13 / 20: Train Loss:\t0.0058\tVal Loss:\t0.9211\tAccuracy:\t0.5714\tF1:\t0.5708\n",
      "No improvement for 3 epochs. Stopping early.\n",
      "best (higgest macro f1-score) val results:\n",
      "                    precision    recall  f1-score   support\n",
      "\n",
      " misrepresentation       0.49      0.53      0.51        38\n",
      "oversimplification       0.58      0.72      0.64        36\n",
      "slothful induction       0.67      0.49      0.56        45\n",
      "\n",
      "          accuracy                           0.57       119\n",
      "         macro avg       0.58      0.58      0.57       119\n",
      "      weighted avg       0.58      0.57      0.57       119\n",
      "\n",
      "test results:\n",
      "                    precision    recall  f1-score   support\n",
      "\n",
      " misrepresentation       0.62      0.59      0.60        22\n",
      "oversimplification       0.52      0.75      0.61        20\n",
      "slothful induction       0.76      0.52      0.62        25\n",
      "\n",
      "          accuracy                           0.61        67\n",
      "         macro avg       0.63      0.62      0.61        67\n",
      "      weighted avg       0.64      0.61      0.61        67\n",
      "\n",
      "### ### ### ### ### ### ### ### ### ### \n",
      "{'acc': [0.5671641791044776, 0.5522388059701493, 0.5522388059701493, 0.6119402985074627], 'f1': [0.5577935970747268, 0.4711706152236323, 0.5242835595776772, 0.6119812265991669], 'g': [2, 4, 8, 16]}\n",
      "### ### ### ### ### ### ### ### ### ### \n"
     ]
    }
   ],
   "source": [
    "gammas = [2,4,8,16]\n",
    "lr = 1.0e-5\n",
    "\n",
    "\n",
    "for g in gammas:\n",
    "    print(f'Grid search {model_checkpoint}, learning rate {lr} focal loss, gamma: {g}')\n",
    "    data = ClimateDataset(model_to_train=3,model_checkpoint=model_checkpoint,batch_size=16)\n",
    "    data.setup_dataloaders()\n",
    "    model = ClassificationModel(model_checkpoint=data.model_checkpoint,num_labels=data.num_labels)\n",
    "    trainer = Engine(epochs=30,labels=data.labels)\n",
    "    trainer.model = model.model\n",
    "    trainer.dataset_encoded = data.dataset_encoded\n",
    "    acc, f1 = trainer.run(lr=lr,\n",
    "                          wd=0.0,\n",
    "                          train_dataloader=data.train_dataloader,\n",
    "                          eval_dataloader=data.eval_dataloader,\n",
    "                          test_dataloader=data.test_dataloader,\n",
    "                          accumulation_steps=2,\n",
    "                          focalloss=True,\n",
    "                          gamma=g,\n",
    "                          early_stop=3)\n",
    "    results['acc'].append(acc)\n",
    "    results['f1'].append(f1)\n",
    "    results['g'].append(g)\n",
    "    print('### '*10)\n",
    "    print(results)\n",
    "    print('### '*10)\n",
    "    with torch.no_grad():\n",
    "        torch.cuda.empty_cache()\n",
    "    del data, model, trainer, acc, f1"
   ]
  },
  {
   "cell_type": "code",
   "execution_count": 5,
   "metadata": {},
   "outputs": [],
   "source": [
    "import matplotlib.pyplot as plt\n",
    "import seaborn as sns\n",
    "import pandas as pd"
   ]
  },
  {
   "cell_type": "code",
   "execution_count": 6,
   "metadata": {},
   "outputs": [
    {
     "data": {
      "image/png": "[encoded data removed]",
      "text/plain": [
       "<Figure size 640x480 with 1 Axes>"
      ]
     },
     "metadata": {},
     "output_type": "display_data"
    }
   ],
   "source": [
    "def plot_grid_search(df, title, column):\n",
    "\n",
    "    # Create the plot\n",
    "    ax = df.plot(x=column, y=['acc', 'f1'], marker='o', linestyle='-')\n",
    "\n",
    "    # Set y-axis range between 0 and 1\n",
    "    plt.ylim(0, 1)\n",
    "\n",
    "    # Annotate points with F1 scores\n",
    "    for i, row in df.iterrows(): \n",
    "        ax.annotate(f'{row[\"f1\"]:.2f}', (row[column], row[\"f1\"]), textcoords='offset points', xytext=(0, -10), ha='center')\n",
    "\n",
    "    # Annotate points with Acc scores\n",
    "    for i, row in df.iterrows():\n",
    "        ax.annotate(f'{row[\"acc\"]:.2f}', (row[column], row[\"acc\"]), textcoords='offset points', xytext=(0, 10), ha='center')\n",
    "    \n",
    "    # \n",
    "    plt.xticks(df[column], [val for val in df[column]], ha='center')\n",
    "    # plt.xscale('log')\n",
    "    plt.minorticks_off()\n",
    "\n",
    "    plt.title(title)\n",
    "    plt.xlabel('gamma')\n",
    "    plt.ylabel('Score')\n",
    "    plt.show()\n",
    "\n",
    "plot_grid_search(pd.DataFrame(results), f'Focal loss, {model_checkpoint}', 'g')"
   ]
  }
 ],
 "metadata": {
  "kernelspec": {
   "display_name": "Python 3",
   "language": "python",
   "name": "python3"
  },
  "language_info": {
   "codemirror_mode": {
    "name": "ipython",
    "version": 3
   },
   "file_extension": ".py",
   "mimetype": "text/x-python",
   "name": "python",
   "nbconvert_exporter": "python",
   "pygments_lexer": "ipython3",
   "version": "3.11.5"
  },
  "orig_nbformat": 4
 },
 "nbformat": 4,
 "nbformat_minor": 2
}
