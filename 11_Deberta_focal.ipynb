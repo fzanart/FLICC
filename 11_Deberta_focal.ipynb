{
 "cells": [
  {
   "cell_type": "code",
   "execution_count": 1,
   "metadata": {},
   "outputs": [],
   "source": [
    "import torch\n",
    "from data import ClimateDataset\n",
    "from models import ClassificationModel\n",
    "from engine import Engine"
   ]
  },
  {
   "cell_type": "code",
   "execution_count": 2,
   "metadata": {},
   "outputs": [],
   "source": [
    "model_checkpoint='microsoft/deberta-base'"
   ]
  },
  {
   "cell_type": "code",
   "execution_count": 3,
   "metadata": {},
   "outputs": [],
   "source": [
    "results = {'acc':[],\n",
    "           'f1':[],\n",
    "           'g':[]}"
   ]
  },
  {
   "cell_type": "code",
   "execution_count": 4,
   "metadata": {},
   "outputs": [
    {
     "name": "stdout",
     "output_type": "stream",
     "text": [
      "Grid search microsoft/deberta-base, learning rate 1e-05 focal loss, gamma: 2\n"
     ]
    },
    {
     "data": {
      "application/vnd.jupyter.widget-view+json": {
       "model_id": "d87048efe87b452eb16ccf59167431ce",
       "version_major": 2,
       "version_minor": 0
      },
      "text/plain": [
       "Filter:   0%|          | 0/1796 [00:00<?, ? examples/s]"
      ]
     },
     "metadata": {},
     "output_type": "display_data"
    },
    {
     "data": {
      "application/vnd.jupyter.widget-view+json": {
       "model_id": "9bc1db565e7c44b38d114dc54bc87afc",
       "version_major": 2,
       "version_minor": 0
      },
      "text/plain": [
       "Filter:   0%|          | 0/256 [00:00<?, ? examples/s]"
      ]
     },
     "metadata": {},
     "output_type": "display_data"
    },
    {
     "data": {
      "application/vnd.jupyter.widget-view+json": {
       "model_id": "49ae0f9d555e4b6cbb0e2dd973e16c5b",
       "version_major": 2,
       "version_minor": 0
      },
      "text/plain": [
       "Filter:   0%|          | 0/457 [00:00<?, ? examples/s]"
      ]
     },
     "metadata": {},
     "output_type": "display_data"
    },
    {
     "data": {
      "application/vnd.jupyter.widget-view+json": {
       "model_id": "11b40b2d90d74b5ca912f548fb248bd8",
       "version_major": 2,
       "version_minor": 0
      },
      "text/plain": [
       "Map:   0%|          | 0/472 [00:00<?, ? examples/s]"
      ]
     },
     "metadata": {},
     "output_type": "display_data"
    },
    {
     "data": {
      "application/vnd.jupyter.widget-view+json": {
       "model_id": "76dbaf5a95d749fd982ced6102c194a9",
       "version_major": 2,
       "version_minor": 0
      },
      "text/plain": [
       "Map:   0%|          | 0/67 [00:00<?, ? examples/s]"
      ]
     },
     "metadata": {},
     "output_type": "display_data"
    },
    {
     "data": {
      "application/vnd.jupyter.widget-view+json": {
       "model_id": "e85e4cceb5ef49489dd6ef279c3459ff",
       "version_major": 2,
       "version_minor": 0
      },
      "text/plain": [
       "Map:   0%|          | 0/119 [00:00<?, ? examples/s]"
      ]
     },
     "metadata": {},
     "output_type": "display_data"
    },
    {
     "name": "stderr",
     "output_type": "stream",
     "text": [
      "Some weights of DebertaForSequenceClassification were not initialized from the model checkpoint at microsoft/deberta-base and are newly initialized: ['pooler.dense.bias', 'classifier.weight', 'pooler.dense.weight', 'classifier.bias']\n",
      "You should probably TRAIN this model on a down-stream task to be able to use it for predictions and inference.\n",
      "You're using a DebertaTokenizerFast tokenizer. Please note that with a fast tokenizer, using the `__call__` method is faster than using a method to encode the text followed by a call to the `pad` method to get a padded encoding.\n"
     ]
    },
    {
     "name": "stdout",
     "output_type": "stream",
     "text": [
      "1 / 20: Train Loss:\t0.7396\tVal Loss:\t1.0969\tAccuracy:\t0.3025\tF1:\t0.1548\n",
      "2 / 20: Train Loss:\t0.7253\tVal Loss:\t1.0737\tAccuracy:\t0.3361\tF1:\t0.1985\n",
      "3 / 20: Train Loss:\t0.6123\tVal Loss:\t0.8639\tAccuracy:\t0.6471\tF1:\t0.6288\n",
      "4 / 20: Train Loss:\t0.4194\tVal Loss:\t0.7393\tAccuracy:\t0.7143\tF1:\t0.7053\n",
      "5 / 20: Train Loss:\t0.2938\tVal Loss:\t0.6938\tAccuracy:\t0.6891\tF1:\t0.6769\n",
      "6 / 20: Train Loss:\t0.2212\tVal Loss:\t0.6195\tAccuracy:\t0.7563\tF1:\t0.7521\n",
      "7 / 20: Train Loss:\t0.1706\tVal Loss:\t0.5925\tAccuracy:\t0.7815\tF1:\t0.7778\n",
      "8 / 20: Train Loss:\t0.1083\tVal Loss:\t0.5678\tAccuracy:\t0.8067\tF1:\t0.8066\n",
      "9 / 20: Train Loss:\t0.0811\tVal Loss:\t0.5829\tAccuracy:\t0.7983\tF1:\t0.7985\n",
      "10 / 20: Train Loss:\t0.0549\tVal Loss:\t0.5640\tAccuracy:\t0.8151\tF1:\t0.8151\n",
      "11 / 20: Train Loss:\t0.0392\tVal Loss:\t0.5755\tAccuracy:\t0.7899\tF1:\t0.7839\n",
      "12 / 20: Train Loss:\t0.0254\tVal Loss:\t0.6362\tAccuracy:\t0.7647\tF1:\t0.7620\n",
      "13 / 20: Train Loss:\t0.0128\tVal Loss:\t0.5640\tAccuracy:\t0.8067\tF1:\t0.8070\n",
      "No improvement for 3 epochs. Stopping early.\n",
      "best (higgest macro f1-score) val results:\n",
      "                    precision    recall  f1-score   support\n",
      "\n",
      " misrepresentation       0.81      0.76      0.78        38\n",
      "oversimplification       0.96      0.72      0.83        36\n",
      "slothful induction       0.73      0.91      0.81        45\n",
      "\n",
      "          accuracy                           0.81       119\n",
      "         macro avg       0.83      0.80      0.81       119\n",
      "      weighted avg       0.83      0.81      0.81       119\n",
      "\n",
      "test results:\n",
      "                    precision    recall  f1-score   support\n",
      "\n",
      " misrepresentation       0.83      0.86      0.84        22\n",
      "oversimplification       0.81      0.85      0.83        20\n",
      "slothful induction       0.78      0.72      0.75        25\n",
      "\n",
      "          accuracy                           0.81        67\n",
      "         macro avg       0.81      0.81      0.81        67\n",
      "      weighted avg       0.80      0.81      0.80        67\n",
      "\n",
      "### ### ### ### ### ### ### ### ### ### \n",
      "{'acc': [0.8059701492537313], 'f1': [0.8079042457091238], 'g': [2]}\n",
      "### ### ### ### ### ### ### ### ### ### \n",
      "Grid search microsoft/deberta-base, learning rate 1e-05 focal loss, gamma: 4\n"
     ]
    },
    {
     "data": {
      "application/vnd.jupyter.widget-view+json": {
       "model_id": "f6acfdc9389143c3bdb0f8860c342b89",
       "version_major": 2,
       "version_minor": 0
      },
      "text/plain": [
       "Map:   0%|          | 0/67 [00:00<?, ? examples/s]"
      ]
     },
     "metadata": {},
     "output_type": "display_data"
    },
    {
     "name": "stderr",
     "output_type": "stream",
     "text": [
      "Some weights of DebertaForSequenceClassification were not initialized from the model checkpoint at microsoft/deberta-base and are newly initialized: ['pooler.dense.bias', 'classifier.weight', 'pooler.dense.weight', 'classifier.bias']\n",
      "You should probably TRAIN this model on a down-stream task to be able to use it for predictions and inference.\n",
      "You're using a DebertaTokenizerFast tokenizer. Please note that with a fast tokenizer, using the `__call__` method is faster than using a method to encode the text followed by a call to the `pad` method to get a padded encoding.\n"
     ]
    },
    {
     "name": "stdout",
     "output_type": "stream",
     "text": [
      "1 / 20: Train Loss:\t0.3332\tVal Loss:\t1.0967\tAccuracy:\t0.3025\tF1:\t0.1548\n",
      "2 / 20: Train Loss:\t0.3293\tVal Loss:\t1.0912\tAccuracy:\t0.5462\tF1:\t0.4357\n",
      "3 / 20: Train Loss:\t0.3202\tVal Loss:\t1.0886\tAccuracy:\t0.5630\tF1:\t0.4485\n",
      "4 / 20: Train Loss:\t0.2993\tVal Loss:\t0.9287\tAccuracy:\t0.5042\tF1:\t0.4608\n",
      "5 / 20: Train Loss:\t0.1988\tVal Loss:\t0.8184\tAccuracy:\t0.7227\tF1:\t0.7240\n",
      "6 / 20: Train Loss:\t0.1352\tVal Loss:\t0.7311\tAccuracy:\t0.7563\tF1:\t0.7572\n",
      "7 / 20: Train Loss:\t0.1071\tVal Loss:\t0.6874\tAccuracy:\t0.7479\tF1:\t0.7423\n",
      "8 / 20: Train Loss:\t0.0681\tVal Loss:\t0.6546\tAccuracy:\t0.7731\tF1:\t0.7641\n",
      "9 / 20: Train Loss:\t0.0426\tVal Loss:\t0.6249\tAccuracy:\t0.8067\tF1:\t0.8088\n",
      "10 / 20: Train Loss:\t0.0254\tVal Loss:\t0.5914\tAccuracy:\t0.8151\tF1:\t0.8129\n",
      "11 / 20: Train Loss:\t0.0176\tVal Loss:\t0.5898\tAccuracy:\t0.7983\tF1:\t0.7935\n",
      "12 / 20: Train Loss:\t0.0100\tVal Loss:\t0.5804\tAccuracy:\t0.7983\tF1:\t0.7947\n",
      "13 / 20: Train Loss:\t0.0070\tVal Loss:\t0.5692\tAccuracy:\t0.7983\tF1:\t0.7947\n",
      "No improvement for 3 epochs. Stopping early.\n",
      "best (higgest macro f1-score) val results:\n",
      "                    precision    recall  f1-score   support\n",
      "\n",
      " misrepresentation       0.82      0.71      0.76        38\n",
      "oversimplification       0.90      0.72      0.80        36\n",
      "slothful induction       0.74      0.93      0.82        45\n",
      "\n",
      "          accuracy                           0.80       119\n",
      "         macro avg       0.82      0.79      0.79       119\n",
      "      weighted avg       0.81      0.80      0.80       119\n",
      "\n",
      "test results:\n",
      "                    precision    recall  f1-score   support\n",
      "\n",
      " misrepresentation       0.78      0.82      0.80        22\n",
      "oversimplification       0.80      0.80      0.80        20\n",
      "slothful induction       0.75      0.72      0.73        25\n",
      "\n",
      "          accuracy                           0.78        67\n",
      "         macro avg       0.78      0.78      0.78        67\n",
      "      weighted avg       0.78      0.78      0.78        67\n",
      "\n",
      "### ### ### ### ### ### ### ### ### ### \n",
      "{'acc': [0.8059701492537313, 0.7761194029850746], 'f1': [0.8079042457091238, 0.7782312925170068], 'g': [2, 4]}\n",
      "### ### ### ### ### ### ### ### ### ### \n",
      "Grid search microsoft/deberta-base, learning rate 1e-05 focal loss, gamma: 8\n"
     ]
    },
    {
     "data": {
      "application/vnd.jupyter.widget-view+json": {
       "model_id": "ea85327b6d7247efad279416ae42003c",
       "version_major": 2,
       "version_minor": 0
      },
      "text/plain": [
       "Map:   0%|          | 0/119 [00:00<?, ? examples/s]"
      ]
     },
     "metadata": {},
     "output_type": "display_data"
    },
    {
     "name": "stderr",
     "output_type": "stream",
     "text": [
      "Some weights of DebertaForSequenceClassification were not initialized from the model checkpoint at microsoft/deberta-base and are newly initialized: ['pooler.dense.bias', 'classifier.weight', 'pooler.dense.weight', 'classifier.bias']\n",
      "You should probably TRAIN this model on a down-stream task to be able to use it for predictions and inference.\n",
      "You're using a DebertaTokenizerFast tokenizer. Please note that with a fast tokenizer, using the `__call__` method is faster than using a method to encode the text followed by a call to the `pad` method to get a padded encoding.\n"
     ]
    },
    {
     "name": "stdout",
     "output_type": "stream",
     "text": [
      "1 / 20: Train Loss:\t0.0688\tVal Loss:\t1.0968\tAccuracy:\t0.3025\tF1:\t0.1558\n",
      "2 / 20: Train Loss:\t0.0651\tVal Loss:\t1.0763\tAccuracy:\t0.4202\tF1:\t0.3441\n",
      "3 / 20: Train Loss:\t0.0611\tVal Loss:\t1.0851\tAccuracy:\t0.6134\tF1:\t0.5208\n",
      "4 / 20: Train Loss:\t0.0568\tVal Loss:\t1.0428\tAccuracy:\t0.5966\tF1:\t0.5889\n",
      "5 / 20: Train Loss:\t0.0406\tVal Loss:\t0.8847\tAccuracy:\t0.7311\tF1:\t0.7399\n",
      "6 / 20: Train Loss:\t0.0239\tVal Loss:\t0.8033\tAccuracy:\t0.7899\tF1:\t0.7926\n",
      "7 / 20: Train Loss:\t0.0148\tVal Loss:\t0.7644\tAccuracy:\t0.7731\tF1:\t0.7683\n",
      "8 / 20: Train Loss:\t0.0114\tVal Loss:\t0.7230\tAccuracy:\t0.7647\tF1:\t0.7585\n",
      "9 / 20: Train Loss:\t0.0098\tVal Loss:\t0.7115\tAccuracy:\t0.7647\tF1:\t0.7523\n",
      "No improvement for 3 epochs. Stopping early.\n",
      "best (higgest macro f1-score) val results:\n",
      "                    precision    recall  f1-score   support\n",
      "\n",
      " misrepresentation       0.95      0.47      0.63        38\n",
      "oversimplification       0.90      0.78      0.84        36\n",
      "slothful induction       0.65      1.00      0.79        45\n",
      "\n",
      "          accuracy                           0.76       119\n",
      "         macro avg       0.83      0.75      0.75       119\n",
      "      weighted avg       0.82      0.76      0.75       119\n",
      "\n",
      "test results:\n",
      "                    precision    recall  f1-score   support\n",
      "\n",
      " misrepresentation       0.85      0.50      0.63        22\n",
      "oversimplification       0.73      0.80      0.76        20\n",
      "slothful induction       0.59      0.76      0.67        25\n",
      "\n",
      "          accuracy                           0.69        67\n",
      "         macro avg       0.72      0.69      0.69        67\n",
      "      weighted avg       0.72      0.69      0.68        67\n",
      "\n",
      "### ### ### ### ### ### ### ### ### ### \n",
      "{'acc': [0.8059701492537313, 0.7761194029850746, 0.6865671641791045], 'f1': [0.8079042457091238, 0.7782312925170068, 0.6857142857142856], 'g': [2, 4, 8]}\n",
      "### ### ### ### ### ### ### ### ### ### \n",
      "Grid search microsoft/deberta-base, learning rate 1e-05 focal loss, gamma: 16\n"
     ]
    },
    {
     "name": "stderr",
     "output_type": "stream",
     "text": [
      "Some weights of DebertaForSequenceClassification were not initialized from the model checkpoint at microsoft/deberta-base and are newly initialized: ['pooler.dense.bias', 'classifier.weight', 'pooler.dense.weight', 'classifier.bias']\n",
      "You should probably TRAIN this model on a down-stream task to be able to use it for predictions and inference.\n",
      "You're using a DebertaTokenizerFast tokenizer. Please note that with a fast tokenizer, using the `__call__` method is faster than using a method to encode the text followed by a call to the `pad` method to get a padded encoding.\n"
     ]
    },
    {
     "name": "stdout",
     "output_type": "stream",
     "text": [
      "1 / 20: Train Loss:\t0.0032\tVal Loss:\t1.0976\tAccuracy:\t0.4538\tF1:\t0.3572\n",
      "2 / 20: Train Loss:\t0.0027\tVal Loss:\t1.0972\tAccuracy:\t0.3025\tF1:\t0.1548\n",
      "3 / 20: Train Loss:\t0.0026\tVal Loss:\t1.0968\tAccuracy:\t0.3866\tF1:\t0.3043\n",
      "4 / 20: Train Loss:\t0.0026\tVal Loss:\t1.0932\tAccuracy:\t0.5546\tF1:\t0.5322\n",
      "5 / 20: Train Loss:\t0.0023\tVal Loss:\t1.0531\tAccuracy:\t0.6134\tF1:\t0.6124\n",
      "6 / 20: Train Loss:\t0.0020\tVal Loss:\t1.0524\tAccuracy:\t0.5882\tF1:\t0.4791\n",
      "7 / 20: Train Loss:\t0.0017\tVal Loss:\t1.0220\tAccuracy:\t0.6303\tF1:\t0.5815\n",
      "8 / 20: Train Loss:\t0.0012\tVal Loss:\t0.8864\tAccuracy:\t0.7815\tF1:\t0.7812\n",
      "9 / 20: Train Loss:\t0.0016\tVal Loss:\t0.9882\tAccuracy:\t0.6387\tF1:\t0.5645\n",
      "10 / 20: Train Loss:\t0.0012\tVal Loss:\t0.9814\tAccuracy:\t0.7311\tF1:\t0.7318\n",
      "11 / 20: Train Loss:\t0.0008\tVal Loss:\t0.8991\tAccuracy:\t0.7479\tF1:\t0.7406\n",
      "No improvement for 3 epochs. Stopping early.\n",
      "best (higgest macro f1-score) val results:\n",
      "                    precision    recall  f1-score   support\n",
      "\n",
      " misrepresentation       0.81      0.55      0.66        38\n",
      "oversimplification       0.87      0.72      0.79        36\n",
      "slothful induction       0.67      0.93      0.78        45\n",
      "\n",
      "          accuracy                           0.75       119\n",
      "         macro avg       0.78      0.74      0.74       119\n",
      "      weighted avg       0.77      0.75      0.74       119\n",
      "\n",
      "test results:\n",
      "                    precision    recall  f1-score   support\n",
      "\n",
      " misrepresentation       0.78      0.64      0.70        22\n",
      "oversimplification       0.81      0.85      0.83        20\n",
      "slothful induction       0.68      0.76      0.72        25\n",
      "\n",
      "          accuracy                           0.75        67\n",
      "         macro avg       0.76      0.75      0.75        67\n",
      "      weighted avg       0.75      0.75      0.74        67\n",
      "\n",
      "### ### ### ### ### ### ### ### ### ### \n",
      "{'acc': [0.8059701492537313, 0.7761194029850746, 0.6865671641791045, 0.746268656716418], 'f1': [0.8079042457091238, 0.7782312925170068, 0.6857142857142856, 0.7487498082527996], 'g': [2, 4, 8, 16]}\n",
      "### ### ### ### ### ### ### ### ### ### \n"
     ]
    }
   ],
   "source": [
    "gammas = [2,4,8,16]\n",
    "lr = 1.0e-5\n",
    "\n",
    "\n",
    "for g in gammas:\n",
    "    print(f'Grid search {model_checkpoint}, learning rate {lr} focal loss, gamma: {g}')\n",
    "    data = ClimateDataset(model_to_train=3,model_checkpoint=model_checkpoint,batch_size=16)\n",
    "    data.setup_dataloaders()\n",
    "    model = ClassificationModel(model_checkpoint=data.model_checkpoint,num_labels=data.num_labels)\n",
    "    trainer = Engine(epochs=30,labels=data.labels)\n",
    "    trainer.model = model.model\n",
    "    trainer.dataset_encoded = data.dataset_encoded\n",
    "    acc, f1 = trainer.run(lr=lr,\n",
    "                          wd=0.0,\n",
    "                          train_dataloader=data.train_dataloader,\n",
    "                          eval_dataloader=data.eval_dataloader,\n",
    "                          test_dataloader=data.test_dataloader,\n",
    "                          focalloss=True,\n",
    "                          accumulation_steps=2,\n",
    "                          gamma=g,\n",
    "                          early_stop=3)\n",
    "    results['acc'].append(acc)\n",
    "    results['f1'].append(f1)\n",
    "    results['g'].append(g)\n",
    "    print('### '*10)\n",
    "    print(results)\n",
    "    print('### '*10)\n",
    "    with torch.no_grad():\n",
    "        torch.cuda.empty_cache()\n",
    "    del data, model, trainer, acc, f1"
   ]
  },
  {
   "cell_type": "code",
   "execution_count": 5,
   "metadata": {},
   "outputs": [],
   "source": [
    "import matplotlib.pyplot as plt\n",
    "import seaborn as sns\n",
    "import pandas as pd"
   ]
  },
  {
   "cell_type": "code",
   "execution_count": 6,
   "metadata": {},
   "outputs": [
    {
     "data": {
      "image/png": "[encoded data removed]",
      "text/plain": [
       "<Figure size 640x480 with 1 Axes>"
      ]
     },
     "metadata": {},
     "output_type": "display_data"
    }
   ],
   "source": [
    "def plot_grid_search(df, title, column):\n",
    "\n",
    "    # Create the plot\n",
    "    ax = df.plot(x=column, y=['acc', 'f1'], marker='o', linestyle='-')\n",
    "\n",
    "    # Set y-axis range between 0 and 1\n",
    "    plt.ylim(0, 1)\n",
    "\n",
    "    # Annotate points with F1 scores\n",
    "    for i, row in df.iterrows(): \n",
    "        ax.annotate(f'{row[\"f1\"]:.2f}', (row[column], row[\"f1\"]), textcoords='offset points', xytext=(0, -10), ha='center')\n",
    "\n",
    "    # Annotate points with Acc scores\n",
    "    for i, row in df.iterrows():\n",
    "        ax.annotate(f'{row[\"acc\"]:.2f}', (row[column], row[\"acc\"]), textcoords='offset points', xytext=(0, 10), ha='center')\n",
    "    \n",
    "    # \n",
    "    plt.xticks(df[column], [val for val in df[column]], ha='center')\n",
    "    # plt.xscale('log')\n",
    "    plt.minorticks_off()\n",
    "\n",
    "    plt.title(title)\n",
    "    plt.xlabel('gamma')\n",
    "    plt.ylabel('Score')\n",
    "    plt.show()\n",
    "\n",
    "plot_grid_search(pd.DataFrame(results), f'Focal loss, {model_checkpoint}', 'g')"
   ]
  }
 ],
 "metadata": {
  "kernelspec": {
   "display_name": "Python 3",
   "language": "python",
   "name": "python3"
  },
  "language_info": {
   "codemirror_mode": {
    "name": "ipython",
    "version": 3
   },
   "file_extension": ".py",
   "mimetype": "text/x-python",
   "name": "python",
   "nbconvert_exporter": "python",
   "pygments_lexer": "ipython3",
   "version": "3.11.5"
  },
  "orig_nbformat": 4
 },
 "nbformat": 4,
 "nbformat_minor": 2
}
