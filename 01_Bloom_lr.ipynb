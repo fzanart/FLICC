{
 "cells": [
  {
   "cell_type": "code",
   "execution_count": 11,
   "metadata": {},
   "outputs": [],
   "source": [
    "import torch\n",
    "from data import ClimateDataset\n",
    "from models import ClassificationModel\n",
    "from engine import Engine\n",
    "import warnings\n",
    "warnings.filterwarnings(\"ignore\")"
   ]
  },
  {
   "cell_type": "code",
   "execution_count": 12,
   "metadata": {},
   "outputs": [],
   "source": [
    "model_checkpoint='bigscience/bloom-560m'"
   ]
  },
  {
   "cell_type": "code",
   "execution_count": 13,
   "metadata": {},
   "outputs": [],
   "source": [
    "results = {'acc':[],\n",
    "           'f1':[],\n",
    "           'lr':[]}"
   ]
  },
  {
   "cell_type": "code",
   "execution_count": 14,
   "metadata": {},
   "outputs": [
    {
     "name": "stdout",
     "output_type": "stream",
     "text": [
      "Grid search bigscience/bloom-560m, learning rate 0.001\n"
     ]
    },
    {
     "name": "stderr",
     "output_type": "stream",
     "text": [
      "Some weights of BloomForSequenceClassification were not initialized from the model checkpoint at bigscience/bloom-560m and are newly initialized: ['score.weight']\n",
      "You should probably TRAIN this model on a down-stream task to be able to use it for predictions and inference.\n",
      "You're using a BloomTokenizerFast tokenizer. Please note that with a fast tokenizer, using the `__call__` method is faster than using a method to encode the text followed by a call to the `pad` method to get a padded encoding.\n"
     ]
    },
    {
     "name": "stdout",
     "output_type": "stream",
     "text": [
      "1 / 10: Train Loss:\t93.0594\tVal Loss:\t91.9343\tAccuracy:\t0.2604\tF1:\t0.2066\n",
      "2 / 10: Train Loss:\t93.0594\tVal Loss:\t91.9343\tAccuracy:\t0.2604\tF1:\t0.2066\n",
      "3 / 10: Train Loss:\t93.0594\tVal Loss:\t91.9343\tAccuracy:\t0.2604\tF1:\t0.2066\n",
      "4 / 10: Train Loss:\t93.0594\tVal Loss:\t91.9343\tAccuracy:\t0.2604\tF1:\t0.2066\n",
      "5 / 10: Train Loss:\t93.0594\tVal Loss:\t91.9343\tAccuracy:\t0.2604\tF1:\t0.2066\n",
      "6 / 10: Train Loss:\t93.0594\tVal Loss:\t91.9343\tAccuracy:\t0.2604\tF1:\t0.2066\n",
      "7 / 10: Train Loss:\t93.0594\tVal Loss:\t91.9343\tAccuracy:\t0.2604\tF1:\t0.2066\n",
      "8 / 10: Train Loss:\t93.0594\tVal Loss:\t91.9343\tAccuracy:\t0.2604\tF1:\t0.2066\n",
      "9 / 10: Train Loss:\t93.0594\tVal Loss:\t91.9343\tAccuracy:\t0.2604\tF1:\t0.2066\n",
      "10 / 10: Train Loss:\t93.0594\tVal Loss:\t91.9343\tAccuracy:\t0.2604\tF1:\t0.2066\n",
      "best (higgest macro f1-score) val results:\n",
      "              precision    recall  f1-score   support\n",
      "\n",
      "       bknow       0.26      1.00      0.41       119\n",
      "      struct       0.00      0.00      0.00       338\n",
      "\n",
      "    accuracy                           0.26       457\n",
      "   macro avg       0.13      0.50      0.21       457\n",
      "weighted avg       0.07      0.26      0.11       457\n",
      "\n",
      "test results:\n",
      "              precision    recall  f1-score   support\n",
      "\n",
      "       bknow       0.26      1.00      0.42        67\n",
      "      struct       1.00      0.01      0.01       189\n",
      "\n",
      "    accuracy                           0.27       256\n",
      "   macro avg       0.63      0.50      0.21       256\n",
      "weighted avg       0.81      0.27      0.12       256\n",
      "\n",
      "### ### ### ### ### ### ### ### ### ### \n",
      "{'acc': [0.265625], 'f1': [0.21333769205622752], 'lr': [0.001]}\n",
      "### ### ### ### ### ### ### ### ### ### \n",
      "Grid search bigscience/bloom-560m, learning rate 0.0001\n"
     ]
    },
    {
     "name": "stderr",
     "output_type": "stream",
     "text": [
      "Some weights of BloomForSequenceClassification were not initialized from the model checkpoint at bigscience/bloom-560m and are newly initialized: ['score.weight']\n",
      "You should probably TRAIN this model on a down-stream task to be able to use it for predictions and inference.\n",
      "You're using a BloomTokenizerFast tokenizer. Please note that with a fast tokenizer, using the `__call__` method is faster than using a method to encode the text followed by a call to the `pad` method to get a padded encoding.\n"
     ]
    },
    {
     "name": "stdout",
     "output_type": "stream",
     "text": [
      "1 / 10: Train Loss:\t93.0594\tVal Loss:\t91.9343\tAccuracy:\t0.2604\tF1:\t0.2066\n",
      "2 / 10: Train Loss:\t93.0594\tVal Loss:\t91.9343\tAccuracy:\t0.2604\tF1:\t0.2066\n",
      "3 / 10: Train Loss:\t93.0594\tVal Loss:\t91.9343\tAccuracy:\t0.2604\tF1:\t0.2066\n",
      "4 / 10: Train Loss:\t93.0594\tVal Loss:\t91.9343\tAccuracy:\t0.2604\tF1:\t0.2066\n",
      "5 / 10: Train Loss:\t93.0594\tVal Loss:\t91.9343\tAccuracy:\t0.2604\tF1:\t0.2066\n",
      "6 / 10: Train Loss:\t93.0594\tVal Loss:\t91.9343\tAccuracy:\t0.2604\tF1:\t0.2066\n",
      "7 / 10: Train Loss:\t93.0594\tVal Loss:\t91.9343\tAccuracy:\t0.2604\tF1:\t0.2066\n",
      "8 / 10: Train Loss:\t93.0594\tVal Loss:\t91.9343\tAccuracy:\t0.2604\tF1:\t0.2066\n",
      "9 / 10: Train Loss:\t93.0594\tVal Loss:\t91.9343\tAccuracy:\t0.2604\tF1:\t0.2066\n",
      "10 / 10: Train Loss:\t93.0594\tVal Loss:\t91.9343\tAccuracy:\t0.2604\tF1:\t0.2066\n",
      "best (higgest macro f1-score) val results:\n",
      "              precision    recall  f1-score   support\n",
      "\n",
      "       bknow       0.26      1.00      0.41       119\n",
      "      struct       0.00      0.00      0.00       338\n",
      "\n",
      "    accuracy                           0.26       457\n",
      "   macro avg       0.13      0.50      0.21       457\n",
      "weighted avg       0.07      0.26      0.11       457\n",
      "\n",
      "test results:\n",
      "              precision    recall  f1-score   support\n",
      "\n",
      "       bknow       0.26      1.00      0.42        67\n",
      "      struct       1.00      0.01      0.01       189\n",
      "\n",
      "    accuracy                           0.27       256\n",
      "   macro avg       0.63      0.50      0.21       256\n",
      "weighted avg       0.81      0.27      0.12       256\n",
      "\n",
      "### ### ### ### ### ### ### ### ### ### \n",
      "{'acc': [0.265625, 0.265625], 'f1': [0.21333769205622752, 0.21333769205622752], 'lr': [0.001, 0.0001]}\n",
      "### ### ### ### ### ### ### ### ### ### \n",
      "Grid search bigscience/bloom-560m, learning rate 1e-05\n"
     ]
    },
    {
     "name": "stderr",
     "output_type": "stream",
     "text": [
      "Some weights of BloomForSequenceClassification were not initialized from the model checkpoint at bigscience/bloom-560m and are newly initialized: ['score.weight']\n",
      "You should probably TRAIN this model on a down-stream task to be able to use it for predictions and inference.\n",
      "You're using a BloomTokenizerFast tokenizer. Please note that with a fast tokenizer, using the `__call__` method is faster than using a method to encode the text followed by a call to the `pad` method to get a padded encoding.\n"
     ]
    },
    {
     "name": "stdout",
     "output_type": "stream",
     "text": [
      "1 / 10: Train Loss:\t93.0594\tVal Loss:\t91.9343\tAccuracy:\t0.2604\tF1:\t0.2066\n",
      "2 / 10: Train Loss:\t93.0594\tVal Loss:\t91.9343\tAccuracy:\t0.2604\tF1:\t0.2066\n",
      "3 / 10: Train Loss:\t93.0594\tVal Loss:\t91.9343\tAccuracy:\t0.2604\tF1:\t0.2066\n",
      "4 / 10: Train Loss:\t93.0594\tVal Loss:\t91.9343\tAccuracy:\t0.2604\tF1:\t0.2066\n",
      "5 / 10: Train Loss:\t93.0594\tVal Loss:\t91.9343\tAccuracy:\t0.2604\tF1:\t0.2066\n",
      "6 / 10: Train Loss:\t93.0594\tVal Loss:\t91.9343\tAccuracy:\t0.2604\tF1:\t0.2066\n",
      "7 / 10: Train Loss:\t93.0594\tVal Loss:\t91.9343\tAccuracy:\t0.2604\tF1:\t0.2066\n",
      "8 / 10: Train Loss:\t93.0594\tVal Loss:\t91.9343\tAccuracy:\t0.2604\tF1:\t0.2066\n",
      "9 / 10: Train Loss:\t93.0594\tVal Loss:\t91.9343\tAccuracy:\t0.2604\tF1:\t0.2066\n",
      "10 / 10: Train Loss:\t93.0594\tVal Loss:\t91.9343\tAccuracy:\t0.2604\tF1:\t0.2066\n",
      "best (higgest macro f1-score) val results:\n",
      "              precision    recall  f1-score   support\n",
      "\n",
      "       bknow       0.26      1.00      0.41       119\n",
      "      struct       0.00      0.00      0.00       338\n",
      "\n",
      "    accuracy                           0.26       457\n",
      "   macro avg       0.13      0.50      0.21       457\n",
      "weighted avg       0.07      0.26      0.11       457\n",
      "\n",
      "test results:\n",
      "              precision    recall  f1-score   support\n",
      "\n",
      "       bknow       0.26      1.00      0.42        67\n",
      "      struct       1.00      0.01      0.01       189\n",
      "\n",
      "    accuracy                           0.27       256\n",
      "   macro avg       0.63      0.50      0.21       256\n",
      "weighted avg       0.81      0.27      0.12       256\n",
      "\n",
      "### ### ### ### ### ### ### ### ### ### \n",
      "{'acc': [0.265625, 0.265625, 0.265625], 'f1': [0.21333769205622752, 0.21333769205622752, 0.21333769205622752], 'lr': [0.001, 0.0001, 1e-05]}\n",
      "### ### ### ### ### ### ### ### ### ### \n",
      "Grid search bigscience/bloom-560m, learning rate 1e-06\n"
     ]
    },
    {
     "name": "stderr",
     "output_type": "stream",
     "text": [
      "Some weights of BloomForSequenceClassification were not initialized from the model checkpoint at bigscience/bloom-560m and are newly initialized: ['score.weight']\n",
      "You should probably TRAIN this model on a down-stream task to be able to use it for predictions and inference.\n",
      "You're using a BloomTokenizerFast tokenizer. Please note that with a fast tokenizer, using the `__call__` method is faster than using a method to encode the text followed by a call to the `pad` method to get a padded encoding.\n"
     ]
    },
    {
     "name": "stdout",
     "output_type": "stream",
     "text": [
      "1 / 10: Train Loss:\t93.0594\tVal Loss:\t91.9343\tAccuracy:\t0.2604\tF1:\t0.2066\n",
      "2 / 10: Train Loss:\t93.0594\tVal Loss:\t91.9343\tAccuracy:\t0.2604\tF1:\t0.2066\n",
      "3 / 10: Train Loss:\t93.0594\tVal Loss:\t91.9343\tAccuracy:\t0.2604\tF1:\t0.2066\n",
      "4 / 10: Train Loss:\t93.0594\tVal Loss:\t91.9343\tAccuracy:\t0.2604\tF1:\t0.2066\n",
      "5 / 10: Train Loss:\t93.0594\tVal Loss:\t91.9343\tAccuracy:\t0.2604\tF1:\t0.2066\n",
      "6 / 10: Train Loss:\t93.0594\tVal Loss:\t91.9343\tAccuracy:\t0.2604\tF1:\t0.2066\n",
      "7 / 10: Train Loss:\t93.0594\tVal Loss:\t91.9343\tAccuracy:\t0.2604\tF1:\t0.2066\n",
      "8 / 10: Train Loss:\t93.0594\tVal Loss:\t91.9343\tAccuracy:\t0.2604\tF1:\t0.2066\n",
      "9 / 10: Train Loss:\t93.0594\tVal Loss:\t91.9343\tAccuracy:\t0.2604\tF1:\t0.2066\n",
      "10 / 10: Train Loss:\t93.0594\tVal Loss:\t91.9343\tAccuracy:\t0.2604\tF1:\t0.2066\n",
      "best (higgest macro f1-score) val results:\n",
      "              precision    recall  f1-score   support\n",
      "\n",
      "       bknow       0.26      1.00      0.41       119\n",
      "      struct       0.00      0.00      0.00       338\n",
      "\n",
      "    accuracy                           0.26       457\n",
      "   macro avg       0.13      0.50      0.21       457\n",
      "weighted avg       0.07      0.26      0.11       457\n",
      "\n",
      "test results:\n",
      "              precision    recall  f1-score   support\n",
      "\n",
      "       bknow       0.26      1.00      0.42        67\n",
      "      struct       1.00      0.01      0.01       189\n",
      "\n",
      "    accuracy                           0.27       256\n",
      "   macro avg       0.63      0.50      0.21       256\n",
      "weighted avg       0.81      0.27      0.12       256\n",
      "\n",
      "### ### ### ### ### ### ### ### ### ### \n",
      "{'acc': [0.265625, 0.265625, 0.265625, 0.265625], 'f1': [0.21333769205622752, 0.21333769205622752, 0.21333769205622752, 0.21333769205622752], 'lr': [0.001, 0.0001, 1e-05, 1e-06]}\n",
      "### ### ### ### ### ### ### ### ### ### \n"
     ]
    }
   ],
   "source": [
    "learning_rates = [1.0e-3, 1.0e-4, 1.0e-5, 1.0e-6]\n",
    "for lr in learning_rates:\n",
    "    print(f'Grid search {model_checkpoint}, learning rate {lr}')\n",
    "    data = ClimateDataset(model_to_train=1,model_checkpoint=model_checkpoint,batch_size=32)\n",
    "    data.setup_dataloaders()\n",
    "    model = ClassificationModel(model_checkpoint=data.model_checkpoint,num_labels=data.num_labels, quantized_model=True)\n",
    "    trainer = Engine(epochs=10,labels=data.labels)\n",
    "    trainer.model = model.model\n",
    "    trainer.device = model.device\n",
    "    acc, f1 = trainer.run(lr=lr,wd=0.0,train_dataloader=data.train_dataloader,eval_dataloader=data.eval_dataloader,test_dataloader=data.test_dataloader)\n",
    "    results['acc'].append(acc)\n",
    "    results['f1'].append(f1)\n",
    "    results['lr'].append(lr)\n",
    "    print('### '*10)\n",
    "    print(results)\n",
    "    print('### '*10)\n",
    "    with torch.no_grad():\n",
    "        torch.cuda.empty_cache()\n",
    "    del data, model, trainer, acc, f1"
   ]
  },
  {
   "cell_type": "code",
   "execution_count": 15,
   "metadata": {},
   "outputs": [],
   "source": [
    "import matplotlib.pyplot as plt\n",
    "import seaborn as sns\n",
    "import pandas as pd"
   ]
  },
  {
   "cell_type": "code",
   "execution_count": 16,
   "metadata": {},
   "outputs": [
    {
     "data": {
      "image/png": "[encoded data removed]",
      "text/plain": [
       "<Figure size 640x480 with 1 Axes>"
      ]
     },
     "metadata": {},
     "output_type": "display_data"
    }
   ],
   "source": [
    "def plot_grid_search(df, title):\n",
    "\n",
    "    # Create the plot\n",
    "    ax = df.plot(x='lr', y=['acc', 'f1'], marker='o', linestyle='-')\n",
    "\n",
    "    # Set y-axis range between 0 and 1\n",
    "    plt.ylim(0, 1)\n",
    "\n",
    "    # Annotate points with F1 scores\n",
    "    for i, row in df.iterrows(): \n",
    "        ax.annotate(f'{row[\"f1\"]:.2f}', (row[\"lr\"], row[\"f1\"]), textcoords='offset points', xytext=(0, -10), ha='center')\n",
    "\n",
    "    # Annotate points with Acc scores\n",
    "    for i, row in df.iterrows():\n",
    "        ax.annotate(f'{row[\"acc\"]:.2f}', (row[\"lr\"], row[\"acc\"]), textcoords='offset points', xytext=(0, 10), ha='center')\n",
    "    \n",
    "    # \n",
    "    plt.xticks(df['lr'], [f'{val:.0e}' for val in df['lr']], ha='center')\n",
    "    plt.xscale('log')\n",
    "    plt.minorticks_off()\n",
    "\n",
    "    plt.title(title)\n",
    "    plt.xlabel('lr')\n",
    "    plt.ylabel('Score')\n",
    "    plt.show()\n",
    "\n",
    "plot_grid_search(pd.DataFrame(results), f'Learning rates {model_checkpoint}')"
   ]
  }
 ],
 "metadata": {
  "kernelspec": {
   "display_name": "Python 3",
   "language": "python",
   "name": "python3"
  },
  "language_info": {
   "codemirror_mode": {
    "name": "ipython",
    "version": 3
   },
   "file_extension": ".py",
   "mimetype": "text/x-python",
   "name": "python",
   "nbconvert_exporter": "python",
   "pygments_lexer": "ipython3",
   "version": "3.11.6"
  },
  "orig_nbformat": 4
 },
 "nbformat": 4,
 "nbformat_minor": 2
}
