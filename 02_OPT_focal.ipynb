{
 "cells": [
  {
   "cell_type": "code",
   "execution_count": 1,
   "metadata": {},
   "outputs": [],
   "source": [
    "import torch\n",
    "from data import ClimateDataset\n",
    "from models import ClassificationModel\n",
    "from engine import Engine"
   ]
  },
  {
   "cell_type": "code",
   "execution_count": 2,
   "metadata": {},
   "outputs": [],
   "source": [
    "model_checkpoint='facebook/opt-350m'"
   ]
  },
  {
   "cell_type": "code",
   "execution_count": 3,
   "metadata": {},
   "outputs": [],
   "source": [
    "results = {'acc':[],\n",
    "           'f1':[],\n",
    "           'g':[]}"
   ]
  },
  {
   "cell_type": "code",
   "execution_count": 4,
   "metadata": {},
   "outputs": [
    {
     "name": "stdout",
     "output_type": "stream",
     "text": [
      "Grid search facebook/opt-350m, lr: 1e-05 ,focal loss, gamma: 2\n"
     ]
    },
    {
     "data": {
      "application/vnd.jupyter.widget-view+json": {
       "model_id": "7020383034134205a09bc34c783979e7",
       "version_major": 2,
       "version_minor": 0
      },
      "text/plain": [
       "Downloading (…)okenizer_config.json:   0%|          | 0.00/685 [00:00<?, ?B/s]"
      ]
     },
     "metadata": {},
     "output_type": "display_data"
    },
    {
     "data": {
      "application/vnd.jupyter.widget-view+json": {
       "model_id": "10e61fc72f6b4c7eb1bc864c2c7367f3",
       "version_major": 2,
       "version_minor": 0
      },
      "text/plain": [
       "Downloading (…)lve/main/config.json:   0%|          | 0.00/644 [00:00<?, ?B/s]"
      ]
     },
     "metadata": {},
     "output_type": "display_data"
    },
    {
     "data": {
      "application/vnd.jupyter.widget-view+json": {
       "model_id": "249a33af42df4c739cbfe12d777a87c7",
       "version_major": 2,
       "version_minor": 0
      },
      "text/plain": [
       "Downloading (…)olve/main/vocab.json:   0%|          | 0.00/899k [00:00<?, ?B/s]"
      ]
     },
     "metadata": {},
     "output_type": "display_data"
    },
    {
     "data": {
      "application/vnd.jupyter.widget-view+json": {
       "model_id": "10dc1ca58fde412487e31734e6bebcfe",
       "version_major": 2,
       "version_minor": 0
      },
      "text/plain": [
       "Downloading (…)olve/main/merges.txt:   0%|          | 0.00/456k [00:00<?, ?B/s]"
      ]
     },
     "metadata": {},
     "output_type": "display_data"
    },
    {
     "data": {
      "application/vnd.jupyter.widget-view+json": {
       "model_id": "3ada2369e9714c468733c8546ec764b9",
       "version_major": 2,
       "version_minor": 0
      },
      "text/plain": [
       "Downloading (…)cial_tokens_map.json:   0%|          | 0.00/441 [00:00<?, ?B/s]"
      ]
     },
     "metadata": {},
     "output_type": "display_data"
    },
    {
     "data": {
      "application/vnd.jupyter.widget-view+json": {
       "model_id": "fcae6e365d9e41b9bf906bb4a3e1b427",
       "version_major": 2,
       "version_minor": 0
      },
      "text/plain": [
       "Map:   0%|          | 0/1796 [00:00<?, ? examples/s]"
      ]
     },
     "metadata": {},
     "output_type": "display_data"
    },
    {
     "name": "stderr",
     "output_type": "stream",
     "text": [
      "Asking to truncate to max_length but no maximum length is provided and the model has no predefined maximum length. Default to no truncation.\n"
     ]
    },
    {
     "data": {
      "application/vnd.jupyter.widget-view+json": {
       "model_id": "488a539cf6404e3ab2348ed474a2e915",
       "version_major": 2,
       "version_minor": 0
      },
      "text/plain": [
       "Map:   0%|          | 0/256 [00:00<?, ? examples/s]"
      ]
     },
     "metadata": {},
     "output_type": "display_data"
    },
    {
     "data": {
      "application/vnd.jupyter.widget-view+json": {
       "model_id": "03b4aa2914a144ce814b1ab801c04748",
       "version_major": 2,
       "version_minor": 0
      },
      "text/plain": [
       "Map:   0%|          | 0/457 [00:00<?, ? examples/s]"
      ]
     },
     "metadata": {},
     "output_type": "display_data"
    },
    {
     "data": {
      "application/vnd.jupyter.widget-view+json": {
       "model_id": "bdbb06f53b284adabe488ecd3f2ec240",
       "version_major": 2,
       "version_minor": 0
      },
      "text/plain": [
       "Downloading pytorch_model.bin:   0%|          | 0.00/663M [00:00<?, ?B/s]"
      ]
     },
     "metadata": {},
     "output_type": "display_data"
    },
    {
     "name": "stderr",
     "output_type": "stream",
     "text": [
      "Some weights of OPTForSequenceClassification were not initialized from the model checkpoint at facebook/opt-350m and are newly initialized: ['score.weight']\n",
      "You should probably TRAIN this model on a down-stream task to be able to use it for predictions and inference.\n",
      "You're using a GPT2TokenizerFast tokenizer. Please note that with a fast tokenizer, using the `__call__` method is faster than using a method to encode the text followed by a call to the `pad` method to get a padded encoding.\n"
     ]
    },
    {
     "name": "stdout",
     "output_type": "stream",
     "text": [
      "1 / 10: Train Loss:\t1.0237\tVal Loss:\t0.6331\tAccuracy:\t0.5667\tF1:\t0.5625\n",
      "2 / 10: Train Loss:\t0.3660\tVal Loss:\t0.4812\tAccuracy:\t0.7659\tF1:\t0.6659\n",
      "3 / 10: Train Loss:\t0.3890\tVal Loss:\t0.5508\tAccuracy:\t0.7265\tF1:\t0.6981\n",
      "4 / 10: Train Loss:\t0.3846\tVal Loss:\t0.8244\tAccuracy:\t0.6018\tF1:\t0.5963\n",
      "5 / 10: Train Loss:\t0.2951\tVal Loss:\t0.5574\tAccuracy:\t0.7681\tF1:\t0.7226\n",
      "6 / 10: Train Loss:\t0.2762\tVal Loss:\t0.6519\tAccuracy:\t0.6761\tF1:\t0.6602\n",
      "7 / 10: Train Loss:\t0.2248\tVal Loss:\t0.6211\tAccuracy:\t0.7549\tF1:\t0.7202\n",
      "8 / 10: Train Loss:\t0.5265\tVal Loss:\t0.6811\tAccuracy:\t0.7396\tF1:\t0.4252\n",
      "No improvement for 3 epochs. Stopping early.\n",
      "best (higgest macro f1-score) val results:\n",
      "              precision    recall  f1-score   support\n",
      "\n",
      "       bknow       0.00      0.00      0.00       119\n",
      "      struct       0.74      1.00      0.85       338\n",
      "\n",
      "    accuracy                           0.74       457\n",
      "   macro avg       0.37      0.50      0.43       457\n",
      "weighted avg       0.55      0.74      0.63       457\n",
      "\n",
      "test results:\n",
      "              precision    recall  f1-score   support\n",
      "\n",
      "       bknow       0.00      0.00      0.00        67\n",
      "      struct       0.74      1.00      0.85       189\n",
      "\n",
      "    accuracy                           0.74       256\n",
      "   macro avg       0.37      0.50      0.42       256\n",
      "weighted avg       0.55      0.74      0.63       256\n",
      "\n",
      "### ### ### ### ### ### ### ### ### ### \n",
      "{'acc': [0.73828125], 'f1': [0.4247191011235955], 'g': [2]}\n",
      "### ### ### ### ### ### ### ### ### ### \n",
      "Grid search facebook/opt-350m, lr: 1e-05 ,focal loss, gamma: 4\n"
     ]
    },
    {
     "data": {
      "application/vnd.jupyter.widget-view+json": {
       "model_id": "7a936a3210174d85ae5b42d555667163",
       "version_major": 2,
       "version_minor": 0
      },
      "text/plain": [
       "Map:   0%|          | 0/256 [00:00<?, ? examples/s]"
      ]
     },
     "metadata": {},
     "output_type": "display_data"
    },
    {
     "name": "stderr",
     "output_type": "stream",
     "text": [
      "Asking to truncate to max_length but no maximum length is provided and the model has no predefined maximum length. Default to no truncation.\n",
      "Some weights of OPTForSequenceClassification were not initialized from the model checkpoint at facebook/opt-350m and are newly initialized: ['score.weight']\n",
      "You should probably TRAIN this model on a down-stream task to be able to use it for predictions and inference.\n",
      "You're using a GPT2TokenizerFast tokenizer. Please note that with a fast tokenizer, using the `__call__` method is faster than using a method to encode the text followed by a call to the `pad` method to get a padded encoding.\n"
     ]
    },
    {
     "name": "stdout",
     "output_type": "stream",
     "text": [
      "1 / 10: Train Loss:\t0.7274\tVal Loss:\t0.6397\tAccuracy:\t0.5602\tF1:\t0.5564\n",
      "2 / 10: Train Loss:\t0.1125\tVal Loss:\t0.5855\tAccuracy:\t0.7046\tF1:\t0.6545\n",
      "3 / 10: Train Loss:\t0.1149\tVal Loss:\t0.5947\tAccuracy:\t0.6324\tF1:\t0.6192\n",
      "4 / 10: Train Loss:\t0.0968\tVal Loss:\t0.5789\tAccuracy:\t0.7002\tF1:\t0.6772\n",
      "5 / 10: Train Loss:\t0.2636\tVal Loss:\t0.8136\tAccuracy:\t0.4201\tF1:\t0.4142\n",
      "6 / 10: Train Loss:\t0.0956\tVal Loss:\t0.4530\tAccuracy:\t0.8074\tF1:\t0.7121\n",
      "7 / 10: Train Loss:\t0.0643\tVal Loss:\t0.5499\tAccuracy:\t0.7527\tF1:\t0.7192\n",
      "8 / 10: Train Loss:\t0.1138\tVal Loss:\t0.9134\tAccuracy:\t0.6083\tF1:\t0.5894\n",
      "9 / 10: Train Loss:\t0.1457\tVal Loss:\t0.5923\tAccuracy:\t0.6718\tF1:\t0.6569\n",
      "10 / 10: Train Loss:\t0.1044\tVal Loss:\t0.4630\tAccuracy:\t0.8009\tF1:\t0.7436\n",
      "best (higgest macro f1-score) val results:\n",
      "              precision    recall  f1-score   support\n",
      "\n",
      "       bknow       0.61      0.63      0.62       119\n",
      "      struct       0.87      0.86      0.86       338\n",
      "\n",
      "    accuracy                           0.80       457\n",
      "   macro avg       0.74      0.75      0.74       457\n",
      "weighted avg       0.80      0.80      0.80       457\n",
      "\n",
      "test results:\n",
      "              precision    recall  f1-score   support\n",
      "\n",
      "       bknow       0.55      0.61      0.58        67\n",
      "      struct       0.86      0.82      0.84       189\n",
      "\n",
      "    accuracy                           0.77       256\n",
      "   macro avg       0.70      0.72      0.71       256\n",
      "weighted avg       0.78      0.77      0.77       256\n",
      "\n",
      "### ### ### ### ### ### ### ### ### ### \n",
      "{'acc': [0.73828125, 0.765625], 'f1': [0.4247191011235955, 0.7076513132851161], 'g': [2, 4]}\n",
      "### ### ### ### ### ### ### ### ### ### \n",
      "Grid search facebook/opt-350m, lr: 1e-05 ,focal loss, gamma: 8\n"
     ]
    },
    {
     "data": {
      "application/vnd.jupyter.widget-view+json": {
       "model_id": "d9261bf94c3746878a26ec9aeeb54aa4",
       "version_major": 2,
       "version_minor": 0
      },
      "text/plain": [
       "Map:   0%|          | 0/457 [00:00<?, ? examples/s]"
      ]
     },
     "metadata": {},
     "output_type": "display_data"
    },
    {
     "name": "stderr",
     "output_type": "stream",
     "text": [
      "Asking to truncate to max_length but no maximum length is provided and the model has no predefined maximum length. Default to no truncation.\n",
      "Some weights of OPTForSequenceClassification were not initialized from the model checkpoint at facebook/opt-350m and are newly initialized: ['score.weight']\n",
      "You should probably TRAIN this model on a down-stream task to be able to use it for predictions and inference.\n",
      "You're using a GPT2TokenizerFast tokenizer. Please note that with a fast tokenizer, using the `__call__` method is faster than using a method to encode the text followed by a call to the `pad` method to get a padded encoding.\n"
     ]
    },
    {
     "name": "stdout",
     "output_type": "stream",
     "text": [
      "1 / 10: Train Loss:\t0.4918\tVal Loss:\t0.7974\tAccuracy:\t0.3961\tF1:\t0.3872\n",
      "2 / 10: Train Loss:\t0.0330\tVal Loss:\t0.7282\tAccuracy:\t0.4048\tF1:\t0.3967\n",
      "3 / 10: Train Loss:\t0.0148\tVal Loss:\t0.6304\tAccuracy:\t0.5427\tF1:\t0.5362\n",
      "4 / 10: Train Loss:\t0.0121\tVal Loss:\t0.5777\tAccuracy:\t0.7527\tF1:\t0.6607\n",
      "5 / 10: Train Loss:\t0.0140\tVal Loss:\t0.5911\tAccuracy:\t0.7221\tF1:\t0.6875\n",
      "6 / 10: Train Loss:\t0.0107\tVal Loss:\t0.5614\tAccuracy:\t0.7746\tF1:\t0.6847\n",
      "7 / 10: Train Loss:\t0.0153\tVal Loss:\t0.5903\tAccuracy:\t0.7374\tF1:\t0.6804\n",
      "8 / 10: Train Loss:\t0.0094\tVal Loss:\t0.5511\tAccuracy:\t0.7702\tF1:\t0.6628\n",
      "No improvement for 3 epochs. Stopping early.\n",
      "best (higgest macro f1-score) val results:\n",
      "              precision    recall  f1-score   support\n",
      "\n",
      "       bknow       0.59      0.39      0.47       119\n",
      "      struct       0.81      0.90      0.85       338\n",
      "\n",
      "    accuracy                           0.77       457\n",
      "   macro avg       0.70      0.65      0.66       457\n",
      "weighted avg       0.75      0.77      0.75       457\n",
      "\n",
      "test results:\n",
      "              precision    recall  f1-score   support\n",
      "\n",
      "       bknow       0.66      0.49      0.56        67\n",
      "      struct       0.83      0.91      0.87       189\n",
      "\n",
      "    accuracy                           0.80       256\n",
      "   macro avg       0.75      0.70      0.72       256\n",
      "weighted avg       0.79      0.80      0.79       256\n",
      "\n",
      "### ### ### ### ### ### ### ### ### ### \n",
      "{'acc': [0.73828125, 0.765625, 0.80078125], 'f1': [0.4247191011235955, 0.7076513132851161, 0.7174943200259656], 'g': [2, 4, 8]}\n",
      "### ### ### ### ### ### ### ### ### ### \n",
      "Grid search facebook/opt-350m, lr: 1e-05 ,focal loss, gamma: 16\n"
     ]
    },
    {
     "name": "stderr",
     "output_type": "stream",
     "text": [
      "Some weights of OPTForSequenceClassification were not initialized from the model checkpoint at facebook/opt-350m and are newly initialized: ['score.weight']\n",
      "You should probably TRAIN this model on a down-stream task to be able to use it for predictions and inference.\n",
      "You're using a GPT2TokenizerFast tokenizer. Please note that with a fast tokenizer, using the `__call__` method is faster than using a method to encode the text followed by a call to the `pad` method to get a padded encoding.\n"
     ]
    },
    {
     "name": "stdout",
     "output_type": "stream",
     "text": [
      "1 / 10: Train Loss:\t0.5106\tVal Loss:\t0.6144\tAccuracy:\t0.7046\tF1:\t0.5921\n",
      "2 / 10: Train Loss:\t0.0014\tVal Loss:\t0.6134\tAccuracy:\t0.6915\tF1:\t0.6069\n",
      "3 / 10: Train Loss:\t0.0008\tVal Loss:\t0.5962\tAccuracy:\t0.7265\tF1:\t0.5831\n",
      "4 / 10: Train Loss:\t0.0008\tVal Loss:\t0.6344\tAccuracy:\t0.6893\tF1:\t0.6299\n",
      "5 / 10: Train Loss:\t0.0008\tVal Loss:\t0.6531\tAccuracy:\t0.5536\tF1:\t0.5438\n",
      "6 / 10: Train Loss:\t0.0012\tVal Loss:\t0.6291\tAccuracy:\t0.6871\tF1:\t0.6395\n",
      "7 / 10: Train Loss:\t0.0005\tVal Loss:\t0.6083\tAccuracy:\t0.7484\tF1:\t0.6547\n",
      "8 / 10: Train Loss:\t0.0008\tVal Loss:\t0.6196\tAccuracy:\t0.7155\tF1:\t0.6347\n",
      "9 / 10: Train Loss:\t0.0009\tVal Loss:\t0.5959\tAccuracy:\t0.7527\tF1:\t0.6108\n",
      "10 / 10: Train Loss:\t0.0006\tVal Loss:\t0.5749\tAccuracy:\t0.7484\tF1:\t0.5233\n",
      "No improvement for 3 epochs. Stopping early.\n",
      "best (higgest macro f1-score) val results:\n",
      "              precision    recall  f1-score   support\n",
      "\n",
      "       bknow       0.58      0.12      0.20       119\n",
      "      struct       0.76      0.97      0.85       338\n",
      "\n",
      "    accuracy                           0.75       457\n",
      "   macro avg       0.67      0.54      0.52       457\n",
      "weighted avg       0.71      0.75      0.68       457\n",
      "\n",
      "test results:\n",
      "              precision    recall  f1-score   support\n",
      "\n",
      "       bknow       0.62      0.24      0.34        67\n",
      "      struct       0.78      0.95      0.85       189\n",
      "\n",
      "    accuracy                           0.76       256\n",
      "   macro avg       0.70      0.59      0.60       256\n",
      "weighted avg       0.74      0.76      0.72       256\n",
      "\n",
      "### ### ### ### ### ### ### ### ### ### \n",
      "{'acc': [0.73828125, 0.765625, 0.80078125, 0.76171875], 'f1': [0.4247191011235955, 0.7076513132851161, 0.7174943200259656, 0.5992506479841917], 'g': [2, 4, 8, 16]}\n",
      "### ### ### ### ### ### ### ### ### ### \n"
     ]
    }
   ],
   "source": [
    "gamma = [2,4,8,16]\n",
    "lr = 1.0e-5\n",
    "for g in gamma:\n",
    "    print(f'Grid search {model_checkpoint}, lr: {lr} ,focal loss, gamma: {g}')\n",
    "    data = ClimateDataset(model_to_train=1,model_checkpoint=model_checkpoint,batch_size=32)\n",
    "    data.setup_dataloaders()\n",
    "    model = ClassificationModel(model_checkpoint=data.model_checkpoint,num_labels=data.num_labels)\n",
    "    trainer = Engine(epochs=10,labels=data.labels)\n",
    "    trainer.model = model.model\n",
    "    trainer.dataset_encoded = data.dataset_encoded\n",
    "    acc, f1 = trainer.run(lr=lr,\n",
    "                          wd=0.0,\n",
    "                          train_dataloader=data.train_dataloader,\n",
    "                          eval_dataloader=data.eval_dataloader,\n",
    "                          test_dataloader=data.test_dataloader,\n",
    "                          focalloss=True,\n",
    "                          early_stop=3,\n",
    "                          gamma=g)\n",
    "    results['acc'].append(acc)\n",
    "    results['f1'].append(f1)\n",
    "    results['g'].append(g)\n",
    "    print('### '*10)\n",
    "    print(results)\n",
    "    print('### '*10)\n",
    "    with torch.no_grad():\n",
    "        torch.cuda.empty_cache()\n",
    "    del data, model, trainer, acc, f1"
   ]
  },
  {
   "cell_type": "code",
   "execution_count": 5,
   "metadata": {},
   "outputs": [],
   "source": [
    "import matplotlib.pyplot as plt\n",
    "import seaborn as sns\n",
    "import pandas as pd"
   ]
  },
  {
   "cell_type": "code",
   "execution_count": 6,
   "metadata": {},
   "outputs": [
    {
     "data": {
      "image/png": "[encoded data removed]",
      "text/plain": [
       "<Figure size 640x480 with 1 Axes>"
      ]
     },
     "metadata": {},
     "output_type": "display_data"
    }
   ],
   "source": [
    "def plot_grid_search(df, title):\n",
    "\n",
    "    # Create the plot\n",
    "    ax = df.plot(x='g', y=['acc', 'f1'], marker='o', linestyle='-')\n",
    "\n",
    "    # Set y-axis range between 0 and 1\n",
    "    plt.ylim(0, 1)\n",
    "\n",
    "    # Annotate points with F1 scores\n",
    "    for i, row in df.iterrows(): \n",
    "        ax.annotate(f'{row[\"f1\"]:.2f}', (row[\"g\"], row[\"f1\"]), textcoords='offset points', xytext=(0, -10), ha='center')\n",
    "\n",
    "    # Annotate points with Acc scores\n",
    "    for i, row in df.iterrows():\n",
    "        ax.annotate(f'{row[\"acc\"]:.2f}', (row[\"g\"], row[\"acc\"]), textcoords='offset points', xytext=(0, 10), ha='center')\n",
    "    \n",
    "    # \n",
    "    plt.xticks(df['g'], [val for val in df['g']], ha='center')\n",
    "    # plt.xscale('log')\n",
    "    plt.minorticks_off()\n",
    "\n",
    "    plt.title(title)\n",
    "    plt.xlabel('gamma')\n",
    "    plt.ylabel('Score')\n",
    "    plt.show()\n",
    "\n",
    "plot_grid_search(pd.DataFrame(results), f'Focal loss, lr: 1.0e-4 {model_checkpoint}')"
   ]
  }
 ],
 "metadata": {
  "kernelspec": {
   "display_name": "Python 3",
   "language": "python",
   "name": "python3"
  },
  "language_info": {
   "codemirror_mode": {
    "name": "ipython",
    "version": 3
   },
   "file_extension": ".py",
   "mimetype": "text/x-python",
   "name": "python",
   "nbconvert_exporter": "python",
   "pygments_lexer": "ipython3",
   "version": "3.11.5"
  },
  "orig_nbformat": 4
 },
 "nbformat": 4,
 "nbformat_minor": 2
}
