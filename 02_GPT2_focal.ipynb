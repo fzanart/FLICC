{
 "cells": [
  {
   "cell_type": "code",
   "execution_count": 1,
   "metadata": {},
   "outputs": [],
   "source": [
    "import torch\n",
    "from data import ClimateDataset\n",
    "from models import ClassificationModel\n",
    "from engine import Engine"
   ]
  },
  {
   "cell_type": "code",
   "execution_count": 2,
   "metadata": {},
   "outputs": [],
   "source": [
    "model_checkpoint='gpt2'"
   ]
  },
  {
   "cell_type": "code",
   "execution_count": 3,
   "metadata": {},
   "outputs": [],
   "source": [
    "results = {'acc':[],\n",
    "           'f1':[],\n",
    "           'g':[]}"
   ]
  },
  {
   "cell_type": "code",
   "execution_count": 4,
   "metadata": {},
   "outputs": [
    {
     "name": "stdout",
     "output_type": "stream",
     "text": [
      "Grid search gpt2, lr: 0.0001 ,focal loss, gamma: 2\n"
     ]
    },
    {
     "data": {
      "application/vnd.jupyter.widget-view+json": {
       "model_id": "3c31729284b8451a9439eb491220fbef",
       "version_major": 2,
       "version_minor": 0
      },
      "text/plain": [
       "Downloading data files:   0%|          | 0/1 [00:00<?, ?it/s]"
      ]
     },
     "metadata": {},
     "output_type": "display_data"
    },
    {
     "data": {
      "application/vnd.jupyter.widget-view+json": {
       "model_id": "b0562c6c51734c1f9d980d8b8fdb0882",
       "version_major": 2,
       "version_minor": 0
      },
      "text/plain": [
       "Extracting data files:   0%|          | 0/1 [00:00<?, ?it/s]"
      ]
     },
     "metadata": {},
     "output_type": "display_data"
    },
    {
     "data": {
      "application/vnd.jupyter.widget-view+json": {
       "model_id": "85a61f7dbc0d4f1ca982966b2becd439",
       "version_major": 2,
       "version_minor": 0
      },
      "text/plain": [
       "Generating train split: 0 examples [00:00, ? examples/s]"
      ]
     },
     "metadata": {},
     "output_type": "display_data"
    },
    {
     "data": {
      "application/vnd.jupyter.widget-view+json": {
       "model_id": "2020a510de01427a94497743da5a89c9",
       "version_major": 2,
       "version_minor": 0
      },
      "text/plain": [
       "Downloading data files:   0%|          | 0/1 [00:00<?, ?it/s]"
      ]
     },
     "metadata": {},
     "output_type": "display_data"
    },
    {
     "data": {
      "application/vnd.jupyter.widget-view+json": {
       "model_id": "6ff3f728ed8b4508befa814b63e4072f",
       "version_major": 2,
       "version_minor": 0
      },
      "text/plain": [
       "Extracting data files:   0%|          | 0/1 [00:00<?, ?it/s]"
      ]
     },
     "metadata": {},
     "output_type": "display_data"
    },
    {
     "data": {
      "application/vnd.jupyter.widget-view+json": {
       "model_id": "0206e1ffcd9e4945a74f961c1f9d4444",
       "version_major": 2,
       "version_minor": 0
      },
      "text/plain": [
       "Generating train split: 0 examples [00:00, ? examples/s]"
      ]
     },
     "metadata": {},
     "output_type": "display_data"
    },
    {
     "data": {
      "application/vnd.jupyter.widget-view+json": {
       "model_id": "844c95154f014828b39e7a43c1d2c97a",
       "version_major": 2,
       "version_minor": 0
      },
      "text/plain": [
       "Downloading data files:   0%|          | 0/1 [00:00<?, ?it/s]"
      ]
     },
     "metadata": {},
     "output_type": "display_data"
    },
    {
     "data": {
      "application/vnd.jupyter.widget-view+json": {
       "model_id": "b1ece1d310904f64a08909f89aea89ef",
       "version_major": 2,
       "version_minor": 0
      },
      "text/plain": [
       "Extracting data files:   0%|          | 0/1 [00:00<?, ?it/s]"
      ]
     },
     "metadata": {},
     "output_type": "display_data"
    },
    {
     "data": {
      "application/vnd.jupyter.widget-view+json": {
       "model_id": "130df9c2762b4a6c9002d33bbe190d5e",
       "version_major": 2,
       "version_minor": 0
      },
      "text/plain": [
       "Generating train split: 0 examples [00:00, ? examples/s]"
      ]
     },
     "metadata": {},
     "output_type": "display_data"
    },
    {
     "data": {
      "application/vnd.jupyter.widget-view+json": {
       "model_id": "47d544b8f0a44636b43b65d14e780dfc",
       "version_major": 2,
       "version_minor": 0
      },
      "text/plain": [
       "Map:   0%|          | 0/1796 [00:00<?, ? examples/s]"
      ]
     },
     "metadata": {},
     "output_type": "display_data"
    },
    {
     "data": {
      "application/vnd.jupyter.widget-view+json": {
       "model_id": "383f9bf0b3734013b92ced3fd97b70d2",
       "version_major": 2,
       "version_minor": 0
      },
      "text/plain": [
       "Map:   0%|          | 0/256 [00:00<?, ? examples/s]"
      ]
     },
     "metadata": {},
     "output_type": "display_data"
    },
    {
     "data": {
      "application/vnd.jupyter.widget-view+json": {
       "model_id": "1956afb03a254d96b0e3244f53e57723",
       "version_major": 2,
       "version_minor": 0
      },
      "text/plain": [
       "Map:   0%|          | 0/457 [00:00<?, ? examples/s]"
      ]
     },
     "metadata": {},
     "output_type": "display_data"
    },
    {
     "data": {
      "application/vnd.jupyter.widget-view+json": {
       "model_id": "3b13d4d3b80a409e8b6d98f774435562",
       "version_major": 2,
       "version_minor": 0
      },
      "text/plain": [
       "Downloading model.safetensors:   0%|          | 0.00/548M [00:00<?, ?B/s]"
      ]
     },
     "metadata": {},
     "output_type": "display_data"
    },
    {
     "name": "stderr",
     "output_type": "stream",
     "text": [
      "Some weights of GPT2ForSequenceClassification were not initialized from the model checkpoint at gpt2 and are newly initialized: ['score.weight']\n",
      "You should probably TRAIN this model on a down-stream task to be able to use it for predictions and inference.\n",
      "You're using a GPT2TokenizerFast tokenizer. Please note that with a fast tokenizer, using the `__call__` method is faster than using a method to encode the text followed by a call to the `pad` method to get a padded encoding.\n"
     ]
    },
    {
     "name": "stdout",
     "output_type": "stream",
     "text": [
      "1 / 10: Train Loss:\t0.8777\tVal Loss:\t0.6516\tAccuracy:\t0.7199\tF1:\t0.5573\n",
      "2 / 10: Train Loss:\t0.3371\tVal Loss:\t0.6209\tAccuracy:\t0.7309\tF1:\t0.6457\n",
      "3 / 10: Train Loss:\t0.3094\tVal Loss:\t0.5933\tAccuracy:\t0.7681\tF1:\t0.6921\n",
      "4 / 10: Train Loss:\t0.2912\tVal Loss:\t0.5705\tAccuracy:\t0.7877\tF1:\t0.7123\n",
      "5 / 10: Train Loss:\t0.2588\tVal Loss:\t0.5556\tAccuracy:\t0.7834\tF1:\t0.7196\n",
      "6 / 10: Train Loss:\t0.2455\tVal Loss:\t0.5501\tAccuracy:\t0.7856\tF1:\t0.7435\n",
      "7 / 10: Train Loss:\t0.1986\tVal Loss:\t0.4703\tAccuracy:\t0.8293\tF1:\t0.7605\n",
      "8 / 10: Train Loss:\t0.1568\tVal Loss:\t0.4148\tAccuracy:\t0.8337\tF1:\t0.7495\n",
      "9 / 10: Train Loss:\t0.1414\tVal Loss:\t0.5406\tAccuracy:\t0.7112\tF1:\t0.6870\n",
      "10 / 10: Train Loss:\t0.1195\tVal Loss:\t0.5391\tAccuracy:\t0.7199\tF1:\t0.6948\n",
      "No improvement for 3 epochs. Stopping early.\n",
      "best (higgest macro f1-score) val results:\n",
      "              precision    recall  f1-score   support\n",
      "\n",
      "       bknow       0.48      0.83      0.61       119\n",
      "      struct       0.92      0.68      0.78       338\n",
      "\n",
      "    accuracy                           0.72       457\n",
      "   macro avg       0.70      0.76      0.69       457\n",
      "weighted avg       0.80      0.72      0.74       457\n",
      "\n",
      "test results:\n",
      "              precision    recall  f1-score   support\n",
      "\n",
      "       bknow       0.42      0.79      0.55        67\n",
      "      struct       0.89      0.62      0.73       189\n",
      "\n",
      "    accuracy                           0.66       256\n",
      "   macro avg       0.66      0.71      0.64       256\n",
      "weighted avg       0.77      0.66      0.68       256\n",
      "\n",
      "### ### ### ### ### ### ### ### ### ### \n",
      "{'acc': [0.6640625], 'f1': [0.6416666666666666], 'g': [2]}\n",
      "### ### ### ### ### ### ### ### ### ### \n",
      "Grid search gpt2, lr: 0.0001 ,focal loss, gamma: 4\n"
     ]
    },
    {
     "data": {
      "application/vnd.jupyter.widget-view+json": {
       "model_id": "fb37a430ddc249b4a5e625f1fae49011",
       "version_major": 2,
       "version_minor": 0
      },
      "text/plain": [
       "Map:   0%|          | 0/256 [00:00<?, ? examples/s]"
      ]
     },
     "metadata": {},
     "output_type": "display_data"
    },
    {
     "name": "stderr",
     "output_type": "stream",
     "text": [
      "Some weights of GPT2ForSequenceClassification were not initialized from the model checkpoint at gpt2 and are newly initialized: ['score.weight']\n",
      "You should probably TRAIN this model on a down-stream task to be able to use it for predictions and inference.\n",
      "You're using a GPT2TokenizerFast tokenizer. Please note that with a fast tokenizer, using the `__call__` method is faster than using a method to encode the text followed by a call to the `pad` method to get a padded encoding.\n"
     ]
    },
    {
     "name": "stdout",
     "output_type": "stream",
     "text": [
      "1 / 10: Train Loss:\t0.5959\tVal Loss:\t0.7083\tAccuracy:\t0.4508\tF1:\t0.4492\n",
      "2 / 10: Train Loss:\t0.0974\tVal Loss:\t0.6823\tAccuracy:\t0.5974\tF1:\t0.5648\n",
      "3 / 10: Train Loss:\t0.0876\tVal Loss:\t0.6631\tAccuracy:\t0.6761\tF1:\t0.6190\n",
      "4 / 10: Train Loss:\t0.0823\tVal Loss:\t0.6360\tAccuracy:\t0.7681\tF1:\t0.6766\n",
      "5 / 10: Train Loss:\t0.0812\tVal Loss:\t0.6104\tAccuracy:\t0.7987\tF1:\t0.6818\n",
      "6 / 10: Train Loss:\t0.0766\tVal Loss:\t0.6134\tAccuracy:\t0.7768\tF1:\t0.6888\n",
      "7 / 10: Train Loss:\t0.0682\tVal Loss:\t0.5945\tAccuracy:\t0.7856\tF1:\t0.6929\n",
      "8 / 10: Train Loss:\t0.0678\tVal Loss:\t0.5765\tAccuracy:\t0.8009\tF1:\t0.7098\n",
      "9 / 10: Train Loss:\t0.0642\tVal Loss:\t0.5698\tAccuracy:\t0.8053\tF1:\t0.7360\n",
      "10 / 10: Train Loss:\t0.0588\tVal Loss:\t0.5857\tAccuracy:\t0.7899\tF1:\t0.7455\n",
      "best (higgest macro f1-score) val results:\n",
      "              precision    recall  f1-score   support\n",
      "\n",
      "       bknow       0.58      0.71      0.64       119\n",
      "      struct       0.89      0.82      0.85       338\n",
      "\n",
      "    accuracy                           0.79       457\n",
      "   macro avg       0.73      0.77      0.75       457\n",
      "weighted avg       0.81      0.79      0.80       457\n",
      "\n",
      "test results:\n",
      "              precision    recall  f1-score   support\n",
      "\n",
      "       bknow       0.50      0.69      0.58        67\n",
      "      struct       0.87      0.76      0.81       189\n",
      "\n",
      "    accuracy                           0.74       256\n",
      "   macro avg       0.69      0.72      0.69       256\n",
      "weighted avg       0.77      0.74      0.75       256\n",
      "\n",
      "### ### ### ### ### ### ### ### ### ### \n",
      "{'acc': [0.6640625, 0.73828125], 'f1': [0.6416666666666666, 0.694407326242272], 'g': [2, 4]}\n",
      "### ### ### ### ### ### ### ### ### ### \n",
      "Grid search gpt2, lr: 0.0001 ,focal loss, gamma: 8\n"
     ]
    },
    {
     "data": {
      "application/vnd.jupyter.widget-view+json": {
       "model_id": "912d8eec23014341baedafc7d5230a35",
       "version_major": 2,
       "version_minor": 0
      },
      "text/plain": [
       "Map:   0%|          | 0/457 [00:00<?, ? examples/s]"
      ]
     },
     "metadata": {},
     "output_type": "display_data"
    },
    {
     "name": "stderr",
     "output_type": "stream",
     "text": [
      "Some weights of GPT2ForSequenceClassification were not initialized from the model checkpoint at gpt2 and are newly initialized: ['score.weight']\n",
      "You should probably TRAIN this model on a down-stream task to be able to use it for predictions and inference.\n",
      "You're using a GPT2TokenizerFast tokenizer. Please note that with a fast tokenizer, using the `__call__` method is faster than using a method to encode the text followed by a call to the `pad` method to get a padded encoding.\n"
     ]
    },
    {
     "name": "stdout",
     "output_type": "stream",
     "text": [
      "1 / 10: Train Loss:\t0.4029\tVal Loss:\t0.6700\tAccuracy:\t0.6827\tF1:\t0.5164\n",
      "2 / 10: Train Loss:\t0.0100\tVal Loss:\t0.7089\tAccuracy:\t0.4464\tF1:\t0.4433\n",
      "3 / 10: Train Loss:\t0.0086\tVal Loss:\t0.7120\tAccuracy:\t0.4311\tF1:\t0.4309\n",
      "4 / 10: Train Loss:\t0.0078\tVal Loss:\t0.6973\tAccuracy:\t0.5252\tF1:\t0.5094\n",
      "No improvement for 3 epochs. Stopping early.\n",
      "best (higgest macro f1-score) val results:\n",
      "              precision    recall  f1-score   support\n",
      "\n",
      "       bknow       0.31      0.66      0.42       119\n",
      "      struct       0.80      0.48      0.60       338\n",
      "\n",
      "    accuracy                           0.53       457\n",
      "   macro avg       0.55      0.57      0.51       457\n",
      "weighted avg       0.67      0.53      0.55       457\n",
      "\n",
      "test results:\n",
      "              precision    recall  f1-score   support\n",
      "\n",
      "       bknow       0.31      0.60      0.41        67\n",
      "      struct       0.79      0.52      0.63       189\n",
      "\n",
      "    accuracy                           0.54       256\n",
      "   macro avg       0.55      0.56      0.52       256\n",
      "weighted avg       0.66      0.54      0.57       256\n",
      "\n",
      "### ### ### ### ### ### ### ### ### ### \n",
      "{'acc': [0.6640625, 0.73828125, 0.54296875], 'f1': [0.6416666666666666, 0.694407326242272, 0.517331399564902], 'g': [2, 4, 8]}\n",
      "### ### ### ### ### ### ### ### ### ### \n",
      "Grid search gpt2, lr: 0.0001 ,focal loss, gamma: 16\n"
     ]
    },
    {
     "name": "stderr",
     "output_type": "stream",
     "text": [
      "Some weights of GPT2ForSequenceClassification were not initialized from the model checkpoint at gpt2 and are newly initialized: ['score.weight']\n",
      "You should probably TRAIN this model on a down-stream task to be able to use it for predictions and inference.\n",
      "You're using a GPT2TokenizerFast tokenizer. Please note that with a fast tokenizer, using the `__call__` method is faster than using a method to encode the text followed by a call to the `pad` method to get a padded encoding.\n"
     ]
    },
    {
     "name": "stdout",
     "output_type": "stream",
     "text": [
      "1 / 10: Train Loss:\t0.2662\tVal Loss:\t0.6954\tAccuracy:\t0.5427\tF1:\t0.4938\n",
      "2 / 10: Train Loss:\t0.0002\tVal Loss:\t0.7241\tAccuracy:\t0.3982\tF1:\t0.3982\n",
      "3 / 10: Train Loss:\t0.0002\tVal Loss:\t0.7169\tAccuracy:\t0.4464\tF1:\t0.4437\n",
      "4 / 10: Train Loss:\t0.0003\tVal Loss:\t0.7293\tAccuracy:\t0.3654\tF1:\t0.3632\n",
      "No improvement for 3 epochs. Stopping early.\n",
      "best (higgest macro f1-score) val results:\n",
      "              precision    recall  f1-score   support\n",
      "\n",
      "       bknow       0.27      0.82      0.40       119\n",
      "      struct       0.76      0.21      0.33       338\n",
      "\n",
      "    accuracy                           0.37       457\n",
      "   macro avg       0.51      0.51      0.36       457\n",
      "weighted avg       0.63      0.37      0.35       457\n",
      "\n",
      "test results:\n",
      "              precision    recall  f1-score   support\n",
      "\n",
      "       bknow       0.29      0.79      0.42        67\n",
      "      struct       0.80      0.30      0.44       189\n",
      "\n",
      "    accuracy                           0.43       256\n",
      "   macro avg       0.54      0.55      0.43       256\n",
      "weighted avg       0.67      0.43      0.43       256\n",
      "\n",
      "### ### ### ### ### ### ### ### ### ### \n",
      "{'acc': [0.6640625, 0.73828125, 0.54296875, 0.4296875], 'f1': [0.6416666666666666, 0.694407326242272, 0.517331399564902, 0.4295482295482295], 'g': [2, 4, 8, 16]}\n",
      "### ### ### ### ### ### ### ### ### ### \n"
     ]
    }
   ],
   "source": [
    "gamma = [2,4,8,16]\n",
    "lr = 1.0e-4\n",
    "for g in gamma:\n",
    "    print(f'Grid search {model_checkpoint}, lr: {lr} ,focal loss, gamma: {g}')\n",
    "    data = ClimateDataset(model_to_train=1,model_checkpoint=model_checkpoint,batch_size=32)\n",
    "    data.setup_dataloaders()\n",
    "    model = ClassificationModel(model_checkpoint=data.model_checkpoint,num_labels=data.num_labels)\n",
    "    trainer = Engine(epochs=10,labels=data.labels)\n",
    "    trainer.model = model.model\n",
    "    trainer.dataset_encoded = data.dataset_encoded\n",
    "    acc, f1 = trainer.run(lr=lr,\n",
    "                          wd=0.0,\n",
    "                          train_dataloader=data.train_dataloader,\n",
    "                          eval_dataloader=data.eval_dataloader,\n",
    "                          test_dataloader=data.test_dataloader,\n",
    "                          focalloss=True,\n",
    "                          early_stop=3,\n",
    "                          gamma=g)\n",
    "    results['acc'].append(acc)\n",
    "    results['f1'].append(f1)\n",
    "    results['g'].append(g)\n",
    "    print('### '*10)\n",
    "    print(results)\n",
    "    print('### '*10)\n",
    "    with torch.no_grad():\n",
    "        torch.cuda.empty_cache()\n",
    "    del data, model, trainer, acc, f1"
   ]
  },
  {
   "cell_type": "code",
   "execution_count": 5,
   "metadata": {},
   "outputs": [],
   "source": [
    "import matplotlib.pyplot as plt\n",
    "import seaborn as sns\n",
    "import pandas as pd"
   ]
  },
  {
   "cell_type": "code",
   "execution_count": 6,
   "metadata": {},
   "outputs": [
    {
     "data": {
      "image/png": "[encoded data removed]",
      "text/plain": [
       "<Figure size 640x480 with 1 Axes>"
      ]
     },
     "metadata": {},
     "output_type": "display_data"
    }
   ],
   "source": [
    "def plot_grid_search(df, title):\n",
    "\n",
    "    # Create the plot\n",
    "    ax = df.plot(x='g', y=['acc', 'f1'], marker='o', linestyle='-')\n",
    "\n",
    "    # Set y-axis range between 0 and 1\n",
    "    plt.ylim(0, 1)\n",
    "\n",
    "    # Annotate points with F1 scores\n",
    "    for i, row in df.iterrows(): \n",
    "        ax.annotate(f'{row[\"f1\"]:.2f}', (row[\"g\"], row[\"f1\"]), textcoords='offset points', xytext=(0, -10), ha='center')\n",
    "\n",
    "    # Annotate points with Acc scores\n",
    "    for i, row in df.iterrows():\n",
    "        ax.annotate(f'{row[\"acc\"]:.2f}', (row[\"g\"], row[\"acc\"]), textcoords='offset points', xytext=(0, 10), ha='center')\n",
    "    \n",
    "    # \n",
    "    plt.xticks(df['g'], [val for val in df['g']], ha='center')\n",
    "    # plt.xscale('log')\n",
    "    plt.minorticks_off()\n",
    "\n",
    "    plt.title(title)\n",
    "    plt.xlabel('gamma')\n",
    "    plt.ylabel('Score')\n",
    "    plt.show()\n",
    "\n",
    "plot_grid_search(pd.DataFrame(results), f'Focal loss, lr: 1.0e-4 {model_checkpoint}')"
   ]
  }
 ],
 "metadata": {
  "kernelspec": {
   "display_name": "Python 3",
   "language": "python",
   "name": "python3"
  },
  "language_info": {
   "codemirror_mode": {
    "name": "ipython",
    "version": 3
   },
   "file_extension": ".py",
   "mimetype": "text/x-python",
   "name": "python",
   "nbconvert_exporter": "python",
   "pygments_lexer": "ipython3",
   "version": "3.11.5"
  },
  "orig_nbformat": 4
 },
 "nbformat": 4,
 "nbformat_minor": 2
}
