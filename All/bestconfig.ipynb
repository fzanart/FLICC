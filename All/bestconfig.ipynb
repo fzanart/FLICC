{
 "cells": [
  {
   "cell_type": "code",
   "execution_count": 1,
   "metadata": {},
   "outputs": [],
   "source": [
    "import os\n",
    "os.environ['TRANSFORMERS_CACHE'] = '/mnt/software/'\n",
    "import sys\n",
    "import gc\n",
    "# assuming data, models, engine in flicc directory:\n",
    "flicc_path = os.path.join(os.path.dirname(os.getcwd()), '')\n",
    "sys.path.append(flicc_path)\n",
    "import torch\n",
    "from data import ClimateDataset\n",
    "from models import ClassificationModel\n",
    "from engine import Engine\n",
    "\n",
    "# import warnings\n",
    "# warnings.filterwarnings(\"ignore\")"
   ]
  },
  {
   "cell_type": "code",
   "execution_count": 2,
   "metadata": {},
   "outputs": [],
   "source": [
    "best_config = {'bert-base-uncased':{'lr':5.0e-5, 'wd':0.0},\n",
    "                'roberta-large':{'lr':5.0e-5, 'focalloss':True, 'gamma':8, 'wd':0.0},\n",
    "                'gpt2':{'lr':5.0e-5, 'wd':0.01},\n",
    "                'bigscience/bloom-560m':{'lr':5.0e-5, 'focalloss':True, 'gamma':8, 'wd':0.0},\n",
    "                'facebook/opt-350m':{'lr':1.0e-5, 'wd':0.0},\n",
    "                'EleutherAI/gpt-neo-1.3B':{'lr':5.0e-5, 'wd':0.0}, \n",
    "                'microsoft/deberta-base':{'lr':1.0e-5, 'wd':0.01},\n",
    "                'microsoft/deberta-v2-xlarge':{'lr':1.0e-5, 'focalloss':True, 'gamma':4, 'wd':0.01}}"
   ]
  },
  {
   "cell_type": "code",
   "execution_count": 3,
   "metadata": {},
   "outputs": [],
   "source": [
    "results = {'test_acc':[],\n",
    "           'test_f1':[],\n",
    "           'eval_acc':[],\n",
    "           'eval_f1':[],\n",
    "           'model':[]}"
   ]
  },
  {
   "cell_type": "code",
   "execution_count": 4,
   "metadata": {},
   "outputs": [
    {
     "name": "stdout",
     "output_type": "stream",
     "text": [
      "Grid search microsoft/deberta-v2-xlarge, learning rate 1e-05\n"
     ]
    },
    {
     "name": "stderr",
     "output_type": "stream",
     "text": [
      "Some weights of DebertaV2ForSequenceClassification were not initialized from the model checkpoint at microsoft/deberta-v2-xlarge and are newly initialized: ['pooler.dense.bias', 'classifier.bias', 'classifier.weight', 'pooler.dense.weight']\n",
      "You should probably TRAIN this model on a down-stream task to be able to use it for predictions and inference.\n",
      "You're using a DebertaV2TokenizerFast tokenizer. Please note that with a fast tokenizer, using the `__call__` method is faster than using a method to encode the text followed by a call to the `pad` method to get a padded encoding.\n"
     ]
    },
    {
     "name": "stdout",
     "output_type": "stream",
     "text": [
      "1 / 30: Train Loss:\t21.0389\tVal Loss:\t2.1833\tAccuracy:\t0.2932\tF1:\t0.2272 *\n",
      "2 / 30: Train Loss:\t11.5078\tVal Loss:\t1.3374\tAccuracy:\t0.5777\tF1:\t0.5519 *\n",
      "3 / 30: Train Loss:\t4.9419\tVal Loss:\t1.1115\tAccuracy:\t0.6543\tF1:\t0.6404 *\n",
      "4 / 30: Train Loss:\t2.4948\tVal Loss:\t0.9952\tAccuracy:\t0.6674\tF1:\t0.6597 *\n",
      "5 / 30: Train Loss:\t1.2027\tVal Loss:\t0.9343\tAccuracy:\t0.7155\tF1:\t0.7126 *\n",
      "6 / 30: Train Loss:\t0.6009\tVal Loss:\t0.8813\tAccuracy:\t0.7155\tF1:\t0.7099\n",
      "7 / 30: Train Loss:\t0.3988\tVal Loss:\t0.9104\tAccuracy:\t0.7068\tF1:\t0.7012\n",
      "8 / 30: Train Loss:\t0.2287\tVal Loss:\t0.8626\tAccuracy:\t0.7199\tF1:\t0.7183 *\n",
      "9 / 30: Train Loss:\t0.1779\tVal Loss:\t0.8560\tAccuracy:\t0.7177\tF1:\t0.7072\n",
      "10 / 30: Train Loss:\t0.0951\tVal Loss:\t0.8309\tAccuracy:\t0.7352\tF1:\t0.7256 *\n",
      "11 / 30: Train Loss:\t0.0695\tVal Loss:\t0.8607\tAccuracy:\t0.7330\tF1:\t0.7156\n",
      "12 / 30: Train Loss:\t0.0662\tVal Loss:\t0.8494\tAccuracy:\t0.7243\tF1:\t0.7170\n",
      "13 / 30: Train Loss:\t0.0421\tVal Loss:\t0.8227\tAccuracy:\t0.7330\tF1:\t0.7278 *\n",
      "14 / 30: Train Loss:\t0.0205\tVal Loss:\t0.8200\tAccuracy:\t0.7287\tF1:\t0.7284 *\n",
      "15 / 30: Train Loss:\t0.0238\tVal Loss:\t0.8322\tAccuracy:\t0.7309\tF1:\t0.7339 *\n",
      "16 / 30: Train Loss:\t0.0256\tVal Loss:\t0.8470\tAccuracy:\t0.7374\tF1:\t0.7215\n",
      "17 / 30: Train Loss:\t0.0473\tVal Loss:\t0.8698\tAccuracy:\t0.7199\tF1:\t0.7115\n",
      "18 / 30: Train Loss:\t0.0262\tVal Loss:\t0.8126\tAccuracy:\t0.7440\tF1:\t0.7335\n",
      "No improvement for 3 epochs. Stopping early.\n",
      "best (higgest macro f1-score) val results:\n",
      "                         precision    recall  f1-score   support\n",
      "\n",
      "             ad hominem       0.76      0.75      0.75        67\n",
      "               anecdote       0.95      0.86      0.90        43\n",
      "         cherry picking       0.69      0.66      0.67        56\n",
      "      conspiracy theory       0.78      0.82      0.80        39\n",
      "           fake experts       1.00      0.92      0.96        12\n",
      "           false choice       0.83      0.77      0.80        13\n",
      "      false equivalence       0.50      0.43      0.46        14\n",
      "impossible expectations       0.69      0.73      0.71        37\n",
      "      misrepresentation       0.63      0.63      0.63        38\n",
      "     oversimplification       0.88      0.58      0.70        36\n",
      "           single cause       0.81      0.74      0.77        57\n",
      "     slothful induction       0.54      0.82      0.65        45\n",
      "\n",
      "               accuracy                           0.73       457\n",
      "              macro avg       0.75      0.73      0.73       457\n",
      "           weighted avg       0.75      0.73      0.73       457\n",
      "\n",
      "test results:\n",
      "                         precision    recall  f1-score   support\n",
      "\n",
      "             ad hominem       0.81      0.78      0.79        37\n",
      "               anecdote       0.88      0.92      0.90        24\n",
      "         cherry picking       0.77      0.77      0.77        31\n",
      "      conspiracy theory       0.78      0.82      0.80        22\n",
      "           fake experts       1.00      1.00      1.00         7\n",
      "           false choice       0.62      0.71      0.67         7\n",
      "      false equivalence       0.50      0.38      0.43         8\n",
      "impossible expectations       0.69      0.86      0.77        21\n",
      "      misrepresentation       0.68      0.68      0.68        22\n",
      "     oversimplification       0.78      0.70      0.74        20\n",
      "           single cause       0.81      0.66      0.72        32\n",
      "     slothful induction       0.50      0.56      0.53        25\n",
      "\n",
      "               accuracy                           0.74       256\n",
      "              macro avg       0.74      0.74      0.73       256\n",
      "           weighted avg       0.75      0.74      0.74       256\n",
      "\n",
      "### ### ### ### ### ### ### ### ### ### \n",
      "{'test_acc': [0.7421875], 'test_f1': [0.7332474105800544], 'eval_acc': [0.7308533916849015], 'eval_f1': [0.7339147057537363], 'model': ['microsoft/deberta-v2-xlarge']}\n",
      "### ### ### ### ### ### ### ### ### ### \n"
     ]
    }
   ],
   "source": [
    "for model_checkpoint in [list(best_config.keys())[-1]]:\n",
    "    print(f'Grid search {model_checkpoint}, learning rate {best_config[model_checkpoint][\"lr\"]}')\n",
    "    data = ClimateDataset(model_to_train=4,model_checkpoint=model_checkpoint,dataset_url=flicc_path,batch_size=32)\n",
    "    data.setup_dataloaders()\n",
    "    model = ClassificationModel(model_checkpoint=data.model_checkpoint,num_labels=data.num_labels)\n",
    "    trainer = Engine(epochs=30,labels=data.labels)\n",
    "    trainer.model = model.model\n",
    "    trainer.dataset_encoded = data.dataset_encoded\n",
    "    test_acc, test_f1, eval_acc, eval_f1 = trainer.run(**best_config[model_checkpoint],\n",
    "                                                        train_dataloader=data.train_dataloader,\n",
    "                                                        eval_dataloader=data.eval_dataloader,\n",
    "                                                        test_dataloader=data.test_dataloader,\n",
    "                                                        early_stop=3)\n",
    "    results['test_acc'].append(test_acc)\n",
    "    results['test_f1'].append(test_f1)\n",
    "    results['eval_acc'].append(eval_acc)\n",
    "    results['eval_f1'].append(eval_f1)\n",
    "    results['model'].append(model_checkpoint)\n",
    "    print('### '*10)\n",
    "    print(results)\n",
    "    print('### '*10)"
   ]
  },
  {
   "cell_type": "code",
   "execution_count": 5,
   "metadata": {},
   "outputs": [],
   "source": [
    "trainer.save_best_model()"
   ]
  },
  {
   "cell_type": "code",
   "execution_count": null,
   "metadata": {},
   "outputs": [],
   "source": []
  }
 ],
 "metadata": {
  "kernelspec": {
   "display_name": "base",
   "language": "python",
   "name": "python3"
  },
  "language_info": {
   "codemirror_mode": {
    "name": "ipython",
    "version": 3
   },
   "file_extension": ".py",
   "mimetype": "text/x-python",
   "name": "python",
   "nbconvert_exporter": "python",
   "pygments_lexer": "ipython3",
   "version": "3.11.5"
  }
 },
 "nbformat": 4,
 "nbformat_minor": 2
}
